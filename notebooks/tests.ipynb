{
 "cells": [
  {
   "cell_type": "code",
   "execution_count": 3,
   "metadata": {},
   "outputs": [],
   "source": [
    "from typing import TYPE_CHECKING\n",
    "\n",
    "\n",
    "if TYPE_CHECKING:\n",
    "    from math_rag.application.containers import ApplicationContainer\n",
    "    from math_rag.infrastructure.containers import InfrastructureContainer\n",
    "\n",
    "    application_container: ApplicationContainer\n",
    "    infrastructure_container: InfrastructureContainer"
   ]
  },
  {
   "cell_type": "code",
   "execution_count": 5,
   "metadata": {},
   "outputs": [
    {
     "name": "stderr",
     "output_type": "stream",
     "text": [
      "2025-06-20 21:14:31,747 - INFO - PyTorch version 2.6.0 available.\n"
     ]
    }
   ],
   "source": [
    "RESET = False\n",
    "%load_ext hooks.notebook_hook"
   ]
  },
  {
   "cell_type": "code",
   "execution_count": 3,
   "metadata": {},
   "outputs": [],
   "source": [
    "result_repository = infrastructure_container.math_expression_dataset_test_result_repository()\n",
    "label_repository = infrastructure_container.math_expression_label_repository()"
   ]
  },
  {
   "cell_type": "code",
   "execution_count": null,
   "metadata": {},
   "outputs": [],
   "source": [
    "from uuid import UUID\n",
    "\n",
    "\n",
    "dataset_id = UUID('f7626dc1-6852-499f-b650-2c30137cffda')\n",
    "results = await result_repository.find_many(filter=dict(math_expression_dataset_id=dataset_id))"
   ]
  },
  {
   "cell_type": "code",
   "execution_count": 8,
   "metadata": {},
   "outputs": [],
   "source": [
    "from sklearn.metrics import accuracy_score, classification_report, confusion_matrix\n",
    "\n",
    "from math_rag.core.enums import MathExpressionLabelEnum\n",
    "from math_rag.core.models import MathExpressionLabel"
   ]
  },
  {
   "cell_type": "code",
   "execution_count": null,
   "metadata": {},
   "outputs": [],
   "source": [
    "def _sort_by_math_expression_id(labels: list[MathExpressionLabel]) -> list[MathExpressionLabel]:\n",
    "    return sorted(\n",
    "        labels,\n",
    "        key=lambda label: label.math_expression_id,\n",
    "    )\n",
    "\n",
    "\n",
    "def evaluate_multiclass_labels(\n",
    "    y_true: list[str],\n",
    "    y_pred: list[str],\n",
    "    labels: list[str],\n",
    ") -> tuple[float, str, list[list[int]]]:\n",
    "    acc = accuracy_score(y_true, y_pred)\n",
    "    report = classification_report(\n",
    "        y_true,\n",
    "        y_pred,\n",
    "        labels=labels,\n",
    "        target_names=labels,\n",
    "        zero_division=0,\n",
    "    )\n",
    "    cm = confusion_matrix(\n",
    "        y_true,\n",
    "        y_pred,\n",
    "        labels=labels,\n",
    "    )\n",
    "\n",
    "    return acc, report, cm"
   ]
  },
  {
   "cell_type": "code",
   "execution_count": null,
   "metadata": {},
   "outputs": [
    {
     "name": "stdout",
     "output_type": "stream",
     "text": [
      "0.9603399433427762\n",
      "              precision    recall  f1-score   support\n",
      "\n",
      "    equality       1.00      1.00      1.00        48\n",
      "  inequality       1.00      1.00      1.00        10\n",
      "    constant       0.94      0.95      0.94        62\n",
      "    variable       1.00      0.91      0.95        77\n",
      "       other       0.94      0.97      0.96       156\n",
      "\n",
      "    accuracy                           0.96       353\n",
      "   macro avg       0.97      0.97      0.97       353\n",
      "weighted avg       0.96      0.96      0.96       353\n",
      "\n",
      "[[ 48   0   0   0   0]\n",
      " [  0  10   0   0   0]\n",
      " [  0   0  59   0   3]\n",
      " [  0   0   0  70   7]\n",
      " [  0   0   4   0 152]]\n"
     ]
    }
   ],
   "source": [
    "true_labels = results[0].math_expression_labels\n",
    "pred_labels = results[1].math_expression_labels\n",
    "\n",
    "sorted_true_labels = _sort_by_math_expression_id(true_labels)\n",
    "sorted_pred_labels = _sort_by_math_expression_id(pred_labels)\n",
    "\n",
    "y_true = [label.value.value for label in sorted_true_labels]\n",
    "y_pred = [label.value.value for label in sorted_pred_labels]\n",
    "labels = [e.value for e in MathExpressionLabelEnum]\n",
    "\n",
    "accuracy, report, confusion_matrix = evaluate_multiclass_labels(y_true, y_pred, labels)\n",
    "\n",
    "print(accuracy)\n",
    "print(report)\n",
    "print(confusion_matrix)"
   ]
  }
 ],
 "metadata": {
  "kernelspec": {
   "display_name": ".venv",
   "language": "python",
   "name": "python3"
  },
  "language_info": {
   "codemirror_mode": {
    "name": "ipython",
    "version": 3
   },
   "file_extension": ".py",
   "mimetype": "text/x-python",
   "name": "python",
   "nbconvert_exporter": "python",
   "pygments_lexer": "ipython3",
   "version": "3.12.7"
  }
 },
 "nbformat": 4,
 "nbformat_minor": 2
}
