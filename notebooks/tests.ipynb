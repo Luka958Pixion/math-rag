{
 "cells": [
  {
   "cell_type": "code",
   "execution_count": 1,
   "metadata": {},
   "outputs": [],
   "source": [
    "from typing import TYPE_CHECKING\n",
    "\n",
    "\n",
    "if TYPE_CHECKING:\n",
    "    from math_rag.application.containers import ApplicationContainer\n",
    "    from math_rag.infrastructure.containers import InfrastructureContainer\n",
    "\n",
    "    application_container: ApplicationContainer\n",
    "    infrastructure_container: InfrastructureContainer"
   ]
  },
  {
   "cell_type": "code",
   "execution_count": 2,
   "metadata": {},
   "outputs": [
    {
     "name": "stderr",
     "output_type": "stream",
     "text": [
      "2025-06-21 12:39:11,378 - INFO - PyTorch version 2.6.0 available.\n"
     ]
    }
   ],
   "source": [
    "RESET = False\n",
    "%load_ext hooks.notebook_hook"
   ]
  },
  {
   "cell_type": "code",
   "execution_count": 3,
   "metadata": {},
   "outputs": [],
   "source": [
    "importer_service = application_container.math_expression_label_task_importer_service()\n",
    "exporter_service = application_container.math_expression_label_exporter_service()\n",
    "\n",
    "result_repository = infrastructure_container.math_expression_dataset_test_result_repository()\n",
    "label_repository = infrastructure_container.math_expression_label_repository()"
   ]
  },
  {
   "cell_type": "code",
   "execution_count": null,
   "metadata": {},
   "outputs": [],
   "source": [
    "# TODO move router parameters out of LLMParams and EMParams\n",
    "# TODO add split_name to MathExpressionDatasetTestResult\n",
    "# TODO there is redundancy in hook and main\n",
    "# TODO filter duplicates and empty katex!\n",
    "\n",
    "# before: 353 tasks"
   ]
  },
  {
   "cell_type": "code",
   "execution_count": 4,
   "metadata": {},
   "outputs": [],
   "source": [
    "from uuid import UUID\n",
    "\n",
    "\n",
    "dataset_id = UUID('83d3285d-e9d8-482d-ae46-167bfe12485c')"
   ]
  },
  {
   "cell_type": "code",
   "execution_count": null,
   "metadata": {},
   "outputs": [],
   "source": [
    "project_id = await importer_service.import_tasks(None, dataset_id=dataset_id, split_name='test')"
   ]
  },
  {
   "cell_type": "code",
   "execution_count": 17,
   "metadata": {},
   "outputs": [],
   "source": [
    "human_labels = await exporter_service.export(project_id)"
   ]
  },
  {
   "cell_type": "code",
   "execution_count": null,
   "metadata": {},
   "outputs": [],
   "source": [
    "results = await result_repository.find_many(filter=dict(math_expression_dataset_id=dataset_id))\n",
    "\n",
    "llama_labels = results[0].math_expression_labels\n",
    "gpt_4_1_labels = results[1].math_expression_labels"
   ]
  },
  {
   "cell_type": "code",
   "execution_count": 33,
   "metadata": {},
   "outputs": [],
   "source": [
    "from sklearn.metrics import accuracy_score, classification_report, confusion_matrix\n",
    "\n",
    "from math_rag.core.enums import MathExpressionLabelEnum\n",
    "from math_rag.core.models import MathExpressionLabel"
   ]
  },
  {
   "cell_type": "code",
   "execution_count": 34,
   "metadata": {},
   "outputs": [],
   "source": [
    "def _sort_by_math_expression_id(labels: list[MathExpressionLabel]) -> list[MathExpressionLabel]:\n",
    "    return sorted(\n",
    "        labels,\n",
    "        key=lambda label: label.math_expression_id,\n",
    "    )\n",
    "\n",
    "\n",
    "def prepare(math_expression_labels: list[MathExpressionLabel]) -> list[str]:\n",
    "    sorted = _sort_by_math_expression_id(math_expression_labels)\n",
    "\n",
    "    return [label.value.value for label in sorted]\n",
    "\n",
    "\n",
    "def evaluate_multiclass_labels(\n",
    "    y_true: list[str],\n",
    "    y_pred: list[str],\n",
    "    labels: list[str],\n",
    ") -> tuple[float, str, list[list[int]]]:\n",
    "    acc = accuracy_score(y_true, y_pred)\n",
    "    report = classification_report(\n",
    "        y_true,\n",
    "        y_pred,\n",
    "        labels=labels,\n",
    "        target_names=labels,\n",
    "        zero_division=0,\n",
    "    )\n",
    "    cm = confusion_matrix(\n",
    "        y_true,\n",
    "        y_pred,\n",
    "        labels=labels,\n",
    "    )\n",
    "\n",
    "    return acc, report, cm"
   ]
  },
  {
   "cell_type": "code",
   "execution_count": 35,
   "metadata": {},
   "outputs": [
    {
     "name": "stdout",
     "output_type": "stream",
     "text": [
      "0.8413597733711048\n",
      "              precision    recall  f1-score   support\n",
      "\n",
      "    equality       0.96      1.00      0.98        43\n",
      "  inequality       0.71      1.00      0.83         5\n",
      "    constant       0.24      1.00      0.39        15\n",
      "    variable       1.00      0.93      0.97        74\n",
      "       other       0.97      0.76      0.85       216\n",
      "\n",
      "    accuracy                           0.84       353\n",
      "   macro avg       0.78      0.94      0.80       353\n",
      "weighted avg       0.94      0.84      0.87       353\n",
      "\n",
      "[[ 43   0   0   0   0]\n",
      " [  0   5   0   0   0]\n",
      " [  0   0  15   0   0]\n",
      " [  0   0   0  69   5]\n",
      " [  2   2  47   0 165]]\n"
     ]
    }
   ],
   "source": [
    "y_true = prepare(human_labels)\n",
    "y_pred = prepare(gpt_4_1_labels)\n",
    "labels = [e.value for e in MathExpressionLabelEnum]\n",
    "\n",
    "accuracy, report, cm = evaluate_multiclass_labels(y_true, y_pred, labels)\n",
    "\n",
    "print(accuracy)\n",
    "print(report)\n",
    "print(cm)"
   ]
  },
  {
   "cell_type": "code",
   "execution_count": 36,
   "metadata": {},
   "outputs": [
    {
     "name": "stdout",
     "output_type": "stream",
     "text": [
      "0.7365439093484419\n",
      "              precision    recall  f1-score   support\n",
      "\n",
      "    equality       0.69      0.26      0.37        43\n",
      "  inequality       0.10      0.60      0.17         5\n",
      "    constant       0.37      1.00      0.54        15\n",
      "    variable       0.85      0.97      0.91        74\n",
      "       other       0.88      0.74      0.80       216\n",
      "\n",
      "    accuracy                           0.74       353\n",
      "   macro avg       0.58      0.71      0.56       353\n",
      "weighted avg       0.82      0.74      0.75       353\n",
      "\n",
      "[[ 11  12   0   0  20]\n",
      " [  0   3   0   2   0]\n",
      " [  0   0  15   0   0]\n",
      " [  0   0   0  72   2]\n",
      " [  5  15  26  11 159]]\n"
     ]
    }
   ],
   "source": [
    "y_true = prepare(human_labels)\n",
    "y_pred = prepare(llama_labels)\n",
    "labels = [e.value for e in MathExpressionLabelEnum]\n",
    "\n",
    "accuracy, report, cm = evaluate_multiclass_labels(y_true, y_pred, labels)\n",
    "\n",
    "print(accuracy)\n",
    "print(report)\n",
    "print(cm)"
   ]
  }
 ],
 "metadata": {
  "kernelspec": {
   "display_name": ".venv",
   "language": "python",
   "name": "python3"
  },
  "language_info": {
   "codemirror_mode": {
    "name": "ipython",
    "version": 3
   },
   "file_extension": ".py",
   "mimetype": "text/x-python",
   "name": "python",
   "nbconvert_exporter": "python",
   "pygments_lexer": "ipython3",
   "version": "3.12.7"
  }
 },
 "nbformat": 4,
 "nbformat_minor": 2
}
