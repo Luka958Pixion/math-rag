{
 "cells": [
  {
   "cell_type": "code",
   "execution_count": 1,
   "metadata": {},
   "outputs": [],
   "source": [
    "from typing import TYPE_CHECKING\n",
    "\n",
    "\n",
    "if TYPE_CHECKING:\n",
    "    from math_rag.application.containers import ApplicationContainer\n",
    "    from math_rag.infrastructure.containers import InfrastructureContainer\n",
    "\n",
    "    application_container: ApplicationContainer\n",
    "    infrastructure_container: InfrastructureContainer"
   ]
  },
  {
   "cell_type": "code",
   "execution_count": 2,
   "metadata": {},
   "outputs": [
    {
     "name": "stderr",
     "output_type": "stream",
     "text": [
      "2025-07-06 11:23:21,157 - INFO - datasets - config.py:54 - PyTorch version 2.6.0 available.\n"
     ]
    }
   ],
   "source": [
    "RESET = False\n",
    "%load_ext hooks.notebook_hook"
   ]
  },
  {
   "cell_type": "code",
   "execution_count": 3,
   "metadata": {},
   "outputs": [],
   "source": [
    "importer_service = application_container.math_expression_label_task_importer_service()\n",
    "exporter_service = application_container.math_expression_label_exporter_service()\n",
    "\n",
    "result_repository = infrastructure_container.math_expression_dataset_test_result_repository()\n",
    "label_repository = infrastructure_container.math_expression_label_repository()"
   ]
  },
  {
   "cell_type": "code",
   "execution_count": 4,
   "metadata": {},
   "outputs": [],
   "source": [
    "from uuid import UUID\n",
    "\n",
    "\n",
    "dataset_id = UUID('b5887579-5742-4e0f-91ce-2fae26bf2c01')\n",
    "split_name = 'test'"
   ]
  },
  {
   "cell_type": "code",
   "execution_count": 5,
   "metadata": {},
   "outputs": [],
   "source": [
    "# project_id = await importer_service.import_tasks(None, dataset_id=dataset_id, split_name=split_name)\n",
    "project_id = 39\n",
    "\n",
    "human_labels = await exporter_service.export(project_id)"
   ]
  },
  {
   "cell_type": "code",
   "execution_count": null,
   "metadata": {},
   "outputs": [],
   "source": [
    "math_expression_ids = [label.math_expression_id for label in human_labels]\n",
    "\n",
    "gpt_4_1_mini_labels = await label_repository.find_many(\n",
    "    filter=dict(math_expression_dataset_id=dataset_id, math_expression_id=math_expression_ids)\n",
    ")"
   ]
  },
  {
   "cell_type": "code",
   "execution_count": 21,
   "metadata": {},
   "outputs": [],
   "source": [
    "results = await result_repository.find_many(\n",
    "    filter=dict(\n",
    "        math_expression_dataset_id=dataset_id, math_expression_dataset_split_name=split_name\n",
    "    )\n",
    ")\n",
    "\n",
    "llama_labels = results[0].math_expression_labels\n",
    "gpt_4_1_labels = results[1].math_expression_labels\n",
    "gpt_4_1_nano_labels = results[2].math_expression_labels\n",
    "llama_3fbdb8c2_labels = results[8].math_expression_labels  # [3, 4] had wrong config"
   ]
  },
  {
   "cell_type": "code",
   "execution_count": 7,
   "metadata": {},
   "outputs": [],
   "source": [
    "from sklearn.metrics import (\n",
    "    accuracy_score,\n",
    "    balanced_accuracy_score,\n",
    "    classification_report,\n",
    "    confusion_matrix,\n",
    "    f1_score,\n",
    "    precision_score,\n",
    "    recall_score,\n",
    ")\n",
    "\n",
    "from math_rag.core.enums import MathExpressionLabelEnum\n",
    "from math_rag.core.models import MathExpressionLabel"
   ]
  },
  {
   "cell_type": "code",
   "execution_count": 32,
   "metadata": {},
   "outputs": [],
   "source": [
    "def _sort_by_math_expression_id(labels: list[MathExpressionLabel]) -> list[MathExpressionLabel]:\n",
    "    return sorted(\n",
    "        labels,\n",
    "        key=lambda label: label.math_expression_id,\n",
    "    )\n",
    "\n",
    "\n",
    "def prepare(math_expression_labels: list[MathExpressionLabel]) -> list[str]:\n",
    "    sorted = _sort_by_math_expression_id(math_expression_labels)\n",
    "\n",
    "    return [label.value.value for label in sorted]\n",
    "\n",
    "\n",
    "def evaluate_multiclass_labels(\n",
    "    y_true: list[str],\n",
    "    y_pred: list[str],\n",
    "    labels: list[str],\n",
    "):\n",
    "    accuracy = accuracy_score(y_true, y_pred)\n",
    "    balanced_accuracy = balanced_accuracy_score(y_true, y_pred)\n",
    "    precision = precision_score(y_true, y_pred, average='macro')\n",
    "    recall = recall_score(y_true, y_pred, average='macro')\n",
    "    f1 = f1_score(y_true, y_pred, average='macro')\n",
    "    report = classification_report(\n",
    "        y_true,\n",
    "        y_pred,\n",
    "        labels=labels,\n",
    "        target_names=labels,\n",
    "        zero_division=0,\n",
    "    )\n",
    "    cm = confusion_matrix(\n",
    "        y_true,\n",
    "        y_pred,\n",
    "        labels=labels,\n",
    "    )\n",
    "\n",
    "    print(f'accuracy: {accuracy}')\n",
    "    print(f'balanced_accuracy: {balanced_accuracy}')\n",
    "    print(f'precision: {precision}')\n",
    "    print(f'recall: {recall}')\n",
    "    print(f'f1: {f1}')\n",
    "    print(report)\n",
    "    print(cm)"
   ]
  },
  {
   "cell_type": "code",
   "execution_count": 24,
   "metadata": {},
   "outputs": [],
   "source": [
    "labels = [e.value for e in MathExpressionLabelEnum]"
   ]
  },
  {
   "cell_type": "markdown",
   "metadata": {},
   "source": [
    "### New results"
   ]
  },
  {
   "cell_type": "code",
   "execution_count": 21,
   "metadata": {},
   "outputs": [
    {
     "name": "stdout",
     "output_type": "stream",
     "text": [
      "accuracy: 0.8921334922526818\n",
      "balanced_accuracy: 0.9021598734660079\n",
      "precision: 0.8079103519713113\n",
      "recall: 0.9021598734660079\n",
      "f1: 0.8482130246869071\n",
      "              precision    recall  f1-score   support\n",
      "\n",
      "    equality       0.94      0.94      0.94       937\n",
      "  inequality       0.74      0.96      0.84       311\n",
      "    constant       0.75      1.00      0.86        15\n",
      "    variable       0.67      0.74      0.70       236\n",
      "       other       0.94      0.88      0.91      1857\n",
      "\n",
      "    accuracy                           0.89      3356\n",
      "   macro avg       0.81      0.90      0.85      3356\n",
      "weighted avg       0.90      0.89      0.89      3356\n",
      "\n",
      "[[ 880   15    0    0   42]\n",
      " [   5  298    0    1    7]\n",
      " [   0    0   15    0    0]\n",
      " [   1    0    0  174   61]\n",
      " [  53   89    5   83 1627]]\n"
     ]
    }
   ],
   "source": [
    "y_true = prepare(human_labels)\n",
    "y_pred = prepare(gpt_4_1_mini_labels)\n",
    "\n",
    "evaluate_multiclass_labels(y_true, y_pred, labels)"
   ]
  },
  {
   "cell_type": "code",
   "execution_count": 22,
   "metadata": {},
   "outputs": [
    {
     "name": "stdout",
     "output_type": "stream",
     "text": [
      "accuracy: 0.6129320619785459\n",
      "balanced_accuracy: 0.722245539260162\n",
      "precision: 0.5350198160088759\n",
      "recall: 0.722245539260162\n",
      "f1: 0.485150573845835\n",
      "              precision    recall  f1-score   support\n",
      "\n",
      "    equality       0.94      0.15      0.27       937\n",
      "  inequality       0.38      0.95      0.55       311\n",
      "    constant       0.20      1.00      0.33        15\n",
      "    variable       0.41      0.73      0.53       236\n",
      "       other       0.74      0.77      0.75      1857\n",
      "\n",
      "    accuracy                           0.61      3356\n",
      "   macro avg       0.54      0.72      0.49      3356\n",
      "weighted avg       0.74      0.61      0.58      3356\n",
      "\n",
      "[[ 145  299   42   13  438]\n",
      " [   0  297    1    1   12]\n",
      " [   0    0   15    0    0]\n",
      " [   1    3    0  173   59]\n",
      " [   8  174   18  230 1427]]\n"
     ]
    }
   ],
   "source": [
    "y_true = prepare(human_labels)\n",
    "y_pred = prepare(llama_labels)\n",
    "\n",
    "evaluate_multiclass_labels(y_true, y_pred, labels)"
   ]
  },
  {
   "cell_type": "code",
   "execution_count": 23,
   "metadata": {},
   "outputs": [
    {
     "name": "stdout",
     "output_type": "stream",
     "text": [
      "accuracy: 0.8888557806912991\n",
      "balanced_accuracy: 0.8569899570718409\n",
      "precision: 0.8202673861072635\n",
      "recall: 0.8569899570718409\n",
      "f1: 0.8203052644965687\n",
      "              precision    recall  f1-score   support\n",
      "\n",
      "    equality       0.94      0.91      0.93       937\n",
      "  inequality       0.71      0.95      0.81       311\n",
      "    constant       0.68      1.00      0.81        15\n",
      "    variable       0.86      0.51      0.64       236\n",
      "       other       0.91      0.91      0.91      1857\n",
      "\n",
      "    accuracy                           0.89      3356\n",
      "   macro avg       0.82      0.86      0.82      3356\n",
      "weighted avg       0.89      0.89      0.89      3356\n",
      "\n",
      "[[ 857   27    0    0   53]\n",
      " [   7  295    0    1    8]\n",
      " [   0    0   15    0    0]\n",
      " [   1    0    0  120  115]\n",
      " [  43   92    7   19 1696]]\n"
     ]
    }
   ],
   "source": [
    "y_true = prepare(human_labels)\n",
    "y_pred = prepare(gpt_4_1_labels)\n",
    "\n",
    "evaluate_multiclass_labels(y_true, y_pred, labels)"
   ]
  },
  {
   "cell_type": "code",
   "execution_count": 24,
   "metadata": {},
   "outputs": [
    {
     "name": "stdout",
     "output_type": "stream",
     "text": [
      "accuracy: 0.6367699642431466\n",
      "balanced_accuracy: 0.8026210410949343\n",
      "precision: 0.5858758081096148\n",
      "recall: 0.8026210410949343\n",
      "f1: 0.5852453180940094\n",
      "              precision    recall  f1-score   support\n",
      "\n",
      "    equality       0.98      0.54      0.69       937\n",
      "  inequality       0.71      0.95      0.81       311\n",
      "    constant       0.23      1.00      0.37        15\n",
      "    variable       0.24      0.94      0.38       236\n",
      "       other       0.77      0.59      0.67      1857\n",
      "\n",
      "    accuracy                           0.64      3356\n",
      "   macro avg       0.59      0.80      0.59      3356\n",
      "weighted avg       0.78      0.64      0.67      3356\n",
      "\n",
      "[[ 503   38   26   61  309]\n",
      " [   3  294    0    6    8]\n",
      " [   0    0   15    0    0]\n",
      " [   1    2    1  221   11]\n",
      " [   5   79   24  645 1104]]\n"
     ]
    }
   ],
   "source": [
    "y_true = prepare(human_labels)\n",
    "y_pred = prepare(gpt_4_1_nano_labels)\n",
    "\n",
    "evaluate_multiclass_labels(y_true, y_pred, labels)"
   ]
  },
  {
   "cell_type": "markdown",
   "metadata": {},
   "source": [
    "### Fine tune job `3fbdb8c2-e6f3-407c-a212-50c312dada76` results"
   ]
  },
  {
   "cell_type": "code",
   "execution_count": 33,
   "metadata": {},
   "outputs": [
    {
     "name": "stdout",
     "output_type": "stream",
     "text": [
      "accuracy: 0.23420738974970204\n",
      "balanced_accuracy: 0.39261231715058964\n",
      "precision: 0.3761494880102315\n",
      "recall: 0.39261231715058964\n",
      "f1: 0.15490696956950198\n",
      "              precision    recall  f1-score   support\n",
      "\n",
      "    equality       0.86      0.08      0.15       937\n",
      "  inequality       0.13      0.84      0.22       311\n",
      "    constant       0.02      0.80      0.04        15\n",
      "    variable       0.20      0.01      0.02       236\n",
      "       other       0.67      0.23      0.35      1857\n",
      "\n",
      "    accuracy                           0.23      3356\n",
      "   macro avg       0.38      0.39      0.15      3356\n",
      "weighted avg       0.64      0.23      0.26      3356\n",
      "\n",
      "[[  76  674  156    0   31]\n",
      " [   2  261   35    0   13]\n",
      " [   0    0   12    0    3]\n",
      " [   0   52   13    2  169]\n",
      " [  10 1061  343    8  435]]\n"
     ]
    }
   ],
   "source": [
    "y_true = prepare(human_labels)\n",
    "y_pred = prepare(llama_3fbdb8c2_labels)\n",
    "\n",
    "evaluate_multiclass_labels(y_true, y_pred, labels)\n",
    "\n",
    "# NOTE: without fine-tuning\n",
    "#\n",
    "# accuracy: 0.6129320619785459\n",
    "# balanced_accuracy: 0.722245539260162\n",
    "# precision: 0.5350198160088759\n",
    "# recall: 0.722245539260162\n",
    "# f1: 0.485150573845835\n",
    "\n",
    "# NOTE: when weights are not merged properly\n",
    "# accuracy: 0.23450536352800955\n",
    "# balanced_accuracy: 0.393903190098157\n",
    "# precision: 0.37471870336836843\n",
    "# recall: 0.393903190098157\n",
    "# f1: 0.15413872393249559"
   ]
  },
  {
   "cell_type": "markdown",
   "metadata": {},
   "source": [
    "### Old results"
   ]
  },
  {
   "cell_type": "code",
   "execution_count": 25,
   "metadata": {},
   "outputs": [
    {
     "name": "stdout",
     "output_type": "stream",
     "text": [
      "0.6289592760180995\n",
      "              precision    recall  f1-score   support\n",
      "\n",
      "    equality       1.00      0.74      0.85        42\n",
      "  inequality       1.00      1.00      1.00         7\n",
      "    constant       0.28      1.00      0.44        17\n",
      "    variable       0.44      1.00      0.61        22\n",
      "       other       0.86      0.47      0.60       133\n",
      "\n",
      "    accuracy                           0.63       221\n",
      "   macro avg       0.72      0.84      0.70       221\n",
      "weighted avg       0.81      0.63      0.65       221\n",
      "\n",
      "[[31  0  1  0 10]\n",
      " [ 0  7  0  0  0]\n",
      " [ 0  0 17  0  0]\n",
      " [ 0  0  0 22  0]\n",
      " [ 0  0 43 28 62]]\n"
     ]
    }
   ],
   "source": [
    "y_true = prepare(human_labels)\n",
    "y_pred = prepare(gpt_4_1_nano_labels)\n",
    "\n",
    "evaluate_multiclass_labels(y_true, y_pred, labels)"
   ]
  },
  {
   "cell_type": "code",
   "execution_count": 26,
   "metadata": {},
   "outputs": [
    {
     "name": "stdout",
     "output_type": "stream",
     "text": [
      "0.8144796380090498\n",
      "              precision    recall  f1-score   support\n",
      "\n",
      "    equality       1.00      1.00      1.00        42\n",
      "  inequality       1.00      1.00      1.00         7\n",
      "    constant       0.30      1.00      0.46        17\n",
      "    variable       1.00      0.95      0.98        22\n",
      "       other       0.99      0.70      0.82       133\n",
      "\n",
      "    accuracy                           0.81       221\n",
      "   macro avg       0.86      0.93      0.85       221\n",
      "weighted avg       0.94      0.81      0.85       221\n",
      "\n",
      "[[42  0  0  0  0]\n",
      " [ 0  7  0  0  0]\n",
      " [ 0  0 17  0  0]\n",
      " [ 0  0  0 21  1]\n",
      " [ 0  0 40  0 93]]\n"
     ]
    }
   ],
   "source": [
    "y_true = prepare(human_labels)\n",
    "y_pred = prepare(gpt_4_1_mini_labels)\n",
    "\n",
    "evaluate_multiclass_labels(y_true, y_pred, labels)"
   ]
  },
  {
   "cell_type": "code",
   "execution_count": 27,
   "metadata": {},
   "outputs": [
    {
     "name": "stdout",
     "output_type": "stream",
     "text": [
      "0.8235294117647058\n",
      "              precision    recall  f1-score   support\n",
      "\n",
      "    equality       1.00      1.00      1.00        42\n",
      "  inequality       1.00      1.00      1.00         7\n",
      "    constant       0.32      1.00      0.49        17\n",
      "    variable       1.00      0.86      0.93        22\n",
      "       other       0.97      0.73      0.83       133\n",
      "\n",
      "    accuracy                           0.82       221\n",
      "   macro avg       0.86      0.92      0.85       221\n",
      "weighted avg       0.93      0.82      0.85       221\n",
      "\n",
      "[[42  0  0  0  0]\n",
      " [ 0  7  0  0  0]\n",
      " [ 0  0 17  0  0]\n",
      " [ 0  0  0 19  3]\n",
      " [ 0  0 36  0 97]]\n"
     ]
    }
   ],
   "source": [
    "y_true = prepare(human_labels)\n",
    "y_pred = prepare(gpt_4_1_labels)\n",
    "\n",
    "evaluate_multiclass_labels(y_true, y_pred, labels)"
   ]
  },
  {
   "cell_type": "code",
   "execution_count": 28,
   "metadata": {},
   "outputs": [
    {
     "name": "stdout",
     "output_type": "stream",
     "text": [
      "0.8280542986425339\n",
      "              precision    recall  f1-score   support\n",
      "\n",
      "    equality       1.00      1.00      1.00        42\n",
      "  inequality       0.88      1.00      0.93         7\n",
      "    constant       0.31      0.94      0.46        17\n",
      "    variable       1.00      1.00      1.00        22\n",
      "       other       0.99      0.72      0.83       133\n",
      "\n",
      "    accuracy                           0.83       221\n",
      "   macro avg       0.83      0.93      0.85       221\n",
      "weighted avg       0.94      0.83      0.86       221\n",
      "\n",
      "[[42  0  0  0  0]\n",
      " [ 0  7  0  0  0]\n",
      " [ 0  0 16  0  1]\n",
      " [ 0  0  0 22  0]\n",
      " [ 0  1 36  0 96]]\n"
     ]
    }
   ],
   "source": [
    "y_true = prepare(human_labels)\n",
    "y_pred = prepare(o3_labels)\n",
    "\n",
    "evaluate_multiclass_labels(y_true, y_pred, labels)"
   ]
  },
  {
   "cell_type": "code",
   "execution_count": 4,
   "metadata": {},
   "outputs": [
    {
     "data": {
      "text/plain": [
       "3.2"
      ]
     },
     "execution_count": 4,
     "metadata": {},
     "output_type": "execute_result"
    }
   ],
   "source": [
    "40_000 * 200 / 1_000_000 * 0.4"
   ]
  }
 ],
 "metadata": {
  "kernelspec": {
   "display_name": ".venv",
   "language": "python",
   "name": "python3"
  },
  "language_info": {
   "codemirror_mode": {
    "name": "ipython",
    "version": 3
   },
   "file_extension": ".py",
   "mimetype": "text/x-python",
   "name": "python",
   "nbconvert_exporter": "python",
   "pygments_lexer": "ipython3",
   "version": "3.12.7"
  }
 },
 "nbformat": 4,
 "nbformat_minor": 2
}
