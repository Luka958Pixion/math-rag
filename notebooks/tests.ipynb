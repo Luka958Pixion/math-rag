{
 "cells": [
  {
   "cell_type": "code",
   "execution_count": 1,
   "metadata": {},
   "outputs": [],
   "source": [
    "from typing import TYPE_CHECKING\n",
    "\n",
    "\n",
    "if TYPE_CHECKING:\n",
    "    from math_rag.application.containers import ApplicationContainer\n",
    "    from math_rag.infrastructure.containers import InfrastructureContainer\n",
    "\n",
    "    application_container: ApplicationContainer\n",
    "    infrastructure_container: InfrastructureContainer"
   ]
  },
  {
   "cell_type": "code",
   "execution_count": 2,
   "metadata": {},
   "outputs": [
    {
     "name": "stderr",
     "output_type": "stream",
     "text": [
      "2025-06-22 16:15:10,203 - INFO - PyTorch version 2.6.0 available.\n"
     ]
    }
   ],
   "source": [
    "RESET = True\n",
    "%load_ext hooks.notebook_hook"
   ]
  },
  {
   "cell_type": "code",
   "execution_count": 3,
   "metadata": {},
   "outputs": [],
   "source": [
    "importer_service = application_container.math_expression_label_task_importer_service()\n",
    "exporter_service = application_container.math_expression_label_exporter_service()\n",
    "\n",
    "result_repository = infrastructure_container.math_expression_dataset_test_result_repository()\n",
    "label_repository = infrastructure_container.math_expression_label_repository()"
   ]
  },
  {
   "cell_type": "code",
   "execution_count": 4,
   "metadata": {},
   "outputs": [],
   "source": [
    "from uuid import UUID\n",
    "\n",
    "\n",
    "dataset_id = UUID('7cdbb987-0994-4d59-8d9c-5e827e000769')\n",
    "split_name = 'test'"
   ]
  },
  {
   "cell_type": "code",
   "execution_count": 5,
   "metadata": {},
   "outputs": [],
   "source": [
    "# project_id = await importer_service.import_tasks(None, dataset_id=dataset_id, split_name=split_name)\n",
    "project_id = 38"
   ]
  },
  {
   "cell_type": "code",
   "execution_count": 6,
   "metadata": {},
   "outputs": [],
   "source": [
    "human_labels = await exporter_service.export(project_id)"
   ]
  },
  {
   "cell_type": "code",
   "execution_count": 7,
   "metadata": {},
   "outputs": [],
   "source": [
    "math_expression_ids = [label.math_expression_id for label in human_labels]"
   ]
  },
  {
   "cell_type": "code",
   "execution_count": 24,
   "metadata": {},
   "outputs": [],
   "source": [
    "gpt_4_1_nano_labels = await label_repository.find_many(\n",
    "    filter=dict(math_expression_dataset_id=dataset_id, math_expression_id=math_expression_ids)\n",
    ")"
   ]
  },
  {
   "cell_type": "code",
   "execution_count": 13,
   "metadata": {},
   "outputs": [],
   "source": [
    "results = await result_repository.find_many(\n",
    "    filter=dict(\n",
    "        math_expression_dataset_id=dataset_id, math_expression_dataset_split_name=split_name\n",
    "    )\n",
    ")\n",
    "\n",
    "# llama_labels = results[0].math_expression_labels\n",
    "# gpt_4_1_labels = results[1].math_expression_labels\n",
    "gpt_4_1_mini_labels = results[0].math_expression_labels\n",
    "gpt_4_1_labels = results[1].math_expression_labels\n",
    "o3_labels = results[8].math_expression_labels"
   ]
  },
  {
   "cell_type": "code",
   "execution_count": 14,
   "metadata": {},
   "outputs": [],
   "source": [
    "from sklearn.metrics import accuracy_score, classification_report, confusion_matrix\n",
    "\n",
    "from math_rag.core.enums import MathExpressionLabelEnum\n",
    "from math_rag.core.models import MathExpressionLabel"
   ]
  },
  {
   "cell_type": "code",
   "execution_count": 15,
   "metadata": {},
   "outputs": [],
   "source": [
    "def _sort_by_math_expression_id(labels: list[MathExpressionLabel]) -> list[MathExpressionLabel]:\n",
    "    return sorted(\n",
    "        labels,\n",
    "        key=lambda label: label.math_expression_id,\n",
    "    )\n",
    "\n",
    "\n",
    "def prepare(math_expression_labels: list[MathExpressionLabel]) -> list[str]:\n",
    "    sorted = _sort_by_math_expression_id(math_expression_labels)\n",
    "\n",
    "    return [label.value.value for label in sorted]\n",
    "\n",
    "\n",
    "def evaluate_multiclass_labels(\n",
    "    y_true: list[str],\n",
    "    y_pred: list[str],\n",
    "    labels: list[str],\n",
    "):\n",
    "    acc = accuracy_score(y_true, y_pred)\n",
    "    report = classification_report(\n",
    "        y_true,\n",
    "        y_pred,\n",
    "        labels=labels,\n",
    "        target_names=labels,\n",
    "        zero_division=0,\n",
    "    )\n",
    "    cm = confusion_matrix(\n",
    "        y_true,\n",
    "        y_pred,\n",
    "        labels=labels,\n",
    "    )\n",
    "\n",
    "    print(acc)\n",
    "    print(report)\n",
    "    print(cm)"
   ]
  },
  {
   "cell_type": "code",
   "execution_count": 17,
   "metadata": {},
   "outputs": [],
   "source": [
    "labels = [e.value for e in MathExpressionLabelEnum]"
   ]
  },
  {
   "cell_type": "markdown",
   "metadata": {},
   "source": [
    "## Results"
   ]
  },
  {
   "cell_type": "code",
   "execution_count": 25,
   "metadata": {},
   "outputs": [
    {
     "name": "stdout",
     "output_type": "stream",
     "text": [
      "0.6289592760180995\n",
      "              precision    recall  f1-score   support\n",
      "\n",
      "    equality       1.00      0.74      0.85        42\n",
      "  inequality       1.00      1.00      1.00         7\n",
      "    constant       0.28      1.00      0.44        17\n",
      "    variable       0.44      1.00      0.61        22\n",
      "       other       0.86      0.47      0.60       133\n",
      "\n",
      "    accuracy                           0.63       221\n",
      "   macro avg       0.72      0.84      0.70       221\n",
      "weighted avg       0.81      0.63      0.65       221\n",
      "\n",
      "[[31  0  1  0 10]\n",
      " [ 0  7  0  0  0]\n",
      " [ 0  0 17  0  0]\n",
      " [ 0  0  0 22  0]\n",
      " [ 0  0 43 28 62]]\n"
     ]
    }
   ],
   "source": [
    "y_true = prepare(human_labels)\n",
    "y_pred = prepare(gpt_4_1_nano_labels)\n",
    "\n",
    "evaluate_multiclass_labels(y_true, y_pred, labels)"
   ]
  },
  {
   "cell_type": "code",
   "execution_count": 26,
   "metadata": {},
   "outputs": [
    {
     "name": "stdout",
     "output_type": "stream",
     "text": [
      "0.8144796380090498\n",
      "              precision    recall  f1-score   support\n",
      "\n",
      "    equality       1.00      1.00      1.00        42\n",
      "  inequality       1.00      1.00      1.00         7\n",
      "    constant       0.30      1.00      0.46        17\n",
      "    variable       1.00      0.95      0.98        22\n",
      "       other       0.99      0.70      0.82       133\n",
      "\n",
      "    accuracy                           0.81       221\n",
      "   macro avg       0.86      0.93      0.85       221\n",
      "weighted avg       0.94      0.81      0.85       221\n",
      "\n",
      "[[42  0  0  0  0]\n",
      " [ 0  7  0  0  0]\n",
      " [ 0  0 17  0  0]\n",
      " [ 0  0  0 21  1]\n",
      " [ 0  0 40  0 93]]\n"
     ]
    }
   ],
   "source": [
    "y_true = prepare(human_labels)\n",
    "y_pred = prepare(gpt_4_1_mini_labels)\n",
    "\n",
    "evaluate_multiclass_labels(y_true, y_pred, labels)"
   ]
  },
  {
   "cell_type": "code",
   "execution_count": 27,
   "metadata": {},
   "outputs": [
    {
     "name": "stdout",
     "output_type": "stream",
     "text": [
      "0.8235294117647058\n",
      "              precision    recall  f1-score   support\n",
      "\n",
      "    equality       1.00      1.00      1.00        42\n",
      "  inequality       1.00      1.00      1.00         7\n",
      "    constant       0.32      1.00      0.49        17\n",
      "    variable       1.00      0.86      0.93        22\n",
      "       other       0.97      0.73      0.83       133\n",
      "\n",
      "    accuracy                           0.82       221\n",
      "   macro avg       0.86      0.92      0.85       221\n",
      "weighted avg       0.93      0.82      0.85       221\n",
      "\n",
      "[[42  0  0  0  0]\n",
      " [ 0  7  0  0  0]\n",
      " [ 0  0 17  0  0]\n",
      " [ 0  0  0 19  3]\n",
      " [ 0  0 36  0 97]]\n"
     ]
    }
   ],
   "source": [
    "y_true = prepare(human_labels)\n",
    "y_pred = prepare(gpt_4_1_labels)\n",
    "\n",
    "evaluate_multiclass_labels(y_true, y_pred, labels)"
   ]
  },
  {
   "cell_type": "code",
   "execution_count": 28,
   "metadata": {},
   "outputs": [
    {
     "name": "stdout",
     "output_type": "stream",
     "text": [
      "0.8280542986425339\n",
      "              precision    recall  f1-score   support\n",
      "\n",
      "    equality       1.00      1.00      1.00        42\n",
      "  inequality       0.88      1.00      0.93         7\n",
      "    constant       0.31      0.94      0.46        17\n",
      "    variable       1.00      1.00      1.00        22\n",
      "       other       0.99      0.72      0.83       133\n",
      "\n",
      "    accuracy                           0.83       221\n",
      "   macro avg       0.83      0.93      0.85       221\n",
      "weighted avg       0.94      0.83      0.86       221\n",
      "\n",
      "[[42  0  0  0  0]\n",
      " [ 0  7  0  0  0]\n",
      " [ 0  0 16  0  1]\n",
      " [ 0  0  0 22  0]\n",
      " [ 0  1 36  0 96]]\n"
     ]
    }
   ],
   "source": [
    "y_true = prepare(human_labels)\n",
    "y_pred = prepare(o3_labels)\n",
    "\n",
    "evaluate_multiclass_labels(y_true, y_pred, labels)"
   ]
  },
  {
   "cell_type": "code",
   "execution_count": 4,
   "metadata": {},
   "outputs": [
    {
     "data": {
      "text/plain": [
       "3.2"
      ]
     },
     "execution_count": 4,
     "metadata": {},
     "output_type": "execute_result"
    }
   ],
   "source": [
    "40_000 * 200 / 1_000_000 * 0.4"
   ]
  }
 ],
 "metadata": {
  "kernelspec": {
   "display_name": ".venv",
   "language": "python",
   "name": "python3"
  },
  "language_info": {
   "codemirror_mode": {
    "name": "ipython",
    "version": 3
   },
   "file_extension": ".py",
   "mimetype": "text/x-python",
   "name": "python",
   "nbconvert_exporter": "python",
   "pygments_lexer": "ipython3",
   "version": "3.12.7"
  }
 },
 "nbformat": 4,
 "nbformat_minor": 2
}
