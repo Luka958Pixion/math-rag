{
 "cells": [
  {
   "cell_type": "code",
   "execution_count": 1,
   "metadata": {},
   "outputs": [],
   "source": [
    "from typing import TYPE_CHECKING\n",
    "\n",
    "\n",
    "if TYPE_CHECKING:\n",
    "    from math_rag.application.containers import ApplicationContainer\n",
    "    from math_rag.infrastructure.containers import InfrastructureContainer\n",
    "\n",
    "    application_container: ApplicationContainer\n",
    "    infrastructure_container: InfrastructureContainer"
   ]
  },
  {
   "cell_type": "code",
   "execution_count": 2,
   "metadata": {},
   "outputs": [
    {
     "name": "stderr",
     "output_type": "stream",
     "text": [
      "2025-07-15 23:24:32,870 - INFO - datasets - config.py:54 - PyTorch version 2.6.0 available.\n"
     ]
    }
   ],
   "source": [
    "RESET = False\n",
    "%load_ext hooks.notebook_hook"
   ]
  },
  {
   "cell_type": "markdown",
   "metadata": {},
   "source": [
    "### Playground"
   ]
  },
  {
   "cell_type": "code",
   "execution_count": null,
   "metadata": {},
   "outputs": [
    {
     "name": "stdout",
     "output_type": "stream",
     "text": [
      "Code repeats itself,  \n",
      "Functions within functions loop—  \n",
      "Infinite echoes.\n"
     ]
    }
   ],
   "source": [
    "from agents import Agent, Runner\n",
    "\n",
    "\n",
    "math_problem_solver_agent = Agent(\n",
    "    name='Assistant',\n",
    "    instructions='You are a helpful assistant',\n",
    "    output_type=str,\n",
    ")\n",
    "\n",
    "result = await Runner.run(\n",
    "    math_problem_solver_agent, 'Write a haiku about recursion in programming.'\n",
    ")\n",
    "print(result.final_output)"
   ]
  },
  {
   "cell_type": "code",
   "execution_count": null,
   "metadata": {},
   "outputs": [],
   "source": [
    "TODO = ...\n",
    "\n",
    "math_problem_solver_agent = Agent(\n",
    "    name=TODO,\n",
    "    instructions=TODO,\n",
    "    prompt=TODO,\n",
    "    handoff_description=TODO,\n",
    "    handoffs=TODO,\n",
    "    model=TODO,\n",
    "    model_settings=TODO,\n",
    "    tools=TODO,\n",
    "    mcp_servers=TODO,\n",
    "    mcp_config=TODO,\n",
    "    input_guardrails=TODO,\n",
    "    output_guardrails=TODO,\n",
    "    output_type=TODO,\n",
    "    hooks=TODO,\n",
    "    tool_use_behavior=TODO,\n",
    "    reset_tool_choice=TODO,\n",
    ")"
   ]
  },
  {
   "cell_type": "code",
   "execution_count": null,
   "metadata": {},
   "outputs": [],
   "source": [
    "# TODO use openai guardrail model"
   ]
  },
  {
   "cell_type": "code",
   "execution_count": null,
   "metadata": {},
   "outputs": [],
   "source": [
    "from agents import Handoff\n",
    "from agents.extensions.handoff_filters import remove_all_tools\n",
    "\n",
    "\n",
    "tool: FunctionTool = ...\n",
    "math_problem_solver_agent: Agent = ...\n",
    "\n",
    "handoff = Handoff(\n",
    "    tool_name=tool.name,\n",
    "    tool_description=tool.description,\n",
    "    input_json_schema=tool.params_json_schema,\n",
    "    on_invoke_handoff=tool.on_invoke_tool,\n",
    "    agent_name=math_problem_solver_agent.name,\n",
    "    input_filter=remove_all_tools,\n",
    "    strict_json_schema=True,\n",
    "    is_enabled=True,\n",
    ")"
   ]
  },
  {
   "cell_type": "code",
   "execution_count": null,
   "metadata": {},
   "outputs": [],
   "source": [
    "from agents import HandoffInputData\n",
    "\n",
    "\n",
    "def drop_pre_handoff_items(data: HandoffInputData) -> HandoffInputData:\n",
    "    \"\"\"\n",
    "    Remove everything generated before the handoff turn,\n",
    "    so the next agent only sees the original history + new_items.\n",
    "    \"\"\"\n",
    "    return HandoffInputData(\n",
    "        input_history=data.input_history,\n",
    "        pre_handoff_items=(),\n",
    "        new_items=data.new_items,\n",
    "    )\n",
    "\n",
    "\n",
    "def keep_last_5_new_items(data: HandoffInputData) -> HandoffInputData:\n",
    "    \"\"\"\n",
    "    Keep only the last 5 items from new_items,\n",
    "    preserving full history and pre_handoff_items.\n",
    "    \"\"\"\n",
    "    return HandoffInputData(\n",
    "        input_history=data.input_history,\n",
    "        pre_handoff_items=data.pre_handoff_items,\n",
    "        new_items=tuple(data.new_items[-5:]),\n",
    "    )"
   ]
  },
  {
   "cell_type": "markdown",
   "metadata": {},
   "source": [
    "### Jupyter tool"
   ]
  },
  {
   "cell_type": "code",
   "execution_count": 3,
   "metadata": {},
   "outputs": [],
   "source": [
    "jupyter_client = infrastructure_container.jupyter_client()"
   ]
  },
  {
   "cell_type": "code",
   "execution_count": 4,
   "metadata": {},
   "outputs": [
    {
     "data": {
      "text/plain": [
       "JupyterStartSessionResult(message='Session started successfully', notebook_path='/mnt/jupyter_sessions/0/notebook_0.ipynb')"
      ]
     },
     "execution_count": 4,
     "metadata": {},
     "output_type": "execute_result"
    }
   ],
   "source": [
    "await jupyter_client.start_session(user_id='0')"
   ]
  },
  {
   "cell_type": "code",
   "execution_count": null,
   "metadata": {},
   "outputs": [
    {
     "data": {
      "text/plain": [
       "'Here are 10 random integers between 1 and 100:\\n\\\\[69, 74, 94, 5, 33, 70, 18, 40, 26, 50\\\\]'"
      ]
     },
     "execution_count": 6,
     "metadata": {},
     "output_type": "execute_result"
    }
   ],
   "source": [
    "from agents import Agent, Runner\n",
    "\n",
    "\n",
    "math_problem_solver_agent = Agent(\n",
    "    name='CodeRunner',\n",
    "    instructions='Use the execute_code tool to run Python code snippets.',\n",
    "    tools=[execute_code_tool],\n",
    ")\n",
    "\n",
    "result = await Runner.run(\n",
    "    math_problem_solver_agent, 'Please run some Python code, invent it on your own'\n",
    ")\n",
    "result.final_output"
   ]
  },
  {
   "cell_type": "code",
   "execution_count": 9,
   "metadata": {},
   "outputs": [
    {
     "name": "stdout",
     "output_type": "stream",
     "text": [
      "{\"output\":\"[69, 74, 94, 5, 33, 70, 18, 40, 26, 50]\",\"error\":null}\n"
     ]
    }
   ],
   "source": [
    "for x in result.new_items:\n",
    "    if hasattr(x, 'output'):\n",
    "        print(x.output)"
   ]
  },
  {
   "cell_type": "code",
   "execution_count": null,
   "metadata": {},
   "outputs": [],
   "source": [
    "await jupyter_client.end_session(user_id='0')"
   ]
  },
  {
   "cell_type": "markdown",
   "metadata": {},
   "source": [
    "### Katex tool"
   ]
  },
  {
   "cell_type": "code",
   "execution_count": null,
   "metadata": {},
   "outputs": [
    {
     "data": {
      "text/plain": [
       "'The KaTeX expression \\\\( c = \\\\pm\\\\sqrt{a^2 + b^2} \\\\) is valid.'"
      ]
     },
     "execution_count": 4,
     "metadata": {},
     "output_type": "execute_result"
    }
   ],
   "source": [
    "from agents import Agent, Runner\n",
    "\n",
    "\n",
    "math_problem_solver_agent = Agent(\n",
    "    name='CodeRunner',\n",
    "    instructions='Use the validate_katex tool to validate KaTeX.',\n",
    "    tools=[validate_katex_tool],\n",
    ")\n",
    "\n",
    "result = await Runner.run(\n",
    "    math_problem_solver_agent, 'Please validate some KaTeX, invent it on your own'\n",
    ")\n",
    "result.final_output"
   ]
  },
  {
   "cell_type": "markdown",
   "metadata": {},
   "source": [
    "### Graph tool"
   ]
  },
  {
   "cell_type": "code",
   "execution_count": null,
   "metadata": {},
   "outputs": [
    {
     "data": {
      "text/plain": [
       "\"Here are some details about logistic regression derived from the search graph:\\n\\n1. **Function Minimization**:\\n   - The function \\\\( f(\\\\mathbf{x}) \\\\) is minimized using methods like Newton's method, where the function is evaluated at the current point in the parameter space.\\n   - The quadratic approximation at a point is derived from the Taylor series expansion around that point.\\n\\n2. **Taylor Series Expansion**:\\n   - For functions of a single variable, like \\\\( f(x) \\\\), the function's quadratic approximation is derived using its Taylor series.\\n   - The point \\\\( a \\\\) serves as the center of the expansion, from which the function is approximated.\\n\\n3. **Initial Point in Optimization**:\\n   - The symbol \\\\( x_{0} \\\\) denotes the initial point for starting the minimization process using Newton's method.\\n\\n4. **Approximation of Functions**:\\n   - The Taylor series provides a way to approximate functions at a point.\\n   - Specifically, the second-order Taylor expansion offers a quadratic approximation.\\n\\n5. **Error Function**:\\n   - The error function \\\\( E(\\\\mathbf{w} \\\\mid \\\\mathcal{D}) \\\\), conditioned on the dataset \\\\( \\\\mathcal{D} \\\\), can be approximated using the Taylor series expansion, contributing to the logistic regression model's formulation.\\n\\nThese concepts relate to how logistic regression can be optimized and how different mathematical methods are applied for its calculation.\""
      ]
     },
     "execution_count": 4,
     "metadata": {},
     "output_type": "execute_result"
    }
   ],
   "source": [
    "from agents import Agent, Runner\n",
    "\n",
    "\n",
    "math_problem_solver_agent = Agent(\n",
    "    name='CodeRunner',\n",
    "    instructions='Use the search_graph tool to search the knowledge graph.',\n",
    "    tools=[search_graph_tool],\n",
    ")\n",
    "\n",
    "result = await Runner.run(\n",
    "    math_problem_solver_agent, 'Please search graph, send a query about logistic regression'\n",
    ")\n",
    "result.final_output"
   ]
  },
  {
   "cell_type": "markdown",
   "metadata": {},
   "source": [
    "### Web search tool"
   ]
  },
  {
   "cell_type": "code",
   "execution_count": 5,
   "metadata": {},
   "outputs": [
    {
     "data": {
      "text/plain": [
       "'The Pythagorean theorem is a fundamental principle in geometry that describes the relationship between the sides of a right-angled triangle. It states that the square of the length of the hypotenuse (the side opposite the right angle) is equal to the sum of the squares of the lengths of the other two sides. This relationship is expressed algebraically as:\\n\\n\\\\[ a^2 + b^2 = c^2 \\\\]\\n\\nwhere \\\\( a \\\\) and \\\\( b \\\\) are the lengths of the legs (the sides forming the right angle), and \\\\( c \\\\) is the length of the hypotenuse.\\n\\n**Example:**\\n\\nConsider a right-angled triangle with legs measuring 3 units and 4 units. To find the length of the hypotenuse:\\n\\n\\\\[ 3^2 + 4^2 = c^2 \\\\]\\n\\n\\\\[ 9 + 16 = c^2 \\\\]\\n\\n\\\\[ 25 = c^2 \\\\]\\n\\nTaking the square root of both sides:\\n\\n\\\\[ c = \\\\sqrt{25} = 5 \\\\]\\n\\nTherefore, the hypotenuse measures 5 units.\\n\\n**Historical Context:**\\n\\nAlthough named after the ancient Greek mathematician Pythagoras (c. 570–500/490 BCE), evidence suggests that the relationship was known to Babylonian mathematicians as early as 1900–1600 BCE. They had knowledge of Pythagorean triples—sets of three integers that satisfy the theorem, such as (3, 4, 5). The theorem is also mentioned in the Indian Baudhayana Sulba-sutra, written between 800 and 400 BCE. Despite this, the theorem is traditionally attributed to Pythagoras, and it appears as Proposition 47 in Book I of Euclid\\'s \"Elements.\" ([britannica.com](https://www.britannica.com/science/Pythagorean-theorem?utm_source=openai))\\n\\n**Applications:**\\n\\nThe Pythagorean theorem is widely used in various fields, including architecture, engineering, and navigation. It allows for the calculation of an unknown side of a right-angled triangle when the other two sides are known. For instance, in navigation, it helps determine the shortest distance between two points. ([cuemath.com](https://www.cuemath.com/geometry/pythagoras-theorem/?utm_source=openai))\\n\\nUnderstanding this theorem is essential for solving problems involving right-angled triangles and has practical applications in numerous real-world scenarios. '"
      ]
     },
     "execution_count": 5,
     "metadata": {},
     "output_type": "execute_result"
    }
   ],
   "source": [
    "from agents import Agent, Runner, WebSearchTool\n",
    "\n",
    "\n",
    "math_problem_solver_agent = Agent(\n",
    "    name='CodeRunner',\n",
    "    instructions='Use the web search tool.',\n",
    "    tools=[WebSearchTool(search_context_size='low')],\n",
    ")\n",
    "\n",
    "result = await Runner.run(math_problem_solver_agent, 'search for the Pythagorean theorem')\n",
    "result.final_output"
   ]
  },
  {
   "cell_type": "markdown",
   "metadata": {},
   "source": [
    "## Full Agent"
   ]
  },
  {
   "cell_type": "code",
   "execution_count": 3,
   "metadata": {},
   "outputs": [],
   "source": [
    "problem_text = \"\"\"\n",
    "1. (N) We trained the logistic regression model on a set of labeled examples $\\\\mathcal{D}$. We obtained some weight vector $\\\\mathbf{{w}}$ and bias $w_0=0.15$. For the so-obtained model, an example $\\\\mathbf{{x}}$, whose label is $y=0$, inflicts a cross-entropy loss of $L(0, h(\\\\mathbf{{x}}))=0.274$. What would be the value of the cross-entropy loss for the example $x$ if we multiplied its features by two and changed its label?\n",
    "\"\"\""
   ]
  },
  {
   "cell_type": "code",
   "execution_count": 4,
   "metadata": {},
   "outputs": [
    {
     "data": {
      "text/plain": [
       "JupyterStartSessionResult(message='Session started successfully', notebook_path='/mnt/jupyter_sessions/0/notebook_0.ipynb')"
      ]
     },
     "execution_count": 4,
     "metadata": {},
     "output_type": "execute_result"
    }
   ],
   "source": [
    "jupyter_client = infrastructure_container.jupyter_client()\n",
    "\n",
    "await jupyter_client.start_session(user_id='0')"
   ]
  },
  {
   "cell_type": "code",
   "execution_count": 5,
   "metadata": {},
   "outputs": [],
   "source": [
    "from functools import partial\n",
    "from uuid import UUID\n",
    "\n",
    "from agents import Agent, Runner\n",
    "from IPython.display import Latex, display\n",
    "\n",
    "from math_rag.application.agents.tools import (\n",
    "    execute_code_tool,\n",
    "    search_graph_tool,\n",
    "    validate_katex_tool,\n",
    ")\n",
    "\n",
    "\n",
    "# configure the search tool with your math expression index\n",
    "math_expression_index_id = UUID('4916077a-1d6d-4ef1-a552-bb9668721052')\n",
    "search_graph_tool.on_invoke_tool = partial(\n",
    "    search_graph_tool.on_invoke_tool,\n",
    "    math_expression_index_id=math_expression_index_id,\n",
    ")\n",
    "\n",
    "# main solver agent\n",
    "math_problem_solver_agent = Agent(\n",
    "    name='MathProblemSolverAgent',\n",
    "    model='o4-mini',\n",
    "    instructions=(\n",
    "        'Solve the given math problem step by step. '\n",
    "        'While solving, search the knowledge graph, write code, and execute it in the provided code sandbox. '\n",
    "        'The final answer must include formulas and detailed steps, but do not show any code in the final answer. '\n",
    "        'Once you have the final solution, call the transfer_to_katex_validator_agent tool with no arguments '\n",
    "        'to validate and correct all KaTeX syntax before returning.'\n",
    "    ),\n",
    "    tools=[search_graph_tool, execute_code_tool],\n",
    ")\n",
    "\n",
    "input = (\n",
    "    f'Solve the following problem by using knowledge graph and code sandbox. '\n",
    "    f'You must use search_graph_tool and execute_code_tool tools.'\n",
    "    f'return detailed steps at the end: \\n {problem_text}'\n",
    ")\n",
    "solver_result = await Runner.run(math_problem_solver_agent, input=input)"
   ]
  },
  {
   "cell_type": "code",
   "execution_count": 7,
   "metadata": {},
   "outputs": [
    {
     "data": {
      "text/latex": [
       "Step 1: Recall definitions  \n",
       "• Sigmoid (logistic) function:  \n",
       "  $h(z) = \\frac{1}{1 + e^{-z}}$  \n",
       "• Cross-entropy loss for binary label $y \\in \\{0,1\\}$:  \n",
       "  $L(y,h) = -\\bigl[y \\ln h + (1 - y) \\ln(1 - h)\\bigr]$\n",
       "\n",
       "Step 2: Use the given loss for $y=0$  \n",
       "$L(0, h(x)) = -\\ln(1 - h(x)) = 0.274$  \n",
       "$\\implies 1 - h(x) = e^{-0.274}$  \n",
       "$\\implies h(x) = 1 - e^{-0.274}$\n",
       "\n",
       "Step 3: Relate $h(x)$ to the logit $z$  \n",
       "$h(x) = \\frac{1}{1 + e^{-z}}$  \n",
       "$\\implies e^{-z} = \\frac{1 - h(x)}{h(x)}$  \n",
       "$\\implies z = \\ln\\!\\left(\\frac{h(x)}{1 - h(x)}\\right)$  \n",
       "Plug in $h(x) = 1 - e^{-0.274}$ to compute $z$.\n",
       "\n",
       "Step 4: Compute new logit for scaled features  \n",
       "Original bias $w_0 = 0.15$, $z = w^T x + w_0$.  \n",
       "For $x' = 2x$:  \n",
       "$$\n",
       "z' = w^T (2x) + w_0 \n",
       "    = 2\\,w^T x + w_0 \n",
       "    = 2\\,(z - w_0) + w_0 \n",
       "    = 2z - w_0\n",
       "$$\n",
       "\n",
       "Step 5: Compute new hypothesis and loss for $y=1$  \n",
       "$h(x') = \\frac{1}{1 + e^{-z'}}$  \n",
       "$L(1, h(x')) = -\\ln\\bigl(h(x')\\bigr)$\n",
       "\n",
       "Numerical evaluation (using a computational tool):  \n",
       "• $a = \\exp(-0.274)$  \n",
       "• $h(x) = 1 - a$  \n",
       "• $z = \\ln\\!\\bigl(\\tfrac{1 - a}{a}\\bigr)$  \n",
       "• $z' = 2z - 0.15$  \n",
       "• $h(x') = \\frac{1}{1 + e^{-z'}}$  \n",
       "• $L_{\\text{new}} = -\\ln\\bigl(h(x')\\bigr) \\approx 2.5411$\n",
       "\n",
       "Answer: The cross-entropy loss for the example with features doubled and label changed to $y=1$ is approximately $2.5411$."
      ],
      "text/plain": [
       "<IPython.core.display.Latex object>"
      ]
     },
     "metadata": {},
     "output_type": "display_data"
    }
   ],
   "source": [
    "# KaTeX validator agent\n",
    "katex_validator_agent = Agent(\n",
    "    name='KatexValidatorAgent',\n",
    "    model='o4-mini',\n",
    "    instructions=(\n",
    "        'Given the complete solution to the math problem, '\n",
    "        'identify all KaTeX sections and validate them using the provided tool. '\n",
    "        'If any issues are found, fix the KaTeX syntax and validate again. '\n",
    "        'Repeat this process until all KaTeX is valid. '\n",
    "        'Finally, return the full solution with corrected KaTeX sections. '\n",
    "        'Do not include KaTeX in code cells; KaTeX must be rendered in the chat interface.'\n",
    "        'All KaTeX expressions must be bound with \"$\" symbols.'\n",
    "    ),\n",
    "    tools=[validate_katex_tool],\n",
    ")\n",
    "\n",
    "input = (\n",
    "    f'Validate and fix KaTeX sections in given solution by following steps: '\n",
    "    f'1. identify all math expressions in given text '\n",
    "    f'2. validate each KaTeX expression using `validate_katex_tool` '\n",
    "    f'3. check if you found and validate all KaTeX expression '\n",
    "    f'4. bound each KaTeX expression with single `$` (for inline KaTeX) or double `$$` (for multiline KaTeX)'\n",
    "    f'5. do NOT add additional explanations like \"Here is the detailed solution with all KaTeX expressions properly delimited and validated:\"'\n",
    "    f'Your Task: \\n{solver_result.final_output}'\n",
    ")\n",
    "validator_result = await Runner.run(katex_validator_agent, input=input, max_turns=50)\n",
    "\n",
    "display(Latex(validator_result.final_output))"
   ]
  },
  {
   "cell_type": "code",
   "execution_count": 10,
   "metadata": {},
   "outputs": [
    {
     "data": {
      "text/plain": [
       "JupyterEndSessionResult(message='Session ended successfully')"
      ]
     },
     "execution_count": 10,
     "metadata": {},
     "output_type": "execute_result"
    }
   ],
   "source": [
    "await jupyter_client.end_session(user_id='0')"
   ]
  },
  {
   "cell_type": "code",
   "execution_count": null,
   "metadata": {},
   "outputs": [],
   "source": [
    "math_expression_index_searcher_service = (\n",
    "    await application_container.math_expression_index_searcher_service()\n",
    ")\n",
    "math_expression_relationship_serializer_service = (\n",
    "    application_container.math_expression_relationship_serializer_service()\n",
    ")\n",
    "from uuid import UUID\n",
    "\n",
    "\n",
    "math_expression_index_id = UUID('4916077a-1d6d-4ef1-a552-bb9668721052')\n",
    "\n",
    "math_expression_relationship_ids = await math_expression_index_searcher_service.search(\n",
    "    math_expression_index_id,\n",
    "    query='',\n",
    "    query_limit=8,\n",
    "    limit=4,\n",
    ")\n",
    "result = await math_expression_relationship_serializer_service.serialize(\n",
    "    math_expression_relationship_ids\n",
    ")\n",
    "result"
   ]
  }
 ],
 "metadata": {
  "kernelspec": {
   "display_name": ".venv",
   "language": "python",
   "name": "python3"
  },
  "language_info": {
   "codemirror_mode": {
    "name": "ipython",
    "version": 3
   },
   "file_extension": ".py",
   "mimetype": "text/x-python",
   "name": "python",
   "nbconvert_exporter": "python",
   "pygments_lexer": "ipython3",
   "version": "3.12.7"
  }
 },
 "nbformat": 4,
 "nbformat_minor": 2
}
