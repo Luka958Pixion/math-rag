{
 "cells": [
  {
   "cell_type": "code",
   "execution_count": 1,
   "metadata": {},
   "outputs": [],
   "source": [
    "from typing import TYPE_CHECKING\n",
    "\n",
    "\n",
    "if TYPE_CHECKING:\n",
    "    from math_rag.application.containers import ApplicationContainer\n",
    "    from math_rag.infrastructure.containers import InfrastructureContainer\n",
    "\n",
    "    application_container: ApplicationContainer\n",
    "    infrastructure_container: InfrastructureContainer"
   ]
  },
  {
   "cell_type": "code",
   "execution_count": 2,
   "metadata": {},
   "outputs": [
    {
     "name": "stderr",
     "output_type": "stream",
     "text": [
      "2025-07-04 14:33:31,134 - INFO - datasets - config.py:54 - PyTorch version 2.6.0 available.\n"
     ]
    }
   ],
   "source": [
    "RESET = False\n",
    "%load_ext hooks.notebook_hook"
   ]
  },
  {
   "cell_type": "code",
   "execution_count": null,
   "metadata": {},
   "outputs": [
    {
     "name": "stdout",
     "output_type": "stream",
     "text": [
      "Code repeats itself,  \n",
      "Functions within functions loop—  \n",
      "Infinite echoes.\n"
     ]
    }
   ],
   "source": [
    "from agents import Agent, Runner\n",
    "\n",
    "\n",
    "agent = Agent(\n",
    "    name='Assistant',\n",
    "    instructions='You are a helpful assistant',\n",
    "    output_type=str,\n",
    ")\n",
    "\n",
    "result = await Runner.run(agent, 'Write a haiku about recursion in programming.')\n",
    "print(result.final_output)"
   ]
  },
  {
   "cell_type": "code",
   "execution_count": null,
   "metadata": {},
   "outputs": [],
   "source": [
    "TODO = ...\n",
    "\n",
    "agent = Agent(\n",
    "    name=TODO,\n",
    "    instructions=TODO,\n",
    "    prompt=TODO,\n",
    "    handoff_description=TODO,\n",
    "    handoffs=TODO,\n",
    "    model=TODO,\n",
    "    model_settings=TODO,\n",
    "    tools=TODO,\n",
    "    mcp_servers=TODO,\n",
    "    mcp_config=TODO,\n",
    "    input_guardrails=TODO,\n",
    "    output_guardrails=TODO,\n",
    "    output_type=TODO,\n",
    "    hooks=TODO,\n",
    "    tool_use_behavior=TODO,\n",
    "    reset_tool_choice=TODO,\n",
    ")"
   ]
  },
  {
   "cell_type": "code",
   "execution_count": null,
   "metadata": {},
   "outputs": [],
   "source": [
    "# TODO use openai guardrail model"
   ]
  },
  {
   "cell_type": "code",
   "execution_count": null,
   "metadata": {},
   "outputs": [],
   "source": [
    "from typing import Optional\n",
    "\n",
    "import httpx\n",
    "\n",
    "from agents import FunctionTool, function_tool\n",
    "from agents.tool_context import ToolContext\n",
    "from pydantic import BaseModel, Field\n",
    "\n",
    "\n",
    "# Input model\n",
    "class SandboxExecuteParams(BaseModel):\n",
    "    user_id: str = Field(..., description=\"Identifier for the user's sandbox session\")\n",
    "    code: str = Field(..., description='Python code to run in the sandbox')\n",
    "    timeout: Optional[float] = Field(\n",
    "        None, description='Optional timeout in seconds (defaults to 30.0)'\n",
    "    )\n",
    "\n",
    "    def to_payload(self) -> dict:\n",
    "        return self.model_dump(exclude_none=True)\n",
    "\n",
    "    def to_json(self) -> str:\n",
    "        return self.model_dump_json(exclude_none=True)\n",
    "\n",
    "\n",
    "# Tool function\n",
    "async def _invoke_sandbox_tool(tool_context: ToolContext, args_json_str: str) -> str:\n",
    "    args = SandboxExecuteParams.model_validate_json(args_json_str)\n",
    "    async with httpx.AsyncClient() as client:\n",
    "        resp = await client.post(\n",
    "            'https://your-sandbox.example.com/execute',\n",
    "            json=args.to_payload(),\n",
    "            timeout=args.timeout or 30.0,\n",
    "        )\n",
    "        resp.raise_for_status()\n",
    "        body = resp.json()\n",
    "        return body.get('output', '')\n",
    "\n",
    "\n",
    "# Tool description\n",
    "SANDBOX_EXECUTE_TOOL_DESCRIPTION = (\n",
    "    'Execute Python code in the isolated sandbox. '\n",
    "    'Parameters: user_id (string), code (string), optional timeout (float). '\n",
    "    'Returns the stdout+stderr output.'\n",
    ")\n",
    "\n",
    "# Tool registration\n",
    "sandbox_execute_tool = FunctionTool(\n",
    "    name='sandbox_execute',\n",
    "    description=SANDBOX_EXECUTE_TOOL_DESCRIPTION,\n",
    "    params_json_schema=SandboxExecuteParams.model_json_schema(),\n",
    "    on_invoke_tool=_invoke_sandbox_tool,\n",
    "    strict_json_schema=True,\n",
    "    is_enabled=True,\n",
    ")"
   ]
  },
  {
   "cell_type": "code",
   "execution_count": null,
   "metadata": {},
   "outputs": [],
   "source": [
    "from agents import Handoff\n",
    "from agents.extensions.handoff_filters import remove_all_tools\n",
    "\n",
    "\n",
    "tool: FunctionTool = ...\n",
    "agent: Agent = ...\n",
    "\n",
    "handoff = Handoff(\n",
    "    tool_name=tool.name,\n",
    "    tool_description=tool.description,\n",
    "    input_json_schema=tool.params_json_schema,\n",
    "    on_invoke_handoff=tool.on_invoke_tool,\n",
    "    agent_name=agent.name,\n",
    "    input_filter=remove_all_tools,\n",
    "    strict_json_schema=True,\n",
    "    is_enabled=True,\n",
    ")"
   ]
  },
  {
   "cell_type": "code",
   "execution_count": null,
   "metadata": {},
   "outputs": [],
   "source": [
    "from agents import HandoffInputData\n",
    "\n",
    "\n",
    "def drop_pre_handoff_items(data: HandoffInputData) -> HandoffInputData:\n",
    "    \"\"\"\n",
    "    Remove everything generated before the handoff turn,\n",
    "    so the next agent only sees the original history + new_items.\n",
    "    \"\"\"\n",
    "    return HandoffInputData(\n",
    "        input_history=data.input_history,\n",
    "        pre_handoff_items=(),\n",
    "        new_items=data.new_items,\n",
    "    )\n",
    "\n",
    "\n",
    "def keep_last_5_new_items(data: HandoffInputData) -> HandoffInputData:\n",
    "    \"\"\"\n",
    "    Keep only the last 5 items from new_items,\n",
    "    preserving full history and pre_handoff_items.\n",
    "    \"\"\"\n",
    "    return HandoffInputData(\n",
    "        input_history=data.input_history,\n",
    "        pre_handoff_items=data.pre_handoff_items,\n",
    "        new_items=tuple(data.new_items[-5:]),\n",
    "    )"
   ]
  },
  {
   "cell_type": "code",
   "execution_count": null,
   "metadata": {},
   "outputs": [],
   "source": [
    "import openai\n",
    "\n",
    "\n",
    "response = openai.moderations.create(\n",
    "    model='omni-moderation-latest', input='This is a sample user message to classify.'\n",
    ")\n",
    "\n",
    "print(response)"
   ]
  },
  {
   "cell_type": "code",
   "execution_count": 3,
   "metadata": {},
   "outputs": [],
   "source": [
    "openai_managed_mm = infrastructure_container.openai_managed_mm()"
   ]
  },
  {
   "cell_type": "code",
   "execution_count": null,
   "metadata": {},
   "outputs": [],
   "source": [
    "await openai_managed_mm.moderate()"
   ]
  },
  {
   "cell_type": "code",
   "execution_count": null,
   "metadata": {},
   "outputs": [
    {
     "data": {
      "text/plain": [
       "ModerationCreateResponse(id='modr-9506', model='omni-moderation-latest', results=[Moderation(categories=Categories(harassment=False, harassment_threatening=False, hate=False, hate_threatening=False, illicit=False, illicit_violent=False, self_harm=False, self_harm_instructions=False, self_harm_intent=False, sexual=False, sexual_minors=False, violence=False, violence_graphic=False, harassment/threatening=False, hate/threatening=False, illicit/violent=False, self-harm/intent=False, self-harm/instructions=False, self-harm=False, sexual/minors=False, violence/graphic=False), category_applied_input_types=CategoryAppliedInputTypes(harassment=['text'], harassment_threatening=['text'], hate=['text'], hate_threatening=['text'], illicit=['text'], illicit_violent=['text'], self_harm=['text'], self_harm_instructions=['text'], self_harm_intent=['text'], sexual=['text'], sexual_minors=['text'], violence=['text'], violence_graphic=['text'], harassment/threatening=['text'], hate/threatening=['text'], illicit/violent=['text'], self-harm/intent=['text'], self-harm/instructions=['text'], self-harm=['text'], sexual/minors=['text'], violence/graphic=['text']), category_scores=CategoryScores(harassment=7.484622751061123e-06, harassment_threatening=1.3007128466476034e-06, hate=3.5913010679499402e-06, hate_threatening=1.370957206857845e-07, illicit=2.8021097671886317e-05, illicit_violent=1.2931563954607948e-05, self_harm=3.822911232549001e-06, self_harm_instructions=1.1659530314852966e-06, self_harm_intent=2.4300240743279605e-06, sexual=3.9821309061635425e-05, sexual_minors=6.014151777699533e-06, violence=1.2339457598623173e-05, violence_graphic=2.1444948420913954e-06, harassment/threatening=1.3007128466476034e-06, hate/threatening=1.370957206857845e-07, illicit/violent=1.2931563954607948e-05, self-harm/intent=2.4300240743279605e-06, self-harm/instructions=1.1659530314852966e-06, self-harm=3.822911232549001e-06, sexual/minors=6.014151777699533e-06, violence/graphic=2.1444948420913954e-06), flagged=False)])"
      ]
     },
     "execution_count": 4,
     "metadata": {},
     "output_type": "execute_result"
    }
   ],
   "source": [
    "async_openai_client = infrastructure_container.async_openai_client()\n",
    "\n",
    "response = await async_openai_client.moderations.create(\n",
    "    input='is this allowed input?', model='omni-moderation-latest'\n",
    ")\n",
    "response"
   ]
  },
  {
   "cell_type": "code",
   "execution_count": null,
   "metadata": {},
   "outputs": [
    {
     "name": "stdout",
     "output_type": "stream",
     "text": [
      "('harassment', False)\n",
      "('harassment_threatening', False)\n",
      "('hate', False)\n",
      "('hate_threatening', False)\n",
      "('illicit', False)\n",
      "('illicit_violent', False)\n",
      "('self_harm', False)\n",
      "('self_harm_instructions', False)\n",
      "('self_harm_intent', False)\n",
      "('sexual', False)\n",
      "('sexual_minors', False)\n",
      "('violence', False)\n",
      "('violence_graphic', False)\n",
      "('harassment/threatening', False)\n",
      "('hate/threatening', False)\n",
      "('illicit/violent', False)\n",
      "('self-harm/intent', False)\n",
      "('self-harm/instructions', False)\n",
      "('self-harm', False)\n",
      "('sexual/minors', False)\n",
      "('violence/graphic', False)\n",
      "---\n"
     ]
    }
   ],
   "source": [
    "for result in response.results:\n",
    "    if result.flagged:\n",
    "        # NOTE: warn a user\n",
    "        pass\n",
    "\n",
    "    for moderation in result.categories:\n",
    "        print(moderation)\n",
    "\n",
    "    print('---')"
   ]
  }
 ],
 "metadata": {
  "kernelspec": {
   "display_name": ".venv",
   "language": "python",
   "name": "python3"
  },
  "language_info": {
   "codemirror_mode": {
    "name": "ipython",
    "version": 3
   },
   "file_extension": ".py",
   "mimetype": "text/x-python",
   "name": "python",
   "nbconvert_exporter": "python",
   "pygments_lexer": "ipython3",
   "version": "3.12.7"
  }
 },
 "nbformat": 4,
 "nbformat_minor": 2
}
