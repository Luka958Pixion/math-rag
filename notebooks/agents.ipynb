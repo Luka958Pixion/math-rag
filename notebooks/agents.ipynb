{
 "cells": [
  {
   "cell_type": "code",
   "execution_count": 1,
   "metadata": {},
   "outputs": [],
   "source": [
    "from typing import TYPE_CHECKING\n",
    "\n",
    "\n",
    "if TYPE_CHECKING:\n",
    "    from math_rag.application.containers import ApplicationContainer\n",
    "    from math_rag.infrastructure.containers import InfrastructureContainer\n",
    "\n",
    "    application_container: ApplicationContainer\n",
    "    infrastructure_container: InfrastructureContainer"
   ]
  },
  {
   "cell_type": "code",
   "execution_count": 2,
   "metadata": {},
   "outputs": [
    {
     "name": "stderr",
     "output_type": "stream",
     "text": [
      "2025-07-15 04:43:02,973 - INFO - datasets - config.py:54 - PyTorch version 2.6.0 available.\n"
     ]
    }
   ],
   "source": [
    "RESET = False\n",
    "%load_ext hooks.notebook_hook"
   ]
  },
  {
   "cell_type": "markdown",
   "metadata": {},
   "source": [
    "### Jupyter"
   ]
  },
  {
   "cell_type": "code",
   "execution_count": 3,
   "metadata": {},
   "outputs": [],
   "source": [
    "jupyter_client = infrastructure_container.jupyter_client()\n",
    "\n",
    "from uuid import uuid4\n",
    "\n",
    "\n",
    "user_id = str(uuid4())"
   ]
  },
  {
   "cell_type": "markdown",
   "metadata": {},
   "source": [
    "### Agents"
   ]
  },
  {
   "cell_type": "code",
   "execution_count": null,
   "metadata": {},
   "outputs": [
    {
     "name": "stdout",
     "output_type": "stream",
     "text": [
      "Code repeats itself,  \n",
      "Functions within functions loop—  \n",
      "Infinite echoes.\n"
     ]
    }
   ],
   "source": [
    "from agents import Agent, Runner\n",
    "\n",
    "\n",
    "agent = Agent(\n",
    "    name='Assistant',\n",
    "    instructions='You are a helpful assistant',\n",
    "    output_type=str,\n",
    ")\n",
    "\n",
    "result = await Runner.run(agent, 'Write a haiku about recursion in programming.')\n",
    "print(result.final_output)"
   ]
  },
  {
   "cell_type": "code",
   "execution_count": null,
   "metadata": {},
   "outputs": [],
   "source": [
    "TODO = ...\n",
    "\n",
    "agent = Agent(\n",
    "    name=TODO,\n",
    "    instructions=TODO,\n",
    "    prompt=TODO,\n",
    "    handoff_description=TODO,\n",
    "    handoffs=TODO,\n",
    "    model=TODO,\n",
    "    model_settings=TODO,\n",
    "    tools=TODO,\n",
    "    mcp_servers=TODO,\n",
    "    mcp_config=TODO,\n",
    "    input_guardrails=TODO,\n",
    "    output_guardrails=TODO,\n",
    "    output_type=TODO,\n",
    "    hooks=TODO,\n",
    "    tool_use_behavior=TODO,\n",
    "    reset_tool_choice=TODO,\n",
    ")"
   ]
  },
  {
   "cell_type": "code",
   "execution_count": null,
   "metadata": {},
   "outputs": [],
   "source": [
    "# TODO use openai guardrail model"
   ]
  },
  {
   "cell_type": "code",
   "execution_count": null,
   "metadata": {},
   "outputs": [],
   "source": [
    "from typing import Optional\n",
    "\n",
    "import httpx\n",
    "\n",
    "from agents import FunctionTool, function_tool\n",
    "from agents.tool_context import ToolContext\n",
    "from pydantic import BaseModel, Field\n",
    "\n",
    "\n",
    "# Input model\n",
    "class SandboxExecuteParams(BaseModel):\n",
    "    user_id: str = Field(..., description=\"Identifier for the user's sandbox session\")\n",
    "    code: str = Field(..., description='Python code to run in the sandbox')\n",
    "    timeout: Optional[float] = Field(\n",
    "        None, description='Optional timeout in seconds (defaults to 30.0)'\n",
    "    )\n",
    "\n",
    "    def to_payload(self) -> dict:\n",
    "        return self.model_dump(exclude_none=True)\n",
    "\n",
    "    def to_json(self) -> str:\n",
    "        return self.model_dump_json(exclude_none=True)\n",
    "\n",
    "\n",
    "# Tool function\n",
    "async def _invoke_sandbox_tool(tool_context: ToolContext, args_json_str: str) -> str:\n",
    "    args = SandboxExecuteParams.model_validate_json(args_json_str)\n",
    "    async with httpx.AsyncClient() as client:\n",
    "        resp = await client.post(\n",
    "            'https://your-sandbox.example.com/execute',\n",
    "            json=args.to_payload(),\n",
    "            timeout=args.timeout or 30.0,\n",
    "        )\n",
    "        resp.raise_for_status()\n",
    "        body = resp.json()\n",
    "        return body.get('output', '')\n",
    "\n",
    "\n",
    "# Tool description\n",
    "SANDBOX_EXECUTE_TOOL_DESCRIPTION = (\n",
    "    'Execute Python code in the isolated sandbox. '\n",
    "    'Parameters: user_id (string), code (string), optional timeout (float). '\n",
    "    'Returns the stdout+stderr output.'\n",
    ")\n",
    "\n",
    "# Tool registration\n",
    "sandbox_execute_tool = FunctionTool(\n",
    "    name='sandbox_execute',\n",
    "    description=SANDBOX_EXECUTE_TOOL_DESCRIPTION,\n",
    "    params_json_schema=SandboxExecuteParams.model_json_schema(),\n",
    "    on_invoke_tool=_invoke_sandbox_tool,\n",
    "    strict_json_schema=True,\n",
    "    is_enabled=True,\n",
    ")"
   ]
  },
  {
   "cell_type": "code",
   "execution_count": null,
   "metadata": {},
   "outputs": [],
   "source": [
    "from agents import Handoff\n",
    "from agents.extensions.handoff_filters import remove_all_tools\n",
    "\n",
    "\n",
    "tool: FunctionTool = ...\n",
    "agent: Agent = ...\n",
    "\n",
    "handoff = Handoff(\n",
    "    tool_name=tool.name,\n",
    "    tool_description=tool.description,\n",
    "    input_json_schema=tool.params_json_schema,\n",
    "    on_invoke_handoff=tool.on_invoke_tool,\n",
    "    agent_name=agent.name,\n",
    "    input_filter=remove_all_tools,\n",
    "    strict_json_schema=True,\n",
    "    is_enabled=True,\n",
    ")"
   ]
  },
  {
   "cell_type": "code",
   "execution_count": null,
   "metadata": {},
   "outputs": [],
   "source": [
    "from agents import HandoffInputData\n",
    "\n",
    "\n",
    "def drop_pre_handoff_items(data: HandoffInputData) -> HandoffInputData:\n",
    "    \"\"\"\n",
    "    Remove everything generated before the handoff turn,\n",
    "    so the next agent only sees the original history + new_items.\n",
    "    \"\"\"\n",
    "    return HandoffInputData(\n",
    "        input_history=data.input_history,\n",
    "        pre_handoff_items=(),\n",
    "        new_items=data.new_items,\n",
    "    )\n",
    "\n",
    "\n",
    "def keep_last_5_new_items(data: HandoffInputData) -> HandoffInputData:\n",
    "    \"\"\"\n",
    "    Keep only the last 5 items from new_items,\n",
    "    preserving full history and pre_handoff_items.\n",
    "    \"\"\"\n",
    "    return HandoffInputData(\n",
    "        input_history=data.input_history,\n",
    "        pre_handoff_items=data.pre_handoff_items,\n",
    "        new_items=tuple(data.new_items[-5:]),\n",
    "    )"
   ]
  }
 ],
 "metadata": {
  "kernelspec": {
   "display_name": ".venv",
   "language": "python",
   "name": "python3"
  },
  "language_info": {
   "codemirror_mode": {
    "name": "ipython",
    "version": 3
   },
   "file_extension": ".py",
   "mimetype": "text/x-python",
   "name": "python",
   "nbconvert_exporter": "python",
   "pygments_lexer": "ipython3",
   "version": "3.12.7"
  }
 },
 "nbformat": 4,
 "nbformat_minor": 2
}
