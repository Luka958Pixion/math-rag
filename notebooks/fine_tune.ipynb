{
 "cells": [
  {
   "cell_type": "code",
   "execution_count": 1,
   "id": "f32ba622",
   "metadata": {},
   "outputs": [],
   "source": [
    "from typing import TYPE_CHECKING\n",
    "\n",
    "\n",
    "if TYPE_CHECKING:\n",
    "    from math_rag.application.containers import ApplicationContainer\n",
    "    from math_rag.infrastructure.containers import InfrastructureContainer\n",
    "\n",
    "    application_container: ApplicationContainer\n",
    "    infrastructure_container: InfrastructureContainer"
   ]
  },
  {
   "cell_type": "code",
   "execution_count": 2,
   "id": "0c020d58",
   "metadata": {},
   "outputs": [
    {
     "name": "stderr",
     "output_type": "stream",
     "text": [
      "2025-06-26 22:12:29,132 - INFO - datasets - config.py:54 - PyTorch version 2.6.0 available.\n"
     ]
    }
   ],
   "source": [
    "RESET = False\n",
    "%load_ext hooks.notebook_hook"
   ]
  },
  {
   "cell_type": "code",
   "execution_count": 3,
   "id": "7c10eb05",
   "metadata": {},
   "outputs": [],
   "source": [
    "pushgateway_client = infrastructure_container.pushgateway_client()\n",
    "prometheus_hpc_admin_client = infrastructure_container.prometheus_hpc_admin_client()\n",
    "\n",
    "pbs_pro_resources_used_pusher = infrastructure_container.pbs_pro_resources_used_pusher()\n",
    "gpu_stats_pusher = infrastructure_container.gpu_stats_pusher()"
   ]
  },
  {
   "cell_type": "code",
   "execution_count": 4,
   "id": "cd99803e",
   "metadata": {},
   "outputs": [],
   "source": [
    "job_id = '561566'"
   ]
  },
  {
   "cell_type": "code",
   "execution_count": null,
   "id": "105b8df2",
   "metadata": {},
   "outputs": [],
   "source": [
    "import asyncio\n",
    "\n",
    "\n",
    "async def push():\n",
    "    while True:\n",
    "        try:\n",
    "            await pbs_pro_resources_used_pusher.push(job_id)\n",
    "            await gpu_stats_pusher.push()\n",
    "            await asyncio.sleep(60)\n",
    "\n",
    "        except Exception as e:\n",
    "            print(e)\n",
    "            break\n",
    "\n",
    "\n",
    "await push()"
   ]
  },
  {
   "cell_type": "code",
   "execution_count": null,
   "id": "4b30ca21",
   "metadata": {},
   "outputs": [],
   "source": [
    "# PUSHGATEWAY_JOB = 'gpu_stat'\n",
    "\n",
    "# await pushgateway_client.delete_job(PUSHGATEWAY_JOB)\n",
    "\n",
    "# matchers = [f'pbs_job_cpu_percent{{job_id=\"{job_id}\"}}', f'pbs_job_mem_bytes{{job_id=\"{job_id}\"}}']\n",
    "# await prometheus_hpc_admin_client.delete_series(matchers)"
   ]
  },
  {
   "cell_type": "code",
   "execution_count": null,
   "id": "d1afebed",
   "metadata": {},
   "outputs": [],
   "source": [
    "await pushgateway_client.delete_job('gpu_stat')\n",
    "\n",
    "matchers = ['gpu_stats_util_percent', 'gpu_stats_mem_bytes']\n",
    "await prometheus_hpc_admin_client.delete_series(matchers)"
   ]
  }
 ],
 "metadata": {
  "kernelspec": {
   "display_name": ".venv",
   "language": "python",
   "name": "python3"
  },
  "language_info": {
   "codemirror_mode": {
    "name": "ipython",
    "version": 3
   },
   "file_extension": ".py",
   "mimetype": "text/x-python",
   "name": "python",
   "nbconvert_exporter": "python",
   "pygments_lexer": "ipython3",
   "version": "3.12.7"
  }
 },
 "nbformat": 4,
 "nbformat_minor": 5
}
