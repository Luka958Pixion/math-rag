{
 "cells": [
  {
   "cell_type": "code",
   "execution_count": 1,
   "id": "f32ba622",
   "metadata": {},
   "outputs": [],
   "source": [
    "from typing import TYPE_CHECKING\n",
    "\n",
    "\n",
    "if TYPE_CHECKING:\n",
    "    from math_rag.application.containers import ApplicationContainer\n",
    "    from math_rag.infrastructure.containers import InfrastructureContainer\n",
    "\n",
    "    application_container: ApplicationContainer\n",
    "    infrastructure_container: InfrastructureContainer"
   ]
  },
  {
   "cell_type": "code",
   "execution_count": 2,
   "id": "0c020d58",
   "metadata": {},
   "outputs": [
    {
     "name": "stderr",
     "output_type": "stream",
     "text": [
      "2025-06-26 15:46:23,765 - INFO - datasets - config.py:54 - PyTorch version 2.6.0 available.\n"
     ]
    }
   ],
   "source": [
    "RESET = False\n",
    "%load_ext hooks.notebook_hook"
   ]
  },
  {
   "cell_type": "code",
   "execution_count": 15,
   "id": "14c30b46",
   "metadata": {},
   "outputs": [],
   "source": [
    "hpc_client = infrastructure_container.hpc_client()\n",
    "pbs_pro_client = infrastructure_container.pbs_pro_client()"
   ]
  },
  {
   "cell_type": "code",
   "execution_count": null,
   "id": "af0dcb58",
   "metadata": {},
   "outputs": [],
   "source": [
    "gpu_stats = await hpc_client.gpu_statistics()"
   ]
  },
  {
   "cell_type": "code",
   "execution_count": 12,
   "id": "0dd766ec",
   "metadata": {},
   "outputs": [
    {
     "name": "stdout",
     "output_type": "stream",
     "text": [
      "job_id=561531\n",
      "    node='x8000c2s4b0n1' gpu='GPU-2' used_percent=98 mem_used=34260123648\n",
      "    node='x8000c2s4b0n1' gpu='GPU-0' used_percent=98 mem_used=34260123648\n"
     ]
    }
   ],
   "source": [
    "for entry in gpu_stats.entries:\n",
    "    print(f'job_id={entry.job_id}')\n",
    "\n",
    "    for sub_entry in entry.sub_entries:\n",
    "        print(f'    {sub_entry}')"
   ]
  },
  {
   "cell_type": "code",
   "execution_count": 13,
   "id": "48623f41",
   "metadata": {},
   "outputs": [
    {
     "name": "stderr",
     "output_type": "stream",
     "text": [
      "2025-06-26 15:51:50,766 - INFO - math_rag.infrastructure.clients.ssh_client - ssh_client.py:38 - Command `jobstat -u lpanic | awk 'NR>=4 {print $1, $2, $3, $4, $5, $6, $7, $8}'` in `run` returned stdout: \n"
     ]
    }
   ],
   "source": [
    "job_stats = await hpc_client.job_statistics()"
   ]
  },
  {
   "cell_type": "code",
   "execution_count": 14,
   "id": "304187a0",
   "metadata": {},
   "outputs": [
    {
     "data": {
      "text/plain": [
       "HPCJobStatistics(entries=[])"
      ]
     },
     "execution_count": 14,
     "metadata": {},
     "output_type": "execute_result"
    }
   ],
   "source": [
    "job_stats"
   ]
  },
  {
   "cell_type": "code",
   "execution_count": null,
   "id": "688c1408",
   "metadata": {},
   "outputs": [],
   "source": [
    "pbs_pro_job_full = await pbs_pro_client.queue_status_full('561538')"
   ]
  },
  {
   "cell_type": "code",
   "execution_count": 21,
   "id": "85c8ea5e",
   "metadata": {},
   "outputs": [
    {
     "data": {
      "text/plain": [
       "PBSProJobFull(id='561538.x3000c0s25b0n0.hsn.hpc.srce.hr', name='STDIN', owner='lpanic@x3000c0s27b0n0.hsn.hpc.srce.hr', state=<PBSProJobState.RUNNING: 'R'>, queue=<HPCQueue.CPU_SINGLE: 'cpu-single'>, server='x3000c0s25b0n0.hsn.hpc.srce.hr', checkpoint='u', exec_host='x8000c1s3b1n1/14', exec_vnode='(x8000c1s3b1n1:ncpus=1:mem=1048576kb)', error_path='/dev/pts/0', output_path='/dev/pts/0', dir=PosixPath('/lustre/home/lpanic'), hold_types=<PBSProHoldType.NONE: 'n'>, join_path=<PBSProJoinPath.NONE: 'n'>, keep_files=<PBSProKeepFiles.STDOUT_STDERR_DIRECT: 'oed'>, mail_points=<PBSProMailPoints.ABORT: 'a'>, substate=42, priority=0, session_id='473314', rerunable=False, run_count=1, submit_arguments='-koed -I -l select=1:ncpus=1:mem=1gb -l walltime=01:00:00', project='_pbs_project_default', submit_host='x3000c0s27b0n0.hsn.hpc.srce.hr', created=datetime.datetime(2025, 6, 26, 17, 58, 46), queued=datetime.datetime(2025, 6, 26, 17, 58, 46), modified=datetime.datetime(2025, 6, 26, 18, 3, 58), started=datetime.datetime(2025, 6, 26, 17, 58, 47), eligible=datetime.datetime(2025, 6, 26, 17, 58, 46), eligible_delta=datetime.timedelta(seconds=5), resource_list=PBSProResourceList(mem=1000000000, num_cpus=1, num_gpus=0, num_nodes=1, place='free', select='1:ncpus=1:mem=1gb', wall_time=datetime.timedelta(seconds=3600)), resources_used=PBSProResourcesUsed(cpu_percent=3, cpu_time=datetime.timedelta(seconds=7), num_cpus=1, mem=14116000, vmem=34292000, wall_time=datetime.timedelta(seconds=308)), variable_list=PBSProVariableList(home=PosixPath('/lustre/home/lpanic'), paths=[PosixPath('/lustre/home/lpanic/.local/bin'), PosixPath('/lustre/home/lpanic/bin'), PosixPath('/opt/clmgr/sbin'), PosixPath('/opt/clmgr/bin'), PosixPath('/opt/sgi/sbin'), PosixPath('/opt/sgi/bin'), PosixPath('/usr/share/Modules/bin'), PosixPath('/usr/local/bin'), PosixPath('/usr/bin'), PosixPath('/usr/local/sbin'), PosixPath('/usr/sbin'), PosixPath('/opt/c3/bin'), PosixPath('/opt/pbs/bin'), PosixPath('/sbin'), PosixPath('/bin')], mail=PosixPath('/var/spool/mail/lpanic'), shell='/bin/bash', workdir=PosixPath('/lustre/home/lpanic'), host='x3000c0s27b0n0.hsn.hpc.srce.hr', lang='en_US.UTF-8', logname='lpanic', system='Linux', queue='RouteQ', tz=None, environment=None, jobdir=None, jobid=None, jobname=None, nodefile=None, execution_queue=None, tmpdir=None))"
      ]
     },
     "execution_count": 21,
     "metadata": {},
     "output_type": "execute_result"
    }
   ],
   "source": [
    "pbs_pro_job_full"
   ]
  },
  {
   "cell_type": "code",
   "execution_count": null,
   "id": "105b8df2",
   "metadata": {},
   "outputs": [],
   "source": [
    "import asyncio\n",
    "\n",
    "from prometheus_client import CollectorRegistry, Gauge, push_to_gateway\n",
    "\n",
    "\n",
    "registry = CollectorRegistry()\n",
    "cpu_gauge = Gauge('pbs_job_cpu_percent', 'CPU percentage of PBS job', ['jobid'], registry=registry)\n",
    "mem_gauge = Gauge(\n",
    "    'pbs_job_mem_bytes', 'Memory usage in bytes of PBS job', ['jobid'], registry=registry\n",
    ")\n",
    "\n",
    "pushgateway_addr = 'host.docker.internal:9096'\n",
    "jobid = '561538'\n",
    "\n",
    "while True:\n",
    "    pbs_pro_job_full = await client.queue_status_full(jobid)  # TODO\n",
    "    ru = pbs_pro_job_full.resources_used\n",
    "\n",
    "    cpu_gauge.labels(jobid=jobid).set(ru.cpu_percent)\n",
    "\n",
    "    push_to_gateway(pushgateway_addr, job='pbs_monitor', registry=registry)\n",
    "\n",
    "    await asyncio.sleep(5)"
   ]
  }
 ],
 "metadata": {
  "kernelspec": {
   "display_name": ".venv",
   "language": "python",
   "name": "python3"
  },
  "language_info": {
   "codemirror_mode": {
    "name": "ipython",
    "version": 3
   },
   "file_extension": ".py",
   "mimetype": "text/x-python",
   "name": "python",
   "nbconvert_exporter": "python",
   "pygments_lexer": "ipython3",
   "version": "3.12.7"
  }
 },
 "nbformat": 4,
 "nbformat_minor": 5
}
