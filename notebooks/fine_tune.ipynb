{
 "cells": [
  {
   "cell_type": "code",
   "execution_count": 1,
   "id": "f32ba622",
   "metadata": {},
   "outputs": [],
   "source": [
    "from typing import TYPE_CHECKING\n",
    "\n",
    "\n",
    "if TYPE_CHECKING:\n",
    "    from math_rag.application.containers import ApplicationContainer\n",
    "    from math_rag.infrastructure.containers import InfrastructureContainer\n",
    "\n",
    "    application_container: ApplicationContainer\n",
    "    infrastructure_container: InfrastructureContainer"
   ]
  },
  {
   "cell_type": "code",
   "execution_count": 2,
   "id": "0c020d58",
   "metadata": {},
   "outputs": [
    {
     "name": "stderr",
     "output_type": "stream",
     "text": [
      "2025-06-26 20:25:24,449 - INFO - datasets - config.py:54 - PyTorch version 2.6.0 available.\n"
     ]
    }
   ],
   "source": [
    "RESET = False\n",
    "%load_ext hooks.notebook_hook"
   ]
  },
  {
   "cell_type": "code",
   "execution_count": 3,
   "id": "14c30b46",
   "metadata": {},
   "outputs": [],
   "source": [
    "hpc_client = infrastructure_container.hpc_client()\n",
    "pbs_pro_client = infrastructure_container.pbs_pro_client()"
   ]
  },
  {
   "cell_type": "code",
   "execution_count": 4,
   "id": "af0dcb58",
   "metadata": {},
   "outputs": [
    {
     "name": "stderr",
     "output_type": "stream",
     "text": [
      "2025-06-26 20:25:29,823 - INFO - math_rag.infrastructure.clients.ssh_client - ssh_client.py:53 - Command `gpustat | awk 'NR>=3 {print $1\"_\"$2\"_\"$3\"_\"$4\"_\"$5\"_\"$6\"_\"$7}'` in `run` returned stdout: 561561_x8000c2s4b0n1_GPU-0_0_%_5_MiB\n",
      "x8000c2s4b0n1_GPU-1_0_%_5_MiB_\n"
     ]
    }
   ],
   "source": [
    "gpu_stats = await hpc_client.gpu_statistics()"
   ]
  },
  {
   "cell_type": "code",
   "execution_count": 5,
   "id": "0dd766ec",
   "metadata": {},
   "outputs": [
    {
     "name": "stdout",
     "output_type": "stream",
     "text": [
      "job_id=561561\n",
      "    node='x8000c2s4b0n1' gpu='GPU-0' used_percent=0 mem_used=5242880\n",
      "    node='x8000c2s4b0n1' gpu='GPU-1' used_percent=0 mem_used=5242880\n"
     ]
    }
   ],
   "source": [
    "for entry in gpu_stats.entries:\n",
    "    print(f'job_id={entry.job_id}')\n",
    "\n",
    "    for sub_entry in entry.sub_entries:\n",
    "        print(f'    {sub_entry}')"
   ]
  },
  {
   "cell_type": "code",
   "execution_count": 6,
   "id": "7c10eb05",
   "metadata": {},
   "outputs": [],
   "source": [
    "pushgateway_client = infrastructure_container.pushgateway_client()\n",
    "prometheus_hpc_admin_client = infrastructure_container.prometheus_hpc_admin_client()\n",
    "\n",
    "pushgateway_base_url = infrastructure_container.config.pushgateway.base_url.provided()"
   ]
  },
  {
   "cell_type": "code",
   "execution_count": 7,
   "id": "cd99803e",
   "metadata": {},
   "outputs": [],
   "source": [
    "PUSHGATEWAY_JOB = 'pbs_monitor'\n",
    "job_id = '561561'"
   ]
  },
  {
   "cell_type": "code",
   "execution_count": 8,
   "id": "105b8df2",
   "metadata": {},
   "outputs": [],
   "source": [
    "import asyncio\n",
    "\n",
    "from prometheus_client import CollectorRegistry, Gauge, push_to_gateway\n",
    "\n",
    "\n",
    "registry = CollectorRegistry()\n",
    "cpu_percent_gauge = Gauge(\n",
    "    'pbs_job_cpu_percent', 'CPU percentage of PBS job', ['job_id'], registry=registry\n",
    ")\n",
    "cpu_time_gauge = Gauge(\n",
    "    'pbs_job_cpu_seconds_total',\n",
    "    'Total CPU time of PBS job in seconds',\n",
    "    ['job_id'],\n",
    "    registry=registry,\n",
    ")\n",
    "num_cpus_gauge = Gauge(\n",
    "    'pbs_job_num_cpus', 'Number of CPUs allocated to PBS job', ['job_id'], registry=registry\n",
    ")\n",
    "mem_bytes_gauge = Gauge(\n",
    "    'pbs_job_mem_bytes', 'Resident memory bytes of PBS job', ['job_id'], registry=registry\n",
    ")\n",
    "vmem_bytes_gauge = Gauge(\n",
    "    'pbs_job_vmem_bytes', 'Virtual memory bytes of PBS job', ['job_id'], registry=registry\n",
    ")\n",
    "wall_time_gauge = Gauge(\n",
    "    'pbs_job_wall_seconds_total',\n",
    "    'Wall clock time of PBS job in seconds',\n",
    "    ['job_id'],\n",
    "    registry=registry,\n",
    ")\n",
    "\n",
    "\n",
    "async def push_resources():\n",
    "    while True:\n",
    "        pbs_pro_job_full = await pbs_pro_client.queue_status_full(job_id)\n",
    "        ru = pbs_pro_job_full.resources_used\n",
    "\n",
    "        cpu_percent_gauge.labels(job_id=job_id).set(ru.cpu_percent)\n",
    "        cpu_time_gauge.labels(job_id=job_id).set(ru.cpu_time.total_seconds())\n",
    "        num_cpus_gauge.labels(job_id=job_id).set(ru.num_cpus)\n",
    "        mem_bytes_gauge.labels(job_id=job_id).set(ru.mem)\n",
    "        vmem_bytes_gauge.labels(job_id=job_id).set(ru.vmem)\n",
    "        wall_time_gauge.labels(job_id=job_id).set(ru.wall_time.total_seconds())\n",
    "\n",
    "        push_to_gateway(pushgateway_base_url, job=job_id, registry=registry)\n",
    "        await asyncio.sleep(10)"
   ]
  },
  {
   "cell_type": "code",
   "execution_count": null,
   "id": "4769bf6f",
   "metadata": {},
   "outputs": [],
   "source": [
    "await push_resources()"
   ]
  },
  {
   "cell_type": "code",
   "execution_count": 12,
   "id": "b2b15282",
   "metadata": {},
   "outputs": [],
   "source": [
    "import asyncio\n",
    "\n",
    "from prometheus_client import CollectorRegistry, Gauge, push_to_gateway\n",
    "\n",
    "\n",
    "registry = CollectorRegistry()\n",
    "gpu_util_percent_gauge = Gauge(\n",
    "    'pbs_job_gpu_util_percent',\n",
    "    'GPU utilization percent of PBS job',\n",
    "    ['job_id', 'node', 'gpu'],\n",
    "    registry=registry,\n",
    ")\n",
    "gpu_mem_bytes_gauge = Gauge(\n",
    "    'pbs_job_gpu_mem_bytes',\n",
    "    'GPU memory used (bytes) of PBS job',\n",
    "    ['job_id', 'node', 'gpu'],\n",
    "    registry=registry,\n",
    ")\n",
    "\n",
    "\n",
    "async def push_gpu_stats():\n",
    "    prev_labels: set[tuple[str, str, str]] = set()\n",
    "    while True:\n",
    "        gpu_stats = await hpc_client.gpu_statistics()\n",
    "\n",
    "        # collect current label sets\n",
    "        current_labels: set[tuple[str, str, str]] = set()\n",
    "        for entry in gpu_stats.entries:\n",
    "            jid = str(entry.job_id)\n",
    "            for sub in entry.sub_entries:\n",
    "                current_labels.add((jid, sub.node, sub.gpu))\n",
    "\n",
    "        # remove metrics for labels that disappeared\n",
    "        for jid, node, gpu in prev_labels - current_labels:\n",
    "            gpu_util_percent_gauge.remove(job_id=jid, node=node, gpu=gpu)\n",
    "            gpu_mem_bytes_gauge.remove(job_id=jid, node=node, gpu=gpu)\n",
    "\n",
    "        # update prev_labels\n",
    "        prev_labels = current_labels\n",
    "\n",
    "        # set new metrics\n",
    "        for entry in gpu_stats.entries:\n",
    "            jid = str(entry.job_id)\n",
    "            for sub in entry.sub_entries:\n",
    "                gpu_util_percent_gauge.labels(job_id=jid, node=sub.node, gpu=sub.gpu).set(\n",
    "                    sub.used_percent\n",
    "                )\n",
    "                gpu_mem_bytes_gauge.labels(job_id=jid, node=sub.node, gpu=sub.gpu).set(sub.mem_used)\n",
    "\n",
    "        # push all at once\n",
    "        push_to_gateway(pushgateway_base_url, job='gpu_stats', registry=registry)\n",
    "\n",
    "        await asyncio.sleep(10)"
   ]
  },
  {
   "cell_type": "code",
   "execution_count": null,
   "id": "e60d9cfe",
   "metadata": {},
   "outputs": [],
   "source": [
    "await push_gpu_stats()"
   ]
  },
  {
   "cell_type": "code",
   "execution_count": 8,
   "id": "4b30ca21",
   "metadata": {},
   "outputs": [],
   "source": [
    "await pushgateway_client.delete_job(PUSHGATEWAY_JOB)\n",
    "\n",
    "matchers = [f'pbs_job_cpu_percent{{job_id=\"{job_id}\"}}', f'pbs_job_mem_bytes{{job_id=\"{job_id}\"}}']\n",
    "await prometheus_hpc_admin_client.delete_series(matchers)"
   ]
  }
 ],
 "metadata": {
  "kernelspec": {
   "display_name": ".venv",
   "language": "python",
   "name": "python3"
  },
  "language_info": {
   "codemirror_mode": {
    "name": "ipython",
    "version": 3
   },
   "file_extension": ".py",
   "mimetype": "text/x-python",
   "name": "python",
   "nbconvert_exporter": "python",
   "pygments_lexer": "ipython3",
   "version": "3.12.7"
  }
 },
 "nbformat": 4,
 "nbformat_minor": 5
}
