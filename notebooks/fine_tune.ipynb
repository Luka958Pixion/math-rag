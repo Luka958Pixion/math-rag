{
 "cells": [
  {
   "cell_type": "code",
   "execution_count": null,
   "id": "f32ba622",
   "metadata": {},
   "outputs": [],
   "source": [
    "from typing import TYPE_CHECKING\n",
    "\n",
    "\n",
    "if TYPE_CHECKING:\n",
    "    from math_rag.application.containers import ApplicationContainer\n",
    "    from math_rag.infrastructure.containers import InfrastructureContainer\n",
    "\n",
    "    application_container: ApplicationContainer\n",
    "    infrastructure_container: InfrastructureContainer"
   ]
  },
  {
   "cell_type": "code",
   "execution_count": null,
   "id": "0c020d58",
   "metadata": {},
   "outputs": [],
   "source": [
    "RESET = False\n",
    "%load_ext hooks.notebook_hook"
   ]
  },
  {
   "cell_type": "code",
   "execution_count": 4,
   "id": "17b75cc6",
   "metadata": {},
   "outputs": [],
   "source": [
    "fine_tune_job_runner_service = infrastructure_container.fine_tune_job_runner_service()"
   ]
  },
  {
   "cell_type": "code",
   "execution_count": null,
   "id": "d6b5e668",
   "metadata": {},
   "outputs": [],
   "source": [
    "await fine_tune_job_runner_service.init_resources()"
   ]
  },
  {
   "cell_type": "code",
   "execution_count": 6,
   "id": "ad0066e6",
   "metadata": {},
   "outputs": [],
   "source": [
    "from math_rag.core.models import FineTuneJob\n",
    "\n",
    "\n",
    "fine_tune_job = FineTuneJob(provider_name='meta-llama', model_name='Llama-3.1-8B-Instruct')"
   ]
  },
  {
   "cell_type": "code",
   "execution_count": null,
   "id": "24ab4173",
   "metadata": {},
   "outputs": [],
   "source": [
    "await fine_tune_job_runner_service.run(fine_tune_job, poll_interval=5 * 60)"
   ]
  }
 ],
 "metadata": {
  "kernelspec": {
   "display_name": ".venv",
   "language": "python",
   "name": "python3"
  },
  "language_info": {
   "codemirror_mode": {
    "name": "ipython",
    "version": 3
   },
   "file_extension": ".py",
   "mimetype": "text/x-python",
   "name": "python",
   "nbconvert_exporter": "python",
   "pygments_lexer": "ipython3",
   "version": "3.12.7"
  }
 },
 "nbformat": 4,
 "nbformat_minor": 5
}
