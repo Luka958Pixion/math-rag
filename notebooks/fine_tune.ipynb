{
 "cells": [
  {
   "cell_type": "code",
   "execution_count": 1,
   "id": "f32ba622",
   "metadata": {},
   "outputs": [],
   "source": [
    "%load_ext autoreload\n",
    "%autoreload 2\n",
    "\n",
    "import os\n",
    "import sys\n",
    "\n",
    "import nest_asyncio\n",
    "\n",
    "\n",
    "sys.path.insert(0, os.path.abspath('..'))\n",
    "nest_asyncio.apply()"
   ]
  },
  {
   "cell_type": "code",
   "execution_count": 2,
   "id": "0c020d58",
   "metadata": {},
   "outputs": [],
   "source": [
    "import logging\n",
    "\n",
    "\n",
    "logging.basicConfig(level=logging.INFO, format='%(asctime)s - %(levelname)s - %(message)s')"
   ]
  },
  {
   "cell_type": "code",
   "execution_count": 3,
   "id": "14ca980c",
   "metadata": {},
   "outputs": [
    {
     "name": "stderr",
     "output_type": "stream",
     "text": [
      "2025-06-14 18:51:11,926 - INFO - PyTorch version 2.6.0 available.\n",
      "2025-06-14 18:51:12,198 - INFO - HTTP Request: GET http://qdrant:6333 \"HTTP/1.1 200 OK\"\n",
      "2025-06-14 18:51:12,202 - INFO - HTTP Request: GET http://qdrant:6333/collections/mathexpressiondescriptionembedding/exists \"HTTP/1.1 200 OK\"\n"
     ]
    }
   ],
   "source": [
    "from math_rag.infrastructure.containers import InfrastructureContainer\n",
    "\n",
    "\n",
    "RESET = False\n",
    "\n",
    "# containers\n",
    "infrastructure_container = InfrastructureContainer()\n",
    "infrastructure_container.init_resources()\n",
    "infrastructure_container.wire(modules=[__name__])\n",
    "\n",
    "application_container = infrastructure_container.application_container()\n",
    "application_container.init_resources()\n",
    "application_container.wire(modules=[__name__])\n",
    "\n",
    "# seed\n",
    "for object_seeder in infrastructure_container.object_seeders():\n",
    "    object_seeder.seed(reset=RESET)\n",
    "\n",
    "for document_seeder in infrastructure_container.document_seeders():\n",
    "    await document_seeder.seed(reset=RESET)\n",
    "\n",
    "for embedding_seeder in infrastructure_container.embedding_seeders():\n",
    "    await embedding_seeder.seed(reset=RESET)\n",
    "\n",
    "# index\n",
    "for document_indexer in infrastructure_container.document_indexers():\n",
    "    await document_indexer.index(reset=RESET)"
   ]
  },
  {
   "cell_type": "code",
   "execution_count": 4,
   "id": "17b75cc6",
   "metadata": {},
   "outputs": [],
   "source": [
    "fine_tune_job_runner_service = infrastructure_container.fine_tune_job_runner_service()"
   ]
  },
  {
   "cell_type": "code",
   "execution_count": null,
   "id": "d6b5e668",
   "metadata": {},
   "outputs": [],
   "source": [
    "await fine_tune_job_runner_service.init_resources()"
   ]
  },
  {
   "cell_type": "code",
   "execution_count": 6,
   "id": "ad0066e6",
   "metadata": {},
   "outputs": [],
   "source": [
    "from math_rag.core.models import FineTuneJob\n",
    "\n",
    "\n",
    "fine_tune_job = FineTuneJob(provider_name='meta-llama', model_name='Llama-3.1-8B-Instruct')"
   ]
  },
  {
   "cell_type": "code",
   "execution_count": null,
   "id": "24ab4173",
   "metadata": {},
   "outputs": [],
   "source": [
    "await fine_tune_job_runner_service.run(fine_tune_job, poll_interval=5 * 60)"
   ]
  }
 ],
 "metadata": {
  "kernelspec": {
   "display_name": ".venv",
   "language": "python",
   "name": "python3"
  },
  "language_info": {
   "codemirror_mode": {
    "name": "ipython",
    "version": 3
   },
   "file_extension": ".py",
   "mimetype": "text/x-python",
   "name": "python",
   "nbconvert_exporter": "python",
   "pygments_lexer": "ipython3",
   "version": "3.12.7"
  }
 },
 "nbformat": 4,
 "nbformat_minor": 5
}
