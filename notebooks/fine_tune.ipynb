{
 "cells": [
  {
   "cell_type": "code",
   "execution_count": 1,
   "id": "f32ba622",
   "metadata": {},
   "outputs": [],
   "source": [
    "from typing import TYPE_CHECKING\n",
    "\n",
    "\n",
    "if TYPE_CHECKING:\n",
    "    from math_rag.application.containers import ApplicationContainer\n",
    "    from math_rag.infrastructure.containers import InfrastructureContainer\n",
    "\n",
    "    application_container: ApplicationContainer\n",
    "    infrastructure_container: InfrastructureContainer"
   ]
  },
  {
   "cell_type": "code",
   "execution_count": 2,
   "id": "0c020d58",
   "metadata": {},
   "outputs": [
    {
     "name": "stderr",
     "output_type": "stream",
     "text": [
      "2025-06-26 19:57:58,599 - INFO - datasets - config.py:54 - PyTorch version 2.6.0 available.\n"
     ]
    }
   ],
   "source": [
    "RESET = False\n",
    "%load_ext hooks.notebook_hook"
   ]
  },
  {
   "cell_type": "code",
   "execution_count": 15,
   "id": "14c30b46",
   "metadata": {},
   "outputs": [],
   "source": [
    "hpc_client = infrastructure_container.hpc_client()\n",
    "pbs_pro_client = infrastructure_container.pbs_pro_client()"
   ]
  },
  {
   "cell_type": "code",
   "execution_count": null,
   "id": "af0dcb58",
   "metadata": {},
   "outputs": [],
   "source": [
    "gpu_stats = await hpc_client.gpu_statistics()"
   ]
  },
  {
   "cell_type": "code",
   "execution_count": 12,
   "id": "0dd766ec",
   "metadata": {},
   "outputs": [
    {
     "name": "stdout",
     "output_type": "stream",
     "text": [
      "job_id=561531\n",
      "    node='x8000c2s4b0n1' gpu='GPU-2' used_percent=98 mem_used=34260123648\n",
      "    node='x8000c2s4b0n1' gpu='GPU-0' used_percent=98 mem_used=34260123648\n"
     ]
    }
   ],
   "source": [
    "for entry in gpu_stats.entries:\n",
    "    print(f'job_id={entry.job_id}')\n",
    "\n",
    "    for sub_entry in entry.sub_entries:\n",
    "        print(f'    {sub_entry}')"
   ]
  },
  {
   "cell_type": "code",
   "execution_count": 13,
   "id": "48623f41",
   "metadata": {},
   "outputs": [
    {
     "name": "stderr",
     "output_type": "stream",
     "text": [
      "2025-06-26 15:51:50,766 - INFO - math_rag.infrastructure.clients.ssh_client - ssh_client.py:38 - Command `jobstat -u lpanic | awk 'NR>=4 {print $1, $2, $3, $4, $5, $6, $7, $8}'` in `run` returned stdout: \n"
     ]
    }
   ],
   "source": [
    "job_stats = await hpc_client.job_statistics()"
   ]
  },
  {
   "cell_type": "code",
   "execution_count": 14,
   "id": "304187a0",
   "metadata": {},
   "outputs": [
    {
     "data": {
      "text/plain": [
       "HPCJobStatistics(entries=[])"
      ]
     },
     "execution_count": 14,
     "metadata": {},
     "output_type": "execute_result"
    }
   ],
   "source": [
    "job_stats"
   ]
  },
  {
   "cell_type": "code",
   "execution_count": null,
   "id": "688c1408",
   "metadata": {},
   "outputs": [],
   "source": [
    "pbs_pro_job_full = await pbs_pro_client.queue_status_full('561538')"
   ]
  },
  {
   "cell_type": "code",
   "execution_count": 21,
   "id": "85c8ea5e",
   "metadata": {},
   "outputs": [
    {
     "data": {
      "text/plain": [
       "PBSProJobFull(id='561538.x3000c0s25b0n0.hsn.hpc.srce.hr', name='STDIN', owner='lpanic@x3000c0s27b0n0.hsn.hpc.srce.hr', state=<PBSProJobState.RUNNING: 'R'>, queue=<HPCQueue.CPU_SINGLE: 'cpu-single'>, server='x3000c0s25b0n0.hsn.hpc.srce.hr', checkpoint='u', exec_host='x8000c1s3b1n1/14', exec_vnode='(x8000c1s3b1n1:ncpus=1:mem=1048576kb)', error_path='/dev/pts/0', output_path='/dev/pts/0', dir=PosixPath('/lustre/home/lpanic'), hold_types=<PBSProHoldType.NONE: 'n'>, join_path=<PBSProJoinPath.NONE: 'n'>, keep_files=<PBSProKeepFiles.STDOUT_STDERR_DIRECT: 'oed'>, mail_points=<PBSProMailPoints.ABORT: 'a'>, substate=42, priority=0, session_id='473314', rerunable=False, run_count=1, submit_arguments='-koed -I -l select=1:ncpus=1:mem=1gb -l walltime=01:00:00', project='_pbs_project_default', submit_host='x3000c0s27b0n0.hsn.hpc.srce.hr', created=datetime.datetime(2025, 6, 26, 17, 58, 46), queued=datetime.datetime(2025, 6, 26, 17, 58, 46), modified=datetime.datetime(2025, 6, 26, 18, 3, 58), started=datetime.datetime(2025, 6, 26, 17, 58, 47), eligible=datetime.datetime(2025, 6, 26, 17, 58, 46), eligible_delta=datetime.timedelta(seconds=5), resource_list=PBSProResourceList(mem=1000000000, num_cpus=1, num_gpus=0, num_nodes=1, place='free', select='1:ncpus=1:mem=1gb', wall_time=datetime.timedelta(seconds=3600)), resources_used=PBSProResourcesUsed(cpu_percent=3, cpu_time=datetime.timedelta(seconds=7), num_cpus=1, mem=14116000, vmem=34292000, wall_time=datetime.timedelta(seconds=308)), variable_list=PBSProVariableList(home=PosixPath('/lustre/home/lpanic'), paths=[PosixPath('/lustre/home/lpanic/.local/bin'), PosixPath('/lustre/home/lpanic/bin'), PosixPath('/opt/clmgr/sbin'), PosixPath('/opt/clmgr/bin'), PosixPath('/opt/sgi/sbin'), PosixPath('/opt/sgi/bin'), PosixPath('/usr/share/Modules/bin'), PosixPath('/usr/local/bin'), PosixPath('/usr/bin'), PosixPath('/usr/local/sbin'), PosixPath('/usr/sbin'), PosixPath('/opt/c3/bin'), PosixPath('/opt/pbs/bin'), PosixPath('/sbin'), PosixPath('/bin')], mail=PosixPath('/var/spool/mail/lpanic'), shell='/bin/bash', workdir=PosixPath('/lustre/home/lpanic'), host='x3000c0s27b0n0.hsn.hpc.srce.hr', lang='en_US.UTF-8', logname='lpanic', system='Linux', queue='RouteQ', tz=None, environment=None, jobdir=None, jobid=None, jobname=None, nodefile=None, execution_queue=None, tmpdir=None))"
      ]
     },
     "execution_count": 21,
     "metadata": {},
     "output_type": "execute_result"
    }
   ],
   "source": [
    "pbs_pro_job_full"
   ]
  },
  {
   "cell_type": "code",
   "execution_count": null,
   "id": "7c10eb05",
   "metadata": {},
   "outputs": [],
   "source": [
    "pushgateway_client = infrastructure_container.pushgateway_client()\n",
    "prometheus_hpc_admin_client = infrastructure_container.prometheus_hpc_admin_client()\n",
    "\n",
    "pushgateway_base_url = infrastructure_container.config.pushgateway.base_url.provided()"
   ]
  },
  {
   "cell_type": "code",
   "execution_count": 5,
   "id": "cd99803e",
   "metadata": {},
   "outputs": [],
   "source": [
    "PUSHGATEWAY_JOB = 'pbs_monitor'\n",
    "job_id = '561538'"
   ]
  },
  {
   "cell_type": "code",
   "execution_count": null,
   "id": "105b8df2",
   "metadata": {},
   "outputs": [],
   "source": [
    "import asyncio\n",
    "\n",
    "from prometheus_client import CollectorRegistry, Gauge, push_to_gateway\n",
    "\n",
    "\n",
    "registry = CollectorRegistry()\n",
    "cpu_percent_gauge = Gauge(\n",
    "    'pbs_job_cpu_percent', 'CPU percentage of PBS job', ['job_id'], registry=registry\n",
    ")\n",
    "cpu_time_gauge = Gauge(\n",
    "    'pbs_job_cpu_seconds_total',\n",
    "    'Total CPU time of PBS job in seconds',\n",
    "    ['job_id'],\n",
    "    registry=registry,\n",
    ")\n",
    "num_cpus_gauge = Gauge(\n",
    "    'pbs_job_num_cpus', 'Number of CPUs allocated to PBS job', ['job_id'], registry=registry\n",
    ")\n",
    "mem_bytes_gauge = Gauge(\n",
    "    'pbs_job_mem_bytes', 'Resident memory bytes of PBS job', ['job_id'], registry=registry\n",
    ")\n",
    "vmem_bytes_gauge = Gauge(\n",
    "    'pbs_job_vmem_bytes', 'Virtual memory bytes of PBS job', ['job_id'], registry=registry\n",
    ")\n",
    "wall_time_gauge = Gauge(\n",
    "    'pbs_job_wall_seconds_total',\n",
    "    'Wall clock time of PBS job in seconds',\n",
    "    ['job_id'],\n",
    "    registry=registry,\n",
    ")\n",
    "\n",
    "\n",
    "async def push_resources():\n",
    "    while True:\n",
    "        pbs_pro_job_full = await pbs_pro_client.queue_status_full(job_id)\n",
    "        ru = pbs_pro_job_full.resources_used\n",
    "\n",
    "        cpu_percent_gauge.labels(job_id=job_id).set(ru.cpu_percent)\n",
    "        cpu_time_gauge.labels(job_id=job_id).set(ru.cpu_time.total_seconds())\n",
    "        num_cpus_gauge.labels(job_id=job_id).set(ru.num_cpus)\n",
    "        mem_bytes_gauge.labels(job_id=job_id).set(ru.mem)\n",
    "        vmem_bytes_gauge.labels(job_id=job_id).set(ru.vmem)\n",
    "        wall_time_gauge.labels(job_id=job_id).set(ru.wall_time.total_seconds())\n",
    "\n",
    "        push_to_gateway(pushgateway_base_url, job=job_id, registry=registry)\n",
    "        await asyncio.sleep(5)"
   ]
  },
  {
   "cell_type": "code",
   "execution_count": 2,
   "id": "777ef30e",
   "metadata": {},
   "outputs": [
    {
     "ename": "CancelledError",
     "evalue": "",
     "output_type": "error",
     "traceback": [
      "\u001b[0;31m---------------------------------------------------------------------------\u001b[0m",
      "\u001b[0;31mCancelledError\u001b[0m                            Traceback (most recent call last)",
      "Cell \u001b[0;32mIn[2], line 1\u001b[0m\n\u001b[0;32m----> 1\u001b[0m \u001b[38;5;28;01mawait\u001b[39;00m push_loop()\n",
      "Cell \u001b[0;32mIn[1], line 40\u001b[0m, in \u001b[0;36mpush_loop\u001b[0;34m()\u001b[0m\n\u001b[1;32m     33\u001b[0m mem_gauge\u001b[38;5;241m.\u001b[39mlabels(job_id\u001b[38;5;241m=\u001b[39mjob_id)\u001b[38;5;241m.\u001b[39mset(random\u001b[38;5;241m.\u001b[39mrandom())\n\u001b[1;32m     35\u001b[0m push_to_gateway(\n\u001b[1;32m     36\u001b[0m     pushgateway_addr,\n\u001b[1;32m     37\u001b[0m     job\u001b[38;5;241m=\u001b[39m\u001b[38;5;124m'\u001b[39m\u001b[38;5;124mpbs_monitor\u001b[39m\u001b[38;5;124m'\u001b[39m,\n\u001b[1;32m     38\u001b[0m     registry\u001b[38;5;241m=\u001b[39mregistry\n\u001b[1;32m     39\u001b[0m )\n\u001b[0;32m---> 40\u001b[0m \u001b[38;5;28;01mawait\u001b[39;00m asyncio\u001b[38;5;241m.\u001b[39msleep(\u001b[38;5;241m5\u001b[39m)\n",
      "File \u001b[0;32m/usr/local/lib/python3.12/asyncio/tasks.py:665\u001b[0m, in \u001b[0;36msleep\u001b[0;34m(delay, result)\u001b[0m\n\u001b[1;32m    661\u001b[0m h \u001b[38;5;241m=\u001b[39m loop\u001b[38;5;241m.\u001b[39mcall_later(delay,\n\u001b[1;32m    662\u001b[0m                     futures\u001b[38;5;241m.\u001b[39m_set_result_unless_cancelled,\n\u001b[1;32m    663\u001b[0m                     future, result)\n\u001b[1;32m    664\u001b[0m \u001b[38;5;28;01mtry\u001b[39;00m:\n\u001b[0;32m--> 665\u001b[0m     \u001b[38;5;28;01mreturn\u001b[39;00m \u001b[38;5;28;01mawait\u001b[39;00m future\n\u001b[1;32m    666\u001b[0m \u001b[38;5;28;01mfinally\u001b[39;00m:\n\u001b[1;32m    667\u001b[0m     h\u001b[38;5;241m.\u001b[39mcancel()\n",
      "\u001b[0;31mCancelledError\u001b[0m: "
     ]
    }
   ],
   "source": [
    "await push_loop()"
   ]
  },
  {
   "cell_type": "code",
   "execution_count": 8,
   "id": "4b30ca21",
   "metadata": {},
   "outputs": [],
   "source": [
    "await pushgateway_client.delete_job(PUSHGATEWAY_JOB)\n",
    "\n",
    "matchers = [f'pbs_job_cpu_percent{{job_id=\"{job_id}\"}}', f'pbs_job_mem_bytes{{job_id=\"{job_id}\"}}']\n",
    "await prometheus_hpc_admin_client.delete_series(matchers)"
   ]
  }
 ],
 "metadata": {
  "kernelspec": {
   "display_name": ".venv",
   "language": "python",
   "name": "python3"
  },
  "language_info": {
   "codemirror_mode": {
    "name": "ipython",
    "version": 3
   },
   "file_extension": ".py",
   "mimetype": "text/x-python",
   "name": "python",
   "nbconvert_exporter": "python",
   "pygments_lexer": "ipython3",
   "version": "3.12.7"
  }
 },
 "nbformat": 4,
 "nbformat_minor": 5
}
