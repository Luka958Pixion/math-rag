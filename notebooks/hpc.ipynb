{
 "cells": [
  {
   "cell_type": "code",
   "execution_count": 1,
   "metadata": {},
   "outputs": [],
   "source": [
    "%load_ext autoreload\n",
    "%autoreload 2\n",
    "\n",
    "import os\n",
    "import sys\n",
    "\n",
    "import nest_asyncio\n",
    "\n",
    "\n",
    "sys.path.insert(0, os.path.abspath('..'))\n",
    "nest_asyncio.apply()"
   ]
  },
  {
   "cell_type": "code",
   "execution_count": null,
   "metadata": {},
   "outputs": [],
   "source": [
    "from asyncio import run, sleep\n",
    "\n",
    "from asyncssh import connect"
   ]
  },
  {
   "cell_type": "code",
   "execution_count": null,
   "metadata": {},
   "outputs": [],
   "source": [
    "from math_rag.application.enums import (\n",
    "    ApptainerBuildStatus,\n",
    "    ApptainerOverlayCreateStatus,\n",
    ")\n",
    "from math_rag.infrastructure.services import (\n",
    "    ApptainerBuilderService,\n",
    "    ApptainerOverlayCreatorService,\n",
    ")\n",
    "\n",
    "\n",
    "apptainer_builder_service = ApptainerBuilderService()\n",
    "\n",
    "build_id = await apptainer_builder_service.build(...)\n",
    "max_retries = 3\n",
    "retry_count = 0\n",
    "\n",
    "while True:\n",
    "    status = await apptainer_builder_service.build_status(build_id)\n",
    "\n",
    "    if status == ApptainerBuildStatus.DONE:\n",
    "        break\n",
    "\n",
    "    if status == ApptainerBuildStatus.FAILED:\n",
    "        if retry_count < max_retries:\n",
    "            build_id = await apptainer_builder_service.build(...)\n",
    "            retry_count += 1\n",
    "\n",
    "        else:\n",
    "            raise Exception('Max retries reached')\n",
    "\n",
    "    await sleep(3)\n",
    "\n",
    "\n",
    "async for chunk in apptainer_builder_service.build_result(build_id):\n",
    "    pass"
   ]
  },
  {
   "cell_type": "code",
   "execution_count": null,
   "metadata": {},
   "outputs": [],
   "source": [
    "from pathlib import Path\n",
    "\n",
    "\n",
    "remote_dest_path = Path('/path/to/remote/dest')\n",
    "task_id = ...\n",
    "\n",
    "async with connect('hpc.computing.eu', username='your_user') as connection:\n",
    "    async with connection.start_sftp_client() as sftp:\n",
    "        async with sftp.open(str(remote_dest_path), 'wb') as remote_file:\n",
    "            async for chunk in apptainer_builder_service.build_result(task_id):\n",
    "                await remote_file.write(chunk)"
   ]
  },
  {
   "cell_type": "code",
   "execution_count": null,
   "metadata": {},
   "outputs": [],
   "source": [
    "# less nesting\n",
    "from contextlib import AsyncExitStack\n",
    "\n",
    "\n",
    "async with AsyncExitStack() as stack:\n",
    "    connection = await stack.enter_async_context(\n",
    "        connect('hpc.computing.eu', username='your_user')\n",
    "    )\n",
    "    sftp = await stack.enter_async_context(connection.start_sftp_client())\n",
    "    remote_file = await stack.enter_async_context(\n",
    "        sftp.open(str(remote_dest_path), 'wb')\n",
    "    )\n",
    "\n",
    "    async for chunk in apptainer_builder_service.build_result(task_id):\n",
    "        await remote_file.write(chunk)"
   ]
  },
  {
   "cell_type": "code",
   "execution_count": null,
   "metadata": {},
   "outputs": [],
   "source": [
    "# TODO\n",
    "async def hpc():\n",
    "    url = 'hpc.computing.eu'\n",
    "    username = 'your_user'\n",
    "\n",
    "    async with connect(url, username=username) as connection:\n",
    "        result = await connection.run('qstat', check=True)\n",
    "        stdout = result.stdout.strip()\n",
    "\n",
    "        print(result)\n",
    "\n",
    "        return stdout\n",
    "\n",
    "\n",
    "run(hpc())"
   ]
  }
 ],
 "metadata": {
  "kernelspec": {
   "display_name": "math-rag-QVTscwFS-py3.12",
   "language": "python",
   "name": "python3"
  },
  "language_info": {
   "codemirror_mode": {
    "name": "ipython",
    "version": 3
   },
   "file_extension": ".py",
   "mimetype": "text/x-python",
   "name": "python",
   "nbconvert_exporter": "python",
   "pygments_lexer": "ipython3",
   "version": "3.12.9"
  }
 },
 "nbformat": 4,
 "nbformat_minor": 2
}
