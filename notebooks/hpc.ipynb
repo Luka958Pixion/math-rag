{
 "cells": [
  {
   "cell_type": "code",
   "execution_count": 1,
   "metadata": {},
   "outputs": [],
   "source": [
    "%load_ext autoreload\n",
    "%autoreload 2\n",
    "\n",
    "import os\n",
    "import sys\n",
    "\n",
    "import nest_asyncio\n",
    "\n",
    "\n",
    "sys.path.insert(0, os.path.abspath('..'))\n",
    "nest_asyncio.apply()"
   ]
  },
  {
   "cell_type": "code",
   "execution_count": 2,
   "metadata": {},
   "outputs": [],
   "source": [
    "from decouple import config\n",
    "\n",
    "\n",
    "HPC_USER = config('HPC_USER')\n",
    "HPC_HOST = config('HPC_HOST')\n",
    "HPC_PASSPHRASE = config('HPC_PASSPHRASE')"
   ]
  },
  {
   "cell_type": "code",
   "execution_count": 3,
   "metadata": {},
   "outputs": [],
   "source": [
    "from pathlib import Path\n",
    "\n",
    "from math_rag.infrastructure.clients import HPCClient, PBSProClient, SFTPClient\n",
    "\n",
    "\n",
    "# HPC_HOST = 'login-cpu.hpc.srce.hr'  # TODO remove\n",
    "\n",
    "sftp_client = SFTPClient(HPC_HOST, HPC_USER, HPC_PASSPHRASE)\n",
    "pbs_pro_client = PBSProClient(HPC_HOST, HPC_USER, HPC_PASSPHRASE)\n",
    "hpc_client = HPCClient(HPC_HOST, HPC_USER, HPC_PASSPHRASE)"
   ]
  },
  {
   "cell_type": "code",
   "execution_count": null,
   "metadata": {},
   "outputs": [],
   "source": [
    "# TODO remove .. when not in /notebooks\n",
    "source = Path('../assets/huggingface/tgi/tgi.sh')\n",
    "target = Path('/lustre/home/lpanic/tgi_test.sh')\n",
    "\n",
    "await sftp_client.upload(source, target)"
   ]
  },
  {
   "cell_type": "code",
   "execution_count": null,
   "metadata": {},
   "outputs": [],
   "source": [
    "# TODO remove .. when not in /notebooks\n",
    "source = Path('/lustre/home/lpanic/tgi_test.sh')\n",
    "target = Path('../tmp/tgi.sh')\n",
    "\n",
    "await sftp_client.download(source, target)"
   ]
  },
  {
   "cell_type": "code",
   "execution_count": null,
   "metadata": {},
   "outputs": [
    {
     "data": {
      "text/plain": [
       "79"
      ]
     },
     "execution_count": 1,
     "metadata": {},
     "output_type": "execute_result"
    }
   ],
   "source": [
    "# limited to 80 characters (79 + newline)\n",
    "len('    Error_Path = x3000c0s27b0n0.hsn.hpc.srce.hr:/lustre/home/lpanic/hello_world')"
   ]
  },
  {
   "cell_type": "code",
   "execution_count": null,
   "metadata": {},
   "outputs": [],
   "source": [
    "# qstat -f 465317\n",
    "queue_status = \"\"\"\n",
    "Job Id: 465317.x3000c0s25b0n0.hsn.hpc.srce.hr\n",
    "    Job_Name = hello\n",
    "    Job_Owner = lpanic@x3000c0s27b0n0.hsn.hpc.srce.hr\n",
    "    resources_used.cpupercent = 0\n",
    "    resources_used.cput = 00:00:00\n",
    "    resources_used.mem = 0b\n",
    "    resources_used.ncpus = 1\n",
    "    resources_used.vmem = 0kb\n",
    "    resources_used.walltime = 00:00:00\n",
    "    job_state = R\n",
    "    queue = cpu-single\n",
    "    server = x3000c0s25b0n0.hsn.hpc.srce.hr\n",
    "    Checkpoint = u\n",
    "    ctime = Fri Mar 28 10:45:48 2025\n",
    "    Error_Path = x3000c0s27b0n0.hsn.hpc.srce.hr:/lustre/home/lpanic/hello_world\n",
    "\t/hello.e465317\n",
    "    exec_host = x8000c1s4b0n1/1\n",
    "    exec_vnode = (x8000c1s4b0n1:mem=1843200kb:ncpus=1:ngpus=0)\n",
    "    Hold_Types = n\n",
    "    Join_Path = n\n",
    "    Keep_Files = oed\n",
    "    Mail_Points = a\n",
    "    mtime = Fri Mar 28 10:45:53 2025\n",
    "    Output_Path = x3000c0s27b0n0.hsn.hpc.srce.hr:/lustre/home/lpanic/hello_worl\n",
    "\td/hello.o465317\n",
    "    Priority = 0\n",
    "    qtime = Fri Mar 28 10:45:48 2025\n",
    "    Rerunable = True\n",
    "    Resource_List.mem = 1800mb\n",
    "    Resource_List.ncpus = 1\n",
    "    Resource_List.ngpus = 0\n",
    "    Resource_List.nodect = 1\n",
    "    Resource_List.place = pack\n",
    "    Resource_List.select = 1:mem=1800mb:ncpus=1:ngpus=0\n",
    "    Resource_List.walltime = 48:00:00\n",
    "    stime = Fri Mar 28 10:45:48 2025\n",
    "    session_id = 3900810\n",
    "    jobdir = /lustre/home/lpanic\n",
    "    substate = 42\n",
    "    Variable_List = PBS_O_HOME=/lustre/home/lpanic,PBS_O_LANG=en_US.UTF-8,\n",
    "\tPBS_O_LOGNAME=lpanic,\n",
    "\tPBS_O_PATH=/lustre/home/lpanic/.local/bin:/lustre/home/lpanic/bin:/opt\n",
    "\t/clmgr/sbin:/opt/clmgr/bin:/opt/sgi/sbin:/opt/sgi/bin:/usr/share/Module\n",
    "\ts/bin:/usr/local/bin:/usr/bin:/usr/local/sbin:/usr/sbin:/opt/c3/bin:/op\n",
    "\tt/pbs/bin:/sbin:/bin,PBS_O_MAIL=/var/spool/mail/lpanic,\n",
    "\tPBS_O_SHELL=/bin/bash,PBS_O_HOST=x3000c0s27b0n0.hsn.hpc.srce.hr,\n",
    "\tPBS_O_WORKDIR=/lustre/home/lpanic/hello_world,PBS_O_SYSTEM=Linux,\n",
    "\tPBS_O_QUEUE=RouteQ\n",
    "         = Job run at Fri Mar 28 at 10:45 on (x8000c1s4b0n1:mem=1843200kb:nc\n",
    "\tpus=1:ngpus=0)\n",
    "    etime = Fri Mar 28 10:45:48 2025\n",
    "    run_count = 1\n",
    "    eligible_time = 00:00:05\n",
    "    Submit_arguments = -koed hello.sh\n",
    "    project = _pbs_project_default\n",
    "    Submit_Host = x3000c0s27b0n0.hsn.hpc.srce.hr\n",
    "\"\"\""
   ]
  },
  {
   "cell_type": "code",
   "execution_count": null,
   "metadata": {},
   "outputs": [],
   "source": [
    "from math_rag.infrastructure.mappings.hpcs.pbs import PBSProJobFullMapping\n",
    "\n",
    "\n",
    "job = PBSProJobFullMapping.to_source(queue_status)"
   ]
  },
  {
   "cell_type": "code",
   "execution_count": null,
   "metadata": {},
   "outputs": [],
   "source": [
    "pbs_path = Path('hello_world/hello2b.sh')\n",
    "job_id = await pbs_pro_client.queue_submit(pbs_path)\n",
    "job_id"
   ]
  },
  {
   "cell_type": "code",
   "execution_count": 38,
   "metadata": {},
   "outputs": [
    {
     "data": {
      "text/plain": [
       "'468995.x3000c0s25b0n0.hsn.hpc.srce.hr'"
      ]
     },
     "execution_count": 38,
     "metadata": {},
     "output_type": "execute_result"
    }
   ],
   "source": [
    "job_id"
   ]
  },
  {
   "cell_type": "code",
   "execution_count": 39,
   "metadata": {},
   "outputs": [
    {
     "data": {
      "text/plain": [
       "PBSProJob(id='468995.x3000c0s25b0n0', name='hello', user='lpanic', time=datetime.timedelta(0), state=<PBSProJobState.HELD: 'H'>, queue=<HPCQueue.GPU: 'gpu'>)"
      ]
     },
     "execution_count": 39,
     "metadata": {},
     "output_type": "execute_result"
    }
   ],
   "source": [
    "job = await pbs_pro_client.queue_status(job_id)\n",
    "job"
   ]
  },
  {
   "cell_type": "code",
   "execution_count": 41,
   "metadata": {},
   "outputs": [
    {
     "data": {
      "text/plain": [
       "'Job: 468995.x3000c0s25b0n0.hsn.hpc.srce.hr\\n\\n03/31/2025 12:34:40  L    Formula Evaluation = 999.9785\\n03/31/2025 12:34:40  L    Considering job to run\\n03/31/2025 12:34:40  L    Insufficient amount of resource: Qlist \\n03/31/2025 12:34:40  S    enqueuing into gpu, state Q hop 1\\n03/31/2025 12:34:40  S    Job Queued at request of lpanic@x3000c0s27b0n0.hsn.hpc.srce.hr, owner = lpanic@x3000c0s27b0n0.hsn.hpc.srce.hr, job name = hello, queue = gpu\\n03/31/2025 12:34:40  S    Job Modified at request of Scheduler@x3000c0s25b0n0.hsn.hpc.srce.hr\\n03/31/2025 12:35:08  S    Holds u set at request of lpanic@x3000c0s27b0n0.hsn.hpc.srce.hr\\n03/31/2025 12:37:43  L    Formula Evaluation = 999.9788\\n03/31/2025 12:38:11  L    Formula Evaluation = 999.9788\\n03/31/2025 12:38:19  L    Formula Evaluation = 999.9788\\n03/31/2025 12:38:26  L    Formula Evaluation = 999.9788\\n03/31/2025 12:38:55  L    Formula Evaluation = 999.9788\\n03/31/2025 12:39:41  S    Holds u released at request of lpanic@x3000c0s27b0n0.hsn.hpc.srce.hr\\n03/31/2025 12:39:42  L    Formula Evaluation = 999.9788\\n03/31/2025 12:39:42  L    Considering job to run\\n03/31/2025 12:39:42  L    Insufficient amount of resource: Qlist \\n03/31/2025 12:39:42  S    Job Modified at request of Scheduler@x3000c0s25b0n0.hsn.hpc.srce.hr'"
      ]
     },
     "execution_count": 41,
     "metadata": {},
     "output_type": "execute_result"
    }
   ],
   "source": [
    "await pbs_pro_client.trace_job(job_id)"
   ]
  },
  {
   "cell_type": "code",
   "execution_count": 42,
   "metadata": {},
   "outputs": [],
   "source": [
    "await pbs_pro_client.queue_delete(job_id, force=False)"
   ]
  },
  {
   "cell_type": "code",
   "execution_count": null,
   "metadata": {},
   "outputs": [],
   "source": [
    "\"\"\"\n",
    "qstat -u lpanic 468988.x3000c0s25b0n0.hsn.hpc.srce.hr\n",
    "\n",
    "x3000c0s25b0n0.hsn.hpc.srce.hr:\n",
    "                                                                 Req'd  Req'd   Elap\n",
    "Job ID               Username Queue    Jobname    SessID NDS TSK Memory Time  S Time\n",
    "-------------------- -------- -------- ---------- ------ --- --- ------ ----- - -----\n",
    "468988.x3000c0s25b0* lpanic   gpu      hello      18403*   1   1  120gb 24:00 R 00:03\n",
    "\"\"\""
   ]
  }
 ],
 "metadata": {
  "kernelspec": {
   "display_name": ".venv",
   "language": "python",
   "name": "python3"
  },
  "language_info": {
   "codemirror_mode": {
    "name": "ipython",
    "version": 3
   },
   "file_extension": ".py",
   "mimetype": "text/x-python",
   "name": "python",
   "nbconvert_exporter": "python",
   "pygments_lexer": "ipython3",
   "version": "3.12.7"
  }
 },
 "nbformat": 4,
 "nbformat_minor": 2
}
