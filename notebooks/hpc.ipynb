{
 "cells": [
  {
   "cell_type": "code",
   "execution_count": 1,
   "metadata": {},
   "outputs": [],
   "source": [
    "%load_ext autoreload\n",
    "%autoreload 2\n",
    "\n",
    "import os\n",
    "import sys\n",
    "\n",
    "import nest_asyncio\n",
    "\n",
    "\n",
    "sys.path.insert(0, os.path.abspath('..'))\n",
    "nest_asyncio.apply()"
   ]
  },
  {
   "cell_type": "code",
   "execution_count": 2,
   "metadata": {},
   "outputs": [],
   "source": [
    "import logging\n",
    "\n",
    "\n",
    "logging.basicConfig(\n",
    "    level=logging.INFO, format='%(asctime)s - %(levelname)s - %(message)s'\n",
    ")"
   ]
  },
  {
   "cell_type": "markdown",
   "metadata": {},
   "source": [
    "### Prepare input file"
   ]
  },
  {
   "cell_type": "code",
   "execution_count": 10,
   "metadata": {},
   "outputs": [],
   "source": [
    "from decouple import config\n",
    "from huggingface_hub import AsyncInferenceClient\n",
    "\n",
    "\n",
    "HUGGINGFACE_TOKEN = config('HUGGINGFACE_TOKEN')\n",
    "\n",
    "MODEL_HUB_ID = 'microsoft/Phi-3-mini-4k-instruct'\n",
    "\n",
    "client = AsyncInferenceClient(\n",
    "    model=MODEL_HUB_ID,\n",
    "    provider='hf-inference',\n",
    "    timeout=None,\n",
    "    api_key=HUGGINGFACE_TOKEN,\n",
    ")"
   ]
  },
  {
   "cell_type": "code",
   "execution_count": 3,
   "metadata": {},
   "outputs": [],
   "source": [
    "from math_rag.application.base.assistants import BaseAssistantInput, BaseAssistantOutput\n",
    "\n",
    "\n",
    "class SomeInput(BaseAssistantInput):\n",
    "    pass\n",
    "\n",
    "\n",
    "class SomeOutput(BaseAssistantOutput):\n",
    "    result: int"
   ]
  },
  {
   "cell_type": "code",
   "execution_count": 4,
   "metadata": {},
   "outputs": [],
   "source": [
    "import json\n",
    "\n",
    "from pathlib import Path\n",
    "\n",
    "from math_rag.application.models.inference import (\n",
    "    LLMBatchRequest,\n",
    "    LLMBatchResult,\n",
    "    LLMConversation,\n",
    "    LLMMessage,\n",
    "    LLMParams,\n",
    "    LLMRequest,\n",
    ")\n",
    "from math_rag.infrastructure.mappings.inference.huggingface import (\n",
    "    LLMRequestMapping,\n",
    "    LLMResponseListMapping,\n",
    ")\n",
    "\n",
    "\n",
    "MODEL_HUB_ID = 'microsoft/Phi-3-mini-4k-instruct'\n",
    "some_input = SomeInput()\n",
    "\n",
    "request = LLMRequest(\n",
    "    conversation=LLMConversation(\n",
    "        messages=[\n",
    "            LLMMessage(role='system', content='You are a helpful assistant.'),\n",
    "            LLMMessage(role='user', content='what is 2+2'),\n",
    "        ]\n",
    "    ),\n",
    "    params=LLMParams(\n",
    "        model=MODEL_HUB_ID,\n",
    "        temperature=0,\n",
    "        response_type=SomeOutput,\n",
    "        max_completion_tokens=10,\n",
    "        metadata={'input_id': str(some_input.id)},\n",
    "    ),\n",
    ")\n",
    "\n",
    "batch_request: LLMBatchRequest = LLMBatchRequest(requests=[request])"
   ]
  },
  {
   "cell_type": "code",
   "execution_count": 6,
   "metadata": {},
   "outputs": [],
   "source": [
    "requests = [LLMRequestMapping.to_target(request) for request in batch_request.requests]\n",
    "lines = [json.dumps(request, separators=(',', ':')) for request in requests]\n",
    "jsonl_str = '\\n'.join(lines)\n",
    "jsonl_bytes = jsonl_str.encode('utf-8')"
   ]
  },
  {
   "cell_type": "code",
   "execution_count": 7,
   "metadata": {},
   "outputs": [],
   "source": [
    "request_dict = json.loads(lines[0])"
   ]
  },
  {
   "cell_type": "code",
   "execution_count": 8,
   "metadata": {},
   "outputs": [
    {
     "data": {
      "text/plain": [
       "ChatCompletionOutput(choices=[ChatCompletionOutputComplete(finish_reason='stop', index=0, message=ChatCompletionOutputMessage(role='assistant', content='{ \"result\": 4 }', tool_call_id=None, tool_calls=None), logprobs=None)], created=1744125157, id='', model='microsoft/Phi-3-mini-4k-instruct', system_fingerprint='3.2.1-native', usage=ChatCompletionOutputUsage(completion_tokens=9, prompt_tokens=17, total_tokens=26), object='chat.completion')"
      ]
     },
     "execution_count": 8,
     "metadata": {},
     "output_type": "execute_result"
    }
   ],
   "source": [
    "result = await client.chat_completion(**request_dict)\n",
    "result"
   ]
  },
  {
   "cell_type": "code",
   "execution_count": 40,
   "metadata": {},
   "outputs": [
    {
     "data": {
      "text/plain": [
       "LLMResponseList(id=UUID('f7fd3b29-2772-468d-831f-b160bf1dfaa0'), request_id=UUID('cb02d5a3-bed8-4109-b06c-04d585081ef3'), responses=[LLMResponse(id=UUID('3976268b-adbf-494a-b88b-fda24781d477'), content=BoundAssistantOutput(id=UUID('bd7fdedd-f32a-4d7f-845d-0a21413828b6'), input_id=UUID('c882baa3-2047-4f65-b8df-bd176bba3b2c'), result=4), logprobs=None)])"
      ]
     },
     "execution_count": 40,
     "metadata": {},
     "output_type": "execute_result"
    }
   ],
   "source": [
    "response_list = LLMResponseListMapping.to_source(\n",
    "    result,\n",
    "    request_id=request.id,\n",
    "    input_id=request_dict['extra_body']['input_id'],\n",
    "    response_type=SomeOutput,\n",
    ")\n",
    "response_list"
   ]
  },
  {
   "cell_type": "code",
   "execution_count": null,
   "metadata": {},
   "outputs": [],
   "source": [
    "input_file_path = Path(f'.tmp/input_{batch_request.id}.jsonl')\n",
    "\n",
    "with open(input_file_path, 'w') as input_file:\n",
    "    for line in lines:\n",
    "        input_file.write(line + '\\n')"
   ]
  },
  {
   "cell_type": "markdown",
   "metadata": {},
   "source": [
    "### Apptainer"
   ]
  },
  {
   "cell_type": "code",
   "execution_count": 5,
   "metadata": {},
   "outputs": [],
   "source": [
    "from pathlib import Path\n",
    "\n",
    "from math_rag.infrastructure.containers import InfrastructureContainer\n",
    "\n",
    "\n",
    "infrastructure_container = InfrastructureContainer()\n",
    "infrastructure_container.init_resources()\n",
    "\n",
    "apptainer_client = infrastructure_container.apptainer_client()\n",
    "sftp_client = infrastructure_container.sftp_client()\n",
    "pbs_pro_client = infrastructure_container.pbs_pro_client()\n",
    "hpc_client = infrastructure_container.hpc_client()"
   ]
  },
  {
   "cell_type": "code",
   "execution_count": 6,
   "metadata": {},
   "outputs": [
    {
     "name": "stderr",
     "output_type": "stream",
     "text": [
      "2025-04-09 15:33:21,133 - INFO - HTTP Request: GET http://host.docker.internal:7015/health \"HTTP/1.1 200 OK\"\n"
     ]
    },
    {
     "data": {
      "text/plain": [
       "True"
      ]
     },
     "execution_count": 6,
     "metadata": {},
     "output_type": "execute_result"
    }
   ],
   "source": [
    "await apptainer_client.health()"
   ]
  },
  {
   "cell_type": "code",
   "execution_count": 7,
   "metadata": {},
   "outputs": [],
   "source": [
    "from math_rag.infrastructure.inference.huggingface import HuggingFaceBatchLLM\n",
    "\n",
    "\n",
    "llm = HuggingFaceBatchLLM(\n",
    "    remote_project_root=Path('tgi_default_root'),\n",
    "    hpc_client=hpc_client,\n",
    "    pbs_pro_client=pbs_pro_client,\n",
    "    sftp_client=sftp_client,\n",
    "    apptainer_client=apptainer_client,\n",
    ")"
   ]
  },
  {
   "cell_type": "code",
   "execution_count": null,
   "metadata": {},
   "outputs": [
    {
     "name": "stderr",
     "output_type": "stream",
     "text": [
      "2025-04-09 15:33:25,620 - INFO - Host canonicalization disabled\n",
      "2025-04-09 15:33:25,621 - INFO - Opening SSH connection to login-gpu.hpc.srce.hr, port 22\n",
      "2025-04-09 15:33:25,701 - INFO - [conn=0] Connected to SSH server at login-gpu.hpc.srce.hr, port 22\n",
      "2025-04-09 15:33:25,702 - INFO - [conn=0]   Local address: 172.22.0.7, port 54456\n",
      "2025-04-09 15:33:25,702 - INFO - [conn=0]   Peer address: 161.53.2.37, port 22\n",
      "2025-04-09 15:33:25,741 - INFO - [conn=0] Beginning auth for user lpanic\n",
      "2025-04-09 15:33:26,015 - INFO - [conn=0] Auth for user lpanic succeeded\n",
      "2025-04-09 15:33:26,017 - INFO - [conn=0, chan=0] Requesting new SSH session\n",
      "2025-04-09 15:33:26,069 - INFO - [conn=0, chan=0]   Command: mkdir -p tgi_default_root\n",
      "2025-04-09 15:33:26,226 - INFO - [conn=0, chan=0] Received exit status 0\n",
      "2025-04-09 15:33:26,229 - INFO - [conn=0, chan=0] Received channel close\n",
      "2025-04-09 15:33:26,231 - INFO - [conn=0, chan=0] Channel closed\n",
      "2025-04-09 15:33:26,232 - INFO - Command `mkdir -p tgi_default_root` in `run` returned stdout: \n",
      "2025-04-09 15:33:26,233 - INFO - [conn=0] Closing connection\n",
      "2025-04-09 15:33:26,233 - INFO - [conn=0] Sending disconnect: Disconnected by application (11)\n",
      "2025-04-09 15:33:26,234 - INFO - [conn=0] Connection closed\n",
      "2025-04-09 15:33:26,235 - INFO - Host canonicalization disabled\n",
      "2025-04-09 15:33:26,235 - INFO - Opening SSH connection to login-gpu.hpc.srce.hr, port 22\n",
      "2025-04-09 15:33:26,248 - INFO - [conn=1] Connected to SSH server at login-gpu.hpc.srce.hr, port 22\n",
      "2025-04-09 15:33:26,248 - INFO - [conn=1]   Local address: 172.22.0.7, port 54458\n",
      "2025-04-09 15:33:26,248 - INFO - [conn=1]   Peer address: 161.53.2.37, port 22\n",
      "2025-04-09 15:33:26,286 - INFO - [conn=1] Beginning auth for user lpanic\n",
      "2025-04-09 15:33:26,559 - INFO - [conn=1] Auth for user lpanic succeeded\n",
      "2025-04-09 15:33:26,561 - INFO - [conn=1, chan=0] Requesting new SSH session\n",
      "2025-04-09 15:33:26,614 - INFO - [conn=1, chan=0]   Command: test -f tgi_default_root/requirements.txt && echo \"true\" || echo \"false\"\n",
      "2025-04-09 15:33:26,771 - INFO - [conn=1, chan=0] Received exit status 0\n",
      "2025-04-09 15:33:26,772 - INFO - [conn=1, chan=0] Received channel close\n",
      "2025-04-09 15:33:26,774 - INFO - [conn=1, chan=0] Channel closed\n",
      "2025-04-09 15:33:26,775 - INFO - Command `test -f tgi_default_root/requirements.txt && echo \"true\" || echo \"false\"` in `run` returned stdout: false\n",
      "2025-04-09 15:33:26,775 - INFO - [conn=1] Closing connection\n",
      "2025-04-09 15:33:26,776 - INFO - [conn=1] Sending disconnect: Disconnected by application (11)\n",
      "2025-04-09 15:33:26,777 - INFO - [conn=1] Connection closed\n",
      "2025-04-09 15:33:26,778 - INFO - Host canonicalization disabled\n",
      "2025-04-09 15:33:26,778 - INFO - Opening SSH connection to login-gpu.hpc.srce.hr, port 22\n",
      "2025-04-09 15:33:26,790 - INFO - [conn=2] Connected to SSH server at login-gpu.hpc.srce.hr, port 22\n",
      "2025-04-09 15:33:26,791 - INFO - [conn=2]   Local address: 172.22.0.7, port 54466\n",
      "2025-04-09 15:33:26,791 - INFO - [conn=2]   Peer address: 161.53.2.37, port 22\n",
      "2025-04-09 15:33:26,827 - INFO - [conn=2] Beginning auth for user lpanic\n",
      "2025-04-09 15:33:27,105 - INFO - [conn=2] Auth for user lpanic succeeded\n",
      "2025-04-09 15:33:27,108 - INFO - [conn=2, chan=0] Requesting new SSH session\n",
      "2025-04-09 15:33:27,156 - INFO - [conn=2, chan=0]   Subsystem: sftp\n",
      "2025-04-09 15:33:27,164 - INFO - [conn=2, chan=0] Starting SFTP client\n",
      "2025-04-09 15:33:27,342 - INFO - [conn=2, chan=0] Received exit status 0\n",
      "2025-04-09 15:33:27,343 - INFO - [conn=2, chan=0] Received channel close\n",
      "2025-04-09 15:33:27,345 - INFO - [conn=2, chan=0] SFTP client exited\n",
      "2025-04-09 15:33:27,345 - INFO - [conn=2, chan=0] Closing channel\n",
      "2025-04-09 15:33:27,345 - INFO - [conn=2, chan=0] Channel closed\n",
      "2025-04-09 15:33:27,346 - INFO - [conn=2] Closing connection\n",
      "2025-04-09 15:33:27,346 - INFO - [conn=2] Sending disconnect: Disconnected by application (11)\n",
      "2025-04-09 15:33:27,347 - INFO - [conn=2] Connection closed\n",
      "2025-04-09 15:33:27,347 - INFO - Host canonicalization disabled\n",
      "2025-04-09 15:33:27,347 - INFO - Opening SSH connection to login-gpu.hpc.srce.hr, port 22\n",
      "2025-04-09 15:33:27,360 - INFO - [conn=3] Connected to SSH server at login-gpu.hpc.srce.hr, port 22\n",
      "2025-04-09 15:33:27,360 - INFO - [conn=3]   Local address: 172.22.0.7, port 39946\n",
      "2025-04-09 15:33:27,360 - INFO - [conn=3]   Peer address: 161.53.2.37, port 22\n",
      "2025-04-09 15:33:27,393 - INFO - [conn=3] Beginning auth for user lpanic\n",
      "2025-04-09 15:33:27,668 - INFO - [conn=3] Auth for user lpanic succeeded\n",
      "2025-04-09 15:33:27,672 - INFO - [conn=3, chan=0] Requesting new SSH session\n",
      "2025-04-09 15:33:27,721 - INFO - [conn=3, chan=0]   Command: test -f tgi_default_root/tgi_server.def && echo \"true\" || echo \"false\"\n",
      "2025-04-09 15:33:27,875 - INFO - [conn=3, chan=0] Received exit status 0\n",
      "2025-04-09 15:33:27,876 - INFO - [conn=3, chan=0] Received channel close\n",
      "2025-04-09 15:33:27,877 - INFO - [conn=3, chan=0] Channel closed\n",
      "2025-04-09 15:33:27,878 - INFO - Command `test -f tgi_default_root/tgi_server.def && echo \"true\" || echo \"false\"` in `run` returned stdout: false\n",
      "2025-04-09 15:33:27,879 - INFO - [conn=3] Closing connection\n",
      "2025-04-09 15:33:27,880 - INFO - [conn=3] Sending disconnect: Disconnected by application (11)\n",
      "2025-04-09 15:33:27,881 - INFO - [conn=3] Connection closed\n",
      "2025-04-09 15:33:27,910 - INFO - HTTP Request: POST http://host.docker.internal:7015/apptainer/build/init \"HTTP/1.1 200 OK\"\n",
      "2025-04-09 15:33:27,936 - INFO - HTTP Request: POST http://host.docker.internal:7015/apptainer/build/status \"HTTP/1.1 200 OK\"\n",
      "2025-04-09 15:33:32,973 - INFO - HTTP Request: POST http://host.docker.internal:7015/apptainer/build/status \"HTTP/1.1 200 OK\"\n",
      "2025-04-09 15:33:37,991 - INFO - HTTP Request: POST http://host.docker.internal:7015/apptainer/build/status \"HTTP/1.1 200 OK\"\n",
      "2025-04-09 15:33:43,019 - INFO - HTTP Request: POST http://host.docker.internal:7015/apptainer/build/status \"HTTP/1.1 200 OK\"\n",
      "2025-04-09 15:33:48,042 - INFO - HTTP Request: POST http://host.docker.internal:7015/apptainer/build/status \"HTTP/1.1 200 OK\"\n",
      "2025-04-09 15:33:53,061 - INFO - HTTP Request: POST http://host.docker.internal:7015/apptainer/build/status \"HTTP/1.1 200 OK\"\n",
      "2025-04-09 15:33:58,085 - INFO - HTTP Request: POST http://host.docker.internal:7015/apptainer/build/status \"HTTP/1.1 200 OK\"\n",
      "2025-04-09 15:34:03,102 - INFO - HTTP Request: POST http://host.docker.internal:7015/apptainer/build/status \"HTTP/1.1 200 OK\"\n",
      "2025-04-09 15:34:08,125 - INFO - HTTP Request: POST http://host.docker.internal:7015/apptainer/build/status \"HTTP/1.1 200 OK\"\n",
      "2025-04-09 15:34:13,146 - INFO - HTTP Request: POST http://host.docker.internal:7015/apptainer/build/status \"HTTP/1.1 200 OK\"\n",
      "2025-04-09 15:34:18,167 - INFO - HTTP Request: POST http://host.docker.internal:7015/apptainer/build/status \"HTTP/1.1 200 OK\"\n",
      "2025-04-09 15:34:23,183 - INFO - HTTP Request: POST http://host.docker.internal:7015/apptainer/build/status \"HTTP/1.1 200 OK\"\n",
      "2025-04-09 15:34:28,207 - INFO - HTTP Request: POST http://host.docker.internal:7015/apptainer/build/status \"HTTP/1.1 200 OK\"\n",
      "2025-04-09 15:34:33,227 - INFO - HTTP Request: POST http://host.docker.internal:7015/apptainer/build/status \"HTTP/1.1 200 OK\"\n",
      "2025-04-09 15:34:38,248 - INFO - HTTP Request: POST http://host.docker.internal:7015/apptainer/build/status \"HTTP/1.1 200 OK\"\n",
      "2025-04-09 15:34:43,270 - INFO - HTTP Request: POST http://host.docker.internal:7015/apptainer/build/status \"HTTP/1.1 200 OK\"\n",
      "2025-04-09 15:34:48,293 - INFO - HTTP Request: POST http://host.docker.internal:7015/apptainer/build/status \"HTTP/1.1 200 OK\"\n",
      "2025-04-09 15:34:53,317 - INFO - HTTP Request: POST http://host.docker.internal:7015/apptainer/build/status \"HTTP/1.1 200 OK\"\n",
      "2025-04-09 15:34:58,339 - INFO - HTTP Request: POST http://host.docker.internal:7015/apptainer/build/status \"HTTP/1.1 200 OK\"\n",
      "2025-04-09 15:35:03,363 - INFO - HTTP Request: POST http://host.docker.internal:7015/apptainer/build/status \"HTTP/1.1 200 OK\"\n",
      "2025-04-09 15:35:08,386 - INFO - HTTP Request: POST http://host.docker.internal:7015/apptainer/build/status \"HTTP/1.1 200 OK\"\n",
      "2025-04-09 15:35:13,410 - INFO - HTTP Request: POST http://host.docker.internal:7015/apptainer/build/status \"HTTP/1.1 200 OK\"\n",
      "2025-04-09 15:35:18,431 - INFO - HTTP Request: POST http://host.docker.internal:7015/apptainer/build/status \"HTTP/1.1 200 OK\"\n",
      "2025-04-09 15:35:23,449 - INFO - HTTP Request: POST http://host.docker.internal:7015/apptainer/build/status \"HTTP/1.1 200 OK\"\n",
      "2025-04-09 15:35:28,474 - INFO - HTTP Request: POST http://host.docker.internal:7015/apptainer/build/status \"HTTP/1.1 200 OK\"\n",
      "2025-04-09 15:35:33,497 - INFO - HTTP Request: POST http://host.docker.internal:7015/apptainer/build/status \"HTTP/1.1 200 OK\"\n",
      "2025-04-09 15:35:38,520 - INFO - HTTP Request: POST http://host.docker.internal:7015/apptainer/build/status \"HTTP/1.1 200 OK\"\n",
      "2025-04-09 15:35:43,536 - INFO - HTTP Request: POST http://host.docker.internal:7015/apptainer/build/status \"HTTP/1.1 200 OK\"\n",
      "2025-04-09 15:35:48,559 - INFO - HTTP Request: POST http://host.docker.internal:7015/apptainer/build/status \"HTTP/1.1 200 OK\"\n",
      "2025-04-09 15:35:53,583 - INFO - HTTP Request: POST http://host.docker.internal:7015/apptainer/build/status \"HTTP/1.1 200 OK\"\n",
      "2025-04-09 15:35:58,601 - INFO - HTTP Request: POST http://host.docker.internal:7015/apptainer/build/status \"HTTP/1.1 200 OK\"\n",
      "2025-04-09 15:36:03,625 - INFO - HTTP Request: POST http://host.docker.internal:7015/apptainer/build/status \"HTTP/1.1 200 OK\"\n",
      "2025-04-09 15:36:08,651 - INFO - HTTP Request: POST http://host.docker.internal:7015/apptainer/build/status \"HTTP/1.1 200 OK\"\n",
      "2025-04-09 15:36:13,675 - INFO - HTTP Request: POST http://host.docker.internal:7015/apptainer/build/status \"HTTP/1.1 200 OK\"\n",
      "2025-04-09 15:36:18,698 - INFO - HTTP Request: POST http://host.docker.internal:7015/apptainer/build/status \"HTTP/1.1 200 OK\"\n",
      "2025-04-09 15:36:23,722 - INFO - HTTP Request: POST http://host.docker.internal:7015/apptainer/build/status \"HTTP/1.1 200 OK\"\n",
      "2025-04-09 15:36:28,744 - INFO - HTTP Request: POST http://host.docker.internal:7015/apptainer/build/status \"HTTP/1.1 200 OK\"\n",
      "2025-04-09 15:36:33,764 - INFO - HTTP Request: POST http://host.docker.internal:7015/apptainer/build/status \"HTTP/1.1 200 OK\"\n",
      "2025-04-09 15:36:38,784 - INFO - HTTP Request: POST http://host.docker.internal:7015/apptainer/build/status \"HTTP/1.1 200 OK\"\n",
      "2025-04-09 15:36:43,802 - INFO - HTTP Request: POST http://host.docker.internal:7015/apptainer/build/status \"HTTP/1.1 200 OK\"\n",
      "2025-04-09 15:36:48,823 - INFO - HTTP Request: POST http://host.docker.internal:7015/apptainer/build/status \"HTTP/1.1 200 OK\"\n",
      "2025-04-09 15:36:53,848 - INFO - HTTP Request: POST http://host.docker.internal:7015/apptainer/build/status \"HTTP/1.1 200 OK\"\n",
      "2025-04-09 15:36:58,874 - INFO - HTTP Request: POST http://host.docker.internal:7015/apptainer/build/status \"HTTP/1.1 200 OK\"\n",
      "2025-04-09 15:37:03,894 - INFO - HTTP Request: POST http://host.docker.internal:7015/apptainer/build/status \"HTTP/1.1 200 OK\"\n",
      "2025-04-09 15:37:08,917 - INFO - HTTP Request: POST http://host.docker.internal:7015/apptainer/build/status \"HTTP/1.1 200 OK\"\n",
      "2025-04-09 15:37:13,941 - INFO - HTTP Request: POST http://host.docker.internal:7015/apptainer/build/status \"HTTP/1.1 200 OK\"\n",
      "2025-04-09 15:37:18,963 - INFO - HTTP Request: POST http://host.docker.internal:7015/apptainer/build/status \"HTTP/1.1 200 OK\"\n",
      "2025-04-09 15:37:23,986 - INFO - HTTP Request: POST http://host.docker.internal:7015/apptainer/build/status \"HTTP/1.1 200 OK\"\n",
      "2025-04-09 15:37:29,010 - INFO - HTTP Request: POST http://host.docker.internal:7015/apptainer/build/status \"HTTP/1.1 200 OK\"\n",
      "2025-04-09 15:37:34,036 - INFO - HTTP Request: POST http://host.docker.internal:7015/apptainer/build/status \"HTTP/1.1 200 OK\"\n",
      "2025-04-09 15:37:39,057 - INFO - HTTP Request: POST http://host.docker.internal:7015/apptainer/build/status \"HTTP/1.1 200 OK\"\n",
      "2025-04-09 15:37:44,082 - INFO - HTTP Request: POST http://host.docker.internal:7015/apptainer/build/status \"HTTP/1.1 200 OK\"\n",
      "2025-04-09 15:37:49,110 - INFO - HTTP Request: POST http://host.docker.internal:7015/apptainer/build/status \"HTTP/1.1 200 OK\"\n",
      "2025-04-09 15:37:54,132 - INFO - HTTP Request: POST http://host.docker.internal:7015/apptainer/build/status \"HTTP/1.1 200 OK\"\n",
      "2025-04-09 15:37:59,153 - INFO - HTTP Request: POST http://host.docker.internal:7015/apptainer/build/status \"HTTP/1.1 200 OK\"\n",
      "2025-04-09 15:38:04,173 - INFO - HTTP Request: POST http://host.docker.internal:7015/apptainer/build/status \"HTTP/1.1 200 OK\"\n",
      "2025-04-09 15:38:09,198 - INFO - HTTP Request: POST http://host.docker.internal:7015/apptainer/build/status \"HTTP/1.1 200 OK\"\n",
      "2025-04-09 15:38:14,221 - INFO - HTTP Request: POST http://host.docker.internal:7015/apptainer/build/status \"HTTP/1.1 200 OK\"\n",
      "2025-04-09 15:38:19,244 - INFO - HTTP Request: POST http://host.docker.internal:7015/apptainer/build/status \"HTTP/1.1 200 OK\"\n",
      "2025-04-09 15:38:24,263 - INFO - HTTP Request: POST http://host.docker.internal:7015/apptainer/build/status \"HTTP/1.1 200 OK\"\n",
      "2025-04-09 15:38:29,285 - INFO - HTTP Request: POST http://host.docker.internal:7015/apptainer/build/status \"HTTP/1.1 200 OK\"\n",
      "2025-04-09 15:38:34,309 - INFO - HTTP Request: POST http://host.docker.internal:7015/apptainer/build/status \"HTTP/1.1 200 OK\"\n",
      "2025-04-09 15:38:39,328 - INFO - HTTP Request: POST http://host.docker.internal:7015/apptainer/build/status \"HTTP/1.1 200 OK\"\n",
      "2025-04-09 15:38:44,347 - INFO - HTTP Request: POST http://host.docker.internal:7015/apptainer/build/status \"HTTP/1.1 200 OK\"\n",
      "2025-04-09 15:38:49,366 - INFO - HTTP Request: POST http://host.docker.internal:7015/apptainer/build/status \"HTTP/1.1 200 OK\"\n",
      "2025-04-09 15:38:54,388 - INFO - HTTP Request: POST http://host.docker.internal:7015/apptainer/build/status \"HTTP/1.1 200 OK\"\n",
      "2025-04-09 15:38:59,404 - INFO - HTTP Request: POST http://host.docker.internal:7015/apptainer/build/status \"HTTP/1.1 200 OK\"\n",
      "2025-04-09 15:39:04,427 - INFO - HTTP Request: POST http://host.docker.internal:7015/apptainer/build/status \"HTTP/1.1 200 OK\"\n",
      "2025-04-09 15:39:09,449 - INFO - HTTP Request: POST http://host.docker.internal:7015/apptainer/build/status \"HTTP/1.1 200 OK\"\n",
      "2025-04-09 15:39:14,467 - INFO - HTTP Request: POST http://host.docker.internal:7015/apptainer/build/status \"HTTP/1.1 200 OK\"\n",
      "2025-04-09 15:39:19,489 - INFO - HTTP Request: POST http://host.docker.internal:7015/apptainer/build/status \"HTTP/1.1 200 OK\"\n",
      "2025-04-09 15:39:24,514 - INFO - HTTP Request: POST http://host.docker.internal:7015/apptainer/build/status \"HTTP/1.1 200 OK\"\n",
      "2025-04-09 15:39:29,537 - INFO - HTTP Request: POST http://host.docker.internal:7015/apptainer/build/status \"HTTP/1.1 200 OK\"\n",
      "2025-04-09 15:39:34,558 - INFO - HTTP Request: POST http://host.docker.internal:7015/apptainer/build/status \"HTTP/1.1 200 OK\"\n",
      "2025-04-09 15:39:39,581 - INFO - HTTP Request: POST http://host.docker.internal:7015/apptainer/build/status \"HTTP/1.1 200 OK\"\n",
      "2025-04-09 15:39:44,604 - INFO - HTTP Request: POST http://host.docker.internal:7015/apptainer/build/status \"HTTP/1.1 200 OK\"\n",
      "2025-04-09 15:39:49,629 - INFO - HTTP Request: POST http://host.docker.internal:7015/apptainer/build/status \"HTTP/1.1 200 OK\"\n",
      "2025-04-09 15:39:54,645 - INFO - HTTP Request: POST http://host.docker.internal:7015/apptainer/build/status \"HTTP/1.1 200 OK\"\n",
      "2025-04-09 15:39:59,666 - INFO - HTTP Request: POST http://host.docker.internal:7015/apptainer/build/status \"HTTP/1.1 200 OK\"\n",
      "2025-04-09 15:40:04,684 - INFO - HTTP Request: POST http://host.docker.internal:7015/apptainer/build/status \"HTTP/1.1 200 OK\"\n",
      "2025-04-09 15:40:09,709 - INFO - HTTP Request: POST http://host.docker.internal:7015/apptainer/build/status \"HTTP/1.1 200 OK\"\n",
      "2025-04-09 15:40:14,733 - INFO - HTTP Request: POST http://host.docker.internal:7015/apptainer/build/status \"HTTP/1.1 200 OK\"\n",
      "2025-04-09 15:40:19,757 - INFO - HTTP Request: POST http://host.docker.internal:7015/apptainer/build/status \"HTTP/1.1 200 OK\"\n",
      "2025-04-09 15:40:24,780 - INFO - HTTP Request: POST http://host.docker.internal:7015/apptainer/build/status \"HTTP/1.1 200 OK\"\n",
      "2025-04-09 15:40:29,796 - INFO - HTTP Request: POST http://host.docker.internal:7015/apptainer/build/status \"HTTP/1.1 200 OK\"\n",
      "2025-04-09 15:40:34,819 - INFO - HTTP Request: POST http://host.docker.internal:7015/apptainer/build/status \"HTTP/1.1 200 OK\"\n",
      "2025-04-09 15:40:39,845 - INFO - HTTP Request: POST http://host.docker.internal:7015/apptainer/build/status \"HTTP/1.1 200 OK\"\n",
      "2025-04-09 15:40:44,867 - INFO - HTTP Request: POST http://host.docker.internal:7015/apptainer/build/status \"HTTP/1.1 200 OK\"\n",
      "2025-04-09 15:40:49,891 - INFO - HTTP Request: POST http://host.docker.internal:7015/apptainer/build/status \"HTTP/1.1 200 OK\"\n",
      "2025-04-09 15:40:54,910 - INFO - HTTP Request: POST http://host.docker.internal:7015/apptainer/build/status \"HTTP/1.1 200 OK\"\n",
      "2025-04-09 15:40:59,929 - INFO - HTTP Request: POST http://host.docker.internal:7015/apptainer/build/status \"HTTP/1.1 200 OK\"\n",
      "2025-04-09 15:41:04,949 - INFO - HTTP Request: POST http://host.docker.internal:7015/apptainer/build/status \"HTTP/1.1 200 OK\"\n",
      "2025-04-09 15:41:09,971 - INFO - HTTP Request: POST http://host.docker.internal:7015/apptainer/build/status \"HTTP/1.1 200 OK\"\n",
      "2025-04-09 15:41:14,989 - INFO - HTTP Request: POST http://host.docker.internal:7015/apptainer/build/status \"HTTP/1.1 200 OK\"\n",
      "2025-04-09 15:41:20,011 - INFO - HTTP Request: POST http://host.docker.internal:7015/apptainer/build/status \"HTTP/1.1 200 OK\"\n",
      "2025-04-09 15:41:25,028 - INFO - HTTP Request: POST http://host.docker.internal:7015/apptainer/build/status \"HTTP/1.1 200 OK\"\n",
      "2025-04-09 15:41:30,046 - INFO - HTTP Request: POST http://host.docker.internal:7015/apptainer/build/status \"HTTP/1.1 200 OK\"\n",
      "2025-04-09 15:41:35,072 - INFO - HTTP Request: POST http://host.docker.internal:7015/apptainer/build/status \"HTTP/1.1 200 OK\"\n",
      "2025-04-09 15:41:40,094 - INFO - HTTP Request: POST http://host.docker.internal:7015/apptainer/build/status \"HTTP/1.1 200 OK\"\n",
      "2025-04-09 15:41:45,118 - INFO - HTTP Request: POST http://host.docker.internal:7015/apptainer/build/status \"HTTP/1.1 200 OK\"\n",
      "2025-04-09 15:41:50,142 - INFO - HTTP Request: POST http://host.docker.internal:7015/apptainer/build/status \"HTTP/1.1 200 OK\"\n",
      "2025-04-09 15:41:55,166 - INFO - HTTP Request: POST http://host.docker.internal:7015/apptainer/build/status \"HTTP/1.1 200 OK\"\n",
      "2025-04-09 15:42:00,192 - INFO - HTTP Request: POST http://host.docker.internal:7015/apptainer/build/status \"HTTP/1.1 200 OK\"\n",
      "2025-04-09 15:42:05,209 - INFO - HTTP Request: POST http://host.docker.internal:7015/apptainer/build/status \"HTTP/1.1 200 OK\"\n",
      "2025-04-09 15:42:10,233 - INFO - HTTP Request: POST http://host.docker.internal:7015/apptainer/build/status \"HTTP/1.1 200 OK\"\n",
      "2025-04-09 15:42:15,254 - INFO - HTTP Request: POST http://host.docker.internal:7015/apptainer/build/status \"HTTP/1.1 200 OK\"\n",
      "2025-04-09 15:42:20,270 - INFO - HTTP Request: POST http://host.docker.internal:7015/apptainer/build/status \"HTTP/1.1 200 OK\"\n",
      "2025-04-09 15:42:25,291 - INFO - HTTP Request: POST http://host.docker.internal:7015/apptainer/build/status \"HTTP/1.1 200 OK\"\n",
      "2025-04-09 15:42:30,311 - INFO - HTTP Request: POST http://host.docker.internal:7015/apptainer/build/status \"HTTP/1.1 200 OK\"\n",
      "2025-04-09 15:42:35,333 - INFO - HTTP Request: POST http://host.docker.internal:7015/apptainer/build/status \"HTTP/1.1 200 OK\"\n",
      "2025-04-09 15:42:40,352 - INFO - HTTP Request: POST http://host.docker.internal:7015/apptainer/build/status \"HTTP/1.1 200 OK\"\n",
      "2025-04-09 15:42:45,375 - INFO - HTTP Request: POST http://host.docker.internal:7015/apptainer/build/status \"HTTP/1.1 200 OK\"\n",
      "2025-04-09 15:42:50,397 - INFO - HTTP Request: POST http://host.docker.internal:7015/apptainer/build/status \"HTTP/1.1 200 OK\"\n",
      "2025-04-09 15:42:55,425 - INFO - HTTP Request: POST http://host.docker.internal:7015/apptainer/build/status \"HTTP/1.1 200 OK\"\n",
      "2025-04-09 15:43:00,448 - INFO - HTTP Request: POST http://host.docker.internal:7015/apptainer/build/status \"HTTP/1.1 200 OK\"\n",
      "2025-04-09 15:43:05,466 - INFO - HTTP Request: POST http://host.docker.internal:7015/apptainer/build/status \"HTTP/1.1 200 OK\"\n",
      "2025-04-09 15:43:10,490 - INFO - HTTP Request: POST http://host.docker.internal:7015/apptainer/build/status \"HTTP/1.1 200 OK\"\n",
      "2025-04-09 15:43:15,507 - INFO - HTTP Request: POST http://host.docker.internal:7015/apptainer/build/status \"HTTP/1.1 200 OK\"\n",
      "2025-04-09 15:43:20,529 - INFO - HTTP Request: POST http://host.docker.internal:7015/apptainer/build/status \"HTTP/1.1 200 OK\"\n",
      "2025-04-09 15:43:25,548 - INFO - HTTP Request: POST http://host.docker.internal:7015/apptainer/build/status \"HTTP/1.1 200 OK\"\n",
      "2025-04-09 15:43:30,570 - INFO - HTTP Request: POST http://host.docker.internal:7015/apptainer/build/status \"HTTP/1.1 200 OK\"\n",
      "2025-04-09 15:43:35,593 - INFO - HTTP Request: POST http://host.docker.internal:7015/apptainer/build/status \"HTTP/1.1 200 OK\"\n",
      "2025-04-09 15:43:40,616 - INFO - HTTP Request: POST http://host.docker.internal:7015/apptainer/build/status \"HTTP/1.1 200 OK\"\n",
      "2025-04-09 15:43:45,636 - INFO - HTTP Request: POST http://host.docker.internal:7015/apptainer/build/status \"HTTP/1.1 200 OK\"\n",
      "2025-04-09 15:43:50,661 - INFO - HTTP Request: POST http://host.docker.internal:7015/apptainer/build/status \"HTTP/1.1 200 OK\"\n",
      "2025-04-09 15:43:55,679 - INFO - HTTP Request: POST http://host.docker.internal:7015/apptainer/build/status \"HTTP/1.1 200 OK\"\n",
      "2025-04-09 15:44:00,698 - INFO - HTTP Request: POST http://host.docker.internal:7015/apptainer/build/status \"HTTP/1.1 200 OK\"\n",
      "2025-04-09 15:44:05,720 - INFO - HTTP Request: POST http://host.docker.internal:7015/apptainer/build/status \"HTTP/1.1 200 OK\"\n",
      "2025-04-09 15:44:10,742 - INFO - HTTP Request: POST http://host.docker.internal:7015/apptainer/build/status \"HTTP/1.1 200 OK\"\n",
      "2025-04-09 15:44:15,761 - INFO - HTTP Request: POST http://host.docker.internal:7015/apptainer/build/status \"HTTP/1.1 200 OK\"\n"
     ]
    }
   ],
   "source": [
    "await llm.init_resources()"
   ]
  },
  {
   "cell_type": "code",
   "execution_count": null,
   "metadata": {},
   "outputs": [],
   "source": [
    "res = await llm.batch_generate(\n",
    "    batch_request=batch_request,\n",
    "    response_type=SomeOutput,\n",
    "    poll_interval=3 * 60,\n",
    "    max_num_retries=0,\n",
    ")\n",
    "res"
   ]
  },
  {
   "cell_type": "code",
   "execution_count": 14,
   "metadata": {},
   "outputs": [
    {
     "name": "stderr",
     "output_type": "stream",
     "text": [
      "2025-04-08 15:22:16,598 - INFO - Reader thread started\n",
      "2025-04-08 15:22:16,599 - INFO - Processor thread started\n",
      "2025-04-08 15:22:16,599 - INFO - Writer thread started\n",
      "2025-04-08 15:22:16,600 - INFO - Finished reading input file\n",
      "2025-04-08 15:22:16,601 - INFO - Reader thread exiting\n",
      "2025-04-08 15:22:16,879 - INFO - Processor thread exiting\n",
      "2025-04-08 15:22:16,881 - INFO - Finished writing output file\n",
      "2025-04-08 15:22:16,882 - INFO - Writer thread exiting\n",
      "2025-04-08 15:22:16,883 - INFO - All threads have completed\n"
     ]
    }
   ],
   "source": [
    "from os import environ\n",
    "\n",
    "from decouple import config\n",
    "\n",
    "\n",
    "environ['PBS_O_WORKDIR'] = '../.tmp'\n",
    "environ['TGI_API_KEY'] = config('HUGGINGFACE_TOKEN')\n",
    "environ['MODEL_HUB_ID'] = 'microsoft/Phi-3-mini-4k-instruct'\n",
    "environ['MAX_RETRIES'] = '3'\n",
    "\n",
    "%run ../assets/hpc/hf/tgi/tgi.py"
   ]
  }
 ],
 "metadata": {
  "kernelspec": {
   "display_name": ".venv",
   "language": "python",
   "name": "python3"
  },
  "language_info": {
   "codemirror_mode": {
    "name": "ipython",
    "version": 3
   },
   "file_extension": ".py",
   "mimetype": "text/x-python",
   "name": "python",
   "nbconvert_exporter": "python",
   "pygments_lexer": "ipython3",
   "version": "3.12.7"
  }
 },
 "nbformat": 4,
 "nbformat_minor": 2
}
