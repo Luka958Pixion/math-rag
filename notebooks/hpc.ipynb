{
 "cells": [
  {
   "cell_type": "code",
   "execution_count": 1,
   "metadata": {},
   "outputs": [],
   "source": [
    "%load_ext autoreload\n",
    "%autoreload 2\n",
    "\n",
    "import os\n",
    "import sys\n",
    "\n",
    "import nest_asyncio\n",
    "\n",
    "\n",
    "sys.path.insert(0, os.path.abspath('..'))\n",
    "nest_asyncio.apply()"
   ]
  },
  {
   "cell_type": "code",
   "execution_count": 2,
   "metadata": {},
   "outputs": [],
   "source": [
    "import logging\n",
    "\n",
    "\n",
    "logging.basicConfig(\n",
    "    level=logging.INFO, format='%(asctime)s - %(levelname)s - %(message)s'\n",
    ")"
   ]
  },
  {
   "cell_type": "markdown",
   "metadata": {},
   "source": [
    "### Prepare input file"
   ]
  },
  {
   "cell_type": "code",
   "execution_count": null,
   "metadata": {},
   "outputs": [],
   "source": [
    "from decouple import config\n",
    "from huggingface_hub import AsyncInferenceClient\n",
    "\n",
    "\n",
    "HUGGINGFACE_TOKEN = config('HUGGINGFACE_TOKEN')\n",
    "\n",
    "TGI_BASE_URL = ''\n",
    "MODEL_HUB_ID = 'microsoft/Phi-3-mini-4k-instruct'\n",
    "\n",
    "client = AsyncInferenceClient(\n",
    "    # base_url=TGI_BASE_URL,\n",
    "    model=MODEL_HUB_ID,\n",
    "    provider='hf-inference',\n",
    "    timeout=None,\n",
    "    api_key=HUGGINGFACE_TOKEN,\n",
    ")"
   ]
  },
  {
   "cell_type": "code",
   "execution_count": 3,
   "metadata": {},
   "outputs": [],
   "source": [
    "from math_rag.application.base.assistants import BaseAssistantInput, BaseAssistantOutput\n",
    "\n",
    "\n",
    "class SomeInput(BaseAssistantInput):\n",
    "    pass\n",
    "\n",
    "\n",
    "class SomeOutput(BaseAssistantOutput):\n",
    "    result: int"
   ]
  },
  {
   "cell_type": "code",
   "execution_count": 4,
   "metadata": {},
   "outputs": [],
   "source": [
    "import json\n",
    "\n",
    "from pathlib import Path\n",
    "\n",
    "from math_rag.application.models.inference import (\n",
    "    LLMBatchRequest,\n",
    "    LLMBatchResult,\n",
    "    LLMConversation,\n",
    "    LLMMessage,\n",
    "    LLMParams,\n",
    "    LLMRequest,\n",
    ")\n",
    "from math_rag.infrastructure.mappings.inference.huggingface import (\n",
    "    LLMRequestMapping,\n",
    "    LLMResponseListMapping,\n",
    ")\n",
    "\n",
    "\n",
    "MODEL_HUB_ID = 'microsoft/Phi-3-mini-4k-instruct'\n",
    "some_input = SomeInput()\n",
    "\n",
    "request = LLMRequest(\n",
    "    conversation=LLMConversation(\n",
    "        messages=[\n",
    "            LLMMessage(role='system', content='You are a helpful assistant.'),\n",
    "            LLMMessage(role='user', content='what is 2+2'),\n",
    "        ]\n",
    "    ),\n",
    "    params=LLMParams(\n",
    "        model=MODEL_HUB_ID,\n",
    "        temperature=0,\n",
    "        response_type=SomeOutput,\n",
    "        max_completion_tokens=10,\n",
    "        metadata={'input_id': str(some_input.id)},\n",
    "    ),\n",
    ")\n",
    "\n",
    "batch_request: LLMBatchRequest = LLMBatchRequest(requests=[request])"
   ]
  },
  {
   "cell_type": "code",
   "execution_count": null,
   "metadata": {},
   "outputs": [],
   "source": [
    "requests = [LLMRequestMapping.to_target(request) for request in batch_request.requests]\n",
    "lines = [json.dumps(request, separators=(',', ':')) for request in requests]\n",
    "jsonl_str = '\\n'.join(lines)\n",
    "jsonl_bytes = jsonl_str.encode('utf-8')"
   ]
  },
  {
   "cell_type": "code",
   "execution_count": 32,
   "metadata": {},
   "outputs": [],
   "source": [
    "request_dict = json.loads(lines[0])"
   ]
  },
  {
   "cell_type": "code",
   "execution_count": 33,
   "metadata": {},
   "outputs": [
    {
     "data": {
      "text/plain": [
       "ChatCompletionOutput(choices=[ChatCompletionOutputComplete(finish_reason='stop', index=0, message=ChatCompletionOutputMessage(role='assistant', content='{ \"result\": 4 }', tool_call_id=None, tool_calls=None), logprobs=None)], created=1743600003, id='', model='microsoft/Phi-3-mini-4k-instruct', system_fingerprint='3.2.1-native', usage=ChatCompletionOutputUsage(completion_tokens=9, prompt_tokens=17, total_tokens=26), object='chat.completion')"
      ]
     },
     "execution_count": 33,
     "metadata": {},
     "output_type": "execute_result"
    }
   ],
   "source": [
    "result = await client.chat_completion(**request_dict)\n",
    "result"
   ]
  },
  {
   "cell_type": "code",
   "execution_count": 40,
   "metadata": {},
   "outputs": [
    {
     "data": {
      "text/plain": [
       "LLMResponseList(id=UUID('f7fd3b29-2772-468d-831f-b160bf1dfaa0'), request_id=UUID('cb02d5a3-bed8-4109-b06c-04d585081ef3'), responses=[LLMResponse(id=UUID('3976268b-adbf-494a-b88b-fda24781d477'), content=BoundAssistantOutput(id=UUID('bd7fdedd-f32a-4d7f-845d-0a21413828b6'), input_id=UUID('c882baa3-2047-4f65-b8df-bd176bba3b2c'), result=4), logprobs=None)])"
      ]
     },
     "execution_count": 40,
     "metadata": {},
     "output_type": "execute_result"
    }
   ],
   "source": [
    "response_list = LLMResponseListMapping.to_source(\n",
    "    result,\n",
    "    request_id=request.id,\n",
    "    input_id=request_dict['extra_body']['input_id'],\n",
    "    response_type=SomeOutput,\n",
    ")\n",
    "response_list"
   ]
  },
  {
   "cell_type": "code",
   "execution_count": null,
   "metadata": {},
   "outputs": [],
   "source": [
    "input_file_path = Path(f'.tmp/input_{batch_request.id}.jsonl')\n",
    "\n",
    "with open(input_file_path, 'w') as input_file:\n",
    "    for line in lines:\n",
    "        input_file.write(line + '\\n')"
   ]
  },
  {
   "cell_type": "markdown",
   "metadata": {},
   "source": [
    "### Apptainer"
   ]
  },
  {
   "cell_type": "code",
   "execution_count": 5,
   "metadata": {},
   "outputs": [],
   "source": [
    "from pathlib import Path\n",
    "\n",
    "from math_rag.infrastructure.containers import InfrastructureContainer\n",
    "\n",
    "\n",
    "infrastructure_container = InfrastructureContainer()\n",
    "infrastructure_container.init_resources()\n",
    "\n",
    "apptainer_client = infrastructure_container.apptainer_client()\n",
    "sftp_client = infrastructure_container.sftp_client()\n",
    "pbs_pro_client = infrastructure_container.pbs_pro_client()\n",
    "hpc_client = infrastructure_container.hpc_client()"
   ]
  },
  {
   "cell_type": "code",
   "execution_count": 6,
   "metadata": {},
   "outputs": [
    {
     "name": "stderr",
     "output_type": "stream",
     "text": [
      "2025-04-08 14:38:31,643 - INFO - HTTP Request: GET http://host.docker.internal:7015/health \"HTTP/1.1 200 OK\"\n"
     ]
    },
    {
     "data": {
      "text/plain": [
       "True"
      ]
     },
     "execution_count": 6,
     "metadata": {},
     "output_type": "execute_result"
    }
   ],
   "source": [
    "await apptainer_client.health()"
   ]
  },
  {
   "cell_type": "code",
   "execution_count": 7,
   "metadata": {},
   "outputs": [],
   "source": [
    "from math_rag.infrastructure.inference.huggingface import HuggingFaceBatchLLM\n",
    "\n",
    "\n",
    "llm = HuggingFaceBatchLLM(\n",
    "    remote_project_root=Path('tgi_default_root'),\n",
    "    hpc_client=hpc_client,\n",
    "    pbs_pro_client=pbs_pro_client,\n",
    "    sftp_client=sftp_client,\n",
    "    apptainer_client=apptainer_client,\n",
    ")"
   ]
  },
  {
   "cell_type": "code",
   "execution_count": null,
   "metadata": {},
   "outputs": [],
   "source": [
    "await llm.init_resources()"
   ]
  },
  {
   "cell_type": "code",
   "execution_count": null,
   "metadata": {},
   "outputs": [
    {
     "name": "stderr",
     "output_type": "stream",
     "text": [
      "2025-04-08 14:44:57,944 - INFO - Host canonicalization disabled\n",
      "2025-04-08 14:44:57,944 - INFO - Opening SSH connection to login-gpu.hpc.srce.hr, port 22\n",
      "2025-04-08 14:44:57,953 - INFO - [conn=25] Connected to SSH server at login-gpu.hpc.srce.hr, port 22\n",
      "2025-04-08 14:44:57,953 - INFO - [conn=25]   Local address: 172.22.0.5, port 55106\n",
      "2025-04-08 14:44:57,954 - INFO - [conn=25]   Peer address: 161.53.2.37, port 22\n",
      "2025-04-08 14:44:57,989 - INFO - [conn=25] Beginning auth for user lpanic\n",
      "2025-04-08 14:44:58,326 - INFO - [conn=25] Auth for user lpanic succeeded\n",
      "2025-04-08 14:44:58,326 - INFO - [conn=25, chan=0] Requesting new SSH session\n",
      "2025-04-08 14:44:58,337 - INFO - [conn=25, chan=0]   Subsystem: sftp\n",
      "2025-04-08 14:44:58,346 - INFO - [conn=25, chan=0] Starting SFTP client\n",
      "2025-04-08 14:44:58,533 - INFO - [conn=25, chan=0] Received exit status 0\n",
      "2025-04-08 14:44:58,535 - INFO - [conn=25, chan=0] Received channel close\n",
      "2025-04-08 14:44:58,537 - INFO - [conn=25, chan=0] SFTP client exited\n",
      "2025-04-08 14:44:58,537 - INFO - [conn=25, chan=0] Closing channel\n",
      "2025-04-08 14:44:58,538 - INFO - [conn=25, chan=0] Channel closed\n",
      "2025-04-08 14:44:58,539 - INFO - [conn=25] Closing connection\n",
      "2025-04-08 14:44:58,540 - INFO - [conn=25] Sending disconnect: Disconnected by application (11)\n",
      "2025-04-08 14:44:58,542 - INFO - [conn=25] Connection closed\n",
      "2025-04-08 14:44:58,543 - INFO - Host canonicalization disabled\n",
      "2025-04-08 14:44:58,543 - INFO - Opening SSH connection to login-gpu.hpc.srce.hr, port 22\n",
      "2025-04-08 14:44:58,557 - INFO - [conn=26] Connected to SSH server at login-gpu.hpc.srce.hr, port 22\n",
      "2025-04-08 14:44:58,557 - INFO - [conn=26]   Local address: 172.22.0.5, port 55114\n",
      "2025-04-08 14:44:58,558 - INFO - [conn=26]   Peer address: 161.53.2.37, port 22\n",
      "2025-04-08 14:44:58,684 - INFO - [conn=26] Beginning auth for user lpanic\n",
      "2025-04-08 14:44:58,986 - INFO - [conn=26] Auth for user lpanic succeeded\n",
      "2025-04-08 14:44:58,988 - INFO - [conn=26, chan=0] Requesting new SSH session\n",
      "2025-04-08 14:44:59,035 - INFO - [conn=26, chan=0]   Command: cd tgi_default_root && qsub -v MODEL_HUB_ID=microsoft/Phi-3-mini-4k-instruct -l select=1:ncpus=8:mem=34359738368B:ngpus=1,walltime=1:00:00 tgi.sh\n",
      "2025-04-08 14:44:59,201 - INFO - [conn=26, chan=0] Received exit status 0\n",
      "2025-04-08 14:44:59,201 - INFO - [conn=26, chan=0] Received channel close\n",
      "2025-04-08 14:44:59,202 - INFO - [conn=26, chan=0] Channel closed\n",
      "2025-04-08 14:44:59,202 - INFO - Command `cd tgi_default_root && qsub -v MODEL_HUB_ID=microsoft/Phi-3-mini-4k-instruct -l select=1:ncpus=8:mem=34359738368B:ngpus=1,walltime=1:00:00 tgi.sh` in `run` returned stdout: 472032.x3000c0s25b0n0.hsn.hpc.srce.hr\n",
      "2025-04-08 14:44:59,202 - INFO - [conn=26] Closing connection\n",
      "2025-04-08 14:44:59,202 - INFO - [conn=26] Sending disconnect: Disconnected by application (11)\n",
      "2025-04-08 14:44:59,203 - INFO - [conn=26] Connection closed\n",
      "2025-04-08 14:44:59,203 - INFO - Host canonicalization disabled\n",
      "2025-04-08 14:44:59,204 - INFO - Opening SSH connection to login-gpu.hpc.srce.hr, port 22\n",
      "2025-04-08 14:44:59,214 - INFO - [conn=27] Connected to SSH server at login-gpu.hpc.srce.hr, port 22\n",
      "2025-04-08 14:44:59,214 - INFO - [conn=27]   Local address: 172.22.0.5, port 55126\n",
      "2025-04-08 14:44:59,214 - INFO - [conn=27]   Peer address: 161.53.2.37, port 22\n",
      "2025-04-08 14:44:59,246 - INFO - [conn=27] Beginning auth for user lpanic\n",
      "2025-04-08 14:44:59,512 - INFO - [conn=27] Auth for user lpanic succeeded\n",
      "2025-04-08 14:44:59,515 - INFO - [conn=27, chan=0] Requesting new SSH session\n",
      "2025-04-08 14:44:59,557 - INFO - [conn=27, chan=0]   Command: qstat -x 472032.x3000c0s25b0n0.hsn.hpc.srce.hr | awk 'NR==3 {print $1, $2, $3, $4, $5, $6}'\n",
      "2025-04-08 14:44:59,723 - INFO - [conn=27, chan=0] Received exit status 0\n",
      "2025-04-08 14:44:59,726 - INFO - [conn=27, chan=0] Received channel close\n",
      "2025-04-08 14:44:59,728 - INFO - [conn=27, chan=0] Channel closed\n",
      "2025-04-08 14:44:59,730 - INFO - Command `qstat -x 472032.x3000c0s25b0n0.hsn.hpc.srce.hr | awk 'NR==3 {print $1, $2, $3, $4, $5, $6}'` in `run` returned stdout: 472032.x3000c0s25b0n0 tgi lpanic 0 Q gpu\n",
      "2025-04-08 14:44:59,731 - INFO - [conn=27] Closing connection\n",
      "2025-04-08 14:44:59,732 - INFO - [conn=27] Sending disconnect: Disconnected by application (11)\n",
      "2025-04-08 14:44:59,733 - INFO - [conn=27] Connection closed\n",
      "2025-04-08 14:44:59,734 - INFO - Batch 472032.x3000c0s25b0n0.hsn.hpc.srce.hr created with state PBSProJobState.QUEUED\n",
      "2025-04-08 14:44:59,735 - INFO - Host canonicalization disabled\n",
      "2025-04-08 14:44:59,735 - INFO - Opening SSH connection to login-gpu.hpc.srce.hr, port 22\n",
      "2025-04-08 14:44:59,750 - INFO - [conn=28] Connected to SSH server at login-gpu.hpc.srce.hr, port 22\n",
      "2025-04-08 14:44:59,751 - INFO - [conn=28]   Local address: 172.22.0.5, port 55140\n",
      "2025-04-08 14:44:59,751 - INFO - [conn=28]   Peer address: 161.53.2.37, port 22\n",
      "2025-04-08 14:44:59,782 - INFO - [conn=28] Beginning auth for user lpanic\n",
      "2025-04-08 14:45:00,049 - INFO - [conn=28] Auth for user lpanic succeeded\n",
      "2025-04-08 14:45:00,052 - INFO - [conn=28, chan=0] Requesting new SSH session\n",
      "2025-04-08 14:45:00,098 - INFO - [conn=28, chan=0]   Command: qstat -x 472032.x3000c0s25b0n0.hsn.hpc.srce.hr | awk 'NR==3 {print $1, $2, $3, $4, $5, $6}'\n",
      "2025-04-08 14:45:00,265 - INFO - [conn=28, chan=0] Received exit status 0\n",
      "2025-04-08 14:45:00,267 - INFO - [conn=28, chan=0] Received channel close\n",
      "2025-04-08 14:45:00,269 - INFO - [conn=28, chan=0] Channel closed\n",
      "2025-04-08 14:45:00,270 - INFO - Command `qstat -x 472032.x3000c0s25b0n0.hsn.hpc.srce.hr | awk 'NR==3 {print $1, $2, $3, $4, $5, $6}'` in `run` returned stdout: 472032.x3000c0s25b0n0 tgi lpanic 0 Q gpu\n",
      "2025-04-08 14:45:00,270 - INFO - [conn=28] Closing connection\n",
      "2025-04-08 14:45:00,271 - INFO - [conn=28] Sending disconnect: Disconnected by application (11)\n",
      "2025-04-08 14:45:00,273 - INFO - [conn=28] Connection closed\n",
      "2025-04-08 14:45:00,274 - INFO - Batch 472032.x3000c0s25b0n0.hsn.hpc.srce.hr state PBSProJobState.QUEUED\n",
      "2025-04-08 14:48:00,303 - INFO - Host canonicalization disabled\n",
      "2025-04-08 14:48:00,304 - INFO - Opening SSH connection to login-gpu.hpc.srce.hr, port 22\n",
      "2025-04-08 14:48:00,323 - INFO - [conn=29] Connected to SSH server at login-gpu.hpc.srce.hr, port 22\n",
      "2025-04-08 14:48:00,323 - INFO - [conn=29]   Local address: 172.22.0.5, port 39998\n",
      "2025-04-08 14:48:00,323 - INFO - [conn=29]   Peer address: 161.53.2.37, port 22\n",
      "2025-04-08 14:48:00,363 - INFO - [conn=29] Beginning auth for user lpanic\n",
      "2025-04-08 14:48:00,638 - INFO - [conn=29] Auth for user lpanic succeeded\n",
      "2025-04-08 14:48:00,641 - INFO - [conn=29, chan=0] Requesting new SSH session\n",
      "2025-04-08 14:48:00,685 - INFO - [conn=29, chan=0]   Command: qstat -x 472032.x3000c0s25b0n0.hsn.hpc.srce.hr | awk 'NR==3 {print $1, $2, $3, $4, $5, $6}'\n",
      "2025-04-08 14:48:00,853 - INFO - [conn=29, chan=0] Received exit status 0\n",
      "2025-04-08 14:48:00,854 - INFO - [conn=29, chan=0] Received channel close\n",
      "2025-04-08 14:48:00,856 - INFO - [conn=29, chan=0] Channel closed\n",
      "2025-04-08 14:48:00,857 - INFO - Command `qstat -x 472032.x3000c0s25b0n0.hsn.hpc.srce.hr | awk 'NR==3 {print $1, $2, $3, $4, $5, $6}'` in `run` returned stdout: 472032.x3000c0s25b0n0 tgi lpanic 0 Q gpu\n",
      "2025-04-08 14:48:00,858 - INFO - [conn=29] Closing connection\n",
      "2025-04-08 14:48:00,858 - INFO - [conn=29] Sending disconnect: Disconnected by application (11)\n",
      "2025-04-08 14:48:00,859 - INFO - [conn=29] Connection closed\n",
      "2025-04-08 14:48:00,859 - INFO - Batch 472032.x3000c0s25b0n0.hsn.hpc.srce.hr state PBSProJobState.QUEUED\n",
      "2025-04-08 14:51:00,968 - INFO - Host canonicalization disabled\n",
      "2025-04-08 14:51:00,970 - INFO - Opening SSH connection to login-gpu.hpc.srce.hr, port 22\n",
      "2025-04-08 14:51:00,988 - INFO - [conn=30] Connected to SSH server at login-gpu.hpc.srce.hr, port 22\n",
      "2025-04-08 14:51:00,989 - INFO - [conn=30]   Local address: 172.22.0.5, port 51246\n",
      "2025-04-08 14:51:00,990 - INFO - [conn=30]   Peer address: 161.53.2.37, port 22\n",
      "2025-04-08 14:51:01,018 - INFO - [conn=30] Beginning auth for user lpanic\n",
      "2025-04-08 14:51:01,285 - INFO - [conn=30] Auth for user lpanic succeeded\n",
      "2025-04-08 14:51:01,286 - INFO - [conn=30, chan=0] Requesting new SSH session\n",
      "2025-04-08 14:51:01,336 - INFO - [conn=30, chan=0]   Command: qstat -x 472032.x3000c0s25b0n0.hsn.hpc.srce.hr | awk 'NR==3 {print $1, $2, $3, $4, $5, $6}'\n",
      "2025-04-08 14:51:01,502 - INFO - [conn=30, chan=0] Received exit status 0\n",
      "2025-04-08 14:51:01,504 - INFO - [conn=30, chan=0] Received channel close\n",
      "2025-04-08 14:51:01,507 - INFO - [conn=30, chan=0] Channel closed\n",
      "2025-04-08 14:51:01,508 - INFO - Command `qstat -x 472032.x3000c0s25b0n0.hsn.hpc.srce.hr | awk 'NR==3 {print $1, $2, $3, $4, $5, $6}'` in `run` returned stdout: 472032.x3000c0s25b0n0 tgi lpanic 0 Q gpu\n",
      "2025-04-08 14:51:01,508 - INFO - [conn=30] Closing connection\n",
      "2025-04-08 14:51:01,509 - INFO - [conn=30] Sending disconnect: Disconnected by application (11)\n",
      "2025-04-08 14:51:01,509 - INFO - [conn=30] Connection closed\n",
      "2025-04-08 14:51:01,510 - INFO - Batch 472032.x3000c0s25b0n0.hsn.hpc.srce.hr state PBSProJobState.QUEUED\n",
      "2025-04-08 14:54:01,534 - INFO - Host canonicalization disabled\n",
      "2025-04-08 14:54:01,535 - INFO - Opening SSH connection to login-gpu.hpc.srce.hr, port 22\n",
      "2025-04-08 14:54:01,550 - INFO - [conn=31] Connected to SSH server at login-gpu.hpc.srce.hr, port 22\n",
      "2025-04-08 14:54:01,551 - INFO - [conn=31]   Local address: 172.22.0.5, port 56090\n",
      "2025-04-08 14:54:01,551 - INFO - [conn=31]   Peer address: 161.53.2.37, port 22\n",
      "2025-04-08 14:54:01,583 - INFO - [conn=31] Beginning auth for user lpanic\n",
      "2025-04-08 14:54:01,849 - INFO - [conn=31] Auth for user lpanic succeeded\n",
      "2025-04-08 14:54:01,852 - INFO - [conn=31, chan=0] Requesting new SSH session\n",
      "2025-04-08 14:54:01,896 - INFO - [conn=31, chan=0]   Command: qstat -x 472032.x3000c0s25b0n0.hsn.hpc.srce.hr | awk 'NR==3 {print $1, $2, $3, $4, $5, $6}'\n",
      "2025-04-08 14:54:02,068 - INFO - [conn=31, chan=0] Received exit status 0\n",
      "2025-04-08 14:54:02,070 - INFO - [conn=31, chan=0] Received channel close\n",
      "2025-04-08 14:54:02,072 - INFO - [conn=31, chan=0] Channel closed\n",
      "2025-04-08 14:54:02,073 - INFO - Command `qstat -x 472032.x3000c0s25b0n0.hsn.hpc.srce.hr | awk 'NR==3 {print $1, $2, $3, $4, $5, $6}'` in `run` returned stdout: 472032.x3000c0s25b0n0 tgi lpanic 0 Q gpu\n",
      "2025-04-08 14:54:02,074 - INFO - [conn=31] Closing connection\n",
      "2025-04-08 14:54:02,074 - INFO - [conn=31] Sending disconnect: Disconnected by application (11)\n",
      "2025-04-08 14:54:02,075 - INFO - [conn=31] Connection closed\n",
      "2025-04-08 14:54:02,076 - INFO - Batch 472032.x3000c0s25b0n0.hsn.hpc.srce.hr state PBSProJobState.QUEUED\n",
      "2025-04-08 14:57:02,166 - INFO - Host canonicalization disabled\n",
      "2025-04-08 14:57:02,167 - INFO - Opening SSH connection to login-gpu.hpc.srce.hr, port 22\n",
      "2025-04-08 14:57:02,179 - INFO - [conn=32] Connected to SSH server at login-gpu.hpc.srce.hr, port 22\n",
      "2025-04-08 14:57:02,180 - INFO - [conn=32]   Local address: 172.22.0.5, port 40660\n",
      "2025-04-08 14:57:02,180 - INFO - [conn=32]   Peer address: 161.53.2.37, port 22\n",
      "2025-04-08 14:57:02,215 - INFO - [conn=32] Beginning auth for user lpanic\n",
      "2025-04-08 14:57:02,639 - INFO - [conn=32] Auth for user lpanic succeeded\n",
      "2025-04-08 14:57:02,641 - INFO - [conn=32, chan=0] Requesting new SSH session\n",
      "2025-04-08 14:57:02,710 - INFO - [conn=32, chan=0]   Command: qstat -x 472032.x3000c0s25b0n0.hsn.hpc.srce.hr | awk 'NR==3 {print $1, $2, $3, $4, $5, $6}'\n",
      "2025-04-08 14:57:02,879 - INFO - [conn=32, chan=0] Received exit status 0\n",
      "2025-04-08 14:57:02,881 - INFO - [conn=32, chan=0] Received channel close\n",
      "2025-04-08 14:57:02,883 - INFO - [conn=32, chan=0] Channel closed\n",
      "2025-04-08 14:57:02,884 - INFO - Command `qstat -x 472032.x3000c0s25b0n0.hsn.hpc.srce.hr | awk 'NR==3 {print $1, $2, $3, $4, $5, $6}'` in `run` returned stdout: 472032.x3000c0s25b0n0 tgi lpanic 0 Q gpu\n",
      "2025-04-08 14:57:02,884 - INFO - [conn=32] Closing connection\n",
      "2025-04-08 14:57:02,885 - INFO - [conn=32] Sending disconnect: Disconnected by application (11)\n",
      "2025-04-08 14:57:02,886 - INFO - [conn=32] Connection closed\n",
      "2025-04-08 14:57:02,887 - INFO - Batch 472032.x3000c0s25b0n0.hsn.hpc.srce.hr state PBSProJobState.QUEUED\n"
     ]
    }
   ],
   "source": [
    "res = await llm.batch_generate(\n",
    "    batch_request=batch_request,\n",
    "    response_type=SomeOutput,\n",
    "    poll_interval=3 * 60,\n",
    "    max_num_retries=0,\n",
    ")\n",
    "res"
   ]
  },
  {
   "cell_type": "code",
   "execution_count": null,
   "metadata": {},
   "outputs": [],
   "source": [
    "%run assets/hpc/hf/tgi/tgi.py   # TODO"
   ]
  }
 ],
 "metadata": {
  "kernelspec": {
   "display_name": ".venv",
   "language": "python",
   "name": "python3"
  },
  "language_info": {
   "codemirror_mode": {
    "name": "ipython",
    "version": 3
   },
   "file_extension": ".py",
   "mimetype": "text/x-python",
   "name": "python",
   "nbconvert_exporter": "python",
   "pygments_lexer": "ipython3",
   "version": "3.12.7"
  }
 },
 "nbformat": 4,
 "nbformat_minor": 2
}
