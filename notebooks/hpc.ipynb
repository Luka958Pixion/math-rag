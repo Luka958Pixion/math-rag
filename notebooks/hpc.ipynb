{
 "cells": [
  {
   "cell_type": "code",
   "execution_count": 1,
   "metadata": {},
   "outputs": [],
   "source": [
    "%load_ext autoreload\n",
    "%autoreload 2\n",
    "\n",
    "import os\n",
    "import sys\n",
    "\n",
    "import nest_asyncio\n",
    "\n",
    "\n",
    "sys.path.insert(0, os.path.abspath('..'))\n",
    "nest_asyncio.apply()"
   ]
  },
  {
   "cell_type": "code",
   "execution_count": 2,
   "metadata": {},
   "outputs": [],
   "source": [
    "from decouple import config\n",
    "\n",
    "\n",
    "HPC_USER = config('HPC_USER')\n",
    "HPC_HOST = config('HPC_HOST')\n",
    "HPC_PASSPHRASE = config('HPC_PASSPHRASE')"
   ]
  },
  {
   "cell_type": "code",
   "execution_count": null,
   "metadata": {},
   "outputs": [],
   "source": [
    "from pathlib import Path\n",
    "\n",
    "from math_rag.infrastructure.clients import PBSProClient, SFTPClient\n",
    "\n",
    "\n",
    "sftp_client = SFTPClient(HPC_HOST, HPC_USER, HPC_PASSPHRASE)\n",
    "pbs_pro_client = PBSProClient(HPC_HOST, HPC_USER, HPC_PASSPHRASE)"
   ]
  },
  {
   "cell_type": "code",
   "execution_count": null,
   "metadata": {},
   "outputs": [],
   "source": [
    "# TODO remove .. when not in /notebooks\n",
    "source = Path('../assets/huggingface/tgi/tgi.sh')\n",
    "target = Path('/lustre/home/lpanic/tgi_test.sh')\n",
    "\n",
    "await sftp_client.upload(source, target)"
   ]
  },
  {
   "cell_type": "code",
   "execution_count": null,
   "metadata": {},
   "outputs": [],
   "source": [
    "# TODO remove .. when not in /notebooks\n",
    "source = Path('/lustre/home/lpanic/tgi_test.sh')\n",
    "target = Path('../tmp/tgi.sh')\n",
    "\n",
    "await sftp_client.download(source, target)"
   ]
  },
  {
   "cell_type": "code",
   "execution_count": null,
   "metadata": {},
   "outputs": [
    {
     "name": "stdout",
     "output_type": "stream",
     "text": [
      "\n"
     ]
    }
   ],
   "source": [
    "res = await pbs_pro_client.queue_state()\n",
    "print(res)"
   ]
  },
  {
   "cell_type": "code",
   "execution_count": null,
   "metadata": {},
   "outputs": [
    {
     "data": {
      "text/plain": [
       "79"
      ]
     },
     "execution_count": 1,
     "metadata": {},
     "output_type": "execute_result"
    }
   ],
   "source": [
    "# limited to 80 characters (79 + newline)\n",
    "len('    Error_Path = x3000c0s27b0n0.hsn.hpc.srce.hr:/lustre/home/lpanic/hello_world')"
   ]
  },
  {
   "cell_type": "code",
   "execution_count": 2,
   "metadata": {},
   "outputs": [],
   "source": [
    "# qstat -f 465317\n",
    "queue_status = \"\"\"\n",
    "Job Id: 465317.x3000c0s25b0n0.hsn.hpc.srce.hr\n",
    "    Job_Name = hello\n",
    "    Job_Owner = lpanic@x3000c0s27b0n0.hsn.hpc.srce.hr\n",
    "    resources_used.cpupercent = 0\n",
    "    resources_used.cput = 00:00:00\n",
    "    resources_used.mem = 0b\n",
    "    resources_used.ncpus = 1\n",
    "    resources_used.vmem = 0kb\n",
    "    resources_used.walltime = 00:00:00\n",
    "    job_state = R\n",
    "    queue = cpu-single\n",
    "    server = x3000c0s25b0n0.hsn.hpc.srce.hr\n",
    "    Checkpoint = u\n",
    "    ctime = Fri Mar 28 10:45:48 2025\n",
    "    Error_Path = x3000c0s27b0n0.hsn.hpc.srce.hr:/lustre/home/lpanic/hello_world\n",
    "\t/hello.e465317\n",
    "    exec_host = x8000c1s4b0n1/1\n",
    "    exec_vnode = (x8000c1s4b0n1:mem=1843200kb:ncpus=1:ngpus=0)\n",
    "    Hold_Types = n\n",
    "    Join_Path = n\n",
    "    Keep_Files = oed\n",
    "    Mail_Points = a\n",
    "    mtime = Fri Mar 28 10:45:53 2025\n",
    "    Output_Path = x3000c0s27b0n0.hsn.hpc.srce.hr:/lustre/home/lpanic/hello_worl\n",
    "\td/hello.o465317\n",
    "    Priority = 0\n",
    "    qtime = Fri Mar 28 10:45:48 2025\n",
    "    Rerunable = True\n",
    "    Resource_List.mem = 1800mb\n",
    "    Resource_List.ncpus = 1\n",
    "    Resource_List.ngpus = 0\n",
    "    Resource_List.nodect = 1\n",
    "    Resource_List.place = pack\n",
    "    Resource_List.select = 1:mem=1800mb:ncpus=1:ngpus=0\n",
    "    Resource_List.walltime = 48:00:00\n",
    "    stime = Fri Mar 28 10:45:48 2025\n",
    "    session_id = 3900810\n",
    "    jobdir = /lustre/home/lpanic\n",
    "    substate = 42\n",
    "    Variable_List = PBS_O_HOME=/lustre/home/lpanic,PBS_O_LANG=en_US.UTF-8,\n",
    "\tPBS_O_LOGNAME=lpanic,\n",
    "\tPBS_O_PATH=/lustre/home/lpanic/.local/bin:/lustre/home/lpanic/bin:/opt\n",
    "\t/clmgr/sbin:/opt/clmgr/bin:/opt/sgi/sbin:/opt/sgi/bin:/usr/share/Module\n",
    "\ts/bin:/usr/local/bin:/usr/bin:/usr/local/sbin:/usr/sbin:/opt/c3/bin:/op\n",
    "\tt/pbs/bin:/sbin:/bin,PBS_O_MAIL=/var/spool/mail/lpanic,\n",
    "\tPBS_O_SHELL=/bin/bash,PBS_O_HOST=x3000c0s27b0n0.hsn.hpc.srce.hr,\n",
    "\tPBS_O_WORKDIR=/lustre/home/lpanic/hello_world,PBS_O_SYSTEM=Linux,\n",
    "\tPBS_O_QUEUE=RouteQ\n",
    "         = Job run at Fri Mar 28 at 10:45 on (x8000c1s4b0n1:mem=1843200kb:nc\n",
    "\tpus=1:ngpus=0)\n",
    "    etime = Fri Mar 28 10:45:48 2025\n",
    "    run_count = 1\n",
    "    eligible_time = 00:00:05\n",
    "    Submit_arguments = -koed hello.sh\n",
    "    project = _pbs_project_default\n",
    "    Submit_Host = x3000c0s27b0n0.hsn.hpc.srce.hr\n",
    "\"\"\""
   ]
  },
  {
   "cell_type": "code",
   "execution_count": 8,
   "metadata": {},
   "outputs": [],
   "source": [
    "from math_rag.infrastructure.mappings.hpcs.pbs import PBSProJobMapping\n",
    "\n",
    "\n",
    "job = PBSProJobMapping.to_source(queue_status)"
   ]
  },
  {
   "cell_type": "code",
   "execution_count": 4,
   "metadata": {},
   "outputs": [
    {
     "data": {
      "text/plain": [
       "HPCGPUStatistics(job_id=465711, node='x8000c2s0b0n1', gpu='GPU-3', used_percent=0, mem_used=1048576)"
      ]
     },
     "execution_count": 4,
     "metadata": {},
     "output_type": "execute_result"
    }
   ],
   "source": [
    "from math_rag.infrastructure.mappings.hpcs import HPCGPUStatisticsMapping\n",
    "\n",
    "\n",
    "text = '465711_x8000c2s0b0n1_GPU-3_0 %_1 MiB'\n",
    "\n",
    "HPCGPUStatisticsMapping.to_source(text)"
   ]
  },
  {
   "cell_type": "code",
   "execution_count": 2,
   "metadata": {},
   "outputs": [],
   "source": [
    "# job_tmp_size\n",
    "text = \"\"\"\n",
    "JOB_ID : 465711\n",
    "4.0K /lustre/scratch/pbs.465711.x3000c0s25b0n0.hsn.hpc.srce.hr\n",
    "\"\"\""
   ]
  },
  {
   "cell_type": "code",
   "execution_count": null,
   "metadata": {},
   "outputs": [
    {
     "data": {
      "text/plain": [
       "HPCJobTemporarySize(job_id=465711, mem=4096, path=PosixPath('/lustre/scratch/pbs.465711.x3000c0s25b0n0.hsn.hpc.srce.hr'))"
      ]
     },
     "execution_count": 3,
     "metadata": {},
     "output_type": "execute_result"
    }
   ],
   "source": [
    "from math_rag.infrastructure.mappings.hpcs import HPCJobTemporarySizeEntryMapping\n",
    "\n",
    "\n",
    "HPCJobTemporarySizeEntryMapping.to_source(text)"
   ]
  },
  {
   "cell_type": "code",
   "execution_count": null,
   "metadata": {},
   "outputs": [
    {
     "data": {
      "text/plain": [
       "HPCCPUStatistics(job_id=465709, num_cpus=4, used_percent=4.0, mem=1073741824, used_mem=0, walltime=datetime.timedelta(days=2), used_walltime=datetime.timedelta(seconds=21), exit_code='271x')"
      ]
     },
     "execution_count": 4,
     "metadata": {},
     "output_type": "execute_result"
    }
   ],
   "source": [
    "from math_rag.infrastructure.mappings.hpcs import HPCJobStatisticsMapping\n",
    "\n",
    "\n",
    "text = '465709 4 0 1gb 0gb 48:00:00 00:00:21 271x'\n",
    "\n",
    "HPCJobStatisticsMapping.to_source(text)"
   ]
  },
  {
   "cell_type": "code",
   "execution_count": null,
   "metadata": {},
   "outputs": [],
   "source": [
    "# TODO pbs job pro slim mapping"
   ]
  },
  {
   "cell_type": "code",
   "execution_count": null,
   "metadata": {},
   "outputs": [
    {
     "name": "stdout",
     "output_type": "stream",
     "text": [
      "Job 291785, 8.0K, /lustre/scratch/pbs.291785.x3000c0s25b0n0.hsn.hpc.srce.hr\n",
      "Job 291786, 8.0K, /lustre/scratch/pbs.291786.x3000c0s25b0n0.hsn.hpc.srce.hr\n",
      "Job 291787, 8.0K, /lustre/scratch/pbs.291787.x3000c0s25b0n0.hsn.hpc.srce.hr\n",
      "Job 291788, 8.0K, /lustre/scratch/pbs.291788.x3000c0s25b0n0.hsn.hpc.srce.hr\n",
      "Total: 32K\n"
     ]
    }
   ],
   "source": [
    "from pathlib import Path\n",
    "\n",
    "\n",
    "text = \"\"\"\n",
    " \n",
    "JOB_ID : 291785\n",
    "8.0K /lustre/scratch/pbs.291785.x3000c0s25b0n0.hsn.hpc.srce.hr\n",
    " \n",
    "JOB_ID : 291786\n",
    "8.0K /lustre/scratch/pbs.291786.x3000c0s25b0n0.hsn.hpc.srce.hr\n",
    " \n",
    "JOB_ID : 291787\n",
    "8.0K /lustre/scratch/pbs.291787.x3000c0s25b0n0.hsn.hpc.srce.hr\n",
    " \n",
    "JOB_ID : 291788\n",
    "8.0K /lustre/scratch/pbs.291788.x3000c0s25b0n0.hsn.hpc.srce.hr\n",
    "\n",
    "\n",
    "32K\ttotal\n",
    "\"\"\"\n",
    "\n",
    "entries = []\n",
    "lines = [line.strip() for line in text.splitlines() if line.strip()]\n",
    "line_iter = iter(lines)\n",
    "\n",
    "for line in line_iter:\n",
    "    if line.startswith('JOB_ID'):\n",
    "        job_id = int(line.split(':')[1].strip())\n",
    "        size_line = next(line_iter)\n",
    "        size_str, path_str = size_line.split(maxsplit=1)\n",
    "        entries.append((job_id, size_str, Path(path_str)))\n",
    "\n",
    "total = lines[-1].split()[0]\n",
    "\n",
    "for job_id, size, path in entries:\n",
    "    print(f'Job {job_id}, {size}, {path}')\n",
    "\n",
    "print(f'Total: {total}')"
   ]
  },
  {
   "cell_type": "code",
   "execution_count": 44,
   "metadata": {},
   "outputs": [
    {
     "data": {
      "text/plain": [
       "HPCJobTemporarySize(entries=[HPCJobTemporarySizeEntry(job_id=291785, mem=8192, path=PosixPath('/lustre/scratch/pbs.291785.x3000c0s25b0n0.hsn.hpc.srce.hr')), HPCJobTemporarySizeEntry(job_id=291786, mem=8192, path=PosixPath('/lustre/scratch/pbs.291786.x3000c0s25b0n0.hsn.hpc.srce.hr')), HPCJobTemporarySizeEntry(job_id=291787, mem=8192, path=PosixPath('/lustre/scratch/pbs.291787.x3000c0s25b0n0.hsn.hpc.srce.hr')), HPCJobTemporarySizeEntry(job_id=291788, mem=8192, path=PosixPath('/lustre/scratch/pbs.291788.x3000c0s25b0n0.hsn.hpc.srce.hr'))], mem_total=32768)"
      ]
     },
     "execution_count": 44,
     "metadata": {},
     "output_type": "execute_result"
    }
   ],
   "source": [
    "target = \"\"\"\n",
    "\n",
    "JOB_ID : 291785\n",
    "8.0K /lustre/scratch/pbs.291785.x3000c0s25b0n0.hsn.hpc.srce.hr\n",
    "\n",
    "JOB_ID : 291786\n",
    "8.0K /lustre/scratch/pbs.291786.x3000c0s25b0n0.hsn.hpc.srce.hr\n",
    "\n",
    "JOB_ID : 291787\n",
    "8.0K /lustre/scratch/pbs.291787.x3000c0s25b0n0.hsn.hpc.srce.hr\n",
    "\n",
    "JOB_ID : 291788\n",
    "8.0K /lustre/scratch/pbs.291788.x3000c0s25b0n0.hsn.hpc.srce.hr\n",
    "\n",
    "\n",
    "32K\ttotal\n",
    "\"\"\"\n",
    "\n",
    "from math_rag.infrastructure.mappings.hpcs import HPCJobTemporarySizeMapping\n",
    "\n",
    "\n",
    "HPCJobTemporarySizeMapping.to_source(target)"
   ]
  }
 ],
 "metadata": {
  "kernelspec": {
   "display_name": ".venv",
   "language": "python",
   "name": "python3"
  },
  "language_info": {
   "codemirror_mode": {
    "name": "ipython",
    "version": 3
   },
   "file_extension": ".py",
   "mimetype": "text/x-python",
   "name": "python",
   "nbconvert_exporter": "python",
   "pygments_lexer": "ipython3",
   "version": "3.12.7"
  }
 },
 "nbformat": 4,
 "nbformat_minor": 2
}
