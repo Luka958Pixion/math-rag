{
 "cells": [
  {
   "cell_type": "code",
   "execution_count": 1,
   "metadata": {},
   "outputs": [],
   "source": [
    "%load_ext autoreload\n",
    "%autoreload 2\n",
    "\n",
    "import os\n",
    "import sys\n",
    "\n",
    "import nest_asyncio\n",
    "\n",
    "\n",
    "sys.path.insert(0, os.path.abspath('..'))\n",
    "nest_asyncio.apply()"
   ]
  },
  {
   "cell_type": "code",
   "execution_count": null,
   "metadata": {},
   "outputs": [],
   "source": [
    "from asyncio import run, sleep\n",
    "\n",
    "from asyncssh import connect"
   ]
  },
  {
   "cell_type": "code",
   "execution_count": null,
   "metadata": {},
   "outputs": [],
   "source": [
    "# less nesting\n",
    "from contextlib import AsyncExitStack\n",
    "from pathlib import Path\n",
    "from typing import AsyncGenerator\n",
    "\n",
    "\n",
    "HPC_USERNAME = ...\n",
    "HPC_HOSTNAME = ...\n",
    "\n",
    "\n",
    "class LocalHPCClient:\n",
    "    def __init__(self, host: str, user: str):\n",
    "        self.host = host\n",
    "        self.user = user\n",
    "\n",
    "    async def scp(\n",
    "        self,\n",
    "        source_stream: AsyncGenerator[bytes, None],\n",
    "        target_path: Path,\n",
    "    ):\n",
    "        async with AsyncExitStack() as stack:\n",
    "            conn = await stack.enter_async_context(\n",
    "                connect(self.host, username=self.user)\n",
    "            )\n",
    "            sftp = await stack.enter_async_context(conn.start_sftp_client())\n",
    "            file = await stack.enter_async_context(sftp.open(str(target_path), 'wb'))\n",
    "\n",
    "            async for chunk in source_stream:\n",
    "                await file.write(chunk)\n",
    "\n",
    "\n",
    "class RemoteHPCClient:\n",
    "    def __init__(self, host: str, user: str):\n",
    "        self.host = host\n",
    "        self.user = user\n",
    "\n",
    "    async def qstat(self):\n",
    "        async with connect(self.host, username=self.user) as connection:\n",
    "            result = await connection.run('qstat', check=True)\n",
    "            stdout = result.stdout.strip()\n",
    "\n",
    "        return stdout"
   ]
  }
 ],
 "metadata": {
  "kernelspec": {
   "display_name": "math-rag-QVTscwFS-py3.12",
   "language": "python",
   "name": "python3"
  },
  "language_info": {
   "codemirror_mode": {
    "name": "ipython",
    "version": 3
   },
   "file_extension": ".py",
   "mimetype": "text/x-python",
   "name": "python",
   "nbconvert_exporter": "python",
   "pygments_lexer": "ipython3",
   "version": "3.12.9"
  }
 },
 "nbformat": 4,
 "nbformat_minor": 2
}
