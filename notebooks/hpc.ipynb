{
 "cells": [
  {
   "cell_type": "code",
   "execution_count": null,
   "metadata": {},
   "outputs": [],
   "source": [
    "%load_ext autoreload\n",
    "%autoreload 2\n",
    "\n",
    "import os\n",
    "import sys\n",
    "\n",
    "import nest_asyncio\n",
    "\n",
    "\n",
    "sys.path.insert(0, os.path.abspath('..'))\n",
    "nest_asyncio.apply()"
   ]
  },
  {
   "cell_type": "code",
   "execution_count": 3,
   "metadata": {},
   "outputs": [],
   "source": [
    "from asyncio import run, sleep\n",
    "\n",
    "from asyncssh import connect\n",
    "from decouple import config\n",
    "\n",
    "\n",
    "HPC_USER = config('HPC_USER')\n",
    "HPC_HOST = config('HPC_HOST')"
   ]
  },
  {
   "cell_type": "code",
   "execution_count": 4,
   "metadata": {},
   "outputs": [],
   "source": [
    "from contextlib import AsyncExitStack\n",
    "from pathlib import Path\n",
    "from typing import AsyncGenerator\n",
    "\n",
    "\n",
    "class SCPClient:\n",
    "    def __init__(self, host: str, user: str):\n",
    "        self.host = host\n",
    "        self.user = user\n",
    "\n",
    "    async def secure_copy(\n",
    "        self,\n",
    "        source_stream: AsyncGenerator[bytes, None],\n",
    "        target_path: Path,\n",
    "    ):\n",
    "        async with AsyncExitStack() as stack:\n",
    "            conn = await stack.enter_async_context(\n",
    "                connect(self.host, username=self.user)\n",
    "            )\n",
    "            sftp = await stack.enter_async_context(conn.start_sftp_client())\n",
    "            file = await stack.enter_async_context(sftp.open(str(target_path), 'wb'))\n",
    "\n",
    "            async for chunk in source_stream:\n",
    "                await file.write(chunk)"
   ]
  },
  {
   "cell_type": "code",
   "execution_count": 5,
   "metadata": {},
   "outputs": [],
   "source": [
    "import logging\n",
    "\n",
    "from asyncssh import ConnectionLost, Error, connect\n",
    "from backoff import expo, on_exception\n",
    "\n",
    "\n",
    "class PBSProClient:\n",
    "    def __init__(self, host: str, user: str):\n",
    "        self.host = host\n",
    "        self.user = user\n",
    "\n",
    "    @on_exception(expo, (OSError, ConnectionLost), max_tries=4)\n",
    "    async def _run(self, args: list) -> str:\n",
    "        try:\n",
    "            async with await connect(self.host, username=self.user) as connection:\n",
    "                result = await connection.run(*args, check=False)\n",
    "\n",
    "                if result.exit_status != 0:\n",
    "                    logging.error(\n",
    "                        f'SSH process with command {result.command},\\n'\n",
    "                        f'completed with status {result.exit_status},\\n'\n",
    "                        f'STDOUT: {result.stderr},\\n'\n",
    "                        f'STDERR: {result.stderr}'\n",
    "                    )\n",
    "                    raise Exception(\n",
    "                        f'SSH process completed with status {result.exit_status}'\n",
    "                    )\n",
    "\n",
    "                return result.stdout.strip()\n",
    "\n",
    "        except Error:\n",
    "            raise\n",
    "\n",
    "    async def queue_state(self):\n",
    "        # qstat\n",
    "        stdout = await self._run(['qstat'])\n",
    "        # TODO parse\n",
    "\n",
    "        return stdout\n",
    "\n",
    "    async def queue_submit(self, pbs_filename: str):\n",
    "        # qsub\n",
    "        stdout = await self._run(['qsub', pbs_filename])\n",
    "        pass\n",
    "\n",
    "    async def queue_delete(self, job_id: int):\n",
    "        # qdel\n",
    "        stdout = await self._run(['qdel', str(job_id)])\n",
    "        pass\n",
    "\n",
    "    async def queue_hold(self):\n",
    "        # qhold\n",
    "        pass\n",
    "\n",
    "    async def queue_release(self):\n",
    "        # qrls\n",
    "        pass\n",
    "\n",
    "    async def trace_job(self):\n",
    "        # tracejob\n",
    "        pass"
   ]
  },
  {
   "cell_type": "code",
   "execution_count": 5,
   "metadata": {},
   "outputs": [],
   "source": [
    "from pathlib import Path\n",
    "\n",
    "from pydantic import BaseModel\n",
    "\n",
    "\n",
    "class PBSProJob(BaseModel):\n",
    "    id: str\n",
    "    session_id: str\n",
    "    name: str\n",
    "    owner: str\n",
    "    state: str  # TODO\n",
    "    dir: Path\n",
    "    substate: int\n",
    "    priority: int  # TODO make enum?"
   ]
  },
  {
   "cell_type": "code",
   "execution_count": 36,
   "metadata": {},
   "outputs": [],
   "source": [
    "from datetime import timedelta\n",
    "\n",
    "from pydantic import BaseModel, Field, field_validator\n",
    "\n",
    "from math_rag.infrastructure.models.validators import PBSProValidator\n",
    "\n",
    "\n",
    "class PBSProResourcesUsed(BaseModel):\n",
    "    cpu_percent: int = Field(alias='resources_used.cpupercent')\n",
    "    cpu_time: timedelta = Field(alias='resources_used.cput')\n",
    "    num_cpus: int = Field(alias='resources_used.ncpus')\n",
    "    memory: int = Field(alias='resources_used.mem')\n",
    "    virtual_memory: int = Field(alias='resources_used.vmem')\n",
    "    walltime: timedelta = Field(alias='resources_used.walltime')\n",
    "\n",
    "    @field_validator('memory', 'virtual_memory', mode='before')\n",
    "    def parse_memory(cls, value: str):\n",
    "        return PBSProValidator.parse_memory(value)"
   ]
  },
  {
   "cell_type": "code",
   "execution_count": 26,
   "metadata": {},
   "outputs": [],
   "source": [
    "from datetime import timedelta\n",
    "\n",
    "from pydantic import BaseModel, Field, field_validator\n",
    "\n",
    "from math_rag.infrastructure.models.validators import PBSProValidator\n",
    "\n",
    "\n",
    "class PBSProResourceList(BaseModel):\n",
    "    memory: int = Field(alias='resource_list.mem')\n",
    "    num_cpus: int = Field(alias='resource_list.ncpus')\n",
    "    num_gpus: int = Field(alias='resource_list.ngpus')\n",
    "    num_nodes: int = Field(alias='resource_list.nodect')\n",
    "    place: str = Field(alias='resource_list.place')\n",
    "    select: str = Field(alias='resource_list.select')\n",
    "    walltime: timedelta = Field(alias='resource_list.walltime')\n",
    "\n",
    "    @field_validator('memory', mode='before')\n",
    "    def parse_memory(cls, value: str):\n",
    "        return PBSProValidator.parse_memory(value)"
   ]
  },
  {
   "cell_type": "code",
   "execution_count": 27,
   "metadata": {},
   "outputs": [],
   "source": [
    "from datetime import datetime\n",
    "\n",
    "from pydantic import BaseModel, Field, field_validator\n",
    "\n",
    "\n",
    "FORMAT = '%a %b %d %H:%M:%S %Y'\n",
    "\n",
    "\n",
    "class PBSProTime(BaseModel):\n",
    "    created: datetime = Field(alias='ctime')\n",
    "    queued: datetime = Field(alias='qtime')\n",
    "    modified: datetime = Field(alias='mtime')\n",
    "    started: datetime = Field(alias='stime')\n",
    "    eligible: datetime = Field(alias='etime')\n",
    "\n",
    "    @field_validator(\n",
    "        'created', 'queued', 'modified', 'started', 'eligible', mode='before'\n",
    "    )\n",
    "    def parse_datetime(cls, value: str) -> datetime:\n",
    "        return datetime.strptime(value, FORMAT)"
   ]
  },
  {
   "cell_type": "code",
   "execution_count": 49,
   "metadata": {},
   "outputs": [],
   "source": [
    "from pathlib import Path\n",
    "\n",
    "from pydantic import BaseModel, Field\n",
    "\n",
    "\n",
    "class PBSProVariableList(BaseModel):\n",
    "    home: Path = Field(alias='PBS_O_HOME')\n",
    "    path: Path = Field(alias='PBS_O_PATH')\n",
    "    mail: Path = Field(alias='PBS_O_MAIL')\n",
    "    shell: Path = Field(alias='PBS_O_SHELL')\n",
    "    workdir: Path = Field(alias='PBS_O_WORKDIR')\n",
    "    host: str = Field(alias='PBS_O_HOST')\n",
    "    lang: str = Field(alias='PBS_O_LANG')\n",
    "    logname: str = Field(alias='PBS_O_LOGNAME')\n",
    "    system: str = Field(alias='PBS_O_SYSTEM')\n",
    "    queue: str = Field(alias='PBS_O_QUEUE')"
   ]
  },
  {
   "cell_type": "code",
   "execution_count": null,
   "metadata": {},
   "outputs": [
    {
     "data": {
      "text/plain": [
       "79"
      ]
     },
     "execution_count": 1,
     "metadata": {},
     "output_type": "execute_result"
    }
   ],
   "source": [
    "# limited to 80 characters (79 + newline)\n",
    "len('    Error_Path = x3000c0s27b0n0.hsn.hpc.srce.hr:/lustre/home/lpanic/hello_world')"
   ]
  },
  {
   "cell_type": "code",
   "execution_count": 13,
   "metadata": {},
   "outputs": [],
   "source": [
    "# qstat -f 465317\n",
    "text = \"\"\"\n",
    "Job Id: 465317.x3000c0s25b0n0.hsn.hpc.srce.hr\n",
    "    Job_Name = hello\n",
    "    Job_Owner = lpanic@x3000c0s27b0n0.hsn.hpc.srce.hr\n",
    "    resources_used.cpupercent = 0\n",
    "    resources_used.cput = 00:00:00\n",
    "    resources_used.mem = 0b\n",
    "    resources_used.ncpus = 1\n",
    "    resources_used.vmem = 0kb\n",
    "    resources_used.walltime = 00:00:00\n",
    "    job_state = R\n",
    "    queue = cpu-single\n",
    "    server = x3000c0s25b0n0.hsn.hpc.srce.hr\n",
    "    Checkpoint = u\n",
    "    ctime = Fri Mar 28 10:45:48 2025\n",
    "    Error_Path = x3000c0s27b0n0.hsn.hpc.srce.hr:/lustre/home/lpanic/hello_world\n",
    "\t/hello.e465317\n",
    "    exec_host = x8000c1s4b0n1/1\n",
    "    exec_vnode = (x8000c1s4b0n1:mem=1843200kb:ncpus=1:ngpus=0)\n",
    "    Hold_Types = n\n",
    "    Join_Path = n\n",
    "    Keep_Files = oed\n",
    "    Mail_Points = a\n",
    "    mtime = Fri Mar 28 10:45:53 2025\n",
    "    Output_Path = x3000c0s27b0n0.hsn.hpc.srce.hr:/lustre/home/lpanic/hello_worl\n",
    "\td/hello.o465317\n",
    "    Priority = 0\n",
    "    qtime = Fri Mar 28 10:45:48 2025\n",
    "    Rerunable = True\n",
    "    Resource_List.mem = 1800mb\n",
    "    Resource_List.ncpus = 1\n",
    "    Resource_List.ngpus = 0\n",
    "    Resource_List.nodect = 1\n",
    "    Resource_List.place = pack\n",
    "    Resource_List.select = 1:mem=1800mb:ncpus=1:ngpus=0\n",
    "    Resource_List.walltime = 48:00:00\n",
    "    stime = Fri Mar 28 10:45:48 2025\n",
    "    session_id = 3900810\n",
    "    jobdir = /lustre/home/lpanic\n",
    "    substate = 42\n",
    "    Variable_List = PBS_O_HOME=/lustre/home/lpanic,PBS_O_LANG=en_US.UTF-8,\n",
    "\tPBS_O_LOGNAME=lpanic,\n",
    "\tPBS_O_PATH=/lustre/home/lpanic/.local/bin:/lustre/home/lpanic/bin:/opt\n",
    "\t/clmgr/sbin:/opt/clmgr/bin:/opt/sgi/sbin:/opt/sgi/bin:/usr/share/Module\n",
    "\ts/bin:/usr/local/bin:/usr/bin:/usr/local/sbin:/usr/sbin:/opt/c3/bin:/op\n",
    "\tt/pbs/bin:/sbin:/bin,PBS_O_MAIL=/var/spool/mail/lpanic,\n",
    "\tPBS_O_SHELL=/bin/bash,PBS_O_HOST=x3000c0s27b0n0.hsn.hpc.srce.hr,\n",
    "\tPBS_O_WORKDIR=/lustre/home/lpanic/hello_world,PBS_O_SYSTEM=Linux,\n",
    "\tPBS_O_QUEUE=RouteQ\n",
    "         = Job run at Fri Mar 28 at 10:45 on (x8000c1s4b0n1:mem=1843200kb:nc\n",
    "\tpus=1:ngpus=0)\n",
    "    etime = Fri Mar 28 10:45:48 2025\n",
    "    run_count = 1\n",
    "    eligible_time = 00:00:05\n",
    "    Submit_arguments = -koed hello.sh\n",
    "    project = _pbs_project_default\n",
    "    Submit_Host = x3000c0s27b0n0.hsn.hpc.srce.hr\n",
    "\"\"\""
   ]
  },
  {
   "cell_type": "code",
   "execution_count": 11,
   "metadata": {},
   "outputs": [],
   "source": [
    "def parse_queue_status_full(text: str) -> dict[str, str]:\n",
    "    result: dict[str, str] = {}\n",
    "    lines = text.splitlines()\n",
    "    buffer = ''\n",
    "    collected: list[str] = []\n",
    "\n",
    "    for line in lines:\n",
    "        line = line.rstrip('\\n')\n",
    "\n",
    "        if line.startswith('Job Id:'):\n",
    "            result['Job_Id'] = line.split(':', 1)[1].strip()\n",
    "            continue\n",
    "\n",
    "        stripped = line.lstrip('\\t')\n",
    "        is_continuation = stripped.lstrip().startswith('=')\n",
    "        eq_index = stripped.find(' = ')\n",
    "        is_new_entry = eq_index != -1 and eq_index < 40 and not is_continuation\n",
    "\n",
    "        if is_new_entry:\n",
    "            if buffer:\n",
    "                collected.append(buffer)\n",
    "            buffer = stripped.strip()\n",
    "\n",
    "        else:\n",
    "            buffer += stripped.strip()\n",
    "\n",
    "    if buffer:\n",
    "        collected.append(buffer)\n",
    "\n",
    "    for entry in collected:\n",
    "        if ' = ' in entry:\n",
    "            key, value = entry.split(' = ', 1)\n",
    "            result[key.strip()] = value.strip()\n",
    "\n",
    "    return result"
   ]
  },
  {
   "cell_type": "code",
   "execution_count": 40,
   "metadata": {},
   "outputs": [],
   "source": [
    "def parse_pbs_env_vars(env_string: str) -> dict[str, str]:\n",
    "    pairs = env_string.split(',')\n",
    "    env_vars = {}\n",
    "\n",
    "    for pair in pairs:\n",
    "        if pair.startswith('PBS_O_') and '=' in pair:\n",
    "            key, value = pair.split('=', 1)\n",
    "            env_vars[key] = value\n",
    "\n",
    "    return env_vars"
   ]
  },
  {
   "cell_type": "code",
   "execution_count": 30,
   "metadata": {},
   "outputs": [
    {
     "data": {
      "text/plain": [
       "{'job_id': '465317.x3000c0s25b0n0.hsn.hpc.srce.hr',\n",
       " 'job_name': 'hello',\n",
       " 'job_owner': 'lpanic@x3000c0s27b0n0.hsn.hpc.srce.hr',\n",
       " 'resources_used.cpupercent': '0',\n",
       " 'resources_used.cput': '00:00:00',\n",
       " 'resources_used.mem': '0b',\n",
       " 'resources_used.ncpus': '1',\n",
       " 'resources_used.vmem': '0kb',\n",
       " 'resources_used.walltime': '00:00:00',\n",
       " 'job_state': 'R',\n",
       " 'queue': 'cpu-single',\n",
       " 'server': 'x3000c0s25b0n0.hsn.hpc.srce.hr',\n",
       " 'checkpoint': 'u',\n",
       " 'ctime': 'Fri Mar 28 10:45:48 2025',\n",
       " 'error_path': 'x3000c0s27b0n0.hsn.hpc.srce.hr:/lustre/home/lpanic/hello_world/hello.e465317',\n",
       " 'exec_host': 'x8000c1s4b0n1/1',\n",
       " 'exec_vnode': '(x8000c1s4b0n1:mem=1843200kb:ncpus=1:ngpus=0)',\n",
       " 'hold_types': 'n',\n",
       " 'join_path': 'n',\n",
       " 'keep_files': 'oed',\n",
       " 'mail_points': 'a',\n",
       " 'mtime': 'Fri Mar 28 10:45:53 2025',\n",
       " 'output_path': 'x3000c0s27b0n0.hsn.hpc.srce.hr:/lustre/home/lpanic/hello_world/hello.o465317',\n",
       " 'priority': '0',\n",
       " 'qtime': 'Fri Mar 28 10:45:48 2025',\n",
       " 'rerunable': 'True',\n",
       " 'resource_list.mem': '1800mb',\n",
       " 'resource_list.ncpus': '1',\n",
       " 'resource_list.ngpus': '0',\n",
       " 'resource_list.nodect': '1',\n",
       " 'resource_list.place': 'pack',\n",
       " 'resource_list.select': '1:mem=1800mb:ncpus=1:ngpus=0',\n",
       " 'resource_list.walltime': '48:00:00',\n",
       " 'stime': 'Fri Mar 28 10:45:48 2025',\n",
       " 'session_id': '3900810',\n",
       " 'jobdir': '/lustre/home/lpanic',\n",
       " 'substate': '42',\n",
       " 'variable_list': 'PBS_O_HOME=/lustre/home/lpanic,PBS_O_LANG=en_US.UTF-8,PBS_O_LOGNAME=lpanic,PBS_O_PATH=/lustre/home/lpanic/.local/bin:/lustre/home/lpanic/bin:/opt/clmgr/sbin:/opt/clmgr/bin:/opt/sgi/sbin:/opt/sgi/bin:/usr/share/Modules/bin:/usr/local/bin:/usr/bin:/usr/local/sbin:/usr/sbin:/opt/c3/bin:/opt/pbs/bin:/sbin:/bin,PBS_O_MAIL=/var/spool/mail/lpanic,PBS_O_SHELL=/bin/bash,PBS_O_HOST=x3000c0s27b0n0.hsn.hpc.srce.hr,PBS_O_WORKDIR=/lustre/home/lpanic/hello_world,PBS_O_SYSTEM=Linux,PBS_O_QUEUE=RouteQ= Job run at Fri Mar 28 at 10:45 on (x8000c1s4b0n1:mem=1843200kb:ncpus=1:ngpus=0)',\n",
       " 'etime': 'Fri Mar 28 10:45:48 2025',\n",
       " 'run_count': '1',\n",
       " 'eligible_time': '00:00:05',\n",
       " 'submit_arguments': '-koed hello.sh',\n",
       " 'project': '_pbs_project_default',\n",
       " 'submit_host': 'x3000c0s27b0n0.hsn.hpc.srce.hr'}"
      ]
     },
     "execution_count": 30,
     "metadata": {},
     "output_type": "execute_result"
    }
   ],
   "source": [
    "queue_status_full = parse_queue_status_full(text)\n",
    "queue_status_full = {key.lower(): value for key, value in queue_status_full.items()}\n",
    "queue_status_full"
   ]
  },
  {
   "cell_type": "code",
   "execution_count": 16,
   "metadata": {},
   "outputs": [
    {
     "data": {
      "text/plain": [
       "PBSProTime(created=datetime.datetime(2025, 3, 28, 10, 45, 48), queued=datetime.datetime(2025, 3, 28, 10, 45, 48), modified=datetime.datetime(2025, 3, 28, 10, 45, 53), started=datetime.datetime(2025, 3, 28, 10, 45, 48), eligible=datetime.datetime(2025, 3, 28, 10, 45, 48))"
      ]
     },
     "execution_count": 16,
     "metadata": {},
     "output_type": "execute_result"
    }
   ],
   "source": [
    "pbs_pro_time = PBSProTime(**queue_status_full)\n",
    "pbs_pro_time"
   ]
  },
  {
   "cell_type": "code",
   "execution_count": 38,
   "metadata": {},
   "outputs": [
    {
     "data": {
      "text/plain": [
       "PBSProResourcesUsed(cpu_percent=0, cpu_time=datetime.timedelta(0), num_cpus=1, memory=0, virtual_memory=0, walltime=datetime.timedelta(0))"
      ]
     },
     "execution_count": 38,
     "metadata": {},
     "output_type": "execute_result"
    }
   ],
   "source": [
    "pbs_pro_resources_used = PBSProResourcesUsed(**queue_status_full)\n",
    "pbs_pro_resources_used"
   ]
  },
  {
   "cell_type": "code",
   "execution_count": 39,
   "metadata": {},
   "outputs": [
    {
     "data": {
      "text/plain": [
       "PBSProResourceList(memory=1887436800, num_cpus=1, num_gpus=0, num_nodes=1, place='pack', select='1:mem=1800mb:ncpus=1:ngpus=0', walltime=datetime.timedelta(days=2))"
      ]
     },
     "execution_count": 39,
     "metadata": {},
     "output_type": "execute_result"
    }
   ],
   "source": [
    "pbs_pro_resource_list = PBSProResourceList(**queue_status_full)\n",
    "pbs_pro_resource_list"
   ]
  },
  {
   "cell_type": "code",
   "execution_count": 50,
   "metadata": {},
   "outputs": [
    {
     "data": {
      "text/plain": [
       "PBSProVariableList(home=PosixPath('/lustre/home/lpanic'), path=PosixPath('/lustre/home/lpanic/.local/bin:/lustre/home/lpanic/bin:/opt/clmgr/sbin:/opt/clmgr/bin:/opt/sgi/sbin:/opt/sgi/bin:/usr/share/Modules/bin:/usr/local/bin:/usr/bin:/usr/local/sbin:/usr/sbin:/opt/c3/bin:/opt/pbs/bin:/sbin:/bin'), mail=PosixPath('/var/spool/mail/lpanic'), shell=PosixPath('/bin/bash'), workdir=PosixPath('/lustre/home/lpanic/hello_world'), host='x3000c0s27b0n0.hsn.hpc.srce.hr', lang='en_US.UTF-8', logname='lpanic', system='Linux', queue='RouteQ= Job run at Fri Mar 28 at 10:45 on (x8000c1s4b0n1:mem=1843200kb:ncpus=1:ngpus=0)')"
      ]
     },
     "execution_count": 50,
     "metadata": {},
     "output_type": "execute_result"
    }
   ],
   "source": [
    "env_vars = parse_pbs_env_vars(queue_status_full['variable_list'])\n",
    "pbs_pro_variable_list = PBSProVariableList(**env_vars)\n",
    "pbs_pro_variable_list"
   ]
  }
 ],
 "metadata": {
  "kernelspec": {
   "display_name": ".venv",
   "language": "python",
   "name": "python3"
  },
  "language_info": {
   "codemirror_mode": {
    "name": "ipython",
    "version": 3
   },
   "file_extension": ".py",
   "mimetype": "text/x-python",
   "name": "python",
   "nbconvert_exporter": "python",
   "pygments_lexer": "ipython3",
   "version": "3.12.7"
  }
 },
 "nbformat": 4,
 "nbformat_minor": 2
}
