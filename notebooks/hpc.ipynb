{
 "cells": [
  {
   "cell_type": "code",
   "execution_count": null,
   "metadata": {},
   "outputs": [],
   "source": [
    "%load_ext autoreload\n",
    "%autoreload 2\n",
    "\n",
    "import os\n",
    "import sys\n",
    "\n",
    "import nest_asyncio\n",
    "\n",
    "\n",
    "sys.path.insert(0, os.path.abspath('..'))\n",
    "nest_asyncio.apply()"
   ]
  },
  {
   "cell_type": "code",
   "execution_count": 3,
   "metadata": {},
   "outputs": [],
   "source": [
    "from asyncio import run, sleep\n",
    "\n",
    "from asyncssh import connect\n",
    "from decouple import config\n",
    "\n",
    "\n",
    "HPC_USER = config('HPC_USER')\n",
    "HPC_HOST = config('HPC_HOST')"
   ]
  },
  {
   "cell_type": "code",
   "execution_count": 4,
   "metadata": {},
   "outputs": [],
   "source": [
    "from contextlib import AsyncExitStack\n",
    "from pathlib import Path\n",
    "from typing import AsyncGenerator\n",
    "\n",
    "\n",
    "class SCPClient:\n",
    "    def __init__(self, host: str, user: str):\n",
    "        self.host = host\n",
    "        self.user = user\n",
    "\n",
    "    async def secure_copy(\n",
    "        self,\n",
    "        source_stream: AsyncGenerator[bytes, None],\n",
    "        target_path: Path,\n",
    "    ):\n",
    "        async with AsyncExitStack() as stack:\n",
    "            conn = await stack.enter_async_context(\n",
    "                connect(self.host, username=self.user)\n",
    "            )\n",
    "            sftp = await stack.enter_async_context(conn.start_sftp_client())\n",
    "            file = await stack.enter_async_context(sftp.open(str(target_path), 'wb'))\n",
    "\n",
    "            async for chunk in source_stream:\n",
    "                await file.write(chunk)"
   ]
  },
  {
   "cell_type": "code",
   "execution_count": 5,
   "metadata": {},
   "outputs": [],
   "source": [
    "import logging\n",
    "\n",
    "from asyncssh import ConnectionLost, Error, connect\n",
    "from backoff import expo, on_exception\n",
    "\n",
    "\n",
    "class PBSProClient:\n",
    "    def __init__(self, host: str, user: str):\n",
    "        self.host = host\n",
    "        self.user = user\n",
    "\n",
    "    @on_exception(expo, (OSError, ConnectionLost), max_tries=4)\n",
    "    async def _run(self, args: list) -> str:\n",
    "        try:\n",
    "            async with await connect(self.host, username=self.user) as connection:\n",
    "                result = await connection.run(*args, check=False)\n",
    "\n",
    "                if result.exit_status != 0:\n",
    "                    logging.error(\n",
    "                        f'SSH process with command {result.command},\\n'\n",
    "                        f'completed with status {result.exit_status},\\n'\n",
    "                        f'STDOUT: {result.stderr},\\n'\n",
    "                        f'STDERR: {result.stderr}'\n",
    "                    )\n",
    "                    raise Exception(\n",
    "                        f'SSH process completed with status {result.exit_status}'\n",
    "                    )\n",
    "\n",
    "                return result.stdout.strip()\n",
    "\n",
    "        except Error:\n",
    "            raise\n",
    "\n",
    "    async def queue_state(self):\n",
    "        # qstat\n",
    "        stdout = await self._run(['qstat'])\n",
    "        # TODO parse\n",
    "\n",
    "        return stdout\n",
    "\n",
    "    async def queue_submit(self, pbs_filename: str):\n",
    "        # qsub\n",
    "        stdout = await self._run(['qsub', pbs_filename])\n",
    "        pass\n",
    "\n",
    "    async def queue_delete(self, job_id: int):\n",
    "        # qdel\n",
    "        stdout = await self._run(['qdel', str(job_id)])\n",
    "        pass\n",
    "\n",
    "    async def queue_hold(self):\n",
    "        # qhold\n",
    "        pass\n",
    "\n",
    "    async def queue_release(self):\n",
    "        # qrls\n",
    "        pass\n",
    "\n",
    "    async def trace_job(self):\n",
    "        # tracejob\n",
    "        pass"
   ]
  },
  {
   "cell_type": "code",
   "execution_count": null,
   "metadata": {},
   "outputs": [
    {
     "data": {
      "text/plain": [
       "79"
      ]
     },
     "execution_count": 1,
     "metadata": {},
     "output_type": "execute_result"
    }
   ],
   "source": [
    "# limited to 80 characters (79 + newline)\n",
    "len('    Error_Path = x3000c0s27b0n0.hsn.hpc.srce.hr:/lustre/home/lpanic/hello_world')"
   ]
  },
  {
   "cell_type": "code",
   "execution_count": 13,
   "metadata": {},
   "outputs": [],
   "source": [
    "# qstat -f 465317\n",
    "text = \"\"\"\n",
    "Job Id: 465317.x3000c0s25b0n0.hsn.hpc.srce.hr\n",
    "    Job_Name = hello\n",
    "    Job_Owner = lpanic@x3000c0s27b0n0.hsn.hpc.srce.hr\n",
    "    resources_used.cpupercent = 0\n",
    "    resources_used.cput = 00:00:00\n",
    "    resources_used.mem = 0b\n",
    "    resources_used.ncpus = 1\n",
    "    resources_used.vmem = 0kb\n",
    "    resources_used.walltime = 00:00:00\n",
    "    job_state = R\n",
    "    queue = cpu-single\n",
    "    server = x3000c0s25b0n0.hsn.hpc.srce.hr\n",
    "    Checkpoint = u\n",
    "    ctime = Fri Mar 28 10:45:48 2025\n",
    "    Error_Path = x3000c0s27b0n0.hsn.hpc.srce.hr:/lustre/home/lpanic/hello_world\n",
    "\t/hello.e465317\n",
    "    exec_host = x8000c1s4b0n1/1\n",
    "    exec_vnode = (x8000c1s4b0n1:mem=1843200kb:ncpus=1:ngpus=0)\n",
    "    Hold_Types = n\n",
    "    Join_Path = n\n",
    "    Keep_Files = oed\n",
    "    Mail_Points = a\n",
    "    mtime = Fri Mar 28 10:45:53 2025\n",
    "    Output_Path = x3000c0s27b0n0.hsn.hpc.srce.hr:/lustre/home/lpanic/hello_worl\n",
    "\td/hello.o465317\n",
    "    Priority = 0\n",
    "    qtime = Fri Mar 28 10:45:48 2025\n",
    "    Rerunable = True\n",
    "    Resource_List.mem = 1800mb\n",
    "    Resource_List.ncpus = 1\n",
    "    Resource_List.ngpus = 0\n",
    "    Resource_List.nodect = 1\n",
    "    Resource_List.place = pack\n",
    "    Resource_List.select = 1:mem=1800mb:ncpus=1:ngpus=0\n",
    "    Resource_List.walltime = 48:00:00\n",
    "    stime = Fri Mar 28 10:45:48 2025\n",
    "    session_id = 3900810\n",
    "    jobdir = /lustre/home/lpanic\n",
    "    substate = 42\n",
    "    Variable_List = PBS_O_HOME=/lustre/home/lpanic,PBS_O_LANG=en_US.UTF-8,\n",
    "\tPBS_O_LOGNAME=lpanic,\n",
    "\tPBS_O_PATH=/lustre/home/lpanic/.local/bin:/lustre/home/lpanic/bin:/opt\n",
    "\t/clmgr/sbin:/opt/clmgr/bin:/opt/sgi/sbin:/opt/sgi/bin:/usr/share/Module\n",
    "\ts/bin:/usr/local/bin:/usr/bin:/usr/local/sbin:/usr/sbin:/opt/c3/bin:/op\n",
    "\tt/pbs/bin:/sbin:/bin,PBS_O_MAIL=/var/spool/mail/lpanic,\n",
    "\tPBS_O_SHELL=/bin/bash,PBS_O_HOST=x3000c0s27b0n0.hsn.hpc.srce.hr,\n",
    "\tPBS_O_WORKDIR=/lustre/home/lpanic/hello_world,PBS_O_SYSTEM=Linux,\n",
    "\tPBS_O_QUEUE=RouteQ\n",
    "         = Job run at Fri Mar 28 at 10:45 on (x8000c1s4b0n1:mem=1843200kb:nc\n",
    "\tpus=1:ngpus=0)\n",
    "    etime = Fri Mar 28 10:45:48 2025\n",
    "    run_count = 1\n",
    "    eligible_time = 00:00:05\n",
    "    Submit_arguments = -koed hello.sh\n",
    "    project = _pbs_project_default\n",
    "    Submit_Host = x3000c0s27b0n0.hsn.hpc.srce.hr\n",
    "\"\"\""
   ]
  },
  {
   "cell_type": "code",
   "execution_count": 30,
   "metadata": {},
   "outputs": [
    {
     "data": {
      "text/plain": [
       "{'job_id': '465317.x3000c0s25b0n0.hsn.hpc.srce.hr',\n",
       " 'job_name': 'hello',\n",
       " 'job_owner': 'lpanic@x3000c0s27b0n0.hsn.hpc.srce.hr',\n",
       " 'resources_used.cpupercent': '0',\n",
       " 'resources_used.cput': '00:00:00',\n",
       " 'resources_used.mem': '0b',\n",
       " 'resources_used.ncpus': '1',\n",
       " 'resources_used.vmem': '0kb',\n",
       " 'resources_used.walltime': '00:00:00',\n",
       " 'job_state': 'R',\n",
       " 'queue': 'cpu-single',\n",
       " 'server': 'x3000c0s25b0n0.hsn.hpc.srce.hr',\n",
       " 'checkpoint': 'u',\n",
       " 'ctime': 'Fri Mar 28 10:45:48 2025',\n",
       " 'error_path': 'x3000c0s27b0n0.hsn.hpc.srce.hr:/lustre/home/lpanic/hello_world/hello.e465317',\n",
       " 'exec_host': 'x8000c1s4b0n1/1',\n",
       " 'exec_vnode': '(x8000c1s4b0n1:mem=1843200kb:ncpus=1:ngpus=0)',\n",
       " 'hold_types': 'n',\n",
       " 'join_path': 'n',\n",
       " 'keep_files': 'oed',\n",
       " 'mail_points': 'a',\n",
       " 'mtime': 'Fri Mar 28 10:45:53 2025',\n",
       " 'output_path': 'x3000c0s27b0n0.hsn.hpc.srce.hr:/lustre/home/lpanic/hello_world/hello.o465317',\n",
       " 'priority': '0',\n",
       " 'qtime': 'Fri Mar 28 10:45:48 2025',\n",
       " 'rerunable': 'True',\n",
       " 'resource_list.mem': '1800mb',\n",
       " 'resource_list.ncpus': '1',\n",
       " 'resource_list.ngpus': '0',\n",
       " 'resource_list.nodect': '1',\n",
       " 'resource_list.place': 'pack',\n",
       " 'resource_list.select': '1:mem=1800mb:ncpus=1:ngpus=0',\n",
       " 'resource_list.walltime': '48:00:00',\n",
       " 'stime': 'Fri Mar 28 10:45:48 2025',\n",
       " 'session_id': '3900810',\n",
       " 'jobdir': '/lustre/home/lpanic',\n",
       " 'substate': '42',\n",
       " 'variable_list': 'PBS_O_HOME=/lustre/home/lpanic,PBS_O_LANG=en_US.UTF-8,PBS_O_LOGNAME=lpanic,PBS_O_PATH=/lustre/home/lpanic/.local/bin:/lustre/home/lpanic/bin:/opt/clmgr/sbin:/opt/clmgr/bin:/opt/sgi/sbin:/opt/sgi/bin:/usr/share/Modules/bin:/usr/local/bin:/usr/bin:/usr/local/sbin:/usr/sbin:/opt/c3/bin:/opt/pbs/bin:/sbin:/bin,PBS_O_MAIL=/var/spool/mail/lpanic,PBS_O_SHELL=/bin/bash,PBS_O_HOST=x3000c0s27b0n0.hsn.hpc.srce.hr,PBS_O_WORKDIR=/lustre/home/lpanic/hello_world,PBS_O_SYSTEM=Linux,PBS_O_QUEUE=RouteQ= Job run at Fri Mar 28 at 10:45 on (x8000c1s4b0n1:mem=1843200kb:ncpus=1:ngpus=0)',\n",
       " 'etime': 'Fri Mar 28 10:45:48 2025',\n",
       " 'run_count': '1',\n",
       " 'eligible_time': '00:00:05',\n",
       " 'submit_arguments': '-koed hello.sh',\n",
       " 'project': '_pbs_project_default',\n",
       " 'submit_host': 'x3000c0s27b0n0.hsn.hpc.srce.hr'}"
      ]
     },
     "execution_count": 30,
     "metadata": {},
     "output_type": "execute_result"
    }
   ],
   "source": [
    "queue_status_full = parse_queue_status_full(text)\n",
    "queue_status_full = {key.lower(): value for key, value in queue_status_full.items()}\n",
    "queue_status_full"
   ]
  },
  {
   "cell_type": "code",
   "execution_count": 54,
   "metadata": {},
   "outputs": [
    {
     "data": {
      "text/plain": [
       "PBSProJob(id='465317.x3000c0s25b0n0.hsn.hpc.srce.hr', name='hello', owner='lpanic@x3000c0s27b0n0.hsn.hpc.srce.hr', state='R', queue='cpu-single', server='x3000c0s25b0n0.hsn.hpc.srce.hr', checkpoint='u', exec_host='x8000c1s4b0n1/1', exec_vnode='(x8000c1s4b0n1:mem=1843200kb:ncpus=1:ngpus=0)', error_path='x3000c0s27b0n0.hsn.hpc.srce.hr:/lustre/home/lpanic/hello_world/hello.e465317', output_path='x3000c0s27b0n0.hsn.hpc.srce.hr:/lustre/home/lpanic/hello_world/hello.o465317', dir=PosixPath('/lustre/home/lpanic'), hold_types='n', join_path='n', keep_files='oed', mail_points='a', substate=42, priority=0, session_id='3900810', rerunable=True, run_count=1, submit_arguments='-koed hello.sh', project='_pbs_project_default', submit_host='x3000c0s27b0n0.hsn.hpc.srce.hr')"
      ]
     },
     "execution_count": 54,
     "metadata": {},
     "output_type": "execute_result"
    }
   ],
   "source": [
    "pbs_pro_job = PBSProJob(**queue_status_full)\n",
    "pbs_pro_job"
   ]
  },
  {
   "cell_type": "code",
   "execution_count": 52,
   "metadata": {},
   "outputs": [
    {
     "data": {
      "text/plain": [
       "PBSProTime(created=datetime.datetime(2025, 3, 28, 10, 45, 48), queued=datetime.datetime(2025, 3, 28, 10, 45, 48), modified=datetime.datetime(2025, 3, 28, 10, 45, 53), started=datetime.datetime(2025, 3, 28, 10, 45, 48), eligible=datetime.datetime(2025, 3, 28, 10, 45, 48), eligible_delta=datetime.timedelta(seconds=5))"
      ]
     },
     "execution_count": 52,
     "metadata": {},
     "output_type": "execute_result"
    }
   ],
   "source": [
    "pbs_pro_time = PBSProTime(**queue_status_full)\n",
    "pbs_pro_time"
   ]
  },
  {
   "cell_type": "code",
   "execution_count": 38,
   "metadata": {},
   "outputs": [
    {
     "data": {
      "text/plain": [
       "PBSProResourcesUsed(cpu_percent=0, cpu_time=datetime.timedelta(0), num_cpus=1, memory=0, virtual_memory=0, walltime=datetime.timedelta(0))"
      ]
     },
     "execution_count": 38,
     "metadata": {},
     "output_type": "execute_result"
    }
   ],
   "source": [
    "pbs_pro_resources_used = PBSProResourcesUsed(**queue_status_full)\n",
    "pbs_pro_resources_used"
   ]
  },
  {
   "cell_type": "code",
   "execution_count": 39,
   "metadata": {},
   "outputs": [
    {
     "data": {
      "text/plain": [
       "PBSProResourceList(memory=1887436800, num_cpus=1, num_gpus=0, num_nodes=1, place='pack', select='1:mem=1800mb:ncpus=1:ngpus=0', walltime=datetime.timedelta(days=2))"
      ]
     },
     "execution_count": 39,
     "metadata": {},
     "output_type": "execute_result"
    }
   ],
   "source": [
    "pbs_pro_resource_list = PBSProResourceList(**queue_status_full)\n",
    "pbs_pro_resource_list"
   ]
  },
  {
   "cell_type": "code",
   "execution_count": null,
   "metadata": {},
   "outputs": [
    {
     "data": {
      "text/plain": [
       "PBSProVariableList(home=PosixPath('/lustre/home/lpanic'), path=PosixPath('/lustre/home/lpanic/.local/bin:/lustre/home/lpanic/bin:/opt/clmgr/sbin:/opt/clmgr/bin:/opt/sgi/sbin:/opt/sgi/bin:/usr/share/Modules/bin:/usr/local/bin:/usr/bin:/usr/local/sbin:/usr/sbin:/opt/c3/bin:/opt/pbs/bin:/sbin:/bin'), mail=PosixPath('/var/spool/mail/lpanic'), shell=PosixPath('/bin/bash'), workdir=PosixPath('/lustre/home/lpanic/hello_world'), host='x3000c0s27b0n0.hsn.hpc.srce.hr', lang='en_US.UTF-8', logname='lpanic', system='Linux', queue='RouteQ= Job run at Fri Mar 28 at 10:45 on (x8000c1s4b0n1:mem=1843200kb:ncpus=1:ngpus=0)')"
      ]
     },
     "execution_count": 50,
     "metadata": {},
     "output_type": "execute_result"
    }
   ],
   "source": [
    "env_vars = parse_variable_list(queue_status_full['variable_list'])\n",
    "pbs_pro_variable_list = PBSProVariableList(**env_vars)\n",
    "pbs_pro_variable_list"
   ]
  }
 ],
 "metadata": {
  "kernelspec": {
   "display_name": ".venv",
   "language": "python",
   "name": "python3"
  },
  "language_info": {
   "codemirror_mode": {
    "name": "ipython",
    "version": 3
   },
   "file_extension": ".py",
   "mimetype": "text/x-python",
   "name": "python",
   "nbconvert_exporter": "python",
   "pygments_lexer": "ipython3",
   "version": "3.12.7"
  }
 },
 "nbformat": 4,
 "nbformat_minor": 2
}
