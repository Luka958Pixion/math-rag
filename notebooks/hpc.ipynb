{
 "cells": [
  {
   "cell_type": "code",
   "execution_count": 1,
   "metadata": {},
   "outputs": [],
   "source": [
    "%load_ext autoreload\n",
    "%autoreload 2\n",
    "\n",
    "import os\n",
    "import sys\n",
    "\n",
    "import nest_asyncio\n",
    "\n",
    "\n",
    "sys.path.insert(0, os.path.abspath('..'))\n",
    "nest_asyncio.apply()"
   ]
  },
  {
   "cell_type": "code",
   "execution_count": 2,
   "metadata": {},
   "outputs": [],
   "source": [
    "import logging\n",
    "\n",
    "\n",
    "logging.basicConfig(\n",
    "    level=logging.INFO, format='%(asctime)s - %(levelname)s - %(message)s'\n",
    ")"
   ]
  },
  {
   "cell_type": "markdown",
   "metadata": {},
   "source": [
    "### Prepare input file"
   ]
  },
  {
   "cell_type": "code",
   "execution_count": 10,
   "metadata": {},
   "outputs": [],
   "source": [
    "from decouple import config\n",
    "from huggingface_hub import AsyncInferenceClient\n",
    "\n",
    "\n",
    "HUGGINGFACE_TOKEN = config('HUGGINGFACE_TOKEN')\n",
    "\n",
    "MODEL_HUB_ID = 'microsoft/Phi-3-mini-4k-instruct'\n",
    "\n",
    "client = AsyncInferenceClient(\n",
    "    model=MODEL_HUB_ID,\n",
    "    provider='hf-inference',\n",
    "    timeout=None,\n",
    "    api_key=HUGGINGFACE_TOKEN,\n",
    ")"
   ]
  },
  {
   "cell_type": "code",
   "execution_count": 3,
   "metadata": {},
   "outputs": [],
   "source": [
    "from math_rag.application.base.assistants import BaseAssistantInput, BaseAssistantOutput\n",
    "\n",
    "\n",
    "class SomeInput(BaseAssistantInput):\n",
    "    pass\n",
    "\n",
    "\n",
    "class SomeOutput(BaseAssistantOutput):\n",
    "    result: int"
   ]
  },
  {
   "cell_type": "code",
   "execution_count": 4,
   "metadata": {},
   "outputs": [],
   "source": [
    "import json\n",
    "\n",
    "from pathlib import Path\n",
    "\n",
    "from math_rag.application.models.inference import (\n",
    "    LLMBatchRequest,\n",
    "    LLMBatchResult,\n",
    "    LLMConversation,\n",
    "    LLMMessage,\n",
    "    LLMParams,\n",
    "    LLMRequest,\n",
    ")\n",
    "from math_rag.infrastructure.mappings.inference.huggingface import (\n",
    "    LLMRequestMapping,\n",
    "    LLMResponseListMapping,\n",
    ")\n",
    "\n",
    "\n",
    "MODEL_HUB_ID = 'microsoft/Phi-3-mini-4k-instruct'\n",
    "some_input = SomeInput()\n",
    "\n",
    "request = LLMRequest(\n",
    "    conversation=LLMConversation(\n",
    "        messages=[\n",
    "            LLMMessage(role='system', content='You are a helpful assistant.'),\n",
    "            LLMMessage(role='user', content='what is 2+2'),\n",
    "        ]\n",
    "    ),\n",
    "    params=LLMParams(\n",
    "        model=MODEL_HUB_ID,\n",
    "        temperature=0,\n",
    "        response_type=SomeOutput,\n",
    "        max_completion_tokens=10,\n",
    "        metadata={'input_id': str(some_input.id)},\n",
    "    ),\n",
    ")\n",
    "\n",
    "batch_request: LLMBatchRequest = LLMBatchRequest(requests=[request])"
   ]
  },
  {
   "cell_type": "code",
   "execution_count": 6,
   "metadata": {},
   "outputs": [],
   "source": [
    "requests = [LLMRequestMapping.to_target(request) for request in batch_request.requests]\n",
    "lines = [json.dumps(request, separators=(',', ':')) for request in requests]\n",
    "jsonl_str = '\\n'.join(lines)\n",
    "jsonl_bytes = jsonl_str.encode('utf-8')"
   ]
  },
  {
   "cell_type": "code",
   "execution_count": 7,
   "metadata": {},
   "outputs": [],
   "source": [
    "request_dict = json.loads(lines[0])"
   ]
  },
  {
   "cell_type": "code",
   "execution_count": 8,
   "metadata": {},
   "outputs": [
    {
     "data": {
      "text/plain": [
       "ChatCompletionOutput(choices=[ChatCompletionOutputComplete(finish_reason='stop', index=0, message=ChatCompletionOutputMessage(role='assistant', content='{ \"result\": 4 }', tool_call_id=None, tool_calls=None), logprobs=None)], created=1744125157, id='', model='microsoft/Phi-3-mini-4k-instruct', system_fingerprint='3.2.1-native', usage=ChatCompletionOutputUsage(completion_tokens=9, prompt_tokens=17, total_tokens=26), object='chat.completion')"
      ]
     },
     "execution_count": 8,
     "metadata": {},
     "output_type": "execute_result"
    }
   ],
   "source": [
    "result = await client.chat_completion(**request_dict)\n",
    "result"
   ]
  },
  {
   "cell_type": "code",
   "execution_count": 40,
   "metadata": {},
   "outputs": [
    {
     "data": {
      "text/plain": [
       "LLMResponseList(id=UUID('f7fd3b29-2772-468d-831f-b160bf1dfaa0'), request_id=UUID('cb02d5a3-bed8-4109-b06c-04d585081ef3'), responses=[LLMResponse(id=UUID('3976268b-adbf-494a-b88b-fda24781d477'), content=BoundAssistantOutput(id=UUID('bd7fdedd-f32a-4d7f-845d-0a21413828b6'), input_id=UUID('c882baa3-2047-4f65-b8df-bd176bba3b2c'), result=4), logprobs=None)])"
      ]
     },
     "execution_count": 40,
     "metadata": {},
     "output_type": "execute_result"
    }
   ],
   "source": [
    "response_list = LLMResponseListMapping.to_source(\n",
    "    result,\n",
    "    request_id=request.id,\n",
    "    input_id=request_dict['extra_body']['input_id'],\n",
    "    response_type=SomeOutput,\n",
    ")\n",
    "response_list"
   ]
  },
  {
   "cell_type": "code",
   "execution_count": null,
   "metadata": {},
   "outputs": [],
   "source": [
    "input_file_path = Path(f'.tmp/input_{batch_request.id}.jsonl')\n",
    "\n",
    "with open(input_file_path, 'w') as input_file:\n",
    "    for line in lines:\n",
    "        input_file.write(line + '\\n')"
   ]
  },
  {
   "cell_type": "markdown",
   "metadata": {},
   "source": [
    "### Apptainer"
   ]
  },
  {
   "cell_type": "code",
   "execution_count": 5,
   "metadata": {},
   "outputs": [],
   "source": [
    "from pathlib import Path\n",
    "\n",
    "from math_rag.infrastructure.containers import InfrastructureContainer\n",
    "\n",
    "\n",
    "infrastructure_container = InfrastructureContainer()\n",
    "infrastructure_container.init_resources()\n",
    "\n",
    "apptainer_client = infrastructure_container.apptainer_client()\n",
    "sftp_client = infrastructure_container.sftp_client()\n",
    "pbs_pro_client = infrastructure_container.pbs_pro_client()\n",
    "hpc_client = infrastructure_container.hpc_client()"
   ]
  },
  {
   "cell_type": "code",
   "execution_count": 6,
   "metadata": {},
   "outputs": [
    {
     "name": "stderr",
     "output_type": "stream",
     "text": [
      "2025-04-09 22:22:55,168 - INFO - HTTP Request: GET http://host.docker.internal:7015/health \"HTTP/1.1 200 OK\"\n"
     ]
    },
    {
     "data": {
      "text/plain": [
       "True"
      ]
     },
     "execution_count": 6,
     "metadata": {},
     "output_type": "execute_result"
    }
   ],
   "source": [
    "await apptainer_client.health()"
   ]
  },
  {
   "cell_type": "code",
   "execution_count": 7,
   "metadata": {},
   "outputs": [],
   "source": [
    "from math_rag.infrastructure.inference.huggingface import HuggingFaceBatchLLM\n",
    "\n",
    "\n",
    "llm = HuggingFaceBatchLLM(\n",
    "    remote_project_root=Path('tgi_default_root'),\n",
    "    hpc_client=hpc_client,\n",
    "    pbs_pro_client=pbs_pro_client,\n",
    "    sftp_client=sftp_client,\n",
    "    apptainer_client=apptainer_client,\n",
    ")"
   ]
  },
  {
   "cell_type": "code",
   "execution_count": null,
   "metadata": {},
   "outputs": [],
   "source": [
    "await llm.init_resources()"
   ]
  },
  {
   "cell_type": "code",
   "execution_count": 10,
   "metadata": {},
   "outputs": [
    {
     "name": "stderr",
     "output_type": "stream",
     "text": [
      "2025-04-09 22:33:26,729 - INFO - Host canonicalization disabled\n",
      "2025-04-09 22:33:26,729 - INFO - Opening SSH connection to login-gpu.hpc.srce.hr, port 22\n",
      "2025-04-09 22:33:26,737 - INFO - [conn=10] Connected to SSH server at login-gpu.hpc.srce.hr, port 22\n",
      "2025-04-09 22:33:26,737 - INFO - [conn=10]   Local address: 172.22.0.9, port 35592\n",
      "2025-04-09 22:33:26,737 - INFO - [conn=10]   Peer address: 161.53.2.37, port 22\n",
      "2025-04-09 22:33:26,763 - INFO - [conn=10] Beginning auth for user lpanic\n",
      "2025-04-09 22:33:27,035 - INFO - [conn=10] Auth for user lpanic succeeded\n",
      "2025-04-09 22:33:27,037 - INFO - [conn=10, chan=0] Requesting new SSH session\n",
      "2025-04-09 22:33:27,089 - INFO - [conn=10, chan=0]   Subsystem: sftp\n",
      "2025-04-09 22:33:27,095 - INFO - [conn=10, chan=0] Starting SFTP client\n",
      "2025-04-09 22:33:27,264 - INFO - [conn=10, chan=0] Received exit status 0\n",
      "2025-04-09 22:33:27,266 - INFO - [conn=10, chan=0] Received channel close\n",
      "2025-04-09 22:33:27,267 - INFO - [conn=10, chan=0] SFTP client exited\n",
      "2025-04-09 22:33:27,268 - INFO - [conn=10, chan=0] Closing channel\n",
      "2025-04-09 22:33:27,269 - INFO - [conn=10, chan=0] Channel closed\n",
      "2025-04-09 22:33:27,270 - INFO - [conn=10] Closing connection\n",
      "2025-04-09 22:33:27,272 - INFO - [conn=10] Sending disconnect: Disconnected by application (11)\n",
      "2025-04-09 22:33:27,273 - INFO - [conn=10] Connection closed\n",
      "2025-04-09 22:33:27,274 - INFO - Host canonicalization disabled\n",
      "2025-04-09 22:33:27,275 - INFO - Opening SSH connection to login-gpu.hpc.srce.hr, port 22\n",
      "2025-04-09 22:33:27,286 - INFO - [conn=11] Connected to SSH server at login-gpu.hpc.srce.hr, port 22\n",
      "2025-04-09 22:33:27,287 - INFO - [conn=11]   Local address: 172.22.0.9, port 35602\n",
      "2025-04-09 22:33:27,287 - INFO - [conn=11]   Peer address: 161.53.2.37, port 22\n",
      "2025-04-09 22:33:27,310 - INFO - [conn=11] Beginning auth for user lpanic\n",
      "2025-04-09 22:33:27,575 - INFO - [conn=11] Auth for user lpanic succeeded\n",
      "2025-04-09 22:33:27,576 - INFO - [conn=11, chan=0] Requesting new SSH session\n",
      "2025-04-09 22:33:27,637 - INFO - [conn=11, chan=0]   Command: cd tgi_default_root && qsub -v MODEL_HUB_ID=microsoft/Phi-3-mini-4k-instruct -l select=1:ncpus=8:mem=34359738368B:ngpus=1,walltime=1:00:00 tgi.sh\n",
      "2025-04-09 22:33:27,804 - INFO - [conn=11, chan=0] Received exit status 0\n",
      "2025-04-09 22:33:27,805 - INFO - [conn=11, chan=0] Received channel close\n",
      "2025-04-09 22:33:27,808 - INFO - [conn=11, chan=0] Channel closed\n",
      "2025-04-09 22:33:27,810 - INFO - Command `cd tgi_default_root && qsub -v MODEL_HUB_ID=microsoft/Phi-3-mini-4k-instruct -l select=1:ncpus=8:mem=34359738368B:ngpus=1,walltime=1:00:00 tgi.sh` in `run` returned stdout: 472837.x3000c0s25b0n0.hsn.hpc.srce.hr\n",
      "2025-04-09 22:33:27,810 - INFO - [conn=11] Closing connection\n",
      "2025-04-09 22:33:27,811 - INFO - [conn=11] Sending disconnect: Disconnected by application (11)\n",
      "2025-04-09 22:33:27,812 - INFO - [conn=11] Connection closed\n",
      "2025-04-09 22:33:27,813 - INFO - Host canonicalization disabled\n",
      "2025-04-09 22:33:27,814 - INFO - Opening SSH connection to login-gpu.hpc.srce.hr, port 22\n",
      "2025-04-09 22:33:27,822 - INFO - [conn=12] Connected to SSH server at login-gpu.hpc.srce.hr, port 22\n",
      "2025-04-09 22:33:27,822 - INFO - [conn=12]   Local address: 172.22.0.9, port 35616\n",
      "2025-04-09 22:33:27,823 - INFO - [conn=12]   Peer address: 161.53.2.37, port 22\n",
      "2025-04-09 22:33:27,848 - INFO - [conn=12] Beginning auth for user lpanic\n",
      "2025-04-09 22:33:28,111 - INFO - [conn=12] Auth for user lpanic succeeded\n",
      "2025-04-09 22:33:28,115 - INFO - [conn=12, chan=0] Requesting new SSH session\n",
      "2025-04-09 22:33:28,162 - INFO - [conn=12, chan=0]   Command: qstat -x 472837.x3000c0s25b0n0.hsn.hpc.srce.hr | awk 'NR==3 {print $1, $2, $3, $4, $5, $6}'\n",
      "2025-04-09 22:33:28,317 - INFO - [conn=12, chan=0] Received exit status 0\n",
      "2025-04-09 22:33:28,319 - INFO - [conn=12, chan=0] Received channel close\n",
      "2025-04-09 22:33:28,322 - INFO - [conn=12, chan=0] Channel closed\n",
      "2025-04-09 22:33:28,324 - INFO - Command `qstat -x 472837.x3000c0s25b0n0.hsn.hpc.srce.hr | awk 'NR==3 {print $1, $2, $3, $4, $5, $6}'` in `run` returned stdout: 472837.x3000c0s25b0n0 tgi lpanic 0 Q gpu\n",
      "2025-04-09 22:33:28,325 - INFO - [conn=12] Closing connection\n",
      "2025-04-09 22:33:28,325 - INFO - [conn=12] Sending disconnect: Disconnected by application (11)\n",
      "2025-04-09 22:33:28,327 - INFO - [conn=12] Connection closed\n",
      "2025-04-09 22:33:28,328 - INFO - Batch 472837.x3000c0s25b0n0.hsn.hpc.srce.hr created with state PBSProJobState.QUEUED\n",
      "2025-04-09 22:33:28,329 - INFO - Host canonicalization disabled\n",
      "2025-04-09 22:33:28,330 - INFO - Opening SSH connection to login-gpu.hpc.srce.hr, port 22\n",
      "2025-04-09 22:33:28,339 - INFO - [conn=13] Connected to SSH server at login-gpu.hpc.srce.hr, port 22\n",
      "2025-04-09 22:33:28,340 - INFO - [conn=13]   Local address: 172.22.0.9, port 35630\n",
      "2025-04-09 22:33:28,340 - INFO - [conn=13]   Peer address: 161.53.2.37, port 22\n",
      "2025-04-09 22:33:28,364 - INFO - [conn=13] Beginning auth for user lpanic\n",
      "2025-04-09 22:33:28,637 - INFO - [conn=13] Auth for user lpanic succeeded\n",
      "2025-04-09 22:33:28,640 - INFO - [conn=13, chan=0] Requesting new SSH session\n",
      "2025-04-09 22:33:28,680 - INFO - [conn=13, chan=0]   Command: qstat -x 472837.x3000c0s25b0n0.hsn.hpc.srce.hr | awk 'NR==3 {print $1, $2, $3, $4, $5, $6}'\n",
      "2025-04-09 22:33:29,038 - INFO - [conn=13, chan=0] Received exit status 0\n",
      "2025-04-09 22:33:29,040 - INFO - [conn=13, chan=0] Received channel close\n",
      "2025-04-09 22:33:29,042 - INFO - [conn=13, chan=0] Channel closed\n",
      "2025-04-09 22:33:29,044 - INFO - Command `qstat -x 472837.x3000c0s25b0n0.hsn.hpc.srce.hr | awk 'NR==3 {print $1, $2, $3, $4, $5, $6}'` in `run` returned stdout: 472837.x3000c0s25b0n0 tgi lpanic 0 R gpu\n",
      "2025-04-09 22:33:29,045 - INFO - [conn=13] Closing connection\n",
      "2025-04-09 22:33:29,045 - INFO - [conn=13] Sending disconnect: Disconnected by application (11)\n",
      "2025-04-09 22:33:29,046 - INFO - [conn=13] Connection closed\n",
      "2025-04-09 22:33:29,046 - INFO - Batch 472837.x3000c0s25b0n0.hsn.hpc.srce.hr state PBSProJobState.RUNNING\n",
      "2025-04-09 22:34:29,107 - INFO - Host canonicalization disabled\n",
      "2025-04-09 22:34:29,108 - INFO - Opening SSH connection to login-gpu.hpc.srce.hr, port 22\n",
      "2025-04-09 22:34:29,127 - INFO - [conn=14] Connected to SSH server at login-gpu.hpc.srce.hr, port 22\n",
      "2025-04-09 22:34:29,128 - INFO - [conn=14]   Local address: 172.22.0.9, port 34146\n",
      "2025-04-09 22:34:29,128 - INFO - [conn=14]   Peer address: 161.53.2.37, port 22\n",
      "2025-04-09 22:34:29,159 - INFO - [conn=14] Beginning auth for user lpanic\n",
      "2025-04-09 22:34:29,424 - INFO - [conn=14] Auth for user lpanic succeeded\n",
      "2025-04-09 22:34:29,424 - INFO - [conn=14, chan=0] Requesting new SSH session\n",
      "2025-04-09 22:34:29,480 - INFO - [conn=14, chan=0]   Command: qstat -x 472837.x3000c0s25b0n0.hsn.hpc.srce.hr | awk 'NR==3 {print $1, $2, $3, $4, $5, $6}'\n",
      "2025-04-09 22:34:29,641 - INFO - [conn=14, chan=0] Received exit status 0\n",
      "2025-04-09 22:34:29,644 - INFO - [conn=14, chan=0] Received channel close\n",
      "2025-04-09 22:34:29,647 - INFO - [conn=14, chan=0] Channel closed\n",
      "2025-04-09 22:34:29,648 - INFO - Command `qstat -x 472837.x3000c0s25b0n0.hsn.hpc.srce.hr | awk 'NR==3 {print $1, $2, $3, $4, $5, $6}'` in `run` returned stdout: 472837.x3000c0s25b0n0 tgi lpanic 00:00:43 F gpu\n",
      "2025-04-09 22:34:29,649 - INFO - [conn=14] Closing connection\n",
      "2025-04-09 22:34:29,649 - INFO - [conn=14] Sending disconnect: Disconnected by application (11)\n",
      "2025-04-09 22:34:29,649 - INFO - [conn=14] Connection closed\n",
      "2025-04-09 22:34:29,650 - INFO - Batch 472837.x3000c0s25b0n0.hsn.hpc.srce.hr state PBSProJobState.FINISHED\n",
      "2025-04-09 22:34:29,651 - INFO - Host canonicalization disabled\n",
      "2025-04-09 22:34:29,651 - INFO - Opening SSH connection to login-gpu.hpc.srce.hr, port 22\n",
      "2025-04-09 22:34:29,661 - INFO - [conn=15] Connected to SSH server at login-gpu.hpc.srce.hr, port 22\n",
      "2025-04-09 22:34:29,662 - INFO - [conn=15]   Local address: 172.22.0.9, port 34156\n",
      "2025-04-09 22:34:29,662 - INFO - [conn=15]   Peer address: 161.53.2.37, port 22\n",
      "2025-04-09 22:34:29,700 - INFO - [conn=15] Beginning auth for user lpanic\n",
      "2025-04-09 22:34:29,963 - INFO - [conn=15] Auth for user lpanic succeeded\n",
      "2025-04-09 22:34:29,966 - INFO - [conn=15, chan=0] Requesting new SSH session\n",
      "2025-04-09 22:34:30,015 - INFO - [conn=15, chan=0]   Subsystem: sftp\n",
      "2025-04-09 22:34:30,022 - INFO - [conn=15, chan=0] Starting SFTP client\n",
      "2025-04-09 22:34:30,269 - INFO - [conn=15, chan=0] Received exit status 0\n",
      "2025-04-09 22:34:30,269 - INFO - [conn=15, chan=0] Received channel close\n",
      "2025-04-09 22:34:30,270 - INFO - [conn=15, chan=0] SFTP client exited\n",
      "2025-04-09 22:34:30,270 - INFO - [conn=15, chan=0] Closing channel\n",
      "2025-04-09 22:34:30,270 - INFO - [conn=15, chan=0] Channel closed\n",
      "2025-04-09 22:34:30,270 - INFO - [conn=15] Closing connection\n",
      "2025-04-09 22:34:30,271 - INFO - [conn=15] Sending disconnect: Disconnected by application (11)\n",
      "2025-04-09 22:34:30,271 - INFO - [conn=15] Connection closed\n"
     ]
    },
    {
     "ename": "TypeError",
     "evalue": "ChatCompletionOutput.__init__() got an unexpected keyword argument 'object'",
     "output_type": "error",
     "traceback": [
      "\u001b[0;31m---------------------------------------------------------------------------\u001b[0m",
      "\u001b[0;31mTypeError\u001b[0m                                 Traceback (most recent call last)",
      "Cell \u001b[0;32mIn[10], line 1\u001b[0m\n\u001b[0;32m----> 1\u001b[0m res \u001b[38;5;241m=\u001b[39m \u001b[38;5;28;01mawait\u001b[39;00m llm\u001b[38;5;241m.\u001b[39mbatch_generate(\n\u001b[1;32m      2\u001b[0m     batch_request\u001b[38;5;241m=\u001b[39mbatch_request,\n\u001b[1;32m      3\u001b[0m     response_type\u001b[38;5;241m=\u001b[39mSomeOutput,\n\u001b[1;32m      4\u001b[0m     poll_interval\u001b[38;5;241m=\u001b[39m\u001b[38;5;241m1\u001b[39m \u001b[38;5;241m*\u001b[39m \u001b[38;5;241m60\u001b[39m,\n\u001b[1;32m      5\u001b[0m     max_num_retries\u001b[38;5;241m=\u001b[39m\u001b[38;5;241m0\u001b[39m,\n\u001b[1;32m      6\u001b[0m )\n\u001b[1;32m      7\u001b[0m res\n",
      "File \u001b[0;32m/workspaces/math_rag/infrastructure/inference/partials/partial_batch_llm.py:88\u001b[0m, in \u001b[0;36mPartialBatchLLM.batch_generate\u001b[0;34m(self, batch_request, response_type, poll_interval, max_num_retries)\u001b[0m\n\u001b[1;32m     80\u001b[0m \u001b[38;5;28;01mif\u001b[39;00m max_num_retries:\n\u001b[1;32m     81\u001b[0m     batch_result \u001b[38;5;241m=\u001b[39m \u001b[38;5;28;01mawait\u001b[39;00m \u001b[38;5;28mself\u001b[39m\u001b[38;5;241m.\u001b[39m_batch_generate_retry(\n\u001b[1;32m     82\u001b[0m         batch_request,\n\u001b[1;32m     83\u001b[0m         response_type,\n\u001b[1;32m     84\u001b[0m         poll_interval\u001b[38;5;241m=\u001b[39mpoll_interval,\n\u001b[1;32m     85\u001b[0m         max_num_retries\u001b[38;5;241m=\u001b[39mmax_num_retries,\n\u001b[1;32m     86\u001b[0m     )\n\u001b[0;32m---> 88\u001b[0m batch_result \u001b[38;5;241m=\u001b[39m \u001b[38;5;28;01mawait\u001b[39;00m \u001b[38;5;28mself\u001b[39m\u001b[38;5;241m.\u001b[39m_batch_generate(\n\u001b[1;32m     89\u001b[0m     batch_request, response_type, poll_interval\n\u001b[1;32m     90\u001b[0m )\n\u001b[1;32m     92\u001b[0m \u001b[38;5;28;01mreturn\u001b[39;00m batch_result\n",
      "File \u001b[0;32m/workspaces/math_rag/infrastructure/inference/partials/partial_batch_llm.py:26\u001b[0m, in \u001b[0;36mPartialBatchLLM._batch_generate\u001b[0;34m(self, batch_request, response_type, poll_interval)\u001b[0m\n\u001b[1;32m     23\u001b[0m batch_id \u001b[38;5;241m=\u001b[39m \u001b[38;5;28;01mawait\u001b[39;00m \u001b[38;5;28mself\u001b[39m\u001b[38;5;241m.\u001b[39mbatch_generate_init(batch_request)\n\u001b[1;32m     25\u001b[0m \u001b[38;5;28;01mwhile\u001b[39;00m \u001b[38;5;28;01mTrue\u001b[39;00m:\n\u001b[0;32m---> 26\u001b[0m     batch_result \u001b[38;5;241m=\u001b[39m \u001b[38;5;28;01mawait\u001b[39;00m \u001b[38;5;28mself\u001b[39m\u001b[38;5;241m.\u001b[39mbatch_generate_result(batch_id, response_type)\n\u001b[1;32m     28\u001b[0m     \u001b[38;5;28;01mif\u001b[39;00m batch_result \u001b[38;5;129;01mis\u001b[39;00m \u001b[38;5;129;01mnot\u001b[39;00m \u001b[38;5;28;01mNone\u001b[39;00m:\n\u001b[1;32m     29\u001b[0m         \u001b[38;5;28;01mreturn\u001b[39;00m batch_result\n",
      "File \u001b[0;32m/workspaces/math_rag/infrastructure/inference/huggingface/huggingface_batch_llm.py:218\u001b[0m, in \u001b[0;36mHuggingFaceBatchLLM.batch_generate_result\u001b[0;34m(self, batch_id, response_type)\u001b[0m\n\u001b[1;32m    215\u001b[0m     failed_requests\u001b[38;5;241m.\u001b[39mappend(failed_request)\n\u001b[1;32m    217\u001b[0m \u001b[38;5;28;01melse\u001b[39;00m:\n\u001b[0;32m--> 218\u001b[0m     completion \u001b[38;5;241m=\u001b[39m \u001b[43mChatCompletionOutput\u001b[49m\u001b[43m(\u001b[49m\u001b[38;5;241;43m*\u001b[39;49m\u001b[38;5;241;43m*\u001b[39;49m\u001b[43mresponse\u001b[49m\u001b[43m)\u001b[49m\n\u001b[1;32m    219\u001b[0m     response_list \u001b[38;5;241m=\u001b[39m LLMResponseListMapping[LLMResponseType]\u001b[38;5;241m.\u001b[39mto_source(\n\u001b[1;32m    220\u001b[0m         completion,\n\u001b[1;32m    221\u001b[0m         request_id\u001b[38;5;241m=\u001b[39mrequest_id,\n\u001b[1;32m    222\u001b[0m         input_id\u001b[38;5;241m=\u001b[39mrequest\u001b[38;5;241m.\u001b[39mparams\u001b[38;5;241m.\u001b[39mmetadata[\u001b[38;5;124m'\u001b[39m\u001b[38;5;124minput_id\u001b[39m\u001b[38;5;124m'\u001b[39m],\n\u001b[1;32m    223\u001b[0m         response_type\u001b[38;5;241m=\u001b[39mresponse_type,\n\u001b[1;32m    224\u001b[0m     )\n\u001b[1;32m    225\u001b[0m     response_lists\u001b[38;5;241m.\u001b[39mappend(response_list)\n",
      "\u001b[0;31mTypeError\u001b[0m: ChatCompletionOutput.__init__() got an unexpected keyword argument 'object'"
     ]
    }
   ],
   "source": [
    "res = await llm.batch_generate(\n",
    "    batch_request=batch_request,\n",
    "    response_type=SomeOutput,\n",
    "    poll_interval=3 * 60,\n",
    "    max_num_retries=0,\n",
    ")\n",
    "res"
   ]
  },
  {
   "cell_type": "code",
   "execution_count": null,
   "metadata": {},
   "outputs": [],
   "source": [
    "from os import environ\n",
    "\n",
    "from decouple import config\n",
    "\n",
    "\n",
    "environ['PBS_O_WORKDIR'] = '../.tmp'\n",
    "environ['TGI_API_KEY'] = config('HUGGINGFACE_TOKEN')\n",
    "environ['MODEL_HUB_ID'] = 'microsoft/Phi-3-mini-4k-instruct'\n",
    "environ['MAX_RETRIES'] = '3'\n",
    "\n",
    "%run ../assets/hpc/hf/tgi/tgi.py"
   ]
  }
 ],
 "metadata": {
  "kernelspec": {
   "display_name": ".venv",
   "language": "python",
   "name": "python3"
  },
  "language_info": {
   "codemirror_mode": {
    "name": "ipython",
    "version": 3
   },
   "file_extension": ".py",
   "mimetype": "text/x-python",
   "name": "python",
   "nbconvert_exporter": "python",
   "pygments_lexer": "ipython3",
   "version": "3.12.7"
  }
 },
 "nbformat": 4,
 "nbformat_minor": 2
}
