{
 "cells": [
  {
   "cell_type": "code",
   "execution_count": 1,
   "metadata": {},
   "outputs": [],
   "source": [
    "%load_ext autoreload\n",
    "%autoreload 2\n",
    "\n",
    "import os\n",
    "import sys\n",
    "\n",
    "import nest_asyncio\n",
    "\n",
    "\n",
    "sys.path.insert(0, os.path.abspath('..'))\n",
    "nest_asyncio.apply()"
   ]
  },
  {
   "cell_type": "code",
   "execution_count": 2,
   "metadata": {},
   "outputs": [],
   "source": [
    "from decouple import config\n",
    "\n",
    "\n",
    "HPC_USER = config('HPC_USER')\n",
    "HPC_HOST = config('HPC_HOST')\n",
    "HPC_PASSPHRASE = config('HPC_PASSPHRASE')"
   ]
  },
  {
   "cell_type": "code",
   "execution_count": null,
   "metadata": {},
   "outputs": [],
   "source": [
    "from pathlib import Path\n",
    "\n",
    "from math_rag.infrastructure.clients import PBSProClient, SFTPClient\n",
    "\n",
    "\n",
    "sftp_client = SFTPClient(HPC_HOST, HPC_USER, HPC_PASSPHRASE)\n",
    "pbs_pro_client = PBSProClient(HPC_HOST, HPC_USER, HPC_PASSPHRASE)"
   ]
  },
  {
   "cell_type": "code",
   "execution_count": null,
   "metadata": {},
   "outputs": [],
   "source": [
    "# TODO remove .. when not in /notebooks\n",
    "source = Path('../assets/huggingface/tgi/tgi.sh')\n",
    "target = Path('/lustre/home/lpanic/tgi_test.sh')\n",
    "\n",
    "await sftp_client.upload(source, target)"
   ]
  },
  {
   "cell_type": "code",
   "execution_count": null,
   "metadata": {},
   "outputs": [],
   "source": [
    "# TODO remove .. when not in /notebooks\n",
    "source = Path('/lustre/home/lpanic/tgi_test.sh')\n",
    "target = Path('../tmp/tgi.sh')\n",
    "\n",
    "await sftp_client.download(source, target)"
   ]
  },
  {
   "cell_type": "code",
   "execution_count": null,
   "metadata": {},
   "outputs": [
    {
     "name": "stdout",
     "output_type": "stream",
     "text": [
      "\n"
     ]
    }
   ],
   "source": [
    "res = await pbs_pro_client.queue_state()\n",
    "print(res)"
   ]
  },
  {
   "cell_type": "code",
   "execution_count": null,
   "metadata": {},
   "outputs": [
    {
     "data": {
      "text/plain": [
       "79"
      ]
     },
     "execution_count": 1,
     "metadata": {},
     "output_type": "execute_result"
    }
   ],
   "source": [
    "# limited to 80 characters (79 + newline)\n",
    "len('    Error_Path = x3000c0s27b0n0.hsn.hpc.srce.hr:/lustre/home/lpanic/hello_world')"
   ]
  },
  {
   "cell_type": "code",
   "execution_count": 2,
   "metadata": {},
   "outputs": [],
   "source": [
    "# qstat -f 465317\n",
    "queue_status = \"\"\"\n",
    "Job Id: 465317.x3000c0s25b0n0.hsn.hpc.srce.hr\n",
    "    Job_Name = hello\n",
    "    Job_Owner = lpanic@x3000c0s27b0n0.hsn.hpc.srce.hr\n",
    "    resources_used.cpupercent = 0\n",
    "    resources_used.cput = 00:00:00\n",
    "    resources_used.mem = 0b\n",
    "    resources_used.ncpus = 1\n",
    "    resources_used.vmem = 0kb\n",
    "    resources_used.walltime = 00:00:00\n",
    "    job_state = R\n",
    "    queue = cpu-single\n",
    "    server = x3000c0s25b0n0.hsn.hpc.srce.hr\n",
    "    Checkpoint = u\n",
    "    ctime = Fri Mar 28 10:45:48 2025\n",
    "    Error_Path = x3000c0s27b0n0.hsn.hpc.srce.hr:/lustre/home/lpanic/hello_world\n",
    "\t/hello.e465317\n",
    "    exec_host = x8000c1s4b0n1/1\n",
    "    exec_vnode = (x8000c1s4b0n1:mem=1843200kb:ncpus=1:ngpus=0)\n",
    "    Hold_Types = n\n",
    "    Join_Path = n\n",
    "    Keep_Files = oed\n",
    "    Mail_Points = a\n",
    "    mtime = Fri Mar 28 10:45:53 2025\n",
    "    Output_Path = x3000c0s27b0n0.hsn.hpc.srce.hr:/lustre/home/lpanic/hello_worl\n",
    "\td/hello.o465317\n",
    "    Priority = 0\n",
    "    qtime = Fri Mar 28 10:45:48 2025\n",
    "    Rerunable = True\n",
    "    Resource_List.mem = 1800mb\n",
    "    Resource_List.ncpus = 1\n",
    "    Resource_List.ngpus = 0\n",
    "    Resource_List.nodect = 1\n",
    "    Resource_List.place = pack\n",
    "    Resource_List.select = 1:mem=1800mb:ncpus=1:ngpus=0\n",
    "    Resource_List.walltime = 48:00:00\n",
    "    stime = Fri Mar 28 10:45:48 2025\n",
    "    session_id = 3900810\n",
    "    jobdir = /lustre/home/lpanic\n",
    "    substate = 42\n",
    "    Variable_List = PBS_O_HOME=/lustre/home/lpanic,PBS_O_LANG=en_US.UTF-8,\n",
    "\tPBS_O_LOGNAME=lpanic,\n",
    "\tPBS_O_PATH=/lustre/home/lpanic/.local/bin:/lustre/home/lpanic/bin:/opt\n",
    "\t/clmgr/sbin:/opt/clmgr/bin:/opt/sgi/sbin:/opt/sgi/bin:/usr/share/Module\n",
    "\ts/bin:/usr/local/bin:/usr/bin:/usr/local/sbin:/usr/sbin:/opt/c3/bin:/op\n",
    "\tt/pbs/bin:/sbin:/bin,PBS_O_MAIL=/var/spool/mail/lpanic,\n",
    "\tPBS_O_SHELL=/bin/bash,PBS_O_HOST=x3000c0s27b0n0.hsn.hpc.srce.hr,\n",
    "\tPBS_O_WORKDIR=/lustre/home/lpanic/hello_world,PBS_O_SYSTEM=Linux,\n",
    "\tPBS_O_QUEUE=RouteQ\n",
    "         = Job run at Fri Mar 28 at 10:45 on (x8000c1s4b0n1:mem=1843200kb:nc\n",
    "\tpus=1:ngpus=0)\n",
    "    etime = Fri Mar 28 10:45:48 2025\n",
    "    run_count = 1\n",
    "    eligible_time = 00:00:05\n",
    "    Submit_arguments = -koed hello.sh\n",
    "    project = _pbs_project_default\n",
    "    Submit_Host = x3000c0s27b0n0.hsn.hpc.srce.hr\n",
    "\"\"\""
   ]
  },
  {
   "cell_type": "code",
   "execution_count": null,
   "metadata": {},
   "outputs": [],
   "source": [
    "from math_rag.infrastructure.models.hpcs.pbs import PBSProJob\n",
    "\n",
    "\n",
    "job = PBSProJob.from_queue_status(queue_status)"
   ]
  },
  {
   "cell_type": "code",
   "execution_count": null,
   "metadata": {},
   "outputs": [],
   "source": [
    "\"\"\"\n",
    "[lpanic@x3000c0s27b0n0 hello_world]$ qsub hello2.sh\n",
    "465698.x3000c0s25b0n0.hsn.hpc.srce.hr\n",
    "[lpanic@x3000c0s27b0n0 hello_world]$ qstat 465698.x3000c0s25b0n0.hsn.hpc.srce.hr\n",
    "Job id                 Name             User              Time Use S Queue\n",
    "---------------------  ---------------- ----------------  -------- - -----\n",
    "465698.x3000c0s25b0n0  hello            lpanic                   0 Q gpu\n",
    "\"\"\""
   ]
  },
  {
   "cell_type": "code",
   "execution_count": null,
   "metadata": {},
   "outputs": [],
   "source": [
    "\"\"\"\n",
    "qstat -x 465698 | awk 'NR==3 {print $1, $2, $3, $4, $5, $6}'\n",
    "\"\"\"\n",
    "\n",
    "\"\"\"\n",
    "465698.x3000c0s25b0n0 hello lpanic 0 Q gpu\n",
    "\"\"\""
   ]
  },
  {
   "cell_type": "code",
   "execution_count": null,
   "metadata": {},
   "outputs": [],
   "source": [
    "\"\"\"\n",
    "gpustat\n",
    "Job             Node            GPU        Gpu-ut     Memory used\n",
    "-----------------------------------------------------------------\n",
    "465711          x8000c2s0b0n1   GPU-3      0 %        1 MiB\n",
    "\"\"\""
   ]
  },
  {
   "cell_type": "code",
   "execution_count": null,
   "metadata": {},
   "outputs": [],
   "source": []
  },
  {
   "cell_type": "code",
   "execution_count": null,
   "metadata": {},
   "outputs": [],
   "source": [
    "\"\"\"\n",
    "job_tmp_size\n",
    "\n",
    "JOB_ID : 465711\n",
    "4.0K /lustre/scratch/pbs.465711.x3000c0s25b0n0.hsn.hpc.srce.hr\n",
    "\"\"\""
   ]
  },
  {
   "cell_type": "code",
   "execution_count": null,
   "metadata": {},
   "outputs": [],
   "source": [
    "\"\"\"\n",
    "NOTE jobstat and jobstat --failed have the same format\n",
    "jobstat --failed\n",
    "\n",
    "JOB ID     NCPUS      LOAD %     MEM        USED.MEM   WALLTIME   USED.WALLTIME   Exit\n",
    "--------------------------------------------------------------------------------------\n",
    "465709     4          0          1gb        0gb        48:00:00   00:00:21        271x\n",
    "\"\"\""
   ]
  },
  {
   "cell_type": "code",
   "execution_count": null,
   "metadata": {},
   "outputs": [],
   "source": []
  },
  {
   "cell_type": "code",
   "execution_count": null,
   "metadata": {},
   "outputs": [],
   "source": [
    "\"\"\"\n",
    "qlive\n",
    "----------------------------\n",
    "Table is showing free/total cpus/gpus per queue, fully free and unavailable nodes\n",
    "----------------------------\n",
    "          Queue      CPUs (f/t)      GPUs (f/t) Fully Free Nodes Unavailable Nodes\n",
    "bigmem                  256/256             0/0              2/2               0/2\n",
    "cpu                    428/6400             0/0             0/50              0/50\n",
    "cpu-radionica           256/256             0/0              2/2               0/2\n",
    "cpu-single              127/384             0/0              0/3               0/3\n",
    "cpu-test               428/6400             0/0             0/50              0/50\n",
    "gpu                    347/1280            2/80             0/20              0/20\n",
    "gpu-radionica           128/128             8/8              2/2               0/2\n",
    "gpu-test                  0/128             0/8              0/2               0/2\n",
    "login-cpu               128/128             0/0              1/1               0/1\n",
    "login-gpu                 52/52             1/1              1/1               0/1\n",
    "\"\"\""
   ]
  },
  {
   "cell_type": "code",
   "execution_count": null,
   "metadata": {},
   "outputs": [],
   "source": [
    "\"\"\"\n",
    "qlive | awk 'NR>=4 {print $1, $2, $3, $4, $5}'\n",
    "Queue CPUs (f/t) GPUs (f/t)\n",
    "bigmem 256/256 0/0 2/2 0/2\n",
    "cpu 428/6400 0/0 0/50 0/50\n",
    "cpu-radionica 256/256 0/0 2/2 0/2\n",
    "cpu-single 127/384 0/0 0/3 0/3\n",
    "cpu-test 428/6400 0/0 0/50 0/50\n",
    "gpu 347/1280 2/80 0/20 0/20\n",
    "gpu-radionica 128/128 8/8 2/2 0/2\n",
    "gpu-test 0/128 0/8 0/2 0/2\n",
    "login-cpu 128/128 0/0 1/1 0/1\n",
    "login-gpu 52/52 1/1 1/1 0/1\n",
    "\"\"\""
   ]
  },
  {
   "cell_type": "code",
   "execution_count": null,
   "metadata": {},
   "outputs": [],
   "source": []
  }
 ],
 "metadata": {
  "kernelspec": {
   "display_name": ".venv",
   "language": "python",
   "name": "python3"
  },
  "language_info": {
   "codemirror_mode": {
    "name": "ipython",
    "version": 3
   },
   "file_extension": ".py",
   "mimetype": "text/x-python",
   "name": "python",
   "nbconvert_exporter": "python",
   "pygments_lexer": "ipython3",
   "version": "3.12.7"
  }
 },
 "nbformat": 4,
 "nbformat_minor": 2
}
