{
 "cells": [
  {
   "cell_type": "code",
   "execution_count": 1,
   "id": "500b0bca",
   "metadata": {},
   "outputs": [],
   "source": [
    "from typing import TYPE_CHECKING\n",
    "\n",
    "\n",
    "if TYPE_CHECKING:\n",
    "    from math_rag.application.containers import ApplicationContainer\n",
    "    from math_rag.infrastructure.containers import InfrastructureContainer\n",
    "\n",
    "    application_container: ApplicationContainer\n",
    "    infrastructure_container: InfrastructureContainer"
   ]
  },
  {
   "cell_type": "code",
   "execution_count": 2,
   "id": "dcce5a75",
   "metadata": {},
   "outputs": [
    {
     "name": "stderr",
     "output_type": "stream",
     "text": [
      "2025-06-22 12:08:19,592 - INFO - PyTorch version 2.6.0 available.\n"
     ]
    }
   ],
   "source": [
    "RESET = False\n",
    "%load_ext hooks.notebook_hook"
   ]
  },
  {
   "cell_type": "code",
   "execution_count": 3,
   "id": "a1e59340",
   "metadata": {},
   "outputs": [
    {
     "name": "stderr",
     "output_type": "stream",
     "text": [
      "2025-06-22 12:08:20,062 - INFO - file_cache is only supported with oauth2client<4.0.0\n"
     ]
    }
   ],
   "source": [
    "from pathlib import Path\n",
    "\n",
    "\n",
    "google_drive_repository = infrastructure_container.google_drive_repository()\n",
    "\n",
    "file_id = google_drive_repository.get_file_id(\n",
    "    Path('ml/lectures/L07-LogisticRegression2/2024_08_10_2174b40686820b4cb591g.tex')\n",
    ")\n",
    "\n",
    "if not file_id:\n",
    "    raise ValueError()\n",
    "\n",
    "file_content = google_drive_repository.get_file_by_id(file_id)"
   ]
  },
  {
   "cell_type": "code",
   "execution_count": 4,
   "id": "8c589e3c",
   "metadata": {},
   "outputs": [],
   "source": [
    "latex = file_content.getvalue().decode()"
   ]
  },
  {
   "cell_type": "code",
   "execution_count": 5,
   "id": "da193472",
   "metadata": {},
   "outputs": [],
   "source": [
    "from math_rag.core.models import MathArticle\n",
    "\n",
    "\n",
    "math_article = MathArticle(\n",
    "    math_expression_dataset_id=None, index_id=None, name='article', bytes=file_content.getvalue()\n",
    ")"
   ]
  },
  {
   "cell_type": "code",
   "execution_count": null,
   "id": "33faed2c",
   "metadata": {},
   "outputs": [],
   "source": [
    "import re\n",
    "\n",
    "\n",
    "MATH_PLACEHOLDER_PATTERN = r'\\[math_placeholder(?: \\| \\d+)?\\]'\n",
    "\n",
    "\n",
    "def parse_placeholders(text: str) -> tuple[list[int], list[int]]:\n",
    "    \"\"\"Find all math-placeholder spans and return their start positions and lengths.\"\"\"\n",
    "    matches = list(re.finditer(MATH_PLACEHOLDER_PATTERN, text))\n",
    "    positions = [match.start() for match in matches]\n",
    "    lengths = [match.end() - match.start() for match in matches]\n",
    "\n",
    "    return positions, lengths\n",
    "\n",
    "\n",
    "def find_contiguous_block_ranges(\n",
    "    positions: list[int], lengths: list[int], max_window_size: int\n",
    ") -> list[tuple[int, int]]:\n",
    "    \"\"\"\n",
    "    Split the sequence of placeholders into blocks where gaps between\n",
    "    consecutive placeholders do not exceed the window size.\n",
    "    Returns a list of (start_index, end_index) ranges into the positions/lengths lists.\n",
    "    \"\"\"\n",
    "    blocks: list[tuple[int, int]] = []\n",
    "    i = 0\n",
    "    n = len(positions)\n",
    "\n",
    "    while i < n:\n",
    "        j = i + 1\n",
    "\n",
    "        while j < n:\n",
    "            previous_end = positions[j - 1] + lengths[j - 1]\n",
    "            gap = positions[j] - previous_end\n",
    "\n",
    "            if gap > max_window_size:\n",
    "                break\n",
    "\n",
    "            # extend block\n",
    "            j += 1\n",
    "\n",
    "        blocks.append((i, j))\n",
    "        i = j\n",
    "\n",
    "    return blocks\n",
    "\n",
    "\n",
    "def chunk_block(\n",
    "    block_text: str,\n",
    "    relative_positions: list[int],\n",
    "    relative_lengths: list[int],\n",
    "    max_window_size: int,\n",
    ") -> list[str]:\n",
    "    \"\"\"\n",
    "    Apply the sliding-window chunking logic to a single text block\n",
    "    with entities at relative positions and lengths.\n",
    "    \"\"\"\n",
    "    chunks: list[str] = []\n",
    "    i = 0\n",
    "    j = 0\n",
    "    n = len(relative_positions)\n",
    "\n",
    "    # build the first window\n",
    "    while j < n and relative_positions[j] + relative_lengths[j] <= max_window_size:\n",
    "        j += 1\n",
    "\n",
    "    first_chunk_end = relative_positions[j - 1] + relative_lengths[j - 1]\n",
    "    chunks.append(block_text[:first_chunk_end])\n",
    "\n",
    "    # slide the window over remaining entities\n",
    "    for k in range(j, n):\n",
    "        start_position = relative_positions[k]\n",
    "        length = relative_lengths[k]\n",
    "\n",
    "        # drop oldest entities until the new one fits\n",
    "        while i < k:\n",
    "            window_origin = relative_positions[i]\n",
    "\n",
    "            if start_position + length - window_origin <= max_window_size:\n",
    "                break\n",
    "\n",
    "            i += 1\n",
    "\n",
    "        window_origin = relative_positions[i]\n",
    "        chunk_end = start_position + length\n",
    "        chunks.append(block_text[window_origin:chunk_end])\n",
    "\n",
    "    return chunks\n",
    "\n",
    "\n",
    "def chunk(text: str, max_window_size: int = 200) -> list[str]:\n",
    "    \"\"\"\n",
    "    Break text into chunks that each include a sliding window of\n",
    "    [math_placeholder | int] tokens without exceeding max_window_size.\n",
    "    \"\"\"\n",
    "    positions, lengths = parse_placeholders(text)\n",
    "    block_ranges = find_contiguous_block_ranges(positions, lengths, max_window_size)\n",
    "    chunks: list[str] = []\n",
    "\n",
    "    for i, j in block_ranges:\n",
    "        # extract the text slice\n",
    "        block_start_offset = positions[i]\n",
    "        block_end_offset = positions[j - 1] + lengths[j - 1]\n",
    "        block_text = text[block_start_offset:block_end_offset]\n",
    "\n",
    "        # find relative positions and lengths\n",
    "        relative_positions = [position - block_start_offset for position in positions[i:j]]\n",
    "        relative_lengths = lengths[i:j]\n",
    "\n",
    "        # chunk\n",
    "        block_chunks = chunk_block(\n",
    "            block_text, relative_positions, relative_lengths, max_window_size\n",
    "        )\n",
    "        chunks.extend(block_chunks)\n",
    "\n",
    "    return chunks"
   ]
  },
  {
   "cell_type": "code",
   "execution_count": 7,
   "id": "ab51f107",
   "metadata": {},
   "outputs": [],
   "source": [
    "math_article_parser_service = infrastructure_container.math_article_parser_service()"
   ]
  },
  {
   "cell_type": "code",
   "execution_count": 8,
   "id": "ad74d449",
   "metadata": {},
   "outputs": [],
   "source": [
    "math_nodes_, positions, template = math_article_parser_service.parse_for_index(math_article)"
   ]
  },
  {
   "cell_type": "code",
   "execution_count": null,
   "id": "be7c64e4",
   "metadata": {},
   "outputs": [],
   "source": [
    "print(template)"
   ]
  },
  {
   "cell_type": "code",
   "execution_count": null,
   "id": "2dff65fc",
   "metadata": {},
   "outputs": [
    {
     "data": {
      "text/plain": [
       "163"
      ]
     },
     "execution_count": 15,
     "metadata": {},
     "output_type": "execute_result"
    }
   ],
   "source": [
    "max_window_size = 1000\n",
    "\n",
    "chunks = chunk(template, max_window_size)\n",
    "len(chunks)"
   ]
  },
  {
   "cell_type": "code",
   "execution_count": null,
   "id": "dc27b232",
   "metadata": {},
   "outputs": [],
   "source": [
    "for x in chunks:\n",
    "    print(x)\n",
    "    print()\n",
    "    print('-------')\n",
    "    print()"
   ]
  },
  {
   "cell_type": "code",
   "execution_count": null,
   "id": "14717542",
   "metadata": {},
   "outputs": [],
   "source": [
    "MATH_PLACEHOLDER_TEMPLATE = '[math_placeholder | {index}]'\n",
    "\n",
    "\n",
    "def inject_latex(chunk: str, placeholder_index_to_latex: dict[int, str]) -> str:\n",
    "    \"\"\"\n",
    "    Replace each [math_placeholder | i] in the chunk with [<latex> | i],\n",
    "    preserving the index.\n",
    "    \"\"\"\n",
    "    for index, latex in placeholder_index_to_latex.items():\n",
    "        original = MATH_PLACEHOLDER_TEMPLATE.format(index=index)\n",
    "        replacement = f'[{latex} | {index}]'\n",
    "        chunk = chunk.replace(original, replacement)\n",
    "\n",
    "    return chunk"
   ]
  },
  {
   "cell_type": "code",
   "execution_count": 34,
   "id": "cf0e62cc",
   "metadata": {},
   "outputs": [],
   "source": [
    "placeholder_index_to_latex = {i: math_node.latex for i, math_node in enumerate(math_nodes_)}\n",
    "formatted_chunks = [inject_latex(chunk, placeholder_index_to_latex) for chunk in chunks]"
   ]
  },
  {
   "cell_type": "code",
   "execution_count": 37,
   "id": "823f64fa",
   "metadata": {},
   "outputs": [
    {
     "name": "stdout",
     "output_type": "stream",
     "text": [
      "[$$\n",
      "\\mathbf{x} \\leftarrow \\mathbf{x}-\\eta \\nabla f(\\mathrm{x})\n",
      "$$ | 2]\n",
      "\n",
      "If we introduce an index for the iterations, then we can write this as an equation:\n",
      "\n",
      "[$$\n",
      "\\mathbf{x}_{t+1}=\\mathbf{x}_{t}-\\eta \\nabla f\\left(\\mathbf{x}_{t}\\right)\n",
      "$$ | 3]\n",
      "\n",
      "The idea with Newton's method is to take the point [$\\mathbf{x}_{t}$ | 4] (the current minimum) and compute at it the quadratic approximation of the function [$f(\\mathrm{x})$ | 5], and then move to the minimizer of this quadratic approximation (which is known analytically). If [$f$ | 6] is a function of one variable, this would look like this:\n",
      "\n",
      "\n",
      "[image_placeholder | 1]\n",
      "\n",
      "\n",
      "The black curve is the function [$f(x)$ | 7] that we minimize. We start from point [$x_{0}$ | 8]. At this point we do a quadratic approximation of the function [$f$ | 9], thus obtaining a parabola that is tangential to the function [$f$ | 10] at the point [$x_{0}$ | 11]. The search then moves to a point that minimizes the quadratic approximation of [$f$ | 12]\n"
     ]
    }
   ],
   "source": [
    "print(formatted_chunks[2])"
   ]
  },
  {
   "cell_type": "code",
   "execution_count": null,
   "id": "21d9d976",
   "metadata": {},
   "outputs": [],
   "source": [
    "# TODO make a \"preview\""
   ]
  },
  {
   "cell_type": "markdown",
   "id": "f8e94979",
   "metadata": {},
   "source": [
    "## Mathpix"
   ]
  },
  {
   "cell_type": "code",
   "execution_count": null,
   "id": "7a156903",
   "metadata": {},
   "outputs": [],
   "source": [
    "mathpix_client = infrastructure_container.mathpix_client()"
   ]
  },
  {
   "cell_type": "code",
   "execution_count": null,
   "id": "8cdb4ba1",
   "metadata": {},
   "outputs": [],
   "source": [
    "mathpix_client.convert_image(url='https://iili.io/FKvvD0J.png')"
   ]
  },
  {
   "cell_type": "code",
   "execution_count": null,
   "id": "0899434e",
   "metadata": {},
   "outputs": [],
   "source": [
    "from pathlib import Path\n",
    "\n",
    "\n",
    "pdf_path = Path('../.tmp/test_formulas.pdf')\n",
    "mathpix_client.convert_pdf(file_path=Path('../.tmp/test_formulas.pdf'))"
   ]
  },
  {
   "cell_type": "code",
   "execution_count": null,
   "id": "c8e6121f",
   "metadata": {},
   "outputs": [],
   "source": [
    "zip_path = Path('../.tmp/mathpix/downloads/data.zip')\n",
    "target_path = Path('../.tmp/mathpix/data.zip')\n",
    "\n",
    "from math_rag.shared.utils import ZipExtractorUtil\n",
    "\n",
    "\n",
    "ZipExtractorUtil.extract(zip_path, target_path)\n",
    "\n",
    "# TODO find .tex file in extracted dir, convert to katex, save to minio"
   ]
  }
 ],
 "metadata": {
  "kernelspec": {
   "display_name": ".venv",
   "language": "python",
   "name": "python3"
  },
  "language_info": {
   "codemirror_mode": {
    "name": "ipython",
    "version": 3
   },
   "file_extension": ".py",
   "mimetype": "text/x-python",
   "name": "python",
   "nbconvert_exporter": "python",
   "pygments_lexer": "ipython3",
   "version": "3.12.7"
  }
 },
 "nbformat": 4,
 "nbformat_minor": 5
}
