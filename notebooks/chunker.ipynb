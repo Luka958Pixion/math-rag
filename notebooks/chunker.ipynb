{
 "cells": [
  {
   "cell_type": "code",
   "execution_count": 1,
   "id": "500b0bca",
   "metadata": {},
   "outputs": [],
   "source": [
    "from typing import TYPE_CHECKING\n",
    "\n",
    "\n",
    "if TYPE_CHECKING:\n",
    "    from math_rag.application.containers import ApplicationContainer\n",
    "    from math_rag.infrastructure.containers import InfrastructureContainer\n",
    "\n",
    "    application_container: ApplicationContainer\n",
    "    infrastructure_container: InfrastructureContainer"
   ]
  },
  {
   "cell_type": "code",
   "execution_count": 2,
   "id": "dcce5a75",
   "metadata": {},
   "outputs": [
    {
     "name": "stderr",
     "output_type": "stream",
     "text": [
      "2025-06-22 10:36:41,819 - INFO - PyTorch version 2.6.0 available.\n"
     ]
    }
   ],
   "source": [
    "RESET = False\n",
    "%load_ext hooks.notebook_hook"
   ]
  },
  {
   "cell_type": "code",
   "execution_count": 3,
   "id": "a1e59340",
   "metadata": {},
   "outputs": [
    {
     "name": "stderr",
     "output_type": "stream",
     "text": [
      "2025-06-22 10:36:43,361 - INFO - file_cache is only supported with oauth2client<4.0.0\n"
     ]
    }
   ],
   "source": [
    "from pathlib import Path\n",
    "\n",
    "\n",
    "google_drive_repository = infrastructure_container.google_drive_repository()\n",
    "\n",
    "file_id = google_drive_repository.get_file_id(\n",
    "    Path('ml/lectures/L07-LogisticRegression2/2024_08_10_2174b40686820b4cb591g.tex')\n",
    ")\n",
    "\n",
    "if not file_id:\n",
    "    raise ValueError()\n",
    "\n",
    "file_content = google_drive_repository.get_file_by_id(file_id)"
   ]
  },
  {
   "cell_type": "code",
   "execution_count": null,
   "id": "8c589e3c",
   "metadata": {},
   "outputs": [],
   "source": [
    "latex = file_content.getvalue().decode()\n",
    "latex"
   ]
  },
  {
   "cell_type": "code",
   "execution_count": 4,
   "id": "da193472",
   "metadata": {},
   "outputs": [],
   "source": [
    "from math_rag.core.models import MathArticle\n",
    "\n",
    "\n",
    "math_article = MathArticle(\n",
    "    math_expression_dataset_id=None, index_id=None, name='article', bytes=file_content.getvalue()\n",
    ")"
   ]
  },
  {
   "cell_type": "code",
   "execution_count": 5,
   "id": "77ec4f5a",
   "metadata": {},
   "outputs": [],
   "source": [
    "def chunk(\n",
    "    text: str, positions: list[int], lengths: list[int], max_window_size: int = 200\n",
    ") -> list[str]:\n",
    "    n = len(positions)\n",
    "    chunks: list[str] = []\n",
    "\n",
    "    # 1) build the first window\n",
    "    # if the very first entity is by itself too long, it can never be chunked\n",
    "    first_len = lengths[0]\n",
    "\n",
    "    if first_len > max_window_size:\n",
    "        raise ValueError(\n",
    "            f'Entity at position {positions[0]} '\n",
    "            f'has length {first_len}, which exceeds '\n",
    "            f'the maximum window size of {max_window_size} characters'\n",
    "        )\n",
    "\n",
    "    start_index = 0\n",
    "    end_index = 0\n",
    "\n",
    "    # greedily expand until adding the next entity would overflow\n",
    "    while end_index < n:\n",
    "        entity_end = positions[end_index] + lengths[end_index]\n",
    "\n",
    "        if entity_end <= max_window_size:\n",
    "            end_index += 1\n",
    "        else:\n",
    "            break\n",
    "\n",
    "    # Emit the first chunk\n",
    "    first_end = positions[end_index - 1] + lengths[end_index - 1]\n",
    "    chunks.append(text[:first_end])\n",
    "\n",
    "    # 2) slide the window over each subsequent entity\n",
    "    for current_index in range(end_index, n):\n",
    "        new_start = positions[current_index]\n",
    "        last_end = positions[current_index - 1] + lengths[current_index - 1]\n",
    "\n",
    "        # gap check\n",
    "        gap = new_start - last_end\n",
    "\n",
    "        if gap > max_window_size:\n",
    "            raise ValueError(\n",
    "                f'Gap of {gap} characters between entity ending at {last_end} '\n",
    "                f'and next entity at {new_start} exceeds '\n",
    "                f'the maximum window size of {max_window_size} characters'\n",
    "            )\n",
    "\n",
    "        # slide off old entities until the new one fits\n",
    "        while start_index < current_index:\n",
    "            window_start = positions[start_index] if start_index > 0 else 0\n",
    "            candidate_end = new_start + lengths[current_index]\n",
    "\n",
    "            if candidate_end - window_start <= max_window_size:\n",
    "                break\n",
    "            start_index += 1\n",
    "\n",
    "        window_start = positions[start_index] if start_index > 0 else 0\n",
    "        chunks.append(text[window_start : new_start + lengths[current_index]])\n",
    "\n",
    "    return chunks"
   ]
  },
  {
   "cell_type": "code",
   "execution_count": 6,
   "id": "ab51f107",
   "metadata": {},
   "outputs": [],
   "source": [
    "math_article_parser_service = infrastructure_container.math_article_parser_service()"
   ]
  },
  {
   "cell_type": "code",
   "execution_count": 7,
   "id": "ad74d449",
   "metadata": {},
   "outputs": [],
   "source": [
    "math_nodes_, positions, template = math_article_parser_service.parse_for_index(math_article)"
   ]
  },
  {
   "cell_type": "code",
   "execution_count": null,
   "id": "be7c64e4",
   "metadata": {},
   "outputs": [],
   "source": [
    "print(template)"
   ]
  },
  {
   "cell_type": "code",
   "execution_count": 16,
   "id": "2dff65fc",
   "metadata": {},
   "outputs": [
    {
     "ename": "ValueError",
     "evalue": "Gap of 3266 characters between entity ending at 571 and next entity at 3837 exceeds the maximum window size of 200 characters",
     "output_type": "error",
     "traceback": [
      "\u001b[0;31m---------------------------------------------------------------------------\u001b[0m",
      "\u001b[0;31mValueError\u001b[0m                                Traceback (most recent call last)",
      "Cell \u001b[0;32mIn[16], line 4\u001b[0m\n\u001b[1;32m      1\u001b[0m lengths \u001b[38;5;241m=\u001b[39m [\u001b[38;5;28mlen\u001b[39m(\u001b[38;5;124m'\u001b[39m\u001b[38;5;124m[math_placeholder]\u001b[39m\u001b[38;5;124m'\u001b[39m)] \u001b[38;5;241m*\u001b[39m \u001b[38;5;28mlen\u001b[39m(positions)\n\u001b[1;32m      2\u001b[0m max_window_size \u001b[38;5;241m=\u001b[39m \u001b[38;5;241m200\u001b[39m\n\u001b[0;32m----> 4\u001b[0m \u001b[43mchunk\u001b[49m\u001b[43m(\u001b[49m\u001b[43mtemplate\u001b[49m\u001b[43m,\u001b[49m\u001b[43m \u001b[49m\u001b[43mpositions\u001b[49m\u001b[43m,\u001b[49m\u001b[43m \u001b[49m\u001b[43mlengths\u001b[49m\u001b[43m,\u001b[49m\u001b[43m \u001b[49m\u001b[43mmax_window_size\u001b[49m\u001b[43m)\u001b[49m\n",
      "Cell \u001b[0;32mIn[5], line 43\u001b[0m, in \u001b[0;36mchunk\u001b[0;34m(text, positions, lengths, max_window_size)\u001b[0m\n\u001b[1;32m     40\u001b[0m gap \u001b[38;5;241m=\u001b[39m new_start \u001b[38;5;241m-\u001b[39m last_end\n\u001b[1;32m     42\u001b[0m \u001b[38;5;28;01mif\u001b[39;00m gap \u001b[38;5;241m>\u001b[39m max_window_size:\n\u001b[0;32m---> 43\u001b[0m     \u001b[38;5;28;01mraise\u001b[39;00m \u001b[38;5;167;01mValueError\u001b[39;00m(\n\u001b[1;32m     44\u001b[0m         \u001b[38;5;124mf\u001b[39m\u001b[38;5;124m'\u001b[39m\u001b[38;5;124mGap of \u001b[39m\u001b[38;5;132;01m{\u001b[39;00mgap\u001b[38;5;132;01m}\u001b[39;00m\u001b[38;5;124m characters between entity ending at \u001b[39m\u001b[38;5;132;01m{\u001b[39;00mlast_end\u001b[38;5;132;01m}\u001b[39;00m\u001b[38;5;124m \u001b[39m\u001b[38;5;124m'\u001b[39m\n\u001b[1;32m     45\u001b[0m         \u001b[38;5;124mf\u001b[39m\u001b[38;5;124m'\u001b[39m\u001b[38;5;124mand next entity at \u001b[39m\u001b[38;5;132;01m{\u001b[39;00mnew_start\u001b[38;5;132;01m}\u001b[39;00m\u001b[38;5;124m exceeds \u001b[39m\u001b[38;5;124m'\u001b[39m\n\u001b[1;32m     46\u001b[0m         \u001b[38;5;124mf\u001b[39m\u001b[38;5;124m'\u001b[39m\u001b[38;5;124mthe maximum window size of \u001b[39m\u001b[38;5;132;01m{\u001b[39;00mmax_window_size\u001b[38;5;132;01m}\u001b[39;00m\u001b[38;5;124m characters\u001b[39m\u001b[38;5;124m'\u001b[39m\n\u001b[1;32m     47\u001b[0m     )\n\u001b[1;32m     49\u001b[0m \u001b[38;5;66;03m# slide off old entities until the new one fits\u001b[39;00m\n\u001b[1;32m     50\u001b[0m \u001b[38;5;28;01mwhile\u001b[39;00m start_index \u001b[38;5;241m<\u001b[39m current_index:\n",
      "\u001b[0;31mValueError\u001b[0m: Gap of 3266 characters between entity ending at 571 and next entity at 3837 exceeds the maximum window size of 200 characters"
     ]
    }
   ],
   "source": [
    "lengths = [len('[math_placeholder]')] * len(positions)\n",
    "max_window_size = 200\n",
    "\n",
    "chunk(template, positions, lengths, max_window_size)"
   ]
  },
  {
   "cell_type": "markdown",
   "id": "f8e94979",
   "metadata": {},
   "source": [
    "## Mathpix"
   ]
  },
  {
   "cell_type": "code",
   "execution_count": null,
   "id": "7a156903",
   "metadata": {},
   "outputs": [],
   "source": [
    "mathpix_client = infrastructure_container.mathpix_client()"
   ]
  },
  {
   "cell_type": "code",
   "execution_count": null,
   "id": "8cdb4ba1",
   "metadata": {},
   "outputs": [],
   "source": [
    "mathpix_client.convert_image(url='https://iili.io/FKvvD0J.png')"
   ]
  },
  {
   "cell_type": "code",
   "execution_count": null,
   "id": "0899434e",
   "metadata": {},
   "outputs": [],
   "source": [
    "from pathlib import Path\n",
    "\n",
    "\n",
    "pdf_path = Path('../.tmp/test_formulas.pdf')\n",
    "mathpix_client.convert_pdf(file_path=Path('../.tmp/test_formulas.pdf'))"
   ]
  },
  {
   "cell_type": "code",
   "execution_count": null,
   "id": "c8e6121f",
   "metadata": {},
   "outputs": [],
   "source": [
    "zip_path = Path('../.tmp/mathpix/downloads/data.zip')\n",
    "target_path = Path('../.tmp/mathpix/data.zip')\n",
    "\n",
    "from math_rag.shared.utils import ZipExtractorUtil\n",
    "\n",
    "\n",
    "ZipExtractorUtil.extract(zip_path, target_path)\n",
    "\n",
    "# TODO find .tex file in extracted dir, convert to katex, save to minio"
   ]
  }
 ],
 "metadata": {
  "kernelspec": {
   "display_name": ".venv",
   "language": "python",
   "name": "python3"
  },
  "language_info": {
   "codemirror_mode": {
    "name": "ipython",
    "version": 3
   },
   "file_extension": ".py",
   "mimetype": "text/x-python",
   "name": "python",
   "nbconvert_exporter": "python",
   "pygments_lexer": "ipython3",
   "version": "3.12.7"
  }
 },
 "nbformat": 4,
 "nbformat_minor": 5
}
