{
 "cells": [
  {
   "cell_type": "code",
   "execution_count": null,
   "id": "500b0bca",
   "metadata": {},
   "outputs": [],
   "source": [
    "from typing import TYPE_CHECKING\n",
    "\n",
    "\n",
    "if TYPE_CHECKING:\n",
    "    from math_rag.application.containers import ApplicationContainer\n",
    "    from math_rag.infrastructure.containers import InfrastructureContainer\n",
    "\n",
    "    application_container: ApplicationContainer\n",
    "    infrastructure_container: InfrastructureContainer"
   ]
  },
  {
   "cell_type": "code",
   "execution_count": null,
   "id": "dcce5a75",
   "metadata": {},
   "outputs": [],
   "source": [
    "RESET = False\n",
    "%load_ext hooks.notebook_hook"
   ]
  },
  {
   "cell_type": "code",
   "execution_count": null,
   "id": "a1e59340",
   "metadata": {},
   "outputs": [],
   "source": [
    "from pathlib import Path\n",
    "\n",
    "\n",
    "google_drive_repository = infrastructure_container.google_drive_repository()\n",
    "\n",
    "file_id = google_drive_repository.get_file_id(\n",
    "    Path('ml/lectures/L07-LogisticRegression2/2024_08_10_2174b40686820b4cb591g.tex')\n",
    ")\n",
    "\n",
    "if not file_id:\n",
    "    raise ValueError()\n",
    "\n",
    "file_content = google_drive_repository.get_file_by_id(file_id)"
   ]
  },
  {
   "cell_type": "code",
   "execution_count": null,
   "id": "8c589e3c",
   "metadata": {},
   "outputs": [],
   "source": [
    "latex = file_content.getvalue().decode()\n",
    "latex"
   ]
  },
  {
   "cell_type": "code",
   "execution_count": null,
   "id": "77b3e4de",
   "metadata": {},
   "outputs": [],
   "source": [
    "latex_parser_service = infrastructure_container.latex_parser_service()\n",
    "latex_node_walker_service = infrastructure_container.latex_node_walker_service()"
   ]
  },
  {
   "cell_type": "code",
   "execution_count": null,
   "id": "77ec4f5a",
   "metadata": {},
   "outputs": [],
   "source": [
    "def chunk(\n",
    "    text: str, positions: list[int], lengths: list[int], max_window_size: int = 200\n",
    ") -> list[str]:\n",
    "    n = len(positions)\n",
    "    chunks: list[str] = []\n",
    "\n",
    "    # 1) build the first window\n",
    "    # if the very first entity is by itself too long, it can never be chunked\n",
    "    first_len = lengths[0]\n",
    "\n",
    "    if first_len > max_window_size:\n",
    "        raise ValueError(\n",
    "            f'Entity at position {positions[0]} '\n",
    "            f'has length {first_len}, which exceeds '\n",
    "            f'the maximum window size of {max_window_size} characters'\n",
    "        )\n",
    "\n",
    "    start_index = 0\n",
    "    end_index = 0\n",
    "\n",
    "    # greedily expand until adding the next entity would overflow\n",
    "    while end_index < n:\n",
    "        entity_end = positions[end_index] + lengths[end_index]\n",
    "\n",
    "        if entity_end <= max_window_size:\n",
    "            end_index += 1\n",
    "        else:\n",
    "            break\n",
    "\n",
    "    # Emit the first chunk\n",
    "    first_end = positions[end_index - 1] + lengths[end_index - 1]\n",
    "    chunks.append(text[:first_end])\n",
    "\n",
    "    # 2) slide the window over each subsequent entity\n",
    "    for current_index in range(end_index, n):\n",
    "        new_start = positions[current_index]\n",
    "        last_end = positions[current_index - 1] + lengths[current_index - 1]\n",
    "\n",
    "        # gap check\n",
    "        gap = new_start - last_end\n",
    "\n",
    "        if gap > max_window_size:\n",
    "            raise ValueError(\n",
    "                f'Gap of {gap} characters between entity ending at {last_end} '\n",
    "                f'and next entity at {new_start} exceeds '\n",
    "                f'the maximum window size of {max_window_size} characters'\n",
    "            )\n",
    "\n",
    "        # slide off old entities until the new one fits\n",
    "        while start_index < current_index:\n",
    "            window_start = positions[start_index] if start_index > 0 else 0\n",
    "            candidate_end = new_start + lengths[current_index]\n",
    "\n",
    "            if candidate_end - window_start <= max_window_size:\n",
    "                break\n",
    "            start_index += 1\n",
    "\n",
    "        window_start = positions[start_index] if start_index > 0 else 0\n",
    "        chunks.append(text[window_start : new_start + lengths[current_index]])\n",
    "\n",
    "    return chunks"
   ]
  },
  {
   "cell_type": "code",
   "execution_count": null,
   "id": "7a156903",
   "metadata": {},
   "outputs": [],
   "source": [
    "mathpix_client = infrastructure_container.mathpix_client()"
   ]
  },
  {
   "cell_type": "code",
   "execution_count": null,
   "id": "8cdb4ba1",
   "metadata": {},
   "outputs": [],
   "source": [
    "mathpix_client.convert_image(url='https://iili.io/FKvvD0J.png')"
   ]
  },
  {
   "cell_type": "code",
   "execution_count": null,
   "id": "0899434e",
   "metadata": {},
   "outputs": [],
   "source": [
    "from pathlib import Path\n",
    "\n",
    "\n",
    "pdf_path = Path('../.tmp/test_formulas.pdf')\n",
    "mathpix_client.convert_pdf(file_path=Path('../.tmp/test_formulas.pdf'))"
   ]
  },
  {
   "cell_type": "code",
   "execution_count": null,
   "id": "c8e6121f",
   "metadata": {},
   "outputs": [],
   "source": [
    "zip_path = Path('../.tmp/mathpix/downloads/data.zip')\n",
    "target_path = Path('../.tmp/mathpix/data.zip')\n",
    "\n",
    "from math_rag.shared.utils import ZipExtractorUtil\n",
    "\n",
    "\n",
    "ZipExtractorUtil.extract(zip_path, target_path)\n",
    "\n",
    "# TODO find .tex file in extracted dir, convert to katex, save to minio"
   ]
  }
 ],
 "metadata": {
  "kernelspec": {
   "display_name": ".venv",
   "language": "python",
   "name": "python3"
  },
  "language_info": {
   "codemirror_mode": {
    "name": "ipython",
    "version": 3
   },
   "file_extension": ".py",
   "mimetype": "text/x-python",
   "name": "python",
   "nbconvert_exporter": "python",
   "pygments_lexer": "ipython3",
   "version": "3.12.7"
  }
 },
 "nbformat": 4,
 "nbformat_minor": 5
}
