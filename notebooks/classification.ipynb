{
 "cells": [
  {
   "cell_type": "code",
   "execution_count": null,
   "metadata": {},
   "outputs": [],
   "source": [
    "%load_ext autoreload\n",
    "%autoreload 2\n",
    "\n",
    "import os\n",
    "import sys\n",
    "\n",
    "import nest_asyncio\n",
    "\n",
    "\n",
    "sys.path.insert(0, os.path.abspath('..'))\n",
    "nest_asyncio.apply()"
   ]
  },
  {
   "cell_type": "code",
   "execution_count": null,
   "metadata": {},
   "outputs": [],
   "source": [
    "import logging\n",
    "\n",
    "\n",
    "logging.basicConfig(\n",
    "    level=logging.INFO, format='%(asctime)s - %(levelname)s - %(message)s'\n",
    ")"
   ]
  },
  {
   "cell_type": "code",
   "execution_count": null,
   "metadata": {},
   "outputs": [],
   "source": [
    "from math_rag.infrastructure.containers import InfrastructureContainer\n",
    "\n",
    "\n",
    "RESET = False\n",
    "\n",
    "infrastructure_container = InfrastructureContainer()\n",
    "infrastructure_container.init_resources()\n",
    "\n",
    "math_article_seeder = infrastructure_container.math_article_seeder()\n",
    "math_expression_seeder = infrastructure_container.math_expression_seeder()\n",
    "math_expression_classification_seeder = (\n",
    "    infrastructure_container.math_expression_classification_seeder()\n",
    ")\n",
    "math_article_seeder.seed(reset=RESET)\n",
    "await math_expression_seeder.seed(reset=RESET)\n",
    "await math_expression_classification_seeder.seed(reset=RESET)\n",
    "\n",
    "math_expression_repository = infrastructure_container.math_expression_repository()\n",
    "math_expression_classification_repository = (\n",
    "    infrastructure_container.math_expression_classification_repository()\n",
    ")\n",
    "llm = infrastructure_container.llm()"
   ]
  },
  {
   "cell_type": "code",
   "execution_count": null,
   "metadata": {},
   "outputs": [],
   "source": [
    "from enum import Enum\n",
    "\n",
    "\n",
    "class MathExpressionCategory(str, Enum):\n",
    "    EQUALITY = 'equality'\n",
    "    INEQUALITY = 'inequality'\n",
    "    CONSTANT = 'constant'\n",
    "    VARIABLE = 'variable'\n",
    "    OTHER = 'other'"
   ]
  },
  {
   "cell_type": "code",
   "execution_count": null,
   "metadata": {},
   "outputs": [],
   "source": [
    "# TODO\n",
    "# - description for each class\n",
    "# - how to determine classes?\n",
    "# - do names need to take a single token?"
   ]
  },
  {
   "cell_type": "code",
   "execution_count": null,
   "metadata": {},
   "outputs": [],
   "source": [
    "import numpy as np\n",
    "\n",
    "from openai import NOT_GIVEN\n",
    "from openai.types.chat import ChatCompletion\n",
    "\n",
    "\n",
    "def get_prompt(math_expr: str) -> str:\n",
    "    return f\"\"\"\n",
    "You are a mathematical expression classifier.\n",
    "Given a mathematical expression, classify it in a single class regarding STRUCTURE of the expression.\n",
    "Class must be a single word.\n",
    "\n",
    "Return a class only!\n",
    "\n",
    "Mathematical expression:\n",
    "{math_expr}\n",
    "\n",
    "Class:\n",
    "\"\"\"\n",
    "\n",
    "\n",
    "use_json = False\n",
    "\n",
    "\n",
    "async def get_completion(prompt: str) -> ChatCompletion:\n",
    "    return await llm.client.chat.completions.create(\n",
    "        model='gpt-4o',\n",
    "        messages=[{'role': 'user', 'content': prompt}],\n",
    "        response_format={'type': 'json_object'} if use_json else NOT_GIVEN,\n",
    "        logprobs=True,\n",
    "        temperature=0.0,\n",
    "        top_logprobs=5,\n",
    "    )\n",
    "\n",
    "\n",
    "completion = await get_completion(prompt)\n",
    "\n",
    "for math_node in completion.choices[0].logprobs.content:\n",
    "    for y in math_node.top_logprobs:\n",
    "        print(f'\"{y.token}\": {np.exp(y.logprob)}')\n",
    "\n",
    "    print('------')\n",
    "    print(math_node.token)\n",
    "    print(math_node.logprob)\n",
    "    print(np.exp(math_node.logprob))"
   ]
  },
  {
   "cell_type": "code",
   "execution_count": null,
   "metadata": {},
   "outputs": [],
   "source": [
    "math_expressions = await math_expression_repository.get_math_expressions()"
   ]
  },
  {
   "cell_type": "code",
   "execution_count": null,
   "metadata": {},
   "outputs": [],
   "source": [
    "prompt = f\"\"\"\n",
    "You are a mathematical expression classifier.\n",
    "Given a mathematical expression, classify it in one of 4 given classes:\n",
    "- constant\n",
    "- variable\n",
    "- formula\n",
    "- other\n",
    "\n",
    "Return a class only!\n",
    "\n",
    "Mathematical expression:\n",
    "{math_expr}\n",
    "\n",
    "Class:\n",
    "\"\"\""
   ]
  }
 ],
 "metadata": {
  "kernelspec": {
   "display_name": "math-rag-QVTscwFS-py3.12",
   "language": "python",
   "name": "python3"
  },
  "language_info": {
   "name": "python",
   "version": "3.12.9"
  }
 },
 "nbformat": 4,
 "nbformat_minor": 2
}
