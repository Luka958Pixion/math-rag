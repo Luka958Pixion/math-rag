{
 "cells": [
  {
   "cell_type": "code",
   "execution_count": 1,
   "metadata": {},
   "outputs": [],
   "source": [
    "%load_ext autoreload\n",
    "%autoreload 2\n",
    "\n",
    "import os\n",
    "import sys\n",
    "\n",
    "import nest_asyncio\n",
    "\n",
    "\n",
    "sys.path.insert(0, os.path.abspath('..'))\n",
    "nest_asyncio.apply()"
   ]
  },
  {
   "cell_type": "code",
   "execution_count": 2,
   "metadata": {},
   "outputs": [],
   "source": [
    "import logging\n",
    "\n",
    "\n",
    "logging.basicConfig(\n",
    "    level=logging.INFO, format='%(asctime)s - %(levelname)s - %(message)s'\n",
    ")"
   ]
  },
  {
   "cell_type": "code",
   "execution_count": 6,
   "metadata": {},
   "outputs": [],
   "source": [
    "from math_rag.infrastructure.containers import InfrastructureContainer\n",
    "\n",
    "\n",
    "RESET = False\n",
    "\n",
    "infrastructure_container = InfrastructureContainer()\n",
    "infrastructure_container.init_resources()\n",
    "\n",
    "math_article_seeder = infrastructure_container.math_article_seeder()\n",
    "math_expression_seeder = infrastructure_container.math_expression_seeder()\n",
    "math_expression_classification_seeder = (\n",
    "    infrastructure_container.math_expression_classification_seeder()\n",
    ")\n",
    "math_article_seeder.seed(reset=RESET)\n",
    "await math_expression_seeder.seed(reset=RESET)\n",
    "await math_expression_classification_seeder.seed(reset=RESET)\n",
    "\n",
    "math_expression_repository = infrastructure_container.math_expression_repository()\n",
    "math_expression_classification_repository = (\n",
    "    infrastructure_container.math_expression_classification_repository()\n",
    ")\n",
    "openai_managed_llm = infrastructure_container.openai_managed_llm()"
   ]
  },
  {
   "cell_type": "code",
   "execution_count": null,
   "metadata": {},
   "outputs": [],
   "source": [
    "# TODO\n",
    "# - description for each class\n",
    "# - how to determine classes?\n",
    "# - do names need to have a single token?"
   ]
  },
  {
   "cell_type": "code",
   "execution_count": 4,
   "metadata": {},
   "outputs": [],
   "source": [
    "math_expressions = await math_expression_repository.find_many()"
   ]
  },
  {
   "cell_type": "code",
   "execution_count": 3,
   "metadata": {},
   "outputs": [
    {
     "data": {
      "text/plain": [
       "{'$defs': {'MathExpressionCategory': {'enum': ['equality',\n",
       "    'inequality',\n",
       "    'constant',\n",
       "    'variable',\n",
       "    'other'],\n",
       "   'title': 'MathExpressionCategory',\n",
       "   'type': 'string'}},\n",
       " 'properties': {'id': {'format': 'uuid', 'title': 'Id', 'type': 'string'},\n",
       "  'math_expression_id': {'format': 'uuid',\n",
       "   'title': 'Math Expression Id',\n",
       "   'type': 'string'},\n",
       "  'value': {'$ref': '#/$defs/MathExpressionCategory'}},\n",
       " 'required': ['math_expression_id', 'value'],\n",
       " 'title': 'MathExpressionLabel',\n",
       " 'type': 'object'}"
      ]
     },
     "execution_count": 3,
     "metadata": {},
     "output_type": "execute_result"
    }
   ],
   "source": [
    "from math_rag.core.enums import MathExpressionCategory\n",
    "from math_rag.core.models import MathExpressionLabel\n",
    "\n",
    "\n",
    "MathExpressionLabel.model_json_schema()"
   ]
  },
  {
   "cell_type": "code",
   "execution_count": null,
   "metadata": {},
   "outputs": [
    {
     "ename": "TypeError",
     "evalue": "Can't instantiate abstract class MECAssistant without an implementation for abstract method 'assist'",
     "output_type": "error",
     "traceback": [
      "\u001b[0;31m---------------------------------------------------------------------------\u001b[0m",
      "\u001b[0;31mTypeError\u001b[0m                                 Traceback (most recent call last)",
      "Cell \u001b[0;32mIn[9], line 4\u001b[0m\n\u001b[1;32m      1\u001b[0m \u001b[38;5;28;01mfrom\u001b[39;00m\u001b[38;5;250m \u001b[39m\u001b[38;5;21;01mmath_rag\u001b[39;00m\u001b[38;5;21;01m.\u001b[39;00m\u001b[38;5;21;01mapplication\u001b[39;00m\u001b[38;5;21;01m.\u001b[39;00m\u001b[38;5;21;01massistants\u001b[39;00m\u001b[38;5;250m \u001b[39m\u001b[38;5;28;01mimport\u001b[39;00m MECAssistant\n\u001b[1;32m      2\u001b[0m \u001b[38;5;28;01mfrom\u001b[39;00m\u001b[38;5;250m \u001b[39m\u001b[38;5;21;01mmath_rag\u001b[39;00m\u001b[38;5;21;01m.\u001b[39;00m\u001b[38;5;21;01mapplication\u001b[39;00m\u001b[38;5;21;01m.\u001b[39;00m\u001b[38;5;21;01mmodels\u001b[39;00m\u001b[38;5;21;01m.\u001b[39;00m\u001b[38;5;21;01massistants\u001b[39;00m\u001b[38;5;250m \u001b[39m\u001b[38;5;28;01mimport\u001b[39;00m MECAssistantInput\n\u001b[0;32m----> 4\u001b[0m math_expression_classification_assistant \u001b[38;5;241m=\u001b[39m \u001b[43minfrastructure_container\u001b[49m\u001b[38;5;241;43m.\u001b[39;49m\u001b[43mmath_expression_classification_assistant\u001b[49m\u001b[43m(\u001b[49m\u001b[43m)\u001b[49m\n\u001b[1;32m      5\u001b[0m \u001b[38;5;28minput\u001b[39m \u001b[38;5;241m=\u001b[39m MECAssistantInput(latex\u001b[38;5;241m=\u001b[39m\u001b[38;5;124m'\u001b[39m\u001b[38;5;124ma + 2\u001b[39m\u001b[38;5;124m'\u001b[39m)\n\u001b[1;32m      7\u001b[0m x \u001b[38;5;241m=\u001b[39m \u001b[38;5;28;01mawait\u001b[39;00m math_expression_classification_assistant\u001b[38;5;241m.\u001b[39massist(\u001b[38;5;28minput\u001b[39m)\n",
      "File \u001b[0;32msrc/dependency_injector/providers.pyx:266\u001b[0m, in \u001b[0;36mdependency_injector.providers.Provider.__call__\u001b[0;34m()\u001b[0m\n",
      "File \u001b[0;32msrc/dependency_injector/providers.pyx:2697\u001b[0m, in \u001b[0;36mdependency_injector.providers.Factory._provide\u001b[0;34m()\u001b[0m\n",
      "File \u001b[0;32msrc/dependency_injector/providers.pxd:650\u001b[0m, in \u001b[0;36mdependency_injector.providers.__factory_call\u001b[0;34m()\u001b[0m\n",
      "File \u001b[0;32msrc/dependency_injector/providers.pxd:608\u001b[0m, in \u001b[0;36mdependency_injector.providers.__call\u001b[0;34m()\u001b[0m\n",
      "\u001b[0;31mTypeError\u001b[0m: Can't instantiate abstract class MECAssistant without an implementation for abstract method 'assist'"
     ]
    }
   ],
   "source": [
    "from math_rag.application.assistants import MathExpressionLabelerAssistant\n",
    "from math_rag.application.models.assistants import MathExpressionLabelerAssistantInput\n",
    "\n",
    "\n",
    "math_expression_classification_assistant = (\n",
    "    infrastructure_container.math_expression_label_assistant()\n",
    ")\n",
    "input = MathExpressionLabelerAssistantInput(latex='a + 2')\n",
    "\n",
    "x = await math_expression_classification_assistant.assist(input)"
   ]
  }
 ],
 "metadata": {
  "kernelspec": {
   "display_name": ".venv",
   "language": "python",
   "name": "python3"
  },
  "language_info": {
   "codemirror_mode": {
    "name": "ipython",
    "version": 3
   },
   "file_extension": ".py",
   "mimetype": "text/x-python",
   "name": "python",
   "nbconvert_exporter": "python",
   "pygments_lexer": "ipython3",
   "version": "3.12.7"
  }
 },
 "nbformat": 4,
 "nbformat_minor": 2
}
