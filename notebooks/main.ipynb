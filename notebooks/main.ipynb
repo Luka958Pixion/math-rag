{
 "cells": [
  {
   "cell_type": "code",
   "execution_count": 1,
   "metadata": {},
   "outputs": [],
   "source": [
    "%load_ext autoreload\n",
    "%autoreload 2\n",
    "\n",
    "import os\n",
    "import sys\n",
    "\n",
    "import nest_asyncio\n",
    "\n",
    "\n",
    "sys.path.insert(0, os.path.abspath('..'))\n",
    "nest_asyncio.apply()"
   ]
  },
  {
   "cell_type": "code",
   "execution_count": null,
   "metadata": {},
   "outputs": [],
   "source": [
    "from decouple import config\n",
    "\n",
    "from math_rag.repositories.embeddings import EmbeddingRepository\n",
    "from math_rag.repositories.files import FileRepository\n",
    "\n",
    "\n",
    "MINIO_ENDPOINT = config('MINIO_ENDPOINT')\n",
    "MINIO_ACCESS_KEY = config('MINIO_ACCESS_KEY')\n",
    "MINIO_SECRET_KEY = config('MINIO_SECRET_KEY')\n",
    "\n",
    "QDRANT_URL = config('QDRANT_URL')"
   ]
  },
  {
   "cell_type": "code",
   "execution_count": null,
   "metadata": {},
   "outputs": [],
   "source": [
    "minio_repo = FileRepository(MINIO_ENDPOINT, MINIO_ACCESS_KEY, MINIO_SECRET_KEY)\n",
    "qdrant_repo = EmbeddingRepository(QDRANT_URL)"
   ]
  }
 ],
 "metadata": {
  "kernelspec": {
   "display_name": "math-rag-jXkTH_HH-py3.12",
   "language": "python",
   "name": "python3"
  },
  "language_info": {
   "codemirror_mode": {
    "name": "ipython",
    "version": 3
   },
   "file_extension": ".py",
   "mimetype": "text/x-python",
   "name": "python",
   "nbconvert_exporter": "python",
   "pygments_lexer": "ipython3",
   "version": "3.12.7"
  }
 },
 "nbformat": 4,
 "nbformat_minor": 2
}
