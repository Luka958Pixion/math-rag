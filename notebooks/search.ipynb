{
 "cells": [
  {
   "cell_type": "code",
   "execution_count": 1,
   "id": "16dff394",
   "metadata": {},
   "outputs": [],
   "source": [
    "from typing import TYPE_CHECKING\n",
    "\n",
    "\n",
    "if TYPE_CHECKING:\n",
    "    from math_rag.application.containers import ApplicationContainer\n",
    "    from math_rag.infrastructure.containers import InfrastructureContainer\n",
    "\n",
    "    application_container: ApplicationContainer\n",
    "    infrastructure_container: InfrastructureContainer"
   ]
  },
  {
   "cell_type": "code",
   "execution_count": 2,
   "id": "08a40099",
   "metadata": {},
   "outputs": [
    {
     "name": "stderr",
     "output_type": "stream",
     "text": [
      "2025-07-14 04:30:09,539 - INFO - datasets - config.py:54 - PyTorch version 2.6.0 available.\n"
     ]
    }
   ],
   "source": [
    "RESET = False\n",
    "%load_ext hooks.notebook_hook"
   ]
  },
  {
   "cell_type": "code",
   "execution_count": 3,
   "id": "3adf48fa",
   "metadata": {},
   "outputs": [],
   "source": [
    "from logging import getLogger\n",
    "from pathlib import Path\n",
    "\n",
    "import aiofiles\n",
    "import magic\n",
    "\n",
    "from dependency_injector.wiring import Provide, inject\n",
    "from fastapi import APIRouter, Depends, File, HTTPException, UploadFile\n",
    "\n",
    "from math_rag.application.base.clients import BaseLatexConverterClient\n",
    "from math_rag.application.base.repositories.documents import BaseMathProblemRepository\n",
    "from math_rag.application.containers import ApplicationContainer\n",
    "from math_rag.core.models import MathProblem"
   ]
  },
  {
   "cell_type": "code",
   "execution_count": 10,
   "id": "69e2c14e",
   "metadata": {},
   "outputs": [],
   "source": [
    "CONTENT_TYPES = ['image/png', 'application/pdf']\n",
    "UPLOADS_DIR_PATH = Path('../.tmp/uploads')\n",
    "CHUNK_SIZE = 1024 * 1024"
   ]
  },
  {
   "cell_type": "code",
   "execution_count": 5,
   "id": "819c2709",
   "metadata": {},
   "outputs": [],
   "source": [
    "import io\n",
    "\n",
    "from pathlib import Path\n",
    "\n",
    "from starlette.datastructures import UploadFile\n",
    "\n",
    "\n",
    "class TestUploadFile(UploadFile):\n",
    "    def __init__(\n",
    "        self,\n",
    "        file: io.BufferedReader,\n",
    "        *,\n",
    "        filename: str | None = None,\n",
    "        size: int | None = None,\n",
    "        headers: dict[str, str] | None = None,\n",
    "        content_type: str | None = None,\n",
    "    ):\n",
    "        headers = headers or {}\n",
    "        if content_type:\n",
    "            headers = {**headers, 'content-type': content_type}\n",
    "        super().__init__(file=file, filename=filename, size=size, headers=headers)\n",
    "        self._content_type = content_type\n",
    "\n",
    "    @property\n",
    "    def content_type(self) -> str:\n",
    "        return self._content_type or super().content_type"
   ]
  },
  {
   "cell_type": "code",
   "execution_count": 27,
   "id": "9e633c9e",
   "metadata": {},
   "outputs": [],
   "source": [
    "# pdf_path = Path('../.tmp') / '07short.pdf'\n",
    "pdf_path = Path('../.tmp') / 'image.png'\n",
    "\n",
    "file = TestUploadFile(file=pdf_path.open('rb'), filename=pdf_path.name, content_type='image/png')"
   ]
  },
  {
   "cell_type": "code",
   "execution_count": 28,
   "id": "b99832cc",
   "metadata": {},
   "outputs": [],
   "source": [
    "mathpix_client = application_container.latex_converter_client()\n",
    "respository = infrastructure_container.math_problem_repository()"
   ]
  },
  {
   "cell_type": "code",
   "execution_count": 29,
   "id": "88a0be29",
   "metadata": {},
   "outputs": [],
   "source": [
    "async def validate_file(file: UploadFile):\n",
    "    # read header\n",
    "    if file.content_type not in CONTENT_TYPES:\n",
    "        raise HTTPException(status_code=400, detail=f'Invalid file type: {file.content_type}')\n",
    "\n",
    "    # read body (double check)\n",
    "    header = await file.read(1024)\n",
    "    await file.seek(0)\n",
    "    file_content_type = magic.from_buffer(header, mime=True)\n",
    "\n",
    "    if file_content_type not in CONTENT_TYPES:\n",
    "        raise HTTPException(status_code=400, detail=f'Invalid file type: {file_content_type}')\n",
    "\n",
    "\n",
    "async def write_file(file: UploadFile, dir: Path) -> Path:\n",
    "    await file.seek(0)\n",
    "    path = dir / file.filename\n",
    "\n",
    "    async with aiofiles.open(path, 'wb') as out_file:\n",
    "        while True:\n",
    "            chunk = await file.read(CHUNK_SIZE)\n",
    "\n",
    "            if not chunk:\n",
    "                break\n",
    "\n",
    "            await out_file.write(chunk)\n",
    "\n",
    "    await file.close()\n",
    "\n",
    "    return path"
   ]
  },
  {
   "cell_type": "code",
   "execution_count": 30,
   "id": "c6488026",
   "metadata": {},
   "outputs": [],
   "source": [
    "await validate_file(file)\n",
    "path = await write_file(file, UPLOADS_DIR_PATH)"
   ]
  },
  {
   "cell_type": "code",
   "execution_count": 31,
   "id": "6f0f91e0",
   "metadata": {},
   "outputs": [
    {
     "name": "stderr",
     "output_type": "stream",
     "text": [
      "2025-07-14 05:26:32,308 - mathpix - INFO - Creating new Image: path=../.tmp/uploads/image.png\n",
      "2025-07-14 05:26:32,308 - INFO - mathpix - mathpix_client.py:61 - Creating new Image: path=../.tmp/uploads/image.png\n",
      "2025-07-14 05:26:32,310 - mathpix - INFO - Processing image: path=../.tmp/uploads/image.png, url=, include_line_data=False\n",
      "2025-07-14 05:26:32,310 - INFO - mathpix - image.py:65 - Processing image: path=../.tmp/uploads/image.png, url=, include_line_data=False\n",
      "2025-07-14 05:26:34,126 - mathpix - INFO - OCR processing successful\n",
      "2025-07-14 05:26:34,126 - INFO - mathpix - image.py:83 - OCR processing successful\n"
     ]
    }
   ],
   "source": [
    "if path.suffix == '.pdf':\n",
    "    tex_zip_bytes = mathpix_client.convert_pdf(file_path=path, url=None)\n",
    "\n",
    "else:\n",
    "    text = mathpix_client.convert_image(file_path=path, url=None)\n",
    "\n",
    "# math_problem = MathProblem(\n",
    "#     latex=...,\n",
    "#     katex=...,\n",
    "#     is_inline=...,\n",
    "# )\n",
    "# await repository.insert_one(math_problem)\n",
    "\n",
    "# TODO mock UploadFile in notebook and test there!"
   ]
  },
  {
   "cell_type": "code",
   "execution_count": 35,
   "id": "3574f771",
   "metadata": {},
   "outputs": [
    {
     "data": {
      "text/plain": [
       "247"
      ]
     },
     "execution_count": 35,
     "metadata": {},
     "output_type": "execute_result"
    }
   ],
   "source": [
    "from pathlib import Path\n",
    "\n",
    "\n",
    "tex_bytes = text.encode('utf-8')\n",
    "\n",
    "tex_path = Path('output.tex')\n",
    "tex_path.write_bytes(tex_bytes)  # file now exists with the .tex content"
   ]
  },
  {
   "cell_type": "code",
   "execution_count": 34,
   "id": "309f4920",
   "metadata": {},
   "outputs": [
    {
     "data": {
      "text/plain": [
       "'image'"
      ]
     },
     "execution_count": 34,
     "metadata": {},
     "output_type": "execute_result"
    }
   ],
   "source": [
    "path.stem"
   ]
  },
  {
   "cell_type": "code",
   "execution_count": 22,
   "id": "c2502922",
   "metadata": {},
   "outputs": [
    {
     "data": {
      "text/plain": [
       "PosixPath('../.tmp/uploads/07short')"
      ]
     },
     "execution_count": 22,
     "metadata": {},
     "output_type": "execute_result"
    }
   ],
   "source": [
    "import io\n",
    "import zipfile\n",
    "\n",
    "from pathlib import Path\n",
    "\n",
    "\n",
    "def extract_tex_zip(tex_zip_bytes: bytes, file_path: Path) -> Path:\n",
    "    dest_dir = file_path.parent / file_path.stem\n",
    "    dest_dir.mkdir(parents=True, exist_ok=True)\n",
    "    with zipfile.ZipFile(io.BytesIO(tex_zip_bytes)) as zf:\n",
    "        zf.extractall(dest_dir)\n",
    "    return dest_dir\n",
    "\n",
    "\n",
    "extract_dir = extract_tex_zip(tex_zip_bytes, path)\n",
    "extract_dir"
   ]
  },
  {
   "cell_type": "code",
   "execution_count": 24,
   "id": "9430670f",
   "metadata": {},
   "outputs": [],
   "source": [
    "def get_tex_file_data(dir_path: Path) -> tuple[str, bytes]:\n",
    "    nested_dir = next(p for p in dir_path.iterdir() if p.is_dir())\n",
    "    tex_file = next(p for p in nested_dir.iterdir() if p.suffix == '.tex')\n",
    "    return tex_file.name, tex_file.read_bytes()\n",
    "\n",
    "\n",
    "file_name, file_bytes = get_tex_file_data(extract_dir)"
   ]
  },
  {
   "cell_type": "code",
   "execution_count": null,
   "id": "86e16e3a",
   "metadata": {},
   "outputs": [],
   "source": [
    "from math_rag.core.models import MathArticle\n",
    "\n",
    "\n",
    "math_article = MathArticle(\n",
    "    math_expression_dataset_id=None,\n",
    "    math_expression_index_id=None,  # TODO\n",
    "    name=file_name,\n",
    "    bytes=file_bytes,\n",
    ")"
   ]
  }
 ],
 "metadata": {
  "kernelspec": {
   "display_name": ".venv",
   "language": "python",
   "name": "python3"
  },
  "language_info": {
   "codemirror_mode": {
    "name": "ipython",
    "version": 3
   },
   "file_extension": ".py",
   "mimetype": "text/x-python",
   "name": "python",
   "nbconvert_exporter": "python",
   "pygments_lexer": "ipython3",
   "version": "3.12.7"
  }
 },
 "nbformat": 4,
 "nbformat_minor": 5
}
