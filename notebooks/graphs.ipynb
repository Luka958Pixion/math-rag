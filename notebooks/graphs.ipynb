{
 "cells": [
  {
   "cell_type": "code",
   "execution_count": 1,
   "id": "f32ba622",
   "metadata": {},
   "outputs": [],
   "source": [
    "from typing import TYPE_CHECKING\n",
    "\n",
    "\n",
    "if TYPE_CHECKING:\n",
    "    from math_rag.application.containers import ApplicationContainer\n",
    "    from math_rag.infrastructure.containers import InfrastructureContainer\n",
    "\n",
    "    application_container: ApplicationContainer\n",
    "    infrastructure_container: InfrastructureContainer"
   ]
  },
  {
   "cell_type": "code",
   "execution_count": 2,
   "id": "0c020d58",
   "metadata": {},
   "outputs": [
    {
     "name": "stderr",
     "output_type": "stream",
     "text": [
      "2025-06-28 14:48:40,379 - INFO - datasets - config.py:54 - PyTorch version 2.6.0 available.\n"
     ]
    }
   ],
   "source": [
    "RESET = False\n",
    "%load_ext hooks.notebook_hook"
   ]
  },
  {
   "cell_type": "code",
   "execution_count": 3,
   "id": "eb39d1d0",
   "metadata": {},
   "outputs": [
    {
     "name": "stderr",
     "output_type": "stream",
     "text": [
      "2025-06-28 14:48:45,982 - INFO - googleapiclient.discovery_cache - __init__.py:49 - file_cache is only supported with oauth2client<4.0.0\n"
     ]
    }
   ],
   "source": [
    "from pathlib import Path\n",
    "\n",
    "\n",
    "google_drive_repository = infrastructure_container.google_drive_repository()\n",
    "math_article_parser_service = infrastructure_container.math_article_parser_service()\n",
    "\n",
    "file_id = google_drive_repository.get_file_id(\n",
    "    Path('ml/lectures/L07-LogisticRegression2/2024_08_10_2174b40686820b4cb591g.tex')\n",
    ")\n",
    "\n",
    "if not file_id:\n",
    "    raise ValueError()\n",
    "\n",
    "file_content = google_drive_repository.get_file_by_id(file_id)"
   ]
  },
  {
   "cell_type": "code",
   "execution_count": null,
   "id": "081db754",
   "metadata": {},
   "outputs": [],
   "source": [
    "from math_rag.core.models import Index\n",
    "\n",
    "\n",
    "index = Index()"
   ]
  },
  {
   "cell_type": "code",
   "execution_count": null,
   "id": "92db620c",
   "metadata": {},
   "outputs": [],
   "source": [
    "katex_corrector_assistant = application_container.katex_corrector_assistant()\n",
    "katex_corrector_retrier_assistant = application_container.katex_corrector_retrier_assistant()\n",
    "math_expression_description_writer_assistant = (\n",
    "    application_container.math_expression_description_writer_assistant()\n",
    ")\n",
    "math_expression_description_optimizer_assistant = (\n",
    "    application_container.math_expression_description_optimizer_assistant()\n",
    ")\n",
    "math_expression_comparator_assistant = application_container.math_expression_comparator_assistant()\n",
    "math_expression_relationship_description_writer_assistant = (\n",
    "    application_container.math_expression_relationship_description_writer_assistant()\n",
    ")"
   ]
  },
  {
   "cell_type": "code",
   "execution_count": null,
   "id": "5aad9ce7",
   "metadata": {},
   "outputs": [],
   "source": [
    "from math_rag.core.models import MathArticle, MathExpression\n",
    "\n",
    "\n",
    "math_article = MathArticle(\n",
    "    math_expression_dataset_id=None,\n",
    "    index_id=None,\n",
    "    name='article',\n",
    "    bytes=file_content.getvalue(),\n",
    ")\n",
    "math_nodes, _, template = math_article_parser_service.parse_for_index(math_article)"
   ]
  },
  {
   "cell_type": "code",
   "execution_count": null,
   "id": "3c74253b",
   "metadata": {},
   "outputs": [],
   "source": [
    "from math_rag.application.models.assistants.inputs import KatexCorrector as AssistantInput\n",
    "from math_rag.application.models.assistants.inputs import (\n",
    "    KatexCorrectorRetrier as RetrierAssistantInput,\n",
    ")\n",
    "from math_rag.application.models.assistants.outputs import KatexCorrector as AssistantOutput\n",
    "\n",
    "\n",
    "katex_client = application_container.katex_client()\n",
    "\n",
    "\n",
    "katexes = [math_node.latex.strip('$') for math_node in math_nodes]"
   ]
  },
  {
   "cell_type": "code",
   "execution_count": null,
   "id": "2bc15cfb",
   "metadata": {},
   "outputs": [],
   "source": [
    "max_num_retries = ...\n",
    "katexes: list[str] = ...\n",
    "\n",
    "\n",
    "# initialize tasks, one per input, preserving original order via index\n",
    "tasks = [KatexCorrectorTask(index=i, current_katex=katex) for i, katex in enumerate(katexes)]\n",
    "\n",
    "# phase 1: initial validation and katex corrector\n",
    "to_validate = [task.current_katex for task in tasks]\n",
    "initial_results = await katex_client.batch_validate_many(to_validate, batch_size=50)\n",
    "\n",
    "# collect tasks that need correction\n",
    "input_id_to_task: dict[UUID, KatexCorrectorTask] = {}\n",
    "input_id_to_input: dict[UUID, AssistantInput] = {}\n",
    "initial_inputs: list[AssistantInput] = []\n",
    "invalid_tasks: list[KatexCorrectorTask] = []\n",
    "\n",
    "for task, result in zip(tasks, initial_results):\n",
    "    if not result.valid:\n",
    "        if result.error is None:\n",
    "            raise ValueError()\n",
    "\n",
    "        task.error = result.error\n",
    "        ci = AssistantInput(katex=task.current_katex, error=task.error)\n",
    "        initial_inputs.append(ci)\n",
    "        input_id_to_task[ci.id] = task\n",
    "        input_id_to_input[ci.id] = ci\n",
    "        invalid_tasks.append(task)\n",
    "\n",
    "    else:\n",
    "        task.num_retries = 0\n",
    "\n",
    "# run the corrector exactly once on all initially invalid katexes\n",
    "if initial_inputs:\n",
    "    outputs = await katex_corrector_assistant.concurrent_assist(initial_inputs)\n",
    "\n",
    "    for output in outputs:\n",
    "        task = input_id_to_task[output.input_id]\n",
    "        input = input_id_to_input[output.input_id]\n",
    "        task.history.append((input, output))\n",
    "        task.current_katex = output.katex\n",
    "        task.num_retries = 1\n",
    "\n",
    "# phase 2: retry loop with validation and katex retrier corrector\n",
    "while invalid_tasks:\n",
    "    # re-validate what's still invalid\n",
    "    to_validate = [task.current_katex for task in invalid_tasks]\n",
    "    results = await katex_client.batch_validate_many(to_validate, batch_size=50)\n",
    "\n",
    "    next_invalid_tasks: list[KatexCorrectorTask] = []\n",
    "    retrier_inputs: list[RetrierAssistantInput] = []\n",
    "    retrier_input_id_to_task: dict[UUID, KatexCorrectorTask] = {}\n",
    "    retrier_input_id_to_input: dict[UUID, RetrierAssistantInput] = {}\n",
    "\n",
    "    # build retrier inputs for those still failing\n",
    "    for task, result in zip(invalid_tasks, results):\n",
    "        if result.valid:\n",
    "            continue\n",
    "\n",
    "        if result.error is None:\n",
    "            raise ValueError()\n",
    "\n",
    "        task.error = result.error\n",
    "\n",
    "        # assemble every previous (input, output) plus the new one with None output\n",
    "        history_pairs = [(ci, co) for (ci, co) in task.history]\n",
    "        ci = AssistantInput(katex=task.current_katex, error=task.error)\n",
    "        history_pairs.append((ci, None))\n",
    "        ri = RetrierAssistantInput(pairs=history_pairs)\n",
    "        retrier_inputs.append(ri)\n",
    "        retrier_input_id_to_task[ri.id] = task\n",
    "        retrier_input_id_to_input[ri.id] = ri\n",
    "\n",
    "        # mark for next round if retries remain\n",
    "        next_invalid_tasks.append(task)\n",
    "\n",
    "    if not retrier_inputs:\n",
    "        break\n",
    "\n",
    "    # call retrier in one batch\n",
    "    retrier_outputs = await katex_corrector_retrier_assistant.concurrent_assist(retrier_inputs)\n",
    "\n",
    "    # apply retrier outputs, bump retries, check max_num_retries\n",
    "    invalid_tasks: list[KatexCorrectorTask] = []\n",
    "\n",
    "    for output in retrier_outputs:\n",
    "        task = retrier_input_id_to_task[output.input_id]\n",
    "        input = retrier_input_id_to_input[output.input_id]\n",
    "        task.history.append((input, output))\n",
    "        task.current_katex = output.katex\n",
    "        task.num_retries += 1\n",
    "\n",
    "        if task.num_retries > max_num_retries:\n",
    "            raise RuntimeError(f'Max retries reached for KaTeX at index {task.index}')\n",
    "\n",
    "        invalid_tasks.append(task)\n",
    "\n",
    "# return corrected katexes in the original order\n",
    "tasks.sort(key=lambda task: task.index)\n",
    "\n",
    "# NOTE: result\n",
    "[task.current_katex for task in tasks]"
   ]
  },
  {
   "cell_type": "code",
   "execution_count": null,
   "id": "7276871a",
   "metadata": {},
   "outputs": [],
   "source": [
    "math_expressions = [\n",
    "    MathExpression(\n",
    "        math_article_id=math_article.id,\n",
    "        math_expression_dataset_id=None,\n",
    "        index_id=index.id,\n",
    "        latex=node.latex,\n",
    "        katex=katex,\n",
    "        position=node.position,\n",
    "        is_inline=node.is_inline,\n",
    "    )\n",
    "    for node, katex in zip(math_nodes, final_katexes)\n",
    "]\n",
    "index_to_katex = {i: math_expression.katex for i, math_expression in enumerate(math_expressions)}"
   ]
  },
  {
   "cell_type": "code",
   "execution_count": null,
   "id": "53e5d8c5",
   "metadata": {},
   "outputs": [],
   "source": [
    "from math_rag.infrastructure.utils import TemplateContextChunkerUtil, TemplateFormatterUtil\n",
    "\n",
    "\n",
    "template_chunks = TemplateContextChunkerUtil.chunk(template, max_context_size=1000)\n",
    "chunks = [\n",
    "    TemplateFormatterUtil.format(chunk, index_to_katex, omit_wrapper=False)\n",
    "    for chunk in template_chunks\n",
    "]"
   ]
  },
  {
   "cell_type": "code",
   "execution_count": null,
   "id": "1efdcac8",
   "metadata": {},
   "outputs": [],
   "source": [
    "from math_rag.application.models.assistants.inputs import (\n",
    "    MathExpressionDescriptionWriter as AssistantInput,\n",
    ")\n",
    "\n",
    "\n",
    "input = AssistantInput(katex=..., context=...)\n",
    "\n",
    "output = await math_expression_description_writer_assistant.assist(input)"
   ]
  }
 ],
 "metadata": {
  "kernelspec": {
   "display_name": ".venv",
   "language": "python",
   "name": "python3"
  },
  "language_info": {
   "codemirror_mode": {
    "name": "ipython",
    "version": 3
   },
   "file_extension": ".py",
   "mimetype": "text/x-python",
   "name": "python",
   "nbconvert_exporter": "python",
   "pygments_lexer": "ipython3",
   "version": "3.12.7"
  }
 },
 "nbformat": 4,
 "nbformat_minor": 5
}
