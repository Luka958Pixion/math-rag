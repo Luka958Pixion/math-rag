{
 "cells": [
  {
   "cell_type": "code",
   "execution_count": 1,
   "id": "f32ba622",
   "metadata": {},
   "outputs": [],
   "source": [
    "from typing import TYPE_CHECKING\n",
    "\n",
    "\n",
    "if TYPE_CHECKING:\n",
    "    from math_rag.application.containers import ApplicationContainer\n",
    "    from math_rag.infrastructure.containers import InfrastructureContainer\n",
    "\n",
    "    application_container: ApplicationContainer\n",
    "    infrastructure_container: InfrastructureContainer"
   ]
  },
  {
   "cell_type": "code",
   "execution_count": 2,
   "id": "0c020d58",
   "metadata": {},
   "outputs": [
    {
     "name": "stderr",
     "output_type": "stream",
     "text": [
      "2025-07-15 07:35:46,792 - INFO - datasets - config.py:54 - PyTorch version 2.6.0 available.\n"
     ]
    }
   ],
   "source": [
    "RESET = False\n",
    "%load_ext hooks.notebook_hook"
   ]
  },
  {
   "cell_type": "markdown",
   "id": "e81ce367",
   "metadata": {},
   "source": [
    "### Cleanup"
   ]
  },
  {
   "cell_type": "code",
   "execution_count": 3,
   "id": "e404d1f9",
   "metadata": {},
   "outputs": [],
   "source": [
    "math_expression_description_opt_embedding_repository = (\n",
    "    infrastructure_container.math_expression_description_opt_embedding_repository()\n",
    ")\n",
    "math_expression_description_opt_repository = (\n",
    "    infrastructure_container.math_expression_description_opt_repository()\n",
    ")\n",
    "math_expression_description_repository = (\n",
    "    infrastructure_container.math_expression_description_repository()\n",
    ")\n",
    "math_expression_group_repository = infrastructure_container.math_expression_group_repository()\n",
    "math_expression_group_graph_repository = (\n",
    "    await infrastructure_container.math_expression_group_graph_repository()\n",
    ")\n",
    "math_expression_graph_repository = await infrastructure_container.math_expression_graph_repository()\n",
    "math_expression_repository = infrastructure_container.math_expression_repository()\n",
    "\n",
    "math_expression_relationship_repository = (\n",
    "    infrastructure_container.math_expression_relationship_repository()\n",
    ")\n",
    "math_expression_relationship_description_repository = (\n",
    "    infrastructure_container.math_expression_relationship_description_repository()\n",
    ")\n",
    "math_expression_context_repository = infrastructure_container.math_expression_context_repository()\n",
    "math_article_chunk_repository = infrastructure_container.math_article_chunk_repository()\n",
    "math_expression_index_repository = infrastructure_container.math_expression_index_repository()\n",
    "task_repository = infrastructure_container.task_repository()"
   ]
  },
  {
   "cell_type": "code",
   "execution_count": 8,
   "id": "fd7d2efb",
   "metadata": {},
   "outputs": [
    {
     "name": "stderr",
     "output_type": "stream",
     "text": [
      "2025-07-15 08:00:46,309 - WARNING - neo4j.notifications - result.py:337 - Received notification from DBMS server: {severity: WARNING} {code: Neo.ClientNotification.Statement.FeatureDeprecationWarning} {category: DEPRECATION} {title: This feature is deprecated and will be removed in future versions.} {description: CALL subquery without a variable scope clause is now deprecated. Use CALL (a) { ... }} {position: line: 3, column: 13, offset: 35} for query: '\\n            MATCH (a)\\n            CALL { WITH a DETACH DELETE a }\\n            IN TRANSACTIONS OF 5000 rows\\n        '\n",
      "2025-07-15 08:00:46,320 - WARNING - neo4j.notifications - result.py:337 - Received notification from DBMS server: {severity: WARNING} {code: Neo.ClientNotification.Statement.FeatureDeprecationWarning} {category: DEPRECATION} {title: This feature is deprecated and will be removed in future versions.} {description: CALL subquery without a variable scope clause is now deprecated. Use CALL (a) { ... }} {position: line: 3, column: 13, offset: 35} for query: '\\n            MATCH (a)\\n            CALL { WITH a DETACH DELETE a }\\n            IN TRANSACTIONS OF 5000 rows\\n        '\n"
     ]
    }
   ],
   "source": [
    "from uuid import UUID\n",
    "\n",
    "\n",
    "# index_id_to_remove = UUID('TODO')\n",
    "index_id_to_remove = UUID('6fcd9f59-e5c7-4fd6-a3d6-6355b044756a')\n",
    "common_filter = {'math_expression_index_id': index_id_to_remove}\n",
    "\n",
    "await math_expression_index_repository.delete_one(filter={'id': index_id_to_remove})\n",
    "\n",
    "await math_expression_repository.delete_many(filter=common_filter.copy())\n",
    "await math_expression_context_repository.delete_many(filter=common_filter.copy())\n",
    "await math_expression_description_repository.delete_many(filter=common_filter.copy())\n",
    "await math_expression_description_opt_repository.delete_many(filter=common_filter.copy())\n",
    "await math_expression_group_repository.delete_many(filter=common_filter.copy())\n",
    "await math_article_chunk_repository.delete_many(filter=common_filter.copy())\n",
    "await math_expression_relationship_repository.delete_many(filter=common_filter.copy())\n",
    "await math_expression_relationship_description_repository.delete_many(filter=common_filter.copy())\n",
    "\n",
    "await math_expression_description_opt_embedding_repository.clear()\n",
    "await math_expression_graph_repository.clear()\n",
    "await math_expression_group_graph_repository.clear()"
   ]
  },
  {
   "cell_type": "code",
   "execution_count": 7,
   "id": "aa7ec890",
   "metadata": {},
   "outputs": [
    {
     "data": {
      "text/plain": [
       "1"
      ]
     },
     "execution_count": 7,
     "metadata": {},
     "output_type": "execute_result"
    }
   ],
   "source": [
    "await task_repository.delete_one(filter={'id': UUID('8a69638a-f35f-4556-ab48-00ae49ac1502')})"
   ]
  },
  {
   "cell_type": "markdown",
   "id": "7903476f",
   "metadata": {},
   "source": [
    "### Playground"
   ]
  },
  {
   "cell_type": "code",
   "execution_count": null,
   "id": "eb39d1d0",
   "metadata": {},
   "outputs": [
    {
     "name": "stderr",
     "output_type": "stream",
     "text": [
      "2025-07-13 16:44:33,634 - INFO - googleapiclient.discovery_cache - __init__.py:49 - file_cache is only supported with oauth2client<4.0.0\n"
     ]
    }
   ],
   "source": [
    "from pathlib import Path\n",
    "\n",
    "from math_rag.core.models import MathArticle\n",
    "\n",
    "\n",
    "google_drive_repository = infrastructure_container.google_drive_repository()\n",
    "math_article_parser_service = infrastructure_container.math_article_parser_service()\n",
    "\n",
    "file_id = google_drive_repository.get_file_id(\n",
    "    Path('ml/lectures/L07-LogisticRegression2/2024_08_10_2174b40686820b4cb591g.tex')\n",
    ")\n",
    "\n",
    "if not file_id:\n",
    "    raise ValueError()\n",
    "\n",
    "file_content = google_drive_repository.get_file_by_id(file_id)\n",
    "\n",
    "math_article = MathArticle(\n",
    "    math_expression_dataset_id=None,\n",
    "    math_expression_index_id=None,\n",
    "    name='article',\n",
    "    bytes=file_content.getvalue(),\n",
    ")"
   ]
  },
  {
   "cell_type": "code",
   "execution_count": null,
   "id": "05fe6607",
   "metadata": {},
   "outputs": [],
   "source": [
    "grouper_service = application_container.grouper_service()\n",
    "embedding_repository = (\n",
    "    infrastructure_container.math_expression_description_opt_embedding_repository()\n",
    ")"
   ]
  },
  {
   "cell_type": "code",
   "execution_count": null,
   "id": "80ad33f6",
   "metadata": {},
   "outputs": [],
   "source": [
    "from qdrant_client.http.models import Record\n",
    "\n",
    "\n",
    "grouped_descriptions = await embedding_repository.group(grouper_service.group)\n",
    "grouped_records: list[list[Record]] = []\n",
    "\n",
    "for descriptions in grouped_descriptions:\n",
    "    ids = [x.id for x in descriptions]\n",
    "    records = await embedding_repository.client.retrieve(\n",
    "        collection_name=embedding_repository.collection_name,\n",
    "        ids=[str(id) for id in ids],\n",
    "        with_payload=True,\n",
    "        with_vectors=True,\n",
    "    )\n",
    "\n",
    "    for record in records:\n",
    "        # remove some data for a clener diagram\n",
    "        record.payload['text'] = record.payload['text'][:50]\n",
    "        record.payload.pop('math_expression_description_id')\n",
    "        record.payload.pop('math_expression_index_id')\n",
    "        record.payload.pop('timestamp')\n",
    "\n",
    "    grouped_records.append(records)"
   ]
  },
  {
   "cell_type": "code",
   "execution_count": 19,
   "id": "56eb769f",
   "metadata": {},
   "outputs": [],
   "source": [
    "import os\n",
    "\n",
    "import pandas as pd\n",
    "import plotly.express as px\n",
    "\n",
    "from sklearn.datasets import make_blobs\n",
    "\n",
    "\n",
    "os.environ['NUMBA_CPU_FEATURES'] = str()  # avoid kernel crash on arm\n",
    "import umap"
   ]
  },
  {
   "cell_type": "markdown",
   "id": "8c8b2d88",
   "metadata": {},
   "source": [
    "#### Example data"
   ]
  },
  {
   "cell_type": "code",
   "execution_count": 20,
   "id": "7a4ac99e",
   "metadata": {},
   "outputs": [],
   "source": [
    "# synthetic data\n",
    "X, y = make_blobs(\n",
    "    n_samples=500,\n",
    "    centers=5,\n",
    "    n_features=10,\n",
    "    cluster_std=1.0,\n",
    "    random_state=42,\n",
    ")\n",
    "\n",
    "reducer = umap.UMAP(\n",
    "    n_components=2,\n",
    "    metric='euclidean',\n",
    "    random_state=None,\n",
    ")\n",
    "X_umap = reducer.fit_transform(X)"
   ]
  },
  {
   "cell_type": "code",
   "execution_count": 21,
   "id": "ba0cfb36",
   "metadata": {},
   "outputs": [
    {
     "data": {
      "application/vnd.plotly.v1+json": {
       "config": {
        "plotlyServerURL": "https://plot.ly"
       },
       "data": [
        {
         "customdata": {
          "bdata": "BAQDAQIBAAQAAwQDBAACAQQDAwAEAgMBAAACAAQDAgEEBAICAAAABAEAAwIEBAMEAgACBAMBAQEBAgQBAAABAQAEAQIBAwMDAQQCAwMDBAMBAgQCAAICAwABBAQEAgABAAQDBAQCAwACAQMAAAQEBAIEAAQDAgIEBAQCAgIEAAIAAgMBAQMDAQMABAECAAECAAICAgIDAgQEAwADAAEDAAQCAQQCBAABAAEEAgMEAAQCAQADBAAAAAQEAgMBAQMDAAMDAAMAAQADBAQCAgADBAMEAQQCBAIEAAACAgQABAMEAAECBAMCAwMAAAQDAQEBAAIEAgEEBAMABAICAAICBAMDAgEEAQQAAAMBAQMEAQQCAQMBAwMBBAAAAAIDAgEEAQAABAEAAQMAAAADAwEDAAIDAwECBAAAAAICAAACAgEAAwAEAwIBAAEDAwECAwIBAQQBAgIDAAMEAAMCAAIEAgQCAQEDAwIBAQIBAwMCAQADAwMCAQMBAAMCAQEBAQMEAAQBAwIAAAQCAQEDAwEBAgADAQIDAAECAAIBAwECAQQAAAQBAQMEBAIDBAQEBAECAwIBAgIBAQQCAQACBAEDAAMBBAQAAAQDBAIEAAABAwEAAQQDAAIBAAABAgEAAwMDBAECAQQCAwICAwIAAAQDAwAEAQA=",
          "dtype": "i1",
          "shape": "500, 1"
         },
         "hovertemplate": "UMAP1=%{x}<br>UMAP2=%{y}<br>cluster=%{marker.color}<extra></extra>",
         "legendgroup": "",
         "marker": {
          "color": {
           "bdata": "BAQDAQIBAAQAAwQDBAACAQQDAwAEAgMBAAACAAQDAgEEBAICAAAABAEAAwIEBAMEAgACBAMBAQEBAgQBAAABAQAEAQIBAwMDAQQCAwMDBAMBAgQCAAICAwABBAQEAgABAAQDBAQCAwACAQMAAAQEBAIEAAQDAgIEBAQCAgIEAAIAAgMBAQMDAQMABAECAAECAAICAgIDAgQEAwADAAEDAAQCAQQCBAABAAEEAgMEAAQCAQADBAAAAAQEAgMBAQMDAAMDAAMAAQADBAQCAgADBAMEAQQCBAIEAAACAgQABAMEAAECBAMCAwMAAAQDAQEBAAIEAgEEBAMABAICAAICBAMDAgEEAQQAAAMBAQMEAQQCAQMBAwMBBAAAAAIDAgEEAQAABAEAAQMAAAADAwEDAAIDAwECBAAAAAICAAACAgEAAwAEAwIBAAEDAwECAwIBAQQBAgIDAAMEAAMCAAIEAgQCAQEDAwIBAQIBAwMCAQADAwMCAQMBAAMCAQEBAQMEAAQBAwIAAAQCAQEDAwEBAgADAQIDAAECAAIBAwECAQQAAAQBAQMEBAIDBAQEBAECAwIBAgIBAQQCAQACBAEDAAMBBAQAAAQDBAIEAAABAwEAAQQDAAIBAAABAgEAAwMDBAECAQQCAwICAwIAAAQDAwAEAQA=",
           "dtype": "i1"
          },
          "coloraxis": "coloraxis",
          "symbol": "circle"
         },
         "mode": "markers",
         "name": "",
         "orientation": "v",
         "showlegend": false,
         "type": "scatter",
         "x": {
          "bdata": "/GGSQXbzkUFBfCJBTb4gQcT6K8FGTSdB6H7gvz12lEGM2Pu/Y+spQbaykUHajRtBYC+aQVb/vr+3CS3B5PooQVrljUHSiSZBFoEUQYJklb9SO5BB9PEpwfsaHEFR1CJBWX/Wv1YB/r/uIyPBpRjxv26SlUHHhyJBnu8owdt9KUHRxJdBK+iRQfTfK8FufCzBx1acv5Uxxb9Sc/a/COeSQeX3KkEcBYW/KRMpQTWKGsE6TZhBdUKZQevJL0HYB5JBoxMgwZ8LDsCMyxjBBzOYQWlwLEF7/RVBtVUeQW4YJEHkpytBkp4cwYwBmkFIxhhBAl4IwFBb8L9z+B9B8zglQW1NuL98kZRBmm8bQfhrK8EzJCFBEX4rQajdKUHC0SRBGLQhQaPrmEHAKiTBp9ASQcAiLEFDmRxBNE6PQYUxFkGBGx9BFmAjwWujmEENuyzBB53Gv60hIcG/2CnBPvokQfIjt78bcxpB1r6OQcR+j0GKlJRBuJIWwd8Cqr8hIh9BTHqRvxqokUGaxiJBgqmXQTlUmkHy5yDBEzMaQRBgGcCBiRXBazcZQU3gHkFmgs6/SFIdwIHakEEwGpRBKCCTQYUsJ8Ho2ZVB/gvIv/Svl0EmdB9Bcf4pwbInH8H00JpBrKuYQSArlEEVNSfBcrQowZPOG8H6lJhB5hGRv3xyGcHW3xzA8NMgwXQAGkHIdihBoTIeQQODI0E1QSJBGKsiQSdXLEGm+su/B7mQQYZQG0HZmxrBUgLdv9vXJEH8yCjBW1bVvxEdKsHjvhnB+cYdweZKGcEupR1BzeopwZzbmEFWlY9BVSclQdtFgb9StRdBI70VwOUGIUFJZCxBE0CPv7GrkkF/7R7BH5wbQVIDjkFKJCDBp/OSQV2Cyb/+NyVB/lSFv+VHKkFb+ZhBmHcowZOuHkH6Jo9BYGILwBqckEECfSXBAHUhQcXkqb9krBdBXz2TQVu1fL+pCXi/dxCIv1K5lEHkt5JBPaopwTnaJ0GS8ytBi9YiQS26KEF/9ShBNBehv3RmJUGNzClB25Cmvzo9K0EjBri/L+MiQSnNu79tvixBXfuYQXWLkkHtgizBnzAbwdeRFMDgVC9BI2GVQeGBIkHrvo9B+a8eQXcXlkFnah/BDtGOQd91LsETqJdByQEawDn0BsAHdivBXhMYweavk0Fz38m/sdSPQdh2IEHKYZdBUKqWvypeGEHLAxrB7pWQQUjNFUEzJR/Ba0EYQVpzKEFME7W/fJZ3v6ZSk0EdjiBByXgqQav0K0HiLSVBuG2tv2pEKcHFSZdBCL4fwdesJ0F0BphBBpCVQWw6IUGy0R7ABpKSQdfaJsGGkxbBxgKYv7j6GcEZyirBdFuSQQtwLEE1tyNBt98cwfSeHEF4lJdBGacqQUaelUH2l7a/y5vXv68qKUFWBxlB8eYaQV48MEHXZpNBerUfQbIUlUHHNi3BqvQgQc89LEGrEytBaJwbQXATIkFbaipBhn6RQYr33L9HKda/kgQCwPTlLcFgGxVB94oYweZgKEGQHZNBP/wqQVy99r+H/K2/PlqUQYbmIUHZsuS/U/4XQTq2IUEWD7K/O7G4v1fY37+xdhpBUokwQSeiJ0FoAyFBqJvyv6+ULsHP0SNBu4wiQb3IK0H89irBucSXQWVV4L9b8QjAtLQVwEBhKMHGSCDBfpTSv+QSBcDNjyDBNBoowTVaKEGyc9i/N8ApQUJyj78vtpVBQBAUQcr6GcGx0CxBUJwPwGqhHUHuAyhBMWQbQcBoGEFpviTBWLwqQSKGJMHZ/hpBX+sZQUlUkkFm8BhBQaYYwaQMLMGQBBlBkUR9v9kKK0FzEZRBHS2Vv+f3I0GawRzB1N7Uv/YBK8FTM5lBulEfwT4AjkEIFyXBOJwjQQU/KUGjlh5BlyknQWmeK8EwaSVBZZEkQZgRGcEi1CdBX7YfQQrXE0HvyB3BR38bQayrtb+wNRpBSlkhQYXfIEEILh/B03cVQWfnJUEcQRxBduG7vyH4H0Ge1ybB+4scQff9JUF2GBdBLUsrQUG2JkGth5dB5egAwB0tk0Eb2CxBjuknQcxSKcELSey/wmkNwEGOjkEkxinBtSsZQQh/JkFRGiFB8k4hQQabKUGYShpBJsgdwdCIAsD9ridBdXopQfTuGcGkNiFBvoaPv1+mLEEucyHBAkYCwF7+H8Fh8BlBwdAmQTItH0F60BzBynAlQc/OkEHpn6q/Eiazv5NilkEa9CJBJT8bQUpyJkGLdpNB3iOQQTR1G8GeZxlBSuWTQeKclEFMsJZBt7yYQWODHkHylxrBKvMnQaDiHcF10idBqHUiwS2rGMGoiClBo+McQc+ik0EEVSfBN50pQbmZFsAs2R3BpJGaQXYiJUHlMyhBwMTfv5nQI0HabCRB1CSPQVVzjkFG3Mm/JkjQv/ImlUHnQSdBTfmQQUAAI8E8apVBF4kKwP1Wcb+umhtBcF8rQR8dI0FTlcW/gEMYQRfglEGVWyJB3pl7vy1gG8EGMBdBi4cFwP9Zw7+GDBtB5xMswc+8JkGY716/Tr8TQYlTHEFNIS9BVuKZQdGsF0GlZxzBofsiQTHlmkEq3RvBBVYfQduZGcGlHifBsv4sQSZnLMFnoMO/9YzLvzIQj0FiIiRBfdgdQTjL+r9AOZNBt0obQdbaiL8=",
          "dtype": "f4"
         },
         "xaxis": "x",
         "y": {
          "bdata": "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",
          "dtype": "f4"
         },
         "yaxis": "y"
        }
       ],
       "layout": {
        "coloraxis": {
         "colorbar": {
          "title": {
           "text": "cluster"
          }
         },
         "colorscale": [
          [
           0,
           "#0d0887"
          ],
          [
           0.1111111111111111,
           "#46039f"
          ],
          [
           0.2222222222222222,
           "#7201a8"
          ],
          [
           0.3333333333333333,
           "#9c179e"
          ],
          [
           0.4444444444444444,
           "#bd3786"
          ],
          [
           0.5555555555555556,
           "#d8576b"
          ],
          [
           0.6666666666666666,
           "#ed7953"
          ],
          [
           0.7777777777777778,
           "#fb9f3a"
          ],
          [
           0.8888888888888888,
           "#fdca26"
          ],
          [
           1,
           "#f0f921"
          ]
         ]
        },
        "legend": {
         "tracegroupgap": 0
        },
        "margin": {
         "t": 60
        },
        "template": {
         "data": {
          "bar": [
           {
            "error_x": {
             "color": "#2a3f5f"
            },
            "error_y": {
             "color": "#2a3f5f"
            },
            "marker": {
             "line": {
              "color": "#E5ECF6",
              "width": 0.5
             },
             "pattern": {
              "fillmode": "overlay",
              "size": 10,
              "solidity": 0.2
             }
            },
            "type": "bar"
           }
          ],
          "barpolar": [
           {
            "marker": {
             "line": {
              "color": "#E5ECF6",
              "width": 0.5
             },
             "pattern": {
              "fillmode": "overlay",
              "size": 10,
              "solidity": 0.2
             }
            },
            "type": "barpolar"
           }
          ],
          "carpet": [
           {
            "aaxis": {
             "endlinecolor": "#2a3f5f",
             "gridcolor": "white",
             "linecolor": "white",
             "minorgridcolor": "white",
             "startlinecolor": "#2a3f5f"
            },
            "baxis": {
             "endlinecolor": "#2a3f5f",
             "gridcolor": "white",
             "linecolor": "white",
             "minorgridcolor": "white",
             "startlinecolor": "#2a3f5f"
            },
            "type": "carpet"
           }
          ],
          "choropleth": [
           {
            "colorbar": {
             "outlinewidth": 0,
             "ticks": ""
            },
            "type": "choropleth"
           }
          ],
          "contour": [
           {
            "colorbar": {
             "outlinewidth": 0,
             "ticks": ""
            },
            "colorscale": [
             [
              0,
              "#0d0887"
             ],
             [
              0.1111111111111111,
              "#46039f"
             ],
             [
              0.2222222222222222,
              "#7201a8"
             ],
             [
              0.3333333333333333,
              "#9c179e"
             ],
             [
              0.4444444444444444,
              "#bd3786"
             ],
             [
              0.5555555555555556,
              "#d8576b"
             ],
             [
              0.6666666666666666,
              "#ed7953"
             ],
             [
              0.7777777777777778,
              "#fb9f3a"
             ],
             [
              0.8888888888888888,
              "#fdca26"
             ],
             [
              1,
              "#f0f921"
             ]
            ],
            "type": "contour"
           }
          ],
          "contourcarpet": [
           {
            "colorbar": {
             "outlinewidth": 0,
             "ticks": ""
            },
            "type": "contourcarpet"
           }
          ],
          "heatmap": [
           {
            "colorbar": {
             "outlinewidth": 0,
             "ticks": ""
            },
            "colorscale": [
             [
              0,
              "#0d0887"
             ],
             [
              0.1111111111111111,
              "#46039f"
             ],
             [
              0.2222222222222222,
              "#7201a8"
             ],
             [
              0.3333333333333333,
              "#9c179e"
             ],
             [
              0.4444444444444444,
              "#bd3786"
             ],
             [
              0.5555555555555556,
              "#d8576b"
             ],
             [
              0.6666666666666666,
              "#ed7953"
             ],
             [
              0.7777777777777778,
              "#fb9f3a"
             ],
             [
              0.8888888888888888,
              "#fdca26"
             ],
             [
              1,
              "#f0f921"
             ]
            ],
            "type": "heatmap"
           }
          ],
          "histogram": [
           {
            "marker": {
             "pattern": {
              "fillmode": "overlay",
              "size": 10,
              "solidity": 0.2
             }
            },
            "type": "histogram"
           }
          ],
          "histogram2d": [
           {
            "colorbar": {
             "outlinewidth": 0,
             "ticks": ""
            },
            "colorscale": [
             [
              0,
              "#0d0887"
             ],
             [
              0.1111111111111111,
              "#46039f"
             ],
             [
              0.2222222222222222,
              "#7201a8"
             ],
             [
              0.3333333333333333,
              "#9c179e"
             ],
             [
              0.4444444444444444,
              "#bd3786"
             ],
             [
              0.5555555555555556,
              "#d8576b"
             ],
             [
              0.6666666666666666,
              "#ed7953"
             ],
             [
              0.7777777777777778,
              "#fb9f3a"
             ],
             [
              0.8888888888888888,
              "#fdca26"
             ],
             [
              1,
              "#f0f921"
             ]
            ],
            "type": "histogram2d"
           }
          ],
          "histogram2dcontour": [
           {
            "colorbar": {
             "outlinewidth": 0,
             "ticks": ""
            },
            "colorscale": [
             [
              0,
              "#0d0887"
             ],
             [
              0.1111111111111111,
              "#46039f"
             ],
             [
              0.2222222222222222,
              "#7201a8"
             ],
             [
              0.3333333333333333,
              "#9c179e"
             ],
             [
              0.4444444444444444,
              "#bd3786"
             ],
             [
              0.5555555555555556,
              "#d8576b"
             ],
             [
              0.6666666666666666,
              "#ed7953"
             ],
             [
              0.7777777777777778,
              "#fb9f3a"
             ],
             [
              0.8888888888888888,
              "#fdca26"
             ],
             [
              1,
              "#f0f921"
             ]
            ],
            "type": "histogram2dcontour"
           }
          ],
          "mesh3d": [
           {
            "colorbar": {
             "outlinewidth": 0,
             "ticks": ""
            },
            "type": "mesh3d"
           }
          ],
          "parcoords": [
           {
            "line": {
             "colorbar": {
              "outlinewidth": 0,
              "ticks": ""
             }
            },
            "type": "parcoords"
           }
          ],
          "pie": [
           {
            "automargin": true,
            "type": "pie"
           }
          ],
          "scatter": [
           {
            "fillpattern": {
             "fillmode": "overlay",
             "size": 10,
             "solidity": 0.2
            },
            "type": "scatter"
           }
          ],
          "scatter3d": [
           {
            "line": {
             "colorbar": {
              "outlinewidth": 0,
              "ticks": ""
             }
            },
            "marker": {
             "colorbar": {
              "outlinewidth": 0,
              "ticks": ""
             }
            },
            "type": "scatter3d"
           }
          ],
          "scattercarpet": [
           {
            "marker": {
             "colorbar": {
              "outlinewidth": 0,
              "ticks": ""
             }
            },
            "type": "scattercarpet"
           }
          ],
          "scattergeo": [
           {
            "marker": {
             "colorbar": {
              "outlinewidth": 0,
              "ticks": ""
             }
            },
            "type": "scattergeo"
           }
          ],
          "scattergl": [
           {
            "marker": {
             "colorbar": {
              "outlinewidth": 0,
              "ticks": ""
             }
            },
            "type": "scattergl"
           }
          ],
          "scattermap": [
           {
            "marker": {
             "colorbar": {
              "outlinewidth": 0,
              "ticks": ""
             }
            },
            "type": "scattermap"
           }
          ],
          "scattermapbox": [
           {
            "marker": {
             "colorbar": {
              "outlinewidth": 0,
              "ticks": ""
             }
            },
            "type": "scattermapbox"
           }
          ],
          "scatterpolar": [
           {
            "marker": {
             "colorbar": {
              "outlinewidth": 0,
              "ticks": ""
             }
            },
            "type": "scatterpolar"
           }
          ],
          "scatterpolargl": [
           {
            "marker": {
             "colorbar": {
              "outlinewidth": 0,
              "ticks": ""
             }
            },
            "type": "scatterpolargl"
           }
          ],
          "scatterternary": [
           {
            "marker": {
             "colorbar": {
              "outlinewidth": 0,
              "ticks": ""
             }
            },
            "type": "scatterternary"
           }
          ],
          "surface": [
           {
            "colorbar": {
             "outlinewidth": 0,
             "ticks": ""
            },
            "colorscale": [
             [
              0,
              "#0d0887"
             ],
             [
              0.1111111111111111,
              "#46039f"
             ],
             [
              0.2222222222222222,
              "#7201a8"
             ],
             [
              0.3333333333333333,
              "#9c179e"
             ],
             [
              0.4444444444444444,
              "#bd3786"
             ],
             [
              0.5555555555555556,
              "#d8576b"
             ],
             [
              0.6666666666666666,
              "#ed7953"
             ],
             [
              0.7777777777777778,
              "#fb9f3a"
             ],
             [
              0.8888888888888888,
              "#fdca26"
             ],
             [
              1,
              "#f0f921"
             ]
            ],
            "type": "surface"
           }
          ],
          "table": [
           {
            "cells": {
             "fill": {
              "color": "#EBF0F8"
             },
             "line": {
              "color": "white"
             }
            },
            "header": {
             "fill": {
              "color": "#C8D4E3"
             },
             "line": {
              "color": "white"
             }
            },
            "type": "table"
           }
          ]
         },
         "layout": {
          "annotationdefaults": {
           "arrowcolor": "#2a3f5f",
           "arrowhead": 0,
           "arrowwidth": 1
          },
          "autotypenumbers": "strict",
          "coloraxis": {
           "colorbar": {
            "outlinewidth": 0,
            "ticks": ""
           }
          },
          "colorscale": {
           "diverging": [
            [
             0,
             "#8e0152"
            ],
            [
             0.1,
             "#c51b7d"
            ],
            [
             0.2,
             "#de77ae"
            ],
            [
             0.3,
             "#f1b6da"
            ],
            [
             0.4,
             "#fde0ef"
            ],
            [
             0.5,
             "#f7f7f7"
            ],
            [
             0.6,
             "#e6f5d0"
            ],
            [
             0.7,
             "#b8e186"
            ],
            [
             0.8,
             "#7fbc41"
            ],
            [
             0.9,
             "#4d9221"
            ],
            [
             1,
             "#276419"
            ]
           ],
           "sequential": [
            [
             0,
             "#0d0887"
            ],
            [
             0.1111111111111111,
             "#46039f"
            ],
            [
             0.2222222222222222,
             "#7201a8"
            ],
            [
             0.3333333333333333,
             "#9c179e"
            ],
            [
             0.4444444444444444,
             "#bd3786"
            ],
            [
             0.5555555555555556,
             "#d8576b"
            ],
            [
             0.6666666666666666,
             "#ed7953"
            ],
            [
             0.7777777777777778,
             "#fb9f3a"
            ],
            [
             0.8888888888888888,
             "#fdca26"
            ],
            [
             1,
             "#f0f921"
            ]
           ],
           "sequentialminus": [
            [
             0,
             "#0d0887"
            ],
            [
             0.1111111111111111,
             "#46039f"
            ],
            [
             0.2222222222222222,
             "#7201a8"
            ],
            [
             0.3333333333333333,
             "#9c179e"
            ],
            [
             0.4444444444444444,
             "#bd3786"
            ],
            [
             0.5555555555555556,
             "#d8576b"
            ],
            [
             0.6666666666666666,
             "#ed7953"
            ],
            [
             0.7777777777777778,
             "#fb9f3a"
            ],
            [
             0.8888888888888888,
             "#fdca26"
            ],
            [
             1,
             "#f0f921"
            ]
           ]
          },
          "colorway": [
           "#636efa",
           "#EF553B",
           "#00cc96",
           "#ab63fa",
           "#FFA15A",
           "#19d3f3",
           "#FF6692",
           "#B6E880",
           "#FF97FF",
           "#FECB52"
          ],
          "font": {
           "color": "#2a3f5f"
          },
          "geo": {
           "bgcolor": "white",
           "lakecolor": "white",
           "landcolor": "#E5ECF6",
           "showlakes": true,
           "showland": true,
           "subunitcolor": "white"
          },
          "hoverlabel": {
           "align": "left"
          },
          "hovermode": "closest",
          "mapbox": {
           "style": "light"
          },
          "paper_bgcolor": "white",
          "plot_bgcolor": "#E5ECF6",
          "polar": {
           "angularaxis": {
            "gridcolor": "white",
            "linecolor": "white",
            "ticks": ""
           },
           "bgcolor": "#E5ECF6",
           "radialaxis": {
            "gridcolor": "white",
            "linecolor": "white",
            "ticks": ""
           }
          },
          "scene": {
           "xaxis": {
            "backgroundcolor": "#E5ECF6",
            "gridcolor": "white",
            "gridwidth": 2,
            "linecolor": "white",
            "showbackground": true,
            "ticks": "",
            "zerolinecolor": "white"
           },
           "yaxis": {
            "backgroundcolor": "#E5ECF6",
            "gridcolor": "white",
            "gridwidth": 2,
            "linecolor": "white",
            "showbackground": true,
            "ticks": "",
            "zerolinecolor": "white"
           },
           "zaxis": {
            "backgroundcolor": "#E5ECF6",
            "gridcolor": "white",
            "gridwidth": 2,
            "linecolor": "white",
            "showbackground": true,
            "ticks": "",
            "zerolinecolor": "white"
           }
          },
          "shapedefaults": {
           "line": {
            "color": "#2a3f5f"
           }
          },
          "ternary": {
           "aaxis": {
            "gridcolor": "white",
            "linecolor": "white",
            "ticks": ""
           },
           "baxis": {
            "gridcolor": "white",
            "linecolor": "white",
            "ticks": ""
           },
           "bgcolor": "#E5ECF6",
           "caxis": {
            "gridcolor": "white",
            "linecolor": "white",
            "ticks": ""
           }
          },
          "title": {
           "x": 0.05
          },
          "xaxis": {
           "automargin": true,
           "gridcolor": "white",
           "linecolor": "white",
           "ticks": "",
           "title": {
            "standoff": 15
           },
           "zerolinecolor": "white",
           "zerolinewidth": 2
          },
          "yaxis": {
           "automargin": true,
           "gridcolor": "white",
           "linecolor": "white",
           "ticks": "",
           "title": {
            "standoff": 15
           },
           "zerolinecolor": "white",
           "zerolinewidth": 2
          }
         }
        },
        "xaxis": {
         "anchor": "y",
         "domain": [
          0,
          1
         ],
         "title": {
          "text": "UMAP1"
         }
        },
        "yaxis": {
         "anchor": "x",
         "domain": [
          0,
          1
         ],
         "title": {
          "text": "UMAP2"
         }
        }
       }
      }
     },
     "metadata": {},
     "output_type": "display_data"
    }
   ],
   "source": [
    "df = pd.DataFrame(\n",
    "    {\n",
    "        'UMAP1': X_umap[:, 0],\n",
    "        'UMAP2': X_umap[:, 1],\n",
    "        'cluster': y,\n",
    "    }\n",
    ")\n",
    "\n",
    "fig = px.scatter(\n",
    "    df,\n",
    "    x='UMAP1',\n",
    "    y='UMAP2',\n",
    "    color='cluster',\n",
    "    hover_data=['cluster'],\n",
    ")\n",
    "fig.show()"
   ]
  },
  {
   "cell_type": "markdown",
   "id": "58ff01fd",
   "metadata": {},
   "source": [
    "#### Real data"
   ]
  },
  {
   "cell_type": "code",
   "execution_count": 22,
   "id": "51f69ed9",
   "metadata": {},
   "outputs": [],
   "source": [
    "records = [r for grp in grouped_records for r in grp]\n",
    "vectors = [r.vector for r in records]\n",
    "cluster_labels = [i for i, grp in enumerate(grouped_records) for _ in grp]\n",
    "\n",
    "# figure out which payload keys exist across all records\n",
    "payload_keys = set().union(*(r.payload.keys() for r in records))\n",
    "\n",
    "reducer = umap.UMAP(\n",
    "    n_components=2,\n",
    "    metric='cosine',\n",
    "    random_state=None,\n",
    ")\n",
    "X_umap = reducer.fit_transform(vectors)"
   ]
  },
  {
   "cell_type": "code",
   "execution_count": 23,
   "id": "00c622bc",
   "metadata": {},
   "outputs": [
    {
     "data": {
      "application/vnd.plotly.v1+json": {
       "config": {
        "plotlyServerURL": "https://plot.ly"
       },
       "data": [
        {
         "customdata": [
          [
           "Function minimized using quadratic approximation a",
           "8fa78e70-df34-4f0a-b031-5fc98e0645d5",
           "03e4862b-72c3-406d-bf58-cc4bdb1a3ccf",
           0
          ],
          [
           "The target expression is the objective function be",
           "5e6f86ad-4c9a-437e-a534-3dab0e8ff4e0",
           "09a8f9a8-cdb8-4dde-ad81-7cf905c722e8",
           0
          ],
          [
           "The target expression denotes the value associated",
           "6016e48f-51ba-47fc-8444-40e0521e590d",
           "0a5b7e0e-b2db-46aa-85b6-24e3e8e3316d",
           0
          ],
          [
           "Function of a single variable x, shown as a black ",
           "1a08f173-2495-4dde-9593-bb5e6a96150b",
           "103923f1-309b-48c4-a77c-0660753f6712",
           0
          ],
          [
           "function minimized by Newton's method, evaluated a",
           "d0ab355b-222b-4aac-b7cb-78af184c84cc",
           "2454e996-0047-466d-8219-13141c5565b7",
           0
          ],
          [
           "Initial point for starting the minimization proces",
           "10a1b4f2-7c7a-4d71-8dd6-055c2121e32c",
           "28337988-42c8-48d4-b181-7c7a7b658679",
           0
          ],
          [
           "The target expression is the function being minimi",
           "c43f41f5-73c7-4319-8f21-adb984b11790",
           "30ef815d-0b56-4abe-a785-c5a09a6fb097",
           0
          ],
          [
           "Function of a single variable minimized using quad",
           "a936ea0a-7f31-4d7e-bbf9-94e68d7f2fb1",
           "572e5285-88d1-4d2f-a03c-888facca0341",
           0
          ],
          [
           "the point obtained after the first step of minimiz",
           "6742746c-946a-46b9-b1ea-27fddcfd325f",
           "581b23f2-3ed2-4197-916a-6ecdf950f8ca",
           0
          ],
          [
           "Location where the quadratic approximation of a fu",
           "f95e2a5e-d517-491c-b757-43694efb1cbd",
           "5a1659b3-c8ab-4807-8f63-5a29811c4a7a",
           0
          ],
          [
           "The target expression is the function being minimi",
           "5bf228e6-7298-4144-b28f-db47a637c550",
           "70806774-f3ab-42f8-8994-8cb57fa9d04b",
           0
          ],
          [
           "Quadratic function used in optimization as an expa",
           "75aed128-da46-42cf-a78f-678b4796743a",
           "9cde1df5-f0b0-414c-b0e0-956c009753e2",
           0
          ],
          [
           "Objective function of a vector variable to be mini",
           "77537328-db21-4be6-b425-33255ddeacc7",
           "e3a41001-8e80-4a20-b77a-dc79bbccf313",
           0
          ],
          [
           "A type of regularization contrasted with another m",
           "b6c69cf6-8359-4e03-9139-776fccebe363",
           "7926ba60-9531-4303-9899-0c86c985fb2f",
           1
          ],
          [
           "L1 norm, used as a regularization term in logistic",
           "8a06dcbd-b8be-4aa6-870e-6e812603ccf7",
           "81daf29c-2f27-41ca-ab95-728a29ade2ef",
           1
          ],
          [
           "A type of regularization used in optimization and ",
           "e2b1ba44-98d5-4b30-856a-0c40fd43bf4f",
           "9fe5fb2b-32f6-483f-9c64-b5f48188d4c6",
           1
          ],
          [
           "Norm associated with L1 regularization; not differ",
           "a0df5bc1-ed35-4164-9bd6-833b032e9b2e",
           "ac575672-a09a-4d4b-802d-dd330193c9cc",
           1
          ],
          [
           "A specific type of regularization, contrasted with",
           "6801fe8d-998c-4858-9643-31c501a8a0b3",
           "c67c7419-d1cc-45da-9d23-830a1b9d4f69",
           1
          ],
          [
           "Event or class label where variable y equals one i",
           "74bc6ff9-56c6-4e79-b035-b780d83b6b7e",
           "a42abb2d-853c-4dd4-873a-c670d88bd249",
           2
          ],
          [
           "The value representing the outcome one of a Bernou",
           "4c28a145-6cb6-4da3-9b7b-0dbcce57947a",
           "abcbc280-738d-43e4-b602-5b1992494401",
           2
          ],
          [
           "y is a binary label taking values 0 or 1, represen",
           "8f495771-abbd-4b7a-9a3f-468903ef753d",
           "d3f485ee-596c-4913-b095-5334d6d7984a",
           2
          ],
          [
           "Parameter representing the probability of success ",
           "e0bf37c7-3ca4-43a3-97f8-404946c14084",
           "da4a2758-648c-4ee3-bc66-d356ef4e14d3",
           2
          ],
          [
           "Applying the softmax function to the vector [1, 2,",
           "ef7b80ea-f2b1-44e4-a65e-84a9543236ce",
           "358f099c-73ad-4647-9bb5-dfd0e1f0de59",
           3
          ],
          [
           "Input example vector to the softmax function repre",
           "58eb2a95-a0e9-435f-9edc-8f6aaf65556d",
           "452429aa-d63f-4037-8d30-a242e3f641fa",
           3
          ],
          [
           "Regularization factor applied to the diagonal elem",
           "2b9d3572-b560-413d-b763-1615e85699fa",
           "279a1971-8dec-409c-be4b-dd50e6c7a0a9",
           4
          ],
          [
           "Diagonal matrix with diagonal entries equal to the",
           "7bac3824-9191-4fbf-b991-2448f0de6650",
           "b1734925-2213-4b1d-8d02-d1c48d8c6367",
           4
          ],
          [
           "A column vector with K binary entries, each repres",
           "58208881-25b4-4551-b4c1-cb2d5cbbb929",
           "2d6c3d90-bcd5-446f-94c0-f9373fbe2860",
           5
          ],
          [
           "The k-th element of a parameter vector for a categ",
           "d25ed4ea-d3e3-4a59-ac35-f0a1e8671c8d",
           "4d26d20d-a72c-4c7f-9e84-14f49d51e2a9",
           5
          ],
          [
           "Vector of K parameters, each subscripted, represen",
           "cccb3924-7a84-4a59-a273-96b0004bb113",
           "dc4d7374-26a9-4cd3-b93a-d3049e9e6da2",
           5
          ],
          [
           "Variable denotes the index of a class in a K-class",
           "2c9bba3a-e730-40d2-9cef-9e644ea44681",
           "22e993e8-4488-469d-90a0-11a3ad02ffe9",
           6
          ],
          [
           "Index identifying a specific class in multiclass c",
           "181875d6-5dbb-4c59-b6b6-3eadc71dbdd5",
           "24379b21-2066-4cdf-954d-5fa8ffd1318a",
           6
          ],
          [
           "Index identifying a specific class in multi-class ",
           "6334cc29-15ad-4dfc-938c-4bd2650b3cd4",
           "3d0f6a6e-8b4e-41c2-84b7-536a4a06cf21",
           6
          ],
          [
           "Index representing a specific class in a multinomi",
           "fdb90394-e868-4e40-a1ea-1056a5e8c2b3",
           "499d63bd-ed03-4ee7-9240-b50e099fe4da",
           6
          ],
          [
           "Index of a class in a classification problem with ",
           "ef99238a-25d1-494c-bd7f-b1afa2fa269b",
           "6431867f-811c-4478-a5cd-f33abb51d0ef",
           6
          ],
          [
           "Index of a specific class in multiclass classifica",
           "8156acb7-3435-444c-b630-328879f69284",
           "de0cedc4-ac0d-456a-b3c4-eff30eaa3fe5",
           6
          ],
          [
           "Index of the weight in the weight vector associate",
           "e65a896b-31c4-4cfd-a1a9-675a3f0e6acd",
           "2d69c58c-219b-4534-bc85-002ffc4973a3",
           7
          ],
          [
           "Index identifying a specific basis function within",
           "ff231356-d299-4d4b-8120-3c8059ef93af",
           "35a67779-bb57-4f2f-8ead-546569494f5a",
           7
          ],
          [
           "Index identifying a specific basis function within",
           "48650be2-c727-4aeb-908a-eaccf91af5dc",
           "b4786f28-df7b-435a-91d4-4d0531e85815",
           7
          ],
          [
           "Weight parameter for the i-th input variable in th",
           "bd21ac6b-0a8a-456c-9ba5-fbaccd9fc70d",
           "cca09176-0726-4e85-9b86-d5ff86cf4afa",
           7
          ],
          [
           "The k-th component of the indicator vector for a c",
           "cab8f0ce-7463-4e05-8165-cd3aceef8e63",
           "20a926b8-8080-48d9-a222-407561990f74",
           8
          ],
          [
           "Probability that the k-th component of the indicat",
           "d839398f-e4df-4e81-ad78-bb455e20896f",
           "9823abca-dc45-48c3-83fc-b538c152d739",
           8
          ],
          [
           "Probability that the k-th indicator variable in a ",
           "3d47bb24-032d-48ce-a9ac-6ed0b7b7f46e",
           "d020b4b9-39bd-41b8-bbe3-3d34c1a9ccfe",
           8
          ],
          [
           "The k-th component of the indicator vector for a m",
           "2ab5fc36-0120-4d92-926d-0edeeaf99be2",
           "d3ff2c89-74e3-493f-be20-e0c1716a3891",
           8
          ],
          [
           "Index value for a multinomial variable outcome, wh",
           "5ba5501a-3088-4fbc-96c3-92c617301eef",
           "e60b57c6-781f-4464-9ba1-0e86c006762e",
           8
          ],
          [
           "Dimensionality of the vector from the softmax func",
           "2ad2bc59-7142-4b44-9bea-d31f04034994",
           "06fc380d-2743-4662-ba69-763ce550fa30",
           9
          ],
          [
           "Total number of classes in a classification proble",
           "e2df0804-dc43-412b-a90c-f4d376a3cc52",
           "b2e550c7-d8d4-432d-bbe1-07c5d45c1029",
           9
          ],
          [
           "the point at which a differentiable function's Tay",
           "e03a96db-3bd7-4172-b883-5eff7f8f6c0b",
           "3160c832-1bb5-4356-a520-df7904687108",
           10
          ],
          [
           "the point at which a differentiable function's Tay",
           "9eb3257a-ef19-4aa0-b3b7-c1e08c6b02a5",
           "a49d99ce-6370-4716-8975-653f64b182b4",
           10
          ],
          [
           "Taylor series expansion of a differentiable functi",
           "ebbcc2f6-be05-48ff-9303-4ed19f9fd78e",
           "ae6e45a4-b527-4324-aa3f-10772b701b7c",
           10
          ],
          [
           "general differentiable function for Taylor series ",
           "541d3829-e210-4e71-9e49-86cdb2b94810",
           "f428fa88-b08a-4027-9d7c-86322fefe5d8",
           10
          ],
          [
           "Set of four equations defining logistic regression",
           "4d1642b3-60a6-438c-beda-a9619eee5115",
           "051e5886-3854-4b67-be2e-9962bed50367",
           11
          ],
          [
           "The target expression represents the model for cla",
           "c413493a-cd20-431d-a8c4-d9bfe5965945",
           "47a99ba5-2390-49ab-9a50-c19223b26b8e",
           11
          ],
          [
           "The expression denotes the model for class k in mu",
           "ee5d8940-7805-41be-9e85-7838d805ec68",
           "547b8a2c-477e-4615-b0a6-cfd17210d750",
           11
          ],
          [
           "The target expression refers to the model in multi",
           "491e76de-5e20-4628-b610-dea2db46ee81",
           "6f8e7002-21f4-4aad-adce-da4a38950d92",
           11
          ],
          [
           "Set of four expressions for multinomial logistic r",
           "dd20286f-075e-477f-8bf3-98467f4fd1e9",
           "783e39d7-6724-47a1-9b4c-d722dcb5e8a4",
           11
          ],
          [
           "Model for class indexed by k outputs the probabili",
           "0ad2623a-a46d-4472-b68b-44faa71aba37",
           "8f865a50-16eb-4295-a2d7-42b1f1653808",
           11
          ],
          [
           "Probability that an input vector belongs to class ",
           "03b5058c-e356-4c1a-b8ba-26c2e70f7b96",
           "91b12bfc-7480-4e2f-b78e-41ce64700dec",
           11
          ],
          [
           "Defines the probability that an input vector belon",
           "a6914d4b-3a27-4de4-9eeb-aad75713704f",
           "ec799a3f-a567-4416-a009-350ec499c1e8",
           11
          ],
          [
           "total number of classes in a multinomial logistic ",
           "33a49ee6-3f80-4dbf-9884-222b47a25ccd",
           "06d4ec6f-339a-48e8-944c-071ccc803e26",
           12
          ],
          [
           "The dot product of the weight vector for class k a",
           "012a8731-0112-4df7-a994-cc6ed47f4441",
           "581b2a0f-f71e-47fc-b4ec-9ce7c4b32e87",
           12
          ],
          [
           "Scalar product of the weight vector for class k an",
           "4e773519-1999-4d32-8510-df50aa71c1ed",
           "581d1a27-ccc3-4f16-b7db-929fd49156fc",
           12
          ],
          [
           "Total number of weight vectors in the matrix for m",
           "ce14c127-0925-470b-876b-d56429e15829",
           "768a3df3-3afe-4051-b5f0-3afaaef2cd53",
           12
          ],
          [
           "Weight vector for class k, one of K weight vectors",
           "85ffccc5-b49f-4162-9a52-ab42a5665714",
           "80900ca1-9949-415a-9588-a5237b187ef2",
           12
          ],
          [
           "Number of classes in a multinomial logistic regres",
           "21f28c22-bd69-4253-b0f6-0aef98d7714b",
           "81a5b03d-198e-4830-b605-d645b437ac41",
           12
          ],
          [
           "weight vector for the k-th class in a multinomial ",
           "ef9dd0c7-2853-4ab5-add8-51693328b84d",
           "89d7b9c6-c19d-44f3-ade3-c0f679cc1228",
           12
          ],
          [
           "A matrix of K column vectors, each representing a ",
           "1b489ace-f602-418c-ab7c-21f49e52b592",
           "a1af7728-0877-4a44-9b8f-d51d9c351d41",
           12
          ],
          [
           "For every non-zero vector, the quadratic form with",
           "62d36fa1-69c0-4e51-9141-36a2199f0bd7",
           "5ea2c4b6-4cf9-4349-817c-e77b66c6a8d9",
           13
          ],
          [
           "Non-zero vector used to test if a matrix is positi",
           "cf651ec0-e666-4331-9292-0e4c485ed705",
           "d1b36d4e-4711-4276-aaa8-364fd79ee2aa",
           13
          ],
          [
           "For every non-zero vector, the quadratic form defi",
           "c2dee8e0-a43b-449d-9d52-9ed181ea486d",
           "ee6c4305-b258-4504-9ae5-31a2214351bb",
           13
          ],
          [
           "A weight vector is transposed and multiplied by a ",
           "b450c527-2c00-4af6-9c60-837746300e18",
           "9de7863e-2804-41fa-959d-88b229328361",
           14
          ],
          [
           "Vector of weights used to combine outputs of basis",
           "c1ef1999-d09d-4c7d-8146-b63f2439b32c",
           "f11112b0-faf5-4213-8ae4-3e109f8d9536",
           14
          ],
          [
           "Weight update rule for stochastic gradient descent",
           "560155e2-e7f4-41ec-b0bc-03beefdbd568",
           "198cccab-d19f-4fac-96da-74028a25d3ad",
           15
          ],
          [
           "Gradient of the quadratic error function for linea",
           "31e0e631-fd50-42d9-8c27-92b5a586cd3b",
           "4f1f963c-5395-44d3-903e-2b80943c08e0",
           15
          ],
          [
           "Iterative update rule for a parameter vector at it",
           "5e6cf308-f252-47a7-bb5e-7251877ff0c7",
           "0399dcd4-0d3e-42f8-ae0f-6a3f3a1ebe45",
           16
          ],
          [
           "The expression defines the gradient descent update",
           "b1a967b8-6c2e-4da4-a4ce-b5de65578f9a",
           "2a5140c5-9848-4eb0-aecb-bc41d68ae49c",
           16
          ],
          [
           "Parameter update rule in gradient descent: the cur",
           "85d2bfbf-2e50-4053-a51f-a8f6a04cf88a",
           "dcc535d7-7ba7-41b1-b2dc-40350ec4a3a3",
           16
          ],
          [
           "Symbol denotes the Hessian matrix of the cross-ent",
           "5676acaf-3e78-486a-af80-784ee6f736f8",
           "0d42282c-ad37-401b-b181-ed2a8351c25a",
           17
          ],
          [
           "Decomposition of the Hessian matrix for cross-entr",
           "43c280b6-bd63-4d89-b6db-cdd208ab5cd4",
           "2317d526-3da9-411c-985f-abbd7f336440",
           17
          ],
          [
           "Hessian matrix of the cross-entropy error function",
           "94d333c3-a1da-4283-a368-c3c9fb2f589d",
           "2b2a2b95-d154-46ef-972e-a8e216ce6284",
           17
          ],
          [
           "Hessian matrix of the cross-entropy error function",
           "7c7dde6a-2d20-40b8-af33-73e37289c279",
           "82da78c2-e892-4d4c-a1dd-d1a96f43d8a3",
           17
          ],
          [
           "The Hessian matrix for the cross-entropy error in ",
           "82157081-ff7d-4b03-9316-1d04c0b4b3ec",
           "8b7c59cf-4fda-45e5-b267-94949626288d",
           17
          ],
          [
           "Hessian matrix for cross-entropy error in logistic",
           "d3e48fcd-f624-43ed-872b-7a34a9bc3dbb",
           "bdcf68f9-6647-40ac-bcea-a950b139be79",
           17
          ],
          [
           "Hessian matrix of the cross-entropy error function",
           "efc95dc4-8c74-407e-be96-5dacd6232db0",
           "d9431bf8-6809-47ca-b3e5-1b897bfa39f5",
           17
          ],
          [
           "Dimensions of the Hessian matrix for the cross-ent",
           "c3a0108b-28c6-4c13-8cff-bba631e5a9bd",
           "f939f890-c1f4-4da8-8941-dd65682fa977",
           17
          ],
          [
           "Hessian matrix in Newton's optimization method, ch",
           "150b2917-6366-4b18-b4ee-8bac79b2f08b",
           "0e1c7b0d-c153-47a5-a9d0-09f4d32e543b",
           18
          ],
          [
           "Hessian matrix in Newton's method that is positive",
           "95acb795-e420-44f1-9cce-ad2c6642390c",
           "30b63871-4e6c-4791-8547-a5503b7ecfab",
           18
          ],
          [
           "Hessian matrix required to be positive definite fo",
           "87b9b4a8-a30e-4db0-9efd-6fba21a89c50",
           "3b1e130e-e62a-422f-bf4f-362768ac70af",
           18
          ],
          [
           "Hessian matrix that is positive semi-definite but ",
           "3876ad10-a915-4366-b47b-45f5b938abc7",
           "d9b82f58-52dd-452c-89d5-2534a30de500",
           18
          ],
          [
           "Mean parameter of an exponential family distributi",
           "bec36427-865c-4c65-9563-00e3b226aeca",
           "0d07ea4d-8a35-4e43-8ca4-1aaa61a912fb",
           19
          ],
          [
           "Activation function specifying the mean parameter ",
           "2cc8039a-67e5-43d0-9084-4848f3e79737",
           "137eb66f-e5cb-4cf1-a09b-3f6cbd9de09d",
           19
          ],
          [
           "Mean parameter of a distribution defined as a func",
           "2ea8fdb6-656d-4706-b174-c7b677113fd2",
           "6bd46d0e-3cb0-4ac1-a70a-202232ad99f1",
           19
          ],
          [
           "Activation function in generalized linear models t",
           "2b0a59db-a3dc-425d-93a5-75a618b21468",
           "769bf24e-9658-4099-bdb9-91a54a75b4f1",
           19
          ],
          [
           "Activation function applied to the scalar product ",
           "ca12e2f6-8438-481c-8aa0-20caa07f9471",
           "6d8affa9-5f32-4569-b1d1-504e86a33eca",
           20
          ],
          [
           "A generalized linear model where the output is the",
           "36bff184-e1db-4263-8d2b-6904c8a3dee7",
           "6ed581bc-ec92-4721-9b5a-46b1a7c3c20c",
           20
          ],
          [
           "Activation function in a generalized linear model ",
           "1081d3ab-9a85-475a-bf5f-233b56e12e66",
           "9d9259c1-373b-405b-8435-b931dbf5e2f9",
           20
          ],
          [
           "Defines the output of a generalized linear model a",
           "70f0c18f-6d49-4fe1-8227-68d128a36763",
           "af869f40-50b0-4e97-bb42-e96ca3e911e8",
           20
          ],
          [
           "Defines a function of an input vector and a parame",
           "180df43e-5c31-49ca-8603-9c1fd687209a",
           "cea17b32-dea9-4a75-a126-724b7461795c",
           20
          ],
          [
           "The j-th basis function in a generalized linear mo",
           "c1ff6c7e-bb1c-4aab-8c1b-2898ea0b7114",
           "56a3e8e1-ccde-4412-847c-485b3c1fc656",
           21
          ],
          [
           "Number of basis functions used for feature mapping",
           "4669d894-e98b-49c7-be0c-96c26954ee8e",
           "73a9b8de-2a27-4885-b7cd-ed918480a7e6",
           21
          ],
          [
           "Collection of m basis functions, each representing",
           "51024dc2-44fc-41ec-954d-15e3c4fb63c1",
           "c354e020-2af9-49f0-83e3-775abd4cc056",
           21
          ],
          [
           "A function with subscript j that maps an n-dimensi",
           "81d433c2-29c5-4e74-b75a-81e3234e7589",
           "d58e4f10-bdb2-4c5a-9b14-71a9fccc513d",
           21
          ],
          [
           "Real-valued function of a vector variable, used in",
           "2c6d4932-e91b-4c44-b7b0-4fb1b4618423",
           "1a58ed29-58f9-47aa-9905-faf542207b28",
           22
          ],
          [
           "Multivariate function mapping n-dimensional vector",
           "113c4998-6480-49ca-a6d8-df63e8e026dc",
           "32377814-010d-49b8-bf13-8a78c3290bb8",
           22
          ],
          [
           "Function mapping an n-dimensional real vector to a",
           "e0437fdb-b7d0-4398-9be5-5fefbb3c03e4",
           "8b3b6a0f-6871-4590-aa15-88a0080057d0",
           23
          ],
          [
           "Function mapping n-dimensional real vectors to rea",
           "dcfa48ea-3725-4fc7-87c7-56683476c9da",
           "ae82c8b2-4f4a-424c-a79b-84d9a392ef2f",
           23
          ],
          [
           "A function mapping an n-dimensional real vector to",
           "b26d529f-c813-4e91-85c9-c856cc5283fe",
           "bf94b7c1-7f8b-426e-af31-a96c2bb67d92",
           23
          ]
         ],
         "hovertemplate": "UMAP_1=%{x}<br>UMAP_2=%{y}<br>text=%{customdata[0]}<br>math_expression_id=%{customdata[1]}<br>id=%{customdata[2]}<br>cluster=%{marker.color}<extra></extra>",
         "legendgroup": "",
         "marker": {
          "color": {
           "bdata": "AAAAAAAAAAAAAAAAAAEBAQEBAgICAgMDBAQFBQUGBgYGBgYHBwcHCAgICAgJCQoKCgoLCwsLCwsLCwwMDAwMDAwMDQ0NDg4PDxAQEBEREREREREREhISEhMTExMUFBQUFBUVFRUWFhcXFw==",
           "dtype": "i1"
          },
          "coloraxis": "coloraxis",
          "symbol": "circle"
         },
         "mode": "markers",
         "name": "",
         "orientation": "v",
         "showlegend": false,
         "type": "scatter",
         "x": {
          "bdata": "QDXiQI381kAa/so/iirTQNJt00AJxuJA1+XeQE6g40CJf+pAy47nQHyz5EB9L99AT4/MQMtJvkAL8rxAxo/CQD84wkAk2cRAD+lYP0Lzsj9RfY8/wmqcPxzTCL8thfS+H7yzQLSqrUBkH/Y+lzwiPw/3sj7LXSA/pkxhP0HcUD9eli0/ltUdP47E8z4powNA/6bpP0pq3D8IshNAYMRMP3RcXz+IDnc/ZntxPyTvhT96LDy/2hzvvuft+EC7//tARHL/QCqf+UCWuxI/y2sdPjv7VT40awE+jIfcvL7Iuz0+zeA80h+8veCvJb/rpi+/QfsBvx5Jbb+2Vla/0a42vw4HLb94V4K/9ZJwQBstb0B8rGVArikAQJcOC0BzNatAfTWcQFXdsUCWt61ATfqxQKzdVUAsAmNAQm9pQLTxZ0DGdGFAWC5YQAAASECN/EpA4Td7QKuPfkBRXYRA7sN+QPIQ+D/hTQRAs6j8P+XnEEDdSwlAbyAiQBa/DkA7RgpAP1MiQDhMN0BaDTBAiN8+QOJLR0Dn1nJAqspeQCnDUUCmsVZA/xhTQA==",
          "dtype": "f4"
         },
         "xaxis": "x",
         "y": {
          "bdata": "hxavPzOkjD9x052+2UyZPyS7sj8VQIc/m0GeP+Fasj/Z4pg/dxOkP9RGfD9/qcs/pqfMPwJhSkDRoWRAU5RHQAIHTUBmhEFA3lMNPbxKGr9M/M2+6Ik3vx62pj37Cqq9M7VQQFR7ZUCwMJW/yAeMv3gzir8nosM+4hFsP8dWaz9KSxA/1AZjP9pBgD/3OAVAG3LmPyDm1j+uwhtAAY27v2Iok78CU6m/9o+1v8Cfpb+/3+I+0sIzP2PI9z9+cvk/jDoNQJKyA0DK77K97U1HvQk0kz5JQac+QiwUvmvIjT1rUOO+rgzovoWQBT8fU86+PnOcvlUSBj/x73a+qSjMPr914746SC+8Xvu0QPu3uEAyxrNA55o2QNLmJUCNlBtAWb0WQOL4B0CBiQBAiyARQAY4y0D2xtdA+QXRQHsuz0C7JddASGLZQLG60kBOW9pAJw+/QNbNwUASecRAYVPAQBTHYkDb+VVAEYBTQJhVYEDNTj1APSRMQB4vQ0DaVUpALeVBQJQeU0DPdjlA8r9GQHXxZ0CVao1A1biGQIxjfUCV1H1AUuKCQA==",
          "dtype": "f4"
         },
         "yaxis": "y"
        }
       ],
       "layout": {
        "coloraxis": {
         "colorbar": {
          "title": {
           "text": "cluster"
          }
         },
         "colorscale": [
          [
           0,
           "#0d0887"
          ],
          [
           0.1111111111111111,
           "#46039f"
          ],
          [
           0.2222222222222222,
           "#7201a8"
          ],
          [
           0.3333333333333333,
           "#9c179e"
          ],
          [
           0.4444444444444444,
           "#bd3786"
          ],
          [
           0.5555555555555556,
           "#d8576b"
          ],
          [
           0.6666666666666666,
           "#ed7953"
          ],
          [
           0.7777777777777778,
           "#fb9f3a"
          ],
          [
           0.8888888888888888,
           "#fdca26"
          ],
          [
           1,
           "#f0f921"
          ]
         ]
        },
        "legend": {
         "tracegroupgap": 0
        },
        "margin": {
         "t": 60
        },
        "template": {
         "data": {
          "bar": [
           {
            "error_x": {
             "color": "#2a3f5f"
            },
            "error_y": {
             "color": "#2a3f5f"
            },
            "marker": {
             "line": {
              "color": "#E5ECF6",
              "width": 0.5
             },
             "pattern": {
              "fillmode": "overlay",
              "size": 10,
              "solidity": 0.2
             }
            },
            "type": "bar"
           }
          ],
          "barpolar": [
           {
            "marker": {
             "line": {
              "color": "#E5ECF6",
              "width": 0.5
             },
             "pattern": {
              "fillmode": "overlay",
              "size": 10,
              "solidity": 0.2
             }
            },
            "type": "barpolar"
           }
          ],
          "carpet": [
           {
            "aaxis": {
             "endlinecolor": "#2a3f5f",
             "gridcolor": "white",
             "linecolor": "white",
             "minorgridcolor": "white",
             "startlinecolor": "#2a3f5f"
            },
            "baxis": {
             "endlinecolor": "#2a3f5f",
             "gridcolor": "white",
             "linecolor": "white",
             "minorgridcolor": "white",
             "startlinecolor": "#2a3f5f"
            },
            "type": "carpet"
           }
          ],
          "choropleth": [
           {
            "colorbar": {
             "outlinewidth": 0,
             "ticks": ""
            },
            "type": "choropleth"
           }
          ],
          "contour": [
           {
            "colorbar": {
             "outlinewidth": 0,
             "ticks": ""
            },
            "colorscale": [
             [
              0,
              "#0d0887"
             ],
             [
              0.1111111111111111,
              "#46039f"
             ],
             [
              0.2222222222222222,
              "#7201a8"
             ],
             [
              0.3333333333333333,
              "#9c179e"
             ],
             [
              0.4444444444444444,
              "#bd3786"
             ],
             [
              0.5555555555555556,
              "#d8576b"
             ],
             [
              0.6666666666666666,
              "#ed7953"
             ],
             [
              0.7777777777777778,
              "#fb9f3a"
             ],
             [
              0.8888888888888888,
              "#fdca26"
             ],
             [
              1,
              "#f0f921"
             ]
            ],
            "type": "contour"
           }
          ],
          "contourcarpet": [
           {
            "colorbar": {
             "outlinewidth": 0,
             "ticks": ""
            },
            "type": "contourcarpet"
           }
          ],
          "heatmap": [
           {
            "colorbar": {
             "outlinewidth": 0,
             "ticks": ""
            },
            "colorscale": [
             [
              0,
              "#0d0887"
             ],
             [
              0.1111111111111111,
              "#46039f"
             ],
             [
              0.2222222222222222,
              "#7201a8"
             ],
             [
              0.3333333333333333,
              "#9c179e"
             ],
             [
              0.4444444444444444,
              "#bd3786"
             ],
             [
              0.5555555555555556,
              "#d8576b"
             ],
             [
              0.6666666666666666,
              "#ed7953"
             ],
             [
              0.7777777777777778,
              "#fb9f3a"
             ],
             [
              0.8888888888888888,
              "#fdca26"
             ],
             [
              1,
              "#f0f921"
             ]
            ],
            "type": "heatmap"
           }
          ],
          "histogram": [
           {
            "marker": {
             "pattern": {
              "fillmode": "overlay",
              "size": 10,
              "solidity": 0.2
             }
            },
            "type": "histogram"
           }
          ],
          "histogram2d": [
           {
            "colorbar": {
             "outlinewidth": 0,
             "ticks": ""
            },
            "colorscale": [
             [
              0,
              "#0d0887"
             ],
             [
              0.1111111111111111,
              "#46039f"
             ],
             [
              0.2222222222222222,
              "#7201a8"
             ],
             [
              0.3333333333333333,
              "#9c179e"
             ],
             [
              0.4444444444444444,
              "#bd3786"
             ],
             [
              0.5555555555555556,
              "#d8576b"
             ],
             [
              0.6666666666666666,
              "#ed7953"
             ],
             [
              0.7777777777777778,
              "#fb9f3a"
             ],
             [
              0.8888888888888888,
              "#fdca26"
             ],
             [
              1,
              "#f0f921"
             ]
            ],
            "type": "histogram2d"
           }
          ],
          "histogram2dcontour": [
           {
            "colorbar": {
             "outlinewidth": 0,
             "ticks": ""
            },
            "colorscale": [
             [
              0,
              "#0d0887"
             ],
             [
              0.1111111111111111,
              "#46039f"
             ],
             [
              0.2222222222222222,
              "#7201a8"
             ],
             [
              0.3333333333333333,
              "#9c179e"
             ],
             [
              0.4444444444444444,
              "#bd3786"
             ],
             [
              0.5555555555555556,
              "#d8576b"
             ],
             [
              0.6666666666666666,
              "#ed7953"
             ],
             [
              0.7777777777777778,
              "#fb9f3a"
             ],
             [
              0.8888888888888888,
              "#fdca26"
             ],
             [
              1,
              "#f0f921"
             ]
            ],
            "type": "histogram2dcontour"
           }
          ],
          "mesh3d": [
           {
            "colorbar": {
             "outlinewidth": 0,
             "ticks": ""
            },
            "type": "mesh3d"
           }
          ],
          "parcoords": [
           {
            "line": {
             "colorbar": {
              "outlinewidth": 0,
              "ticks": ""
             }
            },
            "type": "parcoords"
           }
          ],
          "pie": [
           {
            "automargin": true,
            "type": "pie"
           }
          ],
          "scatter": [
           {
            "fillpattern": {
             "fillmode": "overlay",
             "size": 10,
             "solidity": 0.2
            },
            "type": "scatter"
           }
          ],
          "scatter3d": [
           {
            "line": {
             "colorbar": {
              "outlinewidth": 0,
              "ticks": ""
             }
            },
            "marker": {
             "colorbar": {
              "outlinewidth": 0,
              "ticks": ""
             }
            },
            "type": "scatter3d"
           }
          ],
          "scattercarpet": [
           {
            "marker": {
             "colorbar": {
              "outlinewidth": 0,
              "ticks": ""
             }
            },
            "type": "scattercarpet"
           }
          ],
          "scattergeo": [
           {
            "marker": {
             "colorbar": {
              "outlinewidth": 0,
              "ticks": ""
             }
            },
            "type": "scattergeo"
           }
          ],
          "scattergl": [
           {
            "marker": {
             "colorbar": {
              "outlinewidth": 0,
              "ticks": ""
             }
            },
            "type": "scattergl"
           }
          ],
          "scattermap": [
           {
            "marker": {
             "colorbar": {
              "outlinewidth": 0,
              "ticks": ""
             }
            },
            "type": "scattermap"
           }
          ],
          "scattermapbox": [
           {
            "marker": {
             "colorbar": {
              "outlinewidth": 0,
              "ticks": ""
             }
            },
            "type": "scattermapbox"
           }
          ],
          "scatterpolar": [
           {
            "marker": {
             "colorbar": {
              "outlinewidth": 0,
              "ticks": ""
             }
            },
            "type": "scatterpolar"
           }
          ],
          "scatterpolargl": [
           {
            "marker": {
             "colorbar": {
              "outlinewidth": 0,
              "ticks": ""
             }
            },
            "type": "scatterpolargl"
           }
          ],
          "scatterternary": [
           {
            "marker": {
             "colorbar": {
              "outlinewidth": 0,
              "ticks": ""
             }
            },
            "type": "scatterternary"
           }
          ],
          "surface": [
           {
            "colorbar": {
             "outlinewidth": 0,
             "ticks": ""
            },
            "colorscale": [
             [
              0,
              "#0d0887"
             ],
             [
              0.1111111111111111,
              "#46039f"
             ],
             [
              0.2222222222222222,
              "#7201a8"
             ],
             [
              0.3333333333333333,
              "#9c179e"
             ],
             [
              0.4444444444444444,
              "#bd3786"
             ],
             [
              0.5555555555555556,
              "#d8576b"
             ],
             [
              0.6666666666666666,
              "#ed7953"
             ],
             [
              0.7777777777777778,
              "#fb9f3a"
             ],
             [
              0.8888888888888888,
              "#fdca26"
             ],
             [
              1,
              "#f0f921"
             ]
            ],
            "type": "surface"
           }
          ],
          "table": [
           {
            "cells": {
             "fill": {
              "color": "#EBF0F8"
             },
             "line": {
              "color": "white"
             }
            },
            "header": {
             "fill": {
              "color": "#C8D4E3"
             },
             "line": {
              "color": "white"
             }
            },
            "type": "table"
           }
          ]
         },
         "layout": {
          "annotationdefaults": {
           "arrowcolor": "#2a3f5f",
           "arrowhead": 0,
           "arrowwidth": 1
          },
          "autotypenumbers": "strict",
          "coloraxis": {
           "colorbar": {
            "outlinewidth": 0,
            "ticks": ""
           }
          },
          "colorscale": {
           "diverging": [
            [
             0,
             "#8e0152"
            ],
            [
             0.1,
             "#c51b7d"
            ],
            [
             0.2,
             "#de77ae"
            ],
            [
             0.3,
             "#f1b6da"
            ],
            [
             0.4,
             "#fde0ef"
            ],
            [
             0.5,
             "#f7f7f7"
            ],
            [
             0.6,
             "#e6f5d0"
            ],
            [
             0.7,
             "#b8e186"
            ],
            [
             0.8,
             "#7fbc41"
            ],
            [
             0.9,
             "#4d9221"
            ],
            [
             1,
             "#276419"
            ]
           ],
           "sequential": [
            [
             0,
             "#0d0887"
            ],
            [
             0.1111111111111111,
             "#46039f"
            ],
            [
             0.2222222222222222,
             "#7201a8"
            ],
            [
             0.3333333333333333,
             "#9c179e"
            ],
            [
             0.4444444444444444,
             "#bd3786"
            ],
            [
             0.5555555555555556,
             "#d8576b"
            ],
            [
             0.6666666666666666,
             "#ed7953"
            ],
            [
             0.7777777777777778,
             "#fb9f3a"
            ],
            [
             0.8888888888888888,
             "#fdca26"
            ],
            [
             1,
             "#f0f921"
            ]
           ],
           "sequentialminus": [
            [
             0,
             "#0d0887"
            ],
            [
             0.1111111111111111,
             "#46039f"
            ],
            [
             0.2222222222222222,
             "#7201a8"
            ],
            [
             0.3333333333333333,
             "#9c179e"
            ],
            [
             0.4444444444444444,
             "#bd3786"
            ],
            [
             0.5555555555555556,
             "#d8576b"
            ],
            [
             0.6666666666666666,
             "#ed7953"
            ],
            [
             0.7777777777777778,
             "#fb9f3a"
            ],
            [
             0.8888888888888888,
             "#fdca26"
            ],
            [
             1,
             "#f0f921"
            ]
           ]
          },
          "colorway": [
           "#636efa",
           "#EF553B",
           "#00cc96",
           "#ab63fa",
           "#FFA15A",
           "#19d3f3",
           "#FF6692",
           "#B6E880",
           "#FF97FF",
           "#FECB52"
          ],
          "font": {
           "color": "#2a3f5f"
          },
          "geo": {
           "bgcolor": "white",
           "lakecolor": "white",
           "landcolor": "#E5ECF6",
           "showlakes": true,
           "showland": true,
           "subunitcolor": "white"
          },
          "hoverlabel": {
           "align": "left"
          },
          "hovermode": "closest",
          "mapbox": {
           "style": "light"
          },
          "paper_bgcolor": "white",
          "plot_bgcolor": "#E5ECF6",
          "polar": {
           "angularaxis": {
            "gridcolor": "white",
            "linecolor": "white",
            "ticks": ""
           },
           "bgcolor": "#E5ECF6",
           "radialaxis": {
            "gridcolor": "white",
            "linecolor": "white",
            "ticks": ""
           }
          },
          "scene": {
           "xaxis": {
            "backgroundcolor": "#E5ECF6",
            "gridcolor": "white",
            "gridwidth": 2,
            "linecolor": "white",
            "showbackground": true,
            "ticks": "",
            "zerolinecolor": "white"
           },
           "yaxis": {
            "backgroundcolor": "#E5ECF6",
            "gridcolor": "white",
            "gridwidth": 2,
            "linecolor": "white",
            "showbackground": true,
            "ticks": "",
            "zerolinecolor": "white"
           },
           "zaxis": {
            "backgroundcolor": "#E5ECF6",
            "gridcolor": "white",
            "gridwidth": 2,
            "linecolor": "white",
            "showbackground": true,
            "ticks": "",
            "zerolinecolor": "white"
           }
          },
          "shapedefaults": {
           "line": {
            "color": "#2a3f5f"
           }
          },
          "ternary": {
           "aaxis": {
            "gridcolor": "white",
            "linecolor": "white",
            "ticks": ""
           },
           "baxis": {
            "gridcolor": "white",
            "linecolor": "white",
            "ticks": ""
           },
           "bgcolor": "#E5ECF6",
           "caxis": {
            "gridcolor": "white",
            "linecolor": "white",
            "ticks": ""
           }
          },
          "title": {
           "x": 0.05
          },
          "xaxis": {
           "automargin": true,
           "gridcolor": "white",
           "linecolor": "white",
           "ticks": "",
           "title": {
            "standoff": 15
           },
           "zerolinecolor": "white",
           "zerolinewidth": 2
          },
          "yaxis": {
           "automargin": true,
           "gridcolor": "white",
           "linecolor": "white",
           "ticks": "",
           "title": {
            "standoff": 15
           },
           "zerolinecolor": "white",
           "zerolinewidth": 2
          }
         }
        },
        "xaxis": {
         "anchor": "y",
         "domain": [
          0,
          1
         ],
         "title": {
          "text": "UMAP_1"
         }
        },
        "yaxis": {
         "anchor": "x",
         "domain": [
          0,
          1
         ],
         "title": {
          "text": "UMAP_2"
         }
        }
       }
      }
     },
     "metadata": {},
     "output_type": "display_data"
    }
   ],
   "source": [
    "rows = []\n",
    "for x, y, label, record in zip(X_umap[:, 0], X_umap[:, 1], cluster_labels, records):\n",
    "    row = {\n",
    "        'UMAP_1': x,\n",
    "        'UMAP_2': y,\n",
    "        'cluster': label,\n",
    "        'id': record.id,\n",
    "    }\n",
    "    row.update(record.payload or {})  # add all payload fields\n",
    "    rows.append(row)\n",
    "\n",
    "df = pd.DataFrame(rows)\n",
    "\n",
    "fig = px.scatter(\n",
    "    df,\n",
    "    x='UMAP_1',\n",
    "    y='UMAP_2',\n",
    "    color='cluster',\n",
    "    hover_data=list(payload_keys) + ['id', 'cluster'],\n",
    ")\n",
    "fig.show()"
   ]
  },
  {
   "cell_type": "code",
   "execution_count": null,
   "id": "c2b89f3c",
   "metadata": {},
   "outputs": [],
   "source": [
    "# len(math_expression_relationships)\n",
    "# 2389 < 2735 because llm decided that some of them are not connected\n",
    "# gpt 4o: 2389\n",
    "# gpt 4o nano: 2692 (bad)"
   ]
  }
 ],
 "metadata": {
  "kernelspec": {
   "display_name": ".venv",
   "language": "python",
   "name": "python3"
  },
  "language_info": {
   "codemirror_mode": {
    "name": "ipython",
    "version": 3
   },
   "file_extension": ".py",
   "mimetype": "text/x-python",
   "name": "python",
   "nbconvert_exporter": "python",
   "pygments_lexer": "ipython3",
   "version": "3.12.7"
  }
 },
 "nbformat": 4,
 "nbformat_minor": 5
}
