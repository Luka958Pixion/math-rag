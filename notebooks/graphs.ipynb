{
 "cells": [
  {
   "cell_type": "code",
   "execution_count": 1,
   "id": "f32ba622",
   "metadata": {},
   "outputs": [],
   "source": [
    "from typing import TYPE_CHECKING\n",
    "\n",
    "\n",
    "if TYPE_CHECKING:\n",
    "    from math_rag.application.containers import ApplicationContainer\n",
    "    from math_rag.infrastructure.containers import InfrastructureContainer\n",
    "\n",
    "    application_container: ApplicationContainer\n",
    "    infrastructure_container: InfrastructureContainer"
   ]
  },
  {
   "cell_type": "code",
   "execution_count": null,
   "id": "0c020d58",
   "metadata": {},
   "outputs": [
    {
     "name": "stderr",
     "output_type": "stream",
     "text": [
      "2025-06-23 20:54:19,085 - INFO - datasets - config.py:54 - PyTorch version 2.6.0 available.\n"
     ]
    }
   ],
   "source": [
    "RESET = False\n",
    "%load_ext hooks.notebook_hook"
   ]
  },
  {
   "cell_type": "code",
   "execution_count": null,
   "id": "eb39d1d0",
   "metadata": {},
   "outputs": [],
   "source": [
    "from pathlib import Path\n",
    "\n",
    "\n",
    "google_drive_repository = infrastructure_container.google_drive_repository()\n",
    "math_article_parser_service = infrastructure_container.math_article_parser_service()\n",
    "\n",
    "file_id = google_drive_repository.get_file_id(\n",
    "    Path('ml/lectures/L07-LogisticRegression2/2024_08_10_2174b40686820b4cb591g.tex')\n",
    ")\n",
    "\n",
    "if not file_id:\n",
    "    raise ValueError()\n",
    "\n",
    "file_content = google_drive_repository.get_file_by_id(file_id)"
   ]
  },
  {
   "cell_type": "code",
   "execution_count": null,
   "id": "5aad9ce7",
   "metadata": {},
   "outputs": [],
   "source": [
    "from math_rag.core.models import MathArticle, MathExpression\n",
    "\n",
    "\n",
    "math_article = MathArticle(\n",
    "    math_expression_dataset_id=None,\n",
    "    index_id=None,\n",
    "    name='article',\n",
    "    bytes=file_content.getvalue(),\n",
    ")\n",
    "math_nodes_, _, template = math_article_parser_service.parse_for_index(math_article)\n",
    "math_expressions: list[MathExpression] = ...  # NOTE obtained from math_nodes_\n",
    "index_to_katex = {i: math_expression.katex for i, math_expression in enumerate(math_expressions)}"
   ]
  },
  {
   "cell_type": "code",
   "execution_count": null,
   "id": "53e5d8c5",
   "metadata": {},
   "outputs": [],
   "source": [
    "from math_rag.infrastructure.utils import TemplateContextChunkerUtil, TemplateFormatterUtil\n",
    "\n",
    "\n",
    "template_chunks = TemplateContextChunkerUtil.chunk(template, max_context_size=1000)\n",
    "chunks = [\n",
    "    TemplateFormatterUtil.format(chunk, index_to_katex, omit_wrapper=False)\n",
    "    for chunk in template_chunks\n",
    "]\n",
    "\n",
    "# TODO send to llm\n",
    "# 1. MathExpressionDescriptionWriter\n",
    "# 2. MathExpressionDescriptionRefiner\n",
    "# 3. MathExpressionLinker?? -> checks whether 2 descriptions are actually the same (embedding clustering before)\n",
    "#\n",
    "\n",
    "\n",
    "class MathExpressionDescription:\n",
    "    pass"
   ]
  }
 ],
 "metadata": {
  "kernelspec": {
   "display_name": ".venv",
   "language": "python",
   "name": "python3"
  },
  "language_info": {
   "codemirror_mode": {
    "name": "ipython",
    "version": 3
   },
   "file_extension": ".py",
   "mimetype": "text/x-python",
   "name": "python",
   "nbconvert_exporter": "python",
   "pygments_lexer": "ipython3",
   "version": "3.12.7"
  }
 },
 "nbformat": 4,
 "nbformat_minor": 5
}
