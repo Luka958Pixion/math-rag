{
 "cells": [
  {
   "cell_type": "code",
   "execution_count": 1,
   "id": "f32ba622",
   "metadata": {},
   "outputs": [],
   "source": [
    "from typing import TYPE_CHECKING\n",
    "\n",
    "\n",
    "if TYPE_CHECKING:\n",
    "    from math_rag.application.containers import ApplicationContainer\n",
    "    from math_rag.infrastructure.containers import InfrastructureContainer\n",
    "\n",
    "    application_container: ApplicationContainer\n",
    "    infrastructure_container: InfrastructureContainer"
   ]
  },
  {
   "cell_type": "code",
   "execution_count": 2,
   "id": "0c020d58",
   "metadata": {},
   "outputs": [
    {
     "name": "stderr",
     "output_type": "stream",
     "text": [
      "2025-07-11 11:49:22,098 - INFO - datasets - config.py:54 - PyTorch version 2.6.0 available.\n"
     ]
    }
   ],
   "source": [
    "RESET = False\n",
    "%load_ext hooks.notebook_hook"
   ]
  },
  {
   "cell_type": "code",
   "execution_count": 3,
   "id": "eb39d1d0",
   "metadata": {},
   "outputs": [
    {
     "name": "stderr",
     "output_type": "stream",
     "text": [
      "2025-07-11 11:49:22,899 - INFO - googleapiclient.discovery_cache - __init__.py:49 - file_cache is only supported with oauth2client<4.0.0\n"
     ]
    }
   ],
   "source": [
    "from pathlib import Path\n",
    "\n",
    "\n",
    "google_drive_repository = infrastructure_container.google_drive_repository()\n",
    "math_article_parser_service = infrastructure_container.math_article_parser_service()\n",
    "\n",
    "file_id = google_drive_repository.get_file_id(\n",
    "    Path('ml/lectures/L07-LogisticRegression2/2024_08_10_2174b40686820b4cb591g.tex')\n",
    ")\n",
    "\n",
    "if not file_id:\n",
    "    raise ValueError()\n",
    "\n",
    "file_content = google_drive_repository.get_file_by_id(file_id)"
   ]
  },
  {
   "cell_type": "code",
   "execution_count": null,
   "id": "081db754",
   "metadata": {},
   "outputs": [],
   "source": [
    "from math_rag.core.models import MathExpressionIndex\n",
    "\n",
    "\n",
    "index = MathExpressionIndex()"
   ]
  },
  {
   "cell_type": "code",
   "execution_count": null,
   "id": "92db620c",
   "metadata": {},
   "outputs": [],
   "source": [
    "katex_corrector_assistant = application_container.katex_corrector_assistant()\n",
    "katex_corrector_retrier_assistant = application_container.katex_corrector_retrier_assistant()\n",
    "math_expression_description_writer_assistant = (\n",
    "    application_container.math_expression_description_writer_assistant()\n",
    ")\n",
    "math_expression_description_optimizer_assistant = (\n",
    "    application_container.math_expression_description_optimizer_assistant()\n",
    ")\n",
    "math_expression_comparator_assistant = application_container.math_expression_comparator_assistant()\n",
    "math_expression_relationship_description_writer_assistant = (\n",
    "    application_container.math_expression_relationship_description_writer_assistant()\n",
    ")\n",
    "\n",
    "default_embedder = application_container.default_embedder()\n",
    "math_expression_description_opt_repository = (\n",
    "    infrastructure_container.math_expression_description_opt_repository()\n",
    ")\n",
    "math_expression_description_repository = (\n",
    "    infrastructure_container.math_expression_description_repository()\n",
    ")\n",
    "math_expression_group_repository = infrastructure_container.math_expression_group_repository()\n",
    "math_expression_repository = infrastructure_container.math_expression_repository()\n",
    "clusterer_service = application_container.clusterer_service()"
   ]
  },
  {
   "cell_type": "markdown",
   "id": "04a0146e",
   "metadata": {},
   "source": [
    "## Nodes"
   ]
  },
  {
   "cell_type": "markdown",
   "id": "816adeb6",
   "metadata": {},
   "source": [
    "### 1"
   ]
  },
  {
   "cell_type": "code",
   "execution_count": null,
   "id": "5aad9ce7",
   "metadata": {},
   "outputs": [],
   "source": [
    "from math_rag.core.models import MathArticle, MathExpression\n",
    "\n",
    "\n",
    "math_article = MathArticle(\n",
    "    math_expression_dataset_id=None,\n",
    "    math_expression_index_id=None,\n",
    "    name='article',\n",
    "    bytes=file_content.getvalue(),\n",
    ")\n",
    "math_nodes, _, template = math_article_parser_service.parse_for_index(math_article)\n",
    "katexes = [math_node.latex.strip('$') for math_node in math_nodes]"
   ]
  },
  {
   "cell_type": "code",
   "execution_count": 8,
   "id": "9ff89ae9",
   "metadata": {},
   "outputs": [
    {
     "name": "stdout",
     "output_type": "stream",
     "text": [
      "\n",
      "Jan Šnajder, lectures, v2.0\n",
      "\n",
      "Last time we introduced the logistic regression algorithm. We defined the model and derived the cross-entropy error function as the negative probability of the labels in the training set. We established that minimizing that error had no solution in closed form, so we turned to iterative procedures. We have considered the simplest such procedure, the gradient descent algorithm, and we applied it to logistic regression, in standard (batch) and stochastic variant. In the end, we talked about regularization, specifically [math_placeholder | 0] regularization, which we incorporated quite straightforwardly into the optimization process.\n",
      "\n",
      "Today we'll talk a bit more about logistic regression. First, we'll consider some more efficient (read: faster) alternatives to gradient descent. Second, we'll consider the extension of binary logistic regression to multiclass logistic regression. Third, we'll look at all the models discussed thus far and see what they have in common and how they can be generalized. Finally, we'll talk about adaptive basis functions, which is a way to learn the feature mapping function directly from data, instead of defining it manually.\n",
      "\n",
      "Unlike previous lectures, this one won't go into details, because we do not have the time for this. My goal is to give you enough information to know where to look for more, should you feel motivated to do so or if you need it\n",
      "\n",
      "\n",
      "Last time we established that the gradient descent needs to be coupled with line search, otherwise there is no guarantee for global convergence. This means that, depending on where the descent initially starts, it can happen that the gradient descent does not converge but diverge (effectively it starts to ascend instead of descend). Line search prevents this from happening. However, line search can result in a zig-zag descent. Let's recall the figure we discussed last time:\n",
      "\n",
      "\n",
      "[image_placeholder | 0]\n",
      "\n",
      "\n",
      "The blue trajectory corresponds to the best scenario, and the red to the worst-case scenario for a gradient descent with line search. Which one will play out depends on the choice of the starting point of the search. As we can see, it can happen that the descent zig-zags quite a lot, which means that the optimization will consume a lot of iterations. Obviously, the problem arises because the descent direction is not as good as it could be. Imagine descending into a pit from the starting point for the red trajectory. It is hard to imagine that you will descend\n",
      "as pointed to by the line. It is more likely that the gravity would pull you and your descend direction would be steeper (i.e., at a smaller angle to the blue line). This reasoning of ours is based on the curvature of the isocontours (that is, the curvature of the surface down which we descend). In other words, the curvature of the surface gives us, in addition to the gradient, additional information about where the minimum is likely to be located (at least when it comes to convex functions).\n",
      "\n",
      "The above observations apply to the standard (batch) gradient. In stochastic gradient descent we typically do not use line search. But there the descent will zig-zag quite a lot anyway, since each step is taken based on the gradient calculated for a single example. In the following, we focus on non-stochastic, i.e., batch gradient descent.\n",
      "\n",
      "Based on the above consideration, we can conclude that the batch gradient descent could be improved if we take into account not only the slope (gradient) but also the curvature (the change in gradient, i.e., the second derivative) of the error function. Such optimization methods are referred to as second-order optimization, as opposed to first-order optimization methods, such as gradient descent. The basic second-order optimization method is the Newton's method.\n",
      "\n",
      "\n",
      "Consider minimization of function [math_placeholder | 1]. We know that the parameter update in gradient descent is as follows:\n",
      "\n",
      "[math_placeholder | 2]\n",
      "\n",
      "If we introduce an index for the iterations, then we can write this as an equation:\n",
      "\n",
      "[math_placeholder | 3]\n",
      "\n",
      "The idea with Newton's method is to take the point [math_placeholder | 4] (the current minimum) and compute at it the quadratic approximation of the function [math_placeholder | 5], and then move to the minimizer of this quadratic approximation (which is known analytically). If [math_placeholder | 6] is a function of one variable, this would look like this:\n",
      "\n",
      "\n",
      "[image_placeholder | 1]\n",
      "\n",
      "\n",
      "The black curve is the function [math_placeholder | 7] that we minimize. We start from point [math_placeholder | 8]. At this point we do a quadratic approximation of the function [math_placeholder | 9], thus obtaining a parabola that is tangential to the function [math_placeholder | 10] at the point [math_placeholder | 11]. The search then moves to a point that minimizes the quadratic approximation of [math_placeholder | 12]. In the picture it is the point [math_placeholder | 13]. At that point we again do a quadratic approximation of the function [math_placeholder | 14] and move to the point that minimizes that approximation. The procedure is repeated until the update is small enough.\n",
      "\n",
      "The methods works just the same for functions of several variables, i.e., in a multidimensional parameter space. In a two-dimensional space, it looks like this:\n",
      "\n",
      "\n",
      "[image_placeholder | 2]\n",
      "\n",
      "\n",
      "So, the idea is to take the step exactly so that we land in the minimum of the quadratic approximation. This will work well if [math_placeholder | 15] is a convex function, which happens to be the case with logistic regression.\n",
      "\n",
      "Let us now deal with the technical details. We need to find a quadratic approximation of a function at some point. How can we do this? Recall, from calculus, that every differentiable function [math_placeholder | 16] can be expressed at some given point [math_placeholder | 17] in the form of a power series. More precisely, every differentiable function can be expanded into a Taylor series about the point [math_placeholder | 18], as follows:\n",
      "\n",
      "[math_placeholder | 19]\n",
      "\n",
      "As we only need a quadratic approximation, we will take only the first three terms of the Taylor series. This then is the second-order Taylor expansion:\n",
      "\n",
      "[math_placeholder | 20]\n",
      "\n",
      "Note that this now is an approximation; the equality between [math_placeholder | 21] on the left-hand side and the series on the right-hand side is valid only when the series is infinite.\n",
      "\n",
      "Our error function, [math_placeholder | 22], is a function of multiple variables (i.e., vector w). For a multivariate function [math_placeholder | 23], the quadratic expansion about the point [math_placeholder | 24] is:\n",
      "\n",
      "[math_placeholder | 25]\n",
      "\n",
      "where [math_placeholder | 26] is the Hessian matrix (hrv. Hesseova matrica) of function [math_placeholder | 27] at point [math_placeholder | 28]. The Hessian matrix is a square [math_placeholder | 29] matrix of second-order partial derivatives of function [math_placeholder | 30], which is a function that maps [math_placeholder | 31]-dimensional vectors into scalars. The Hessian matrix is defined as follows:\n",
      "\n",
      "[math_placeholder | 32]\n",
      "\n",
      "that is, an element of the Hessian matrix is defined as:\n",
      "\n",
      "[math_placeholder | 33]\n",
      "\n",
      "Note that the Hessian matrix is a symmetric matrix, as the order of partial differentiation does not affect the result (commutativity).\n",
      "\n",
      "Using the expansion of the quadratic function [math_placeholder | 34], one can now derive its minimum, which us exactly where we want to step to when descending (we omit the derivation). The parameter update is then:\n",
      "\n",
      "[math_placeholder | 35]\n",
      "\n",
      "If the Hessian matrix is computed exactly (i.e., it is not an approximation), then we can set [math_placeholder | 36], because then the step will land exactly in the minimum of the quadratic approximation.\n",
      "\n",
      "We see that the Newton's optimization method requires us to compute the inverse of the Hessian matrix. In general, the Hessian matrix [math_placeholder | 37] is positive semi-definite ( [math_placeholder | 38] for every non-zero vector [math_placeholder | 39] ) if and only if [math_placeholder | 40] is a convex function. However, for its inverse to exist, the matrix [math_placeholder | 41] has to be positive definite ( [math_placeholder | 42] for each non-zero vector [math_placeholder | 43] ). If [math_placeholder | 44] is positive semi-definite, but not positive definite, then [math_placeholder | 45] has no inverse and we cannot apply the Newton's method.\n",
      "\n",
      "\n",
      "Let us now apply Newton's procedure to logistic regression. The weights update rule is as follows:\n",
      "\n",
      "[math_placeholder | 46]\n",
      "\n",
      "One can easily derive that the Hessian matrix for the cross-entropy error equals:\n",
      "\n",
      "[math_placeholder | 47]\n",
      "\n",
      "where [math_placeholder | 48], i.e., a diagonal matrix that on its diagonal has the firstorder derivatives of the logistic output [math_placeholder | 49] for each of the [math_placeholder | 50] examples from the training set. Just in case, let's check the compatibility of the matrices we multiply here: [math_placeholder | 51] [math_placeholder | 52]. Everything is fine: the dimension of the matrix [math_placeholder | 53] is [math_placeholder | 54], where [math_placeholder | 55] is the number of features in the feature space (i.e., after mapping).\n",
      "\n",
      "Let's go back quickly to the problem of computing the inverse of the Hessian matrix [math_placeholder | 56]. As we already said, [math_placeholder | 57] is positive semi-definite if and only if the function is convex. The crossentropy error is convex, so the [math_placeholder | 58] matrix for logistic regression will be positive semi-definite. But this alone does not guarantee it is invertible. However, one can show that the Hessian matrix [math_placeholder | 59] of cross-entropy, which can be decomposed as [math_placeholder | 60], must be positive definite. In other words, the Hessian matrix of the cross entropy error always has an inverse, so we can always use the Newton's method to optimize the parameters of logistic regression. However, due to multicollinearity, [math_placeholder | 61] may be ill-conditioned and in this case the solution will be unstable, which means we have to either select a linearly independent subset of features or apply regularization (we'll see how soon).\n",
      "\n",
      "If we were now to plug in [math_placeholder | 62] for [math_placeholder | 63] in the weights update rule above, and rearrange the expression a bit, we would obtain the iteratively reweighted least squares (IRLS) algorithm (hrv. algoritam najmanjih kvadrata s iterativnim ažuriranjem težina). We won't go into the details; it suffices for you to know that this algorithm is used for faster optimization for logistic regression, and that it is in fact an application of the Newton's method, which is a second-order optimization procedure.\n",
      "\n",
      "\n",
      "The problem with Newton's method (and thus with IRLS) is that the computation of the Hessian (and especially its inverse) can be expensive (especially if [math_placeholder | 64], the number of dimensions of the feature space, is large). Note that one has to compute the Hessian matrix and its inverse in every step of the optimization procedure. It might well be the case that doing gradient descent is less taxing computationally, even if the descent zig-zags a lot!\n",
      "\n",
      "The alternative is that, instead of computing the exact Hessian matrix, we compute its approximation. This is what the so-called quasi-Newton methods do. These procedures using the gradient vectors (from the current and previous step) to approximate the Hessian matrix (or its inverse) in each step of the descent. The most common such method is the BFSG algorithm. Again, we won't go into details, we just want you to be aware that the method exists.\n",
      "\n",
      "Another problem is that, even if we approximate the Hessian matrix, storing it in memory can be problematic because its dimensions are [math_placeholder | 65]. In that case, the matrix can be \"compressed\" using a low-rank approximation method. The algorithm that works that way is the limited BFSG (L-BFSG) (hrv. ograničen BFSG). Again, it suffices for you to know that this algorithm exists.\n",
      "\n",
      "\n",
      "We already know about the benefits of regularization, and last time we talked about the additional benefit of regularization in logistic regression (when optimizing the parameters for linearly separable problems, we have [math_placeholder | 66] and logistic regression overfits easily). Extending the Newton's method to regularized cross-entropy error is simple. Let's look at [math_placeholder | 67] regulation. We already considered adding the [math_placeholder | 68] regularization term to the gradient:\n",
      "\n",
      "[math_placeholder | 69]\n",
      "\n",
      "We have the same for the Hessian matrix:\n",
      "\n",
      "[math_placeholder | 70]\n",
      "\n",
      "where [math_placeholder | 71] is a diagonal matrix with a regularization factor [math_placeholder | 72] on the diagonal (except for the upper-left element, because the weight [math_placeholder | 73] is not regularized).\n",
      "\n",
      "We see, thus, that [math_placeholder | 74] regularization is easily incorporated into the gradient descent and in the Newton's method, and it was just as easily incorporated into the least squares optimization method for the linear regression. All in all, [math_placeholder | 75] regularization is a tame beast.\n",
      "\n",
      "What about [math_placeholder | 76] regularization? So far, we haven't dealt with it at all, and we won't deal with it now, either. Let it be said that things get complicated here, which is expected because [math_placeholder | 77] norm is not differentiable, so we cannot calculate the gradient. We instead compute the subgradient (engl. podgradijent). We then typically use the coordinate descent (engl. koordinatni spust), where we optimize by each variable in term (dimension after dimension), or we use proximal or projection optimization methods. For now, you only need to know that optimization for [math_placeholder | 78] regularized logistic regression is possible, that there are algorithms for it, and that they are implemented in standard tools.\n",
      "\n",
      "\n",
      "Last time we talked about binary logistic regression: we classified into classes [math_placeholder | 79] and [math_placeholder | 80]. To get the probabilities, we used the sigmoid for the activation function:\n",
      "\n",
      "[math_placeholder | 81]\n",
      "\n",
      "But what if we have more than two classes, i.e. [math_placeholder | 82] ? We could apply the OVO or OVR decomposition scheme, but the problem is that the probabilities for the individual classes would not add up to 1 . Moreover, in statistical sense the estimates for the parameters for the individual models are less reliable than estimates for a model that considers all classes at once. Instead, it's better to use the multinomial logistic regression (MNR, occasionally MLR), also referred to as maximum entropy classifier (hrv. klasifikator maksimalne entropije).\n",
      "\n",
      "\n",
      "The idea is actually very simple: use a separate weight vector [math_placeholder | 83] for each of the [math_placeholder | 84] classes, but then pass the scalar product [math_placeholder | 85] through an appropriate activation function to be make sure that the probabilities of all classes add up to 1. A function that does exactly this is the softmax\n",
      "\n",
      "function. For some input example [math_placeholder | 86], the softmax function takes the values [math_placeholder | 87] for each of the [math_placeholder | 88] classes, i.e., a [math_placeholder | 89]-dimensional vector, and maps them to a [math_placeholder | 90]-dimensional vector whose components sum to 1 . Formally, softmax : [math_placeholder | 91], where [math_placeholder | 92] is the component of the output vector equal to:\n",
      "\n",
      "[math_placeholder | 93]\n",
      "\n",
      "The softmax function accomplishes two things: it normalizes all values to a total of 1 , but it also amplifies the larger values and attenuates the smaller values. The function is called softmax because it corresponds a \"soft\" variant of the max function (in the sense that, unlike the max function, it is continuous and differentiable). Let's look at an example.\n",
      "\n",
      "[math_placeholder | 94] EXAMPLE\n",
      "\n",
      "\n",
      "[image_placeholder | 3]\n",
      "\n",
      "\n",
      "[math_placeholder | 95]\n",
      "\n",
      "\n",
      "[image_placeholder | 4]\n",
      "\n",
      "\n",
      "[math_placeholder | 96]\n",
      "\n",
      "We will define the model [math_placeholder | 97] of multinomial logistic regression as a set of models [math_placeholder | 98], where each model [math_placeholder | 99] is responsible for class [math_placeholder | 100] out of [math_placeholder | 101] classes. We define each model [math_placeholder | 102] so that it outputs the probability of example [math_placeholder | 103] belonging to class [math_placeholder | 104], using the softmax function:\n",
      "\n",
      "[math_placeholder | 105]\n",
      "\n",
      "where [math_placeholder | 106] is a matrix [math_placeholder | 107] weight vectors [math_placeholder | 108]. Note that, by virtue of the softmax function, the model [math_placeholder | 109] for class [math_placeholder | 110] takes into account the outputs of the other [math_placeholder | 111] models for the remaining classes.\n",
      "\n",
      "This defines the model. Let us now derive the error function.\n",
      "\n",
      "\n",
      "In binary logistic regression, we defined derived the error function staring from the negative logarithm of the probability of the labels. The labels were binary, [math_placeholder | 112], that is, they were Bernoulli variables. Now, since the output of multiclass regression can take more than two [math_placeholder | 113] values, then we move to categorical variable, which is also also called multinomial, or, perhaps better, the multinoulli variable. We represent such a variable as a vector of indicator (binary) variables:\n",
      "\n",
      "[math_placeholder | 114]\n",
      "\n",
      "where [math_placeholder | 115] if the outcome of the variable is [math_placeholder | 116], otherwise [math_placeholder | 117]. For example, [math_placeholder | 118] indicates that the multinomial variable has taken the third state out of four possible states. [math_placeholder | 119] is valid (outcomes are mutually exclusive and complete). Let's denote the probability [math_placeholder | 120] as [math_placeholder | 121].\n",
      "\n",
      "We will now define the distribution of this variable. Recall, the distribution of the Bernoulli variable, which has only two values, [math_placeholder | 122] and [math_placeholder | 123], is defined via the [math_placeholder | 124] parameter as follows:\n",
      "\n",
      "[math_placeholder | 125]\n",
      "\n",
      "We can generalize this to [math_placeholder | 126] values as follows. First, we need [math_placeholder | 127] parameters, so we will define a parameter vector:\n",
      "\n",
      "[math_placeholder | 128]\n",
      "\n",
      "where parameters [math_placeholder | 129] satisfy [math_placeholder | 130] and [math_placeholder | 131], as they represent probabilities.\n",
      "\n",
      "Now, by analogy with the Bernoulli distribution, the distribution of a categorical variable can be defined as:\n",
      "\n",
      "[math_placeholder | 132]\n",
      "\n",
      "Note: as with binary logistic regression, the probability that example [math_placeholder | 133] belongs to class [math_placeholder | 134] is exactly what we are given by the model:\n",
      "\n",
      "[math_placeholder | 135]\n",
      "\n",
      "Now we can finally write the logarithm of the probability of the labels from [math_placeholder | 136] as:\n",
      "\n",
      "[math_placeholder | 137]\n",
      "\n",
      "The error function we wish to minimize is the negative logarithm of the probability of the labels:\n",
      "\n",
      "[math_placeholder | 138]\n",
      "\n",
      "We see that we arrived at the generalization of the cross-entropy error to [math_placeholder | 139] classes. Also, from this we can read off the loss function as:\n",
      "\n",
      "[math_placeholder | 140]\n",
      "\n",
      "The logic is the same as with binary logistic regression: if the label [math_placeholder | 141] of some example [math_placeholder | 142] for class [math_placeholder | 143] is equal to 1 , then we want the model prediction (softmax output) to be a high probability close to 1 , because then [math_placeholder | 144] and the loss will be zero. Otherwise, if the model for the example whose label is 1 gives a value close to 0 , then the logarithm will be a large negative number, its negation will be a large positive number, and consequently the loss will be large.\n",
      "\n",
      "\n",
      "As with binary logistic regression, we cannot minimize [math_placeholder | 145] in closed form, so we need to rely on iterative optimization. For gradient descent, one can show (although it is a bit clumsy) that the gradient of the error function is equal to:\n",
      "\n",
      "[math_placeholder | 146]\n",
      "\n",
      "This is the gradient of the weights specifically for class [math_placeholder | 147]. The idea is that we can update the weights for each class separately. From this we can directly derive the stochastic gradient descent (we update the weights for each example, for each class). We can also derive the standard (batch) gradient descent, where we accumulate updates for all examples, for each class separately. We can also derive the Newton method (the Hessian matrix), but we will skip that.\n",
      "\n",
      "\n",
      "You may have noticed that the gradient of the loss we derived for multinomial logistic regression is actually the same as that for binary logistic regression: \"model's error times the example vector\". When we use this for gradient descent, we update the weights as follows:\n",
      "\n",
      "[math_placeholder | 148]\n",
      "\n",
      "We have already (in the context of the perceptron, if you remember) said this rule is called the Widrow-Hoff rule, while the alternative name is least-mean-squares (LMS) algorithm (not to be confused with least squares, although there is obviously a connection).\n",
      "\n",
      "The LMS algorithm, that is, this kind of learning where we use stochastic gradient descent to minimize the error by updating the model's weights in the way defined above, allows for online learning. We mentioned online learning the last time. Recall: online learning is a type of learning where not all learning examples need to be available up front, rather they can become available one after the other, and the model weights will be updated as new examples arrive.\n",
      "\n",
      "Let's go back a few weeks, to linear regression. When we introduced linear regression, we were actually talking only about batch optimization, which is achieved by calculating the pseudoinverse of the design matrix. However, already then we could have resorted to a stochastic (i.e., online) weight update. Namely, instead of searching analytically for the minimum of the error function, we can calculate the gradient of the error function, and then apply the gradient descent. (We didn't do that at that at that time, probably because we were blinded by the sheer elegance of the closed-form solution). Well, let's do it now. The quadratic error function of linear regression is:\n",
      "\n",
      "[math_placeholder | 149]\n",
      "\n",
      "The gradient (for one example [math_placeholder | 150] ) is:\n",
      "\n",
      "[math_placeholder | 151]\n",
      "\n",
      "So, the rule for updating the weights is:\n",
      "\n",
      "[math_placeholder | 152]\n",
      "\n",
      "which, again, is the LMS rule! So, there seems to be some underlying principle at play here all three regression algorithms use the same rule (LMS) for online learning (i.e., for stochastic gradient descent). How can that be? Well, this is because all these models - linear regression, logistic regression, and multinomial regression - belong to the generalized linear models family.\n",
      "\n",
      "Now it's time to round out the story and give a unified perspective on the three algorithms.\n",
      "\n",
      "\n",
      "For starters, let's recall from last lecture that generalized linear models are models that wrap the scalar product of the weight vector and example vector into an activation function [math_placeholder | 153]. So:\n",
      "\n",
      "[math_placeholder | 154]\n",
      "\n",
      "Let's look at three generalized linear models we've considered so far. For each of them, let's consider four points: (1) how the model is defined, (2) what is the probability distribution to which their output corresponds, (3) how is the loss is defined, and (4) what is the gradient of the loss, which we need for gradient descent.\n",
      "\n",
      "First, let's look at the linear regression algorithm:\n",
      "\n",
      "[math_placeholder | 155]\n",
      "\n",
      "For batch learning we use the least squares method (the pseudoinverse), and for online learning we use the LMS rule.\n",
      "\n",
      "Let's look at the logistic regression algorithm:\n",
      "\n",
      "[math_placeholder | 156]\n",
      "\n",
      "For batch learning we use gradient descent, the Newton's (IRLS) or the quasi-Newton method (BFSG, L-BFSG). We use the LMS rule for online learning.\n",
      "\n",
      "Finally, let's look at the multinomial logistic regression:\n",
      "\n",
      "[math_placeholder | 157]\n",
      "\n",
      "We use the same (mutatis mutandis) optimization procedures for model learning as for logistic regression.\n",
      "\n",
      "Notice the commonalities. For all three algorithms, we derived the loss function from the negative logarithm of the probability of labels of the examples from the dataset. We did this by using the normal, Bernoulli, and multinoulli distribution distribution for linear, binary logistic, and multinoulli logistic regression, respectively. Furthermore, for all three algorithms we derived an identical rule (the LMS) for online weights update.\n",
      "\n",
      "The question is: how come we always get the same weights update rule? Also, what is the relationship between the logistic function and the Bernoulli variable, and between the softmax function and the multinoulli distribution? There seems to be a connection, because in both cases we obtained the cross-entropy error. The answer lies in the properties of the distributions we used to model the labels [math_placeholder | 158].\n",
      "\n",
      "\n",
      "The distributions we have encountered so far (Gaussian, Bernoulli, multinoulli), but also some others that are often used in machine learning (binomial, multinomial, Student's t-distribution, uniform, beta distribution, gamma distribution, Dirichlet's) belong to the so-called exponential family (hrv. eksponencijalna familija). What is an exponential family? The exponential family is a broad group of distributions that can be written in the following form:\n",
      "\n",
      "[math_placeholder | 159]\n",
      "\n",
      "The exponential family distributions have many properties that are important for machine learning, but mostly for probabilistic approaches to machine learning, so we won't go into further into that here.\n",
      "\n",
      "What is of interesting to us here is that it is that the exponential family is crucial for for generalized linear models. Specifically, for the distributions belonging to the exponential family (including Gaussian, Bernoulli, and multinoulli) there is a relationship between the distribution and its (possibly nonlinear) activation function [math_placeholder | 160]. This function is in this context is referred to as the mean function (hrv. funkcija sredine), because it defines the [math_placeholder | 161] parameter of a distribution, i.e., the distribution's mean. Thus, the activation function [math_placeholder | 162] therefore [math_placeholder | 163] as a function of [math_placeholder | 164]. You probably already guessed that for the Gaussian distribution the activation function is an identity function, since [math_placeholder | 165]. For the Bernoulli's distribution it is the logistic function, and for the multinoulli distribution it is the softmax function.\n",
      "\n",
      "After this inspiring topic, let's take a look at another no less inspiring thing ...\n",
      "\n",
      "\n",
      "In generalized linear models (for both regression and classification) we had the option to map examples to the feature space using a feature mapping function:\n",
      "\n",
      "[math_placeholder | 166]\n",
      "\n",
      "where [math_placeholder | 167] is a set of [math_placeholder | 168] basis functions (nonlinear functions of the input variables): [math_placeholder | 169]. For example, polynomial mapping for [math_placeholder | 170] and [math_placeholder | 171] :\n",
      "\n",
      "[math_placeholder | 172]\n",
      "\n",
      "We then easily incorporated such a mapping into any generalized linear model:\n",
      "\n",
      "[math_placeholder | 173]\n",
      "\n",
      "where [math_placeholder | 174] is a chosen activation function (i.e., the mean function, to make use of the term we just introduced).\n",
      "\n",
      "Although we haven't tried it, the basis functions [math_placeholder | 175] need not necessarily be potencies or factors of the input features, but rather these can really be any functions. One interesting possibility is to use functions that measure the similarity of an example with some prototype\n",
      "examples in the input space. This then is called a kernel machine, and we'll talk about that in two weeks.\n",
      "\n",
      "At any rate, the limiting factor is that these are fixed basis functions: their number and shape is predetermined. This is a problem because in most cases we do not know in advance which basis functions are good for our problem. In other words, we generally don't know which feature mapping will make our problem linearly separable in feature space.\n",
      "\n",
      "We can solve this problem by letting the basis functions adapt to our data (examples from the training set). Here we have two options: the first, used by the aforementioned kernel machines, is to select some examples from the training set as prototypes, and then make the basis functions measure the similarity between an input example and these prototypes. This adjusts the total number of basis functions depending on the data. Another possibility is to use a fixed number of basis functions, but let each of them adapt to the data. Let's look into that in a bit more detail.\n",
      "\n",
      "The idea of adaptive basis functions is to define them up to some parameters, which we can then adjust to the data. That is, we will define parameterized basis functions. Does that sound familiar? Of course. It is exactly the same as training machine learning models: we define a function up to some parameters, and the parameters are determined by optimizing the empirical error on the training set. But let's look first at how one could go about parameterizing the basis functions. One possibility is to say that each basis function is a small generalized linear model on its own! So, we will have a generalized linear model and within it we'll have generalized linear models as its basis functions:\n",
      "\n",
      "[math_placeholder | 176]\n",
      "\n",
      "Note that each basis function in our model should have its own weight vector, so weights [math_placeholder | 177] in the inner sum have two indices: [math_placeholder | 178] is the basis function index, while [math_placeholder | 179] is the index of the weight in the weight vector of basis function [math_placeholder | 180]. With superscripts [math_placeholder | 181] and [math_placeholder | 182] we indicated which weights are used first in the calculation of model prediction, and which are used second. The expression on the right is just a matrix notation of the model, where we managed to get rid of the sums and we combined the weights into a weight vector and weight matrix. Take some time to convince yourself that this notation is the same as the one with sums.\n",
      "\n",
      "Now that we have metabolized this, it's time for a big revelation. What kind of model is this actually? For each basis function there are weights from the matrix [math_placeholder | 183], which we multiply with all the input features and add them up. We then multiply these values again by weights [math_placeholder | 184] and add them up. We've built something most of you already know: a neural network!\n",
      "\n",
      "\n",
      "[image_placeholder | 5]\n",
      "\n",
      "\n",
      "This network of ours is two-layered, however nothing prevents us from going deeper: we can make the basis functions be combinations of other basis functions, and those again be combinations of yet another basis functions, etc.\n",
      "\n",
      "Obviously, neural networks are a more complex model than generalized linear models. This, of course, comes at a price: a more complex optimization procedure (due to non-convexity of\n",
      "the error function, since the loss in the output layer - which can still be the quadratic loss or cross entropy loss - now has a very complex dependence on the weights of the previous layers) and a greater possibility of model overfitting. Of course, various solutions have been proposed to tackle these issues, in particular within the now popular deep learning paradigm. We won't go any further, however, as this topic is receiving a rather comprehensive treatment in other courses.\n",
      "\n",
      "What matters here is to be aware of the connection: a neural network is an extension of a generalized linear model in which the basis functions are adaptive, i.e., the feature mapping function is also learned from the data.\n",
      "\n",
      "\n",
      "\n",
      "  Newton's method is a second-order optimization method that converges faster than the gradient descent, and is based on the calculation of the Hessian matrix. The logistic regression variant is called IRLS\n",
      "  The calculation of the Hessian matrix is expensive to compute in both time and space, so we may resort to a quasi-Newton method, such as L-BSFG\n",
      "  Multinomial logistic regression is a generalization of logistic regression to more than two classes, with softmax function as the activation function\n",
      "  Common to generalized linear models is that their outputs are variables from the exponential family distributions\n",
      "  Instead of using fixed basis function, we can use parameterized adaptive basis functions, which brings us to neural networks\n",
      "\n",
      "\n",
      "\n"
     ]
    }
   ],
   "source": [
    "print(template)"
   ]
  },
  {
   "cell_type": "code",
   "execution_count": null,
   "id": "3c74253b",
   "metadata": {},
   "outputs": [],
   "source": [
    "katex_corrector_service = application_container.katex_corrector_service()\n",
    "\n",
    "valid_katexes = await katex_corrector_service.correct(katexes, max_num_retries=3)\n",
    "math_expressions = [\n",
    "    MathExpression(\n",
    "        math_article_id=math_article.id,\n",
    "        math_expression_dataset_id=None,\n",
    "        math_expression_group_id=None,\n",
    "        math_expression_index_id=index.id,\n",
    "        latex=node.latex,\n",
    "        katex=katex,\n",
    "        position=node.position,\n",
    "        is_inline=node.is_inline,\n",
    "    )\n",
    "    for node, katex in zip(math_nodes, valid_katexes)\n",
    "]\n",
    "math_expressions.sort(key=lambda x: x.position)"
   ]
  },
  {
   "cell_type": "markdown",
   "id": "cd377fa0",
   "metadata": {},
   "source": [
    "### 2"
   ]
  },
  {
   "cell_type": "code",
   "execution_count": null,
   "id": "7ff0d725",
   "metadata": {},
   "outputs": [],
   "source": [
    "# TODO\n",
    "from uuid import UUID\n",
    "\n",
    "from pydantic import BaseModel\n",
    "\n",
    "\n",
    "class MathArticleTemplate(BaseModel):\n",
    "    id: UUID\n",
    "    math_article_id: UUID\n",
    "    math_expression_index_id: UUID\n",
    "    text: str\n",
    "\n",
    "\n",
    "class MathArticleTemplateChunk(BaseModel):\n",
    "    id: UUID\n",
    "    math_article_id: UUID\n",
    "    text: str\n",
    "\n",
    "\n",
    "class MathExpressionContextTemplate(BaseModel):\n",
    "    id: UUID\n",
    "    math_expression_id: UUID\n",
    "    math_expression_ids: list[UUID]  # TODO\n",
    "    math_expression_index_id: UUID\n",
    "    text: str"
   ]
  },
  {
   "cell_type": "code",
   "execution_count": null,
   "id": "53e5d8c5",
   "metadata": {},
   "outputs": [],
   "source": [
    "from math_rag.infrastructure.utils import (\n",
    "    TemplateChunkerUtil,\n",
    "    TemplateContextChunkerUtil,\n",
    "    TemplateFormatterUtil,\n",
    "    TemplateIndexFinderUtil,\n",
    ")\n",
    "\n",
    "\n",
    "contexts = TemplateContextChunkerUtil.chunk(template, max_context_size=1000)\n",
    "chunks = TemplateChunkerUtil.chunk(template, max_window_size=2048, max_padding=256)"
   ]
  },
  {
   "cell_type": "code",
   "execution_count": null,
   "id": "1c6aaf30",
   "metadata": {},
   "outputs": [
    {
     "name": "stdout",
     "output_type": "stream",
     "text": [
      "(\"above consideration, we can conclude that the batch gradient descent could be improved if we take into account not only the slope (gradient) but also the curvature (the change in gradient, i.e., the second derivative) of the error function. Such optimization methods are referred to as second-order optimization, as opposed to first-order optimization methods, such as gradient descent. The basic second-order optimization method is the Newton's method.\\n\\n\\nConsider minimization of function [math_placeholder | 1]. We know that the parameter update in gradient descent is as follows:\\n\\n[math_placeholder | 2]\\n\\nIf we introduce an index for the iterations, then we can write this as an equation:\\n\\n[math_placeholder | 3]\\n\\nThe idea with Newton's method is to take the point [math_placeholder | 4] (the current minimum) and compute at it the quadratic approximation of the function [math_placeholder | 5], and then move to the minimizer of this quadratic approximation (which is known analytically). If [math_placeholder | 6]\", [1, 2, 3, 4, 5, 6])\n"
     ]
    }
   ],
   "source": [
    "print(contexts[1])"
   ]
  },
  {
   "cell_type": "code",
   "execution_count": null,
   "id": "7c764cf2",
   "metadata": {},
   "outputs": [],
   "source": [
    "from math_rag.application.models.assistants.inputs import (\n",
    "    MathExpressionDescriptionWriter as AssistantInput,\n",
    ")\n",
    "from math_rag.core.models import MathExpressionDescription\n",
    "from math_rag.infrastructure.constants.services import MATH_TEMPLATE\n",
    "\n",
    "\n",
    "SLICE = 5  # TODO remove later, just for testing\n",
    "\n",
    "\n",
    "index_to_katex = {i: math_expression.katex for i, math_expression in enumerate(math_expressions)}\n",
    "index_to_math_expression_id = {\n",
    "    i: math_expression.id for i, math_expression in enumerate(math_expressions)\n",
    "}\n",
    "\n",
    "inputs: list[AssistantInput] = []\n",
    "input_id_to_math_expression_id: dict[UUID, UUID] = {}\n",
    "\n",
    "for context in contexts[:SLICE]:\n",
    "    formatted_context, indexes = TemplateFormatterUtil.format(\n",
    "        context, index_to_katex, omit_wrapper=False\n",
    "    )\n",
    "\n",
    "    for i in indexes:\n",
    "        katex = index_to_katex[index]\n",
    "        input = AssistantInput(\n",
    "            katex=MATH_TEMPLATE.format(katex=katex, index=i), context=formatted_context\n",
    "        )\n",
    "        inputs.append(input)\n",
    "\n",
    "        input_id_to_math_expression_id[input.id] = index_to_math_expression_id[i]\n",
    "\n",
    "outputs = await math_expression_description_writer_assistant.concurrent_assist(inputs)\n",
    "\n",
    "math_expression_descriptions = [\n",
    "    MathExpressionDescription(\n",
    "        math_expression_index_id=index.id,\n",
    "        math_expression_id=input_id_to_math_expression_id[output.input_id],\n",
    "        description=output.description,\n",
    "    )\n",
    "    for output in outputs\n",
    "]"
   ]
  },
  {
   "cell_type": "code",
   "execution_count": 10,
   "id": "605301ef",
   "metadata": {},
   "outputs": [
    {
     "name": "stdout",
     "output_type": "stream",
     "text": [
      "[4 | \\mathbf{x}_{t}]\n",
      "the value of the parameter vector at iteration t in an iterative optimization process\n",
      "-----\n",
      "\n",
      "[5 | f(\\mathrm{x})]\n",
      "the function whose minimization is being considered in the context of optimization methods, specifically in the discussion of gradient descent and Newton's method\n",
      "-----\n",
      "\n",
      "[1 | f(\\mathbf{x})]\n",
      "the function being minimized in the context of optimization methods, where the input is a vector variable\n",
      "-----\n",
      "\n",
      "[4 | \\mathbf{x}_{t}]\n",
      "The current value of the parameter vector at iteration t in an iterative optimization algorithm.\n",
      "-----\n",
      "\n",
      "[6 | f]\n",
      "the function being minimized in the context of optimization methods, specifically referenced as the objective function in both gradient descent and Newton's method\n",
      "-----\n",
      "\n",
      "[1 | f(\\mathbf{x})]\n",
      "A function evaluated at a vector variable, representing the objective function to be minimized in the context of optimization methods such as gradient descent and Newton's method.\n",
      "-----\n",
      "\n",
      "[8 | x_{0}]\n",
      "the initial value or starting point for the variable x in the context of an iterative minimization process\n",
      "-----\n",
      "\n",
      "[1 | f(\\mathbf{x})]\n",
      "The target expression represents a general function evaluated at a vector variable, which is the objective function being minimized in the context of optimization methods such as gradient descent and Newton's method.\n",
      "-----\n",
      "\n",
      "[3 | \n",
      "\\mathbf{x}_{t+1}=\\mathbf{x}_{t}-\\eta \\nabla f\\left(\\mathbf{x}_{t}\\right)\n",
      "]\n",
      "The expression represents the iterative update rule for gradient descent, where the next iterate is obtained by subtracting the product of a step size and the gradient of the function evaluated at the current iterate from the current iterate.\n",
      "-----\n",
      "\n",
      "[0 | L_{2}]\n",
      "The target expression refers to the L2 regularization term, which is a commonly used penalty in optimization processes to prevent overfitting by discouraging large parameter values.\n",
      "-----\n",
      "\n",
      "[2 | \n",
      "\\mathbf{x} \\leftarrow \\mathbf{x}-\\eta \\nabla f(\\mathrm{x})\n",
      "]\n",
      "The target expression represents the standard parameter update rule in gradient descent, where the current parameter vector is updated by subtracting the product of a learning rate and the gradient of a function with respect to the parameter vector.\n",
      "-----\n",
      "\n",
      "[5 | f(\\mathrm{x})]\n",
      "the function being minimized in the context of Newton's method, evaluated at a variable x\n",
      "-----\n",
      "\n",
      "[4 | \\mathbf{x}_{t}]\n",
      "the value of the parameter vector at iteration t in an iterative optimization process\n",
      "-----\n",
      "\n",
      "[1 | f(\\mathbf{x})]\n",
      "the function being minimized in the context of optimization methods, specifically referenced as the objective function whose value depends on a vector input\n",
      "-----\n",
      "\n",
      "[4 | \\mathbf{x}_{t}]\n",
      "the value of the parameter vector at iteration t in an iterative optimization algorithm\n",
      "-----\n",
      "\n",
      "[2 | \n",
      "\\mathbf{x} \\leftarrow \\mathbf{x}-\\eta \\nabla f(\\mathrm{x})\n",
      "]\n",
      "The target expression represents the update rule for gradient descent, where the current value of the variable is updated by subtracting the product of a step size and the gradient of the function being minimized, both evaluated at the current variable value.\n",
      "-----\n",
      "\n",
      "[7 | f(x)]\n",
      "The target expression represents a function of a single variable, which is the function being minimized in the context of Newton's method for optimization. It is depicted as the black curve in the referenced image and is the subject of the minimization process described.\n",
      "-----\n",
      "\n",
      "[6 | f]\n",
      "The target expression refers to a function, denoted by a single letter, that is being minimized in the context of optimization methods. It is discussed as a general function, potentially of one variable, and is the main objective function in the minimization problem described.\n",
      "-----\n",
      "\n",
      "[8 | x_{0}]\n",
      "The target expression denotes the initial value or starting point for the variable x in the context of minimizing a function of one variable using Newton's method.\n",
      "-----\n",
      "\n",
      "[6 | f]\n",
      "The target expression denotes a function, referenced in the context as the objective function being minimized, and is specifically mentioned as a function of one variable in the discussion of Newton's method.\n",
      "-----\n",
      "\n",
      "[3 | \n",
      "\\mathbf{x}_{t+1}=\\mathbf{x}_{t}-\\eta \\nabla f\\left(\\mathbf{x}_{t}\\right)\n",
      "]\n",
      "The expression represents the iterative update rule for gradient descent, where the next iterate is obtained by subtracting the product of a step size and the gradient of the function evaluated at the current iterate from the current iterate.\n",
      "-----\n",
      "\n",
      "[2 | \n",
      "\\mathbf{x} \\leftarrow \\mathbf{x}-\\eta \\nabla f(\\mathrm{x})\n",
      "]\n",
      "This expression represents the parameter update rule in gradient descent, where the current value of the parameter vector is updated by subtracting the product of a learning rate and the gradient of the function being minimized, evaluated at the current parameter value.\n",
      "-----\n",
      "\n",
      "[5 | f(\\mathrm{x})]\n",
      "The target expression represents a function, denoted by a single letter, evaluated at a variable, and is the function being minimized in the context of optimization methods such as gradient descent and Newton's method.\n",
      "-----\n",
      "\n",
      "[5 | f(\\mathrm{x})]\n",
      "The target expression denotes a function of a variable, which is the function being minimized in the context of optimization methods such as gradient descent and Newton's method.\n",
      "-----\n",
      "\n",
      "[3 | \n",
      "\\mathbf{x}_{t+1}=\\mathbf{x}_{t}-\\eta \\nabla f\\left(\\mathbf{x}_{t}\\right)\n",
      "]\n",
      "The target expression represents the iterative update rule for gradient descent, where the parameter vector at the next iteration is obtained by subtracting the product of a step size and the gradient of the objective function (evaluated at the current parameter vector) from the current parameter vector.\n",
      "-----\n",
      "\n",
      "[6 | f]\n",
      "The target expression refers to a function named f, mentioned in the context of optimization methods, specifically as a function to be minimized. It is discussed both as a general function of a vector variable and, in this instance, as a function of a single variable.\n",
      "-----\n",
      "\n",
      "[3 | \n",
      "\\mathbf{x}_{t+1}=\\mathbf{x}_{t}-\\eta \\nabla f\\left(\\mathbf{x}_{t}\\right)\n",
      "]\n",
      "The target expression represents the iterative update rule for gradient descent, where the next value of the variable at iteration t+1 is obtained by subtracting the product of a step size and the gradient of the function evaluated at the current value from the current value itself.\n",
      "-----\n",
      "\n",
      "[7 | f(x)]\n",
      "The target expression represents a function of a single variable x, which is being minimized in the context of Newton's method. It is depicted as the black curve in a referenced image and is the subject of quadratic approximation at a specific starting point.\n",
      "-----\n",
      "\n",
      "[2 | \n",
      "\\mathbf{x} \\leftarrow \\mathbf{x}-\\eta \\nabla f(\\mathrm{x})\n",
      "]\n",
      "This expression represents the parameter update rule in gradient descent, where the current value of the parameter vector is updated by subtracting the product of a learning rate and the gradient of the objective function with respect to the parameter vector.\n",
      "-----\n",
      "\n"
     ]
    }
   ],
   "source": [
    "input_id_to_input = {input.id: input for input in inputs}\n",
    "\n",
    "for output in outputs:\n",
    "    print(input_id_to_input[output.input_id].katex)\n",
    "    print(output.description)\n",
    "    print('-----')\n",
    "    print()"
   ]
  },
  {
   "cell_type": "code",
   "execution_count": null,
   "id": "1f4eabbf",
   "metadata": {},
   "outputs": [],
   "source": [
    "# math_expression_description_repository.insert_many(math_expression_descriptions)"
   ]
  },
  {
   "cell_type": "markdown",
   "id": "a82ebf8e",
   "metadata": {},
   "source": [
    "### 3"
   ]
  },
  {
   "cell_type": "code",
   "execution_count": null,
   "id": "55912beb",
   "metadata": {},
   "outputs": [],
   "source": [
    "from math_rag.application.models.assistants.inputs import (\n",
    "    MathExpressionDescriptionOptimizer as AssistantInput,\n",
    ")\n",
    "from math_rag.application.utils import InputCreatorUtil\n",
    "from math_rag.core.models import MathExpressionDescriptionOpt\n",
    "\n",
    "\n",
    "inputs, input_id_to_item = InputCreatorUtil.create(\n",
    "    math_expression_descriptions, lambda x: AssistantInput(description=x.description)\n",
    ")\n",
    "outputs = await math_expression_description_optimizer_assistant.concurrent_assist(inputs)\n",
    "math_expression_descriptions_opt = [\n",
    "    MathExpressionDescriptionOpt(\n",
    "        math_expression_id=input_id_to_item[output.input_id].math_expression_id,\n",
    "        math_expression_description_id=input_id_to_item[output.input_id].id,\n",
    "        math_expression_index_id=index.id,\n",
    "        description=output.description,\n",
    "    )\n",
    "    for output in outputs\n",
    "]"
   ]
  },
  {
   "cell_type": "code",
   "execution_count": 13,
   "id": "bf0aa5b4",
   "metadata": {},
   "outputs": [
    {
     "name": "stdout",
     "output_type": "stream",
     "text": [
      "Current value of the parameter vector at iteration t in an iterative optimization algorithm.\n",
      "-----\n",
      "\n",
      "Objective function minimized in optimization methods, specifically in gradient descent and Newton's method.\n",
      "-----\n",
      "\n",
      "Function targeted for minimization in optimization methods, particularly in gradient descent and Newton's method.\n",
      "-----\n",
      "\n",
      "Function of a variable minimized in optimization methods such as gradient descent and Newton's method.\n",
      "-----\n",
      "\n",
      "value of the parameter vector at iteration t in an iterative optimization process\n",
      "-----\n",
      "\n",
      "Function minimized using Newton's method, evaluated at variable x.\n",
      "-----\n",
      "\n",
      "L2 regularization is a penalty term in optimization that prevents overfitting by discouraging large parameter values.\n",
      "-----\n",
      "\n",
      "Standard parameter update rule in gradient descent: the current parameter vector is updated by subtracting the product of the learning rate and the gradient of a function with respect to the parameter vector.\n",
      "-----\n",
      "\n",
      "Function minimized in optimization methods with a vector variable input.\n",
      "-----\n",
      "\n",
      "A function of a vector variable representing the objective to be minimized in optimization methods including gradient descent and Newton's method.\n",
      "-----\n",
      "\n",
      "The target expression is the objective function being minimized, specifically a function of one variable in the context of Newton's method.\n",
      "-----\n",
      "\n",
      "Initial value or starting point for variable x in minimizing a single-variable function using Newton's method.\n",
      "-----\n",
      "\n",
      "Parameter update rule in gradient descent: the parameter vector is updated by subtracting the product of the learning rate and the gradient of the objective function with respect to the parameter vector.\n",
      "-----\n",
      "\n",
      "Parameter update rule in gradient descent: the parameter vector is updated by subtracting the product of the learning rate and the gradient of the minimized function, evaluated at the current parameter value.\n",
      "-----\n",
      "\n",
      "The expression defines the gradient descent update rule: at iteration t+1, the variable is updated by subtracting the product of the step size and the gradient of the function at the current value from the current value.\n",
      "-----\n",
      "\n",
      "The expression defines the gradient descent update rule: the next parameter vector equals the current parameter vector minus the step size multiplied by the gradient of the objective function evaluated at the current parameter vector.\n",
      "-----\n",
      "\n",
      "Objective function in optimization methods; its value depends on a vector input and is minimized.\n",
      "-----\n",
      "\n",
      "A single-variable function f(x) minimized using Newton's method, represented as the black curve in a referenced image and subject to quadratic approximation at a specific starting point.\n",
      "-----\n",
      "\n",
      "initial value or starting point for variable x in an iterative minimization process\n",
      "-----\n",
      "\n",
      "value of the parameter vector at iteration t in an iterative optimization process\n",
      "-----\n",
      "\n",
      "A single-letter function evaluated at a variable, representing the objective function minimized in optimization methods like gradient descent and Newton's method.\n",
      "-----\n",
      "\n",
      "The expression defines the gradient descent update: the next iterate equals the current iterate minus the step size times the gradient of the function evaluated at the current iterate.\n",
      "-----\n",
      "\n",
      "Function of a single variable minimized using Newton's method, depicted as the black curve in the referenced image and subject of the described minimization process.\n",
      "-----\n",
      "\n",
      "The expression defines the gradient descent update rule: the variable is updated by subtracting the product of the step size and the gradient of the function, both evaluated at the current variable value.\n",
      "-----\n",
      "\n",
      "parameter vector value at iteration t in an iterative optimization algorithm\n",
      "-----\n",
      "\n",
      "Function f, referenced in optimization methods, is to be minimized and is considered both as a general function of a vector variable and, in this instance, as a function of a single variable.\n",
      "-----\n",
      "\n",
      "The expression defines the gradient descent update rule: the next iterate equals the current iterate minus the step size multiplied by the gradient of the function at the current iterate.\n",
      "-----\n",
      "\n",
      "General function evaluated at a vector variable, serving as the objective function minimized in optimization methods including gradient descent and Newton's method.\n",
      "-----\n",
      "\n",
      "A single-letter function representing the main objective in an optimization problem, discussed as a general function, potentially of one variable, and subject to minimization.\n",
      "-----\n",
      "\n"
     ]
    }
   ],
   "source": [
    "input_id_to_input = {input.id: input for input in inputs}\n",
    "\n",
    "for output in outputs:\n",
    "    print(output.description)\n",
    "    print('-----')\n",
    "    print()"
   ]
  },
  {
   "cell_type": "code",
   "execution_count": null,
   "id": "72734a11",
   "metadata": {},
   "outputs": [],
   "source": [
    "from math_rag.application.models.embedders import EmbedderInput\n",
    "\n",
    "\n",
    "inputs, input_id_to_item = InputCreatorUtil.create(\n",
    "    math_expression_descriptions_opt, lambda x: EmbedderInput(text=x.description)\n",
    ")\n",
    "outputs = await default_embedder.concurrent_embed(inputs)"
   ]
  },
  {
   "cell_type": "code",
   "execution_count": null,
   "id": "347b81a5",
   "metadata": {},
   "outputs": [],
   "source": [
    "from more_itertools import unzip\n",
    "\n",
    "\n",
    "input_id_to_embedding = {output.input_id: output.embedding for output in outputs}\n",
    "\n",
    "\n",
    "descriptions, embeddings = unzip(\n",
    "    (input_id_to_item[i.id], input_id_to_embedding[i.id]) for i in inputs\n",
    ")\n",
    "\n",
    "# TODO save to the mongo as well\n",
    "# await math_expression_description_opt_repository.upsert_many(descriptions, embeddings)"
   ]
  },
  {
   "cell_type": "markdown",
   "id": "c99dd1ea",
   "metadata": {},
   "source": [
    "### 4"
   ]
  },
  {
   "cell_type": "code",
   "execution_count": null,
   "id": "88992ee8",
   "metadata": {},
   "outputs": [],
   "source": [
    "callback = clusterer_service.cluster\n",
    "clusters = await math_expression_description_opt_repository.cluster(callback)"
   ]
  },
  {
   "cell_type": "code",
   "execution_count": null,
   "id": "7a4ac99e",
   "metadata": {},
   "outputs": [],
   "source": [
    "import os\n",
    "\n",
    "from sklearn.datasets import make_blobs\n",
    "\n",
    "\n",
    "os.environ['NUMBA_CPU_FEATURES'] = str()  # avoid kernel crash on arm\n",
    "import umap\n",
    "\n",
    "\n",
    "# synthetic data\n",
    "X, y = make_blobs(\n",
    "    n_samples=500,\n",
    "    centers=5,\n",
    "    n_features=10,\n",
    "    cluster_std=1.0,\n",
    "    random_state=42,\n",
    ")\n",
    "\n",
    "reducer = umap.UMAP(\n",
    "    n_components=2,\n",
    "    metric='euclidean',\n",
    "    random_state=None,\n",
    ")\n",
    "X_umap = reducer.fit_transform(X)"
   ]
  },
  {
   "cell_type": "code",
   "execution_count": null,
   "id": "ba0cfb36",
   "metadata": {},
   "outputs": [
    {
     "data": {
      "application/vnd.plotly.v1+json": {
       "config": {
        "plotlyServerURL": "https://plot.ly"
       },
       "data": [
        {
         "customdata": {
          "bdata": "BAQDAQIBAAQAAwQDBAACAQQDAwAEAgMBAAACAAQDAgEEBAICAAAABAEAAwIEBAMEAgACBAMBAQEBAgQBAAABAQAEAQIBAwMDAQQCAwMDBAMBAgQCAAICAwABBAQEAgABAAQDBAQCAwACAQMAAAQEBAIEAAQDAgIEBAQCAgIEAAIAAgMBAQMDAQMABAECAAECAAICAgIDAgQEAwADAAEDAAQCAQQCBAABAAEEAgMEAAQCAQADBAAAAAQEAgMBAQMDAAMDAAMAAQADBAQCAgADBAMEAQQCBAIEAAACAgQABAMEAAECBAMCAwMAAAQDAQEBAAIEAgEEBAMABAICAAICBAMDAgEEAQQAAAMBAQMEAQQCAQMBAwMBBAAAAAIDAgEEAQAABAEAAQMAAAADAwEDAAIDAwECBAAAAAICAAACAgEAAwAEAwIBAAEDAwECAwIBAQQBAgIDAAMEAAMCAAIEAgQCAQEDAwIBAQIBAwMCAQADAwMCAQMBAAMCAQEBAQMEAAQBAwIAAAQCAQEDAwEBAgADAQIDAAECAAIBAwECAQQAAAQBAQMEBAIDBAQEBAECAwIBAgIBAQQCAQACBAEDAAMBBAQAAAQDBAIEAAABAwEAAQQDAAIBAAABAgEAAwMDBAECAQQCAwICAwIAAAQDAwAEAQA=",
          "dtype": "i1",
          "shape": "500, 1"
         },
         "hovertemplate": "UMAP1=%{x}<br>UMAP2=%{y}<br>cluster=%{marker.color}<extra></extra>",
         "legendgroup": "",
         "marker": {
          "color": {
           "bdata": "BAQDAQIBAAQAAwQDBAACAQQDAwAEAgMBAAACAAQDAgEEBAICAAAABAEAAwIEBAMEAgACBAMBAQEBAgQBAAABAQAEAQIBAwMDAQQCAwMDBAMBAgQCAAICAwABBAQEAgABAAQDBAQCAwACAQMAAAQEBAIEAAQDAgIEBAQCAgIEAAIAAgMBAQMDAQMABAECAAECAAICAgIDAgQEAwADAAEDAAQCAQQCBAABAAEEAgMEAAQCAQADBAAAAAQEAgMBAQMDAAMDAAMAAQADBAQCAgADBAMEAQQCBAIEAAACAgQABAMEAAECBAMCAwMAAAQDAQEBAAIEAgEEBAMABAICAAICBAMDAgEEAQQAAAMBAQMEAQQCAQMBAwMBBAAAAAIDAgEEAQAABAEAAQMAAAADAwEDAAIDAwECBAAAAAICAAACAgEAAwAEAwIBAAEDAwECAwIBAQQBAgIDAAMEAAMCAAIEAgQCAQEDAwIBAQIBAwMCAQADAwMCAQMBAAMCAQEBAQMEAAQBAwIAAAQCAQEDAwEBAgADAQIDAAECAAIBAwECAQQAAAQBAQMEBAIDBAQEBAECAwIBAgIBAQQCAQACBAEDAAMBBAQAAAQDBAIEAAABAwEAAQQDAAIBAAABAgEAAwMDBAECAQQCAwICAwIAAAQDAwAEAQA=",
           "dtype": "i1"
          },
          "coloraxis": "coloraxis",
          "symbol": "circle"
         },
         "mode": "markers",
         "name": "",
         "orientation": "v",
         "showlegend": false,
         "type": "scatter",
         "x": {
          "bdata": "7yWAQTE7g0ElN7lA/JO8vlMIqT+982C/OQRMQI5OiUGkHkRAVF64QHpwiEH0b7hAXkaAQVJ3G0Cu57g/xc+hv5+EiEE9uMhA0ZSbQDyEBUD/q3dBtk6PP2ftr0Bv0+2+WGM3QLfePkBgplI/8aE1QOL9gkFMB8lAgQGjP7vzQ799639B+ciFQWO8hj8EnI4/JBMQQFgiIkDTAydAjxaEQfA8Cr+EhAZAGXqyQH8yuD8tuX9BxHWCQeZb1ECfxHlB9VEWPyBqSkAm2NY+7NqEQa4SwkAojTy/34sRv3x9EL/WiWi/ptvLPgLUgEGHdjy/R1c9QMJzREDHZ7O/vjsrv2mcGUBBIXxBzE6Hv5/6yT/+LoG/fS7RQHOrwUAZ8b9AyIK/vw27f0Hae1o/r9uYQLwQtUC+V65AlqaBQTO2nUD3UHK/QOiKP4fugUEKs+E/ISorQErvJD+GjNg/gfC6QDFIF0AoqzO/kZqFQc9zf0EiYIRB3nJxP6vTH0AQtZ2/ysULQGOihEFf8rJAt5+AQRS6fEE0R00/B+6qQMVmSEAlk0Q/A5nxviaWoEBCnCxAL1VcQNfuiEHUSYZBX5aHQUbUvz+fXoJBTNkjQO49gkEIucZAL3GdP51Irz9dvH9BcQqBQV8WgUEpVZ4/zUOVP+pGlD+HRIJB5YUDQLpGzT4R/VtAkA7MP4dNqEANh7W/KFl4v5jsy0DN5LdAssXIv6S7vECnwy5A4jZ4Qc99dL9a98I/vK8tQJGL/L6QCqA/XK4vQNP+ij9cGNQ+OW9UP9eZqD8CdJ5AKMucP66ngUHrMIRB1NGvQD7/AkDAQaRAy35bQFJsvr/jeNRAXeMTQJD9hkEJG8k/2EK6v3vxhEEqbR0/yZGBQQD5JUCcWtC/HNcHQN8Za7/bqIBBck/lP3IssUA3V4ZB1lZEQF5ffUEeNjo/qLkEv1U0F0CN6KJA0Nh9QYV88z8+c/Q/7w8EQKcKgkEey3NBaMDmP2hRsUA0DHe/d+evvmb3s0DHvLhAv0ILQKkDxUCIlrRADVYRQExdtkDQdxRARlqmv0RBHUAVb75AD2iAQWJMc0Fdy24/Ae9RP9JzUUCY59NAEPt2QYN6rEAcCoJB3oe3v4ZcgUEL8po/6UCGQUSesT81fndBQ5BVQE1oQUBDWos/iXEKP+IwiUEDsyBAt2iBQSBGsEDy5oFBC4oEQKJ7cL4sb74+ijyHQUD0nkAw9w0/YqykQAemxEB9GRZAH8T0P6gTdkHQhbFA4SY8v8G2mr/+1A6/3F0cQCnpyj9Jh4NBeKjbP4KkSb99nINB+xt6QWVfvEBIVlhAMAF3QYg2kT/yP9A+1Vv+P6lbIj+fn8Y/rc6FQR6DwkCiKcBAx4OqPyJ+IL655HlBoJ+pv0e8iUHOtitAGsIxQHtlvkB78Ii/O5lNv9t20kAFJoBBLx1tvkiLiEEkRNM/kIERv6HYykCcXRi/luCnQE6IvECoUkG/XSV6QThbMUCppRxARWdJQM90aT8xW59A8/yhPyCWP78O9IFBZLV9v/6pMUA/vRtAY611QZ5k3L6NJSdATiNRvw/+uEBcPzVAtLFCQG4BPUBI359AcUfTQK6U3L6MNLVAfXcpQOROgT9VrcdAtpnHQG4WpL9R87Q/0vODQbDkIkAWgzlAOnxXQNgduz9oq9A/EOojQNtPRkATDyQ/LbORP51Yur9oKzBALNDMQDSrD0DuWIVB372aQD53nz/pSH+/zpNYQEw0sL+C+61AVg6lQG0eH79RCTg/q9q1QA2aWj8BrKy+30h3v9AqhkErrOm+4mc0P/88gj/bz6BA07YDQKNWv0AdVYhBT70CQM+nxEAFMcU/hUcwQN3qzD+ya4BBTH2EP5oThEHFsII/KiHJv529s7/jsqRAuMbKQEfuZj/yfkW/gRalv05pBD/2fYa/auq1QGNTmkC4ZJY/EqPTvtKREkDIH6tAo6LFQIwTx0AzWFs/qO7QvobpxkAbvqW/aTwYQJ91qUAz2JM/VWq2vygr2r+fLqe+X71Rv3nGxUBrUHhBOCVAQC1QgUGaQYG/DEq1QAcxiD8cb0dAjdRFQOYEiEFi5qY/uHMRv5dhw790zrdAzdbAQOA1Gb/nz7S/fb+vP9OkTECnEMFAJK4Rv3I9vD9ZU8FAMIcgQENcML98fj4/KYBIQJabhj9Gxm6/D1HCQD89vL9zygE/ATu7v/Q2h0ED8CNAyycYQIXdf0FoQ72/tPAivipOrEDUN39B9+KEQUkkFz93iZ9Ax6ZzQZT3gkGTj4RBnDWFQbedNL8r2Po+iiLKQGDJ7j7p9IC/jH0DP6xSuD64nX6/FQaRvgBshUGGHfA/dTUOv4KmU0C/2ss/ieuBQSeG8r5PZKtAaMcmQJ82xEDb48K/jceEQVqKiEFfMSJA7kAxQDY6c0EvbMBAzxJ4QQfj1z/Im4hBEulTQJ9N8D9iVbS9qtC2QKR5lL80HiFAeb80v7M6fUFPbaxAwSEAQEbDoz+bSFa/3eNLQP7ELECvbJy/HdGuP54Mob/8bu8/qkGaQJ84pEBIPNdAyAp/QSWsgr9pfD0/8xFNv/CtfUExNaE+WwueQJqlrz5bTO8/OMfAQOMprj8nTSdA1WknQKLdh0EFIslAvMmoQItSQECjPXJBW6YXv+6KAkA=",
          "dtype": "f4"
         },
         "xaxis": "x",
         "y": {
          "bdata": "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",
          "dtype": "f4"
         },
         "yaxis": "y"
        }
       ],
       "layout": {
        "coloraxis": {
         "colorbar": {
          "title": {
           "text": "cluster"
          }
         },
         "colorscale": [
          [
           0,
           "#0d0887"
          ],
          [
           0.1111111111111111,
           "#46039f"
          ],
          [
           0.2222222222222222,
           "#7201a8"
          ],
          [
           0.3333333333333333,
           "#9c179e"
          ],
          [
           0.4444444444444444,
           "#bd3786"
          ],
          [
           0.5555555555555556,
           "#d8576b"
          ],
          [
           0.6666666666666666,
           "#ed7953"
          ],
          [
           0.7777777777777778,
           "#fb9f3a"
          ],
          [
           0.8888888888888888,
           "#fdca26"
          ],
          [
           1,
           "#f0f921"
          ]
         ]
        },
        "legend": {
         "tracegroupgap": 0
        },
        "template": {
         "data": {
          "bar": [
           {
            "error_x": {
             "color": "#2a3f5f"
            },
            "error_y": {
             "color": "#2a3f5f"
            },
            "marker": {
             "line": {
              "color": "#E5ECF6",
              "width": 0.5
             },
             "pattern": {
              "fillmode": "overlay",
              "size": 10,
              "solidity": 0.2
             }
            },
            "type": "bar"
           }
          ],
          "barpolar": [
           {
            "marker": {
             "line": {
              "color": "#E5ECF6",
              "width": 0.5
             },
             "pattern": {
              "fillmode": "overlay",
              "size": 10,
              "solidity": 0.2
             }
            },
            "type": "barpolar"
           }
          ],
          "carpet": [
           {
            "aaxis": {
             "endlinecolor": "#2a3f5f",
             "gridcolor": "white",
             "linecolor": "white",
             "minorgridcolor": "white",
             "startlinecolor": "#2a3f5f"
            },
            "baxis": {
             "endlinecolor": "#2a3f5f",
             "gridcolor": "white",
             "linecolor": "white",
             "minorgridcolor": "white",
             "startlinecolor": "#2a3f5f"
            },
            "type": "carpet"
           }
          ],
          "choropleth": [
           {
            "colorbar": {
             "outlinewidth": 0,
             "ticks": ""
            },
            "type": "choropleth"
           }
          ],
          "contour": [
           {
            "colorbar": {
             "outlinewidth": 0,
             "ticks": ""
            },
            "colorscale": [
             [
              0,
              "#0d0887"
             ],
             [
              0.1111111111111111,
              "#46039f"
             ],
             [
              0.2222222222222222,
              "#7201a8"
             ],
             [
              0.3333333333333333,
              "#9c179e"
             ],
             [
              0.4444444444444444,
              "#bd3786"
             ],
             [
              0.5555555555555556,
              "#d8576b"
             ],
             [
              0.6666666666666666,
              "#ed7953"
             ],
             [
              0.7777777777777778,
              "#fb9f3a"
             ],
             [
              0.8888888888888888,
              "#fdca26"
             ],
             [
              1,
              "#f0f921"
             ]
            ],
            "type": "contour"
           }
          ],
          "contourcarpet": [
           {
            "colorbar": {
             "outlinewidth": 0,
             "ticks": ""
            },
            "type": "contourcarpet"
           }
          ],
          "heatmap": [
           {
            "colorbar": {
             "outlinewidth": 0,
             "ticks": ""
            },
            "colorscale": [
             [
              0,
              "#0d0887"
             ],
             [
              0.1111111111111111,
              "#46039f"
             ],
             [
              0.2222222222222222,
              "#7201a8"
             ],
             [
              0.3333333333333333,
              "#9c179e"
             ],
             [
              0.4444444444444444,
              "#bd3786"
             ],
             [
              0.5555555555555556,
              "#d8576b"
             ],
             [
              0.6666666666666666,
              "#ed7953"
             ],
             [
              0.7777777777777778,
              "#fb9f3a"
             ],
             [
              0.8888888888888888,
              "#fdca26"
             ],
             [
              1,
              "#f0f921"
             ]
            ],
            "type": "heatmap"
           }
          ],
          "histogram": [
           {
            "marker": {
             "pattern": {
              "fillmode": "overlay",
              "size": 10,
              "solidity": 0.2
             }
            },
            "type": "histogram"
           }
          ],
          "histogram2d": [
           {
            "colorbar": {
             "outlinewidth": 0,
             "ticks": ""
            },
            "colorscale": [
             [
              0,
              "#0d0887"
             ],
             [
              0.1111111111111111,
              "#46039f"
             ],
             [
              0.2222222222222222,
              "#7201a8"
             ],
             [
              0.3333333333333333,
              "#9c179e"
             ],
             [
              0.4444444444444444,
              "#bd3786"
             ],
             [
              0.5555555555555556,
              "#d8576b"
             ],
             [
              0.6666666666666666,
              "#ed7953"
             ],
             [
              0.7777777777777778,
              "#fb9f3a"
             ],
             [
              0.8888888888888888,
              "#fdca26"
             ],
             [
              1,
              "#f0f921"
             ]
            ],
            "type": "histogram2d"
           }
          ],
          "histogram2dcontour": [
           {
            "colorbar": {
             "outlinewidth": 0,
             "ticks": ""
            },
            "colorscale": [
             [
              0,
              "#0d0887"
             ],
             [
              0.1111111111111111,
              "#46039f"
             ],
             [
              0.2222222222222222,
              "#7201a8"
             ],
             [
              0.3333333333333333,
              "#9c179e"
             ],
             [
              0.4444444444444444,
              "#bd3786"
             ],
             [
              0.5555555555555556,
              "#d8576b"
             ],
             [
              0.6666666666666666,
              "#ed7953"
             ],
             [
              0.7777777777777778,
              "#fb9f3a"
             ],
             [
              0.8888888888888888,
              "#fdca26"
             ],
             [
              1,
              "#f0f921"
             ]
            ],
            "type": "histogram2dcontour"
           }
          ],
          "mesh3d": [
           {
            "colorbar": {
             "outlinewidth": 0,
             "ticks": ""
            },
            "type": "mesh3d"
           }
          ],
          "parcoords": [
           {
            "line": {
             "colorbar": {
              "outlinewidth": 0,
              "ticks": ""
             }
            },
            "type": "parcoords"
           }
          ],
          "pie": [
           {
            "automargin": true,
            "type": "pie"
           }
          ],
          "scatter": [
           {
            "fillpattern": {
             "fillmode": "overlay",
             "size": 10,
             "solidity": 0.2
            },
            "type": "scatter"
           }
          ],
          "scatter3d": [
           {
            "line": {
             "colorbar": {
              "outlinewidth": 0,
              "ticks": ""
             }
            },
            "marker": {
             "colorbar": {
              "outlinewidth": 0,
              "ticks": ""
             }
            },
            "type": "scatter3d"
           }
          ],
          "scattercarpet": [
           {
            "marker": {
             "colorbar": {
              "outlinewidth": 0,
              "ticks": ""
             }
            },
            "type": "scattercarpet"
           }
          ],
          "scattergeo": [
           {
            "marker": {
             "colorbar": {
              "outlinewidth": 0,
              "ticks": ""
             }
            },
            "type": "scattergeo"
           }
          ],
          "scattergl": [
           {
            "marker": {
             "colorbar": {
              "outlinewidth": 0,
              "ticks": ""
             }
            },
            "type": "scattergl"
           }
          ],
          "scattermap": [
           {
            "marker": {
             "colorbar": {
              "outlinewidth": 0,
              "ticks": ""
             }
            },
            "type": "scattermap"
           }
          ],
          "scattermapbox": [
           {
            "marker": {
             "colorbar": {
              "outlinewidth": 0,
              "ticks": ""
             }
            },
            "type": "scattermapbox"
           }
          ],
          "scatterpolar": [
           {
            "marker": {
             "colorbar": {
              "outlinewidth": 0,
              "ticks": ""
             }
            },
            "type": "scatterpolar"
           }
          ],
          "scatterpolargl": [
           {
            "marker": {
             "colorbar": {
              "outlinewidth": 0,
              "ticks": ""
             }
            },
            "type": "scatterpolargl"
           }
          ],
          "scatterternary": [
           {
            "marker": {
             "colorbar": {
              "outlinewidth": 0,
              "ticks": ""
             }
            },
            "type": "scatterternary"
           }
          ],
          "surface": [
           {
            "colorbar": {
             "outlinewidth": 0,
             "ticks": ""
            },
            "colorscale": [
             [
              0,
              "#0d0887"
             ],
             [
              0.1111111111111111,
              "#46039f"
             ],
             [
              0.2222222222222222,
              "#7201a8"
             ],
             [
              0.3333333333333333,
              "#9c179e"
             ],
             [
              0.4444444444444444,
              "#bd3786"
             ],
             [
              0.5555555555555556,
              "#d8576b"
             ],
             [
              0.6666666666666666,
              "#ed7953"
             ],
             [
              0.7777777777777778,
              "#fb9f3a"
             ],
             [
              0.8888888888888888,
              "#fdca26"
             ],
             [
              1,
              "#f0f921"
             ]
            ],
            "type": "surface"
           }
          ],
          "table": [
           {
            "cells": {
             "fill": {
              "color": "#EBF0F8"
             },
             "line": {
              "color": "white"
             }
            },
            "header": {
             "fill": {
              "color": "#C8D4E3"
             },
             "line": {
              "color": "white"
             }
            },
            "type": "table"
           }
          ]
         },
         "layout": {
          "annotationdefaults": {
           "arrowcolor": "#2a3f5f",
           "arrowhead": 0,
           "arrowwidth": 1
          },
          "autotypenumbers": "strict",
          "coloraxis": {
           "colorbar": {
            "outlinewidth": 0,
            "ticks": ""
           }
          },
          "colorscale": {
           "diverging": [
            [
             0,
             "#8e0152"
            ],
            [
             0.1,
             "#c51b7d"
            ],
            [
             0.2,
             "#de77ae"
            ],
            [
             0.3,
             "#f1b6da"
            ],
            [
             0.4,
             "#fde0ef"
            ],
            [
             0.5,
             "#f7f7f7"
            ],
            [
             0.6,
             "#e6f5d0"
            ],
            [
             0.7,
             "#b8e186"
            ],
            [
             0.8,
             "#7fbc41"
            ],
            [
             0.9,
             "#4d9221"
            ],
            [
             1,
             "#276419"
            ]
           ],
           "sequential": [
            [
             0,
             "#0d0887"
            ],
            [
             0.1111111111111111,
             "#46039f"
            ],
            [
             0.2222222222222222,
             "#7201a8"
            ],
            [
             0.3333333333333333,
             "#9c179e"
            ],
            [
             0.4444444444444444,
             "#bd3786"
            ],
            [
             0.5555555555555556,
             "#d8576b"
            ],
            [
             0.6666666666666666,
             "#ed7953"
            ],
            [
             0.7777777777777778,
             "#fb9f3a"
            ],
            [
             0.8888888888888888,
             "#fdca26"
            ],
            [
             1,
             "#f0f921"
            ]
           ],
           "sequentialminus": [
            [
             0,
             "#0d0887"
            ],
            [
             0.1111111111111111,
             "#46039f"
            ],
            [
             0.2222222222222222,
             "#7201a8"
            ],
            [
             0.3333333333333333,
             "#9c179e"
            ],
            [
             0.4444444444444444,
             "#bd3786"
            ],
            [
             0.5555555555555556,
             "#d8576b"
            ],
            [
             0.6666666666666666,
             "#ed7953"
            ],
            [
             0.7777777777777778,
             "#fb9f3a"
            ],
            [
             0.8888888888888888,
             "#fdca26"
            ],
            [
             1,
             "#f0f921"
            ]
           ]
          },
          "colorway": [
           "#636efa",
           "#EF553B",
           "#00cc96",
           "#ab63fa",
           "#FFA15A",
           "#19d3f3",
           "#FF6692",
           "#B6E880",
           "#FF97FF",
           "#FECB52"
          ],
          "font": {
           "color": "#2a3f5f"
          },
          "geo": {
           "bgcolor": "white",
           "lakecolor": "white",
           "landcolor": "#E5ECF6",
           "showlakes": true,
           "showland": true,
           "subunitcolor": "white"
          },
          "hoverlabel": {
           "align": "left"
          },
          "hovermode": "closest",
          "mapbox": {
           "style": "light"
          },
          "paper_bgcolor": "white",
          "plot_bgcolor": "#E5ECF6",
          "polar": {
           "angularaxis": {
            "gridcolor": "white",
            "linecolor": "white",
            "ticks": ""
           },
           "bgcolor": "#E5ECF6",
           "radialaxis": {
            "gridcolor": "white",
            "linecolor": "white",
            "ticks": ""
           }
          },
          "scene": {
           "xaxis": {
            "backgroundcolor": "#E5ECF6",
            "gridcolor": "white",
            "gridwidth": 2,
            "linecolor": "white",
            "showbackground": true,
            "ticks": "",
            "zerolinecolor": "white"
           },
           "yaxis": {
            "backgroundcolor": "#E5ECF6",
            "gridcolor": "white",
            "gridwidth": 2,
            "linecolor": "white",
            "showbackground": true,
            "ticks": "",
            "zerolinecolor": "white"
           },
           "zaxis": {
            "backgroundcolor": "#E5ECF6",
            "gridcolor": "white",
            "gridwidth": 2,
            "linecolor": "white",
            "showbackground": true,
            "ticks": "",
            "zerolinecolor": "white"
           }
          },
          "shapedefaults": {
           "line": {
            "color": "#2a3f5f"
           }
          },
          "ternary": {
           "aaxis": {
            "gridcolor": "white",
            "linecolor": "white",
            "ticks": ""
           },
           "baxis": {
            "gridcolor": "white",
            "linecolor": "white",
            "ticks": ""
           },
           "bgcolor": "#E5ECF6",
           "caxis": {
            "gridcolor": "white",
            "linecolor": "white",
            "ticks": ""
           }
          },
          "title": {
           "x": 0.05
          },
          "xaxis": {
           "automargin": true,
           "gridcolor": "white",
           "linecolor": "white",
           "ticks": "",
           "title": {
            "standoff": 15
           },
           "zerolinecolor": "white",
           "zerolinewidth": 2
          },
          "yaxis": {
           "automargin": true,
           "gridcolor": "white",
           "linecolor": "white",
           "ticks": "",
           "title": {
            "standoff": 15
           },
           "zerolinecolor": "white",
           "zerolinewidth": 2
          }
         }
        },
        "title": {
         "text": "UMAP Projection of 5 Random Clusters"
        },
        "xaxis": {
         "anchor": "y",
         "domain": [
          0,
          1
         ],
         "title": {
          "text": "UMAP1"
         }
        },
        "yaxis": {
         "anchor": "x",
         "domain": [
          0,
          1
         ],
         "title": {
          "text": "UMAP2"
         }
        }
       }
      }
     },
     "metadata": {},
     "output_type": "display_data"
    }
   ],
   "source": [
    "import pandas as pd\n",
    "import plotly.express as px\n",
    "\n",
    "\n",
    "df = pd.DataFrame(\n",
    "    {\n",
    "        'UMAP1': X_umap[:, 0],\n",
    "        'UMAP2': X_umap[:, 1],\n",
    "        'cluster': y,\n",
    "    }\n",
    ")\n",
    "\n",
    "fig = px.scatter(\n",
    "    df,\n",
    "    x='UMAP1',\n",
    "    y='UMAP2',\n",
    "    color='cluster',\n",
    "    hover_data=['cluster'],\n",
    ")\n",
    "fig.show()"
   ]
  },
  {
   "cell_type": "markdown",
   "id": "72425319",
   "metadata": {},
   "source": [
    "### 5"
   ]
  },
  {
   "cell_type": "code",
   "execution_count": null,
   "id": "6a42c91f",
   "metadata": {},
   "outputs": [],
   "source": [
    "from itertools import combinations\n",
    "\n",
    "from math_rag.application.models.assistants.inputs import MathExpressionComparator as AssistantInput\n",
    "from math_rag.core.models import MathExpressionGroup\n",
    "\n",
    "\n",
    "# NOTE: cluster must consists of math expression ids\n",
    "for cluster in clusters:\n",
    "    descriptions = await math_expression_description_opt_repository.find_many(cluster)\n",
    "\n",
    "    for pair in list(combinations(descriptions, 2)):\n",
    "        pass\n",
    "\n",
    "    # TODO how to get context\n",
    "\n",
    "    inputs, input_id_to_item = InputCreatorUtil.create(\n",
    "        math_expression_descriptions,\n",
    "        lambda x: AssistantInput(katex=None, context=None, other_katex=None, other_context=None),\n",
    "    )\n",
    "    outputs = await math_expression_comparator_assistant.concurrent_assist(inputs)\n",
    "\n",
    "    group = MathExpressionGroup(math_expression_index_id=index.id)\n",
    "    # await math_expression_group_repository.insert_one(group)\n",
    "    # await math_expression_repository.update_group_id(cluster, group.id)"
   ]
  },
  {
   "cell_type": "code",
   "execution_count": 2,
   "id": "6cd44278",
   "metadata": {},
   "outputs": [
    {
     "data": {
      "text/plain": [
       "1225"
      ]
     },
     "execution_count": 2,
     "metadata": {},
     "output_type": "execute_result"
    }
   ],
   "source": [
    "import math\n",
    "\n",
    "\n",
    "math.comb(50, 2)"
   ]
  },
  {
   "cell_type": "markdown",
   "id": "839ee39e",
   "metadata": {},
   "source": [
    "## Relationships"
   ]
  },
  {
   "cell_type": "markdown",
   "id": "ab2f6fdc",
   "metadata": {},
   "source": [
    "### 1"
   ]
  },
  {
   "cell_type": "code",
   "execution_count": null,
   "id": "542a3754",
   "metadata": {},
   "outputs": [],
   "source": [
    "from math_rag.application.models.assistants.inputs import (\n",
    "    MathExpressionRelationshipDescriptionWriter as AssistantInput,\n",
    ")\n",
    "\n",
    "\n",
    "# TODO MISSING RELATIONSHIP DETECTOR PROMPT???\n",
    "\n",
    "# TODO\n",
    "# iterate over chunks\n",
    "# send input for each (previous index, last index) pair\n",
    "\n",
    "# TODO add direction for each relationship\n",
    "\n",
    "for chunk in chunks:\n",
    "    indexes = TemplateIndexFinderUtil.find(chunk)\n",
    "\n",
    "    inputs, input_id_to_item = InputCreatorUtil.create(\n",
    "        math_expression_descriptions,\n",
    "        lambda x: AssistantInput(chunk=..., source=..., target=...),\n",
    "    )"
   ]
  },
  {
   "cell_type": "code",
   "execution_count": null,
   "id": "0b331784",
   "metadata": {},
   "outputs": [],
   "source": [
    "from math_rag.core.models import MathExpressionRelationship"
   ]
  },
  {
   "cell_type": "code",
   "execution_count": null,
   "id": "e55ee240",
   "metadata": {},
   "outputs": [],
   "source": [
    "from math_rag.core.models import MathExpressionRelationshipDescription"
   ]
  }
 ],
 "metadata": {
  "kernelspec": {
   "display_name": ".venv",
   "language": "python",
   "name": "python3"
  },
  "language_info": {
   "codemirror_mode": {
    "name": "ipython",
    "version": 3
   },
   "file_extension": ".py",
   "mimetype": "text/x-python",
   "name": "python",
   "nbconvert_exporter": "python",
   "pygments_lexer": "ipython3",
   "version": "3.12.7"
  }
 },
 "nbformat": 4,
 "nbformat_minor": 5
}
