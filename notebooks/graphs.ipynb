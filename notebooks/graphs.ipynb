{
 "cells": [
  {
   "cell_type": "code",
   "execution_count": 1,
   "id": "f32ba622",
   "metadata": {},
   "outputs": [],
   "source": [
    "from typing import TYPE_CHECKING\n",
    "\n",
    "\n",
    "if TYPE_CHECKING:\n",
    "    from math_rag.application.containers import ApplicationContainer\n",
    "    from math_rag.infrastructure.containers import InfrastructureContainer\n",
    "\n",
    "    application_container: ApplicationContainer\n",
    "    infrastructure_container: InfrastructureContainer"
   ]
  },
  {
   "cell_type": "code",
   "execution_count": 2,
   "id": "0c020d58",
   "metadata": {},
   "outputs": [
    {
     "name": "stderr",
     "output_type": "stream",
     "text": [
      "2025-07-10 19:07:24,381 - INFO - datasets - config.py:54 - PyTorch version 2.6.0 available.\n"
     ]
    }
   ],
   "source": [
    "RESET = False\n",
    "%load_ext hooks.notebook_hook"
   ]
  },
  {
   "cell_type": "code",
   "execution_count": 3,
   "id": "eb39d1d0",
   "metadata": {},
   "outputs": [
    {
     "name": "stderr",
     "output_type": "stream",
     "text": [
      "2025-07-10 19:07:25,070 - INFO - googleapiclient.discovery_cache - __init__.py:49 - file_cache is only supported with oauth2client<4.0.0\n"
     ]
    }
   ],
   "source": [
    "from pathlib import Path\n",
    "\n",
    "\n",
    "google_drive_repository = infrastructure_container.google_drive_repository()\n",
    "math_article_parser_service = infrastructure_container.math_article_parser_service()\n",
    "\n",
    "file_id = google_drive_repository.get_file_id(\n",
    "    Path('ml/lectures/L07-LogisticRegression2/2024_08_10_2174b40686820b4cb591g.tex')\n",
    ")\n",
    "\n",
    "if not file_id:\n",
    "    raise ValueError()\n",
    "\n",
    "file_content = google_drive_repository.get_file_by_id(file_id)"
   ]
  },
  {
   "cell_type": "code",
   "execution_count": 4,
   "id": "081db754",
   "metadata": {},
   "outputs": [],
   "source": [
    "from math_rag.core.models import Index\n",
    "\n",
    "\n",
    "index = Index()"
   ]
  },
  {
   "cell_type": "code",
   "execution_count": null,
   "id": "92db620c",
   "metadata": {},
   "outputs": [],
   "source": [
    "katex_corrector_assistant = application_container.katex_corrector_assistant()\n",
    "katex_corrector_retrier_assistant = application_container.katex_corrector_retrier_assistant()\n",
    "math_expression_description_writer_assistant = (\n",
    "    application_container.math_expression_description_writer_assistant()\n",
    ")\n",
    "math_expression_description_optimizer_assistant = (\n",
    "    application_container.math_expression_description_optimizer_assistant()\n",
    ")\n",
    "math_expression_comparator_assistant = application_container.math_expression_comparator_assistant()\n",
    "math_expression_relationship_description_writer_assistant = (\n",
    "    application_container.math_expression_relationship_description_writer_assistant()\n",
    ")\n",
    "\n",
    "default_embedder = application_container.default_embedder()\n",
    "math_expression_description_optimized_repository = (\n",
    "    infrastructure_container.math_expression_description_optimized_repository()\n",
    ")\n",
    "math_expression_description_repository = (\n",
    "    infrastructure_container.math_expression_description_repository()\n",
    ")\n",
    "clusterer_service = application_container.clusterer_service()"
   ]
  },
  {
   "cell_type": "markdown",
   "id": "816adeb6",
   "metadata": {},
   "source": [
    "### 1"
   ]
  },
  {
   "cell_type": "code",
   "execution_count": 6,
   "id": "5aad9ce7",
   "metadata": {},
   "outputs": [],
   "source": [
    "from math_rag.core.models import MathArticle, MathExpression\n",
    "\n",
    "\n",
    "math_article = MathArticle(\n",
    "    math_expression_dataset_id=None,\n",
    "    index_id=None,\n",
    "    name='article',\n",
    "    bytes=file_content.getvalue(),\n",
    ")\n",
    "math_nodes, _, template = math_article_parser_service.parse_for_index(math_article)\n",
    "katexes = [math_node.latex.strip('$') for math_node in math_nodes]"
   ]
  },
  {
   "cell_type": "code",
   "execution_count": null,
   "id": "3c74253b",
   "metadata": {},
   "outputs": [],
   "source": [
    "katex_corrector_service = application_container.katex_corrector_service()\n",
    "\n",
    "valid_katexes = await katex_corrector_service.correct(katexes, max_num_retries=3)\n",
    "math_expressions = [\n",
    "    MathExpression(\n",
    "        math_article_id=math_article.id,\n",
    "        math_expression_dataset_id=None,\n",
    "        math_expression_group_id=None,\n",
    "        index_id=index.id,\n",
    "        latex=node.latex,\n",
    "        katex=katex,\n",
    "        position=node.position,\n",
    "        is_inline=node.is_inline,\n",
    "    )\n",
    "    for node, katex in zip(math_nodes, valid_katexes)\n",
    "]\n",
    "math_expressions.sort(key=lambda x: x.position)"
   ]
  },
  {
   "cell_type": "markdown",
   "id": "cd377fa0",
   "metadata": {},
   "source": [
    "### 2"
   ]
  },
  {
   "cell_type": "code",
   "execution_count": null,
   "id": "7ff0d725",
   "metadata": {},
   "outputs": [],
   "source": [
    "# TODO\n",
    "from uuid import UUID\n",
    "\n",
    "from pydantic import BaseModel\n",
    "\n",
    "\n",
    "class MathExpressionContext(BaseModel):  # TODO unused at the moment\n",
    "    math_expression_id: UUID  # TODO\n",
    "    text: str\n",
    "    index_to_katex: dict[int, str]\n",
    "\n",
    "\n",
    "# TODO connect everything with math expression id"
   ]
  },
  {
   "cell_type": "code",
   "execution_count": 11,
   "id": "53e5d8c5",
   "metadata": {},
   "outputs": [],
   "source": [
    "from math_rag.infrastructure.utils import TemplateContextChunkerUtil, TemplateFormatterUtil\n",
    "\n",
    "\n",
    "context_chunks = TemplateContextChunkerUtil.chunk(template, max_context_size=1000)"
   ]
  },
  {
   "cell_type": "code",
   "execution_count": 16,
   "id": "1c6aaf30",
   "metadata": {},
   "outputs": [
    {
     "name": "stdout",
     "output_type": "stream",
     "text": [
      "(\"above consideration, we can conclude that the batch gradient descent could be improved if we take into account not only the slope (gradient) but also the curvature (the change in gradient, i.e., the second derivative) of the error function. Such optimization methods are referred to as second-order optimization, as opposed to first-order optimization methods, such as gradient descent. The basic second-order optimization method is the Newton's method.\\n\\n\\nConsider minimization of function [math_placeholder | 1]. We know that the parameter update in gradient descent is as follows:\\n\\n[math_placeholder | 2]\\n\\nIf we introduce an index for the iterations, then we can write this as an equation:\\n\\n[math_placeholder | 3]\\n\\nThe idea with Newton's method is to take the point [math_placeholder | 4] (the current minimum) and compute at it the quadratic approximation of the function [math_placeholder | 5], and then move to the minimizer of this quadratic approximation (which is known analytically). If [math_placeholder | 6]\", [1, 2, 3, 4, 5, 6])\n"
     ]
    }
   ],
   "source": [
    "print(context_chunks[1])"
   ]
  },
  {
   "cell_type": "code",
   "execution_count": null,
   "id": "7c764cf2",
   "metadata": {},
   "outputs": [],
   "source": [
    "from math_rag.application.models.assistants.inputs import (\n",
    "    MathExpressionDescriptionWriter as AssistantInput,\n",
    ")\n",
    "from math_rag.core.models import MathExpressionDescription\n",
    "\n",
    "\n",
    "SLICE = 5  # TODO remove later, just for testing\n",
    "\n",
    "\n",
    "index_to_katex = {i: math_expression.katex for i, math_expression in enumerate(math_expressions)}\n",
    "index_to_math_expression_id = {\n",
    "    i: math_expression.id for i, math_expression in enumerate(math_expressions)\n",
    "}\n",
    "\n",
    "inputs: list[AssistantInput] = []\n",
    "input_id_to_math_expression_id: dict[UUID, UUID] = {}\n",
    "\n",
    "for chunk in context_chunks[:SLICE]:\n",
    "    context, indexes = TemplateFormatterUtil.format(\n",
    "        chunk, index_to_katex, omit_wrapper=False\n",
    "    )  # TODO\n",
    "\n",
    "    for i in indexes:\n",
    "        katex = index_to_katex[index]\n",
    "        input = AssistantInput(katex=f'[{i} | {katex}]', context=context)\n",
    "        inputs.append(input)\n",
    "\n",
    "        input_id_to_math_expression_id[input.id] = index_to_math_expression_id[i]\n",
    "\n",
    "outputs = await math_expression_description_writer_assistant.concurrent_assist(inputs)\n",
    "\n",
    "math_expression_descriptions = [\n",
    "    MathExpressionDescription(\n",
    "        index_id=index.id,\n",
    "        math_expression_id=input_id_to_math_expression_id[output.input_id],\n",
    "        description=output.description,\n",
    "    )\n",
    "    for output in outputs\n",
    "]"
   ]
  },
  {
   "cell_type": "code",
   "execution_count": 10,
   "id": "605301ef",
   "metadata": {},
   "outputs": [
    {
     "name": "stdout",
     "output_type": "stream",
     "text": [
      "[4 | \\mathbf{x}_{t}]\n",
      "the value of the parameter vector at iteration t in an iterative optimization process\n",
      "-----\n",
      "\n",
      "[5 | f(\\mathrm{x})]\n",
      "the function whose minimization is being considered in the context of optimization methods, specifically in the discussion of gradient descent and Newton's method\n",
      "-----\n",
      "\n",
      "[1 | f(\\mathbf{x})]\n",
      "the function being minimized in the context of optimization methods, where the input is a vector variable\n",
      "-----\n",
      "\n",
      "[4 | \\mathbf{x}_{t}]\n",
      "The current value of the parameter vector at iteration t in an iterative optimization algorithm.\n",
      "-----\n",
      "\n",
      "[6 | f]\n",
      "the function being minimized in the context of optimization methods, specifically referenced as the objective function in both gradient descent and Newton's method\n",
      "-----\n",
      "\n",
      "[1 | f(\\mathbf{x})]\n",
      "A function evaluated at a vector variable, representing the objective function to be minimized in the context of optimization methods such as gradient descent and Newton's method.\n",
      "-----\n",
      "\n",
      "[8 | x_{0}]\n",
      "the initial value or starting point for the variable x in the context of an iterative minimization process\n",
      "-----\n",
      "\n",
      "[1 | f(\\mathbf{x})]\n",
      "The target expression represents a general function evaluated at a vector variable, which is the objective function being minimized in the context of optimization methods such as gradient descent and Newton's method.\n",
      "-----\n",
      "\n",
      "[3 | \n",
      "\\mathbf{x}_{t+1}=\\mathbf{x}_{t}-\\eta \\nabla f\\left(\\mathbf{x}_{t}\\right)\n",
      "]\n",
      "The expression represents the iterative update rule for gradient descent, where the next iterate is obtained by subtracting the product of a step size and the gradient of the function evaluated at the current iterate from the current iterate.\n",
      "-----\n",
      "\n",
      "[0 | L_{2}]\n",
      "The target expression refers to the L2 regularization term, which is a commonly used penalty in optimization processes to prevent overfitting by discouraging large parameter values.\n",
      "-----\n",
      "\n",
      "[2 | \n",
      "\\mathbf{x} \\leftarrow \\mathbf{x}-\\eta \\nabla f(\\mathrm{x})\n",
      "]\n",
      "The target expression represents the standard parameter update rule in gradient descent, where the current parameter vector is updated by subtracting the product of a learning rate and the gradient of a function with respect to the parameter vector.\n",
      "-----\n",
      "\n",
      "[5 | f(\\mathrm{x})]\n",
      "the function being minimized in the context of Newton's method, evaluated at a variable x\n",
      "-----\n",
      "\n",
      "[4 | \\mathbf{x}_{t}]\n",
      "the value of the parameter vector at iteration t in an iterative optimization process\n",
      "-----\n",
      "\n",
      "[1 | f(\\mathbf{x})]\n",
      "the function being minimized in the context of optimization methods, specifically referenced as the objective function whose value depends on a vector input\n",
      "-----\n",
      "\n",
      "[4 | \\mathbf{x}_{t}]\n",
      "the value of the parameter vector at iteration t in an iterative optimization algorithm\n",
      "-----\n",
      "\n",
      "[2 | \n",
      "\\mathbf{x} \\leftarrow \\mathbf{x}-\\eta \\nabla f(\\mathrm{x})\n",
      "]\n",
      "The target expression represents the update rule for gradient descent, where the current value of the variable is updated by subtracting the product of a step size and the gradient of the function being minimized, both evaluated at the current variable value.\n",
      "-----\n",
      "\n",
      "[7 | f(x)]\n",
      "The target expression represents a function of a single variable, which is the function being minimized in the context of Newton's method for optimization. It is depicted as the black curve in the referenced image and is the subject of the minimization process described.\n",
      "-----\n",
      "\n",
      "[6 | f]\n",
      "The target expression refers to a function, denoted by a single letter, that is being minimized in the context of optimization methods. It is discussed as a general function, potentially of one variable, and is the main objective function in the minimization problem described.\n",
      "-----\n",
      "\n",
      "[8 | x_{0}]\n",
      "The target expression denotes the initial value or starting point for the variable x in the context of minimizing a function of one variable using Newton's method.\n",
      "-----\n",
      "\n",
      "[6 | f]\n",
      "The target expression denotes a function, referenced in the context as the objective function being minimized, and is specifically mentioned as a function of one variable in the discussion of Newton's method.\n",
      "-----\n",
      "\n",
      "[3 | \n",
      "\\mathbf{x}_{t+1}=\\mathbf{x}_{t}-\\eta \\nabla f\\left(\\mathbf{x}_{t}\\right)\n",
      "]\n",
      "The expression represents the iterative update rule for gradient descent, where the next iterate is obtained by subtracting the product of a step size and the gradient of the function evaluated at the current iterate from the current iterate.\n",
      "-----\n",
      "\n",
      "[2 | \n",
      "\\mathbf{x} \\leftarrow \\mathbf{x}-\\eta \\nabla f(\\mathrm{x})\n",
      "]\n",
      "This expression represents the parameter update rule in gradient descent, where the current value of the parameter vector is updated by subtracting the product of a learning rate and the gradient of the function being minimized, evaluated at the current parameter value.\n",
      "-----\n",
      "\n",
      "[5 | f(\\mathrm{x})]\n",
      "The target expression represents a function, denoted by a single letter, evaluated at a variable, and is the function being minimized in the context of optimization methods such as gradient descent and Newton's method.\n",
      "-----\n",
      "\n",
      "[5 | f(\\mathrm{x})]\n",
      "The target expression denotes a function of a variable, which is the function being minimized in the context of optimization methods such as gradient descent and Newton's method.\n",
      "-----\n",
      "\n",
      "[3 | \n",
      "\\mathbf{x}_{t+1}=\\mathbf{x}_{t}-\\eta \\nabla f\\left(\\mathbf{x}_{t}\\right)\n",
      "]\n",
      "The target expression represents the iterative update rule for gradient descent, where the parameter vector at the next iteration is obtained by subtracting the product of a step size and the gradient of the objective function (evaluated at the current parameter vector) from the current parameter vector.\n",
      "-----\n",
      "\n",
      "[6 | f]\n",
      "The target expression refers to a function named f, mentioned in the context of optimization methods, specifically as a function to be minimized. It is discussed both as a general function of a vector variable and, in this instance, as a function of a single variable.\n",
      "-----\n",
      "\n",
      "[3 | \n",
      "\\mathbf{x}_{t+1}=\\mathbf{x}_{t}-\\eta \\nabla f\\left(\\mathbf{x}_{t}\\right)\n",
      "]\n",
      "The target expression represents the iterative update rule for gradient descent, where the next value of the variable at iteration t+1 is obtained by subtracting the product of a step size and the gradient of the function evaluated at the current value from the current value itself.\n",
      "-----\n",
      "\n",
      "[7 | f(x)]\n",
      "The target expression represents a function of a single variable x, which is being minimized in the context of Newton's method. It is depicted as the black curve in a referenced image and is the subject of quadratic approximation at a specific starting point.\n",
      "-----\n",
      "\n",
      "[2 | \n",
      "\\mathbf{x} \\leftarrow \\mathbf{x}-\\eta \\nabla f(\\mathrm{x})\n",
      "]\n",
      "This expression represents the parameter update rule in gradient descent, where the current value of the parameter vector is updated by subtracting the product of a learning rate and the gradient of the objective function with respect to the parameter vector.\n",
      "-----\n",
      "\n"
     ]
    }
   ],
   "source": [
    "input_id_to_input = {input.id: input for input in inputs}\n",
    "\n",
    "for output in outputs:\n",
    "    print(input_id_to_input[output.input_id].katex)\n",
    "    print(output.description)\n",
    "    print('-----')\n",
    "    print()"
   ]
  },
  {
   "cell_type": "code",
   "execution_count": null,
   "id": "1f4eabbf",
   "metadata": {},
   "outputs": [],
   "source": [
    "math_expression_description_repository.insert_many(math_expression_descriptions)"
   ]
  },
  {
   "cell_type": "markdown",
   "id": "a82ebf8e",
   "metadata": {},
   "source": [
    "### 3"
   ]
  },
  {
   "cell_type": "code",
   "execution_count": null,
   "id": "55912beb",
   "metadata": {},
   "outputs": [],
   "source": [
    "from math_rag.application.models.assistants.inputs import (\n",
    "    MathExpressionDescriptionOptimizer as AssistantInput,\n",
    ")\n",
    "from math_rag.application.utils import InputCreatorUtil\n",
    "from math_rag.core.models import MathExpressionDescriptionOptimized\n",
    "\n",
    "\n",
    "inputs, input_id_to_item = InputCreatorUtil.create(\n",
    "    math_expression_descriptions, lambda x: AssistantInput(description=x.description)\n",
    ")\n",
    "outputs = await math_expression_description_optimizer_assistant.concurrent_assist(inputs)\n",
    "math_expression_descriptions_optimized = [\n",
    "    MathExpressionDescriptionOptimized(\n",
    "        math_expression_id=input_id_to_item[output.input_id].math_expression_id,\n",
    "        math_expression_description_id=input_id_to_item[output.input_id].id,\n",
    "        index_id=index.id,\n",
    "        description=output.description,\n",
    "    )\n",
    "    for output in outputs\n",
    "]"
   ]
  },
  {
   "cell_type": "code",
   "execution_count": 13,
   "id": "bf0aa5b4",
   "metadata": {},
   "outputs": [
    {
     "name": "stdout",
     "output_type": "stream",
     "text": [
      "Current value of the parameter vector at iteration t in an iterative optimization algorithm.\n",
      "-----\n",
      "\n",
      "Objective function minimized in optimization methods, specifically in gradient descent and Newton's method.\n",
      "-----\n",
      "\n",
      "Function targeted for minimization in optimization methods, particularly in gradient descent and Newton's method.\n",
      "-----\n",
      "\n",
      "Function of a variable minimized in optimization methods such as gradient descent and Newton's method.\n",
      "-----\n",
      "\n",
      "value of the parameter vector at iteration t in an iterative optimization process\n",
      "-----\n",
      "\n",
      "Function minimized using Newton's method, evaluated at variable x.\n",
      "-----\n",
      "\n",
      "L2 regularization is a penalty term in optimization that prevents overfitting by discouraging large parameter values.\n",
      "-----\n",
      "\n",
      "Standard parameter update rule in gradient descent: the current parameter vector is updated by subtracting the product of the learning rate and the gradient of a function with respect to the parameter vector.\n",
      "-----\n",
      "\n",
      "Function minimized in optimization methods with a vector variable input.\n",
      "-----\n",
      "\n",
      "A function of a vector variable representing the objective to be minimized in optimization methods including gradient descent and Newton's method.\n",
      "-----\n",
      "\n",
      "The target expression is the objective function being minimized, specifically a function of one variable in the context of Newton's method.\n",
      "-----\n",
      "\n",
      "Initial value or starting point for variable x in minimizing a single-variable function using Newton's method.\n",
      "-----\n",
      "\n",
      "Parameter update rule in gradient descent: the parameter vector is updated by subtracting the product of the learning rate and the gradient of the objective function with respect to the parameter vector.\n",
      "-----\n",
      "\n",
      "Parameter update rule in gradient descent: the parameter vector is updated by subtracting the product of the learning rate and the gradient of the minimized function, evaluated at the current parameter value.\n",
      "-----\n",
      "\n",
      "The expression defines the gradient descent update rule: at iteration t+1, the variable is updated by subtracting the product of the step size and the gradient of the function at the current value from the current value.\n",
      "-----\n",
      "\n",
      "The expression defines the gradient descent update rule: the next parameter vector equals the current parameter vector minus the step size multiplied by the gradient of the objective function evaluated at the current parameter vector.\n",
      "-----\n",
      "\n",
      "Objective function in optimization methods; its value depends on a vector input and is minimized.\n",
      "-----\n",
      "\n",
      "A single-variable function f(x) minimized using Newton's method, represented as the black curve in a referenced image and subject to quadratic approximation at a specific starting point.\n",
      "-----\n",
      "\n",
      "initial value or starting point for variable x in an iterative minimization process\n",
      "-----\n",
      "\n",
      "value of the parameter vector at iteration t in an iterative optimization process\n",
      "-----\n",
      "\n",
      "A single-letter function evaluated at a variable, representing the objective function minimized in optimization methods like gradient descent and Newton's method.\n",
      "-----\n",
      "\n",
      "The expression defines the gradient descent update: the next iterate equals the current iterate minus the step size times the gradient of the function evaluated at the current iterate.\n",
      "-----\n",
      "\n",
      "Function of a single variable minimized using Newton's method, depicted as the black curve in the referenced image and subject of the described minimization process.\n",
      "-----\n",
      "\n",
      "The expression defines the gradient descent update rule: the variable is updated by subtracting the product of the step size and the gradient of the function, both evaluated at the current variable value.\n",
      "-----\n",
      "\n",
      "parameter vector value at iteration t in an iterative optimization algorithm\n",
      "-----\n",
      "\n",
      "Function f, referenced in optimization methods, is to be minimized and is considered both as a general function of a vector variable and, in this instance, as a function of a single variable.\n",
      "-----\n",
      "\n",
      "The expression defines the gradient descent update rule: the next iterate equals the current iterate minus the step size multiplied by the gradient of the function at the current iterate.\n",
      "-----\n",
      "\n",
      "General function evaluated at a vector variable, serving as the objective function minimized in optimization methods including gradient descent and Newton's method.\n",
      "-----\n",
      "\n",
      "A single-letter function representing the main objective in an optimization problem, discussed as a general function, potentially of one variable, and subject to minimization.\n",
      "-----\n",
      "\n"
     ]
    }
   ],
   "source": [
    "input_id_to_input = {input.id: input for input in inputs}\n",
    "\n",
    "for output in outputs:\n",
    "    print(output.description)\n",
    "    print('-----')\n",
    "    print()"
   ]
  },
  {
   "cell_type": "code",
   "execution_count": null,
   "id": "72734a11",
   "metadata": {},
   "outputs": [],
   "source": [
    "from math_rag.application.models.embedders import EmbedderInput\n",
    "\n",
    "\n",
    "inputs, input_id_to_item = InputCreatorUtil.create(\n",
    "    math_expression_descriptions_optimized, lambda x: EmbedderInput(text=x.description)\n",
    ")\n",
    "outputs = await default_embedder.concurrent_embed(inputs)"
   ]
  },
  {
   "cell_type": "code",
   "execution_count": null,
   "id": "347b81a5",
   "metadata": {},
   "outputs": [],
   "source": [
    "from more_itertools import unzip\n",
    "\n",
    "\n",
    "input_id_to_embedding = {output.input_id: output.embedding for output in outputs}\n",
    "\n",
    "\n",
    "descriptions, embeddings = unzip(\n",
    "    (input_id_to_item[i.id], input_id_to_embedding[i.id]) for i in inputs\n",
    ")\n",
    "\n",
    "await math_expression_description_optimized_repository.upsert_many(descriptions, embeddings)"
   ]
  },
  {
   "cell_type": "markdown",
   "id": "c99dd1ea",
   "metadata": {},
   "source": [
    "### 4"
   ]
  },
  {
   "cell_type": "code",
   "execution_count": null,
   "id": "88992ee8",
   "metadata": {},
   "outputs": [],
   "source": [
    "callback = clusterer_service.cluster\n",
    "clusters = await math_expression_description_optimized_repository.cluster(callback)"
   ]
  },
  {
   "cell_type": "code",
   "execution_count": null,
   "id": "7a4ac99e",
   "metadata": {},
   "outputs": [],
   "source": [
    "import os\n",
    "\n",
    "from sklearn.datasets import make_blobs\n",
    "\n",
    "\n",
    "os.environ['NUMBA_CPU_FEATURES'] = str()  # avoid kernel crash on arm\n",
    "import umap\n",
    "\n",
    "\n",
    "# synthetic data\n",
    "X, y = make_blobs(\n",
    "    n_samples=500,\n",
    "    centers=5,\n",
    "    n_features=10,\n",
    "    cluster_std=1.0,\n",
    "    random_state=42,\n",
    ")\n",
    "\n",
    "reducer = umap.UMAP(\n",
    "    n_components=2,\n",
    "    metric='euclidean',\n",
    "    random_state=None,\n",
    ")\n",
    "X_umap = reducer.fit_transform(X)"
   ]
  },
  {
   "cell_type": "code",
   "execution_count": null,
   "id": "ba0cfb36",
   "metadata": {},
   "outputs": [
    {
     "data": {
      "application/vnd.plotly.v1+json": {
       "config": {
        "plotlyServerURL": "https://plot.ly"
       },
       "data": [
        {
         "customdata": {
          "bdata": "BAQDAQIBAAQAAwQDBAACAQQDAwAEAgMBAAACAAQDAgEEBAICAAAABAEAAwIEBAMEAgACBAMBAQEBAgQBAAABAQAEAQIBAwMDAQQCAwMDBAMBAgQCAAICAwABBAQEAgABAAQDBAQCAwACAQMAAAQEBAIEAAQDAgIEBAQCAgIEAAIAAgMBAQMDAQMABAECAAECAAICAgIDAgQEAwADAAEDAAQCAQQCBAABAAEEAgMEAAQCAQADBAAAAAQEAgMBAQMDAAMDAAMAAQADBAQCAgADBAMEAQQCBAIEAAACAgQABAMEAAECBAMCAwMAAAQDAQEBAAIEAgEEBAMABAICAAICBAMDAgEEAQQAAAMBAQMEAQQCAQMBAwMBBAAAAAIDAgEEAQAABAEAAQMAAAADAwEDAAIDAwECBAAAAAICAAACAgEAAwAEAwIBAAEDAwECAwIBAQQBAgIDAAMEAAMCAAIEAgQCAQEDAwIBAQIBAwMCAQADAwMCAQMBAAMCAQEBAQMEAAQBAwIAAAQCAQEDAwEBAgADAQIDAAECAAIBAwECAQQAAAQBAQMEBAIDBAQEBAECAwIBAgIBAQQCAQACBAEDAAMBBAQAAAQDBAIEAAABAwEAAQQDAAIBAAABAgEAAwMDBAECAQQCAwICAwIAAAQDAwAEAQA=",
          "dtype": "i1",
          "shape": "500, 1"
         },
         "hovertemplate": "UMAP1=%{x}<br>UMAP2=%{y}<br>cluster=%{marker.color}<extra></extra>",
         "legendgroup": "",
         "marker": {
          "color": {
           "bdata": "BAQDAQIBAAQAAwQDBAACAQQDAwAEAgMBAAACAAQDAgEEBAICAAAABAEAAwIEBAMEAgACBAMBAQEBAgQBAAABAQAEAQIBAwMDAQQCAwMDBAMBAgQCAAICAwABBAQEAgABAAQDBAQCAwACAQMAAAQEBAIEAAQDAgIEBAQCAgIEAAIAAgMBAQMDAQMABAECAAECAAICAgIDAgQEAwADAAEDAAQCAQQCBAABAAEEAgMEAAQCAQADBAAAAAQEAgMBAQMDAAMDAAMAAQADBAQCAgADBAMEAQQCBAIEAAACAgQABAMEAAECBAMCAwMAAAQDAQEBAAIEAgEEBAMABAICAAICBAMDAgEEAQQAAAMBAQMEAQQCAQMBAwMBBAAAAAIDAgEEAQAABAEAAQMAAAADAwEDAAIDAwECBAAAAAICAAACAgEAAwAEAwIBAAEDAwECAwIBAQQBAgIDAAMEAAMCAAIEAgQCAQEDAwIBAQIBAwMCAQADAwMCAQMBAAMCAQEBAQMEAAQBAwIAAAQCAQEDAwEBAgADAQIDAAECAAIBAwECAQQAAAQBAQMEBAIDBAQEBAECAwIBAgIBAQQCAQACBAEDAAMBBAQAAAQDBAIEAAABAwEAAQQDAAIBAAABAgEAAwMDBAECAQQCAwICAwIAAAQDAwAEAQA=",
           "dtype": "i1"
          },
          "coloraxis": "coloraxis",
          "symbol": "circle"
         },
         "mode": "markers",
         "name": "",
         "orientation": "v",
         "showlegend": false,
         "type": "scatter",
         "x": {
          "bdata": "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",
          "dtype": "f4"
         },
         "xaxis": "x",
         "y": {
          "bdata": "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",
          "dtype": "f4"
         },
         "yaxis": "y"
        }
       ],
       "layout": {
        "coloraxis": {
         "colorbar": {
          "title": {
           "text": "cluster"
          }
         },
         "colorscale": [
          [
           0,
           "#0d0887"
          ],
          [
           0.1111111111111111,
           "#46039f"
          ],
          [
           0.2222222222222222,
           "#7201a8"
          ],
          [
           0.3333333333333333,
           "#9c179e"
          ],
          [
           0.4444444444444444,
           "#bd3786"
          ],
          [
           0.5555555555555556,
           "#d8576b"
          ],
          [
           0.6666666666666666,
           "#ed7953"
          ],
          [
           0.7777777777777778,
           "#fb9f3a"
          ],
          [
           0.8888888888888888,
           "#fdca26"
          ],
          [
           1,
           "#f0f921"
          ]
         ]
        },
        "legend": {
         "tracegroupgap": 0
        },
        "template": {
         "data": {
          "bar": [
           {
            "error_x": {
             "color": "#2a3f5f"
            },
            "error_y": {
             "color": "#2a3f5f"
            },
            "marker": {
             "line": {
              "color": "#E5ECF6",
              "width": 0.5
             },
             "pattern": {
              "fillmode": "overlay",
              "size": 10,
              "solidity": 0.2
             }
            },
            "type": "bar"
           }
          ],
          "barpolar": [
           {
            "marker": {
             "line": {
              "color": "#E5ECF6",
              "width": 0.5
             },
             "pattern": {
              "fillmode": "overlay",
              "size": 10,
              "solidity": 0.2
             }
            },
            "type": "barpolar"
           }
          ],
          "carpet": [
           {
            "aaxis": {
             "endlinecolor": "#2a3f5f",
             "gridcolor": "white",
             "linecolor": "white",
             "minorgridcolor": "white",
             "startlinecolor": "#2a3f5f"
            },
            "baxis": {
             "endlinecolor": "#2a3f5f",
             "gridcolor": "white",
             "linecolor": "white",
             "minorgridcolor": "white",
             "startlinecolor": "#2a3f5f"
            },
            "type": "carpet"
           }
          ],
          "choropleth": [
           {
            "colorbar": {
             "outlinewidth": 0,
             "ticks": ""
            },
            "type": "choropleth"
           }
          ],
          "contour": [
           {
            "colorbar": {
             "outlinewidth": 0,
             "ticks": ""
            },
            "colorscale": [
             [
              0,
              "#0d0887"
             ],
             [
              0.1111111111111111,
              "#46039f"
             ],
             [
              0.2222222222222222,
              "#7201a8"
             ],
             [
              0.3333333333333333,
              "#9c179e"
             ],
             [
              0.4444444444444444,
              "#bd3786"
             ],
             [
              0.5555555555555556,
              "#d8576b"
             ],
             [
              0.6666666666666666,
              "#ed7953"
             ],
             [
              0.7777777777777778,
              "#fb9f3a"
             ],
             [
              0.8888888888888888,
              "#fdca26"
             ],
             [
              1,
              "#f0f921"
             ]
            ],
            "type": "contour"
           }
          ],
          "contourcarpet": [
           {
            "colorbar": {
             "outlinewidth": 0,
             "ticks": ""
            },
            "type": "contourcarpet"
           }
          ],
          "heatmap": [
           {
            "colorbar": {
             "outlinewidth": 0,
             "ticks": ""
            },
            "colorscale": [
             [
              0,
              "#0d0887"
             ],
             [
              0.1111111111111111,
              "#46039f"
             ],
             [
              0.2222222222222222,
              "#7201a8"
             ],
             [
              0.3333333333333333,
              "#9c179e"
             ],
             [
              0.4444444444444444,
              "#bd3786"
             ],
             [
              0.5555555555555556,
              "#d8576b"
             ],
             [
              0.6666666666666666,
              "#ed7953"
             ],
             [
              0.7777777777777778,
              "#fb9f3a"
             ],
             [
              0.8888888888888888,
              "#fdca26"
             ],
             [
              1,
              "#f0f921"
             ]
            ],
            "type": "heatmap"
           }
          ],
          "histogram": [
           {
            "marker": {
             "pattern": {
              "fillmode": "overlay",
              "size": 10,
              "solidity": 0.2
             }
            },
            "type": "histogram"
           }
          ],
          "histogram2d": [
           {
            "colorbar": {
             "outlinewidth": 0,
             "ticks": ""
            },
            "colorscale": [
             [
              0,
              "#0d0887"
             ],
             [
              0.1111111111111111,
              "#46039f"
             ],
             [
              0.2222222222222222,
              "#7201a8"
             ],
             [
              0.3333333333333333,
              "#9c179e"
             ],
             [
              0.4444444444444444,
              "#bd3786"
             ],
             [
              0.5555555555555556,
              "#d8576b"
             ],
             [
              0.6666666666666666,
              "#ed7953"
             ],
             [
              0.7777777777777778,
              "#fb9f3a"
             ],
             [
              0.8888888888888888,
              "#fdca26"
             ],
             [
              1,
              "#f0f921"
             ]
            ],
            "type": "histogram2d"
           }
          ],
          "histogram2dcontour": [
           {
            "colorbar": {
             "outlinewidth": 0,
             "ticks": ""
            },
            "colorscale": [
             [
              0,
              "#0d0887"
             ],
             [
              0.1111111111111111,
              "#46039f"
             ],
             [
              0.2222222222222222,
              "#7201a8"
             ],
             [
              0.3333333333333333,
              "#9c179e"
             ],
             [
              0.4444444444444444,
              "#bd3786"
             ],
             [
              0.5555555555555556,
              "#d8576b"
             ],
             [
              0.6666666666666666,
              "#ed7953"
             ],
             [
              0.7777777777777778,
              "#fb9f3a"
             ],
             [
              0.8888888888888888,
              "#fdca26"
             ],
             [
              1,
              "#f0f921"
             ]
            ],
            "type": "histogram2dcontour"
           }
          ],
          "mesh3d": [
           {
            "colorbar": {
             "outlinewidth": 0,
             "ticks": ""
            },
            "type": "mesh3d"
           }
          ],
          "parcoords": [
           {
            "line": {
             "colorbar": {
              "outlinewidth": 0,
              "ticks": ""
             }
            },
            "type": "parcoords"
           }
          ],
          "pie": [
           {
            "automargin": true,
            "type": "pie"
           }
          ],
          "scatter": [
           {
            "fillpattern": {
             "fillmode": "overlay",
             "size": 10,
             "solidity": 0.2
            },
            "type": "scatter"
           }
          ],
          "scatter3d": [
           {
            "line": {
             "colorbar": {
              "outlinewidth": 0,
              "ticks": ""
             }
            },
            "marker": {
             "colorbar": {
              "outlinewidth": 0,
              "ticks": ""
             }
            },
            "type": "scatter3d"
           }
          ],
          "scattercarpet": [
           {
            "marker": {
             "colorbar": {
              "outlinewidth": 0,
              "ticks": ""
             }
            },
            "type": "scattercarpet"
           }
          ],
          "scattergeo": [
           {
            "marker": {
             "colorbar": {
              "outlinewidth": 0,
              "ticks": ""
             }
            },
            "type": "scattergeo"
           }
          ],
          "scattergl": [
           {
            "marker": {
             "colorbar": {
              "outlinewidth": 0,
              "ticks": ""
             }
            },
            "type": "scattergl"
           }
          ],
          "scattermap": [
           {
            "marker": {
             "colorbar": {
              "outlinewidth": 0,
              "ticks": ""
             }
            },
            "type": "scattermap"
           }
          ],
          "scattermapbox": [
           {
            "marker": {
             "colorbar": {
              "outlinewidth": 0,
              "ticks": ""
             }
            },
            "type": "scattermapbox"
           }
          ],
          "scatterpolar": [
           {
            "marker": {
             "colorbar": {
              "outlinewidth": 0,
              "ticks": ""
             }
            },
            "type": "scatterpolar"
           }
          ],
          "scatterpolargl": [
           {
            "marker": {
             "colorbar": {
              "outlinewidth": 0,
              "ticks": ""
             }
            },
            "type": "scatterpolargl"
           }
          ],
          "scatterternary": [
           {
            "marker": {
             "colorbar": {
              "outlinewidth": 0,
              "ticks": ""
             }
            },
            "type": "scatterternary"
           }
          ],
          "surface": [
           {
            "colorbar": {
             "outlinewidth": 0,
             "ticks": ""
            },
            "colorscale": [
             [
              0,
              "#0d0887"
             ],
             [
              0.1111111111111111,
              "#46039f"
             ],
             [
              0.2222222222222222,
              "#7201a8"
             ],
             [
              0.3333333333333333,
              "#9c179e"
             ],
             [
              0.4444444444444444,
              "#bd3786"
             ],
             [
              0.5555555555555556,
              "#d8576b"
             ],
             [
              0.6666666666666666,
              "#ed7953"
             ],
             [
              0.7777777777777778,
              "#fb9f3a"
             ],
             [
              0.8888888888888888,
              "#fdca26"
             ],
             [
              1,
              "#f0f921"
             ]
            ],
            "type": "surface"
           }
          ],
          "table": [
           {
            "cells": {
             "fill": {
              "color": "#EBF0F8"
             },
             "line": {
              "color": "white"
             }
            },
            "header": {
             "fill": {
              "color": "#C8D4E3"
             },
             "line": {
              "color": "white"
             }
            },
            "type": "table"
           }
          ]
         },
         "layout": {
          "annotationdefaults": {
           "arrowcolor": "#2a3f5f",
           "arrowhead": 0,
           "arrowwidth": 1
          },
          "autotypenumbers": "strict",
          "coloraxis": {
           "colorbar": {
            "outlinewidth": 0,
            "ticks": ""
           }
          },
          "colorscale": {
           "diverging": [
            [
             0,
             "#8e0152"
            ],
            [
             0.1,
             "#c51b7d"
            ],
            [
             0.2,
             "#de77ae"
            ],
            [
             0.3,
             "#f1b6da"
            ],
            [
             0.4,
             "#fde0ef"
            ],
            [
             0.5,
             "#f7f7f7"
            ],
            [
             0.6,
             "#e6f5d0"
            ],
            [
             0.7,
             "#b8e186"
            ],
            [
             0.8,
             "#7fbc41"
            ],
            [
             0.9,
             "#4d9221"
            ],
            [
             1,
             "#276419"
            ]
           ],
           "sequential": [
            [
             0,
             "#0d0887"
            ],
            [
             0.1111111111111111,
             "#46039f"
            ],
            [
             0.2222222222222222,
             "#7201a8"
            ],
            [
             0.3333333333333333,
             "#9c179e"
            ],
            [
             0.4444444444444444,
             "#bd3786"
            ],
            [
             0.5555555555555556,
             "#d8576b"
            ],
            [
             0.6666666666666666,
             "#ed7953"
            ],
            [
             0.7777777777777778,
             "#fb9f3a"
            ],
            [
             0.8888888888888888,
             "#fdca26"
            ],
            [
             1,
             "#f0f921"
            ]
           ],
           "sequentialminus": [
            [
             0,
             "#0d0887"
            ],
            [
             0.1111111111111111,
             "#46039f"
            ],
            [
             0.2222222222222222,
             "#7201a8"
            ],
            [
             0.3333333333333333,
             "#9c179e"
            ],
            [
             0.4444444444444444,
             "#bd3786"
            ],
            [
             0.5555555555555556,
             "#d8576b"
            ],
            [
             0.6666666666666666,
             "#ed7953"
            ],
            [
             0.7777777777777778,
             "#fb9f3a"
            ],
            [
             0.8888888888888888,
             "#fdca26"
            ],
            [
             1,
             "#f0f921"
            ]
           ]
          },
          "colorway": [
           "#636efa",
           "#EF553B",
           "#00cc96",
           "#ab63fa",
           "#FFA15A",
           "#19d3f3",
           "#FF6692",
           "#B6E880",
           "#FF97FF",
           "#FECB52"
          ],
          "font": {
           "color": "#2a3f5f"
          },
          "geo": {
           "bgcolor": "white",
           "lakecolor": "white",
           "landcolor": "#E5ECF6",
           "showlakes": true,
           "showland": true,
           "subunitcolor": "white"
          },
          "hoverlabel": {
           "align": "left"
          },
          "hovermode": "closest",
          "mapbox": {
           "style": "light"
          },
          "paper_bgcolor": "white",
          "plot_bgcolor": "#E5ECF6",
          "polar": {
           "angularaxis": {
            "gridcolor": "white",
            "linecolor": "white",
            "ticks": ""
           },
           "bgcolor": "#E5ECF6",
           "radialaxis": {
            "gridcolor": "white",
            "linecolor": "white",
            "ticks": ""
           }
          },
          "scene": {
           "xaxis": {
            "backgroundcolor": "#E5ECF6",
            "gridcolor": "white",
            "gridwidth": 2,
            "linecolor": "white",
            "showbackground": true,
            "ticks": "",
            "zerolinecolor": "white"
           },
           "yaxis": {
            "backgroundcolor": "#E5ECF6",
            "gridcolor": "white",
            "gridwidth": 2,
            "linecolor": "white",
            "showbackground": true,
            "ticks": "",
            "zerolinecolor": "white"
           },
           "zaxis": {
            "backgroundcolor": "#E5ECF6",
            "gridcolor": "white",
            "gridwidth": 2,
            "linecolor": "white",
            "showbackground": true,
            "ticks": "",
            "zerolinecolor": "white"
           }
          },
          "shapedefaults": {
           "line": {
            "color": "#2a3f5f"
           }
          },
          "ternary": {
           "aaxis": {
            "gridcolor": "white",
            "linecolor": "white",
            "ticks": ""
           },
           "baxis": {
            "gridcolor": "white",
            "linecolor": "white",
            "ticks": ""
           },
           "bgcolor": "#E5ECF6",
           "caxis": {
            "gridcolor": "white",
            "linecolor": "white",
            "ticks": ""
           }
          },
          "title": {
           "x": 0.05
          },
          "xaxis": {
           "automargin": true,
           "gridcolor": "white",
           "linecolor": "white",
           "ticks": "",
           "title": {
            "standoff": 15
           },
           "zerolinecolor": "white",
           "zerolinewidth": 2
          },
          "yaxis": {
           "automargin": true,
           "gridcolor": "white",
           "linecolor": "white",
           "ticks": "",
           "title": {
            "standoff": 15
           },
           "zerolinecolor": "white",
           "zerolinewidth": 2
          }
         }
        },
        "title": {
         "text": "UMAP Projection of 5 Random Clusters"
        },
        "xaxis": {
         "anchor": "y",
         "domain": [
          0,
          1
         ],
         "title": {
          "text": "UMAP1"
         }
        },
        "yaxis": {
         "anchor": "x",
         "domain": [
          0,
          1
         ],
         "title": {
          "text": "UMAP2"
         }
        }
       }
      }
     },
     "metadata": {},
     "output_type": "display_data"
    }
   ],
   "source": [
    "import pandas as pd\n",
    "import plotly.express as px\n",
    "\n",
    "\n",
    "df = pd.DataFrame(\n",
    "    {\n",
    "        'UMAP1': X_umap[:, 0],\n",
    "        'UMAP2': X_umap[:, 1],\n",
    "        'cluster': y,\n",
    "    }\n",
    ")\n",
    "\n",
    "fig = px.scatter(\n",
    "    df,\n",
    "    x='UMAP1',\n",
    "    y='UMAP2',\n",
    "    color='cluster',\n",
    "    hover_data=['cluster'],\n",
    ")\n",
    "fig.show()"
   ]
  },
  {
   "cell_type": "markdown",
   "id": "72425319",
   "metadata": {},
   "source": [
    "### 5"
   ]
  },
  {
   "cell_type": "code",
   "execution_count": null,
   "id": "6a42c91f",
   "metadata": {},
   "outputs": [],
   "source": [
    "from itertools import combinations\n",
    "\n",
    "from math_rag.application.models.assistants.inputs import (\n",
    "    MathExpressionComparator as AssistantInput,\n",
    ")\n",
    "\n",
    "\n",
    "for cluster in clusters:\n",
    "    descriptions = await math_expression_description_optimized_repository.find_many(cluster)\n",
    "\n",
    "    for pair in list(combinations(descriptions, 2)):\n",
    "        pass\n",
    "\n",
    "    # TODO how to get context\n",
    "\n",
    "    # inputs, input_id_to_item = InputCreatorUtil.create(\n",
    "    #     math_expression_descriptions,\n",
    "    #     lambda x: AssistantInput(katex=None, context=None, other_katex=None, other_context=None),\n",
    "    # )\n",
    "    outputs = await math_expression_comparator_assistant.concurrent_assist(inputs)"
   ]
  },
  {
   "cell_type": "code",
   "execution_count": null,
   "id": "8fa073d5",
   "metadata": {},
   "outputs": [],
   "source": [
    "# TODO make migration with math_expression_group_id field\n",
    "# TODO manually create and index MathExpressionGroup"
   ]
  },
  {
   "cell_type": "code",
   "execution_count": 2,
   "id": "6cd44278",
   "metadata": {},
   "outputs": [
    {
     "data": {
      "text/plain": [
       "1225"
      ]
     },
     "execution_count": 2,
     "metadata": {},
     "output_type": "execute_result"
    }
   ],
   "source": [
    "import math\n",
    "\n",
    "\n",
    "math.comb(50, 2)"
   ]
  }
 ],
 "metadata": {
  "kernelspec": {
   "display_name": ".venv",
   "language": "python",
   "name": "python3"
  },
  "language_info": {
   "codemirror_mode": {
    "name": "ipython",
    "version": 3
   },
   "file_extension": ".py",
   "mimetype": "text/x-python",
   "name": "python",
   "nbconvert_exporter": "python",
   "pygments_lexer": "ipython3",
   "version": "3.12.7"
  }
 },
 "nbformat": 4,
 "nbformat_minor": 5
}
