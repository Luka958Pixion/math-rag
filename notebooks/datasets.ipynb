{
 "cells": [
  {
   "cell_type": "code",
   "execution_count": 1,
   "metadata": {},
   "outputs": [],
   "source": [
    "from typing import TYPE_CHECKING\n",
    "\n",
    "\n",
    "if TYPE_CHECKING:\n",
    "    from math_rag.application.containers import ApplicationContainer\n",
    "    from math_rag.infrastructure.containers import InfrastructureContainer\n",
    "\n",
    "    application_container: ApplicationContainer\n",
    "    infrastructure_container: InfrastructureContainer"
   ]
  },
  {
   "cell_type": "code",
   "execution_count": 2,
   "metadata": {},
   "outputs": [
    {
     "name": "stderr",
     "output_type": "stream",
     "text": [
      "2025-06-18 19:14:13,079 - INFO - PyTorch version 2.6.0 available.\n"
     ]
    }
   ],
   "source": [
    "RESET = False\n",
    "%load_ext hooks.notebook_hook"
   ]
  },
  {
   "cell_type": "markdown",
   "metadata": {},
   "source": [
    "### Correct"
   ]
  },
  {
   "cell_type": "code",
   "execution_count": 3,
   "metadata": {},
   "outputs": [],
   "source": [
    "incorrect_katex = r'd\\omega = \\theta \\w \\omega'\n",
    "error = (\n",
    "    r'KaTeX parse error: Undefined control sequence: \\w at position 18: …omega = \\theta \\̲w̲ ̲\\omega'\n",
    ")"
   ]
  },
  {
   "cell_type": "code",
   "execution_count": 4,
   "metadata": {},
   "outputs": [],
   "source": [
    "from math_rag.application.models.assistants import KatexCorrectorAssistantInput\n",
    "\n",
    "\n",
    "input = KatexCorrectorAssistantInput(katex=incorrect_katex, error=error)"
   ]
  },
  {
   "cell_type": "code",
   "execution_count": 5,
   "metadata": {},
   "outputs": [
    {
     "name": "stdout",
     "output_type": "stream",
     "text": [
      "d\\omega = \\theta \\wedge \\omega\n"
     ]
    },
    {
     "ename": "NameError",
     "evalue": "name 'Math' is not defined",
     "output_type": "error",
     "traceback": [
      "\u001b[0;31m---------------------------------------------------------------------------\u001b[0m",
      "\u001b[0;31mNameError\u001b[0m                                 Traceback (most recent call last)",
      "Cell \u001b[0;32mIn[5], line 6\u001b[0m\n\u001b[1;32m      4\u001b[0m corrected_katex \u001b[38;5;241m=\u001b[39m output\u001b[38;5;241m.\u001b[39mkatex\n\u001b[1;32m      5\u001b[0m \u001b[38;5;28mprint\u001b[39m(corrected_katex)\n\u001b[0;32m----> 6\u001b[0m display(\u001b[43mMath\u001b[49m(corrected_katex))\n",
      "\u001b[0;31mNameError\u001b[0m: name 'Math' is not defined"
     ]
    }
   ],
   "source": [
    "katex_corrector_assistant = application_container.katex_corrector_assistant()\n",
    "\n",
    "output = await katex_corrector_assistant.assist(input)\n",
    "corrected_katex = output.katex\n",
    "print(corrected_katex)\n",
    "display(Math(corrected_katex))"
   ]
  },
  {
   "cell_type": "markdown",
   "metadata": {},
   "source": [
    "### Dataset"
   ]
  },
  {
   "cell_type": "code",
   "execution_count": null,
   "metadata": {},
   "outputs": [],
   "source": [
    "hugging_face_api = infrastructure_container.hugging_face_api()\n",
    "hugging_face_username = infrastructure_container.config.hugging_face.username()\n",
    "hugging_face_token = infrastructure_container.config.hugging_face.token()"
   ]
  },
  {
   "cell_type": "code",
   "execution_count": null,
   "metadata": {},
   "outputs": [],
   "source": [
    "from datasets import load_dataset\n",
    "from datasets.download import DownloadConfig\n",
    "\n",
    "\n",
    "repo_id = f'{hugging_face_username}/mathexpressiondataset'\n",
    "\n",
    "download_config = DownloadConfig(\n",
    "    max_retries=3,\n",
    "    disable_tqdm=True,\n",
    ")\n",
    "\n",
    "dataset_dict = load_dataset(\n",
    "    path=repo_id,\n",
    "    split=None,\n",
    "    download_config=download_config,\n",
    "    token=hugging_face_token,\n",
    "    trust_remote_code=True,\n",
    ")"
   ]
  },
  {
   "cell_type": "code",
   "execution_count": null,
   "metadata": {},
   "outputs": [
    {
     "data": {
      "text/plain": [
       "['equality', 'inequality', 'constant', 'variable', 'other']"
      ]
     },
     "execution_count": 8,
     "metadata": {},
     "output_type": "execute_result"
    }
   ],
   "source": [
    "from typing import cast\n",
    "\n",
    "from datasets import ClassLabel\n",
    "\n",
    "\n",
    "class_label = cast(ClassLabel, dataset_dict['train'].features['label'])\n",
    "class_label.names"
   ]
  },
  {
   "cell_type": "code",
   "execution_count": null,
   "metadata": {},
   "outputs": [],
   "source": [
    "for x in dataset_dict['train']:\n",
    "    print(x)"
   ]
  },
  {
   "cell_type": "markdown",
   "metadata": {},
   "source": [
    "### OpenAI finish reasons"
   ]
  },
  {
   "cell_type": "code",
   "execution_count": null,
   "metadata": {},
   "outputs": [],
   "source": [
    "response_with_length_finish_reason = {\n",
    "    'id': 'batch_req_68338415d224819095e7e42c4aeac8f8',\n",
    "    'custom_id': 'b9b237e5-d1c8-4348-9c90-f29e998228a6',\n",
    "    'response': {\n",
    "        'status_code': 200,\n",
    "        'request_id': 'a12fbd18fe2366571f083c2b6e707c96',\n",
    "        'body': {\n",
    "            'id': 'chatcmpl-BbB9Kx0P0WJlR2r4I1SuRkYa2Mvn0',\n",
    "            'object': 'chat.completion',\n",
    "            'created': 1748200694,\n",
    "            'model': 'gpt-4.1-nano-2025-04-14',\n",
    "            'choices': [\n",
    "                {\n",
    "                    'index': 0,\n",
    "                    'message': {\n",
    "                        'role': 'assistant',\n",
    "                        'content': 'some too long content...',\n",
    "                        'refusal': None,\n",
    "                        'annotations': [],\n",
    "                    },\n",
    "                    'logprobs': None,\n",
    "                    'finish_reason': 'length',\n",
    "                }\n",
    "            ],\n",
    "            'usage': {\n",
    "                'prompt_tokens': 285,\n",
    "                'completion_tokens': 1024,\n",
    "                'total_tokens': 1309,\n",
    "                'prompt_tokens_details': {'cached_tokens': 0, 'audio_tokens': 0},\n",
    "                'completion_tokens_details': {\n",
    "                    'reasoning_tokens': 0,\n",
    "                    'audio_tokens': 0,\n",
    "                    'accepted_prediction_tokens': 0,\n",
    "                    'rejected_prediction_tokens': 0,\n",
    "                },\n",
    "            },\n",
    "            'service_tier': 'default',\n",
    "            'system_fingerprint': 'fp_eede8f0d45',\n",
    "        },\n",
    "    },\n",
    "    'error': None,\n",
    "}"
   ]
  },
  {
   "cell_type": "code",
   "execution_count": null,
   "metadata": {},
   "outputs": [
    {
     "name": "stdout",
     "output_type": "stream",
     "text": [
      "length\n"
     ]
    },
    {
     "ename": "LengthFinishReasonError",
     "evalue": "Could not parse response content as the length limit was reached - CompletionUsage(completion_tokens=1024, prompt_tokens=285, total_tokens=1309, completion_tokens_details=CompletionTokensDetails(accepted_prediction_tokens=0, audio_tokens=0, reasoning_tokens=0, rejected_prediction_tokens=0), prompt_tokens_details=PromptTokensDetails(audio_tokens=0, cached_tokens=0))",
     "output_type": "error",
     "traceback": [
      "\u001b[0;31m---------------------------------------------------------------------------\u001b[0m",
      "\u001b[0;31mLengthFinishReasonError\u001b[0m                   Traceback (most recent call last)",
      "Cell \u001b[0;32mIn[6], line 15\u001b[0m\n\u001b[1;32m     12\u001b[0m         \u001b[38;5;28mprint\u001b[39m(choice\u001b[38;5;241m.\u001b[39mfinish_reason)\n\u001b[1;32m     13\u001b[0m         \u001b[38;5;28;01mpass\u001b[39;00m\n\u001b[0;32m---> 15\u001b[0m target \u001b[38;5;241m=\u001b[39m \u001b[43mparse_chat_completion\u001b[49m\u001b[43m(\u001b[49m\n\u001b[1;32m     16\u001b[0m \u001b[43m    \u001b[49m\u001b[43mresponse_format\u001b[49m\u001b[38;5;241;43m=\u001b[39;49m\u001b[43mNOT_GIVEN\u001b[49m\u001b[43m,\u001b[49m\n\u001b[1;32m     17\u001b[0m \u001b[43m    \u001b[49m\u001b[43minput_tools\u001b[49m\u001b[38;5;241;43m=\u001b[39;49m\u001b[43mNOT_GIVEN\u001b[49m\u001b[43m,\u001b[49m\n\u001b[1;32m     18\u001b[0m \u001b[43m    \u001b[49m\u001b[43mchat_completion\u001b[49m\u001b[38;5;241;43m=\u001b[39;49m\u001b[43mchat_completion\u001b[49m\u001b[43m,\u001b[49m\n\u001b[1;32m     19\u001b[0m \u001b[43m)\u001b[49m\n",
      "File \u001b[0;32m/workspaces/.venv/lib/python3.12/site-packages/openai/lib/_parsing/_completions.py:72\u001b[0m, in \u001b[0;36mparse_chat_completion\u001b[0;34m(response_format, input_tools, chat_completion)\u001b[0m\n\u001b[1;32m     70\u001b[0m \u001b[38;5;28;01mfor\u001b[39;00m choice \u001b[38;5;129;01min\u001b[39;00m chat_completion\u001b[38;5;241m.\u001b[39mchoices:\n\u001b[1;32m     71\u001b[0m     \u001b[38;5;28;01mif\u001b[39;00m choice\u001b[38;5;241m.\u001b[39mfinish_reason \u001b[38;5;241m==\u001b[39m \u001b[38;5;124m\"\u001b[39m\u001b[38;5;124mlength\u001b[39m\u001b[38;5;124m\"\u001b[39m:\n\u001b[0;32m---> 72\u001b[0m         \u001b[38;5;28;01mraise\u001b[39;00m LengthFinishReasonError(completion\u001b[38;5;241m=\u001b[39mchat_completion)\n\u001b[1;32m     74\u001b[0m     \u001b[38;5;28;01mif\u001b[39;00m choice\u001b[38;5;241m.\u001b[39mfinish_reason \u001b[38;5;241m==\u001b[39m \u001b[38;5;124m\"\u001b[39m\u001b[38;5;124mcontent_filter\u001b[39m\u001b[38;5;124m\"\u001b[39m:\n\u001b[1;32m     75\u001b[0m         \u001b[38;5;28;01mraise\u001b[39;00m ContentFilterFinishReasonError()\n",
      "\u001b[0;31mLengthFinishReasonError\u001b[0m: Could not parse response content as the length limit was reached - CompletionUsage(completion_tokens=1024, prompt_tokens=285, total_tokens=1309, completion_tokens_details=CompletionTokensDetails(accepted_prediction_tokens=0, audio_tokens=0, reasoning_tokens=0, rejected_prediction_tokens=0), prompt_tokens_details=PromptTokensDetails(audio_tokens=0, cached_tokens=0))"
     ]
    }
   ],
   "source": [
    "from openai import NOT_GIVEN\n",
    "from openai.lib._parsing._completions import (\n",
    "    parse_chat_completion,\n",
    ")\n",
    "from openai.types.chat import ChatCompletion\n",
    "\n",
    "\n",
    "chat_completion = ChatCompletion(**response_with_length_finish_reason['response']['body'])\n",
    "\n",
    "for choice in chat_completion.choices:\n",
    "    if choice.finish_reason == 'length' or choice.finish_reason == 'content_filter':\n",
    "        print(choice.finish_reason)\n",
    "        pass\n",
    "\n",
    "target = parse_chat_completion(\n",
    "    response_format=NOT_GIVEN,\n",
    "    input_tools=NOT_GIVEN,\n",
    "    chat_completion=chat_completion,\n",
    ")"
   ]
  },
  {
   "cell_type": "markdown",
   "metadata": {},
   "source": [
    "### Label Studio"
   ]
  },
  {
   "cell_type": "code",
   "execution_count": 5,
   "metadata": {},
   "outputs": [],
   "source": [
    "from uuid import UUID\n",
    "\n",
    "\n",
    "importer_service = application_container.math_expression_label_task_importer_service()\n",
    "exporter_service = application_container.math_expression_label_exporter_service()"
   ]
  },
  {
   "cell_type": "code",
   "execution_count": 9,
   "metadata": {},
   "outputs": [
    {
     "ename": "ApiError",
     "evalue": "status_code: 400, body: {'id': '87a27cd0-acf7-4290-9fb5-0622de8d77c5', 'status_code': 400, 'version': '1.19.0', 'detail': 'Validation error', 'exc_info': None, 'validation_errors': {'label_config': ['not well-formed (invalid token): line 1, column 27']}}",
     "output_type": "error",
     "traceback": [
      "\u001b[0;31m---------------------------------------------------------------------------\u001b[0m",
      "\u001b[0;31mApiError\u001b[0m                                  Traceback (most recent call last)",
      "Cell \u001b[0;32mIn[9], line 1\u001b[0m\n\u001b[0;32m----> 1\u001b[0m project_id \u001b[38;5;241m=\u001b[39m \u001b[38;5;28;01mawait\u001b[39;00m importer_service\u001b[38;5;241m.\u001b[39mimport_tasks(\n\u001b[1;32m      2\u001b[0m     \u001b[38;5;28;01mNone\u001b[39;00m, dataset_id\u001b[38;5;241m=\u001b[39mUUID(\u001b[38;5;124m'\u001b[39m\u001b[38;5;124m1260dfdb-8c6a-4001-a007-1c60766a6754\u001b[39m\u001b[38;5;124m'\u001b[39m), split_name\u001b[38;5;241m=\u001b[39m\u001b[38;5;124m'\u001b[39m\u001b[38;5;124mtest\u001b[39m\u001b[38;5;124m'\u001b[39m\n\u001b[1;32m      3\u001b[0m )\n",
      "File \u001b[0;32m/workspaces/math_rag/application/services/math_expression_label_task_importer_service.py:76\u001b[0m, in \u001b[0;36mMathExpressionLabelTaskImporterService.import_tasks\u001b[0;34m(self, project_id, dataset_id, split_name)\u001b[0m\n\u001b[1;32m     69\u001b[0m field_name_to_tag_type \u001b[38;5;241m=\u001b[39m {\n\u001b[1;32m     70\u001b[0m     \u001b[38;5;124m'\u001b[39m\u001b[38;5;124mhtml\u001b[39m\u001b[38;5;124m'\u001b[39m: \u001b[38;5;124m'\u001b[39m\u001b[38;5;124mhyper_text\u001b[39m\u001b[38;5;124m'\u001b[39m,\n\u001b[1;32m     71\u001b[0m     \u001b[38;5;124m'\u001b[39m\u001b[38;5;124mkatex\u001b[39m\u001b[38;5;124m'\u001b[39m: \u001b[38;5;124m'\u001b[39m\u001b[38;5;124mtext\u001b[39m\u001b[38;5;124m'\u001b[39m,\n\u001b[1;32m     72\u001b[0m     \u001b[38;5;124m'\u001b[39m\u001b[38;5;124mlabel\u001b[39m\u001b[38;5;124m'\u001b[39m: \u001b[38;5;124m'\u001b[39m\u001b[38;5;124mchoices\u001b[39m\u001b[38;5;124m'\u001b[39m,\n\u001b[1;32m     73\u001b[0m }\n\u001b[1;32m     74\u001b[0m label_config \u001b[38;5;241m=\u001b[39m \u001b[38;5;28mself\u001b[39m\u001b[38;5;241m.\u001b[39mlabel_config_builder_service\u001b[38;5;241m.\u001b[39mbuild(field_name_to_tag_type, label_names)\n\u001b[0;32m---> 76\u001b[0m \u001b[38;5;28;01mreturn\u001b[39;00m \u001b[38;5;28;01mawait\u001b[39;00m \u001b[38;5;28mself\u001b[39m\u001b[38;5;241m.\u001b[39mlabel_task_importer_service\u001b[38;5;241m.\u001b[39mimport_tasks(\n\u001b[1;32m     77\u001b[0m     project_id,\n\u001b[1;32m     78\u001b[0m     project_name\u001b[38;5;241m=\u001b[39mproject_name,\n\u001b[1;32m     79\u001b[0m     label_config\u001b[38;5;241m=\u001b[39mlabel_config,\n\u001b[1;32m     80\u001b[0m     label_instruction\u001b[38;5;241m=\u001b[39mlabel_instruction,\n\u001b[1;32m     81\u001b[0m     tasks\u001b[38;5;241m=\u001b[39mtasks,\n\u001b[1;32m     82\u001b[0m )\n",
      "File \u001b[0;32m/workspaces/math_rag/infrastructure/services/label_studio_task_importer_service.py:54\u001b[0m, in \u001b[0;36mLabelStudioTaskImporterService.import_tasks\u001b[0;34m(self, project_id, project_name, label_config, label_instruction, tasks)\u001b[0m\n\u001b[1;32m     52\u001b[0m request \u001b[38;5;241m=\u001b[39m [task\u001b[38;5;241m.\u001b[39mmodel_dump() \u001b[38;5;28;01mfor\u001b[39;00m task \u001b[38;5;129;01min\u001b[39;00m tasks]\n\u001b[1;32m     53\u001b[0m project_callback \u001b[38;5;241m=\u001b[39m \u001b[38;5;28mself\u001b[39m\u001b[38;5;241m.\u001b[39m_create_project \u001b[38;5;28;01mif\u001b[39;00m project_id \u001b[38;5;129;01mis\u001b[39;00m \u001b[38;5;28;01mNone\u001b[39;00m \u001b[38;5;28;01melse\u001b[39;00m \u001b[38;5;28mself\u001b[39m\u001b[38;5;241m.\u001b[39m_update_project\n\u001b[0;32m---> 54\u001b[0m project \u001b[38;5;241m=\u001b[39m \u001b[38;5;28;01mawait\u001b[39;00m project_callback(project_name, label_config, label_instruction)\n\u001b[1;32m     55\u001b[0m response \u001b[38;5;241m=\u001b[39m \u001b[38;5;28;01mawait\u001b[39;00m \u001b[38;5;28mself\u001b[39m\u001b[38;5;241m.\u001b[39masync_label_studio\u001b[38;5;241m.\u001b[39mprojects\u001b[38;5;241m.\u001b[39mimport_tasks(project\u001b[38;5;241m.\u001b[39mid, request\u001b[38;5;241m=\u001b[39mrequest)\n\u001b[1;32m     56\u001b[0m logger\u001b[38;5;241m.\u001b[39minfo(\u001b[38;5;124mf\u001b[39m\u001b[38;5;124m'\u001b[39m\u001b[38;5;124mImported \u001b[39m\u001b[38;5;132;01m{\u001b[39;00mresponse\u001b[38;5;241m.\u001b[39mtask_count\u001b[38;5;132;01m}\u001b[39;00m\u001b[38;5;124m tasks into \u001b[39m\u001b[38;5;132;01m{\u001b[39;00mproject\u001b[38;5;241m.\u001b[39mtitle\u001b[38;5;132;01m}\u001b[39;00m\u001b[38;5;124m'\u001b[39m)\n",
      "File \u001b[0;32m/workspaces/math_rag/infrastructure/services/label_studio_task_importer_service.py:20\u001b[0m, in \u001b[0;36mLabelStudioTaskImporterService._create_project\u001b[0;34m(self, title, label_config, label_instruction)\u001b[0m\n\u001b[1;32m     17\u001b[0m \u001b[38;5;28;01masync\u001b[39;00m \u001b[38;5;28;01mdef\u001b[39;00m\u001b[38;5;250m \u001b[39m\u001b[38;5;21m_create_project\u001b[39m(\n\u001b[1;32m     18\u001b[0m     \u001b[38;5;28mself\u001b[39m, title: \u001b[38;5;28mstr\u001b[39m, label_config: \u001b[38;5;28mstr\u001b[39m, label_instruction: \u001b[38;5;28mstr\u001b[39m \u001b[38;5;241m|\u001b[39m \u001b[38;5;28;01mNone\u001b[39;00m\n\u001b[1;32m     19\u001b[0m ) \u001b[38;5;241m-\u001b[39m\u001b[38;5;241m>\u001b[39m Project:\n\u001b[0;32m---> 20\u001b[0m     response \u001b[38;5;241m=\u001b[39m \u001b[38;5;28;01mawait\u001b[39;00m \u001b[38;5;28mself\u001b[39m\u001b[38;5;241m.\u001b[39masync_label_studio\u001b[38;5;241m.\u001b[39mprojects\u001b[38;5;241m.\u001b[39mcreate(\n\u001b[1;32m     21\u001b[0m         title\u001b[38;5;241m=\u001b[39mtitle,\n\u001b[1;32m     22\u001b[0m         label_config\u001b[38;5;241m=\u001b[39mlabel_config,\n\u001b[1;32m     23\u001b[0m         expert_instruction\u001b[38;5;241m=\u001b[39mlabel_instruction,\n\u001b[1;32m     24\u001b[0m         show_instruction\u001b[38;5;241m=\u001b[39mlabel_instruction \u001b[38;5;129;01mis\u001b[39;00m \u001b[38;5;129;01mnot\u001b[39;00m \u001b[38;5;28;01mNone\u001b[39;00m,\n\u001b[1;32m     25\u001b[0m     )\n\u001b[1;32m     26\u001b[0m     logger\u001b[38;5;241m.\u001b[39minfo(\u001b[38;5;124mf\u001b[39m\u001b[38;5;124m'\u001b[39m\u001b[38;5;124mProject \u001b[39m\u001b[38;5;132;01m{\u001b[39;00mresponse\u001b[38;5;241m.\u001b[39mtitle\u001b[38;5;132;01m}\u001b[39;00m\u001b[38;5;124m created\u001b[39m\u001b[38;5;124m'\u001b[39m)\n\u001b[1;32m     28\u001b[0m     \u001b[38;5;28;01mreturn\u001b[39;00m \u001b[38;5;28;01mawait\u001b[39;00m \u001b[38;5;28mself\u001b[39m\u001b[38;5;241m.\u001b[39masync_label_studio\u001b[38;5;241m.\u001b[39mprojects\u001b[38;5;241m.\u001b[39mget(response\u001b[38;5;241m.\u001b[39mid)\n",
      "File \u001b[0;32m/workspaces/.venv/lib/python3.12/site-packages/label_studio_sdk/projects/client.py:964\u001b[0m, in \u001b[0;36mAsyncProjectsClient.create\u001b[0;34m(self, title, description, label_config, expert_instruction, show_instruction, show_skip_button, enable_empty_annotation, show_annotation_history, reveal_preannotations_interactively, show_collab_predictions, maximum_annotations, color, control_weights, workspace, model_version, request_options)\u001b[0m\n\u001b[1;32m    962\u001b[0m \u001b[38;5;28;01mexcept\u001b[39;00m JSONDecodeError:\n\u001b[1;32m    963\u001b[0m     \u001b[38;5;28;01mraise\u001b[39;00m ApiError(status_code\u001b[38;5;241m=\u001b[39m_response\u001b[38;5;241m.\u001b[39mstatus_code, body\u001b[38;5;241m=\u001b[39m_response\u001b[38;5;241m.\u001b[39mtext)\n\u001b[0;32m--> 964\u001b[0m \u001b[38;5;28;01mraise\u001b[39;00m ApiError(status_code\u001b[38;5;241m=\u001b[39m_response\u001b[38;5;241m.\u001b[39mstatus_code, body\u001b[38;5;241m=\u001b[39m_response_json)\n",
      "\u001b[0;31mApiError\u001b[0m: status_code: 400, body: {'id': '87a27cd0-acf7-4290-9fb5-0622de8d77c5', 'status_code': 400, 'version': '1.19.0', 'detail': 'Validation error', 'exc_info': None, 'validation_errors': {'label_config': ['not well-formed (invalid token): line 1, column 27']}}"
     ]
    }
   ],
   "source": [
    "project_id = await importer_service.import_tasks(\n",
    "    None, dataset_id=UUID('1260dfdb-8c6a-4001-a007-1c60766a6754'), split_name='test'\n",
    ")"
   ]
  },
  {
   "cell_type": "code",
   "execution_count": null,
   "metadata": {},
   "outputs": [],
   "source": [
    "labels = await exporter_service.export(project_id)"
   ]
  }
 ],
 "metadata": {
  "kernelspec": {
   "display_name": ".venv",
   "language": "python",
   "name": "python3"
  },
  "language_info": {
   "codemirror_mode": {
    "name": "ipython",
    "version": 3
   },
   "file_extension": ".py",
   "mimetype": "text/x-python",
   "name": "python",
   "nbconvert_exporter": "python",
   "pygments_lexer": "ipython3",
   "version": "3.12.7"
  }
 },
 "nbformat": 4,
 "nbformat_minor": 2
}
