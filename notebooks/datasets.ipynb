{
 "cells": [
  {
   "cell_type": "code",
   "execution_count": 1,
   "metadata": {},
   "outputs": [],
   "source": [
    "%load_ext autoreload\n",
    "%autoreload 2\n",
    "\n",
    "import os\n",
    "import sys\n",
    "\n",
    "import nest_asyncio\n",
    "\n",
    "\n",
    "sys.path.insert(0, os.path.abspath('..'))\n",
    "nest_asyncio.apply()"
   ]
  },
  {
   "cell_type": "code",
   "execution_count": 2,
   "metadata": {},
   "outputs": [],
   "source": [
    "import logging\n",
    "\n",
    "\n",
    "logging.basicConfig(\n",
    "    level=logging.INFO, format='%(asctime)s - %(levelname)s - %(message)s'\n",
    ")"
   ]
  },
  {
   "cell_type": "code",
   "execution_count": 3,
   "metadata": {},
   "outputs": [
    {
     "name": "stderr",
     "output_type": "stream",
     "text": [
      "2025-05-14 19:52:59,204 - INFO - PyTorch version 2.6.0 available.\n",
      "2025-05-14 19:52:59,536 - INFO - file_cache is only supported with oauth2client<4.0.0\n"
     ]
    }
   ],
   "source": [
    "from math_rag.infrastructure.containers import InfrastructureContainer\n",
    "\n",
    "\n",
    "RESET = False\n",
    "\n",
    "infrastructure_container = InfrastructureContainer()\n",
    "infrastructure_container.init_resources()\n",
    "\n",
    "math_article_seeder = infrastructure_container.math_article_seeder()\n",
    "math_expression_seeder = infrastructure_container.math_expression_seeder()\n",
    "math_expression_classification_repository = (\n",
    "    infrastructure_container.math_expression_classification_seeder()\n",
    ")\n",
    "math_article_seeder.seed(reset=RESET)\n",
    "await math_expression_seeder.seed(reset=RESET)\n",
    "await math_expression_classification_repository.seed(reset=RESET)\n",
    "\n",
    "math_article_repository = infrastructure_container.math_article_repository()\n",
    "math_expression_repository = infrastructure_container.math_expression_repository()\n",
    "math_expression_classification_repository = (\n",
    "    infrastructure_container.math_expression_classification_repository()\n",
    ")\n",
    "google_file_repository = infrastructure_container.google_file_repository()\n",
    "\n",
    "katex_corrector_assistant = infrastructure_container.katex_corrector_assistant()\n",
    "katex_client = infrastructure_container.katex_client()\n",
    "latex_parser_service = infrastructure_container.latex_parser_service()\n",
    "latex_visitor_service = infrastructure_container.latex_visitor_service()\n",
    "arxiv_client = infrastructure_container.arxiv_client()"
   ]
  },
  {
   "cell_type": "code",
   "execution_count": null,
   "metadata": {},
   "outputs": [],
   "source": [
    "from IPython.display import Math, display"
   ]
  },
  {
   "cell_type": "markdown",
   "metadata": {},
   "source": [
    "### Load"
   ]
  },
  {
   "cell_type": "code",
   "execution_count": null,
   "metadata": {},
   "outputs": [],
   "source": [
    "from math_rag.application.enums.arxiv import MathCategory\n",
    "\n",
    "\n",
    "math_article_loader_service = infrastructure_container.math_article_loader_service()\n",
    "await math_article_loader_service.load(MathCategory, 100)"
   ]
  },
  {
   "cell_type": "markdown",
   "metadata": {},
   "source": [
    "### Parse"
   ]
  },
  {
   "cell_type": "code",
   "execution_count": null,
   "metadata": {},
   "outputs": [],
   "source": [
    "from pylatexenc.latexwalker import LatexMathNode\n",
    "\n",
    "\n",
    "math_article_parser_service = infrastructure_container.math_article_parser_service()\n",
    "\n",
    "file_names = [\n",
    "    name for name in math_article_repository.list_names() if name.endswith('.tex')\n",
    "]\n",
    "math_nodes: list[LatexMathNode] = []\n",
    "\n",
    "for name in file_names:\n",
    "    math_article = math_article_repository.find_by_name(name)\n",
    "    math_nodes.extend(math_article_parser_service.parse(math_article))"
   ]
  },
  {
   "cell_type": "code",
   "execution_count": null,
   "metadata": {},
   "outputs": [],
   "source": [
    "from math_rag.application.models.assistants import KatexCorrectorAssistantInput\n",
    "from math_rag.core.models import MathExpression"
   ]
  },
  {
   "cell_type": "code",
   "execution_count": null,
   "metadata": {},
   "outputs": [],
   "source": [
    "katexes = [str(math_node.latex_verbatim()).strip('$') for math_node in math_nodes]\n",
    "results = await katex_client.batch_validate_many(katexes, batch_size=1000)\n",
    "math_node_validation_result = list(zip(math_nodes, results))"
   ]
  },
  {
   "cell_type": "code",
   "execution_count": null,
   "metadata": {},
   "outputs": [],
   "source": [
    "math_expressions = [\n",
    "    MathExpression(\n",
    "        latex=str(math_node.latex_verbatim()),\n",
    "        katex=str(math_node.latex_verbatim()).strip('$') if result.valid else None,\n",
    "        position=math_node.pos,\n",
    "        is_inline=math_node.displaytype == 'inline',\n",
    "    )\n",
    "    for math_node, result in math_node_validation_result\n",
    "]\n",
    "\n",
    "await math_expression_repository.batch_insert_many(math_expressions, batch_size=100)"
   ]
  },
  {
   "cell_type": "code",
   "execution_count": null,
   "metadata": {},
   "outputs": [
    {
     "name": "stderr",
     "output_type": "stream",
     "text": [
      "2025-03-08 23:00:59,929 - INFO - HTTP Request: POST https://api.openai.com/v1/files \"HTTP/1.1 200 OK\"\n",
      "2025-03-08 23:01:00,845 - INFO - HTTP Request: POST https://api.openai.com/v1/batches \"HTTP/1.1 200 OK\"\n",
      "2025-03-08 23:01:00,855 - INFO - Batch batch_67ccbe1c87448190b76b85dd9ac2e151 created with status validating\n"
     ]
    }
   ],
   "source": [
    "inputs = [\n",
    "    KatexCorrectorAssistantInput(\n",
    "        katex=str(math_node.latex_verbatim()).strip('$'), error=result.error\n",
    "    )\n",
    "    for math_node, result in math_node_validation_result\n",
    "    if not result.valid\n",
    "]\n",
    "batch_id = await katex_corrector_assistant.batch_assist_init(inputs)"
   ]
  },
  {
   "cell_type": "code",
   "execution_count": null,
   "metadata": {},
   "outputs": [],
   "source": [
    "# invalid_math_expression_ids = [\n",
    "#     math_expression.id\n",
    "#     for math_expression in math_expressions\n",
    "#     if math_expression.katex == None\n",
    "# ]"
   ]
  },
  {
   "cell_type": "code",
   "execution_count": null,
   "metadata": {},
   "outputs": [],
   "source": [
    "outputs = await katex_corrector_assistant.batch_assist(inputs)\n",
    "print(outputs is not None)\n",
    "invalid_total = 0\n",
    "\n",
    "if outputs:\n",
    "    katexes = [output.katex for output in outputs]\n",
    "    results = await katex_client.batch_validate_many(katexes, batch_size=1000)\n",
    "    # TODO update\n",
    "    # TODO retry\n",
    "\n",
    "    for x in results:\n",
    "        if not x.valid:\n",
    "            invalid_total += 1\n",
    "\n",
    "invalid_total\n",
    "\n",
    "# items_for_update = [\n",
    "#     (id, katex)\n",
    "#     for id, katex, result in zip(invalid_math_expression_ids, katexes, results)\n",
    "#     if result.valid\n",
    "# ]\n",
    "# math_expression_repository.batch_update_katex(items_for_update)"
   ]
  },
  {
   "cell_type": "code",
   "execution_count": null,
   "metadata": {},
   "outputs": [],
   "source": [
    "for math_expression in math_expressions[:100]:\n",
    "    math_display_object = Math(math_expression.katex)\n",
    "\n",
    "    display(math_display_object)"
   ]
  },
  {
   "cell_type": "markdown",
   "metadata": {},
   "source": [
    "### Display"
   ]
  },
  {
   "cell_type": "code",
   "execution_count": null,
   "metadata": {},
   "outputs": [],
   "source": [
    "for i, latex_math_node in enumerate(math_nodes[:100]):\n",
    "    latex = latex_math_node.latex_verbatim()\n",
    "    math_display_object = Math(latex)\n",
    "\n",
    "    display(math_display_object)"
   ]
  },
  {
   "cell_type": "markdown",
   "metadata": {},
   "source": [
    "### Correct"
   ]
  },
  {
   "cell_type": "code",
   "execution_count": 7,
   "metadata": {},
   "outputs": [],
   "source": [
    "incorrect_katex = r'd\\omega = \\theta \\w \\omega'\n",
    "error = r'KaTeX parse error: Undefined control sequence: \\w at position 18: …omega = \\theta \\̲w̲ ̲\\omega'"
   ]
  },
  {
   "cell_type": "code",
   "execution_count": null,
   "metadata": {},
   "outputs": [],
   "source": [
    "from math_rag.application.models.assistants import KatexCorrectorAssistantInput\n",
    "\n",
    "\n",
    "input = KatexCorrectorAssistantInput(katex=incorrect_katex, error=error)"
   ]
  },
  {
   "cell_type": "code",
   "execution_count": null,
   "metadata": {},
   "outputs": [
    {
     "name": "stderr",
     "output_type": "stream",
     "text": [
      "2025-03-14 12:43:02,263 - INFO - HTTP Request: POST https://api.openai.com/v1/chat/completions \"HTTP/1.1 200 OK\"\n"
     ]
    },
    {
     "name": "stdout",
     "output_type": "stream",
     "text": [
      "d\\omega = \\theta \\omega\n"
     ]
    },
    {
     "data": {
      "text/latex": [
       "$\\displaystyle d\\omega = \\theta \\omega$"
      ],
      "text/plain": [
       "<IPython.core.display.Math object>"
      ]
     },
     "metadata": {},
     "output_type": "display_data"
    }
   ],
   "source": [
    "output = await katex_corrector_assistant.assist(input)\n",
    "corrected_katex = output.katex\n",
    "print(corrected_katex)\n",
    "display(Math(corrected_katex))"
   ]
  },
  {
   "cell_type": "code",
   "execution_count": null,
   "metadata": {},
   "outputs": [],
   "source": [
    "import copy\n",
    "\n",
    "\n",
    "inputs = [copy.deepcopy(input) for _ in range(5000)]\n",
    "outputs = await katex_corrector_assistant.concurrent_assist(inputs)"
   ]
  },
  {
   "cell_type": "markdown",
   "metadata": {},
   "source": [
    "### Dataset"
   ]
  },
  {
   "cell_type": "markdown",
   "metadata": {},
   "source": [
    "#### Upload"
   ]
  },
  {
   "cell_type": "code",
   "execution_count": 4,
   "metadata": {},
   "outputs": [],
   "source": [
    "from math_rag.application.models.datasets import (\n",
    "    MathExpressionDataset,\n",
    "    MathExpressionSample,\n",
    ")\n",
    "from math_rag.core.enums import MathExpressionLabelEnum\n",
    "\n",
    "\n",
    "samples = [\n",
    "    MathExpressionSample(\n",
    "        latex=f'x + {i} = 5',\n",
    "        label=MathExpressionLabelEnum.EQUALITY,\n",
    "    )\n",
    "    for i in range(10)\n",
    "]\n",
    "dataset = MathExpressionDataset(samples)"
   ]
  },
  {
   "cell_type": "code",
   "execution_count": 5,
   "metadata": {},
   "outputs": [],
   "source": [
    "from math_rag.application.assistants.prompts import MATH_EXPRESSION_LABELER_PROMPT\n",
    "from math_rag.application.models.datasets import (\n",
    "    DatasetMetadataFile,\n",
    "    DatasetSplitSettings,\n",
    ")\n",
    "\n",
    "\n",
    "settings = DatasetSplitSettings(\n",
    "    train_ratio=0.8, validate_ratio=0.1, test_ratio=0.1, seed=42\n",
    ")\n",
    "\n",
    "json_str = MATH_EXPRESSION_LABELER_PROMPT.model_dump_json(indent=4)\n",
    "content = json_str.encode('utf-8')\n",
    "metadata_file = DatasetMetadataFile(name='prompt.json', content=content)"
   ]
  },
  {
   "cell_type": "code",
   "execution_count": null,
   "metadata": {},
   "outputs": [],
   "source": [
    "dataset_publisher_service = infrastructure_container.dataset_publisher_service()\n",
    "dataset_publisher_service.publish(\n",
    "    dataset, MathExpressionSample, settings, metadata_file\n",
    ")"
   ]
  },
  {
   "cell_type": "markdown",
   "metadata": {},
   "source": [
    "#### Download"
   ]
  },
  {
   "cell_type": "code",
   "execution_count": 7,
   "metadata": {},
   "outputs": [
    {
     "data": {
      "application/vnd.jupyter.widget-view+json": {
       "model_id": "19a33150eb6d4d359b5a5df76800df05",
       "version_major": 2,
       "version_minor": 0
      },
      "text/plain": [
       "README.md:   0%|          | 0.00/672 [00:00<?, ?B/s]"
      ]
     },
     "metadata": {},
     "output_type": "display_data"
    },
    {
     "data": {
      "application/vnd.jupyter.widget-view+json": {
       "model_id": "6e6d9da5778f43d597968455c07c5b38",
       "version_major": 2,
       "version_minor": 0
      },
      "text/plain": [
       "train-00000-of-00001.parquet:   0%|          | 0.00/2.04k [00:00<?, ?B/s]"
      ]
     },
     "metadata": {},
     "output_type": "display_data"
    },
    {
     "data": {
      "application/vnd.jupyter.widget-view+json": {
       "model_id": "3bea966356dd4a13b641ae8eeabe2e3c",
       "version_major": 2,
       "version_minor": 0
      },
      "text/plain": [
       "validate-00000-of-00001.parquet:   0%|          | 0.00/1.71k [00:00<?, ?B/s]"
      ]
     },
     "metadata": {},
     "output_type": "display_data"
    },
    {
     "data": {
      "application/vnd.jupyter.widget-view+json": {
       "model_id": "21b4c900d997438eba2406011a6da65e",
       "version_major": 2,
       "version_minor": 0
      },
      "text/plain": [
       "test-00000-of-00001.parquet:   0%|          | 0.00/1.71k [00:00<?, ?B/s]"
      ]
     },
     "metadata": {},
     "output_type": "display_data"
    },
    {
     "data": {
      "application/vnd.jupyter.widget-view+json": {
       "model_id": "6f33229e93b54c509f26d7d1c5d3987a",
       "version_major": 2,
       "version_minor": 0
      },
      "text/plain": [
       "Generating train split:   0%|          | 0/8 [00:00<?, ? examples/s]"
      ]
     },
     "metadata": {},
     "output_type": "display_data"
    },
    {
     "data": {
      "application/vnd.jupyter.widget-view+json": {
       "model_id": "47651b0325ec489b854863c6703855ba",
       "version_major": 2,
       "version_minor": 0
      },
      "text/plain": [
       "Generating validate split:   0%|          | 0/1 [00:00<?, ? examples/s]"
      ]
     },
     "metadata": {},
     "output_type": "display_data"
    },
    {
     "data": {
      "application/vnd.jupyter.widget-view+json": {
       "model_id": "8b8850b2f44a4cb5aa50b33a8964cad9",
       "version_major": 2,
       "version_minor": 0
      },
      "text/plain": [
       "Generating test split:   0%|          | 0/1 [00:00<?, ? examples/s]"
      ]
     },
     "metadata": {},
     "output_type": "display_data"
    }
   ],
   "source": [
    "from datasets import load_dataset\n",
    "from datasets.download import DownloadConfig\n",
    "from decouple import config\n",
    "\n",
    "\n",
    "HF_USERNAME = config('HF_USERNAME', default=None)\n",
    "HF_TOKEN = config('HF_TOKEN', default=None)\n",
    "\n",
    "download_config = DownloadConfig(\n",
    "    max_retries=3,\n",
    "    disable_tqdm=True,\n",
    ")\n",
    "\n",
    "dataset_dict = load_dataset(\n",
    "    path=f'{HF_USERNAME}/mathexpressiondataset',\n",
    "    split=None,\n",
    "    cache_dir=None,  # TODO: bind to apptainer\n",
    "    download_config=download_config,\n",
    "    token=HF_TOKEN,\n",
    "    trust_remote_code=True,\n",
    ")"
   ]
  },
  {
   "cell_type": "code",
   "execution_count": 8,
   "metadata": {},
   "outputs": [
    {
     "data": {
      "text/plain": [
       "['equality', 'inequality', 'constant', 'variable', 'other']"
      ]
     },
     "execution_count": 8,
     "metadata": {},
     "output_type": "execute_result"
    }
   ],
   "source": [
    "from typing import cast\n",
    "\n",
    "from datasets import ClassLabel\n",
    "\n",
    "\n",
    "class_label = cast(ClassLabel, dataset_dict['train'].features['label'])\n",
    "class_label.names"
   ]
  },
  {
   "cell_type": "code",
   "execution_count": null,
   "metadata": {},
   "outputs": [],
   "source": [
    "import json\n",
    "\n",
    "from pathlib import Path\n",
    "\n",
    "from decouple import config\n",
    "from huggingface_hub import hf_hub_download\n",
    "\n",
    "\n",
    "HF_USERNAME = config('HF_USERNAME', default=None)\n",
    "HF_TOKEN = config('HF_TOKEN', default=None)\n",
    "\n",
    "repo_id = ...\n",
    "path = hf_hub_download(\n",
    "    repo_id=repo_id,\n",
    "    filename=metadata_file.name,\n",
    "    repo_type='dataset',\n",
    "    token=HF_TOKEN,\n",
    "    cache_dir=...,  # TODO bind\n",
    ")\n",
    "content_bytes = Path(path).read_bytes()\n",
    "content = json.loads(content_bytes)\n",
    "content"
   ]
  }
 ],
 "metadata": {
  "kernelspec": {
   "display_name": ".venv",
   "language": "python",
   "name": "python3"
  },
  "language_info": {
   "codemirror_mode": {
    "name": "ipython",
    "version": 3
   },
   "file_extension": ".py",
   "mimetype": "text/x-python",
   "name": "python",
   "nbconvert_exporter": "python",
   "pygments_lexer": "ipython3",
   "version": "3.12.7"
  }
 },
 "nbformat": 4,
 "nbformat_minor": 2
}
