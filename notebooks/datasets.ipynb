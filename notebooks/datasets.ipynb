{
 "cells": [
  {
   "cell_type": "code",
   "execution_count": 1,
   "metadata": {},
   "outputs": [],
   "source": [
    "%load_ext autoreload\n",
    "%autoreload 2\n",
    "\n",
    "import os\n",
    "import sys\n",
    "\n",
    "import nest_asyncio\n",
    "\n",
    "\n",
    "sys.path.insert(0, os.path.abspath('..'))\n",
    "nest_asyncio.apply()"
   ]
  },
  {
   "cell_type": "code",
   "execution_count": 2,
   "metadata": {},
   "outputs": [],
   "source": [
    "import logging\n",
    "\n",
    "\n",
    "logging.basicConfig(\n",
    "    level=logging.INFO, format='%(asctime)s - %(levelname)s - %(message)s'\n",
    ")"
   ]
  },
  {
   "cell_type": "code",
   "execution_count": 3,
   "metadata": {},
   "outputs": [
    {
     "name": "stderr",
     "output_type": "stream",
     "text": [
      "2025-03-06 22:43:09,518 - INFO - file_cache is only supported with oauth2client<4.0.0\n"
     ]
    }
   ],
   "source": [
    "from math_rag.infrastructure.containers import InfrastructureContainer\n",
    "\n",
    "\n",
    "RESET = False\n",
    "\n",
    "infrastructure_container = InfrastructureContainer()\n",
    "infrastructure_container.init_resources()\n",
    "\n",
    "math_article_seeder = infrastructure_container.math_article_seeder()\n",
    "math_expression_seeder = infrastructure_container.math_expression_seeder()\n",
    "math_expression_classification_repository = (\n",
    "    infrastructure_container.math_expression_classification_seeder()\n",
    ")\n",
    "math_article_seeder.seed(reset=RESET)\n",
    "await math_expression_seeder.seed(reset=RESET)\n",
    "await math_expression_classification_repository.seed(reset=RESET)\n",
    "\n",
    "math_article_repository = infrastructure_container.math_article_repository()\n",
    "math_expression_repository = infrastructure_container.math_expression_repository()\n",
    "math_expression_classification_repository = (\n",
    "    infrastructure_container.math_expression_classification_repository()\n",
    ")\n",
    "google_file_repository = infrastructure_container.google_file_repository()\n",
    "\n",
    "katex_correction_assistant = infrastructure_container.katex_correction_assistant()\n",
    "katex_validator_service = infrastructure_container.katex_validator_service()\n",
    "latex_parser_service = infrastructure_container.latex_parser_service()\n",
    "latex_visitor_service = infrastructure_container.latex_visitor_service()\n",
    "arxiv_searcher_service = infrastructure_container.arxiv_searcher_service()"
   ]
  },
  {
   "cell_type": "code",
   "execution_count": 4,
   "metadata": {},
   "outputs": [],
   "source": [
    "from IPython.display import Math, display\n",
    "from pylatexenc.latexwalker import LatexMathNode"
   ]
  },
  {
   "cell_type": "markdown",
   "metadata": {},
   "source": [
    "### Download"
   ]
  },
  {
   "cell_type": "code",
   "execution_count": 5,
   "metadata": {},
   "outputs": [
    {
     "name": "stderr",
     "output_type": "stream",
     "text": [
      "2025-03-06 22:43:15,735 - INFO - Requesting page (first: True, try: 0): https://export.arxiv.org/api/query?search_query=cat%3Amath.AC&id_list=&sortBy=submittedDate&sortOrder=descending&start=0&max_results=100\n",
      "2025-03-06 22:43:16,982 - INFO - Got first page: 100 of 13506 total results\n",
      "2025-03-06 22:43:16,983 - INFO - Requesting page (first: True, try: 0): https://export.arxiv.org/api/query?search_query=cat%3Amath.AG&id_list=&sortBy=submittedDate&sortOrder=descending&start=0&max_results=100\n",
      "2025-03-06 22:43:18,168 - INFO - Got first page: 100 of 54803 total results\n",
      "2025-03-06 22:43:18,169 - INFO - Requesting page (first: True, try: 0): https://export.arxiv.org/api/query?search_query=cat%3Amath.AP&id_list=&sortBy=submittedDate&sortOrder=descending&start=0&max_results=100\n",
      "2025-03-06 22:43:19,331 - INFO - Got first page: 100 of 66123 total results\n",
      "2025-03-06 22:43:19,332 - INFO - Requesting page (first: True, try: 0): https://export.arxiv.org/api/query?search_query=cat%3Amath.AT&id_list=&sortBy=submittedDate&sortOrder=descending&start=0&max_results=100\n",
      "2025-03-06 22:43:20,817 - INFO - Got first page: 100 of 16364 total results\n",
      "2025-03-06 22:43:20,818 - INFO - Requesting page (first: True, try: 0): https://export.arxiv.org/api/query?search_query=cat%3Amath.CA&id_list=&sortBy=submittedDate&sortOrder=descending&start=0&max_results=100\n",
      "2025-03-06 22:43:24,709 - INFO - Got first page: 100 of 23210 total results\n",
      "2025-03-06 22:43:24,709 - INFO - Requesting page (first: True, try: 0): https://export.arxiv.org/api/query?search_query=cat%3Amath.CO&id_list=&sortBy=submittedDate&sortOrder=descending&start=0&max_results=100\n",
      "2025-03-06 22:43:25,920 - INFO - Got first page: 100 of 70139 total results\n",
      "2025-03-06 22:43:25,920 - INFO - Requesting page (first: True, try: 0): https://export.arxiv.org/api/query?search_query=cat%3Amath.CT&id_list=&sortBy=submittedDate&sortOrder=descending&start=0&max_results=100\n",
      "2025-03-06 22:43:27,070 - INFO - Got first page: 100 of 9114 total results\n",
      "2025-03-06 22:43:27,071 - INFO - Requesting page (first: True, try: 0): https://export.arxiv.org/api/query?search_query=cat%3Amath.CV&id_list=&sortBy=submittedDate&sortOrder=descending&start=0&max_results=100\n",
      "2025-03-06 22:43:28,214 - INFO - Got first page: 100 of 17786 total results\n",
      "2025-03-06 22:43:28,215 - INFO - Requesting page (first: True, try: 0): https://export.arxiv.org/api/query?search_query=cat%3Amath.DG&id_list=&sortBy=submittedDate&sortOrder=descending&start=0&max_results=100\n",
      "2025-03-06 22:43:29,394 - INFO - Got first page: 100 of 43958 total results\n",
      "2025-03-06 22:43:29,395 - INFO - Requesting page (first: True, try: 0): https://export.arxiv.org/api/query?search_query=cat%3Amath.DS&id_list=&sortBy=submittedDate&sortOrder=descending&start=0&max_results=100\n",
      "2025-03-06 22:43:30,580 - INFO - Got first page: 100 of 38757 total results\n",
      "2025-03-06 22:43:30,580 - INFO - Requesting page (first: True, try: 0): https://export.arxiv.org/api/query?search_query=cat%3Amath.FA&id_list=&sortBy=submittedDate&sortOrder=descending&start=0&max_results=100\n",
      "2025-03-06 22:43:31,754 - INFO - Got first page: 100 of 32683 total results\n",
      "2025-03-06 22:43:31,755 - INFO - Requesting page (first: True, try: 0): https://export.arxiv.org/api/query?search_query=cat%3Amath.GM&id_list=&sortBy=submittedDate&sortOrder=descending&start=0&max_results=100\n",
      "2025-03-06 22:43:33,021 - INFO - Got first page: 100 of 4215 total results\n",
      "2025-03-06 22:43:33,022 - INFO - Requesting page (first: True, try: 0): https://export.arxiv.org/api/query?search_query=cat%3Amath.GN&id_list=&sortBy=submittedDate&sortOrder=descending&start=0&max_results=100\n",
      "2025-03-06 22:43:34,151 - INFO - Got first page: 100 of 5401 total results\n",
      "2025-03-06 22:43:34,152 - INFO - Requesting page (first: True, try: 0): https://export.arxiv.org/api/query?search_query=cat%3Amath.GR&id_list=&sortBy=submittedDate&sortOrder=descending&start=0&max_results=100\n",
      "2025-03-06 22:43:38,436 - INFO - Got first page: 100 of 23301 total results\n",
      "2025-03-06 22:43:38,436 - INFO - Requesting page (first: True, try: 0): https://export.arxiv.org/api/query?search_query=cat%3Amath.GT&id_list=&sortBy=submittedDate&sortOrder=descending&start=0&max_results=100\n",
      "2025-03-06 22:43:39,669 - INFO - Got first page: 100 of 23770 total results\n",
      "2025-03-06 22:43:39,670 - INFO - Requesting page (first: True, try: 0): https://export.arxiv.org/api/query?search_query=cat%3Amath.HO&id_list=&sortBy=submittedDate&sortOrder=descending&start=0&max_results=100\n",
      "2025-03-06 22:43:41,869 - INFO - Got first page: 100 of 3825 total results\n",
      "2025-03-06 22:43:41,870 - INFO - Requesting page (first: True, try: 0): https://export.arxiv.org/api/query?search_query=cat%3Amath.IT&id_list=&sortBy=submittedDate&sortOrder=descending&start=0&max_results=100\n",
      "2025-03-06 22:43:43,493 - INFO - Got first page: 100 of 49377 total results\n",
      "2025-03-06 22:43:43,494 - INFO - Requesting page (first: True, try: 0): https://export.arxiv.org/api/query?search_query=cat%3Amath.KT&id_list=&sortBy=submittedDate&sortOrder=descending&start=0&max_results=100\n",
      "2025-03-06 22:43:44,746 - INFO - Got first page: 100 of 6139 total results\n",
      "2025-03-06 22:43:44,747 - INFO - Requesting page (first: True, try: 0): https://export.arxiv.org/api/query?search_query=cat%3Amath.LO&id_list=&sortBy=submittedDate&sortOrder=descending&start=0&max_results=100\n",
      "2025-03-06 22:43:45,988 - INFO - Got first page: 100 of 13994 total results\n",
      "2025-03-06 22:43:45,989 - INFO - Requesting page (first: True, try: 0): https://export.arxiv.org/api/query?search_query=cat%3Amath.MG&id_list=&sortBy=submittedDate&sortOrder=descending&start=0&max_results=100\n",
      "2025-03-06 22:43:47,162 - INFO - Got first page: 100 of 11772 total results\n",
      "2025-03-06 22:43:47,162 - INFO - Requesting page (first: True, try: 0): https://export.arxiv.org/api/query?search_query=cat%3Amath.&id_list=&sortBy=submittedDate&sortOrder=descending&start=0&max_results=100\n",
      "2025-03-06 22:43:47,778 - INFO - Got empty first page; stopping generation\n",
      "2025-03-06 22:43:47,780 - INFO - Requesting page (first: True, try: 0): https://export.arxiv.org/api/query?search_query=cat%3Amath.NA&id_list=&sortBy=submittedDate&sortOrder=descending&start=0&max_results=100\n",
      "2025-03-06 22:43:48,969 - INFO - Got first page: 100 of 41342 total results\n",
      "2025-03-06 22:43:48,969 - INFO - Requesting page (first: True, try: 0): https://export.arxiv.org/api/query?search_query=cat%3Amath.NT&id_list=&sortBy=submittedDate&sortOrder=descending&start=0&max_results=100\n",
      "2025-03-06 22:43:50,267 - INFO - Got first page: 100 of 44123 total results\n",
      "2025-03-06 22:43:50,268 - INFO - Requesting page (first: True, try: 0): https://export.arxiv.org/api/query?search_query=cat%3Amath.OA&id_list=&sortBy=submittedDate&sortOrder=descending&start=0&max_results=100\n",
      "2025-03-06 22:43:51,442 - INFO - Got first page: 100 of 13099 total results\n",
      "2025-03-06 22:43:51,442 - INFO - Requesting page (first: True, try: 0): https://export.arxiv.org/api/query?search_query=cat%3Amath.OC&id_list=&sortBy=submittedDate&sortOrder=descending&start=0&max_results=100\n",
      "2025-03-06 22:43:52,649 - INFO - Got first page: 100 of 52817 total results\n",
      "2025-03-06 22:43:52,650 - INFO - Requesting page (first: True, try: 0): https://export.arxiv.org/api/query?search_query=cat%3Amath.PR&id_list=&sortBy=submittedDate&sortOrder=descending&start=0&max_results=100\n",
      "2025-03-06 22:43:55,087 - INFO - Got first page: 100 of 59382 total results\n",
      "2025-03-06 22:43:55,088 - INFO - Requesting page (first: True, try: 0): https://export.arxiv.org/api/query?search_query=cat%3Amath.QA&id_list=&sortBy=submittedDate&sortOrder=descending&start=0&max_results=100\n",
      "2025-03-06 22:43:56,305 - INFO - Got first page: 100 of 19610 total results\n",
      "2025-03-06 22:43:56,306 - INFO - Requesting page (first: True, try: 0): https://export.arxiv.org/api/query?search_query=cat%3Amath.RA&id_list=&sortBy=submittedDate&sortOrder=descending&start=0&max_results=100\n",
      "2025-03-06 22:43:57,602 - INFO - Got first page: 100 of 18205 total results\n",
      "2025-03-06 22:43:57,603 - INFO - Requesting page (first: True, try: 0): https://export.arxiv.org/api/query?search_query=cat%3Amath.RT&id_list=&sortBy=submittedDate&sortOrder=descending&start=0&max_results=100\n",
      "2025-03-06 22:43:58,618 - INFO - Got first page: 100 of 27444 total results\n",
      "2025-03-06 22:43:58,619 - INFO - Requesting page (first: True, try: 0): https://export.arxiv.org/api/query?search_query=cat%3Amath.SG&id_list=&sortBy=submittedDate&sortOrder=descending&start=0&max_results=100\n",
      "2025-03-06 22:43:59,818 - INFO - Got first page: 100 of 9439 total results\n",
      "2025-03-06 22:43:59,819 - INFO - Requesting page (first: True, try: 0): https://export.arxiv.org/api/query?search_query=cat%3Amath.SP&id_list=&sortBy=submittedDate&sortOrder=descending&start=0&max_results=100\n",
      "2025-03-06 22:44:00,958 - INFO - Got first page: 100 of 10155 total results\n",
      "2025-03-06 22:44:00,959 - INFO - Requesting page (first: True, try: 0): https://export.arxiv.org/api/query?search_query=cat%3Amath.ST&id_list=&sortBy=submittedDate&sortOrder=descending&start=0&max_results=100\n",
      "2025-03-06 22:44:04,337 - INFO - Got first page: 100 of 24562 total results\n",
      "2025-03-06 22:44:04,700 - INFO - HTTP Request: GET https://arxiv.org/src/2503.03728v1 \"HTTP/1.1 200 OK\"\n",
      "2025-03-06 22:44:04,790 - INFO - HTTP Request: GET https://arxiv.org/src/2503.03719v1 \"HTTP/1.1 200 OK\"\n",
      "2025-03-06 22:44:04,883 - INFO - HTTP Request: GET https://arxiv.org/src/2503.03632v1 \"HTTP/1.1 200 OK\"\n",
      "2025-03-06 22:44:05,051 - INFO - HTTP Request: GET https://arxiv.org/src/2503.03520v1 \"HTTP/1.1 200 OK\"\n",
      "2025-03-06 22:44:05,130 - INFO - HTTP Request: GET https://arxiv.org/src/2503.03728v1 \"HTTP/1.1 200 OK\"\n",
      "2025-03-06 22:44:05,200 - INFO - HTTP Request: GET https://arxiv.org/src/2503.03719v1 \"HTTP/1.1 200 OK\"\n",
      "2025-03-06 22:44:05,288 - INFO - HTTP Request: GET https://arxiv.org/src/2503.03673v1 \"HTTP/1.1 200 OK\"\n",
      "2025-03-06 22:44:05,349 - INFO - HTTP Request: GET https://arxiv.org/src/2503.03632v1 \"HTTP/1.1 200 OK\"\n",
      "2025-03-06 22:44:05,579 - INFO - HTTP Request: GET https://arxiv.org/src/2503.03661v1 \"HTTP/1.1 200 OK\"\n",
      "2025-03-06 22:44:06,652 - INFO - HTTP Request: GET https://arxiv.org/src/2503.03658v1 \"HTTP/1.1 200 OK\"\n",
      "2025-03-06 22:44:06,732 - INFO - HTTP Request: GET https://arxiv.org/src/2503.03630v1 \"HTTP/1.1 200 OK\"\n",
      "2025-03-06 22:44:06,823 - INFO - HTTP Request: GET https://arxiv.org/src/2503.03628v1 \"HTTP/1.1 200 OK\"\n",
      "2025-03-06 22:44:06,948 - INFO - HTTP Request: GET https://arxiv.org/src/2503.03727v1 \"HTTP/1.1 200 OK\"\n",
      "2025-03-06 22:44:07,017 - INFO - HTTP Request: GET https://arxiv.org/src/2503.03173v1 \"HTTP/1.1 200 OK\"\n",
      "2025-03-06 22:44:07,113 - INFO - HTTP Request: GET https://arxiv.org/src/2503.03024v1 \"HTTP/1.1 200 OK\"\n",
      "2025-03-06 22:44:07,261 - INFO - HTTP Request: GET https://arxiv.org/src/2503.02839v1 \"HTTP/1.1 200 OK\"\n",
      "2025-03-06 22:44:07,363 - INFO - HTTP Request: GET https://arxiv.org/src/2503.03554v1 \"HTTP/1.1 200 OK\"\n",
      "2025-03-06 22:44:07,448 - INFO - HTTP Request: GET https://arxiv.org/src/2503.03425v1 \"HTTP/1.1 200 OK\"\n",
      "2025-03-06 22:44:07,598 - INFO - HTTP Request: GET https://arxiv.org/src/2503.03414v1 \"HTTP/1.1 200 OK\"\n",
      "2025-03-06 22:44:07,666 - INFO - HTTP Request: GET https://arxiv.org/src/2503.03247v1 \"HTTP/1.1 200 OK\"\n",
      "2025-03-06 22:44:07,733 - INFO - HTTP Request: GET https://arxiv.org/src/2503.03719v1 \"HTTP/1.1 200 OK\"\n",
      "2025-03-06 22:44:07,838 - INFO - HTTP Request: GET https://arxiv.org/src/2503.03690v1 \"HTTP/1.1 200 OK\"\n",
      "2025-03-06 22:44:07,944 - INFO - HTTP Request: GET https://arxiv.org/src/2503.03632v1 \"HTTP/1.1 200 OK\"\n",
      "2025-03-06 22:44:08,135 - INFO - HTTP Request: GET https://arxiv.org/src/2503.03553v1 \"HTTP/1.1 200 OK\"\n",
      "2025-03-06 22:44:08,337 - INFO - HTTP Request: GET https://arxiv.org/src/2503.03727v1 \"HTTP/1.1 200 OK\"\n",
      "2025-03-06 22:44:08,428 - INFO - HTTP Request: GET https://arxiv.org/src/2503.03445v1 \"HTTP/1.1 200 OK\"\n",
      "2025-03-06 22:44:08,528 - INFO - HTTP Request: GET https://arxiv.org/src/2503.03439v1 \"HTTP/1.1 200 OK\"\n",
      "2025-03-06 22:44:08,698 - INFO - HTTP Request: GET https://arxiv.org/src/2503.02839v1 \"HTTP/1.1 200 OK\"\n",
      "2025-03-06 22:44:08,925 - INFO - HTTP Request: GET https://arxiv.org/src/2503.03678v1 \"HTTP/1.1 200 OK\"\n",
      "2025-03-06 22:44:08,996 - INFO - HTTP Request: GET https://arxiv.org/src/2503.03414v1 \"HTTP/1.1 200 OK\"\n",
      "2025-03-06 22:44:09,062 - INFO - HTTP Request: GET https://arxiv.org/src/2503.03296v1 \"HTTP/1.1 200 OK\"\n",
      "2025-03-06 22:44:09,137 - INFO - HTTP Request: GET https://arxiv.org/src/2503.02838v1 \"HTTP/1.1 200 OK\"\n",
      "2025-03-06 22:44:09,247 - INFO - HTTP Request: GET https://arxiv.org/src/2503.03516v1 \"HTTP/1.1 200 OK\"\n",
      "2025-03-06 22:44:09,342 - INFO - HTTP Request: GET https://arxiv.org/src/2503.03482v1 \"HTTP/1.1 200 OK\"\n",
      "2025-03-06 22:44:09,464 - INFO - HTTP Request: GET https://arxiv.org/src/2503.03243v1 \"HTTP/1.1 200 OK\"\n",
      "2025-03-06 22:44:21,549 - INFO - HTTP Request: GET https://arxiv.org/src/2503.03041v1 \"HTTP/1.1 200 OK\"\n",
      "2025-03-06 22:44:21,611 - INFO - HTTP Request: GET https://arxiv.org/src/2503.03738v1 \"HTTP/1.1 200 OK\"\n",
      "2025-03-06 22:44:21,713 - INFO - HTTP Request: GET https://arxiv.org/src/2503.03628v1 \"HTTP/1.1 200 OK\"\n",
      "2025-03-06 22:44:21,817 - INFO - HTTP Request: GET https://arxiv.org/src/2503.03540v1 \"HTTP/1.1 200 OK\"\n",
      "2025-03-06 22:44:23,995 - INFO - HTTP Request: GET https://arxiv.org/src/2503.03461v1 \"HTTP/1.1 200 OK\"\n",
      "2025-03-06 22:44:24,060 - INFO - HTTP Request: GET https://arxiv.org/src/2503.03721v1 \"HTTP/1.1 200 OK\"\n",
      "2025-03-06 22:44:24,143 - INFO - HTTP Request: GET https://arxiv.org/src/2503.03678v1 \"HTTP/1.1 200 OK\"\n",
      "2025-03-06 22:44:24,242 - INFO - HTTP Request: GET https://arxiv.org/src/2503.03448v1 \"HTTP/1.1 200 OK\"\n",
      "2025-03-06 22:44:24,326 - INFO - HTTP Request: GET https://arxiv.org/src/2503.03415v1 \"HTTP/1.1 200 OK\"\n",
      "2025-03-06 22:44:24,410 - INFO - HTTP Request: GET https://arxiv.org/src/2502.20642v1 \"HTTP/1.1 200 OK\"\n",
      "2025-03-06 22:44:24,479 - INFO - HTTP Request: GET https://arxiv.org/src/2502.19681v1 \"HTTP/1.1 200 OK\"\n",
      "2025-03-06 22:44:24,535 - INFO - HTTP Request: GET https://arxiv.org/src/2502.15966v2 \"HTTP/1.1 200 OK\"\n",
      "2025-03-06 22:44:24,653 - INFO - HTTP Request: GET https://arxiv.org/src/2503.01848v1 \"HTTP/1.1 200 OK\"\n",
      "2025-03-06 22:44:24,713 - INFO - HTTP Request: GET https://arxiv.org/src/2503.03498v1 \"HTTP/1.1 200 OK\"\n",
      "2025-03-06 22:44:24,782 - INFO - HTTP Request: GET https://arxiv.org/src/2503.03405v1 \"HTTP/1.1 200 OK\"\n",
      "2025-03-06 22:44:24,893 - INFO - HTTP Request: GET https://arxiv.org/src/2503.02602v1 \"HTTP/1.1 200 OK\"\n",
      "2025-03-06 22:44:24,961 - INFO - HTTP Request: GET https://arxiv.org/src/2503.01806v1 \"HTTP/1.1 200 OK\"\n",
      "2025-03-06 22:44:25,114 - INFO - HTTP Request: GET https://arxiv.org/src/2503.03737v1 \"HTTP/1.1 200 OK\"\n",
      "2025-03-06 22:44:25,213 - INFO - HTTP Request: GET https://arxiv.org/src/2503.03424v1 \"HTTP/1.1 200 OK\"\n",
      "2025-03-06 22:44:25,304 - INFO - HTTP Request: GET https://arxiv.org/src/2503.03423v1 \"HTTP/1.1 200 OK\"\n",
      "2025-03-06 22:44:25,420 - INFO - HTTP Request: GET https://arxiv.org/src/2503.02873v1 \"HTTP/1.1 200 OK\"\n",
      "2025-03-06 22:44:25,539 - INFO - HTTP Request: GET https://arxiv.org/src/2503.03461v1 \"HTTP/1.1 200 OK\"\n",
      "2025-03-06 22:44:25,599 - INFO - HTTP Request: GET https://arxiv.org/src/2503.03063v1 \"HTTP/1.1 200 OK\"\n",
      "2025-03-06 22:44:25,675 - INFO - HTTP Request: GET https://arxiv.org/src/2503.02945v1 \"HTTP/1.1 200 OK\"\n",
      "2025-03-06 22:44:25,739 - INFO - HTTP Request: GET https://arxiv.org/src/2503.02873v1 \"HTTP/1.1 200 OK\"\n",
      "2025-03-06 22:44:25,812 - INFO - HTTP Request: GET https://arxiv.org/src/2503.03541v1 \"HTTP/1.1 200 OK\"\n",
      "2025-03-06 22:44:37,034 - INFO - HTTP Request: GET https://arxiv.org/src/2503.01541v1 \"HTTP/1.1 200 OK\"\n",
      "2025-03-06 22:44:37,124 - INFO - HTTP Request: GET https://arxiv.org/src/2502.21222v1 \"HTTP/1.1 200 OK\"\n",
      "2025-03-06 22:44:37,224 - INFO - HTTP Request: GET https://arxiv.org/src/2502.19069v1 \"HTTP/1.1 200 OK\"\n",
      "2025-03-06 22:44:37,721 - INFO - HTTP Request: GET https://arxiv.org/src/2503.03744v1 \"HTTP/1.1 200 OK\"\n",
      "2025-03-06 22:44:38,046 - INFO - HTTP Request: GET https://arxiv.org/src/2503.03560v1 \"HTTP/1.1 200 OK\"\n",
      "2025-03-06 22:45:16,344 - INFO - HTTP Request: GET https://arxiv.org/src/2503.03421v1 \"HTTP/1.1 200 OK\"\n",
      "2025-03-06 22:45:16,438 - INFO - HTTP Request: GET https://arxiv.org/src/2503.03290v1 \"HTTP/1.1 200 OK\"\n",
      "2025-03-06 22:45:16,648 - INFO - HTTP Request: GET https://arxiv.org/src/2503.03024v1 \"HTTP/1.1 200 OK\"\n",
      "2025-03-06 22:45:16,787 - INFO - HTTP Request: GET https://arxiv.org/src/2503.01815v1 \"HTTP/1.1 200 OK\"\n",
      "2025-03-06 22:45:16,908 - INFO - HTTP Request: GET https://arxiv.org/src/2503.01043v1 \"HTTP/1.1 200 OK\"\n",
      "2025-03-06 22:45:17,038 - INFO - HTTP Request: GET https://arxiv.org/src/2503.00773v1 \"HTTP/1.1 200 OK\"\n",
      "2025-03-06 22:45:17,169 - INFO - HTTP Request: GET https://arxiv.org/src/2503.03551v1 \"HTTP/1.1 200 OK\"\n",
      "2025-03-06 22:45:17,249 - INFO - HTTP Request: GET https://arxiv.org/src/2503.03240v1 \"HTTP/1.1 200 OK\"\n",
      "2025-03-06 22:45:17,311 - INFO - HTTP Request: GET https://arxiv.org/src/2503.03028v1 \"HTTP/1.1 200 OK\"\n",
      "2025-03-06 22:45:17,426 - INFO - HTTP Request: GET https://arxiv.org/src/2503.02290v1 \"HTTP/1.1 200 OK\"\n",
      "2025-03-06 22:45:17,531 - INFO - HTTP Request: GET https://arxiv.org/src/2503.03442v1 \"HTTP/1.1 200 OK\"\n",
      "2025-03-06 22:45:17,603 - INFO - HTTP Request: GET https://arxiv.org/src/2503.02613v1 \"HTTP/1.1 200 OK\"\n",
      "2025-03-06 22:45:17,691 - INFO - HTTP Request: GET https://arxiv.org/src/2503.02599v1 \"HTTP/1.1 200 OK\"\n",
      "2025-03-06 22:45:17,801 - INFO - HTTP Request: GET https://arxiv.org/src/2503.02596v1 \"HTTP/1.1 200 OK\"\n",
      "2025-03-06 22:45:17,926 - INFO - HTTP Request: GET https://arxiv.org/src/2503.03653v1 \"HTTP/1.1 200 OK\"\n",
      "2025-03-06 22:45:18,150 - INFO - HTTP Request: GET https://arxiv.org/src/2503.03525v1 \"HTTP/1.1 200 OK\"\n",
      "2025-03-06 22:45:18,446 - INFO - HTTP Request: GET https://arxiv.org/src/2503.03456v1 \"HTTP/1.1 200 OK\"\n",
      "2025-03-06 22:45:18,553 - INFO - HTTP Request: GET https://arxiv.org/src/2503.03425v1 \"HTTP/1.1 200 OK\"\n",
      "2025-03-06 22:45:18,930 - INFO - HTTP Request: GET https://arxiv.org/src/2503.03690v1 \"HTTP/1.1 200 OK\"\n",
      "2025-03-06 22:45:19,053 - INFO - HTTP Request: GET https://arxiv.org/src/2503.03621v1 \"HTTP/1.1 200 OK\"\n",
      "2025-03-06 22:45:19,452 - INFO - HTTP Request: GET https://arxiv.org/src/2503.03615v1 \"HTTP/1.1 200 OK\"\n",
      "2025-03-06 22:45:19,705 - INFO - HTTP Request: GET https://arxiv.org/src/2503.03478v1 \"HTTP/1.1 200 OK\"\n",
      "2025-03-06 22:45:19,796 - INFO - HTTP Request: GET https://arxiv.org/src/2503.03498v1 \"HTTP/1.1 200 OK\"\n",
      "2025-03-06 22:45:19,885 - INFO - HTTP Request: GET https://arxiv.org/src/2503.03448v1 \"HTTP/1.1 200 OK\"\n",
      "2025-03-06 22:45:19,953 - INFO - HTTP Request: GET https://arxiv.org/src/2503.03424v1 \"HTTP/1.1 200 OK\"\n",
      "2025-03-06 22:45:20,092 - INFO - HTTP Request: GET https://arxiv.org/src/2503.03315v1 \"HTTP/1.1 200 OK\"\n",
      "2025-03-06 22:45:20,174 - INFO - HTTP Request: GET https://arxiv.org/src/2503.03625v1 \"HTTP/1.1 200 OK\"\n",
      "2025-03-06 22:45:29,427 - INFO - HTTP Request: GET https://arxiv.org/src/2503.03596v1 \"HTTP/1.1 200 OK\"\n",
      "2025-03-06 22:45:29,513 - INFO - HTTP Request: GET https://arxiv.org/src/2503.03581v1 \"HTTP/1.1 200 OK\"\n",
      "2025-03-06 22:45:37,105 - INFO - HTTP Request: GET https://arxiv.org/src/2503.03526v1 \"HTTP/1.1 200 OK\"\n",
      "2025-03-06 22:45:37,207 - INFO - HTTP Request: GET https://arxiv.org/src/2503.03695v1 \"HTTP/1.1 200 OK\"\n",
      "2025-03-06 22:45:37,344 - INFO - HTTP Request: GET https://arxiv.org/src/2503.03685v1 \"HTTP/1.1 200 OK\"\n",
      "2025-03-06 22:45:37,439 - INFO - HTTP Request: GET https://arxiv.org/src/2503.03677v1 \"HTTP/1.1 200 OK\"\n",
      "2025-03-06 22:45:37,524 - INFO - HTTP Request: GET https://arxiv.org/src/2503.03647v1 \"HTTP/1.1 200 OK\"\n",
      "2025-03-06 22:45:37,635 - INFO - HTTP Request: GET https://arxiv.org/src/2503.03448v1 \"HTTP/1.1 200 OK\"\n",
      "2025-03-06 22:45:37,739 - INFO - HTTP Request: GET https://arxiv.org/src/2503.03445v1 \"HTTP/1.1 200 OK\"\n",
      "2025-03-06 22:45:37,829 - INFO - HTTP Request: GET https://arxiv.org/src/2503.03181v1 \"HTTP/1.1 200 OK\"\n",
      "2025-03-06 22:45:37,914 - INFO - HTTP Request: GET https://arxiv.org/src/2503.03004v1 \"HTTP/1.1 200 OK\"\n",
      "2025-03-06 22:45:37,984 - INFO - HTTP Request: GET https://arxiv.org/src/2503.03719v1 \"HTTP/1.1 200 OK\"\n",
      "2025-03-06 22:45:38,084 - INFO - HTTP Request: GET https://arxiv.org/src/2503.03643v1 \"HTTP/1.1 200 OK\"\n",
      "2025-03-06 22:45:38,200 - INFO - HTTP Request: GET https://arxiv.org/src/2503.03605v1 \"HTTP/1.1 200 OK\"\n",
      "2025-03-06 22:45:38,261 - INFO - HTTP Request: GET https://arxiv.org/src/2503.03429v1 \"HTTP/1.1 200 OK\"\n",
      "2025-03-06 22:45:38,533 - INFO - HTTP Request: GET https://arxiv.org/src/2503.03741v1 \"HTTP/1.1 200 OK\"\n",
      "2025-03-06 22:45:38,624 - INFO - HTTP Request: GET https://arxiv.org/src/2503.03719v1 \"HTTP/1.1 200 OK\"\n",
      "2025-03-06 22:45:38,710 - INFO - HTTP Request: GET https://arxiv.org/src/2503.03643v1 \"HTTP/1.1 200 OK\"\n",
      "2025-03-06 22:45:38,802 - INFO - HTTP Request: GET https://arxiv.org/src/2503.03591v1 \"HTTP/1.1 200 OK\"\n",
      "2025-03-06 22:45:38,874 - INFO - HTTP Request: GET https://arxiv.org/src/2503.03672v1 \"HTTP/1.1 200 OK\"\n",
      "2025-03-06 22:45:38,965 - INFO - HTTP Request: GET https://arxiv.org/src/2503.03226v1 \"HTTP/1.1 200 OK\"\n",
      "2025-03-06 22:45:39,108 - INFO - HTTP Request: GET https://arxiv.org/src/2503.02406v1 \"HTTP/1.1 200 OK\"\n",
      "2025-03-06 22:45:40,168 - INFO - HTTP Request: GET https://arxiv.org/src/2503.00500v1 \"HTTP/1.1 200 OK\"\n",
      "2025-03-06 22:45:40,315 - INFO - HTTP Request: GET https://arxiv.org/src/2503.03632v1 \"HTTP/1.1 200 OK\"\n",
      "2025-03-06 22:45:40,902 - INFO - HTTP Request: GET https://arxiv.org/src/2503.03356v1 \"HTTP/1.1 200 OK\"\n",
      "2025-03-06 22:45:41,063 - INFO - HTTP Request: GET https://arxiv.org/src/2503.03248v1 \"HTTP/1.1 200 OK\"\n",
      "2025-03-06 22:45:41,167 - INFO - HTTP Request: GET https://arxiv.org/src/2503.03086v1 \"HTTP/1.1 200 OK\"\n",
      "2025-03-06 22:45:41,232 - INFO - HTTP Request: GET https://arxiv.org/src/2503.03567v1 \"HTTP/1.1 200 OK\"\n",
      "2025-03-06 22:45:41,312 - INFO - HTTP Request: GET https://arxiv.org/src/2503.03426v1 \"HTTP/1.1 200 OK\"\n",
      "2025-03-06 22:45:41,857 - INFO - HTTP Request: GET https://arxiv.org/src/2503.03356v1 \"HTTP/1.1 200 OK\"\n",
      "2025-03-06 22:45:42,045 - INFO - HTTP Request: GET https://arxiv.org/src/2503.03347v1 \"HTTP/1.1 200 OK\"\n"
     ]
    }
   ],
   "source": [
    "from math_rag.infrastructure.services.arxiv import MathCategory\n",
    "from math_rag.infrastructure.utils import GzipExtractorUtil\n",
    "\n",
    "\n",
    "results = [\n",
    "    result\n",
    "    for category in MathCategory\n",
    "    for result in arxiv_searcher_service.search(category, 4)\n",
    "]\n",
    "files: dict[str, bytes] = {}\n",
    "\n",
    "for result in results:\n",
    "    arxiv_id = result.entry_id.split('/')[-1]\n",
    "    src = await arxiv_searcher_service.get_src(arxiv_id)\n",
    "    # NOTE: we dont need pdfs at the moment\n",
    "    # pdf = await arxiv_searcher_service.get_pdf(arxiv_id)\n",
    "\n",
    "    if src is None:\n",
    "        continue\n",
    "\n",
    "    src_name, src_bytes = src\n",
    "\n",
    "    if not src_name or src_name.endswith('.pdf'):\n",
    "        continue\n",
    "\n",
    "    if src_name.endswith('.tar.gz'):\n",
    "        extracted_files = GzipExtractorUtil.extract_tar_gz(src_bytes)\n",
    "        files.update({f'{arxiv_id}/{k}': v for k, v in extracted_files.items()})\n",
    "\n",
    "    elif src_name.endswith('.gz'):\n",
    "        extracted_bytes = GzipExtractorUtil.extract_gz(src_bytes)\n",
    "        files[f'{arxiv_id}.tex'] = extracted_bytes\n",
    "\n",
    "    else:\n",
    "        raise ValueError(f'Unexpected file extension {src_name}')"
   ]
  },
  {
   "cell_type": "markdown",
   "metadata": {},
   "source": [
    "### Load"
   ]
  },
  {
   "cell_type": "code",
   "execution_count": null,
   "metadata": {},
   "outputs": [],
   "source": [
    "# NOTE: deprecated\n",
    "# from zipfile import ZipFile\n",
    "# folder_name, name = 'articles', 'articles_v1.zip'\n",
    "\n",
    "# file_id = google_file_repository.get_file_id(name, folder_name)\n",
    "# assert file_id is not None\n",
    "\n",
    "# file_bytes = google_file_repository.get_file_by_id(file_id)\n",
    "\n",
    "# with ZipFile(file_bytes, 'r') as zip_file:\n",
    "#     files = {\n",
    "#         name: zip_file.read(name)\n",
    "#         for name in zip_file.namelist()\n",
    "#         if not name.endswith('/')\n",
    "#     }"
   ]
  },
  {
   "cell_type": "code",
   "execution_count": 6,
   "metadata": {},
   "outputs": [],
   "source": [
    "from math_rag.core.models import MathArticle\n",
    "\n",
    "\n",
    "math_articles = [MathArticle(name=name, bytes=bytes) for name, bytes in files.items()]\n",
    "math_article_repository.insert_math_articles(math_articles)"
   ]
  },
  {
   "cell_type": "code",
   "execution_count": 7,
   "metadata": {},
   "outputs": [
    {
     "name": "stdout",
     "output_type": "stream",
     "text": [
      "2502.15966v2.tex\n",
      "2502.19069v1/article_FGT_Hermite_original.tex\n",
      "2502.19069v1/image1.png\n",
      "2502.19069v1/image2.png\n",
      "2502.19681v1.tex\n",
      "2502.20642v1.tex\n",
      "2502.21222v1/THK_80_Kepler_laws_-_revised.tex\n",
      "2502.21222v1/fig1.pdf\n",
      "2502.21222v1/fig2.pdf\n",
      "2502.21222v1/fig3.pdf\n"
     ]
    }
   ],
   "source": [
    "for name in math_article_repository.list_math_article_names()[:10]:\n",
    "    print(name)"
   ]
  },
  {
   "cell_type": "markdown",
   "metadata": {},
   "source": [
    "### Parse"
   ]
  },
  {
   "cell_type": "code",
   "execution_count": null,
   "metadata": {},
   "outputs": [],
   "source": [
    "from math_rag.infrastructure.utils import FileReaderUtil\n",
    "\n",
    "\n",
    "file_names = math_article_repository.list_math_article_names()\n",
    "file_names = [x for x in file_names if x.endswith('.tex')]\n",
    "\n",
    "math_nodes: list[LatexMathNode] = []\n",
    "\n",
    "\n",
    "def append_math_node(math_node: LatexMathNode):\n",
    "    latex = math_node.latex_verbatim()\n",
    "\n",
    "    if 'tikz' not in latex and len(latex) < 1000:\n",
    "        math_nodes.append(math_node)\n",
    "\n",
    "\n",
    "for name in file_names:\n",
    "    math_article = math_article_repository.get_math_article_by_name(name)\n",
    "    latex = FileReaderUtil.read(math_article.bytes)\n",
    "    nodes = latex_parser_service.parse(latex)\n",
    "    callbacks = {LatexMathNode: append_math_node}\n",
    "\n",
    "    latex_visitor_service.visit(nodes, callbacks)"
   ]
  },
  {
   "cell_type": "code",
   "execution_count": null,
   "metadata": {},
   "outputs": [],
   "source": [
    "from math_rag.core.models import MathExpression\n",
    "\n",
    "\n",
    "math_expressions: list[MathExpression] = []\n",
    "batch_size = 100\n",
    "\n",
    "for i in range(0, len(math_nodes), batch_size):\n",
    "    math_node_batch = math_nodes[i : i + batch_size]\n",
    "    latex_batch = [str(math_node.latex_verbatim()) for math_node in math_node_batch]\n",
    "    katex_batch = [latex.strip('$') for latex in latex_batch]\n",
    "    results = await katex_validator_service.validate_many(katex_batch)\n",
    "\n",
    "    for math_node, latex, katex, result in zip(\n",
    "        math_node_batch, latex_batch, katex_batch, results\n",
    "    ):\n",
    "        if not result.valid:\n",
    "            try:\n",
    "                katex = await katex_correction_assistant.correct(katex, result.error)\n",
    "            except Exception as e:\n",
    "                katex = None\n",
    "                print(e)\n",
    "\n",
    "        math_expression = MathExpression(\n",
    "            latex=latex,\n",
    "            katex=katex,\n",
    "            position=math_node.pos,\n",
    "            is_inline=math_node.displaytype == 'inline',\n",
    "        )\n",
    "        math_expressions.append(math_expression)"
   ]
  },
  {
   "cell_type": "code",
   "execution_count": null,
   "metadata": {},
   "outputs": [],
   "source": [
    "# TODO insert in batches in previous loop\n",
    "await math_expression_repository.insert_math_expressions(math_expressions)"
   ]
  },
  {
   "cell_type": "code",
   "execution_count": 13,
   "metadata": {},
   "outputs": [
    {
     "data": {
      "text/latex": [
       "$\\displaystyle \\sum_{j=1}^{2^{n-2}}\\frac{1}{\\sin^s\\left(\\frac{(2j-1)\\pi}{2^n}\\right)}$"
      ],
      "text/plain": [
       "<IPython.core.display.Math object>"
      ]
     },
     "metadata": {},
     "output_type": "display_data"
    },
    {
     "data": {
      "text/latex": [
       "$\\displaystyle E_j(x)$"
      ],
      "text/plain": [
       "<IPython.core.display.Math object>"
      ]
     },
     "metadata": {},
     "output_type": "display_data"
    },
    {
     "data": {
      "text/latex": [
       "$\\displaystyle j\\in\\mathbb{N}$"
      ],
      "text/plain": [
       "<IPython.core.display.Math object>"
      ]
     },
     "metadata": {},
     "output_type": "display_data"
    },
    {
     "data": {
      "text/latex": [
       "$\\displaystyle B(j)$"
      ],
      "text/plain": [
       "<IPython.core.display.Math object>"
      ]
     },
     "metadata": {},
     "output_type": "display_data"
    },
    {
     "data": {
      "text/latex": [
       "$\\displaystyle j$"
      ],
      "text/plain": [
       "<IPython.core.display.Math object>"
      ]
     },
     "metadata": {},
     "output_type": "display_data"
    },
    {
     "data": {
      "text/latex": [
       "$\\displaystyle B_n^{(\\alpha)}(x)$"
      ],
      "text/plain": [
       "<IPython.core.display.Math object>"
      ]
     },
     "metadata": {},
     "output_type": "display_data"
    },
    {
     "data": {
      "text/latex": [
       "$\\displaystyle n$"
      ],
      "text/plain": [
       "<IPython.core.display.Math object>"
      ]
     },
     "metadata": {},
     "output_type": "display_data"
    },
    {
     "data": {
      "text/latex": [
       "$\\displaystyle x$"
      ],
      "text/plain": [
       "<IPython.core.display.Math object>"
      ]
     },
     "metadata": {},
     "output_type": "display_data"
    },
    {
     "data": {
      "text/latex": [
       "$\\displaystyle \\left(\\frac{t}{e^t-1}\\right)^\\alpha e^{xt}=\\sum_{n=0}^\\infty B_n^{(\\alpha)}(x)\\frac{t^n}{n!}$"
      ],
      "text/plain": [
       "<IPython.core.display.Math object>"
      ]
     },
     "metadata": {},
     "output_type": "display_data"
    },
    {
     "data": {
      "text/latex": [
       "$\\displaystyle \\left(\\frac{2}{e^t+1}\\right) e^{xt}=\\sum_{n=0}^\\infty E_n(x)\\frac{t^n}{n!}$"
      ],
      "text/plain": [
       "<IPython.core.display.Math object>"
      ]
     },
     "metadata": {},
     "output_type": "display_data"
    },
    {
     "data": {
      "text/latex": [
       "$\\displaystyle E_j(x)$"
      ],
      "text/plain": [
       "<IPython.core.display.Math object>"
      ]
     },
     "metadata": {},
     "output_type": "display_data"
    },
    {
     "data": {
      "text/latex": [
       "$\\displaystyle E(k)$"
      ],
      "text/plain": [
       "<IPython.core.display.Math object>"
      ]
     },
     "metadata": {},
     "output_type": "display_data"
    },
    {
     "data": {
      "text/latex": [
       "$\\displaystyle k$"
      ],
      "text/plain": [
       "<IPython.core.display.Math object>"
      ]
     },
     "metadata": {},
     "output_type": "display_data"
    },
    {
     "data": {
      "text/latex": [
       "$\\displaystyle B_n^{(\\alpha)}(x)$"
      ],
      "text/plain": [
       "<IPython.core.display.Math object>"
      ]
     },
     "metadata": {},
     "output_type": "display_data"
    },
    {
     "data": {
      "text/latex": [
       "$\\displaystyle n$"
      ],
      "text/plain": [
       "<IPython.core.display.Math object>"
      ]
     },
     "metadata": {},
     "output_type": "display_data"
    },
    {
     "data": {
      "text/latex": [
       "$\\displaystyle x$"
      ],
      "text/plain": [
       "<IPython.core.display.Math object>"
      ]
     },
     "metadata": {},
     "output_type": "display_data"
    },
    {
     "data": {
      "text/latex": [
       "$\\displaystyle B(j)$"
      ],
      "text/plain": [
       "<IPython.core.display.Math object>"
      ]
     },
     "metadata": {},
     "output_type": "display_data"
    },
    {
     "data": {
      "text/latex": [
       "$\\displaystyle j$"
      ],
      "text/plain": [
       "<IPython.core.display.Math object>"
      ]
     },
     "metadata": {},
     "output_type": "display_data"
    },
    {
     "data": {
      "text/latex": [
       "$\\displaystyle B_{n}^{(\\alpha)}(x+y)$"
      ],
      "text/plain": [
       "<IPython.core.display.Math object>"
      ]
     },
     "metadata": {},
     "output_type": "display_data"
    },
    {
     "data": {
      "text/latex": [
       "$\\displaystyle i>0$"
      ],
      "text/plain": [
       "<IPython.core.display.Math object>"
      ]
     },
     "metadata": {},
     "output_type": "display_data"
    },
    {
     "data": {
      "text/latex": [
       "$\\displaystyle m>0$"
      ],
      "text/plain": [
       "<IPython.core.display.Math object>"
      ]
     },
     "metadata": {},
     "output_type": "display_data"
    },
    {
     "data": {
      "text/latex": [
       "$\\displaystyle B_{n}^{(\\alpha)}(\\alpha -x)$"
      ],
      "text/plain": [
       "<IPython.core.display.Math object>"
      ]
     },
     "metadata": {},
     "output_type": "display_data"
    },
    {
     "data": {
      "text/latex": [
       "$\\displaystyle t^{n+1}$"
      ],
      "text/plain": [
       "<IPython.core.display.Math object>"
      ]
     },
     "metadata": {},
     "output_type": "display_data"
    },
    {
     "data": {
      "text/latex": [
       "$\\displaystyle B_{n+1}^{(\\alpha)}(x+1)-B_{n+1}^{(\\alpha)}(x)$"
      ],
      "text/plain": [
       "<IPython.core.display.Math object>"
      ]
     },
     "metadata": {},
     "output_type": "display_data"
    },
    {
     "data": {
      "text/latex": [
       "$\\displaystyle t^{n+1}$"
      ],
      "text/plain": [
       "<IPython.core.display.Math object>"
      ]
     },
     "metadata": {},
     "output_type": "display_data"
    },
    {
     "data": {
      "text/latex": [
       "$\\displaystyle \\sum_{k=0}^{n+1}\\binom{n+1}{k}B_k^{(\\alpha)}(x)-B_{n+1}^{(\\alpha)}(x)$"
      ],
      "text/plain": [
       "<IPython.core.display.Math object>"
      ]
     },
     "metadata": {},
     "output_type": "display_data"
    },
    {
     "data": {
      "text/latex": [
       "$\\displaystyle t^{n+1}$"
      ],
      "text/plain": [
       "<IPython.core.display.Math object>"
      ]
     },
     "metadata": {},
     "output_type": "display_data"
    },
    {
     "data": {
      "text/latex": [
       "$\\displaystyle (n+1)B_n^{(\\alpha-1)}(x)$"
      ],
      "text/plain": [
       "<IPython.core.display.Math object>"
      ]
     },
     "metadata": {},
     "output_type": "display_data"
    },
    {
     "data": {
      "text/latex": [
       "$\\displaystyle i>0$"
      ],
      "text/plain": [
       "<IPython.core.display.Math object>"
      ]
     },
     "metadata": {},
     "output_type": "display_data"
    },
    {
     "data": {
      "text/latex": [
       "$\\displaystyle m>0$"
      ],
      "text/plain": [
       "<IPython.core.display.Math object>"
      ]
     },
     "metadata": {},
     "output_type": "display_data"
    },
    {
     "data": {
      "text/latex": [
       "$\\displaystyle i\\in\\mathbb{Z}$"
      ],
      "text/plain": [
       "<IPython.core.display.Math object>"
      ]
     },
     "metadata": {},
     "output_type": "display_data"
    },
    {
     "data": {
      "text/latex": [
       "$\\displaystyle m\\in\\mathbb{R}$"
      ],
      "text/plain": [
       "<IPython.core.display.Math object>"
      ]
     },
     "metadata": {},
     "output_type": "display_data"
    },
    {
     "data": {
      "text/latex": [
       "$\\displaystyle \\binom{n+r+1}{n+k+1}$"
      ],
      "text/plain": [
       "<IPython.core.display.Math object>"
      ]
     },
     "metadata": {},
     "output_type": "display_data"
    },
    {
     "data": {
      "text/latex": [
       "$\\displaystyle s(i,j)$"
      ],
      "text/plain": [
       "<IPython.core.display.Math object>"
      ]
     },
     "metadata": {},
     "output_type": "display_data"
    },
    {
     "data": {
      "text/latex": [
       "$\\displaystyle S(i,j)$"
      ],
      "text/plain": [
       "<IPython.core.display.Math object>"
      ]
     },
     "metadata": {},
     "output_type": "display_data"
    },
    {
     "data": {
      "text/latex": [
       "$\\displaystyle S(i,j)$"
      ],
      "text/plain": [
       "<IPython.core.display.Math object>"
      ]
     },
     "metadata": {},
     "output_type": "display_data"
    },
    {
     "data": {
      "text/latex": [
       "$\\displaystyle 1<m$"
      ],
      "text/plain": [
       "<IPython.core.display.Math object>"
      ]
     },
     "metadata": {},
     "output_type": "display_data"
    },
    {
     "data": {
      "text/latex": [
       "$\\displaystyle r=l+k$"
      ],
      "text/plain": [
       "<IPython.core.display.Math object>"
      ]
     },
     "metadata": {},
     "output_type": "display_data"
    },
    {
     "data": {
      "text/latex": [
       "$\\displaystyle s(i,j)$"
      ],
      "text/plain": [
       "<IPython.core.display.Math object>"
      ]
     },
     "metadata": {},
     "output_type": "display_data"
    },
    {
     "data": {
      "text/latex": [
       "$\\displaystyle m>1,\\text{  } 0\\le j<m-1$"
      ],
      "text/plain": [
       "<IPython.core.display.Math object>"
      ]
     },
     "metadata": {},
     "output_type": "display_data"
    },
    {
     "data": {
      "text/latex": [
       "$\\displaystyle \\sum_{k=0}^{m-1}\\binom{m-1}{k}B_k^{(m)}(x)$"
      ],
      "text/plain": [
       "<IPython.core.display.Math object>"
      ]
     },
     "metadata": {},
     "output_type": "display_data"
    },
    {
     "data": {
      "text/latex": [
       "$\\displaystyle m-1$"
      ],
      "text/plain": [
       "<IPython.core.display.Math object>"
      ]
     },
     "metadata": {},
     "output_type": "display_data"
    },
    {
     "data": {
      "text/latex": [
       "$\\displaystyle e^t\\left(\\frac{t}{e^t-1}\\right)^{(m)} e^{xt}=\\left(\\frac{t}{e^t-1}\\right)^{(m)} e^{(x+1)t}$"
      ],
      "text/plain": [
       "<IPython.core.display.Math object>"
      ]
     },
     "metadata": {},
     "output_type": "display_data"
    },
    {
     "data": {
      "text/latex": [
       "$\\displaystyle B_{m-1}^{(m)}(x+1)$"
      ],
      "text/plain": [
       "<IPython.core.display.Math object>"
      ]
     },
     "metadata": {},
     "output_type": "display_data"
    },
    {
     "data": {
      "text/latex": [
       "$\\displaystyle x=0,\\ldots,m-2$"
      ],
      "text/plain": [
       "<IPython.core.display.Math object>"
      ]
     },
     "metadata": {},
     "output_type": "display_data"
    },
    {
     "data": {
      "text/latex": [
       "$\\displaystyle B_{n-1}^{(\\alpha)}(x)=\\frac{1}{n}\\frac{ \\mathrm{  d  }   }{\\mathrm{d}x }B_n^{(\\alpha)}(x)$"
      ],
      "text/plain": [
       "<IPython.core.display.Math object>"
      ]
     },
     "metadata": {},
     "output_type": "display_data"
    },
    {
     "data": {
      "text/latex": [
       "$\\displaystyle \\left(\\frac{t}{e^t-1}\\right)^\\alpha e^{xt}=\\sum_{n=0}^\\infty B_n^{(\\alpha)}(x)\\frac{t^n}{n!}$"
      ],
      "text/plain": [
       "<IPython.core.display.Math object>"
      ]
     },
     "metadata": {},
     "output_type": "display_data"
    },
    {
     "data": {
      "text/latex": [
       "$\\displaystyle \\implies \\frac{1}{n}\\frac{ \\mathrm{  d  }   }{\\mathrm{d}x }B_n^{(\\alpha)}(x)=B_{n-1}^{(\\alpha)}(x)$"
      ],
      "text/plain": [
       "<IPython.core.display.Math object>"
      ]
     },
     "metadata": {},
     "output_type": "display_data"
    },
    {
     "data": {
      "text/latex": [
       "$\\displaystyle m, j\\ge 0$"
      ],
      "text/plain": [
       "<IPython.core.display.Math object>"
      ]
     },
     "metadata": {},
     "output_type": "display_data"
    },
    {
     "data": {
      "text/latex": [
       "$\\displaystyle t$"
      ],
      "text/plain": [
       "<IPython.core.display.Math object>"
      ]
     },
     "metadata": {},
     "output_type": "display_data"
    },
    {
     "data": {
      "text/latex": [
       "$\\displaystyle t$"
      ],
      "text/plain": [
       "<IPython.core.display.Math object>"
      ]
     },
     "metadata": {},
     "output_type": "display_data"
    },
    {
     "data": {
      "text/latex": [
       "$\\displaystyle t^{2j}$"
      ],
      "text/plain": [
       "<IPython.core.display.Math object>"
      ]
     },
     "metadata": {},
     "output_type": "display_data"
    },
    {
     "data": {
      "text/latex": [
       "$\\displaystyle t^{2j-1}$"
      ],
      "text/plain": [
       "<IPython.core.display.Math object>"
      ]
     },
     "metadata": {},
     "output_type": "display_data"
    },
    {
     "data": {
      "text/latex": [
       "$\\displaystyle t$"
      ],
      "text/plain": [
       "<IPython.core.display.Math object>"
      ]
     },
     "metadata": {},
     "output_type": "display_data"
    },
    {
     "data": {
      "text/latex": [
       "$\\displaystyle t$"
      ],
      "text/plain": [
       "<IPython.core.display.Math object>"
      ]
     },
     "metadata": {},
     "output_type": "display_data"
    },
    {
     "data": {
      "text/latex": [
       "$\\displaystyle t^{2j}$"
      ],
      "text/plain": [
       "<IPython.core.display.Math object>"
      ]
     },
     "metadata": {},
     "output_type": "display_data"
    },
    {
     "data": {
      "text/latex": [
       "$\\displaystyle m>k\\ge 0$"
      ],
      "text/plain": [
       "<IPython.core.display.Math object>"
      ]
     },
     "metadata": {},
     "output_type": "display_data"
    },
    {
     "data": {
      "text/latex": [
       "$\\displaystyle j=m-i$"
      ],
      "text/plain": [
       "<IPython.core.display.Math object>"
      ]
     },
     "metadata": {},
     "output_type": "display_data"
    },
    {
     "data": {
      "text/latex": [
       "$\\displaystyle k=m-j-1$"
      ],
      "text/plain": [
       "<IPython.core.display.Math object>"
      ]
     },
     "metadata": {},
     "output_type": "display_data"
    },
    {
     "data": {
      "text/latex": [
       "$\\displaystyle m>k\\ge 0$"
      ],
      "text/plain": [
       "<IPython.core.display.Math object>"
      ]
     },
     "metadata": {},
     "output_type": "display_data"
    },
    {
     "data": {
      "text/latex": [
       "$\\displaystyle =\\sum_{i=k+1}^m \\binom{2m-1}{2i-1}\\biggl(\\binom{2i}{2k}-m\\binom{2i-1}{2k}\\biggr)\\frac{(2m-2i)!}{(2m-1)!}\\sum_{i=k+1}^m\\frac{r!}{(r-2i+1)!}s(2m,r+1) m^{r-2i+1}$"
      ],
      "text/plain": [
       "<IPython.core.display.Math object>"
      ]
     },
     "metadata": {},
     "output_type": "display_data"
    },
    {
     "data": {
      "text/latex": [
       "$\\displaystyle =\\sum_{i=k+1}^m \\sum_{r=2i-1}^{2m-1}\\binom{2m-1}{2i-1}\\biggl(\\binom{2i}{2k}-m\\binom{2i-1}{2k}\\biggr)\\frac{1}{\\binom{2m-1}{2i-1}}\\binom{r}{2i-1}s(2m,r+1) m^{r-2i+1}$"
      ],
      "text/plain": [
       "<IPython.core.display.Math object>"
      ]
     },
     "metadata": {},
     "output_type": "display_data"
    },
    {
     "data": {
      "text/latex": [
       "$\\displaystyle =\\sum_{i=k+1}^m \\sum_{r=2i-1}^{2m-1}\\binom{r}{2i-1}\\biggl(\\binom{2i}{2k}-m\\binom{2i-1}{2k}\\biggr)s(2m,r+1) m^{r-2i+1}$"
      ],
      "text/plain": [
       "<IPython.core.display.Math object>"
      ]
     },
     "metadata": {},
     "output_type": "display_data"
    },
    {
     "data": {
      "text/latex": [
       "$\\displaystyle (x-m)^2$"
      ],
      "text/plain": [
       "<IPython.core.display.Math object>"
      ]
     },
     "metadata": {},
     "output_type": "display_data"
    },
    {
     "data": {
      "text/latex": [
       "$\\displaystyle (x-m)$"
      ],
      "text/plain": [
       "<IPython.core.display.Math object>"
      ]
     },
     "metadata": {},
     "output_type": "display_data"
    },
    {
     "data": {
      "text/latex": [
       "$\\displaystyle p(x)$"
      ],
      "text/plain": [
       "<IPython.core.display.Math object>"
      ]
     },
     "metadata": {},
     "output_type": "display_data"
    },
    {
     "data": {
      "text/latex": [
       "$\\displaystyle B_{2m-2i-1}^{(2m)}(m)$"
      ],
      "text/plain": [
       "<IPython.core.display.Math object>"
      ]
     },
     "metadata": {},
     "output_type": "display_data"
    },
    {
     "data": {
      "text/latex": [
       "$\\displaystyle (x-m)$"
      ],
      "text/plain": [
       "<IPython.core.display.Math object>"
      ]
     },
     "metadata": {},
     "output_type": "display_data"
    },
    {
     "data": {
      "text/latex": [
       "$\\displaystyle p(x)$"
      ],
      "text/plain": [
       "<IPython.core.display.Math object>"
      ]
     },
     "metadata": {},
     "output_type": "display_data"
    },
    {
     "data": {
      "text/latex": [
       "$\\displaystyle E_{i+1}=0$"
      ],
      "text/plain": [
       "<IPython.core.display.Math object>"
      ]
     },
     "metadata": {},
     "output_type": "display_data"
    },
    {
     "data": {
      "text/latex": [
       "$\\displaystyle i$"
      ],
      "text/plain": [
       "<IPython.core.display.Math object>"
      ]
     },
     "metadata": {},
     "output_type": "display_data"
    },
    {
     "data": {
      "text/latex": [
       "$\\displaystyle B_{2m-i-1}^{(2m)}(m)=0$"
      ],
      "text/plain": [
       "<IPython.core.display.Math object>"
      ]
     },
     "metadata": {},
     "output_type": "display_data"
    },
    {
     "data": {
      "text/latex": [
       "$\\displaystyle i$"
      ],
      "text/plain": [
       "<IPython.core.display.Math object>"
      ]
     },
     "metadata": {},
     "output_type": "display_data"
    },
    {
     "data": {
      "text/latex": [
       "$\\displaystyle k=0$"
      ],
      "text/plain": [
       "<IPython.core.display.Math object>"
      ]
     },
     "metadata": {},
     "output_type": "display_data"
    },
    {
     "data": {
      "text/latex": [
       "$\\displaystyle i$"
      ],
      "text/plain": [
       "<IPython.core.display.Math object>"
      ]
     },
     "metadata": {},
     "output_type": "display_data"
    },
    {
     "data": {
      "text/latex": [
       "$\\displaystyle m-i-1$"
      ],
      "text/plain": [
       "<IPython.core.display.Math object>"
      ]
     },
     "metadata": {},
     "output_type": "display_data"
    },
    {
     "data": {
      "text/latex": [
       "$\\displaystyle k=m-1$"
      ],
      "text/plain": [
       "<IPython.core.display.Math object>"
      ]
     },
     "metadata": {},
     "output_type": "display_data"
    },
    {
     "data": {
      "text/latex": [
       "$\\displaystyle B_0^{(\\alpha)}(x))=1$"
      ],
      "text/plain": [
       "<IPython.core.display.Math object>"
      ]
     },
     "metadata": {},
     "output_type": "display_data"
    },
    {
     "data": {
      "text/latex": [
       "$\\displaystyle i$"
      ],
      "text/plain": [
       "<IPython.core.display.Math object>"
      ]
     },
     "metadata": {},
     "output_type": "display_data"
    },
    {
     "data": {
      "text/latex": [
       "$\\displaystyle i$"
      ],
      "text/plain": [
       "<IPython.core.display.Math object>"
      ]
     },
     "metadata": {},
     "output_type": "display_data"
    },
    {
     "data": {
      "text/latex": [
       "$\\displaystyle 2i-1$"
      ],
      "text/plain": [
       "<IPython.core.display.Math object>"
      ]
     },
     "metadata": {},
     "output_type": "display_data"
    },
    {
     "data": {
      "text/latex": [
       "$\\displaystyle \\sum_{i=0}^{2m-1}$"
      ],
      "text/plain": [
       "<IPython.core.display.Math object>"
      ]
     },
     "metadata": {},
     "output_type": "display_data"
    },
    {
     "data": {
      "text/latex": [
       "$\\displaystyle \\sum_{i=1}^{m}$"
      ],
      "text/plain": [
       "<IPython.core.display.Math object>"
      ]
     },
     "metadata": {},
     "output_type": "display_data"
    },
    {
     "data": {
      "text/latex": [
       "$\\displaystyle k$"
      ],
      "text/plain": [
       "<IPython.core.display.Math object>"
      ]
     },
     "metadata": {},
     "output_type": "display_data"
    },
    {
     "data": {
      "text/latex": [
       "$\\displaystyle m-1-k$"
      ],
      "text/plain": [
       "<IPython.core.display.Math object>"
      ]
     },
     "metadata": {},
     "output_type": "display_data"
    },
    {
     "data": {
      "text/latex": [
       "$\\displaystyle i$"
      ],
      "text/plain": [
       "<IPython.core.display.Math object>"
      ]
     },
     "metadata": {},
     "output_type": "display_data"
    },
    {
     "data": {
      "text/latex": [
       "$\\displaystyle m-1-(k-i)$"
      ],
      "text/plain": [
       "<IPython.core.display.Math object>"
      ]
     },
     "metadata": {},
     "output_type": "display_data"
    },
    {
     "data": {
      "text/latex": [
       "$\\displaystyle x$"
      ],
      "text/plain": [
       "<IPython.core.display.Math object>"
      ]
     },
     "metadata": {},
     "output_type": "display_data"
    },
    {
     "data": {
      "text/latex": [
       "$\\displaystyle i$"
      ],
      "text/plain": [
       "<IPython.core.display.Math object>"
      ]
     },
     "metadata": {},
     "output_type": "display_data"
    },
    {
     "data": {
      "text/latex": [
       "$\\displaystyle k-i$"
      ],
      "text/plain": [
       "<IPython.core.display.Math object>"
      ]
     },
     "metadata": {},
     "output_type": "display_data"
    },
    {
     "data": {
      "text/latex": [
       "$\\displaystyle j=m-k$"
      ],
      "text/plain": [
       "<IPython.core.display.Math object>"
      ]
     },
     "metadata": {},
     "output_type": "display_data"
    },
    {
     "data": {
      "text/latex": [
       "$\\displaystyle 1$"
      ],
      "text/plain": [
       "<IPython.core.display.Math object>"
      ]
     },
     "metadata": {},
     "output_type": "display_data"
    },
    {
     "data": {
      "text/latex": [
       "$\\displaystyle m$"
      ],
      "text/plain": [
       "<IPython.core.display.Math object>"
      ]
     },
     "metadata": {},
     "output_type": "display_data"
    },
    {
     "data": {
      "text/latex": [
       "$\\displaystyle x$"
      ],
      "text/plain": [
       "<IPython.core.display.Math object>"
      ]
     },
     "metadata": {},
     "output_type": "display_data"
    },
    {
     "data": {
      "text/latex": [
       "$\\displaystyle x^{2m-2k-1}$"
      ],
      "text/plain": [
       "<IPython.core.display.Math object>"
      ]
     },
     "metadata": {},
     "output_type": "display_data"
    },
    {
     "data": {
      "text/latex": [
       "$\\displaystyle x$"
      ],
      "text/plain": [
       "<IPython.core.display.Math object>"
      ]
     },
     "metadata": {},
     "output_type": "display_data"
    },
    {
     "data": {
      "text/latex": [
       "$\\displaystyle x$"
      ],
      "text/plain": [
       "<IPython.core.display.Math object>"
      ]
     },
     "metadata": {},
     "output_type": "display_data"
    },
    {
     "data": {
      "text/latex": [
       "$\\displaystyle x$"
      ],
      "text/plain": [
       "<IPython.core.display.Math object>"
      ]
     },
     "metadata": {},
     "output_type": "display_data"
    },
    {
     "data": {
      "text/latex": [
       "$\\displaystyle x$"
      ],
      "text/plain": [
       "<IPython.core.display.Math object>"
      ]
     },
     "metadata": {},
     "output_type": "display_data"
    },
    {
     "data": {
      "text/latex": [
       "$\\displaystyle B_{2m-2j+1}^{(2m)}(m)$"
      ],
      "text/plain": [
       "<IPython.core.display.Math object>"
      ]
     },
     "metadata": {},
     "output_type": "display_data"
    }
   ],
   "source": [
    "for math_expression in math_expressions[:100]:\n",
    "    math_display_object = Math(math_expression.katex)\n",
    "\n",
    "    display(math_display_object)"
   ]
  },
  {
   "cell_type": "markdown",
   "metadata": {},
   "source": [
    "### Display"
   ]
  },
  {
   "cell_type": "code",
   "execution_count": null,
   "metadata": {},
   "outputs": [],
   "source": [
    "for i, latex_math_node in enumerate(math_nodes[:100]):\n",
    "    latex = latex_math_node.latex_verbatim()\n",
    "    math_display_object = Math(latex)\n",
    "\n",
    "    display(math_display_object)"
   ]
  },
  {
   "cell_type": "markdown",
   "metadata": {},
   "source": [
    "### Correct"
   ]
  },
  {
   "cell_type": "code",
   "execution_count": 37,
   "metadata": {},
   "outputs": [],
   "source": [
    "incorrect_katex = r'd\\omega = \\theta \\w \\omega'\n",
    "error = r'KaTeX parse error: Undefined control sequence: \\w at position 18: …omega = \\theta \\̲w̲ ̲\\omega'"
   ]
  },
  {
   "cell_type": "code",
   "execution_count": 38,
   "metadata": {},
   "outputs": [
    {
     "name": "stderr",
     "output_type": "stream",
     "text": [
      "2025-03-03 19:50:53,083 - INFO - HTTP Request: POST http://localhost:3000/validate \"HTTP/1.1 200 OK\"\n",
      "2025-03-03 19:50:54,043 - INFO - HTTP Request: POST https://api.openai.com/v1/chat/completions \"HTTP/1.1 200 OK\"\n",
      "2025-03-03 19:50:54,053 - INFO - HTTP Request: POST http://localhost:3000/validate \"HTTP/1.1 200 OK\"\n"
     ]
    },
    {
     "name": "stdout",
     "output_type": "stream",
     "text": [
      "d\\omega = \\theta \\omega\n"
     ]
    },
    {
     "data": {
      "text/latex": [
       "$\\displaystyle d\\omega = \\theta \\omega$"
      ],
      "text/plain": [
       "<IPython.core.display.Math object>"
      ]
     },
     "metadata": {},
     "output_type": "display_data"
    }
   ],
   "source": [
    "corrected_katex = await katex_correction_assistant.correct(incorrect_katex, error)\n",
    "print(corrected_katex)\n",
    "display(Math(corrected_katex))"
   ]
  }
 ],
 "metadata": {
  "kernelspec": {
   "display_name": "math-rag-QVTscwFS-py3.12",
   "language": "python",
   "name": "python3"
  },
  "language_info": {
   "codemirror_mode": {
    "name": "ipython",
    "version": 3
   },
   "file_extension": ".py",
   "mimetype": "text/x-python",
   "name": "python",
   "nbconvert_exporter": "python",
   "pygments_lexer": "ipython3",
   "version": "3.12.9"
  }
 },
 "nbformat": 4,
 "nbformat_minor": 2
}
