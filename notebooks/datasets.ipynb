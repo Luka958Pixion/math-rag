{
 "cells": [
  {
   "cell_type": "code",
   "execution_count": 1,
   "metadata": {},
   "outputs": [],
   "source": [
    "%load_ext autoreload\n",
    "%autoreload 2\n",
    "\n",
    "import os\n",
    "import sys\n",
    "\n",
    "import nest_asyncio\n",
    "\n",
    "\n",
    "sys.path.insert(0, os.path.abspath('..'))\n",
    "nest_asyncio.apply()"
   ]
  },
  {
   "cell_type": "code",
   "execution_count": 2,
   "metadata": {},
   "outputs": [],
   "source": [
    "import logging\n",
    "\n",
    "\n",
    "logging.basicConfig(\n",
    "    level=logging.INFO, format='%(asctime)s - %(levelname)s - %(message)s'\n",
    ")"
   ]
  },
  {
   "cell_type": "code",
   "execution_count": 8,
   "metadata": {},
   "outputs": [
    {
     "name": "stderr",
     "output_type": "stream",
     "text": [
      "2025-02-27 20:32:37,413 - INFO - file_cache is only supported with oauth2client<4.0.0\n"
     ]
    }
   ],
   "source": [
    "from math_rag.infrastructure.containers import InfrastructureContainer\n",
    "\n",
    "\n",
    "infrastructure_container = InfrastructureContainer()\n",
    "infrastructure_container.init_resources()\n",
    "\n",
    "math_article_seeder = infrastructure_container.math_article_seeder()\n",
    "math_expression_seeder = infrastructure_container.math_expression_seeder()\n",
    "math_article_seeder.seed()\n",
    "await math_expression_seeder.seed()\n",
    "\n",
    "math_article_repository = infrastructure_container.math_article_repository()\n",
    "math_expression_repository = infrastructure_container.math_expression_repository()\n",
    "google_file_repository = infrastructure_container.google_file_repository()"
   ]
  },
  {
   "cell_type": "code",
   "execution_count": 4,
   "metadata": {},
   "outputs": [],
   "source": [
    "import gzip\n",
    "import shutil\n",
    "import tarfile\n",
    "\n",
    "from io import BytesIO\n",
    "from pathlib import Path\n",
    "from zipfile import ZipFile\n",
    "\n",
    "from pylatexenc.latexwalker import LatexMathNode\n",
    "\n",
    "\n",
    "ARTICLES_PATH = '../tmp/articles'"
   ]
  },
  {
   "cell_type": "markdown",
   "metadata": {},
   "source": [
    "### Extract"
   ]
  },
  {
   "cell_type": "code",
   "execution_count": null,
   "metadata": {},
   "outputs": [
    {
     "name": "stderr",
     "output_type": "stream",
     "text": [
      "/tmp/ipykernel_15043/154124979.py:39: DeprecationWarning: Python 3.14 will, by default, filter extracted tar archives and reject files or modify their metadata. Use the filter argument to control this behavior.\n",
      "  tar.extractall(path=dest_folder)\n"
     ]
    }
   ],
   "source": [
    "def get_gzip_original_filename(file_path):\n",
    "    with open(file_path, 'rb') as f:\n",
    "        if f.read(2) != b'\\x1f\\x8b':\n",
    "            return None\n",
    "        f.read(1)\n",
    "        flag = f.read(1)[0]\n",
    "        f.read(4)\n",
    "        f.read(1)\n",
    "        f.read(1)\n",
    "        orig_name = None\n",
    "        if flag & 0x08:\n",
    "            name_bytes = bytearray()\n",
    "            while True:\n",
    "                b = f.read(1)\n",
    "                if not b or b == b'\\x00':\n",
    "                    break\n",
    "                name_bytes.extend(b)\n",
    "            try:\n",
    "                orig_name = name_bytes.decode('utf-8')\n",
    "            except UnicodeDecodeError:\n",
    "                orig_name = name_bytes.decode('latin1')\n",
    "        return orig_name\n",
    "\n",
    "\n",
    "def extract_gz(file_path, dest_folder):\n",
    "    orig_name = get_gzip_original_filename(file_path)\n",
    "    if not orig_name:\n",
    "        orig_name = os.path.splitext(os.path.basename(file_path))[0]\n",
    "    dest_path = os.path.join(dest_folder, orig_name)\n",
    "    with gzip.open(file_path, 'rb') as f_in, open(dest_path, 'wb') as f_out:\n",
    "        shutil.copyfileobj(f_in, f_out)\n",
    "\n",
    "\n",
    "def extract_tar_gz(file_path, dest_folder):\n",
    "    with tarfile.open(file_path, 'r:gz') as tar:\n",
    "        tar.extractall(path=dest_folder)\n",
    "\n",
    "\n",
    "def process_subdir(subdir_path):\n",
    "    files = os.listdir(subdir_path)\n",
    "    pdf_files = {f for f in files if f.endswith('.pdf')}\n",
    "    for pdf in pdf_files:\n",
    "        base_name = pdf[:-4]\n",
    "        gz_name = f'arXiv-{base_name}.gz'\n",
    "        tar_gz_name = f'arXiv-{base_name}.tar.gz'\n",
    "        gz_file = None\n",
    "        if tar_gz_name in files:\n",
    "            gz_file = tar_gz_name\n",
    "        elif gz_name in files:\n",
    "            gz_file = gz_name\n",
    "        if gz_file:\n",
    "            new_dir = os.path.join(subdir_path, base_name)\n",
    "            os.makedirs(new_dir, exist_ok=True)\n",
    "            shutil.move(os.path.join(subdir_path, pdf), new_dir)\n",
    "            shutil.move(os.path.join(subdir_path, gz_file), new_dir)\n",
    "            new_gz_path = os.path.join(new_dir, gz_file)\n",
    "            if gz_file.endswith('.tar.gz'):\n",
    "                extract_tar_gz(new_gz_path, new_dir)\n",
    "            else:\n",
    "                extract_gz(new_gz_path, new_dir)\n",
    "\n",
    "\n",
    "def extract_all():\n",
    "    for subdir in os.listdir(ARTICLES_PATH):\n",
    "        subdir_path = os.path.join(ARTICLES_PATH, subdir)\n",
    "        if os.path.isdir(subdir_path):\n",
    "            process_subdir(subdir_path)\n",
    "\n",
    "\n",
    "extract_all()"
   ]
  },
  {
   "cell_type": "code",
   "execution_count": 9,
   "metadata": {},
   "outputs": [],
   "source": [
    "def clean():\n",
    "    for root, dirs, files in os.walk(ARTICLES_PATH):\n",
    "        for file in files:\n",
    "            if file.endswith('.gz'):\n",
    "                os.remove(os.path.join(root, file))\n",
    "\n",
    "\n",
    "clean()"
   ]
  },
  {
   "cell_type": "markdown",
   "metadata": {},
   "source": [
    "### Load"
   ]
  },
  {
   "cell_type": "code",
   "execution_count": 5,
   "metadata": {},
   "outputs": [],
   "source": [
    "folder_name = 'articles'\n",
    "file_name = 'articles_v1.zip'  # NOTE\n",
    "\n",
    "file_id = google_file_repository.get_file_id(file_name, folder_name)\n",
    "assert file_id is not None\n",
    "\n",
    "file_bytes = google_file_repository.get_file_by_id(file_id)"
   ]
  },
  {
   "cell_type": "code",
   "execution_count": 6,
   "metadata": {},
   "outputs": [],
   "source": [
    "with ZipFile(file_bytes, 'r') as zip_file:\n",
    "    files = {\n",
    "        name: zip_file.read(name)\n",
    "        for name in zip_file.namelist()\n",
    "        if not name.endswith('/') and name.endswith('.tex')\n",
    "    }"
   ]
  },
  {
   "cell_type": "code",
   "execution_count": null,
   "metadata": {},
   "outputs": [],
   "source": [
    "from math_rag.core.models import MathArticle\n",
    "\n",
    "\n",
    "math_articles = [MathArticle(name=name, bytes=bytes) for name, bytes in files.items()]\n",
    "math_article_repository.insert_math_articles(math_articles)"
   ]
  },
  {
   "cell_type": "code",
   "execution_count": 7,
   "metadata": {},
   "outputs": [],
   "source": [
    "for file_name in math_article_repository.list_math_article_names():\n",
    "    print(file_name)"
   ]
  },
  {
   "cell_type": "markdown",
   "metadata": {},
   "source": [
    "### Parse"
   ]
  },
  {
   "cell_type": "code",
   "execution_count": null,
   "metadata": {},
   "outputs": [],
   "source": [
    "from math_rag.infrastructure.services import LatexService\n",
    "\n",
    "\n",
    "latex_service = LatexService()"
   ]
  },
  {
   "cell_type": "code",
   "execution_count": null,
   "metadata": {},
   "outputs": [],
   "source": [
    "file_names = math_article_repository.list_math_article_names()\n",
    "file_names = [x for x in file_names if x.endswith('.tex')]\n",
    "\n",
    "math_nodes: list[LatexMathNode] = []\n",
    "append_math_node = lambda x: math_nodes.append(x)\n",
    "callbacks = {LatexMathNode: append_math_node}\n",
    "\n",
    "for file_name in file_names:\n",
    "    file_bytes = math_article_repository.get_math_article_by_name(file_name)\n",
    "    latex = latex_service.read(file_bytes)\n",
    "    nodes = latex_service.parse(latex)\n",
    "    latex_service.traverse(nodes, callbacks)"
   ]
  },
  {
   "cell_type": "code",
   "execution_count": null,
   "metadata": {},
   "outputs": [],
   "source": [
    "import re\n",
    "\n",
    "from math_rag.core.enums import MathCategory\n",
    "from math_rag.core.models import MathExpression\n",
    "\n",
    "\n",
    "math_expressions: list[MathExpression] = []\n",
    "\n",
    "for math_node in math_nodes:\n",
    "    category_slug = re.search(r'articles_v\\d+/([^/]+)/', file_name).group(1)\n",
    "    category = MathCategory.from_str(category_slug)\n",
    "    math_expression = MathExpression(\n",
    "        latex=math_node.latex_verbatim(),\n",
    "        position=math_node.pos,\n",
    "        is_inline=math_node.displaytype == 'inline',\n",
    "        math_category=category,\n",
    "    )\n",
    "    math_expressions.append(math_expression)"
   ]
  },
  {
   "cell_type": "code",
   "execution_count": null,
   "metadata": {},
   "outputs": [
    {
     "name": "stderr",
     "output_type": "stream",
     "text": [
      "/tmp/ipykernel_12703/2013018769.py:3: RuntimeWarning: coroutine 'AsyncDatabase.create_collection' was never awaited\n",
      "  await document_repo.create_collection(collection_name)\n",
      "RuntimeWarning: Enable tracemalloc to get the object allocation traceback\n"
     ]
    }
   ],
   "source": [
    "await math_expression_repository.insert_math_expressions(math_expressions)"
   ]
  },
  {
   "cell_type": "markdown",
   "metadata": {},
   "source": [
    "### Display"
   ]
  },
  {
   "cell_type": "code",
   "execution_count": 140,
   "metadata": {},
   "outputs": [],
   "source": [
    "def fix_latex(latex_str: str):\n",
    "    fixed = latex_str.replace('\\\\[', '$$').replace('\\\\]', '$$')\n",
    "    fixed = fixed.replace('\\\\EE', '\\\\mathbb{E}')\n",
    "    fixed = fixed.replace('\\\\II', '\\\\mathbb{I}')\n",
    "    fixed = fixed.replace('\\\\Var', '\\\\mathrm{Var}')\n",
    "    fixed = fixed.replace('\\\\HH', '\\\\mathbb{H}')\n",
    "    fixed = fixed.replace('\\\\AND', '\\\\wedge')\n",
    "    fixed = fixed.replace('\\\\OR', '\\\\vee')\n",
    "    fixed = fixed.replace('\\\\mathbbm{1}', '\\\\mathbf{1}')\n",
    "    fixed = fixed.replace('\\\\Maj', '\\\\mathrm{Maj}')\n",
    "    fixed = fixed.replace('\\\\sgn', '\\\\operatorname{sgn}')\n",
    "    fixed = fixed.replace('\\\\Tribus', '\\\\mathrm{Tribus}')\n",
    "    fixed = fixed.replace('\\\\linebreak', '\\\\text{ }')\n",
    "    fixed = fixed.replace('\\\\Prob', '\\\\mathbb{P}')\n",
    "    fixed = fixed.replace('\\\\WW', '\\\\mathcal{W}')\n",
    "\n",
    "    return fixed"
   ]
  },
  {
   "cell_type": "code",
   "execution_count": null,
   "metadata": {},
   "outputs": [],
   "source": [
    "from IPython.display import Math, display\n",
    "\n",
    "\n",
    "for i, latex_math_node in enumerate(math_nodes[:100]):\n",
    "    latex = latex_math_node.latex_verbatim()\n",
    "    latex_fixed = fix_latex(latex)\n",
    "    math_display_object = Math(latex_fixed)\n",
    "\n",
    "    # print(i)\n",
    "    # print(math_display_object._repr_latex_())\n",
    "\n",
    "    display(math_display_object)"
   ]
  },
  {
   "cell_type": "markdown",
   "metadata": {},
   "source": [
    "### Classify"
   ]
  },
  {
   "cell_type": "code",
   "execution_count": 2,
   "metadata": {},
   "outputs": [],
   "source": [
    "from decouple import config\n",
    "\n",
    "from math_rag.infrastructure.inference.llms import LLM\n",
    "\n",
    "\n",
    "OPENAI_BASE_URL = config('OPENAI_BASE_URL')\n",
    "OPENAI_API_KEY = config('OPENAI_API_KEY')"
   ]
  },
  {
   "cell_type": "code",
   "execution_count": 3,
   "metadata": {},
   "outputs": [],
   "source": [
    "llm = LLM(model='gpt-4o-mini', base_url=OPENAI_BASE_URL, api_key=OPENAI_API_KEY)"
   ]
  },
  {
   "cell_type": "code",
   "execution_count": 5,
   "metadata": {},
   "outputs": [],
   "source": [
    "# math_expr = math_nodes[13].latex_verbatim()  # 13\n",
    "math_expr = '$\\\\mu(x)=\\\\frac{1}{2^n}$'"
   ]
  },
  {
   "cell_type": "code",
   "execution_count": 8,
   "metadata": {},
   "outputs": [
    {
     "name": "stdout",
     "output_type": "stream",
     "text": [
      "ChatCompletion(id='chatcmpl-B5b8A1KGrSNzsq45Ay2kJRr09oukR', choices=[Choice(finish_reason='stop', index=0, logprobs=ChoiceLogprobs(content=[ChatCompletionTokenLogprob(token='Function', bytes=[70, 117, 110, 99, 116, 105, 111, 110], logprob=-0.4679870307445526, top_logprobs=[TopLogprob(token='Function', bytes=[70, 117, 110, 99, 116, 105, 111, 110], logprob=-0.4679870307445526), TopLogprob(token='Equation', bytes=[69, 113, 117, 97, 116, 105, 111, 110], logprob=-1.217987060546875), TopLogprob(token='function', bytes=[102, 117, 110, 99, 116, 105, 111, 110], logprob=-2.592987060546875), TopLogprob(token='equ', bytes=[101, 113, 117], logprob=-6.342987060546875), TopLogprob(token='Formula', bytes=[70, 111, 114, 109, 117, 108, 97], logprob=-7.342987060546875)])], refusal=None), message=ChatCompletionMessage(content='Function', refusal=None, role='assistant', audio=None, function_call=None, tool_calls=None))], created=1740674070, model='gpt-4o-mini-2024-07-18', object='chat.completion', service_tier='default', system_fingerprint='fp_06737a9306', usage=CompletionUsage(completion_tokens=2, prompt_tokens=66, total_tokens=68, completion_tokens_details=CompletionTokensDetails(accepted_prediction_tokens=0, audio_tokens=0, reasoning_tokens=0, rejected_prediction_tokens=0), prompt_tokens_details=PromptTokensDetails(audio_tokens=0, cached_tokens=0)))\n"
     ]
    }
   ],
   "source": [
    "from openai import NOT_GIVEN\n",
    "\n",
    "\n",
    "prompt = f\"\"\"\n",
    "You are a mathematical expression classifier.\n",
    "Given a mathematical expression, classify it in one of 4 given classes:\n",
    "- constant\n",
    "- variable\n",
    "- formula\n",
    "- other\n",
    "\n",
    "Return a class only!\n",
    "\n",
    "Mathematical expression:\n",
    "{math_expr}\n",
    "\n",
    "Class:\n",
    "\"\"\"\n",
    "\n",
    "prompt = f\"\"\"\n",
    "You are a mathematical expression classifier.\n",
    "Given a mathematical expression, classify it in a single class regarding STRUCTURE of the expression.\n",
    "Class must be a single word.\n",
    "\n",
    "Return a class only!\n",
    "\n",
    "Mathematical expression:\n",
    "{math_expr}\n",
    "\n",
    "Class:\n",
    "\"\"\"\n",
    "\n",
    "use_json = False\n",
    "completion = await llm.client.chat.completions.create(\n",
    "    model=llm.model,\n",
    "    messages=[{'role': 'user', 'content': prompt}],\n",
    "    response_format={'type': 'json_object'} if use_json else NOT_GIVEN,\n",
    "    logprobs=True,\n",
    "    temperature=0.0,\n",
    "    top_logprobs=5,\n",
    ")\n",
    "print(completion)"
   ]
  },
  {
   "cell_type": "code",
   "execution_count": 9,
   "metadata": {},
   "outputs": [
    {
     "data": {
      "text/plain": [
       "'Function'"
      ]
     },
     "execution_count": 9,
     "metadata": {},
     "output_type": "execute_result"
    }
   ],
   "source": [
    "completion.choices[0].message.content"
   ]
  },
  {
   "cell_type": "code",
   "execution_count": 57,
   "metadata": {},
   "outputs": [
    {
     "name": "stdout",
     "output_type": "stream",
     "text": [
      "\"formula\": 0.9999996871837189\n",
      "\" formula\": 9.931194312156244e-08\n",
      "\"Formula\": 7.734421907141565e-08\n",
      "\"_formula\": 9.237449661970594e-09\n",
      "\"form\": 2.061153622438558e-09\n",
      "------\n",
      "formula\n",
      "-3.1281633e-07\n",
      "0.9999996871837189\n"
     ]
    }
   ],
   "source": [
    "import numpy as np\n",
    "\n",
    "\n",
    "for x in completion.choices[0].logprobs.content:\n",
    "    for y in x.top_logprobs:\n",
    "        print(f'\"{y.token}\": {np.exp(y.logprob)}')\n",
    "\n",
    "    print('------')\n",
    "    print(x.token)\n",
    "    print(x.logprob)\n",
    "    print(np.exp(x.logprob))"
   ]
  },
  {
   "cell_type": "code",
   "execution_count": null,
   "metadata": {},
   "outputs": [],
   "source": [
    "# TODO\n",
    "# - description for each class\n",
    "# - how to determine classes?\n",
    "# - do names need to take a single token?"
   ]
  },
  {
   "cell_type": "code",
   "execution_count": null,
   "metadata": {},
   "outputs": [],
   "source": [
    "from enum import Enum\n",
    "\n",
    "\n",
    "class MathExpressionCategory(str, Enum):\n",
    "    CONSTANT = 'constant'\n",
    "    VARIABLE = 'variable'\n",
    "    EQUALITY = 'equality'\n",
    "    INEQUALITY = 'inequality'\n",
    "    OTHER = 'other'"
   ]
  }
 ],
 "metadata": {
  "kernelspec": {
   "display_name": "math-rag-QVTscwFS-py3.12",
   "language": "python",
   "name": "python3"
  },
  "language_info": {
   "codemirror_mode": {
    "name": "ipython",
    "version": 3
   },
   "file_extension": ".py",
   "mimetype": "text/x-python",
   "name": "python",
   "nbconvert_exporter": "python",
   "pygments_lexer": "ipython3",
   "version": "3.12.9"
  }
 },
 "nbformat": 4,
 "nbformat_minor": 2
}
