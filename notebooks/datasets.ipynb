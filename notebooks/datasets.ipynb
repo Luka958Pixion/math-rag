{
 "cells": [
  {
   "cell_type": "code",
   "execution_count": 1,
   "metadata": {},
   "outputs": [],
   "source": [
    "%load_ext autoreload\n",
    "%autoreload 2\n",
    "\n",
    "import os\n",
    "import sys\n",
    "\n",
    "import nest_asyncio\n",
    "\n",
    "\n",
    "sys.path.insert(0, os.path.abspath('..'))\n",
    "nest_asyncio.apply()"
   ]
  },
  {
   "cell_type": "code",
   "execution_count": 2,
   "metadata": {},
   "outputs": [],
   "source": [
    "import logging\n",
    "\n",
    "\n",
    "logging.basicConfig(\n",
    "    level=logging.INFO, format='%(asctime)s - %(levelname)s - %(message)s'\n",
    ")"
   ]
  },
  {
   "cell_type": "code",
   "execution_count": 3,
   "metadata": {},
   "outputs": [
    {
     "name": "stderr",
     "output_type": "stream",
     "text": [
      "2025-05-15 09:31:46,662 - INFO - PyTorch version 2.6.0 available.\n",
      "2025-05-15 09:31:46,929 - INFO - file_cache is only supported with oauth2client<4.0.0\n"
     ]
    }
   ],
   "source": [
    "from math_rag.infrastructure.containers import InfrastructureContainer\n",
    "\n",
    "\n",
    "RESET = False\n",
    "\n",
    "infrastructure_container = InfrastructureContainer()\n",
    "infrastructure_container.init_resources()\n",
    "\n",
    "math_article_seeder = infrastructure_container.math_article_seeder()\n",
    "math_expression_seeder = infrastructure_container.math_expression_seeder()\n",
    "math_expression_classification_repository = (\n",
    "    infrastructure_container.math_expression_classification_seeder()\n",
    ")\n",
    "math_article_seeder.seed(reset=RESET)\n",
    "await math_expression_seeder.seed(reset=RESET)\n",
    "await math_expression_classification_repository.seed(reset=RESET)\n",
    "\n",
    "math_article_repository = infrastructure_container.math_article_repository()\n",
    "math_expression_repository = infrastructure_container.math_expression_repository()\n",
    "math_expression_classification_repository = (\n",
    "    infrastructure_container.math_expression_classification_repository()\n",
    ")\n",
    "google_file_repository = infrastructure_container.google_file_repository()\n",
    "\n",
    "katex_corrector_assistant = infrastructure_container.katex_corrector_assistant()\n",
    "katex_client = infrastructure_container.katex_client()\n",
    "latex_parser_service = infrastructure_container.latex_parser_service()\n",
    "latex_visitor_service = infrastructure_container.latex_visitor_service()\n",
    "arxiv_client = infrastructure_container.arxiv_client()"
   ]
  },
  {
   "cell_type": "markdown",
   "metadata": {},
   "source": [
    "### Load"
   ]
  },
  {
   "cell_type": "code",
   "execution_count": null,
   "metadata": {},
   "outputs": [
    {
     "name": "stderr",
     "output_type": "stream",
     "text": [
      "2025-05-15 09:33:04,638 - INFO - Requesting page (first: True, try: 0): https://export.arxiv.org/api/query?search_query=cat%3Amath.AC&id_list=&sortBy=submittedDate&sortOrder=descending&start=0&max_results=100\n",
      "2025-05-15 09:33:06,378 - INFO - Got first page: 100 of 13686 total results\n",
      "2025-05-15 09:33:06,378 - INFO - Sleeping: 2.952556 seconds\n",
      "2025-05-15 09:33:09,332 - INFO - Requesting page (first: True, try: 0): https://export.arxiv.org/api/query?search_query=cat%3Amath.AG&id_list=&sortBy=submittedDate&sortOrder=descending&start=0&max_results=100\n",
      "2025-05-15 09:33:10,021 - INFO - Got first page: 100 of 55461 total results\n",
      "2025-05-15 09:33:10,022 - INFO - Sleeping: 2.969229 seconds\n",
      "2025-05-15 09:33:12,993 - INFO - Requesting page (first: True, try: 0): https://export.arxiv.org/api/query?search_query=cat%3Amath.AP&id_list=&sortBy=submittedDate&sortOrder=descending&start=0&max_results=100\n",
      "2025-05-15 09:33:13,628 - INFO - Got first page: 100 of 67251 total results\n",
      "2025-05-15 09:33:13,629 - INFO - Sleeping: 2.979677 seconds\n",
      "2025-05-15 09:33:16,610 - INFO - Requesting page (first: True, try: 0): https://export.arxiv.org/api/query?search_query=cat%3Amath.AT&id_list=&sortBy=submittedDate&sortOrder=descending&start=0&max_results=100\n",
      "2025-05-15 09:33:17,295 - INFO - Got first page: 100 of 16586 total results\n",
      "2025-05-15 09:33:17,296 - INFO - Sleeping: 2.978477 seconds\n",
      "2025-05-15 09:33:20,275 - INFO - Requesting page (first: True, try: 0): https://export.arxiv.org/api/query?search_query=cat%3Amath.CA&id_list=&sortBy=submittedDate&sortOrder=descending&start=0&max_results=100\n",
      "2025-05-15 09:33:20,943 - INFO - Got first page: 100 of 23486 total results\n",
      "2025-05-15 09:33:21,386 - INFO - HTTP Request: GET https://arxiv.org/src/2505.09585v1 \"HTTP/1.1 200 OK\"\n",
      "2025-05-15 09:33:21,395 - INFO - HTTP Request: GET https://arxiv.org/src/2505.09204v1 \"HTTP/1.1 200 OK\"\n",
      "2025-05-15 09:33:21,398 - INFO - HTTP Request: GET https://arxiv.org/src/2505.09495v1 \"HTTP/1.1 200 OK\"\n",
      "2025-05-15 09:33:21,404 - INFO - HTTP Request: GET https://arxiv.org/src/2505.09403v1 \"HTTP/1.1 200 OK\"\n",
      "2025-05-15 09:33:21,406 - INFO - HTTP Request: GET https://arxiv.org/src/2505.08580v1 \"HTTP/1.1 200 OK\"\n",
      "2025-05-15 09:33:21,407 - INFO - HTTP Request: GET https://arxiv.org/src/2505.09483v1 \"HTTP/1.1 200 OK\"\n",
      "2025-05-15 09:33:21,408 - INFO - HTTP Request: GET https://arxiv.org/src/2505.09448v1 \"HTTP/1.1 200 OK\"\n",
      "2025-05-15 09:33:21,408 - INFO - HTTP Request: GET https://arxiv.org/src/2505.09449v1 \"HTTP/1.1 200 OK\"\n",
      "2025-05-15 09:33:21,409 - INFO - HTTP Request: GET https://arxiv.org/src/2505.08722v1 \"HTTP/1.1 200 OK\"\n",
      "2025-05-15 09:33:21,411 - INFO - HTTP Request: GET https://arxiv.org/src/2505.09554v1 \"HTTP/1.1 200 OK\"\n",
      "2025-05-15 09:33:21,415 - INFO - HTTP Request: GET https://arxiv.org/src/2505.09585v1 \"HTTP/1.1 200 OK\"\n",
      "2025-05-15 09:33:21,419 - INFO - HTTP Request: GET https://arxiv.org/src/2505.09135v1 \"HTTP/1.1 200 OK\"\n",
      "2025-05-15 09:33:21,420 - INFO - HTTP Request: GET https://arxiv.org/src/2505.09015v1 \"HTTP/1.1 200 OK\"\n",
      "2025-05-15 09:33:21,421 - INFO - HTTP Request: GET https://arxiv.org/src/2505.09535v1 \"HTTP/1.1 200 OK\"\n",
      "2025-05-15 09:33:21,424 - INFO - HTTP Request: GET https://arxiv.org/src/2505.09589v1 \"HTTP/1.1 200 OK\"\n",
      "2025-05-15 09:33:21,426 - INFO - HTTP Request: GET https://arxiv.org/src/2505.08549v1 \"HTTP/1.1 200 OK\"\n",
      "2025-05-15 09:33:21,426 - INFO - HTTP Request: GET https://arxiv.org/src/2505.09409v1 \"HTTP/1.1 200 OK\"\n",
      "2025-05-15 09:33:21,427 - INFO - HTTP Request: GET https://arxiv.org/src/2505.09464v1 \"HTTP/1.1 200 OK\"\n",
      "2025-05-15 09:33:21,432 - INFO - HTTP Request: GET https://arxiv.org/src/2505.09150v1 \"HTTP/1.1 200 OK\"\n",
      "2025-05-15 09:33:21,434 - INFO - HTTP Request: GET https://arxiv.org/src/2505.08391v1 \"HTTP/1.1 200 OK\"\n",
      "2025-05-15 09:33:21,434 - INFO - HTTP Request: GET https://arxiv.org/src/2505.08373v1 \"HTTP/1.1 200 OK\"\n",
      "2025-05-15 09:33:21,436 - INFO - HTTP Request: GET https://arxiv.org/src/2505.09037v1 \"HTTP/1.1 200 OK\"\n",
      "2025-05-15 09:33:21,440 - INFO - HTTP Request: GET https://arxiv.org/src/2505.08755v1 \"HTTP/1.1 200 OK\"\n",
      "2025-05-15 09:33:21,440 - INFO - HTTP Request: GET https://arxiv.org/src/2505.09293v1 \"HTTP/1.1 200 OK\"\n",
      "2025-05-15 09:33:21,441 - INFO - HTTP Request: GET https://arxiv.org/src/2505.09120v1 \"HTTP/1.1 200 OK\"\n",
      "2025-05-15 09:33:21,442 - INFO - HTTP Request: GET https://arxiv.org/src/2505.09397v1 \"HTTP/1.1 200 OK\"\n",
      "2025-05-15 09:33:21,442 - INFO - HTTP Request: GET https://arxiv.org/src/2505.08321v1 \"HTTP/1.1 200 OK\"\n",
      "2025-05-15 09:33:21,449 - INFO - HTTP Request: GET https://arxiv.org/src/2505.09360v1 \"HTTP/1.1 200 OK\"\n",
      "2025-05-15 09:33:21,450 - INFO - HTTP Request: GET https://arxiv.org/src/2505.09397v1 \"HTTP/1.1 200 OK\"\n",
      "2025-05-15 09:33:21,450 - INFO - HTTP Request: GET https://arxiv.org/src/2505.09387v1 \"HTTP/1.1 200 OK\"\n",
      "2025-05-15 09:33:21,463 - INFO - Sleeping: 2.449404 seconds\n",
      "2025-05-15 09:33:23,918 - INFO - Requesting page (first: True, try: 0): https://export.arxiv.org/api/query?search_query=cat%3Amath.CO&id_list=&sortBy=submittedDate&sortOrder=descending&start=0&max_results=100\n",
      "2025-05-15 09:33:24,791 - INFO - Got first page: 100 of 71265 total results\n",
      "2025-05-15 09:33:24,792 - INFO - Sleeping: 2.955671 seconds\n",
      "2025-05-15 09:33:27,749 - INFO - Requesting page (first: True, try: 0): https://export.arxiv.org/api/query?search_query=cat%3Amath.CT&id_list=&sortBy=submittedDate&sortOrder=descending&start=0&max_results=100\n",
      "2025-05-15 09:33:28,594 - INFO - Got first page: 100 of 9274 total results\n",
      "2025-05-15 09:33:28,594 - INFO - Sleeping: 2.958248 seconds\n",
      "2025-05-15 09:33:31,554 - INFO - Requesting page (first: True, try: 0): https://export.arxiv.org/api/query?search_query=cat%3Amath.CV&id_list=&sortBy=submittedDate&sortOrder=descending&start=0&max_results=100\n",
      "2025-05-15 09:33:32,426 - INFO - Got first page: 100 of 18024 total results\n",
      "2025-05-15 09:33:32,427 - INFO - Sleeping: 2.960165 seconds\n",
      "2025-05-15 09:33:35,391 - INFO - Requesting page (first: True, try: 0): https://export.arxiv.org/api/query?search_query=cat%3Amath.DG&id_list=&sortBy=submittedDate&sortOrder=descending&start=0&max_results=100\n",
      "2025-05-15 09:33:36,181 - INFO - Got first page: 100 of 44512 total results\n",
      "2025-05-15 09:33:36,182 - INFO - Sleeping: 2.960318 seconds\n",
      "2025-05-15 09:33:39,143 - INFO - Requesting page (first: True, try: 0): https://export.arxiv.org/api/query?search_query=cat%3Amath.DS&id_list=&sortBy=submittedDate&sortOrder=descending&start=0&max_results=100\n",
      "2025-05-15 09:33:39,929 - INFO - Got first page: 100 of 39366 total results\n",
      "2025-05-15 09:33:40,332 - INFO - HTTP Request: GET https://arxiv.org/src/2505.09120v1 \"HTTP/1.1 200 OK\"\n",
      "2025-05-15 09:33:40,333 - INFO - HTTP Request: GET https://arxiv.org/src/2505.09584v1 \"HTTP/1.1 200 OK\"\n",
      "2025-05-15 09:33:40,336 - INFO - HTTP Request: GET https://arxiv.org/src/2505.09467v1 \"HTTP/1.1 200 OK\"\n",
      "2025-05-15 09:33:40,341 - INFO - HTTP Request: GET https://arxiv.org/src/2505.09464v1 \"HTTP/1.1 200 OK\"\n",
      "2025-05-15 09:33:40,342 - INFO - HTTP Request: GET https://arxiv.org/src/2505.09505v1 \"HTTP/1.1 200 OK\"\n",
      "2025-05-15 09:33:40,342 - INFO - HTTP Request: GET https://arxiv.org/src/2505.09143v1 \"HTTP/1.1 200 OK\"\n",
      "2025-05-15 09:33:40,343 - INFO - HTTP Request: GET https://arxiv.org/src/2505.09080v1 \"HTTP/1.1 200 OK\"\n",
      "2025-05-15 09:33:40,343 - INFO - HTTP Request: GET https://arxiv.org/src/2505.08661v1 \"HTTP/1.1 200 OK\"\n",
      "2025-05-15 09:33:40,353 - INFO - HTTP Request: GET https://arxiv.org/src/2505.08897v1 \"HTTP/1.1 200 OK\"\n",
      "2025-05-15 09:33:40,353 - INFO - HTTP Request: GET https://arxiv.org/src/2505.09326v1 \"HTTP/1.1 200 OK\"\n",
      "2025-05-15 09:33:40,354 - INFO - HTTP Request: GET https://arxiv.org/src/2505.09465v1 \"HTTP/1.1 200 OK\"\n",
      "2025-05-15 09:33:40,354 - INFO - HTTP Request: GET https://arxiv.org/src/2505.09301v1 \"HTTP/1.1 200 OK\"\n",
      "2025-05-15 09:33:40,355 - INFO - HTTP Request: GET https://arxiv.org/src/2505.09467v1 \"HTTP/1.1 200 OK\"\n",
      "2025-05-15 09:33:40,362 - INFO - HTTP Request: GET https://arxiv.org/src/2505.09585v1 \"HTTP/1.1 200 OK\"\n",
      "2025-05-15 09:33:40,363 - INFO - HTTP Request: GET https://arxiv.org/src/2505.09383v1 \"HTTP/1.1 200 OK\"\n",
      "2025-05-15 09:33:40,364 - INFO - HTTP Request: GET https://arxiv.org/src/2505.09444v1 \"HTTP/1.1 200 OK\"\n",
      "2025-05-15 09:33:40,365 - INFO - HTTP Request: GET https://arxiv.org/src/2505.09102v1 \"HTTP/1.1 200 OK\"\n",
      "2025-05-15 09:33:40,366 - INFO - HTTP Request: GET https://arxiv.org/src/2505.08948v1 \"HTTP/1.1 200 OK\"\n",
      "2025-05-15 09:33:40,367 - INFO - HTTP Request: GET https://arxiv.org/src/2505.09575v1 \"HTTP/1.1 200 OK\"\n",
      "2025-05-15 09:33:40,367 - INFO - HTTP Request: GET https://arxiv.org/src/2505.09534v1 \"HTTP/1.1 200 OK\"\n",
      "2025-05-15 09:33:40,371 - INFO - HTTP Request: GET https://arxiv.org/src/2505.09560v1 \"HTTP/1.1 200 OK\"\n",
      "2025-05-15 09:33:40,375 - INFO - HTTP Request: GET https://arxiv.org/src/2505.08476v1 \"HTTP/1.1 200 OK\"\n",
      "2025-05-15 09:33:40,384 - INFO - HTTP Request: GET https://arxiv.org/src/2505.09491v1 \"HTTP/1.1 200 OK\"\n",
      "2025-05-15 09:33:40,385 - INFO - HTTP Request: GET https://arxiv.org/src/2505.08697v1 \"HTTP/1.1 200 OK\"\n",
      "2025-05-15 09:33:40,385 - INFO - HTTP Request: GET https://arxiv.org/src/2505.09360v1 \"HTTP/1.1 200 OK\"\n",
      "2025-05-15 09:33:40,386 - INFO - HTTP Request: GET https://arxiv.org/src/2505.08479v1 \"HTTP/1.1 200 OK\"\n",
      "2025-05-15 09:33:40,386 - INFO - HTTP Request: GET https://arxiv.org/src/2505.09605v1 \"HTTP/1.1 200 OK\"\n",
      "2025-05-15 09:33:40,387 - INFO - HTTP Request: GET https://arxiv.org/src/2505.08584v1 \"HTTP/1.1 200 OK\"\n",
      "2025-05-15 09:33:40,387 - INFO - HTTP Request: GET https://arxiv.org/src/2505.09548v1 \"HTTP/1.1 200 OK\"\n",
      "2025-05-15 09:33:40,388 - INFO - HTTP Request: GET https://arxiv.org/src/2505.08766v1 \"HTTP/1.1 200 OK\"\n",
      "2025-05-15 09:33:40,389 - INFO - Sleeping: 2.499755 seconds\n",
      "2025-05-15 09:33:42,891 - INFO - Requesting page (first: True, try: 0): https://export.arxiv.org/api/query?search_query=cat%3Amath.FA&id_list=&sortBy=submittedDate&sortOrder=descending&start=0&max_results=100\n",
      "2025-05-15 09:33:43,679 - INFO - Got first page: 100 of 33200 total results\n",
      "2025-05-15 09:33:43,680 - INFO - Sleeping: 2.956437 seconds\n",
      "2025-05-15 09:33:46,638 - INFO - Requesting page (first: True, try: 0): https://export.arxiv.org/api/query?search_query=cat%3Amath.GM&id_list=&sortBy=submittedDate&sortOrder=descending&start=0&max_results=100\n",
      "2025-05-15 09:33:47,534 - INFO - Got first page: 100 of 4276 total results\n",
      "2025-05-15 09:33:47,535 - INFO - Sleeping: 2.961700 seconds\n",
      "2025-05-15 09:33:50,500 - INFO - Requesting page (first: True, try: 0): https://export.arxiv.org/api/query?search_query=cat%3Amath.GN&id_list=&sortBy=submittedDate&sortOrder=descending&start=0&max_results=100\n",
      "2025-05-15 09:33:51,308 - INFO - Got first page: 100 of 5469 total results\n",
      "2025-05-15 09:33:51,309 - INFO - Sleeping: 2.947611 seconds\n",
      "2025-05-15 09:33:54,259 - INFO - Requesting page (first: True, try: 0): https://export.arxiv.org/api/query?search_query=cat%3Amath.GR&id_list=&sortBy=submittedDate&sortOrder=descending&start=0&max_results=100\n",
      "2025-05-15 09:33:55,123 - INFO - Got first page: 100 of 23663 total results\n",
      "2025-05-15 09:33:55,124 - INFO - Sleeping: 2.959002 seconds\n",
      "2025-05-15 09:33:58,084 - INFO - Requesting page (first: True, try: 0): https://export.arxiv.org/api/query?search_query=cat%3Amath.GT&id_list=&sortBy=submittedDate&sortOrder=descending&start=0&max_results=100\n",
      "2025-05-15 09:33:58,869 - INFO - Got first page: 100 of 24070 total results\n",
      "2025-05-15 09:33:59,299 - INFO - HTTP Request: GET https://arxiv.org/src/2505.06242v1 \"HTTP/1.1 200 OK\"\n",
      "2025-05-15 09:33:59,300 - INFO - HTTP Request: GET https://arxiv.org/src/2505.09182v1 \"HTTP/1.1 200 OK\"\n",
      "2025-05-15 09:33:59,301 - INFO - HTTP Request: GET https://arxiv.org/src/2505.09588v1 \"HTTP/1.1 200 OK\"\n",
      "2025-05-15 09:33:59,305 - INFO - HTTP Request: GET https://arxiv.org/src/2505.09454v1 \"HTTP/1.1 200 OK\"\n",
      "2025-05-15 09:33:59,305 - INFO - HTTP Request: GET https://arxiv.org/src/2505.07196v1 \"HTTP/1.1 200 OK\"\n",
      "2025-05-15 09:33:59,306 - INFO - HTTP Request: GET https://arxiv.org/src/2505.08924v1 \"HTTP/1.1 200 OK\"\n",
      "2025-05-15 09:33:59,306 - INFO - HTTP Request: GET https://arxiv.org/src/2505.09212v1 \"HTTP/1.1 200 OK\"\n",
      "2025-05-15 09:33:59,312 - INFO - HTTP Request: GET https://arxiv.org/src/2505.06562v1 \"HTTP/1.1 200 OK\"\n",
      "2025-05-15 09:33:59,313 - INFO - HTTP Request: GET https://arxiv.org/src/2505.06571v1 \"HTTP/1.1 200 OK\"\n",
      "2025-05-15 09:33:59,315 - INFO - HTTP Request: GET https://arxiv.org/src/2505.06234v1 \"HTTP/1.1 200 OK\"\n",
      "2025-05-15 09:33:59,318 - INFO - HTTP Request: GET https://arxiv.org/src/2504.19999v2 \"HTTP/1.1 200 OK\"\n",
      "2025-05-15 09:33:59,319 - INFO - HTTP Request: GET https://arxiv.org/src/2505.09335v1 \"HTTP/1.1 200 OK\"\n",
      "2025-05-15 09:33:59,320 - INFO - HTTP Request: GET https://arxiv.org/src/2504.21057v1 \"HTTP/1.1 200 OK\"\n",
      "2025-05-15 09:33:59,321 - INFO - HTTP Request: GET https://arxiv.org/src/2505.03767v1 \"HTTP/1.1 200 OK\"\n",
      "2025-05-15 09:33:59,323 - INFO - HTTP Request: GET https://arxiv.org/src/2505.06235v1 \"HTTP/1.1 200 OK\"\n",
      "2025-05-15 09:33:59,323 - INFO - HTTP Request: GET https://arxiv.org/src/2505.04817v1 \"HTTP/1.1 200 OK\"\n",
      "2025-05-15 09:33:59,324 - INFO - HTTP Request: GET https://arxiv.org/src/2505.09444v1 \"HTTP/1.1 200 OK\"\n",
      "2025-05-15 09:33:59,325 - INFO - HTTP Request: GET https://arxiv.org/src/2505.09505v1 \"HTTP/1.1 200 OK\"\n",
      "2025-05-15 09:33:59,328 - INFO - HTTP Request: GET https://arxiv.org/src/2505.09303v1 \"HTTP/1.1 200 OK\"\n",
      "2025-05-15 09:33:59,328 - INFO - HTTP Request: GET https://arxiv.org/src/2505.09465v1 \"HTTP/1.1 200 OK\"\n",
      "2025-05-15 09:33:59,329 - INFO - HTTP Request: GET https://arxiv.org/src/2505.09281v1 \"HTTP/1.1 200 OK\"\n",
      "2025-05-15 09:33:59,331 - INFO - HTTP Request: GET https://arxiv.org/src/2505.09332v1 \"HTTP/1.1 200 OK\"\n",
      "2025-05-15 09:33:59,332 - INFO - HTTP Request: GET https://arxiv.org/src/2505.09194v1 \"HTTP/1.1 200 OK\"\n",
      "2025-05-15 09:33:59,332 - INFO - HTTP Request: GET https://arxiv.org/src/2505.04425v1 \"HTTP/1.1 200 OK\"\n",
      "2025-05-15 09:33:59,335 - INFO - HTTP Request: GET https://arxiv.org/src/2505.03548v1 \"HTTP/1.1 200 OK\"\n",
      "2025-05-15 09:33:59,336 - INFO - HTTP Request: GET https://arxiv.org/src/2505.09237v1 \"HTTP/1.1 200 OK\"\n",
      "2025-05-15 09:33:59,355 - INFO - HTTP Request: GET https://arxiv.org/src/2505.08296v1 \"HTTP/1.1 200 OK\"\n",
      "2025-05-15 09:33:59,355 - INFO - HTTP Request: GET https://arxiv.org/src/2505.09454v1 \"HTTP/1.1 200 OK\"\n",
      "2025-05-15 09:33:59,356 - INFO - HTTP Request: GET https://arxiv.org/src/2505.08105v1 \"HTTP/1.1 200 OK\"\n",
      "2025-05-15 09:33:59,357 - INFO - HTTP Request: GET https://arxiv.org/src/2505.08976v1 \"HTTP/1.1 200 OK\"\n",
      "2025-05-15 09:33:59,358 - INFO - Sleeping: 2.470244 seconds\n",
      "2025-05-15 09:34:01,831 - INFO - Requesting page (first: True, try: 0): https://export.arxiv.org/api/query?search_query=cat%3Amath.HO&id_list=&sortBy=submittedDate&sortOrder=descending&start=0&max_results=100\n",
      "2025-05-15 09:34:02,716 - INFO - Got first page: 100 of 3872 total results\n",
      "2025-05-15 09:34:02,717 - INFO - Sleeping: 2.957707 seconds\n",
      "2025-05-15 09:34:05,675 - INFO - Requesting page (first: True, try: 0): https://export.arxiv.org/api/query?search_query=cat%3Amath.IT&id_list=&sortBy=submittedDate&sortOrder=descending&start=0&max_results=100\n",
      "2025-05-15 09:34:06,524 - INFO - Got first page: 100 of 50062 total results\n",
      "2025-05-15 09:34:06,525 - INFO - Sleeping: 2.971267 seconds\n",
      "2025-05-15 09:34:09,501 - INFO - Requesting page (first: True, try: 0): https://export.arxiv.org/api/query?search_query=cat%3Amath.KT&id_list=&sortBy=submittedDate&sortOrder=descending&start=0&max_results=100\n",
      "2025-05-15 09:34:10,453 - INFO - Got first page: 100 of 6209 total results\n",
      "2025-05-15 09:34:10,453 - INFO - Sleeping: 2.958349 seconds\n",
      "2025-05-15 09:34:13,413 - INFO - Requesting page (first: True, try: 0): https://export.arxiv.org/api/query?search_query=cat%3Amath.LO&id_list=&sortBy=submittedDate&sortOrder=descending&start=0&max_results=100\n",
      "2025-05-15 09:34:14,198 - INFO - Got first page: 100 of 14227 total results\n",
      "2025-05-15 09:34:14,199 - INFO - Sleeping: 2.975002 seconds\n",
      "2025-05-15 09:34:17,179 - INFO - Requesting page (first: True, try: 0): https://export.arxiv.org/api/query?search_query=cat%3Amath.MG&id_list=&sortBy=submittedDate&sortOrder=descending&start=0&max_results=100\n",
      "2025-05-15 09:34:18,047 - INFO - Got first page: 100 of 11950 total results\n",
      "2025-05-15 09:34:18,468 - INFO - HTTP Request: GET https://arxiv.org/src/2504.19548v1 \"HTTP/1.1 200 OK\"\n",
      "2025-05-15 09:34:18,469 - INFO - HTTP Request: GET https://arxiv.org/src/2505.09394v1 \"HTTP/1.1 200 OK\"\n",
      "2025-05-15 09:34:18,470 - INFO - HTTP Request: GET https://arxiv.org/src/2505.08066v1 \"HTTP/1.1 200 OK\"\n",
      "2025-05-15 09:34:18,470 - INFO - HTTP Request: GET https://arxiv.org/src/2504.18949v1 \"HTTP/1.1 200 OK\"\n",
      "2025-05-15 09:34:18,471 - INFO - HTTP Request: GET https://arxiv.org/src/2504.19543v1 \"HTTP/1.1 200 OK\"\n",
      "2025-05-15 09:34:18,472 - INFO - HTTP Request: GET https://arxiv.org/src/2505.09533v1 \"HTTP/1.1 200 OK\"\n",
      "2025-05-15 09:34:18,473 - INFO - HTTP Request: GET https://arxiv.org/src/2505.09162v1 \"HTTP/1.1 200 OK\"\n",
      "2025-05-15 09:34:18,475 - INFO - HTTP Request: GET https://arxiv.org/src/2505.08676v1 \"HTTP/1.1 200 OK\"\n",
      "2025-05-15 09:34:18,480 - INFO - HTTP Request: GET https://arxiv.org/src/2505.06237v1 \"HTTP/1.1 200 OK\"\n",
      "2025-05-15 09:34:18,486 - INFO - HTTP Request: GET https://arxiv.org/src/2505.06979v1 \"HTTP/1.1 200 OK\"\n",
      "2025-05-15 09:34:18,488 - INFO - HTTP Request: GET https://arxiv.org/src/2505.09098v1 \"HTTP/1.1 200 OK\"\n",
      "2025-05-15 09:34:18,489 - INFO - HTTP Request: GET https://arxiv.org/src/2504.17149v1 \"HTTP/1.1 200 OK\"\n",
      "2025-05-15 09:34:18,490 - INFO - HTTP Request: GET https://arxiv.org/src/2505.09473v1 \"HTTP/1.1 200 OK\"\n",
      "2025-05-15 09:34:18,492 - INFO - HTTP Request: GET https://arxiv.org/src/2505.09000v1 \"HTTP/1.1 200 OK\"\n",
      "2025-05-15 09:34:18,493 - INFO - HTTP Request: GET https://arxiv.org/src/2505.07297v1 \"HTTP/1.1 200 OK\"\n",
      "2025-05-15 09:34:18,493 - INFO - HTTP Request: GET https://arxiv.org/src/2505.09563v1 \"HTTP/1.1 200 OK\"\n",
      "2025-05-15 09:34:18,494 - INFO - HTTP Request: GET https://arxiv.org/src/2505.05673v1 \"HTTP/1.1 200 OK\"\n",
      "2025-05-15 09:34:18,508 - INFO - HTTP Request: GET https://arxiv.org/src/2505.09302v1 \"HTTP/1.1 200 OK\"\n",
      "2025-05-15 09:34:18,508 - INFO - HTTP Request: GET https://arxiv.org/src/2505.09572v1 \"HTTP/1.1 200 OK\"\n",
      "2025-05-15 09:34:18,509 - INFO - HTTP Request: GET https://arxiv.org/src/2505.08760v1 \"HTTP/1.1 200 OK\"\n",
      "2025-05-15 09:34:18,510 - INFO - HTTP Request: GET https://arxiv.org/src/2505.06705v1 \"HTTP/1.1 200 OK\"\n",
      "2025-05-15 09:34:18,511 - INFO - HTTP Request: GET https://arxiv.org/src/2505.07568v1 \"HTTP/1.1 200 OK\"\n",
      "2025-05-15 09:34:18,511 - INFO - HTTP Request: GET https://arxiv.org/src/2505.09464v1 \"HTTP/1.1 200 OK\"\n",
      "2025-05-15 09:34:18,512 - INFO - HTTP Request: GET https://arxiv.org/src/2505.09491v1 \"HTTP/1.1 200 OK\"\n",
      "2025-05-15 09:34:18,517 - INFO - HTTP Request: GET https://arxiv.org/src/2505.09609v1 \"HTTP/1.1 200 OK\"\n",
      "2025-05-15 09:34:18,517 - INFO - HTTP Request: GET https://arxiv.org/src/2505.09465v1 \"HTTP/1.1 200 OK\"\n",
      "2025-05-15 09:34:18,518 - INFO - HTTP Request: GET https://arxiv.org/src/2505.09212v1 \"HTTP/1.1 200 OK\"\n",
      "2025-05-15 09:34:18,519 - INFO - HTTP Request: GET https://arxiv.org/src/2505.08697v1 \"HTTP/1.1 200 OK\"\n",
      "2025-05-15 09:34:18,519 - INFO - HTTP Request: GET https://arxiv.org/src/2505.09194v1 \"HTTP/1.1 200 OK\"\n",
      "2025-05-15 09:34:18,520 - INFO - HTTP Request: GET https://arxiv.org/src/2505.09200v1 \"HTTP/1.1 200 OK\"\n",
      "2025-05-15 09:34:18,521 - INFO - Sleeping: 2.485720 seconds\n",
      "2025-05-15 09:34:21,009 - INFO - Requesting page (first: True, try: 0): https://export.arxiv.org/api/query?search_query=cat%3Amath.&id_list=&sortBy=submittedDate&sortOrder=descending&start=0&max_results=100\n",
      "2025-05-15 09:34:21,249 - INFO - Got empty first page; stopping generation\n",
      "2025-05-15 09:34:21,251 - INFO - Sleeping: 2.993746 seconds\n",
      "2025-05-15 09:34:24,247 - INFO - Requesting page (first: True, try: 0): https://export.arxiv.org/api/query?search_query=cat%3Amath.NA&id_list=&sortBy=submittedDate&sortOrder=descending&start=0&max_results=100\n",
      "2025-05-15 09:34:25,093 - INFO - Got first page: 100 of 42271 total results\n",
      "2025-05-15 09:34:25,093 - INFO - Sleeping: 2.946618 seconds\n",
      "2025-05-15 09:34:28,042 - INFO - Requesting page (first: True, try: 0): https://export.arxiv.org/api/query?search_query=cat%3Amath.NT&id_list=&sortBy=submittedDate&sortOrder=descending&start=0&max_results=100\n",
      "2025-05-15 09:34:28,998 - INFO - Got first page: 100 of 44837 total results\n",
      "2025-05-15 09:34:28,999 - INFO - Sleeping: 2.962651 seconds\n",
      "2025-05-15 09:34:31,962 - INFO - Requesting page (first: True, try: 0): https://export.arxiv.org/api/query?search_query=cat%3Amath.OA&id_list=&sortBy=submittedDate&sortOrder=descending&start=0&max_results=100\n",
      "2025-05-15 09:34:32,799 - INFO - Got first page: 100 of 13257 total results\n",
      "2025-05-15 09:34:32,799 - INFO - Sleeping: 2.974099 seconds\n",
      "2025-05-15 09:34:35,775 - INFO - Requesting page (first: True, try: 0): https://export.arxiv.org/api/query?search_query=cat%3Amath.OC&id_list=&sortBy=submittedDate&sortOrder=descending&start=0&max_results=100\n",
      "2025-05-15 09:34:36,610 - INFO - Got first page: 100 of 54168 total results\n",
      "2025-05-15 09:34:36,974 - INFO - HTTP Request: GET https://arxiv.org/src/2505.08479v1 \"HTTP/1.1 200 OK\"\n",
      "2025-05-15 09:34:36,975 - INFO - HTTP Request: GET https://arxiv.org/src/2505.09481v1 \"HTTP/1.1 200 OK\"\n",
      "2025-05-15 09:34:36,976 - INFO - HTTP Request: GET https://arxiv.org/src/2505.09394v1 \"HTTP/1.1 200 OK\"\n",
      "2025-05-15 09:34:36,976 - INFO - HTTP Request: GET https://arxiv.org/src/2505.07922v1 \"HTTP/1.1 200 OK\"\n",
      "2025-05-15 09:34:36,978 - INFO - HTTP Request: GET https://arxiv.org/src/2505.09469v1 \"HTTP/1.1 200 OK\"\n",
      "2025-05-15 09:34:36,978 - INFO - HTTP Request: GET https://arxiv.org/src/2505.09581v1 \"HTTP/1.1 200 OK\"\n",
      "2025-05-15 09:34:36,985 - INFO - HTTP Request: GET https://arxiv.org/src/2505.09357v1 \"HTTP/1.1 200 OK\"\n",
      "2025-05-15 09:34:36,986 - INFO - HTTP Request: GET https://arxiv.org/src/2505.09535v1 \"HTTP/1.1 200 OK\"\n",
      "2025-05-15 09:34:36,986 - INFO - HTTP Request: GET https://arxiv.org/src/2505.08476v1 \"HTTP/1.1 200 OK\"\n",
      "2025-05-15 09:34:36,993 - INFO - HTTP Request: GET https://arxiv.org/src/2505.08968v1 \"HTTP/1.1 200 OK\"\n",
      "2025-05-15 09:34:36,999 - INFO - HTTP Request: GET https://arxiv.org/src/2505.09383v1 \"HTTP/1.1 200 OK\"\n",
      "2025-05-15 09:34:37,010 - INFO - HTTP Request: GET https://arxiv.org/src/2505.09293v1 \"HTTP/1.1 200 OK\"\n",
      "2025-05-15 09:34:37,011 - INFO - HTTP Request: GET https://arxiv.org/src/2505.09127v1 \"HTTP/1.1 200 OK\"\n",
      "2025-05-15 09:34:37,012 - INFO - HTTP Request: GET https://arxiv.org/src/2505.09217v1 \"HTTP/1.1 200 OK\"\n",
      "2025-05-15 09:34:37,013 - INFO - HTTP Request: GET https://arxiv.org/src/2505.09410v1 \"HTTP/1.1 200 OK\"\n",
      "2025-05-15 09:34:37,013 - INFO - HTTP Request: GET https://arxiv.org/src/2505.09469v1 \"HTTP/1.1 200 OK\"\n",
      "2025-05-15 09:34:37,014 - INFO - HTTP Request: GET https://arxiv.org/src/2505.08720v1 \"HTTP/1.1 200 OK\"\n",
      "2025-05-15 09:34:37,014 - INFO - HTTP Request: GET https://arxiv.org/src/2505.09485v1 \"HTTP/1.1 200 OK\"\n",
      "2025-05-15 09:34:37,015 - INFO - HTTP Request: GET https://arxiv.org/src/2505.09349v1 \"HTTP/1.1 200 OK\"\n",
      "2025-05-15 09:34:37,016 - INFO - HTTP Request: GET https://arxiv.org/src/2505.09572v1 \"HTTP/1.1 200 OK\"\n",
      "2025-05-15 09:34:37,017 - INFO - HTTP Request: GET https://arxiv.org/src/2505.09589v1 \"HTTP/1.1 200 OK\"\n",
      "2025-05-15 09:34:37,017 - INFO - HTTP Request: GET https://arxiv.org/src/2505.09391v1 \"HTTP/1.1 200 OK\"\n",
      "2025-05-15 09:34:37,018 - INFO - HTTP Request: GET https://arxiv.org/src/2505.09088v1 \"HTTP/1.1 200 OK\"\n",
      "2025-05-15 09:34:37,053 - INFO - HTTP Request: GET https://arxiv.org/src/2505.09237v1 \"HTTP/1.1 200 OK\"\n",
      "2025-05-15 09:34:37,054 - INFO - Sleeping: 2.515967 seconds\n",
      "2025-05-15 09:34:39,570 - INFO - Requesting page (first: True, try: 0): https://export.arxiv.org/api/query?search_query=cat%3Amath.PR&id_list=&sortBy=submittedDate&sortOrder=descending&start=0&max_results=100\n",
      "2025-05-15 09:34:40,471 - INFO - Got first page: 100 of 60330 total results\n",
      "2025-05-15 09:34:40,471 - INFO - Sleeping: 2.974579 seconds\n",
      "2025-05-15 09:34:43,447 - INFO - Requesting page (first: True, try: 0): https://export.arxiv.org/api/query?search_query=cat%3Amath.QA&id_list=&sortBy=submittedDate&sortOrder=descending&start=0&max_results=100\n",
      "2025-05-15 09:34:44,231 - INFO - Got first page: 100 of 19796 total results\n",
      "2025-05-15 09:34:44,232 - INFO - Sleeping: 2.973347 seconds\n",
      "2025-05-15 09:34:47,205 - INFO - Requesting page (first: True, try: 0): https://export.arxiv.org/api/query?search_query=cat%3Amath.RA&id_list=&sortBy=submittedDate&sortOrder=descending&start=0&max_results=100\n",
      "2025-05-15 09:34:47,982 - INFO - Got first page: 100 of 18489 total results\n",
      "2025-05-15 09:34:47,983 - INFO - Sleeping: 2.977852 seconds\n",
      "2025-05-15 09:34:50,962 - INFO - Requesting page (first: True, try: 0): https://export.arxiv.org/api/query?search_query=cat%3Amath.RT&id_list=&sortBy=submittedDate&sortOrder=descending&start=0&max_results=100\n",
      "2025-05-15 09:34:51,685 - INFO - Got first page: 100 of 27840 total results\n",
      "2025-05-15 09:34:51,686 - INFO - Sleeping: 2.962148 seconds\n",
      "2025-05-15 09:34:54,650 - INFO - Requesting page (first: True, try: 0): https://export.arxiv.org/api/query?search_query=cat%3Amath.SG&id_list=&sortBy=submittedDate&sortOrder=descending&start=0&max_results=100\n",
      "2025-05-15 09:34:55,425 - INFO - Got first page: 100 of 9558 total results\n",
      "2025-05-15 09:34:55,827 - INFO - HTTP Request: GET https://arxiv.org/src/2505.09309v1 \"HTTP/1.1 200 OK\"\n",
      "2025-05-15 09:34:55,832 - INFO - HTTP Request: GET https://arxiv.org/src/2505.09560v1 \"HTTP/1.1 200 OK\"\n",
      "2025-05-15 09:34:55,833 - INFO - HTTP Request: GET https://arxiv.org/src/2505.08924v1 \"HTTP/1.1 200 OK\"\n",
      "2025-05-15 09:34:55,835 - INFO - HTTP Request: GET https://arxiv.org/src/2505.09604v1 \"HTTP/1.1 200 OK\"\n",
      "2025-05-15 09:34:55,835 - INFO - HTTP Request: GET https://arxiv.org/src/2505.08296v1 \"HTTP/1.1 200 OK\"\n",
      "2025-05-15 09:34:55,838 - INFO - HTTP Request: GET https://arxiv.org/src/2505.09585v1 \"HTTP/1.1 200 OK\"\n",
      "2025-05-15 09:34:55,838 - INFO - HTTP Request: GET https://arxiv.org/src/2505.08897v1 \"HTTP/1.1 200 OK\"\n",
      "2025-05-15 09:34:55,840 - INFO - HTTP Request: GET https://arxiv.org/src/2505.09312v1 \"HTTP/1.1 200 OK\"\n",
      "2025-05-15 09:34:55,841 - INFO - HTTP Request: GET https://arxiv.org/src/2505.09318v1 \"HTTP/1.1 200 OK\"\n",
      "2025-05-15 09:34:55,848 - INFO - HTTP Request: GET https://arxiv.org/src/2505.09281v1 \"HTTP/1.1 200 OK\"\n",
      "2025-05-15 09:34:55,858 - INFO - HTTP Request: GET https://arxiv.org/src/2505.08147v1 \"HTTP/1.1 200 OK\"\n",
      "2025-05-15 09:34:55,858 - INFO - HTTP Request: GET https://arxiv.org/src/2505.08422v1 \"HTTP/1.1 200 OK\"\n",
      "2025-05-15 09:34:55,859 - INFO - HTTP Request: GET https://arxiv.org/src/2505.08331v1 \"HTTP/1.1 200 OK\"\n",
      "2025-05-15 09:34:55,859 - INFO - HTTP Request: GET https://arxiv.org/src/2505.09483v1 \"HTTP/1.1 200 OK\"\n",
      "2025-05-15 09:34:55,860 - INFO - HTTP Request: GET https://arxiv.org/src/2505.09520v1 \"HTTP/1.1 200 OK\"\n",
      "2025-05-15 09:34:55,861 - INFO - HTTP Request: GET https://arxiv.org/src/2505.09400v1 \"HTTP/1.1 200 OK\"\n",
      "2025-05-15 09:34:55,861 - INFO - HTTP Request: GET https://arxiv.org/src/2505.09520v1 \"HTTP/1.1 200 OK\"\n",
      "2025-05-15 09:34:55,862 - INFO - HTTP Request: GET https://arxiv.org/src/2505.08090v2 \"HTTP/1.1 200 OK\"\n",
      "2025-05-15 09:34:55,867 - INFO - HTTP Request: GET https://arxiv.org/src/2505.09585v1 \"HTTP/1.1 200 OK\"\n",
      "2025-05-15 09:34:55,867 - INFO - HTTP Request: GET https://arxiv.org/src/2505.08624v1 \"HTTP/1.1 200 OK\"\n",
      "2025-05-15 09:34:55,868 - INFO - HTTP Request: GET https://arxiv.org/src/2505.09378v1 \"HTTP/1.1 200 OK\"\n",
      "2025-05-15 09:34:55,868 - INFO - HTTP Request: GET https://arxiv.org/src/2505.08967v1 \"HTTP/1.1 200 OK\"\n",
      "2025-05-15 09:34:55,869 - INFO - HTTP Request: GET https://arxiv.org/src/2505.09268v1 \"HTTP/1.1 200 OK\"\n",
      "2025-05-15 09:34:55,870 - INFO - HTTP Request: GET https://arxiv.org/src/2505.09041v1 \"HTTP/1.1 200 OK\"\n",
      "2025-05-15 09:34:55,881 - INFO - HTTP Request: GET https://arxiv.org/src/2505.08624v1 \"HTTP/1.1 200 OK\"\n",
      "2025-05-15 09:34:55,882 - INFO - HTTP Request: GET https://arxiv.org/src/2505.09281v1 \"HTTP/1.1 200 OK\"\n",
      "2025-05-15 09:34:55,882 - INFO - HTTP Request: GET https://arxiv.org/src/2505.09550v1 \"HTTP/1.1 200 OK\"\n",
      "2025-05-15 09:34:55,884 - INFO - HTTP Request: GET https://arxiv.org/src/2505.09492v1 \"HTTP/1.1 200 OK\"\n",
      "2025-05-15 09:34:55,885 - INFO - HTTP Request: GET https://arxiv.org/src/2505.07663v1 \"HTTP/1.1 200 OK\"\n",
      "2025-05-15 09:34:55,885 - INFO - HTTP Request: GET https://arxiv.org/src/2505.07599v1 \"HTTP/1.1 200 OK\"\n",
      "2025-05-15 09:34:55,886 - INFO - Sleeping: 2.508152 seconds\n",
      "2025-05-15 09:34:58,395 - INFO - Requesting page (first: True, try: 0): https://export.arxiv.org/api/query?search_query=cat%3Amath.SP&id_list=&sortBy=submittedDate&sortOrder=descending&start=0&max_results=100\n",
      "2025-05-15 09:34:59,219 - INFO - Got first page: 100 of 10307 total results\n",
      "2025-05-15 09:34:59,219 - INFO - Sleeping: 2.954346 seconds\n",
      "2025-05-15 09:35:02,174 - INFO - Requesting page (first: True, try: 0): https://export.arxiv.org/api/query?search_query=cat%3Amath.ST&id_list=&sortBy=submittedDate&sortOrder=descending&start=0&max_results=100\n",
      "2025-05-15 09:35:03,121 - INFO - Got first page: 100 of 24988 total results\n",
      "2025-05-15 09:35:03,321 - INFO - HTTP Request: GET https://arxiv.org/src/2505.09152v1 \"HTTP/1.1 200 OK\"\n",
      "2025-05-15 09:35:03,322 - INFO - HTTP Request: GET https://arxiv.org/src/2505.08595v1 \"HTTP/1.1 200 OK\"\n",
      "2025-05-15 09:35:03,323 - INFO - HTTP Request: GET https://arxiv.org/src/2505.08763v1 \"HTTP/1.1 200 OK\"\n",
      "2025-05-15 09:35:03,323 - INFO - HTTP Request: GET https://arxiv.org/src/2505.09612v1 \"HTTP/1.1 200 OK\"\n",
      "2025-05-15 09:35:03,349 - INFO - HTTP Request: GET https://arxiv.org/src/2505.09403v1 \"HTTP/1.1 200 OK\"\n",
      "2025-05-15 09:35:03,350 - INFO - HTTP Request: GET https://arxiv.org/src/2505.09098v1 \"HTTP/1.1 200 OK\"\n",
      "2025-05-15 09:35:03,351 - INFO - HTTP Request: GET https://arxiv.org/src/2505.09609v1 \"HTTP/1.1 200 OK\"\n",
      "2025-05-15 09:35:03,351 - INFO - HTTP Request: GET https://arxiv.org/src/2505.09090v1 \"HTTP/1.1 200 OK\"\n",
      "2025-05-15 09:35:03,352 - INFO - HTTP Request: GET https://arxiv.org/src/2505.09410v1 \"HTTP/1.1 200 OK\"\n",
      "2025-05-15 09:35:03,365 - INFO - HTTP Request: GET https://arxiv.org/src/2505.08539v1 \"HTTP/1.1 200 OK\"\n",
      "2025-05-15 09:35:03,366 - INFO - HTTP Request: GET https://arxiv.org/src/2505.09471v1 \"HTTP/1.1 200 OK\"\n",
      "2025-05-15 09:35:03,367 - INFO - HTTP Request: GET https://arxiv.org/src/2505.08479v1 \"HTTP/1.1 200 OK\"\n"
     ]
    }
   ],
   "source": [
    "from math_rag.application.enums.arxiv import MathCategory\n",
    "\n",
    "\n",
    "math_article_loader_service = infrastructure_container.math_article_loader_service()\n",
    "await math_article_loader_service.load(MathCategory, 32)  # TODO was 200"
   ]
  },
  {
   "cell_type": "markdown",
   "metadata": {},
   "source": [
    "### Parse"
   ]
  },
  {
   "cell_type": "code",
   "execution_count": null,
   "metadata": {},
   "outputs": [],
   "source": [
    "# TODO test backup/restore"
   ]
  },
  {
   "cell_type": "code",
   "execution_count": 5,
   "metadata": {},
   "outputs": [],
   "source": [
    "math_expression_loader_service = (\n",
    "    infrastructure_container.math_expression_loader_service()\n",
    ")\n",
    "\n",
    "await math_expression_loader_service.load()"
   ]
  },
  {
   "cell_type": "code",
   "execution_count": null,
   "metadata": {},
   "outputs": [],
   "source": [
    "from pylatexenc.latexwalker import LatexMathNode\n",
    "\n",
    "\n",
    "math_article_parser_service = infrastructure_container.math_article_parser_service()\n",
    "\n",
    "file_names = [\n",
    "    name for name in math_article_repository.list_names() if name.endswith('.tex')\n",
    "]\n",
    "math_nodes: list[LatexMathNode] = []\n",
    "\n",
    "for name in file_names:\n",
    "    math_article = math_article_repository.find_by_name(name)\n",
    "    math_nodes.extend(math_article_parser_service.parse(math_article))"
   ]
  },
  {
   "cell_type": "code",
   "execution_count": 8,
   "metadata": {},
   "outputs": [],
   "source": [
    "from math_rag.application.models.assistants import KatexCorrectorAssistantInput\n",
    "from math_rag.core.models import MathExpression"
   ]
  },
  {
   "cell_type": "code",
   "execution_count": null,
   "metadata": {},
   "outputs": [],
   "source": [
    "katexes = [str(math_node.latex_verbatim()).strip('$') for math_node in math_nodes]\n",
    "results = await katex_client.batch_validate_many(katexes, batch_size=1000)\n",
    "math_node_validation_results = list(zip(math_nodes, results))"
   ]
  },
  {
   "cell_type": "code",
   "execution_count": 11,
   "metadata": {},
   "outputs": [
    {
     "data": {
      "text/plain": [
       "(47425, 62929)"
      ]
     },
     "execution_count": 11,
     "metadata": {},
     "output_type": "execute_result"
    }
   ],
   "source": [
    "num_valid_results = sum(1 for result in results if result.valid)\n",
    "num_total_results = len(results)\n",
    "\n",
    "num_valid_results, num_total_results"
   ]
  },
  {
   "cell_type": "code",
   "execution_count": null,
   "metadata": {},
   "outputs": [],
   "source": [
    "math_expressions = [\n",
    "    MathExpression(\n",
    "        latex=str(math_node.latex_verbatim()),\n",
    "        katex=str(math_node.latex_verbatim()).strip('$') if result.valid else None,\n",
    "        position=math_node.pos,\n",
    "        is_inline=math_node.displaytype == 'inline',\n",
    "    )\n",
    "    for math_node, result in math_node_validation_results\n",
    "]\n",
    "\n",
    "await math_expression_repository.batch_insert_many(math_expressions, batch_size=100)"
   ]
  },
  {
   "cell_type": "code",
   "execution_count": null,
   "metadata": {},
   "outputs": [
    {
     "name": "stderr",
     "output_type": "stream",
     "text": [
      "2025-03-08 23:00:59,929 - INFO - HTTP Request: POST https://api.openai.com/v1/files \"HTTP/1.1 200 OK\"\n",
      "2025-03-08 23:01:00,845 - INFO - HTTP Request: POST https://api.openai.com/v1/batches \"HTTP/1.1 200 OK\"\n",
      "2025-03-08 23:01:00,855 - INFO - Batch batch_67ccbe1c87448190b76b85dd9ac2e151 created with status validating\n"
     ]
    }
   ],
   "source": [
    "inputs = [\n",
    "    KatexCorrectorAssistantInput(\n",
    "        katex=str(math_node.latex_verbatim()).strip('$'), error=result.error\n",
    "    )\n",
    "    for math_node, result in math_node_validation_results\n",
    "    if not result.valid\n",
    "]\n",
    "batch_id = await katex_corrector_assistant.batch_assist_init(inputs)"
   ]
  },
  {
   "cell_type": "code",
   "execution_count": null,
   "metadata": {},
   "outputs": [],
   "source": [
    "# invalid_math_expression_ids = [\n",
    "#     math_expression.id\n",
    "#     for math_expression in math_expressions\n",
    "#     if math_expression.katex == None\n",
    "# ]"
   ]
  },
  {
   "cell_type": "code",
   "execution_count": null,
   "metadata": {},
   "outputs": [],
   "source": [
    "outputs = await katex_corrector_assistant.batch_assist(inputs)\n",
    "print(outputs is not None)\n",
    "invalid_total = 0\n",
    "\n",
    "if outputs:\n",
    "    katexes = [output.katex for output in outputs]\n",
    "    results = await katex_client.batch_validate_many(katexes, batch_size=1000)\n",
    "    # TODO update\n",
    "    # TODO retry\n",
    "\n",
    "    for x in results:\n",
    "        if not x.valid:\n",
    "            invalid_total += 1\n",
    "\n",
    "invalid_total\n",
    "\n",
    "# items_for_update = [\n",
    "#     (id, katex)\n",
    "#     for id, katex, result in zip(invalid_math_expression_ids, katexes, results)\n",
    "#     if result.valid\n",
    "# ]\n",
    "# math_expression_repository.batch_update_katex(items_for_update)"
   ]
  },
  {
   "cell_type": "code",
   "execution_count": null,
   "metadata": {},
   "outputs": [],
   "source": [
    "for math_expression in math_expressions[:100]:\n",
    "    math_display_object = Math(math_expression.katex)\n",
    "\n",
    "    display(math_display_object)"
   ]
  },
  {
   "cell_type": "markdown",
   "metadata": {},
   "source": [
    "### Display"
   ]
  },
  {
   "cell_type": "code",
   "execution_count": null,
   "metadata": {},
   "outputs": [],
   "source": [
    "from IPython.display import Math, display\n",
    "\n",
    "\n",
    "for i, latex_math_node in enumerate(math_nodes[:100]):\n",
    "    latex = latex_math_node.latex_verbatim()\n",
    "    math_display_object = Math(latex)\n",
    "\n",
    "    display(math_display_object)"
   ]
  },
  {
   "cell_type": "markdown",
   "metadata": {},
   "source": [
    "### Correct"
   ]
  },
  {
   "cell_type": "code",
   "execution_count": 7,
   "metadata": {},
   "outputs": [],
   "source": [
    "incorrect_katex = r'd\\omega = \\theta \\w \\omega'\n",
    "error = r'KaTeX parse error: Undefined control sequence: \\w at position 18: …omega = \\theta \\̲w̲ ̲\\omega'"
   ]
  },
  {
   "cell_type": "code",
   "execution_count": null,
   "metadata": {},
   "outputs": [],
   "source": [
    "from math_rag.application.models.assistants import KatexCorrectorAssistantInput\n",
    "\n",
    "\n",
    "input = KatexCorrectorAssistantInput(katex=incorrect_katex, error=error)"
   ]
  },
  {
   "cell_type": "code",
   "execution_count": null,
   "metadata": {},
   "outputs": [
    {
     "name": "stderr",
     "output_type": "stream",
     "text": [
      "2025-03-14 12:43:02,263 - INFO - HTTP Request: POST https://api.openai.com/v1/chat/completions \"HTTP/1.1 200 OK\"\n"
     ]
    },
    {
     "name": "stdout",
     "output_type": "stream",
     "text": [
      "d\\omega = \\theta \\omega\n"
     ]
    },
    {
     "data": {
      "text/latex": [
       "$\\displaystyle d\\omega = \\theta \\omega$"
      ],
      "text/plain": [
       "<IPython.core.display.Math object>"
      ]
     },
     "metadata": {},
     "output_type": "display_data"
    }
   ],
   "source": [
    "output = await katex_corrector_assistant.assist(input)\n",
    "corrected_katex = output.katex\n",
    "print(corrected_katex)\n",
    "display(Math(corrected_katex))"
   ]
  },
  {
   "cell_type": "code",
   "execution_count": null,
   "metadata": {},
   "outputs": [],
   "source": [
    "import copy\n",
    "\n",
    "\n",
    "inputs = [copy.deepcopy(input) for _ in range(5000)]\n",
    "outputs = await katex_corrector_assistant.concurrent_assist(inputs)"
   ]
  },
  {
   "cell_type": "markdown",
   "metadata": {},
   "source": [
    "### Dataset"
   ]
  },
  {
   "cell_type": "markdown",
   "metadata": {},
   "source": [
    "#### Upload"
   ]
  },
  {
   "cell_type": "code",
   "execution_count": 4,
   "metadata": {},
   "outputs": [],
   "source": [
    "from math_rag.application.models.datasets import (\n",
    "    MathExpressionDataset,\n",
    "    MathExpressionSample,\n",
    ")\n",
    "from math_rag.core.enums import MathExpressionLabelEnum\n",
    "\n",
    "\n",
    "samples = [\n",
    "    MathExpressionSample(\n",
    "        latex=f'x + {i} = 5',\n",
    "        label=MathExpressionLabelEnum.EQUALITY,\n",
    "    )\n",
    "    for i in range(10)\n",
    "]\n",
    "dataset = MathExpressionDataset(samples)"
   ]
  },
  {
   "cell_type": "code",
   "execution_count": 5,
   "metadata": {},
   "outputs": [],
   "source": [
    "from math_rag.application.assistants.prompts import MATH_EXPRESSION_LABELER_PROMPT\n",
    "from math_rag.application.models.datasets import (\n",
    "    DatasetMetadataFile,\n",
    "    DatasetSplitSettings,\n",
    ")\n",
    "\n",
    "\n",
    "settings = DatasetSplitSettings(\n",
    "    train_ratio=0.8, validate_ratio=0.1, test_ratio=0.1, seed=42\n",
    ")\n",
    "\n",
    "json_str = MATH_EXPRESSION_LABELER_PROMPT.model_dump_json(indent=4)\n",
    "content = json_str.encode('utf-8')\n",
    "metadata_file = DatasetMetadataFile(name='prompt.json', content=content)"
   ]
  },
  {
   "cell_type": "code",
   "execution_count": 6,
   "metadata": {},
   "outputs": [
    {
     "name": "stderr",
     "output_type": "stream",
     "text": [
      "2025-05-14 21:12:31,414 - INFO - Dataset KebabSeller/mathexpressiondataset already exists\n"
     ]
    },
    {
     "data": {
      "application/vnd.jupyter.widget-view+json": {
       "model_id": "24b340613cad4a10914d29829eab6440",
       "version_major": 2,
       "version_minor": 0
      },
      "text/plain": [
       "Uploading the dataset shards:   0%|          | 0/1 [00:00<?, ?it/s]"
      ]
     },
     "metadata": {},
     "output_type": "display_data"
    },
    {
     "data": {
      "application/vnd.jupyter.widget-view+json": {
       "model_id": "b9bd7855d1774ff0b589ca7a0f714ee0",
       "version_major": 2,
       "version_minor": 0
      },
      "text/plain": [
       "Creating parquet from Arrow format:   0%|          | 0/1 [00:00<?, ?ba/s]"
      ]
     },
     "metadata": {},
     "output_type": "display_data"
    },
    {
     "data": {
      "application/vnd.jupyter.widget-view+json": {
       "model_id": "34d20e67c7574d0fb41065845cec73f3",
       "version_major": 2,
       "version_minor": 0
      },
      "text/plain": [
       "Uploading the dataset shards:   0%|          | 0/1 [00:00<?, ?it/s]"
      ]
     },
     "metadata": {},
     "output_type": "display_data"
    },
    {
     "data": {
      "application/vnd.jupyter.widget-view+json": {
       "model_id": "0344709926de423d922a9a364eaeaf62",
       "version_major": 2,
       "version_minor": 0
      },
      "text/plain": [
       "Creating parquet from Arrow format:   0%|          | 0/1 [00:00<?, ?ba/s]"
      ]
     },
     "metadata": {},
     "output_type": "display_data"
    },
    {
     "data": {
      "application/vnd.jupyter.widget-view+json": {
       "model_id": "fc391345aa234ac49f1af41c4a307384",
       "version_major": 2,
       "version_minor": 0
      },
      "text/plain": [
       "Uploading the dataset shards:   0%|          | 0/1 [00:00<?, ?it/s]"
      ]
     },
     "metadata": {},
     "output_type": "display_data"
    },
    {
     "data": {
      "application/vnd.jupyter.widget-view+json": {
       "model_id": "058f05f1b2e74535ad24a077fe8f1dc9",
       "version_major": 2,
       "version_minor": 0
      },
      "text/plain": [
       "Creating parquet from Arrow format:   0%|          | 0/1 [00:00<?, ?ba/s]"
      ]
     },
     "metadata": {},
     "output_type": "display_data"
    }
   ],
   "source": [
    "dataset_publisher_service = infrastructure_container.dataset_publisher_service()\n",
    "dataset_publisher_service.publish(\n",
    "    dataset, MathExpressionSample, settings, metadata_file\n",
    ")"
   ]
  },
  {
   "cell_type": "markdown",
   "metadata": {},
   "source": [
    "#### Download"
   ]
  },
  {
   "cell_type": "code",
   "execution_count": 7,
   "metadata": {},
   "outputs": [
    {
     "data": {
      "application/vnd.jupyter.widget-view+json": {
       "model_id": "33cc89cdb4b24808a568a44e107fc27c",
       "version_major": 2,
       "version_minor": 0
      },
      "text/plain": [
       "README.md:   0%|          | 0.00/641 [00:00<?, ?B/s]"
      ]
     },
     "metadata": {},
     "output_type": "display_data"
    },
    {
     "data": {
      "application/vnd.jupyter.widget-view+json": {
       "model_id": "c8f31f9230c04d3e8335e35686c044a1",
       "version_major": 2,
       "version_minor": 0
      },
      "text/plain": [
       "train-00000-of-00001.parquet:   0%|          | 0.00/1.28k [00:00<?, ?B/s]"
      ]
     },
     "metadata": {},
     "output_type": "display_data"
    },
    {
     "data": {
      "application/vnd.jupyter.widget-view+json": {
       "model_id": "5b97b108050f462fad917a57e8bcc242",
       "version_major": 2,
       "version_minor": 0
      },
      "text/plain": [
       "validate-00000-of-00001.parquet:   0%|          | 0.00/1.24k [00:00<?, ?B/s]"
      ]
     },
     "metadata": {},
     "output_type": "display_data"
    },
    {
     "data": {
      "application/vnd.jupyter.widget-view+json": {
       "model_id": "80f97a7294c3408eb78694be6d491fd0",
       "version_major": 2,
       "version_minor": 0
      },
      "text/plain": [
       "test-00000-of-00001.parquet:   0%|          | 0.00/1.24k [00:00<?, ?B/s]"
      ]
     },
     "metadata": {},
     "output_type": "display_data"
    },
    {
     "data": {
      "application/vnd.jupyter.widget-view+json": {
       "model_id": "4ada11c56159439da31a45cccff7b5f1",
       "version_major": 2,
       "version_minor": 0
      },
      "text/plain": [
       "Generating train split:   0%|          | 0/8 [00:00<?, ? examples/s]"
      ]
     },
     "metadata": {},
     "output_type": "display_data"
    },
    {
     "data": {
      "application/vnd.jupyter.widget-view+json": {
       "model_id": "ab844a5fa5fe4d558a1bf1eb0b96a675",
       "version_major": 2,
       "version_minor": 0
      },
      "text/plain": [
       "Generating validate split:   0%|          | 0/1 [00:00<?, ? examples/s]"
      ]
     },
     "metadata": {},
     "output_type": "display_data"
    },
    {
     "data": {
      "application/vnd.jupyter.widget-view+json": {
       "model_id": "23068caeb4764998a59c020cadab4255",
       "version_major": 2,
       "version_minor": 0
      },
      "text/plain": [
       "Generating test split:   0%|          | 0/1 [00:00<?, ? examples/s]"
      ]
     },
     "metadata": {},
     "output_type": "display_data"
    }
   ],
   "source": [
    "from datasets import load_dataset\n",
    "from datasets.download import DownloadConfig\n",
    "from decouple import config\n",
    "\n",
    "\n",
    "HF_USERNAME = config('HF_USERNAME', default=None)\n",
    "HF_TOKEN = config('HF_TOKEN', default=None)\n",
    "\n",
    "download_config = DownloadConfig(\n",
    "    max_retries=3,\n",
    "    disable_tqdm=True,\n",
    ")\n",
    "\n",
    "dataset_dict = load_dataset(\n",
    "    path=f'{HF_USERNAME}/mathexpressiondataset',\n",
    "    split=None,\n",
    "    download_config=download_config,\n",
    "    token=HF_TOKEN,\n",
    "    trust_remote_code=True,\n",
    ")"
   ]
  },
  {
   "cell_type": "code",
   "execution_count": 8,
   "metadata": {},
   "outputs": [
    {
     "data": {
      "text/plain": [
       "['equality', 'inequality', 'constant', 'variable', 'other']"
      ]
     },
     "execution_count": 8,
     "metadata": {},
     "output_type": "execute_result"
    }
   ],
   "source": [
    "from typing import cast\n",
    "\n",
    "from datasets import ClassLabel\n",
    "\n",
    "\n",
    "class_label = cast(ClassLabel, dataset_dict['train'].features['label'])\n",
    "class_label.names"
   ]
  }
 ],
 "metadata": {
  "kernelspec": {
   "display_name": ".venv",
   "language": "python",
   "name": "python3"
  },
  "language_info": {
   "codemirror_mode": {
    "name": "ipython",
    "version": 3
   },
   "file_extension": ".py",
   "mimetype": "text/x-python",
   "name": "python",
   "nbconvert_exporter": "python",
   "pygments_lexer": "ipython3",
   "version": "3.12.7"
  }
 },
 "nbformat": 4,
 "nbformat_minor": 2
}
