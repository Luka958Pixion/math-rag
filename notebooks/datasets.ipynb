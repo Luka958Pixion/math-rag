{
 "cells": [
  {
   "cell_type": "code",
   "execution_count": 1,
   "metadata": {},
   "outputs": [],
   "source": [
    "%load_ext autoreload\n",
    "%autoreload 2\n",
    "\n",
    "import os\n",
    "import sys\n",
    "\n",
    "import nest_asyncio\n",
    "\n",
    "\n",
    "sys.path.insert(0, os.path.abspath('..'))\n",
    "nest_asyncio.apply()"
   ]
  },
  {
   "cell_type": "code",
   "execution_count": 2,
   "metadata": {},
   "outputs": [],
   "source": [
    "import logging\n",
    "\n",
    "\n",
    "logging.basicConfig(\n",
    "    level=logging.INFO, format='%(asctime)s - %(levelname)s - %(message)s'\n",
    ")"
   ]
  },
  {
   "cell_type": "code",
   "execution_count": 3,
   "metadata": {},
   "outputs": [
    {
     "name": "stderr",
     "output_type": "stream",
     "text": [
      "2025-05-11 09:37:02,848 - INFO - file_cache is only supported with oauth2client<4.0.0\n"
     ]
    }
   ],
   "source": [
    "from math_rag.infrastructure.containers import InfrastructureContainer\n",
    "\n",
    "\n",
    "RESET = False\n",
    "\n",
    "infrastructure_container = InfrastructureContainer()\n",
    "infrastructure_container.init_resources()\n",
    "\n",
    "math_article_seeder = infrastructure_container.math_article_seeder()\n",
    "math_expression_seeder = infrastructure_container.math_expression_seeder()\n",
    "math_expression_classification_repository = (\n",
    "    infrastructure_container.math_expression_classification_seeder()\n",
    ")\n",
    "math_article_seeder.seed(reset=RESET)\n",
    "await math_expression_seeder.seed(reset=RESET)\n",
    "await math_expression_classification_repository.seed(reset=RESET)\n",
    "\n",
    "math_article_repository = infrastructure_container.math_article_repository()\n",
    "math_expression_repository = infrastructure_container.math_expression_repository()\n",
    "math_expression_classification_repository = (\n",
    "    infrastructure_container.math_expression_classification_repository()\n",
    ")\n",
    "google_file_repository = infrastructure_container.google_file_repository()\n",
    "\n",
    "katex_corrector_assistant = infrastructure_container.katex_corrector_assistant()\n",
    "katex_client = infrastructure_container.katex_client()\n",
    "latex_parser_service = infrastructure_container.latex_parser_service()\n",
    "latex_visitor_service = infrastructure_container.latex_visitor_service()\n",
    "arxiv_client = infrastructure_container.arxiv_client()"
   ]
  },
  {
   "cell_type": "code",
   "execution_count": null,
   "metadata": {},
   "outputs": [],
   "source": [
    "from IPython.display import Math, display"
   ]
  },
  {
   "cell_type": "markdown",
   "metadata": {},
   "source": [
    "### Load"
   ]
  },
  {
   "cell_type": "code",
   "execution_count": null,
   "metadata": {},
   "outputs": [],
   "source": [
    "from math_rag.application.enums.arxiv import MathCategory\n",
    "\n",
    "\n",
    "math_article_loader_service = infrastructure_container.math_article_loader_service()\n",
    "await math_article_loader_service.load(MathCategory, 100)"
   ]
  },
  {
   "cell_type": "markdown",
   "metadata": {},
   "source": [
    "### Parse"
   ]
  },
  {
   "cell_type": "code",
   "execution_count": null,
   "metadata": {},
   "outputs": [],
   "source": [
    "from math_rag.application.extensions import LatexMathRichNode\n",
    "\n",
    "\n",
    "math_article_parser_service = infrastructure_container.math_article_parser_service()\n",
    "\n",
    "file_names = [\n",
    "    name for name in math_article_repository.list_names() if name.endswith('.tex')\n",
    "]\n",
    "math_nodes: list[LatexMathRichNode] = []\n",
    "\n",
    "for name in file_names:\n",
    "    math_article = math_article_repository.find_by_name(name)\n",
    "    math_nodes.extend(math_article_parser_service.parse(math_article))"
   ]
  },
  {
   "cell_type": "code",
   "execution_count": null,
   "metadata": {},
   "outputs": [],
   "source": [
    "from math_rag.application.models.assistants import KatexCorrectorAssistantInput\n",
    "from math_rag.core.models import MathExpression"
   ]
  },
  {
   "cell_type": "code",
   "execution_count": null,
   "metadata": {},
   "outputs": [],
   "source": [
    "katexes = [math_node.katex for math_node in math_nodes]\n",
    "results = await katex_client.batch_validate_many(katexes, batch_size=1000)\n",
    "math_node_validation_result = list(zip(math_nodes, results))"
   ]
  },
  {
   "cell_type": "code",
   "execution_count": null,
   "metadata": {},
   "outputs": [],
   "source": [
    "math_expressions = [\n",
    "    MathExpression(\n",
    "        latex=math_node.latex,\n",
    "        katex=math_node.katex if result.valid else None,\n",
    "        position=math_node.pos,\n",
    "        is_inline=math_node.displaytype == 'inline',\n",
    "    )\n",
    "    for math_node, result in math_node_validation_result\n",
    "]\n",
    "\n",
    "await math_expression_repository.batch_insert_many(math_expressions, batch_size=100)"
   ]
  },
  {
   "cell_type": "code",
   "execution_count": null,
   "metadata": {},
   "outputs": [
    {
     "name": "stderr",
     "output_type": "stream",
     "text": [
      "2025-03-08 23:00:59,929 - INFO - HTTP Request: POST https://api.openai.com/v1/files \"HTTP/1.1 200 OK\"\n",
      "2025-03-08 23:01:00,845 - INFO - HTTP Request: POST https://api.openai.com/v1/batches \"HTTP/1.1 200 OK\"\n",
      "2025-03-08 23:01:00,855 - INFO - Batch batch_67ccbe1c87448190b76b85dd9ac2e151 created with status validating\n"
     ]
    }
   ],
   "source": [
    "inputs = [\n",
    "    KatexCorrectorAssistantInput(katex=math_node.katex, error=result.error)\n",
    "    for math_node, result in math_node_validation_result\n",
    "    if not result.valid\n",
    "]\n",
    "batch_id = await katex_corrector_assistant.batch_assist_init(inputs)"
   ]
  },
  {
   "cell_type": "code",
   "execution_count": null,
   "metadata": {},
   "outputs": [],
   "source": [
    "# invalid_math_expression_ids = [\n",
    "#     math_expression.id\n",
    "#     for math_expression in math_expressions\n",
    "#     if math_expression.katex == None\n",
    "# ]"
   ]
  },
  {
   "cell_type": "code",
   "execution_count": null,
   "metadata": {},
   "outputs": [],
   "source": [
    "batch_id = 'batch_67ccbe1c87448190b76b85dd9ac2e151'\n",
    "outputs = await katex_corrector_assistant.batch_assist_result(batch_id)\n",
    "print(outputs is not None)\n",
    "invalid_total = 0\n",
    "\n",
    "if outputs:\n",
    "    katexes = [output.katex for output in outputs]\n",
    "    results = await katex_client.batch_validate_many(katexes, batch_size=1000)\n",
    "    # TODO update\n",
    "    # TODO retry\n",
    "\n",
    "    for x in results:\n",
    "        if not x.valid:\n",
    "            invalid_total += 1\n",
    "\n",
    "invalid_total\n",
    "\n",
    "# items_for_update = [\n",
    "#     (id, katex)\n",
    "#     for id, katex, result in zip(invalid_math_expression_ids, katexes, results)\n",
    "#     if result.valid\n",
    "# ]\n",
    "# math_expression_repository.batch_update_katex(items_for_update)"
   ]
  },
  {
   "cell_type": "code",
   "execution_count": null,
   "metadata": {},
   "outputs": [],
   "source": [
    "for math_expression in math_expressions[:100]:\n",
    "    math_display_object = Math(math_expression.katex)\n",
    "\n",
    "    display(math_display_object)"
   ]
  },
  {
   "cell_type": "markdown",
   "metadata": {},
   "source": [
    "### Display"
   ]
  },
  {
   "cell_type": "code",
   "execution_count": null,
   "metadata": {},
   "outputs": [],
   "source": [
    "for i, latex_math_node in enumerate(math_nodes[:100]):\n",
    "    latex = latex_math_node.latex_verbatim()\n",
    "    math_display_object = Math(latex)\n",
    "\n",
    "    display(math_display_object)"
   ]
  },
  {
   "cell_type": "markdown",
   "metadata": {},
   "source": [
    "### Correct"
   ]
  },
  {
   "cell_type": "code",
   "execution_count": 7,
   "metadata": {},
   "outputs": [],
   "source": [
    "incorrect_katex = r'd\\omega = \\theta \\w \\omega'\n",
    "error = r'KaTeX parse error: Undefined control sequence: \\w at position 18: …omega = \\theta \\̲w̲ ̲\\omega'"
   ]
  },
  {
   "cell_type": "code",
   "execution_count": null,
   "metadata": {},
   "outputs": [],
   "source": [
    "from math_rag.application.models.assistants import KatexCorrectorAssistantInput\n",
    "\n",
    "\n",
    "input = KatexCorrectorAssistantInput(katex=incorrect_katex, error=error)"
   ]
  },
  {
   "cell_type": "code",
   "execution_count": null,
   "metadata": {},
   "outputs": [
    {
     "name": "stderr",
     "output_type": "stream",
     "text": [
      "2025-03-14 12:43:02,263 - INFO - HTTP Request: POST https://api.openai.com/v1/chat/completions \"HTTP/1.1 200 OK\"\n"
     ]
    },
    {
     "name": "stdout",
     "output_type": "stream",
     "text": [
      "d\\omega = \\theta \\omega\n"
     ]
    },
    {
     "data": {
      "text/latex": [
       "$\\displaystyle d\\omega = \\theta \\omega$"
      ],
      "text/plain": [
       "<IPython.core.display.Math object>"
      ]
     },
     "metadata": {},
     "output_type": "display_data"
    }
   ],
   "source": [
    "output = await katex_corrector_assistant.assist(input)\n",
    "corrected_katex = output.katex\n",
    "print(corrected_katex)\n",
    "display(Math(corrected_katex))"
   ]
  },
  {
   "cell_type": "code",
   "execution_count": null,
   "metadata": {},
   "outputs": [],
   "source": [
    "import copy\n",
    "\n",
    "\n",
    "inputs = [copy.deepcopy(input) for _ in range(5000)]\n",
    "outputs = await katex_corrector_assistant.concurrent_assist(inputs)"
   ]
  },
  {
   "cell_type": "code",
   "execution_count": null,
   "metadata": {},
   "outputs": [
    {
     "name": "stderr",
     "output_type": "stream",
     "text": [
      "2025-03-14 11:50:03,775 - INFO - HTTP Request: POST https://api.openai.com/v1/files \"HTTP/1.1 200 OK\"\n",
      "2025-03-14 11:50:04,129 - INFO - HTTP Request: POST https://api.openai.com/v1/batches \"HTTP/1.1 200 OK\"\n",
      "2025-03-14 11:50:04,133 - INFO - Batch batch_67d409dc05b88190a834aa56e48ef515 created with status validating\n"
     ]
    }
   ],
   "source": [
    "batch_id = await katex_corrector_assistant.batch_assist_init([input])"
   ]
  },
  {
   "cell_type": "code",
   "execution_count": null,
   "metadata": {},
   "outputs": [
    {
     "name": "stderr",
     "output_type": "stream",
     "text": [
      "2025-03-14 12:39:38,088 - INFO - HTTP Request: GET https://api.openai.com/v1/batches/batch_67d409dc05b88190a834aa56e48ef515 \"HTTP/1.1 200 OK\"\n",
      "2025-03-14 12:39:38,089 - INFO - Batch batch_67d409dc05b88190a834aa56e48ef515 status completed\n",
      "Batch batch_67d409dc05b88190a834aa56e48ef515 requests - completed: 1, failed: 0, total: 1\n",
      "2025-03-14 12:39:38,378 - INFO - HTTP Request: GET https://api.openai.com/v1/files/file-4w9g482KDizAEntZJMKm9j/content \"HTTP/1.1 200 OK\"\n",
      "2025-03-14 12:39:38,764 - INFO - HTTP Request: GET https://api.openai.com/v1/files/file-44LDSWLLWKGGWgkpvxRdFY/content \"HTTP/1.1 200 OK\"\n",
      "2025-03-14 12:39:39,143 - INFO - HTTP Request: DELETE https://api.openai.com/v1/files/file-4w9g482KDizAEntZJMKm9j \"HTTP/1.1 200 OK\"\n",
      "2025-03-14 12:39:39,538 - INFO - HTTP Request: DELETE https://api.openai.com/v1/files/file-44LDSWLLWKGGWgkpvxRdFY \"HTTP/1.1 200 OK\"\n"
     ]
    }
   ],
   "source": [
    "batch_id = 'batch_67d409dc05b88190a834aa56e48ef515'\n",
    "outputs = await katex_corrector_assistant.batch_assist_result(batch_id)"
   ]
  },
  {
   "cell_type": "markdown",
   "metadata": {},
   "source": [
    "### Dataset"
   ]
  },
  {
   "cell_type": "code",
   "execution_count": null,
   "metadata": {},
   "outputs": [],
   "source": [
    "from datasets import Dataset, DatasetDict, DatasetInfo\n",
    "\n",
    "\n",
    "citation = \"\"\"\\\n",
    "@misc{math-rag-dataset,\n",
    "  author = {Your Name},\n",
    "  title = {Demo Dataset},\n",
    "  year = {2025},\n",
    "  url = {https://huggingface.co/datasets/your-username/your-dataset-name}\n",
    "}\n",
    "\"\"\"\n",
    "\n",
    "info = DatasetInfo(\n",
    "    description='A small demo dataset with text and binary labels.',\n",
    "    version='1.0.0',\n",
    "    features={\n",
    "        'text': {'dtype': 'string', '_type': 'Value'},\n",
    "        'label': {'dtype': 'int64', '_type': 'Value'},\n",
    "    },\n",
    "    license='mit',\n",
    "    citation=citation,\n",
    ")\n",
    "\n",
    "data = {\n",
    "    'text': ['Hello, world!', 'Hugging Face is awesome!', \"Let's upload this dataset.\"],\n",
    "    'label': [0, 1, 0],\n",
    "}\n",
    "\n",
    "dataset = Dataset.from_dict(data)\n",
    "dataset = dataset.shuffle(seed=42)\n",
    "\n",
    "split_test = dataset.train_test_split(test_size=0.1, seed=42)\n",
    "train_validation_dataset = split_test['train']\n",
    "test_dataset = split_test['test']\n",
    "\n",
    "split_validation = train_validation_dataset.train_test_split(test_size=0.1, seed=42)\n",
    "train_dataset = split_validation['train']\n",
    "validation_dataset = split_validation['test']\n",
    "\n",
    "dataset_dict = DatasetDict(\n",
    "    {'train': train_dataset, 'validation': validation_dataset, 'test': test_dataset}\n",
    ")\n",
    "dataset_dict.info = info\n",
    "dataset_dict.push_to_hub(\n",
    "    'your-username/your-dataset-name',\n",
    "    private=True,\n",
    "    token='your_hf_token',\n",
    ")"
   ]
  }
 ],
 "metadata": {
  "kernelspec": {
   "display_name": ".venv",
   "language": "python",
   "name": "python3"
  },
  "language_info": {
   "codemirror_mode": {
    "name": "ipython",
    "version": 3
   },
   "file_extension": ".py",
   "mimetype": "text/x-python",
   "name": "python",
   "nbconvert_exporter": "python",
   "pygments_lexer": "ipython3",
   "version": "3.12.7"
  }
 },
 "nbformat": 4,
 "nbformat_minor": 2
}
