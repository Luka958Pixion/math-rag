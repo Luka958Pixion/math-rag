{
 "cells": [
  {
   "cell_type": "code",
   "execution_count": 1,
   "metadata": {},
   "outputs": [],
   "source": [
    "%load_ext autoreload\n",
    "%autoreload 2\n",
    "\n",
    "import os\n",
    "import sys\n",
    "\n",
    "import nest_asyncio\n",
    "\n",
    "\n",
    "sys.path.insert(0, os.path.abspath('..'))\n",
    "nest_asyncio.apply()"
   ]
  },
  {
   "cell_type": "code",
   "execution_count": 2,
   "metadata": {},
   "outputs": [],
   "source": [
    "import logging\n",
    "\n",
    "\n",
    "logging.basicConfig(\n",
    "    level=logging.INFO, format='%(asctime)s - %(levelname)s - %(message)s'\n",
    ")"
   ]
  },
  {
   "cell_type": "code",
   "execution_count": 3,
   "metadata": {},
   "outputs": [
    {
     "name": "stderr",
     "output_type": "stream",
     "text": [
      "2025-03-02 21:55:21,785 - INFO - file_cache is only supported with oauth2client<4.0.0\n"
     ]
    }
   ],
   "source": [
    "from math_rag.infrastructure.containers import InfrastructureContainer\n",
    "\n",
    "\n",
    "infrastructure_container = InfrastructureContainer()\n",
    "infrastructure_container.init_resources()\n",
    "\n",
    "math_article_seeder = infrastructure_container.math_article_seeder()\n",
    "math_expression_seeder = infrastructure_container.math_expression_seeder()\n",
    "math_expression_prediction_seeder = (\n",
    "    infrastructure_container.math_expression_prediction_seeder()\n",
    ")\n",
    "math_article_seeder.seed()\n",
    "await math_expression_seeder.seed()\n",
    "await math_expression_prediction_seeder.seed()\n",
    "\n",
    "math_article_repository = infrastructure_container.math_article_repository()\n",
    "math_expression_repository = infrastructure_container.math_expression_repository()\n",
    "math_expression_prediction_repository = (\n",
    "    infrastructure_container.math_expression_prediction_repository()\n",
    ")\n",
    "google_file_repository = infrastructure_container.google_file_repository()"
   ]
  },
  {
   "cell_type": "code",
   "execution_count": 4,
   "metadata": {},
   "outputs": [],
   "source": [
    "import gzip\n",
    "import shutil\n",
    "import tarfile\n",
    "\n",
    "from io import BytesIO\n",
    "from pathlib import Path\n",
    "from zipfile import ZipFile\n",
    "\n",
    "from IPython.display import Math, display\n",
    "from pylatexenc.latexwalker import LatexMathNode\n",
    "\n",
    "\n",
    "ARTICLES_PATH = '../tmp/articles'"
   ]
  },
  {
   "cell_type": "markdown",
   "metadata": {},
   "source": [
    "### Extract"
   ]
  },
  {
   "cell_type": "code",
   "execution_count": null,
   "metadata": {},
   "outputs": [
    {
     "name": "stderr",
     "output_type": "stream",
     "text": [
      "/tmp/ipykernel_15043/154124979.py:39: DeprecationWarning: Python 3.14 will, by default, filter extracted tar archives and reject files or modify their metadata. Use the filter argument to control this behavior.\n",
      "  tar.extractall(path=dest_folder)\n"
     ]
    }
   ],
   "source": [
    "def get_gzip_original_filename(file_path):\n",
    "    with open(file_path, 'rb') as f:\n",
    "        if f.read(2) != b'\\x1f\\x8b':\n",
    "            return None\n",
    "        f.read(1)\n",
    "        flag = f.read(1)[0]\n",
    "        f.read(4)\n",
    "        f.read(1)\n",
    "        f.read(1)\n",
    "        orig_name = None\n",
    "        if flag & 0x08:\n",
    "            name_bytes = bytearray()\n",
    "            while True:\n",
    "                b = f.read(1)\n",
    "                if not b or b == b'\\x00':\n",
    "                    break\n",
    "                name_bytes.extend(b)\n",
    "            try:\n",
    "                orig_name = name_bytes.decode('utf-8')\n",
    "            except UnicodeDecodeError:\n",
    "                orig_name = name_bytes.decode('latin1')\n",
    "        return orig_name\n",
    "\n",
    "\n",
    "def extract_gz(file_path, dest_folder):\n",
    "    orig_name = get_gzip_original_filename(file_path)\n",
    "    if not orig_name:\n",
    "        orig_name = os.path.splitext(os.path.basename(file_path))[0]\n",
    "    dest_path = os.path.join(dest_folder, orig_name)\n",
    "    with gzip.open(file_path, 'rb') as f_in, open(dest_path, 'wb') as f_out:\n",
    "        shutil.copyfileobj(f_in, f_out)\n",
    "\n",
    "\n",
    "def extract_tar_gz(file_path, dest_folder):\n",
    "    with tarfile.open(file_path, 'r:gz') as tar:\n",
    "        tar.extractall(path=dest_folder)\n",
    "\n",
    "\n",
    "def process_subdir(subdir_path):\n",
    "    files = os.listdir(subdir_path)\n",
    "    pdf_files = {f for f in files if f.endswith('.pdf')}\n",
    "    for pdf in pdf_files:\n",
    "        base_name = pdf[:-4]\n",
    "        gz_name = f'arXiv-{base_name}.gz'\n",
    "        tar_gz_name = f'arXiv-{base_name}.tar.gz'\n",
    "        gz_file = None\n",
    "        if tar_gz_name in files:\n",
    "            gz_file = tar_gz_name\n",
    "        elif gz_name in files:\n",
    "            gz_file = gz_name\n",
    "        if gz_file:\n",
    "            new_dir = os.path.join(subdir_path, base_name)\n",
    "            os.makedirs(new_dir, exist_ok=True)\n",
    "            shutil.move(os.path.join(subdir_path, pdf), new_dir)\n",
    "            shutil.move(os.path.join(subdir_path, gz_file), new_dir)\n",
    "            new_gz_path = os.path.join(new_dir, gz_file)\n",
    "            if gz_file.endswith('.tar.gz'):\n",
    "                extract_tar_gz(new_gz_path, new_dir)\n",
    "            else:\n",
    "                extract_gz(new_gz_path, new_dir)\n",
    "\n",
    "\n",
    "def extract_all():\n",
    "    for subdir in os.listdir(ARTICLES_PATH):\n",
    "        subdir_path = os.path.join(ARTICLES_PATH, subdir)\n",
    "        if os.path.isdir(subdir_path):\n",
    "            process_subdir(subdir_path)\n",
    "\n",
    "\n",
    "extract_all()"
   ]
  },
  {
   "cell_type": "code",
   "execution_count": 9,
   "metadata": {},
   "outputs": [],
   "source": [
    "def clean():\n",
    "    for root, dirs, files in os.walk(ARTICLES_PATH):\n",
    "        for file in files:\n",
    "            if file.endswith('.gz'):\n",
    "                os.remove(os.path.join(root, file))\n",
    "\n",
    "\n",
    "clean()"
   ]
  },
  {
   "cell_type": "markdown",
   "metadata": {},
   "source": [
    "### Load"
   ]
  },
  {
   "cell_type": "code",
   "execution_count": null,
   "metadata": {},
   "outputs": [],
   "source": [
    "folder_name = 'articles'\n",
    "name = 'articles_v1.zip'  # NOTE\n",
    "\n",
    "file_id = google_file_repository.get_file_id(name, folder_name)\n",
    "assert file_id is not None\n",
    "\n",
    "file_bytes = google_file_repository.get_file_by_id(file_id)"
   ]
  },
  {
   "cell_type": "code",
   "execution_count": 15,
   "metadata": {},
   "outputs": [],
   "source": [
    "with ZipFile(file_bytes, 'r') as zip_file:\n",
    "    files = {\n",
    "        name: zip_file.read(name)\n",
    "        for name in zip_file.namelist()\n",
    "        if not name.endswith('/')\n",
    "    }"
   ]
  },
  {
   "cell_type": "code",
   "execution_count": 16,
   "metadata": {},
   "outputs": [],
   "source": [
    "from math_rag.core.models import MathArticle\n",
    "\n",
    "\n",
    "math_articles = [MathArticle(name=name, bytes=bytes) for name, bytes in files.items()]\n",
    "math_article_repository.insert_math_articles(math_articles)"
   ]
  },
  {
   "cell_type": "code",
   "execution_count": null,
   "metadata": {},
   "outputs": [
    {
     "name": "stdout",
     "output_type": "stream",
     "text": [
      "articles_v1/ac/2502.13273v1/2502.13273v1.pdf\n",
      "articles_v1/ac/2502.13273v1/AlgClos14.tex\n",
      "articles_v1/ac/2502.13276v1/2502.13276v1.pdf\n",
      "articles_v1/ac/2502.13276v1/Main.tex\n",
      "articles_v1/ac/2502.13806v1/2502.13806v1.pdf\n",
      "articles_v1/ac/2502.13806v1/arXiv.bbl\n",
      "articles_v1/ac/2502.13806v1/arXiv.tex\n",
      "articles_v1/ac/2502.13903v1/2502.13903v1.pdf\n",
      "articles_v1/ac/2502.13903v1/dpsl2_20250219.tex\n",
      "articles_v1/ag/2502.13800v1/2502.13800v1.pdf\n",
      "articles_v1/ag/2502.13800v1/neron.tex\n",
      "articles_v1/ag/2502.13815v1/2502.13815v1.pdf\n",
      "articles_v1/ag/2502.13815v1/Z3-v3.tex\n",
      "articles_v1/ag/2502.13882v1/2502.13882v1.pdf\n",
      "articles_v1/ag/2502.13882v1/main.tex\n",
      "articles_v1/ag/2502.13892v1/2502.13892v1.pdf\n",
      "articles_v1/ag/2502.13892v1/_commands.tex\n",
      "articles_v1/ag/2502.13892v1/_preamble.tex\n",
      "articles_v1/ag/2502.13892v1/abstract.tex\n",
      "articles_v1/ag/2502.13892v1/appl.tex\n",
      "articles_v1/ag/2502.13892v1/cl.tex\n",
      "articles_v1/ag/2502.13892v1/faces.tex\n",
      "articles_v1/ag/2502.13892v1/filt.tex\n",
      "articles_v1/ag/2502.13892v1/intro.tex\n",
      "articles_v1/ag/2502.13892v1/lat.tex\n",
      "articles_v1/ag/2502.13892v1/main.bbl\n",
      "articles_v1/ag/2502.13892v1/main.bib\n",
      "articles_v1/ag/2502.13892v1/main.tex\n",
      "articles_v1/ag/2502.13892v1/res.tex\n",
      "articles_v1/ap/2502.13687v1/2502.13687v1.pdf\n",
      "articles_v1/ap/2502.13687v1/preprint.bbl\n",
      "articles_v1/ap/2502.13687v1/preprint.tex\n",
      "articles_v1/ap/2502.13771v1/2502.13771v1.pdf\n",
      "articles_v1/ap/2502.13771v1/DAOUD_paper_RDS-Spectral.tex\n",
      "articles_v1/ap/2502.13771v1/ufin.png\n",
      "articles_v1/ap/2502.13771v1/vfin.png\n",
      "articles_v1/ap/2502.13799v1/2502.13799v1.pdf\n",
      "articles_v1/ap/2502.13799v1/GKS.bbl\n",
      "articles_v1/ap/2502.13799v1/GKS.tex\n",
      "articles_v1/ap/2502.13906v1/2502.13906v1.pdf\n",
      "articles_v1/ap/2502.13906v1/ellipse.eps\n",
      "articles_v1/ap/2502.13906v1/main.bbl\n",
      "articles_v1/ap/2502.13906v1/main.tex\n",
      "articles_v1/ap/2502.13906v1/ref.bib\n",
      "articles_v1/ap/2502.13906v1/singlespiked2small.eps\n",
      "articles_v1/ap/2502.13906v1/singlespiked2smallu2.eps\n",
      "articles_v1/ap/2502.13906v1/singlespiked2smallv1.eps\n",
      "articles_v1/ap/2502.13906v1/singlespiked2smallv2.eps\n",
      "articles_v1/ap/2502.13906v1/singlespikeu1.eps\n",
      "articles_v1/ap/2502.13906v1/singlespikeu2.eps\n",
      "articles_v1/ap/2502.13906v1/singlespikev1.eps\n",
      "articles_v1/ap/2502.13906v1/singlespikev2.eps\n",
      "articles_v1/ap/2502.13906v1/spikeu1repulsive.eps\n",
      "articles_v1/ap/2502.13906v1/spikeu2repulsive.eps\n",
      "articles_v1/ap/2502.13906v1/spikev1repulsive.eps\n",
      "articles_v1/ap/2502.13906v1/spikev2repulsive.eps\n",
      "articles_v1/at/2502.12228v1/2502.12228v1.pdf\n",
      "articles_v1/at/2502.12228v1/main.bbl\n",
      "articles_v1/at/2502.12228v1/main.bib\n",
      "articles_v1/at/2502.12228v1/main.tex\n",
      "articles_v1/at/2502.12547v1/2502.12547v1.pdf\n",
      "articles_v1/at/2502.12547v1/3looppresentation.pdf\n",
      "articles_v1/at/2502.12547v1/3looppresentation2.pdf\n",
      "articles_v1/at/2502.12547v1/D1D2D3D4.pdf\n",
      "articles_v1/at/2502.12547v1/additionalfamily.pdf\n",
      "articles_v1/at/2502.12547v1/crosschangedpresentation.pdf\n",
      "articles_v1/at/2502.12547v1/crosschangedpresentation2.pdf\n",
      "articles_v1/at/2502.12547v1/crosschangemove.pdf\n",
      "articles_v1/at/2502.12547v1/cycles.tex\n",
      "articles_v1/at/2502.12547v1/decoratedgraph.pdf\n",
      "articles_v1/at/2502.12547v1/diagram.pdf\n",
      "articles_v1/at/2502.12547v1/diagram2.pdf\n",
      "articles_v1/at/2502.12547v1/diagram3.pdf\n",
      "articles_v1/at/2502.12547v1/equivalenttotrivial.pdf\n",
      "articles_v1/at/2502.12547v1/hairygraphpqr.pdf\n",
      "articles_v1/at/2502.12547v1/moves.png\n",
      "articles_v1/at/2502.12547v1/pairing.pdf\n",
      "articles_v1/at/2502.12547v1/plaingraph.pdf\n",
      "articles_v1/at/2502.12547v1/presentation.pdf\n",
      "articles_v1/at/2502.13050v1/2502.13050v1.pdf\n",
      "articles_v1/at/2502.13050v1/OH.tex\n",
      "articles_v1/at/2502.13882v1/2502.13882v1.pdf\n",
      "articles_v1/at/2502.13882v1/main.tex\n",
      "articles_v1/ca/2502.13231v1/2502.13231v1.pdf\n",
      "articles_v1/ca/2502.13231v1/Gaceta_Final_2025_02_18.tex\n",
      "articles_v1/ca/2502.13231v1/bonami-bruna.jpg\n",
      "articles_v1/ca/2502.13231v1/bonami2021.jpg\n",
      "articles_v1/ca/2502.13275v1/2502.13275v1.pdf\n",
      "articles_v1/ca/2502.13275v1/LocalSmoothing_ArXiv.tex\n",
      "articles_v1/ca/2502.13786v1/2502.13786v1.pdf\n",
      "articles_v1/ca/2502.13786v1/IosevichJamingMayeli29259218.tex\n",
      "articles_v1/ca/2502.13798v1/2502.13798v1.pdf\n",
      "articles_v1/ca/2502.13798v1/Main_equivalence.bbl\n",
      "articles_v1/ca/2502.13798v1/Main_equivalence.tex\n",
      "articles_v1/co/2502.13596v1/2502.13596v1.pdf\n",
      "articles_v1/co/2502.13596v1/macros.sty\n",
      "articles_v1/co/2502.13596v1/main.tex\n",
      "articles_v1/co/2502.13673v1/2502.13673v1.pdf\n",
      "articles_v1/co/2502.13673v1/pseudo_cheb.tex\n",
      "articles_v1/co/2502.13876v1/2502.13876v1.pdf\n",
      "articles_v1/co/2502.13876v1/NewMain.tex\n",
      "articles_v1/co/2502.13939v1/2502.13939v1.pdf\n",
      "articles_v1/co/2502.13939v1/article.bbl\n",
      "articles_v1/co/2502.13939v1/article.tex\n",
      "articles_v1/co/2502.13939v1/bibliography.bib\n",
      "articles_v1/co/2502.13939v1/bounds_plot.png\n",
      "articles_v1/ct/2502.12439v1/2502.12439v1.pdf\n",
      "articles_v1/ct/2502.12439v1/Estrada_Mendoza_Perez-Relative_Gorenstein_categories.bbl\n",
      "articles_v1/ct/2502.12439v1/Estrada_Mendoza_Perez-Relative_Gorenstein_categories.tex\n",
      "articles_v1/ct/2502.12695v1/2502.12695v1.pdf\n",
      "articles_v1/ct/2502.12695v1/Extensive_morphisms.tex\n",
      "articles_v1/ct/2502.12695v1/References.bib\n",
      "articles_v1/ct/2502.13033v1/2502.13033v1.pdf\n",
      "articles_v1/ct/2502.13033v1/L-zig-zag-a.pdf\n",
      "articles_v1/ct/2502.13033v1/L-zig-zag-b.pdf\n",
      "articles_v1/ct/2502.13033v1/R-zig-zag-a.pdf\n",
      "articles_v1/ct/2502.13033v1/R-zig-zag-b.pdf\n",
      "articles_v1/ct/2502.13033v1/RLA-LRB-fL.pdf\n",
      "articles_v1/ct/2502.13033v1/RLA-LRB-fR.pdf\n",
      "articles_v1/ct/2502.13033v1/article.bbl\n",
      "articles_v1/ct/2502.13033v1/article.brf\n",
      "articles_v1/ct/2502.13033v1/article.tex\n",
      "articles_v1/ct/2502.13033v1/bikleisli-g-circ-f.pdf\n",
      "articles_v1/ct/2502.13033v1/bikleisli-h-bullet-g.pdf\n",
      "articles_v1/ct/2502.13033v1/h-gf-indirect-style.pdf\n",
      "articles_v1/ct/2502.13033v1/hg-f-indirect-style.pdf\n",
      "articles_v1/ct/2502.13033v1/kleisli-after.pdf\n",
      "articles_v1/ct/2502.13033v1/kleisli-before.pdf\n",
      "articles_v1/ct/2502.13033v1/kleisli-bullet-after.pdf\n",
      "articles_v1/ct/2502.13033v1/kleisli-g-circ-f-before.pdf\n",
      "articles_v1/ct/2502.13033v1/lambda-A.pdf\n",
      "articles_v1/ct/2502.13033v1/lambda-B.pdf\n",
      "articles_v1/ct/2502.13033v1/transverse-map-L.pdf\n",
      "articles_v1/ct/2502.13033v1/transverse-map-R.pdf\n",
      "articles_v1/ct/2502.13033v1/transverse-map-med.pdf\n",
      "articles_v1/ct/2502.13810v1/2502.13810v1.pdf\n",
      "articles_v1/ct/2502.13810v1/algorithm.sty\n",
      "articles_v1/ct/2502.13810v1/algorithmic.sty\n",
      "articles_v1/ct/2502.13810v1/fancyhdr.sty\n",
      "articles_v1/ct/2502.13810v1/icml2025.bst\n",
      "articles_v1/ct/2502.13810v1/icml2025.sty\n",
      "articles_v1/ct/2502.13810v1/main.tex\n",
      "articles_v1/ct/2502.13810v1/quiver.sty\n",
      "articles_v1/ct/2502.13810v1/references.bib\n",
      "articles_v1/ct/2502.13810v1/sections/appendix.tex\n",
      "articles_v1/ct/2502.13810v1/sections/background.tex\n",
      "articles_v1/ct/2502.13810v1/sections/conclusion.tex\n",
      "articles_v1/ct/2502.13810v1/sections/error.tex\n",
      "articles_v1/ct/2502.13810v1/sections/introduction.tex\n",
      "articles_v1/ct/2502.13810v1/sections/loss.tex\n",
      "articles_v1/ct/2502.13810v1/sections/universal.tex\n",
      "articles_v1/cv/2502.12500v1/2502.12500v1.pdf\n",
      "articles_v1/cv/2502.12500v1/OT.bib\n",
      "articles_v1/cv/2502.12500v1/abst.tex\n",
      "articles_v1/cv/2502.12500v1/article.tex\n",
      "articles_v1/cv/2502.12500v1/figure1.tex\n",
      "articles_v1/cv/2502.12500v1/main.bbl\n",
      "articles_v1/cv/2502.12500v1/main.tex\n",
      "articles_v1/cv/2502.13282v1/2502.13282v1.pdf\n",
      "articles_v1/cv/2502.13282v1/PhragmenLindelof.bbl\n",
      "articles_v1/cv/2502.13282v1/PhragmenLindelof.tex\n",
      "articles_v1/cv/2502.13384v1/2502.13384v1.pdf\n",
      "articles_v1/cv/2502.13384v1/external/combinedzpPDF.png\n",
      "articles_v1/cv/2502.13384v1/external/densityspecialcircle.png\n",
      "articles_v1/cv/2502.13384v1/external/excisedplot20.png\n",
      "articles_v1/cv/2502.13384v1/external/excisedplot40.png\n",
      "articles_v1/cv/2502.13384v1/external/jiggledzeros.png\n",
      "articles_v1/cv/2502.13384v1/external/jiggledzeros2.png\n",
      "articles_v1/cv/2502.13384v1/external/scatterspecialcircle.png\n",
      "articles_v1/cv/2502.13384v1/external/specialhistogram.png\n",
      "articles_v1/cv/2502.13384v1/external/u20zpPDF.png\n",
      "articles_v1/cv/2502.13384v1/external/u40zpPDF.png\n",
      "articles_v1/cv/2502.13384v1/external/zerosinspecialcircles.png\n",
      "articles_v1/cv/2502.13384v1/main.tex\n",
      "articles_v1/cv/2502.13903v1/2502.13903v1.pdf\n",
      "articles_v1/cv/2502.13903v1/dpsl2_20250219.tex\n",
      "articles_v1/dg/2502.13748v1/2502.13748v1.pdf\n",
      "articles_v1/dg/2502.13748v1/Footballs_into_Euclidean.tex\n",
      "articles_v1/dg/2502.13748v1/football_1.png\n",
      "articles_v1/dg/2502.13748v1/football_2.png\n",
      "articles_v1/dg/2502.13748v1/football_3.png\n",
      "articles_v1/dg/2502.13748v1/football_4.png\n",
      "articles_v1/dg/2502.13748v1/football_5.png\n",
      "articles_v1/dg/2502.13795v1/2502.13795v1.pdf\n",
      "articles_v1/dg/2502.13795v1/figures/Ends-3D.pdf\n",
      "articles_v1/dg/2502.13795v1/figures/Ends2D-CC.pdf\n",
      "articles_v1/dg/2502.13795v1/figures/Ends2D-RelCC.pdf\n",
      "articles_v1/dg/2502.13795v1/figures/surgery.pdf\n",
      "articles_v1/dg/2502.13795v1/main.bbl\n",
      "articles_v1/dg/2502.13795v1/main.tex\n",
      "articles_v1/dg/2502.13795v1/references.bib\n",
      "articles_v1/dg/2502.13860v1/2502.13860v1.pdf\n",
      "articles_v1/dg/2502.13860v1/Gud-Lin-1.tex\n",
      "articles_v1/dg/2502.13904v1/2502.13904v1.pdf\n",
      "articles_v1/dg/2502.13904v1/IsometriesNOH_v9.bbl\n",
      "articles_v1/dg/2502.13904v1/IsometriesNOH_v9.tex\n",
      "articles_v1/dg/2502.13904v1/cone.pdf\n",
      "articles_v1/dg/2502.13904v1/proof.pdf\n",
      "articles_v1/dg/2502.13904v1/refs.bib\n",
      "articles_v1/dg/2502.13904v1/spacelike.pdf\n",
      "articles_v1/dg/2502.13904v1/tori.pdf\n",
      "articles_v1/ds/2502.13051v1/2502.13051v1.pdf\n",
      "articles_v1/ds/2502.13051v1/HausdorffdimpolymixV3.bbl\n",
      "articles_v1/ds/2502.13051v1/HausdorffdimpolymixV3.tex\n",
      "articles_v1/ds/2502.13529v1/2502.13529v1.pdf\n",
      "articles_v1/ds/2502.13529v1/article_HAL.bbl\n",
      "articles_v1/ds/2502.13529v1/article_HAL.tex\n",
      "articles_v1/ds/2502.13625v1/2502.13625v1.pdf\n",
      "articles_v1/ds/2502.13625v1/automatic_continuity.bbl\n",
      "articles_v1/ds/2502.13625v1/automatic_continuity.tex\n",
      "articles_v1/ds/2502.13750v1/2502.13750v1.pdf\n",
      "articles_v1/ds/2502.13750v1/FRobert.tex\n",
      "articles_v1/ds/2502.13750v1/asynchrone_robert_pasevident.png\n",
      "articles_v1/ds/2502.13750v1/synchrone_robert_pasevident.png\n",
      "articles_v1/fa/2502.13587v1/2502.13587v1.pdf\n",
      "articles_v1/fa/2502.13587v1/main.bbl\n",
      "articles_v1/fa/2502.13587v1/main.tex\n",
      "articles_v1/fa/2502.13625v1/2502.13625v1.pdf\n",
      "articles_v1/fa/2502.13625v1/automatic_continuity.bbl\n",
      "articles_v1/fa/2502.13625v1/automatic_continuity.tex\n",
      "articles_v1/fa/2502.13798v1/2502.13798v1.pdf\n",
      "articles_v1/fa/2502.13798v1/Main_equivalence.bbl\n",
      "articles_v1/fa/2502.13798v1/Main_equivalence.tex\n",
      "articles_v1/fa/2502.13848v1/2502.13848v1.pdf\n",
      "articles_v1/fa/2502.13848v1/BMO-RFH-GHZ-25-2-19.tex\n",
      "articles_v1/gm/2502.00948v2/2502.00948v2.pdf\n",
      "articles_v1/gm/2502.00948v2/Paradox.tex\n",
      "articles_v1/gm/2502.00948v2/three_posets.pdf\n",
      "articles_v1/gm/2502.02604v1/2502.02604v1.pdf\n",
      "articles_v1/gm/2502.02604v1/elliptic_scripta.tex\n",
      "articles_v1/gm/2502.03474v1/2502.03474v1.pdf\n",
      "articles_v1/gm/2502.03474v1/Arxiv_Manuscript_Flint_Hills_with_elliptic_curves_Nikos.tex\n",
      "articles_v1/gm/2502.03474v1/Riemann_Stiel_Flint_Hills_Integralfigure.png\n",
      "articles_v1/gm/2502.03474v1/figure.png\n",
      "articles_v1/gm/2502.05154v1/2502.05154v1.pdf\n",
      "articles_v1/gm/2502.05154v1/NON_HEISENBERG.bbl\n",
      "articles_v1/gm/2502.05154v1/NON_HEISENBERG.tex\n",
      "articles_v1/gn/2502.00570v1/2502.00570v1.pdf\n",
      "articles_v1/gn/2502.00570v1/RigidKorovinOrbit2.tex\n",
      "articles_v1/gn/2502.01260v1/2502.01260v1.pdf\n",
      "articles_v1/gn/2502.01260v1/Ultrametric_spaces_generated_by_labeled_star_graphs.tex\n",
      "articles_v1/gn/2502.01935v1/2502.01935v1.pdf\n",
      "articles_v1/gn/2502.01935v1/dcontinua.tex\n",
      "articles_v1/gn/2502.02595v1/2502.02595v1.pdf\n",
      "articles_v1/gn/2502.02595v1/Ciric-Reich-Rus_mappings.tex\n",
      "articles_v1/gn/2502.02595v1/sn-jnl.cls\n",
      "articles_v1/gr/2502.00417v1/2502.00417v1.pdf\n",
      "articles_v1/gr/2502.00417v1/Word_maps_and_random_words.bbl\n",
      "articles_v1/gr/2502.00417v1/Word_maps_and_random_words.tex\n",
      "articles_v1/gr/2502.00777v1/2502.00777v1.pdf\n",
      "articles_v1/gr/2502.00777v1/Involution-prefixes.tex\n",
      "articles_v1/gr/2502.00810v1/2502.00810v1.pdf\n",
      "articles_v1/gr/2502.00810v1/subalgebras_of_sl3R.tex\n",
      "articles_v1/gr/2502.01138v1/2502.01138v1.pdf\n",
      "articles_v1/gr/2502.01138v1/Char-Final.tex\n",
      "articles_v1/gr/2502.01138v1/graphics/action.pdf\n",
      "articles_v1/gr/2502.01138v1/graphics/center-story.pdf\n",
      "articles_v1/gr/2502.01138v1/graphics/center.pdf\n",
      "articles_v1/gr/2502.01138v1/graphics/commutator.pdf\n",
      "articles_v1/gr/2502.01138v1/graphics/counital.pdf\n",
      "articles_v1/gr/2502.01138v1/graphics/verbal.pdf\n",
      "articles_v1/gt/2502.00256v1/2502.00256v1.pdf\n",
      "articles_v1/gt/2502.00256v1/adapted_30jan2025.tex\n",
      "articles_v1/gt/2502.00422v1/2502.00422v1.pdf\n",
      "articles_v1/gt/2502.00422v1/decomposition.full.tex\n",
      "articles_v1/gt/2502.00422v1/figures/Dprimeprime.png\n",
      "articles_v1/gt/2502.00422v1/figures/Gamma_g.png\n",
      "articles_v1/gt/2502.00422v1/figures/P_cuts_surface.png\n",
      "articles_v1/gt/2502.00422v1/figures/Vmn.png\n",
      "articles_v1/gt/2502.00422v1/figures/alpha_beta_in_P.png\n",
      "articles_v1/gt/2502.00422v1/figures/alpha_beta_in_Q.png\n",
      "articles_v1/gt/2502.00422v1/figures/bigon.png\n",
      "articles_v1/gt/2502.00422v1/figures/fourone_decomposition_1.png\n",
      "articles_v1/gt/2502.00422v1/figures/fourone_decomposition_2.png\n",
      "articles_v1/gt/2502.00422v1/figures/geodesics_X.png\n",
      "articles_v1/gt/2502.00422v1/figures/geodesics_Y.png\n",
      "articles_v1/gt/2502.00422v1/figures/hyp_n.png\n",
      "articles_v1/gt/2502.00422v1/figures/hyp_zero.png\n",
      "articles_v1/gt/2502.00422v1/figures/induced_sg_link.png\n",
      "articles_v1/gt/2502.00422v1/figures/inducedhk.png\n",
      "articles_v1/gt/2502.00422v1/figures/inducedsg_Vmn.png\n",
      "articles_v1/gt/2502.00422v1/figures/orien_rev_end.png\n",
      "articles_v1/gt/2502.00422v1/figures/orien_rev_not_end.png\n",
      "articles_v1/gt/2502.00422v1/figures/pattern.png\n",
      "articles_v1/gt/2502.00422v1/figures/punctured_sphere_meet_all.png\n",
      "articles_v1/gt/2502.00422v1/figures/punctured_surface_end.png\n",
      "articles_v1/gt/2502.00422v1/figures/signs_ii.png\n",
      "articles_v1/gt/2502.00422v1/figures/sixten.png\n",
      "articles_v1/gt/2502.00422v1/figures/trivial_n_decomposition.png\n",
      "articles_v1/gt/2502.00422v1/figures/wheel.png\n",
      "articles_v1/gt/2502.00422v1/figures/wheelX.png\n",
      "articles_v1/gt/2502.00422v1/figures/wheelY.png\n",
      "articles_v1/gt/2502.00422v1/figures/wheelfive.png\n",
      "articles_v1/gt/2502.00912v1/2502.00912v1.pdf\n",
      "articles_v1/gt/2502.00912v1/fig/ArrowDiagramInA2.pdf\n",
      "articles_v1/gt/2502.00912v1/fig/ArrowDiagramsOnA2.pdf\n",
      "articles_v1/gt/2502.00912v1/fig/ArrowMovesOnF.pdf\n",
      "articles_v1/gt/2502.00912v1/fig/CurveTnAndRelationWithLambdaNew.pdf\n",
      "articles_v1/gt/2502.00912v1/fig/DiskWithMarkedPoint.pdf\n",
      "articles_v1/gt/2502.00912v1/fig/GeneratorsForKBSMofA2timesS1.pdf\n",
      "articles_v1/gt/2502.00912v1/fig/HandleSlidingSbeta5New.pdf\n",
      "articles_v1/gt/2502.00912v1/fig/LambdaCurvesOnD2.pdf\n",
      "articles_v1/gt/2502.00912v1/fig/Omega2and5ForBracketC.pdf\n",
      "articles_v1/gt/2502.00912v1/fig/Omega5FifthCaseOnAnnulusNew.pdf\n",
      "articles_v1/gt/2502.00912v1/fig/Omega5ForthCaseOnAnnulusNew.pdf\n",
      "articles_v1/gt/2502.00912v1/fig/Omega5MoveForFirstTwoOnAnnulusKauffmanStates_1.pdf\n",
      "articles_v1/gt/2502.00912v1/fig/Omega5MoveForFirstTwoOnAnnulusKauffmanStates_2.pdf\n",
      "articles_v1/gt/2502.00912v1/fig/Omega5MoveForFirstTwoOnAnnulusNew.pdf\n",
      "articles_v1/gt/2502.00912v1/fig/Omega5MoveRemainingThreeForAnnulusKauffmanStates_1.pdf\n",
      "articles_v1/gt/2502.00912v1/fig/Omega5MoveRemainingThreeForAnnulusKauffmanStates_2.pdf\n",
      "articles_v1/gt/2502.00912v1/fig/Omega5MoveRemainingThreeForAnnulusKauffmanStates_3.pdf\n",
      "articles_v1/gt/2502.00912v1/fig/Omega5MoveV2Beta.pdf\n",
      "articles_v1/gt/2502.00912v1/fig/Omega5MoveV2BetaV1.pdf\n",
      "articles_v1/gt/2502.00912v1/fig/Omega5MoveV2BetaV2.pdf\n",
      "articles_v1/gt/2502.00912v1/fig/Omega5ThirdCaseOnAnnulusNew.pdf\n",
      "articles_v1/gt/2502.00912v1/fig/RecursionForPnkInDisk.pdf\n",
      "articles_v1/gt/2502.00912v1/fig/ReducedArrowDiagramForTrefoil_OnA2.pdf\n",
      "articles_v1/gt/2502.00912v1/fig/RelationTnkInDisk.pdf\n",
      "articles_v1/gt/2502.00912v1/fig/Relation_xn_New.pdf\n",
      "articles_v1/gt/2502.00912v1/fig/SBetaMoveOnXCase1.pdf\n",
      "articles_v1/gt/2502.00912v1/fig/SBetaMoveOnXCase3.pdf\n",
      "articles_v1/gt/2502.00912v1/fig/SBetaMoveOnXCases_proof_New.pdf\n",
      "articles_v1/gt/2502.00912v1/fig/SBetaMoveOnXNew.pdf\n",
      "articles_v1/gt/2502.00912v1/fig/SBetaMoveOnXTypeI.pdf\n",
      "articles_v1/gt/2502.00912v1/fig/SBetaMoveOnhatD2.pdf\n",
      "articles_v1/gt/2502.00912v1/fig/SkeinRelationNew.pdf\n",
      "articles_v1/gt/2502.00912v1/fig/SkeinTripleForDiagrams.pdf\n",
      "articles_v1/gt/2502.00912v1/fig/Trefoil_OnA2_marker.pdf\n",
      "articles_v1/gt/2502.00912v1/fig/XnXntokCurvesOnAnnulus.pdf\n",
      "articles_v1/gt/2502.00912v1/fig/handleSliding_nu_proof.pdf\n",
      "articles_v1/gt/2502.00912v1/fig/markers.pdf\n",
      "articles_v1/gt/2502.00912v1/main.bbl\n",
      "articles_v1/gt/2502.00912v1/main.tex\n",
      "articles_v1/gt/2502.01134v1/2502.01134v1.pdf\n",
      "articles_v1/gt/2502.01134v1/Introduction.tex\n",
      "articles_v1/gt/2502.01134v1/Log.tex\n",
      "articles_v1/gt/2502.01134v1/M_3filling.png\n",
      "articles_v1/gt/2502.01134v1/M_4filling.png\n",
      "articles_v1/gt/2502.01134v1/M_5filling.png\n",
      "articles_v1/gt/2502.01134v1/Main.bbl\n",
      "articles_v1/gt/2502.01134v1/Main.tex\n",
      "articles_v1/gt/2502.01134v1/Other.tex\n",
      "articles_v1/gt/2502.01134v1/Preliminaries.tex\n",
      "articles_v1/gt/2502.01134v1/Reference.bib\n",
      "articles_v1/gt/2502.01134v1/Surfaces.tex\n",
      "articles_v1/gt/2502.01134v1/filling-nbhd.png\n",
      "articles_v1/gt/2502.01134v1/fillingHyperbolicS1.png\n",
      "articles_v1/gt/2502.01134v1/flat.png\n",
      "articles_v1/gt/2502.01134v1/gamma.jpg\n",
      "articles_v1/gt/2502.01134v1/lambda.jpg\n",
      "articles_v1/gt/2502.01134v1/non-essential.png\n",
      "articles_v1/gt/2502.01134v1/non-intersection-minimizing.png\n",
      "articles_v1/gt/2502.01134v1/style.tex\n",
      "articles_v1/ho/2502.04731v1/2502.04731v1.pdf\n",
      "articles_v1/ho/2502.04731v1/main.tex\n",
      "articles_v1/ho/2502.06790v1/2502.06790v1.pdf\n",
      "articles_v1/ho/2502.06790v1/domino20250124.tex\n",
      "articles_v1/ho/2502.08620v1/2502.08620v1.pdf\n",
      "articles_v1/ho/2502.08620v1/Pictures/ICERM.png\n",
      "articles_v1/ho/2502.08620v1/Pictures/Nina.png\n",
      "articles_v1/ho/2502.08620v1/Pictures/PCA2d_10000,_40000_.png\n",
      "articles_v1/ho/2502.08620v1/Pictures/PCA2d_7500,_10000_.png\n",
      "articles_v1/ho/2502.08620v1/Pictures/Quanta.png\n",
      "articles_v1/ho/2502.08620v1/Pictures/Sarnak.png\n",
      "articles_v1/ho/2502.08620v1/Pictures/Simons.png\n",
      "articles_v1/ho/2502.08620v1/Pictures/Starling_murmuration.jpg\n",
      "articles_v1/ho/2502.08620v1/Pictures/apPlot_7500,_10000_.png\n",
      "articles_v1/ho/2502.08620v1/Pictures/blue-min-hist-12.png\n",
      "articles_v1/ho/2502.08620v1/Pictures/blue-min-hist-13.png\n",
      "articles_v1/ho/2502.08620v1/Pictures/combina-1.png\n",
      "articles_v1/ho/2502.08620v1/Pictures/drew.png\n",
      "articles_v1/ho/2502.08620v1/Pictures/g1_all_13.png\n",
      "articles_v1/ho/2502.08620v1/Pictures/g1_all_14.png\n",
      "articles_v1/ho/2502.08620v1/Pictures/g1_all_15.png\n",
      "articles_v1/ho/2502.08620v1/Pictures/g1_all_16.png\n",
      "articles_v1/ho/2502.08620v1/Pictures/g1_all_17.png\n",
      "articles_v1/ho/2502.08620v1/Pictures/hist-bf-15.png\n",
      "articles_v1/ho/2502.08620v1/Pictures/hist-bf-16.png\n",
      "articles_v1/ho/2502.08620v1/Pictures/hist-rf-15.png\n",
      "articles_v1/ho/2502.08620v1/Pictures/hist-rf-16.png\n",
      "articles_v1/ho/2502.08620v1/Pictures/mum-Dir.png\n",
      "articles_v1/ho/2502.08620v1/Pictures/mum-Maass.png\n",
      "articles_v1/ho/2502.08620v1/Pictures/mum-Martin.png\n",
      "articles_v1/ho/2502.08620v1/Pictures/mum-ST.png\n",
      "articles_v1/ho/2502.08620v1/Pictures/mum-Wang.png\n",
      "articles_v1/ho/2502.08620v1/Pictures/mum-exp.png\n",
      "articles_v1/ho/2502.08620v1/Pictures/mum-ratio.png\n",
      "articles_v1/ho/2502.08620v1/Pictures/mum-wt.png\n",
      "articles_v1/ho/2502.08620v1/Pictures/mur-weights.png\n",
      "articles_v1/ho/2502.08620v1/Pictures/r0r2apPlot_5000,_10000_.png\n",
      "articles_v1/ho/2502.08620v1/Pictures/red-min-hist-12.png\n",
      "articles_v1/ho/2502.08620v1/Pictures/red-min-hist-13.png\n",
      "articles_v1/ho/2502.08620v1/bibfile.bib\n",
      "articles_v1/ho/2502.08620v1/main.bbl\n",
      "articles_v1/ho/2502.08620v1/main.out\n",
      "articles_v1/ho/2502.08620v1/main.tex\n",
      "articles_v1/ho/2502.08656v1/2502.08656v1.pdf\n",
      "articles_v1/ho/2502.08656v1/main.tex\n",
      "articles_v1/it/2502.00139v1/2502.00139v1.pdf\n",
      "articles_v1/it/2502.00139v1/AlAmmouri.bib\n",
      "articles_v1/it/2502.00139v1/FinalFigs/DelayRainbow.eps\n",
      "articles_v1/it/2502.00139v1/FinalFigs/DelayRainbow.pdf\n",
      "articles_v1/it/2502.00139v1/FinalFigs/DelaysJPTA.eps\n",
      "articles_v1/it/2502.00139v1/FinalFigs/DelaysJPTA.pdf\n",
      "articles_v1/it/2502.00139v1/FinalFigs/Demo_JPTA_off.png\n",
      "articles_v1/it/2502.00139v1/FinalFigs/Demo_JPTA_on.png\n",
      "articles_v1/it/2502.00139v1/FinalFigs/Demo_setup.png\n",
      "articles_v1/it/2502.00139v1/FinalFigs/JPTABeam2.eps\n",
      "articles_v1/it/2502.00139v1/FinalFigs/JPTABeam2.pdf\n",
      "articles_v1/it/2502.00139v1/FinalFigs/JPTABeam4.eps\n",
      "articles_v1/it/2502.00139v1/FinalFigs/JPTABeam4.pdf\n",
      "articles_v1/it/2502.00139v1/FinalFigs/JPTABeams16.eps\n",
      "articles_v1/it/2502.00139v1/FinalFigs/JPTABeams16.pdf\n",
      "articles_v1/it/2502.00139v1/FinalFigs/JPTABeams8.eps\n",
      "articles_v1/it/2502.00139v1/FinalFigs/JPTABeams8.pdf\n",
      "articles_v1/it/2502.00139v1/FinalFigs/JPTA_arch_color.png\n",
      "articles_v1/it/2502.00139v1/FinalFigs/MeanThroughput.eps\n",
      "articles_v1/it/2502.00139v1/FinalFigs/MeanThroughput.pdf\n",
      "articles_v1/it/2502.00139v1/FinalFigs/NetworkLayout2.eps\n",
      "articles_v1/it/2502.00139v1/FinalFigs/NetworkLayout2.pdf\n",
      "articles_v1/it/2502.00139v1/FinalFigs/Type1_JPTA.png\n",
      "articles_v1/it/2502.00139v1/FinalFigs/Type2_JPTA.png\n",
      "articles_v1/it/2502.00139v1/IEEEtran.cls\n",
      "articles_v1/it/2502.00139v1/TTDRef.bib\n",
      "articles_v1/it/2502.00139v1/Vishnu.bib\n",
      "articles_v1/it/2502.00139v1/acronyms.tex\n",
      "articles_v1/it/2502.00139v1/ieeeaccess.cls\n",
      "articles_v1/it/2502.00139v1/input.bbl\n",
      "articles_v1/it/2502.00139v1/input.tex\n",
      "articles_v1/it/2502.00139v1/macros.tex\n",
      "articles_v1/it/2502.00208v1/2502.00208v1.pdf\n",
      "articles_v1/it/2502.00208v1/TKDE-2013-08-0563-manuscript.FINAL.tex\n",
      "articles_v1/it/2502.00208v1/figs/BZIP2-barras-silhouette-all-datasets-all-distortions-CF.png\n",
      "articles_v1/it/2502.00208v1/figs/LZMA-barras-silhouette-all-datasets-all-distortions-CF.png\n",
      "articles_v1/it/2502.00208v1/figs/PPMD-barras-silhouette-all-datasets-all-distortions-CF.png\n",
      "articles_v1/it/2502.00208v1/figs/books-bzip2-ordenado-desordenando-asteriscos.png\n",
      "articles_v1/it/2502.00208v1/figs/books-bzip2-ordenado-desordenando-keywords.png\n",
      "articles_v1/it/2502.00208v1/figs/books-bzip2-ordenado-desordenando-todo.png\n",
      "articles_v1/it/2502.00208v1/figs/books-bzip2-resumen-silhouettes-1-DSC.png\n",
      "articles_v1/it/2502.00208v1/figs/books-estudio-ordenes-silhouettes.png\n",
      "articles_v1/it/2502.00208v1/figs/books-ppmd-ordenado-desordenando-asteriscos.png\n",
      "articles_v1/it/2502.00208v1/figs/books-ppmd-ordenado-desordenando-keywords.png\n",
      "articles_v1/it/2502.00208v1/figs/books-ppmd-ordenado-desordenando-todo.png\n",
      "articles_v1/it/2502.00208v1/figs/books-ppmd-resumen-silhouettes-1-DSC.png\n",
      "articles_v1/it/2502.00208v1/figs/books-resumen-PPMD-orders.png\n",
      "articles_v1/it/2502.00208v1/figs/dendro.png\n",
      "articles_v1/it/2502.00208v1/figs/imdb-estudio-ordenes-silhouettes.png\n",
      "articles_v1/it/2502.00208v1/figs/imdb-resumen-PPMD-orders.png\n",
      "articles_v1/it/2502.00208v1/figs/medline-estudio-ordenes-silhouettes.png\n",
      "articles_v1/it/2502.00208v1/figs/medline-resumen-PPMD-orders.png\n",
      "articles_v1/it/2502.00208v1/figs/p8-c4o2den.png\n",
      "articles_v1/it/2502.00208v1/figs/p8-c4o4den.png\n",
      "articles_v1/it/2502.00208v1/figs/p8-c4o6den.png\n",
      "articles_v1/it/2502.00208v1/figs/pEx-artif-c4-ppmd2NN.png\n",
      "articles_v1/it/2502.00208v1/figs/pEx-artif-c4-ppmd4NN.png\n",
      "articles_v1/it/2502.00208v1/figs/pEx-artif-c4-ppmd6NN.png\n",
      "articles_v1/it/2502.00208v1/figs/pEx-booksPPMD6ncd80-RPRW-bolasgordas-labeledGN.png\n",
      "articles_v1/it/2502.00208v1/figs/pEx-booksPPMDncd-bolasgordas-labeledGN.png\n",
      "articles_v1/it/2502.00208v1/figs/pEx-booksPPMDncd90-bolasgordas-labeledGN.png\n",
      "articles_v1/it/2502.00208v1/figs/perfect-dendro.png\n",
      "articles_v1/it/2502.00208v1/figs/uci-kdd-estudio-ordenes-silhouettes.png\n",
      "articles_v1/it/2502.00208v1/figs/uci-kdd-resumen-PPMD-orders.png\n",
      "articles_v1/it/2502.00274v1/1.pdf\n",
      "articles_v1/it/2502.00274v1/2.pdf\n",
      "articles_v1/it/2502.00274v1/2502.00274v1.pdf\n",
      "articles_v1/it/2502.00274v1/3.pdf\n",
      "articles_v1/it/2502.00274v1/Bibliography.bib\n",
      "articles_v1/it/2502.00274v1/IEEEtran.cls\n",
      "articles_v1/it/2502.00274v1/MG11.bbl\n",
      "articles_v1/it/2502.00274v1/MG11.tex\n",
      "articles_v1/it/2502.00274v1/P2.pdf\n",
      "articles_v1/it/2502.00274v1/Peak1.pdf\n",
      "articles_v1/it/2502.00274v1/Peak2.pdf\n",
      "articles_v1/it/2502.00274v1/Peak3.pdf\n",
      "articles_v1/it/2502.00274v1/PeakP2.pdf\n",
      "articles_v1/it/2502.00274v1/Single_Semi-Markov.pdf\n",
      "articles_v1/it/2502.00294v1/2502.00294v1.pdf\n",
      "articles_v1/it/2502.00294v1/Arxive-version.bbl\n",
      "articles_v1/it/2502.00294v1/Arxive-version.tex\n",
      "articles_v1/it/2502.00294v1/IEEEtran.cls\n",
      "articles_v1/it/2502.00294v1/mybiblio.bib\n",
      "articles_v1/kt/2502.00956v1/2502.00956v1.pdf\n",
      "articles_v1/kt/2502.00956v1/ec2v29.bbl\n",
      "articles_v1/kt/2502.00956v1/ec2v29.tex\n",
      "articles_v1/kt/2502.03408v1/2502.03408v1.pdf\n",
      "articles_v1/kt/2502.03408v1/main.bbl\n",
      "articles_v1/kt/2502.03408v1/main.tex\n",
      "articles_v1/kt/2502.04123v2/2502.04123v2.pdf\n",
      "articles_v1/kt/2502.04123v2/K-theory_of_limits.tex\n",
      "articles_v1/kt/2502.04546v1/2502.04546v1.pdf\n",
      "articles_v1/kt/2502.04546v1/references.bib\n",
      "articles_v1/kt/2502.04546v1/sigma.bbl\n",
      "articles_v1/kt/2502.04546v1/sigma.tex\n",
      "articles_v1/lo/2502.00186v1/2502.00186v1.pdf\n",
      "articles_v1/lo/2502.00186v1/Implication_graph.png\n",
      "articles_v1/lo/2502.00186v1/diagrams/big-example2.png\n",
      "articles_v1/lo/2502.00186v1/diagrams/big_example.png\n",
      "articles_v1/lo/2502.00186v1/diagrams/ce2.png\n",
      "articles_v1/lo/2502.00186v1/diagrams/counter_ex.png\n",
      "articles_v1/lo/2502.00186v1/diagrams/non-strict.png\n",
      "articles_v1/lo/2502.00186v1/diagrams/prop_hyper.png\n",
      "articles_v1/lo/2502.00186v1/main.bbl\n",
      "articles_v1/lo/2502.00186v1/main.tex\n",
      "articles_v1/lo/2502.00186v1/ref.bib\n",
      "articles_v1/lo/2502.00598v1/2502.00598v1.pdf\n",
      "articles_v1/lo/2502.00598v1/SMSA_final.tex\n",
      "articles_v1/lo/2502.00827v1/2502.00827v1.pdf\n",
      "articles_v1/lo/2502.00827v1/calominopelaitay.tex\n",
      "articles_v1/lo/2502.00984v1/2502.00984v1.pdf\n",
      "articles_v1/lo/2502.00984v1/FinalDraft4.tex\n",
      "articles_v1/mg/2502.00815v1/2502.00815v1.pdf\n",
      "articles_v1/mg/2502.00815v1/SagaThm.sty\n",
      "articles_v1/mg/2502.00815v1/koch10ax.pdf\n",
      "articles_v1/mg/2502.00815v1/koch11x.pdf\n",
      "articles_v1/mg/2502.00815v1/koch12x.pdf\n",
      "articles_v1/mg/2502.00815v1/koch13ax.pdf\n",
      "articles_v1/mg/2502.00815v1/koch14.pdf\n",
      "articles_v1/mg/2502.00815v1/koch1ax.pdf\n",
      "articles_v1/mg/2502.00815v1/koch2x.pdf\n",
      "articles_v1/mg/2502.00815v1/koch3x.pdf\n",
      "articles_v1/mg/2502.00815v1/koch4ax.pdf\n",
      "articles_v1/mg/2502.00815v1/koch5x.pdf\n",
      "articles_v1/mg/2502.00815v1/koch6x.pdf\n",
      "articles_v1/mg/2502.00815v1/koch7x.pdf\n",
      "articles_v1/mg/2502.00815v1/koch8x.pdf\n",
      "articles_v1/mg/2502.00815v1/koch9x.pdf\n",
      "articles_v1/mg/2502.00815v1/main.tex\n",
      "articles_v1/mg/2502.01301v1/2502.01301v1.pdf\n",
      "articles_v1/mg/2502.01301v1/manuscript_Eriksson-Bique_Sarsa.bbl\n",
      "articles_v1/mg/2502.01301v1/manuscript_Eriksson-Bique_Sarsa.tex\n",
      "articles_v1/mg/2502.02149v1/2502.02149v1.pdf\n",
      "articles_v1/mg/2502.02149v1/base_class.cls\n",
      "articles_v1/mg/2502.02149v1/godbersen.bbl\n",
      "articles_v1/mg/2502.02149v1/godbersen.tex\n",
      "articles_v1/mg/2502.03268v1/2502.03268v1.pdf\n",
      "articles_v1/mg/2502.03268v1/CAP_subst.png\n",
      "articles_v1/mg/2502.03268v1/CAPgen.tex\n",
      "articles_v1/mg/2502.03268v1/CASPr_new_large.pdf\n",
      "articles_v1/mg/2502.03268v1/DiffDefZeroCP-eps-converted-to.pdf\n",
      "articles_v1/mg/2502.03268v1/DiffEqual-eps-converted-to.pdf\n",
      "articles_v1/mg/2502.03268v1/DiffZeroCP-eps-converted-to.pdf\n",
      "articles_v1/mg/2502.03268v1/HT_new_large_arrows.pdf\n",
      "articles_v1/mg/2502.03268v1/HT_vs_Spectre.pdf\n",
      "articles_v1/mg/2502.03268v1/Hatgen.png\n",
      "articles_v1/mg/2502.03268v1/Hex_new_small_arrows.pdf\n",
      "articles_v1/mg/2502.03268v1/LogIntensities-eps-converted-to.pdf\n",
      "articles_v1/mg/2502.03268v1/LogIntensities.eps\n",
      "articles_v1/mg/2502.03268v1/LogIntensitiesZero-eps-converted-to.pdf\n",
      "articles_v1/mg/2502.03268v1/LogIntensitiesZero.eps\n",
      "articles_v1/mg/2502.03268v1/New_CAP.pdf\n",
      "articles_v1/mg/2502.03268v1/New_CAP_ZeroCP.pdf\n",
      "articles_v1/mg/2502.03268v1/New_Hat_Diff.pdf\n",
      "articles_v1/mg/2502.03268v1/New_Hat_Diff_ZeroCP.pdf\n",
      "articles_v1/mg/2502.03268v1/Notes_hat_diff.PDF\n",
      "articles_v1/mg/2502.03268v1/Spectre_new_large.pdf\n",
      "articles_v1/mg/2502.03268v1/hats.tex\n",
      "articles_v1/mg/2502.03268v1/hatturtle_generators-eps-converted-to.pdf\n",
      "articles_v1/mg/2502.03268v1/hexagons_generators-eps-converted-to.pdf\n",
      "articles_v1/mg/2502.03268v1/infp0.pdf\n",
      "articles_v1/mg/2502.03268v1/intensities-eps-converted-to.pdf\n",
      "articles_v1/mg/2502.03268v1/intensities_zeroCP-eps-converted-to.pdf\n",
      "articles_v1/mg/2502.03268v1/reprojection.tex\n",
      "articles_v1/mg/2502.03268v1/spectre_window.png\n",
      "articles_v1/mg/2502.03268v1/tilesrot.pdf\n",
      "articles_v1/mg/2502.03268v1/window_finer-eps-converted-to.pdf\n",
      "articles_v1/mg/2502.03268v1/window_finer.eps\n",
      "articles_v1/mg/2502.03268v1/windowrot.png\n",
      "articles_v1/mp/2502.00447v1/2502.00447v1.pdf\n",
      "articles_v1/mp/2502.00447v1/Resolving_August_12.tex\n",
      "articles_v1/mp/2502.00480v1/2502.00480v1.pdf\n",
      "articles_v1/mp/2502.00480v1/DOG17.tex\n",
      "articles_v1/mp/2502.00480v1/graphLatex.pdf\n",
      "articles_v1/mp/2502.00967v1/2502.00967v1.pdf\n",
      "articles_v1/mp/2502.00967v1/acknowledgments.tex\n",
      "articles_v1/mp/2502.00967v1/appendix/fieldoids.tex\n",
      "articles_v1/mp/2502.00967v1/appendix/sufficient.tex\n",
      "articles_v1/mp/2502.00967v1/cap.tex\n",
      "articles_v1/mp/2502.00967v1/coherent_units.tex\n",
      "articles_v1/mp/2502.00967v1/discussion.tex\n",
      "articles_v1/mp/2502.00967v1/introduction.tex\n",
      "articles_v1/mp/2502.00967v1/macros/my_formatting.sty\n",
      "articles_v1/mp/2502.00967v1/macros/my_macros.sty\n",
      "articles_v1/mp/2502.00967v1/macros/popupcite.sty\n",
      "articles_v1/mp/2502.00967v1/main.bbl\n",
      "articles_v1/mp/2502.00967v1/main.bib\n",
      "articles_v1/mp/2502.00967v1/main.tex\n",
      "articles_v1/mp/2502.00967v1/partially_additive.tex\n",
      "articles_v1/mp/2502.01151v1/2502.01151v1.pdf\n",
      "articles_v1/mp/2502.01151v1/GLVG.tex\n",
      "articles_v1/na/2502.00150v1/1intro.tex\n",
      "articles_v1/na/2502.00150v1/2502.00150v1.pdf\n",
      "articles_v1/na/2502.00150v1/2back.tex\n",
      "articles_v1/na/2502.00150v1/3eig.tex\n",
      "articles_v1/na/2502.00150v1/4eval.tex\n",
      "articles_v1/na/2502.00150v1/5subset.tex\n",
      "articles_v1/na/2502.00150v1/6numerical.tex\n",
      "articles_v1/na/2502.00150v1/7Conclusion.tex\n",
      "articles_v1/na/2502.00150v1/AIMS.bstold\n",
      "articles_v1/na/2502.00150v1/AIMS_Logo.pdf\n",
      "articles_v1/na/2502.00150v1/WCOEDSensorPlacement.bbl\n",
      "articles_v1/na/2502.00150v1/WCOEDSensorPlacement.tex\n",
      "articles_v1/na/2502.00150v1/additionalSymbols.sty\n",
      "articles_v1/na/2502.00150v1/aims.cls\n",
      "articles_v1/na/2502.00150v1/ifsym.sty\n",
      "articles_v1/na/2502.00150v1/images/2D_k10_OED-eps-converted-to.pdf\n",
      "articles_v1/na/2502.00150v1/images/2D_k25_OED-eps-converted-to.pdf\n",
      "articles_v1/na/2502.00150v1/images/2D_sensors.png\n",
      "articles_v1/na/2502.00150v1/images/best_10_sensors_2D.png\n",
      "articles_v1/na/2502.00150v1/images/best_25_sensors_2D.png\n",
      "articles_v1/na/2502.00150v1/images/c_evol.0000.png\n",
      "articles_v1/na/2502.00150v1/images/c_evol.0050.png\n",
      "articles_v1/na/2502.00150v1/images/c_evol.0100.png\n",
      "articles_v1/na/2502.00150v1/images/c_evol.0150.png\n",
      "articles_v1/na/2502.00150v1/images/c_evol.0200.png\n",
      "articles_v1/na/2502.00150v1/images/c_evol.0250.png\n",
      "articles_v1/na/2502.00150v1/images/c_evol.0300.png\n",
      "articles_v1/na/2502.00150v1/images/c_evol.0350.png\n",
      "articles_v1/na/2502.00150v1/images/c_evol.0400.png\n",
      "articles_v1/na/2502.00150v1/images/c_evol.0450.png\n",
      "articles_v1/na/2502.00150v1/images/c_evol.0500.png\n",
      "articles_v1/na/2502.00150v1/images/histo_k10.png\n",
      "articles_v1/na/2502.00150v1/images/histo_k5.png\n",
      "articles_v1/na/2502.00150v1/images/selection1D.png\n",
      "articles_v1/na/2502.00150v1/images/u_0.png\n",
      "articles_v1/na/2502.00150v1/images/v2_cavity.pdf\n",
      "articles_v1/na/2502.00150v1/refs.bib\n",
      "articles_v1/na/2502.00163v1/2502.00163v1.pdf\n",
      "articles_v1/na/2502.00163v1/Project-1.bbl\n",
      "articles_v1/na/2502.00163v1/Project-1.bib\n",
      "articles_v1/na/2502.00163v1/Project-1.out\n",
      "articles_v1/na/2502.00163v1/Project-1.tex\n",
      "articles_v1/na/2502.00163v1/ex1-disp.png\n",
      "articles_v1/na/2502.00163v1/ex1-rot.png\n",
      "articles_v1/na/2502.00163v1/ex1-sx.png\n",
      "articles_v1/na/2502.00163v1/ex1-sy.png\n",
      "articles_v1/na/2502.00163v1/ex1-sz.png\n",
      "articles_v1/na/2502.00163v1/ex2-disp.png\n",
      "articles_v1/na/2502.00163v1/ex2-rot-sc.png\n",
      "articles_v1/na/2502.00163v1/ex2-rot.png\n",
      "articles_v1/na/2502.00163v1/ex2-sx.png\n",
      "articles_v1/na/2502.00163v1/ex2-sy.png\n",
      "articles_v1/na/2502.00163v1/ex2-sz.png\n",
      "articles_v1/na/2502.00393v1/2502.00393v1.pdf\n",
      "articles_v1/na/2502.00393v1/arxiv-file.tex\n",
      "articles_v1/na/2502.00393v1/multNoiseNuShifted1.1eps0.2costMultiMethods.pdf\n",
      "articles_v1/na/2502.00393v1/multNoiseNuShifted1.1eps0.2errorMultiMethods.pdf\n",
      "articles_v1/na/2502.00393v1/multNoiseNuShifted1.3eps0.2costMultiMethods.pdf\n",
      "articles_v1/na/2502.00393v1/multNoiseNuShifted1.3eps0.2errorMultiMethods.pdf\n",
      "articles_v1/na/2502.00393v1/multNoiseNuShifted1.3eps0.2rmseDoubleDTwoPlanes.pdf.pdf\n",
      "articles_v1/na/2502.00393v1/multNoiseNuShifted2.0eps0.2costMultiMethods.pdf\n",
      "articles_v1/na/2502.00393v1/multNoiseNuShifted2.0eps0.2errorMultiMethods.pdf\n",
      "articles_v1/na/2502.00393v1/nonlinearShifted1.3eps1costMultiMethods.pdf\n",
      "articles_v1/na/2502.00393v1/nonlinearShifted1.3eps1errorMultiMethods.pdf\n",
      "articles_v1/na/2502.00393v1/nonlinearShifted1.3eps1rmseDoubleDTwoPlanes.pdf\n",
      "articles_v1/na/2502.00393v1/nonlinearShifted2.0eps1costMultiMethods.pdf\n",
      "articles_v1/na/2502.00393v1/nonlinearShifted2.0eps1errorMultiMethods.pdf\n",
      "articles_v1/na/2502.00452v1/2502.00452v1.pdf\n",
      "articles_v1/na/2502.00452v1/Article.tex\n",
      "articles_v1/na/2502.00452v1/Figures/1D_Laplace_trimming_dynamics_L2_error_LM_p3_explicit.pdf\n",
      "articles_v1/na/2502.00452v1/Figures/1D_Laplace_trimming_dynamics_L2_error_eps_1e-6_explicit.pdf\n",
      "articles_v1/na/2502.00452v1/Figures/1D_Laplace_trimming_dynamics_L2_error_eps_1e-6_explicit_poly_ext_buffa.pdf\n",
      "articles_v1/na/2502.00452v1/Figures/1D_Laplace_trimming_dynamics_eps_1e-6_function.pdf\n",
      "articles_v1/na/2502.00452v1/Figures/1D_Laplace_trimming_dynamics_p3_eps_1e-6_eigenfunctions.pdf\n",
      "articles_v1/na/2502.00452v1/Figures/1D_Laplace_trimming_dynamics_p3_eps_1e-6_eigenfunctions_poly_ext_buffa.pdf\n",
      "articles_v1/na/2502.00452v1/Figures/1D_Laplace_trimming_dynamics_solution_snapshots_p3_eps_1e-6_C0_explicit.pdf\n",
      "articles_v1/na/2502.00452v1/Figures/1D_Laplace_trimming_dynamics_solution_snapshots_p3_eps_1e-6_C0_explicit_poly_ext_buffa.pdf\n",
      "articles_v1/na/2502.00452v1/Figures/1D_Laplace_trimming_dynamics_solution_snapshots_p3_eps_1e-6_Cp_1_explicit.pdf\n",
      "articles_v1/na/2502.00452v1/Figures/1D_Laplace_trimming_dynamics_solution_snapshots_p3_eps_1e-6_Cp_1_explicit_poly_ext_buffa.pdf\n",
      "articles_v1/na/2502.00452v1/Figures/1D_Laplace_trimming_dynamics_solution_snapshots_p3_eps_1e-6_exact.pdf\n",
      "articles_v1/na/2502.00452v1/Figures/1D_Laplace_trimming_normalized_spectrum_eps_1e-6.pdf\n",
      "articles_v1/na/2502.00452v1/Figures/1D_Laplace_trimming_normalized_spectrum_eps_1e-6_poly_ext_buffa.pdf\n",
      "articles_v1/na/2502.00452v1/Figures/1D_Laplace_trimming_normalized_spectrum_eps_1e-6_relabeled.pdf\n",
      "articles_v1/na/2502.00452v1/Figures/1D_Laplace_trimming_projection_eigKM_p3_eps_1e-6.pdf\n",
      "articles_v1/na/2502.00452v1/Figures/1D_Laplace_trimming_projection_eigKP_p3_eps_1e-6.pdf\n",
      "articles_v1/na/2502.00452v1/Figures/1D_Laplace_trimming_spectrum_p3_eps_1e-6_zoom.pdf\n",
      "articles_v1/na/2502.00452v1/Figures/1D_Laplace_trimming_spectrum_p4_eps_1e-6_zoom.pdf\n",
      "articles_v1/na/2502.00452v1/Figures/1D_poly_ext.pdf\n",
      "articles_v1/na/2502.00452v1/Figures/1D_trimming.pdf\n",
      "articles_v1/na/2502.00452v1/Figures/2D_Laplace_trimmed_plate_with_extrusion_L2_error_explicit_p2_eps_1e-7.pdf\n",
      "articles_v1/na/2502.00452v1/Figures/2D_Laplace_trimmed_plate_with_extrusion_L2_error_explicit_p2_eps_1e-7_poly_ext_buffa_gamma_0_1.pdf\n",
      "articles_v1/na/2502.00452v1/Figures/2D_Laplace_trimmed_plate_with_extrusion_domain_n32.pdf\n",
      "articles_v1/na/2502.00452v1/Figures/2D_Laplace_trimmed_plate_with_extrusion_dynamics_solution_snapshots_p2_eps_1e-7_s135.pdf\n",
      "articles_v1/na/2502.00452v1/Figures/2D_Laplace_trimmed_plate_with_extrusion_dynamics_solution_snapshots_p2_eps_1e-7_s135_poly_ext_buffa_gamma_0_1.pdf\n",
      "articles_v1/na/2502.00452v1/Figures/2D_Laplace_trimmed_plate_with_extrusion_dynamics_solution_snapshots_p2_eps_1e-7_s20.pdf\n",
      "articles_v1/na/2502.00452v1/Figures/2D_Laplace_trimmed_plate_with_extrusion_dynamics_solution_snapshots_p2_eps_1e-7_s20_poly_ext_buffa_gamma_0_1.pdf\n",
      "articles_v1/na/2502.00452v1/Figures/2D_Laplace_trimmed_plate_with_extrusion_function.pdf\n",
      "articles_v1/na/2502.00452v1/Figures/2D_Laplace_trimmed_plate_with_hole_L2_error_explicit_p3_eps_1e-6.pdf\n",
      "articles_v1/na/2502.00452v1/Figures/2D_Laplace_trimmed_plate_with_hole_L2_error_explicit_p3_eps_1e-6_poly_ext_buffa_gamma_0_1.pdf\n",
      "articles_v1/na/2502.00452v1/Figures/2D_Laplace_trimmed_plate_with_hole_domain_n32.pdf\n",
      "articles_v1/na/2502.00452v1/Figures/2D_Laplace_trimmed_plate_with_hole_dynamics_solution_snapshots_p3_eps_1e-6_s272.pdf\n",
      "articles_v1/na/2502.00452v1/Figures/2D_Laplace_trimmed_plate_with_hole_dynamics_solution_snapshots_p3_eps_1e-6_s272_poly_ext_buffa_gamma_0_1.pdf\n",
      "articles_v1/na/2502.00452v1/Figures/2D_Laplace_trimmed_plate_with_hole_dynamics_solution_snapshots_p3_eps_1e-6_s30.pdf\n",
      "articles_v1/na/2502.00452v1/Figures/2D_Laplace_trimmed_plate_with_hole_dynamics_solution_snapshots_p3_eps_1e-6_s30_poly_ext_buffa_gamma_0_1.pdf\n",
      "articles_v1/na/2502.00452v1/Figures/2D_Laplace_trimmed_plate_with_hole_function.pdf\n",
      "articles_v1/na/2502.00452v1/Figures/2D_Laplace_trimmed_rotated_square_L2_error_explicit_p3_rot_0_85.pdf\n",
      "articles_v1/na/2502.00452v1/Figures/2D_Laplace_trimmed_rotated_square_L2_error_explicit_p3_rot_0_85_poly_ext_buffa_gamma_0_1.pdf\n",
      "articles_v1/na/2502.00452v1/Figures/2D_Laplace_trimmed_rotated_square_domain_n32.pdf\n",
      "articles_v1/na/2502.00452v1/Figures/2D_Laplace_trimmed_rotated_square_dynamics_solution_snapshots_p3_rot_0_85_s135.pdf\n",
      "articles_v1/na/2502.00452v1/Figures/2D_Laplace_trimmed_rotated_square_dynamics_solution_snapshots_p3_rot_0_85_s135_poly_ext_buffa_gamma_0_1.pdf\n",
      "articles_v1/na/2502.00452v1/Figures/2D_Laplace_trimmed_rotated_square_dynamics_solution_snapshots_p3_rot_0_85_s20.pdf\n",
      "articles_v1/na/2502.00452v1/Figures/2D_Laplace_trimmed_rotated_square_dynamics_solution_snapshots_p3_rot_0_85_s20_poly_ext_buffa_gamma_0_1.pdf\n",
      "articles_v1/na/2502.00452v1/Figures/2D_Laplace_trimmed_rotated_square_function_2D.pdf\n",
      "articles_v1/na/2502.00452v1/Figures/2D_poly_ext.pdf\n",
      "articles_v1/na/2502.00452v1/Figures/trimming_notation_1.pdf\n",
      "articles_v1/na/2502.00452v1/Figures/trimming_notation_2.pdf\n",
      "articles_v1/nt/2502.00116v1/2502.00116v1.pdf\n",
      "articles_v1/nt/2502.00116v1/MatrixCoefficients_v2.bbl\n",
      "articles_v1/nt/2502.00116v1/MatrixCoefficients_v2.tex\n",
      "articles_v1/nt/2502.00141v1/2502.00141v1.pdf\n",
      "articles_v1/nt/2502.00141v1/img/cuboctahedron.pdf\n",
      "articles_v1/nt/2502.00141v1/img/fareytessellation.png\n",
      "articles_v1/nt/2502.00141v1/img/fdoimaingamma.png\n",
      "articles_v1/nt/2502.00141v1/img/fdomaingamma011.png\n",
      "articles_v1/nt/2502.00141v1/img/hexagonalcap.pdf\n",
      "articles_v1/nt/2502.00141v1/img/number_by_disc.eps\n",
      "articles_v1/nt/2502.00141v1/img/octahedron.pdf\n",
      "articles_v1/nt/2502.00141v1/img/poly-percentage-all.eps\n",
      "articles_v1/nt/2502.00141v1/img/poly-total.eps\n",
      "articles_v1/nt/2502.00141v1/img/squarepyramid.pdf\n",
      "articles_v1/nt/2502.00141v1/img/tetrahedron.pdf\n",
      "articles_v1/nt/2502.00141v1/img/total.eps\n",
      "articles_v1/nt/2502.00141v1/img/total.eps.jpg\n",
      "articles_v1/nt/2502.00141v1/img/triangulardipyramid.pdf\n",
      "articles_v1/nt/2502.00141v1/img/triangularprism.pdf\n",
      "articles_v1/nt/2502.00141v1/img/truncatedtetrahedron.pdf\n",
      "articles_v1/nt/2502.00141v1/main.bbl\n",
      "articles_v1/nt/2502.00141v1/main.tex\n",
      "articles_v1/nt/2502.00141v1/ref.bib\n",
      "articles_v1/nt/2502.00296v1/2502.00296v1.pdf\n",
      "articles_v1/nt/2502.00296v1/SS25.bbl\n",
      "articles_v1/nt/2502.00296v1/SS25.tex\n",
      "articles_v1/nt/2502.00326v1/2502.00326v1.pdf\n",
      "articles_v1/nt/2502.00326v1/main.bbl\n",
      "articles_v1/nt/2502.00326v1/main.tex\n",
      "articles_v1/oa/2502.00555v1/2502.00555v1.pdf\n",
      "articles_v1/oa/2502.00555v1/arxiv_spin.tex\n",
      "articles_v1/oa/2502.00995v1/2502.00995v1.pdf\n",
      "articles_v1/oa/2502.00995v1/non-full-10-arxiv.tex\n",
      "articles_v1/oa/2502.01516v1/2502.01516v1.pdf\n",
      "articles_v1/oa/2502.01516v1/Almost_almost_periodic_factors.tex\n",
      "articles_v1/oa/2502.01974v1/2502.01974v1.pdf\n",
      "articles_v1/oa/2502.01974v1/alphaarxiv.bst\n",
      "articles_v1/oa/2502.01974v1/main.bbl\n",
      "articles_v1/oa/2502.01974v1/main.tex\n",
      "articles_v1/oa/2502.01974v1/qstyle.sty\n",
      "articles_v1/oa/2502.01974v1/refs.bib\n",
      "articles_v1/oc/2502.00119v1/2502.00119v1.pdf\n",
      "articles_v1/oc/2502.00119v1/TeX/Algs/Cournot_Nash_data_generation.tex\n",
      "articles_v1/oc/2502.00119v1/TeX/Algs/FLEX.tex\n",
      "articles_v1/oc/2502.00119v1/TeX/Algs/I-FLEX.tex\n",
      "articles_v1/oc/2502.00119v1/TeX/Algs/Prox-FLEX.tex\n",
      "articles_v1/oc/2502.00119v1/TeX/Algs/Prox-I-FLEX.tex\n",
      "articles_v1/oc/2502.00119v1/TeX/Algs/minimax_data_generation.tex\n",
      "articles_v1/oc/2502.00119v1/TeX/Text/Lyapunov.tex\n",
      "articles_v1/oc/2502.00119v1/TeX/Text/Results/V_optimality_measure.tex\n",
      "articles_v1/oc/2502.00119v1/TeX/Text/Results/dual_Vk_inequality.tex\n",
      "articles_v1/oc/2502.00119v1/TeX/Text/Results/last_iterate_Vk.tex\n",
      "articles_v1/oc/2502.00119v1/TeX/Text/Results/last_iterate_g_zero.tex\n",
      "articles_v1/oc/2502.00119v1/TeX/Text/Results/primal_Vk_inequality.tex\n",
      "articles_v1/oc/2502.00119v1/TeX/Text/abstract.tex\n",
      "articles_v1/oc/2502.00119v1/TeX/Text/acknowledgments.tex\n",
      "articles_v1/oc/2502.00119v1/TeX/Text/algs.tex\n",
      "articles_v1/oc/2502.00119v1/TeX/Text/background.tex\n",
      "articles_v1/oc/2502.00119v1/TeX/Text/bilinear.tex\n",
      "articles_v1/oc/2502.00119v1/TeX/Text/conclusions.tex\n",
      "articles_v1/oc/2502.00119v1/TeX/Text/counterexamples.tex\n",
      "articles_v1/oc/2502.00119v1/TeX/Text/equilibrium.tex\n",
      "articles_v1/oc/2502.00119v1/TeX/Text/flex.tex\n",
      "articles_v1/oc/2502.00119v1/TeX/Text/global.tex\n",
      "articles_v1/oc/2502.00119v1/TeX/Text/iflex.tex\n",
      "articles_v1/oc/2502.00119v1/TeX/Text/introduction.tex\n",
      "articles_v1/oc/2502.00119v1/TeX/Text/logistic.tex\n",
      "articles_v1/oc/2502.00119v1/TeX/Text/notation.tex\n",
      "articles_v1/oc/2502.00119v1/TeX/Text/numerical.tex\n",
      "articles_v1/oc/2502.00119v1/TeX/Text/organization.tex\n",
      "articles_v1/oc/2502.00119v1/TeX/Text/proxflex.tex\n",
      "articles_v1/oc/2502.00119v1/TeX/Text/quadratic_minimax.tex\n",
      "articles_v1/oc/2502.00119v1/TeX/Text/superlinear.tex\n",
      "articles_v1/oc/2502.00119v1/TeX/commands.tex\n",
      "articles_v1/oc/2502.00119v1/TeX/mybib.bib\n",
      "articles_v1/oc/2502.00119v1/TeX/preamble.tex\n",
      "articles_v1/oc/2502.00119v1/main.bbl\n",
      "articles_v1/oc/2502.00119v1/main.tex\n",
      "articles_v1/oc/2502.00119v1/plot_data/bilinear_matrix_game_n250/agraal.tex\n",
      "articles_v1/oc/2502.00119v1/plot_data/bilinear_matrix_game_n250/eg-aa.tex\n",
      "articles_v1/oc/2502.00119v1/plot_data/bilinear_matrix_game_n250/eg.tex\n",
      "articles_v1/oc/2502.00119v1/plot_data/bilinear_matrix_game_n250/graal.tex\n",
      "articles_v1/oc/2502.00119v1/plot_data/bilinear_matrix_game_n250/proxflex-aai.tex\n",
      "articles_v1/oc/2502.00119v1/plot_data/bilinear_matrix_game_n250/proxflex-aaii.tex\n",
      "articles_v1/oc/2502.00119v1/plot_data/bilinear_matrix_game_n500/agraal.tex\n",
      "articles_v1/oc/2502.00119v1/plot_data/bilinear_matrix_game_n500/eg-aa.tex\n",
      "articles_v1/oc/2502.00119v1/plot_data/bilinear_matrix_game_n500/eg.tex\n",
      "articles_v1/oc/2502.00119v1/plot_data/bilinear_matrix_game_n500/graal.tex\n",
      "articles_v1/oc/2502.00119v1/plot_data/bilinear_matrix_game_n500/proxflex-aai.tex\n",
      "articles_v1/oc/2502.00119v1/plot_data/bilinear_matrix_game_n500/proxflex-aaii.tex\n",
      "articles_v1/oc/2502.00119v1/plot_data/cournot-nash_equilibrium_problem_n10/agraal.tex\n",
      "articles_v1/oc/2502.00119v1/plot_data/cournot-nash_equilibrium_problem_n10/eg-aa.tex\n",
      "articles_v1/oc/2502.00119v1/plot_data/cournot-nash_equilibrium_problem_n10/eg.tex\n",
      "articles_v1/oc/2502.00119v1/plot_data/cournot-nash_equilibrium_problem_n10/graal.tex\n",
      "articles_v1/oc/2502.00119v1/plot_data/cournot-nash_equilibrium_problem_n10/proxflex-aai.tex\n",
      "articles_v1/oc/2502.00119v1/plot_data/cournot-nash_equilibrium_problem_n10/proxflex-aaii.tex\n",
      "articles_v1/oc/2502.00119v1/plot_data/cournot-nash_equilibrium_problem_n100/agraal.tex\n",
      "articles_v1/oc/2502.00119v1/plot_data/cournot-nash_equilibrium_problem_n100/eg-aa.tex\n",
      "articles_v1/oc/2502.00119v1/plot_data/cournot-nash_equilibrium_problem_n100/eg.tex\n",
      "articles_v1/oc/2502.00119v1/plot_data/cournot-nash_equilibrium_problem_n100/graal.tex\n",
      "articles_v1/oc/2502.00119v1/plot_data/cournot-nash_equilibrium_problem_n100/proxflex-aai.tex\n",
      "articles_v1/oc/2502.00119v1/plot_data/cournot-nash_equilibrium_problem_n100/proxflex-aaii.tex\n",
      "articles_v1/oc/2502.00119v1/plot_data/logistic_regression_problem_lambda_param100overN_data_namea9a/adaptive_proximal_gradient.tex\n",
      "articles_v1/oc/2502.00119v1/plot_data/logistic_regression_problem_lambda_param100overN_data_namea9a/eg-aa.tex\n",
      "articles_v1/oc/2502.00119v1/plot_data/logistic_regression_problem_lambda_param100overN_data_namea9a/eg.tex\n",
      "articles_v1/oc/2502.00119v1/plot_data/logistic_regression_problem_lambda_param100overN_data_namea9a/fista.tex\n",
      "articles_v1/oc/2502.00119v1/plot_data/logistic_regression_problem_lambda_param100overN_data_namea9a/graal.tex\n",
      "articles_v1/oc/2502.00119v1/plot_data/logistic_regression_problem_lambda_param100overN_data_namea9a/proxflex-aai.tex\n",
      "articles_v1/oc/2502.00119v1/plot_data/logistic_regression_problem_lambda_param100overN_data_namea9a/proxflex-aaii.tex\n",
      "articles_v1/oc/2502.00119v1/plot_data/logistic_regression_problem_lambda_param100overN_data_namespambase/adaptive_proximal_gradient.tex\n",
      "articles_v1/oc/2502.00119v1/plot_data/logistic_regression_problem_lambda_param100overN_data_namespambase/eg-aa.tex\n",
      "articles_v1/oc/2502.00119v1/plot_data/logistic_regression_problem_lambda_param100overN_data_namespambase/eg.tex\n",
      "articles_v1/oc/2502.00119v1/plot_data/logistic_regression_problem_lambda_param100overN_data_namespambase/fista.tex\n",
      "articles_v1/oc/2502.00119v1/plot_data/logistic_regression_problem_lambda_param100overN_data_namespambase/graal.tex\n",
      "articles_v1/oc/2502.00119v1/plot_data/logistic_regression_problem_lambda_param100overN_data_namespambase/proxflex-aai.tex\n",
      "articles_v1/oc/2502.00119v1/plot_data/logistic_regression_problem_lambda_param100overN_data_namespambase/proxflex-aaii.tex\n",
      "articles_v1/oc/2502.00119v1/plot_data/logistic_regression_problem_lambda_param10overN_data_namea9a/adaptive_proximal_gradient.tex\n",
      "articles_v1/oc/2502.00119v1/plot_data/logistic_regression_problem_lambda_param10overN_data_namea9a/eg-aa.tex\n",
      "articles_v1/oc/2502.00119v1/plot_data/logistic_regression_problem_lambda_param10overN_data_namea9a/eg.tex\n",
      "articles_v1/oc/2502.00119v1/plot_data/logistic_regression_problem_lambda_param10overN_data_namea9a/fista.tex\n",
      "articles_v1/oc/2502.00119v1/plot_data/logistic_regression_problem_lambda_param10overN_data_namea9a/graal.tex\n",
      "articles_v1/oc/2502.00119v1/plot_data/logistic_regression_problem_lambda_param10overN_data_namea9a/proxflex-aai.tex\n",
      "articles_v1/oc/2502.00119v1/plot_data/logistic_regression_problem_lambda_param10overN_data_namea9a/proxflex-aaii.tex\n",
      "articles_v1/oc/2502.00119v1/plot_data/logistic_regression_problem_lambda_param10overN_data_namespambase/adaptive_proximal_gradient.tex\n",
      "articles_v1/oc/2502.00119v1/plot_data/logistic_regression_problem_lambda_param10overN_data_namespambase/eg-aa.tex\n",
      "articles_v1/oc/2502.00119v1/plot_data/logistic_regression_problem_lambda_param10overN_data_namespambase/eg.tex\n",
      "articles_v1/oc/2502.00119v1/plot_data/logistic_regression_problem_lambda_param10overN_data_namespambase/fista.tex\n",
      "articles_v1/oc/2502.00119v1/plot_data/logistic_regression_problem_lambda_param10overN_data_namespambase/graal.tex\n",
      "articles_v1/oc/2502.00119v1/plot_data/logistic_regression_problem_lambda_param10overN_data_namespambase/proxflex-aai.tex\n",
      "articles_v1/oc/2502.00119v1/plot_data/logistic_regression_problem_lambda_param10overN_data_namespambase/proxflex-aaii.tex\n",
      "articles_v1/oc/2502.00119v1/plot_data/logistic_regression_problem_lambda_param1overN_data_namea9a/adaptive_proximal_gradient.tex\n",
      "articles_v1/oc/2502.00119v1/plot_data/logistic_regression_problem_lambda_param1overN_data_namea9a/eg-aa.tex\n",
      "articles_v1/oc/2502.00119v1/plot_data/logistic_regression_problem_lambda_param1overN_data_namea9a/eg.tex\n",
      "articles_v1/oc/2502.00119v1/plot_data/logistic_regression_problem_lambda_param1overN_data_namea9a/fista.tex\n",
      "articles_v1/oc/2502.00119v1/plot_data/logistic_regression_problem_lambda_param1overN_data_namea9a/graal.tex\n",
      "articles_v1/oc/2502.00119v1/plot_data/logistic_regression_problem_lambda_param1overN_data_namea9a/proxflex-aai.tex\n",
      "articles_v1/oc/2502.00119v1/plot_data/logistic_regression_problem_lambda_param1overN_data_namea9a/proxflex-aaii.tex\n",
      "articles_v1/oc/2502.00119v1/plot_data/logistic_regression_problem_lambda_param1overN_data_namespambase/adaptive_proximal_gradient.tex\n",
      "articles_v1/oc/2502.00119v1/plot_data/logistic_regression_problem_lambda_param1overN_data_namespambase/eg-aa.tex\n",
      "articles_v1/oc/2502.00119v1/plot_data/logistic_regression_problem_lambda_param1overN_data_namespambase/eg.tex\n",
      "articles_v1/oc/2502.00119v1/plot_data/logistic_regression_problem_lambda_param1overN_data_namespambase/fista.tex\n",
      "articles_v1/oc/2502.00119v1/plot_data/logistic_regression_problem_lambda_param1overN_data_namespambase/graal.tex\n",
      "articles_v1/oc/2502.00119v1/plot_data/logistic_regression_problem_lambda_param1overN_data_namespambase/proxflex-aai.tex\n",
      "articles_v1/oc/2502.00119v1/plot_data/logistic_regression_problem_lambda_param1overN_data_namespambase/proxflex-aaii.tex\n",
      "articles_v1/oc/2502.00119v1/plot_data/quadratic_minimax_problem_n20_alpha0/agraal.tex\n",
      "articles_v1/oc/2502.00119v1/plot_data/quadratic_minimax_problem_n20_alpha0/eag-c.tex\n",
      "articles_v1/oc/2502.00119v1/plot_data/quadratic_minimax_problem_n20_alpha0/eg-aa.tex\n",
      "articles_v1/oc/2502.00119v1/plot_data/quadratic_minimax_problem_n20_alpha0/eg.tex\n",
      "articles_v1/oc/2502.00119v1/plot_data/quadratic_minimax_problem_n20_alpha0/flex-aai.tex\n",
      "articles_v1/oc/2502.00119v1/plot_data/quadratic_minimax_problem_n20_alpha0/flex-aaii.tex\n",
      "articles_v1/oc/2502.00119v1/plot_data/quadratic_minimax_problem_n20_alpha0/flex-jsym.tex\n",
      "articles_v1/oc/2502.00119v1/plot_data/quadratic_minimax_problem_n20_alpha0/graal.tex\n",
      "articles_v1/oc/2502.00119v1/plot_data/quadratic_minimax_problem_n20_alpha00001/agraal.tex\n",
      "articles_v1/oc/2502.00119v1/plot_data/quadratic_minimax_problem_n20_alpha00001/eag-c.tex\n",
      "articles_v1/oc/2502.00119v1/plot_data/quadratic_minimax_problem_n20_alpha00001/eg-aa.tex\n",
      "articles_v1/oc/2502.00119v1/plot_data/quadratic_minimax_problem_n20_alpha00001/eg.tex\n",
      "articles_v1/oc/2502.00119v1/plot_data/quadratic_minimax_problem_n20_alpha00001/flex-aai.tex\n",
      "articles_v1/oc/2502.00119v1/plot_data/quadratic_minimax_problem_n20_alpha00001/flex-aaii.tex\n",
      "articles_v1/oc/2502.00119v1/plot_data/quadratic_minimax_problem_n20_alpha00001/flex-jsym.tex\n",
      "articles_v1/oc/2502.00119v1/plot_data/quadratic_minimax_problem_n20_alpha00001/graal.tex\n",
      "articles_v1/oc/2502.00119v1/plot_data/quadratic_minimax_problem_n20_alpha00001/iflex-aai.tex\n",
      "articles_v1/oc/2502.00119v1/plot_data/quadratic_minimax_problem_n20_alpha00001/iflex-aaii.tex\n",
      "articles_v1/oc/2502.00119v1/plot_data/quadratic_minimax_problem_n20_alpha00001/iflex-jsym.tex\n",
      "articles_v1/oc/2502.00119v1/plot_data/quadratic_minimax_problem_n500_alpha0/agraal.tex\n",
      "articles_v1/oc/2502.00119v1/plot_data/quadratic_minimax_problem_n500_alpha0/eag-c.tex\n",
      "articles_v1/oc/2502.00119v1/plot_data/quadratic_minimax_problem_n500_alpha0/eg-aa.tex\n",
      "articles_v1/oc/2502.00119v1/plot_data/quadratic_minimax_problem_n500_alpha0/eg.tex\n",
      "articles_v1/oc/2502.00119v1/plot_data/quadratic_minimax_problem_n500_alpha0/flex-aai.tex\n",
      "articles_v1/oc/2502.00119v1/plot_data/quadratic_minimax_problem_n500_alpha0/flex-aaii.tex\n",
      "articles_v1/oc/2502.00119v1/plot_data/quadratic_minimax_problem_n500_alpha0/flex-jsym.tex\n",
      "articles_v1/oc/2502.00119v1/plot_data/quadratic_minimax_problem_n500_alpha0/graal.tex\n",
      "articles_v1/oc/2502.00119v1/plot_data/quadratic_minimax_problem_n500_alpha00001/agraal.tex\n",
      "articles_v1/oc/2502.00119v1/plot_data/quadratic_minimax_problem_n500_alpha00001/eag-c.tex\n",
      "articles_v1/oc/2502.00119v1/plot_data/quadratic_minimax_problem_n500_alpha00001/eg-aa.tex\n",
      "articles_v1/oc/2502.00119v1/plot_data/quadratic_minimax_problem_n500_alpha00001/eg.tex\n",
      "articles_v1/oc/2502.00119v1/plot_data/quadratic_minimax_problem_n500_alpha00001/flex-aai.tex\n",
      "articles_v1/oc/2502.00119v1/plot_data/quadratic_minimax_problem_n500_alpha00001/flex-aaii.tex\n",
      "articles_v1/oc/2502.00119v1/plot_data/quadratic_minimax_problem_n500_alpha00001/flex-jsym.tex\n",
      "articles_v1/oc/2502.00119v1/plot_data/quadratic_minimax_problem_n500_alpha00001/graal.tex\n",
      "articles_v1/oc/2502.00119v1/plot_data/quadratic_minimax_problem_n500_alpha00001/iflex-aai.tex\n",
      "articles_v1/oc/2502.00119v1/plot_data/quadratic_minimax_problem_n500_alpha00001/iflex-aaii.tex\n",
      "articles_v1/oc/2502.00119v1/plot_data/quadratic_minimax_problem_n500_alpha00001/iflex-jsym.tex\n",
      "articles_v1/oc/2502.00119v1/plots/Cournot_Nash.tex\n",
      "articles_v1/oc/2502.00119v1/plots/bilinear.tex\n",
      "articles_v1/oc/2502.00119v1/plots/logistic.tex\n",
      "articles_v1/oc/2502.00119v1/plots/quadratic_minimax.tex\n",
      "articles_v1/oc/2502.00248v1/2502.00248v1.pdf\n",
      "articles_v1/oc/2502.00248v1/images/Drone_NN_LQR.png\n",
      "articles_v1/oc/2502.00248v1/images/NNOPTx1x2.png\n",
      "articles_v1/oc/2502.00248v1/images/Pendulum.png\n",
      "articles_v1/oc/2502.00248v1/images/RoA.pdf\n",
      "articles_v1/oc/2502.00248v1/images/RoA.svg\n",
      "articles_v1/oc/2502.00248v1/images/delta_V.png\n",
      "articles_v1/oc/2502.00248v1/images/nn.png\n",
      "articles_v1/oc/2502.00248v1/images/normx.png\n",
      "articles_v1/oc/2502.00248v1/images/paperchart.png\n",
      "articles_v1/oc/2502.00248v1/images/roa.png\n",
      "articles_v1/oc/2502.00248v1/images/ut.png\n",
      "articles_v1/oc/2502.00248v1/images/x1.png\n",
      "articles_v1/oc/2502.00248v1/images/x1x2.png\n",
      "articles_v1/oc/2502.00248v1/images/x2.png\n",
      "articles_v1/oc/2502.00248v1/main.bbl\n",
      "articles_v1/oc/2502.00248v1/main.tex\n",
      "articles_v1/oc/2502.00248v1/references.bib\n",
      "articles_v1/oc/2502.00398v1/2502.00398v1.pdf\n",
      "articles_v1/oc/2502.00398v1/figs/methodology/flow_chart.tex\n",
      "articles_v1/oc/2502.00398v1/figs/results/test_cases/cr3bp/cr3bp_EARTH_MOON_lt_dro_to_dro_5e-4_17_2_2d_0_1.pdf\n",
      "articles_v1/oc/2502.00398v1/figs/results/test_cases/cr3bp/cr3bp_EARTH_MOON_lt_dro_to_dro_5e-4_17_2_thrust.pdf\n",
      "articles_v1/oc/2502.00398v1/figs/results/test_cases/cr3bp/cr3bp_EARTH_MOON_lt_dro_to_dro_5e-4_33_2_2d_0_1.pdf\n",
      "articles_v1/oc/2502.00398v1/figs/results/test_cases/cr3bp/cr3bp_EARTH_MOON_lt_dro_to_dro_5e-4_33_2_thrust.pdf\n",
      "articles_v1/oc/2502.00398v1/figs/results/test_cases/cr3bp/cr3bp_EARTH_MOON_lt_dro_to_dro_5e-4_52_2_2d_0_1.pdf\n",
      "articles_v1/oc/2502.00398v1/figs/results/test_cases/cr3bp/cr3bp_EARTH_MOON_lt_dro_to_dro_5e-4_52_2_thrust.pdf\n",
      "articles_v1/oc/2502.00398v1/figs/results/test_cases/cr3bp/cr3bp_EARTH_MOON_lt_haloL2_to_haloL1_5e-4_20_2_2d_0_1.pdf\n",
      "articles_v1/oc/2502.00398v1/figs/results/test_cases/cr3bp/cr3bp_EARTH_MOON_lt_haloL2_to_haloL1_5e-4_20_2_2d_0_2.pdf\n",
      "articles_v1/oc/2502.00398v1/figs/results/test_cases/cr3bp/cr3bp_EARTH_MOON_lt_haloL2_to_haloL1_5e-4_20_2_thrust.pdf\n",
      "articles_v1/oc/2502.00398v1/figs/results/test_cases/cr3bp/cr3bp_EARTH_MOON_lt_lyapunovL1_to_lyapunovL2_5e-4_12_2_2d_0_1.pdf\n",
      "articles_v1/oc/2502.00398v1/figs/results/test_cases/cr3bp/cr3bp_EARTH_MOON_lt_lyapunovL1_to_lyapunovL2_5e-4_12_2_thrust.pdf\n",
      "articles_v1/oc/2502.00398v1/figs/results/test_cases/cr3bp/cr3bp_EARTH_MOON_lt_nrho_to_dro_5e-4_21_2_2d_0_1.pdf\n",
      "articles_v1/oc/2502.00398v1/figs/results/test_cases/cr3bp/cr3bp_EARTH_MOON_lt_nrho_to_dro_5e-4_21_2_thrust.pdf\n",
      "articles_v1/oc/2502.00398v1/figs/results/test_cases/tbp_EARTH/tbp_EARTH_lt_leo_to_geo_5e-4_94_2_keplerians_0_1.pdf\n",
      "articles_v1/oc/2502.00398v1/figs/results/test_cases/tbp_EARTH/tbp_EARTH_lt_leo_to_geo_5e-4_94_2_thrust.pdf\n",
      "articles_v1/oc/2502.00398v1/figs/results/test_cases/tbp_EARTH/tbp_EARTH_lt_leo_to_leo_5e-4_35_2_keplerians_0_2_3.pdf\n",
      "articles_v1/oc/2502.00398v1/figs/results/test_cases/tbp_EARTH/tbp_EARTH_lt_leo_to_leo_5e-4_35_2_thrust.pdf\n",
      "articles_v1/oc/2502.00398v1/figs/results/test_cases/tbp_EARTH/tbp_EARTH_lt_meo_to_meo_5e-4_55_2_keplerians_0_2_3.pdf\n",
      "articles_v1/oc/2502.00398v1/figs/results/test_cases/tbp_EARTH/tbp_EARTH_lt_meo_to_meo_5e-4_55_2_thrust.pdf\n",
      "articles_v1/oc/2502.00398v1/figs/results/validation/double_integrator_1e3_0_2_u.pdf\n",
      "articles_v1/oc/2502.00398v1/figs/results/validation/double_integrator_1e3_0_2_x.pdf\n",
      "articles_v1/oc/2502.00398v1/figs/results/validation/tbp_SUN_lt_earth_to_mars_5e-4_348_2_2d_0_1.pdf\n",
      "articles_v1/oc/2502.00398v1/figs/results/validation/tbp_SUN_lt_earth_to_mars_5e-4_348_2_thrust.pdf\n",
      "articles_v1/oc/2502.00398v1/figs/results/validation/tbp_SUN_lt_earth_to_mars_NRJ_5e-4_348_2_2d_0_1.pdf\n",
      "articles_v1/oc/2502.00398v1/figs/results/validation/tbp_SUN_lt_earth_to_mars_NRJ_5e-4_348_2_thrust.pdf\n",
      "articles_v1/oc/2502.00398v1/main.bbl\n",
      "articles_v1/oc/2502.00398v1/main.tex\n",
      "articles_v1/oc/2502.00398v1/new-aiaa.bst\n",
      "articles_v1/oc/2502.00398v1/new-aiaa.cls\n",
      "articles_v1/oc/2502.00398v1/references.bib\n",
      "articles_v1/oc/2502.00398v1/sections/0_abstract.tex\n",
      "articles_v1/oc/2502.00398v1/sections/1_introduction.tex\n",
      "articles_v1/oc/2502.00398v1/sections/2_background.tex\n",
      "articles_v1/oc/2502.00398v1/sections/3_methodology.tex\n",
      "articles_v1/oc/2502.00398v1/sections/4_application.tex\n",
      "articles_v1/oc/2502.00398v1/sections/5_conclusion.tex\n",
      "articles_v1/oc/2502.00398v1/sections/6_appendix.tex\n",
      "articles_v1/oc/2502.00398v1/sections/7_funding_acknoledgments.tex\n",
      "articles_v1/oc/2502.00398v1/sections/preamble.tex\n",
      "articles_v1/oc/2502.00411v1/2502.00411v1.pdf\n",
      "articles_v1/oc/2502.00411v1/autart.cls\n",
      "articles_v1/oc/2502.00411v1/elsart.cls\n",
      "articles_v1/oc/2502.00411v1/maindoc.tex\n",
      "articles_v1/pr/2502.00073v1/2502.00073v1.pdf\n",
      "articles_v1/pr/2502.00073v1/Kim.tex\n",
      "articles_v1/pr/2502.00073v1/svmult.cls\n",
      "articles_v1/pr/2502.00189v1/2502.00189v1.pdf\n",
      "articles_v1/pr/2502.00189v1/Yamada-Watanabe.bbl\n",
      "articles_v1/pr/2502.00189v1/Yamada-Watanabe.tex\n",
      "articles_v1/pr/2502.00269v1/2502.00269v1.pdf\n",
      "articles_v1/pr/2502.00269v1/images/N_10_5_m_100_n_100_p_07.png\n",
      "articles_v1/pr/2502.00269v1/images/N_10_5_m_20_n_100_p_07.png\n",
      "articles_v1/pr/2502.00269v1/images/low_res_N_10_4_n_100_p_1.png\n",
      "articles_v1/pr/2502.00269v1/main.tex\n",
      "articles_v1/pr/2502.00371v1/2502.00371v1.pdf\n",
      "articles_v1/pr/2502.00371v1/Paper_Lp.bbl\n",
      "articles_v1/pr/2502.00371v1/Paper_Lp.out\n",
      "articles_v1/pr/2502.00371v1/Paper_Lp.tex\n",
      "articles_v1/pr/2502.00371v1/Ref.bib\n",
      "articles_v1/qa/2502.01766v1/2502.01766v1.pdf\n",
      "articles_v1/qa/2502.01766v1/Arxiv.02.02.2025.tex\n",
      "articles_v1/qa/2502.02532v2/2502.02532v2.pdf\n",
      "articles_v1/qa/2502.02532v2/Division-Algebras-in-Monoidal-Categories-ArXivv2.bbl\n",
      "articles_v1/qa/2502.02532v2/Division-Algebras-in-Monoidal-Categories-ArXivv2.tex\n",
      "articles_v1/qa/2502.02532v2/quiver.sty\n",
      "articles_v1/qa/2502.03175v1/2502.03175v1.pdf\n",
      "articles_v1/qa/2502.03175v1/ref.bib\n",
      "articles_v1/qa/2502.03175v1/valog.bbl\n",
      "articles_v1/qa/2502.03175v1/valog.bcf\n",
      "articles_v1/qa/2502.03175v1/valog.bib\n",
      "articles_v1/qa/2502.03175v1/valog.run.xml\n",
      "articles_v1/qa/2502.03175v1/valog.tex\n",
      "articles_v1/qa/2502.04267v1/2502.04267v1.pdf\n",
      "articles_v1/qa/2502.04267v1/Boundary_move.pdf\n",
      "articles_v1/qa/2502.04267v1/Boundary_move.pdf_tex\n",
      "articles_v1/qa/2502.04267v1/JGamma.pdf\n",
      "articles_v1/qa/2502.04267v1/JGamma.pdf_tex\n",
      "articles_v1/qa/2502.04267v1/JGamma_Inverse.pdf\n",
      "articles_v1/qa/2502.04267v1/JGamma_Inverse.pdf_tex\n",
      "articles_v1/qa/2502.04267v1/actionBoundaryOnEmpty.pdf\n",
      "articles_v1/qa/2502.04267v1/actionBoundaryOnEmpty.pdf_tex\n",
      "articles_v1/qa/2502.04267v1/actionHStated.pdf\n",
      "articles_v1/qa/2502.04267v1/actionHStated.pdf_tex\n",
      "articles_v1/qa/2502.04267v1/actionL10Stated.pdf\n",
      "articles_v1/qa/2502.04267v1/actionL10Stated.pdf_tex\n",
      "articles_v1/qa/2502.04267v1/article_rep_derivees.tex\n",
      "articles_v1/qa/2502.04267v1/basedBoundaryMove.pdf\n",
      "articles_v1/qa/2502.04267v1/basedBoundaryMove.pdf_tex\n",
      "articles_v1/qa/2502.04267v1/coloredSurface.pdf\n",
      "articles_v1/qa/2502.04267v1/coloredSurface.pdf_tex\n",
      "articles_v1/qa/2502.04267v1/coloredSurfaceIntro.pdf\n",
      "articles_v1/qa/2502.04267v1/coloredSurfaceIntro.pdf_tex\n",
      "articles_v1/qa/2502.04267v1/configurationCaps.pdf\n",
      "articles_v1/qa/2502.04267v1/configurationCaps.pdf_tex\n",
      "articles_v1/qa/2502.04267v1/configurationCapsNeg.pdf\n",
      "articles_v1/qa/2502.04267v1/configurationCapsNeg.pdf_tex\n",
      "articles_v1/qa/2502.04267v1/courbesCanoniques.pdf\n",
      "articles_v1/qa/2502.04267v1/courbesCanoniques.pdf_tex\n",
      "articles_v1/qa/2502.04267v1/eval_hennings.pdf\n",
      "articles_v1/qa/2502.04267v1/eval_hennings.pdf_tex\n",
      "articles_v1/qa/2502.04267v1/exampleBasedKnots.pdf\n",
      "articles_v1/qa/2502.04267v1/exampleBasedKnots.pdf_tex\n",
      "articles_v1/qa/2502.04267v1/exampleWilson.pdf\n",
      "articles_v1/qa/2502.04267v1/exampleWilson.pdf_tex\n",
      "articles_v1/qa/2502.04267v1/exampleWilsonComputation.pdf\n",
      "articles_v1/qa/2502.04267v1/exampleWilsonComputation.pdf_tex\n",
      "articles_v1/qa/2502.04267v1/exempleNormalisation.pdf\n",
      "articles_v1/qa/2502.04267v1/exempleNormalisation.pdf_tex\n",
      "articles_v1/qa/2502.04267v1/positivelyOriented.pdf\n",
      "articles_v1/qa/2502.04267v1/positivelyOriented.pdf_tex\n",
      "articles_v1/qa/2502.04267v1/possibiliesBasedKnots.pdf\n",
      "articles_v1/qa/2502.04267v1/possibiliesBasedKnots.pdf_tex\n",
      "articles_v1/qa/2502.04267v1/preuve2Plus.pdf\n",
      "articles_v1/qa/2502.04267v1/preuve2Plus.pdf_tex\n",
      "articles_v1/qa/2502.04267v1/preuve4Moins.pdf\n",
      "articles_v1/qa/2502.04267v1/preuve4Moins.pdf_tex\n",
      "articles_v1/qa/2502.04267v1/preuveExchangeCapBasepoint.pdf\n",
      "articles_v1/qa/2502.04267v1/preuveExchangeCapBasepoint.pdf_tex\n",
      "articles_v1/qa/2502.04267v1/preuveExchangeCapBasepoint2.pdf\n",
      "articles_v1/qa/2502.04267v1/preuveExchangeCapBasepoint2.pdf_tex\n",
      "articles_v1/qa/2502.04267v1/proofBasedBoundaryMove.pdf\n",
      "articles_v1/qa/2502.04267v1/proofBasedBoundaryMove.pdf_tex\n",
      "articles_v1/qa/2502.04267v1/proofJGammaMorph.pdf\n",
      "articles_v1/qa/2502.04267v1/proofJGammaMorph.pdf_tex\n",
      "articles_v1/qa/2502.04267v1/relsCoeffsMatSkein.pdf\n",
      "articles_v1/qa/2502.04267v1/relsCoeffsMatSkein.pdf_tex\n",
      "articles_v1/qa/2502.04267v1/removeBasepointUqg.pdf\n",
      "articles_v1/qa/2502.04267v1/removeBasepointUqg.pdf_tex\n",
      "articles_v1/qa/2502.04267v1/statedSkeinRels.pdf\n",
      "articles_v1/qa/2502.04267v1/statedSkeinRels.pdf_tex\n",
      "articles_v1/qa/2502.04267v1/surface2.pdf\n",
      "articles_v1/qa/2502.04267v1/surface2.pdf_tex\n",
      "articles_v1/qa/2502.04267v1/surfaceGNAvecCourbes.pdf\n",
      "articles_v1/qa/2502.04267v1/surfaceGNAvecCourbes.pdf_tex\n",
      "articles_v1/ra/2502.00770v1/2502.00770v1.pdf\n",
      "articles_v1/ra/2502.00770v1/CountingSemifieldsFinal.tex\n",
      "articles_v1/ra/2502.00868v1/2502.00868v1.pdf\n",
      "articles_v1/ra/2502.00868v1/Greece.jpg\n",
      "articles_v1/ra/2502.00868v1/elidek-eps-converted-to.pdf\n",
      "articles_v1/ra/2502.00868v1/elidek.eps\n",
      "articles_v1/ra/2502.00868v1/paper_new.tex\n",
      "articles_v1/ra/2502.01266v1/2502.01266v1.pdf\n",
      "articles_v1/ra/2502.01266v1/Cha_Lae_Derived_operators.tex\n",
      "articles_v1/ra/2502.01928v1/2502.01928v1.pdf\n",
      "articles_v1/ra/2502.01928v1/main23.tex\n",
      "articles_v1/rt/2502.00387v1/2502.00387v1.pdf\n",
      "articles_v1/rt/2502.00387v1/CCR-GeneralRings-v5.tex\n",
      "articles_v1/rt/2502.00420v1/2502.00420v1.pdf\n",
      "articles_v1/rt/2502.00420v1/main-2.tex\n",
      "articles_v1/rt/2502.00774v1/2502.00774v1.pdf\n",
      "articles_v1/rt/2502.00774v1/chartrip.tex\n",
      "articles_v1/rt/2502.00781v1/2502.00781v1.pdf\n",
      "articles_v1/rt/2502.00781v1/SpecTrans2.bbl\n",
      "articles_v1/rt/2502.00781v1/SpecTrans2.tex\n",
      "articles_v1/sg/2502.00216v1/2502.00216v1.pdf\n",
      "articles_v1/sg/2502.00216v1/floerfolds.bbl\n",
      "articles_v1/sg/2502.00216v1/floerfolds.tex\n",
      "articles_v1/sg/2502.00216v1/joa-environments-english.tex\n",
      "articles_v1/sg/2502.00216v1/joa-latex-shortcuts.tex\n",
      "articles_v1/sg/2502.00437v2/2502.00437v2.pdf\n",
      "articles_v1/sg/2502.00437v2/A_Remark.tex\n",
      "articles_v1/sg/2502.02224v2/2502.02224v2.pdf\n",
      "articles_v1/sg/2502.02224v2/main.bbl\n",
      "articles_v1/sg/2502.02224v2/main.tex\n",
      "articles_v1/sg/2502.02935v1/2502.02935v1.pdf\n",
      "articles_v1/sg/2502.02935v1/contact_integrability_sb_mat_final_2025.tex\n",
      "articles_v1/sp/2502.00143v1/2502.00143v1.pdf\n",
      "articles_v1/sp/2502.00143v1/Bicharacteristic_curve.png\n",
      "articles_v1/sp/2502.00143v1/Conservation_of_angle_different_sigma.png\n",
      "articles_v1/sp/2502.00143v1/Convexity_of_q1.png\n",
      "articles_v1/sp/2502.00143v1/Ellipsoids_of_revolution.png\n",
      "articles_v1/sp/2502.00143v1/Full_u_t_at_Equator.png\n",
      "articles_v1/sp/2502.00143v1/Full_u_t_away_from_Equator.png\n",
      "articles_v1/sp/2502.00143v1/Fullu_t_near_Equator.png\n",
      "articles_v1/sp/2502.00143v1/GeneralAntipod.png\n",
      "articles_v1/sp/2502.00143v1/Intersection_of_bicharacteristics.png\n",
      "articles_v1/sp/2502.00143v1/Inversion_of_angles_between_velocities.png\n",
      "articles_v1/sp/2502.00143v1/Nearhorizontal.png\n",
      "articles_v1/sp/2502.00143v1/Omega_t_sim_sigma_t.png\n",
      "articles_v1/sp/2502.00143v1/Partitionnotequator.png\n",
      "articles_v1/sp/2502.00143v1/Partitionsig0.png\n",
      "articles_v1/sp/2502.00143v1/Picture_of_u_sigma_w.png\n",
      "articles_v1/sp/2502.00143v1/Q_is_tilted.png\n",
      "articles_v1/sp/2502.00143v1/Surfaces_of_rev.png\n",
      "articles_v1/sp/2502.00143v1/The_curve_N_sigma.png\n",
      "articles_v1/sp/2502.00143v1/Threezones.png\n",
      "articles_v1/sp/2502.00143v1/Torus_proof_bicharacteristic.png\n",
      "articles_v1/sp/2502.00143v1/TsimSigma.png\n",
      "articles_v1/sp/2502.00143v1/Verticalbicharact.png\n",
      "articles_v1/sp/2502.00143v1/Visualisation_of_Lambda.png\n",
      "articles_v1/sp/2502.00143v1/What_is_nabla_xi_q1.png\n",
      "articles_v1/sp/2502.00143v1/biblio.bib\n",
      "articles_v1/sp/2502.00143v1/figurealpha0.png\n",
      "articles_v1/sp/2502.00143v1/imageofgamma0.png\n",
      "articles_v1/sp/2502.00143v1/main.bbl\n",
      "articles_v1/sp/2502.00143v1/main.tex\n",
      "articles_v1/sp/2502.00143v1/normal_t_not_Equator.png\n",
      "articles_v1/sp/2502.00143v1/t_0_at_Equator.png\n",
      "articles_v1/sp/2502.00143v1/t_0_away_from_Equator.png\n",
      "articles_v1/sp/2502.00143v1/t_pi_near_Equator.png\n",
      "articles_v1/sp/2502.00143v1/t_xi_structure_of_the_singular_set_at_antipods.png\n",
      "articles_v1/sp/2502.00143v1/t_xi_structure_of_the_singular_set_near_0.png\n",
      "articles_v1/sp/2502.00143v1/tustructureincolor.png\n",
      "articles_v1/sp/2502.01099v1/2+1.tex\n",
      "articles_v1/sp/2502.01099v1/2502.01099v1.pdf\n",
      "articles_v1/sp/2502.01291v1/13Hzl.jpg\n",
      "articles_v1/sp/2502.01291v1/13Hzl.png\n",
      "articles_v1/sp/2502.01291v1/2502.01291v1.pdf\n",
      "articles_v1/sp/2502.01291v1/Polygons.png\n",
      "articles_v1/sp/2502.01291v1/Til.png\n",
      "articles_v1/sp/2502.01291v1/ellcoord.png\n",
      "articles_v1/sp/2502.01291v1/main.bbl\n",
      "articles_v1/sp/2502.01291v1/main.bib\n",
      "articles_v1/sp/2502.01291v1/main.out\n",
      "articles_v1/sp/2502.01291v1/main.tex\n",
      "articles_v1/sp/2502.01291v1/main.toc\n",
      "articles_v1/sp/2502.01291v1/nest.png\n",
      "articles_v1/sp/2502.01291v1/tiling.png\n",
      "articles_v1/sp/2502.01314v1/2502.01314v1.pdf\n",
      "articles_v1/sp/2502.01314v1/bibl.bib\n",
      "articles_v1/sp/2502.01314v1/main.bbl\n",
      "articles_v1/sp/2502.01314v1/main.tex\n",
      "articles_v1/st/2502.00092v1/2502.00092v1.pdf\n",
      "articles_v1/st/2502.00092v1/3D-Grafik_24nm_A.png\n",
      "articles_v1/st/2502.00092v1/3D-Grafik_35nm_A.png\n",
      "articles_v1/st/2502.00092v1/3D-Grafik_7nm_A.png\n",
      "articles_v1/st/2502.00092v1/Makefile\n",
      "articles_v1/st/2502.00092v1/PictureAlgorithm.pdf\n",
      "articles_v1/st/2502.00092v1/PictureDiscretization.png\n",
      "articles_v1/st/2502.00092v1/Surface.pdf\n",
      "articles_v1/st/2502.00092v1/Tensor1.pdf\n",
      "articles_v1/st/2502.00092v1/Tensor2.pdf\n",
      "articles_v1/st/2502.00092v1/Volume.pdf\n",
      "articles_v1/st/2502.00092v1/grains.png\n",
      "articles_v1/st/2502.00092v1/grains_new.png\n",
      "articles_v1/st/2502.00092v1/my-plain.bst\n",
      "articles_v1/st/2502.00092v1/voromink.bbl\n",
      "articles_v1/st/2502.00092v1/voromink.bib\n",
      "articles_v1/st/2502.00092v1/voromink.brf\n",
      "articles_v1/st/2502.00092v1/voromink.out\n",
      "articles_v1/st/2502.00092v1/voromink.tex\n",
      "articles_v1/st/2502.00092v1/voromink.toc\n",
      "articles_v1/st/2502.00178v1/2502.00178v1.pdf\n",
      "articles_v1/st/2502.00178v1/censure_massive_JSCS_arxiv.tex\n",
      "articles_v1/st/2502.00178v1/evol_betaKn_w.png\n",
      "articles_v1/st/2502.00178v1/evol_betawn_K.png\n",
      "articles_v1/st/2502.00178v1/evol_diffbeta_b0_A2n.png\n",
      "articles_v1/st/2502.00178v1/evol_diffbeta_b0bn.png\n",
      "articles_v1/st/2502.00178v1/evol_hatA_b0_A2n.png\n",
      "articles_v1/st/2502.00178v1/evol_hatA_b0bn.png\n",
      "articles_v1/st/2502.00178v1/evol_nhatA_b0_A2n.png\n",
      "articles_v1/st/2502.00178v1/evol_nhatA_b0bn.png\n",
      "articles_v1/st/2502.00178v1/evol_nhatAn_K.png\n",
      "articles_v1/st/2502.00178v1/evol_nhatAn_w.png\n",
      "articles_v1/st/2502.00178v1/fig_BIC_expectile_n1000_p100E.png\n",
      "articles_v1/st/2502.00178v1/fig_BIC_expectile_n1000_p10E.png\n",
      "articles_v1/st/2502.00178v1/fig_BIC_quantile_n1000_p100E.png\n",
      "articles_v1/st/2502.00178v1/fig_BIC_quantile_n1000_p10E.png\n",
      "articles_v1/st/2502.00178v1/normalite_beta1n_expectile.png\n",
      "articles_v1/st/2502.00178v1/normalite_beta1n_quantile.png\n",
      "articles_v1/st/2502.00349v1/2502.00349v1.pdf\n",
      "articles_v1/st/2502.00349v1/Combined_graphs_new.pdf\n",
      "articles_v1/st/2502.00349v1/QDFCRE_of_power_and_rescaled_beta.pdf\n",
      "articles_v1/st/2502.00349v1/QFCRE.bbl\n",
      "articles_v1/st/2502.00349v1/QFCRE.tex\n",
      "articles_v1/st/2502.00349v1/QFCRE14_19.pdf\n",
      "articles_v1/st/2502.00349v1/QFCRE_of_exponential.pdf\n",
      "articles_v1/st/2502.00349v1/QFCRE_plot_2.pdf\n",
      "articles_v1/st/2502.00349v1/Transformed_price_returns.pdf\n",
      "articles_v1/st/2502.00349v1/financial_data.pdf\n",
      "articles_v1/st/2502.00349v1/logistic_map_new.pdf\n",
      "articles_v1/st/2502.00349v1/ref.bib\n",
      "articles_v1/st/2502.00812v2/2502.00812v2.pdf\n",
      "articles_v1/st/2502.00812v2/dsips.tex\n",
      "articles_v1/st/2502.00812v2/lattice.eps\n"
     ]
    }
   ],
   "source": [
    "for name in math_article_repository.list_math_article_names():\n",
    "    print(name)"
   ]
  },
  {
   "cell_type": "markdown",
   "metadata": {},
   "source": [
    "### Parse"
   ]
  },
  {
   "cell_type": "code",
   "execution_count": 10,
   "metadata": {},
   "outputs": [],
   "source": [
    "from math_rag.infrastructure.services import LatexService\n",
    "\n",
    "\n",
    "latex_service = LatexService()"
   ]
  },
  {
   "cell_type": "code",
   "execution_count": null,
   "metadata": {},
   "outputs": [],
   "source": [
    "file_names = math_article_repository.list_math_article_names()\n",
    "file_names = [x for x in file_names if x.endswith('.tex')]\n",
    "\n",
    "math_nodes_by_file_name: dict[str, list[LatexMathNode]] = {}\n",
    "\n",
    "for name in file_names:\n",
    "    math_article = math_article_repository.get_math_article_by_name(name)\n",
    "    latex = latex_service.read(math_article.bytes)\n",
    "    nodes = latex_service.parse(latex)\n",
    "\n",
    "    math_nodes_by_file_name[name] = []\n",
    "    append_math_node = lambda x: math_nodes_by_file_name[name].append(x)\n",
    "    callbacks = {LatexMathNode: append_math_node}\n",
    "\n",
    "    latex_service.traverse(nodes, callbacks)"
   ]
  },
  {
   "cell_type": "code",
   "execution_count": 15,
   "metadata": {},
   "outputs": [],
   "source": [
    "import re\n",
    "\n",
    "from math_rag.core.enums import MathCategory\n",
    "from math_rag.core.models import MathExpression\n",
    "\n",
    "\n",
    "math_expressions: list[MathExpression] = []\n",
    "\n",
    "for file_name, math_nodes in math_nodes_by_file_name.items():\n",
    "    category_slug = re.search(r'articles_v\\d+/([^/]+)/', file_name).group(1)\n",
    "\n",
    "    for math_node in math_nodes:\n",
    "        category = MathCategory.from_str(category_slug)\n",
    "        math_expression = MathExpression(\n",
    "            latex=math_node.latex_verbatim(),\n",
    "            position=math_node.pos,\n",
    "            is_inline=math_node.displaytype == 'inline',\n",
    "            math_category=category,\n",
    "        )\n",
    "        math_expressions.append(math_expression)"
   ]
  },
  {
   "cell_type": "code",
   "execution_count": 16,
   "metadata": {},
   "outputs": [],
   "source": [
    "await math_expression_repository.insert_math_expressions(math_expressions)"
   ]
  },
  {
   "cell_type": "markdown",
   "metadata": {},
   "source": [
    "### Display"
   ]
  },
  {
   "cell_type": "code",
   "execution_count": 10,
   "metadata": {},
   "outputs": [],
   "source": [
    "def fix_latex(latex_str: str):\n",
    "    fixed = latex_str.replace('\\\\[', '$$').replace('\\\\]', '$$')\n",
    "    fixed = fixed.replace('\\\\EE', '\\\\mathbb{E}')\n",
    "    fixed = fixed.replace('\\\\II', '\\\\mathbb{I}')\n",
    "    fixed = fixed.replace('\\\\Var', '\\\\mathrm{Var}')\n",
    "    fixed = fixed.replace('\\\\HH', '\\\\mathbb{H}')\n",
    "    fixed = fixed.replace('\\\\AND', '\\\\wedge')\n",
    "    fixed = fixed.replace('\\\\OR', '\\\\vee')\n",
    "    fixed = fixed.replace('\\\\mathbbm{1}', '\\\\mathbf{1}')\n",
    "    fixed = fixed.replace('\\\\Maj', '\\\\mathrm{Maj}')\n",
    "    fixed = fixed.replace('\\\\sgn', '\\\\operatorname{sgn}')\n",
    "    fixed = fixed.replace('\\\\Tribus', '\\\\mathrm{Tribus}')\n",
    "    fixed = fixed.replace('\\\\linebreak', '\\\\text{ }')\n",
    "    fixed = fixed.replace('\\\\Prob', '\\\\mathbb{P}')\n",
    "    fixed = fixed.replace('\\\\WW', '\\\\mathcal{W}')\n",
    "\n",
    "    return fixed"
   ]
  },
  {
   "cell_type": "code",
   "execution_count": null,
   "metadata": {},
   "outputs": [],
   "source": [
    "for i, latex_math_node in enumerate(math_nodes[:100]):\n",
    "    latex = latex_math_node.latex_verbatim()\n",
    "    latex_fixed = fix_latex(latex)\n",
    "    math_display_object = Math(latex_fixed)\n",
    "\n",
    "    # print(i)\n",
    "    # print(math_display_object._repr_latex_())\n",
    "\n",
    "    display(math_display_object)"
   ]
  },
  {
   "cell_type": "markdown",
   "metadata": {},
   "source": [
    "### Classify"
   ]
  },
  {
   "cell_type": "code",
   "execution_count": 5,
   "metadata": {},
   "outputs": [],
   "source": [
    "from decouple import config\n",
    "\n",
    "from math_rag.infrastructure.inference.llms import LLM\n",
    "\n",
    "\n",
    "OPENAI_BASE_URL = config('OPENAI_BASE_URL')\n",
    "OPENAI_API_KEY = config('OPENAI_API_KEY')"
   ]
  },
  {
   "cell_type": "code",
   "execution_count": 6,
   "metadata": {},
   "outputs": [],
   "source": [
    "llm = LLM(model='gpt-4o', base_url=OPENAI_BASE_URL, api_key=OPENAI_API_KEY)"
   ]
  },
  {
   "cell_type": "code",
   "execution_count": 5,
   "metadata": {},
   "outputs": [],
   "source": [
    "# math_expr = math_nodes[13].latex_verbatim()  # 13\n",
    "math_expr = '$\\\\mu(x)=\\\\frac{1}{2^n}$'"
   ]
  },
  {
   "cell_type": "code",
   "execution_count": null,
   "metadata": {},
   "outputs": [],
   "source": [
    "prompt = f\"\"\"\n",
    "You are a mathematical expression classifier.\n",
    "Given a mathematical expression, classify it in one of 4 given classes:\n",
    "- constant\n",
    "- variable\n",
    "- formula\n",
    "- other\n",
    "\n",
    "Return a class only!\n",
    "\n",
    "Mathematical expression:\n",
    "{math_expr}\n",
    "\n",
    "Class:\n",
    "\"\"\""
   ]
  },
  {
   "cell_type": "code",
   "execution_count": 7,
   "metadata": {},
   "outputs": [],
   "source": [
    "from openai import NOT_GIVEN\n",
    "from openai.types.chat import ChatCompletion\n",
    "\n",
    "\n",
    "def get_prompt(math_expr: str) -> str:\n",
    "    return f\"\"\"\n",
    "You are a mathematical expression classifier.\n",
    "Given a mathematical expression, classify it in a single class regarding STRUCTURE of the expression.\n",
    "Class must be a single word.\n",
    "\n",
    "Return a class only!\n",
    "\n",
    "Mathematical expression:\n",
    "{math_expr}\n",
    "\n",
    "Class:\n",
    "\"\"\"\n",
    "\n",
    "\n",
    "use_json = False\n",
    "\n",
    "\n",
    "async def get_completion(prompt: str) -> ChatCompletion:\n",
    "    return await llm.client.chat.completions.create(\n",
    "        model='gpt-4o',\n",
    "        messages=[{'role': 'user', 'content': prompt}],\n",
    "        response_format={'type': 'json_object'} if use_json else NOT_GIVEN,\n",
    "        logprobs=True,\n",
    "        temperature=0.0,\n",
    "        top_logprobs=5,\n",
    "    )"
   ]
  },
  {
   "cell_type": "code",
   "execution_count": 8,
   "metadata": {},
   "outputs": [],
   "source": [
    "math_expressions_by_category = (\n",
    "    await math_expression_repository.get_math_expressions_by_category(32)\n",
    ")"
   ]
  },
  {
   "cell_type": "code",
   "execution_count": null,
   "metadata": {},
   "outputs": [],
   "source": [
    "from math_rag.core.models import MathExpressionPrediction\n",
    "\n",
    "\n",
    "completions: list[ChatCompletion] = []\n",
    "predictions: list[MathExpressionPrediction] = []\n",
    "\n",
    "from time import sleep\n",
    "\n",
    "\n",
    "for category, math_expressions in math_expressions_by_category.items():\n",
    "    for math_expression in math_expressions:\n",
    "        if math_expression.id in processed_ids:\n",
    "            continue\n",
    "\n",
    "        prompt = get_prompt(math_expression.latex)\n",
    "        completion = await get_completion(prompt)\n",
    "\n",
    "        prediction = MathExpressionPrediction(\n",
    "            math_expression_id=math_expression.id,\n",
    "            value=completion.choices[0].message.content,\n",
    "        )\n",
    "        completions.append(completion)\n",
    "        predictions.append(prediction)\n",
    "\n",
    "        # await math_expression_prediction_repository.insert_math_expression_predictions([prediction])\n",
    "        sleep(1)"
   ]
  },
  {
   "cell_type": "code",
   "execution_count": null,
   "metadata": {},
   "outputs": [],
   "source": [
    "await math_expression_prediction_repository.insert_math_expression_predictions(\n",
    "    predictions\n",
    ")"
   ]
  },
  {
   "cell_type": "code",
   "execution_count": 15,
   "metadata": {},
   "outputs": [],
   "source": [
    "import json\n",
    "\n",
    "\n",
    "with open('../tmp/completions.json', 'w') as json_file:\n",
    "    json.dump([x.to_dict() for x in completions], json_file, indent=4)"
   ]
  },
  {
   "cell_type": "code",
   "execution_count": null,
   "metadata": {},
   "outputs": [],
   "source": [
    "from uuid import UUID\n",
    "\n",
    "\n",
    "class UUIDEncoder(json.JSONEncoder):\n",
    "    def default(self, obj):\n",
    "        if isinstance(obj, UUID):\n",
    "            return str(obj)\n",
    "\n",
    "        return super().default(obj)\n",
    "\n",
    "\n",
    "with open('../tmp/predictions.json', 'w') as json_file:\n",
    "    json.dump(\n",
    "        [x.model_dump() for x in predictions], json_file, indent=4, cls=UUIDEncoder\n",
    "    )"
   ]
  },
  {
   "cell_type": "code",
   "execution_count": null,
   "metadata": {},
   "outputs": [
    {
     "data": {
      "text/plain": [
       "'Function'"
      ]
     },
     "execution_count": 9,
     "metadata": {},
     "output_type": "execute_result"
    }
   ],
   "source": [
    "completion = get_completion()\n",
    "\n",
    "completion.choices[0].message.content"
   ]
  },
  {
   "cell_type": "code",
   "execution_count": 57,
   "metadata": {},
   "outputs": [
    {
     "name": "stdout",
     "output_type": "stream",
     "text": [
      "\"formula\": 0.9999996871837189\n",
      "\" formula\": 9.931194312156244e-08\n",
      "\"Formula\": 7.734421907141565e-08\n",
      "\"_formula\": 9.237449661970594e-09\n",
      "\"form\": 2.061153622438558e-09\n",
      "------\n",
      "formula\n",
      "-3.1281633e-07\n",
      "0.9999996871837189\n"
     ]
    }
   ],
   "source": [
    "import numpy as np\n",
    "\n",
    "\n",
    "for x in completion.choices[0].logprobs.content:\n",
    "    for y in x.top_logprobs:\n",
    "        print(f'\"{y.token}\": {np.exp(y.logprob)}')\n",
    "\n",
    "    print('------')\n",
    "    print(x.token)\n",
    "    print(x.logprob)\n",
    "    print(np.exp(x.logprob))"
   ]
  },
  {
   "cell_type": "code",
   "execution_count": null,
   "metadata": {},
   "outputs": [],
   "source": [
    "# TODO\n",
    "# - description for each class\n",
    "# - how to determine classes?\n",
    "# - do names need to take a single token?"
   ]
  },
  {
   "cell_type": "code",
   "execution_count": null,
   "metadata": {},
   "outputs": [],
   "source": [
    "from enum import Enum\n",
    "\n",
    "\n",
    "class MathExpressionCategory(str, Enum):\n",
    "    EQUALITY = 'equality'\n",
    "    INEQUALITY = 'inequality'\n",
    "    CONSTANT = 'constant'\n",
    "    VARIABLE = 'variable'\n",
    "    OTHER = 'other'"
   ]
  },
  {
   "cell_type": "code",
   "execution_count": 5,
   "metadata": {},
   "outputs": [],
   "source": [
    "predictions = (\n",
    "    await math_expression_prediction_repository.get_math_expression_predictions(1024)\n",
    ")"
   ]
  },
  {
   "cell_type": "code",
   "execution_count": 6,
   "metadata": {},
   "outputs": [],
   "source": [
    "expressions = [\n",
    "    await math_expression_repository.get_math_expression_by_id(\n",
    "        prediction.math_expression_id\n",
    "    )\n",
    "    for prediction in predictions\n",
    "]"
   ]
  },
  {
   "cell_type": "code",
   "execution_count": 12,
   "metadata": {},
   "outputs": [
    {
     "name": "stdout",
     "output_type": "stream",
     "text": [
      "Tuple\n"
     ]
    },
    {
     "data": {
      "text/latex": [
       "$\\displaystyle (M,J,g)$"
      ],
      "text/plain": [
       "<IPython.core.display.Math object>"
      ]
     },
     "metadata": {},
     "output_type": "display_data"
    },
    {
     "name": "stdout",
     "output_type": "stream",
     "text": [
      "-----\n",
      "set\n"
     ]
    },
    {
     "data": {
      "text/latex": [
       "$\\displaystyle \\{U_i\\}_{i \\in I}$"
      ],
      "text/plain": [
       "<IPython.core.display.Math object>"
      ]
     },
     "metadata": {},
     "output_type": "display_data"
    },
    {
     "name": "stdout",
     "output_type": "stream",
     "text": [
      "-----\n",
      "Variable\n"
     ]
    },
    {
     "data": {
      "text/latex": [
       "$\\displaystyle M$"
      ],
      "text/plain": [
       "<IPython.core.display.Math object>"
      ]
     },
     "metadata": {},
     "output_type": "display_data"
    },
    {
     "name": "stdout",
     "output_type": "stream",
     "text": [
      "-----\n",
      "function\n"
     ]
    },
    {
     "data": {
      "text/latex": [
       "$\\displaystyle f_i \\in C^{\\infty}(U_i)$"
      ],
      "text/plain": [
       "<IPython.core.display.Math object>"
      ]
     },
     "metadata": {},
     "output_type": "display_data"
    },
    {
     "name": "stdout",
     "output_type": "stream",
     "text": [
      "-----\n",
      "Substitution\n"
     ]
    },
    {
     "data": {
      "text/latex": [
       "$\\displaystyle e^{-f_i}g|_{U_i}$"
      ],
      "text/plain": [
       "<IPython.core.display.Math object>"
      ]
     },
     "metadata": {},
     "output_type": "display_data"
    },
    {
     "name": "stdout",
     "output_type": "stream",
     "text": [
      "-----\n",
      "variable\n"
     ]
    },
    {
     "data": {
      "text/latex": [
       "$\\displaystyle g$"
      ],
      "text/plain": [
       "<IPython.core.display.Math object>"
      ]
     },
     "metadata": {},
     "output_type": "display_data"
    },
    {
     "name": "stdout",
     "output_type": "stream",
     "text": [
      "-----\n",
      "constant\n"
     ]
    },
    {
     "data": {
      "text/latex": [
       "$\\displaystyle 1$"
      ],
      "text/plain": [
       "<IPython.core.display.Math object>"
      ]
     },
     "metadata": {},
     "output_type": "display_data"
    },
    {
     "name": "stdout",
     "output_type": "stream",
     "text": [
      "-----\n",
      "variable\n"
     ]
    },
    {
     "data": {
      "text/latex": [
       "$\\displaystyle \\theta$"
      ],
      "text/plain": [
       "<IPython.core.display.Math object>"
      ]
     },
     "metadata": {},
     "output_type": "display_data"
    },
    {
     "name": "stdout",
     "output_type": "stream",
     "text": [
      "-----\n",
      "Equation\n"
     ]
    },
    {
     "data": {
      "text/latex": [
       "$\\displaystyle d\\omega = \\theta \\w \\omega$"
      ],
      "text/plain": [
       "<IPython.core.display.Math object>"
      ]
     },
     "metadata": {},
     "output_type": "display_data"
    },
    {
     "name": "stdout",
     "output_type": "stream",
     "text": [
      "-----\n",
      "Definition\n"
     ]
    },
    {
     "data": {
      "text/latex": [
       "$\\displaystyle \\omega(\\cdot \\, , \\cdot) \\coloneqq g(J\\cdot \\, ,\\cdot)$"
      ],
      "text/plain": [
       "<IPython.core.display.Math object>"
      ]
     },
     "metadata": {},
     "output_type": "display_data"
    },
    {
     "name": "stdout",
     "output_type": "stream",
     "text": [
      "-----\n",
      "Equation\n"
     ]
    },
    {
     "data": {
      "text/latex": [
       "$\\displaystyle \\nabla \\theta = 0$"
      ],
      "text/plain": [
       "<IPython.core.display.Math object>"
      ]
     },
     "metadata": {},
     "output_type": "display_data"
    },
    {
     "name": "stdout",
     "output_type": "stream",
     "text": [
      "-----\n",
      "variable\n"
     ]
    },
    {
     "data": {
      "text/latex": [
       "$\\displaystyle L$"
      ],
      "text/plain": [
       "<IPython.core.display.Math object>"
      ]
     },
     "metadata": {},
     "output_type": "display_data"
    },
    {
     "name": "stdout",
     "output_type": "stream",
     "text": [
      "-----\n",
      "function\n"
     ]
    },
    {
     "data": {
      "text/latex": [
       "$\\displaystyle \\log(Q+s)$"
      ],
      "text/plain": [
       "<IPython.core.display.Math object>"
      ]
     },
     "metadata": {},
     "output_type": "display_data"
    },
    {
     "name": "stdout",
     "output_type": "stream",
     "text": [
      "-----\n",
      "parenthesis\n"
     ]
    },
    {
     "data": {
      "text/latex": [
       "$\\displaystyle (Q+s)$"
      ],
      "text/plain": [
       "<IPython.core.display.Math object>"
      ]
     },
     "metadata": {},
     "output_type": "display_data"
    },
    {
     "name": "stdout",
     "output_type": "stream",
     "text": [
      "-----\n",
      "Variable\n"
     ]
    },
    {
     "data": {
      "text/latex": [
       "$\\displaystyle G$"
      ],
      "text/plain": [
       "<IPython.core.display.Math object>"
      ]
     },
     "metadata": {},
     "output_type": "display_data"
    },
    {
     "name": "stdout",
     "output_type": "stream",
     "text": [
      "-----\n",
      "Function\n"
     ]
    },
    {
     "data": {
      "text/latex": [
       "$\\displaystyle \\Gamma$"
      ],
      "text/plain": [
       "<IPython.core.display.Math object>"
      ]
     },
     "metadata": {},
     "output_type": "display_data"
    },
    {
     "name": "stdout",
     "output_type": "stream",
     "text": [
      "-----\n",
      "Variable\n"
     ]
    },
    {
     "data": {
      "text/latex": [
       "$\\displaystyle G$"
      ],
      "text/plain": [
       "<IPython.core.display.Math object>"
      ]
     },
     "metadata": {},
     "output_type": "display_data"
    },
    {
     "name": "stdout",
     "output_type": "stream",
     "text": [
      "-----\n",
      "fraction\n"
     ]
    },
    {
     "data": {
      "text/latex": [
       "$\\displaystyle \\Gamma \\backslash G$"
      ],
      "text/plain": [
       "<IPython.core.display.Math object>"
      ]
     },
     "metadata": {},
     "output_type": "display_data"
    },
    {
     "name": "stdout",
     "output_type": "stream",
     "text": [
      "-----\n",
      "Variable\n"
     ]
    },
    {
     "data": {
      "text/latex": [
       "$\\displaystyle G$"
      ],
      "text/plain": [
       "<IPython.core.display.Math object>"
      ]
     },
     "metadata": {},
     "output_type": "display_data"
    },
    {
     "name": "stdout",
     "output_type": "stream",
     "text": [
      "-----\n",
      "Variable\n"
     ]
    },
    {
     "data": {
      "text/latex": [
       "$\\displaystyle \\fg$"
      ],
      "text/plain": [
       "<IPython.core.display.Math object>"
      ]
     },
     "metadata": {},
     "output_type": "display_data"
    },
    {
     "name": "stdout",
     "output_type": "stream",
     "text": [
      "-----\n",
      "Variable\n"
     ]
    },
    {
     "data": {
      "text/latex": [
       "$\\displaystyle G$"
      ],
      "text/plain": [
       "<IPython.core.display.Math object>"
      ]
     },
     "metadata": {},
     "output_type": "display_data"
    },
    {
     "name": "stdout",
     "output_type": "stream",
     "text": [
      "-----\n",
      "fraction\n"
     ]
    },
    {
     "data": {
      "text/latex": [
       "$\\displaystyle \\Gamma \\backslash G$"
      ],
      "text/plain": [
       "<IPython.core.display.Math object>"
      ]
     },
     "metadata": {},
     "output_type": "display_data"
    },
    {
     "name": "stdout",
     "output_type": "stream",
     "text": [
      "-----\n",
      "function\n"
     ]
    },
    {
     "data": {
      "text/latex": [
       "$\\displaystyle \\mathrm{SL}_2$"
      ],
      "text/plain": [
       "<IPython.core.display.Math object>"
      ]
     },
     "metadata": {},
     "output_type": "display_data"
    },
    {
     "name": "stdout",
     "output_type": "stream",
     "text": [
      "-----\n",
      "function\n"
     ]
    },
    {
     "data": {
      "text/latex": [
       "$\\displaystyle \\mathrm{SL}_2$"
      ],
      "text/plain": [
       "<IPython.core.display.Math object>"
      ]
     },
     "metadata": {},
     "output_type": "display_data"
    },
    {
     "name": "stdout",
     "output_type": "stream",
     "text": [
      "-----\n",
      "Variable\n"
     ]
    },
    {
     "data": {
      "text/latex": [
       "$\\displaystyle \\fg$"
      ],
      "text/plain": [
       "<IPython.core.display.Math object>"
      ]
     },
     "metadata": {},
     "output_type": "display_data"
    },
    {
     "name": "stdout",
     "output_type": "stream",
     "text": [
      "-----\n",
      "Variable\n"
     ]
    },
    {
     "data": {
      "text/latex": [
       "$\\displaystyle G$"
      ],
      "text/plain": [
       "<IPython.core.display.Math object>"
      ]
     },
     "metadata": {},
     "output_type": "display_data"
    },
    {
     "name": "stdout",
     "output_type": "stream",
     "text": [
      "-----\n",
      "Variable\n"
     ]
    },
    {
     "data": {
      "text/latex": [
       "$\\displaystyle \\fg$"
      ],
      "text/plain": [
       "<IPython.core.display.Math object>"
      ]
     },
     "metadata": {},
     "output_type": "display_data"
    },
    {
     "name": "stdout",
     "output_type": "stream",
     "text": [
      "-----\n",
      "list\n"
     ]
    },
    {
     "data": {
      "text/latex": [
       "$\\displaystyle a, b$"
      ],
      "text/plain": [
       "<IPython.core.display.Math object>"
      ]
     },
     "metadata": {},
     "output_type": "display_data"
    },
    {
     "name": "stdout",
     "output_type": "stream",
     "text": [
      "-----\n",
      "sequence\n"
     ]
    },
    {
     "data": {
      "text/latex": [
       "$\\displaystyle G_1,\\ldots, G_r$"
      ],
      "text/plain": [
       "<IPython.core.display.Math object>"
      ]
     },
     "metadata": {},
     "output_type": "display_data"
    },
    {
     "name": "stdout",
     "output_type": "stream",
     "text": [
      "-----\n",
      "function\n"
     ]
    },
    {
     "data": {
      "text/latex": [
       "$\\displaystyle {\\rm Re}(s)\\in [a,b]$"
      ],
      "text/plain": [
       "<IPython.core.display.Math object>"
      ]
     },
     "metadata": {},
     "output_type": "display_data"
    },
    {
     "name": "stdout",
     "output_type": "stream",
     "text": [
      "-----\n",
      "Equation\n"
     ]
    },
    {
     "data": {
      "text/latex": [
       "$\\displaystyle \\overline{G(s)}=G(\\overline{s})$"
      ],
      "text/plain": [
       "<IPython.core.display.Math object>"
      ]
     },
     "metadata": {},
     "output_type": "display_data"
    },
    {
     "name": "stdout",
     "output_type": "stream",
     "text": [
      "-----\n",
      "Inequality\n"
     ]
    },
    {
     "data": {
      "text/latex": [
       "$\\displaystyle \\[ C_1\\exp \\left(-C_2 e^{C_3|t|}\\right) < |G_i(\\sigma + it)|\\]$"
      ],
      "text/plain": [
       "<IPython.core.display.Math object>"
      ]
     },
     "metadata": {},
     "output_type": "display_data"
    },
    {
     "name": "stdout",
     "output_type": "stream",
     "text": [
      "-----\n",
      "Symbol\n"
     ]
    },
    {
     "data": {
      "text/latex": [
       "$\\displaystyle \\(\\naturals\\)$"
      ],
      "text/plain": [
       "<IPython.core.display.Math object>"
      ]
     },
     "metadata": {},
     "output_type": "display_data"
    },
    {
     "name": "stdout",
     "output_type": "stream",
     "text": [
      "-----\n",
      "set\n"
     ]
    },
    {
     "data": {
      "text/latex": [
       "$\\displaystyle \\(n\\in\\mathbb{N}\\)$"
      ],
      "text/plain": [
       "<IPython.core.display.Math object>"
      ]
     },
     "metadata": {},
     "output_type": "display_data"
    },
    {
     "name": "stdout",
     "output_type": "stream",
     "text": [
      "-----\n",
      "Equation\n"
     ]
    },
    {
     "data": {
      "text/latex": [
       "$\\displaystyle \\(\\|F(z^k) - F(\\bar{z}^k)\\| = 0\\)$"
      ],
      "text/plain": [
       "<IPython.core.display.Math object>"
      ]
     },
     "metadata": {},
     "output_type": "display_data"
    },
    {
     "name": "stdout",
     "output_type": "stream",
     "text": [
      "-----\n",
      "Set\n"
     ]
    },
    {
     "data": {
      "text/latex": [
       "$\\displaystyle \\(\\mathbb{N}\\)$"
      ],
      "text/plain": [
       "<IPython.core.display.Math object>"
      ]
     },
     "metadata": {},
     "output_type": "display_data"
    },
    {
     "name": "stdout",
     "output_type": "stream",
     "text": [
      "-----\n",
      "Function\n"
     ]
    },
    {
     "data": {
      "text/latex": [
       "$\\displaystyle \\(\\V_k = \\V\\p{z^{k},\\bar{z}^{k},z^{k+1}}\\)$"
      ],
      "text/plain": [
       "<IPython.core.display.Math object>"
      ]
     },
     "metadata": {},
     "output_type": "display_data"
    },
    {
     "name": "stdout",
     "output_type": "stream",
     "text": [
      "-----\n",
      "equation\n"
     ]
    },
    {
     "data": {
      "text/latex": [
       "$\\displaystyle \\(g = 0\\)$"
      ],
      "text/plain": [
       "<IPython.core.display.Math object>"
      ]
     },
     "metadata": {},
     "output_type": "display_data"
    },
    {
     "name": "stdout",
     "output_type": "stream",
     "text": [
      "-----\n",
      "inequality\n"
     ]
    },
    {
     "data": {
      "text/latex": [
       "$\\displaystyle \\(\\alpha \\in \\reals_{+}\\)$"
      ],
      "text/plain": [
       "<IPython.core.display.Math object>"
      ]
     },
     "metadata": {},
     "output_type": "display_data"
    },
    {
     "name": "stdout",
     "output_type": "stream",
     "text": [
      "-----\n",
      "set\n"
     ]
    },
    {
     "data": {
      "text/latex": [
       "$\\displaystyle \\(n \\in \\mathbb{N}\\)$"
      ],
      "text/plain": [
       "<IPython.core.display.Math object>"
      ]
     },
     "metadata": {},
     "output_type": "display_data"
    },
    {
     "name": "stdout",
     "output_type": "stream",
     "text": [
      "-----\n",
      "range\n"
     ]
    },
    {
     "data": {
      "text/latex": [
       "$\\displaystyle \\(i \\in \\llbracket1,n\\rrbracket\\)$"
      ],
      "text/plain": [
       "<IPython.core.display.Math object>"
      ]
     },
     "metadata": {},
     "output_type": "display_data"
    },
    {
     "name": "stdout",
     "output_type": "stream",
     "text": [
      "-----\n",
      "function\n"
     ]
    },
    {
     "data": {
      "text/latex": [
       "$\\displaystyle \\(\\mathcal{O}(1/k)\\)$"
      ],
      "text/plain": [
       "<IPython.core.display.Math object>"
      ]
     },
     "metadata": {},
     "output_type": "display_data"
    },
    {
     "name": "stdout",
     "output_type": "stream",
     "text": [
      "-----\n",
      "Sequence\n"
     ]
    },
    {
     "data": {
      "text/latex": [
       "$\\displaystyle \\(\\p{\\p{z^{k},\\bar{z}^{k}}}_{k\\in\\naturals}\\)$"
      ],
      "text/plain": [
       "<IPython.core.display.Math object>"
      ]
     },
     "metadata": {},
     "output_type": "display_data"
    },
    {
     "name": "stdout",
     "output_type": "stream",
     "text": [
      "-----\n",
      "set\n"
     ]
    },
    {
     "data": {
      "text/latex": [
       "$\\displaystyle \\(\\mathbb{Z}\\)$"
      ],
      "text/plain": [
       "<IPython.core.display.Math object>"
      ]
     },
     "metadata": {},
     "output_type": "display_data"
    },
    {
     "name": "stdout",
     "output_type": "stream",
     "text": [
      "-----\n",
      "variable\n"
     ]
    },
    {
     "data": {
      "text/latex": [
       "$\\displaystyle \\( g \\)$"
      ],
      "text/plain": [
       "<IPython.core.display.Math object>"
      ]
     },
     "metadata": {},
     "output_type": "display_data"
    },
    {
     "name": "stdout",
     "output_type": "stream",
     "text": [
      "-----\n",
      "Sequence\n"
     ]
    },
    {
     "data": {
      "text/latex": [
       "$\\displaystyle \\(\\p{\\p{z^{k},\\bar{z}^{k}}}_{k\\in\\naturals}\\)$"
      ],
      "text/plain": [
       "<IPython.core.display.Math object>"
      ]
     },
     "metadata": {},
     "output_type": "display_data"
    },
    {
     "name": "stdout",
     "output_type": "stream",
     "text": [
      "-----\n",
      "set\n"
     ]
    },
    {
     "data": {
      "text/latex": [
       "$\\displaystyle \\(n \\in \\mathbb{N}\\)$"
      ],
      "text/plain": [
       "<IPython.core.display.Math object>"
      ]
     },
     "metadata": {},
     "output_type": "display_data"
    },
    {
     "name": "stdout",
     "output_type": "stream",
     "text": [
      "-----\n",
      "Sequence\n"
     ]
    },
    {
     "data": {
      "text/latex": [
       "$\\displaystyle \\(\\p{\\p{z^{k},\\bar{z}^{k}}}_{k\\in\\naturals}\\)$"
      ],
      "text/plain": [
       "<IPython.core.display.Math object>"
      ]
     },
     "metadata": {},
     "output_type": "display_data"
    },
    {
     "name": "stdout",
     "output_type": "stream",
     "text": [
      "-----\n",
      "sequence\n"
     ]
    },
    {
     "data": {
      "text/latex": [
       "$\\displaystyle \\(\\seq{d^k}\\)$"
      ],
      "text/plain": [
       "<IPython.core.display.Math object>"
      ]
     },
     "metadata": {},
     "output_type": "display_data"
    },
    {
     "name": "stdout",
     "output_type": "stream",
     "text": [
      "-----\n",
      "tuple\n"
     ]
    },
    {
     "data": {
      "text/latex": [
       "$\\displaystyle \\(\\p{\\p{T_{i}, a_{i}, b_{i}, m_{i}, d_{i}}}_{i=1}^{n}\\)$"
      ],
      "text/plain": [
       "<IPython.core.display.Math object>"
      ]
     },
     "metadata": {},
     "output_type": "display_data"
    },
    {
     "name": "stdout",
     "output_type": "stream",
     "text": [
      "-----\n",
      "Variable\n"
     ]
    },
    {
     "data": {
      "text/latex": [
       "$\\displaystyle \\(\\V\\)$"
      ],
      "text/plain": [
       "<IPython.core.display.Math object>"
      ]
     },
     "metadata": {},
     "output_type": "display_data"
    },
    {
     "name": "stdout",
     "output_type": "stream",
     "text": [
      "-----\n",
      "inequality\n"
     ]
    },
    {
     "data": {
      "text/latex": [
       "$\\displaystyle \\(\\gamma \\in (0, 1/L_F)\\)$"
      ],
      "text/plain": [
       "<IPython.core.display.Math object>"
      ]
     },
     "metadata": {},
     "output_type": "display_data"
    },
    {
     "name": "stdout",
     "output_type": "stream",
     "text": [
      "-----\n",
      "Set\n"
     ]
    },
    {
     "data": {
      "text/latex": [
       "$\\displaystyle \\(\\llbracket n,m \\rrbracket = \\set{l \\in \\mathbb{Z} \\xmiddle| n \\leq l \\leq m}\\)$"
      ],
      "text/plain": [
       "<IPython.core.display.Math object>"
      ]
     },
     "metadata": {},
     "output_type": "display_data"
    },
    {
     "name": "stdout",
     "output_type": "stream",
     "text": [
      "-----\n",
      "Sequence\n"
     ]
    },
    {
     "data": {
      "text/latex": [
       "$\\displaystyle \\(\\p{\\p{z^{k},\\bar{z}^{k}}}_{k\\in\\naturals}\\)$"
      ],
      "text/plain": [
       "<IPython.core.display.Math object>"
      ]
     },
     "metadata": {},
     "output_type": "display_data"
    },
    {
     "name": "stdout",
     "output_type": "stream",
     "text": [
      "-----\n",
      "variable\n"
     ]
    },
    {
     "data": {
      "text/latex": [
       "$\\displaystyle \\(g\\)$"
      ],
      "text/plain": [
       "<IPython.core.display.Math object>"
      ]
     },
     "metadata": {},
     "output_type": "display_data"
    },
    {
     "name": "stdout",
     "output_type": "stream",
     "text": [
      "-----\n",
      "Subscript\n"
     ]
    },
    {
     "data": {
      "text/latex": [
       "$\\displaystyle \\(z_{i}\\)$"
      ],
      "text/plain": [
       "<IPython.core.display.Math object>"
      ]
     },
     "metadata": {},
     "output_type": "display_data"
    },
    {
     "name": "stdout",
     "output_type": "stream",
     "text": [
      "-----\n",
      "Tuple\n"
     ]
    },
    {
     "data": {
      "text/latex": [
       "$\\displaystyle \\(x^{\\star},\\,y^{\\star} \\in \\reals^{n}\\)$"
      ],
      "text/plain": [
       "<IPython.core.display.Math object>"
      ]
     },
     "metadata": {},
     "output_type": "display_data"
    },
    {
     "name": "stdout",
     "output_type": "stream",
     "text": [
      "-----\n",
      "relation\n"
     ]
    },
    {
     "data": {
      "text/latex": [
       "$\\displaystyle \\(z\\in \\calH\\)$"
      ],
      "text/plain": [
       "<IPython.core.display.Math object>"
      ]
     },
     "metadata": {},
     "output_type": "display_data"
    },
    {
     "name": "stdout",
     "output_type": "stream",
     "text": [
      "-----\n",
      "Variable\n"
     ]
    },
    {
     "data": {
      "text/latex": [
       "$\\displaystyle \\(\\mathcal{Z}_{i}\\)$"
      ],
      "text/plain": [
       "<IPython.core.display.Math object>"
      ]
     },
     "metadata": {},
     "output_type": "display_data"
    },
    {
     "name": "stdout",
     "output_type": "stream",
     "text": [
      "-----\n",
      "Sequence\n"
     ]
    },
    {
     "data": {
      "text/latex": [
       "$\\displaystyle \\(\\seq{\\p{z^{k},\\bar{z}^{k}}}\\)$"
      ],
      "text/plain": [
       "<IPython.core.display.Math object>"
      ]
     },
     "metadata": {},
     "output_type": "display_data"
    },
    {
     "name": "stdout",
     "output_type": "stream",
     "text": [
      "-----\n",
      "Expression\n"
     ]
    },
    {
     "data": {
      "text/latex": [
       "$\\displaystyle \\(z^{0}\\in\\calH\\)$"
      ],
      "text/plain": [
       "<IPython.core.display.Math object>"
      ]
     },
     "metadata": {},
     "output_type": "display_data"
    },
    {
     "name": "stdout",
     "output_type": "stream",
     "text": [
      "-----\n",
      "Exponential\n"
     ]
    },
    {
     "data": {
      "text/latex": [
       "$\\displaystyle \\(z^{0}\\in\\calH\\)$"
      ],
      "text/plain": [
       "<IPython.core.display.Math object>"
      ]
     },
     "metadata": {},
     "output_type": "display_data"
    },
    {
     "name": "stdout",
     "output_type": "stream",
     "text": [
      "-----\n",
      "Function\n"
     ]
    },
    {
     "data": {
      "text/latex": [
       "$\\displaystyle \\(\\bar z = T_{1}^{\\gamma}(z)\\)$"
      ],
      "text/plain": [
       "<IPython.core.display.Math object>"
      ]
     },
     "metadata": {},
     "output_type": "display_data"
    },
    {
     "name": "stdout",
     "output_type": "stream",
     "text": [
      "-----\n",
      "Expression\n"
     ]
    },
    {
     "data": {
      "text/latex": [
       "$\\displaystyle \\(z^{0}\\in\\calH\\)$"
      ],
      "text/plain": [
       "<IPython.core.display.Math object>"
      ]
     },
     "metadata": {},
     "output_type": "display_data"
    },
    {
     "name": "stdout",
     "output_type": "stream",
     "text": [
      "-----\n",
      "symbol\n"
     ]
    },
    {
     "data": {
      "text/latex": [
       "$\\displaystyle \\dagger$"
      ],
      "text/plain": [
       "<IPython.core.display.Math object>"
      ]
     },
     "metadata": {},
     "output_type": "display_data"
    },
    {
     "name": "stdout",
     "output_type": "stream",
     "text": [
      "-----\n",
      "symbol\n"
     ]
    },
    {
     "data": {
      "text/latex": [
       "$\\displaystyle \\star$"
      ],
      "text/plain": [
       "<IPython.core.display.Math object>"
      ]
     },
     "metadata": {},
     "output_type": "display_data"
    },
    {
     "name": "stdout",
     "output_type": "stream",
     "text": [
      "-----\n",
      "symbol\n"
     ]
    },
    {
     "data": {
      "text/latex": [
       "$\\displaystyle \\ddag$"
      ],
      "text/plain": [
       "<IPython.core.display.Math object>"
      ]
     },
     "metadata": {},
     "output_type": "display_data"
    },
    {
     "name": "stdout",
     "output_type": "stream",
     "text": [
      "-----\n",
      "symbol\n"
     ]
    },
    {
     "data": {
      "text/latex": [
       "$\\displaystyle \\dagger$"
      ],
      "text/plain": [
       "<IPython.core.display.Math object>"
      ]
     },
     "metadata": {},
     "output_type": "display_data"
    },
    {
     "name": "stdout",
     "output_type": "stream",
     "text": [
      "-----\n",
      "symbol\n"
     ]
    },
    {
     "data": {
      "text/latex": [
       "$\\displaystyle \\star$"
      ],
      "text/plain": [
       "<IPython.core.display.Math object>"
      ]
     },
     "metadata": {},
     "output_type": "display_data"
    },
    {
     "name": "stdout",
     "output_type": "stream",
     "text": [
      "-----\n",
      "symbol\n"
     ]
    },
    {
     "data": {
      "text/latex": [
       "$\\displaystyle \\ddag$"
      ],
      "text/plain": [
       "<IPython.core.display.Math object>"
      ]
     },
     "metadata": {},
     "output_type": "display_data"
    },
    {
     "name": "stdout",
     "output_type": "stream",
     "text": [
      "-----\n",
      "Variable\n"
     ]
    },
    {
     "data": {
      "text/latex": [
       "$\\displaystyle {\\rm II_1}$"
      ],
      "text/plain": [
       "<IPython.core.display.Math object>"
      ]
     },
     "metadata": {},
     "output_type": "display_data"
    },
    {
     "name": "stdout",
     "output_type": "stream",
     "text": [
      "-----\n",
      "symbol\n"
     ]
    },
    {
     "data": {
      "text/latex": [
       "$\\displaystyle {\\rm II_\\infty}$"
      ],
      "text/plain": [
       "<IPython.core.display.Math object>"
      ]
     },
     "metadata": {},
     "output_type": "display_data"
    },
    {
     "name": "stdout",
     "output_type": "stream",
     "text": [
      "-----\n",
      "number\n"
     ]
    },
    {
     "data": {
      "text/latex": [
       "$\\displaystyle {\\rm III}$"
      ],
      "text/plain": [
       "<IPython.core.display.Math object>"
      ]
     },
     "metadata": {},
     "output_type": "display_data"
    },
    {
     "name": "stdout",
     "output_type": "stream",
     "text": [
      "-----\n",
      "variable\n"
     ]
    },
    {
     "data": {
      "text/latex": [
       "$\\displaystyle g$"
      ],
      "text/plain": [
       "<IPython.core.display.Math object>"
      ]
     },
     "metadata": {},
     "output_type": "display_data"
    },
    {
     "name": "stdout",
     "output_type": "stream",
     "text": [
      "-----\n",
      "variable\n"
     ]
    },
    {
     "data": {
      "text/latex": [
       "$\\displaystyle B$"
      ],
      "text/plain": [
       "<IPython.core.display.Math object>"
      ]
     },
     "metadata": {},
     "output_type": "display_data"
    },
    {
     "name": "stdout",
     "output_type": "stream",
     "text": [
      "-----\n",
      "Symbol\n"
     ]
    },
    {
     "data": {
      "text/latex": [
       "$\\displaystyle \\ol B$"
      ],
      "text/plain": [
       "<IPython.core.display.Math object>"
      ]
     },
     "metadata": {},
     "output_type": "display_data"
    },
    {
     "name": "stdout",
     "output_type": "stream",
     "text": [
      "-----\n",
      "Function\n"
     ]
    },
    {
     "data": {
      "text/latex": [
       "$\\displaystyle \\Gamma$"
      ],
      "text/plain": [
       "<IPython.core.display.Math object>"
      ]
     },
     "metadata": {},
     "output_type": "display_data"
    },
    {
     "name": "stdout",
     "output_type": "stream",
     "text": [
      "-----\n",
      "Variable\n"
     ]
    },
    {
     "data": {
      "text/latex": [
       "$\\displaystyle g$"
      ],
      "text/plain": [
       "<IPython.core.display.Math object>"
      ]
     },
     "metadata": {},
     "output_type": "display_data"
    },
    {
     "name": "stdout",
     "output_type": "stream",
     "text": [
      "-----\n",
      "Variable\n"
     ]
    },
    {
     "data": {
      "text/latex": [
       "$\\displaystyle g$"
      ],
      "text/plain": [
       "<IPython.core.display.Math object>"
      ]
     },
     "metadata": {},
     "output_type": "display_data"
    },
    {
     "name": "stdout",
     "output_type": "stream",
     "text": [
      "-----\n",
      "Operator\n"
     ]
    },
    {
     "data": {
      "text/latex": [
       "$\\displaystyle \\partial B$"
      ],
      "text/plain": [
       "<IPython.core.display.Math object>"
      ]
     },
     "metadata": {},
     "output_type": "display_data"
    },
    {
     "name": "stdout",
     "output_type": "stream",
     "text": [
      "-----\n",
      "Symbol\n"
     ]
    },
    {
     "data": {
      "text/latex": [
       "$\\displaystyle \\Gamma$"
      ],
      "text/plain": [
       "<IPython.core.display.Math object>"
      ]
     },
     "metadata": {},
     "output_type": "display_data"
    },
    {
     "name": "stdout",
     "output_type": "stream",
     "text": [
      "-----\n",
      "function\n"
     ]
    },
    {
     "data": {
      "text/latex": [
       "$\\displaystyle f:B\\rightarrow B$"
      ],
      "text/plain": [
       "<IPython.core.display.Math object>"
      ]
     },
     "metadata": {},
     "output_type": "display_data"
    },
    {
     "name": "stdout",
     "output_type": "stream",
     "text": [
      "-----\n",
      "variable\n"
     ]
    },
    {
     "data": {
      "text/latex": [
       "$\\displaystyle B$"
      ],
      "text/plain": [
       "<IPython.core.display.Math object>"
      ]
     },
     "metadata": {},
     "output_type": "display_data"
    },
    {
     "name": "stdout",
     "output_type": "stream",
     "text": [
      "-----\n",
      "Parentheses\n"
     ]
    },
    {
     "data": {
      "text/latex": [
       "$\\displaystyle (f^n)$"
      ],
      "text/plain": [
       "<IPython.core.display.Math object>"
      ]
     },
     "metadata": {},
     "output_type": "display_data"
    },
    {
     "name": "stdout",
     "output_type": "stream",
     "text": [
      "-----\n",
      "Parentheses\n"
     ]
    },
    {
     "data": {
      "text/latex": [
       "$\\displaystyle (f^n)$"
      ],
      "text/plain": [
       "<IPython.core.display.Math object>"
      ]
     },
     "metadata": {},
     "output_type": "display_data"
    },
    {
     "name": "stdout",
     "output_type": "stream",
     "text": [
      "-----\n",
      "Function\n"
     ]
    },
    {
     "data": {
      "text/latex": [
       "$\\displaystyle T(f)$"
      ],
      "text/plain": [
       "<IPython.core.display.Math object>"
      ]
     },
     "metadata": {},
     "output_type": "display_data"
    },
    {
     "name": "stdout",
     "output_type": "stream",
     "text": [
      "-----\n",
      "variable\n"
     ]
    },
    {
     "data": {
      "text/latex": [
       "$\\displaystyle f$"
      ],
      "text/plain": [
       "<IPython.core.display.Math object>"
      ]
     },
     "metadata": {},
     "output_type": "display_data"
    },
    {
     "name": "stdout",
     "output_type": "stream",
     "text": [
      "-----\n",
      "sequence\n"
     ]
    },
    {
     "data": {
      "text/latex": [
       "$\\displaystyle (f^n)_n$"
      ],
      "text/plain": [
       "<IPython.core.display.Math object>"
      ]
     },
     "metadata": {},
     "output_type": "display_data"
    },
    {
     "name": "stdout",
     "output_type": "stream",
     "text": [
      "-----\n",
      "Function\n"
     ]
    },
    {
     "data": {
      "text/latex": [
       "$\\displaystyle T(f)$"
      ],
      "text/plain": [
       "<IPython.core.display.Math object>"
      ]
     },
     "metadata": {},
     "output_type": "display_data"
    },
    {
     "name": "stdout",
     "output_type": "stream",
     "text": [
      "-----\n",
      "variable\n"
     ]
    },
    {
     "data": {
      "text/latex": [
       "$\\displaystyle f$"
      ],
      "text/plain": [
       "<IPython.core.display.Math object>"
      ]
     },
     "metadata": {},
     "output_type": "display_data"
    },
    {
     "name": "stdout",
     "output_type": "stream",
     "text": [
      "-----\n",
      "variable\n"
     ]
    },
    {
     "data": {
      "text/latex": [
       "$\\displaystyle B$"
      ],
      "text/plain": [
       "<IPython.core.display.Math object>"
      ]
     },
     "metadata": {},
     "output_type": "display_data"
    },
    {
     "name": "stdout",
     "output_type": "stream",
     "text": [
      "-----\n",
      "Variable\n"
     ]
    },
    {
     "data": {
      "text/latex": [
       "$\\displaystyle \\ol B$"
      ],
      "text/plain": [
       "<IPython.core.display.Math object>"
      ]
     },
     "metadata": {},
     "output_type": "display_data"
    },
    {
     "name": "stdout",
     "output_type": "stream",
     "text": [
      "-----\n",
      "Symbol\n"
     ]
    },
    {
     "data": {
      "text/latex": [
       "$\\displaystyle \\ol B$"
      ],
      "text/plain": [
       "<IPython.core.display.Math object>"
      ]
     },
     "metadata": {},
     "output_type": "display_data"
    },
    {
     "name": "stdout",
     "output_type": "stream",
     "text": [
      "-----\n",
      "Variable\n"
     ]
    },
    {
     "data": {
      "text/latex": [
       "$\\displaystyle \\dqG$"
      ],
      "text/plain": [
       "<IPython.core.display.Math object>"
      ]
     },
     "metadata": {},
     "output_type": "display_data"
    },
    {
     "name": "stdout",
     "output_type": "stream",
     "text": [
      "-----\n",
      "Tuple\n"
     ]
    },
    {
     "data": {
      "text/latex": [
       "$\\displaystyle (E,\\epsilon) \\in \\mathrm{Irred}(\\cqG) \\times \\mathbb R_{>0}$"
      ],
      "text/plain": [
       "<IPython.core.display.Math object>"
      ]
     },
     "metadata": {},
     "output_type": "display_data"
    },
    {
     "name": "stdout",
     "output_type": "stream",
     "text": [
      "-----\n",
      "function\n"
     ]
    },
    {
     "data": {
      "text/latex": [
       "$\\displaystyle \\mathrm{Irred}(\\cqG)$"
      ],
      "text/plain": [
       "<IPython.core.display.Math object>"
      ]
     },
     "metadata": {},
     "output_type": "display_data"
    },
    {
     "name": "stdout",
     "output_type": "stream",
     "text": [
      "-----\n",
      "subscript\n"
     ]
    },
    {
     "data": {
      "text/latex": [
       "$\\displaystyle {\\rm T}_B$"
      ],
      "text/plain": [
       "<IPython.core.display.Math object>"
      ]
     },
     "metadata": {},
     "output_type": "display_data"
    },
    {
     "name": "stdout",
     "output_type": "stream",
     "text": [
      "-----\n",
      "variable\n"
     ]
    },
    {
     "data": {
      "text/latex": [
       "$\\displaystyle \\mathsf A$"
      ],
      "text/plain": [
       "<IPython.core.display.Math object>"
      ]
     },
     "metadata": {},
     "output_type": "display_data"
    },
    {
     "name": "stdout",
     "output_type": "stream",
     "text": [
      "-----\n",
      "Variable\n"
     ]
    },
    {
     "data": {
      "text/latex": [
       "$\\displaystyle R$"
      ],
      "text/plain": [
       "<IPython.core.display.Math object>"
      ]
     },
     "metadata": {},
     "output_type": "display_data"
    },
    {
     "name": "stdout",
     "output_type": "stream",
     "text": [
      "-----\n",
      "inequality\n"
     ]
    },
    {
     "data": {
      "text/latex": [
       "$\\displaystyle d\\geq 1$"
      ],
      "text/plain": [
       "<IPython.core.display.Math object>"
      ]
     },
     "metadata": {},
     "output_type": "display_data"
    },
    {
     "name": "stdout",
     "output_type": "stream",
     "text": [
      "-----\n",
      "Variable\n"
     ]
    },
    {
     "data": {
      "text/latex": [
       "$\\displaystyle \\lambda$"
      ],
      "text/plain": [
       "<IPython.core.display.Math object>"
      ]
     },
     "metadata": {},
     "output_type": "display_data"
    },
    {
     "name": "stdout",
     "output_type": "stream",
     "text": [
      "-----\n",
      "Group\n"
     ]
    },
    {
     "data": {
      "text/latex": [
       "$\\displaystyle (R,+).$"
      ],
      "text/plain": [
       "<IPython.core.display.Math object>"
      ]
     },
     "metadata": {},
     "output_type": "display_data"
    },
    {
     "name": "stdout",
     "output_type": "stream",
     "text": [
      "-----\n",
      "tuple\n"
     ]
    },
    {
     "data": {
      "text/latex": [
       "$\\displaystyle (U,V)$"
      ],
      "text/plain": [
       "<IPython.core.display.Math object>"
      ]
     },
     "metadata": {},
     "output_type": "display_data"
    },
    {
     "name": "stdout",
     "output_type": "stream",
     "text": [
      "-----\n",
      "Variable\n"
     ]
    },
    {
     "data": {
      "text/latex": [
       "$\\displaystyle U$"
      ],
      "text/plain": [
       "<IPython.core.display.Math object>"
      ]
     },
     "metadata": {},
     "output_type": "display_data"
    },
    {
     "name": "stdout",
     "output_type": "stream",
     "text": [
      "-----\n",
      "variable\n"
     ]
    },
    {
     "data": {
      "text/latex": [
       "$\\displaystyle V$"
      ],
      "text/plain": [
       "<IPython.core.display.Math object>"
      ]
     },
     "metadata": {},
     "output_type": "display_data"
    },
    {
     "name": "stdout",
     "output_type": "stream",
     "text": [
      "-----\n",
      "Power\n"
     ]
    },
    {
     "data": {
      "text/latex": [
       "$\\displaystyle R^d$"
      ],
      "text/plain": [
       "<IPython.core.display.Math object>"
      ]
     },
     "metadata": {},
     "output_type": "display_data"
    },
    {
     "name": "stdout",
     "output_type": "stream",
     "text": [
      "-----\n",
      "Equation\n"
     ]
    },
    {
     "data": {
      "text/latex": [
       "$\\displaystyle \\H$  is said\n",
       "to satisfy the  canonical commutation relations (relative to $"
      ],
      "text/plain": [
       "<IPython.core.display.Math object>"
      ]
     },
     "metadata": {},
     "output_type": "display_data"
    },
    {
     "name": "stdout",
     "output_type": "stream",
     "text": [
      "-----\n",
      "invalid\n"
     ]
    },
    {
     "data": {
      "text/latex": [
       "$\\displaystyle ) if\n",
       "$"
      ],
      "text/plain": [
       "<IPython.core.display.Math object>"
      ]
     },
     "metadata": {},
     "output_type": "display_data"
    },
    {
     "name": "stdout",
     "output_type": "stream",
     "text": [
      "-----\n",
      "Equation\n"
     ]
    },
    {
     "data": {
      "text/latex": [
       "$\\displaystyle U(a) V(b)= \\lambda(a\\cdot b)V(b) U(a)$"
      ],
      "text/plain": [
       "<IPython.core.display.Math object>"
      ]
     },
     "metadata": {},
     "output_type": "display_data"
    },
    {
     "name": "stdout",
     "output_type": "stream",
     "text": [
      "-----\n",
      "quantifier\n"
     ]
    },
    {
     "data": {
      "text/latex": [
       "$\\displaystyle  for all $"
      ],
      "text/plain": [
       "<IPython.core.display.Math object>"
      ]
     },
     "metadata": {},
     "output_type": "display_data"
    },
    {
     "name": "stdout",
     "output_type": "stream",
     "text": [
      "-----\n",
      "invalid\n"
     ]
    },
    {
     "data": {
      "text/latex": [
       "$\\displaystyle ,\n",
       "where $"
      ],
      "text/plain": [
       "<IPython.core.display.Math object>"
      ]
     },
     "metadata": {},
     "output_type": "display_data"
    },
    {
     "name": "stdout",
     "output_type": "stream",
     "text": [
      "-----\n",
      "Text\n"
     ]
    },
    {
     "data": {
      "text/latex": [
       "$\\displaystyle \n",
       "We give a new and quick proof of the classical Stone von Neumann Theorem\n",
       "about the   essential uniqueness of such a pair  in the case  where $"
      ],
      "text/plain": [
       "<IPython.core.display.Math object>"
      ]
     },
     "metadata": {},
     "output_type": "display_data"
    },
    {
     "name": "stdout",
     "output_type": "stream",
     "text": [
      "-----\n",
      "text\n"
     ]
    },
    {
     "data": {
      "text/latex": [
       "$\\displaystyle  is a local field (e.g. $"
      ],
      "text/plain": [
       "<IPython.core.display.Math object>"
      ]
     },
     "metadata": {},
     "output_type": "display_data"
    },
    {
     "name": "stdout",
     "output_type": "stream",
     "text": [
      "-----\n",
      "Text\n"
     ]
    },
    {
     "data": {
      "text/latex": [
       "$\\displaystyle ).\n",
       "Our methods allow us to give the following extension of this result \n",
       "to a general  locally compact ring $"
      ],
      "text/plain": [
       "<IPython.core.display.Math object>"
      ]
     },
     "metadata": {},
     "output_type": "display_data"
    },
    {
     "name": "stdout",
     "output_type": "stream",
     "text": [
      "-----\n",
      "text\n"
     ]
    },
    {
     "data": {
      "text/latex": [
       "$\\displaystyle .  For a unitary representation  \n",
       "$"
      ],
      "text/plain": [
       "<IPython.core.display.Math object>"
      ]
     },
     "metadata": {},
     "output_type": "display_data"
    },
    {
     "name": "stdout",
     "output_type": "stream",
     "text": [
      "-----\n",
      "operator\n"
     ]
    },
    {
     "data": {
      "text/latex": [
       "$\\displaystyle  of $"
      ],
      "text/plain": [
       "<IPython.core.display.Math object>"
      ]
     },
     "metadata": {},
     "output_type": "display_data"
    },
    {
     "name": "stdout",
     "output_type": "stream",
     "text": [
      "-----\n",
      "Other\n"
     ]
    },
    {
     "data": {
      "text/latex": [
       "$\\displaystyle  on a Hilbert space $"
      ],
      "text/plain": [
       "<IPython.core.display.Math object>"
      ]
     },
     "metadata": {},
     "output_type": "display_data"
    },
    {
     "name": "stdout",
     "output_type": "stream",
     "text": [
      "-----\n",
      "text\n"
     ]
    },
    {
     "data": {
      "text/latex": [
       "$\\displaystyle  define the inflation $"
      ],
      "text/plain": [
       "<IPython.core.display.Math object>"
      ]
     },
     "metadata": {},
     "output_type": "display_data"
    },
    {
     "name": "stdout",
     "output_type": "stream",
     "text": [
      "-----\n",
      "operator\n"
     ]
    },
    {
     "data": {
      "text/latex": [
       "$\\displaystyle  of $"
      ],
      "text/plain": [
       "<IPython.core.display.Math object>"
      ]
     },
     "metadata": {},
     "output_type": "display_data"
    },
    {
     "name": "stdout",
     "output_type": "stream",
     "text": [
      "-----\n",
      "Text\n"
     ]
    },
    {
     "data": {
      "text/latex": [
       "$\\displaystyle  \n",
       "as the unitary representation $"
      ],
      "text/plain": [
       "<IPython.core.display.Math object>"
      ]
     },
     "metadata": {},
     "output_type": "display_data"
    },
    {
     "name": "stdout",
     "output_type": "stream",
     "text": [
      "-----\n",
      "variable\n"
     ]
    },
    {
     "data": {
      "text/latex": [
       "$\\displaystyle   of $"
      ],
      "text/plain": [
       "<IPython.core.display.Math object>"
      ]
     },
     "metadata": {},
     "output_type": "display_data"
    },
    {
     "name": "stdout",
     "output_type": "stream",
     "text": [
      "-----\n",
      "text\n"
     ]
    },
    {
     "data": {
      "text/latex": [
       "$\\displaystyle  on the\n",
       "Hilbert space  $"
      ],
      "text/plain": [
       "<IPython.core.display.Math object>"
      ]
     },
     "metadata": {},
     "output_type": "display_data"
    },
    {
     "name": "stdout",
     "output_type": "stream",
     "text": [
      "-----\n",
      "Variable\n"
     ]
    },
    {
     "data": {
      "text/latex": [
       "$\\displaystyle p$"
      ],
      "text/plain": [
       "<IPython.core.display.Math object>"
      ]
     },
     "metadata": {},
     "output_type": "display_data"
    },
    {
     "name": "stdout",
     "output_type": "stream",
     "text": [
      "-----\n",
      "Equation\n"
     ]
    },
    {
     "data": {
      "text/latex": [
       "$\\displaystyle U^{(\\infty)}(a) (\\oplus_{i\\in \\NN} \\xi_i) =  \\oplus_{i\\in \\NN} U(a) \\xi_i.$"
      ],
      "text/plain": [
       "<IPython.core.display.Math object>"
      ]
     },
     "metadata": {},
     "output_type": "display_data"
    },
    {
     "name": "stdout",
     "output_type": "stream",
     "text": [
      "-----\n",
      "tuple\n"
     ]
    },
    {
     "data": {
      "text/latex": [
       "$\\displaystyle (U_1, V_1), (U_2, V_2)$"
      ],
      "text/plain": [
       "<IPython.core.display.Math object>"
      ]
     },
     "metadata": {},
     "output_type": "display_data"
    },
    {
     "name": "stdout",
     "output_type": "stream",
     "text": [
      "-----\n",
      "Power\n"
     ]
    },
    {
     "data": {
      "text/latex": [
       "$\\displaystyle R^d$"
      ],
      "text/plain": [
       "<IPython.core.display.Math object>"
      ]
     },
     "metadata": {},
     "output_type": "display_data"
    },
    {
     "name": "stdout",
     "output_type": "stream",
     "text": [
      "-----\n",
      "tuple\n"
     ]
    },
    {
     "data": {
      "text/latex": [
       "$\\displaystyle \\H_1, \\H_2$"
      ],
      "text/plain": [
       "<IPython.core.display.Math object>"
      ]
     },
     "metadata": {},
     "output_type": "display_data"
    },
    {
     "name": "stdout",
     "output_type": "stream",
     "text": [
      "-----\n",
      "Variable\n"
     ]
    },
    {
     "data": {
      "text/latex": [
       "$\\displaystyle \\lambda$"
      ],
      "text/plain": [
       "<IPython.core.display.Math object>"
      ]
     },
     "metadata": {},
     "output_type": "display_data"
    },
    {
     "name": "stdout",
     "output_type": "stream",
     "text": [
      "-----\n",
      "Variable\n"
     ]
    },
    {
     "data": {
      "text/latex": [
       "$\\displaystyle H$"
      ],
      "text/plain": [
       "<IPython.core.display.Math object>"
      ]
     },
     "metadata": {},
     "output_type": "display_data"
    },
    {
     "name": "stdout",
     "output_type": "stream",
     "text": [
      "-----\n",
      "function\n"
     ]
    },
    {
     "data": {
      "text/latex": [
       "$\\displaystyle R(H)$"
      ],
      "text/plain": [
       "<IPython.core.display.Math object>"
      ]
     },
     "metadata": {},
     "output_type": "display_data"
    },
    {
     "name": "stdout",
     "output_type": "stream",
     "text": [
      "-----\n",
      "variable\n"
     ]
    },
    {
     "data": {
      "text/latex": [
       "$\\displaystyle n$"
      ],
      "text/plain": [
       "<IPython.core.display.Math object>"
      ]
     },
     "metadata": {},
     "output_type": "display_data"
    },
    {
     "name": "stdout",
     "output_type": "stream",
     "text": [
      "-----\n",
      "Number\n"
     ]
    },
    {
     "data": {
      "text/latex": [
       "$\\displaystyle 2$"
      ],
      "text/plain": [
       "<IPython.core.display.Math object>"
      ]
     },
     "metadata": {},
     "output_type": "display_data"
    },
    {
     "name": "stdout",
     "output_type": "stream",
     "text": [
      "-----\n",
      "Variable\n"
     ]
    },
    {
     "data": {
      "text/latex": [
       "$\\displaystyle K_n$"
      ],
      "text/plain": [
       "<IPython.core.display.Math object>"
      ]
     },
     "metadata": {},
     "output_type": "display_data"
    },
    {
     "name": "stdout",
     "output_type": "stream",
     "text": [
      "-----\n",
      "Variable\n"
     ]
    },
    {
     "data": {
      "text/latex": [
       "$\\displaystyle H$"
      ],
      "text/plain": [
       "<IPython.core.display.Math object>"
      ]
     },
     "metadata": {},
     "output_type": "display_data"
    },
    {
     "name": "stdout",
     "output_type": "stream",
     "text": [
      "-----\n",
      "Variable\n"
     ]
    },
    {
     "data": {
      "text/latex": [
       "$\\displaystyle mH$"
      ],
      "text/plain": [
       "<IPython.core.display.Math object>"
      ]
     },
     "metadata": {},
     "output_type": "display_data"
    },
    {
     "name": "stdout",
     "output_type": "stream",
     "text": [
      "-----\n",
      "variable\n"
     ]
    },
    {
     "data": {
      "text/latex": [
       "$\\displaystyle m$"
      ],
      "text/plain": [
       "<IPython.core.display.Math object>"
      ]
     },
     "metadata": {},
     "output_type": "display_data"
    },
    {
     "name": "stdout",
     "output_type": "stream",
     "text": [
      "-----\n",
      "Variable\n"
     ]
    },
    {
     "data": {
      "text/latex": [
       "$\\displaystyle H$"
      ],
      "text/plain": [
       "<IPython.core.display.Math object>"
      ]
     },
     "metadata": {},
     "output_type": "display_data"
    },
    {
     "name": "stdout",
     "output_type": "stream",
     "text": [
      "-----\n",
      "Variable\n"
     ]
    },
    {
     "data": {
      "text/latex": [
       "$\\displaystyle \\vartheta$"
      ],
      "text/plain": [
       "<IPython.core.display.Math object>"
      ]
     },
     "metadata": {},
     "output_type": "display_data"
    },
    {
     "name": "stdout",
     "output_type": "stream",
     "text": [
      "-----\n",
      "Set\n"
     ]
    },
    {
     "data": {
      "text/latex": [
       "$\\displaystyle \\{mH:m\\ge1\\}$"
      ],
      "text/plain": [
       "<IPython.core.display.Math object>"
      ]
     },
     "metadata": {},
     "output_type": "display_data"
    },
    {
     "name": "stdout",
     "output_type": "stream",
     "text": [
      "-----\n",
      "variable\n"
     ]
    },
    {
     "data": {
      "text/latex": [
       "$\\displaystyle g$"
      ],
      "text/plain": [
       "<IPython.core.display.Math object>"
      ]
     },
     "metadata": {},
     "output_type": "display_data"
    },
    {
     "name": "stdout",
     "output_type": "stream",
     "text": [
      "-----\n",
      "variable\n"
     ]
    },
    {
     "data": {
      "text/latex": [
       "$\\displaystyle H$"
      ],
      "text/plain": [
       "<IPython.core.display.Math object>"
      ]
     },
     "metadata": {},
     "output_type": "display_data"
    },
    {
     "name": "stdout",
     "output_type": "stream",
     "text": [
      "-----\n",
      "Equation\n"
     ]
    },
    {
     "data": {
      "text/latex": [
       "$\\displaystyle R(mK_3)=5m$"
      ],
      "text/plain": [
       "<IPython.core.display.Math object>"
      ]
     },
     "metadata": {},
     "output_type": "display_data"
    },
    {
     "name": "stdout",
     "output_type": "stream",
     "text": [
      "-----\n",
      "inequality\n"
     ]
    },
    {
     "data": {
      "text/latex": [
       "$\\displaystyle m\\ge2$"
      ],
      "text/plain": [
       "<IPython.core.display.Math object>"
      ]
     },
     "metadata": {},
     "output_type": "display_data"
    },
    {
     "name": "stdout",
     "output_type": "stream",
     "text": [
      "-----\n",
      "Number\n"
     ]
    },
    {
     "data": {
      "text/latex": [
       "$\\displaystyle 2$"
      ],
      "text/plain": [
       "<IPython.core.display.Math object>"
      ]
     },
     "metadata": {},
     "output_type": "display_data"
    },
    {
     "name": "stdout",
     "output_type": "stream",
     "text": [
      "-----\n",
      "Variable\n"
     ]
    },
    {
     "data": {
      "text/latex": [
       "$\\displaystyle g$"
      ],
      "text/plain": [
       "<IPython.core.display.Math object>"
      ]
     },
     "metadata": {},
     "output_type": "display_data"
    },
    {
     "name": "stdout",
     "output_type": "stream",
     "text": [
      "-----\n",
      "Subscript\n"
     ]
    },
    {
     "data": {
      "text/latex": [
       "$\\displaystyle K_{3m+2}$"
      ],
      "text/plain": [
       "<IPython.core.display.Math object>"
      ]
     },
     "metadata": {},
     "output_type": "display_data"
    },
    {
     "name": "stdout",
     "output_type": "stream",
     "text": [
      "-----\n",
      "Variable\n"
     ]
    },
    {
     "data": {
      "text/latex": [
       "$\\displaystyle K_3$"
      ],
      "text/plain": [
       "<IPython.core.display.Math object>"
      ]
     },
     "metadata": {},
     "output_type": "display_data"
    },
    {
     "name": "stdout",
     "output_type": "stream",
     "text": [
      "-----\n",
      "variable\n"
     ]
    },
    {
     "data": {
      "text/latex": [
       "$\\displaystyle B$"
      ],
      "text/plain": [
       "<IPython.core.display.Math object>"
      ]
     },
     "metadata": {},
     "output_type": "display_data"
    },
    {
     "name": "stdout",
     "output_type": "stream",
     "text": [
      "-----\n",
      "variable\n"
     ]
    },
    {
     "data": {
      "text/latex": [
       "$\\displaystyle m$"
      ],
      "text/plain": [
       "<IPython.core.display.Math object>"
      ]
     },
     "metadata": {},
     "output_type": "display_data"
    },
    {
     "name": "stdout",
     "output_type": "stream",
     "text": [
      "-----\n",
      "Variable\n"
     ]
    },
    {
     "data": {
      "text/latex": [
       "$\\displaystyle K_3$"
      ],
      "text/plain": [
       "<IPython.core.display.Math object>"
      ]
     },
     "metadata": {},
     "output_type": "display_data"
    },
    {
     "name": "stdout",
     "output_type": "stream",
     "text": [
      "-----\n",
      "inequality\n"
     ]
    },
    {
     "data": {
      "text/latex": [
       "$\\displaystyle m\\ge2$"
      ],
      "text/plain": [
       "<IPython.core.display.Math object>"
      ]
     },
     "metadata": {},
     "output_type": "display_data"
    },
    {
     "name": "stdout",
     "output_type": "stream",
     "text": [
      "-----\n",
      "variable\n"
     ]
    },
    {
     "data": {
      "text/latex": [
       "$\\displaystyle B$"
      ],
      "text/plain": [
       "<IPython.core.display.Math object>"
      ]
     },
     "metadata": {},
     "output_type": "display_data"
    },
    {
     "name": "stdout",
     "output_type": "stream",
     "text": [
      "-----\n",
      "Variable\n"
     ]
    },
    {
     "data": {
      "text/latex": [
       "$\\displaystyle K_3$"
      ],
      "text/plain": [
       "<IPython.core.display.Math object>"
      ]
     },
     "metadata": {},
     "output_type": "display_data"
    },
    {
     "name": "stdout",
     "output_type": "stream",
     "text": [
      "-----\n",
      "Variable\n"
     ]
    },
    {
     "data": {
      "text/latex": [
       "$\\displaystyle \\vartheta$"
      ],
      "text/plain": [
       "<IPython.core.display.Math object>"
      ]
     },
     "metadata": {},
     "output_type": "display_data"
    },
    {
     "name": "stdout",
     "output_type": "stream",
     "text": [
      "-----\n",
      "Variable\n"
     ]
    },
    {
     "data": {
      "text/latex": [
       "$\\displaystyle K_3$"
      ],
      "text/plain": [
       "<IPython.core.display.Math object>"
      ]
     },
     "metadata": {},
     "output_type": "display_data"
    },
    {
     "name": "stdout",
     "output_type": "stream",
     "text": [
      "-----\n",
      "Number\n"
     ]
    },
    {
     "data": {
      "text/latex": [
       "$\\displaystyle 2$"
      ],
      "text/plain": [
       "<IPython.core.display.Math object>"
      ]
     },
     "metadata": {},
     "output_type": "display_data"
    },
    {
     "name": "stdout",
     "output_type": "stream",
     "text": [
      "-----\n",
      "Variable\n"
     ]
    },
    {
     "data": {
      "text/latex": [
       "$\\displaystyle K_3$"
      ],
      "text/plain": [
       "<IPython.core.display.Math object>"
      ]
     },
     "metadata": {},
     "output_type": "display_data"
    },
    {
     "name": "stdout",
     "output_type": "stream",
     "text": [
      "-----\n",
      "Variable\n"
     ]
    },
    {
     "data": {
      "text/latex": [
       "$\\displaystyle K_3$"
      ],
      "text/plain": [
       "<IPython.core.display.Math object>"
      ]
     },
     "metadata": {},
     "output_type": "display_data"
    },
    {
     "name": "stdout",
     "output_type": "stream",
     "text": [
      "-----\n",
      "Number\n"
     ]
    },
    {
     "data": {
      "text/latex": [
       "$\\displaystyle 2$"
      ],
      "text/plain": [
       "<IPython.core.display.Math object>"
      ]
     },
     "metadata": {},
     "output_type": "display_data"
    },
    {
     "name": "stdout",
     "output_type": "stream",
     "text": [
      "-----\n",
      "variable\n"
     ]
    },
    {
     "data": {
      "text/latex": [
       "$\\displaystyle r$"
      ],
      "text/plain": [
       "<IPython.core.display.Math object>"
      ]
     },
     "metadata": {},
     "output_type": "display_data"
    },
    {
     "name": "stdout",
     "output_type": "stream",
     "text": [
      "-----\n",
      "symbol\n"
     ]
    },
    {
     "data": {
      "text/latex": [
       "$\\displaystyle \\smile$"
      ],
      "text/plain": [
       "<IPython.core.display.Math object>"
      ]
     },
     "metadata": {},
     "output_type": "display_data"
    },
    {
     "name": "stdout",
     "output_type": "stream",
     "text": [
      "-----\n",
      "symbol\n"
     ]
    },
    {
     "data": {
      "text/latex": [
       "$\\displaystyle \\smile$"
      ],
      "text/plain": [
       "<IPython.core.display.Math object>"
      ]
     },
     "metadata": {},
     "output_type": "display_data"
    },
    {
     "name": "stdout",
     "output_type": "stream",
     "text": [
      "-----\n",
      "variable\n"
     ]
    },
    {
     "data": {
      "text/latex": [
       "$\\displaystyle \\scriptstyle{#2}$"
      ],
      "text/plain": [
       "<IPython.core.display.Math object>"
      ]
     },
     "metadata": {},
     "output_type": "display_data"
    },
    {
     "name": "stdout",
     "output_type": "stream",
     "text": [
      "-----\n",
      "variable\n"
     ]
    },
    {
     "data": {
      "text/latex": [
       "$\\displaystyle \\scriptstyle{#2}$"
      ],
      "text/plain": [
       "<IPython.core.display.Math object>"
      ]
     },
     "metadata": {},
     "output_type": "display_data"
    },
    {
     "name": "stdout",
     "output_type": "stream",
     "text": [
      "-----\n",
      "variable\n"
     ]
    },
    {
     "data": {
      "text/latex": [
       "$\\displaystyle \\scriptstyle{#2}$"
      ],
      "text/plain": [
       "<IPython.core.display.Math object>"
      ]
     },
     "metadata": {},
     "output_type": "display_data"
    },
    {
     "name": "stdout",
     "output_type": "stream",
     "text": [
      "-----\n",
      "variable\n"
     ]
    },
    {
     "data": {
      "text/latex": [
       "$\\displaystyle \\scriptstyle{#2}$"
      ],
      "text/plain": [
       "<IPython.core.display.Math object>"
      ]
     },
     "metadata": {},
     "output_type": "display_data"
    },
    {
     "name": "stdout",
     "output_type": "stream",
     "text": [
      "-----\n",
      "symbol\n"
     ]
    },
    {
     "data": {
      "text/latex": [
       "$\\displaystyle \\bot$"
      ],
      "text/plain": [
       "<IPython.core.display.Math object>"
      ]
     },
     "metadata": {},
     "output_type": "display_data"
    },
    {
     "name": "stdout",
     "output_type": "stream",
     "text": [
      "-----\n",
      "symbol\n"
     ]
    },
    {
     "data": {
      "text/latex": [
       "$\\displaystyle \\bot$"
      ],
      "text/plain": [
       "<IPython.core.display.Math object>"
      ]
     },
     "metadata": {},
     "output_type": "display_data"
    },
    {
     "name": "stdout",
     "output_type": "stream",
     "text": [
      "-----\n",
      "operator\n"
     ]
    },
    {
     "data": {
      "text/latex": [
       "$\\displaystyle /$"
      ],
      "text/plain": [
       "<IPython.core.display.Math object>"
      ]
     },
     "metadata": {},
     "output_type": "display_data"
    },
    {
     "name": "stdout",
     "output_type": "stream",
     "text": [
      "-----\n",
      "symbol\n"
     ]
    },
    {
     "data": {
      "text/latex": [
       "$\\displaystyle \\bot$"
      ],
      "text/plain": [
       "<IPython.core.display.Math object>"
      ]
     },
     "metadata": {},
     "output_type": "display_data"
    },
    {
     "name": "stdout",
     "output_type": "stream",
     "text": [
      "-----\n",
      "operator\n"
     ]
    },
    {
     "data": {
      "text/latex": [
       "$\\displaystyle /$"
      ],
      "text/plain": [
       "<IPython.core.display.Math object>"
      ]
     },
     "metadata": {},
     "output_type": "display_data"
    },
    {
     "name": "stdout",
     "output_type": "stream",
     "text": [
      "-----\n",
      "superscript\n"
     ]
    },
    {
     "data": {
      "text/latex": [
       "$\\displaystyle ^{\\scriptscriptstyle{a}}$"
      ],
      "text/plain": [
       "<IPython.core.display.Math object>"
      ]
     },
     "metadata": {},
     "output_type": "display_data"
    },
    {
     "name": "stdout",
     "output_type": "stream",
     "text": [
      "-----\n",
      "variable\n"
     ]
    },
    {
     "data": {
      "text/latex": [
       "$\\displaystyle \\scriptstyle\n",
       "{#2}$"
      ],
      "text/plain": [
       "<IPython.core.display.Math object>"
      ]
     },
     "metadata": {},
     "output_type": "display_data"
    },
    {
     "name": "stdout",
     "output_type": "stream",
     "text": [
      "-----\n",
      "symbol\n"
     ]
    },
    {
     "data": {
      "text/latex": [
       "$\\displaystyle \\bot$"
      ],
      "text/plain": [
       "<IPython.core.display.Math object>"
      ]
     },
     "metadata": {},
     "output_type": "display_data"
    },
    {
     "name": "stdout",
     "output_type": "stream",
     "text": [
      "-----\n",
      "inequality\n"
     ]
    },
    {
     "data": {
      "text/latex": [
       "$\\displaystyle n\\geq 1$"
      ],
      "text/plain": [
       "<IPython.core.display.Math object>"
      ]
     },
     "metadata": {},
     "output_type": "display_data"
    },
    {
     "name": "stdout",
     "output_type": "stream",
     "text": [
      "-----\n",
      "superscript\n"
     ]
    },
    {
     "data": {
      "text/latex": [
       "$\\displaystyle ^{\\scriptscriptstyle{a}}$"
      ],
      "text/plain": [
       "<IPython.core.display.Math object>"
      ]
     },
     "metadata": {},
     "output_type": "display_data"
    },
    {
     "name": "stdout",
     "output_type": "stream",
     "text": [
      "-----\n",
      "inequality\n"
     ]
    },
    {
     "data": {
      "text/latex": [
       "$\\displaystyle d\\geq 1$"
      ],
      "text/plain": [
       "<IPython.core.display.Math object>"
      ]
     },
     "metadata": {},
     "output_type": "display_data"
    },
    {
     "name": "stdout",
     "output_type": "stream",
     "text": [
      "-----\n",
      "variable\n"
     ]
    },
    {
     "data": {
      "text/latex": [
       "$\\displaystyle \\scriptstyle\n",
       "{#2}$"
      ],
      "text/plain": [
       "<IPython.core.display.Math object>"
      ]
     },
     "metadata": {},
     "output_type": "display_data"
    },
    {
     "name": "stdout",
     "output_type": "stream",
     "text": [
      "-----\n",
      "Variable\n"
     ]
    },
    {
     "data": {
      "text/latex": [
       "$\\displaystyle D$"
      ],
      "text/plain": [
       "<IPython.core.display.Math object>"
      ]
     },
     "metadata": {},
     "output_type": "display_data"
    },
    {
     "name": "stdout",
     "output_type": "stream",
     "text": [
      "-----\n",
      "Variable\n"
     ]
    },
    {
     "data": {
      "text/latex": [
       "$\\displaystyle M$"
      ],
      "text/plain": [
       "<IPython.core.display.Math object>"
      ]
     },
     "metadata": {},
     "output_type": "display_data"
    },
    {
     "name": "stdout",
     "output_type": "stream",
     "text": [
      "-----\n",
      "Function\n"
     ]
    },
    {
     "data": {
      "text/latex": [
       "$\\displaystyle F(2^{\\mathbb{Z}^n})$"
      ],
      "text/plain": [
       "<IPython.core.display.Math object>"
      ]
     },
     "metadata": {},
     "output_type": "display_data"
    },
    {
     "name": "stdout",
     "output_type": "stream",
     "text": [
      "-----\n",
      "set\n"
     ]
    },
    {
     "data": {
      "text/latex": [
       "$\\displaystyle x,y\\in M$"
      ],
      "text/plain": [
       "<IPython.core.display.Math object>"
      ]
     },
     "metadata": {},
     "output_type": "display_data"
    },
    {
     "name": "stdout",
     "output_type": "stream",
     "text": [
      "-----\n",
      "Inequality\n"
     ]
    },
    {
     "data": {
      "text/latex": [
       "$\\displaystyle \\rho(x,y)\\geq d$"
      ],
      "text/plain": [
       "<IPython.core.display.Math object>"
      ]
     },
     "metadata": {},
     "output_type": "display_data"
    },
    {
     "name": "stdout",
     "output_type": "stream",
     "text": [
      "-----\n",
      "Inequality\n"
     ]
    },
    {
     "data": {
      "text/latex": [
       "$\\displaystyle 1\\leq i\\leq n$"
      ],
      "text/plain": [
       "<IPython.core.display.Math object>"
      ]
     },
     "metadata": {},
     "output_type": "display_data"
    },
    {
     "name": "stdout",
     "output_type": "stream",
     "text": [
      "-----\n",
      "Set\n"
     ]
    },
    {
     "data": {
      "text/latex": [
       "$\\displaystyle x\\in F(2^{\\mathbb{Z}^n})$"
      ],
      "text/plain": [
       "<IPython.core.display.Math object>"
      ]
     },
     "metadata": {},
     "output_type": "display_data"
    },
    {
     "name": "stdout",
     "output_type": "stream",
     "text": [
      "-----\n",
      "inequality\n"
     ]
    },
    {
     "data": {
      "text/latex": [
       "$\\displaystyle a, b\\leq D$"
      ],
      "text/plain": [
       "<IPython.core.display.Math object>"
      ]
     },
     "metadata": {},
     "output_type": "display_data"
    },
    {
     "name": "stdout",
     "output_type": "stream",
     "text": [
      "-----\n",
      "Equation\n"
     ]
    },
    {
     "data": {
      "text/latex": [
       "$\\displaystyle a\\cdot x\\in M$"
      ],
      "text/plain": [
       "<IPython.core.display.Math object>"
      ]
     },
     "metadata": {},
     "output_type": "display_data"
    },
    {
     "name": "stdout",
     "output_type": "stream",
     "text": [
      "-----\n",
      "Equation\n"
     ]
    },
    {
     "data": {
      "text/latex": [
       "$\\displaystyle -b\\cdot x\\in M$"
      ],
      "text/plain": [
       "<IPython.core.display.Math object>"
      ]
     },
     "metadata": {},
     "output_type": "display_data"
    },
    {
     "name": "stdout",
     "output_type": "stream",
     "text": [
      "-----\n",
      "Function\n"
     ]
    },
    {
     "data": {
      "text/latex": [
       "$\\displaystyle F(2^{\\mathbb{Z}^n})$"
      ],
      "text/plain": [
       "<IPython.core.display.Math object>"
      ]
     },
     "metadata": {},
     "output_type": "display_data"
    },
    {
     "name": "stdout",
     "output_type": "stream",
     "text": [
      "-----\n",
      "Linear\n"
     ]
    },
    {
     "data": {
      "text/latex": [
       "$\\displaystyle (2n+1)$"
      ],
      "text/plain": [
       "<IPython.core.display.Math object>"
      ]
     },
     "metadata": {},
     "output_type": "display_data"
    },
    {
     "name": "stdout",
     "output_type": "stream",
     "text": [
      "-----\n",
      "Function\n"
     ]
    },
    {
     "data": {
      "text/latex": [
       "$\\displaystyle F(2^{\\mathbb{Z}^n})$"
      ],
      "text/plain": [
       "<IPython.core.display.Math object>"
      ]
     },
     "metadata": {},
     "output_type": "display_data"
    },
    {
     "name": "stdout",
     "output_type": "stream",
     "text": [
      "-----\n",
      "relation\n"
     ]
    },
    {
     "data": {
      "text/latex": [
       "$\\displaystyle S\\subseteq \\mathbb{Z}^2$"
      ],
      "text/plain": [
       "<IPython.core.display.Math object>"
      ]
     },
     "metadata": {},
     "output_type": "display_data"
    },
    {
     "name": "stdout",
     "output_type": "stream",
     "text": [
      "-----\n",
      "Symbol\n"
     ]
    },
    {
     "data": {
      "text/latex": [
       "$\\displaystyle \\Delta$"
      ],
      "text/plain": [
       "<IPython.core.display.Math object>"
      ]
     },
     "metadata": {},
     "output_type": "display_data"
    },
    {
     "name": "stdout",
     "output_type": "stream",
     "text": [
      "-----\n",
      "Subscript\n"
     ]
    },
    {
     "data": {
      "text/latex": [
       "$\\displaystyle P_{\\lambda,\\delta}$"
      ],
      "text/plain": [
       "<IPython.core.display.Math object>"
      ]
     },
     "metadata": {},
     "output_type": "display_data"
    },
    {
     "name": "stdout",
     "output_type": "stream",
     "text": [
      "-----\n",
      "Interval\n"
     ]
    },
    {
     "data": {
      "text/latex": [
       "$\\displaystyle [\\lambda-\\delta,\\lambda + \\delta]$"
      ],
      "text/plain": [
       "<IPython.core.display.Math object>"
      ]
     },
     "metadata": {},
     "output_type": "display_data"
    },
    {
     "name": "stdout",
     "output_type": "stream",
     "text": [
      "-----\n",
      "Unary\n"
     ]
    },
    {
     "data": {
      "text/latex": [
       "$\\displaystyle \\sqrt{-\\Delta}$"
      ],
      "text/plain": [
       "<IPython.core.display.Math object>"
      ]
     },
     "metadata": {},
     "output_type": "display_data"
    },
    {
     "name": "stdout",
     "output_type": "stream",
     "text": [
      "-----\n",
      "Function\n"
     ]
    },
    {
     "data": {
      "text/latex": [
       "$\\displaystyle L^2 \\to L^{\\infty}$"
      ],
      "text/plain": [
       "<IPython.core.display.Math object>"
      ]
     },
     "metadata": {},
     "output_type": "display_data"
    },
    {
     "name": "stdout",
     "output_type": "stream",
     "text": [
      "-----\n",
      "subscript\n"
     ]
    },
    {
     "data": {
      "text/latex": [
       "$\\displaystyle P_{\\lambda,\\delta}$"
      ],
      "text/plain": [
       "<IPython.core.display.Math object>"
      ]
     },
     "metadata": {},
     "output_type": "display_data"
    },
    {
     "name": "stdout",
     "output_type": "stream",
     "text": [
      "-----\n",
      "exponential\n"
     ]
    },
    {
     "data": {
      "text/latex": [
       "$\\displaystyle \\lambda^{\\frac{1}{2}} \\delta^{\\frac{1}{2}}$"
      ],
      "text/plain": [
       "<IPython.core.display.Math object>"
      ]
     },
     "metadata": {},
     "output_type": "display_data"
    },
    {
     "name": "stdout",
     "output_type": "stream",
     "text": [
      "-----\n",
      "Inequality\n"
     ]
    },
    {
     "data": {
      "text/latex": [
       "$\\displaystyle \\delta \\geq \\lambda^{-\\frac{1}{32}}$"
      ],
      "text/plain": [
       "<IPython.core.display.Math object>"
      ]
     },
     "metadata": {},
     "output_type": "display_data"
    },
    {
     "name": "stdout",
     "output_type": "stream",
     "text": [
      "-----\n",
      "Equation\n"
     ]
    },
    {
     "data": {
      "text/latex": [
       "$\\displaystyle \\delta = 1$"
      ],
      "text/plain": [
       "<IPython.core.display.Math object>"
      ]
     },
     "metadata": {},
     "output_type": "display_data"
    },
    {
     "name": "stdout",
     "output_type": "stream",
     "text": [
      "-----\n",
      "tuple\n"
     ]
    },
    {
     "data": {
      "text/latex": [
       "$\\displaystyle (M,g)$"
      ],
      "text/plain": [
       "<IPython.core.display.Math object>"
      ]
     },
     "metadata": {},
     "output_type": "display_data"
    },
    {
     "name": "stdout",
     "output_type": "stream",
     "text": [
      "-----\n",
      "inequality\n"
     ]
    },
    {
     "data": {
      "text/latex": [
       "$\\displaystyle \\(n \\geq 3\\)$"
      ],
      "text/plain": [
       "<IPython.core.display.Math object>"
      ]
     },
     "metadata": {},
     "output_type": "display_data"
    },
    {
     "name": "stdout",
     "output_type": "stream",
     "text": [
      "-----\n",
      "Variable\n"
     ]
    },
    {
     "data": {
      "text/latex": [
       "$\\displaystyle d$"
      ],
      "text/plain": [
       "<IPython.core.display.Math object>"
      ]
     },
     "metadata": {},
     "output_type": "display_data"
    },
    {
     "name": "stdout",
     "output_type": "stream",
     "text": [
      "-----\n",
      "Symbol\n"
     ]
    },
    {
     "data": {
      "text/latex": [
       "$\\displaystyle \\Delta$"
      ],
      "text/plain": [
       "<IPython.core.display.Math object>"
      ]
     },
     "metadata": {},
     "output_type": "display_data"
    },
    {
     "name": "stdout",
     "output_type": "stream",
     "text": [
      "-----\n",
      "product\n"
     ]
    },
    {
     "data": {
      "text/latex": [
       "$\\displaystyle \\(n \\times n\\)$"
      ],
      "text/plain": [
       "<IPython.core.display.Math object>"
      ]
     },
     "metadata": {},
     "output_type": "display_data"
    },
    {
     "name": "stdout",
     "output_type": "stream",
     "text": [
      "-----\n",
      "inequality\n"
     ]
    },
    {
     "data": {
      "text/latex": [
       "$\\displaystyle \\lambda,\\delta \\geq 0$"
      ],
      "text/plain": [
       "<IPython.core.display.Math object>"
      ]
     },
     "metadata": {},
     "output_type": "display_data"
    },
    {
     "name": "stdout",
     "output_type": "stream",
     "text": [
      "-----\n",
      "Subscript\n"
     ]
    },
    {
     "data": {
      "text/latex": [
       "$\\displaystyle P_{\\lambda,\\delta}$"
      ],
      "text/plain": [
       "<IPython.core.display.Math object>"
      ]
     },
     "metadata": {},
     "output_type": "display_data"
    },
    {
     "name": "stdout",
     "output_type": "stream",
     "text": [
      "-----\n",
      "Product\n"
     ]
    },
    {
     "data": {
      "text/latex": [
       "$\\displaystyle \\((n-1)\\times(n-1)\\)$"
      ],
      "text/plain": [
       "<IPython.core.display.Math object>"
      ]
     },
     "metadata": {},
     "output_type": "display_data"
    },
    {
     "name": "stdout",
     "output_type": "stream",
     "text": [
      "-----\n",
      "Unary\n"
     ]
    },
    {
     "data": {
      "text/latex": [
       "$\\displaystyle \\sqrt{-\\Delta}$"
      ],
      "text/plain": [
       "<IPython.core.display.Math object>"
      ]
     },
     "metadata": {},
     "output_type": "display_data"
    },
    {
     "name": "stdout",
     "output_type": "stream",
     "text": [
      "-----\n",
      "Interval\n"
     ]
    },
    {
     "data": {
      "text/latex": [
       "$\\displaystyle [\\lambda-\\delta,\\lambda + \\delta]$"
      ],
      "text/plain": [
       "<IPython.core.display.Math object>"
      ]
     },
     "metadata": {},
     "output_type": "display_data"
    },
    {
     "name": "stdout",
     "output_type": "stream",
     "text": [
      "-----\n",
      "sum\n"
     ]
    },
    {
     "data": {
      "text/latex": [
       "$\\displaystyle 2+1$"
      ],
      "text/plain": [
       "<IPython.core.display.Math object>"
      ]
     },
     "metadata": {},
     "output_type": "display_data"
    },
    {
     "name": "stdout",
     "output_type": "stream",
     "text": [
      "-----\n",
      "number\n"
     ]
    },
    {
     "data": {
      "text/latex": [
       "$\\displaystyle \\(3\\)$"
      ],
      "text/plain": [
       "<IPython.core.display.Math object>"
      ]
     },
     "metadata": {},
     "output_type": "display_data"
    },
    {
     "name": "stdout",
     "output_type": "stream",
     "text": [
      "-----\n",
      "Function\n"
     ]
    },
    {
     "data": {
      "text/latex": [
       "$\\displaystyle H_{\\gamma,\\lambda}(K),$"
      ],
      "text/plain": [
       "<IPython.core.display.Math object>"
      ]
     },
     "metadata": {},
     "output_type": "display_data"
    },
    {
     "name": "stdout",
     "output_type": "stream",
     "text": [
      "-----\n",
      "inequality\n"
     ]
    },
    {
     "data": {
      "text/latex": [
       "$\\displaystyle 2\\leq p \\leq \\infty$"
      ],
      "text/plain": [
       "<IPython.core.display.Math object>"
      ]
     },
     "metadata": {},
     "output_type": "display_data"
    },
    {
     "name": "stdout",
     "output_type": "stream",
     "text": [
      "-----\n",
      "Variable\n"
     ]
    },
    {
     "data": {
      "text/latex": [
       "$\\displaystyle K,$"
      ],
      "text/plain": [
       "<IPython.core.display.Math object>"
      ]
     },
     "metadata": {},
     "output_type": "display_data"
    },
    {
     "name": "stdout",
     "output_type": "stream",
     "text": [
      "-----\n",
      "Subscript\n"
     ]
    },
    {
     "data": {
      "text/latex": [
       "$\\displaystyle P_{\\lambda,\\delta}$"
      ],
      "text/plain": [
       "<IPython.core.display.Math object>"
      ]
     },
     "metadata": {},
     "output_type": "display_data"
    },
    {
     "name": "stdout",
     "output_type": "stream",
     "text": [
      "-----\n",
      "inequality\n"
     ]
    },
    {
     "data": {
      "text/latex": [
       "$\\displaystyle \\gamma>0$"
      ],
      "text/plain": [
       "<IPython.core.display.Math object>"
      ]
     },
     "metadata": {},
     "output_type": "display_data"
    },
    {
     "name": "stdout",
     "output_type": "stream",
     "text": [
      "-----\n",
      "function\n"
     ]
    },
    {
     "data": {
      "text/latex": [
       "$\\displaystyle L^2(M)$"
      ],
      "text/plain": [
       "<IPython.core.display.Math object>"
      ]
     },
     "metadata": {},
     "output_type": "display_data"
    },
    {
     "name": "stdout",
     "output_type": "stream",
     "text": [
      "-----\n",
      "Function\n"
     ]
    },
    {
     "data": {
      "text/latex": [
       "$\\displaystyle L^p(M)$"
      ],
      "text/plain": [
       "<IPython.core.display.Math object>"
      ]
     },
     "metadata": {},
     "output_type": "display_data"
    },
    {
     "name": "stdout",
     "output_type": "stream",
     "text": [
      "-----\n",
      "inequality\n"
     ]
    },
    {
     "data": {
      "text/latex": [
       "$\\displaystyle \\lambda>0.$"
      ],
      "text/plain": [
       "<IPython.core.display.Math object>"
      ]
     },
     "metadata": {},
     "output_type": "display_data"
    },
    {
     "name": "stdout",
     "output_type": "stream",
     "text": [
      "-----\n",
      "Variable\n"
     ]
    },
    {
     "data": {
      "text/latex": [
       "$\\displaystyle \\gamma$"
      ],
      "text/plain": [
       "<IPython.core.display.Math object>"
      ]
     },
     "metadata": {},
     "output_type": "display_data"
    },
    {
     "name": "stdout",
     "output_type": "stream",
     "text": [
      "-----\n",
      "Superscript\n"
     ]
    },
    {
     "data": {
      "text/latex": [
       "$\\displaystyle L^p$"
      ],
      "text/plain": [
       "<IPython.core.display.Math object>"
      ]
     },
     "metadata": {},
     "output_type": "display_data"
    },
    {
     "name": "stdout",
     "output_type": "stream",
     "text": [
      "-----\n",
      "Function\n"
     ]
    },
    {
     "data": {
      "text/latex": [
       "$\\displaystyle H_{\\gamma,\\lambda}(K)$"
      ],
      "text/plain": [
       "<IPython.core.display.Math object>"
      ]
     },
     "metadata": {},
     "output_type": "display_data"
    },
    {
     "name": "stdout",
     "output_type": "stream",
     "text": [
      "-----\n",
      "Tuple\n"
     ]
    },
    {
     "data": {
      "text/latex": [
       "$\\displaystyle \\tilde{\\mathcal{F}} = (\\mathcal{Q}, \\mathfrak{u}, +, \\times)$"
      ],
      "text/plain": [
       "<IPython.core.display.Math object>"
      ]
     },
     "metadata": {},
     "output_type": "display_data"
    },
    {
     "name": "stdout",
     "output_type": "stream",
     "text": [
      "-----\n",
      "set\n"
     ]
    },
    {
     "data": {
      "text/latex": [
       "$\\displaystyle a, b \\in \\mathcal{Q}$"
      ],
      "text/plain": [
       "<IPython.core.display.Math object>"
      ]
     },
     "metadata": {},
     "output_type": "display_data"
    },
    {
     "name": "stdout",
     "output_type": "stream",
     "text": [
      "-----\n",
      "Equation\n"
     ]
    },
    {
     "data": {
      "text/latex": [
       "$\\displaystyle a \\times b \\in \\mathcal{Z}$"
      ],
      "text/plain": [
       "<IPython.core.display.Math object>"
      ]
     },
     "metadata": {},
     "output_type": "display_data"
    },
    {
     "name": "stdout",
     "output_type": "stream",
     "text": [
      "-----\n",
      "Set\n"
     ]
    },
    {
     "data": {
      "text/latex": [
       "$\\displaystyle \\mathbb{R}$"
      ],
      "text/plain": [
       "<IPython.core.display.Math object>"
      ]
     },
     "metadata": {},
     "output_type": "display_data"
    },
    {
     "name": "stdout",
     "output_type": "stream",
     "text": [
      "-----\n",
      "set\n"
     ]
    },
    {
     "data": {
      "text/latex": [
       "$\\displaystyle a \\in \\mathcal{Z}$"
      ],
      "text/plain": [
       "<IPython.core.display.Math object>"
      ]
     },
     "metadata": {},
     "output_type": "display_data"
    },
    {
     "name": "stdout",
     "output_type": "stream",
     "text": [
      "-----\n",
      "symbol\n"
     ]
    },
    {
     "data": {
      "text/latex": [
       "$\\displaystyle \\mathbb{C}$"
      ],
      "text/plain": [
       "<IPython.core.display.Math object>"
      ]
     },
     "metadata": {},
     "output_type": "display_data"
    },
    {
     "name": "stdout",
     "output_type": "stream",
     "text": [
      "-----\n",
      "relation\n"
     ]
    },
    {
     "data": {
      "text/latex": [
       "$\\displaystyle b \\in\n",
       "  \\mathcal{Z}$"
      ],
      "text/plain": [
       "<IPython.core.display.Math object>"
      ]
     },
     "metadata": {},
     "output_type": "display_data"
    },
    {
     "name": "stdout",
     "output_type": "stream",
     "text": [
      "-----\n",
      "Set\n"
     ]
    },
    {
     "data": {
      "text/latex": [
       "$\\displaystyle a \\in \\mathcal{Q}\\backslash\\mathcal{Z}$"
      ],
      "text/plain": [
       "<IPython.core.display.Math object>"
      ]
     },
     "metadata": {},
     "output_type": "display_data"
    },
    {
     "name": "stdout",
     "output_type": "stream",
     "text": [
      "-----\n",
      "Variable\n"
     ]
    },
    {
     "data": {
      "text/latex": [
       "$\\displaystyle \\mathcal{Q}_{\\mathfrak{u}}$"
      ],
      "text/plain": [
       "<IPython.core.display.Math object>"
      ]
     },
     "metadata": {},
     "output_type": "display_data"
    },
    {
     "name": "stdout",
     "output_type": "stream",
     "text": [
      "-----\n",
      "Equation\n"
     ]
    },
    {
     "data": {
      "text/latex": [
       "$\\displaystyle c + a \\times b = c$"
      ],
      "text/plain": [
       "<IPython.core.display.Math object>"
      ]
     },
     "metadata": {},
     "output_type": "display_data"
    },
    {
     "name": "stdout",
     "output_type": "stream",
     "text": [
      "-----\n",
      "Symbol\n"
     ]
    },
    {
     "data": {
      "text/latex": [
       "$\\displaystyle \\mathcal{Q}$"
      ],
      "text/plain": [
       "<IPython.core.display.Math object>"
      ]
     },
     "metadata": {},
     "output_type": "display_data"
    },
    {
     "name": "stdout",
     "output_type": "stream",
     "text": [
      "-----\n",
      "Set\n"
     ]
    },
    {
     "data": {
      "text/latex": [
       "$\\displaystyle c \\in \\mathcal{Q}$"
      ],
      "text/plain": [
       "<IPython.core.display.Math object>"
      ]
     },
     "metadata": {},
     "output_type": "display_data"
    },
    {
     "name": "stdout",
     "output_type": "stream",
     "text": [
      "-----\n",
      "Symbol\n"
     ]
    },
    {
     "data": {
      "text/latex": [
       "$\\displaystyle \\mathcal{U}$"
      ],
      "text/plain": [
       "<IPython.core.display.Math object>"
      ]
     },
     "metadata": {},
     "output_type": "display_data"
    },
    {
     "name": "stdout",
     "output_type": "stream",
     "text": [
      "-----\n",
      "Equation\n"
     ]
    },
    {
     "data": {
      "text/latex": [
       "$\\displaystyle a^{- 1} \\times c + b = a^{- 1} \\times c$"
      ],
      "text/plain": [
       "<IPython.core.display.Math object>"
      ]
     },
     "metadata": {},
     "output_type": "display_data"
    },
    {
     "name": "stdout",
     "output_type": "stream",
     "text": [
      "-----\n",
      "Symbol\n"
     ]
    },
    {
     "data": {
      "text/latex": [
       "$\\displaystyle \\mathcal{U}$"
      ],
      "text/plain": [
       "<IPython.core.display.Math object>"
      ]
     },
     "metadata": {},
     "output_type": "display_data"
    },
    {
     "name": "stdout",
     "output_type": "stream",
     "text": [
      "-----\n",
      "Equation\n"
     ]
    },
    {
     "data": {
      "text/latex": [
       "$\\displaystyle b = 0_{a^{- 1} \\times c} \\in \\mathcal{Z}$"
      ],
      "text/plain": [
       "<IPython.core.display.Math object>"
      ]
     },
     "metadata": {},
     "output_type": "display_data"
    },
    {
     "name": "stdout",
     "output_type": "stream",
     "text": [
      "-----\n",
      "Symbol\n"
     ]
    },
    {
     "data": {
      "text/latex": [
       "$\\displaystyle \\mathfrak{u}$"
      ],
      "text/plain": [
       "<IPython.core.display.Math object>"
      ]
     },
     "metadata": {},
     "output_type": "display_data"
    },
    {
     "name": "stdout",
     "output_type": "stream",
     "text": [
      "-----\n",
      "function\n"
     ]
    },
    {
     "data": {
      "text/latex": [
       "$\\displaystyle + : \\mathcal{Q}_{\\mathfrak{u}} \\otimes\n",
       "  \\mathcal{Q}_{\\mathfrak{u}} \\rightarrow \\mathcal{Q}_{\\mathfrak{u}}$"
      ],
      "text/plain": [
       "<IPython.core.display.Math object>"
      ]
     },
     "metadata": {},
     "output_type": "display_data"
    },
    {
     "name": "stdout",
     "output_type": "stream",
     "text": [
      "-----\n",
      "Equation\n"
     ]
    },
    {
     "data": {
      "text/latex": [
       "$\\displaystyle c + a = c$"
      ],
      "text/plain": [
       "<IPython.core.display.Math object>"
      ]
     },
     "metadata": {},
     "output_type": "display_data"
    },
    {
     "name": "stdout",
     "output_type": "stream",
     "text": [
      "-----\n",
      "Set\n"
     ]
    },
    {
     "data": {
      "text/latex": [
       "$\\displaystyle c \\in \\mathcal{Q}$"
      ],
      "text/plain": [
       "<IPython.core.display.Math object>"
      ]
     },
     "metadata": {},
     "output_type": "display_data"
    },
    {
     "name": "stdout",
     "output_type": "stream",
     "text": [
      "-----\n",
      "Equation\n"
     ]
    },
    {
     "data": {
      "text/latex": [
       "$\\displaystyle c \\times b = (c + a)\n",
       "  \\times b = c \\times b + a \\times b$"
      ],
      "text/plain": [
       "<IPython.core.display.Math object>"
      ]
     },
     "metadata": {},
     "output_type": "display_data"
    },
    {
     "name": "stdout",
     "output_type": "stream",
     "text": [
      "-----\n",
      "function\n"
     ]
    },
    {
     "data": {
      "text/latex": [
       "$\\displaystyle \\times\n",
       "  : \\mathcal{Q}_{\\mathfrak{u}} \\otimes \\mathcal{Q}_{\\mathfrak{u}} \\rightarrow\n",
       "  \\mathcal{Q}_{\\mathfrak{u}}$"
      ],
      "text/plain": [
       "<IPython.core.display.Math object>"
      ]
     },
     "metadata": {},
     "output_type": "display_data"
    },
    {
     "name": "stdout",
     "output_type": "stream",
     "text": [
      "-----\n",
      "Equation\n"
     ]
    },
    {
     "data": {
      "text/latex": [
       "$\\displaystyle a \\times b = 0_{c \\times b}\n",
       "  \\in \\mathcal{Z}$"
      ],
      "text/plain": [
       "<IPython.core.display.Math object>"
      ]
     },
     "metadata": {},
     "output_type": "display_data"
    },
    {
     "name": "stdout",
     "output_type": "stream",
     "text": [
      "-----\n",
      "Symbol\n"
     ]
    },
    {
     "data": {
      "text/latex": [
       "$\\displaystyle \\tilde{\\mathcal{F}}$"
      ],
      "text/plain": [
       "<IPython.core.display.Math object>"
      ]
     },
     "metadata": {},
     "output_type": "display_data"
    },
    {
     "name": "stdout",
     "output_type": "stream",
     "text": [
      "-----\n",
      "Variable\n"
     ]
    },
    {
     "data": {
      "text/latex": [
       "$\\displaystyle \\mathcal{Q}_{\\mathfrak{u}}$"
      ],
      "text/plain": [
       "<IPython.core.display.Math object>"
      ]
     },
     "metadata": {},
     "output_type": "display_data"
    },
    {
     "name": "stdout",
     "output_type": "stream",
     "text": [
      "-----\n",
      "Subscript\n"
     ]
    },
    {
     "data": {
      "text/latex": [
       "$\\displaystyle 0_a$"
      ],
      "text/plain": [
       "<IPython.core.display.Math object>"
      ]
     },
     "metadata": {},
     "output_type": "display_data"
    },
    {
     "name": "stdout",
     "output_type": "stream",
     "text": [
      "-----\n",
      "subscript\n"
     ]
    },
    {
     "data": {
      "text/latex": [
       "$\\displaystyle 1_a$"
      ],
      "text/plain": [
       "<IPython.core.display.Math object>"
      ]
     },
     "metadata": {},
     "output_type": "display_data"
    },
    {
     "name": "stdout",
     "output_type": "stream",
     "text": [
      "-----\n",
      "Set\n"
     ]
    },
    {
     "data": {
      "text/latex": [
       "$\\displaystyle a \\in \\tilde{\\mathcal{F}}_1, b \\in \\mathcal{Q}\\backslash\n",
       "  \\tilde{\\mathcal{F}}_1$"
      ],
      "text/plain": [
       "<IPython.core.display.Math object>"
      ]
     },
     "metadata": {},
     "output_type": "display_data"
    },
    {
     "name": "stdout",
     "output_type": "stream",
     "text": [
      "-----\n",
      "relation\n"
     ]
    },
    {
     "data": {
      "text/latex": [
       "$\\displaystyle a \\in \\mathcal{Q}$"
      ],
      "text/plain": [
       "<IPython.core.display.Math object>"
      ]
     },
     "metadata": {},
     "output_type": "display_data"
    },
    {
     "name": "stdout",
     "output_type": "stream",
     "text": [
      "-----\n",
      "Symbol\n"
     ]
    },
    {
     "data": {
      "text/latex": [
       "$\\displaystyle \\mathfrak{u}$"
      ],
      "text/plain": [
       "<IPython.core.display.Math object>"
      ]
     },
     "metadata": {},
     "output_type": "display_data"
    },
    {
     "name": "stdout",
     "output_type": "stream",
     "text": [
      "-----\n",
      "Set\n"
     ]
    },
    {
     "data": {
      "text/latex": [
       "$\\displaystyle \\mathcal{Z}=\n",
       "  \\left\\{ a \\in \\mathcal{Q}| \\exists b \\in \\mathcal{Q} \\quad a = 0_b \\right\\}$"
      ],
      "text/plain": [
       "<IPython.core.display.Math object>"
      ]
     },
     "metadata": {},
     "output_type": "display_data"
    },
    {
     "name": "stdout",
     "output_type": "stream",
     "text": [
      "-----\n",
      "variable\n"
     ]
    },
    {
     "data": {
      "text/latex": [
       "$\\displaystyle a$"
      ],
      "text/plain": [
       "<IPython.core.display.Math object>"
      ]
     },
     "metadata": {},
     "output_type": "display_data"
    },
    {
     "name": "stdout",
     "output_type": "stream",
     "text": [
      "-----\n",
      "symbol\n"
     ]
    },
    {
     "data": {
      "text/latex": [
       "$\\displaystyle \\dagger$"
      ],
      "text/plain": [
       "<IPython.core.display.Math object>"
      ]
     },
     "metadata": {},
     "output_type": "display_data"
    },
    {
     "name": "stdout",
     "output_type": "stream",
     "text": [
      "-----\n",
      "set\n"
     ]
    },
    {
     "data": {
      "text/latex": [
       "$\\displaystyle ^{1,2,}$"
      ],
      "text/plain": [
       "<IPython.core.display.Math object>"
      ]
     },
     "metadata": {},
     "output_type": "display_data"
    },
    {
     "name": "stdout",
     "output_type": "stream",
     "text": [
      "-----\n",
      "Exponentiation\n"
     ]
    },
    {
     "data": {
      "text/latex": [
       "$\\displaystyle ^1$"
      ],
      "text/plain": [
       "<IPython.core.display.Math object>"
      ]
     },
     "metadata": {},
     "output_type": "display_data"
    },
    {
     "name": "stdout",
     "output_type": "stream",
     "text": [
      "-----\n",
      "Exponentiation\n"
     ]
    },
    {
     "data": {
      "text/latex": [
       "$\\displaystyle ^2$"
      ],
      "text/plain": [
       "<IPython.core.display.Math object>"
      ]
     },
     "metadata": {},
     "output_type": "display_data"
    },
    {
     "name": "stdout",
     "output_type": "stream",
     "text": [
      "-----\n",
      "Superscript\n"
     ]
    },
    {
     "data": {
      "text/latex": [
       "$\\displaystyle ^{1}$"
      ],
      "text/plain": [
       "<IPython.core.display.Math object>"
      ]
     },
     "metadata": {},
     "output_type": "display_data"
    },
    {
     "name": "stdout",
     "output_type": "stream",
     "text": [
      "-----\n",
      "Exponentiation\n"
     ]
    },
    {
     "data": {
      "text/latex": [
       "$\\displaystyle ^{2}$"
      ],
      "text/plain": [
       "<IPython.core.display.Math object>"
      ]
     },
     "metadata": {},
     "output_type": "display_data"
    },
    {
     "name": "stdout",
     "output_type": "stream",
     "text": [
      "-----\n",
      "exponentiation\n"
     ]
    },
    {
     "data": {
      "text/latex": [
       "$\\displaystyle ^{3}$"
      ],
      "text/plain": [
       "<IPython.core.display.Math object>"
      ]
     },
     "metadata": {},
     "output_type": "display_data"
    },
    {
     "name": "stdout",
     "output_type": "stream",
     "text": [
      "-----\n",
      "variable\n"
     ]
    },
    {
     "data": {
      "text/latex": [
       "$\\displaystyle p$"
      ],
      "text/plain": [
       "<IPython.core.display.Math object>"
      ]
     },
     "metadata": {},
     "output_type": "display_data"
    },
    {
     "name": "stdout",
     "output_type": "stream",
     "text": [
      "-----\n",
      "function\n"
     ]
    },
    {
     "data": {
      "text/latex": [
       "$\\displaystyle B_p(x)$"
      ],
      "text/plain": [
       "<IPython.core.display.Math object>"
      ]
     },
     "metadata": {},
     "output_type": "display_data"
    },
    {
     "name": "stdout",
     "output_type": "stream",
     "text": [
      "-----\n",
      "Variable\n"
     ]
    },
    {
     "data": {
      "text/latex": [
       "$\\displaystyle B_p$"
      ],
      "text/plain": [
       "<IPython.core.display.Math object>"
      ]
     },
     "metadata": {},
     "output_type": "display_data"
    },
    {
     "name": "stdout",
     "output_type": "stream",
     "text": [
      "-----\n",
      "Variable\n"
     ]
    },
    {
     "data": {
      "text/latex": [
       "$\\displaystyle B_p$"
      ],
      "text/plain": [
       "<IPython.core.display.Math object>"
      ]
     },
     "metadata": {},
     "output_type": "display_data"
    },
    {
     "name": "stdout",
     "output_type": "stream",
     "text": [
      "-----\n",
      "Monomial\n"
     ]
    },
    {
     "data": {
      "text/latex": [
       "$\\displaystyle p^2$"
      ],
      "text/plain": [
       "<IPython.core.display.Math object>"
      ]
     },
     "metadata": {},
     "output_type": "display_data"
    },
    {
     "name": "stdout",
     "output_type": "stream",
     "text": [
      "-----\n",
      "variable\n"
     ]
    },
    {
     "data": {
      "text/latex": [
       "$\\displaystyle p$"
      ],
      "text/plain": [
       "<IPython.core.display.Math object>"
      ]
     },
     "metadata": {},
     "output_type": "display_data"
    },
    {
     "name": "stdout",
     "output_type": "stream",
     "text": [
      "-----\n",
      "factorial\n"
     ]
    },
    {
     "data": {
      "text/latex": [
       "$\\displaystyle (p-1)!$"
      ],
      "text/plain": [
       "<IPython.core.display.Math object>"
      ]
     },
     "metadata": {},
     "output_type": "display_data"
    },
    {
     "name": "stdout",
     "output_type": "stream",
     "text": [
      "-----\n",
      "Monomial\n"
     ]
    },
    {
     "data": {
      "text/latex": [
       "$\\displaystyle p^3$"
      ],
      "text/plain": [
       "<IPython.core.display.Math object>"
      ]
     },
     "metadata": {},
     "output_type": "display_data"
    },
    {
     "name": "stdout",
     "output_type": "stream",
     "text": [
      "-----\n",
      "variable\n"
     ]
    },
    {
     "data": {
      "text/latex": [
       "$\\displaystyle p$"
      ],
      "text/plain": [
       "<IPython.core.display.Math object>"
      ]
     },
     "metadata": {},
     "output_type": "display_data"
    },
    {
     "name": "stdout",
     "output_type": "stream",
     "text": [
      "-----\n",
      "Equation\n"
     ]
    },
    {
     "data": {
      "text/latex": [
       "$\\displaystyle n^p=n+l p$"
      ],
      "text/plain": [
       "<IPython.core.display.Math object>"
      ]
     },
     "metadata": {},
     "output_type": "display_data"
    },
    {
     "name": "stdout",
     "output_type": "stream",
     "text": [
      "-----\n",
      "variable\n"
     ]
    },
    {
     "data": {
      "text/latex": [
       "$\\displaystyle l$"
      ],
      "text/plain": [
       "<IPython.core.display.Math object>"
      ]
     },
     "metadata": {},
     "output_type": "display_data"
    },
    {
     "name": "stdout",
     "output_type": "stream",
     "text": [
      "-----\n",
      "Equation\n"
     ]
    },
    {
     "data": {
      "text/latex": [
       "$\\displaystyle (n^p-n)/p=l$"
      ],
      "text/plain": [
       "<IPython.core.display.Math object>"
      ]
     },
     "metadata": {},
     "output_type": "display_data"
    },
    {
     "name": "stdout",
     "output_type": "stream",
     "text": [
      "-----\n",
      "Equation\n"
     ]
    },
    {
     "data": {
      "text/latex": [
       "$\\displaystyle n^p/p=l+n/p$"
      ],
      "text/plain": [
       "<IPython.core.display.Math object>"
      ]
     },
     "metadata": {},
     "output_type": "display_data"
    },
    {
     "name": "stdout",
     "output_type": "stream",
     "text": [
      "-----\n",
      "Inequality\n"
     ]
    },
    {
     "data": {
      "text/latex": [
       "$\\displaystyle 1\\leq n\\leq p-1$"
      ],
      "text/plain": [
       "<IPython.core.display.Math object>"
      ]
     },
     "metadata": {},
     "output_type": "display_data"
    },
    {
     "name": "stdout",
     "output_type": "stream",
     "text": [
      "-----\n",
      "variable\n"
     ]
    },
    {
     "data": {
      "text/latex": [
       "$\\displaystyle j$"
      ],
      "text/plain": [
       "<IPython.core.display.Math object>"
      ]
     },
     "metadata": {},
     "output_type": "display_data"
    },
    {
     "name": "stdout",
     "output_type": "stream",
     "text": [
      "-----\n",
      "binomial\n"
     ]
    },
    {
     "data": {
      "text/latex": [
       "$\\displaystyle \\binom{p}{q}$"
      ],
      "text/plain": [
       "<IPython.core.display.Math object>"
      ]
     },
     "metadata": {},
     "output_type": "display_data"
    },
    {
     "name": "stdout",
     "output_type": "stream",
     "text": [
      "-----\n",
      "variable\n"
     ]
    },
    {
     "data": {
      "text/latex": [
       "$\\displaystyle p$"
      ],
      "text/plain": [
       "<IPython.core.display.Math object>"
      ]
     },
     "metadata": {},
     "output_type": "display_data"
    },
    {
     "name": "stdout",
     "output_type": "stream",
     "text": [
      "-----\n",
      "variable\n"
     ]
    },
    {
     "data": {
      "text/latex": [
       "$\\displaystyle p$"
      ],
      "text/plain": [
       "<IPython.core.display.Math object>"
      ]
     },
     "metadata": {},
     "output_type": "display_data"
    },
    {
     "name": "stdout",
     "output_type": "stream",
     "text": [
      "-----\n",
      "Factorial\n"
     ]
    },
    {
     "data": {
      "text/latex": [
       "$\\displaystyle k!(p-k)!\\binom{p}{k}$"
      ],
      "text/plain": [
       "<IPython.core.display.Math object>"
      ]
     },
     "metadata": {},
     "output_type": "display_data"
    },
    {
     "name": "stdout",
     "output_type": "stream",
     "text": [
      "-----\n",
      "variable\n"
     ]
    },
    {
     "data": {
      "text/latex": [
       "$\\displaystyle p$"
      ],
      "text/plain": [
       "<IPython.core.display.Math object>"
      ]
     },
     "metadata": {},
     "output_type": "display_data"
    },
    {
     "name": "stdout",
     "output_type": "stream",
     "text": [
      "-----\n",
      "factorial\n"
     ]
    },
    {
     "data": {
      "text/latex": [
       "$\\displaystyle k!$"
      ],
      "text/plain": [
       "<IPython.core.display.Math object>"
      ]
     },
     "metadata": {},
     "output_type": "display_data"
    },
    {
     "name": "stdout",
     "output_type": "stream",
     "text": [
      "-----\n",
      "variable\n"
     ]
    },
    {
     "data": {
      "text/latex": [
       "$\\displaystyle p$"
      ],
      "text/plain": [
       "<IPython.core.display.Math object>"
      ]
     },
     "metadata": {},
     "output_type": "display_data"
    },
    {
     "name": "stdout",
     "output_type": "stream",
     "text": [
      "-----\n",
      "factorial\n"
     ]
    },
    {
     "data": {
      "text/latex": [
       "$\\displaystyle k!$"
      ],
      "text/plain": [
       "<IPython.core.display.Math object>"
      ]
     },
     "metadata": {},
     "output_type": "display_data"
    },
    {
     "name": "stdout",
     "output_type": "stream",
     "text": [
      "-----\n",
      "Inequality\n"
     ]
    },
    {
     "data": {
      "text/latex": [
       "$\\displaystyle <p$"
      ],
      "text/plain": [
       "<IPython.core.display.Math object>"
      ]
     },
     "metadata": {},
     "output_type": "display_data"
    },
    {
     "name": "stdout",
     "output_type": "stream",
     "text": [
      "-----\n",
      "variable\n"
     ]
    },
    {
     "data": {
      "text/latex": [
       "$\\displaystyle p$"
      ],
      "text/plain": [
       "<IPython.core.display.Math object>"
      ]
     },
     "metadata": {},
     "output_type": "display_data"
    },
    {
     "name": "stdout",
     "output_type": "stream",
     "text": [
      "-----\n",
      "Function\n"
     ]
    },
    {
     "data": {
      "text/latex": [
       "$\\displaystyle \\mathcal{L}_{g,n}^{\\mathrm{inv}}(H)$"
      ],
      "text/plain": [
       "<IPython.core.display.Math object>"
      ]
     },
     "metadata": {},
     "output_type": "display_data"
    },
    {
     "name": "stdout",
     "output_type": "stream",
     "text": [
      "-----\n",
      "Variable\n"
     ]
    },
    {
     "data": {
      "text/latex": [
       "$\\displaystyle H$"
      ],
      "text/plain": [
       "<IPython.core.display.Math object>"
      ]
     },
     "metadata": {},
     "output_type": "display_data"
    },
    {
     "name": "stdout",
     "output_type": "stream",
     "text": [
      "-----\n",
      "Function\n"
     ]
    },
    {
     "data": {
      "text/latex": [
       "$\\displaystyle \\mathcal{L}_{g,n}^{\\mathrm{inv}}(H)$"
      ],
      "text/plain": [
       "<IPython.core.display.Math object>"
      ]
     },
     "metadata": {},
     "output_type": "display_data"
    },
    {
     "name": "stdout",
     "output_type": "stream",
     "text": [
      "-----\n",
      "Function\n"
     ]
    },
    {
     "data": {
      "text/latex": [
       "$\\displaystyle \\mathrm{Ext}_H^m(X,M)$"
      ],
      "text/plain": [
       "<IPython.core.display.Math object>"
      ]
     },
     "metadata": {},
     "output_type": "display_data"
    },
    {
     "name": "stdout",
     "output_type": "stream",
     "text": [
      "-----\n",
      "inequality\n"
     ]
    },
    {
     "data": {
      "text/latex": [
       "$\\displaystyle m \\geq 0$"
      ],
      "text/plain": [
       "<IPython.core.display.Math object>"
      ]
     },
     "metadata": {},
     "output_type": "display_data"
    },
    {
     "name": "stdout",
     "output_type": "stream",
     "text": [
      "-----\n",
      "variable\n"
     ]
    },
    {
     "data": {
      "text/latex": [
       "$\\displaystyle X$"
      ],
      "text/plain": [
       "<IPython.core.display.Math object>"
      ]
     },
     "metadata": {},
     "output_type": "display_data"
    },
    {
     "name": "stdout",
     "output_type": "stream",
     "text": [
      "-----\n",
      "Variable\n"
     ]
    },
    {
     "data": {
      "text/latex": [
       "$\\displaystyle H$"
      ],
      "text/plain": [
       "<IPython.core.display.Math object>"
      ]
     },
     "metadata": {},
     "output_type": "display_data"
    },
    {
     "name": "stdout",
     "output_type": "stream",
     "text": [
      "-----\n",
      "Variable\n"
     ]
    },
    {
     "data": {
      "text/latex": [
       "$\\displaystyle M$"
      ],
      "text/plain": [
       "<IPython.core.display.Math object>"
      ]
     },
     "metadata": {},
     "output_type": "display_data"
    },
    {
     "name": "stdout",
     "output_type": "stream",
     "text": [
      "-----\n",
      "Function\n"
     ]
    },
    {
     "data": {
      "text/latex": [
       "$\\displaystyle \\mathcal{L}_{g,n}(H)$"
      ],
      "text/plain": [
       "<IPython.core.display.Math object>"
      ]
     },
     "metadata": {},
     "output_type": "display_data"
    },
    {
     "name": "stdout",
     "output_type": "stream",
     "text": [
      "-----\n",
      "Variable\n"
     ]
    },
    {
     "data": {
      "text/latex": [
       "$\\displaystyle H$"
      ],
      "text/plain": [
       "<IPython.core.display.Math object>"
      ]
     },
     "metadata": {},
     "output_type": "display_data"
    },
    {
     "name": "stdout",
     "output_type": "stream",
     "text": [
      "-----\n",
      "variable\n"
     ]
    },
    {
     "data": {
      "text/latex": [
       "$\\displaystyle H$"
      ],
      "text/plain": [
       "<IPython.core.display.Math object>"
      ]
     },
     "metadata": {},
     "output_type": "display_data"
    },
    {
     "name": "stdout",
     "output_type": "stream",
     "text": [
      "-----\n",
      "Symbol\n"
     ]
    },
    {
     "data": {
      "text/latex": [
       "$\\displaystyle \\mathcal{C} = H\\text{-}\\mathrm{mod}$"
      ],
      "text/plain": [
       "<IPython.core.display.Math object>"
      ]
     },
     "metadata": {},
     "output_type": "display_data"
    },
    {
     "name": "stdout",
     "output_type": "stream",
     "text": [
      "-----\n",
      "Symbol\n"
     ]
    },
    {
     "data": {
      "text/latex": [
       "$\\displaystyle \\mathcal{C}$"
      ],
      "text/plain": [
       "<IPython.core.display.Math object>"
      ]
     },
     "metadata": {},
     "output_type": "display_data"
    },
    {
     "name": "stdout",
     "output_type": "stream",
     "text": [
      "-----\n",
      "Symbol\n"
     ]
    },
    {
     "data": {
      "text/latex": [
       "$\\displaystyle \\mathcal{C}$"
      ],
      "text/plain": [
       "<IPython.core.display.Math object>"
      ]
     },
     "metadata": {},
     "output_type": "display_data"
    },
    {
     "name": "stdout",
     "output_type": "stream",
     "text": [
      "-----\n",
      "Function\n"
     ]
    },
    {
     "data": {
      "text/latex": [
       "$\\displaystyle \\Ext_{\\mathcal{C}}^m(-,-)$"
      ],
      "text/plain": [
       "<IPython.core.display.Math object>"
      ]
     },
     "metadata": {},
     "output_type": "display_data"
    },
    {
     "name": "stdout",
     "output_type": "stream",
     "text": [
      "-----\n",
      "inequality\n"
     ]
    },
    {
     "data": {
      "text/latex": [
       "$\\displaystyle m>0$"
      ],
      "text/plain": [
       "<IPython.core.display.Math object>"
      ]
     },
     "metadata": {},
     "output_type": "display_data"
    },
    {
     "name": "stdout",
     "output_type": "stream",
     "text": [
      "-----\n",
      "Symbol\n"
     ]
    },
    {
     "data": {
      "text/latex": [
       "$\\displaystyle \\mathcal{C}$"
      ],
      "text/plain": [
       "<IPython.core.display.Math object>"
      ]
     },
     "metadata": {},
     "output_type": "display_data"
    },
    {
     "name": "stdout",
     "output_type": "stream",
     "text": [
      "-----\n",
      "Summation\n"
     ]
    },
    {
     "data": {
      "text/latex": [
       "$\\displaystyle \\Sigma_{g,n}^{\\circ}$"
      ],
      "text/plain": [
       "<IPython.core.display.Math object>"
      ]
     },
     "metadata": {},
     "output_type": "display_data"
    },
    {
     "name": "stdout",
     "output_type": "stream",
     "text": [
      "-----\n",
      "Variable\n"
     ]
    },
    {
     "data": {
      "text/latex": [
       "$\\displaystyle g$"
      ],
      "text/plain": [
       "<IPython.core.display.Math object>"
      ]
     },
     "metadata": {},
     "output_type": "display_data"
    },
    {
     "name": "stdout",
     "output_type": "stream",
     "text": [
      "-----\n",
      "linear\n"
     ]
    },
    {
     "data": {
      "text/latex": [
       "$\\displaystyle n+1$"
      ],
      "text/plain": [
       "<IPython.core.display.Math object>"
      ]
     },
     "metadata": {},
     "output_type": "display_data"
    },
    {
     "name": "stdout",
     "output_type": "stream",
     "text": [
      "-----\n",
      "Symbol\n"
     ]
    },
    {
     "data": {
      "text/latex": [
       "$\\displaystyle \\mathcal{C}$"
      ],
      "text/plain": [
       "<IPython.core.display.Math object>"
      ]
     },
     "metadata": {},
     "output_type": "display_data"
    },
    {
     "name": "stdout",
     "output_type": "stream",
     "text": [
      "-----\n",
      "Summation\n"
     ]
    },
    {
     "data": {
      "text/latex": [
       "$\\displaystyle \\Sigma_{g,n}^{\\circ}$"
      ],
      "text/plain": [
       "<IPython.core.display.Math object>"
      ]
     },
     "metadata": {},
     "output_type": "display_data"
    },
    {
     "name": "stdout",
     "output_type": "stream",
     "text": [
      "-----\n",
      "set\n"
     ]
    },
    {
     "data": {
      "text/latex": [
       "$\\displaystyle X, X_1,\\ldots,X_n \\in \\mathcal{C}$"
      ],
      "text/plain": [
       "<IPython.core.display.Math object>"
      ]
     },
     "metadata": {},
     "output_type": "display_data"
    },
    {
     "name": "stdout",
     "output_type": "stream",
     "text": [
      "-----\n",
      "Summation\n"
     ]
    },
    {
     "data": {
      "text/latex": [
       "$\\displaystyle \\Sigma^X_{g,X_1,\\ldots,X_n}$"
      ],
      "text/plain": [
       "<IPython.core.display.Math object>"
      ]
     },
     "metadata": {},
     "output_type": "display_data"
    },
    {
     "name": "stdout",
     "output_type": "stream",
     "text": [
      "-----\n",
      "Function\n"
     ]
    },
    {
     "data": {
      "text/latex": [
       "$\\displaystyle \\[ Z(\\Sigma^X_{g,X_1,\\ldots,X_n}) := \\Hom_{\\mathcal{C}}\\bigl( X \\otimes X_1 \\otimes \\ldots \\otimes X_n, L^{\\otimes g} \\bigr) \\]$"
      ],
      "text/plain": [
       "<IPython.core.display.Math object>"
      ]
     },
     "metadata": {},
     "output_type": "display_data"
    },
    {
     "name": "stdout",
     "output_type": "stream",
     "text": [
      "-----\n",
      "variable\n"
     ]
    },
    {
     "data": {
      "text/latex": [
       "$\\displaystyle X$"
      ],
      "text/plain": [
       "<IPython.core.display.Math object>"
      ]
     },
     "metadata": {},
     "output_type": "display_data"
    },
    {
     "name": "stdout",
     "output_type": "stream",
     "text": [
      "-----\n",
      "variable\n"
     ]
    },
    {
     "data": {
      "text/latex": [
       "$\\displaystyle x$"
      ],
      "text/plain": [
       "<IPython.core.display.Math object>"
      ]
     },
     "metadata": {},
     "output_type": "display_data"
    },
    {
     "name": "stdout",
     "output_type": "stream",
     "text": [
      "-----\n",
      "Symbol\n"
     ]
    },
    {
     "data": {
      "text/latex": [
       "$\\displaystyle \\cO$"
      ],
      "text/plain": [
       "<IPython.core.display.Math object>"
      ]
     },
     "metadata": {},
     "output_type": "display_data"
    },
    {
     "name": "stdout",
     "output_type": "stream",
     "text": [
      "-----\n",
      "variable\n"
     ]
    },
    {
     "data": {
      "text/latex": [
       "$\\displaystyle L$"
      ],
      "text/plain": [
       "<IPython.core.display.Math object>"
      ]
     },
     "metadata": {},
     "output_type": "display_data"
    },
    {
     "name": "stdout",
     "output_type": "stream",
     "text": [
      "-----\n",
      "Integral\n"
     ]
    },
    {
     "data": {
      "text/latex": [
       "$\\displaystyle \\int^{X \\in \\mathcal{C}} X^* \\otimes X$"
      ],
      "text/plain": [
       "<IPython.core.display.Math object>"
      ]
     },
     "metadata": {},
     "output_type": "display_data"
    },
    {
     "name": "stdout",
     "output_type": "stream",
     "text": [
      "-----\n",
      "series\n"
     ]
    },
    {
     "data": {
      "text/latex": [
       "$\\displaystyle \\bC[[z]]$"
      ],
      "text/plain": [
       "<IPython.core.display.Math object>"
      ]
     },
     "metadata": {},
     "output_type": "display_data"
    },
    {
     "name": "stdout",
     "output_type": "stream",
     "text": [
      "-----\n",
      "algebraic\n"
     ]
    },
    {
     "data": {
      "text/latex": [
       "$\\displaystyle D=\\Spec\\bC[[z]]$"
      ],
      "text/plain": [
       "<IPython.core.display.Math object>"
      ]
     },
     "metadata": {},
     "output_type": "display_data"
    },
    {
     "name": "stdout",
     "output_type": "stream",
     "text": [
      "-----\n",
      "relation\n"
     ]
    },
    {
     "data": {
      "text/latex": [
       "$\\displaystyle d \\in D$"
      ],
      "text/plain": [
       "<IPython.core.display.Math object>"
      ]
     },
     "metadata": {},
     "output_type": "display_data"
    },
    {
     "name": "stdout",
     "output_type": "stream",
     "text": [
      "-----\n",
      "function\n"
     ]
    },
    {
     "data": {
      "text/latex": [
       "$\\displaystyle Inf : M \\rightarrow D$"
      ],
      "text/plain": [
       "<IPython.core.display.Math object>"
      ]
     },
     "metadata": {},
     "output_type": "display_data"
    },
    {
     "name": "stdout",
     "output_type": "stream",
     "text": [
      "-----\n",
      "set\n"
     ]
    },
    {
     "data": {
      "text/latex": [
       "$\\displaystyle m \\in M$"
      ],
      "text/plain": [
       "<IPython.core.display.Math object>"
      ]
     },
     "metadata": {},
     "output_type": "display_data"
    },
    {
     "name": "stdout",
     "output_type": "stream",
     "text": [
      "-----\n",
      "variable\n"
     ]
    },
    {
     "data": {
      "text/latex": [
       "$\\displaystyle m$"
      ],
      "text/plain": [
       "<IPython.core.display.Math object>"
      ]
     },
     "metadata": {},
     "output_type": "display_data"
    },
    {
     "name": "stdout",
     "output_type": "stream",
     "text": [
      "-----\n",
      "variable\n"
     ]
    },
    {
     "data": {
      "text/latex": [
       "$\\displaystyle S$"
      ],
      "text/plain": [
       "<IPython.core.display.Math object>"
      ]
     },
     "metadata": {},
     "output_type": "display_data"
    },
    {
     "name": "stdout",
     "output_type": "stream",
     "text": [
      "-----\n",
      "Function\n"
     ]
    },
    {
     "data": {
      "text/latex": [
       "$\\displaystyle Err : D \\times D \\rightarrow \\mathbb{R}_+$"
      ],
      "text/plain": [
       "<IPython.core.display.Math object>"
      ]
     },
     "metadata": {},
     "output_type": "display_data"
    },
    {
     "name": "stdout",
     "output_type": "stream",
     "text": [
      "-----\n",
      "set\n"
     ]
    },
    {
     "data": {
      "text/latex": [
       "$\\displaystyle x,y \\in S$"
      ],
      "text/plain": [
       "<IPython.core.display.Math object>"
      ]
     },
     "metadata": {},
     "output_type": "display_data"
    },
    {
     "name": "stdout",
     "output_type": "stream",
     "text": [
      "-----\n",
      "Equation\n"
     ]
    },
    {
     "data": {
      "text/latex": [
       "$\\displaystyle \\[xy = Id_* \\implies x=Id_*\\quad \\wedge \\quad y= Id_*\\]$"
      ],
      "text/plain": [
       "<IPython.core.display.Math object>"
      ]
     },
     "metadata": {},
     "output_type": "display_data"
    },
    {
     "name": "stdout",
     "output_type": "stream",
     "text": [
      "-----\n",
      "Function\n"
     ]
    },
    {
     "data": {
      "text/latex": [
       "$\\displaystyle Inf(m)$"
      ],
      "text/plain": [
       "<IPython.core.display.Math object>"
      ]
     },
     "metadata": {},
     "output_type": "display_data"
    },
    {
     "name": "stdout",
     "output_type": "stream",
     "text": [
      "-----\n",
      "Variable\n"
     ]
    },
    {
     "data": {
      "text/latex": [
       "$\\displaystyle d$"
      ],
      "text/plain": [
       "<IPython.core.display.Math object>"
      ]
     },
     "metadata": {},
     "output_type": "display_data"
    },
    {
     "name": "stdout",
     "output_type": "stream",
     "text": [
      "-----\n",
      "variable\n"
     ]
    },
    {
     "data": {
      "text/latex": [
       "$\\displaystyle S$"
      ],
      "text/plain": [
       "<IPython.core.display.Math object>"
      ]
     },
     "metadata": {},
     "output_type": "display_data"
    },
    {
     "name": "stdout",
     "output_type": "stream",
     "text": [
      "-----\n",
      "Variable\n"
     ]
    },
    {
     "data": {
      "text/latex": [
       "$\\displaystyle S$"
      ],
      "text/plain": [
       "<IPython.core.display.Math object>"
      ]
     },
     "metadata": {},
     "output_type": "display_data"
    },
    {
     "name": "stdout",
     "output_type": "stream",
     "text": [
      "-----\n",
      "variable\n"
     ]
    },
    {
     "data": {
      "text/latex": [
       "$\\displaystyle S$"
      ],
      "text/plain": [
       "<IPython.core.display.Math object>"
      ]
     },
     "metadata": {},
     "output_type": "display_data"
    },
    {
     "name": "stdout",
     "output_type": "stream",
     "text": [
      "-----\n",
      "Symbol\n"
     ]
    },
    {
     "data": {
      "text/latex": [
       "$\\displaystyle \\Phi$"
      ],
      "text/plain": [
       "<IPython.core.display.Math object>"
      ]
     },
     "metadata": {},
     "output_type": "display_data"
    },
    {
     "name": "stdout",
     "output_type": "stream",
     "text": [
      "-----\n",
      "function\n"
     ]
    },
    {
     "data": {
      "text/latex": [
       "$\\displaystyle \\leq : \\Phi \\rightarrow S$"
      ],
      "text/plain": [
       "<IPython.core.display.Math object>"
      ]
     },
     "metadata": {},
     "output_type": "display_data"
    },
    {
     "name": "stdout",
     "output_type": "stream",
     "text": [
      "-----\n",
      "set\n"
     ]
    },
    {
     "data": {
      "text/latex": [
       "$\\displaystyle x,y \\in \\Phi$"
      ],
      "text/plain": [
       "<IPython.core.display.Math object>"
      ]
     },
     "metadata": {},
     "output_type": "display_data"
    },
    {
     "name": "stdout",
     "output_type": "stream",
     "text": [
      "-----\n",
      "inequality\n"
     ]
    },
    {
     "data": {
      "text/latex": [
       "$\\displaystyle x\\leq_S y$"
      ],
      "text/plain": [
       "<IPython.core.display.Math object>"
      ]
     },
     "metadata": {},
     "output_type": "display_data"
    },
    {
     "name": "stdout",
     "output_type": "stream",
     "text": [
      "-----\n",
      "function\n"
     ]
    },
    {
     "data": {
      "text/latex": [
       "$\\displaystyle f : x \\rightarrow y$"
      ],
      "text/plain": [
       "<IPython.core.display.Math object>"
      ]
     },
     "metadata": {},
     "output_type": "display_data"
    },
    {
     "name": "stdout",
     "output_type": "stream",
     "text": [
      "-----\n",
      "variable\n"
     ]
    },
    {
     "data": {
      "text/latex": [
       "$\\displaystyle C$"
      ],
      "text/plain": [
       "<IPython.core.display.Math object>"
      ]
     },
     "metadata": {},
     "output_type": "display_data"
    },
    {
     "name": "stdout",
     "output_type": "stream",
     "text": [
      "-----\n",
      "Equation\n"
     ]
    },
    {
     "data": {
      "text/latex": [
       "$\\displaystyle \\leq(f) = Id_*$"
      ],
      "text/plain": [
       "<IPython.core.display.Math object>"
      ]
     },
     "metadata": {},
     "output_type": "display_data"
    },
    {
     "name": "stdout",
     "output_type": "stream",
     "text": [
      "-----\n",
      "Function\n"
     ]
    },
    {
     "data": {
      "text/latex": [
       "$\\displaystyle Ob(C)$"
      ],
      "text/plain": [
       "<IPython.core.display.Math object>"
      ]
     },
     "metadata": {},
     "output_type": "display_data"
    },
    {
     "name": "stdout",
     "output_type": "stream",
     "text": [
      "-----\n",
      "set\n"
     ]
    },
    {
     "data": {
      "text/latex": [
       "$\\displaystyle x,y \\in Ob(C)$"
      ],
      "text/plain": [
       "<IPython.core.display.Math object>"
      ]
     },
     "metadata": {},
     "output_type": "display_data"
    },
    {
     "name": "stdout",
     "output_type": "stream",
     "text": [
      "-----\n",
      "function\n"
     ]
    },
    {
     "data": {
      "text/latex": [
       "$\\displaystyle C(x,y)$"
      ],
      "text/plain": [
       "<IPython.core.display.Math object>"
      ]
     },
     "metadata": {},
     "output_type": "display_data"
    },
    {
     "name": "stdout",
     "output_type": "stream",
     "text": [
      "-----\n",
      "Symbol\n"
     ]
    },
    {
     "data": {
      "text/latex": [
       "$\\displaystyle \\mathbb{T}$"
      ],
      "text/plain": [
       "<IPython.core.display.Math object>"
      ]
     },
     "metadata": {},
     "output_type": "display_data"
    },
    {
     "name": "stdout",
     "output_type": "stream",
     "text": [
      "-----\n",
      "Function\n"
     ]
    },
    {
     "data": {
      "text/latex": [
       "$\\displaystyle M = \\mathbb{T}(\\mu, \\tau)$"
      ],
      "text/plain": [
       "<IPython.core.display.Math object>"
      ]
     },
     "metadata": {},
     "output_type": "display_data"
    },
    {
     "name": "stdout",
     "output_type": "stream",
     "text": [
      "-----\n",
      "Function\n"
     ]
    },
    {
     "data": {
      "text/latex": [
       "$\\displaystyle Err(d,\\ Inf(m))$"
      ],
      "text/plain": [
       "<IPython.core.display.Math object>"
      ]
     },
     "metadata": {},
     "output_type": "display_data"
    },
    {
     "name": "stdout",
     "output_type": "stream",
     "text": [
      "-----\n",
      "Function\n"
     ]
    },
    {
     "data": {
      "text/latex": [
       "$\\displaystyle D = \\mathbb{T}(\\delta, \\tau)$"
      ],
      "text/plain": [
       "<IPython.core.display.Math object>"
      ]
     },
     "metadata": {},
     "output_type": "display_data"
    },
    {
     "name": "stdout",
     "output_type": "stream",
     "text": [
      "-----\n",
      "function\n"
     ]
    },
    {
     "data": {
      "text/latex": [
       "$\\displaystyle f \\in C(x,y)$"
      ],
      "text/plain": [
       "<IPython.core.display.Math object>"
      ]
     },
     "metadata": {},
     "output_type": "display_data"
    },
    {
     "name": "stdout",
     "output_type": "stream",
     "text": [
      "-----\n",
      "variable\n"
     ]
    },
    {
     "data": {
      "text/latex": [
       "$\\displaystyle C$"
      ],
      "text/plain": [
       "<IPython.core.display.Math object>"
      ]
     },
     "metadata": {},
     "output_type": "display_data"
    },
    {
     "name": "stdout",
     "output_type": "stream",
     "text": [
      "-----\n",
      "Function\n"
     ]
    },
    {
     "data": {
      "text/latex": [
       "$\\displaystyle Inf = \\mathbb{T}(\\iota, \\tau)$"
      ],
      "text/plain": [
       "<IPython.core.display.Math object>"
      ]
     },
     "metadata": {},
     "output_type": "display_data"
    },
    {
     "name": "stdout",
     "output_type": "stream",
     "text": [
      "-----\n",
      "function\n"
     ]
    },
    {
     "data": {
      "text/latex": [
       "$\\displaystyle g \\in C(y, z)$"
      ],
      "text/plain": [
       "<IPython.core.display.Math object>"
      ]
     },
     "metadata": {},
     "output_type": "display_data"
    },
    {
     "name": "stdout",
     "output_type": "stream",
     "text": [
      "-----\n",
      "variable\n"
     ]
    },
    {
     "data": {
      "text/latex": [
       "$\\displaystyle d$"
      ],
      "text/plain": [
       "<IPython.core.display.Math object>"
      ]
     },
     "metadata": {},
     "output_type": "display_data"
    },
    {
     "name": "stdout",
     "output_type": "stream",
     "text": [
      "-----\n",
      "Variable\n"
     ]
    },
    {
     "data": {
      "text/latex": [
       "$\\displaystyle C_2$"
      ],
      "text/plain": [
       "<IPython.core.display.Math object>"
      ]
     },
     "metadata": {},
     "output_type": "display_data"
    },
    {
     "name": "stdout",
     "output_type": "stream",
     "text": [
      "-----\n",
      "Function\n"
     ]
    },
    {
     "data": {
      "text/latex": [
       "$\\displaystyle \\mathrm{MSpin}^c$"
      ],
      "text/plain": [
       "<IPython.core.display.Math object>"
      ]
     },
     "metadata": {},
     "output_type": "display_data"
    },
    {
     "name": "stdout",
     "output_type": "stream",
     "text": [
      "-----\n",
      "Variable\n"
     ]
    },
    {
     "data": {
      "text/latex": [
       "$\\displaystyle C_2$"
      ],
      "text/plain": [
       "<IPython.core.display.Math object>"
      ]
     },
     "metadata": {},
     "output_type": "display_data"
    },
    {
     "name": "stdout",
     "output_type": "stream",
     "text": [
      "-----\n",
      "function\n"
     ]
    },
    {
     "data": {
      "text/latex": [
       "$\\displaystyle \\mathrm{MSpin}$"
      ],
      "text/plain": [
       "<IPython.core.display.Math object>"
      ]
     },
     "metadata": {},
     "output_type": "display_data"
    },
    {
     "name": "stdout",
     "output_type": "stream",
     "text": [
      "-----\n",
      "Variable\n"
     ]
    },
    {
     "data": {
      "text/latex": [
       "$\\displaystyle C_2$"
      ],
      "text/plain": [
       "<IPython.core.display.Math object>"
      ]
     },
     "metadata": {},
     "output_type": "display_data"
    },
    {
     "name": "stdout",
     "output_type": "stream",
     "text": [
      "-----\n",
      "Symbol\n"
     ]
    },
    {
     "data": {
      "text/latex": [
       "$\\displaystyle \\MSpin^c_{\\RR}$"
      ],
      "text/plain": [
       "<IPython.core.display.Math object>"
      ]
     },
     "metadata": {},
     "output_type": "display_data"
    },
    {
     "name": "stdout",
     "output_type": "stream",
     "text": [
      "-----\n",
      "Symbol\n"
     ]
    },
    {
     "data": {
      "text/latex": [
       "$\\displaystyle \\MSpin^c$"
      ],
      "text/plain": [
       "<IPython.core.display.Math object>"
      ]
     },
     "metadata": {},
     "output_type": "display_data"
    },
    {
     "name": "stdout",
     "output_type": "stream",
     "text": [
      "-----\n",
      "Variable\n"
     ]
    },
    {
     "data": {
      "text/latex": [
       "$\\displaystyle C_2$"
      ],
      "text/plain": [
       "<IPython.core.display.Math object>"
      ]
     },
     "metadata": {},
     "output_type": "display_data"
    },
    {
     "name": "stdout",
     "output_type": "stream",
     "text": [
      "-----\n",
      "Identifier\n"
     ]
    },
    {
     "data": {
      "text/latex": [
       "$\\displaystyle \\MSpin$"
      ],
      "text/plain": [
       "<IPython.core.display.Math object>"
      ]
     },
     "metadata": {},
     "output_type": "display_data"
    },
    {
     "name": "stdout",
     "output_type": "stream",
     "text": [
      "-----\n",
      "Function\n"
     ]
    },
    {
     "data": {
      "text/latex": [
       "$\\displaystyle \\MSpin \\to (\\MSpin^c_{\\RR})^{C_2}$"
      ],
      "text/plain": [
       "<IPython.core.display.Math object>"
      ]
     },
     "metadata": {},
     "output_type": "display_data"
    },
    {
     "name": "stdout",
     "output_type": "stream",
     "text": [
      "-----\n",
      "Variable\n"
     ]
    },
    {
     "data": {
      "text/latex": [
       "$\\displaystyle C_2$"
      ],
      "text/plain": [
       "<IPython.core.display.Math object>"
      ]
     },
     "metadata": {},
     "output_type": "display_data"
    },
    {
     "name": "stdout",
     "output_type": "stream",
     "text": [
      "-----\n",
      "variable\n"
     ]
    },
    {
     "data": {
      "text/latex": [
       "$\\displaystyle E$"
      ],
      "text/plain": [
       "<IPython.core.display.Math object>"
      ]
     },
     "metadata": {},
     "output_type": "display_data"
    },
    {
     "name": "stdout",
     "output_type": "stream",
     "text": [
      "-----\n",
      "Equation\n"
     ]
    },
    {
     "data": {
      "text/latex": [
       "$\\displaystyle E^e_* \\simeq \\MSpin^c_*$"
      ],
      "text/plain": [
       "<IPython.core.display.Math object>"
      ]
     },
     "metadata": {},
     "output_type": "display_data"
    },
    {
     "name": "stdout",
     "output_type": "stream",
     "text": [
      "-----\n",
      "Equation\n"
     ]
    },
    {
     "data": {
      "text/latex": [
       "$\\displaystyle E^{C_2}_* \\simeq \\MSpin_*$"
      ],
      "text/plain": [
       "<IPython.core.display.Math object>"
      ]
     },
     "metadata": {},
     "output_type": "display_data"
    },
    {
     "name": "stdout",
     "output_type": "stream",
     "text": [
      "-----\n",
      "Variable\n"
     ]
    },
    {
     "data": {
      "text/latex": [
       "$\\displaystyle \\hat{A}$"
      ],
      "text/plain": [
       "<IPython.core.display.Math object>"
      ]
     },
     "metadata": {},
     "output_type": "display_data"
    },
    {
     "name": "stdout",
     "output_type": "stream",
     "text": [
      "-----\n",
      "variable\n"
     ]
    },
    {
     "data": {
      "text/latex": [
       "$\\displaystyle E$"
      ],
      "text/plain": [
       "<IPython.core.display.Math object>"
      ]
     },
     "metadata": {},
     "output_type": "display_data"
    },
    {
     "name": "stdout",
     "output_type": "stream",
     "text": [
      "-----\n",
      "Isomorphism\n"
     ]
    },
    {
     "data": {
      "text/latex": [
       "$\\displaystyle \\text{res} \\colon \\MSpin_* \\cong E^{C_2}_* \\to E^e_* \\cong \\MSpin^c_*$"
      ],
      "text/plain": [
       "<IPython.core.display.Math object>"
      ]
     },
     "metadata": {},
     "output_type": "display_data"
    },
    {
     "name": "stdout",
     "output_type": "stream",
     "text": [
      "-----\n",
      "Variable\n"
     ]
    },
    {
     "data": {
      "text/latex": [
       "$\\displaystyle \\hat{A}$"
      ],
      "text/plain": [
       "<IPython.core.display.Math object>"
      ]
     },
     "metadata": {},
     "output_type": "display_data"
    },
    {
     "name": "stdout",
     "output_type": "stream",
     "text": [
      "-----\n",
      "Symbol\n"
     ]
    },
    {
     "data": {
      "text/latex": [
       "$\\displaystyle \\MSpin_*$"
      ],
      "text/plain": [
       "<IPython.core.display.Math object>"
      ]
     },
     "metadata": {},
     "output_type": "display_data"
    },
    {
     "name": "stdout",
     "output_type": "stream",
     "text": [
      "-----\n",
      "Symbol\n"
     ]
    },
    {
     "data": {
      "text/latex": [
       "$\\displaystyle \\MSpin^c_*$"
      ],
      "text/plain": [
       "<IPython.core.display.Math object>"
      ]
     },
     "metadata": {},
     "output_type": "display_data"
    },
    {
     "name": "stdout",
     "output_type": "stream",
     "text": [
      "-----\n",
      "Variable\n"
     ]
    },
    {
     "data": {
      "text/latex": [
       "$\\displaystyle \\hat{A}$"
      ],
      "text/plain": [
       "<IPython.core.display.Math object>"
      ]
     },
     "metadata": {},
     "output_type": "display_data"
    },
    {
     "name": "stdout",
     "output_type": "stream",
     "text": [
      "-----\n",
      "inequality\n"
     ]
    },
    {
     "data": {
      "text/latex": [
       "$\\displaystyle \\MSpin \\not\\simeq (\\MSpin^c_{\\RR})^{C_2}$"
      ],
      "text/plain": [
       "<IPython.core.display.Math object>"
      ]
     },
     "metadata": {},
     "output_type": "display_data"
    },
    {
     "name": "stdout",
     "output_type": "stream",
     "text": [
      "-----\n",
      "Variable\n"
     ]
    },
    {
     "data": {
      "text/latex": [
       "$\\displaystyle C_2$"
      ],
      "text/plain": [
       "<IPython.core.display.Math object>"
      ]
     },
     "metadata": {},
     "output_type": "display_data"
    },
    {
     "name": "stdout",
     "output_type": "stream",
     "text": [
      "-----\n",
      "variable\n"
     ]
    },
    {
     "data": {
      "text/latex": [
       "$\\displaystyle E$"
      ],
      "text/plain": [
       "<IPython.core.display.Math object>"
      ]
     },
     "metadata": {},
     "output_type": "display_data"
    },
    {
     "name": "stdout",
     "output_type": "stream",
     "text": [
      "-----\n",
      "isomorphism\n"
     ]
    },
    {
     "data": {
      "text/latex": [
       "$\\displaystyle E^e_* \\cong \\MSpin^c_*$"
      ],
      "text/plain": [
       "<IPython.core.display.Math object>"
      ]
     },
     "metadata": {},
     "output_type": "display_data"
    },
    {
     "name": "stdout",
     "output_type": "stream",
     "text": [
      "-----\n",
      "Variable\n"
     ]
    },
    {
     "data": {
      "text/latex": [
       "$\\displaystyle C_2$"
      ],
      "text/plain": [
       "<IPython.core.display.Math object>"
      ]
     },
     "metadata": {},
     "output_type": "display_data"
    },
    {
     "name": "stdout",
     "output_type": "stream",
     "text": [
      "-----\n",
      "isomorphism\n"
     ]
    },
    {
     "data": {
      "text/latex": [
       "$\\displaystyle E^{C_2}_* \\cong \\MSpin_*$"
      ],
      "text/plain": [
       "<IPython.core.display.Math object>"
      ]
     },
     "metadata": {},
     "output_type": "display_data"
    },
    {
     "name": "stdout",
     "output_type": "stream",
     "text": [
      "-----\n",
      "Variable\n"
     ]
    },
    {
     "data": {
      "text/latex": [
       "$\\displaystyle C_2$"
      ],
      "text/plain": [
       "<IPython.core.display.Math object>"
      ]
     },
     "metadata": {},
     "output_type": "display_data"
    },
    {
     "name": "stdout",
     "output_type": "stream",
     "text": [
      "-----\n",
      "subscript\n"
     ]
    },
    {
     "data": {
      "text/latex": [
       "$\\displaystyle E^e_*$"
      ],
      "text/plain": [
       "<IPython.core.display.Math object>"
      ]
     },
     "metadata": {},
     "output_type": "display_data"
    },
    {
     "name": "stdout",
     "output_type": "stream",
     "text": [
      "-----\n",
      "Symbol\n"
     ]
    },
    {
     "data": {
      "text/latex": [
       "$\\displaystyle \\MSpin^c_*$"
      ],
      "text/plain": [
       "<IPython.core.display.Math object>"
      ]
     },
     "metadata": {},
     "output_type": "display_data"
    },
    {
     "name": "stdout",
     "output_type": "stream",
     "text": [
      "-----\n",
      "variable\n"
     ]
    },
    {
     "data": {
      "text/latex": [
       "$\\displaystyle E$"
      ],
      "text/plain": [
       "<IPython.core.display.Math object>"
      ]
     },
     "metadata": {},
     "output_type": "display_data"
    },
    {
     "name": "stdout",
     "output_type": "stream",
     "text": [
      "-----\n",
      "Variable\n"
     ]
    },
    {
     "data": {
      "text/latex": [
       "$\\displaystyle C_2$"
      ],
      "text/plain": [
       "<IPython.core.display.Math object>"
      ]
     },
     "metadata": {},
     "output_type": "display_data"
    },
    {
     "name": "stdout",
     "output_type": "stream",
     "text": [
      "-----\n",
      "variable\n"
     ]
    },
    {
     "data": {
      "text/latex": [
       "$\\displaystyle m$"
      ],
      "text/plain": [
       "<IPython.core.display.Math object>"
      ]
     },
     "metadata": {},
     "output_type": "display_data"
    },
    {
     "name": "stdout",
     "output_type": "stream",
     "text": [
      "-----\n",
      "variable\n"
     ]
    },
    {
     "data": {
      "text/latex": [
       "$\\displaystyle n$"
      ],
      "text/plain": [
       "<IPython.core.display.Math object>"
      ]
     },
     "metadata": {},
     "output_type": "display_data"
    },
    {
     "name": "stdout",
     "output_type": "stream",
     "text": [
      "-----\n",
      "interval\n"
     ]
    },
    {
     "data": {
      "text/latex": [
       "$\\displaystyle p\\in[0,1]$"
      ],
      "text/plain": [
       "<IPython.core.display.Math object>"
      ]
     },
     "metadata": {},
     "output_type": "display_data"
    },
    {
     "name": "stdout",
     "output_type": "stream",
     "text": [
      "-----\n",
      "inequality\n"
     ]
    },
    {
     "data": {
      "text/latex": [
       "$\\displaystyle  m \\leq n$"
      ],
      "text/plain": [
       "<IPython.core.display.Math object>"
      ]
     },
     "metadata": {},
     "output_type": "display_data"
    },
    {
     "name": "stdout",
     "output_type": "stream",
     "text": [
      "-----\n",
      "interval\n"
     ]
    },
    {
     "data": {
      "text/latex": [
       "$\\displaystyle p \\in [0,1]$"
      ],
      "text/plain": [
       "<IPython.core.display.Math object>"
      ]
     },
     "metadata": {},
     "output_type": "display_data"
    },
    {
     "name": "stdout",
     "output_type": "stream",
     "text": [
      "-----\n",
      "subscript\n"
     ]
    },
    {
     "data": {
      "text/latex": [
       "$\\displaystyle a_m$"
      ],
      "text/plain": [
       "<IPython.core.display.Math object>"
      ]
     },
     "metadata": {},
     "output_type": "display_data"
    },
    {
     "name": "stdout",
     "output_type": "stream",
     "text": [
      "-----\n",
      "subscript\n"
     ]
    },
    {
     "data": {
      "text/latex": [
       "$\\displaystyle a_m$"
      ],
      "text/plain": [
       "<IPython.core.display.Math object>"
      ]
     },
     "metadata": {},
     "output_type": "display_data"
    },
    {
     "name": "stdout",
     "output_type": "stream",
     "text": [
      "-----\n",
      "Symbol\n"
     ]
    },
    {
     "data": {
      "text/latex": [
       "$\\displaystyle \\mathbb{L}^p$"
      ],
      "text/plain": [
       "<IPython.core.display.Math object>"
      ]
     },
     "metadata": {},
     "output_type": "display_data"
    },
    {
     "name": "stdout",
     "output_type": "stream",
     "text": [
      "-----\n",
      "variable\n"
     ]
    },
    {
     "data": {
      "text/latex": [
       "$\\displaystyle p$"
      ],
      "text/plain": [
       "<IPython.core.display.Math object>"
      ]
     },
     "metadata": {},
     "output_type": "display_data"
    },
    {
     "name": "stdout",
     "output_type": "stream",
     "text": [
      "-----\n",
      "Symbol\n"
     ]
    },
    {
     "data": {
      "text/latex": [
       "$\\displaystyle \\mathbb{L}^p$"
      ],
      "text/plain": [
       "<IPython.core.display.Math object>"
      ]
     },
     "metadata": {},
     "output_type": "display_data"
    },
    {
     "name": "stdout",
     "output_type": "stream",
     "text": [
      "-----\n",
      "linear\n"
     ]
    },
    {
     "data": {
      "text/latex": [
       "$\\displaystyle m = cn $"
      ],
      "text/plain": [
       "<IPython.core.display.Math object>"
      ]
     },
     "metadata": {},
     "output_type": "display_data"
    },
    {
     "name": "stdout",
     "output_type": "stream",
     "text": [
      "-----\n",
      "inequality\n"
     ]
    },
    {
     "data": {
      "text/latex": [
       "$\\displaystyle  0 < c < 1 $"
      ],
      "text/plain": [
       "<IPython.core.display.Math object>"
      ]
     },
     "metadata": {},
     "output_type": "display_data"
    },
    {
     "name": "stdout",
     "output_type": "stream",
     "text": [
      "-----\n",
      "inequality\n"
     ]
    },
    {
     "data": {
      "text/latex": [
       "$\\displaystyle p \\geq 2$"
      ],
      "text/plain": [
       "<IPython.core.display.Math object>"
      ]
     },
     "metadata": {},
     "output_type": "display_data"
    },
    {
     "name": "stdout",
     "output_type": "stream",
     "text": [
      "-----\n",
      "inequality\n"
     ]
    },
    {
     "data": {
      "text/latex": [
       "$\\displaystyle p \\in (1,2)$"
      ],
      "text/plain": [
       "<IPython.core.display.Math object>"
      ]
     },
     "metadata": {},
     "output_type": "display_data"
    },
    {
     "name": "stdout",
     "output_type": "stream",
     "text": [
      "-----\n",
      "Variable\n"
     ]
    },
    {
     "data": {
      "text/latex": [
       "$\\displaystyle y$"
      ],
      "text/plain": [
       "<IPython.core.display.Math object>"
      ]
     },
     "metadata": {},
     "output_type": "display_data"
    },
    {
     "name": "stdout",
     "output_type": "stream",
     "text": [
      "-----\n",
      "tuple\n"
     ]
    },
    {
     "data": {
      "text/latex": [
       "$\\displaystyle (z, u)$"
      ],
      "text/plain": [
       "<IPython.core.display.Math object>"
      ]
     },
     "metadata": {},
     "output_type": "display_data"
    },
    {
     "name": "stdout",
     "output_type": "stream",
     "text": [
      "-----\n",
      "subscript\n"
     ]
    },
    {
     "data": {
      "text/latex": [
       "$\\displaystyle  a_m $"
      ],
      "text/plain": [
       "<IPython.core.display.Math object>"
      ]
     },
     "metadata": {},
     "output_type": "display_data"
    },
    {
     "name": "stdout",
     "output_type": "stream",
     "text": [
      "-----\n",
      "brackets\n"
     ]
    },
    {
     "data": {
      "text/latex": [
       "$\\displaystyle [n]$"
      ],
      "text/plain": [
       "<IPython.core.display.Math object>"
      ]
     },
     "metadata": {},
     "output_type": "display_data"
    },
    {
     "name": "stdout",
     "output_type": "stream",
     "text": [
      "-----\n",
      "Linear\n"
     ]
    },
    {
     "data": {
      "text/latex": [
       "$\\displaystyle  \\varepsilon = 1 - c $"
      ],
      "text/plain": [
       "<IPython.core.display.Math object>"
      ]
     },
     "metadata": {},
     "output_type": "display_data"
    },
    {
     "name": "stdout",
     "output_type": "stream",
     "text": [
      "-----\n",
      "Symbol\n"
     ]
    },
    {
     "data": {
      "text/latex": [
       "$\\displaystyle \\mathbb{L}^p$"
      ],
      "text/plain": [
       "<IPython.core.display.Math object>"
      ]
     },
     "metadata": {},
     "output_type": "display_data"
    },
    {
     "name": "stdout",
     "output_type": "stream",
     "text": [
      "-----\n",
      "variable\n"
     ]
    },
    {
     "data": {
      "text/latex": [
       "$\\displaystyle  \\varepsilon $"
      ],
      "text/plain": [
       "<IPython.core.display.Math object>"
      ]
     },
     "metadata": {},
     "output_type": "display_data"
    },
    {
     "name": "stdout",
     "output_type": "stream",
     "text": [
      "-----\n",
      "Symbol\n"
     ]
    },
    {
     "data": {
      "text/latex": [
       "$\\displaystyle \\mathfrak{m}$"
      ],
      "text/plain": [
       "<IPython.core.display.Math object>"
      ]
     },
     "metadata": {},
     "output_type": "display_data"
    },
    {
     "name": "stdout",
     "output_type": "stream",
     "text": [
      "-----\n",
      "fraction\n"
     ]
    },
    {
     "data": {
      "text/latex": [
       "$\\displaystyle  1/\\sqrt{n} $"
      ],
      "text/plain": [
       "<IPython.core.display.Math object>"
      ]
     },
     "metadata": {},
     "output_type": "display_data"
    },
    {
     "name": "stdout",
     "output_type": "stream",
     "text": [
      "-----\n",
      "fraction\n"
     ]
    },
    {
     "data": {
      "text/latex": [
       "$\\displaystyle  1/n $"
      ],
      "text/plain": [
       "<IPython.core.display.Math object>"
      ]
     },
     "metadata": {},
     "output_type": "display_data"
    },
    {
     "name": "stdout",
     "output_type": "stream",
     "text": [
      "-----\n",
      "inequality\n"
     ]
    },
    {
     "data": {
      "text/latex": [
       "$\\displaystyle  p \\neq 1/2 $"
      ],
      "text/plain": [
       "<IPython.core.display.Math object>"
      ]
     },
     "metadata": {},
     "output_type": "display_data"
    },
    {
     "name": "stdout",
     "output_type": "stream",
     "text": [
      "-----\n",
      "variable\n"
     ]
    },
    {
     "data": {
      "text/latex": [
       "$\\displaystyle c$"
      ],
      "text/plain": [
       "<IPython.core.display.Math object>"
      ]
     },
     "metadata": {},
     "output_type": "display_data"
    },
    {
     "name": "stdout",
     "output_type": "stream",
     "text": [
      "-----\n",
      "variable\n"
     ]
    },
    {
     "data": {
      "text/latex": [
       "$\\displaystyle n$"
      ],
      "text/plain": [
       "<IPython.core.display.Math object>"
      ]
     },
     "metadata": {},
     "output_type": "display_data"
    },
    {
     "name": "stdout",
     "output_type": "stream",
     "text": [
      "-----\n",
      "variable\n"
     ]
    },
    {
     "data": {
      "text/latex": [
       "$\\displaystyle p$"
      ],
      "text/plain": [
       "<IPython.core.display.Math object>"
      ]
     },
     "metadata": {},
     "output_type": "display_data"
    },
    {
     "name": "stdout",
     "output_type": "stream",
     "text": [
      "-----\n",
      "Variable\n"
     ]
    },
    {
     "data": {
      "text/latex": [
       "$\\displaystyle \\beta$"
      ],
      "text/plain": [
       "<IPython.core.display.Math object>"
      ]
     },
     "metadata": {},
     "output_type": "display_data"
    },
    {
     "name": "stdout",
     "output_type": "stream",
     "text": [
      "-----\n",
      "variable\n"
     ]
    },
    {
     "data": {
      "text/latex": [
       "$\\displaystyle c$"
      ],
      "text/plain": [
       "<IPython.core.display.Math object>"
      ]
     },
     "metadata": {},
     "output_type": "display_data"
    },
    {
     "name": "stdout",
     "output_type": "stream",
     "text": [
      "-----\n",
      "subscript\n"
     ]
    },
    {
     "data": {
      "text/latex": [
       "$\\displaystyle a_m$"
      ],
      "text/plain": [
       "<IPython.core.display.Math object>"
      ]
     },
     "metadata": {},
     "output_type": "display_data"
    },
    {
     "name": "stdout",
     "output_type": "stream",
     "text": [
      "-----\n",
      "brackets\n"
     ]
    },
    {
     "data": {
      "text/latex": [
       "$\\displaystyle [n]$"
      ],
      "text/plain": [
       "<IPython.core.display.Math object>"
      ]
     },
     "metadata": {},
     "output_type": "display_data"
    },
    {
     "name": "stdout",
     "output_type": "stream",
     "text": [
      "-----\n",
      "exponentiation\n"
     ]
    },
    {
     "data": {
      "text/latex": [
       "$\\displaystyle ^a$"
      ],
      "text/plain": [
       "<IPython.core.display.Math object>"
      ]
     },
     "metadata": {},
     "output_type": "display_data"
    },
    {
     "name": "stdout",
     "output_type": "stream",
     "text": [
      "-----\n",
      "exponentiation\n"
     ]
    },
    {
     "data": {
      "text/latex": [
       "$\\displaystyle ^a$"
      ],
      "text/plain": [
       "<IPython.core.display.Math object>"
      ]
     },
     "metadata": {},
     "output_type": "display_data"
    },
    {
     "name": "stdout",
     "output_type": "stream",
     "text": [
      "-----\n",
      "incomplete\n"
     ]
    },
    {
     "data": {
      "text/latex": [
       "$\\displaystyle 2-$"
      ],
      "text/plain": [
       "<IPython.core.display.Math object>"
      ]
     },
     "metadata": {},
     "output_type": "display_data"
    },
    {
     "name": "stdout",
     "output_type": "stream",
     "text": [
      "-----\n",
      "Manifold\n"
     ]
    },
    {
     "data": {
      "text/latex": [
       "$\\displaystyle T^*\\mathbb R^n$"
      ],
      "text/plain": [
       "<IPython.core.display.Math object>"
      ]
     },
     "metadata": {},
     "output_type": "display_data"
    },
    {
     "name": "stdout",
     "output_type": "stream",
     "text": [
      "-----\n",
      "variable\n"
     ]
    },
    {
     "data": {
      "text/latex": [
       "$\\displaystyle n$"
      ],
      "text/plain": [
       "<IPython.core.display.Math object>"
      ]
     },
     "metadata": {},
     "output_type": "display_data"
    },
    {
     "name": "stdout",
     "output_type": "stream",
     "text": [
      "-----\n",
      "variable\n"
     ]
    },
    {
     "data": {
      "text/latex": [
       "$\\displaystyle k$"
      ],
      "text/plain": [
       "<IPython.core.display.Math object>"
      ]
     },
     "metadata": {},
     "output_type": "display_data"
    },
    {
     "name": "stdout",
     "output_type": "stream",
     "text": [
      "-----\n",
      "Tuple\n"
     ]
    },
    {
     "data": {
      "text/latex": [
       "$\\displaystyle (M,\\mathcal H)$"
      ],
      "text/plain": [
       "<IPython.core.display.Math object>"
      ]
     },
     "metadata": {},
     "output_type": "display_data"
    },
    {
     "name": "stdout",
     "output_type": "stream",
     "text": [
      "-----\n",
      "function\n"
     ]
    },
    {
     "data": {
      "text/latex": [
       "$\\displaystyle \\Gamma(L)$"
      ],
      "text/plain": [
       "<IPython.core.display.Math object>"
      ]
     },
     "metadata": {},
     "output_type": "display_data"
    },
    {
     "name": "stdout",
     "output_type": "stream",
     "text": [
      "-----\n",
      "variable\n"
     ]
    },
    {
     "data": {
      "text/latex": [
       "$\\displaystyle L$"
      ],
      "text/plain": [
       "<IPython.core.display.Math object>"
      ]
     },
     "metadata": {},
     "output_type": "display_data"
    },
    {
     "name": "stdout",
     "output_type": "stream",
     "text": [
      "-----\n",
      "Symbol\n"
     ]
    },
    {
     "data": {
      "text/latex": [
       "$\\displaystyle \\mathcal H$"
      ],
      "text/plain": [
       "<IPython.core.display.Math object>"
      ]
     },
     "metadata": {},
     "output_type": "display_data"
    },
    {
     "name": "stdout",
     "output_type": "stream",
     "text": [
      "-----\n",
      "Function\n"
     ]
    },
    {
     "data": {
      "text/latex": [
       "$\\displaystyle Ham(M, \\omega)$"
      ],
      "text/plain": [
       "<IPython.core.display.Math object>"
      ]
     },
     "metadata": {},
     "output_type": "display_data"
    },
    {
     "name": "stdout",
     "output_type": "stream",
     "text": [
      "-----\n",
      "variable\n"
     ]
    },
    {
     "data": {
      "text/latex": [
       "$\\displaystyle \\alpha$"
      ],
      "text/plain": [
       "<IPython.core.display.Math object>"
      ]
     },
     "metadata": {},
     "output_type": "display_data"
    },
    {
     "name": "stdout",
     "output_type": "stream",
     "text": [
      "-----\n",
      "tuple\n"
     ]
    },
    {
     "data": {
      "text/latex": [
       "$\\displaystyle (M,\\alpha)$"
      ],
      "text/plain": [
       "<IPython.core.display.Math object>"
      ]
     },
     "metadata": {},
     "output_type": "display_data"
    },
    {
     "name": "stdout",
     "output_type": "stream",
     "text": [
      "-----\n",
      "variable\n"
     ]
    },
    {
     "data": {
      "text/latex": [
       "$\\displaystyle K$"
      ],
      "text/plain": [
       "<IPython.core.display.Math object>"
      ]
     },
     "metadata": {},
     "output_type": "display_data"
    },
    {
     "name": "stdout",
     "output_type": "stream",
     "text": [
      "-----\n",
      "Definition\n"
     ]
    },
    {
     "data": {
      "text/latex": [
       "$\\displaystyle \\Vert \\psi\\Vert_{K} := \\min \\lbrace \\Vert \\psi\\Vert_{Hofer}, K\\rbrace,$"
      ],
      "text/plain": [
       "<IPython.core.display.Math object>"
      ]
     },
     "metadata": {},
     "output_type": "display_data"
    },
    {
     "name": "stdout",
     "output_type": "stream",
     "text": [
      "-----\n",
      "set\n"
     ]
    },
    {
     "data": {
      "text/latex": [
       "$\\displaystyle  \\phi\\in Ham(M, \\omega)$"
      ],
      "text/plain": [
       "<IPython.core.display.Math object>"
      ]
     },
     "metadata": {},
     "output_type": "display_data"
    },
    {
     "name": "stdout",
     "output_type": "stream",
     "text": [
      "-----\n",
      "Definition\n"
     ]
    },
    {
     "data": {
      "text/latex": [
       "$\\displaystyle \\Vert \\psi\\Vert_{K} := K,$"
      ],
      "text/plain": [
       "<IPython.core.display.Math object>"
      ]
     },
     "metadata": {},
     "output_type": "display_data"
    },
    {
     "name": "stdout",
     "output_type": "stream",
     "text": [
      "-----\n",
      "Variable\n"
     ]
    },
    {
     "data": {
      "text/latex": [
       "$\\displaystyle \\alpha$"
      ],
      "text/plain": [
       "<IPython.core.display.Math object>"
      ]
     },
     "metadata": {},
     "output_type": "display_data"
    },
    {
     "name": "stdout",
     "output_type": "stream",
     "text": [
      "-----\n",
      "Linear\n"
     ]
    },
    {
     "data": {
      "text/latex": [
       "$\\displaystyle (2n+1)$"
      ],
      "text/plain": [
       "<IPython.core.display.Math object>"
      ]
     },
     "metadata": {},
     "output_type": "display_data"
    },
    {
     "name": "stdout",
     "output_type": "stream",
     "text": [
      "-----\n",
      "Variable\n"
     ]
    },
    {
     "data": {
      "text/latex": [
       "$\\displaystyle \\beta$"
      ],
      "text/plain": [
       "<IPython.core.display.Math object>"
      ]
     },
     "metadata": {},
     "output_type": "display_data"
    },
    {
     "name": "stdout",
     "output_type": "stream",
     "text": [
      "-----\n",
      "variable\n"
     ]
    },
    {
     "data": {
      "text/latex": [
       "$\\displaystyle M$"
      ],
      "text/plain": [
       "<IPython.core.display.Math object>"
      ]
     },
     "metadata": {},
     "output_type": "display_data"
    },
    {
     "name": "stdout",
     "output_type": "stream",
     "text": [
      "-----\n",
      "Supremum\n"
     ]
    },
    {
     "data": {
      "text/latex": [
       "$\\displaystyle \\Vert \\psi\\Vert_{\\beta} := \\sup_{\\lbrace f \\in Ham(M, \\omega) \\vert \\Vert \\psi\\Vert_{Hofer}\\leq \\beta \\rbrace}\\Vert \\psi\\circ f \\circ \\psi^{-1} \\circ f^{-1}\\Vert_{\\beta}.$"
      ],
      "text/plain": [
       "<IPython.core.display.Math object>"
      ]
     },
     "metadata": {},
     "output_type": "display_data"
    },
    {
     "name": "stdout",
     "output_type": "stream",
     "text": [
      "-----\n",
      "Inequality\n"
     ]
    },
    {
     "data": {
      "text/latex": [
       "$\\displaystyle \\alpha\\wedge(d\\alpha)^n\\ne0$"
      ],
      "text/plain": [
       "<IPython.core.display.Math object>"
      ]
     },
     "metadata": {},
     "output_type": "display_data"
    },
    {
     "name": "stdout",
     "output_type": "stream",
     "text": [
      "-----\n",
      "Tuple\n"
     ]
    },
    {
     "data": {
      "text/latex": [
       "$\\displaystyle (M,\\mathcal H)$"
      ],
      "text/plain": [
       "<IPython.core.display.Math object>"
      ]
     },
     "metadata": {},
     "output_type": "display_data"
    },
    {
     "name": "stdout",
     "output_type": "stream",
     "text": [
      "-----\n",
      "Linear\n"
     ]
    },
    {
     "data": {
      "text/latex": [
       "$\\displaystyle (2n+1)$"
      ],
      "text/plain": [
       "<IPython.core.display.Math object>"
      ]
     },
     "metadata": {},
     "output_type": "display_data"
    },
    {
     "name": "stdout",
     "output_type": "stream",
     "text": [
      "-----\n",
      "Variable\n"
     ]
    },
    {
     "data": {
      "text/latex": [
       "$\\displaystyle M$"
      ],
      "text/plain": [
       "<IPython.core.display.Math object>"
      ]
     },
     "metadata": {},
     "output_type": "display_data"
    },
    {
     "name": "stdout",
     "output_type": "stream",
     "text": [
      "-----\n",
      "Variable\n"
     ]
    },
    {
     "data": {
      "text/latex": [
       "$\\displaystyle L_\\infty$"
      ],
      "text/plain": [
       "<IPython.core.display.Math object>"
      ]
     },
     "metadata": {},
     "output_type": "display_data"
    },
    {
     "name": "stdout",
     "output_type": "stream",
     "text": [
      "-----\n",
      "Norm\n"
     ]
    },
    {
     "data": {
      "text/latex": [
       "$\\displaystyle \\Vert .\\Vert_{K} $"
      ],
      "text/plain": [
       "<IPython.core.display.Math object>"
      ]
     },
     "metadata": {},
     "output_type": "display_data"
    },
    {
     "name": "stdout",
     "output_type": "stream",
     "text": [
      "-----\n",
      "Symbol\n"
     ]
    },
    {
     "data": {
      "text/latex": [
       "$\\displaystyle \\mathcal H$"
      ],
      "text/plain": [
       "<IPython.core.display.Math object>"
      ]
     },
     "metadata": {},
     "output_type": "display_data"
    },
    {
     "name": "stdout",
     "output_type": "stream",
     "text": [
      "-----\n",
      "norm\n"
     ]
    },
    {
     "data": {
      "text/latex": [
       "$\\displaystyle \\Vert .\\Vert_{\\beta} $"
      ],
      "text/plain": [
       "<IPython.core.display.Math object>"
      ]
     },
     "metadata": {},
     "output_type": "display_data"
    },
    {
     "name": "stdout",
     "output_type": "stream",
     "text": [
      "-----\n",
      "variable\n"
     ]
    },
    {
     "data": {
      "text/latex": [
       "$\\displaystyle x$"
      ],
      "text/plain": [
       "<IPython.core.display.Math object>"
      ]
     },
     "metadata": {},
     "output_type": "display_data"
    },
    {
     "name": "stdout",
     "output_type": "stream",
     "text": [
      "-----\n",
      "Variable\n"
     ]
    },
    {
     "data": {
      "text/latex": [
       "$\\displaystyle U$"
      ],
      "text/plain": [
       "<IPython.core.display.Math object>"
      ]
     },
     "metadata": {},
     "output_type": "display_data"
    },
    {
     "name": "stdout",
     "output_type": "stream",
     "text": [
      "-----\n",
      "Exponential\n"
     ]
    },
    {
     "data": {
      "text/latex": [
       "$\\displaystyle \\mathbb{E}^{3}$"
      ],
      "text/plain": [
       "<IPython.core.display.Math object>"
      ]
     },
     "metadata": {},
     "output_type": "display_data"
    },
    {
     "name": "stdout",
     "output_type": "stream",
     "text": [
      "-----\n",
      "matrix\n"
     ]
    },
    {
     "data": {
      "text/latex": [
       "$\\displaystyle {\\vcenter{\\vbox{\\hrule height.4pt \\hbox{\\vrule width.4pt height7pt \\kern7pt \\vrule width.4pt} \\hrule height.4pt}}}$"
      ],
      "text/plain": [
       "<IPython.core.display.Math object>"
      ]
     },
     "metadata": {},
     "output_type": "display_data"
    },
    {
     "name": "stdout",
     "output_type": "stream",
     "text": [
      "-----\n",
      "constant\n"
     ]
    },
    {
     "data": {
      "text/latex": [
       "$\\displaystyle 3$"
      ],
      "text/plain": [
       "<IPython.core.display.Math object>"
      ]
     },
     "metadata": {},
     "output_type": "display_data"
    },
    {
     "name": "stdout",
     "output_type": "stream",
     "text": [
      "-----\n",
      "Exponential\n"
     ]
    },
    {
     "data": {
      "text/latex": [
       "$\\displaystyle \\mathbb{E}^{3}$"
      ],
      "text/plain": [
       "<IPython.core.display.Math object>"
      ]
     },
     "metadata": {},
     "output_type": "display_data"
    },
    {
     "name": "stdout",
     "output_type": "stream",
     "text": [
      "-----\n",
      "number\n"
     ]
    },
    {
     "data": {
      "text/latex": [
       "$\\displaystyle 3$"
      ],
      "text/plain": [
       "<IPython.core.display.Math object>"
      ]
     },
     "metadata": {},
     "output_type": "display_data"
    },
    {
     "name": "stdout",
     "output_type": "stream",
     "text": [
      "-----\n",
      "Exponential\n"
     ]
    },
    {
     "data": {
      "text/latex": [
       "$\\displaystyle \\mathbb{E}^{3}$"
      ],
      "text/plain": [
       "<IPython.core.display.Math object>"
      ]
     },
     "metadata": {},
     "output_type": "display_data"
    },
    {
     "name": "stdout",
     "output_type": "stream",
     "text": [
      "-----\n",
      "Operator\n"
     ]
    },
    {
     "data": {
      "text/latex": [
       "$\\displaystyle \\nabla$"
      ],
      "text/plain": [
       "<IPython.core.display.Math object>"
      ]
     },
     "metadata": {},
     "output_type": "display_data"
    },
    {
     "name": "stdout",
     "output_type": "stream",
     "text": [
      "-----\n",
      "variable\n"
     ]
    },
    {
     "data": {
      "text/latex": [
       "$\\displaystyle #1$"
      ],
      "text/plain": [
       "<IPython.core.display.Math object>"
      ]
     },
     "metadata": {},
     "output_type": "display_data"
    },
    {
     "name": "stdout",
     "output_type": "stream",
     "text": [
      "-----\n",
      "Tuple\n"
     ]
    },
    {
     "data": {
      "text/latex": [
       "$\\displaystyle (M^{2},g)$"
      ],
      "text/plain": [
       "<IPython.core.display.Math object>"
      ]
     },
     "metadata": {},
     "output_type": "display_data"
    },
    {
     "name": "stdout",
     "output_type": "stream",
     "text": [
      "-----\n",
      "symbol\n"
     ]
    },
    {
     "data": {
      "text/latex": [
       "$\\displaystyle #2$"
      ],
      "text/plain": [
       "<IPython.core.display.Math object>"
      ]
     },
     "metadata": {},
     "output_type": "display_data"
    },
    {
     "name": "stdout",
     "output_type": "stream",
     "text": [
      "-----\n",
      "Operator\n"
     ]
    },
    {
     "data": {
      "text/latex": [
       "$\\displaystyle \\nabla$"
      ],
      "text/plain": [
       "<IPython.core.display.Math object>"
      ]
     },
     "metadata": {},
     "output_type": "display_data"
    },
    {
     "name": "stdout",
     "output_type": "stream",
     "text": [
      "-----\n",
      "variable\n"
     ]
    },
    {
     "data": {
      "text/latex": [
       "$\\displaystyle #1$"
      ],
      "text/plain": [
       "<IPython.core.display.Math object>"
      ]
     },
     "metadata": {},
     "output_type": "display_data"
    },
    {
     "name": "stdout",
     "output_type": "stream",
     "text": [
      "-----\n",
      "Exponential\n"
     ]
    },
    {
     "data": {
      "text/latex": [
       "$\\displaystyle \\mathbb{E}^{3}$"
      ],
      "text/plain": [
       "<IPython.core.display.Math object>"
      ]
     },
     "metadata": {},
     "output_type": "display_data"
    },
    {
     "name": "stdout",
     "output_type": "stream",
     "text": [
      "-----\n",
      "symbol\n"
     ]
    },
    {
     "data": {
      "text/latex": [
       "$\\displaystyle #2$"
      ],
      "text/plain": [
       "<IPython.core.display.Math object>"
      ]
     },
     "metadata": {},
     "output_type": "display_data"
    },
    {
     "name": "stdout",
     "output_type": "stream",
     "text": [
      "-----\n",
      "Exponential\n"
     ]
    },
    {
     "data": {
      "text/latex": [
       "$\\displaystyle \\mathbb{E}^{3}$"
      ],
      "text/plain": [
       "<IPython.core.display.Math object>"
      ]
     },
     "metadata": {},
     "output_type": "display_data"
    },
    {
     "name": "stdout",
     "output_type": "stream",
     "text": [
      "-----\n",
      "fraction\n"
     ]
    },
    {
     "data": {
      "text/latex": [
       "$\\displaystyle \\scriptstyle{#1}$"
      ],
      "text/plain": [
       "<IPython.core.display.Math object>"
      ]
     },
     "metadata": {},
     "output_type": "display_data"
    },
    {
     "name": "stdout",
     "output_type": "stream",
     "text": [
      "-----\n",
      "variable\n"
     ]
    },
    {
     "data": {
      "text/latex": [
       "$\\displaystyle \\scriptstyle{#2}$"
      ],
      "text/plain": [
       "<IPython.core.display.Math object>"
      ]
     },
     "metadata": {},
     "output_type": "display_data"
    },
    {
     "name": "stdout",
     "output_type": "stream",
     "text": [
      "-----\n",
      "symbol\n"
     ]
    },
    {
     "data": {
      "text/latex": [
       "$\\displaystyle #3$"
      ],
      "text/plain": [
       "<IPython.core.display.Math object>"
      ]
     },
     "metadata": {},
     "output_type": "display_data"
    },
    {
     "name": "stdout",
     "output_type": "stream",
     "text": [
      "-----\n",
      "Power\n"
     ]
    },
    {
     "data": {
      "text/latex": [
       "$\\displaystyle S^{2}$"
      ],
      "text/plain": [
       "<IPython.core.display.Math object>"
      ]
     },
     "metadata": {},
     "output_type": "display_data"
    },
    {
     "name": "stdout",
     "output_type": "stream",
     "text": [
      "-----\n",
      "fraction\n"
     ]
    },
    {
     "data": {
      "text/latex": [
       "$\\displaystyle \\scriptstyle{#1}$"
      ],
      "text/plain": [
       "<IPython.core.display.Math object>"
      ]
     },
     "metadata": {},
     "output_type": "display_data"
    },
    {
     "name": "stdout",
     "output_type": "stream",
     "text": [
      "-----\n",
      "symbol\n"
     ]
    },
    {
     "data": {
      "text/latex": [
       "$\\displaystyle #2$"
      ],
      "text/plain": [
       "<IPython.core.display.Math object>"
      ]
     },
     "metadata": {},
     "output_type": "display_data"
    },
    {
     "name": "stdout",
     "output_type": "stream",
     "text": [
      "-----\n",
      "fraction\n"
     ]
    },
    {
     "data": {
      "text/latex": [
       "$\\displaystyle \\scriptstyle{#1}$"
      ],
      "text/plain": [
       "<IPython.core.display.Math object>"
      ]
     },
     "metadata": {},
     "output_type": "display_data"
    },
    {
     "name": "stdout",
     "output_type": "stream",
     "text": [
      "-----\n",
      "Constant\n"
     ]
    },
    {
     "data": {
      "text/latex": [
       "$\\displaystyle \\pi$"
      ],
      "text/plain": [
       "<IPython.core.display.Math object>"
      ]
     },
     "metadata": {},
     "output_type": "display_data"
    },
    {
     "name": "stdout",
     "output_type": "stream",
     "text": [
      "-----\n",
      "number\n"
     ]
    },
    {
     "data": {
      "text/latex": [
       "$\\displaystyle #2$"
      ],
      "text/plain": [
       "<IPython.core.display.Math object>"
      ]
     },
     "metadata": {},
     "output_type": "display_data"
    },
    {
     "name": "stdout",
     "output_type": "stream",
     "text": [
      "-----\n",
      "Power\n"
     ]
    },
    {
     "data": {
      "text/latex": [
       "$\\displaystyle S^{2}$"
      ],
      "text/plain": [
       "<IPython.core.display.Math object>"
      ]
     },
     "metadata": {},
     "output_type": "display_data"
    },
    {
     "name": "stdout",
     "output_type": "stream",
     "text": [
      "-----\n",
      "fraction\n"
     ]
    },
    {
     "data": {
      "text/latex": [
       "$\\displaystyle \\scriptstyle{#1}$"
      ],
      "text/plain": [
       "<IPython.core.display.Math object>"
      ]
     },
     "metadata": {},
     "output_type": "display_data"
    },
    {
     "name": "stdout",
     "output_type": "stream",
     "text": [
      "-----\n",
      "variable\n"
     ]
    },
    {
     "data": {
      "text/latex": [
       "$\\displaystyle \\scriptstyle{#2}$"
      ],
      "text/plain": [
       "<IPython.core.display.Math object>"
      ]
     },
     "metadata": {},
     "output_type": "display_data"
    },
    {
     "name": "stdout",
     "output_type": "stream",
     "text": [
      "-----\n",
      "Symbol\n"
     ]
    },
    {
     "data": {
      "text/latex": [
       "$\\displaystyle #3$"
      ],
      "text/plain": [
       "<IPython.core.display.Math object>"
      ]
     },
     "metadata": {},
     "output_type": "display_data"
    },
    {
     "name": "stdout",
     "output_type": "stream",
     "text": [
      "-----\n",
      "Power\n"
     ]
    },
    {
     "data": {
      "text/latex": [
       "$\\displaystyle S^{2}$"
      ],
      "text/plain": [
       "<IPython.core.display.Math object>"
      ]
     },
     "metadata": {},
     "output_type": "display_data"
    },
    {
     "name": "stdout",
     "output_type": "stream",
     "text": [
      "-----\n",
      "fraction\n"
     ]
    },
    {
     "data": {
      "text/latex": [
       "$\\displaystyle \\scriptstyle{#1}$"
      ],
      "text/plain": [
       "<IPython.core.display.Math object>"
      ]
     },
     "metadata": {},
     "output_type": "display_data"
    },
    {
     "name": "stdout",
     "output_type": "stream",
     "text": [
      "-----\n",
      "symbol\n"
     ]
    },
    {
     "data": {
      "text/latex": [
       "$\\displaystyle #2$"
      ],
      "text/plain": [
       "<IPython.core.display.Math object>"
      ]
     },
     "metadata": {},
     "output_type": "display_data"
    },
    {
     "name": "stdout",
     "output_type": "stream",
     "text": [
      "-----\n",
      "interval\n"
     ]
    },
    {
     "data": {
      "text/latex": [
       "$\\displaystyle (0,2\\pi)$"
      ],
      "text/plain": [
       "<IPython.core.display.Math object>"
      ]
     },
     "metadata": {},
     "output_type": "display_data"
    },
    {
     "name": "stdout",
     "output_type": "stream",
     "text": [
      "-----\n",
      "Function\n"
     ]
    },
    {
     "data": {
      "text/latex": [
       "$\\displaystyle #1{#2#3}{\\int}$"
      ],
      "text/plain": [
       "<IPython.core.display.Math object>"
      ]
     },
     "metadata": {},
     "output_type": "display_data"
    },
    {
     "name": "stdout",
     "output_type": "stream",
     "text": [
      "-----\n",
      "other\n"
     ]
    },
    {
     "data": {
      "text/latex": [
       "$\\displaystyle #2#3$"
      ],
      "text/plain": [
       "<IPython.core.display.Math object>"
      ]
     },
     "metadata": {},
     "output_type": "display_data"
    },
    {
     "name": "stdout",
     "output_type": "stream",
     "text": [
      "-----\n",
      "variable\n"
     ]
    },
    {
     "data": {
      "text/latex": [
       "$\\displaystyle p$"
      ],
      "text/plain": [
       "<IPython.core.display.Math object>"
      ]
     },
     "metadata": {},
     "output_type": "display_data"
    },
    {
     "name": "stdout",
     "output_type": "stream",
     "text": [
      "-----\n",
      "Superscript\n"
     ]
    },
    {
     "data": {
      "text/latex": [
       "$\\displaystyle L^p$"
      ],
      "text/plain": [
       "<IPython.core.display.Math object>"
      ]
     },
     "metadata": {},
     "output_type": "display_data"
    },
    {
     "name": "stdout",
     "output_type": "stream",
     "text": [
      "-----\n",
      "Superscript\n"
     ]
    },
    {
     "data": {
      "text/latex": [
       "$\\displaystyle L^p$"
      ],
      "text/plain": [
       "<IPython.core.display.Math object>"
      ]
     },
     "metadata": {},
     "output_type": "display_data"
    },
    {
     "name": "stdout",
     "output_type": "stream",
     "text": [
      "-----\n",
      "variable\n"
     ]
    },
    {
     "data": {
      "text/latex": [
       "$\\displaystyle p$"
      ],
      "text/plain": [
       "<IPython.core.display.Math object>"
      ]
     },
     "metadata": {},
     "output_type": "display_data"
    },
    {
     "name": "stdout",
     "output_type": "stream",
     "text": [
      "-----\n",
      "Variable\n"
     ]
    },
    {
     "data": {
      "text/latex": [
       "$\\displaystyle T$"
      ],
      "text/plain": [
       "<IPython.core.display.Math object>"
      ]
     },
     "metadata": {},
     "output_type": "display_data"
    },
    {
     "name": "stdout",
     "output_type": "stream",
     "text": [
      "-----\n",
      "notation\n"
     ]
    },
    {
     "data": {
      "text/latex": [
       "$\\displaystyle L^2(\\R^d)$"
      ],
      "text/plain": [
       "<IPython.core.display.Math object>"
      ]
     },
     "metadata": {},
     "output_type": "display_data"
    },
    {
     "name": "stdout",
     "output_type": "stream",
     "text": [
      "-----\n",
      "Inequality\n"
     ]
    },
    {
     "data": {
      "text/latex": [
       "$\\displaystyle \\[\n",
       "\\|T\\|_{\\cS^p}=\\left(\\tr(|T|^p)\\right)^\\frac{1}{p}<\\infty.\n",
       "\\]$"
      ],
      "text/plain": [
       "<IPython.core.display.Math object>"
      ]
     },
     "metadata": {},
     "output_type": "display_data"
    },
    {
     "name": "stdout",
     "output_type": "stream",
     "text": [
      "-----\n",
      "variable\n"
     ]
    },
    {
     "data": {
      "text/latex": [
       "$\\displaystyle m$"
      ],
      "text/plain": [
       "<IPython.core.display.Math object>"
      ]
     },
     "metadata": {},
     "output_type": "display_data"
    },
    {
     "name": "stdout",
     "output_type": "stream",
     "text": [
      "-----\n",
      "variable\n"
     ]
    },
    {
     "data": {
      "text/latex": [
       "$\\displaystyle n$"
      ],
      "text/plain": [
       "<IPython.core.display.Math object>"
      ]
     },
     "metadata": {},
     "output_type": "display_data"
    },
    {
     "name": "stdout",
     "output_type": "stream",
     "text": [
      "-----\n",
      "Variable\n"
     ]
    },
    {
     "data": {
      "text/latex": [
       "$\\displaystyle \\R^{2d}$"
      ],
      "text/plain": [
       "<IPython.core.display.Math object>"
      ]
     },
     "metadata": {},
     "output_type": "display_data"
    },
    {
     "name": "stdout",
     "output_type": "stream",
     "text": [
      "-----\n",
      "Symbol\n"
     ]
    },
    {
     "data": {
      "text/latex": [
       "$\\displaystyle \\sigma$"
      ],
      "text/plain": [
       "<IPython.core.display.Math object>"
      ]
     },
     "metadata": {},
     "output_type": "display_data"
    },
    {
     "name": "stdout",
     "output_type": "stream",
     "text": [
      "-----\n",
      "Variable\n"
     ]
    },
    {
     "data": {
      "text/latex": [
       "$\\displaystyle \\R^{2d}$"
      ],
      "text/plain": [
       "<IPython.core.display.Math object>"
      ]
     },
     "metadata": {},
     "output_type": "display_data"
    },
    {
     "name": "stdout",
     "output_type": "stream",
     "text": [
      "-----\n",
      "Integral\n"
     ]
    },
    {
     "data": {
      "text/latex": [
       "$\\displaystyle \\[\n",
       "\\F_\\sigma(\\Psi)(\\zeta)=\\int_{\\R^{2d}}e^{-2\\pi i \\sigma(\\zeta, z)}\\Psi(z)\\,dz,\n",
       "\\]$"
      ],
      "text/plain": [
       "<IPython.core.display.Math object>"
      ]
     },
     "metadata": {},
     "output_type": "display_data"
    },
    {
     "name": "stdout",
     "output_type": "stream",
     "text": [
      "-----\n",
      "Relation\n"
     ]
    },
    {
     "data": {
      "text/latex": [
       "$\\displaystyle \\Psi\\in \\sS(\\R^{2d})$"
      ],
      "text/plain": [
       "<IPython.core.display.Math object>"
      ]
     },
     "metadata": {},
     "output_type": "display_data"
    },
    {
     "name": "stdout",
     "output_type": "stream",
     "text": [
      "-----\n",
      "Function\n"
     ]
    },
    {
     "data": {
      "text/latex": [
       "$\\displaystyle \\sS'(\\R^{2d})$"
      ],
      "text/plain": [
       "<IPython.core.display.Math object>"
      ]
     },
     "metadata": {},
     "output_type": "display_data"
    },
    {
     "name": "stdout",
     "output_type": "stream",
     "text": [
      "-----\n",
      "Function\n"
     ]
    },
    {
     "data": {
      "text/latex": [
       "$\\displaystyle L^{1}_{\\rm loc}(\\rn)$"
      ],
      "text/plain": [
       "<IPython.core.display.Math object>"
      ]
     },
     "metadata": {},
     "output_type": "display_data"
    },
    {
     "name": "stdout",
     "output_type": "stream",
     "text": [
      "-----\n",
      "Equation\n"
     ]
    },
    {
     "data": {
      "text/latex": [
       "$\\displaystyle \\[\n",
       "\\langle \\F_\\sigma(\\tau),\\Psi\\rangle_{\\sS',\\sS}=\\langle \\tau,\\F_\\sigma{\\Psi}\\rangle_{\\sS',\\sS},\n",
       "\\]$"
      ],
      "text/plain": [
       "<IPython.core.display.Math object>"
      ]
     },
     "metadata": {},
     "output_type": "display_data"
    },
    {
     "name": "stdout",
     "output_type": "stream",
     "text": [
      "-----\n",
      "Variable\n"
     ]
    },
    {
     "data": {
      "text/latex": [
       "$\\displaystyle \\rn.$"
      ],
      "text/plain": [
       "<IPython.core.display.Math object>"
      ]
     },
     "metadata": {},
     "output_type": "display_data"
    },
    {
     "name": "stdout",
     "output_type": "stream",
     "text": [
      "-----\n",
      "inequality\n"
     ]
    },
    {
     "data": {
      "text/latex": [
       "$\\displaystyle 0\\leq \\beta<n$"
      ],
      "text/plain": [
       "<IPython.core.display.Math object>"
      ]
     },
     "metadata": {},
     "output_type": "display_data"
    },
    {
     "name": "stdout",
     "output_type": "stream",
     "text": [
      "-----\n",
      "Function\n"
     ]
    },
    {
     "data": {
      "text/latex": [
       "$\\displaystyle f \\in  L^{1}_{\\rm loc}(\\rn)$"
      ],
      "text/plain": [
       "<IPython.core.display.Math object>"
      ]
     },
     "metadata": {},
     "output_type": "display_data"
    },
    {
     "name": "stdout",
     "output_type": "stream",
     "text": [
      "-----\n",
      "Relation\n"
     ]
    },
    {
     "data": {
      "text/latex": [
       "$\\displaystyle \\tau\\in \\sS'(\\R^{2d})$"
      ],
      "text/plain": [
       "<IPython.core.display.Math object>"
      ]
     },
     "metadata": {},
     "output_type": "display_data"
    },
    {
     "name": "stdout",
     "output_type": "stream",
     "text": [
      "-----\n",
      "Relation\n"
     ]
    },
    {
     "data": {
      "text/latex": [
       "$\\displaystyle \\Psi\\in \\sS(\\R^{2d})$"
      ],
      "text/plain": [
       "<IPython.core.display.Math object>"
      ]
     },
     "metadata": {},
     "output_type": "display_data"
    },
    {
     "name": "stdout",
     "output_type": "stream",
     "text": [
      "-----\n",
      "variable\n"
     ]
    },
    {
     "data": {
      "text/latex": [
       "$\\displaystyle n$"
      ],
      "text/plain": [
       "<IPython.core.display.Math object>"
      ]
     },
     "metadata": {},
     "output_type": "display_data"
    },
    {
     "name": "stdout",
     "output_type": "stream",
     "text": [
      "-----\n",
      "function\n"
     ]
    },
    {
     "data": {
      "text/latex": [
       "$\\displaystyle L^2(\\R^{2d})$"
      ],
      "text/plain": [
       "<IPython.core.display.Math object>"
      ]
     },
     "metadata": {},
     "output_type": "display_data"
    },
    {
     "name": "stdout",
     "output_type": "stream",
     "text": [
      "-----\n",
      "Integral\n"
     ]
    },
    {
     "data": {
      "text/latex": [
       "$\\displaystyle \\[H_\\beta f(x):= \\frac{1}{|x|^{n-\\beta}}\\int_{|t| \\leq |x|} f(t){\\rm d} t,\\ x \\in \\mathbb{R}^n \\backslash \\{ 0\\},\\]$"
      ],
      "text/plain": [
       "<IPython.core.display.Math object>"
      ]
     },
     "metadata": {},
     "output_type": "display_data"
    },
    {
     "name": "stdout",
     "output_type": "stream",
     "text": [
      "-----\n",
      "Variable\n"
     ]
    },
    {
     "data": {
      "text/latex": [
       "$\\displaystyle \\cS^2$"
      ],
      "text/plain": [
       "<IPython.core.display.Math object>"
      ]
     },
     "metadata": {},
     "output_type": "display_data"
    },
    {
     "name": "stdout",
     "output_type": "stream",
     "text": [
      "-----\n",
      "Integral\n"
     ]
    },
    {
     "data": {
      "text/latex": [
       "$\\displaystyle \\[H^\\ast_\\beta f(x):= \\frac{1}{|x|^{n-\\beta}}\\int_{|t| > |x|} f(t){\\rm d} t,\\ x \\in \\mathbb{R}^n \\backslash \\{ 0\\}. \\]$"
      ],
      "text/plain": [
       "<IPython.core.display.Math object>"
      ]
     },
     "metadata": {},
     "output_type": "display_data"
    },
    {
     "name": "stdout",
     "output_type": "stream",
     "text": [
      "-----\n",
      "Relation\n"
     ]
    },
    {
     "data": {
      "text/latex": [
       "$\\displaystyle \\tau\\in \\sS'(\\R^{2d})$"
      ],
      "text/plain": [
       "<IPython.core.display.Math object>"
      ]
     },
     "metadata": {},
     "output_type": "display_data"
    },
    {
     "name": "stdout",
     "output_type": "stream",
     "text": [
      "-----\n",
      "Equation\n"
     ]
    },
    {
     "data": {
      "text/latex": [
       "$\\displaystyle \\beta=0$"
      ],
      "text/plain": [
       "<IPython.core.display.Math object>"
      ]
     },
     "metadata": {},
     "output_type": "display_data"
    },
    {
     "name": "stdout",
     "output_type": "stream",
     "text": [
      "-----\n",
      "Function\n"
     ]
    },
    {
     "data": {
      "text/latex": [
       "$\\displaystyle L_\\tau:\\sS(\\R^d)\\to \\sS'(\\R^{d})$"
      ],
      "text/plain": [
       "<IPython.core.display.Math object>"
      ]
     },
     "metadata": {},
     "output_type": "display_data"
    },
    {
     "name": "stdout",
     "output_type": "stream",
     "text": [
      "-----\n",
      "variable\n"
     ]
    },
    {
     "data": {
      "text/latex": [
       "$\\displaystyle A$"
      ],
      "text/plain": [
       "<IPython.core.display.Math object>"
      ]
     },
     "metadata": {},
     "output_type": "display_data"
    },
    {
     "name": "stdout",
     "output_type": "stream",
     "text": [
      "-----\n",
      "Set\n"
     ]
    },
    {
     "data": {
      "text/latex": [
       "$\\displaystyle [m]:=\\{1,2,\\ldots,m\\}$"
      ],
      "text/plain": [
       "<IPython.core.display.Math object>"
      ]
     },
     "metadata": {},
     "output_type": "display_data"
    },
    {
     "name": "stdout",
     "output_type": "stream",
     "text": [
      "-----\n",
      "variable\n"
     ]
    },
    {
     "data": {
      "text/latex": [
       "$\\displaystyle m$"
      ],
      "text/plain": [
       "<IPython.core.display.Math object>"
      ]
     },
     "metadata": {},
     "output_type": "display_data"
    },
    {
     "name": "stdout",
     "output_type": "stream",
     "text": [
      "-----\n",
      "Matrix\n"
     ]
    },
    {
     "data": {
      "text/latex": [
       "$\\displaystyle A=(a_{ij})$"
      ],
      "text/plain": [
       "<IPython.core.display.Math object>"
      ]
     },
     "metadata": {},
     "output_type": "display_data"
    },
    {
     "name": "stdout",
     "output_type": "stream",
     "text": [
      "-----\n",
      "notation\n"
     ]
    },
    {
     "data": {
      "text/latex": [
       "$\\displaystyle \\in \\mathbb{Z}^{d\\times m}$"
      ],
      "text/plain": [
       "<IPython.core.display.Math object>"
      ]
     },
     "metadata": {},
     "output_type": "display_data"
    },
    {
     "name": "stdout",
     "output_type": "stream",
     "text": [
      "-----\n",
      "Matrix\n"
     ]
    },
    {
     "data": {
      "text/latex": [
       "$\\displaystyle (1,\\ldots,1)\\in {\\rm rowspan}(A)$"
      ],
      "text/plain": [
       "<IPython.core.display.Math object>"
      ]
     },
     "metadata": {},
     "output_type": "display_data"
    },
    {
     "name": "stdout",
     "output_type": "stream",
     "text": [
      "-----\n",
      "set\n"
     ]
    },
    {
     "data": {
      "text/latex": [
       "$\\displaystyle x\\in\\mathbb{R}^m_{>0}$"
      ],
      "text/plain": [
       "<IPython.core.display.Math object>"
      ]
     },
     "metadata": {},
     "output_type": "display_data"
    },
    {
     "name": "stdout",
     "output_type": "stream",
     "text": [
      "-----\n",
      "variable\n"
     ]
    },
    {
     "data": {
      "text/latex": [
       "$\\displaystyle A$"
      ],
      "text/plain": [
       "<IPython.core.display.Math object>"
      ]
     },
     "metadata": {},
     "output_type": "display_data"
    },
    {
     "name": "stdout",
     "output_type": "stream",
     "text": [
      "-----\n",
      "Set\n"
     ]
    },
    {
     "data": {
      "text/latex": [
       "$\\displaystyle \\[\n",
       "    \\mathcal{M}_A:={\\rm cl}\\{p\\in{\\rm int}(\\Delta_{m-1}):\n",
       "    \\log p \\in \\log x+{\\rm rowspan}(A)\\},\n",
       "  \\]$"
      ],
      "text/plain": [
       "<IPython.core.display.Math object>"
      ]
     },
     "metadata": {},
     "output_type": "display_data"
    },
    {
     "name": "stdout",
     "output_type": "stream",
     "text": [
      "-----\n",
      "Subscript\n"
     ]
    },
    {
     "data": {
      "text/latex": [
       "$\\displaystyle \\Delta_{m-1}$"
      ],
      "text/plain": [
       "<IPython.core.display.Math object>"
      ]
     },
     "metadata": {},
     "output_type": "display_data"
    },
    {
     "name": "stdout",
     "output_type": "stream",
     "text": [
      "-----\n",
      "variable\n"
     ]
    },
    {
     "data": {
      "text/latex": [
       "$\\displaystyle m$"
      ],
      "text/plain": [
       "<IPython.core.display.Math object>"
      ]
     },
     "metadata": {},
     "output_type": "display_data"
    },
    {
     "name": "stdout",
     "output_type": "stream",
     "text": [
      "-----\n",
      "equation\n"
     ]
    },
    {
     "data": {
      "text/latex": [
       "$\\displaystyle x=1$"
      ],
      "text/plain": [
       "<IPython.core.display.Math object>"
      ]
     },
     "metadata": {},
     "output_type": "display_data"
    },
    {
     "name": "stdout",
     "output_type": "stream",
     "text": [
      "-----\n",
      "variable\n"
     ]
    },
    {
     "data": {
      "text/latex": [
       "$\\displaystyle p$"
      ],
      "text/plain": [
       "<IPython.core.display.Math object>"
      ]
     },
     "metadata": {},
     "output_type": "display_data"
    },
    {
     "name": "stdout",
     "output_type": "stream",
     "text": [
      "-----\n",
      "Set\n"
     ]
    },
    {
     "data": {
      "text/latex": [
       "$\\displaystyle t\\in\\mathbb{R}_{>0}^d$"
      ],
      "text/plain": [
       "<IPython.core.display.Math object>"
      ]
     },
     "metadata": {},
     "output_type": "display_data"
    },
    {
     "name": "stdout",
     "output_type": "stream",
     "text": [
      "-----\n",
      "function\n"
     ]
    },
    {
     "data": {
      "text/latex": [
       "$\\displaystyle Z(t,x)$"
      ],
      "text/plain": [
       "<IPython.core.display.Math object>"
      ]
     },
     "metadata": {},
     "output_type": "display_data"
    },
    {
     "name": "stdout",
     "output_type": "stream",
     "text": [
      "-----\n",
      "Equation\n"
     ]
    },
    {
     "data": {
      "text/latex": [
       "$\\displaystyle \\sum_{j\\in[m]} p_j=1$"
      ],
      "text/plain": [
       "<IPython.core.display.Math object>"
      ]
     },
     "metadata": {},
     "output_type": "display_data"
    },
    {
     "name": "stdout",
     "output_type": "stream",
     "text": [
      "-----\n",
      "variable\n"
     ]
    },
    {
     "data": {
      "text/latex": [
       "$\\displaystyle j$"
      ],
      "text/plain": [
       "<IPython.core.display.Math object>"
      ]
     },
     "metadata": {},
     "output_type": "display_data"
    },
    {
     "name": "stdout",
     "output_type": "stream",
     "text": [
      "-----\n",
      "Subscript\n"
     ]
    },
    {
     "data": {
      "text/latex": [
       "$\\displaystyle u_j$"
      ],
      "text/plain": [
       "<IPython.core.display.Math object>"
      ]
     },
     "metadata": {},
     "output_type": "display_data"
    },
    {
     "name": "stdout",
     "output_type": "stream",
     "text": [
      "-----\n",
      "range\n"
     ]
    },
    {
     "data": {
      "text/latex": [
       "$\\displaystyle j\\in[m]$"
      ],
      "text/plain": [
       "<IPython.core.display.Math object>"
      ]
     },
     "metadata": {},
     "output_type": "display_data"
    },
    {
     "name": "stdout",
     "output_type": "stream",
     "text": [
      "-----\n",
      "Definition\n"
     ]
    },
    {
     "data": {
      "text/latex": [
       "$\\displaystyle |u|:=u_1+\\cdots+u_m$"
      ],
      "text/plain": [
       "<IPython.core.display.Math object>"
      ]
     },
     "metadata": {},
     "output_type": "display_data"
    },
    {
     "name": "stdout",
     "output_type": "stream",
     "text": [
      "-----\n",
      "variable\n"
     ]
    },
    {
     "data": {
      "text/latex": [
       "$\\displaystyle b$"
      ],
      "text/plain": [
       "<IPython.core.display.Math object>"
      ]
     },
     "metadata": {},
     "output_type": "display_data"
    },
    {
     "name": "stdout",
     "output_type": "stream",
     "text": [
      "-----\n",
      "set\n"
     ]
    },
    {
     "data": {
      "text/latex": [
       "$\\displaystyle \\mathbb{N}A:=\\{Av:v\\in\\mathbb{N}^m\\}$"
      ],
      "text/plain": [
       "<IPython.core.display.Math object>"
      ]
     },
     "metadata": {},
     "output_type": "display_data"
    },
    {
     "name": "stdout",
     "output_type": "stream",
     "text": [
      "-----\n",
      "Set\n"
     ]
    },
    {
     "data": {
      "text/latex": [
       "$\\displaystyle \\mathbb{N}$"
      ],
      "text/plain": [
       "<IPython.core.display.Math object>"
      ]
     },
     "metadata": {},
     "output_type": "display_data"
    },
    {
     "name": "stdout",
     "output_type": "stream",
     "text": [
      "-----\n",
      "variable\n"
     ]
    },
    {
     "data": {
      "text/latex": [
       "$\\displaystyle b$"
      ],
      "text/plain": [
       "<IPython.core.display.Math object>"
      ]
     },
     "metadata": {},
     "output_type": "display_data"
    },
    {
     "name": "stdout",
     "output_type": "stream",
     "text": [
      "-----\n",
      "variable\n"
     ]
    },
    {
     "data": {
      "text/latex": [
       "$\\displaystyle A$"
      ],
      "text/plain": [
       "<IPython.core.display.Math object>"
      ]
     },
     "metadata": {},
     "output_type": "display_data"
    },
    {
     "name": "stdout",
     "output_type": "stream",
     "text": [
      "-----\n",
      "variable\n"
     ]
    },
    {
     "data": {
      "text/latex": [
       "$\\displaystyle X$"
      ],
      "text/plain": [
       "<IPython.core.display.Math object>"
      ]
     },
     "metadata": {},
     "output_type": "display_data"
    },
    {
     "name": "stdout",
     "output_type": "stream",
     "text": [
      "-----\n",
      "variable\n"
     ]
    },
    {
     "data": {
      "text/latex": [
       "$\\displaystyle b$"
      ],
      "text/plain": [
       "<IPython.core.display.Math object>"
      ]
     },
     "metadata": {},
     "output_type": "display_data"
    },
    {
     "name": "stdout",
     "output_type": "stream",
     "text": [
      "-----\n",
      "Function\n"
     ]
    },
    {
     "data": {
      "text/latex": [
       "$\\displaystyle F(\\cdot)$"
      ],
      "text/plain": [
       "<IPython.core.display.Math object>"
      ]
     },
     "metadata": {},
     "output_type": "display_data"
    },
    {
     "name": "stdout",
     "output_type": "stream",
     "text": [
      "-----\n",
      "Function\n"
     ]
    },
    {
     "data": {
      "text/latex": [
       "$\\displaystyle f(\\cdot)$"
      ],
      "text/plain": [
       "<IPython.core.display.Math object>"
      ]
     },
     "metadata": {},
     "output_type": "display_data"
    },
    {
     "name": "stdout",
     "output_type": "stream",
     "text": [
      "-----\n",
      "variable\n"
     ]
    },
    {
     "data": {
      "text/latex": [
       "$\\displaystyle A$"
      ],
      "text/plain": [
       "<IPython.core.display.Math object>"
      ]
     },
     "metadata": {},
     "output_type": "display_data"
    },
    {
     "name": "stdout",
     "output_type": "stream",
     "text": [
      "-----\n",
      "Matrix\n"
     ]
    },
    {
     "data": {
      "text/latex": [
       "$\\displaystyle (1,\\ldots,1)\\in{\\rm rowspan}(A)$"
      ],
      "text/plain": [
       "<IPython.core.display.Math object>"
      ]
     },
     "metadata": {},
     "output_type": "display_data"
    },
    {
     "name": "stdout",
     "output_type": "stream",
     "text": [
      "-----\n",
      "Function\n"
     ]
    },
    {
     "data": {
      "text/latex": [
       "$\\displaystyle f(x)$"
      ],
      "text/plain": [
       "<IPython.core.display.Math object>"
      ]
     },
     "metadata": {},
     "output_type": "display_data"
    },
    {
     "name": "stdout",
     "output_type": "stream",
     "text": [
      "-----\n",
      "variable\n"
     ]
    },
    {
     "data": {
      "text/latex": [
       "$\\displaystyle n$"
      ],
      "text/plain": [
       "<IPython.core.display.Math object>"
      ]
     },
     "metadata": {},
     "output_type": "display_data"
    },
    {
     "name": "stdout",
     "output_type": "stream",
     "text": [
      "-----\n",
      "variable\n"
     ]
    },
    {
     "data": {
      "text/latex": [
       "$\\displaystyle X$"
      ],
      "text/plain": [
       "<IPython.core.display.Math object>"
      ]
     },
     "metadata": {},
     "output_type": "display_data"
    },
    {
     "name": "stdout",
     "output_type": "stream",
     "text": [
      "-----\n",
      "variable\n"
     ]
    },
    {
     "data": {
      "text/latex": [
       "$\\displaystyle Y$"
      ],
      "text/plain": [
       "<IPython.core.display.Math object>"
      ]
     },
     "metadata": {},
     "output_type": "display_data"
    },
    {
     "name": "stdout",
     "output_type": "stream",
     "text": [
      "-----\n",
      "variable\n"
     ]
    },
    {
     "data": {
      "text/latex": [
       "$\\displaystyle Z$"
      ],
      "text/plain": [
       "<IPython.core.display.Math object>"
      ]
     },
     "metadata": {},
     "output_type": "display_data"
    },
    {
     "name": "stdout",
     "output_type": "stream",
     "text": [
      "-----\n",
      "function\n"
     ]
    },
    {
     "data": {
      "text/latex": [
       "$\\displaystyle I(X;Y)$"
      ],
      "text/plain": [
       "<IPython.core.display.Math object>"
      ]
     },
     "metadata": {},
     "output_type": "display_data"
    },
    {
     "name": "stdout",
     "output_type": "stream",
     "text": [
      "-----\n",
      "variable\n"
     ]
    },
    {
     "data": {
      "text/latex": [
       "$\\displaystyle X$"
      ],
      "text/plain": [
       "<IPython.core.display.Math object>"
      ]
     },
     "metadata": {},
     "output_type": "display_data"
    },
    {
     "name": "stdout",
     "output_type": "stream",
     "text": [
      "-----\n",
      "variable\n"
     ]
    },
    {
     "data": {
      "text/latex": [
       "$\\displaystyle Y$"
      ],
      "text/plain": [
       "<IPython.core.display.Math object>"
      ]
     },
     "metadata": {},
     "output_type": "display_data"
    },
    {
     "name": "stdout",
     "output_type": "stream",
     "text": [
      "-----\n",
      "variable\n"
     ]
    },
    {
     "data": {
      "text/latex": [
       "$\\displaystyle Z$"
      ],
      "text/plain": [
       "<IPython.core.display.Math object>"
      ]
     },
     "metadata": {},
     "output_type": "display_data"
    },
    {
     "name": "stdout",
     "output_type": "stream",
     "text": [
      "-----\n",
      "variable\n"
     ]
    },
    {
     "data": {
      "text/latex": [
       "$\\displaystyle X$"
      ],
      "text/plain": [
       "<IPython.core.display.Math object>"
      ]
     },
     "metadata": {},
     "output_type": "display_data"
    },
    {
     "name": "stdout",
     "output_type": "stream",
     "text": [
      "-----\n",
      "variable\n"
     ]
    },
    {
     "data": {
      "text/latex": [
       "$\\displaystyle Y$"
      ],
      "text/plain": [
       "<IPython.core.display.Math object>"
      ]
     },
     "metadata": {},
     "output_type": "display_data"
    },
    {
     "name": "stdout",
     "output_type": "stream",
     "text": [
      "-----\n",
      "function\n"
     ]
    },
    {
     "data": {
      "text/latex": [
       "$\\displaystyle I(X;Y)$"
      ],
      "text/plain": [
       "<IPython.core.display.Math object>"
      ]
     },
     "metadata": {},
     "output_type": "display_data"
    },
    {
     "name": "stdout",
     "output_type": "stream",
     "text": [
      "-----\n",
      "function\n"
     ]
    },
    {
     "data": {
      "text/latex": [
       "$\\displaystyle I(X;Y)$"
      ],
      "text/plain": [
       "<IPython.core.display.Math object>"
      ]
     },
     "metadata": {},
     "output_type": "display_data"
    },
    {
     "name": "stdout",
     "output_type": "stream",
     "text": [
      "-----\n",
      "variable\n"
     ]
    },
    {
     "data": {
      "text/latex": [
       "$\\displaystyle n$"
      ],
      "text/plain": [
       "<IPython.core.display.Math object>"
      ]
     },
     "metadata": {},
     "output_type": "display_data"
    },
    {
     "name": "stdout",
     "output_type": "stream",
     "text": [
      "-----\n",
      "variable\n"
     ]
    },
    {
     "data": {
      "text/latex": [
       "$\\displaystyle X$"
      ],
      "text/plain": [
       "<IPython.core.display.Math object>"
      ]
     },
     "metadata": {},
     "output_type": "display_data"
    },
    {
     "name": "stdout",
     "output_type": "stream",
     "text": [
      "-----\n",
      "variable\n"
     ]
    },
    {
     "data": {
      "text/latex": [
       "$\\displaystyle Y$"
      ],
      "text/plain": [
       "<IPython.core.display.Math object>"
      ]
     },
     "metadata": {},
     "output_type": "display_data"
    },
    {
     "name": "stdout",
     "output_type": "stream",
     "text": [
      "-----\n",
      "variable\n"
     ]
    },
    {
     "data": {
      "text/latex": [
       "$\\displaystyle Z$"
      ],
      "text/plain": [
       "<IPython.core.display.Math object>"
      ]
     },
     "metadata": {},
     "output_type": "display_data"
    },
    {
     "name": "stdout",
     "output_type": "stream",
     "text": [
      "-----\n",
      "tuple\n"
     ]
    },
    {
     "data": {
      "text/latex": [
       "$\\displaystyle X,Y$"
      ],
      "text/plain": [
       "<IPython.core.display.Math object>"
      ]
     },
     "metadata": {},
     "output_type": "display_data"
    },
    {
     "name": "stdout",
     "output_type": "stream",
     "text": [
      "-----\n",
      "variable\n"
     ]
    },
    {
     "data": {
      "text/latex": [
       "$\\displaystyle Z$"
      ],
      "text/plain": [
       "<IPython.core.display.Math object>"
      ]
     },
     "metadata": {},
     "output_type": "display_data"
    },
    {
     "name": "stdout",
     "output_type": "stream",
     "text": [
      "-----\n",
      "Subscript\n"
     ]
    },
    {
     "data": {
      "text/latex": [
       "$\\displaystyle P_{X,Y,Z}$"
      ],
      "text/plain": [
       "<IPython.core.display.Math object>"
      ]
     },
     "metadata": {},
     "output_type": "display_data"
    },
    {
     "name": "stdout",
     "output_type": "stream",
     "text": [
      "-----\n",
      "Variable\n"
     ]
    },
    {
     "data": {
      "text/latex": [
       "$\\displaystyle F_1$"
      ],
      "text/plain": [
       "<IPython.core.display.Math object>"
      ]
     },
     "metadata": {},
     "output_type": "display_data"
    },
    {
     "name": "stdout",
     "output_type": "stream",
     "text": [
      "-----\n",
      "Variable\n"
     ]
    },
    {
     "data": {
      "text/latex": [
       "$\\displaystyle F_2$"
      ],
      "text/plain": [
       "<IPython.core.display.Math object>"
      ]
     },
     "metadata": {},
     "output_type": "display_data"
    },
    {
     "name": "stdout",
     "output_type": "stream",
     "text": [
      "-----\n",
      "Subscript\n"
     ]
    },
    {
     "data": {
      "text/latex": [
       "$\\displaystyle P_{F_1|X^n}$"
      ],
      "text/plain": [
       "<IPython.core.display.Math object>"
      ]
     },
     "metadata": {},
     "output_type": "display_data"
    },
    {
     "name": "stdout",
     "output_type": "stream",
     "text": [
      "-----\n",
      "Subscript\n"
     ]
    },
    {
     "data": {
      "text/latex": [
       "$\\displaystyle P_{F_2|Y^n}$"
      ],
      "text/plain": [
       "<IPython.core.display.Math object>"
      ]
     },
     "metadata": {},
     "output_type": "display_data"
    },
    {
     "name": "stdout",
     "output_type": "stream",
     "text": [
      "-----\n",
      "Conditional\n"
     ]
    },
    {
     "data": {
      "text/latex": [
       "$\\displaystyle K_A\\sim P_{K_A|X^n,F_1,F_2}$"
      ],
      "text/plain": [
       "<IPython.core.display.Math object>"
      ]
     },
     "metadata": {},
     "output_type": "display_data"
    },
    {
     "name": "stdout",
     "output_type": "stream",
     "text": [
      "-----\n",
      "Conditional\n"
     ]
    },
    {
     "data": {
      "text/latex": [
       "$\\displaystyle K_B\\sim  P_{K_B|Y^n,F_1,F_2}$"
      ],
      "text/plain": [
       "<IPython.core.display.Math object>"
      ]
     },
     "metadata": {},
     "output_type": "display_data"
    },
    {
     "name": "stdout",
     "output_type": "stream",
     "text": [
      "-----\n",
      "Variable\n"
     ]
    },
    {
     "data": {
      "text/latex": [
       "$\\displaystyle F_1$"
      ],
      "text/plain": [
       "<IPython.core.display.Math object>"
      ]
     },
     "metadata": {},
     "output_type": "display_data"
    },
    {
     "name": "stdout",
     "output_type": "stream",
     "text": [
      "-----\n",
      "Subscript\n"
     ]
    },
    {
     "data": {
      "text/latex": [
       "$\\displaystyle P_{F_1|X^n}$"
      ],
      "text/plain": [
       "<IPython.core.display.Math object>"
      ]
     },
     "metadata": {},
     "output_type": "display_data"
    },
    {
     "name": "stdout",
     "output_type": "stream",
     "text": [
      "-----\n",
      "Variable\n"
     ]
    },
    {
     "data": {
      "text/latex": [
       "$\\displaystyle F_2$"
      ],
      "text/plain": [
       "<IPython.core.display.Math object>"
      ]
     },
     "metadata": {},
     "output_type": "display_data"
    },
    {
     "name": "stdout",
     "output_type": "stream",
     "text": [
      "-----\n",
      "Subscript\n"
     ]
    },
    {
     "data": {
      "text/latex": [
       "$\\displaystyle P_{F_2|Y^n,F_1}$"
      ],
      "text/plain": [
       "<IPython.core.display.Math object>"
      ]
     },
     "metadata": {},
     "output_type": "display_data"
    },
    {
     "name": "stdout",
     "output_type": "stream",
     "text": [
      "-----\n",
      "variable\n"
     ]
    },
    {
     "data": {
      "text/latex": [
       "$\\displaystyle r$"
      ],
      "text/plain": [
       "<IPython.core.display.Math object>"
      ]
     },
     "metadata": {},
     "output_type": "display_data"
    },
    {
     "name": "stdout",
     "output_type": "stream",
     "text": [
      "-----\n",
      "Sequence\n"
     ]
    },
    {
     "data": {
      "text/latex": [
       "$\\displaystyle F_3,F_4,\\cdots F_r$"
      ],
      "text/plain": [
       "<IPython.core.display.Math object>"
      ]
     },
     "metadata": {},
     "output_type": "display_data"
    },
    {
     "name": "stdout",
     "output_type": "stream",
     "text": [
      "-----\n",
      "subscript\n"
     ]
    },
    {
     "data": {
      "text/latex": [
       "$\\displaystyle K_A$"
      ],
      "text/plain": [
       "<IPython.core.display.Math object>"
      ]
     },
     "metadata": {},
     "output_type": "display_data"
    },
    {
     "name": "stdout",
     "output_type": "stream",
     "text": [
      "-----\n",
      "Variable\n"
     ]
    },
    {
     "data": {
      "text/latex": [
       "$\\displaystyle S$"
      ],
      "text/plain": [
       "<IPython.core.display.Math object>"
      ]
     },
     "metadata": {},
     "output_type": "display_data"
    },
    {
     "name": "stdout",
     "output_type": "stream",
     "text": [
      "-----\n",
      "Function\n"
     ]
    },
    {
     "data": {
      "text/latex": [
       "$\\displaystyle l\\colon V(S) \\to \\mathbb{R}^+$"
      ],
      "text/plain": [
       "<IPython.core.display.Math object>"
      ]
     },
     "metadata": {},
     "output_type": "display_data"
    },
    {
     "name": "stdout",
     "output_type": "stream",
     "text": [
      "-----\n",
      "subscript\n"
     ]
    },
    {
     "data": {
      "text/latex": [
       "$\\displaystyle d_l$"
      ],
      "text/plain": [
       "<IPython.core.display.Math object>"
      ]
     },
     "metadata": {},
     "output_type": "display_data"
    },
    {
     "name": "stdout",
     "output_type": "stream",
     "text": [
      "-----\n",
      "function\n"
     ]
    },
    {
     "data": {
      "text/latex": [
       "$\\displaystyle V(S)$"
      ],
      "text/plain": [
       "<IPython.core.display.Math object>"
      ]
     },
     "metadata": {},
     "output_type": "display_data"
    },
    {
     "name": "stdout",
     "output_type": "stream",
     "text": [
      "-----\n",
      "Variable\n"
     ]
    },
    {
     "data": {
      "text/latex": [
       "$\\displaystyle S$"
      ],
      "text/plain": [
       "<IPython.core.display.Math object>"
      ]
     },
     "metadata": {},
     "output_type": "display_data"
    },
    {
     "name": "stdout",
     "output_type": "stream",
     "text": [
      "-----\n",
      "variable\n"
     ]
    },
    {
     "data": {
      "text/latex": [
       "$\\displaystyle \\bf US$"
      ],
      "text/plain": [
       "<IPython.core.display.Math object>"
      ]
     },
     "metadata": {},
     "output_type": "display_data"
    },
    {
     "name": "stdout",
     "output_type": "stream",
     "text": [
      "-----\n",
      "Variable\n"
     ]
    },
    {
     "data": {
      "text/latex": [
       "$\\displaystyle D$"
      ],
      "text/plain": [
       "<IPython.core.display.Math object>"
      ]
     },
     "metadata": {},
     "output_type": "display_data"
    },
    {
     "name": "stdout",
     "output_type": "stream",
     "text": [
      "-----\n",
      "Tuple\n"
     ]
    },
    {
     "data": {
      "text/latex": [
       "$\\displaystyle (V(S), d_l)$"
      ],
      "text/plain": [
       "<IPython.core.display.Math object>"
      ]
     },
     "metadata": {},
     "output_type": "display_data"
    },
    {
     "name": "stdout",
     "output_type": "stream",
     "text": [
      "-----\n",
      "Tuple\n"
     ]
    },
    {
     "data": {
      "text/latex": [
       "$\\displaystyle (V(S), d_l)$"
      ],
      "text/plain": [
       "<IPython.core.display.Math object>"
      ]
     },
     "metadata": {},
     "output_type": "display_data"
    },
    {
     "name": "stdout",
     "output_type": "stream",
     "text": [
      "-----\n",
      "function\n"
     ]
    },
    {
     "data": {
      "text/latex": [
       "$\\displaystyle S(l)$"
      ],
      "text/plain": [
       "<IPython.core.display.Math object>"
      ]
     },
     "metadata": {},
     "output_type": "display_data"
    },
    {
     "name": "stdout",
     "output_type": "stream",
     "text": [
      "-----\n",
      "Set\n"
     ]
    },
    {
     "data": {
      "text/latex": [
       "$\\displaystyle \\mathbb{N}$"
      ],
      "text/plain": [
       "<IPython.core.display.Math object>"
      ]
     },
     "metadata": {},
     "output_type": "display_data"
    },
    {
     "name": "stdout",
     "output_type": "stream",
     "text": [
      "-----\n",
      "set\n"
     ]
    },
    {
     "data": {
      "text/latex": [
       "$\\displaystyle \\mathbb{Z}$"
      ],
      "text/plain": [
       "<IPython.core.display.Math object>"
      ]
     },
     "metadata": {},
     "output_type": "display_data"
    },
    {
     "name": "stdout",
     "output_type": "stream",
     "text": [
      "-----\n",
      "Set\n"
     ]
    },
    {
     "data": {
      "text/latex": [
       "$\\displaystyle \\mathbb{R}$"
      ],
      "text/plain": [
       "<IPython.core.display.Math object>"
      ]
     },
     "metadata": {},
     "output_type": "display_data"
    },
    {
     "name": "stdout",
     "output_type": "stream",
     "text": [
      "-----\n",
      "text\n"
     ]
    },
    {
     "data": {
      "text/latex": [
       "$\\displaystyle compactum$"
      ],
      "text/plain": [
       "<IPython.core.display.Math object>"
      ]
     },
     "metadata": {},
     "output_type": "display_data"
    },
    {
     "name": "stdout",
     "output_type": "stream",
     "text": [
      "-----\n",
      "set\n"
     ]
    },
    {
     "data": {
      "text/latex": [
       "$\\displaystyle \\mathbb{R}^+$"
      ],
      "text/plain": [
       "<IPython.core.display.Math object>"
      ]
     },
     "metadata": {},
     "output_type": "display_data"
    },
    {
     "name": "stdout",
     "output_type": "stream",
     "text": [
      "-----\n",
      "Variable\n"
     ]
    },
    {
     "data": {
      "text/latex": [
       "$\\displaystyle continuum$"
      ],
      "text/plain": [
       "<IPython.core.display.Math object>"
      ]
     },
     "metadata": {},
     "output_type": "display_data"
    },
    {
     "name": "stdout",
     "output_type": "stream",
     "text": [
      "-----\n",
      "interval\n"
     ]
    },
    {
     "data": {
      "text/latex": [
       "$\\displaystyle [0, \\infty).$"
      ],
      "text/plain": [
       "<IPython.core.display.Math object>"
      ]
     },
     "metadata": {},
     "output_type": "display_data"
    },
    {
     "name": "stdout",
     "output_type": "stream",
     "text": [
      "-----\n",
      "variable\n"
     ]
    },
    {
     "data": {
      "text/latex": [
       "$\\displaystyle X$"
      ],
      "text/plain": [
       "<IPython.core.display.Math object>"
      ]
     },
     "metadata": {},
     "output_type": "display_data"
    },
    {
     "name": "stdout",
     "output_type": "stream",
     "text": [
      "-----\n",
      "word\n"
     ]
    },
    {
     "data": {
      "text/latex": [
       "$\\displaystyle decomposable$"
      ],
      "text/plain": [
       "<IPython.core.display.Math object>"
      ]
     },
     "metadata": {},
     "output_type": "display_data"
    },
    {
     "name": "stdout",
     "output_type": "stream",
     "text": [
      "-----\n",
      "function\n"
     ]
    },
    {
     "data": {
      "text/latex": [
       "$\\displaystyle \n",
       "d \\colon X \\times X \\to \\mathbb{R}^+\n",
       "$"
      ],
      "text/plain": [
       "<IPython.core.display.Math object>"
      ]
     },
     "metadata": {},
     "output_type": "display_data"
    },
    {
     "name": "stdout",
     "output_type": "stream",
     "text": [
      "-----\n",
      "variable\n"
     ]
    },
    {
     "data": {
      "text/latex": [
       "$\\displaystyle X$"
      ],
      "text/plain": [
       "<IPython.core.display.Math object>"
      ]
     },
     "metadata": {},
     "output_type": "display_data"
    },
    {
     "name": "stdout",
     "output_type": "stream",
     "text": [
      "-----\n",
      "equation\n"
     ]
    },
    {
     "data": {
      "text/latex": [
       "$\\displaystyle d(x, y) = 0$"
      ],
      "text/plain": [
       "<IPython.core.display.Math object>"
      ]
     },
     "metadata": {},
     "output_type": "display_data"
    },
    {
     "name": "stdout",
     "output_type": "stream",
     "text": [
      "-----\n",
      "equation\n"
     ]
    },
    {
     "data": {
      "text/latex": [
       "$\\displaystyle x = y$"
      ],
      "text/plain": [
       "<IPython.core.display.Math object>"
      ]
     },
     "metadata": {},
     "output_type": "display_data"
    },
    {
     "name": "stdout",
     "output_type": "stream",
     "text": [
      "-----\n",
      "text\n"
     ]
    },
    {
     "data": {
      "text/latex": [
       "$\\displaystyle indecomposable$"
      ],
      "text/plain": [
       "<IPython.core.display.Math object>"
      ]
     },
     "metadata": {},
     "output_type": "display_data"
    },
    {
     "name": "stdout",
     "output_type": "stream",
     "text": [
      "-----\n",
      "variable\n"
     ]
    },
    {
     "data": {
      "text/latex": [
       "$\\displaystyle X$"
      ],
      "text/plain": [
       "<IPython.core.display.Math object>"
      ]
     },
     "metadata": {},
     "output_type": "display_data"
    },
    {
     "name": "stdout",
     "output_type": "stream",
     "text": [
      "-----\n",
      "function\n"
     ]
    },
    {
     "data": {
      "text/latex": [
       "$\\displaystyle C(X)$"
      ],
      "text/plain": [
       "<IPython.core.display.Math object>"
      ]
     },
     "metadata": {},
     "output_type": "display_data"
    },
    {
     "name": "stdout",
     "output_type": "stream",
     "text": [
      "-----\n",
      "variable\n"
     ]
    },
    {
     "data": {
      "text/latex": [
       "$\\displaystyle X$"
      ],
      "text/plain": [
       "<IPython.core.display.Math object>"
      ]
     },
     "metadata": {},
     "output_type": "display_data"
    },
    {
     "name": "stdout",
     "output_type": "stream",
     "text": [
      "-----\n",
      "function\n"
     ]
    },
    {
     "data": {
      "text/latex": [
       "$\\displaystyle C(X)$"
      ],
      "text/plain": [
       "<IPython.core.display.Math object>"
      ]
     },
     "metadata": {},
     "output_type": "display_data"
    },
    {
     "name": "stdout",
     "output_type": "stream",
     "text": [
      "-----\n",
      "set\n"
     ]
    },
    {
     "data": {
      "text/latex": [
       "$\\displaystyle x, y, z \\in X$"
      ],
      "text/plain": [
       "<IPython.core.display.Math object>"
      ]
     },
     "metadata": {},
     "output_type": "display_data"
    },
    {
     "name": "stdout",
     "output_type": "stream",
     "text": [
      "-----\n",
      "variable\n"
     ]
    },
    {
     "data": {
      "text/latex": [
       "$\\displaystyle hyperspace$"
      ],
      "text/plain": [
       "<IPython.core.display.Math object>"
      ]
     },
     "metadata": {},
     "output_type": "display_data"
    },
    {
     "name": "stdout",
     "output_type": "stream",
     "text": [
      "-----\n",
      "variable\n"
     ]
    },
    {
     "data": {
      "text/latex": [
       "$\\displaystyle of$"
      ],
      "text/plain": [
       "<IPython.core.display.Math object>"
      ]
     },
     "metadata": {},
     "output_type": "display_data"
    },
    {
     "name": "stdout",
     "output_type": "stream",
     "text": [
      "-----\n",
      "Sequence\n"
     ]
    },
    {
     "data": {
      "text/latex": [
       "$\\displaystyle (x_n)_{n \\in \\mathbb{N}}$"
      ],
      "text/plain": [
       "<IPython.core.display.Math object>"
      ]
     },
     "metadata": {},
     "output_type": "display_data"
    },
    {
     "name": "stdout",
     "output_type": "stream",
     "text": [
      "-----\n",
      "variable\n"
     ]
    },
    {
     "data": {
      "text/latex": [
       "$\\displaystyle n$"
      ],
      "text/plain": [
       "<IPython.core.display.Math object>"
      ]
     },
     "metadata": {},
     "output_type": "display_data"
    },
    {
     "name": "stdout",
     "output_type": "stream",
     "text": [
      "-----\n",
      "fraction\n"
     ]
    },
    {
     "data": {
      "text/latex": [
       "$\\displaystyle \\frac{3n+1}{2}$"
      ],
      "text/plain": [
       "<IPython.core.display.Math object>"
      ]
     },
     "metadata": {},
     "output_type": "display_data"
    },
    {
     "name": "stdout",
     "output_type": "stream",
     "text": [
      "-----\n",
      "fraction\n"
     ]
    },
    {
     "data": {
      "text/latex": [
       "$\\displaystyle \\frac{n}{2}$"
      ],
      "text/plain": [
       "<IPython.core.display.Math object>"
      ]
     },
     "metadata": {},
     "output_type": "display_data"
    },
    {
     "name": "stdout",
     "output_type": "stream",
     "text": [
      "-----\n",
      "variable\n"
     ]
    },
    {
     "data": {
      "text/latex": [
       "$\\displaystyle n$"
      ],
      "text/plain": [
       "<IPython.core.display.Math object>"
      ]
     },
     "metadata": {},
     "output_type": "display_data"
    },
    {
     "name": "stdout",
     "output_type": "stream",
     "text": [
      "-----\n",
      "tuple\n"
     ]
    },
    {
     "data": {
      "text/latex": [
       "$\\displaystyle (1,2)$"
      ],
      "text/plain": [
       "<IPython.core.display.Math object>"
      ]
     },
     "metadata": {},
     "output_type": "display_data"
    },
    {
     "name": "stdout",
     "output_type": "stream",
     "text": [
      "-----\n",
      "inequality\n"
     ]
    },
    {
     "data": {
      "text/latex": [
       "$\\displaystyle n\\geq2$"
      ],
      "text/plain": [
       "<IPython.core.display.Math object>"
      ]
     },
     "metadata": {},
     "output_type": "display_data"
    },
    {
     "name": "stdout",
     "output_type": "stream",
     "text": [
      "-----\n",
      "variable\n"
     ]
    },
    {
     "data": {
      "text/latex": [
       "$\\displaystyle n$"
      ],
      "text/plain": [
       "<IPython.core.display.Math object>"
      ]
     },
     "metadata": {},
     "output_type": "display_data"
    },
    {
     "name": "stdout",
     "output_type": "stream",
     "text": [
      "-----\n",
      "variable\n"
     ]
    },
    {
     "data": {
      "text/latex": [
       "$\\displaystyle n$"
      ],
      "text/plain": [
       "<IPython.core.display.Math object>"
      ]
     },
     "metadata": {},
     "output_type": "display_data"
    },
    {
     "name": "stdout",
     "output_type": "stream",
     "text": [
      "-----\n",
      "Exponentiation\n"
     ]
    },
    {
     "data": {
      "text/latex": [
       "$\\displaystyle ^1$"
      ],
      "text/plain": [
       "<IPython.core.display.Math object>"
      ]
     },
     "metadata": {},
     "output_type": "display_data"
    },
    {
     "name": "stdout",
     "output_type": "stream",
     "text": [
      "-----\n",
      "symbol\n"
     ]
    },
    {
     "data": {
      "text/latex": [
       "$\\displaystyle ^{*}$"
      ],
      "text/plain": [
       "<IPython.core.display.Math object>"
      ]
     },
     "metadata": {},
     "output_type": "display_data"
    },
    {
     "name": "stdout",
     "output_type": "stream",
     "text": [
      "-----\n",
      "Sequence\n"
     ]
    },
    {
     "data": {
      "text/latex": [
       "$\\displaystyle n, T(n), T^{2}(n), \\ldots$"
      ],
      "text/plain": [
       "<IPython.core.display.Math object>"
      ]
     },
     "metadata": {},
     "output_type": "display_data"
    },
    {
     "name": "stdout",
     "output_type": "stream",
     "text": [
      "-----\n",
      "Exponentiation\n"
     ]
    },
    {
     "data": {
      "text/latex": [
       "$\\displaystyle ^2$"
      ],
      "text/plain": [
       "<IPython.core.display.Math object>"
      ]
     },
     "metadata": {},
     "output_type": "display_data"
    },
    {
     "name": "stdout",
     "output_type": "stream",
     "text": [
      "-----\n",
      "exponentiation\n"
     ]
    },
    {
     "data": {
      "text/latex": [
       "$\\displaystyle ^{1}$"
      ],
      "text/plain": [
       "<IPython.core.display.Math object>"
      ]
     },
     "metadata": {},
     "output_type": "display_data"
    },
    {
     "name": "stdout",
     "output_type": "stream",
     "text": [
      "-----\n",
      "tuple\n"
     ]
    },
    {
     "data": {
      "text/latex": [
       "$\\displaystyle (1,2)$"
      ],
      "text/plain": [
       "<IPython.core.display.Math object>"
      ]
     },
     "metadata": {},
     "output_type": "display_data"
    },
    {
     "name": "stdout",
     "output_type": "stream",
     "text": [
      "-----\n",
      "Exponentiation\n"
     ]
    },
    {
     "data": {
      "text/latex": [
       "$\\displaystyle ^{2}$"
      ],
      "text/plain": [
       "<IPython.core.display.Math object>"
      ]
     },
     "metadata": {},
     "output_type": "display_data"
    },
    {
     "name": "stdout",
     "output_type": "stream",
     "text": [
      "-----\n",
      "variable\n"
     ]
    },
    {
     "data": {
      "text/latex": [
       "$\\displaystyle j$"
      ],
      "text/plain": [
       "<IPython.core.display.Math object>"
      ]
     },
     "metadata": {},
     "output_type": "display_data"
    },
    {
     "name": "stdout",
     "output_type": "stream",
     "text": [
      "-----\n",
      "variable\n"
     ]
    },
    {
     "data": {
      "text/latex": [
       "$\\displaystyle q$"
      ],
      "text/plain": [
       "<IPython.core.display.Math object>"
      ]
     },
     "metadata": {},
     "output_type": "display_data"
    },
    {
     "name": "stdout",
     "output_type": "stream",
     "text": [
      "-----\n",
      "variable\n"
     ]
    },
    {
     "data": {
      "text/latex": [
       "$\\displaystyle n$"
      ],
      "text/plain": [
       "<IPython.core.display.Math object>"
      ]
     },
     "metadata": {},
     "output_type": "display_data"
    },
    {
     "name": "stdout",
     "output_type": "stream",
     "text": [
      "-----\n",
      "Symbol\n"
     ]
    },
    {
     "data": {
      "text/latex": [
       "$\\displaystyle \\mathcal{E}$"
      ],
      "text/plain": [
       "<IPython.core.display.Math object>"
      ]
     },
     "metadata": {},
     "output_type": "display_data"
    },
    {
     "name": "stdout",
     "output_type": "stream",
     "text": [
      "-----\n",
      "Symbol\n"
     ]
    },
    {
     "data": {
      "text/latex": [
       "$\\displaystyle \\mathcal{A}$"
      ],
      "text/plain": [
       "<IPython.core.display.Math object>"
      ]
     },
     "metadata": {},
     "output_type": "display_data"
    },
    {
     "name": "stdout",
     "output_type": "stream",
     "text": [
      "-----\n",
      "Fraction\n"
     ]
    },
    {
     "data": {
      "text/latex": [
       "$\\displaystyle \\frac{3^{q}}{2^{j}}$"
      ],
      "text/plain": [
       "<IPython.core.display.Math object>"
      ]
     },
     "metadata": {},
     "output_type": "display_data"
    },
    {
     "name": "stdout",
     "output_type": "stream",
     "text": [
      "-----\n",
      "Function\n"
     ]
    },
    {
     "data": {
      "text/latex": [
       "$\\displaystyle A:\t\\mathcal{D}(A) \\subseteq \\mathcal{E} \\to  \\mathcal{E}$"
      ],
      "text/plain": [
       "<IPython.core.display.Math object>"
      ]
     },
     "metadata": {},
     "output_type": "display_data"
    },
    {
     "name": "stdout",
     "output_type": "stream",
     "text": [
      "-----\n",
      "Function\n"
     ]
    },
    {
     "data": {
      "text/latex": [
       "$\\displaystyle B:\t\\mathcal{D}(B)\\subseteq \\mathcal{E}\\to  \\mathcal{E}$"
      ],
      "text/plain": [
       "<IPython.core.display.Math object>"
      ]
     },
     "metadata": {},
     "output_type": "display_data"
    },
    {
     "name": "stdout",
     "output_type": "stream",
     "text": [
      "-----\n",
      "Function\n"
     ]
    },
    {
     "data": {
      "text/latex": [
       "$\\displaystyle C_j(n)$"
      ],
      "text/plain": [
       "<IPython.core.display.Math object>"
      ]
     },
     "metadata": {},
     "output_type": "display_data"
    },
    {
     "name": "stdout",
     "output_type": "stream",
     "text": [
      "-----\n",
      "Function\n"
     ]
    },
    {
     "data": {
      "text/latex": [
       "$\\displaystyle E_j(n)$"
      ],
      "text/plain": [
       "<IPython.core.display.Math object>"
      ]
     },
     "metadata": {},
     "output_type": "display_data"
    },
    {
     "name": "stdout",
     "output_type": "stream",
     "text": [
      "-----\n",
      "Set\n"
     ]
    },
    {
     "data": {
      "text/latex": [
       "$\\displaystyle x \\in \\mathcal{D}(AB)\\cap  \\mathcal{D}(BA)$"
      ],
      "text/plain": [
       "<IPython.core.display.Math object>"
      ]
     },
     "metadata": {},
     "output_type": "display_data"
    },
    {
     "name": "stdout",
     "output_type": "stream",
     "text": [
      "-----\n",
      "Equation\n"
     ]
    },
    {
     "data": {
      "text/latex": [
       "$\\displaystyle \\langle x, x \\rangle =1$"
      ],
      "text/plain": [
       "<IPython.core.display.Math object>"
      ]
     },
     "metadata": {},
     "output_type": "display_data"
    },
    {
     "name": "stdout",
     "output_type": "stream",
     "text": [
      "-----\n",
      "function\n"
     ]
    },
    {
     "data": {
      "text/latex": [
       "$\\displaystyle \\mathfrak{so}(2, 1)$"
      ],
      "text/plain": [
       "<IPython.core.display.Math object>"
      ]
     },
     "metadata": {},
     "output_type": "display_data"
    },
    {
     "name": "stdout",
     "output_type": "stream",
     "text": [
      "-----\n",
      "variable\n"
     ]
    },
    {
     "data": {
      "text/latex": [
       "$\\displaystyle n$"
      ],
      "text/plain": [
       "<IPython.core.display.Math object>"
      ]
     },
     "metadata": {},
     "output_type": "display_data"
    },
    {
     "name": "stdout",
     "output_type": "stream",
     "text": [
      "-----\n",
      "Variable\n"
     ]
    },
    {
     "data": {
      "text/latex": [
       "$\\displaystyle \\mathbb{C}^2$"
      ],
      "text/plain": [
       "<IPython.core.display.Math object>"
      ]
     },
     "metadata": {},
     "output_type": "display_data"
    },
    {
     "name": "stdout",
     "output_type": "stream",
     "text": [
      "-----\n",
      "Function\n"
     ]
    },
    {
     "data": {
      "text/latex": [
       "$\\displaystyle E_j(n)$"
      ],
      "text/plain": [
       "<IPython.core.display.Math object>"
      ]
     },
     "metadata": {},
     "output_type": "display_data"
    },
    {
     "name": "stdout",
     "output_type": "stream",
     "text": [
      "-----\n",
      "Series\n"
     ]
    },
    {
     "data": {
      "text/latex": [
       "$\\displaystyle \\(\\sum_{n \\geq 1} f(\\pi n \\alpha) n^{-s}\\)$"
      ],
      "text/plain": [
       "<IPython.core.display.Math object>"
      ]
     },
     "metadata": {},
     "output_type": "display_data"
    },
    {
     "name": "stdout",
     "output_type": "stream",
     "text": [
      "-----\n",
      "LaTeX\n"
     ]
    },
    {
     "data": {
      "text/latex": [
       "$\\displaystyle \\[\\@undefined\n",
       "  \\DeclareRobustCommand{\\[}{\\begin{equation}}%\n",
       "  \\let\\]\\@undefined\n",
       "  \\DeclareRobustCommand{\\]}{\\end{equation}}%\n",
       "}\n",
       "\\makeatother\n",
       "% but only print equation numbers if needed\n",
       "\\mathtoolsset{showonlyrefs,showmanualtags}\n",
       "\n",
       "% set up hyperref\n",
       "\\hypersetup{\n",
       "  colorlinks, \n",
       "  linkcolor=-red!75!green!50, \n",
       "  citecolor=-red!75!green!50,\n",
       "  urlcolor=green!30!black\n",
       "}\n",
       "\n",
       "% and the labels\n",
       "\\usepackage{showlabels}\n",
       "\\renewcommand\\showlabelfont{\\small\\sffamily\\color{green!70!black}}\n",
       "\n",
       "%%%%%%%%%%%%%%%%%%%%%%%%%%%%%%%%%%%%%%%%%%%%%%%%%%%%%%%%%%%%%%%%a\n",
       "% theorems and such \n",
       "\n",
       "% we will only have theorems in the introduction, with letters for numbers\n",
       "\\newtheorem{Theorem}{Theorem}\n",
       "\\newtheorem{PropositionIntro}[Theorem]{Proposition}\n",
       "\\renewcommand\\theTheorem{\\Alph{Theorem}}\n",
       "\n",
       "% and everything else will be numbered correlatively\n",
       "\\newtheorem{Proposition}{Proposition}\n",
       "\\newtheorem{Lemma}[Proposition]{Lemma}\n",
       "\\newtheorem{Corollary}[Proposition]{Corollary}\n",
       "\n",
       "\\theoremstyle{definition}\n",
       "\\newtheorem{Example}[Proposition]{Example}\n",
       "\n",
       "% use etoolbox to patch the Example environments to add a\n",
       "% \\lozenge at the end. We do this in this way (and not just a\n",
       "% \\AtEndEnvironment{theorem}{\\null\\hfill\\qedsymbol}) so that we can use\n",
       "% \\qedhere in remarks...\n",
       "\\AtBeginEnvironment{Example}{\\def\\qedsymbol{$\\lozenge$}\\pushQED{\\qed}}\n",
       "\\AtEndEnvironment{Example}{\\popQED}\n",
       "\n",
       "% a common style for the color boxes\n",
       "\\tcbset{common/.style={\n",
       "  breakable,\n",
       "  enhanced jigsaw,\n",
       "  before skip=10pt,\n",
       "  colback=#1,\n",
       "  grow to right by=0.25cm,\n",
       "  grow to left by=0.25cm,\n",
       "  if odd page={right=0.25cm,left=0.25cm}{right=0.25cm,left=0.25cm},\n",
       "  toggle enlargement,\n",
       "  boxsep=0pt,\n",
       "  toprule=0.07mm,\n",
       "  bottomrule=0.07mm,\n",
       "  leftrule=0mm,\n",
       "  rightrule=0mm,\n",
       "  arc=0mm,\n",
       "  }\n",
       "}\n",
       "% annoyingly, tcolorbox resets the \\parindent, we save the normal value\n",
       "% when the document starts and reset it in each box\n",
       "\\newlength{\\normalparindent}\n",
       "\\AtBeginDocument{\\setlength{\\normalparindent}{\\parindent}}\n",
       "\\tcbset{before upper={\\setlength{\\parindent}{\\normalparindent}}} \n",
       "\n",
       "\\colorlet{thm-color}{blue!5}\n",
       "\\colorlet{proof-color}{gray!8}\n",
       "\\colorlet{question-color}{magenta!4}\n",
       "\\definecolor{example-color}{HTML}{d0efb1}\n",
       "\n",
       "\\foreach \\t in {Proposition, PropositionIntro, Theorem, Lemma, Corollary}\n",
       "  {\n",
       "    \\expandafter\\tcolorboxenvironment\\expandafter{\\t}{\n",
       "        common={thm-color},\n",
       "    }\n",
       "  }\n",
       "\\tcolorboxenvironment{proof}{common={proof-color}}\n",
       "\\tcolorboxenvironment{Example}{common={example-color!25}}\n",
       "\n",
       "%%%%%%%%%%%%%%%%%%%%%%%%%%%%%%%%%%%%%%%%%%%%%%%%%%%%%%%%%%%%%%%%\n",
       "% lists and such \n",
       "\n",
       "% for uniformity, we use special lists for parts of theorems and TFAE-style\n",
       "% statements\n",
       "\\newlist{thmlist}{enumerate}{1}\n",
       "\\setlist[thmlist]{\n",
       "        nolistsep,\n",
       "        topsep=1ex,\n",
       "        itemsep=0.5ex,\n",
       "        ref={\\mdseries\\theProposition\\textup{(\\emph{\\roman*})}},\n",
       "        label={\\mdseries\\textup{(\\emph{\\roman*})}},\n",
       "        listparindent=\\parindent,\n",
       "        %before={\\advance\\mathindent\\leftmargin}\n",
       "        }\n",
       "\\newcommand\\thmitem[1]{\\textup{(\\emph{\\romannumeral #1})}}\n",
       "\n",
       "\\newlist{tfae}{enumerate}{1}\n",
       "\\setlist[tfae]{\n",
       "        nolistsep,\n",
       "        ref={\\mdseries\\textup{(\\emph{\\alph*})}},\n",
       "        label={\\mdseries\\textup{(\\emph{\\alph*})}},\n",
       "        %before={\\advance\\mathindent\\leftmargin}\n",
       "        }\n",
       "\\makeatletter\n",
       "\\newcommand\\tfaeitem[1]{{\\textup{(\\emph{\\@alph #1})}}}\n",
       "\\newcommand\\implication[2]{$\\mbox{\\tfaeitem{#1}}\\Rightarrow\\mbox{\\tfaeitem{#2}}$}\n",
       "\\newcommand\\equivalence[2]{$\\mbox{\\tfaeitem{#1}}\\Leftrightarrow\\mbox{\\tfaeitem{#2}}$}\n",
       "\\makeatother\n",
       "\n",
       "% normal lists, with spaced items consisting of paragraphs,\n",
       "\\setlist[itemize]{itemsep=0.5ex, topsep=0.5ex, listparindent=1em, parsep=0pt}\n",
       "\\setlist[itemize, 1]{label=\\textbullet}\n",
       "\\setlist[itemize, 2]{label=$\\blacktriangleright$}\n",
       "\\setlist[itemize, 3]{label=--}\n",
       "\\setlist[enumerate]{itemsep=0.5ex, topsep=0.5ex, listparindent=1em, parsep=0pt}\n",
       "\n",
       "%%%%%%%%%%%%%%%%%%%%%%%%%%%%%%%%%%%%%%%%%%%%%%%%%%%%%%%%%%%%\n",
       "% the table of contents\n",
       "\n",
       "\\setcounter{tocdepth}{2}\n",
       "\n",
       "\\titlecontents{section}\n",
       "    [0pc] % left\n",
       "    {\\footnotesize\\filright} % above\n",
       "    {\\hspace{-1.25pc}\\makebox[1.25pc]{\\thecontentslabel.\\hfil}} % numbered\n",
       "    {\\hspace*{0pc}} % unnumbered\n",
       "    {\\titlerule*[0.25pc]{.}\\contentspage} % filler and page\n",
       "\\titlecontents{subsection}\n",
       "    [1.25pc] % left\n",
       "    {\\footnotesize} % above\n",
       "    {\\hspace*{-1.25pc}\\makebox[1.25pc]{\\thecontentslabel.\\hfil}\\space} % numbered\n",
       "    {\\hspace*{2pc}} % unnumbered\n",
       "    {\\titlerule*[0.25pc]{.}\\contentspage} % filler and page\n",
       "\\titlecontents{subsubsection}\n",
       "    [1.5pc+2.75pc] % left\n",
       "    {\\footnotesize} % above\n",
       "    {\\hspace*{-2.5pc}\\makebox[2.5pc]{\\thecontentslabel.\\hfil}} % numbered\n",
       "    {\\hspace*{2pc}} % unnumbered\n",
       "    {\\titlerule*[0.25pc]{.}\\contentspage} % filler and page\n",
       "\\makeatletter\n",
       "\\renewcommand\\tableofcontents{%\n",
       "    \\begingroup\n",
       "    \\centering\n",
       "    {\\large\\bfseries\\contentsname}\\par\n",
       "    \\vspace*{0.5pc}%\n",
       "    \\begin{minipage}{.8\\textwidth}\n",
       "    \\@starttoc{toc}%\n",
       "    \\end{minipage}\\par\n",
       "    \\endgroup\n",
       "    \\vspace*{2pc}\n",
       "    }\n",
       "\\makeatother\n",
       "\n",
       "\\BookmarkAtEnd{%\n",
       " \\bookmarksetup{startatroot}%\n",
       " \\bookmark[named=LastPage, level=0]{Last page}%\n",
       "}\n",
       "\\AtBeginDocument{%\n",
       "  \\bookmark[level=1, named=FirstPage]{Title}\n",
       "}\n",
       "\n",
       "%%%%%%%%%%%%%%%%%%%%%%%%%%%%%%%%%%%%%%%%%%%%%%%%%%%%%%%%%%%%\n",
       "% math\n",
       "\n",
       "% textual claims in equations\n",
       "\\newcommand\\claim[2][.8]{%\n",
       "  \\begin{minipage}[c]{#1\\displaywidth}%\n",
       "  \\itshape\n",
       "  #2\n",
       "  \\end{minipage}%\n",
       "}\n",
       "\n",
       "% MnSumbol does not have \\Bbbk..\n",
       "\\DeclareSymbolFont{AMSb}{U}{msb}{m}{n}\n",
       "\\DeclareMathSymbol{\\Bbbk}{\\mathord}{AMSb}{\"7C}\n",
       "\n",
       "% let's make the space before \\mod smaller: we redefine amsmath's \\mod\n",
       "\\makeatletter\n",
       "\\DeclareRobustCommand{\\mod}[1]{\\allowbreak\\if@display\\mkern10mu\n",
       "  \\else\\mkern12mu\\fi{\\operator@font mod}\\,\\,#1}\n",
       "\\makeatother\n",
       "\n",
       "% operators\n",
       "\\let\\hom\\undefine % we undefine this to force ourselves to use \\Hom\n",
       "\\DeclareMathOperator{\\Hom}      {Hom}\n",
       "\\DeclareMathOperator{\\End}      {End}\n",
       "\\DeclareMathOperator{\\GL}       {GL}\n",
       "\\DeclareMathOperator{\\Aut}      {Aut}\n",
       "\\DeclareMathOperator{\\Inn}      {Inn}\n",
       "\\DeclareMathOperator{\\Out}      {Out}\n",
       "\\DeclareMathOperator{\\Pic}      {Pic}\n",
       "\\DeclareMathOperator{\\Ext}      {Ext}\n",
       "\\DeclareMathOperator{\\Tor}      {Tor}\n",
       "\\DeclareMathOperator{\\Der}      {Der}\n",
       "\\DeclareMathOperator{\\InnDer}   {InnDer}\n",
       "\\DeclareMathOperator{\\OutDer}   {OutDer}\n",
       "\\DeclareMathOperator{\\tr}       {tr}\n",
       "\\DeclareMathOperator{\\trd}      {trd}\n",
       "\\DeclareMathOperator{\\jac}      {jac}\n",
       "\\let\\div\\relax\n",
       "\\DeclareMathOperator{\\div}      {div}\n",
       "\\DeclareMathOperator{\\M}        {M}\n",
       "\\let\\o\\relax\n",
       "\\DeclareMathOperator{\\o}        {\\mathfrak{o}}\n",
       "\\DeclareMathOperator{\\res}      {res}\n",
       "\\DeclareMathOperator{\\Alt}      {Alt}\n",
       "\\DeclareMathOperator{\\CE}       {CE}\n",
       "\\DeclareMathOperator{\\rad}      {rad}\n",
       "\\DeclareMathOperator{\\soc}      {soc}\n",
       "\\DeclareMathOperator{\\ad}       {ad}\n",
       "\\DeclareMathOperator\\Z          {Z}\n",
       "\\let\\H\\relax\n",
       "\\DeclareMathOperator\\H          {H}\n",
       "\\DeclareMathOperator\\HH         {HH}\n",
       "\n",
       "% integral intervals\n",
       "\\newcommand\\inter[1]{\\llbracket#1\\rrbracket}\n",
       "\n",
       "% delimited stuff\n",
       "\\DeclarePairedDelimiter\\abs{\\lvert}{\\rvert}\n",
       "\\DeclarePairedDelimiter\\gen{\\langle}{\\rangle}\n",
       "\\DeclarePairedDelimiter\\ggen{\\llangle}{\\rrangle}\n",
       "\\DeclarePairedDelimiter\\parens{(}{)}\n",
       "\n",
       "% special symbols\n",
       "\\let\\epsilon\\varepsilon\n",
       "\\let\\emptyset\\varnothing\n",
       "\\newcommand\\id{\\mathord{\\mathsf{id}}}\n",
       "\n",
       "% duality\n",
       "\\newcommand\\D[1]{\\operatorname{D}\\parens{#1}}\n",
       "\n",
       "% letters\n",
       "\\let\\AA\\relax\n",
       "\\newcommand\\NN{\\mathbb{N}}\n",
       "\\newcommand\\AA{\\mathbb{A}}\n",
       "\\newcommand\\ZZ{\\mathbb{Z}}\n",
       "\\newcommand\\CC{\\mathbb{C}}\n",
       "\\newcommand\\FF{\\mathbb{F}}\n",
       "\\newcommand\\RR{\\mathbb{R}}\n",
       "\\newcommand\\QQ{\\mathbb{Q}}\n",
       "\\newcommand\\kk{\\Bbbk}\n",
       "\\newcommand\\W{\\mathscr{W}}\n",
       "\\newcommand\\X{\\mathscr{X}}\n",
       "\\newcommand\\cH{\\mathscr{H}}\n",
       "\\newcommand\\dR{\\mathsf{dR}}\n",
       "\\newcommand\\CB{\\mathsf{B}}\n",
       "\\newcommand\\B{\\mathcal{B}}\n",
       "\\newcommand\\s{\\mathfrak{s}}\n",
       "\\newcommand\\g{\\mathfrak{g}}\n",
       "\\newcommand\\U{\\mathcal{U}}\n",
       "\\newcommand\\F{\\mathscr{F}}\n",
       "\\newcommand\\T{\\mathsf{T}} % transpose\n",
       "\n",
       "% paceholder\n",
       "\\newcommand\\place{\\mathord-}\n",
       "\n",
       "% differentials\n",
       "\\renewcommand\\d{\\mathrm{d}}\n",
       "\n",
       "% abbreviations\n",
       "\\newcommand\\op{\\mathsf{op}}\n",
       "\\newcommand\\odd{\\mathsf{od}}\n",
       "\\newcommand\\even{\\mathsf{ev}}\n",
       "\\newcommand\\JAC{\\mathfrak{Jac}}\n",
       "\\newcommand\\DIV{\\mathfrak{Div}}\n",
       "\\newcommand\\m{\\mathfrak{m}}\n",
       "\\newcommand\\Ring{\\mathsf{Ring}}\n",
       "\n",
       "% binary operators\n",
       "\\newcommand\\crs{\\mathbin{\\#}} % cross products\n",
       "\\newcommand\\fe{\\mathrel/} % for field extensions\n",
       "\n",
       "% new terms\n",
       "\\colorlet{newterm-color}{blue!50!black}\n",
       "\\newcommand\\newterm[2][]{\\textbf{\\itshape\\color{newterm-color}#2\\/}}\n",
       "\n",
       "\\hyphenation{auto-morphism auto-morphisms center Eduardo}\n",
       "\n",
       "%%%%%%%%%%%%%%%%%%%%%%%%%%%%%%%%%%%%%%%%%%%%%%%%%%%%%%%%%%%%%%%%%%%%%%\n",
       "%%%%%%%%%%%%%%%%%%%%%%%%%%%%%%%%%%%%%%%%%%%%%%%%%%%%%%%%%%%%%%%%%%%%%%\n",
       "%%%%%%%%%%%%%%%%%%%%%%%%%%%%%%%%%%%%%%%%%%%%%%%%%%%%%%%%%%%%%%%%%%%%%%\n",
       "\n",
       "\\title{The action of the Nakayama automorphism\\\\of a Frobenius algebra on\n",
       "Hochschild cohomology}\n",
       "\\author{Mariano Suárez-Álvarez\\thanks{Universidad de Buenos Aires,\n",
       "IMAS/CONICET and Guangdong Technion Institute of Technology.\\\\\n",
       "E-mail: \\texttt{mariano@dm.uba.ar}}}\n",
       "\\date{December 2024\\ifoptionfinal{}{; compiled \\today}}\n",
       "\n",
       "\\begin{document}\n",
       "\n",
       "\\maketitle\n",
       "\n",
       "\\tableofcontents\n",
       "\n",
       "\\section{Introduction}\n",
       "\\label{sect:intro}\n",
       "\n",
       "Ferdinand Georg Frobenius presented in his paper~\\cite{Frobenius} of~1903,\n",
       "among many other things, a characterization of those finite-dimensional\n",
       "algebras over a field whose left and right regular representations are\n",
       "equivalent. We call them \\newterm{Frobenius algebras} --- thankfully, the\n",
       "term \\emph{Frobeniusean} that Tadasi Nakayama favored did not catch on.\n",
       "Their study was soon after taken on by Richard Brauer and Cecil Nesbitt\n",
       "in~\\cite{BN} and by Nakayama in~\\citelist{\\cite{Nakayama:1}\n",
       "\\cite{Nakayama:2}}, who were the first to realize that the understanding of\n",
       "such algebras is a key step in the general program of understanding\n",
       "non-semisimple algebras and their representations, and after them by many,\n",
       "many others, and to this day. The continued interest in them resides in\n",
       "that, on one hand, many algebras of central importance in representation theory are\n",
       "Frobenius algebras --- semisimple algebras, group algebras and their\n",
       "blocks, the Iwahori--Hecke algebras of finite Coxeter groups,\n",
       "finite-dimensional Hopf algebras, cohomology algebras of compact\n",
       "oriented manifolds, Yoneda algebras of Calabi--Yau algebras, many diagram\n",
       "algebras,~\\&c~--- and, on the other, in that they show up in useful ways in\n",
       "very different contexts, such as low-dimensional topology, topological\n",
       "quantum field theory, combinatorics, number theory, algebraic geometry, and\n",
       "quantum information theory.\n",
       "\n",
       "One of the modern characterizations of these algebras, the one that we will\n",
       "use here as a definition, and that is one of the cornerstones of the\n",
       "theory developed by Brauer, Nesbitt and Nakayama, is the following: a\n",
       "finite-dimensional algebra~$A$ over a field~$\\kk$ is a Frobenius algebra\n",
       "exactly when there is a non-degenerate bilinear form\n",
       "$\\gen{\\place,\\place}:A\\times A\\to\\kk$ on~$A$ that is \\emph{associative}, in\n",
       "the sense that for all choices of~$x$,~$y$ and~$z$ in~$A$ we have\n",
       "  \\[\n",
       "  \\gen{xy,z} = \\gen{x,yz}.\n",
       "  \\]\n",
       "When that is the case we will fix one such bilinear form --- of\n",
       "which there are in general many --- and view it as an extra structure\n",
       "on~$A$. \n",
       "\n",
       "If we can choose the bilinear form so that it is symmetric we say that the\n",
       "algebra itself is \\newterm{symmetric}. This is usually not the case,\n",
       "though. A momentous observation that one has to make at this point is that,\n",
       "despite that, there is always a unique algebra automorphism $\\sigma:A\\to A$\n",
       "for which we have\n",
       "  \\[\n",
       "  \\gen{x,y} = \\gen{y,\\sigma(x)}\n",
       "  \\]\n",
       "for all~$x$ and all~$y$ in~$A$. This is the \\newterm{Nakayama automorphism}\n",
       "of~$A$ with respect to that bilinear form. Of course, if the form is\n",
       "symmetric, then we have that $\\sigma=\\id_A$, the identity map of~$A$.\n",
       "It is important that --- since $A$ admits, in general, many non-degenerate\n",
       "and associative bilinear forms --- the Nakayama automorphism~$\\sigma$ is not\n",
       "determined by~$A$ alone, but that it turns out that the class of~$\\sigma$ in the\n",
       "outer automorphism group~$\\Out(A)$ of~$A$ is.\n",
       "\n",
       "\\bigskip\n",
       "\n",
       "A Frobenius algebra~$A$ is thus canonically endowed with a distinguished\n",
       "symmetry. Now, it is a truth universally acknowledged that symmetries are\n",
       "important, and canonical ones even more so, so it is not surprising that\n",
       "the Nakayama automorphism plays a significant and special role in almost\n",
       "every aspect of the study of a Frobenius algebra. The main result of this\n",
       "paper is the following manifestation of this:\n",
       "\n",
       "\\begin{Theorem}\n",
       "The Nakayama automorphism $\\sigma:A\\to A$ of a Frobenius algebra~$A$ acts\n",
       "trivially on the Hochschild cohomology~$\\HH^*(A)$ of~$A$.\n",
       "\\end{Theorem}\n",
       "\n",
       "In general, the automorphism group of an algebra~$A$ acts in a canonical\n",
       "way on the Hochschild cohomology of~$A$, and this action is usually highly\n",
       "non-trivial. The claim of the theorem is that when the algebra is Frobenius\n",
       "the Nakayama automorphism acts on~$\\HH^*(A)$ as the identity. We can see\n",
       "this as saying that taking the Hochschild cohomology automagically takes into\n",
       "account the symmetry implied by the Nakayama automorphism, so that this\n",
       "automorphism does not do anything on the result. It should be noted that\n",
       "the corresponding statement about Hochschild \\emph{homology} is not true,\n",
       "so there is certainly something non-obvious happening here.\n",
       "\n",
       "The $0$th Hochschild cohomology space~$\\HH^0(A)$ of an algebra~$A$ can be\n",
       "identified canonically with the center~$\\Z(A)$ of~$A$, and the canonical\n",
       "action of an automorphism of~$A$ on~$\\HH^0(A)$ corresponds under this\n",
       "identification to the obvious action of the automorphism on~$\\Z(A)$. The\n",
       "theorem therefore says, in particular, that the Nakayama automorphism of a\n",
       "Frobenius algebra fixes the center of the algebra pointwise. This statement\n",
       "was proved by Masaru Osima in his paper~\\cite{Osima:1} of~1951, and the\n",
       "theorem above is a «higher» version this.\n",
       "\n",
       "\\bigskip\n",
       "\n",
       "Our main theorem says that something is trivial, and usually such a result\n",
       "is the end of a discussion, for we cannot do much with trivial things. If\n",
       "we recall how we construct the Hochschild cohomology of an algebra, though,\n",
       "then we can view the claim of the theorem as an \\emph{existence} result. Indeed,\n",
       "the theorem says that every class~$\\alpha$ in~$\\HH^*(A)$ coincides with the\n",
       "class $\\sigma(\\alpha)$ that we obtain from it by applying the Nakayama\n",
       "automorphism, and if we have a concrete realization for~$\\alpha$ --- as the\n",
       "cohomology class of a cocycle in some cochain complex, for example, ---\n",
       "then we can generally construct a realization of the same nature\n",
       "for~$\\sigma(\\alpha)$, and the fact that the two classes are equal means\n",
       "that something exists that attests that equality in terms of those\n",
       "realizations --- in that example, a\n",
       "cochain whose coboundary is the difference of the cocycles\n",
       "representing~$\\alpha$ and~$\\sigma(\\alpha)$. After proving our main result,\n",
       "we spend the second half of the paper putting this idea in practice, and\n",
       "show how to use it to obtain invariants for Frobenius algebras. Let us\n",
       "finish this introduction explaining what we find.\n",
       "\n",
       "\\bigskip\n",
       "\n",
       "Let us fix a Frobenius algebra~$A$ with bilinear\n",
       "form~$\\gen{\\place,\\place}:A\\times A\\to\\kk$ and Nakayama\n",
       "automorphism~$\\sigma:A\\to A$. In Subsection~\\ref{subsect:jac} we prove the\n",
       "following:\n",
       "\n",
       "\\begin{PropositionIntro}\n",
       "If $u:A\\to A$ is an endomorphism of~$A$,\n",
       "then there is exactly one element~$\\jac_\\sigma(u)$ in~$A$, which we call\n",
       "the \\newterm{Nakayama Jacobian} of~$u$, such that\n",
       "  \\[\n",
       "  \\gen{u(a),u(b)} = \\gen{\\jac_\\sigma(u)\\cdot a,b}\n",
       "        \\qquad\\text{for all $a$,~$b\\in A$.}\n",
       "  \\]\n",
       "\\end{PropositionIntro}\n",
       "\n",
       "\\noindent This provides us with an invariant attached to each endomorphism\n",
       "of~$A$. One motivation for naming it as we have is that this makes the\n",
       "following version of the \\emph{Jacobian Conjecture} of Eduard Ott-Heinrich\n",
       "Keller \\cite{Keller:cremona} true.\n",
       "\n",
       "\\begin{PropositionIntro}\\label{prop:jacobian-conjecture}\n",
       "An endomorphism $u:A\\to A$ of~$A$ is an automorphism of $A$ if and only if\n",
       "its Nakayama Jacobian $\\jac_\\sigma(u)$ is a unit in~$A$.\n",
       "\\end{PropositionIntro}\n",
       "\n",
       "The easy proof of this is based on the following observation:\n",
       "  \\[\n",
       "  \\claim[.95]{If $u$ and~$v$ are two automorphisms of~$A$, then\n",
       "  $\\jac_\\sigma(u\\circ v) = \\jac_\\sigma(v)\\cdot v^{-1}(\\jac_\\sigma(u))$.\n",
       "  }\n",
       "  \\]\n",
       "We can view the identity in this claim as a slightly twisted variant\n",
       "of the chain rule of calculus for Jacobians, which is nice, and also as an\n",
       "equally slightly twisted cocycle condition. Untwisting it, we can construct\n",
       "an invariant of cohomological nature, now attached to the algebra~$A$\n",
       "itself:\n",
       "\n",
       "\\begin{PropositionIntro}\n",
       "The function\n",
       "  \\[\n",
       "  \\jac^\\sim_\\sigma : u\\in\\Aut(A) \\mapsto \\jac_\\sigma(u^{-1})\\in A^\\times\n",
       "  \\]\n",
       "is a $1$-cocycle on the group~$\\Aut(A)$ with values in the possibly\n",
       "non-abelian group of units~$A^\\times$ whose class~$\\JAC(A)$\n",
       "in~$\\H^1(\\Aut(A),A^\\times)$ depends only on~$A$ and not on the choice of\n",
       "the non-degenerate and associative bilinear form~$\\gen{\\place,\\place}$ used\n",
       "to compute~it.\n",
       "\\end{PropositionIntro}\n",
       "\n",
       "We do not know what exactly this cohomology class means --- the fact that\n",
       "the non-abelian cohomology $\\H^1(\\Aut(A),A^\\times)$ is somewhat hard to\n",
       "compute in any non-trivial example does not help here. It is\n",
       "not difficult to establish the following, though:\n",
       "\n",
       "\\begin{PropositionIntro}\n",
       "The algebra~$A$ is symmetric if and only if the restriction of the\n",
       "class~$\\JAC(A)$ from~$\\H^1(\\Aut(A),A^\\times)$ to~$\\H^1(\\Inn(A),A^\\times)$ is\n",
       "trivial, and when that is the case that class is the image under a certain\n",
       "canonical `inflation' map\n",
       "  \\[\n",
       "  \\inf : \\H^1(\\Out(A),A^\\times\\cap\\Z(A)) \\to \\H^1(\\Aut(A),A^\\times)\n",
       "  \\]\n",
       "of exactly one element~$\\underline\\JAC(A)$ of~$\\H^1(\\Out(A),A^\\times\\cap\\Z(A))$.\n",
       "\\end{PropositionIntro}\n",
       "\n",
       "\\noindent This tells us that the restriction of the class~$\\JAC(A)$ to the\n",
       "inner automorphism group $\\Inn(A)$ of~$A$ is precisely the obstruction to the\n",
       "symmetry of~$A$. One should note that neither of the groups~$\\Aut(A)$\n",
       "nor~$\\Out(A)$ is even a Morita invariant of~$A$. In contrast to this, the connected\n",
       "component~$\\Out_0(A)$ of the identity element in the algebraic group\n",
       "$\\Out(A)$ is Morita invariant by a result of Richard Brauer --- this is R.\n",
       "David Pollack's \\cite{Pollack}*{Theorem 2.1} --- and even derived invariant\n",
       "according to a theorem of Birge Huisgen-Zimmermann and Manuel Saorín\n",
       "\\cite{HZS} and of Raphaël Rouquier \\cite{Rouquier}, so restricting the\n",
       "class~$\\underline\\JAC(A)$ to~$\\Out_0(A)$ may provide something more\n",
       "directly interpretable in terms of representation theory. Similarly, it is\n",
       "natural to ask if that class~$\\underline\\JAC(A)$ can be extended all the\n",
       "way to the Picard group~$\\Pic(A)$.\n",
       "\n",
       "In any case, all this provides us with invariants of automorphisms of\n",
       "Frobenius algebras and of those algebras themselves. We spend some time --- \n",
       "Subsubsections~\\ref{subsubsect:jac:grass} to~\\ref{subsubsect:jac:separable}\n",
       "--- presenting some examples that show, on one hand, that these invariants\n",
       "are not trivial and, on the other, that they are interesting, known and\n",
       "useful is certain situations.\n",
       "\n",
       "\\begin{itemize}[\n",
       "        leftmargin=1pc\n",
       "        ]\n",
       "\n",
       "\\item\\textbf{\\itshape Grassmann algebras.}\n",
       "Let $V$ be a finite-dimensional vector space, let $\\B=(x_1,\\dots,x_n)$ be\n",
       "an ordered basis for~$V$, and let~$A\\coloneqq\\bigwedge^* V$ be the exterior\n",
       "algebra on~$V$. It is easy to see that~$A$ is a Frobenius algebra, and even\n",
       "a symmetric one when the dimension~$n$ of~$V$ is odd. It is also naturally\n",
       "a $\\ZZ$-graded algebra, and we may thus consider the group~$\\Aut_\\odd(A)$\n",
       "of automorphisms $u:A\\to A$ of~$A$ that map~$V$ into the subspace~$A^\\odd$\n",
       "spanned by the homogeneous elements of odd degree. In~\\cite{Bavula},\n",
       "Vladimir Bavula defines for each automorphism $u:A\\to A$ belonging\n",
       "to~$\\Aut_\\odd(A)$ a Jacobian,\n",
       "  \\[\n",
       "  \\jac(u) \\coloneqq \n",
       "      \\det\n",
       "      \\left(\n",
       "      \\frac{\\partial u(x_i)}{\\partial x_j}\n",
       "      \\right) \\in A.\n",
       "  \\]\n",
       "Here $\\frac{\\partial}{\\partial x_1}$,~\\dots,~$\\frac{\\partial}{\\partial\n",
       "x_n}:A\\to A$ are certain left \\emph{skew} derivations of~$A$ associated\n",
       "to the ordered basis~$\\B$, and the determinant makes sense because the\n",
       "entries of the matrix whose determinant we are computing belong to the\n",
       "center of~$A$ --- this is precisely why Bavula does this only for\n",
       "automorphism in~$\\Aut_\\odd(A)$, in fact. We prove in\n",
       "Subsubsection~\\ref{subsubsect:jac:grass} that Bavula's Jacobians\n",
       "essentially coincide with ours:\n",
       "\n",
       "\\begin{PropositionIntro}\n",
       "For every automorphism~$u:A\\to A$ of the exterior algebra~$A$ that belongs\n",
       "to~$\\Aut_\\odd(A)$ we have that $\\jac_\\sigma(u^{-1})=\\jac(u)^{-1}$.\n",
       "\\end{PropositionIntro}\n",
       "\n",
       "In particular, this tells us that we can use our definition\n",
       "of~$\\jac_\\sigma$ to extend Bavula's $\\jac$ to the whole automorphism group\n",
       "of~$A$ in what is probably the best possible way. Moreover, this\n",
       "identification of what the Nakayama Jacobian is in this case allows us to\n",
       "easily verify that the class~$\\JAC(A)$ in~$\\H^1(\\Aut(A),A^\\times)$ is not\n",
       "trivial.\n",
       "\n",
       "\\item\\textbf{\\itshape Trivial extensions.}\n",
       "Let $B$ be a finite-dimensional algebra, and let $\\D B\\coloneqq\\Hom(B,\\kk)$\n",
       "be the dual space of~$V$ viewed as a $B$-bimodule in the usual way. We can then\n",
       "consider the so-called trivial extension algebra $A\\coloneqq B\\oplus\\D B$,\n",
       "which is a symmetric algebra. It is easy to compute the Nakayama Jacobian\n",
       "of any automorphism of~$A$, and with that information we can show that the\n",
       "classes~$\\JAC(A)$ in~$\\H^1(\\Aut(A),A^\\times)$ and~$\\underline\\JAC(A)$\n",
       "in~$\\H^1(\\Out(A),A^\\times\\cap\\Z(A))$ are most often non-trivial --- for\n",
       "example, if they are trivial the ground field necessarily has exactly two\n",
       "elements. We do this in Subsubsection~\\ref{subsubsect:jac:trivial}.\n",
       "\n",
       "In~\\cite{Bavula} Bavula spends some time describing what are the possible\n",
       "values for the Jacobian of an automorphism of an exterior algebra. Here we\n",
       "do something similar for automorphisms of trivial extensions, and the end result\n",
       "is interesting:\n",
       "\n",
       "\\begin{PropositionIntro}\n",
       "An element of~$A$ is the Jacobian of an automorphism of~$A$ if and only\n",
       "if it is of the form $t+\\tau$ with $t$ a central unit of~$B$ and\n",
       "$\\tau:B\\to\\kk$ an element of~$\\D B$ in the image of the transposed map\n",
       "  \\[\n",
       "  \\CB^\\T : \\HH_1(B)^* \\to \\HH_0(B)^*\n",
       "  \\]\n",
       "of the Connes boundary $\\CB:\\HH_0(B)\\to\\HH_1(B)$.\n",
       "\\end{PropositionIntro}\n",
       "\n",
       "\\noindent Here we are identifying elements of the dual space~$\\HH_0(B)^*$\n",
       "of the $0$th Hochschild homology space of~$B$ with linear maps $B\\to\\kk$\n",
       "that vanish on commutators. This result can be stated in terms of the\n",
       "non-commutative de Rham cohomology of~$A$ --- as defined, for example, by\n",
       "Max Karoubi in~\\cite{Karoubi} --- and is a version for finite-dimensional\n",
       "algebras of the theorem of Jürgen Moser~\\cite{Moser} that says that two\n",
       "volume forms on a compact orientable manifold are related by a\n",
       "self-diffeomorphism exactly when they have the same\n",
       "integral.\n",
       "\n",
       "One of the points of considering trivial extensions is that they allow us\n",
       "to view any algebra~$B$ as a subalgebra of a symmetric algebra, and we can\n",
       "use this to construct invariants for arbitrary algebras from invariants\n",
       "for Frobenius algebras. In Subsubsection~\\ref{subsubsect:jac:trivial} we\n",
       "also show how to do this and obtain, for example, for \\emph{any}\n",
       "finite-dimensional algebra~$B$ a class in\n",
       "  \\[\n",
       "  \\H^1(\\HH_1(B)^*,B^\\times\\cap\\Z(B)),\n",
       "  \\]\n",
       "the first group cohomology group of the group $\\HH_1(B)^*$ with values in the\n",
       "group of central units~$B^\\times\\cap\\Z(B)$ of~$B$ --- the group~$\\HH_1(B)^*$ that\n",
       "are are talking about here is the additive group of the dual space of the\n",
       "first Hochschild cohomology of~$B$. This is not the first place in which\n",
       "one goes looking for invariants, surely\\dots\n",
       "\n",
       "\\item\\textbf{\\itshape Quantum complete intersections of dimension~$4$.}\n",
       "Since it was used by Ragnar-Olaf Buchweitz, Edward Green, Dag Madsen, and\n",
       "\\O yvind Solberg in~\\cite{BGMS} to answer negatively a famous question\n",
       "about Hochschild cohomology asked by Dieter Happel  in~\\cite{Happel}, the\n",
       "so-called quantum complete intersection algebra of dimension~$4$ has been\n",
       "used to illustrate many different phenomena, and we also use it here for\n",
       "that. We fix a scalar~$q$ in~$\\kk\\setminus\\{0,\\pm1\\}$ and consider the\n",
       "algebra~$A$ freely generated by two letters~$x$ and~$y$ subject to the relations\n",
       "  \\[\n",
       "  x^2 = y^2 = 0, \\qquad yx = qxy.\n",
       "  \\]\n",
       "This is a non-symmetric Frobenius algebra. In\n",
       "Subsubsection~\\ref{subsubsect:jac:quantum} we compute explicitly the\n",
       "Nakayama Jacobian of each automorphism of this algebra and show that the\n",
       "cohomology class~$\\JAC(A)$ is non-trivial in~$\\H^1(\\Aut(A),A^\\times)$. In\n",
       "particular, this example is nice in that shows that the Jacobian of an automorphism need\n",
       "not be central.\n",
       "\n",
       "\\item\\textbf{\\itshape Separable algebras and group algebras.} \n",
       "A strongly separable algebra in the sense of Teruo\n",
       "Kanzaki~\\cite{Kanzaki:strongly} is a Frobenius algebra with respect to the\n",
       "usual trace form --- that is, its Killing form ---  and we show in\n",
       "Subsubsection~\\ref{subsubsect:jac:separable} that any automorphism of such\n",
       "an algebra has trivial Nakayama Jacobian with respect to that bilinear form.\n",
       "Similarly, any separable algebra is a Frobenius algebra with respect now to\n",
       "its \\emph{reduced} trace form, and we show there that, again, any\n",
       "automorphism of such an algebra has trivial Nakayama Jacobian with respect\n",
       "to that form. This shows that all automorphism of semisimple and involutory\n",
       "Hopf algebras have trivial Jacobian with respect to their usual Frobenius\n",
       "structure given by an integral --- in particular, this includes all\n",
       "semisimple group algebras.\n",
       "\n",
       "In contrast with that observation, we show in the same subsubsection that\n",
       "already for the smallest non-semisimple group algebra, that of the cyclic\n",
       "group of prime order over a field of that characteristic, the group of\n",
       "Jacobians of automorphisms is quite non-trivial.\n",
       "\n",
       "\\end{itemize}\n",
       "We finish our study of Nakayama Jacobians by showing in\n",
       "Subsubsection~\\ref{subsubsect:jac:cross} how they can be used to describe\n",
       "the Nakayama automorphisms of crossed products of Frobenius algebras by\n",
       "finite groups and, more generally, of generalized cross products, and in\n",
       "Subsubsections~\\ref{subsubsect:jac:reductions} we make several observations\n",
       "useful in computing those Jacobians in practice.\n",
       "\n",
       "\\bigskip\n",
       "\n",
       "All this comes from looking, essentially, at the consequences of the\n",
       "triviality of the action of the Nakayama automorphism on~$\\HH^0(A)$ and\n",
       "on~$\\Out(A)$. In Subsection~\\ref{subsect:div} we do the same but this time for\n",
       "the action on~$\\HH^1(A)$. We find the following existence result:\n",
       "\n",
       "\\begin{PropositionIntro}\n",
       "Let $\\delta:A\\to A$ be a derivation.  There is a unique\n",
       "element~$\\div_\\sigma(\\delta)$, which we call the \\newterm{Nakayama\n",
       "divergence} of~$\\delta$, such that \n",
       "for all $a$ and~$b$ in~$A$ we have \n",
       "  \\[\n",
       "  \\gen{\\delta(a),b} + \\gen{a,\\delta(b)} = \\gen{a,b\\cdot\\div_\\sigma(\\delta)}.\n",
       "  \\]\n",
       "If the bilinear form on~$A$ is symmetric, then that element is central\n",
       "in~$A$.\n",
       "\\end{PropositionIntro}\n",
       "\n",
       "The two basic properties of this divergence operator are as follows.\n",
       "\n",
       "\\begin{PropositionIntro}\n",
       "Let $\\delta$,~$\\eta:A\\to A$ be two derivations of~$A$.\n",
       "\\begin{thmlist}\n",
       "\n",
       "\\item If $z$ is a central element in~$A$, then \n",
       "  \\(\n",
       "  \\div_\\sigma(z\\delta) = z\\div_\\sigma(\\delta) - \\delta(z)\n",
       "  \\).\n",
       "\n",
       "\\item We have that\n",
       "  \\(\n",
       "  \\div_\\sigma([\\delta,\\eta])\n",
       "        = \\delta(\\div_\\sigma(\\eta)) - \\eta(\\div_\\sigma(\\delta))\n",
       "                + [\\div_\\sigma(\\delta),\\div_\\sigma(\\eta)]\n",
       "  \\).\n",
       "\n",
       "\\end{thmlist}\n",
       "\\end{PropositionIntro}\n",
       "\n",
       "The first of these claims states that the map $\\div_\\sigma:\\Der(A)\\to A$ is a\n",
       "differential operator of order~$1$, and the second one tells us that --- when\n",
       "$2\\neq0$ in~$\\kk$ --- that map is a solution of the Maurer--Cartan\n",
       "equation in the differential graded Lie algebra $\\CE(\\Der(A),A)$ that we\n",
       "get from the Chevalley--Eilenberg complex that computes the Lie algebra\n",
       "cohomology of the Lie algebra of derivations~$\\Der(A)$ with values in the\n",
       "tautological module~$A$ when we endow it with the Schouten--Nijenhuis\n",
       "bracket that arises from the associative commutator of~$A$. In particular,\n",
       "the map~$\\div_\\sigma$ is, in general, not a cocycle in that complex, but we\n",
       "do have the following:\n",
       "\n",
       "\\begin{PropositionIntro}\n",
       "If the bilinear form on~$A$ is symmetric, then the map\n",
       "$\\div_\\sigma:\\Der(A)\\to\\Z(A)$ is a $1$-cocycle in the\n",
       "complex~$\\CE(\\Der(A),\\Z(A))$ that vanishes on the ideal of inner derivations~$\\InnDer(A)$, \n",
       "and it determines a cohomology class~$\\DIV(A)$ in\n",
       "  \\[\n",
       "  \\H^1(\\HH^1(A),\\Z(A)),\n",
       "  \\]\n",
       "the Lie algebra cohomology of the Lie algebra~$\\HH^1(A)$ of exterior\n",
       "derivations of~$A$ with values in the center~$\\Z(A)$, computed with respect\n",
       "to the action given by the Gerstenhaber bracket. This class depends only\n",
       "on~$A$ and not on the choice of the symmetric non-degenerate and\n",
       "associative bilinear form used to construct it.\n",
       "\\end{PropositionIntro}\n",
       "\n",
       "After doing this, we go through the same list of examples that we\n",
       "considered when we were studying Jacobians and look now at the divergences of their\n",
       "derivations. In Subsubsection~\\ref{subsubsect:div:grass} we compute the\n",
       "divergence of the derivations of an exterior algebra, establishing the pleasing\n",
       "fact that they are given by a formula similar to that of the divergence of\n",
       "a vector field in calculus, and using this show that the class~$\\DIV(A)$ is\n",
       "a non-trivial element of~$\\H^1(\\HH^1(A),\\Z(A))$. In\n",
       "Subsubsection~\\ref{subsubsect:div:trivial} we go back to trivial\n",
       "extensions: using what is essentially the description of the Lie algebra of\n",
       "outer derivations of such an algebra given in the work~\\cite{CMRS} of\n",
       "Claude Cibils, Eduardo Marcos, María Julia Redondo and Andrea Solotar, we\n",
       "are able to compute the divergence of all derivations and to show that,\n",
       "once again, the class~$\\DIV(A)$ is not trivial. We finish this exploration\n",
       "of low-hanging examples with the calculation of the divergences of\n",
       "derivations of the four-dimension quantum complete intersection in\n",
       "Subsubsection~\\ref{subsubsect:div:quantum}. We could make about divergences\n",
       "observations entirely similar to those we made in\n",
       "Subsubsection~\\ref{subsubsect:jac:reductions} about Jacobians, but it seems\n",
       "unnecessary as there is not much to change. On the other hand, in parallel\n",
       "to what we did in Subsubsection~\\ref{subsubsect:jac:cross} with crossed\n",
       "products with groups there is a similar theory about cross products of\n",
       "Frobenius algebras with restricted Lie algebras that act on them by\n",
       "derivations: while this is interesting, it is also long and technical,\n",
       "so we will deal with it in future work.\n",
       "\n",
       "We finish the paper, at long last, with an example of a result that shows that\n",
       "our Nakayama Jacobians and divergences share many non-trivial properties\n",
       "with the classical operators of calculus. We prove in\n",
       "Subsection~\\ref{subsect:div:liouville} an analogue\n",
       "of the classical formula of Liouville and Ostrogradski that relates the\n",
       "Jacobian of the flow generated by a vector field with the divergence of the\n",
       "latter, of which the following is the most significant part:\n",
       "\n",
       "\\begin{PropositionIntro}\n",
       "Let us suppose that the ground field~$\\kk$ has characteristic zero,\n",
       "let $A$ be a Frobenius algebra with respect to a bilinear\n",
       "form~$\\gen{\\place,\\place}$, and let $\\sigma:A\\to A$ be the corresponding\n",
       "Nakayama automorphism. If $\\delta:A\\to A$ is a nilpotent derivation, then\n",
       "  \\[ \n",
       "  \\frac{\\d}{\\d t}\\biggm\\mid_{t=0}\\jac_\\sigma(\\exp(t\\delta))\n",
       "        = \\sigma^{-1}(\\div_\\sigma(\\delta)).\n",
       "  \\]\n",
       "\\end{PropositionIntro}\n",
       "\n",
       "For each $t$ in~$\\kk$ here $\\exp(t\\delta)$ denotes the exponential of the\n",
       "derivation~$t\\delta$: this makes sense because $\\delta$ is nilpotent and\n",
       "$\\kk$ has characteristic zero, and turns out to be given by a polynomial\n",
       "in~$t$. As a consequence of that, $\\jac_\\sigma(\\exp(t\\delta))$ is an\n",
       "$A$-valued polynomial function of~$t$ and, in particular, we can compute\n",
       "its derivative at~$t=0$. This proposition can be extended to the situation\n",
       "of an arbitrary derivation~$\\delta$, provided the field~$\\kk$ has\n",
       "characteristic zero and is complete with respect to some absolute value.\n",
       "\n",
       "\\bigskip\n",
       "\n",
       "Let us finish the introduction of this paper by mentioning one thing that we have \\emph{not}\n",
       "done in it. We looked at consequences of the triviality of the\n",
       "action of the Nakayama automorphism on~$\\HH^0(A)$ and on~$\\HH^1(A)$, and,\n",
       "of course, the next step is to consider what happens when we look\n",
       "at~$\\HH^2(A)$. From this invariants for deformations of the algebra~$A$\n",
       "arise, and doing this was the actual motivation for this whole paper. We\n",
       "expect to write about this elsewhere.\n",
       "\n",
       "On the other hand, we have to remark that the theory developed in this\n",
       "paper is but one of a pair of non-identical twins: we have in preparation a\n",
       "second paper that deals with twisted Calabi-Yau algebras and their modular\n",
       "automorphisms --- which are often also called Nakayama automorphisms --- in\n",
       "which we establish results very similar to those obtained here for them.\n",
       "Dealing with Calabi--Yau algebras is much more complicated than with\n",
       "Frobenius algebras, as doing anything with them requires generous doses of\n",
       "homological algebra, but the results that one obtains, or hopes to obtain,\n",
       "are somewhat deeper. For example, when we go from Frobenius algebras to\n",
       "Calabi-Yau algebras what we stated as\n",
       "Proposition~\\ref{prop:jacobian-conjecture} becomes a statement that\n",
       "includes as a very special case the actual \\emph{Jacobian Conjecture} of\n",
       "Keller, and thus goes from very easy to something we cannot prove.\n",
       "\n",
       "\\bigskip\n",
       "\n",
       "\\noindent\\textbf{Notations.} We will have a ground field~$\\kk$ fixed\n",
       "throughout the paper, and when we talk about vector spaces, linear maps,\n",
       "algebras, tensor products, and so on, without any further qualification, we\n",
       "have the corresponding objects defined over that field in mind. Similarly,\n",
       "we write~$\\otimes$ and~$\\Hom$, without any extra embellishments, to denote\n",
       "those functors taken over~$\\kk$. We write $\\D V$ for the dual space of a\n",
       "vector space~$V$, $f^\\T:\\D W\\to\\D V$ for the transpose of a linear map\n",
       "$f:V\\to W$, and $f^{-\\T}$ for its inverse, in case it exists.\n",
       "\n",
       "Let $\\Lambda$ be an algebra. If $x$ is an element of~$\\Lambda$, then we\n",
       "write $\\ad(x):a\\in\\Lambda\\mapsto xa-ax\\in\\Lambda$ for the inner derivation\n",
       "of~$\\Lambda$ corresponding to~$x$ and, if $x$ is invertible,\n",
       "$\\iota_x:a\\in\\Lambda\\mapsto xax^{-1}\\in\\Lambda$ for the inner automorphism\n",
       "corresponding to~$x$. An automorphism of~$\\Lambda$ is \\emph{central} if it\n",
       "fixes the center~$\\Z(\\Lambda)$ of~$\\Lambda$ pointwise, and a\n",
       "$\\Lambda$-bimodule~$M$ is \\emph{central} if $zm=mz$ whenever\n",
       "$z\\in\\Z(\\Lambda)$ and~$m\\in M$. If $M$ is a left $\\Lambda$-module and\n",
       "$\\alpha:\\Lambda\\to \\Lambda$ is an endomorphism of~$\\Lambda$, then we write\n",
       "${}_\\alpha M$ for the left $\\Lambda$-module which coincides with~$M$ as a\n",
       "vector space and on which the action of~$\\Lambda$ is such that $a\\cdot\n",
       "m=\\alpha(a)m$ for all $a\\in \\Lambda$ and all~$m\\in M$ --- we say ${}_\\alpha\n",
       "M$ is obtained from~$M$ by \\emph{twisting}. We use a similar notation for\n",
       "twists of right modules and of bimodules. Finally, we write\n",
       "$C_\\Lambda^*(M,N)$ for the standard unnormalized Hochschild cochain complex\n",
       "corresponding to two left $\\Lambda$-modules $M$ and~$M$, whose cohomology\n",
       "is canonically isomorphic to~$\\Ext_\\Lambda^*(M,N)$, and\n",
       "$C_{\\Lambda^\\op}^*(M,N)$ and $C_{\\Lambda^e}^*(M,N)$ for the corresponding\n",
       "constructions for \\emph{right} $\\Lambda$-modules $M$ and~$N$ and for\n",
       "$\\Lambda$-\\emph{bi}modules~$M$ and~$N$, respectively. In particular,\n",
       "$C_{\\Lambda^e}^*(\\Lambda,M)$, when $M$ is a $\\Lambda$-bimodule, denotes the\n",
       "standard Hochschild complex whose cohomology is the Hochschild cohomology\n",
       "of~$\\Lambda$ with values in~$M$.\n",
       "\n",
       "For each pair of real numbers~$s$ and~$t$ we put\n",
       "$\\inter{s,t}\\coloneqq\\{n\\in\\ZZ:s\\leq n\\leq t\\}$ and\n",
       "$\\inter{t}\\coloneqq\\inter{1,t}$.\n",
       "\n",
       "%%%%%%%%%%%%%%%%%%%%%%%%%%%%%%%%%%%%%%%%%%%%%%%%%%%%%%%%%%%%%%%%%%%%%%\n",
       "\\section{Frobenius algebras and their Hochschild cohomology}\n",
       "\n",
       "We will present in this section the proof of the main theorem of this\n",
       "paper. We use the first subsection to set up the basic notation that we\n",
       "will use throughout the text, and the second one to describe the action of\n",
       "Nakayama automorphism on the center and on the Lie algebra of derivations\n",
       "of a Frobenius algebra --- we take the time do this separately because it\n",
       "can be done without any cohomological complications, and this has a certain\n",
       "charm, and allows us to ignore boundary cases in the proof of the general\n",
       "case. In Subsection~\\ref{subsect:action} we recall the way automorphisms\n",
       "act on Hochschild cohomology, in Subsection~\\ref{subsect:hh2} we prove the\n",
       "triviality of the action of the Nakayama automorphism on the second\n",
       "Hochschild cohomological space of our algebra so as to illustrate the\n",
       "argument that we will use to take on the general result, and in\n",
       "Subsection~\\ref{subsect:hhx} we complete the proof of the theorem.\n",
       "Following that we describe what can be said about the action of the\n",
       "Nakayama automorphism on Hochschild homology.\n",
       "\n",
       "%%%%%%%%%%%%%%%%%%%%%%%%%%%%%%%%%%%%%%%%%%%%%%%%%%%%%%%%%%%%%%%%%%%%%%\n",
       "\\subsection{Frobenius algebras}%\n",
       "\\label{subsect:frobenius}\n",
       "\n",
       "Let $A$ be a \\newterm{Frobenius algebra}, that is, a finite-dimensional\n",
       "algebra endowed with a fixed choice of a non-degenerate bilinear form\n",
       "$\\gen{\\place,\\place}:A\\times A\\to\\kk$ that is \\newterm{associative}, so\n",
       "that\n",
       "  \\[\n",
       "  \\gen{ab,c} = \\gen{a,bc}\n",
       "  \\]\n",
       "for all choices of~$a$,~$b$, and~$c$ in~$A$. There is then a unique linear\n",
       "map $\\sigma:A\\to A$ such that\n",
       "  \\[ \\label{eq:sigma}\n",
       "  \\gen{a,b} = \\gen{b,\\sigma(a)}\n",
       "  \\]\n",
       "for all~$a$ and~$b$ in~$A$, and it is an algebra automorphism: it is the\n",
       "\\newterm{Nakayama automorphism} of~$A$ with respect to the bilinear\n",
       "form~$\\gen{\\place,\\place}$. Similarly, there is a unique linear map\n",
       "$\\beta:A\\to\\D A$ that for all $a$ and~$b$ in~$A$ has\n",
       "  \\[\n",
       "  \\beta(a)(b) = \\gen{a,b},\n",
       "  \\]\n",
       "it is bijective, and for all $a$ and~$b$ in~$A$ has\n",
       "  \\[\n",
       "  \\beta(ab) = \\sigma(a)\\beta(b),\n",
       "  \\qquad\n",
       "  \\beta(ab) = \\beta(a)b.\n",
       "  \\]\n",
       "These last two identities tell us that the map $\\beta:A\\to {}_\\sigma\\D A$\n",
       "is a map of $A$-bimodules, and as a consequence of the first of them we\n",
       "also have that\n",
       "  \\[\n",
       "  \\beta^{-1}(ab) = \\sigma^{-1}(a)\\beta^{-1}(b)\n",
       "  \\]\n",
       "for all $a$ and~$b$ in~$A$. In most of what follows we will use these\n",
       "notations.\n",
       "\n",
       "\\bigskip\n",
       "\n",
       "The bilinear form~$\\gen{\\place,\\place}$ is not uniquely determined by the\n",
       "algebra~$A$, except in trivial situations. Let us recall how this is\n",
       "reflected in the rest of the structure.\n",
       "\n",
       "\\begin{Lemma}\\label{lemma:change}\n",
       "Let $\\gen{\\place,\\place}$,~$\\gen{\\place,\\place}':A\\times A\\to\\kk$ be two\n",
       "non-degenerate and associative bilinear forms on~$A$, and let\n",
       "$\\sigma$,~$\\sigma':A\\to A$ be corresponding Nakayama automorphisms.\n",
       "\\begin{thmlist}\n",
       "\n",
       "\\item There is a unit~$t$ in~$A$ such that \n",
       "  \\(\n",
       "  \\gen{a,b}' = \\gen{a,bt}\n",
       "  \\)\n",
       "for all $a$ and~$b$ in~$A$, and we have that\n",
       "  \\(\n",
       "  \\sigma'(a) = t\\sigma(a)t^{-1}\n",
       "  \\)\n",
       "for all~$a\\in A$. \n",
       "\n",
       "\\item A unit $s$ in~$A$ is such that $\\gen{a,b}'=\\gen{a,bs}$ for all $a$\n",
       "and~$b$ in~$A$ if and only if~$st^{-1}$ belongs to the center of~$A$.\n",
       "\n",
       "\\end{thmlist}\n",
       "\\end{Lemma}\n",
       "\n",
       "\\begin{proof}\n",
       "The two bilinear forms determine two isomorphisms of $A$-bimodules\n",
       "$\\beta:A\\to{}_\\sigma\\D A$ and~$\\beta':A\\to{}_{\\sigma'}\\D A$, and the\n",
       "composition $\\beta^{-1}\\circ\\beta':A\\to A$ is an isomorphism of right\n",
       "$A$-modules. As the map~$\\sigma$ is an automorphism of~$A$, there is then a\n",
       "unique unit~$t$ in~$A$ such that $\\beta^{-1}(\\beta'(a))=\\sigma(t)a$ for\n",
       "all~$a\\in A$. This equality implies that for all $a$ and all~$b$ in~$A$ we\n",
       "have\n",
       "  \\[\n",
       "  \\gen{a,b}' \n",
       "        = \\beta'(a)(b) \n",
       "        = \\beta(\\sigma(t)a)(b)\n",
       "        = \\gen{\\sigma(t)a,b}\n",
       "        = \\gen{a,bt}.\n",
       "  \\]\n",
       "Similarly, for each $a$ in~$A$ we have that\n",
       "  \\[\n",
       "  \\sigma(t)a\n",
       "        = \\beta^{-1}(\\beta'(a))\n",
       "        = \\beta^{-1}(\\sigma'(a)\\beta'(1))\n",
       "        = \\sigma^{-1}(\\sigma'(a))\\beta^{-1}(\\beta'(1))\n",
       "        = \\sigma^{-1}(\\sigma'(a))\\sigma(t),\n",
       "  \\]\n",
       "so that $t\\sigma(a)t^{-1}=\\sigma'(a)$. This proves part~\\thmitem{1} of the\n",
       "lemma. On the other hand, if $s$ is another unit of~$A$ such that\n",
       "$\\gen{a,b}'=\\gen{a,bs}$ for all~$a$ and~$b$ in~$A$, then as before we also\n",
       "have that $\\sigma'(a)=s\\sigma(a)s^{-1}$ for all~$a\\in A$, so that\n",
       "  \\[\n",
       "  \\sigma(a) \n",
       "        = s^{-1}\\sigma'(a)s \n",
       "        = s^{-1}t\\sigma(a)t^{-1}s\n",
       "  \\]\n",
       "and, since $\\sigma$ is of course surjective, we see that $t^{-1}s$ is\n",
       "central in~$A$, as part~\\thmitem{2} claims.\n",
       "\\end{proof}\n",
       "\n",
       "It follows from part~\\thmitem{1} of this lemma that\n",
       "$\\sigma'=\\iota_t\\circ\\sigma$, with $\\iota_t:a\\in A\\mapsto tat^{-1}\\in A$\n",
       "the inner automorphism of~$A$ determined by the unit~$t$, so that the\n",
       "classes of $\\sigma'$ and~$\\sigma$ in the outer automorphism group~$\\Out(A)$\n",
       "coincide. The class of~$\\sigma$ there therefore depends only on the\n",
       "algebra~$A$. In this way we obtain an invariant of the algebra~$A$, an\n",
       "element of~$\\Out(A)$: it is the first and simplest of a series of\n",
       "invariants of the same nature, as we will see later.\n",
       "\n",
       "%%%%%%%%%%%%%%%%%%%%%%%%%%%%%%%%%%%%%%%%%%%%%%%%%%%%%%%%%%%%%%%%%%%%%%\n",
       "\\subsection{The action on central elements and derivations}%\n",
       "\\label{subsect:hh01}\n",
       "\n",
       "The following observation was made by Masaru Osima in~\\cite{Osima:1}:\n",
       "\n",
       "\\begin{Proposition}\\label{prop:sigma:central}\n",
       "The action of the Nakayama automorphism of~$A$ on the\n",
       "center~$\\Z(A)$ of~$A$ is trivial.\n",
       "\\end{Proposition}\n",
       "\n",
       "In~\\cite{Osima:1} Osima proves this using the method of parastrophic\n",
       "matrices. The following proof is simply a rephrasing of his in more modern\n",
       "language.\n",
       "\n",
       "\\begin{proof}\n",
       "If $z$ is a central element in~$A$, then for all $a$ in~$A$ we have that\n",
       "  \\[\n",
       "  \\beta(a)(z)\n",
       "         = (\\beta(a)z)(1)\n",
       "         = \\beta(az)(1)\n",
       "         = \\beta(za)(1)\n",
       "         = (\\sigma(z)\\beta(a))(1) \n",
       "         = \\beta(a)(\\sigma(z))\n",
       "  \\]\n",
       "and, since the function~$\\beta$ is surjective, this implies that\n",
       "$z=\\sigma(z)$.\n",
       "\\end{proof}\n",
       "\n",
       "Let $\\alpha:A\\to A$ be an automorphism of~$A$. If $\\delta:A\\to A$ is a\n",
       "derivation of~$A$, then the map\n",
       "  \\[\n",
       "  \\delta^\\alpha\\coloneqq\\alpha\\circ\\delta\\circ\\alpha^{-1}:A\\to A\n",
       "  \\]\n",
       "is also a derivation of~$A$. The function \n",
       "  \\[\n",
       "  \\alpha^\\sharp : \\delta\\in\\Der(A) \\mapsto \\delta^\\alpha \\in \\Der(A)\n",
       "  \\]\n",
       "that we obtain in this way is an automorphism of the Lie algebra~$\\Der(A)$\n",
       "that preserves the ideal~$\\InnDer(A)$ of inner derivations and that\n",
       "therefore induces an automorphism\n",
       "  \\[\n",
       "  \\alpha^\\sharp : \\HH^1(A) \\to \\HH^1(A)\n",
       "  \\]\n",
       "of the Lie algebra\n",
       "  \\[\n",
       "  \\HH^1(A) \\coloneqq \\Der(A) / \\InnDer(A)\n",
       "  \\]\n",
       "of outer derivations of~$A$ or, equivalently, on the first Hochschild\n",
       "cohomology of~$A$. In this way we obtain a function\n",
       "$\\alpha\\in\\Aut(A)\\mapsto\\Aut(\\HH^1(A))$ that is a morphism of groups and,\n",
       "therefore, an action of~$\\Aut(A)$ on the Lie algebra~$\\HH^1(A)$.\n",
       "\n",
       "In general, that action is non-trivial, and that is why the following\n",
       "result --- which we can view as an «infinitesimal» version of Osima's\n",
       "result above --- is remarkable.\n",
       "\n",
       "\\begin{Proposition}\n",
       "The action of~$\\sigma$ on~$\\HH^1(A)$ is trivial.\n",
       "\\end{Proposition}\n",
       "\n",
       "\\begin{proof}\n",
       "Let $\\delta:A\\to A$ be a derivation of~$A$, and let $\\delta^\\T:\\D A\\to\\D A$\n",
       "be the transposed map, so that \n",
       "  \\(\n",
       "  \\delta^\\T(\\lambda)(a) = \\lambda(\\delta(a))\n",
       "  \\)\n",
       "for all~$\\lambda\\in\\D A$ and all $a\\in A$. A little calculation shows that\n",
       "  \\[\n",
       "  \\delta^\\T(a\\lambda) = a\\delta^\\T(\\lambda) - \\delta(a)\\lambda,\n",
       "  \\qquad\n",
       "  \\delta^\\T(\\lambda a) = \\delta^\\T(\\lambda)a - \\lambda\\delta(a)\n",
       "  \\]\n",
       "for all $\\lambda\\in\\D A$ and all~$a\\in A$. In the language\n",
       "of~\\cite{MSA:Bit}, these identities tell us that the map~$\\delta^\\T$ is a\n",
       "left and right $(-\\delta)$-operator on~$\\D{A}$.\n",
       "\n",
       "We have the bijective linear map~$\\beta:A\\to\\D A$ that we defined above,\n",
       "and we can therefore consider the map\n",
       "  \\[\n",
       "  \\phi \\coloneqq \\beta^{-1}\\circ\\delta^\\T\\circ\\beta + \\delta : A\\to A.\n",
       "  \\]\n",
       "If $a$ and~$b$ are elements of~$A$, then\n",
       "  \\begin{align}\n",
       "  \\phi(a\\cdot b) \n",
       "       &= \\beta^{-1}(\\delta^\\T(\\beta(a\\cdot b)))\n",
       "          + \\delta(a\\cdot b) \\\\\n",
       "       &= \\beta^{-1}(\\delta^\\T(\\beta(a)\\cdot b))\n",
       "          + a\\cdot\\delta(b) + \\delta(a)\\cdot b \\\\\n",
       "       &= \\beta^{-1}(\\delta^\\T(\\beta(a))\\cdot b - \\beta(a)\\cdot\\delta(b))\n",
       "          + a\\cdot\\delta(b) + \\delta(a)\\cdot b \\\\\n",
       "       &= \\beta^{-1}(\\delta^\\T(\\beta(a)))\\cdot b - a\\cdot\\delta(b)\n",
       "          + a\\cdot\\delta(b) + \\delta(a)\\cdot b \\\\\n",
       "       &= \\phi(a)\\cdot b.\n",
       "  \\end{align}\n",
       "This tells us that the map~$\\phi$ is right $A$-linear, and thus that the\n",
       "element \n",
       "  \\[\n",
       "  x\\coloneqq\\phi(1)=\\beta^{-1}(\\delta^\\T(\\beta(1)))\n",
       "  \\]\n",
       "of~$A$ is such that $\\phi(a)=xa$ for all~$a\\in A$. In particular, for every\n",
       "$a$ in~$A$ we have that\n",
       "  \\begin{align}\n",
       "  x\\cdot a \n",
       "       &= \\phi(a\\cdot 1) \\\\\n",
       "       &= \\beta^{-1}(\\delta^\\T(\\beta(a\\cdot 1)))\n",
       "          + \\delta(a) \\\\\n",
       "       &= \\beta^{-1}(\\delta^\\T(\\sigma(a)\\cdot \\beta(1)))\n",
       "          + \\delta(a) \\\\\n",
       "       &= \\beta^{-1}(\\sigma(a)\\cdot \\delta^\\T(\\beta(1))\n",
       "                     - \\delta(\\sigma(a))\\cdot \\beta(1))\n",
       "          + \\delta(a) \\\\\n",
       "       &= a\\cdot \\beta^{-1}(\\delta^\\T(\\beta(1)))\n",
       "          - \\sigma^{-1}(\\delta(\\sigma(a)))\n",
       "          + \\delta(a) \\\\\n",
       "       &= a\\cdot x\n",
       "          - \\delta^{\\sigma^{-1}}(a)+\\delta(a),\n",
       "  \\end{align} \n",
       "and this means that the difference~$\\delta-\\delta^{\\sigma^{-1}}$ is equal\n",
       "to~$\\ad(x)$, an inner derivation, so that the classes of~$\\delta$\n",
       "and~$\\delta^{\\sigma^{-1}}$ in~$\\HH^1(A)$ are equal. The claim of the\n",
       "proposition follows immediately from this.\n",
       "\\end{proof}\n",
       "\n",
       "%%%%%%%%%%%%%%%%%%%%%%%%%%%%%%%%%%%%%%%%%%%%%%%%%%%%%%%%%%%%%%%%%%%%%%\n",
       "\\subsection{The action on Hochschild cohomology}%\n",
       "\\label{subsect:action}\n",
       "\n",
       "An automorphism of an algebra~$A$ restricts to the center~$\\Z(A)$ and, as\n",
       "we saw in the previous section, acts in a certain natural way on the Lie\n",
       "algebra~$\\Der(A)$ of derivations of~$A$ and its quotient~$\\HH^1(A)$. In\n",
       "fact, automorphisms of~$A$ act in a canonical way on the whole Hochschild\n",
       "cohomology~$\\HH^*(A)$ of~$A$. Our objective here is to recall the\n",
       "construction of this action, for we will need them.\n",
       "\n",
       "\\bigskip\n",
       "\n",
       "Let $\\Lambda$ be any algebra, and let $\\alpha:\\Lambda\\to \\Lambda$ be an\n",
       "automorphism of~$\\Lambda$. If $M$ is a left $\\Lambda$-module, we write\n",
       "${}_\\alpha M$ for the left $\\Lambda$-module that coincides with~$M$ as a\n",
       "vector space and on which $\\Lambda$ acts so that $a\\cdot m=\\alpha(a)m$ for\n",
       "all $a\\in \\Lambda$ and all $m\\in M$ --- we say that ${}_\\alpha M$ is\n",
       "obtained from~$M$ by \\newterm{twisting} it by~$\\alpha$. Of course, there is\n",
       "a similar construction on right modules and on bimodules, and in this way\n",
       "we obtain exact endofunctors of the various categories of (bi)modules that\n",
       "act as the identity on morphisms.\n",
       "\n",
       "Let now $\\epsilon:P\\to \\Lambda$ be a projective resolution of~$\\Lambda$ as\n",
       "a $\\Lambda$-bimodule. The map $\\epsilon:{}_{\\alpha}\n",
       "P_{\\alpha}\\to{}_{\\alpha} \\Lambda_{\\alpha}$ is then a projective resolution\n",
       "of~${}_{\\alpha} \\Lambda_{\\alpha}$ as an $\\Lambda$-bimodule, and the map\n",
       "$\\alpha^{-1}:{}_{\\alpha} \\Lambda_\\alpha \\to \\Lambda$ is an isomorphism of\n",
       "$\\Lambda$-bimodules, so there is a morphism\n",
       "$(\\alpha^{-1})_P:{}_{\\alpha}P_{\\alpha}\\to P$ of complexes\n",
       "$\\Lambda$-bimodules that makes the square\n",
       "  \\[\n",
       "  \\begin{tikzcd}\n",
       "  {}_{\\alpha} P_{\\alpha} \\arrow[r, \"\\epsilon\"] \\arrow[d, swap, \"(\\alpha^{-1})_P\"]\n",
       "    & {}_{\\alpha} \\Lambda_{\\alpha} \\arrow[d, \"\\alpha^{-1}\"]\n",
       "    \\\\\n",
       "  P \\arrow[r, \"\\epsilon\"] \n",
       "    & \\Lambda \n",
       "  \\end{tikzcd}\n",
       "  \\]\n",
       "commute. As the map $\\alpha:\\Lambda\\to{}_\\alpha \\Lambda_\\alpha$ is also a\n",
       "map of $\\Lambda$-bimodules, we can consider the composition\n",
       "  \\[\n",
       "  \\alpha^\\sharp_P:\n",
       "  \\begin{tikzcd}\n",
       "  \\Hom_{\\Lambda^e}(P,\\Lambda) \n",
       "        \\arrow[r, \"\\alpha_*\\circ(\\alpha^{-1})_P^*\"] \n",
       "  &[2.5em] \\Hom_{\\Lambda^e}({}_{\\alpha} P_{\\alpha},{}_\\alpha \\Lambda_\\alpha) \n",
       "        \\arrow[r, equal]\n",
       "  &[-1em] \\Hom_{\\Lambda^e}(P,\\Lambda) \n",
       "  \\end{tikzcd}\n",
       "  \\]\n",
       "It is easy to check that the homotopy type of~$\\alpha^\\sharp_P$ does not\n",
       "depend on the choice of the morphism of complexes~$\\alpha_P$. Furthermore,\n",
       "if $\\eta:Q\\to \\Lambda$ is another projective resolution of~$\\Lambda$ as an\n",
       "$\\Lambda$-bimodule,\n",
       "$\\alpha^\\sharp_Q:\\Hom_{\\Lambda^e}(Q,\\Lambda)\\to\\Hom_{\\Lambda^e}(Q,\\Lambda)$\n",
       "is the map that we obtain in this way from a choice of a lifting\n",
       "$(\\alpha^{-1})_Q: {}_{\\alpha}Q_{\\alpha}\\to Q$ as above, and $\\phi:Q\\to P$\n",
       "is any morphism of complexes such that $\\epsilon\\circ\\phi=\\eta$, then the\n",
       "square \n",
       "  \\[\n",
       "  \\begin{tikzcd}\n",
       "  \\Hom_{\\Lambda^e}(P,\\Lambda) \\arrow[r, \"\\alpha^\\sharp_P\"]\n",
       "        \\arrow[d, swap, \"\\phi^*\"]\n",
       "    & \\Hom_{\\Lambda^e}(P,\\Lambda) \n",
       "        \\arrow[d, \"\\phi^*\"]\n",
       "    \\\\\n",
       "  \\Hom_{\\Lambda^e}(Q,\\Lambda) \\arrow[r, \"\\alpha^\\sharp_Q\"]\n",
       "    & \\Hom_{\\Lambda^e}(Q,\\Lambda) \n",
       "  \\end{tikzcd}\n",
       "  \\]\n",
       "commutes up to homotopy. All this implies, as usual, that the\n",
       "map~$\\alpha^\\sharp_P$ induces on cohomology a map\n",
       "  \\[\n",
       "  \\alpha^\\sharp:\n",
       "        \\Ext_{\\Lambda^e}^*(\\Lambda,\\Lambda) \n",
       "        \\to \n",
       "        \\Ext_{\\Lambda^e}^*(\\Lambda,\\Lambda)\n",
       "  \\]\n",
       "that is in fact completely determined by~$\\alpha$, and in this way we\n",
       "obtain a morphism of groups\n",
       "  \\[\n",
       "  \\alpha\\in\\Aut(\\Lambda) \\mapsto \\alpha^\\sharp \\in \\Aut(\\HH^*(\\Lambda))\n",
       "  \\]\n",
       "giving a canonical action of~$\\Aut(\\Lambda)$ on~$\\HH^*(\\Lambda)$ as a\n",
       "graded vector space. In fact, this action respects the Gerstenhaber\n",
       "structure on~$\\HH^*(\\Lambda)$: it is easy to check this if we compute the\n",
       "maps~$\\alpha^\\sharp$ using the standard bimodule resolution of~$\\Lambda$.\n",
       "When we do so, we moreover see that if $p$ is a non-negative integer and\n",
       "$c:\\Lambda^{\\otimes p}\\to \\Lambda$ is a Hochschild $p$-cocycle representing\n",
       "a class~$c\\in\\HH^p(\\Lambda)$, then the class~$\\alpha^\\sharp(c)$ is\n",
       "represented by the unique cocycle $c^\\alpha:\\Lambda^{\\otimes p}\\to \\Lambda$\n",
       "such that\n",
       "  \\[\n",
       "  c^\\alpha(a_1\\otimes\\cdots\\otimes a_p)\n",
       "        = \\alpha(c(\\alpha^{-1}(a_1)\\otimes\\cdots\\otimes\\alpha^{-1}(a_p)))\n",
       "  \\]\n",
       "for all choices of~$a_1$,~\\dots,~$a_p$ in~$\\Lambda$. This tells us, in\n",
       "particular, that the canonical action of~$\\Aut(A)$\n",
       "on~$\\HH^0(\\Lambda)=\\Z(\\Lambda)$ and on~$\\HH^1(\\Lambda)$ that we are\n",
       "describing here is precisely the one that we used in the previous section,\n",
       "which is reassuring.\n",
       "\n",
       "\\bigskip\n",
       "\n",
       "The action of the subgroup~$\\Inn(A)$ of inner automorphisms of~$A$\n",
       "on~$\\HH^*(A)$ is trivial, so what we in fact have is an action of the outer\n",
       "automorphism group of~$A$ on that cohomology. In particular, when $A$ is a\n",
       "Frobenius algebra we have a well-determined automorphism of~$\\HH^*(A)$\n",
       "induced by any of its Nakayama automorphisms, as all of them have the same\n",
       "outer class.\n",
       "\n",
       "%%%%%%%%%%%%%%%%%%%%%%%%%%%%%%%%%%%%%%%%%%%%%%%%%%%%%%%%%%%%%%%%%%%%%%\n",
       "\\subsection{The action on~\\texorpdfstring{$\\HH^2(A)$}{HH\\^{}2(A)}}%\n",
       "\\label{subsect:hh2}\n",
       "\n",
       "Let us go back to the situation of Subsection~\\ref{subsect:frobenius}. We\n",
       "let $f:A\\otimes A\\to A$ be a Hochschild $2$-cocycle on~$A$ and consider the\n",
       "map\n",
       "  \\[\n",
       "  f^\\T : \\D A\\otimes A\\to\\D A\n",
       "  \\]\n",
       "such that\n",
       "  \\[\n",
       "  f^\\T(\\lambda\\otimes a)(b) = \\lambda(f(a\\otimes b))\n",
       "  \\]\n",
       "whenever $\\lambda\\in\\D A$ and $a$,~$b\\in A$. This map $f^\\T$ is\n",
       "a~$1$-cochain in the standard complex \n",
       "  \\[\n",
       "  C_{A^\\op}^*(\\D A,\\D A) \\coloneqq \\Hom_{A^\\op}(\\D A\\otimes A^{\\otimes *},\\D A)\n",
       "  \\]\n",
       "that computes~$\\Ext_{A^\\op}^*(\\D A,\\D A)$, and we can describe its\n",
       "coboundary.\n",
       "\n",
       "\\begin{Lemma}\n",
       "We have that $df^\\T = \\id_{\\D A}\\smile f$.\n",
       "\\end{Lemma}\n",
       "\n",
       "Here $d$ is the differential of $C_{A^\\op}^*(\\D A,\\D A)$ and $\\smile$ is\n",
       "the classical cup product\n",
       "  \\[\n",
       "  C_{A^\\op}^*(\\D A,\\D A) \\otimes \\Hom_{A^e}(A^{\\otimes *+1},A)\n",
       "        \\to C_{A^\\op}^*(\\D A,\\D A)\n",
       "  \\]\n",
       "that computes the right action\n",
       "  \\[\n",
       "  \\Ext_{A^\\op}^*(\\D A,\\D A)\\otimes\\HH^*(A)\n",
       "        \\to \\Ext_{A^\\op}^*(\\D A,\\D A)\n",
       "  \\]\n",
       "of the Hochschild cohomology~$\\HH^*(A)$ on~$\\Ext_{A^\\op}^*(\\D A,\\D A)$.\n",
       "\n",
       "\\begin{proof}\n",
       "Let $a$ and~$b$ be elements of~$A$ and let $\\lambda$ be an element of~$\\D\n",
       "A$. Since $f$ is a Hochschild $2$-cocycle, for all $c\\in A$ we have that\n",
       "  \\[\n",
       "  0 = af(b\\otimes c) - f(ab\\otimes c) + f(a\\otimes bc) - f(a\\otimes b)c,\n",
       "  \\]\n",
       "so that\n",
       "  \\begin{align}\n",
       "  0 \n",
       "    &= \\lambda(af(b\\otimes c)) - \\lambda(f(ab\\otimes c)) \n",
       "       + \\lambda(f(a\\otimes bc)) - \\lambda(f(a\\otimes b)c) \\\\\n",
       "    &= (\\lambda a)(f(b\\otimes c)) - \\lambda(f(ab\\otimes c)) \n",
       "       + \\lambda(f(a\\otimes bc)) - (\\lambda f(a\\otimes b))(c) \\\\\n",
       "    &= f^\\T(\\lambda a\\otimes b)(c) - f^\\T(\\lambda\\otimes ab)(c)\n",
       "       + (f^\\T(\\lambda\\otimes a)b)(c) - (\\lambda f(a\\otimes b))(c),\n",
       "  \\end{align}\n",
       "and this means us that\n",
       "  \\begin{align}\n",
       "  0 &= f^\\T(\\lambda a\\otimes b) - f^\\T(\\lambda\\otimes ab)\n",
       "       + f^\\T(\\lambda\\otimes a)b - \\lambda f(a\\otimes b) \\\\\n",
       "    &= df^\\T(\\lambda\\otimes a\\otimes b) \n",
       "        - (\\id_{\\D A}\\smile f)(\\lambda\\otimes a\\otimes b),\n",
       "  \\end{align}\n",
       "which is precisely what the lemma claims.\n",
       "\\end{proof}\n",
       "\n",
       "The map $\\beta:A\\to\\D A$ is an isomorphism of left $A$-modules, so we can\n",
       "consider the composition\n",
       "  \\[\n",
       "  \\beta^{-1}\\circ f^\\T\\circ\\beta\\otimes\\id_A:\n",
       "  \\underline A\\otimes A\\to \\underline A.\n",
       "  \\]\n",
       "This is a $1$-cochain in the complex $C_{A^{\\op}}^*(A,A)$ that\n",
       "computes~$\\Ext_{A^\\op}^*(A,A)$ --- we have underlined the appearances\n",
       "of~$A$ that play the role of the right $A$-modules that are arguments of\n",
       "the $\\Ext$. It is an immediate consequence of the lemma that we have just\n",
       "proved and of the naturality of the differentials that\n",
       "  \\begin{align}\n",
       "  d(\\beta^{-1}\\circ f^\\T\\circ\\beta\\otimes\\id_A)\n",
       "        &= \\beta^{-1}\\circ df^\\T\\circ\\beta\\otimes\\id_A\\otimes\\id_A \\\\\n",
       "        &= \\beta^{-1}\n",
       "                \\circ (\\id_{\\D A}\\smile f)\n",
       "                \\circ\\beta\\otimes\\id_{A}\\otimes\\id_{A} \\\\\n",
       "        &= \\id_{A}\\smile f.\n",
       "  \\end{align}\n",
       "On the other hand, if we view the Hochschild $2$-cocycle~$f:A\\otimes A\\to\n",
       "A$, which is an element of~$C_{A^e}^2(A,A)$, as an element\n",
       "of~$C_{A^\\op}^1(A,A)$, then we have the relation\n",
       "  \\[\n",
       "  df = \\id_A\\smile f,\n",
       "  \\]\n",
       "precisely because it is a cocycle, and this implies, of course, that the\n",
       "difference\n",
       "  \\[\n",
       "  f - \\beta^{-1}\\circ f^\\T\\circ\\beta\\otimes\\id_{A} : \n",
       "        \\underline A\\otimes A\n",
       "        \\to \\underline A\n",
       "  \\]\n",
       "is a $1$-cocycle. As $\\Ext_{A^\\op}^1(A,A)$ vanishes, this $1$-cocycle is a\n",
       "coboundary, and this means that there is an element~$g:A\\to A$\n",
       "of~$C_{A^\\op}^0(A,A)$ such that\n",
       "  \\[\n",
       "  f - \\beta^{-1}\\circ f^\\T\\circ\\beta\\otimes\\id_{A} \n",
       "        = dg.\n",
       "  \\]\n",
       "In other words, the map~$g$ is such that\n",
       "  \\[\n",
       "  f(a\\otimes b) - \\beta^{-1}(f^\\T(\\beta(a)\\otimes b)) \n",
       "        = g(ab) - g(a)b\n",
       "  \\]\n",
       "for all~$a$ and~$b$ in~$A$ or, equivalently, since the map~$\\beta$ is\n",
       "bijective and right $A$-linear, that\n",
       "  \\[\n",
       "  \\beta(f(a\\otimes b)) - f^\\T(\\beta(a)\\otimes b) \n",
       "        = \\beta(g(ab)) - \\beta(g(a))b.\n",
       "  \\]\n",
       "This is an equality of two elements of~$\\D A$, and it means that for all\n",
       "$c\\in A$ we have that\n",
       "  \\[\n",
       "  \\beta(f(a\\otimes b))(c) - f^\\T(\\beta(a)\\otimes b)(c) \n",
       "        = \\beta(g(ab))(c) - (\\beta(g(a))b)(c),\n",
       "  \\]\n",
       "so that, in fact,\n",
       "  \\[ \\label{eq:twist}\n",
       "  \\gen{f(a\\otimes b),c} \n",
       "        = \\gen{a,f(b\\otimes c)} + \\gen{g(ab),c} - \\gen{g(a),bc}.\n",
       "  \\]\n",
       "This is the key observation in this proof.\n",
       "\n",
       "We consider now the map\n",
       "  \\[\n",
       "  f^\\sigma\\coloneqq\\sigma\\circ f\\circ\\sigma^{-1}\\otimes\\sigma^{-1}:\n",
       "        A\\otimes A\n",
       "        \\to A,\n",
       "  \\]\n",
       "which is an element of~$C_{A^e}^2(A,A)$, and carry out --- using repeatedly\n",
       "the identities in~\\eqref{eq:sigma} and in~\\eqref{eq:twist} --- the\n",
       "following fun calculation:\n",
       "  \\begin{align}\n",
       "  \\gen{c,f^\\sigma(a\\otimes b)} \n",
       "    &= \\gen{c,\\sigma(f(\\sigma^{-1}(a)\\otimes\\sigma^{-1}(b)))} \\\\\n",
       "    &= \\gen{f(\\sigma^{-1}(a)\\otimes\\sigma^{-1}(b)),c} \\\\\n",
       "    &= \\begin{lgathered}[t]\n",
       "       \\gen{\\sigma^{-1}(a),f(\\sigma^{-1}(b)\\otimes c)} \\\\\n",
       "       \\qquad\n",
       "       {}+ \\gen{g(\\sigma^{-1}(a)\\sigma^{-1}(b)),c}\n",
       "       - \\gen{g(\\sigma^{-1}(a)),\\sigma^{-1}(b)c}\n",
       "       \\end{lgathered}\n",
       "       \\\\\n",
       "    &= \\begin{lgathered}[t]\n",
       "       \\gen{f(\\sigma^{-1}(b)\\otimes c),a} \\\\\n",
       "       \\qquad\n",
       "       {}+ \\gen{g(\\sigma^{-1}(a)\\sigma^{-1}(b)),c}\n",
       "       - \\gen{g(\\sigma^{-1}(a)),\\sigma^{-1}(b)c}\n",
       "       \\end{lgathered}\n",
       "       \\\\\n",
       "    &= \\begin{lgathered}[t]\n",
       "       \\gen{\\sigma^{-1}(b),f(c\\otimes a)} \\\\\n",
       "       \\qquad {}+ \\gen{g(\\sigma^{-1}(a)\\sigma^{-1}(b)),c}\n",
       "       - \\gen{g(\\sigma^{-1}(a)),\\sigma^{-1}(b)c} \\\\\n",
       "       \\qquad {}+\\gen{g(\\sigma^{-1}(b)c),a}\n",
       "       - \\gen{g(\\sigma^{-1}(b)), ca}\n",
       "       \\end{lgathered}\n",
       "       \\\\\n",
       "    &= \\begin{lgathered}[t]\n",
       "       \\gen{f(c\\otimes a),b} \\\\\n",
       "       \\qquad {}+ \\gen{g(\\sigma^{-1}(a)\\sigma^{-1}(b)),c}\n",
       "       - \\gen{g(\\sigma^{-1}(a)),\\sigma^{-1}(b)c} \\\\\n",
       "       \\qquad {}+\\gen{g(\\sigma^{-1}(b)c),a}\n",
       "       - \\gen{g(\\sigma^{-1}(b)), ca}\n",
       "       \\end{lgathered}\n",
       "       \\\\\n",
       "    &= \\begin{lgathered}[t]\n",
       "       \\gen{c,f(a\\otimes b)} \\\\\n",
       "       \\qquad {}+ \\gen{g(\\sigma^{-1}(a)\\sigma^{-1}(b)),c}\n",
       "       - \\gen{g(\\sigma^{-1}(a)),\\sigma^{-1}(b)c} \\\\\n",
       "       \\qquad {}+\\gen{g(\\sigma^{-1}(b)c),a}\n",
       "       - \\gen{g(\\sigma^{-1}(b)), ca} \\\\\n",
       "       \\qquad {}+\\gen{g(ca),b}\n",
       "       - \\gen{g(c),ab}. \\label{eq:w0}\n",
       "       \\end{lgathered}\n",
       "  \\end{align}\n",
       "If we put\n",
       "  \\[\n",
       "  g^\\sigma \\coloneqq \\sigma\\circ g\\circ \\sigma^{-1} : \n",
       "        A\n",
       "        \\to A,\n",
       "  \\]\n",
       "viewed as an element of~$C_{A^e}^1(A,A)$, then what we have found is that\n",
       "  \\begin{align}\n",
       "  \\gen{c,dg^\\sigma(a\\otimes b)}\n",
       "        &= \\gen{c,ag^\\sigma(b)} \n",
       "           - \\gen{a,g^\\sigma(ab)} \n",
       "           + \\gen{c,g^\\sigma(a)b} \\\\\n",
       "        &= \\gen{g(\\sigma^{-1}(b)), ca}\n",
       "           - \\gen{g(\\sigma^{-1}(a)\\sigma^{-1}(b)),c}\n",
       "           + \\gen{g(\\sigma^{-1}(a)),\\sigma^{-1}(b)c}.\n",
       "           \\label{eq:w1}\n",
       "  \\end{align}\n",
       "On the other hand, since the bilinear form~$\\gen{\\place,\\place}:A\\times\n",
       "A\\to\\kk$ is non-degenerate, there is a unique linear map $g^*:A\\to A$ such\n",
       "that\n",
       "  \\[\n",
       "  \\gen{g(x),y} \n",
       "        = \\gen{x,g^*(y)}\n",
       "  \\]\n",
       "for all $x$ and~$y$ in~$A$, and if we also view it as an element\n",
       "of~$C_{A^e}^1(A,A)$, then\n",
       "  \\begin{align}\n",
       "  \\gen{c,dg^*(a\\otimes b)}\n",
       "        &= \\gen{c,ag^*(b)} \n",
       "           - \\gen{a,g^*(ab)} \n",
       "           + \\gen{c,g^*(a)b} \\\\\n",
       "        &= \\gen{g(ca),b}\n",
       "           - \\gen{g(c),ab}\n",
       "           + \\gen{g(\\sigma^{-1}(b)c),a}.\n",
       "           \\label{eq:w2}\n",
       "  \\end{align}\n",
       "Using this equality and that of~\\eqref{eq:w1}, and going back\n",
       "to~\\eqref{eq:w0}, we see that for all choices of~$a$,~$b$ and~$c$ in~$A$ we\n",
       "have that\n",
       "  \\[\n",
       "  \\gen{c,f^\\sigma(a\\otimes b)} \n",
       "        = \\gen{c,f(a\\otimes b)+dg^\\sigma(a\\otimes b)+dg^*(a\\otimes b)}.\n",
       "  \\]\n",
       "The non-degeneracy of the bilinear form then allows us to conclude,\n",
       "finally, that\n",
       "  \\[\n",
       "  f^\\sigma(a\\otimes b)\n",
       "        = f(a\\otimes b)+dg^\\sigma(a\\otimes b)+dg^*(a\\otimes b)\n",
       "  \\]\n",
       "for all~$a$ and~$b$ in~$A$, so that\n",
       "  \\[\n",
       "  f^\\sigma - f \n",
       "        = dg^\\sigma + dg^*.\n",
       "  \\]\n",
       "As the class of the $2$-cocycle~$f^\\sigma$ is none other than the image of\n",
       "that of~$f$ by the map~$\\sigma^\\sharp$ that gives the canonical action\n",
       "of~$\\sigma$ on~$\\HH^2(A)$, all this has proved the following result:\n",
       "\n",
       "\\begin{Proposition}\n",
       "The action of~$\\sigma$ on~$\\HH^2(A)$ is trivial. \\qed\n",
       "\\end{Proposition}\n",
       "\n",
       "At this point we have established that the Nakayama automorphism of~$A$\n",
       "acts trivially on~$\\HH^0(A)$, on~$\\HH^1(A)$ and on~$\\HH^2(A)$, and it is\n",
       "natural, of course, to conjecture that the Nakayama automorphism acts\n",
       "trivially on the whole Hochschild cohomology~$\\HH^*(A)$ of~$A$. We will\n",
       "prove this in the next section.\n",
       "\n",
       "%%%%%%%%%%%%%%%%%%%%%%%%%%%%%%%%%%%%%%%%%%%%%%%%%%%%%%%%%%%%%%%%%%%%%%\n",
       "\\subsection{The action on~\\texorpdfstring{$\\HH^*(A)$}{Hochschild cohomology}}%\n",
       "\\label{subsect:hhx}\n",
       "\n",
       "Let $p$ be an integer such that $p\\geq2$, and let $f : A^{\\otimes p} \\to A$\n",
       "be a Hochschild $p$-cocycle on~$A$. There is a unique linear map\n",
       "  \\[\n",
       "  f^\\T : \\D A\\otimes A^{\\otimes(p-1)}\\to\\D A\n",
       "  \\]\n",
       "that for all choices of~$\\lambda$ in~$\\D A$ and\n",
       "of~$a_1$,~\\dots,~$a_{p-1}$,~$b$ in~$A$ has\n",
       "  \\[\n",
       "  f^\\T(\\lambda\\otimes a_1\\otimes\\cdots\\otimes a_{p-1})(b)\n",
       "        = \\lambda(f(a_1\\otimes\\cdots\\otimes a_{p-1}\\otimes b)).\n",
       "  \\]\n",
       "It is a $(p-1)$-cochain in the complex~$C_{A^\\op}^*(\\D A,\\D A)$ and we can\n",
       "describe its coboundary there:\n",
       "\n",
       "\\begin{Lemma}\n",
       "In $C_{A^\\op}^*(\\D A,\\D A)$ we have that $df^\\T=(-1)^p\\cdot\\id_{\\D A}\\smile f$. \\qed\n",
       "\\end{Lemma}\n",
       "\n",
       "The proof of this is an uneventful direct calculation that we omit. What\n",
       "interests us is that, since $\\beta:A\\to \\D A$ is an isomorphism of right\n",
       "$A$-modules, the claim of the lemma implies at once that\n",
       "  \\[\n",
       "  d\\bigl(\\beta^{-1}\\circ f^\\T\\circ \\beta\\otimes\\id_A^{\\otimes(p-1)}\\bigr)\n",
       "        = (-1)^p\\cdot\\id_A\\smile f.\n",
       "  \\]\n",
       "The differential here is now that of the complex~$C_{A^\\op}^*(A,A)$.\n",
       "\n",
       "We can view the Hochschild $p$-cocycle~$f$ on~$A$ as a $(p-1)$-cochain in\n",
       "the complex $C_{A^\\op}^*(A,A)$, and the fact that it is a cocycle\n",
       "in~$C_{A^e}^*(A,A)$ is easily seen to imply that in~$C_{A^\\op}^*(A,A)$ we\n",
       "have\n",
       "  \\[\n",
       "  df = \\id_A\\smile f.\n",
       "  \\]\n",
       "Putting all this together, we see that the difference\n",
       "  \\[\n",
       "  f - (-1)^p\\cdot\\beta^{-1}\\circ f^\\T\\circ \\beta\\otimes\\id_A^{\\otimes(p-1)}:\n",
       "        A\\otimes A^{\\otimes(p-1)} \n",
       "        \\to A\n",
       "  \\]\n",
       "is a $(p-1)$-cocycle in~$C_{A^\\op}^*(A,A)$. The cohomology of this complex\n",
       "is~$\\Ext_{A^\\op}^*(A,A)$ and the integer~$p-1$ is positive, so that\n",
       "$(p-1)$-cocycle is actually a coboundary: there exists a linear map $g :\n",
       "A^{\\otimes(p-1)} \\to A$ such that\n",
       "  \\[ \\label{eq:fdg}\n",
       "  f - (-1)^p\\cdot\\beta^{-1}\\circ f^\\T\\circ \\beta\\otimes\\id_A^{\\otimes(p-1)}\n",
       "        = dg\n",
       "  \\]\n",
       "in $C_{A^\\op}^*(A,A)$. This means that for all choices\n",
       "of~$a_1$,~\\dots,~$a_p$ in~$A$ we have\n",
       "  \\[\n",
       "  f(a_1\\otimes\\cdots\\otimes a_p)\n",
       "        - (-1)^p\\cdot\\beta^{-1}(f^\\T(\\beta(a_1)\\otimes a_2\\otimes\\cdots\\otimes a_p)) \n",
       "        = dg(a_1\\otimes\\cdots\\otimes a_p)\n",
       "  \\]\n",
       "and, since the map~$\\beta$ is right $A$-linear, that also\n",
       "  \\[\n",
       "  \\beta(f(a_1\\otimes\\cdots\\otimes a_p))\n",
       "        - (-1)^p\\cdot f^\\T(\\beta(a_1)\\otimes a_2\\otimes\\cdots\\otimes a_p) \n",
       "        = d(\\beta\\circ g)(a_1\\otimes\\cdots\\otimes a_p).\n",
       "  \\]\n",
       "This is an equality in~$\\D A$: we can evaluate both of its sides on an\n",
       "element~$a_{p+1}$ from~$A$ and see that\n",
       "  \\begin{multline} \\label{eq:swap}\n",
       "  \\gen{f(a_1\\otimes\\cdots\\otimes a_p),a_{p+1}}\n",
       "        - (-1)^p\\cdot\\gen{f(a_2\\otimes a_3\\otimes\\cdots\\otimes a_{p+1}),\\sigma(a_1)} \\\\\n",
       "  \\qquad\n",
       "    = d(\\beta\\circ g)(a_1\\otimes\\cdots\\otimes a_p)(a_{p+1}). \n",
       "  \\end{multline}\n",
       "This allows us to «rotate» the arguments of~$f$, and rotate them we will.\n",
       "\n",
       "Let us now consider the linear map\n",
       "  \\[\n",
       "  f^\\sigma \\coloneqq \\sigma\\circ f\\circ (\\sigma^{-1})^{\\otimes p}:\n",
       "  A^{\\otimes p} \\to A,\n",
       "  \\]\n",
       "which, as we observed in Subsection~\\ref{subsect:action}, represents the\n",
       "image of the class of~$f$ by~$\\sigma$, and let $a_0$,~\\dots,~$a_p$ be\n",
       "elements of~$A$. For the sake of brevity let us write commas instead oft\n",
       "the operator~$\\otimes$, and $\\bar a$ instead of~$\\sigma^{-1}(a)$. Moreover,\n",
       "when $i$ and $j$ are elements of~$\\inter{0,p}$ we will write $a_{i;j}$ for\n",
       "the sequence $a_i,a_{i+1},\\dots,a_j$ if $i\\leq j$, and for the empty\n",
       "sequence if not. Using~\\eqref{eq:swap} we see that\n",
       "  \\begin{align}\n",
       "  \\MoveEqLeft[1]\n",
       "  \\gen{a_0,f^\\sigma(a_{1;p}) - f(a_{1;p})} \n",
       "     = \\gen{f(\\bar a_{1;p}),a_0} - \\gen{f(a_{1;p}),\\sigma(a_0)} \n",
       "  \\\\\n",
       "  &= \\begin{multlined}[t][.8\\displaywidth]\n",
       "     \\sum_{i=1}^{p}\n",
       "        (-1)^{(i-1)p} \\cdot\n",
       "        \\smash{\\Bigl(}\n",
       "        \\gen{f(\\bar a_{i;p},a_{0;i-2}), a_{i-1}} \n",
       "        - (-1)^p\n",
       "        \\gen{f(\\bar a_{i+1;p},a_{0;i-1}), a_{i}} \n",
       "        \\smash{\\Bigr)}\n",
       "     \\\\\n",
       "      {}+ (-1)^{p^2}\\cdot\n",
       "        \\Bigl(\n",
       "        \\gen{f(a_{0;p-1}), a_{p}}\n",
       "        - (-1)^p\\cdot\\gen{f(a_{1;p}),\\sigma(a_0)}\n",
       "        \\Bigr)\n",
       "    \\end{multlined}\n",
       "    \\\\\n",
       "  &= \\sum_{i=1}^{p+1}\n",
       "        (-1)^{(i-1)p} \\cdot\n",
       "        d(\\beta\\circ g)(\\bar a_{i;p}, a_{0;i-2})(a_{i-1}).\n",
       "        \\label{eq:tangle}\n",
       "  \\end{align}\n",
       "We have to untangle this last sum.\n",
       "\n",
       "\\bigskip\n",
       "\n",
       "Since the bilinear form~$\\gen{\\place,\\place}$ on~$A$ is non-degenerate,\n",
       "there are linear maps \n",
       "  \\[\n",
       "  g^*_1,\\dots,g^*_{p-1}:A^{\\otimes(p-1)}\\to A\n",
       "  \\]\n",
       "such that\n",
       "  \\[\n",
       "  \\gen{g(b_{1;p-1}),b_p}\n",
       "        = \\gen{b_q,g^*_q(b_{q+1;p},\\sigma(b_{1,{q-1}}))}\n",
       "  \\]\n",
       "for all choices of $b_1$,~\\dots,~$b_p$ in~$A$ and of~$q$ in~$\\inter{p-1}$.\n",
       "There are, on the other hand, linear maps\n",
       "  \\[\n",
       "  \\partial_0$,~\\dots,~$\\partial_p:\\Hom(A^{\\otimes(p-1)},A)\\to\\Hom(A^{\\otimes p},A)\n",
       "  \\]\n",
       "such that    \n",
       "  \\[\n",
       "  \\partial_k h(b_{1;p})\n",
       "        = \\begin{cases*}\n",
       "          b_1h(b_{2;p}) & if $k=0$; \\\\\n",
       "          h(b_{1;k-1},b_kb_{k+1},b_{k+2;p}) & if $1\\leq k<p$; \\\\\n",
       "          h(b_{1;p-1})b_p & if $k=p$\n",
       "          \\end{cases*}\n",
       "  \\]\n",
       "for all $j\\in\\inter{0,p}$, all $h\\in\\Hom(A^{\\otimes(p-1)},A)$ and all\n",
       "$b_1$,~\\dots,~$b_p\\in A$. We care about these, of course, because the\n",
       "coboundary of a $(p-1)$-cochain $h:A^{\\otimes(p-1)}\\to A$ in the Hochschild\n",
       "complex $C_{A^e}^*(A,A)$ is\n",
       "  \\[\n",
       "  dh = \\sum_{j=0}^p(-1)^j\\cdot\\partial_jh.\n",
       "  \\]\n",
       "\n",
       "The first term in the sum~\\eqref{eq:tangle} is\n",
       "  \\begin{align} \n",
       "  \\MoveEqLeft[1.5]\n",
       "  d(\\beta\\circ g)(\\bar a_{1;p})(a_{0}) \\\\\n",
       "    &= \\sum_{j=1}^{p-1}\n",
       "        (-1)^{j-1}\\cdot\n",
       "        \\gen{g(\\bar a_{1;j-1},\\bar a_j\\bar a_{j+1},\\bar a_{j+2;p}),a_0}\n",
       "       + (-1)^p\\cdot\\gen{g(\\bar a_{1;p-1})\\bar a_p,a_0} \n",
       "       \\\\\n",
       "    &= \\sum_{j=1}^{p-1}\n",
       "        (-1)^{j-1}\\cdot\n",
       "        \\gen{a_0,g^\\sigma(a_{1;j-1},a_ja_{j+1},a_{j+2;p})}\n",
       "       + (-1)^p\\cdot\\gen{a_0,g^\\sigma(a_{1;p-1})a_p} \n",
       "       \\notag\n",
       "       \\\\\n",
       "    &= \\sum_{j=1}^{p}\n",
       "        (-1)^{j-1}\\cdot\n",
       "        \\gen{a_0,\\partial_jg^\\sigma(a_{1;p})}.\n",
       "        \\label{eq:term:1}\n",
       "  \\end{align}\n",
       "On the other hand, if $i$ is an element of~$\\inter{2,p}$, then\n",
       "  \\begin{align}\n",
       "  \\MoveEqLeft[1.5]\n",
       "  (-1)^{(i-1)p} \\cdot d(\\beta\\circ g)(\\bar a_{i;p}, a_{0;i-2})(a_{i-1}) \\\\\n",
       "    &= \\begin{lgathered}[t]\n",
       "       \\sum_{j=i}^{p-1}\n",
       "        (-1)^{(i-1)p+(j-i)} \\cdot\n",
       "        \\gen{g(\\bar a_{i,j-1},\\bar a_{j}\\bar a_{j+1},\\bar a_{j+2,p},a_{0;i-2}), a_{i-1}} \n",
       "        \\\\\n",
       "       \\qquad{}+ (-1)^{(i-1)p+(p-i)} \\cdot\n",
       "        \\gen{g(\\bar a_{i,p-1},\\bar a_{p}a_{0},a_{1;i-2}), a_{i-1}} \n",
       "        \\\\\n",
       "       \\qquad{}+ (-1)^{(i-1)p+(p+1-i)} \\cdot\n",
       "        \\gen{g(\\bar a_{i,p},a_{0}a_{1},a_{2;i-2}), a_{i-1}} \n",
       "        \\\\\n",
       "       \\qquad{}+\\sum_{j=1}^{i-3}\n",
       "        (-1)^{(i-1)p+(p+1+j-i)} \\cdot\n",
       "        \\gen{g(\\bar a_{i,p},a_{0;j-1},a_ja_{j+1},a_{j+2,i-2}), a_{i-1}} \n",
       "        \\\\\n",
       "       \\qquad{}+ (-1)^{(i-1)p+(p+1+i-2-i)}\n",
       "        \\gen{g(\\bar a_{i,p},a_{0;i-3})a_{i-2}, a_{i-1}} \n",
       "       \\end{lgathered}\n",
       "       \\\\\n",
       "    &= \\begin{lgathered}[t]\n",
       "       \\sum_{j=i}^{p-1}\n",
       "        (-1)^{(i-1)p+(j-i)} \\cdot\n",
       "        \\gen{a_0,g^*_{p-i+1}(a_{1;j-2},a_ja_{j+1},a_{j+2;p})} \n",
       "        \\\\\n",
       "       \\qquad{}+ (-1)^{(i-1)p+(p-i)} \\cdot\n",
       "        \\gen{a_{0}, g^*_{p-i+1}(a_{1;p-1})a_p} \n",
       "        \\\\\n",
       "       \\qquad{}+ (-1)^{(i-1)p+(p+1-i)} \\cdot\n",
       "        \\gen{a_{0}, a_{1}g^*_{p-i+2}(a_{2;p})}  \n",
       "        \\\\\n",
       "       \\qquad{}+\\sum_{j=1}^{i-3}\n",
       "        (-1)^{(i-1)p+(p+1+j-i)} \\cdot\n",
       "        \\gen{a_{0},g^*_{p-i+2}(a_{1;j-1},a_ja_{j+1},a_{j+2;p})} \n",
       "        \\\\\n",
       "       \\qquad{}+ (-1)^{(i-1)p+(p+1+i-2-i)}\n",
       "        \\gen{a_0, g^*_{p-i+2}(a_{1;i-3},a_{i-2}a_{i-1},a_{i;p})} \n",
       "       \\end{lgathered}\n",
       "       \\\\\n",
       "    &= \\begin{lgathered}[t]\n",
       "       \\sum_{j=i}^{p}\n",
       "        (-1)^{(i-1)p+(j-i)} \\cdot\n",
       "        \\gen{a_0,\\partial_jg^*_{p-i+1}(a_{1;p})} \n",
       "        \\\\\n",
       "       \\qquad{}+\\sum_{j=0}^{i-2}\n",
       "        (-1)^{(i-1)p+(p+1+j-i)} \\cdot\n",
       "        \\gen{a_{0},\\partial_jg^*_{p-i+2}(a_{1;p})}.\n",
       "        \\label{eq:term:i}\n",
       "       \\end{lgathered}\n",
       "  \\end{align}\n",
       "Finally, the last term in the sum~\\eqref{eq:tangle} is\n",
       "  \\begin{align}\n",
       "  \\MoveEqLeft[1.5]\n",
       "  (-1)^{p^2} \\cdot d(\\beta\\circ g)(a_{0;p-1})(a_{p}) \\\\\n",
       "    &= \n",
       "       (-1)^p \n",
       "       \\sum_{j=0}^{p-2} \n",
       "       (-1)^j\\cdot\\gen{g(a_{0;j-1},a_ja_{j+1},a_{j+2;p-1}), a_p} \n",
       "       {}-\\gen{g(a_{0;p-2})a_{p-1}, a_p} \n",
       "       \\\\\n",
       "    &= \\begin{lgathered}[t]\n",
       "       (-1)^{p-1} \n",
       "       \\sum_{j=0}^{p-2} \n",
       "       (-1)^{j-1}\\cdot\\gen{a_0,g^*_1(a_{1;j-1},a_ja_{j+1},a_{j+2;p})}\n",
       "       -\\gen{a_{0}, g^*_1(a_{1;p-2},a_{p-1}a_p)} \n",
       "       \\end{lgathered}\n",
       "       \\\\\n",
       "    &= \\begin{lgathered}[t]\n",
       "       (-1)^{p-1} \n",
       "       \\sum_{j=0}^{p-2} \n",
       "       (-1)^{j-1}\\cdot\\gen{a_0,\\partial_jg^*_1(a_{1;p})}\n",
       "       -\\gen{a_{0}, \\partial_{p-1}g^*_1(a_{1;p})}.\n",
       "       \\end{lgathered}\n",
       "        \\label{eq:term:p}\n",
       "  \\end{align}\n",
       "It follows from~\\eqref{eq:term:1},~\\eqref{eq:term:i} and this that\n",
       "  \\begin{align}\n",
       "  \\MoveEqLeft[1]\n",
       "  \\sum_{i=1}^{p+1}\n",
       "        (-1)^{(i-1)p} \\cdot\n",
       "        d(\\beta\\circ g)(\\bar a_{i;p}, a_{0;i-2})(a_{i-1}) \\\\\n",
       "    &= \\begin{lgathered}[t]\n",
       "       \\sum_{j=1}^{p}\n",
       "        (-1)^{j-1}\\cdot\n",
       "        \\gen{a_0,\\partial_jg^\\sigma(a_{1;p})}\n",
       "       +\n",
       "       \\sum_{i=2}^{p}\n",
       "       \\sum_{j=i}^{p}\n",
       "        (-1)^{(i-1)p+(j-i)} \\cdot\n",
       "        \\gen{a_0,\\partial_jg^*_{p-i+1}(a_{1;p})} \n",
       "        \\\\\n",
       "       \\qquad{}+\n",
       "       \\sum_{i=2}^{p}\n",
       "        \\sum_{j=0}^{i-2}\n",
       "        (-1)^{(i-1)p+(p+1+j-i)} \\cdot\n",
       "        \\gen{a_{0},\\partial_jg^*_{p-i+2}(a_{1;p})}\n",
       "        \\\\\n",
       "       \\qquad{}+(-1)^{p-1} \n",
       "       \\sum_{j=0}^{p-2} \n",
       "       (-1)^{j-1}\\cdot\\gen{a_0,\\partial_jg^*_1(a_{1;p})}\n",
       "       -\\gen{a_{0}, \\partial_{p-1}g^*_1(a_{1;p})}.\n",
       "       \\end{lgathered}\n",
       "  \\end{align}\n",
       "Changing the index~$i$ of summation in the double sums, we see that this\n",
       "last expression has the same value as\n",
       "  \\begin{gather}\n",
       "       \\sum_{j=1}^{p}\n",
       "        (-1)^{j-1}\\cdot\n",
       "        \\gen{a_0,\\partial_jg^\\sigma(a_{1;p})}\n",
       "       +  % i --> p-i+1    2 --> p-2+1=p-1    p --> p-p+1=1\n",
       "       \\sum_{i=1}^{p-1}\n",
       "        (-1)^{i(p-1)} \n",
       "       \\sum_{j=p-i+1}^{p}\n",
       "        (-1)^{j-1} \\cdot\n",
       "        \\gen{a_0,\\partial_jg^*_{i}(a_{1;p})} \n",
       "        \\\\\n",
       "       \\qquad{}+ % i --> p-i+2   2 --> p-2+2=p  p --> p-p+2=2\n",
       "       \\sum_{i=2}^{p}\n",
       "        (-1)^{i(p-1)} \\\n",
       "        \\sum_{j=0}^{p-i}\n",
       "        (-1)^{j-1} \\cdot\n",
       "        \\gen{a_{0},\\partial_jg^*_{i}(a_{1;p})}.\n",
       "        \\\\\n",
       "       \\qquad{}+(-1)^{p-1} \n",
       "       \\sum_{j=0}^{p-2} \n",
       "       (-1)^{j-1}\\cdot\\gen{a_0,\\partial_jg^*_1(a_{1;p})}\n",
       "       -\\gen{a_{0}, \\partial_{p-1}g^*_1(a_{1;p})},\n",
       "  \\end{gather}\n",
       "and a little regrouping of the terms in these sums shows that what we have\n",
       "is equal to\n",
       "  \\begin{gather}\n",
       "  \\sum_{j=1}^{p}\n",
       "    (-1)^{j-1}\\cdot\n",
       "    \\gen{a_0,\\partial_jg^\\sigma(a_{1;p})}\n",
       "  - \\gen{a_{0},\\partial_0g^*_{p}(a_{1;p})} \n",
       "  \\\\\n",
       "  \\qquad{}+\n",
       "  \\sum_{i=1}^{p-1}\n",
       "    (-1)^{i(p-1)} \n",
       "    \\sum_{j=0}^{p}\n",
       "    (-1)^{j-1} \\cdot\n",
       "    \\gen{a_{0},\\partial_jg^*_{i}(a_{1;p})}.\n",
       "  \\end{gather}\n",
       "Finally, since\n",
       "$\\gen{a_{0},\\partial_0g^*_{p}(a_{1;p})}=\\gen{a_0,\\partial_0g^\\sigma(a_{1;p})}$,\n",
       "we can rewrite this in the form\n",
       "  \\[\n",
       "  \\sum_{j=0}^{p}\n",
       "    (-1)^{j-1}\\cdot\n",
       "    \\gen{a_0,\\partial_jg^\\sigma(a_{1;p})}\n",
       "  + \\sum_{i=1}^{p-1}\n",
       "    (-1)^{i(p-1)} \n",
       "    \\sum_{j=0}^{p}\n",
       "    (-1)^{j-1} \\cdot\n",
       "    \\gen{a_{0},\\partial_jg^*_{i}(a_{1;p})}\n",
       "  \\]\n",
       "or, more simply,\n",
       "  \\[\n",
       "  \\gen*{\n",
       "      a_0,\n",
       "      dg^\\sigma(a_{1;p})\n",
       "      + \\sum_{i=1}^{p-1}\n",
       "        (-1)^{i(p-1)} \n",
       "        dg^*_i(a_{1;p})\n",
       "     }.\n",
       "  \\]\n",
       "According to the equality~\\eqref{eq:tangle}, this coincides with\n",
       "$\\gen{a_0,f^\\sigma(a_{1;p}) - f(a_{1;p})}$. As this is the case for all\n",
       "choices of~$a_0$,~\\dots,~$a_p$ in~$A$, we can therefore conclude that\n",
       "  \\[\n",
       "  f^\\sigma - f\n",
       "        = dg^\\sigma\n",
       "          + \\sum_{i=1}^{p-1}\n",
       "            (-1)^{i(p-1)} \n",
       "            dg^*_i\n",
       "  \\]\n",
       "and, in particular, that the $p$-cocycles~$f^\\sigma$ and~$f$ are\n",
       "cohomologous in the complex $C_{A^e}^*(A,A)$. In view of the observations\n",
       "made in Subsection~\\ref{subsect:action}, this proves the following result.\n",
       "\n",
       "\\begin{Proposition}\\label{prop:main}\n",
       "The action of~$\\sigma$ on~$\\HH^*(A)$ is trivial. \\qed\n",
       "\\end{Proposition}\n",
       "\n",
       "This is the main result of this paper.\n",
       "\n",
       "\\bigskip\n",
       "\n",
       "We would like to emphasize the fact that this result is effective in the\n",
       "following sense. Since the algebra~$A$ is unitary, there is a very explicit\n",
       "(and simple!) contracting homotopy for the complex~$C_{A^{\\op}}^*(A,A)$ and\n",
       "it is therefore possible to find, starting from a Hochschild\n",
       "$p$-cocycle~$f$ in~$C_{A^e}^*(A,A)$, the $(p-1)$-cochain~$g$ that makes the\n",
       "equality~\\eqref{eq:fdg} true in a very concrete way and from that the\n",
       "Hochschild $(p-1)$-cochain that certifies that $f^\\sigma$ and~$f$ are\n",
       "cohomologous. Indeed, this is precisely what we did in\n",
       "Subsection~\\ref{subsect:hh01} when dealing with~$\\HH^0(A)$ and~$\\HH^1(A)$.\n",
       "\n",
       "%%%%%%%%%%%%%%%%%%%%%%%%%%%%%%%%%%%%%%%%%%%%%%%%%%%%%%%%%%%%%%%%%%%%%%\n",
       "\\subsection{The action on homology}%\n",
       "\\label{subsect:homology}\n",
       "\n",
       "In the next section we will present some applications of our main result.\n",
       "Before doing that we want to spend a little time considering the\n",
       "homological side of things.\n",
       "\n",
       "\\bigskip\n",
       "\n",
       "Let $\\Lambda$ be an algebra, let $\\alpha:\\Lambda\\to\\Lambda$ be an\n",
       "automorphism of~$\\Lambda$, and let $\\epsilon:P\\to\\Lambda$ be a projective\n",
       "resolution of~$\\Lambda$ as a $\\Lambda$-bimodule. As in\n",
       "Subsection~\\ref{subsect:action} the map $\\epsilon:{}_\\alpha P_\\alpha\\to\n",
       "{}_\\alpha \\Lambda_\\alpha$ is then a projective resolution of the twisted\n",
       "bimodule~${}_\\alpha \\Lambda_\\alpha$ over~$\\Lambda^e$, the map\n",
       "$\\alpha:\\Lambda\\to{}_\\alpha \\Lambda_\\alpha$ is $\\Lambda^e$-linear, and\n",
       "there is a morphism of complexes of $\\Lambda$-bimodules $\\alpha_P:P\\to\n",
       "{}_\\alpha P_\\alpha$ such that the square\n",
       "  \\[\n",
       "  \\begin{tikzcd}\n",
       "  P \\arrow[r, \"\\epsilon\"] \\arrow[d, swap, \"\\alpha_P\"]\n",
       "    & \\Lambda \\arrow[d, \"\\alpha\"]\n",
       "    \\\\\n",
       "  {}_\\alpha P_\\alpha \\arrow[r, \"\\epsilon\"]\n",
       "    & {}_\\alpha \\Lambda_\\alpha\n",
       "  \\end{tikzcd}\n",
       "  \\]\n",
       "commutes. Let now $M$ be a $\\Lambda$-bimodule and let\n",
       "$\\alpha_M:M\\to{}_\\alpha M_\\alpha$ be an arbitrary morphism of\n",
       "$\\Lambda$-bimodules. The homotopy class of the composition\\footnote{It is\n",
       "in order to have the identification indicated by the equal sign in this\n",
       "diagram that we need $\\alpha$ to be an automorphism and not only an\n",
       "endomorphism of~$\\Lambda$.}\n",
       "  \\[\n",
       "  \\begin{tikzcd}\n",
       "  M\\otimes_{\\Lambda^e}P \\arrow[r, \"\\alpha_M\\otimes\\alpha_P\"]\n",
       "    &[2em] ({}_\\alpha M_\\alpha) \\otimes_{\\Lambda^e} ({}_\\alpha P_\\alpha) \\arrow[r, equal]\n",
       "    & M\\otimes_{\\Lambda^e}P\n",
       "  \\end{tikzcd}\n",
       "  \\]\n",
       "depends only on~$\\alpha$ and on~$\\alpha_M$, and not on the specific choice\n",
       "of the morphism~$\\alpha_P$, and the map\n",
       "  \\[\n",
       "  \\H_*(\\Lambda,M) = \\Tor^{\\Lambda^e}_*(M,\\Lambda) = \\H_*(M\\otimes_{\\Lambda^e}P)\n",
       "  \\to \\H_*(M\\otimes_{\\Lambda^e}P) = \\Tor^{\\Lambda^e}_*(M,\\Lambda) = \\H_*(\\Lambda,M)\n",
       "  \\]\n",
       "that it induces on homology depends only on~$\\alpha$ and~$\\alpha_M$ and not\n",
       "on on the choice of the resolution~$P\\to \\Lambda$, up to canonical\n",
       "isomorphisms. We therefore have a well-determined map\n",
       "  \\[\n",
       "  (\\alpha,\\alpha_M)_\\sharp : \\H_*(\\Lambda,M) \\to \\H_*(\\Lambda,M).\n",
       "  \\]\n",
       "In particular, if $\\beta:\\Lambda\\to\\Lambda$ is another automorphism\n",
       "of~$\\Lambda$ that commutes with~$\\alpha$, then we can consider the twisted\n",
       "$\\Lambda$-bimodule $\\Lambda_\\beta$ and the function\n",
       "$\\alpha_\\beta\\coloneqq\\alpha:\\Lambda\\to \\Lambda_\\beta$, which is a morphism\n",
       "of $\\Lambda$-bimodules, and thus obtain a map\n",
       "  \\[\n",
       "  (\\alpha,\\alpha_\\beta)_\\sharp:\\H_*(\\Lambda,\\Lambda_\\beta)\\to\\H_*(\\Lambda,\\Lambda_\\beta).\n",
       "  \\]\n",
       "We will write $\\alpha_\\sharp$ to denote it, omitting any reference\n",
       "to~$\\beta$. In this way we obtain a function\n",
       "  \\[\n",
       "  \\alpha\\in\\Aut(\\Lambda)_\\beta \n",
       "    \\mapsto \n",
       "    \\alpha_\\sharp \\in \\Aut(\\H_*(\\Lambda,\\Lambda_\\beta))\n",
       "  \\]\n",
       "from the centralizer~$\\Aut(\\Lambda)_\\beta$ of~$\\beta$ in~$\\Aut(\\Lambda)$\n",
       "into the group of automorphisms of the graded vector\n",
       "space~$\\H_*(\\Lambda,\\Lambda_\\beta)$, which is in fact a morphism of groups.\n",
       "This is what we call the \\newterm{canonical action} of~$\\Aut(\\Lambda)$\n",
       "on~$\\H_*(\\Lambda,\\Lambda_\\beta)$. \n",
       "\n",
       "In particular, as $\\id_\\Lambda$ is of course central in~$\\Aut(\\Lambda)$, in\n",
       "this way we obtain an action of the whole automorphism\n",
       "group~$\\Aut(\\Lambda)$ on the Hochschild\n",
       "homology~$\\HH_*(\\Lambda)\\coloneqq\\H_*(\\Lambda,\\Lambda)$ of~$\\Lambda$. This\n",
       "action and the one that we already have on~$\\HH^*(\\Lambda)$ respect the\n",
       "whole Tamarkin--Tsygan calculus of the algebra --- the \\emph{cup} and\n",
       "\\emph{cap} products, the Gerstenhaber bracket, and the Connes differential,\n",
       "and it is given, when we compute homology in terms of the standard\n",
       "Hochschild complex, by the obvious formulas.\n",
       "\n",
       "\\bigskip\n",
       "\n",
       "Let us go back to the situation in Subsection~\\ref{subsect:frobenius}. This\n",
       "construction provides us with a map~$\\sigma_\\sharp:\\HH_*(A)\\to\\HH_*(A)$. In\n",
       "contrast with what we found in the previous section, this map is usually\n",
       "not trivial.\n",
       "\n",
       "\\begin{Example}\\label{ex:four}\n",
       "Let $q$ be an element of~$\\kk$ different from~$0$, let us consider the\n",
       "algebra $A\\coloneqq\\kk\\gen{X,Y}/(X^2,YX-qXY,Y^2)$, and let us write~$x$\n",
       "and~$y$ for the classes of~$X$ and~$Y$ in~$A$. It is easy to check that $A$\n",
       "is freely spanned by the four monomials~$1$,~$x$,~$y$ and~$xy$, so that\n",
       "there is a linear map $\\lambda:A\\to\\kk$ such that\n",
       "$\\lambda(1)=\\lambda(x)=\\lambda(y)=0$ and $\\lambda(xy)=1$. The bilinear form\n",
       "  \\[\n",
       "  \\gen{\\place,\\place}:(a,b)\\in A\\times A\\mapsto\\lambda(ab)\\in\\kk\n",
       "  \\]\n",
       "is obviously associative and a little calculation show that it is\n",
       "non-degenerate, so we have a Frobenius algebra. The Nakayama automorphism\n",
       "$\\sigma:A\\to A$ corresponding to this bilinear form has~$\\sigma(x)=q^{-1}x$\n",
       "and~$\\sigma(y)=qy$.\n",
       "\n",
       "The subspace~$[A,A]$ is spanned by~$xy$, the $0$th Hochschild homology\n",
       "space~$\\HH_0(A)$ is canonically isomorphic to the quotient~$A/[A,A]$, and\n",
       "the map~$\\sigma_\\sharp:\\HH_0(A)\\to\\HH_0(A)$ is, up to that isomorphism, the\n",
       "obvious map~$A/[A,A]\\to A/[A,A]$ induced by~$\\sigma$. The\n",
       "map~$\\sigma_\\sharp$ is thus clearly not trivial.\n",
       "\\end{Example}\n",
       "\n",
       "What we do have is that $\\sigma$ acts trivially on appropriately twisted\n",
       "homology:\n",
       "\n",
       "\\begin{Proposition}\\label{prop:twisted}\n",
       "The action of~$\\sigma$ on the $\\sigma$-twisted Hochschild\n",
       "homology~$\\H_*(A,A_\\sigma)$ is trivial.\n",
       "\\end{Proposition}\n",
       "\n",
       "\\begin{proof}\n",
       "Let $P$ be a projective resolution of~$A$ as an $A$-bimodule. There are\n",
       "obvious identifications\n",
       "  \\[\n",
       "  {}_\\sigma \\D A\n",
       "        = {}_\\sigma\\Bigl(\\Hom_\\kk(A,\\kk)\\Bigr)\n",
       "        = \\Hom_\\kk(A_\\sigma,\\kk),\n",
       "  \\]\n",
       "and the composition\n",
       "  \\begin{equation*}\n",
       "  \\begin{tikzcd}[column sep=0.6em]\n",
       "  \\Hom_{A^e}(P,A) \\arrow[r, \"\\beta_*\"]\n",
       "    &[0.7em] \\Hom_{A^e}(P,{}_\\sigma\\D A) \\arrow[r, equal]\n",
       "    & \\Hom_{A^e}(P,\\Hom_\\kk(A_\\sigma,\\kk)) \\arrow[r]\n",
       "    & \\Hom_\\kk(A_\\sigma\\otimes_{A^e}P,\\kk)\n",
       "  \\end{tikzcd}\n",
       "  \\end{equation*}\n",
       "of the morphism induced by the isomorphism of $A$-bimodules~$\\beta:A\\to\n",
       "{}_\\sigma\\D A$ and the adjunction isomorphism induces an isomorphism of\n",
       "graded vector spaces\n",
       "  \\[ \\label{eq:partial}\n",
       "  \\HH^*(A) \\to \\Hom_\\kk(\\HH_*(A,A_\\sigma),\\kk).\n",
       "  \\]\n",
       "This map commutes with the maps induced on its domain and codomain\n",
       "by~$\\sigma$ --- the easiest way to check this is to take for~$P$ the\n",
       "standard resolution, on which everything can be made very explicit --- and\n",
       "therefore the action of~$\\sigma$ on~$\\H_*(A,A_\\sigma)$ is trivial, because\n",
       "it is trivial on~$\\HH^*(A)$.\n",
       "\\end{proof}\n",
       "\n",
       "This «fixes» our Example~\\ref{ex:four}:\n",
       "\n",
       "\\begin{Example}\n",
       "In the situation of Example~\\ref{ex:four}, the subspace~$[A_\\sigma,A]$ is\n",
       "spanned by the two elements~$(q^{-1}-1)x$ and~$(q-1)y$. As the\n",
       "space~$\\H_0(A,A_\\sigma)$ is canonically isomorphic to the\n",
       "quotient~$A_\\sigma/[A_\\sigma,A]$ and the action of~$\\sigma$\n",
       "on~$\\H_0(A,A_\\sigma)$ corresponds to the obvious one\n",
       "on~$A_\\sigma/[A_\\sigma,A]$, it follows at once from this that $\\sigma$ acts\n",
       "trivially on~$\\H_0(A,A_\\sigma)$, as it should, when $q\\neq1$, for that\n",
       "vector space is then spanned by the classes of~$1$ and~$xy$, which are\n",
       "fixed by~$\\sigma$. If instead $q=1$ then the automorphism~$\\sigma$ is just\n",
       "the identity of~$A$ and, of course, it acts trivially on~$\\H_0(A,A_\\sigma)$\n",
       "also in this case.\n",
       "\\end{Example}\n",
       "\n",
       "%%%%%%%%%%%%%%%%%%%%%%%%%%%%%%%%%%%%%%%%%%%%%%%%%%%%%%%%%%%%%%%%%%%%%%\n",
       "\\section{Invariants for Frobenius algebras}%\n",
       "\\label{sect:applications}\n",
       "\n",
       "In this section we will show how to use our main result to construct\n",
       "invariants for Frobenius algebras. \n",
       "\n",
       "%%%%%%%%%%%%%%%%%%%%%%%%%%%%%%%%%%%%%%%%%%%%%%%%%%%%%%%%%%%%%%%%%%%%%%\n",
       "\\subsection{Jacobians}\n",
       "\\label{subsect:jac}\n",
       "\n",
       "As before, let $A$ be a finite-dimensional algebra, let\n",
       "$\\gen{\\place,\\place}:A\\times A\\to\\kk$ be a non-degenerate and associative\n",
       "bilinear form on~$A$, let $\\sigma:A\\to A$ be the corresponding Nakayama\n",
       "automorphism, and let $\\beta:A\\to{}_\\sigma\\D A$ be the associated\n",
       "isomorphism of $A$-bimodules. When $x$ and~$y$ are elements of a group, we\n",
       "write $[x,y]$ for their commutator~$xyx^{-1}y^{-1}$.\n",
       "\n",
       "\\bigskip\n",
       "\n",
       "One of our starting points is the following lemma, which states an\n",
       "observation essentially made by Osima in~\\cite{Osima:1}. Together with this\n",
       "result, Lemmas~\\ref{lemma:det:conj} and~\\ref{lemma:jac:cocycle}, and\n",
       "Corollary~\\ref{coro:det:commute} that we present below also appear in that\n",
       "work. We have included proofs for them because Osima's proofs are entirely\n",
       "based on matrix calculations and thus somewhat opaque --- it is not\n",
       "entirely clear that our proofs are that much of an improvement in that\n",
       "respect, though.\n",
       "\n",
       "\\begin{Lemma}\\label{lemma:det}\n",
       "Let $u:A\\to A$ be an endomorphism of the algebra~$A$.\n",
       "\\begin{thmlist}\n",
       "\n",
       "\\item If $a$ is an element of~$A$, then there is one and only one\n",
       "element~$\\hat u(a)$ in~$A$ such that $\\gen{u(a),u(b)} = \\gen{\\hat u(a),b}$\n",
       "for all~$b\\in B$.\n",
       "\n",
       "\\item The function $\\hat u:A\\to{} A$ that we obtain in this way is a\n",
       "morphism of right $A$-modules, there exists there a unique element\n",
       "$\\jac_\\sigma(u)$ in~$A$ such that \n",
       "  \\(\n",
       "  \\hat u(a)=\\jac_\\sigma(u)\\cdot a\n",
       "  \\)\n",
       "for all $a\\in A$, and we therefore have that\n",
       "  \\[\n",
       "  \\gen{u(a),u(b)} = \\gen{\\jac_\\sigma(u)\\cdot a,b} \\label{eq:dets:0}\n",
       "  \\]\n",
       "for all $a$ and~$b$ in~$A$.\n",
       "\n",
       "\\end{thmlist}\n",
       "\\end{Lemma}\n",
       "\n",
       "We call the element~$\\jac_\\sigma(u)$ the \\newterm{Nakayama Jacobian} of the\n",
       "endomorphism~$u$ with respect to the Nakayama automorphism~$\\sigma$. \n",
       "\n",
       "\\begin{proof}\n",
       "The first part of the lemma is an immediate consequence of the\n",
       "non-degeneracy of the bilinear form~$\\gen{\\place,\\place}$, and the\n",
       "linearity of the function~$\\hat u$ that we obtain is a consequence of the\n",
       "uniqueness stated there. If $a$ and~$b$ are two elements of~$A$, then for\n",
       "all $c\\in A$ we have that\n",
       "  \\begin{align}\n",
       "  \\gen{\\hat u(ab),c}\n",
       "       &= \\gen{u(ab),u(c)}\n",
       "        = \\gen{u(a)u(b),u(c)}\n",
       "        = \\gen{u(a),u(b)u(c)}  \n",
       "        = \\gen{u(a),u(bc)}  \\\\\n",
       "       &= \\gen{\\hat u(a),bc}\n",
       "        = \\gen{\\hat u(a)b,c},\n",
       "  \\end{align}\n",
       "and this implies that $\\hat u(ab)=\\hat u(a)b$. The function~$\\hat u: A\\to\n",
       "A$ is therefore right $A$-linear, and this implies that the element\n",
       "$\\jac_\\sigma(u)\\coloneqq\\hat u(1)$ of~$A$ is the unique one that has the\n",
       "property that\n",
       "  \\[\n",
       "  \\gen{\\jac_\\sigma(u)\\cdot a,b}\n",
       "        = \\gen{\\hat u(a),b}\n",
       "        = \\gen{u(a),u(b)}\n",
       "  \\]\n",
       "for all~$a$ and~$b$ in~$A$. This shows that all the claims in\n",
       "part~\\thmitem{2} are true.\n",
       "\\end{proof}\n",
       "\n",
       "The following lemma describes the key property of the Nakayama Jacobian.\n",
       "\n",
       "\\begin{Lemma}\\label{lemma:jac:cocycle}\n",
       "If $u$,~$v:A\\to A$ are any two \\emph{automorphisms} of~$A$, then\n",
       "  \\[\n",
       "  \\jac_\\sigma(u\\circ v) = \\jac_\\sigma(v)\\cdot v^{-1}(\\jac_\\sigma(u)),\n",
       "  \\]\n",
       "\\end{Lemma}\n",
       "\n",
       "We view this equality as a form of the chain rule of calculus. The fact\n",
       "that $v$ appears inverted in it is a consequence of our choice of\n",
       "variances, which is, in turn, motivated by our desire to be able to define\n",
       "Jacobians for endomorphisms and not just for automorphisms.\n",
       "\n",
       "\\begin{proof}\n",
       "For any two elements $a$ and~$b$ of~$A$ we have that\n",
       "  \\begin{align}\n",
       "  \\gen{\\jac_\\sigma(uv)\\cdot a,b}\n",
       "       &= \\gen{u(v(a)), u(v((b))}\n",
       "        = \\gen{\\jac_\\sigma(u)\\cdot v(a), v(b)} \\\\\n",
       "       &= \\gen{v(v^{-1}(\\jac_\\sigma(v))\\cdot a), v(b)} \n",
       "        = \\gen{\\jac_\\sigma(v)\\cdot v^{-1}(\\jac_\\sigma(u))\\cdot a, b},\n",
       "  \\end{align}\n",
       "and this implies that $\\jac_\\sigma(uv) = \\jac_\\sigma(v)\\cdot\n",
       "v^{-1}(\\jac_\\sigma(u))$, as the lemma claims.\n",
       "\\end{proof}\n",
       "\n",
       "A consequence of this is that the following analogue of the Jacobian\n",
       "Conjecture is true:\n",
       "\n",
       "\\begin{Lemma}\\label{lemma:det:JC}\n",
       "An endomorphism $u:A\\to A$ of~$A$ is an automorphism if and only if its\n",
       "Jacobian~$\\jac_\\sigma(u)$ is a unit of~$A$, and when that is the case we\n",
       "have that $\\jac_\\sigma(u^{-1}) = u(\\jac_\\sigma(u)^{-1})$.\n",
       "\\end{Lemma}\n",
       "\n",
       "\\begin{proof}\n",
       "Let $u:A\\to A$ be an endomorphism of~$A$. If $u$ is an automorphism, then\n",
       "it follows from Lemma~\\ref{lemma:jac:cocycle} that\n",
       "  \\[\n",
       "  1 = \\jac_\\sigma(\\id_A)\n",
       "    = \\jac_\\sigma(u\\circ u^{-1})\n",
       "    = \\jac_\\sigma(u)\\cdot u^{-1}(\\jac_\\sigma(u^{-1})),\n",
       "  \\]\n",
       "and thus that $\\jac_\\sigma(u)$ is a unit of~$A$ and that\n",
       "$\\jac_\\sigma(u^{-1}) = u(\\jac_\\sigma(u)^{-1})$. This proves that the\n",
       "condition given by the lemma is necessary and its final claim.\n",
       "\n",
       "To prove that the condition is also sufficient, let us suppose that the\n",
       "endomorphism~$u$ is such that $\\jac_\\sigma(u)$ is a unit. If $a$ is an\n",
       "element of~$A$ such that $u(a)=0$, then for all $b\\in B$ we have that\n",
       "  \\[\n",
       "  \\gen{\\jac_\\sigma(u)\\cdot a,b} = \\gen{u(a),u(b)} = 0,\n",
       "  \\]\n",
       "so that $\\jac_\\sigma(u)\\cdot a=0$ and, in view of the hypothesis, that in\n",
       "fact $a=0$. This tells us that the map~$u$ is injective and, since $A$ is\n",
       "finite-dimensional, an automorphism.\n",
       "\\end{proof}\n",
       "\n",
       "In what follows we will be exclusively concerned with automorphisms of~$A$.\n",
       "First, we see that when $u$ is an automorphism the map~$\\hat u$ of\n",
       "Lemma~\\ref{lemma:det} is left $A$-linear if we twist the left module\n",
       "structure of its codomain appropriately.\n",
       "\n",
       "\\begin{Lemma}\\label{lemma:det:left}\n",
       "Let $u:A\\to A$ be an automorphism of~$A$.\n",
       "The function \n",
       "  \\(\n",
       "  \\hat u:A\\to{}_{[\\sigma^{-1},u^{-1}]} A\n",
       "  \\)\n",
       "of Lemma~\\ref{lemma:det} is an isomorphism of $A$-bimodules, and for all\n",
       "$a$ in~$A$ we have that\n",
       "  \\[\n",
       "  \\jac_\\sigma(u)\\cdot u^{-1}(\\sigma^{-1}(a)) \n",
       "        = \\sigma^{-1}(u^{-1}(a))\\cdot \\jac_\\sigma(u) \\label{eq:detcom}\n",
       "  \\]\n",
       "\\end{Lemma}\n",
       "\n",
       "\\begin{proof}\n",
       "We already know that $\\hat u$ is right $A$-linear and bijective, and it is\n",
       "right $A$-linear because for all~$a$,~$b$ and~$c$ in~$A$ we have that\n",
       "  \\begin{align}\n",
       "  \\gen{\\hat u(ab),c}\n",
       "       &= \\gen{u(ab),u(c)}\n",
       "        = \\gen{u(a)\\cdot u(b),u(c)}\n",
       "        = \\gen{u(b),u(c)\\cdot \\sigma(u(a))} \\notag \\\\\n",
       "       &= \\gen{u(b),u(c\\cdot u^{-1}(\\sigma(u(a))))} \n",
       "        = \\gen{\\hat u(b),c\\cdot u^{-1}(\\sigma(u(a)))} \\\\\n",
       "       &= \\gen{\\sigma^{-1}(u^{-1}(\\sigma(u(a))))\\cdot \\hat u(b),c}\n",
       "        = \\gen{[\\sigma^{-1},u^{-1}](a)\\cdot \\hat u(b),c}.\n",
       "  \\end{align}\n",
       "It follows from this that \n",
       "  \\[ \\label{eq:detcom:2}\n",
       "  \\jac_\\sigma(u)\\cdot a\n",
       "        = \\hat u(1)\\cdot a\n",
       "        = \\hat u(a)\n",
       "        = [\\sigma^{-1},u^{-1}](a)\\cdot \\hat u(1)\n",
       "        = [\\sigma^{-1},u^{-1}](a)\\cdot \\jac_\\sigma(u)\n",
       "  \\]\n",
       "for all~$a\\in A$, and this equality implies the one in the lemma.\n",
       "\\end{proof}\n",
       "\n",
       "An immediate consequence of this lemma is the following observation.\n",
       "\n",
       "\\begin{Corollary}\\label{coro:det:deriv}\n",
       "If $u:A\\to A$ is an automorphism of~$A$, then \n",
       "  \\(\n",
       "  [\\sigma^{-1},u^{-1}](\\jac_\\sigma(u)) = \\jac_\\sigma(u)^{-1}\n",
       "  \\).\n",
       "\\end{Corollary}\n",
       "\n",
       "This tells us that the Jacobian of an automorphism~$A$ is in the same orbit\n",
       "under the action of derived subgroup of~$\\Aut(A)$ as its inverse. This is a\n",
       "non-trivial condition that limits the possible values that Jacobian can\n",
       "take.\n",
       "\n",
       "\\begin{proof}\n",
       "This follows from the identity~\\eqref{eq:detcom} of\n",
       "Lemma~\\ref{lemma:det:left} or, equivalently, from the\n",
       "identity~\\eqref{eq:detcom:2} in the proof of that lemma if we take there\n",
       "$a=\\jac_\\sigma(u)^{-1}$.\n",
       "\\end{proof}\n",
       "\n",
       "We can evaluate automorphisms conjugate to~$\\sigma$ using Jacobians in the\n",
       "following way:\n",
       "\n",
       "\\begin{Lemma}\\label{lemma:det:conj}\n",
       "Let $u:A\\to A$ be an automorphism of~$A$. For all $a\\in A$ we have that\n",
       "  \\[\n",
       "  (u\\circ\\sigma\\circ u^{-1})(a) \n",
       "        = \\sigma(\\jac_\\sigma(u)\\cdot a\\cdot \\jac_\\sigma(u)^{-1})\n",
       "  \\]\n",
       "\\end{Lemma}\n",
       "\n",
       "The proof that we can provide of this is remarkably unenlightening.\n",
       "\n",
       "\\begin{proof}\n",
       "The identity~\\eqref{eq:dets:0} implies immediately that for all $a\\in A$ we\n",
       "have\n",
       "  \\[ \\label{eq:t1:x}\n",
       "  (u^\\T\\circ\\beta\\circ u)(a) = \\beta(\\jac_\\sigma(u)\\cdot a),\n",
       "  \\]\n",
       "and therefore that also\n",
       "  \\[ \\label{eq:t2:x}\n",
       "  (u^ {-1}\\circ\\beta^{-1}\\circ u^{-\\T})(\\lambda) \n",
       "        = \\jac_\\sigma(u)^{-1}\\cdot\\beta^{-1}(\\lambda)\n",
       "  \\]\n",
       "for all $\\lambda\\in \\D A$. On the other hand, if~$a$ and~$\\lambda$ are\n",
       "elements of~$A$ and of~$\\D A$, respectively, then for all $b\\in B$ we have\n",
       "that\n",
       "  \\begin{align}\n",
       "  u^\\T(\\sigma(u(a))\\cdot u^{-\\T}(\\lambda))(b)\n",
       "        &= (\\sigma(u(a))\\cdot u^{-\\T}(\\lambda))(u(b)) \\\\\n",
       "        &= u^{-\\T}(\\lambda)(u(b)\\cdot \\sigma(u(a))) \\\\\n",
       "        &= \\lambda(b\\cdot u^ {-1}(\\sigma(u(a)))) \\\\\n",
       "        &= (u^{-1}(\\sigma(u(a)))\\cdot \\lambda)(b), \n",
       "  \\end{align}\n",
       "and this means that\n",
       "  \\[ \\label{eq:t3:x}\n",
       "  u^{-1}(\\sigma(u(a)))\\cdot \\lambda = u^\\T(\\sigma(u(a))\\cdot u^{-\\T}(\\lambda)).\n",
       "  \\]\n",
       "Finally, if $a$ is an element of~$A$, then for all $\\lambda\\in\\D A$ we have\n",
       "that\n",
       "  \\begin{alignat*}{3}\n",
       "  \\MoveEqLeft[1]\n",
       "  u^{-1}(\\sigma(u(a)))\\cdot\\lambda \\\\\n",
       "        &= u^\\T(\\sigma(u(a))\\cdot u^{-\\T}(\\lambda)) \n",
       "        &\\qquad& \\text{because of~\\eqref{eq:t3:x}} \\\\\n",
       "        &= u^\\T(\\beta(u(a)\\cdot\\beta^{-1}(u^{-\\T}(\\lambda)))) \n",
       "        && \\text{because $\\beta:A\\to{}_\\sigma\\D A$ is left $A$-linear} \\\\\n",
       "        &= u^\\T(\\beta(u(a\\cdot u^{-1}(\\beta^{-1}(u^{-\\T}(\\lambda)))))) \\\\\n",
       "        &= \\mathrlap{(u^ \\T\\circ\\beta\\circ u)\n",
       "                     (a\\cdot (u^{-1}\\circ\\beta^{-1}\\circ u^{-\\T})(\\lambda))} \\\\\n",
       "        &= \\beta(\\jac_\\sigma(u)\\cdot a\\cdot (u\\circ\\beta^{-1}\\circ u^\\T)(\\lambda)))) \n",
       "        && \\text{because of~\\eqref{eq:t1:x}} \\\\\n",
       "        &= \\beta(\\jac_\\sigma(u)\\cdot a\\cdot \\jac_\\sigma(u)^{-1}\\cdot \\beta^{-1}(\\lambda)) \n",
       "        && \\text{because of~\\eqref{eq:t2:x}} \\\\\n",
       "        &= \\sigma(\\jac_\\sigma(u)\\cdot a\\cdot \\jac_\\sigma(u)^{-1})\\cdot\\lambda\n",
       "        && \\text{because $\\beta:A\\to{}_\\sigma\\D A$ is left $A$-linear,} \n",
       "  \\end{alignat*}\n",
       "and this implies at once that\n",
       "  \\(\n",
       "  (u^{-1}\\circ\\sigma\\circ u)(a) = \\sigma(\\jac_\\sigma(u)\\cdot a\\cdot \\jac_\\sigma(u)^{-1})\n",
       "  \\).\n",
       "\\end{proof}\n",
       "\n",
       "Lemma~\\ref{lemma:det:conj} tells us, in a very explicit way, that every\n",
       "automorphism conjugate to~$\\sigma$ differs from~$\\sigma$ only by an inner\n",
       "automorphism, and we can rephrase this as follows.\n",
       "\n",
       "\\begin{Corollary}\n",
       "The class of the Nakayama automorphism is central in the outer automorphism\n",
       "group~$\\Out(A)$. \\qed\n",
       "\\end{Corollary}\n",
       "\n",
       "We should keep in mind that according to Lemma~\\ref{lemma:change} the class\n",
       "of the Nakayama automorphism in~$\\Out(A)$ is canonically determined by~$A$,\n",
       "and this is what makes the statement in the corollary make sense. In the\n",
       "same spirit, we have the following connection of our Jacobians with\n",
       "commutativity relations in the group~$\\Aut(A)$.\n",
       "\n",
       "\\begin{Corollary}\\mbox{}\\label{coro:det:commute}\n",
       "\\begin{thmlist}\n",
       "\n",
       "\\item An automorphism~$u:A\\to A$ of~$A$ commutes with~$\\sigma$ if and only\n",
       "if its Nakayama Jacobian~$\\jac_\\sigma(u)$ is central in~$A$.\n",
       "\n",
       "\\item Two automorphisms $u$,~$v:A\\to A$ are such that $u\\sigma\n",
       "u^{-1}=v\\sigma v^{-1}$ if and only if the element\n",
       "$\\jac_\\sigma(u)\\cdot\\jac_\\sigma(v)^{-1}$ is central in~$A$.\n",
       "\n",
       "\\end{thmlist}\n",
       "\\end{Corollary}\n",
       "\n",
       "\\begin{proof}\n",
       "Let $u:A\\to A$ be an automorphism of~$A$. According to the\n",
       "identity~\\eqref{eq:detcom} of Lemma~\\ref{lemma:det}, for all $a\\in A$ we\n",
       "have \n",
       "  \\(\n",
       "  \\jac_\\sigma(u)\\cdot a = [\\sigma^{-1},u^{-1}](a)\\cdot \\jac_\\sigma(u)\n",
       "  \\).\n",
       "It is clear then that if $\\sigma$ and~$u$ commute the\n",
       "element~$\\jac_\\sigma(u)$ is central. Conversely, if that element is central\n",
       "we have that \n",
       "  \\(\n",
       "  a\\cdot\\jac_\\sigma(u) = [\\sigma^{-1},u^{-1}](a)\\cdot \\jac_\\sigma(u)\n",
       "  \\)\n",
       "for all~$a\\in A$ and, since $\\jac_\\sigma(u)$ is a unit, that the\n",
       "commutator~$[\\sigma^{-1},u^{-1}]$ is the identity and thus that $\\sigma$\n",
       "and~$u$ commute. This proves the first part of the corollary. The second\n",
       "one follows immediately from Lemma~\\ref{lemma:det:conj}.\n",
       "\\end{proof}\n",
       "\n",
       "An immediate consequence of the first part of this corollary is the\n",
       "following:\n",
       "\n",
       "\\begin{Corollary}\n",
       "If $\\sigma=\\id_A$, then the Nakayama Jacobian of every automorphism of~$A$\n",
       "is central. \\qed\n",
       "\\end{Corollary}\n",
       "\n",
       "We will show below --- in Lemma~\\ref{lemma:jac:quantum}, for example ---\n",
       "that the Jacobians of an automorphism of a non-symmetric Frobenius algebra\n",
       "may well be non-central.\n",
       "\n",
       "\\bigskip\n",
       "\n",
       "Using the chain rule from Lemma~\\ref{lemma:jac:cocycle} we can make a few\n",
       "computations:\n",
       "\n",
       "\\begin{Lemma}\\label{lemma:det:sigma}\\mbox{}\n",
       "\\begin{thmlist}\n",
       "\n",
       "\\item For all $n\\in\\ZZ$ we have \n",
       "  \\(\n",
       "  \\jac_\\sigma(\\sigma^n)=1\n",
       "  \\).\n",
       "\n",
       "\\item For all automorphisms~$u:A\\to A$ we have that\n",
       "  \\[\n",
       "  \\jac_\\sigma(\\sigma \\circ u) = \\jac_\\sigma(u),\n",
       "  \\qquad\n",
       "  \\jac_\\sigma(u\\circ \\sigma) = \\sigma^{-1}(\\jac_\\sigma(u)).\n",
       "  \\]\n",
       "\n",
       "\\end{thmlist}\n",
       "\\end{Lemma}\n",
       "\n",
       "\\begin{proof}\n",
       "We have that\n",
       "  \\[\n",
       "  \\gen{a,b} \n",
       "        = \\gen{b,\\sigma(a)}\n",
       "        = \\gen{\\sigma(a),\\sigma(b)}\n",
       "        = \\gen{\\jac_\\sigma(\\sigma)\\cdot a,b}\n",
       "  \\]\n",
       "for all $a$ and~$b$ in~$A$, and thus that $\\jac_\\sigma(\\sigma)=1$. Using\n",
       "this, Lemma~\\ref{lemma:jac:cocycle}, and an obvious induction we can easily\n",
       "see now that $\\jac_\\sigma(\\sigma^n)=1$ for all non-negative integers~$n$.\n",
       "Finally, using the last claim in Lemma~\\ref{lemma:det:JC} we see that that\n",
       "equality in fact holds for all integers~$n$. This proves~\\thmitem{1}, and\n",
       "\\thmitem{2} follows immediately from~\\thmitem{1} and\n",
       "Lemma~\\ref{lemma:jac:cocycle}.\n",
       "\\end{proof}\n",
       "\n",
       "Apart from the powers of the Nakayama automorphism, the only elements\n",
       "of~$\\Aut(A)$ whose Nakayama Jacobian is easy to compute are the inner ones.\n",
       "\n",
       "\\begin{Lemma}\\label{lemma:jac:inner}\n",
       "Let $s$ be a unit in~$A$. The Nakayama Jacobian of the inner automorphism\n",
       "$\\iota_s:a\\in A\\mapsto sas^{-1}\\in A$ is\n",
       "  \\[\n",
       "  \\jac_\\sigma(\\iota_s) = \\sigma^{-1}(s^{-1})\\cdot s.\n",
       "  \\]\n",
       "\\end{Lemma}\n",
       "\n",
       "\\begin{proof}\n",
       "If $a$ and~$b$ are elements of~$B$, then\n",
       "  \\[\n",
       "  \\gen{\\iota_s(a),\\iota_2(b)}\n",
       "        = \\gen{sas^{-1},sas^{-1}}\n",
       "        = \\gen{\\sigma^{-1}(s^{-1})s\\cdot a,b},\n",
       "  \\]\n",
       "and the claim of the lemma follows from this.\n",
       "\\end{proof}\n",
       "\n",
       "Our Frobenius algebra~$A$ usually has many non-degenerate and associative\n",
       "bilinear forms, each of which determines a Nakayama automorphism: the\n",
       "following lemma describes the effect of this indeterminacy on\n",
       "Nakayama Jacobians of automorphisms of~$A$.\n",
       "\n",
       "\\begin{Lemma}\\label{lemma:det:coboundary}\n",
       "Let $\\gen{\\place,\\place}$,~$\\gen{\\place,\\place}':A\\times A\\to\\kk$ be two\n",
       "non-degenerate and associative bilinear forms on~$A$, let\n",
       "$\\sigma$,~$\\sigma':A\\to A$ be corresponding Nakayama automorphisms, let $t$\n",
       "be a unit of~$A$ such that $\\gen{a,b}'=\\gen{a,bt}$ for all~$a$ and all~$b$\n",
       "in~$A$, as in Lemma~\\ref{lemma:change}, and let us consider the unit\n",
       "$\\xi\\coloneqq \\sigma'^{-1}(t)$ of~$A$. For all automorphisms $u:A\\to A$\n",
       "of~$A$ we have that\n",
       "  \\[\n",
       "  \\jac_{\\sigma'}(u) = \\xi^{-1}\\cdot\\jac_\\sigma(u)\\cdot u^ {-1}(\\xi).\n",
       "  \\]\n",
       "\\end{Lemma}\n",
       "\n",
       "\\begin{proof}\n",
       "Let $u:A\\to A$ be an automorphism of~$A$. For all $a$ and~$b$ in~$A$ we\n",
       "have that\n",
       "  \\begin{align}\n",
       "  \\gen{\\jac_{\\sigma'}(u)\\cdot a,b}'\n",
       "       &= \\gen{u(a),u(b)}'\n",
       "        = \\gen{u(a),u(b)\\cdot t}\n",
       "        = \\gen{u(a),u(b\\cdot u^{-1}(t))} \\\\\n",
       "       &= \\gen{\\jac_{\\sigma}(u)\\cdot a,b\\cdot u^{-1}(t)} \n",
       "        = \\gen{\\jac_{\\sigma}(u)\\cdot a,b\\cdot u(t)\\cdot t^{-1}}' \\\\\n",
       "       &= \\gen{\\sigma'^{-1}(u^{-1}(t)\\cdot t^{-1})\\cdot \\jac_{\\sigma}(u)\\cdot a,b}' ,\n",
       "  \\end{align}\n",
       "and this implies that $\\jac_{\\sigma'}(u) = \\sigma'^{-1}(u^{-1}(t)\\cdot\n",
       "t^{-1})\\cdot \\jac_{\\sigma}(u)$. As a consequence of this and of the\n",
       "identity~\\eqref{eq:detcom} in Lemma~\\ref{lemma:det} we see that\n",
       "  \\begin{align}\n",
       "  \\xi^{-1}\\cdot\\jac_\\sigma(u)\n",
       "        &= \\sigma'^{-1}(t^{-1}) \\cdot \\jac_\\sigma(u)\n",
       "         = \\sigma'^{-1}(u^{-1}(t^{-1}))\\cdot\\jac_{\\sigma'}(u)\n",
       "        \\\\\n",
       "        &= \\jac_{\\sigma'}(u)\\cdot u^{-1}(\\sigma'^{-1}(t^{-1})))\n",
       "         = \\jac_{\\sigma'}(u)\\cdot u^{-1}(\\xi^{-1}),\n",
       "  \\end{align}\n",
       "and the equality in the lemma follows from this.\n",
       "\\end{proof}\n",
       "\n",
       "We can present these results in cohomological terms. We will do this in\n",
       "terms of non-abelian group cohomology. If we let $\\Aut(A)$ act in the\n",
       "obvious way on the group of units~$A^\\times$, then we can compute the first\n",
       "cohomology set $\\H^1(\\Aut(A),A^\\times)$. Moreover, from the exact sequence\n",
       "of groups\n",
       "  \\[\n",
       "  \\begin{tikzcd}\n",
       "  1 \\arrow[r]\n",
       "    & \\Inn(A) \\arrow[r, hook]\n",
       "    & \\Aut(A) \\arrow[r]\n",
       "    & \\Out(A) \\arrow[r]\n",
       "    & 1\n",
       "  \\end{tikzcd}\n",
       "  \\]\n",
       "we obtain an exact «inflation-restriction» sequence of sets\n",
       "  \\[\n",
       "  \\begin{tikzcd}[column sep=2em]\n",
       "  0 \\arrow[r]\n",
       "    & H^1(\\Out(A),A^\\times\\cap\\Z(A)) \\arrow[r, \"\\inf\"]\n",
       "    & H^1(\\Aut(A),A^\\times) \\arrow[r, \"\\res\"]\n",
       "    & H^1(\\Inn(A),A^\\times) \n",
       "  \\end{tikzcd}\n",
       "  \\]\n",
       "since the fixed subgroup $(A^\\times)^{\\Inn(A)}$ is\n",
       "simply~$A^\\times\\cap\\Z(A)$. Good references for what this is are\n",
       "Jean-Pierre Serre's~\\cite{Serre}*{Chapitre VII, Annexe} and James\n",
       "Milne's~\\cite{Milne}*{Chapter 27}.\n",
       "\n",
       "\\begin{Proposition}\\mbox{}\\label{prop:class:jac}\n",
       "\\begin{thmlist}\n",
       "\n",
       "\\item The function\n",
       "  \\[\n",
       "  \\jac^\\sim_\\sigma : u\\in\\Aut(A) \\mapsto \\jac_\\sigma(u^{-1})\\in A^\\times\n",
       "  \\]\n",
       "is a $1$-cocycle on the group~$\\Aut(A)$ with values in the possibly\n",
       "non-abelian group of units~$A^\\times$ whose class~$\\JAC(A)$\n",
       "in~$\\H^1(\\Aut(A),A^\\times)$ depends only on~$A$ and not on the choice of\n",
       "the non-degenerate and associative bilinear form~$\\gen{\\place,\\place}$ used\n",
       "to compute~it.\n",
       "\n",
       "\\item The restriction of the class~$\\JAC(A)$ to the subgroup~$\\Inn(A)$ of\n",
       "inner automorphisms of~$A$ is the trivial element\n",
       "of~$\\H^1(\\Inn(A),A^\\times)$ if and only if the algebra~$A$ is symmetric,\n",
       "and when that is the case there is exactly one class~$\\underline\\JAC(A)$\n",
       "in~$\\H^1(\\Out(A),A^\\times\\cap\\Z(A))$ whose inflation to~$\\Aut(A)$\n",
       "is~$\\JAC(A)$.\n",
       "\n",
       "\\end{thmlist}\n",
       "\\end{Proposition}\n",
       "\n",
       "\\begin{proof}\n",
       "That the map~$\\jac^\\sim_\\sigma$ is a $1$-cocycle is a direct consequence of\n",
       "Lemma~\\ref{lemma:jac:cocycle}. On the other hand, if $\\gen{\\place,\\place}'$\n",
       "is another non-degenerate and associative bilinear form on~$A$,\n",
       "$\\sigma':A\\to A$ is the corresponding Nakayama automorphism, $t$ is the\n",
       "unit of~$A$ such that $\\gen{a,b}'=\\gen{a,bt}$ for all~$a$ and~$b$ in~$A$,\n",
       "and we put $\\xi\\coloneqq \\sigma'^{-1}(t)$, then\n",
       "Lemma~\\ref{lemma:det:coboundary} implies immediately that for all\n",
       "$u\\in\\Aut(A)$ we have $\\jac^\\sim_{\\sigma'}(u) = \\xi^{-1}\\cdot\n",
       "\\jac^\\sim_\\sigma(u)\\cdot u(\\xi)$, and this means that the $1$-cocycles\n",
       "$\\jac^\\sim_\\sigma$,~$\\jac^\\sim_{\\sigma'}:\\Aut(A)\\to A^\\times$ are\n",
       "cohomologous. Part~\\thmitem{1} of the proposition follows from this.\n",
       "\n",
       "The restriction of the cocycle~$\\jac^\\sim_\\sigma$ to~$\\Inn(A)$ is,\n",
       "according to Lemma~\\ref{lemma:jac:inner}, the unique function $f:\\Inn(A)\\to\n",
       "A^\\times$ such that $f(\\iota_s)=\\sigma(s)\\cdot s^{-1}$ for all $s\\in\n",
       "A^\\times$, and it is easy to see that there exists a unit~$\\xi$ in~$A$ such\n",
       "that $f(u)=\\xi^{-1}\\cdot u(\\xi)$ for all~$u\\in\\Inn(A)$ if and only if the\n",
       "Nakayama automorphism~$\\sigma$ is inner, which happens exactly when the\n",
       "algebra~$A$ is symmetric. Moreover, when that is the case the\n",
       "class~$\\JAC(A)$ in~$\\H^1(\\Aut(A),A^\\times)$ is the inflation of exactly one\n",
       "element of~$\\H^1(\\Out(A),A^\\times\\cap\\Z(A))$ because of the exactness of\n",
       "the inflation-restriction sequence. \n",
       "\\end{proof}\n",
       "\n",
       "This proposition provides us, for each Frobenius algebra~$A$, with a\n",
       "canonical class~$\\JAC(A)$ in~$\\H^1(\\Aut(A),A^\\times)$, with the class\n",
       "$\\res\\JAC(A)$ in~$\\H^1(\\Inn(A),A^\\times)$, which is the sole obstruction\n",
       "for the algebra to be symmetric, and, when the algebra is symmetric\n",
       "algebra~$A$, with a lifting~$\\underline\\JAC(A)$ of that class\n",
       "to~$\\H^1(\\Out(A),A^\\times\\cap\\Z(A))$. It would be extremely interesting to\n",
       "know what these invariants mean. \n",
       "\n",
       "We do not know, though. What we are able to do is to show that those\n",
       "classes are not always trivial, so that there really is something to be\n",
       "explained, and that in special examples they give something that is\n",
       "actually interesting. We will present examples in the following pages with\n",
       "those objectives.\n",
       "\n",
       "%%%%%%%%%%%%%%%%%%%%%%%%%%%%%%%%%%%%%%%%%%%%%%%%%%%%%%%%%%%%%%%%%%%%%%\n",
       "\\subsubsection{An example: the Grassmann algebra}\n",
       "\\label{subsubsect:jac:grass}\n",
       "\n",
       "We suppose here that the characteristic of our ground field~$\\kk$ is\n",
       "not~$2$. We let $V$ be a finite-dimensional vector space, write~$n$ for its\n",
       "the dimension, and choose an arbitrary ordered basis $\\B=(x_1,\\dots,x_n)$\n",
       "for~$V$. We want to consider the exterior algebra $A\\coloneqq\\Lambda(V)$\n",
       "on~$V$, and endow it with its usual $\\ZZ$-grading, so\n",
       "that~$A^i=\\Lambda^i(V)$ for all~$i\\in\\ZZ$.\n",
       "\n",
       "There is a unique linear form $\\int:A\\to\\kk$ that vanishes on~$A^i$ for all\n",
       "$i\\in\\inter{0,n-1}$ and has \n",
       "  \\[\n",
       "  \\tint(x_1\\wedge\\cdots\\wedge x_n)=1,\n",
       "  \\]\n",
       "and from it we can construct a bilinear form $\\gen{\\place,\\place}$ on~$A$\n",
       "putting, for all $a$ and~$b$ in~$A$,\n",
       "  \\[\n",
       "  \\gen{a,b} \\coloneqq \\tint(a\\wedge b).\n",
       "  \\]\n",
       "This bilinear form is non-degenerate and associative, so $A$ is a Frobenius\n",
       "algebra, and an easy calculation shows that the corresponding Nakayama\n",
       "automorphism $\\sigma:A\\to A$ is the unique automorphism of~$A$ such that\n",
       "$\\sigma(x)=(-1)^{n-1}x$ for all~$x\\in V$. In particular, the algebra~$A$ is\n",
       "symmetric exactly when the integer~$n$ is odd, for $\\sigma$ is not inner\n",
       "if~$n$ es even, as one can easily check.\n",
       "\n",
       "\\bigskip\n",
       "\n",
       "There is a unique `parity' automorphism $\\mathsf{s}:A\\to A$ such that\n",
       "$\\mathsf{s}(x)=-x$ for all~$x\\in V$, it is diagonalizable, and we write\n",
       "$A^\\odd\\coloneqq\\{a\\in A:\\mathsf{s}(a)=-a\\}$ and $A^\\even\\coloneqq\\{a\\in\n",
       "A:\\mathsf{s}(a)=a\\}$ for its two eigenspaces. The subspace~$A^\\even$ is a\n",
       "subalgebra of~$A$ contained in its center. We can consider in~$\\Aut(A)$ the\n",
       "subgroup\n",
       "  \\[\n",
       "  \\Aut_\\odd(A) \\coloneqq \\{u\\in\\Aut(A) : u(V)\\subseteq A^\\odd\\}.\n",
       "  \\]\n",
       "On the other hand, we say that a linear map~$\\partial:A\\to A$ is a\n",
       "\\newterm{left skew derivation}\\label{def:lsder} if \n",
       "  \\[\n",
       "  \\partial(a\\cdot b)=\\partial(a)\\cdot b+(-1)^ia\\cdot \\partial(b)\n",
       "  \\]\n",
       "whenever $i\\in\\inter{0,n}$, $a\\in A^i$ and~$b\\in A$, and it is easy to\n",
       "check that there are well-determined left skew derivations\n",
       "$\\frac{\\partial}{\\partial x_1}$,~\\dots,~$\\frac{\\partial}{\\partial x_n}:A\\to\n",
       "A$ such that\n",
       "  \\[\n",
       "  \\frac{\\partial}{\\partial x_i}(x_j) = \\delta_{i,j}\n",
       "  \\]\n",
       "for all choices of~$i$ and~$j$ in~$\\inter{n}$. If $u:A\\to A$ is an element\n",
       "of~$\\Aut_\\odd(A)$, then following Vladimir Bavula in~\\cite{Bavula} we\n",
       "define the \\newterm{Jacobian} of~$u$ to be\n",
       "  \\[\n",
       "  \\jac(u) \\coloneqq\n",
       "      \\det\n",
       "      \\left(\n",
       "      \\frac{\\partial u(x_i)}{\\partial x_j}\n",
       "      \\right) \\in A^\\even.\n",
       "  \\]\n",
       "It is important to notice that this makes sense because the entries of the\n",
       "matrix whose determinant we are taking are all in~$A^\\even$ and therefore\n",
       "commute. \n",
       "\n",
       "Bavula notes in~\\cite{Bavula} that for all choices of $u$ and~$v$\n",
       "in~$\\Aut_\\odd(A)$ we have that\n",
       "  \\[ \\label{eq:jac:ch}\n",
       "  \\jac(u\\circ v) = \\jac(u)\\cdot u(\\jac(v)).\n",
       "  \\]\n",
       "As $A^\\even$ is contained in the center of~$A$, this implies that the\n",
       "Jacobian of any element of~$\\Aut_\\odd(A)$ is an element of~$A^\\times\\cap\n",
       "\\Z(A)$, and that the map $\\jac:\\Aut_\\odd(A)\\to A^\\times\\cap\\Z(A)$ that we\n",
       "obtain in this way is a $1$-cocycle. We want to prove that this Jacobian\n",
       "almost coincides with the restriction of the Nakayama Jacobian of~$A$\n",
       "to~$\\Aut_\\odd(A)$.\n",
       "\n",
       "\\begin{Proposition}\\label{prop:jacjac}\n",
       "For all $u\\in\\Aut_\\odd(A)$ we have $\\jac^\\sim_\\sigma(u)=\\jac(u)^{-1}$.\n",
       "\\end{Proposition}\n",
       "\n",
       "This result justifies our decision to call the map~$\\jac_\\sigma$ the\n",
       "Nakayama \\emph{Jacobian}. One should recall that, in general,\n",
       "$\\jac^\\sim_\\sigma(u^{-1})$ and $\\jac^\\sim_\\sigma(u)^{-1}$ are not equal.\n",
       "\n",
       "\\bigskip\n",
       "\n",
       "Before proving this we need to recall some facts about the structure of the\n",
       "group~$\\Aut(A)$ from Bavula's paper~\\cite{Bavula}.\n",
       "\\begin{itemize}\n",
       "\n",
       "\\item Let $P$ be the set of all $3$-element subsets of~$\\inter{n}$, and\n",
       "when $\\alpha$ is an element of~$P$ and~$\\alpha_1$,~$\\alpha_2$\n",
       "and~$\\alpha_k$ are the three elements of~$\\alpha$ listed in increasing\n",
       "order let us put $x^\\alpha\\coloneqq x_{\\alpha_1}\\wedge x_{\\alpha_2}\\wedge\n",
       "x_{\\alpha_k}$. For each choice of~$i$ in~$\\inter{n}$, of~$\\lambda$\n",
       "in~$\\kk$, and of~$\\alpha$ in~$P$, there is a unique automorphism\n",
       "$\\gamma_{i,\\lambda,\\alpha}:A\\to A$ such that\n",
       "  \\[\n",
       "  \\gamma_{i,\\lambda,\\alpha}(x_j) \n",
       "        = \\begin{cases*}\n",
       "          x_i + \\lambda x^\\alpha & if $j=i$; \\\\\n",
       "          x_j   & if $j\\neq i$.\n",
       "          \\end{cases*}\n",
       "  \\]\n",
       "According to \\cite{Bavula}*{Theorem 3.11(1)} the set\n",
       "  \\(\n",
       "  \\{\\gamma_{i,\\lambda,\\alpha}:i\\in\\inter{n},\\lambda\\in\\kk,\\alpha\\in P\\}\n",
       "  \\)\n",
       "generates in~$\\Aut(A)$ the subgroup\n",
       "  \\[\n",
       "  \\Gamma \\coloneqq \n",
       "        \\{ u\\in\\Aut(A): \n",
       "           \\text{$u(x)\\equiv x\\mod A^\\odd\\cap\\m^3$ for all $x\\in V$}\n",
       "         \\}.\n",
       "  \\]\n",
       "\n",
       "\\item For each linear map~$f:V\\to V$ in~$\\GL(V)$ there is a unique\n",
       "automorphism $\\phi_f:A\\to A$ such that $\\phi_f(v)=f(v)$ for all~$x\\in V$,\n",
       "it is an element of the subgroup~$\\Aut_\\ZZ(A)$ of~$\\Aut(A)$ of those\n",
       "automorphisms that preserve the $\\ZZ$-grading, and, in fact, the function\n",
       "  \\[ \\label{eq:gliso}\n",
       "  \\phi:f\\in\\GL(V)\\mapsto\\phi_f\\in\\Aut_\\ZZ(A)\n",
       "  \\]\n",
       "that we obtain in this way is an isomorphism of groups. \n",
       "\n",
       "\\item The subgroup~$\\Aut_\\ZZ(A)$ intersects~$\\Gamma$ trivially and\n",
       "normalizes it, and combining \\cite{Bavula}*{Lemmas~2.9,~2.15(2),\n",
       "and~2.16(1)} we can see that\n",
       "  \\[\n",
       "  \\Aut_\\odd(A) = \\Gamma\\rtimes\\Aut_\\ZZ(A).\n",
       "  \\]\n",
       "\n",
       "\\end{itemize}\n",
       "\n",
       "\\begin{proof}[Proof of Proposition~\\ref{prop:jacjac}] \n",
       "The function\n",
       "  \\(\n",
       "  u\\in\\Aut_\\odd(A) \\mapsto \\jac(u)^{-1} \\in A\n",
       "  \\)\n",
       "is a $1$-cocycle on the group~$\\Aut_\\odd(A)$: this follows from the «chain\n",
       "rule»~\\eqref{eq:jac:ch} that~$\\jac$ satisfies and the fact that it takes\n",
       "values in the center of~$A$. Since $\\jac_\\sigma^\\sim:\\Aut_\\odd(A)\\to A$ is\n",
       "also a $1$-cocycle, to prove that $\\jac^\\sim_\\sigma(u)=\\jac(u)^{-1}$ for\n",
       "all $u\\in\\Aut_\\odd(A)$ it is enough then to check that that equality is\n",
       "true when $u=\\gamma_{i,\\lambda,\\alpha}$ for some choice of~$i\\in\\inter{n}$,\n",
       "$\\lambda\\in\\kk$ and~$\\alpha\\in P$, and when $u=\\phi_f$ for some choice\n",
       "of~$f\\in\\GL(V)$. This follows immediately from the fact that these elements\n",
       "generate~$\\Aut_\\odd(A)$, as we observed above.\n",
       "\n",
       "\\medskip\n",
       "\n",
       "Let $i$,~$\\lambda$ and~$\\alpha$ be elements of~$\\inter{n}$,~$\\kk$ and the\n",
       "set~$P$, respectively, and let $\\alpha_1$,~$\\alpha_2$ and~$\\alpha_3$ be the\n",
       "three elements of~$\\alpha$ listed in increasing order. We claim that\n",
       "  \\[ \\label{eq:jac:gamma}\n",
       "  \\jac^\\sim_\\sigma(\\gamma_{i,\\lambda,\\alpha})\n",
       "    = \\begin{cases*}\n",
       "      1 & if $i\\notin\\alpha$; \\\\\n",
       "      1 - \\lambda\\cdot x_{\\alpha_2}\\wedge x_{\\alpha_3} & if $i = \\alpha_1$; \\\\\n",
       "      1 + \\lambda\\cdot x_{\\alpha_1}\\wedge x_{\\alpha_3} & if $i = \\alpha_2$; \\\\\n",
       "      1 - \\lambda\\cdot x_{\\alpha_1}\\wedge x_{\\alpha_3} & if $i = \\alpha_3$.\n",
       "      \\end{cases*}\n",
       "  \\]\n",
       "Let us write $d$ for the element of~$A$ appearing in right hand side of\n",
       "this equality, which is an element of~$A^0+A^2$, and, for simplicity, let\n",
       "us write~$\\gamma$ instead of~$\\gamma_{i,\\lambda,\\alpha}$ and remark that\n",
       "for all $i\\in\\inter{0,n}$ we have that $\\gamma^{-1}(A^i)\\subseteq\n",
       "A^i+A^{i+2}$. To prove our claim it is enough that we choose~$s$\n",
       "in~$\\inter{0,n}$ and~$r_1$,~\\dots,~$r_s$ in~$\\inter{n}$ such that\n",
       "$r_1<\\cdots<r_s$, put $a\\coloneqq x_{r_1}\\wedge\\cdots\\wedge x_{r_s}$, and\n",
       "show that\n",
       "  \\[ \\label{eq:ggg}\n",
       "  \\gen{1,\\gamma^{-1}(a)} = \\gen{1, d\\wedge a}.\n",
       "  \\]\n",
       "If $s\\notin\\{n-2,n\\}$, then $\\gamma^{-1}(a)$ and~$d\\wedge a$ belong\n",
       "to~$A^s+A^{s+2}$, which intersects trivially~$A^n$, and both sides of the\n",
       "equality~\\eqref{eq:ggg} are zero. If, on the other hand, $s=n$, then\n",
       "$\\gamma^{-1}(a)=a$ and $d\\wedge a=a$, and that equality is just as clear.\n",
       "Let us consider the case in which $s=n-2$.\n",
       "\\begin{itemize}\n",
       "\n",
       "\\item We suppose first that $i\\notin\\{r_1,\\dots,r_{n-2}\\}$, so that\n",
       "$\\gamma^{-1}(a)=a$: to prove~\\eqref{eq:ggg} in this situation it is then\n",
       "enough then we show that $d\\wedge a=a$. This is obvious if $i\\notin\\alpha$,\n",
       "for then $d=1$. Let us then suppose that $i\\in\\alpha$ and let $\\beta_1$\n",
       "and~$\\beta_2$ be the elements of~$\\alpha\\setminus\\{i\\}$ indexed so that\n",
       "$\\beta_1<\\beta_2$: we then have $d=1\\pm\\lambda\\cdot x_{\\beta_1}\\wedge\n",
       "x_{\\beta_2}$ for some choice of the sign. The set\n",
       "$\\{\\beta_1,\\beta_2\\}\\cap\\{r_1,\\dots,r_{n-2}\\}$ is not empty, for the sets\n",
       "$\\{\\beta_1,\\beta_2\\}$ and~$\\{r_1,\\dots,r_{n-2}\\}$ have cardinals~$2$\n",
       "and~$n-2$, respectively, and their union has cardinal at most~$n-1$, since\n",
       "it does not contain~$i$. It follows from this that\n",
       "  \\[\n",
       "  d\\wedge a = (1\\pm\\lambda\\cdot x_{\\beta_1}\\wedge x_{\\beta_2})\n",
       "              \\wedge(x_{r_1}\\wedge\\cdots\\wedge x_{r_{n-2}})\n",
       "            = x_{r_1}\\wedge\\cdots\\wedge x_{r_{n-2}} = a,\n",
       "  \\]\n",
       "as we want.\n",
       "\n",
       "\\item Let us suppose now that there is a~$j$ in~$\\inter{n-2}$ such that\n",
       "$r_j=i$, so that\n",
       "  \\[ \\label{eq:seq:0}\n",
       "  \\gamma^{-1}(a) \n",
       "        = x_{r_1}\\wedge \\cdots\\wedge x_{r_{j-1}}\n",
       "          \\wedge\n",
       "          (x_i-\\lambda\\cdot x_{\\alpha_1}\\wedge x_{\\alpha_2}\\wedge x_{\\alpha_3})\n",
       "          \\wedge\n",
       "          x_{r_{j+1}}\\wedge\\cdots\\wedge r_{n-2}.\n",
       "  \\]\n",
       "There are two possibilities now.\n",
       "\\begin{itemize}\n",
       "\n",
       "\\item It may be the case that there are repeated elements in the sequence\n",
       "  \\[ \\label{eq:seq}\n",
       "  (r_1,\\dots,r_{j-1},\\alpha_1,\\alpha_2,\\alpha_3,r_{j+1},\\dots,r_{n-2}).\n",
       "  \\]\n",
       "It follows then from~\\eqref{eq:seq:0} that $\\gamma^{-1}(a)=a\\in A^{n-2}$\n",
       "and thus that $\\gen{1,\\gamma^{-1}(a)}=0$. If~$i\\notin\\alpha$, then\n",
       "$\\gen{1,d\\wedge a}=0$ for $d=1$ and $a\\in A^{n-2}$, and the\n",
       "equality~\\eqref{eq:ggg} holds. \n",
       "\n",
       "Suppose now that instead $i\\in\\alpha$ and, as before, let $\\beta_1$\n",
       "and~$\\beta_2$ be the elements of~$\\alpha\\setminus\\{i\\}$ indexed so that\n",
       "$\\beta_1<\\beta_2$. Since there are repeated elements in~\\eqref{eq:seq} and\n",
       "$i\\notin\\{r_1,\\dots,r_{j-1},r_{j+1},\\dots,r_{n-2}\\}$, the sequence\n",
       "  \\(\n",
       "  (\\beta_1,\\beta_2,r_1,\\dots,r_{n-2})\n",
       "  \\)\n",
       "also has repeated elements and therefore\n",
       "  \\[\n",
       "  \\gen{1,d\\wedge a}\n",
       "        = \\gen{1, (1\\pm\\lambda\\cdot x_{\\beta_1}\\wedge x_{\\beta_2})\n",
       "              \\wedge(x_{r_1}\\wedge\\cdots\\wedge x_{r_{n-2}})}\n",
       "        = 0,\n",
       "  \\]\n",
       "so that \\eqref{eq:ggg} also holds in this situation.\n",
       "\n",
       "\\item It may be the case that there are no repeated elements in the\n",
       "sequence~\\eqref{eq:ggg}. Let $\\epsilon$ be the signature of the permutation\n",
       "that sorts it in increasing order. In view of~\\eqref{eq:seq:0} we now have\n",
       "that\n",
       "  \\[\n",
       "  \\gen{1,\\gamma^{-1}(a)} = -\\epsilon\\lambda.\n",
       "  \\]\n",
       "Since the sequence~\\eqref{eq:seq} has length~$n$ and $r_j=i$, we see that\n",
       "$i\\in\\alpha$. Once more, let $\\beta_1$ and~$\\beta_2$ be the elements\n",
       "of~$\\alpha\\setminus\\{i\\}$ indexed so that $\\beta_1<\\beta_2$, and let $\\eta$\n",
       "be the signature of the permutation that\n",
       "takes~$(\\alpha_1,\\alpha_2,\\alpha_3)$ to~$(i,\\beta_1,\\beta_2)$. We have\n",
       "$d=1-\\eta\\lambda\\cdot x_{\\beta_1}\\wedge x_{\\beta_2}$ and\n",
       "  \\[\n",
       "  \\gen{1,d\\wedge a}\n",
       "        = \\gen{1, (1-\\eta\\lambda\\cdot x_{\\beta_1}\\wedge x_{\\beta_2})\n",
       "              \\wedge(x_{r_1}\\wedge\\cdots\\wedge x_{r_{n-2}})}\n",
       "        = -\\eta\\eta'\\lambda,\n",
       "  \\]\n",
       "with $\\eta'$ the signature of the permutation that\n",
       "sorts~$(\\beta_1,\\beta_2,r_1,\\dots,r_{n-2})$. As $\\epsilon\\eta\\eta'=1$, the\n",
       "equality~\\eqref{eq:ggg} also holds in this case.\n",
       "\n",
       "\\end{itemize}\n",
       "\\end{itemize}\n",
       "This completes the proof of our claim of the equality~\\eqref{eq:jac:gamma}.\n",
       "\n",
       "Next, we compute Bavula's Jacobian~$\\jac(\\gamma)$. If $k$,~$l\\in\\inter{n}$\n",
       "are such that $k\\neq 0$, then $\\gamma(x_k)=x_k$, and this implies that\n",
       "  \\[\n",
       "  \\frac{\\partial \\gamma(x_k)}{\\partial x_l} = \\delta_{k,l}.\n",
       "  \\]\n",
       "We see with this that the matrix\n",
       "  \\(\n",
       "  \\left(\\frac{\\partial \\gamma(x_k)}{\\partial x_l}\\right)\n",
       "  \\)\n",
       "coincides with the identity matrix except possibly along its $i$th row, so\n",
       "that its determinant is\n",
       "  \\[\n",
       "  \\jac(\\gamma) \n",
       "        = \\det \\left(\\frac{\\partial \\gamma(x_k)}{\\partial x_l}\\right)\n",
       "        = \\frac{\\partial \\gamma(x_i)}{\\partial x_i}\n",
       "        = \\begin{cases*}\n",
       "          1 & if $i\\notin\\alpha$; \\\\\n",
       "          1 + \\lambda\\cdot x_{\\alpha_2}\\wedge x_{\\alpha_3} & if $i = \\alpha_1$; \\\\\n",
       "          1 - \\lambda\\cdot x_{\\alpha_1}\\wedge x_{\\alpha_3} & if $i = \\alpha_2$; \\\\\n",
       "          1 + \\lambda\\cdot x_{\\alpha_1}\\wedge x_{\\alpha_3} & if $i = \\alpha_3$.\n",
       "          \\end{cases*}\n",
       "  \\]\n",
       "It is the clear that $\\jac(\\gamma)^{-1}=d=\\jac^\\sim_\\sigma(\\gamma)$, as we want.\n",
       "\n",
       "\\medskip\n",
       "\n",
       "Let now $f:V\\to V$ be an element of~$\\GL(V)$, let $(f_{i,j})\\in\\GL_n(\\kk)$\n",
       "be the matrix of~$f$ with respect to the ordered basis~$\\B$ of~$V$, so that\n",
       "$f(x_j)=\\sum_{i=1}^nf_{i,j}x_i$ for all~$j\\in\\inter{n}$, and let\n",
       "$\\phi_f:A\\to A$ be the automorphism of~$A$ corresponding to~$f$ by the\n",
       "isomorphism~\\eqref{eq:gliso}, which respects the $\\ZZ$-grading on~$A$. We\n",
       "want to show that $\\jac^\\sim_\\sigma(\\phi_d)=\\det(f)^{-1}$ or, what is the\n",
       "same, that for all $a\\in A$ we have\n",
       "  \\(\n",
       "  \\gen{1,\\phi_f^{-1}(a)} = \\gen{\\det(f)^{-1},a}\n",
       "  \\).\n",
       "This is clear if there is an element~$l$ in~$\\inter{0,n-1}$ such that $a\\in\n",
       "A^l$, for in that case then $\\phi_f^{-1}(a)$ is also in~$A^l$ and the\n",
       "scalars~$\\gen{1,\\phi_f^{-1}(a)}$ and~$\\gen{\\det(f),a}$ are both zero. If\n",
       "instead $a$ is a multiple of~$x_1\\wedge\\cdots\\wedge x_n$, then of course\n",
       "$\\phi_f^{-1}(a)=\\det(f)^{-1}\\cdot a$ and the equality also holds.\n",
       "\n",
       "On the other hand, we clearly have that \n",
       "  \\(\n",
       "  \\frac{\\partial \\phi_f(x_i)}{\\partial x_j} = f_{i,j}\n",
       "  \\)\n",
       "for all $i$ and all~$j$ in~$\\inter{n}$, so that\n",
       "  \\[\n",
       "  \\jac(\\phi_f) \n",
       "        = \\det\\left(\\frac{\\partial \\phi_f(x_i)}{\\partial x_j}\\right) \n",
       "        = \\det(f_{i,j})\n",
       "        = \\det(f).\n",
       "  \\]\n",
       "We see that $\\jac^\\sim_\\sigma(\\phi_f)=\\jac(\\phi_f)^{-1}$. This completes\n",
       "the proof of the proposition. \\end{proof}\n",
       "\n",
       "An immediate corollary of this proposition and its proof is that our\n",
       "cohomological invariant is not trivial:\n",
       "\n",
       "\\begin{Corollary}\n",
       "The class~$\\JAC(A)$ in~$\\H^1(\\Aut(A),A^\\times)$ is not trivial.\n",
       "\\end{Corollary}\n",
       "\n",
       "\\begin{proof}\n",
       "To prove this it is enough that we show that the restriction of the\n",
       "$1$-cocycle $\\jac^\\sim_\\sigma:\\Aut(A)\\to A^\\times$ to the\n",
       "subgroup~$\\Aut_\\ZZ(A)$ of automorphisms of~$A$ that preserve the\n",
       "$\\ZZ$-grading is not a coboundary. In the proof of\n",
       "Proposition~\\ref{prop:jacjac} we saw that, up to the\n",
       "isomorphism~\\eqref{eq:gliso}, that restriction is the map\n",
       "$f\\in\\GL(V)\\mapsto\\det(f)^{-1}\\in A^\\times$. If this restriction was a\n",
       "coboundary, we would have a unit~$\\xi\\in A^\\times$ such that\n",
       "$\\det(f)^{-1}=\\xi^{-1}\\cdot\\phi_f(\\xi)$ for all~$f\\in\\GL(V)$. If we let\n",
       "$\\xi_0$ be the «constant term» of~$\\xi$, which is a non-zero scalar, then\n",
       "this tells us that $\\det(f)^{-1}\\xi_0=\\xi_0$ for all~$f\\in\\GL(V)$, and this\n",
       "is absurd: since the characteristic of~$\\kk$ is not~$2$, there are elements\n",
       "in~$\\GL(V)$ whose determinant is not~$1$.\n",
       "\\end{proof}\n",
       "\n",
       "Proposition~\\ref{prop:jacjac} tells us what the restriction\n",
       "of~$\\jac^\\sim_\\sigma$ to~$\\Aut_\\odd(A)$ is: as this is a proper subgroup\n",
       "of~$\\Aut(A)$, there is more to be said. According to\n",
       "\\cite{Bavula}*{Corollary~2.15}, the\n",
       "subgroup~$\\Aut_\\odd(A)=\\Gamma\\rtimes\\Aut_\\ZZ(A)$ intersects\n",
       "trivially~$\\Inn(A)$ and we have that, in fact,\n",
       "  \\[\n",
       "  \\Aut(A) = \\Inn(A) \\rtimes \\Aut_\\odd(A).\n",
       "  \\]\n",
       "Moreover, \\cite{Bavula}*{Lemmas 2.8 and~2.9} tells us that the function\n",
       "  \\[\n",
       "  a\\in A^\\odd\\mapsto\\iota_{1+a}\\in\\Inn(A)\n",
       "  \\]\n",
       "is a surjective morphism of groups whose kernel is $A^\\odd\\cap A^n$ and\n",
       "that therefore induces an isomorphism $A^\\odd/A^\\odd\\cap A^n\\to\\Inn(A)$.\n",
       "Using this information we can easily compute $\\jac^\\sim_\\sigma$ on the\n",
       "subgroup~$\\Inn(A)$:\n",
       "\n",
       "\\begin{Lemma}\n",
       "If $a$ is an element of~$A^\\odd$, then\n",
       "  \\[\n",
       "  \\jac^\\sim_\\sigma(\\iota_{1+a})\n",
       "        = \\begin{cases*}\n",
       "          1-2a & if $n$ is even; \\\\\n",
       "          1 & if $n$ is odd.\n",
       "          \\end{cases*}\n",
       "  \\]\n",
       "\\end{Lemma}\n",
       "\n",
       "When $n$ is odd, the algebra~$A$ is symmetric, and we already know\n",
       "from~Lemma~\\ref{lemma:jac:inner} that $\\jac^\\sim_\\sigma$ is necessarily\n",
       "trivial on~$\\Inn(A)$.\n",
       "\n",
       "\\begin{proof}\n",
       "Let $a$ be an element of~$A^\\odd$. We have that\n",
       "$\\sigma^{-1}(a)=(-1)^{n-1}a$, and that and Lemma~\\ref{lemma:jac:inner} let\n",
       "us compute that\n",
       "  \\begin{align}\n",
       "  \\jac^\\sim_\\sigma(\\iota_{1+a})\n",
       "       &= \\jac_\\sigma(\\iota_{1+a}^{-1})\n",
       "        = \\jac_\\sigma(\\iota_{1-a})\n",
       "        = \\sigma^{-1}((1-a)^{-1})\\cdot (1-a) \n",
       "        = \\sigma^{-1}(1+a)\\cdot (1-a) \\\\\n",
       "       &= (1+(-1)^{n-1}a)\\cdot (1-a) \n",
       "        = 1 + ((-1)^{n-1}-1)a.\n",
       "  \\end{align}\n",
       "This is what the lemma claims.\n",
       "\\end{proof}\n",
       "\n",
       "Let us remark that Bavula defines in~\\cite{Bavula} the Jacobian of an\n",
       "automorphism $u:A\\to A$ only when it maps~$V$ to~$A^\\odd$: as we said\n",
       "above, this ensures that the matrix $\\left(\\frac{\\partial\n",
       "\\phi_f(x_i)}{\\partial x_j}\\right)$ has all its entries in the commutative\n",
       "ring~$A^\\even$ and that therefore we can compute its determinant as usual.\n",
       "It is a non-trivial fact established in \\cite{Bavula}*{Section 2} that the\n",
       "subset\n",
       "  \\[\n",
       "  \\Aut_\\even(A) \\coloneqq \\{u\\in\\Aut(A):u(V)\\subseteq V+A^\\even\\}\n",
       "  \\]\n",
       "of~$\\Aut(A)$ is actually a subgroup, and that\n",
       "  \\begin{gather}\n",
       "  \\Aut(A) = \\Aut_\\odd(A)\\cdot\\Aut_\\even(A)=\\Aut_\\even(A)\\cdot\\Aut_\\odd(A), \\\\\n",
       "  \\Aut_\\ZZ(A) = \\Aut_\\odd(A)\\cdot\\Aut_\\even(A),\n",
       "\\shortintertext{and}\n",
       "  \\Aut_\\even(A) = \\Inn(A)\\rtimes\\Aut_\\ZZ(A).\n",
       "  \\end{gather}\n",
       "This shows that the only part of~$\\Aut(A)$ on which Bavula does not define\n",
       "his Jacobian is~$\\Inn(A)$. Up to the inversion that showed up in the\n",
       "statement of Proposition~\\ref{prop:jacjac}, what we have seen here is that\n",
       "the twisted Nakayama Jacobian~$\\jac^\\sim_\\sigma$ gives a good global\n",
       "definition on the whole automorphism group.\n",
       "\n",
       "%%%%%%%%%%%%%%%%%%%%%%%%%%%%%%%%%%%%%%%%%%%%%%%%%%%%%%%%%%%%%%%%%%%%%%\n",
       "\\subsubsection{An example: trivial extensions}\n",
       "\\label{subsubsect:jac:trivial}\n",
       "\n",
       "Let $B$ be a finite dimensional algebra, let $\\D B\\coloneqq\\Hom(B,\\kk)$ be\n",
       "its dual space viewed as a $B$-bimodule in the usual way, and let\n",
       "$A\\coloneqq B\\oplus\\D{B}$ be the \\newterm{trivial extension} of~$B$ by~$\\D\n",
       "B$, whose product is such that\n",
       "  \\[\n",
       "  (x,x')\\cdot(y,y') = (xy,xy'+x'y)\n",
       "  \\]\n",
       "for all $(x,x')$,~$(y,y')\\in A$. The bilinear\n",
       "form~$\\gen{\\place,\\place}:A\\times A\\to\\kk$ that has\n",
       "  \\[\n",
       "  \\gen{(x,x'),(y,y')} = x'(y) + y'(x)\n",
       "  \\]\n",
       "whenever $(x,x')$ and~$(y,y')$ are elements of~$A$ is non-degenerate,\n",
       "associative and symmetric, so the algebra~$A$ is symmetric. \n",
       "\n",
       "Let $u:A\\to A$ be an automorphism of~$A$. There are linear maps $a:B\\to B$,\n",
       "$b:\\D B\\to B$, $c:B\\to\\D B$ and~$d:\\D B\\to\\D B$ such that\n",
       "  \\[\n",
       "  u = \\begin{pmatrix}\n",
       "      a & b \\\\\n",
       "      c & d\n",
       "      \\end{pmatrix}\n",
       "      : B\\oplus\\D B \\to B\\oplus \\D B.\n",
       "  \\]\n",
       "Since the form on~$A$ is symmetric, the Jacobian of~$u$ is a central unit\n",
       "of~$A$, so it can be written as $t+\\tau$ with $t\\in B^\\times\\cap\\Z(B)$ and\n",
       "$\\tau\\in\\D{B}^B$. The condition that\n",
       "$\\gen{u(1),u(x)}=\\gen{\\jac_\\sigma(u),x}$ for all $x\\in A$ implies at once\n",
       "that $t$ is the unique element of~$B$ such that\n",
       "  \\[ \\label{eq:jtv:1}\n",
       "  x'(t) = d(x')(1) \\quad\\text{for all $x'\\in\\D B$,}\n",
       "  \\]\n",
       "and that the map~$\\tau:B\\to\\kk$ is such that\n",
       "  \\[ \\label{eq:jtv:2}\n",
       "  \\tau(x) = c(x)(1) \\quad\\text{for all $x\\in B$.}\n",
       "  \\]\n",
       "That $\\tau$ belongs to~$\\D{B}^B\\coloneqq\\{\\lambda\\in\\D\n",
       "B:\\text{$x\\lambda=\\lambda x$ for all $x\\in B$}\\}$ implies immediately that\n",
       "the map~$\\tau$ vanishes on commutators of~$B$, and we can therefore view\n",
       "$\\tau$ as the linear map \n",
       "  \\[\n",
       "  x+[B,B]\\in \\HH_0(B)\\coloneqq B/[B,B] \\mapsto \\tau(x)\\in \\kk.\n",
       "  \\]\n",
       "\n",
       "It is interesting to notice that not every central unit of~$A$ is the\n",
       "Jacobian of an automorphism of~$A$:\n",
       "\n",
       "\\begin{Lemma}\n",
       "A central unit of~$A$ is the Jacobian of an automorphism of~$A$ if and only\n",
       "if it is of the form $t+\\tau$ with $t$ a central unit of~$B$ and\n",
       "$\\tau:B\\to\\kk$ an element of the image of the transposed map\n",
       "  \\[\n",
       "  \\CB^\\T : \\HH_1(B)^* \\to \\HH_0(B)^*\n",
       "  \\]\n",
       "of the Connes boundary $\\CB:\\HH_0(B)\\to\\HH_1(B)$.\n",
       "\\end{Lemma}\n",
       "\n",
       "Bavula spends a significant part of his paper~\\cite{Bavula} studying the\n",
       "problem of describing the image of his Grassmannian Jacobian function: this\n",
       "lemma corresponds to that in the case of trivial extensions. It would be\n",
       "very interesting to understand why exactly the Connes boundary map appears\n",
       "in this context.\n",
       "\n",
       "\\begin{proof}\n",
       "Let $u:A\\to A$ be an automorphism, and let  $a:B\\to B$, $b:\\D B\\to B$,\n",
       "$c:B\\to\\D B$ and~$d:\\D B\\to\\D B$ be the linear maps such that\n",
       "  \\(\n",
       "  u = \\begin{psmallmatrix}\n",
       "      a & b \\\\\n",
       "      c & d\n",
       "      \\end{psmallmatrix}\n",
       "      : B\\oplus\\D B \\to B\\oplus \\D B\n",
       "  \\).\n",
       "The map~$a$ is a morphism of algebras and $c(xy) = a(x)c(y) + c(x)a(y)$ for\n",
       "all $x$,~$y\\in B$. \n",
       "\n",
       "As we noted above, the Jacobian of~$u$ is of the\n",
       "form~$\\jac_\\sigma(u)=t+\\tau$, with $t$ a central unit of~$B$ and\n",
       "$\\tau:B\\to\\kk$ the element of~$\\D{B}^B$ such that $\\tau(x)=c(x)(1)$ for all\n",
       "$x\\in B$. A calculation shows that the map \n",
       "  \\[\n",
       "  \\bar c:x\\otimes y\\in B\\otimes B\\mapsto c(y)(a(x))\\in\\kk\n",
       "  \\]\n",
       "has the property that\n",
       "  \\[\n",
       "  \\bar c(xy\\otimes z - x\\otimes yz + zx\\otimes y) = 0\n",
       "  \\]\n",
       "for all $x$,~$y$,~$z\\in B$, and this means that $\\bar c$ vanishes on\n",
       "Hochschild $1$-boundaries and thus that its restriction to Hochschild\n",
       "$1$-cycles induces a map $\\hat c:\\HH_1(B)\\to\\kk$, that is, an element\n",
       "of~$\\HH_1(B)^*$. On the other hand, according to~\\cite{Loday}*{Eq.~2.1.7.3}\n",
       "the Connes coboundary $\\CB:\\HH_0(B)\\to\\HH_1(B)$ is induced on homology by\n",
       "the map\n",
       "  \\[\n",
       "  x\\in B \\mapsto 1\\otimes x + x\\otimes 1\\in B\\otimes B,\n",
       "  \\]\n",
       "so the map $\\CB^\\T(\\hat c):\\HH_0(B)\\to\\kk$ is induced on~$\\HH_0(B)$ by the\n",
       "map\n",
       "  \\[\n",
       "  x\\in B\\mapsto\\bar c(\\CB(x)) = c(x)(a(1))+c(1)(a(x))=\\tau(x)\\in \\kk,\n",
       "  \\]\n",
       "which is, of course, just the linear map~$\\tau$ with which we started ---\n",
       "here we have used the fact that \n",
       "  \\(\n",
       "  c(1) = c(1\\cdot1) = a(1)c(1)+c(1)c(1) = c(1)+c(1)\n",
       "  \\)\n",
       "because~$a(1)=1$, and thus that $c(1)=0$.  This shows that the condition\n",
       "given by the lemma on a central unit of~$A$ is necessary for it to be the\n",
       "Jacobian of an automorphism.\n",
       "\n",
       "\\bigskip\n",
       "\n",
       "Let us next show that that condition is also sufficient. Let $t$ be a\n",
       "central unit of~$B$, let $\\tau:B\\to\\kk$ be a linear map that vanishes on\n",
       "commutators, and let us suppose that there is a map $\\hat c:\\HH_1(B)\\to\\kk$\n",
       "such that $\\CB^\\T(\\hat c)=\\tau$. If we write $P_*$ for the standard\n",
       "bimodule resolution of~$B$ as a $B$-bimodule, so that, for example, the\n",
       "Hochschild homology $\\HH_*(B)$ is canonically the homology of the\n",
       "complex~$B\\otimes_{B^e}P_*$, then we have adjunction isomorphisms\n",
       "  \\[\n",
       "  \\Hom_\\kk(B\\otimes_{B^e}P_*,\\kk)\n",
       "        \\cong \\Hom_{B^e}(P_*,\\Hom_\\kk(B,\\kk))\n",
       "        = \\Hom_{B^e}(P_*,\\D B)\n",
       "  \\]\n",
       "that induce, since the functor~$\\Hom_\\kk(\\place,\\kk)$ is exact, an\n",
       "isomorphism \n",
       "  \\[\n",
       "  \\Hom(\\HH_*(B),\\kk)\\cong\\H^*(B,\\D B).\n",
       "  \\]\n",
       "There is therefore a Hochschild $1$-cocycle $\\delta:B\\to \\D B$ or,\n",
       "equivalently, a derivation, whose class in~$\\H^1(B,\\D B)$ corresponds to\n",
       "the map~$\\hat c:\\HH_1(B)\\to\\kk$ via this isomorphism. Explicitly, this\n",
       "means the following: from the derivation~$\\delta$ we can construct the map\n",
       "$\\delta':x\\otimes y\\in B\\otimes B\\mapsto\\delta(y)(x)\\in\\kk$, which vanishes\n",
       "on Hochschild $1$-boundaries, so its restriction to $1$-cycles induces a\n",
       "map $\\HH_1(B)\\to\\kk$, and this map is precisely~$\\hat c$. It follows from\n",
       "this and the hypothesis that $\\tau=\\CB^\\T(\\hat c)$ that for each $x\\in B$\n",
       "we have \n",
       "  \\[ \\label{eq:jtv:3}\n",
       "  \\tau(x) \n",
       "    = \\hat c(\\CB(x))\n",
       "    = \\delta'(1\\otimes x+x\\otimes 1)\n",
       "    = \\delta(x)(1).\n",
       "  \\]\n",
       "Let now $m_t:x\\in B\\mapsto tx\\in B$ be the map given by multiplication by\n",
       "the central unit~$t$, let $m_t^\\T:\\D B\\to\\D B$ be its transpose, and let us\n",
       "consider the linear map\n",
       "  \\[\n",
       "  u \\coloneqq \\begin{pmatrix}\n",
       "              \\id_B & 0 \\\\\n",
       "              \\delta & m_t^\\T\n",
       "              \\end{pmatrix}\n",
       "        : B\\oplus\\D B\\to B\\oplus\\D B.\n",
       "  \\]\n",
       "A direct calculation shows that this is an automorphism of the trivial\n",
       "extension~$A$, and according to the equations~\\eqref{eq:jtv:1},\n",
       "\\eqref{eq:jtv:2} and~\\eqref{eq:jtv:3} the Jacobian of~$u$ is\n",
       "$\\jac_\\sigma(u)=t+\\tau$.\n",
       "\\end{proof}\n",
       "\n",
       "Almost by definition --- see Max Karoubi's \\cite{Karoubi}*{Théorème 2.15}\n",
       "--- the degree zero non-commutative de Rham cohomology~$\\H_\\dR^0(B)$ of the\n",
       "algebra~$B$ fits in an exact sequence of the form\n",
       "  \\[\n",
       "  \\begin{tikzcd}\n",
       "  0 \\arrow[r]\n",
       "    & \\H_\\dR^0(B) \\arrow[r]\n",
       "    & \\HH_0(B) \\arrow[r, \"\\CB\"]\n",
       "    & \\HH_1(B)\n",
       "  \\end{tikzcd}\n",
       "  \\]\n",
       "The lemma we have just proved therefore tells us that the only obstruction\n",
       "for a linear map $\\tau:B\\to\\kk$ which vanishes on commutators to appear as\n",
       "the Jacobian of an automorphism of the trivial extension~$A$ is its class\n",
       "in the dual space~$\\H^0_\\dR(B)^*$. This is reminiscent of the beautiful\n",
       "theorem of Jürgen Moser~\\cite{Moser} that says that two volume forms on\n",
       "a compact orientable manifold are related by a self-diffeomorphism of the\n",
       "manifold exactly when they have the same integral.\n",
       "\n",
       "\\bigskip\n",
       "\n",
       "We want to show that the class~$\\JAC(A)$ in~$\\H^1(\\Aut(A),A^\\times)$ is\n",
       "most often non-trivial. It turns out that the automorphism group of a\n",
       "trivial extension can be rather complicated --- this can be seen from the\n",
       "results of Takayoshi Wakamatsu in~\\cite{Wakamatsu} ---  so to do that we\n",
       "will show that the restriction of~$\\JAC(A)$ to a simpler subgroup is\n",
       "non-trivial, as that will be enough. For each central unit~$z$ of~$B$, the\n",
       "map\n",
       "  \\[\n",
       "  u_z \\coloneqq \\begin{pmatrix}\n",
       "                \\id B & 0 \\\\\n",
       "                0 & m_z^\\T\n",
       "                \\end{pmatrix}\n",
       "                : B\\oplus\\D B\\to B\\oplus\\D B\n",
       "  \\]\n",
       "is an automorphism of~$A$, with~$m_z^\\T$ the transpose of the map $m_z:x\\in\n",
       "B\\mapsto zx\\in B$, and the function\n",
       "  \\[\n",
       "  z\\in B^\\times\\cap\\Z(B)\\mapsto u_z\\in\\Aut(A)\n",
       "  \\]\n",
       "is an injective morphism of groups, which we will regard, for convenience,\n",
       "as an inclusion. \n",
       "\n",
       "\\begin{Lemma}\\label{lemma:ta:class:1}\n",
       "The restriction of~$\\JAC(A)\\in\\H^1(\\Aut(A),A^\\times)$ to a class\n",
       "in~$\\H^1(B^\\times\\cap\\Z(B),A^\\times)$ is trivial if and only if the\n",
       "group~$B^\\times\\cap\\Z(B)$ is itself trivial.\n",
       "\\end{Lemma}\n",
       "\n",
       "Notice that if the group~$B^\\times\\cap\\Z(B)$ is trivial the ground\n",
       "field~$\\kk$ is necessarily~$\\FF_2$, the field with two elements, because\n",
       "that intersection contains a copy of the multiplicative group~$\\kk^\\times$.\n",
       "\n",
       "\\begin{proof}\n",
       "A direct calculation shows that for all $z\\in B^\\times\\cap\\Z(B)$ we have\n",
       "  \\[\n",
       "  \\jac^\\sim_\\sigma(u_z) = z^{-1}.\n",
       "  \\]\n",
       "If the restriction of~$\\jac^\\sim_\\sigma:\\Aut(A)\\to A^\\times$\n",
       "to~$B^\\times\\cap\\Z(B)$ is a $1$-coboundary, so that there is a\n",
       "unit~$a+\\alpha$ in~$A=B\\oplus \\D B$ such that $z^{-1} =\n",
       "(a+\\alpha)^{-1}\\cdot u_z(a+\\alpha)$ for all $z\\in B^\\times\\cap\\Z(B)$, then\n",
       "computing explicitly the right hand side of this equality we see that\n",
       "$B^\\times\\cap\\Z(B)$ has exactly one element, the unit element~$1$ of~$B$.\n",
       "Conversely, if that intersection is trivial then of course any class\n",
       "in~$\\H^1(B^\\times\\cap\\Z(B),A^\\times)$ is trivial.\n",
       "\\end{proof}\n",
       "\n",
       "The conclusion of this lemma is somewhat strange: for \\emph{any}\n",
       "finite-dimensional algebra~$B$ we have constructed an element\n",
       "of~$\\H^1(B^\\times\\cap\\Z(B),(B\\oplus\\D B)^\\times)$ that is in general not\n",
       "zero. We can get rid of the dual space here, if we want, by projecting that\n",
       "class into $\\H^1(B^\\times\\cap\\Z(B),B^\\times)$ There is a similar\n",
       "construction which produces another invariant attached to any\n",
       "finite-dimensional algebra. We explain this next.\n",
       "\n",
       "\\bigskip\n",
       "\n",
       "For each derivation $\\delta:B\\to\\D B$ the map\n",
       "  \\[\n",
       "  u_\\delta \\coloneqq \\begin{pmatrix}\n",
       "                     \\id_B & 0 \\\\\n",
       "                     \\delta & \\id_{\\D B}\n",
       "                     \\end{pmatrix}\n",
       "                     : B\\oplus \\D B\\to B\\oplus \\D B\n",
       "  \\]\n",
       "is an automorphism of the trivial extension~$A$, and the function\n",
       "  \\[\n",
       "  \\delta\\in\\Der(B,\\D B) \\mapsto u_\\delta\\in\\Aut(A)\n",
       "  \\]\n",
       "is an injective morphism of groups. Viewing it as an inclusion, we can\n",
       "restrict the cocycle $\\jac^\\sim_\\sigma:\\Aut(A)\\to A^\\times$ to its image\n",
       "and consider its cohomology class in\n",
       "  \\[ \\label{eq:weird}\n",
       "  \\H^1(\\Der(B,\\D B),A^\\times).\n",
       "  \\]\n",
       "Since the algebra~$A$ is symmetric, we know the Jacobian of any inner\n",
       "automorphism is~$1$, and one can check that the intersection of~$\\Der(B,\\D\n",
       "B)$ with the subgroup of~$\\Aut(A)$ of inner automorphisms is precisely\n",
       "$\\InnDer(B,\\D B)$, so the class we obtained is in fact the inflation of a\n",
       "class in~$\\H^1(\\H^1(B,\\D B),A^\\times\\cap\\Z(A))$ --- the outer~$\\H^1$ here\n",
       "is non-abelian group cohomology, and the inner~$\\H^1$ is the Hochschild\n",
       "cohomology of~$B$ with values in~$\\D B$. There is a canonical isomorphism\n",
       "of groups $\\H^1(B,\\D B)\\cong\\HH_1(B)^*$, so we can also say that we have a\n",
       "class in\n",
       "  \\[ \\label{eq:weird:2}\n",
       "  \\H^1(\\HH_1(B)^*,A^\\times\\cap\\Z(A)).\n",
       "  \\]\n",
       "\n",
       "In contrast with what we saw in Lemma~\\ref{lemma:ta:class:1}, the classes\n",
       "in~\\eqref{eq:weird} and in~\\eqref{eq:weird:2} can be trivial in quite\n",
       "general situations. For example, if $B$ is an admissible quotient of the\n",
       "path algebra on a quiver without oriented cycles, then we know from the\n",
       "theorem in Claude Cibils' \\cite{Cibils} that~$\\HH_1(B)=0$, so that the\n",
       "classes in~\\eqref{eq:weird:2} and in~\\eqref{eq:weird} are of course\n",
       "trivial.\n",
       "\n",
       "We do not know how to characterize the triviality of these classes. The\n",
       "following is just what we get from the definition:\n",
       "\n",
       "\\begin{Lemma}\n",
       "The class in $\\H^1(\\Der(B,\\D B),A^\\times)$ is trivial if and only if there\n",
       "exists a central unit~$a$ in~$B$ such that\n",
       "  \\(\n",
       "  \\delta(b)(1) = \\delta(a)(ba^{-1})\n",
       "  \\)\n",
       "for all derivations~$\\delta:B\\to\\D B$ and all elements~$b$ of~$B$. \\qed\n",
       "\\end{Lemma}\n",
       "\n",
       "This condition does not seem to be easy to satisfy.\n",
       "\n",
       "\\bigskip\n",
       "\n",
       "Let us finish this discussion with a remark. If $\\tau:B\\to B$ is an\n",
       "automorphism of~$B$, then we can consider the twisted dual bimodule\n",
       "${}_\\tau\\D B$, and the corresponding trivial extension $A\\coloneqq\n",
       "B\\oplus{}_\\tau\\D B$. This is again a Frobenius algebra, with respect to the\n",
       "bilinear form $\\gen{\\place,\\place}$ on it such that\n",
       "  \\[\n",
       "  \\gen{(x,x'),(y,y')} = x'(y) + y'(\\tau(x))\n",
       "  \\]\n",
       "for all $x$,~$y\\in B$ and all~$x'$,~$y'\\in\\D B$, and the corresponding\n",
       "Nakayama automorphism is \n",
       "  \\[\n",
       "  \\sigma:\n",
       "        (x,x')\\in B\\oplus{}_\\tau\\D B \n",
       "        \\mapsto \n",
       "        (\\tau(x),\\tau^{-\\T}(x'))\\in B\\oplus{}_\\tau\\D B,\n",
       "  \\]\n",
       "which is usually not inner --- if it is inner, for example, then so is\n",
       "$\\tau$ itself --- so that the algebra $A$ is usually not symmetric. We can\n",
       "repeat the arguments we presented here for trivial extensions to these\n",
       "twisted trivial extensions, and thus obtain cohomological invariants now\n",
       "not for the algebra~$B$ but for the pair~$(B,\\tau)$.\n",
       "\n",
       "%%%%%%%%%%%%%%%%%%%%%%%%%%%%%%%%%%%%%%%%%%%%%%%%%%%%%%%%%%%%%%%%%%%%%%\n",
       "\\subsubsection{An example: the quantum complete intersection of\n",
       "dimension \\texorpdfstring{$4$}{four}}\n",
       "\\label{subsubsect:jac:quantum}\n",
       "\n",
       "Let $q$ be a non-zero element of~$\\kk$, let~$A$ be the algebra of\n",
       "Example~\\ref{ex:four}, and let $\\{1,x,y,xy\\}$, $\\gen{\\place,\\place}$\n",
       "and~$\\sigma$ be as there. If $a$,~$b$,~$c$,~$d$ are elements of~$\\kk$ such\n",
       "that $a\\neq0$ and $b\\neq0$, then there is an algebra automorphism\n",
       "  \\(\n",
       "  \\alpha(a,b,c,d) : A\\to A\n",
       "  \\)\n",
       "such that \n",
       "  \\[\n",
       "  \\alpha(a,b,c,d)(x) = ax+cxy, \n",
       "  \\qquad\n",
       "  \\alpha(a,b,c,d)(y) = by+dxy.\n",
       "  \\]\n",
       "A little calculation shows that\n",
       "  \\begin{gather}\n",
       "  \\alpha(a,b,c,d) \\circ \\alpha(a',b',c',d') \n",
       "        = \\alpha(aa',bb',ca'+abc',db'+abd') \\label{eq:faut0}\n",
       "\\shortintertext{and}\n",
       "  \\alpha(a,b,c,d)^{-1} \n",
       "        = \\alpha(a^{-1},b^{-1};-a^{-2}b^{-1}c,-a^{-1}b^{-2}d)\n",
       "  \\end{gather}\n",
       "whenever $a$,~$b\\in\\kk^\\times$ and $c$,~$d\\in\\kk$, and it follows from this\n",
       "that the image~$\\Aut_0(A)$ of the injective function\n",
       "  \\[\n",
       "  \\alpha:(a,b,c,d)\\in\\kk^\\times\\times\\kk^\\times\\times\\kk\\times\\kk\n",
       "  \\mapsto \\alpha(a,b,c,d)\\in\\Aut(A)\n",
       "  \\]\n",
       "is a subgroup of~$\\Aut(A)$. We are interested in this subgroup because of\n",
       "the following observation.\n",
       "\n",
       "\\begin{Lemma}\n",
       "If $q^2\\neq1$, then $\\Aut(A)=\\Aut(A)_0$.\n",
       "\\end{Lemma}\n",
       "\n",
       "Let us remark that when $q^2=1\\neq-1$ the subgroup~$\\Aut_0(A)$ has\n",
       "index~$2$ in~$\\Aut(A)$, and that when $q^2=1=-1$ then it has, in an\n",
       "appropriate sense, codimension~$2$ there.\n",
       "\n",
       "\\begin{proof}\n",
       "Let $f:A\\to A$ be an automorphism of~$A$. Since $f(\\rad A)=\\rad A$ and\n",
       "$\\rad A$ is freely spanned by~$\\{x,y,xy\\}$, there are scalars\n",
       "$a_1$,~$a_2$,~$a_3$ and $b_1$,~$b_2$,~$b_3$ in~$\\kk$ such that\n",
       "$f(x)=a_1x+a_2y+a_3xy$ and $f(y)=b_1x+b_2y+b_3xy$. As $x^2=0$, $y^2=0$ and\n",
       "$yx-qxy=0$, we have that $(1+q)a_1a_2=0$, $(1+q)b_1b_2=0$,\n",
       "and~$(1-q^2)a_2b_1=0$. On the other hand, since $f$ induces an automorphism\n",
       "of the vector space~$\\rad A/\\rad^2A$, we have that\n",
       "$\\det\\begin{psmallmatrix}a_1&b_1\\\\a_2&b_2\\end{psmallmatrix}\\neq0$. When\n",
       "$q^2\\neq1$ all this implies that $a_2=0$, $b_1=0$ and therefore that\n",
       "$f=\\alpha(a_1,b_2,a_3,b_3)$.\n",
       "\\end{proof}\n",
       "\n",
       "We can describe this subgroup $\\Aut_0(A)$ in two more familiar ways. There\n",
       "are a left action~$\\smalltriangleright$ and a right action\n",
       "$\\smalltriangleleft$ of the group~$\\kk^\\times\\times\\kk^\\times$\n",
       "on~$\\kk\\times\\kk$ by group morphisms such that\n",
       "  \\[\n",
       "  (a,b) \\smalltriangleright (c,d) = (abc,abd),\n",
       "  \\qquad\n",
       "  (c,d) \\smalltriangleleft (a,b) = (ca,db)\n",
       "  \\]\n",
       "whenever $(a,b)\\in\\kk^\\times\\times\\kk^\\times$ and~$(c,d)\\in\\kk\\times\\kk$,\n",
       "and there is a group\n",
       "$(\\kk^\\times\\times\\kk^\\times)\\diamondvert(\\kk\\times\\kk)$ with underlying\n",
       "set the cartesian product\n",
       "$(\\kk^\\times\\times\\kk^\\times)\\times(\\kk\\times\\kk)$ and multiplication given\n",
       "by\n",
       "  \\[\n",
       "  (g,u)\\cdot(h,v) = (gh,g\\smalltriangleright v+u\\smalltriangleleft h)\n",
       "  \\]\n",
       "whenever~$(g,u)$ and~$(h,v)$ are two of its elements; the key fact in\n",
       "proving this is that the equality $(g\\smalltriangleright\n",
       "u)\\smalltriangleleft h=g\\smalltriangleright(u\\smalltriangleleft h)$ holds\n",
       "for all $g$,~$h\\in \\kk^\\times\\times\\kk^\\times$ and all~$u\\in\\kk\\times\\kk$.\n",
       "Comparing with~\\eqref{eq:faut0} it is clear that the function\n",
       "  \\[\n",
       "  ((a,b),(c,d))\\in(\\kk^\\times\\times\\kk^\\times)\\diamondvert(\\kk\\times\\kk)\n",
       "  \\mapsto\n",
       "  \\alpha(a,b,c,d)\\in\\Aut(A)_0\n",
       "  \\]\n",
       "is an isomorphism of groups. The map\n",
       "  \\[\n",
       "  \\mathord{\\blacktriangleleft}:\n",
       "        (u,g)\\in(\\kk\\times\\kk)\\times(\\kk^\\times\\times\\kk^\\times)\n",
       "        \\mapsto \n",
       "        g^{-1}\\smalltriangleright u\\smalltriangleleft g\\in\\kk\\times\\kk\n",
       "  \\]\n",
       "is a right action of~$\\kk^\\times\\times\\kk^\\times$ on~$\\kk\\times\\kk$ by\n",
       "group automorphisms, so we can construct the semidirect product\n",
       "$(\\kk^\\times\\times\\kk^\\times)\\ltimes(\\kk\\times\\kk)$ in which\n",
       "  \\[\n",
       "  (g,u)\\cdot(h,v) = (gh,u\\blacktriangleleft h+v)\n",
       "  \\]\n",
       "whenever $g$,~$h\\in\\kk^\\times\\times\\kk^\\times$ and~$u$,~$v\\in\\kk\\times\\kk$,\n",
       "and we have an isomorphism\n",
       "  \\[\n",
       "  (g,u) \\in (\\kk^\\times\\times\\kk^\\times)\\ltimes(\\kk\\times\\kk) \n",
       "  \\mapsto \n",
       "  (g, g\\smalltriangleright u) \\in (\\kk^\\times\\times\\kk^\\times)\\diamondvert(\\kk\\times\\kk).\n",
       "  \\]\n",
       "\n",
       "Next we compute Jacobians.\n",
       "\n",
       "\\begin{Lemma}\\label{lemma:jac:quantum}\n",
       "Let $a$,~$b$,~$c$ and~$d$ be scalars such that $a\\neq0$ and~$b\\neq0$. The\n",
       "Jacobian of the automorphism $\\alpha(a,b,c,d):A\\to A$ is\n",
       "  \\[\n",
       "  \\jac_\\sigma(\\alpha(a,b,c,d)) = ab+dx+q^{-1}cy.\n",
       "  \\]\n",
       "\\end{Lemma}\n",
       "\n",
       "\\begin{proof}\n",
       "A direct calculation shows that\n",
       "$\\gen{1,\\alpha(a,b,c,d)(z)}=\\gen{ab+dx+q^{-1}cy,z}$ when $z$ is an element\n",
       "of $\\{1,x,y,xy\\}$, and that proves the lemma.\n",
       "\\end{proof}\n",
       "\n",
       "This shows that the Jacobian of automorphisms of non-symmetric algebras can\n",
       "well be non-central. Moreover, using this we see at once that the\n",
       "class~$\\JAC(A)$ is not trivial.\n",
       "\n",
       "\\begin{Lemma}\n",
       "The image of the class~$\\JAC(A)$ under the composition\n",
       "  \\[\n",
       "  \\begin{tikzcd}[column sep=1em]\n",
       "  \\H^1(\\Aut(A),A^\\times) \\arrow[r]\n",
       "        & \\H^1(\\Aut_0(A),A^\\times) \\arrow[r]\n",
       "        & \\H^1(\\Aut_0(A),\\kk^\\times) \\arrow[r, equal]\n",
       "        & \\Hom(\\kk^\\times\\times\\kk^\\times,\\kk^\\times)\n",
       "  \\end{tikzcd}\n",
       "  \\]\n",
       "is the morphism $(a,b)\\in\\kk^\\times\\times\\kk^\\times\\mapsto\n",
       "a^{-1}b^{-1}\\in\\kk^\\times$ and, in particular, the class~$\\JAC(A)$ itself\n",
       "is not trivial. \\qed\n",
       "\\end{Lemma}\n",
       "\n",
       "Here the map $\\H^1(\\Aut(A),A^\\times)\\to\\H^1(\\Aut_0(A),A^\\times)$ is the\n",
       "restriction, and the map\n",
       "$\\H^1(\\Aut_0(A),A^\\times)\\to\\H^1(\\Aut_0(A),\\kk^\\times)$ is induced by the\n",
       "projection $A^\\times\\to\\kk^\\times$. The action of~$\\Aut_0(A)$\n",
       "on~$\\kk^\\times$ is trivial, so we can identify~$\\H^1(\\Aut_0(A),\\kk^\\times)$\n",
       "with $\\Hom(\\Aut_0(A),\\kk^\\times)$, and this $\\Hom$ set with\n",
       "$\\Hom(\\kk^\\times\\times\\kk^\\times,\\kk^\\times)$ because the\n",
       "group~$\\kk^\\times$ is abelian and $\\kk^\\times\\times\\kk^\\times$ is the\n",
       "abelianization of~$\\Aut_0(A)$. \n",
       "\n",
       "Of course, when $q^2\\neq1$ the composition in the lemma is just an\n",
       "isomorphism.\n",
       "\n",
       "%%%%%%%%%%%%%%%%%%%%%%%%%%%%%%%%%%%%%%%%%%%%%%%%%%%%%%%%%%%%%%%%%%%%%%\n",
       "\\subsubsection{An example: separable algebras and group algebras}\n",
       "\\label{subsubsect:jac:separable}\n",
       "\n",
       "Let $A$ be a finite-dimensional algebra, as usual, and for each element~$a$\n",
       "of~$A$ let us write $L_a:b\\in A\\mapsto ab\\in A$ for the linear map given by\n",
       "left multiplication by~$A$. The \\newterm{trace form} on~$A$ is the bilinear\n",
       "map\n",
       "  \\[\n",
       "  \\gen{\\place,\\place}_{\\tr}:(a,b)\\in A \\times A\n",
       "        \\mapsto \\tr L_{ab}\\in \\kk,\n",
       "  \\]\n",
       "which is clearly associative and symmetric\\footnote{We could have used\n",
       "\\emph{right} multiplications here: it is important to note that the\n",
       "corresponding «right trace» that we obtain in that way is in general a\n",
       "different linear map --- Nicolas Bourbaki gives an example of this\n",
       "in~\\cite{Bourbaki:alg8}*{\\S12, no.\\,3}. The two traces coincide if the\n",
       "algebra~$A$ is separable, though: this follows from Theorem~9.31 in Irving\n",
       "Reiner's \\cite{Reiner:orders}.}. We say that the algebra~$A$ is\n",
       "\\newterm{strongly separable} if the form is also non-degenerate --- this is\n",
       "not the original definition given by Teruo Kanzaki\n",
       "in~\\cite{Kanzaki:strongly} but it is equivalent to it: see Marcelo Aguiar's\n",
       "\\cite{Aguiar:strongly}*{Theorem 3.1} --- and in that case the algebra is, in\n",
       "particular, separable. Of course, such an algebra is Frobenius with respect\n",
       "to the trace form, and even symmetric.\n",
       "\n",
       "There are many examples of this. If the characteristic of~$\\kk$ is zero, an\n",
       "algebra is strongly separable if and only if it is semisimple. On the other\n",
       "hand, the group algebra~$\\kk G$ of a finite group is strongly separable if\n",
       "and only if it is semisimple, in any characteristic, and in that case the\n",
       "trace form is the familiar one that has\n",
       "$\\gen{g,h}_{\\tr}=\\abs{G}\\cdot\\delta_{gh,1}$ for all elements~$g$ and~$h$ in\n",
       "the group. Similarly, a finite-dimensional Hopf algebra over any field is\n",
       "strongly separable if it is semisimple and involutory\\footnote{If the\n",
       "characteristic of~$\\kk$ is $0$ a semisimple Hopf algebra is automatically\n",
       "involutory by a theorem of Richard Larson and David Radford \\cite{LR}, and\n",
       "a well-known and very open conjecture of  Irving Kaplansky is that this is\n",
       "actually true for all fields.}, that is, the order of its antipode is~$2$,\n",
       "and, according to what we have just said, if the field~$\\kk$ has\n",
       "characteristic zero then this condition is also necessary.\n",
       "\n",
       "\\begin{Lemma}\\label{lemma:jac:strongly-separable}\n",
       "The Nakayama Jacobian of an automorphism of a strongly separable algebra\n",
       "is~$1$.\n",
       "\\end{Lemma}\n",
       "\n",
       "\\begin{proof}\n",
       "Let $A$ be a strongly separable algebra, and let $u:A\\to A$ be an\n",
       "automorphism of~$A$. We need to show that $\\tr L_{u(a)}=\\tr L_a$ for all\n",
       "$a\\in A$. Let us fix an element~$a$ in~$A$, and let $\\B=(a_1,\\dots,a_n)$ be\n",
       "an ordered basis for~$A$. Since $u$ is an automorphism of~$A$, the sequence\n",
       "$\\B'\\coloneqq(u(a_i),\\dots,u(a_n))$ is also an ordered basis for~$A$, and\n",
       "the matrix of the map~$L_a:A\\to A$ with respect to~$\\B$ coincides with the\n",
       "matrix of the map $L_{u(a)}$ with respect to~$\\B'$: that $L_a$\n",
       "and~$L_{u(a)}$ have the same traces is therefore clear.\n",
       "\\end{proof}\n",
       "\n",
       "In fact, a similar result applies to all separable algebras, but needs a\n",
       "little more work. Let $A$ be a separable algebra. There is then a finite\n",
       "separable extension~$E\\fe\\kk$ such that there are positive integers~$r$\n",
       "and~$m_1$,~\\dots,~$m_r$ and an isomorphism \n",
       "  \\[ \\label{eq:phi}\n",
       "  \\phi :E\\otimes_\\kk A \\to \\prod_{i=1}^r\\M_{m_i}(E)\n",
       "  \\]\n",
       "of $E$-algebras, and it can be proved that for each $a$ in~$A$ there is a\n",
       "unique element~$\\trd(a)$ in~$\\kk$ such that $\\tr(\\phi(1_E\\otimes\n",
       "a))=\\phi(1\\otimes\\trd(a))$ --- the $\\tr$ on the left hand side of this\n",
       "equality denotes the componentwise trace in the product appearing\n",
       "in~\\eqref{eq:phi} --- and that $\\trd(a)$ is in fact independent of the\n",
       "splitting field~$E$ and of the isomorphism~$\\phi$. In this way we obtain a\n",
       "linear map $\\trd:A\\to\\kk$, the \\newterm{reduced trace} of~$A$, with the\n",
       "property that the bilinear form\n",
       "  \\[\n",
       "  \\gen{\\place,\\place}_{\\trd}:(a,b)\\in A \\times A\n",
       "        \\mapsto \\trd(ab)\\in \\kk,\n",
       "  \\]\n",
       "is non-degenerate, associative and symmetric. We refer the reader to\n",
       "\\cite{CR:methods:1}*{\\S7D} and, in particular, Proposition~7.41 there, and\n",
       "to~\\cite{Reiner:orders}*{\\S9} for a discussion of this. In any case, we see\n",
       "that $A$ is a symmetric Frobenius algebra when endowed with this bilinear\n",
       "form. \n",
       "\n",
       "With respect to that Frobenius structure we have the result we want:\n",
       "\n",
       "\\begin{Lemma}\\label{lemma:jac:separable}\n",
       "The Nakayama Jacobian of an automorphism of a separable algebra is~$1$.\n",
       "\\end{Lemma}\n",
       "\n",
       "\\begin{proof}\n",
       "Let $u:A\\to A$ be an automorphism of a separable algebra~$A$. The fact that\n",
       "when we compute~$\\trd(a)$ for an element~$a$ of~$A$ using the procedure\n",
       "sketched above the choice of the automorphism~\\eqref{eq:phi} is irrelevant\n",
       "implies that $\\trd(u(a))=\\trd(a)$. That $\\jac_\\sigma(u)=1$ follows\n",
       "immediately from that.\n",
       "\\end{proof}\n",
       "\n",
       "One should keep in mind that when $A$ is a strongly separable algebra the\n",
       "trace form and the reduced trace form are in general different --- for\n",
       "example, when $A$ is a semisimple group algebra they coincide if and only\n",
       "if the group is abelian. This means that the Jacobians which these two\n",
       "lemmas tell us are both equal to~$1$ are \\emph{different} (!). On the other\n",
       "hand, while Lemma~\\ref{lemma:jac:separable} is very nice, actually\n",
       "computing the reduced trace form of a separable algebra in concrete\n",
       "examples is usually very difficult as it seems to require knowing the\n",
       "Artin--Wedderburn decomposition of the algebra. This is done for the\n",
       "rational group algebras of dihedral and generalized quaternion groups\n",
       "in~\\cite{CR:methods:1}*{\\S7D}. \n",
       "\n",
       "\\bigskip\n",
       "\n",
       "It follows from Lemma~\\ref{lemma:jac:strongly-separable} that automorphisms\n",
       "of semisimple group algebras have trivial Jacobian with respect to their\n",
       "trace forms. It is natural to ask what happens with non-semisimple group\n",
       "algebras, that is, of the form~$\\kk G$ with $\\kk$ of positive\n",
       "characteristic~$p$ dividing the order of~$G$. Of course, we cannot use the\n",
       "trace form in this case for it is identically zero and such algebras do not\n",
       "have reduced trace forms, but we do have the bilinear form\n",
       "$\\gen{\\place,\\place}:\\kk G\\times\\kk G\\to\\kk$ such that\n",
       "$\\gen{g,h}=\\delta_{gh,1}$ for all elements~$g$ and~$h$ of the group that\n",
       "makes $\\kk G$ a symmetric Frobenius algebra and which is morally a\n",
       "rescaling of the trace form.\n",
       "\n",
       "We pick a prime~$p$, consider a cyclic group~$G$ of order~$p$, choose a\n",
       "generator~$\\gamma$ for~$G$, suppose that the field~$\\kk$ has\n",
       "characteristic~$p$, and study the algebra $\\kk G$. In fact, to describe the\n",
       "automorphisms of~$\\kk G$ it is more convenient to consider a different\n",
       "incarnation of the algebra. We let $A$ be the quotient~$\\kk[X]/(X^p)$ and\n",
       "write~$x$ for the class of~$X$ in~$A$: there is then an isomorphism\n",
       "$\\phi:\\kk G\\to A$ such that $\\phi(\\gamma)=x+1$, and this isomorphism is\n",
       "isometric if we endow~$A$ with the bilinear\n",
       "form~$\\gen{\\place,\\place}:A\\times A\\to\\kk$  that for all $i$ and all~$j$\n",
       "in~$\\inter{0,p-1}$ has\n",
       "  \\[\n",
       "  \\gen{x^i,x^j} \n",
       "        = \\begin{cases*}\n",
       "          (-1)^{i+j} & if $i+j<p$; \\\\\n",
       "          0 &if $i+j\\geq p$.\n",
       "          \\end{cases*}\n",
       "  \\]\n",
       "We will compute the Jacobians of automorphisms of~$A$ with respect to this\n",
       "form.\n",
       "\n",
       "\\begin{Lemma}\n",
       "Let $p$ be a prime number, suppose that the field~$\\kk$ has\n",
       "characteristic~$p$, let $A$ be the algebra~$\\kk[X]/(X^p)$ endowed with the\n",
       "bilinear form described above, and let $x$ be the class of~$X$ in~$A$. \n",
       "\\begin{thmlist}\n",
       "\n",
       "\\item If $f$ is an element of the set $R\\coloneqq\\rad A\\setminus\\rad^2A$,\n",
       "then there is exactly one automorphism $u_f:A\\to A$ of~$A$ such that\n",
       "$u_f(x)=f$. The map $f\\in R\\mapsto u_f\\in\\Aut(A)$ is bijective.\n",
       "\n",
       "\\item Let $\\mu:A\\to\\kk$ be the linear map such that $\\mu(x^i)=(-1)^i$ for\n",
       "each $i\\in\\inter{0,p-1}$.  If $f$ is an element of~$R$, then the Jacobian\n",
       "of~$u_f:A\\to A$ is\n",
       "  \\[ \\label{eq:juf}\n",
       "  \\jac_\\sigma(u_f) = \\mu(f^{p-1}) \n",
       "                     + \\sum_{i=1}^{p-1}\\bigl(\\mu(f^{p-1-i})+\\mu(f^{p-i})\\bigr)x^i.\n",
       "  \\]\n",
       "\n",
       "\\end{thmlist}\n",
       "\\end{Lemma}\n",
       "\n",
       "The bijection in~\\thmitem{1} is even an isomorphism of groups if we\n",
       "endow~$R$ with the operation induced by the functional composition of\n",
       "polynomials. One should notice that in~\\thmitem{2} the right hand side of\n",
       "the equality~\\eqref{eq:juf} is indeed a unit of~$A$ when~$f$ is in~$R$, for\n",
       "in that case~$f^{p-1}$ is a non-zero scalar multiple of~$x^{p-1}$ and that\n",
       "$\\mu(f^{p-1})$ is a non-zero scalar.\n",
       "\n",
       "The map~$\\mu$ that is defined in~\\thmitem{2} is such that\n",
       "$\\mu(a)=\\gen{a,1}$ for all $a\\in A$. In fact, if $a$ is an element of~$A$\n",
       "and $a_0$,~\\dots,~$a_{p-1}$ are the scalars such that\n",
       "$a=a_0+a_1x+\\cdots+a_{p-1}x^{p-1}$, then\n",
       "$\\mu(a)=a_0+a_1(-1)+\\cdots+a_{p-1}(-1)^{p-1}$. We see with this that $\\mu$\n",
       "looks like the «evaluation of elements of~$A$ at~$-1$, except that, of\n",
       "course, there is no such thing.\n",
       "\n",
       "\\begin{proof}\n",
       "Let $f$ be an element of the set~$R$. Since $f^p\\in\\rad^pA=0$, there is a\n",
       "unique algebra endomorphism $u_f:A\\to A$ such that $u(x)=f$. Since $f\\in R$\n",
       "there are $t\\in\\kk^\\times$ and $g\\in\\rad^2A$ such that $f=tx+g$, and\n",
       "therefore $x^i\\equiv t^{-i}f^i\\mod\\rad^{i+1}A$ for all $i\\in\\inter{p-1}$:\n",
       "we can deduce from this that all powers of~$x$ are in the image of~$u_f$\n",
       "and thus that $u_f$ is bijective, so an isomorphism. On the other hand, if\n",
       "$u:A\\to A$ is an automorphism of~$A$, then $u(x)$ belongs to~$\\rad A$\n",
       "because~$x$ does, and not to~$\\rad^2A$ because $f$ induces a bijective\n",
       "endomorphism of the vector space $\\rad A/\\rad^2A$ and the class of~$x$ in\n",
       "that quotient is not zero, and it follows form this that $u(x)\\in R$: ss\n",
       "the automorphisms~$u$ and~$u_{u(x)}$ of~$A$ coincide on~$x$, they are\n",
       "therefore equal. This shows that the function in~\\thmitem{1} is surjective,\n",
       "and it is manifestly injective. This proves~\\thmitem{1}.\n",
       "\n",
       "Let $f$ be an element of the set~$R$, and let us write~$J$ for the element\n",
       "of~$A$ that appears in the right hand side of the equality~\\eqref{eq:juf}.\n",
       "For each $j\\in\\inter{0,p-1}$ we have that \n",
       "  \\begin{align}\n",
       "  \\gen{J,x^j}\n",
       "        &= \\mu(f^{p-1})\\cdot\\gen{1,x^j}\n",
       "           + \\sum_{i=1}^{p-1}\\bigl(\\mu(f^{p-1-i})+\\mu(f^{p-i})\\bigr)\\cdot\\gen{x^i,x^j} \\\\\n",
       "        &= (-1)^j\\cdot\\mu(f^{p-1})\n",
       "           + \\sum_{i=1}^{p-1-j}(-1)^{i+j}\\cdot\\bigl(\\mu(f^{p-1-i})+\\mu(f^{p-i})\\bigr) \\\\\n",
       "        &= (-1)^j\\cdot\\mu(f^{p-1})\n",
       "           - \\sum_{i=2}^{p-j}(-1)^{i+j}\\cdot\\mu(f^{p-i}) \n",
       "           + \\sum_{i=1}^{p-1-j}(-1)^{i+j}\\cdot\\mu(f^{p-i}) \\\\\n",
       "        &= (-1)^j\\cdot\\mu(f^{p-1})\n",
       "           - (-1)^{p}\\cdot\\mu(f^{j}) \n",
       "           + (-1)^{1+j}\\cdot\\mu(f^{p-1})  \\\\\n",
       "        &= (-1)^{p-1}\\mu(f^j) \n",
       "         = \\mu(f^j)\n",
       "         = \\gen{u_f(x^i),1}.\n",
       "  \\end{align}\n",
       "It follows from this that, more generally, $\\gen{J,a}=\\gen{u_f(a),1}$ for\n",
       "all $a\\in A$, so that $\\jac_\\sigma(u_f)=J$, and this is the equality we\n",
       "want to prove.\n",
       "\\end{proof}\n",
       "\n",
       "The formula~\\eqref{eq:juf} in this lemma shows that the group algebra~$\\kk\n",
       "G$ of a finite cyclic group of prime order~$p$ has, when the characteristic\n",
       "of~$\\kk$ is~$p$, many automorphisms with non-trivial Jacobian. It is\n",
       "natural to wonder what units of~$A$ are the Jacobian of an automorphism. It\n",
       "follows immediately form the formula in~\\eqref{eq:juf} that an element\n",
       "$a=a_0+a_1x+\\cdots+a_{p-1}x^{p-1}$ of~$A$ that is the Jacobian of an\n",
       "automorphism~$u_f$ of~$A$ for some~$f=f_1x+\\cdots+f_{p-1}x^{p-1}$ in the\n",
       "set~$R$ has \n",
       "  \\begin{gather}\n",
       "  \\sum_{i=0}^{p-1}(-1)^ia_i \n",
       "        = \\mu(f^{p-1})\n",
       "          + \\sum_{i=1}^{p-1}(-1)^i\\bigl(\\mu(f^{p-1-i})+\\mu(f^{p-i})\\bigr)\n",
       "        = (-1)^{p-1}\\mu(f^{0})\n",
       "        = 1\n",
       "\\intertext{and}\n",
       "  a_0 = \\mu(f^{p-1}) = f_1^{p-1} \\neq 0.\n",
       "  \\end{gather}\n",
       "Using an elimination calculation using Groebner basis for the map $f\\in\n",
       "R\\mapsto\\jac_\\sigma(u_f)\\in A$ for small values of~$p$ seems to indicate\n",
       "that these necessary conditions~$\\sum_{i=0}^{p-1}(-1)^ia_i=0$ and\n",
       "$a_0\\neq0$ are in fact also sufficient for~$a$ to be in the image. We do\n",
       "not know how to prove this, though.\n",
       "\n",
       "\\bigskip\n",
       "\n",
       "In general, if the field~$\\kk$ is of characteristic~$p$ and $P$ is a Sylow\n",
       "$p$-subgroup of a finite group~$G$, then the algebra~$\\kk G$ is a separable\n",
       "extension of its subalgebra~$\\kk P$. The calculations in this section\n",
       "indicate that it may be interesting to study the behavior of Nakayama\n",
       "Jacobians under general separable extensions.\n",
       "\n",
       "%%%%%%%%%%%%%%%%%%%%%%%%%%%%%%%%%%%%%%%%%%%%%%%%%%%%%%%%%%%%%%%%%%%%%%\n",
       "\\subsubsection{Crossed products}\n",
       "\\label{subsubsect:jac:cross}\n",
       "\n",
       "Let $A$ be a Frobenius algebra, let $\\gen{\\place,\\place}$ be a\n",
       "non-degenerate and associative linear form on~$A$, and let $G$ be a finite\n",
       "group that acts on~$A$ by algebra automorphisms. We can construct from this\n",
       "data the \\newterm{crossed product algebra} $A\\crs G$: it is the free left\n",
       "$A$-module on the set~$G$ whose monomials we will write in the form $a\\crs\n",
       "g$ and on which the multiplication is such that \n",
       "  \\[\n",
       "  a\\crs g\\cdot b\\crs h = ag(b)\\crs gh\n",
       "  \\]\n",
       "whenever $a$,~$b\\in A$ and~$g$,~$h\\in G$. If the action of~$G$ on~$A$ is\n",
       "``orthogonal'' with respect to the bilinear form, so that\n",
       "  \\[ \\label{eq:orth}\n",
       "  \\gen{g(a),g(b)} = \\gen{a,b}\n",
       "  \\]\n",
       "for all $a$,~$b\\in A$ and all~$g\\in G$, then the algebra~$A\\crs G$ is also\n",
       "a Frobenius algebra: it is easy to check that the bilinear form\n",
       "  \\(\n",
       "  \\ggen{\\place,\\place}:A\\crs G\\times A\\crs G\\to\\kk\n",
       "  \\)\n",
       "such that\n",
       "  \\[\n",
       "  \\ggen{a\\crs g,b\\crs h} = \\gen{a,g(b)}\\cdot\\delta_{gh,e}\n",
       "  \\]\n",
       "for all $a$,~$b\\in A$ and all~$g$,~$h\\in G$ is non-degenerate and\n",
       "associative, and the corresponding Nakayama automorphism $\\Sigma:A\\crs G\\to\n",
       "A\\crs G$ is such that\n",
       "  \\[\n",
       "  \\Sigma(a\\crs g) = \\sigma(a)\\crs  g\n",
       "  \\]\n",
       "for all $a\\in A$ and all~$g\\in G$. If the action of~$G$ does not preserve\n",
       "the bilinear form on~$A$ the crossed product is also a Frobenius algebra,\n",
       "and we can use our Jacobians to describe its Nakayama automorphism. In\n",
       "fact, we can do this more generally  for twisted crossed products with no\n",
       "extra complication, so we do that instead.\n",
       "\n",
       "\\bigskip\n",
       "\n",
       "Let $A$ be a Frobenius algebra, let $\\gen{\\place,\\place}$ be a\n",
       "non-degenerate and associative linear form on~$A$, let $G$ be a finite\n",
       "group that acts on~$A$ by algebra automorphisms, and let $\\alpha:G\\times\n",
       "G\\to\\kk^\\times$ be a $2$-cocycle on the group~$G$ with values in the\n",
       "multiplicative group of our ground field, so that for all $g$,~$h$,~$k\\in\n",
       "G$ we have that\n",
       "  \\[\n",
       "  \\alpha(h,k)\\cdot\\alpha(g,hk) = \\alpha(gh,k)\\cdot\\alpha(g,h).\n",
       "  \\]\n",
       "From this data we can construct the \\newterm{twisted crossed product}\n",
       "algebra $A\\crs _\\alpha G$: it is the free left $A$-module spanned by~$G$\n",
       "whose monomials we write, as before, $a\\crs g$, endowed this time with the\n",
       "multiplication such that\n",
       "  \\[\n",
       "  a\\crs g\\cdot b\\crs h = \\alpha(g,h)\\cdot ag(b)\\crs gh\n",
       "  \\]\n",
       "for all $a$,~$b\\in A$ and all~$g$,~$h\\in G$. Indeed, the associativity of\n",
       "this multiplication follows from the cocycle condition on~$\\alpha$, and\n",
       "$\\alpha(1_G,1_G)^{-1}\\cdot1_A\\crs 1_G$ is a unit element for it.\n",
       "\n",
       "\\begin{Lemma}\\label{lemma:jac:cross}\n",
       "Let $A$ be a Frobenius algebra with non-degenerate and associative bilinear\n",
       "form~$\\gen{\\place,\\place}$ and corresponding Nakayama automorphism\n",
       "$\\sigma:A\\to A$, let $G$ be a finite group acting on~$A$ by algebra\n",
       "automorphisms, and let $\\alpha:G\\times G\\to\\kk^\\times$ be a $2$-cocycle\n",
       "on~$G$. There is a non-degenerate and associative bilinear form\n",
       "$\\ggen{\\place,\\place}:A\\crs _\\alpha G\\times A\\crs _\\alpha G\\to\\kk$ on the\n",
       "twisted crossed product algebra~$A\\crs _\\alpha G$ that has\n",
       "  \\[\n",
       "  \\ggen{a\\crs g,b\\crs h} = \\alpha(g,h)\\cdot\\gen{a,g(b)}\\cdot\\delta_{gh,e}\n",
       "  \\]\n",
       "for all $a$,~$b\\in A$ and all~$g$,~$h\\in G$, and the Nakayama automorphism\n",
       "$\\Sigma:A\\crs_\\alpha G\\to A\\crs_\\alpha G$ that corresponds to it has\n",
       "  \\[ \\label{eq:crs:s}\n",
       "  \\Sigma(a\\crs g) = \\frac{\\alpha(g,g^{-1})}{\\alpha(g^{-1},g)}\n",
       "                    \\cdot\\bigl( \\sigma(a)\\cdot g\\sigma(\\jac_\\sigma(g))\\bigl)\\crs g\n",
       "  \\]\n",
       "for all $a\\in A$ and all $g\\in G$.\n",
       "\\end{Lemma}\n",
       "\n",
       "For each $g\\in G$ we are writing here ~$\\jac_\\sigma(g)$ for the Jacobian of\n",
       "the algebra automorphism $a\\in A\\mapsto g(a)\\in A$, of course. If the\n",
       "cocycle~$\\alpha$ is normalized, as it is often the case, then the fraction\n",
       "that appears in~\\eqref{eq:crs:s} is equal to~$1$.\n",
       "\n",
       "\\begin{proof}\n",
       "That the bilinear form~$\\ggen{\\place,\\place}$ is associative follows from a\n",
       "direct calculation. On the other hand, if $x=\\sum_{g\\in G}a_g\\crs g$ is a\n",
       "non-zero element of~$A\\crs_\\alpha G$, then there is an~$h$ in~$G$ such that\n",
       "$a_h\\neq0$, and a~$b$ in~$A$ such that $\\gen{a_h,b}\\neq0$, and then\n",
       "$\\ggen{x,h^{-1}(b)\\crs h^{-1}}=\\gen{a_h,b}\\neq0$: this tells us that the\n",
       "form~$\\ggen{\\place,\\place}$ is non-degenerate.\n",
       "\n",
       "Let now $a$ and~$b$ be two elements of~$A$, and $g$ and~$h$ two of~$G$. We\n",
       "have that\n",
       "  \\begin{align}\n",
       "  \\MoveEqLeft\n",
       "  \\ggen*{b\\crs h, \\frac{\\alpha(g,g^{-1})}{\\alpha(g^{-1},g)}\n",
       "                    \\cdot\\bigl( \\sigma(a)\\cdot g\\sigma(\\jac_\\sigma(g))\\bigl)\\crs g} \\\\\n",
       "     &= \\frac{\\alpha(g,g^{-1})}{\\alpha(g^{-1},g)}\\cdot\\alpha(h,g)\n",
       "        \\cdot \\gen{b,h\\sigma(a)\\cdot hg\\sigma(\\jac_\\sigma(g))}\\cdot\\delta_{hg,e}. \n",
       "  \\end{align}\n",
       "This is zero if~$h$ and~$g^{-1}$ are not equal, and thus equal to\n",
       "$\\ggen{a\\crs g,b\\crs h}$, which is also zero in that case. If instead\n",
       "$h=g^{-1}$, then\n",
       "  \\begin{align}\n",
       "  \\MoveEqLeft\n",
       "  \\frac{\\alpha(g,g^{-1})}{\\alpha(g^{-1},g)}\\cdot\\alpha(h,g)\n",
       "        \\cdot \\gen{b,h\\sigma(a)\\cdot hg\\sigma(\\jac_\\sigma(g))}\\cdot\\delta_{hg,e} \\\\\n",
       "    &= \\alpha(g,g^{-1}) \\cdot \\gen{b,g^{-1}\\sigma(a)\\cdot \\sigma(\\jac_\\sigma(g))} \\\\\n",
       "    &= \\alpha(g,g^{-1}) \\cdot \\gen{\\jac_\\sigma(g)\\cdot b,g^{-1}\\sigma(a)} \\\\\n",
       "    &= \\alpha(g,g^{-1}) \\cdot \\gen{g(b),\\sigma(a)} \\\\\n",
       "    &= \\alpha(g,g^{-1}) \\cdot \\gen{a,g(b)} \\\\\n",
       "    &= \\ggen{a\\crs g,b\\crs h}\n",
       "  \\end{align}\n",
       "We therefore see that in all cases we have\n",
       "  \\[\n",
       "  \\ggen*{b\\crs h, \\frac{\\alpha(g,g^{-1})}{\\alpha(g^{-1},g)}\n",
       "                    \\cdot\\bigl( \\sigma(a)\\cdot g\\sigma(\\jac_\\sigma(g))\\bigl)\\crs g} \n",
       "    = \\ggen{a\\crs g,b\\crs h},\n",
       "  \\]\n",
       "so that the Nakayama automorphism corresponding to the\n",
       "form~$\\ggen{\\place,\\place}$ is as in the statement of the lemma.\n",
       "\\end{proof}\n",
       "\n",
       "There is a variant of the notion of twisted crossed products, originally\n",
       "studied by Oswald Teichmüller in~\\cite{Teichmuller} in the context\n",
       "non-commutative Galois theory and that is useful in the study of the Brauer\n",
       "group of fields --- see Jean-Pierre Tignol's \\cite{Tignol} for a modern\n",
       "exposition --- that results in algebras over smaller fields. We can also\n",
       "use Jacobians to describe their Nakayama automorphisms, up to a small,\n",
       "interesting change. Let us finish this section explaining this.\n",
       "\n",
       "Let $G$ be a finite group that acts faithfully by isomorphisms on our\n",
       "ground field~$\\kk$, let $A$ be an algebra, and let $\\Aut_\\Ring(A)$ be the\n",
       "group of automorphisms of~$A$ as a \\emph{ring}, and for every unit~$u$\n",
       "of~$A$ let $\\iota_u:x\\in A\\mapsto xax^{-1}\\in A$ be the corresponding inner\n",
       "automorphism, as usual. A \\newterm{factor set} in this situation is an\n",
       "ordered pair~$(\\omega,\\alpha)$ with $\\omega:G\\to\\Aut_{\\Ring}(A)$ and\n",
       "$\\alpha:G\\times G\\to A^\\times$ two functions such that\n",
       "\\begin{itemize}\n",
       "\n",
       "\\item $\\omega(g)(x) = g(x)$ for all $g\\in G$ and all $x\\in\\kk$;\n",
       "\n",
       "\\item $\\omega(g)\\circ\\omega(h) = \\iota_{\\alpha(g,h)}\\circ\\omega(gh)$ for\n",
       "all $g$,~$h\\in G$; and\n",
       "\n",
       "\\item $\\omega(g)(\\alpha(h,k))\\cdot \\alpha(g,hk) = \\alpha(g,h)\\cdot\n",
       "\\alpha(gh,k)$ for all $g$,~$h$,~$k\\in G$.\n",
       "\n",
       "\\end{itemize}\n",
       "We write $\\F(G,A)$ for the set of all such factor sets. If the action\n",
       "of~$G$ on~$\\kk$ is trivial, then there is a «trivial» element in~$\\F(G,A)$,\n",
       "so that the set is then not empty, but in general it can well be. There is\n",
       "a relation of cohomology between these factor sets, and a corresponding\n",
       "cohomology set --- we do not need this, so we limit ourselves to refer the\n",
       "interested read to~\\cite{Tignol} for more information about this.\n",
       "\n",
       "Let $(\\omega,\\alpha)$ be an element of~$\\F(G,A)$. Let us note that\n",
       "  \\[\n",
       "  \\omega(1_G)\\circ\\omega(1_G) = \\iota_{\\alpha(1_G,1_G)}\\circ\\omega(1_G),\n",
       "  \\]\n",
       "so that in fact\n",
       "  \\[ \\label{eq:oi1}\n",
       "  \\omega(1_G) = \\iota_{\\alpha(1_G,1_G)}.\n",
       "  \\]\n",
       "Using this and taking $(g,h,k)$ to be first~$(1_G,1_G,g)$ and\n",
       "then~$(g,1_G,1_G)$ in the third condition above we find that for all\n",
       "elements~$g$ of~$G$ we have\n",
       "  \\[ \\label{eq:oi2}\n",
       "  \\alpha(1_G,g) = \\alpha(1_G,1_G),\n",
       "  \\qquad\n",
       "  \\omega(g)(\\alpha(1_G,1_G)) = \\alpha(g,1_G)\n",
       "  \\]\n",
       "We write $A\\crs_{(\\omega,\\alpha)} G$ for the left $A$-module spanned by the\n",
       "set~$G$ endowed with the unique $\\ZZ$-bilinear map $A\\crs_{(\\omega,\\alpha)}\n",
       "G\\times A\\crs_{(\\omega,\\alpha)} G\\to A\\crs_{(\\omega,\\alpha)} G$ such that\n",
       "  \\[\n",
       "  a\\crs g\\cdot b\\crs h = (a\\cdot\\omega(g)(b)\\cdot\\alpha(g,h))\\crs gh\n",
       "  \\]\n",
       "whenever $a$,~$b\\in A$ and~$g$,~$h\\in G$. This is an associative\n",
       "multiplication: indeed, whenever $a$,~$b$,~$c\\in A$ and $g$,~$h$,~$k\\in G$\n",
       "we have that\n",
       "  \\begin{align}\n",
       "  \\MoveEqLeft\n",
       "  a\\crs g\\cdot(b\\crs h\\cdot c\\crs k) \\\\\n",
       "        &= a\\crs g\\cdot\\bigl((b\\cdot\\omega(h)(c)\\cdot \\alpha(h,k))\\crs hk\\bigr) \\\\\n",
       "        &= \\bigl(\n",
       "                a\n",
       "                \\cdot\\omega(g)(b\\cdot\\omega(h)(c)\\cdot \\alpha(h,k))\n",
       "                \\cdot\\alpha(g,hk)\n",
       "           \\bigr)\\crs ghk \\\\\n",
       "        &= \\bigl(\n",
       "                a\n",
       "                \\cdot\\omega(g)(b)\n",
       "                \\cdot\\omega(g)(\\omega(h)(c))\n",
       "                \\cdot\\omega(g)(\\alpha(h,k))\n",
       "                \\cdot\\alpha(g,hk)\n",
       "           \\bigr)\\crs ghk \\\\\n",
       "        &= \\bigl(\n",
       "                a\n",
       "                \\cdot\\omega(g)(b)\n",
       "                \\cdot\\alpha(g,h)\n",
       "                \\cdot\\omega(gh)(c)\n",
       "                \\cdot\\alpha(g,h)^{-1}\n",
       "                \\cdot\\omega(g)(\\alpha(h,k))\n",
       "                \\cdot\\alpha(g,hk)\n",
       "           \\bigr)\\crs ghk \\\\\n",
       "        &= \\bigl(\n",
       "                a\n",
       "                \\cdot\\omega(g)(b)\n",
       "                \\cdot\\alpha(g,h)\n",
       "                \\cdot\\omega(gh)(c)\n",
       "                \\cdot\\alpha(gh,k)\n",
       "           \\bigr)\\crs ghk \\\\\n",
       "        &= \\bigl((a\\cdot\\omega(g)(b)\\cdot\\alpha(g,h))\\crs gh)\\bigr)\\cdot c\\crs k \\\\\n",
       "        &= (a\\crs g\\cdot b\\crs h)\\cdot c\\crs k.\n",
       "  \\end{align}\n",
       "On the other hand, the element $\\alpha(1_G,1_G)^{-1}\\crs 1_G$ is a unit\n",
       "element for this multiplication. Indeed, if $a\\in A$ and $g\\in G$ we have\n",
       "that\n",
       "  \\begin{align}\n",
       "  \\MoveEqLeft\n",
       "  \\alpha(1_G,1_G)^{-1}\\crs1_G\\cdot a\\crs g \\\\\n",
       "        &= \\bigl(\\alpha(1_G,1_G)^{-1}\\cdot\\omega(1_G)(a)\\cdot\\alpha(1_G,g)\\bigr)\\crs g \\\\\n",
       "        &= \\bigl(a\\cdot\\alpha^{-1}(1_G,1_G) \\cdot\\alpha(1_G,g) \\bigr)\\crs g \\\\\n",
       "        &= a\\crs g\n",
       "  \\end{align}\n",
       "and\n",
       "  \\begin{align}\n",
       "  \\MoveEqLeft\n",
       "  a\\crs g\\cdot\\alpha(1_G,1_G)^{-1}\\crs1_G \\\\\n",
       "        &= \\bigl(a\\cdot\\omega(g)(\\alpha(1_G,1_G)^{-1})\\cdot\\alpha(g,1_G)\\bigr)\\crs g \\\\\n",
       "        &= a\\crs g\n",
       "  \\end{align}\n",
       "thanks to~\\eqref{eq:oi1} and~\\eqref{eq:oi2}. In view of all this what we\n",
       "have is a ring. Now, there is an obvious left $\\kk$-vector space structure\n",
       "on~$A\\crs_{(\\omega,\\alpha)}G$, but this ring is \\emph{not} in general a\n",
       "$\\kk$-algebra with respect to that structure. For example, if $t\\in\\kk$,\n",
       "then $t\\cdot\\alpha(1_G,1_G)^{-1}1_A\\crs1_G$ is\n",
       "$t\\alpha(1_G,1_G)^{-1}\\crs1_G$, of course, and for each $g\\in G$ we have\n",
       "that\n",
       "  \\begin{align}\n",
       "  \\MoveEqLeft\n",
       "  t\\alpha(1_G,1_G)^{-1}\\crs1_G \\cdot 1_A\\crs g \\\\\n",
       "       &= \\bigl(\n",
       "            t\\alpha(1_G,1_G)^{-1}\\cdot\\omega(1_G)(1_A)\\cdot\\alpha(1_G,g)\n",
       "          \\bigr)\\crs g \\\\\n",
       "       &= t\\crs g\n",
       "\\shortintertext{while}\n",
       "  \\MoveEqLeft\n",
       "   1_A\\crs g\\cdot t\\alpha(1_G,1_G)^{-1}\\crs1_G \\\\\n",
       "       &= \\bigl(\n",
       "            1_A\\cdot\\omega(g)(t\\alpha(1_G,1_G)^{-1})\\cdot\\alpha(g,1_G)\n",
       "          \\bigr)\\crs g \\\\\n",
       "       &= \\omega(g)(t)\\crs g \\\\\n",
       "       &= g(t)\\crs g.\n",
       "  \\end{align}\n",
       "It follows from this that if we choose~$t$ in~$\\kk$ but not in the fixed\n",
       "field~$F\\coloneqq\\kk^G$, then the element $t\\alpha(1_G,1_G)^{-1}\\crs1_G$ is\n",
       "not central, so that $A\\crs_{(\\omega,f)}G$ is not a $\\kk$-algebra. The same\n",
       "calculation, though, shows that this ring \\emph{is} an~$F$-algebra.\n",
       "\n",
       "The classical reason to study this construction is that if the algebra~$A$\n",
       "with which we started is a central simple algebra over~$\\kk$, then the\n",
       "algebra $A\\crs_{(\\omega,\\alpha)}G$ with which we ended is a central simple\n",
       "algebra over~$F$ of which~$\\kk$ is a subfield whose centralizer is\n",
       "isomorphic to~$A$ --- we refer again to~\\cite{Tignol} for details about\n",
       "this --- so this is useful in relating the Brauer groups of the two fields.\n",
       "The reason for which we are interested in this construction here is the\n",
       "following result, which generalizes Lemma~\\ref{lemma:jac:cross}. Since in\n",
       "it we deal with semi-linear maps, we need for it a mild generalization of\n",
       "our Nakayama Jacobians, and that is the first part of the lemma.\n",
       "\n",
       "\\begin{Lemma}\\label{lemma:jac:generalized-cross}\n",
       "Let $G$ be a finite group of automorphism of the field~$\\kk$, let\n",
       "$F\\coloneqq\\kk^G$ be its fixed field, and let $\\tr:\\kk\\to F$ be the trace\n",
       "map for the extension~$\\kk\\fe F$. Let~$A$ be a Frobenius algebra with\n",
       "respect to a non-degenerate and associative bilinear form\n",
       "$\\gen{\\place,\\place}:A\\times A\\to\\kk$, let $\\sigma:A\\to A$ be the\n",
       "corresponding Nakayama automorphism, and let $(\\omega,\\alpha)$ be an\n",
       "element of the set~$\\F(G,A)$.\n",
       "\\begin{thmlist}\n",
       "\n",
       "\\item There is a unique function $\\jac_\\sigma^G:G\\to A$ such that\n",
       "  \\[\n",
       "  \\tr{}\\gen{\\omega(g)(a),\\omega(g)(b)}\n",
       "        = \\tr{}\\gen{\\jac_\\sigma^G(g)\\cdot a,b}\n",
       "  \\]\n",
       "for all $g\\in G$ and all $a$,~$b\\in A$.\n",
       "\n",
       "\\item There is a unique $F$-bilinear form\n",
       "  \\[\n",
       "  \\ggen{\\place,\\place}\n",
       "        : A\\crs_{(\\omega,\\alpha)}G \\times A\\crs_{(\\omega,\\alpha)}G\n",
       "        \\to F\n",
       "  \\]\n",
       "such that \n",
       "  \\begin{multline} \\label{eq:fb:1}\n",
       "  \\ggen{a\\crs g,b\\crs h}\n",
       "        = \\tr{}\n",
       "          \\gen{a,\\omega(g)(b)\\cdot\\alpha(g,h)}\\cdot\\delta_{gh,e} \\\\\n",
       "  \\text{for all $a$,~$b\\in A$ and all $g$,~$h\\in H$,}\\qquad\n",
       "  \\end{multline}\n",
       "it is non-degenerate and associative, so that the $F$-algebra\n",
       "$A\\crs_{(\\omega,\\alpha)}G$ is Frobenius, and the corresponding Nakayama\n",
       "automorphism $\\Sigma:A\\crs_{(\\omega,\\alpha)}G\\to A\\crs_{(\\omega,\\alpha)}G$\n",
       "has\n",
       "  \\begin{multline}\n",
       "  \\Sigma(a\\crs g) \n",
       "        = \n",
       "                \\bigl(\n",
       "                \\alpha(1_G,1_G)^{-1} \n",
       "                \\cdot\\sigma(a)\n",
       "                \\cdot\\omega(g)(\\sigma(\\jac_\\sigma^G(g))) \n",
       "                \\cdot \\alpha(g,g^{-1})  \\\\\n",
       "                \\cdot \\alpha(1_G,1_G)^{-1} \n",
       "                \\cdot \\omega(g^{-1})^{-1}(\\alpha(g^{-1},g)^{-1})\n",
       "                \\bigr)\n",
       "                \\crs g\n",
       "  \\end{multline}\n",
       "for all $a\\in A$ and all $g\\in G$.\n",
       "\n",
       "\\end{thmlist}\n",
       "\\end{Lemma}\n",
       "\n",
       "The point of~\\thmitem{1} is that the maps $\\omega(g):A\\to A$ are --- if the\n",
       "action of~$G$ on~$\\kk$ is not trivial~--- \\emph{not} morphisms\n",
       "of~$\\kk$-algebras, only of $F$-algebras, and thus do not have Jacobians\n",
       "according to our general definition. The function~$\\jac_\\sigma^G$ depends\n",
       "on the group~$G$ and the factor set~$(\\omega,\\alpha)$, even if the notation\n",
       "does not reflect that. Notice that since the extension $\\kk\\fe F$ is\n",
       "Galois, the trace map $\\tr:\\kk\\to F$ is non-zero.\n",
       "\n",
       "\\begin{proof}\n",
       "\\thmitem{1} Let $g$ be an element of~$A$. The function $a\\in A\\mapsto\n",
       "g^{-1}(\\gen{\\omega(g)(a),1})\\in\\kk$ is $\\kk$-linear, so the non-degeneracy\n",
       "of the bilinear form~$\\gen{\\place,\\place}$ implies that there is an\n",
       "element~$\\jac_\\sigma^G(g)$ in~$A$ such that\n",
       "$g^{-1}(\\gen{\\omega(g)(a),1})=\\gen{\\jac_\\sigma^G(g),a}$ for all $a\\in A$.\n",
       "Since the trace map $\\tr:\\kk\\to F$ is constant on $G$-orbits, we then have\n",
       "that $\\tr{}\\gen{\\omega(g)(a),1}=\\tr{}\\gen{\\jac_\\sigma^G(g),a}$ for all\n",
       "$a\\in A$. \n",
       "\n",
       "Let $j$ be another element of~$A$ such that\n",
       "$\\tr{}\\gen{\\omega(g)(a),1}=\\tr{}\\gen{j,a}$ for all $a\\in A$. We then have\n",
       "that $\\tr{}\\gen{\\jac_\\sigma^G(g)-j,a}=0$ for all $a\\in A$, so that the\n",
       "$\\kk$-linear function $a\\in A\\mapsto \\gen{\\jac_\\sigma^G(g)-j,a}\\in\\kk$ has\n",
       "image contained in the kernel of~$\\tr$: the latter is a proper $F$-subspace\n",
       "of~$\\kk$, and it follows from this that, in fact\n",
       "$\\gen{\\jac_\\sigma^G(g)-j,a}=0$ for all $a\\in A$, so that\n",
       "$j=\\jac_\\sigma^G(g)$. Putting everything together, we see that there is a\n",
       "unique function $\\jac_\\sigma^G:G\\to A$ with the property described in the\n",
       "lemma.\n",
       "\n",
       "\\medskip\n",
       "\n",
       "\\thmitem{2} That there is an $F$-bilinear~$\\ggen{\\place,\\place}$ form\n",
       "on~$A\\crs_{(\\omega,\\alpha)}G$ that satisfies the condition~\\eqref{eq:fb:1}\n",
       "is clear, since for each $g\\in G$ the map $\\omega(g):A\\to A$ is $F$-linear.\n",
       "Let $x=\\sum_{g\\in G}a_g\\crs g$ be a non-zero element\n",
       "of~$A\\crs_{(\\omega,\\alpha)}$. There is then an element~$h$ in~$G$ such that\n",
       "$a_h\\neq0$, and there is in turn an element~$b$ in~$A$ such that\n",
       "$\\gen{a,b}\\neq0$. The function $t\\in\\kk\\mapsto\\gen{a,tb}\\in\\kk$ is\n",
       "therefore $\\kk$-linear and non-zero: as the trace map~$\\tr$ is non-zero,\n",
       "this implies that we can choose $s\\in\\kk$ so that $\\tr\\gen{a,sb}\\neq0$, and\n",
       "this implies that\n",
       "  \\[\n",
       "  \\ggen{x, \\omega(h)^{-1}(sb\\cdot\\alpha(h,h^{-1})^{-1}) \\crs h^{-1}} \\neq 0.\n",
       "  \\]\n",
       "This shows that the form~$\\ggen{\\place,\\place}$ is non-degenerate, and a\n",
       "direct, boring calculation proves that it is also associative.\n",
       "\n",
       "Let now $a$ and~$b$ be two elements of~$A$ and~$g$ one of~$G$. We have that\n",
       "  \\begin{align}\n",
       "  \\MoveEqLeft\n",
       "  \\ggen{a\\crs g,b\\crs g^{-1}} \\\\\n",
       "        &= \\tr{}\\gen{a,\\omega(g)(b)\\cdot\\alpha(g,g^{-1})} \\\\\n",
       "        &= \\tr{}\\gen{\\omega(g)(b)\\cdot\\alpha(g,g^{-1}),\\sigma(a)} \\\\\n",
       "        &= \\tr{}\\gen{\\omega(g)(b),\\alpha(g,g^{-1})\\cdot\\sigma(a)} \\\\\n",
       "        &= \\tr{}\\gen{\\jac_\\sigma^G(g)\\cdot b,\n",
       "                   \\omega(g)^{-1}(\\alpha(g,g^{-1})\\cdot\\sigma(a))} \\\\\n",
       "        &= \\tr{}\\gen{b,\n",
       "                   \\omega(g)^{-1}(\\alpha(g,g^{-1})\\cdot\\sigma(a))\n",
       "                   \\cdot\\sigma(\\jac_\\sigma^G(g))\n",
       "                   } \\\\\n",
       "        &= \\tr{}\\gen{b,\n",
       "                   \\omega(g)^{-1}(\\alpha(g,g^{-1})\\cdot\\sigma(a)\n",
       "                   \\cdot\\omega(g)(\\sigma(\\jac_\\sigma^G(g))))\n",
       "                   }. \\label{eq:sww}\n",
       "  \\end{align}\n",
       "As\n",
       "  \\(\n",
       "  \\omega(g)\\circ\\omega(g^{-1})\n",
       "        = \\iota_{\\alpha(g,g^{-1})}\\circ\\omega(1_G)\n",
       "        = \\iota_{\\alpha(g,g^{-1})}\\circ\\iota_{\\alpha(1_G,1_G)}\n",
       "  \\),\n",
       "we have that\n",
       "  \\[ \\label{eq:swr}\n",
       "  \\omega(g)^{-1}\n",
       "        = \\omega(g^{-1})\n",
       "          \\circ \\iota_{\\alpha(1_G,1_G)^{-1}}\n",
       "          \\circ \\iota_{\\alpha(g,g^{-1})^{-1}}.\n",
       "  \\]\n",
       "and therefore\n",
       "  \\begin{align*}\n",
       "  \\MoveEqLeft\n",
       "  \\omega(g)^{-1}(\n",
       "        \\alpha(g,g^{-1})\n",
       "        \\cdot\\sigma(a)\n",
       "        \\cdot\\omega(g)(\\sigma(\\jac_\\sigma^G(g)))\n",
       "        ) \\\\\n",
       "        &= \\begin{multlined}[t][.85\\displaywidth]\n",
       "           \\omega(g^{-1})\n",
       "                (\n",
       "                \\alpha(1_G,1_G)^{-1} \n",
       "                \\cdot \\alpha(g,g^{-1})^{-1} \n",
       "                \\cdot \\alpha(g,g^{-1}) \\\\\n",
       "                \\cdot\\sigma(a)\n",
       "                \\cdot\\omega(g)(\\sigma(\\jac_\\sigma^G(g))) \n",
       "                \\cdot \\alpha(g,g^{-1})\n",
       "                \\cdot \\alpha(1_G,1_G)^{-1} \n",
       "                )\n",
       "           \\end{multlined}\n",
       "           \\\\\n",
       "        &= \\begin{multlined}[t][.85\\displaywidth]\n",
       "           \\omega(g^{-1})\n",
       "                (\n",
       "                \\alpha(1_G,1_G)^{-1} \n",
       "                \\cdot\\sigma(a)\n",
       "                \\cdot\\omega(g)(\\sigma(\\jac_\\sigma^G(g))) \n",
       "                \\cdot \\alpha(g,g^{-1})\n",
       "                \\cdot \\alpha(1_G,1_G)^{-1} \n",
       "                ).\n",
       "          \\end{multlined}\n",
       "  \\end{align*}\n",
       "Going back to~\\eqref{eq:sww} with this, we see that\n",
       "  \\begin{align*}\n",
       "  \\MoveEqLeft\n",
       "  \\ggen{a\\crs g,b\\crs g^{-1}} \\\\\n",
       "        &= \\tr{}\\gen{b,\n",
       "                \\omega(g^{-1})\n",
       "                (\n",
       "                \\alpha(1_G,1_G)^{-1} \n",
       "                \\cdot\\sigma(a)\n",
       "                \\cdot\\omega(g)(\\sigma(\\jac_\\sigma^G(g))) \n",
       "                \\cdot \\alpha(g,g^{-1})\n",
       "                \\cdot \\alpha(1_G,1_G)^{-1} \n",
       "                )\n",
       "                } \\\\\n",
       "        &= \\begin{multlined}[t][.85\\displaywidth]\n",
       "           \\bigl\\llangle b\\crs g^{-1},\n",
       "                \\bigl(\n",
       "                \\alpha(1_G,1_G)^{-1} \n",
       "                \\cdot\\sigma(a)\n",
       "                \\cdot\\omega(g)(\\sigma(\\jac_\\sigma^G(g))) \n",
       "                \\cdot \\alpha(g,g^{-1}) \\\\\n",
       "                \\cdot \\alpha(1_G,1_G)^{-1} \n",
       "                \\cdot \\omega(g^{-1})^{-1}(\\alpha(g^{-1},g)^{-1})\n",
       "                \\bigr)\n",
       "                \\crs g\n",
       "                \\bigr\\rrangle\n",
       "          \\end{multlined} \n",
       "          \\\\\n",
       "        &= \\ggen{b\\crs g^{-1},\\Sigma(a\\crs g)}.\n",
       "  \\end{align*}\n",
       "On the other hand, we have that $\\ggen{a\\crs g,b\\crs h}=\\ggen{b\\crs\n",
       "h,\\Sigma(a\\crs g)}$ when $h$ is an element of~$G$ different from~$g^{-1}$,\n",
       "simply because both sides of the equality are equal to zero. This shows\n",
       "that the map~$\\Sigma$ is the Nakayama automorphism\n",
       "of~$A\\crs_{(\\omega,\\alpha)}G$ with respect to the\n",
       "form~$\\ggen{\\place,\\place}$.\n",
       "\\end{proof}\n",
       "\n",
       "The Jacobian map $\\jac_\\sigma^G:G\\to A$ that appears in this lemma has many\n",
       "properties similar to those of the Nakayama Jacobian that we have been\n",
       "studying. We will not look into this here. Let us just remark that, much as\n",
       "in Lemma~\\ref{lemma:jac:cocycle}, we can obtain a formula\n",
       "for~$\\jac_\\sigma^G(gh)$ in terms of~$\\jac_\\sigma^G(g)$\n",
       "and~$\\jac_\\sigma^G(h)$ that is a complicated version of a cocycle condition\n",
       "and that from it we can see that $\\jac_\\sigma^G$ takes values that are\n",
       "units in~$A$.\n",
       "\n",
       "%%%%%%%%%%%%%%%%%%%%%%%%%%%%%%%%%%%%%%%%%%%%%%%%%%%%%%%%%%%%%%%%%%%%%%\n",
       "\\subsubsection{Some reductions}\n",
       "\\label{subsubsect:jac:reductions}\n",
       "\n",
       "Let us finish our discussion of Jacobians by presenting three useful\n",
       "observations that simplify their calculation, and that arise from\n",
       "well-known properties of the class of Frobenius algebras already studied by\n",
       "Samuel Eilenberg and Tadasi Nakayama in~\\cite{EN}. The first one is that we\n",
       "can compute the Jacobian of an automorphism of a decomposable algebra that\n",
       "preserves one of its decompositions one component at a time.\n",
       "\n",
       "\\begin{Lemma}\\label{lemma:jac:times}\n",
       "Let $A$ be an associative algebra, let $\\gen{\\place,\\place}:A\\times\n",
       "A\\to\\kk$ be an non-degenerate and associative bilinear form on~$A$, and let\n",
       "$\\sigma:A\\to A$ be the corresponding Nakayama automorphism. Let moreover\n",
       "$A_1$,~\\dots,~$A_n$ be ideals of~$A$ such that $A=A_1\\times\\cdots\\times\n",
       "A_n$.\n",
       "\\begin{thmlist}\n",
       "\n",
       "\\item Let $i$ be an element of~$\\inter{n}$. The\n",
       "restriction~$\\gen{\\place,\\place}_i$ of the bilinear\n",
       "form~$\\gen{\\place,\\place}$ to~$A_i$ is non-degenerate and associative, so\n",
       "that $A_i$ is a Frobenius algebra with respect to it. We have\n",
       "$\\sigma(A_i)\\subseteq A_i$ and the\n",
       "restriction~$\\sigma_i\\coloneqq\\sigma|_{A_i}:A_i\\to A_i$ is the Nakayama\n",
       "automorphism of~$A_i$ corresponding to~$\\gen{\\place,\\place}_i$.\n",
       "\n",
       "\\item The Jacobian of an automorphism $u:A\\to A$ such that $u(A_i)\\subseteq\n",
       "A_i$ for each $i\\in\\inter{n}$, so that we can consider the restriction\n",
       "$u|_{A_i}:A_i\\to A_i$, is\n",
       "  \\[ \\label{eq:jac:times}\n",
       "  \\jac_\\sigma(u) = \\jac_{\\sigma_1}(u|_{A_1})\n",
       "                   + \\cdots\n",
       "                   + \\jac_{\\sigma_n}(u|_{A_n}).\n",
       "  \\]\n",
       "\n",
       "\\end{thmlist}\n",
       "\\end{Lemma}\n",
       "\n",
       "\\begin{proof}\n",
       "\\thmitem{1} Let us remark that the ideals~$A_1$,~\\dots,~$A_n$ are\n",
       "orthogonal with respect to the bilinear form~$\\gen{\\place,\\place}$. Indeed,\n",
       "if $i$ and~$j$ are two different elements of~$\\inter{n}$, $a$ and~$b$ are\n",
       "elements of~$A_i$ and of~$A_j$, respectively, and~$1_j$ is the unit element\n",
       "of~$A_j$, then we have that\n",
       "$\\gen{a,b}=\\gen{a,1_jb}=\\gen{a1_j,b}=\\gen{0,b}=0$. This  implies at once\n",
       "that the restrictions\n",
       "$\\gen{\\place,\\place}_1$,~\\dots,~$\\gen{\\place,\\place}_n$ are non-degenerate,\n",
       "and it is clear that they are all associative, since the\n",
       "form~$\\gen{\\place,\\place}$ is. \n",
       "\n",
       "Let $i$ be an element of~$\\inter{n}$, let $\\sigma_i:A_i\\to A_i$ be the\n",
       "Nakayama automorphism of~$A_i$ with respect to the\n",
       "form~$\\gen{\\place,\\place}_i$, and let $a$ be an element of~$A_i$.\n",
       "\\begin{itemize}\n",
       "\n",
       "\\item For all $b\\in A_i$ we have that\n",
       "  \\begin{align}\n",
       "  \\gen{b,\\sigma(a)-\\sigma_i(a)}\n",
       "       &= \\gen{b,\\sigma(a)}-\\gen{b,\\sigma_i(a)}\n",
       "        = \\gen{a, b}-\\gen{b,\\sigma_i(a)}_i\n",
       "        = \\gen{a, b}-\\gen{a, b}_i \\\\\n",
       "       &= \\gen{a, b}-\\gen{a, b}\n",
       "        = 0.\n",
       "  \\end{align}\n",
       "\n",
       "\\item If instead $j$ is an element of~$\\inter{n}$ different from~$i$ and\n",
       "$b$ is in~$A_j$, then we have\n",
       "  \\[\n",
       "  \\gen{b,\\sigma(a)-\\sigma_i(a)}\n",
       "        = \\gen{b,\\sigma(a)} - \\gen{b,\\sigma_i(a)}\n",
       "        = \\gen{a,b} \n",
       "        = 0\n",
       "  \\]\n",
       "because $A_i$ and~$A_j$ are orthogonal with respect\n",
       "to~$\\gen{\\place,\\place}$. \n",
       "\n",
       "\\end{itemize}\n",
       "It follows from this that, in fact, $\\sigma_i(a)=\\sigma(a)$.\n",
       "\n",
       "\\medskip\n",
       "\n",
       "\\thmitem{2} Let $u:A\\to A$ be an automorphism of~$A$ such that\n",
       "$u(A_i)\\subseteq A_i$ for each $i\\in\\inter{n}$. If $i\\in\\inter{n}$, $a\\in\n",
       "A_i$, and $1_i$ is the unit element of~$A_i$, then we have that\n",
       "  \\begin{align}\n",
       "  \\gen{u(a),1} \n",
       "        &= \\gen{u_i(a),1_i} \n",
       "         = \\gen{u|_{A_i}(a),1}_i\n",
       "         = \\gen{\\jac_{\\sigma_i}(u|_{A_i}),a}_i \\\\\n",
       "        &= \\gen[\\big]{\n",
       "                        \\jac_{\\sigma_1}(u|_{A_1})\n",
       "                        + \\cdots\n",
       "                        + \\jac_{\\sigma_n}(u|_{A_n}),\n",
       "                        a}.\n",
       "  \\end{align}\n",
       "This shows that the equality~\\eqref{eq:jac:times} is true.\n",
       "\\end{proof}\n",
       "\n",
       "A second, very easy observation that is useful in our context is that we\n",
       "can extend scalars in our algebras and that doing that does not change, in\n",
       "the appropriate sense, the Jacobians we are trying to compute.\n",
       "\n",
       "\\begin{Lemma}\\label{lemma:jac:ext}\n",
       "Let $A$ be an associative algebra, let $\\gen{\\place,\\place}:A\\times\n",
       "A\\to\\kk$ be an non-degenerate and associative bilinear form on~$A$, and let\n",
       "$\\sigma:A\\to A$ be the corresponding Nakayama automorphism. Let moreover\n",
       "$K$ be an extension of our ground field~$\\kk$ and let $A_K\\coloneqq\n",
       "K\\otimes A$ be the algebra obtained from~$A$ by extension of scalars.\n",
       "\\begin{thmlist}\n",
       "\n",
       "\\item There is a unique $K$-bilinear form $\\gen{\\place,\\place}_K:A_K\\times\n",
       "A_K\\to K$ on the algebra~$A_K$ such that \n",
       "  \\(\n",
       "  \\gen{s\\otimes a,t\\otimes b}=st\\gen{a,b}\n",
       "  \\)\n",
       "for all $s$,~$t\\in K$ and all~$a$,~$b\\in A$, it is non-degenerate and\n",
       "associative, so that $A_K$ is a Frobenius algebra, and the corresponding\n",
       "Nakayama automorphism is $\\sigma_K\\coloneqq\\id_K\\otimes\\sigma:A_K\\to A_K$.\n",
       "\n",
       "\\item If $u:A\\to A$ is an automorphism of~$A$, then of course\n",
       "$u_K\\coloneqq\\id_K\\otimes u:A_K\\to A_K$ is an automorphism of~$A_K$, and we\n",
       "have that\n",
       "  \\[\n",
       "  \\jac_{\\sigma_K}(u_K) = 1 \\otimes \\jac_\\sigma(u).\n",
       "  \\]\n",
       "\n",
       "\\end{thmlist}\n",
       "\\end{Lemma}\n",
       "\n",
       "\\begin{proof}\n",
       "The first part of the lemma is clear, and the second one is a consequence\n",
       "of the fact that \n",
       "  \\begin{align}\n",
       "  \\gen{u_K(s\\otimes a),u_K(t\\otimes b)}\n",
       "       &= st\\cdot\\gen{u(a),u(b)}\n",
       "        = st\\cdot\\gen{\\jac_\\sigma(u)\\cdot a,b} \\\\\n",
       "       &= \\gen{1\\otimes\\jac_\\sigma(u)\\cdot s\\otimes a,t\\otimes b}\n",
       "  \\end{align}\n",
       "for all $s$,~$t\\in K$ and all $a$~$b\\in A$.\n",
       "\\end{proof}\n",
       "\n",
       "Lemma~\\ref{lemma:jac:ext} implies that if $A$ is an algebra that is\n",
       "actually defined over a subfield of~$\\kk$, then the Jacobian of an\n",
       "automorphism $u:A\\to A$ of~$A$ that is also defined over~$\\kk$ is itself\n",
       "defined over~$\\kk$. This suggests studying the problem of Galois descent\n",
       "for Jacobians and various integrality questions --- we will do that\n",
       "elsewhere.\n",
       "\n",
       "\\bigskip\n",
       "\n",
       "The third observation we want to make is more subtle. We can view an\n",
       "algebra as an algebra over any of its central subfields, and it turns out\n",
       "that changing the field in this way affects neither the Frobenius property\n",
       "--- as long as the algebra remains finite-dimensional over the new field,\n",
       "of course --- nor the Jacobians of automorphisms.\n",
       "\n",
       "\\begin{Lemma}\\label{lemma:jac:change}\n",
       "Let $A$ be a finite-dimensional algebra, and let $K$ be a central subfield\n",
       "of~$A$ that contains~$\\kk$.\n",
       "\\begin{thmlist}\n",
       "\n",
       "\\item $A$ is Frobenius as a $\\kk$-algebra if and only if it is Frobenius as\n",
       "a $K$-algebra. \n",
       "\n",
       "\\end{thmlist}\n",
       "Let now $\\epsilon:K\\to \\kk$ be a non-zero linear map, and let\n",
       "$\\gen{\\place,\\place}_\\kk:A\\times A\\to\\kk$ and $\\sigma:A\\to A$ be a\n",
       "non-degenerate and associative $\\kk$-bilinear form on~$A$ and the\n",
       "corresponding Nakayama automorphism, respectively.\n",
       "\\begin{thmlist}[resume*]\n",
       "\n",
       "\\item There is a unique non-degenerate and associative $K$-bilinear form\n",
       "$\\gen{\\place,\\place}_K:A\\times A\\to K$ on~$A$ such that\n",
       "$\\gen{a,b}_K=\\epsilon(\\gen{a,b}_\\kk)$ for all $a$ and all~$b$ in~$A$, and\n",
       "the Nakayama automorphisms of~$A$ with respect to it is precisely~$\\sigma$.\n",
       "\n",
       "\\item The Jacobian of an automorphism $u:A\\to A$ of~$A$ as a $K$-algebra\n",
       "coincides with its Jacobian as an automorphism of~$A$ as a~$\\kk$-algebra.\n",
       "\n",
       "\\end{thmlist}\n",
       "\\end{Lemma}\n",
       "\n",
       "The claim in~\\thmitem{1} is usually proved by noting that $\\Hom_K(A,K)$ is\n",
       "an injective envelope of~$A/\\rad A$ in the category of left $A$-modules, so\n",
       "that its isomorphism type there does not depend on the choice of the\n",
       "central subfield~$K$ and, in particular, that it is free exactly when\n",
       "$\\Hom_\\kk(A,\\kk)$ is free. This is how Tsit Yuen Lam does it in his\n",
       "\\cite{Lam:lectures}*{Example 3.42}, for example --- we need explicit\n",
       "information about the bilinear forms involved so we do it in a different\n",
       "way.\n",
       "\n",
       "\\begin{proof}\n",
       "Let us fix an arbitrary non-zero $\\kk$-linear map $\\epsilon:K\\to\\kk$.\n",
       "\n",
       "\\thmitem{1} A\n",
       "$K$-linear function~$f:A\\to K$ is automatically $\\kk$-linear, so the\n",
       "composition $\\epsilon\\circ f$ belongs to~$\\Hom_\\kk(A,\\kk)$, and we\n",
       "therefore have a function \n",
       "  \\[\n",
       "  \\Psi:f\\in\\Hom_K(A,K)\\mapsto \\epsilon\\circ f\\in\\Hom_\\kk(A,\\kk).\n",
       "  \\]\n",
       "The domain and the codomain of~$\\Psi$ are central $A$-bimodules and the map\n",
       "is a  morphism of $A$-bimodules: in particular, the domain and codomain\n",
       "of~$\\Psi$ are $\\kk$-vector spaces in a canonical way, both are\n",
       "finite-dimensional over~$\\kk$, and the map $\\Psi$ is $\\kk$-linear. The\n",
       "map~$\\Psi$ is also injective: indeed, if $f:A\\to K$ is a non-zero\n",
       "$K$-linear function, then $f$ is surjective and ---~since $\\epsilon$ is not\n",
       "the zero map --- we can choose an element~$a$ in~$A$ such that $f(a)$ is in\n",
       "$K\\setminus\\ker\\epsilon$, so that $\\psi(f)(a)\\neq0$. As\n",
       "  \\begin{align}\n",
       "  \\dim_\\kk \\Hom_\\kk(A,\\kk)\n",
       "       &= \\dim_\\kk A\n",
       "        = \\dim_KA\\cdot\\dim_\\kk K\n",
       "        = \\dim_K\\Hom_K(A,K)\\cdot\\dim_\\kk K\n",
       "        \\\\\n",
       "       &= \\dim_\\kk\\Hom_K(A,K)\n",
       "  \\end{align}\n",
       "we see that the $K$-linear map~$\\Psi$ is in fact bijective, so it is an\n",
       "isomorphism of $A$-bimodules. It follows from this, of course, that\n",
       "$\\Hom_\\kk(A,\\kk)$ is a free left or right $A$-module exactly when\n",
       "$\\Hom_K(A,K)$ is a free left or right $A$-module, respectively, and this\n",
       "means that $A$ is a Frobenius $\\kk$-algebra exactly when it is a Frobenius\n",
       "$K$-algebra.\n",
       "\n",
       "\\medskip\n",
       "\n",
       "\\thmitem{2} The map $\\beta_\\kk:A\\to\\Hom_\\kk(A,\\kk)$ such that\n",
       "$\\beta_\\kk(a)(b)=\\gen{a,b}$ for all $a$ and all~$b$ in~$A$ is an\n",
       "isomorphism of right $A$-modules and, since the map $\\Psi$ is bijective,\n",
       "there is an element $\\lambda$ in~$\\Hom_K(A,K)$ such that\n",
       "$\\Psi(\\lambda)=\\beta_\\kk(1)$. We can therefore consider the $K$-bilinear\n",
       "form $\\gen{\\place,\\place}_K:(a,b)\\in A\\times A\\mapsto\\lambda(ab)\\in K$,\n",
       "which is clearly associative, and the corresponding right $A$-linear map\n",
       "$\\beta_K:A\\to\\Hom_K(A,K)$ such that $\\beta_K(a)(b)=\\gen{a,b}_K$ for all $a$\n",
       "and all~$b\\in A$. For all $a\\in A$ we have that $\\beta_K(a)=\\beta_\\kk(a)$,\n",
       "because\n",
       "  \\[\n",
       "  \\beta_K(a)(b)\n",
       "        = \\lambda(ab)\n",
       "        = \\beta_\\kk(1)(ab)\n",
       "        = (\\beta_\\kk(1)a)(b)\n",
       "        = \\beta_\\kk(a)(b)\n",
       "  \\]\n",
       "for all $b\\in A$, and this tells us that $\\beta_K$ is bijective, so that\n",
       "the $K$-bilinear form~$\\gen{\\place,\\place}_K$ is non-degenerate and $A$ is\n",
       "a Frobenius $K$-algebra with respect to it. As\n",
       "$\\Psi(\\lambda)=\\beta_\\kk(1)$, when $a$ and~$b$ are in~$A$ we have that\n",
       "  \\[\n",
       "  \\gen{a,b}_\\kk\n",
       "        = \\beta_\\kk(a)(b)\n",
       "        = (\\beta_\\kk(1)a)(b)\n",
       "        = \\beta_\\kk(1)(ab)\n",
       "        = \\Psi(\\lambda)(ab)\n",
       "        = \\epsilon(\\lambda(ab))\n",
       "        = \\epsilon(\\gen{a,b}_K).\n",
       "  \\]\n",
       "We know from Proposition~\\ref{prop:sigma:central} that the Nakayama\n",
       "automorphism $\\sigma:A\\to A$ corresponding to~$\\gen{\\place,\\place}_\\kk$\n",
       "acts trivially on the center of~$A$, so it is in particular an automorphism\n",
       "of~$A$ as a $K$-algebra. If $a$ is an element of~$A$, then we have that\n",
       "  \\[\n",
       "  \\epsilon(\\gen{b,\\sigma(a)}_K)\n",
       "        = \\gen{b,\\sigma(a)}_\\kk\n",
       "        = \\gen{a,b}_\\kk\n",
       "        = \\epsilon(\\gen{a,b}_K)\n",
       "  \\]\n",
       "for all $b\\in B$, so that the $K$-linear function $b\\in\n",
       "A\\mapsto\\gen{b,\\sigma(a)}_K-\\gen{a,b}_K\\in K$ takes values in the kernel\n",
       "of~$\\epsilon$: as its image is a $K$-subspace of~$K$ and $\\epsilon\\neq0$,\n",
       "this implies, of course, that it is identically zero. We see with this that\n",
       "$\\gen{a,b}_K=\\gen{b,\\sigma(a)}_K$ for all $a$ and all $b$ in~$K$, so that\n",
       "$\\sigma$ is also the Nakayama automorphism of~$A$ with respect to the\n",
       "$K$-bilinear form $\\gen{\\place,\\place}_K$. This completes the proof\n",
       "of~\\thmitem{2}.\n",
       "\n",
       "\\medskip\n",
       "\n",
       "\\thmitem{3} Let $u:A\\to A$ be an automorphism of~$A$ as a $K$-algebra and\n",
       "let $\\jac_\\sigma(u)$ be the corresponding Jacobian, so that\n",
       "$\\gen{u(a),u(b)}_K=\\gen{\\jac_\\sigma(u)\\cdot a,b}_K$ for all $a$ and all $b$\n",
       "in~$A$. This implies, of course, that \n",
       "  \\[\n",
       "  \\gen{u(a),u(b)}_\\kk\n",
       "        = \\epsilon(\\gen{u(a),u(b)}_K)\n",
       "        = \\epsilon(\\gen{\\jac_\\sigma(u)\\cdot a,b}_K)\n",
       "        = \\gen{\\jac_\\sigma(u)\\cdot a,b}_\\kk\n",
       "  \\]\n",
       "for all $a$ and all $b$ in~$A$, so that $\\jac_\\sigma(u)$ is also the\n",
       "Jacobian of~$u$ when we regard it as an automorphism of~$A$ as\n",
       "a~$\\kk$-algebra.\n",
       "\\end{proof}\n",
       "\n",
       "%%%%%%%%%%%%%%%%%%%%%%%%%%%%%%%%%%%%%%%%%%%%%%%%%%%%%%%%%%%%%%%%%%%%%%\n",
       "\\subsection{Divergences}\n",
       "\\label{subsect:div}\n",
       "\n",
       "As usual, we let $A$ be a Frobenius algebra with respect to a\n",
       "non-degenerate and symmetric bilinear form $\\gen{\\place,\\place}:A\\times\n",
       "A\\to\\kk$, and write $\\sigma:A\\to A$ for the corresponding Nakayama\n",
       "automorphism, and $\\beta:A\\to{}_\\sigma\\D A$ for the associated isomorphism\n",
       "of bimodules, which is such that $\\beta(a)(b)=\\gen{a,b}$ for all $a$ and\n",
       "all~$b$ in~$A$.\n",
       "\n",
       "\\begin{Lemma}\n",
       "Let $\\delta:A\\to A$ be a derivation. \n",
       "\\begin{thmlist}\n",
       "\n",
       "\\item There is a unique linear map $\\delta^*:A\\to A$ that for all $a$ and\n",
       "all~$b$ in~$A$ is such that\n",
       "  \\[\n",
       "  \\gen{\\delta(a),b} = \\gen{a,\\delta^*(b)}.\n",
       "  \\]\n",
       "\n",
       "\\item For all $a$ and~$b$ in~$A$ we have that\n",
       "  \\[\n",
       "  \\delta^*(ab) = a\\delta^*(b) - \\delta(a)b,\n",
       "  \\qquad\n",
       "  \\delta^*(ab) = \\delta^*(a)b - a\\delta^\\sigma(b),\n",
       "  \\]\n",
       "so that $\\delta^*$ is a left $(-\\delta)$-operator and a right\n",
       "$(-\\delta^\\sigma)$-operator.\n",
       "\n",
       "\\end{thmlist}\n",
       "\\end{Lemma}\n",
       "\n",
       "\\begin{proof}\n",
       "The first claim is a easy consequence of the non-degeneracy of the bilinear\n",
       "form~$\\gen{\\place,\\place}$ on~$A$. If $a$ and~$b$ are two elements of~$A$,\n",
       "then we have that\n",
       "  \\begin{align}\n",
       "  \\gen{c,\\delta^*(ab)}\n",
       "        &= \\gen{\\delta(c),ab}\n",
       "         = \\gen{\\delta(c)a,b}\n",
       "         = \\gen{\\delta(ca),b} - \\gen{c\\delta(a),b}\n",
       "         = \\gen{ca,\\delta^*(b)} - \\gen{c,\\delta(a)b} \\\\\n",
       "        &= \\gen{c,a\\delta^*(b) - \\delta(a)b}\n",
       "\\shortintertext{and}\n",
       "  \\gen{c,\\delta^*(ab)}\n",
       "        &= \\gen{\\delta(c),ab}\n",
       "         = \\gen{\\sigma^{-1}(b)\\delta(c),a}\n",
       "         = \\gen{\\delta(\\sigma^{-1}(b)c),a} - \\gen{\\delta(\\sigma^{-1}(b))c,a}  \\\\\n",
       "        &= \\gen{\\sigma^{-1}(b)c,\\delta^*(a)} - \\gen{c,a\\sigma(\\delta(\\sigma^{-1}(b)))} \n",
       "         = \\gen{c,\\delta^*(a)b - a\\sigma(\\delta(\\sigma^{-1}(b)))} \n",
       "  \\end{align}\n",
       "for all $c\\in A$, so that $\\delta^*(ab)=a\\delta^*(b)-\\delta(a)b$ and\n",
       "$\\delta^*(ab)=\\delta^*(a)b-a\\delta^\\sigma(b)$.\n",
       "\\end{proof}\n",
       "\n",
       "In the situation of the lemma, we define the \\newterm{Nakayama divergence}\n",
       "of the derivation~$\\delta:A\\to A$ to be the element\n",
       "  \\[\n",
       "  \\div_\\sigma(\\delta) \\coloneqq \\delta^*(1).\n",
       "  \\]\n",
       "The second part of the lemma implies at once that $\\div_\\sigma(\\delta)$\n",
       "determines the map~$\\delta^*$: indeed, for all $a\\in A$ we have that\n",
       "  \\[ \\label{eq:deltastar}\n",
       "  \\delta^*(a) = a\\cdot\\div_\\sigma(\\delta) - \\delta(a),\n",
       "  \\qquad\n",
       "  \\delta^*(a) = \\div_\\sigma(\\delta)\\cdot a - \\delta^\\sigma(a).\n",
       "  \\]\n",
       "In particular, we have that\n",
       "  \\(\n",
       "  \\delta^\\sigma(a)-\\delta(a) = \\div_\\sigma(\\delta)\\cdot a - a\\cdot\\div_\\sigma(\\delta)\n",
       "  \\)\n",
       "for all $a\\in A$, so that in fact we have\n",
       "  \\[ \\label{eq:div:comm}\n",
       "  \\delta^\\sigma - \\delta = \\ad(\\div_\\sigma(\\delta)).\n",
       "  \\]\n",
       "We know from Subsection~\\ref{subsect:hh01} that the classes of the\n",
       "derivations~$\\delta:A\\to A$ and~$\\delta^\\sigma:A\\to A$ in~$\\HH^1(A)$\n",
       "coincide, so that the difference~$\\delta^\\sigma-\\delta:A\\to A$ is an inner\n",
       "derivation: the equality~\\eqref{eq:div:comm} shows that the\n",
       "divergence~$\\div_\\sigma(\\delta)$ is a particular choice on an element that\n",
       "proves this.\n",
       "\n",
       "\\begin{Lemma}\\label{lemma:div:ids}\n",
       "Let $\\delta:A\\to A$ be a derivation. \n",
       "\\begin{thmlist}\n",
       "\n",
       "\\item For all $a$ and~$b$ in~$A$ we have that\n",
       "  \\begin{align}\n",
       "  &  \\gen{\\delta(a),b} + \\gen{a,\\delta(b)} = \\gen{a,b\\cdot\\div_\\sigma(\\delta)},\n",
       "  && \\gen{\\delta(a),b} + \\gen{a,\\delta^\\sigma(b)} = \\gen{a,\\div_\\sigma(\\delta)\\cdot b}\n",
       "\\intertext{and, in particular,}\n",
       "  &  \\gen{\\delta(a),1} = \\gen{a,\\div_\\sigma(\\delta)}.\n",
       "  \\end{align}\n",
       "\n",
       "\\item The element $\\div_\\sigma(\\delta)$ is the unique element of~$A$ that\n",
       "makes any one of the three equalities in~\\thmitem{1} true for all $a$ and\n",
       "all~$b$ in~$A$.\n",
       "\n",
       "\\end{thmlist}\n",
       "\\end{Lemma}\n",
       "\n",
       "\\begin{proof}\n",
       "The truth of the first two equalities in~\\thmitem{1} follows immediately\n",
       "from the equalities in~\\eqref{eq:deltastar}, and that of the third one from\n",
       "them by taking $b=1$ and recalling that $\\delta$ vanishes on~$1$. On the\n",
       "other hand, the claim in \\thmitem{2} follows at once from the\n",
       "non-degeneracy of the bilinear form on~$A$.\n",
       "\\end{proof}\n",
       "\n",
       "We can easily compute the divergence of inner derivations:\n",
       "\n",
       "\\begin{Lemma}\\label{lemma:div:inner}\n",
       "Let $x$ be an element of~$A$ and let \n",
       "  \\(\n",
       "  \\ad(x):a\\in A\\mapsto xa-ax\\in A\n",
       "  \\)\n",
       "be the inner derivation associated with~$x$. We have\n",
       "  \\[\n",
       "  \\div_\\sigma(\\ad(x)) = \\sigma(x)-x.\n",
       "  \\]\n",
       "\\end{Lemma}\n",
       "\n",
       "Notice that this tells us that $\\div_\\sigma$ vanishes on inner derivation\n",
       "when the algebra~$A$ is symmetric and $\\sigma=\\id_A$.\n",
       "\n",
       "\\begin{proof}\n",
       "Indeed, for all $a\\in A$ we have that\n",
       "  \\[\n",
       "  \\gen{\\ad(x)(a),1} \n",
       "        = \\gen{xa,1} - \\gen{ax,1}\n",
       "        = \\gen{a,\\sigma(x)} - \\gen{a,x}\n",
       "        = \\gen{a,\\sigma(x)-x},\n",
       "  \\]\n",
       "so the lemma follows from the characterization of~$\\div_\\sigma(\\ad(x))$\n",
       "given in Lemma~\\ref{lemma:div:ids}.\n",
       "\\end{proof}\n",
       "\n",
       "As with divergences of vector fields in calculus, $\\div$ is not a linear\n",
       "map but a differential operator:\n",
       "\n",
       "\\begin{Lemma}\\label{lemma:div:connection}\n",
       "Let $\\delta:A\\to A$ be a derivation of~$A$. For each central element~$z$\n",
       "of~$A$ we have that\n",
       "  \\[\n",
       "  \\div_\\sigma(z\\delta) = z\\div_\\sigma(\\delta) - \\delta(z).\n",
       "  \\]\n",
       "\\end{Lemma}\n",
       "\n",
       "Notice that this makes sense because $\\Der(A)$ is, in a canonical way, a\n",
       "left module over the center~$\\Z(A)$ of~$A$.\n",
       "\n",
       "\\begin{proof}\n",
       "Let $z$ be a central element of~$A$. Whenever $a$ and~$b$ are two arbitrary\n",
       "elements of~$A$ we have that\n",
       "  \\begin{align}\n",
       "  \\gen{(z\\delta)(a),b} + \\gen{a,(z\\delta)(b)}\n",
       "        &= \\gen{z\\delta(a),b} \n",
       "                + \\gen{a,z\\delta(b)} \\\\\n",
       "        &= \\gen{\\delta(a),bz} \n",
       "                + \\gen{az,\\delta(b)} \\\\\n",
       "\\intertext{because $\\sigma$ fixes~$z$, and this is}\n",
       "        &= -\\gen{a,\\delta(bz)} \n",
       "                + \\gen{a,bz\\cdot\\div_\\sigma(\\delta)} \n",
       "                + \\gen{az,\\delta(b)} \\\\\n",
       "        &= -\\gen{a,\\delta(b)z} \n",
       "                - \\gen{a,b\\delta(z)} \n",
       "                + \\gen{a,bz\\cdot\\div_\\sigma(\\delta)} \n",
       "                + \\gen{az,\\delta(b)} \\\\\n",
       "        &= \\gen{a,b\\cdot(-\\delta(z) \n",
       "                + z\\cdot\\div_\\sigma(\\delta))}.\n",
       "  \\end{align}\n",
       "The equality in the lemma follows from this.\n",
       "\\end{proof}\n",
       "\n",
       "Another remarkable fact is that the operator~$\\div_\\sigma$ interacts nicely\n",
       "with the Lie bracket on~$\\Der(A)$, for an appropriately adjusted meaning of\n",
       "the word «nice».\n",
       "\n",
       "\\begin{Lemma}\\label{lemma:div:cocycle}\n",
       "If $\\delta$,~$\\eta:A\\to A$ are derivations of~$A$, then\n",
       "  \\[\n",
       "  \\div_\\sigma([\\delta,\\eta])\n",
       "        = \\delta(\\div_\\sigma(\\eta)) - \\eta(\\div_\\sigma(\\delta))\n",
       "                + [\\div_\\sigma(\\delta),\\div_\\sigma(\\eta)].\n",
       "  \\]\n",
       "\\end{Lemma}\n",
       "\n",
       "This is not quite the formula for the divergence of the commutator of two\n",
       "vector fields on a Riemannian manifold, as in that context we do not have\n",
       "the third summand of the right hand side. That term goes away, of course,\n",
       "if $A$ is commutative, for example.\n",
       "\n",
       "\\begin{proof}\n",
       "Let $\\delta$,~$\\eta:A\\to A$ be two derivations of~$A$. For all $a\\in A$ we\n",
       "have that\n",
       "  \\begin{align}\n",
       "  \\MoveEqLeft[1]\n",
       "  \\gen{a,\\div_\\sigma([\\delta,\\eta])}\n",
       "         = \\gen{[\\delta,\\eta](a),1} \\\\\n",
       "        &= \\gen{\\delta(\\eta(a)),1} - \\gen{\\eta(\\delta(a)),1} \\\\\n",
       "        &= \\gen{\\eta(a),\\div_\\sigma(\\delta)}-\\gen{\\delta(a),\\div_\\sigma(\\eta)} \\\\\n",
       "        &= -\\gen{a,\\eta(\\div_\\sigma(\\delta)}\n",
       "           +\\gen{a,\\div_\\sigma(\\delta)\\cdot\\div_\\sigma(\\eta)}\n",
       "           +\\gen{a,\\delta(\\div_\\sigma(\\eta))}\n",
       "           -\\gen{a,\\div_\\sigma(\\eta)\\cdot\\div_\\sigma(\\delta)} \\\\\n",
       "        &= \\gen{a,\\delta(\\div_\\sigma(\\eta))\n",
       "           -\\eta(\\div_\\sigma(\\delta))\n",
       "           +[\\div_\\sigma(\\delta),\\div_\\sigma(\\eta)]}\n",
       "  \\end{align}\n",
       "thanks for the identities in Lemma~\\ref{lemma:div:ids}, and therefore the\n",
       "equality in the lemma holds.\n",
       "\\end{proof}\n",
       "\n",
       "We can state the result in Lemma~\\ref{lemma:div:cocycle} in an interesting\n",
       "way. The Lie algebra $\\Der(A)$ acts on~$A$ in a canonical way, and with\n",
       "that action $A$ is a Lie module, so we can construct the familiar\n",
       "Chevalley-Eilenberg complex~$\\CE^*(\\Der(A),A)=\\Hom(\\bigwedge^*\\Der(A),A)$\n",
       "that computes the Lie algebra cohomology~$\\H^*(\\Der(A),A)$ of~$\\Der(A)$\n",
       "with values in~$A$. We can turn~$A$ into a Lie algebra using the commutator\n",
       "bracket, and using the formulas of Schouten--Nijenhuis we can turn the\n",
       "complex $\\CE^*(\\Der(A),A)$ into a differential graded Lie algebra in a\n",
       "canonical way. Using this formalism we can restate\n",
       "Lemma~\\ref{lemma:div:cocycle} as follows.\n",
       "\n",
       "\\begin{Corollary}\\pushQED{\\qed}\\label{coro:div:MC}\n",
       "Set us suppose that $2\\neq0$ in~$\\kk$. The $1$-cochain\n",
       "$\\div_\\sigma:\\Der(A)\\to A$ in the differential graded Lie\n",
       "algebra~$\\CE^*(\\Der(A),A)$ is a solution to the Maurer--Cartan equation,\n",
       "that is, we have\n",
       "  \\begin{equation*}\n",
       "  d\\div_\\sigma + \\frac{1}{2}[\\div_\\sigma,\\div_\\sigma] = 0. \\qedhere\n",
       "  \\end{equation*}\n",
       "\\end{Corollary}\n",
       "\n",
       "In general, the map $\\div_\\sigma:\\Der(A)\\to A$ is \\emph{not} a $1$-cocycle\n",
       "in~$\\CE^*(\\Der(A),A)$. It is, though, when the algebra $A$ is symmetric and\n",
       "we have $\\sigma=\\id_A$. The following lemma describes what we have in that\n",
       "case.\n",
       "\n",
       "\\begin{Lemma}\\label{lemma:DIV}\n",
       "Let us suppose that the bilinear form~$\\gen{\\place,\\place}$ is symmetric,\n",
       "so that $\\sigma=\\id_A$.\n",
       "\\begin{thmlist}\n",
       "\n",
       "\\item For all derivations~$\\delta:A\\to A$ the element~$\\div_\\sigma(\\delta)$\n",
       "is central in~$A$.\n",
       "\n",
       "\\item The map $\\div_\\sigma:\\Der(A)\\to\\Z(A)$ that we therefore have in this\n",
       "situation vanishes on inner derivations, so it induces a linear map\n",
       "$\\div_\\sigma:\\HH^1(A)\\to\\Z(A)$. The latter is a $1$-cocycle in the\n",
       "complex~$\\CE^*(\\HH^1(A),\\Z(A))$ that gives rise to a cohomology class\n",
       "$\\DIV(A)$ in the Lie algebra cohomology~$\\H^1(\\HH^1(A),\\Z(A))$\n",
       "of~$\\HH^1(A)$ with values in~$\\Z(A)$.\n",
       "\n",
       "\\end{thmlist}\n",
       "\\end{Lemma}\n",
       "\n",
       "Here we are viewing the Lie algebras $\\Der(A)$ and~$\\HH^1(A)$ acting\n",
       "on~$\\Z(A)$ in the tautological way. In particular, the action of~$\\HH^1(A)$\n",
       "on~$\\HH^0(A)=\\Z(A)$ is given by the Gerstenhaber bracket.\n",
       "\n",
       "\\begin{proof}\n",
       "If $\\delta:A\\to A$ is a derivation of~$A$, then we know from\n",
       "equation~\\eqref{eq:div:comm} that\n",
       "  \\[\n",
       "  \\ad(\\div_\\sigma(\\delta))=\\delta^\\sigma-\\delta=0,\n",
       "  \\]\n",
       "so that $\\div_\\sigma(\\delta)$ is a central element of~$A$. This\n",
       "proves~\\thmitem{1} and shows that we can restrict the codomain\n",
       "of~$\\div_\\sigma:\\Der(A)\\to A$ to obtain a linear map $\\Der(A)\\to\\Z(A)$. We\n",
       "know from Lemma~\\ref{lemma:div:inner} that this map vanishes on inner\n",
       "derivations, so it induces another map $\\HH^1(A)\\to\\Z(A)$. Since central\n",
       "elements are, well, central, we know from the identity in\n",
       "Lemma~\\ref{lemma:div:cocycle} that this map is a $1$-cocycle\n",
       "in~$\\CE^*(\\HH^1(A),\\Z(A))$.\n",
       "\\end{proof}\n",
       "\n",
       "We will present below examples that show that the class $\\DIV(A)$\n",
       "in~$\\H^1(\\HH^1(A),\\Z(A))$ is in general not trivial.\n",
       "\n",
       "%%%%%%%%%%%%%%%%%%%%%%%%%%%%%%%%%%%%%%%%%%%%%%%%%%%%%%%%%%%%%%%%%%%%%%\n",
       "\\subsubsection{An example: the Grassmann algebra}\n",
       "\\label{subsubsect:div:grass}\n",
       "\n",
       "We go back to the setting of Subsubsection~\\ref{subsubsect:jac:grass}: we\n",
       "suppose that the characteristic of our ground field~$\\kk$ is not~$2$, let\n",
       "$V$ be a finite-dimensional vector space, write~$n$ for its the dimension,\n",
       "choose an arbitrary ordered basis $\\B=(x_1,\\dots,x_n)$ for~$V$, and\n",
       "consider the exterior algebra $A\\coloneqq\\Lambda(V)$ on~$V$, endowed with\n",
       "its usual $\\ZZ$- and $\\ZZ/2\\ZZ$-gradings.\n",
       "\n",
       "The Lie algebra of derivations of~$A$ was described by Dragomir {\\v{Z}}.\n",
       "{\\DJ}okovi{\\'c} in~\\cite{Djokovic} and later, in a more general context, by\n",
       "Vladimir V. Bavula in~\\cite{Bavula:der}. We prefer to refer to this second\n",
       "paper, for its results are stated in a way more convenient to us. There the\n",
       "following statements are obtained as part of \\cite{Bavula:der}*{Theorem 2.1}.\n",
       "\\begin{itemize}\n",
       "\n",
       "\\item Let us write $\\Der(A)^\\even$ and~$\\Der(A)^\\odd$ for the subspaces\n",
       "of~$\\Der(A)$ of those derivations that preserve the $\\ZZ/2\\ZZ$-grading and\n",
       "that flip it. We have \n",
       "  \\[\n",
       "  \\Der(A)=\\Der(A)^\\even\\oplus\\Der(A)^\\odd\n",
       "  \\]\n",
       "and that this decomposition turns~$\\Der(A)$ into a $\\ZZ/2\\ZZ$-graded Lie\n",
       "algebra (but not a Lie super-algebra!)\n",
       "\n",
       "\\item The ideal $\\Der(A)^\\odd$ coincides with the ideal $\\InnDer(A)$ of all\n",
       "inner derivations of~$A$, and therefore the Lie algebra of outer\n",
       "derivations of~$A$ or, equivalently, its first Hochschild cohomology Lie\n",
       "algebra, is\n",
       "  \\[\n",
       "  \\HH^1(A) \\coloneqq \\OutDer(A) = \\frac{\\Der(A)}{\\InnDer(A)} \\cong \\Der(A)^\\even.\n",
       "  \\]\n",
       "\n",
       "\\item If $\\partial_1$,~\\dots,~$\\partial_n:A\\to A$ are the left skew\n",
       "derivations that we defined in Subsubsection~\\ref{subsubsect:jac:grass} on\n",
       "page~\\pageref{def:lsder} and we write, as we did there, $A^\\odd$ for the\n",
       "odd part of~$A$, then\n",
       "  \\[\n",
       "  \\Der(A)^\\even = A^\\odd\\partial_1\\oplus\\cdots\\oplus A^\\odd\\partial_n.\n",
       "  \\]\n",
       "One should keep in mind the facts that $A^\\odd$ is not a subalgebra of~$A$\n",
       "and that the left skew derivations $\\partial_1$,~\\dots,~$\\partial_n$ are\n",
       "not derivations of~$A$, except in trivial cases.\n",
       "\n",
       "\\item The linear map\n",
       "  \\[\n",
       "  a\\in A^\\odd \\mapsto \\ad(a)\\in\\InnDer(A)=\\Der(A)^\\odd\n",
       "  \\]\n",
       "is surjective and its kernel is $A^\\odd\\cap\\Z(A)$, which is $0$ if $n$ is\n",
       "even and $A^n$ if $n$ is odd.\n",
       "\n",
       "\\end{itemize}\n",
       "\n",
       "\\bigskip\n",
       "\n",
       "With this information we can compute the divergence of all derivations of\n",
       "the algebra~$A$. Interestingly, that divergence is, for the most part,\n",
       "given by familiar formula from calculus.\n",
       "\n",
       "\\begin{Lemma}\n",
       "\\begin{thmlist}\n",
       "\n",
       "\\item If $a$ is an element of~$A^\\odd$, then\n",
       "  \\[\n",
       "  \\div_\\sigma(\\ad(a)) = \\begin{cases*}\n",
       "                        -2a     & if $n$ is even; \\\\\n",
       "                        0       & if $n$ is odd.\n",
       "                        \\end{cases*}\n",
       "  \\]\n",
       "\n",
       "\\item If $a_1$,~\\dots,~$a_n$ are elements of~$A^\\odd$, then\n",
       "  \\[\n",
       "  \\div_\\sigma(a_1\\partial_1+\\cdots+a_n\\partial_n)\n",
       "        = \\partial_1(a_1)+\\cdots+\\partial_n(a_n).\n",
       "  \\]\n",
       "\n",
       "\\end{thmlist}\n",
       "\\end{Lemma}\n",
       "\n",
       "\\begin{proof}\n",
       "We know that the Nakayama automorphism of~$A$ is such that\n",
       "$\\sigma(x)=(-1)^{n-1}x$ for all $x\\in V$, so that $\\sigma$ acts by\n",
       "multiplication by~$(-1)^{n-1}$ on all of~$A^\\odd$: the claim in~\\thmitem{1}\n",
       "follows from this and Lemma~\\ref{lemma:div:inner}.\n",
       "\n",
       "In order to prove the claim in~\\thmitem{2} we will start by showing that\n",
       "for all choices of~$i$ and~$j$ in~$\\inter{n}$ we have that\n",
       "  \\[ \\label{eq:div:dd}\n",
       "  \\div_\\sigma(x_i\\partial_j) = \\delta_{i,j}.\n",
       "  \\]\n",
       "According to Lemma~\\ref{lemma:div:ids} and the linearity of everything in\n",
       "sight to do that we need to fix two elements~$u$ and~$v$ in~$\\inter{n}$ and\n",
       "two strictly increasing sequences $r_1$,~\\dots,~$r_u$\n",
       "and~$s_1$,~\\dots,~$s_v$ of elements of~$\\inter{n}$, and show that\n",
       "  \\begin{multline} \\label{eq:div:xs}\n",
       "  \\gen{x_i\\wedge\\partial_j(x_{r_1}\\wedge\\cdots\\wedge x_{r_u}), \n",
       "       x_{s_1}\\wedge\\cdots\\wedge x_{s_v}}\n",
       "  + \\gen{x_{r_1}\\wedge\\cdots\\wedge x_{r_u}, \n",
       "       x_i\\wedge\\partial_j(x_{s_1}\\wedge\\cdots\\wedge x_{s_v})}\n",
       "  \\\\\n",
       "  = \\delta_{i,j}\n",
       "    \\cdot\\gen{x_{r_1}\\wedge\\cdots\\wedge x_{r_u},x_{s_1}\\wedge\\cdots\\wedge x_{s_v}}.\n",
       "  \\end{multline}\n",
       "If $u+v$ is not~$n$, then the three terms here are zero, so we suppose that\n",
       "it is. Let us consider the sequence~$(r_1,\\dots,r_u,s_1,\\dots,s_v)$.\n",
       "\\begin{itemize}\n",
       "\n",
       "\\item Let us suppose first that that sequence has repeated elements, so\n",
       "that there are then $k\\in\\inter{n}$, $p\\in\\inter{u}$ and~$q\\in\\inter{v}$\n",
       "such that $k=r_p=s_q$. In that case the right hand side\n",
       "of~\\eqref{eq:div:xs} is\n",
       "  \\[\n",
       "  \\gen{x_{r_1}\\wedge\\cdots\\wedge x_{r_u},x_{s_1}\\wedge\\cdots\\wedge x_{s_v}}\n",
       "        = \\int(x_{r_1}\\wedge\\cdots\\wedge x_{r_u}\\wedge x_{s_1}\\wedge\\cdots\\wedge x_{s_v})\n",
       "        = 0.\n",
       "  \\]\n",
       "If $k\\neq j$, then $\\partial_j(x_{r_1}\\wedge\\cdots\\wedge x_{r_u})$ and\n",
       "$\\partial_j(x_{s_1}\\wedge\\cdots\\wedge x_{s_v})$ are both scalar multiples\n",
       "of monomials that involve~$x_k$, and this implies that the two terms that\n",
       "appear on the left of the equality~\\eqref{eq:div:xs} vanish. If instead\n",
       "$k=j$, then the left hand side of that equality is\n",
       "  \\begin{multline}\n",
       "  (-1)^{p-1}\\int(x_i\\wedge x_{r_1}\\wedge\\cdots\\wedge x_{r_{p-1}}\\wedge\n",
       "  x_{r_{p+1}}\\wedge\\cdots\\wedge x_{r_u}\\wedge x_{s_1}\\wedge\\cdots\\wedge\n",
       "  x_{s_v}) \\\\\n",
       "  + (-1)^{q-1}\\int(x_{r_1}\\wedge\\cdots\\wedge x_{r_u}\\wedge x_i\n",
       "        \\wedge x_{s_1}\\wedge\\cdots\\wedge x_{s_{q-1}}\\wedge x_{s_{q+1}}\n",
       "        \\wedge \\cdots \\wedge x_{v})\n",
       "  \\end{multline}\n",
       "and it is easy to see --- by permuting the factors in the second summand\n",
       "and keeping track of the signs introduced by this --- that these two terms\n",
       "cancel each other.\n",
       "\n",
       "\\item Let us now suppose that that sequence has no repeated elements, so\n",
       "that it is in fact a permutation of~$\\inter{n}$, and let $\\epsilon$ be the\n",
       "sign of that permutation. The right hand side of the\n",
       "equality~\\eqref{eq:div:xs} is now\n",
       "  \\[\n",
       "  \\gen{x_{r_1}\\wedge\\cdots\\wedge x_{r_u},x_{s_1}\\wedge\\cdots\\wedge x_{s_v}}\n",
       "        = \\int(x_{r_1}\\wedge\\cdots\\wedge x_{r_u}\\wedge x_{s_1}\\wedge\\cdots\\wedge x_{s_v})\n",
       "        = \\delta_{i,j}\\cdot\\epsilon.\n",
       "  \\]\n",
       "As the sequence is a permutation, the integer~$j$ belongs to exactly one of\n",
       "the sets $\\{r_1,\\dots,r_u\\}$ and~$\\{s_1,\\dots,s_v\\}$. Let us suppose, for\n",
       "example, that it belongs to the first one, so that there is a $p$\n",
       "in~$\\inter{u}$ such that $j=r_p$. In that case\n",
       "$\\partial_j(x_{s_1}\\wedge\\cdots\\wedge x_{s_v})=0$ and the left hand side of\n",
       "the equality~\\eqref{eq:div:xs} is\n",
       "  \\begin{multline}\n",
       "  \\gen{x_i\\wedge\\partial_j(x_{r_1}\\wedge\\cdots\\wedge x_{r_u}), \n",
       "       x_{s_1}\\wedge\\cdots\\wedge x_{s_v}} \\\\\n",
       "  = (-1)^{p-1}\\int(\n",
       "        x_i\n",
       "        \\wedge x_{r_1}\n",
       "        \\wedge \\cdots\n",
       "        \\wedge x_{r_{p-1}}\n",
       "        \\wedge x_{r_{p+1}}\n",
       "        \\wedge \\cdots\n",
       "        \\wedge x_{r_u}\n",
       "        \\wedge x_{s_1}\n",
       "        \\wedge \\cdots\n",
       "        \\wedge x_{s_v}\n",
       "        ).\n",
       "  \\end{multline}\n",
       "If $i\\neq j$, then this is zero because the «integrand» is a monomial that\n",
       "does not involve~$x_j$, and if $i=j$ then rearranging the factors in that\n",
       "integrand we easily see that this is $\\epsilon$.\n",
       "\n",
       "\\end{itemize}\n",
       "The conclusion of all this is that the equality~\\eqref{eq:div:xs} holds in\n",
       "all cases, so that the identity~\\eqref{eq:div:dd} is true.\n",
       "\n",
       "\\bigskip\n",
       "\n",
       "Now we want to show that for all $a\\in A^\\odd$ and all $i\\in\\inter{n}$ we\n",
       "have that\n",
       "  \\[\n",
       "  \\div_\\sigma(a\\partial_i)=\\partial_i(a),\n",
       "  \\]\n",
       "and it is enough to do this when $a=x_{j_1}\\wedge\\cdots\\wedge x_{j_k}$ for\n",
       "some odd integer~$k$ and some choice of~$j_1$,~\\dots,~$j_k$ in~$\\inter{n}$\n",
       "such that $j_1<\\cdots<j_k$. Let us suppose then that that is the case. As\n",
       "$x_{j_1}\\wedge\\cdots \\wedge x_{j_{k-1}}$ is a central element of~$A$,\n",
       "Lemma~\\ref{lemma:div:connection} tells us that\n",
       "  \\[ \\label{eq:div:ddd}\n",
       "  \\div_\\sigma(a\\partial_i)\n",
       "        = x_{j_1}\\wedge\\cdots\\wedge x_{j_{k-1}}\\wedge\\div_\\sigma(x_{j_k}\\partial_i)\n",
       "          - x_{j_k}\\wedge\\partial_i(x_{j_1}\\wedge\\cdots\\wedge x_{j_{k-1}}).\n",
       "  \\]        \n",
       "We consider three different cases.\n",
       "\\begin{itemize}\n",
       "\n",
       "\\item Suppose first that $i\\not\\in\\{j_1,\\dots,j_k\\}$, so that\n",
       "$\\div_\\sigma(x_{j_k}\\partial_i)=0$ and\n",
       "$\\partial_i(x_{j_1}\\wedge\\cdots\\wedge x_{j_{k-1}})=0$, and thus\n",
       "$\\div_\\sigma(a\\partial_i)=0$. As also $\\partial_i(a)=0$, the equality we\n",
       "want holds in this case.\n",
       "\n",
       "\\item Suppose next that $j_k=i$. Now we have that\n",
       "$\\div_\\sigma(x_{j_k}\\partial_i)=1$ because of~\\eqref{eq:div:dd} and that\n",
       "$\\partial_i(x_{j_1}\\wedge\\cdots\\wedge x_{j_{k-1}})=0$, so\n",
       "from~\\eqref{eq:div:ddd} we know that, as we want,\n",
       "  \\[\n",
       "  \\div_\\sigma(a\\partial_i) = x_{j_1}\\wedge\\cdots\\wedge x_{j_{k-1}}\n",
       "        = \\partial_i(x_{j_1}\\wedge\\cdots\\wedge x_{j_{k}}) = \\partial_i(a).\n",
       "  \\]\n",
       "\n",
       "\\item Finally, suppose that $i\\in\\{j_1,\\dots,j_{k-1}\\}$, so that there is a\n",
       "unique $\\ell\\in\\inter{k-1}$ such that $i=j_l$. In this situation we have\n",
       "that $\\div_\\sigma(x_{j_k}\\partial_i)=0$, again because\n",
       "of~\\eqref{eq:div:dd}, and that\n",
       "  \\[\n",
       "  \\partial_i(x_{j_1}\\wedge\\cdots\\wedge x_{j_{k-1}})\n",
       "        = (-1)^{l-1}\n",
       "          \\cdot \n",
       "          x_{j_1}\n",
       "          \\wedge\\cdots\\wedge x_{j_{l-1}}\n",
       "          \\wedge x_{j_{l+1}}\\wedge\\cdots\\wedge x_{j_{k-1}}.\n",
       "  \\]\n",
       "This and~\\eqref{eq:div:ddd} imply that\n",
       "  \\begin{align}\n",
       "  \\div_\\sigma(a\\partial_i)\n",
       "       &= (-1)^{l} \\cdot x_{j_k}\\wedge\n",
       "          x_{j_1}\\wedge\\cdots\\wedge x_{j_{l-1}}\n",
       "          \\wedge x_{j_{l+1}}\\wedge\\cdots\\wedge x_{j_{k-1}} \\\\\n",
       "       &= (-1)^{l-1} \\cdot \n",
       "          x_{j_1}\\wedge\\cdots\\wedge x_{j_{l-1}}\n",
       "          \\wedge x_{j_{l+1}}\\wedge\\cdots\\wedge x_{j_{k-1}}\n",
       "          \\wedge x_{j_k} \\\\\n",
       "       &= \\partial_i(a).\n",
       "  \\end{align}\n",
       "\\end{itemize}\n",
       "This completes the proof of the lemma.\n",
       "\\end{proof}\n",
       "\n",
       "This calculation allows us to show that the class~$\\DIV(A)$\n",
       "in~$\\H^1(\\HH^1(A),\\Z(A))$ that we have from Lemma~\\ref{lemma:DIV} is not\n",
       "trivial --- remember that this class is defined when $A$ is symmetric, that\n",
       "is, when $n$ is odd. \n",
       "\n",
       "\\begin{Lemma}\n",
       "Let us suppose that the integer~$n$ is odd. The cohomology class $\\DIV(A)$\n",
       "in~$\\H^1(\\HH^1(A),\\Z(A))$ is not trivial.\n",
       "\\end{Lemma}\n",
       "\n",
       "\\begin{proof}\n",
       "As we recalled above from Bavula's \\cite{Bavula:der}*{Theorem 2.1}, we have\n",
       "that\n",
       "  \\[\n",
       "  \\HH^1(A)\n",
       "        = \\Der(A)/\\InnDer(A)\n",
       "        \\cong \\Der(A)^\\even\n",
       "        = \\bigoplus_{i=1}^nA^\\odd\\cdot\\partial_i.\n",
       "  \\]\n",
       "On the other hand our calculation tells us that the cocycle that gives rise\n",
       "to the class~$\\DIV(A)$ is\n",
       "  \\[\n",
       "  \\div_\\sigma:\\sum_{i=1}^na_i\\partial_i\\in\\Der(A)^\\even\n",
       "        \\mapsto \\sum_{i=1}^n\\partial_i(a_i)\\in\\Z(A).\n",
       "  \\]\n",
       "Were this a coboundary, we would have an element~$z$ in~$\\Z(A)$ such that\n",
       "$\\div_\\sigma(\\delta)=\\delta(z)$ for all $\\delta\\in\\Der(A)^\\even$ and, in\n",
       "particular, such that $1=\\div_\\sigma(x_1\\partial_1)=x_1\\partial_1(z)$. As\n",
       "this is impossible, we see that the claim of the lemma is true.\n",
       "\\end{proof}\n",
       "\n",
       "%%%%%%%%%%%%%%%%%%%%%%%%%%%%%%%%%%%%%%%%%%%%%%%%%%%%%%%%%%%%%%%%%%%%%%\n",
       "\\subsubsection{An example: trivial extensions}\n",
       "\\label{subsubsect:div:trivial}\n",
       "\n",
       "We go back to the situation of Subsubsection~\\ref{subsubsect:jac:trivial}.\n",
       "We let $B$ be a finite-dimensional algebra and write $A\\coloneqq B\\oplus \\D\n",
       "B$ for its trivial extension, which is a symmetric algebra with respect to\n",
       "the non-degenerate, associative and symmetric bilinear form\n",
       "$\\gen{\\place,\\place}:A\\times A\\to\\kk$ described there. We want to compute\n",
       "the divergence of the derivations of~$A$, and to do that we have to start\n",
       "by describing the derivations themselves.\n",
       "\\begin{itemize}\n",
       "\n",
       "\\item If $\\delta:B\\to B$ is a derivation of~$B$ and $\\delta^\\T:\\D B\\to\\D B$\n",
       "is the transpose map of~$\\delta$, then the map\n",
       "  \\[\n",
       "  \\tilde\\delta \\coloneqq \\begin{pmatrix}\n",
       "                         \\delta & 0 \\\\\n",
       "                         0 & -\\delta^\\T\n",
       "                         \\end{pmatrix}\n",
       "                         : B\\oplus \\D B\\to B\\oplus \\D B\n",
       "  \\]\n",
       "is a derivation of~$A$, and it is an inner derivation of~$A$ exactly when\n",
       "$\\delta$ is an inner derivation of~$B$. The map\n",
       "  \\[ \\label{eq:tilde:delta}\n",
       "  \\delta\\in\\Der(B) \\mapsto \\tilde\\delta\\in\\Der(A)\n",
       "  \\]\n",
       "is an injective morphism of Lie algebras.\n",
       "\n",
       "\\item Similarly, if $z$ is a central element in~$B$ and we write $m_z:b\\in\n",
       "B\\mapsto zb\\in B$ for the map given by multiplication by~$z$ and~$m_z^\\T:\\D\n",
       "B\\to\\D B$ for the transpose of~$m_z$, then the function\n",
       "  \\[\n",
       "  \\tilde z \\coloneqq \\begin{pmatrix}\n",
       "                         0 & 0 \\\\\n",
       "                         0 & m_z^\\T\n",
       "                         \\end{pmatrix}\n",
       "                         : B\\oplus \\D B\\to B\\oplus \\D B\n",
       "  \\]\n",
       "is a derivation of~$A$. The function\n",
       "  \\[ \\label{eq:tilde:z}\n",
       "  z\\in\\Z(B) \\mapsto \\tilde z\\in\\Der(A)\n",
       "  \\]\n",
       "is linear and injective, and its image is an abelian Lie subalgebra of its\n",
       "codomain.\n",
       "\n",
       "\\item If $\\gamma:B\\to\\D B$ is a derivation, then the map\n",
       "  \\[\n",
       "  \\tilde \\gamma \\coloneqq \\begin{pmatrix}\n",
       "                         0 & 0 \\\\\n",
       "                         \\gamma & 0\n",
       "                         \\end{pmatrix}\n",
       "                         : B\\oplus \\D B\\to B\\oplus \\D B\n",
       "  \\]\n",
       "is a derivation of~$A$. The function\n",
       "  \\[ \\label{eq:tilde:gamma}\n",
       "  \\gamma\\in\\Der(B,\\D B) \\mapsto \\tilde\\gamma\\in\\Der(A)\n",
       "  \\]\n",
       "is linear and injective, and its image is an abelian Lie subalgebra\n",
       "of~$\\Der(A)$.\n",
       "\n",
       "\\item Finally, let $\\Alt(B)$ be the vector space of all morphisms $\\beta:\\D\n",
       "B\\to B$ of $B$-bimodules such that\n",
       "  \\[\n",
       "  \\beta(\\lambda)\\cdot\\mu + \\lambda\\cdot\\beta(\\mu) = 0\n",
       "  \\]\n",
       "for all choices of~$\\lambda$ and~$\\mu$ in~$\\D B$. If $\\beta$ is an element\n",
       "of~$\\Alt(B)$, then the map\n",
       "  \\[\n",
       "  \\tilde \\beta \\coloneqq \\begin{pmatrix}\n",
       "                         0 & \\beta \\\\\n",
       "                         0 & 0\n",
       "                         \\end{pmatrix}\n",
       "                         : B\\oplus \\D B\\to B\\oplus \\D B\n",
       "  \\]\n",
       "is a derivation of~$A$. The function\n",
       "  \\[ \\label{eq:tilde:beta}\n",
       "  \\beta\\in\\Alt(B) \\mapsto \\tilde\\beta\\in\\Der(A)\n",
       "  \\]\n",
       "is linear and injective, and its image is an abelian Lie subalgebra\n",
       "of~$\\Der(A)$ which we identify with~$\\Alt(B)$.\n",
       "\n",
       "\\end{itemize}\n",
       "In the following lemma and the rest of what follows we will regard the\n",
       "maps~\\eqref{eq:tilde:delta}, \\eqref{eq:tilde:z}, \\eqref{eq:tilde:gamma}\n",
       "and~\\eqref{eq:tilde:beta} as inclusions.\n",
       "\n",
       "\\begin{Lemma}\n",
       "There is a direct sum decomposition\n",
       "  \\[ \\label{eq:derta}\n",
       "  \\Der(A) = \\Der(B) \\oplus \\Z(B) \\oplus \\Der(B,\\D B) \\oplus \\Alt(B).\n",
       "  \\]\n",
       "The ideal of inner derivations of~$A$ decomposes with respect to that\n",
       "decomposition in the form\n",
       "  \\[ \\label{eq:derta:inn}\n",
       "  \\InnDer(A) = \\InnDer(B) \\oplus 0 \\oplus \\InnDer(B,\\D B) \\oplus 0,\n",
       "  \\]\n",
       "so that the first Hochschild cohomology of~$A$ is\n",
       "  \\[ \\label{eq:derta:hh}\n",
       "  \\HH^1(A) \\cong \\HH^1(B) \\oplus \\Z(B) \\oplus \\H^1(B,\\D B)\\oplus\\Alt(B).\n",
       "  \\]\n",
       "There is, moreover, a canonical isomorphism $\\H^1(B,\\D B)\\cong\\HH_1(B)^*$.\n",
       "\\end{Lemma}\n",
       "\n",
       "The description of~$\\HH^1(A)$ in this lemma comes from the work of Claude\n",
       "Cibils, Eduardo Marcos, María Julia Redondo and Andrea Solotar\n",
       "in~\\cite{CMRS}, where it arises as the low degree information coming out of\n",
       "a spectral sequence converging to the whole Hochschild cohomology of~$A$.\n",
       "We will sketch here a direct proof.\n",
       "\n",
       "\\begin{proof}\n",
       "Let $d:A\\to A$ be a derivation of~$A$. There are linear maps $\\alpha:B\\to\n",
       "B$, $\\beta:\\D B\\to B$, $\\gamma:B\\to\\D B$ and~$\\delta:\\D B\\to\\D B$ such that\n",
       "$d=\\begin{psmallmatrix}\\alpha&\\beta\\\\\\gamma&\\delta\\end{psmallmatrix}$. If\n",
       "$x$ and~$y$ are elements of~$B$, we have that\n",
       "  \\[\n",
       "  \\alpha(xy)+\\gamma(xy)\n",
       "        = u(xy)\n",
       "        = u(x)y + xu(y)\n",
       "        = \\alpha(x)y + x\\alpha(y) + \\gamma(x)y + x\\gamma(y),\n",
       "  \\]\n",
       "so the maps~$\\alpha$ and~$\\gamma$ are a derivation of~$B$ and an element\n",
       "of~$\\Der(B,\\D B)$, respectively, and the difference \n",
       "  \\(\n",
       "  d'\\coloneqq d-\\tilde\\alpha-\\tilde\\gamma\n",
       "    = \\begin{psmallmatrix}0&\\beta\\\\0&\\delta+\\alpha^\\T\\end{psmallmatrix}\n",
       "    : A\\to A\n",
       "  \\)\n",
       "is a derivation. On the other hand, if $x$ and~$\\lambda$ are an element\n",
       "of~$B$ and of~$\\D B$, respectively, then we have that\n",
       "  \\[\n",
       "  \\beta(x\\lambda) + (\\delta+\\alpha^\\T)(x\\lambda)\n",
       "        = d'(x\\lambda)\n",
       "        = d'(x)\\lambda + xd'(\\lambda)\n",
       "        = x\\beta(\\lambda) + x(\\delta+\\alpha^\\T)(\\lambda).\n",
       "  \\]\n",
       "This and a similar calculation show that maps~$\\gamma$\n",
       "and~$\\delta+\\alpha^\\T$ are maps of $B$-bimodules. \n",
       "\n",
       "That $\\delta+\\alpha^T:\\D B\\to\\D B$ be a map of $B$-bimodules implies that\n",
       "so is its transpose $\\delta^\\T+\\alpha:B\\to B$, and therefore the element\n",
       "$z\\coloneqq\\delta^\\T(1)+\\alpha(1)$ is central in~$B$ and\n",
       "$\\delta^\\T+\\alpha=m_z$: we thus have that $\\delta+\\alpha^\\T=m_z^\\T$ and\n",
       "that\n",
       "  \\(\n",
       "  d''\\coloneqq d'-\\tilde z\n",
       "    = \\begin{psmallmatrix}0&\\beta\\\\0&0\\end{psmallmatrix}\n",
       "    : A\\to A\n",
       "  \\)\n",
       "is a derivation. In particular, if $\\lambda$ and~$\\mu$ are two elements\n",
       "of~$\\D B$, then\n",
       "  \\[\n",
       "  0 = d''(\\lambda\\mu)\n",
       "    = d''(\\lambda)\\mu+\\lambda d''(\\mu)\n",
       "    = \\beta(\\lambda)\\mu+\\lambda\\beta(\\mu),\n",
       "  \\]\n",
       "and with this, together with the $B^e$-linearity of~$\\beta$, we see that\n",
       "$\\beta$ belongs to~$\\Alt(B)$. Putting everything together, we have that\n",
       "$d=\\tilde\\alpha+\\tilde\\beta+\\tilde\\gamma+\\tilde z$ and can therefore\n",
       "conclude that $\\Der(A)=\\Der(B)+\\Z(B)+\\Der(B,\\D B)+\\Alt(B)$.\n",
       "\n",
       "This argument shows moreover that if $\\alpha\\in\\Der(B)$, $\\beta\\in\\Alt(B)$,\n",
       "$\\gamma\\in\\Der(B,\\D B)$ and~$z\\in\\Z(B)$ are such that\n",
       "$\\tilde\\alpha+\\tilde\\beta+\\tilde\\gamma+\\tilde z=0$, then necessarily\n",
       "$\\alpha=0$, $\\beta=0$ and~$\\gamma=0$, and thus also $z=0$. This proves that\n",
       "the decomposition~\\eqref{eq:derta} holds.\n",
       "\n",
       "If $x\\in B$ and~$\\lambda\\in\\D B$, then the inner derivation of~$A$\n",
       "corresponding to~$x+\\lambda$ is \n",
       "  \\[\n",
       "  \\ad_A(x+\\lambda) = \\widetilde{\\ad_B(x)} + \\widetilde{\\ad_{\\D B}(\\lambda)},\n",
       "  \\]\n",
       "and the equality in~\\eqref{eq:derta:inn} follows form this, and thus also\n",
       "the isomorphism in~\\eqref{eq:derta:hh}.\n",
       "\n",
       "Let $P$ be a projective resolution of~$B$ as a $B$-bimodule. The adjunction\n",
       "isomorphism $\\Hom_{B^e}(P,\\D B)\\cong\\Hom(B\\otimes_{B^e}P,\\kk)$ induces upon\n",
       "taking cohomology an isomorphism $\\HH^*(B,\\D B)\\cong\\Hom(\\HH_*(B),\\kk)$,\n",
       "and the isomorphism mentioned in the lemma is the one we get by restricting\n",
       "our attention here to degree~$1$. We can make this explicit: if $d:B\\to \\D\n",
       "B$ is a derivation, the map $a\\otimes b\\in B\\otimes B\\mapsto d(b)(a)\\in\n",
       "\\kk$ is zero on elements of~$B\\otimes B$ that are of the form $ab\\otimes\n",
       "c-a\\otimes bc+ca\\otimes b$ with $a$,~$b$,~$c\\in B$, that is, on Hochschild\n",
       "$1$-boundaries, so restricting it to Hochschild $1$-cycles and passing to\n",
       "the quotient it gives a linear map $\\hat d:\\HH_1(B)\\to\\kk$, and this map\n",
       "$\\hat d$ is zero if the derivation~$d$ is inner.\n",
       "\\end{proof}\n",
       "\n",
       "With this description of the derivations of~$A$ at hand it is an easy\n",
       "matter to compute their divergences.\n",
       "\n",
       "\\begin{Lemma}\\label{lemma:div:trivial}\n",
       "Let $\\delta:A\\to A$ be a derivation, and let $\\alpha\\in\\Der(B)$,\n",
       "$\\beta\\in\\Alt(B)$, $\\gamma\\in\\Der(B,\\D B)$ and~$z\\in\\Z(A)$ be such that\n",
       "  \\[\n",
       "  \\delta = \\begin{pmatrix}\n",
       "           \\alpha & \\beta \\\\\n",
       "           \\gamma & -\\alpha^\\T+m_z^\\T\n",
       "           \\end{pmatrix}\n",
       "           : B\\oplus\\D B\\to B\\oplus\\D B.\n",
       "  \\]\n",
       "The Nakayama divergence of~$\\delta$ is\n",
       "  \\[\n",
       "  \\div_\\sigma(\\delta) = z + \\tau,\n",
       "  \\]\n",
       "with $\\tau:B\\to\\kk$ the linear map such that $\\tau(x)=\\gamma(x)(1)$ for all\n",
       "$x\\in B$.\n",
       "\\end{Lemma}\n",
       "\n",
       "This is, naturally, very similar to what we found in\n",
       "Subsubsection~\\ref{subsubsect:jac:trivial} about the Nakayama Jacobians of\n",
       "the automorphism of~$A$. We leave it as an exercise for the reader to\n",
       "describe the set of elements of~$A$ that are divergences of derivations\n",
       "of~$A$, in the same spirit of what we did there.\n",
       "\n",
       "\\begin{proof}\n",
       "According to Lemma~\\ref{lemma:div:ids}, to prove the lemma it is enough\n",
       "that we check that $\\gen{\\delta(x),1}=\\gen{x,z+\\tau}$ for all $x\\in A$, and\n",
       "that is a simple calculation.\n",
       "\\end{proof}\n",
       "\n",
       "Since the trivial extension~$A$ is a symmetric algebra, from the Nakayama\n",
       "divergence map we obtain a cohomology class~$\\DIV(A)$\n",
       "in~$\\H^1(\\HH^1(A),\\Z(A))$ as in Lemma~\\ref{lemma:DIV}.\n",
       "\n",
       "\\begin{Lemma}\n",
       "The class~$\\DIV(A)$ in~$\\H^1(\\HH^1(A),\\Z(A))$ is not trivial.\n",
       "\\end{Lemma}\n",
       "\n",
       "\\begin{proof}\n",
       "Because of symmetry what we have is a linear map\n",
       "$\\div_\\sigma:\\Der(A)\\to\\Z(A)$ that is a Chevalley--Eilenberg $1$-cocycle on\n",
       "the Lie algebra~$\\Der(A)$ with values in~$\\Z(A)$. In view of the result of\n",
       "Lemma~\\ref{lemma:div:trivial}, the restriction of that $1$-cocycle to the\n",
       "Abelian subalgebra~$\\Z(B)$ of~$\\Der(A)$ is simply the inclusion\n",
       "$z\\in\\Z(B)\\mapsto z\\in\\Z(A)$, so the restriction of $\\DIV(A)$ to a class in\n",
       "the Lie algebra cohomology~$\\H^1(\\Z(B),\\Z(A))$ of~$\\Z(B)$ with values\n",
       "in~$\\Z(A)$ is a non-zero class. Indeed, as the (Lie!) action of~$\\Z(B)$\n",
       "on~$\\Z(A)$ is trivial, that first cohomology space identifies canonically\n",
       "with~$\\Hom(\\Z(B),\\Z(A))$, and the inclusion is a non-zero element of this.\n",
       "\\end{proof}\n",
       "\n",
       "%%%%%%%%%%%%%%%%%%%%%%%%%%%%%%%%%%%%%%%%%%%%%%%%%%%%%%%%%%%%%%%%%%%%%%\n",
       "\\subsubsection{An example: the quantum complete intersection of\n",
       "dimension \\texorpdfstring{$4$}{four}}\n",
       "\\label{subsubsect:div:quantum}\n",
       "\n",
       "Finally, let us compute the divergences of the derivations of the\n",
       "four-dimensional algebra of Subsubsection~\\ref{subsubsect:jac:quantum}. As\n",
       "before, then, we let $q$ be a non-zero scalar and $A$ the algebra freely\n",
       "generated by two letters~$x$ and~$y$ subject to the relations $x^2=0$,\n",
       "$y^2=0$, and $yx=qxy$.\n",
       "\n",
       "\\begin{Lemma}\n",
       "Let us suppose that the characteristic of the field~$\\kk$ is not~$2$ and\n",
       "that $q^2\\neq1$.\n",
       "\\begin{thmlist}\n",
       "\n",
       "\\item For each choice of four scalars $a$,~$b$,~$c$ and~$d$ in~$\\kk$ there\n",
       "is exactly one derivation $\\delta_{a,b,c,d}:A\\to A$ such that\n",
       "$\\delta_{a,b,c,d}(x)=ax+cxy$ and $\\delta_{a,b,c,d}(y)=by+dxy$, and it is an\n",
       "inner derivation exactly when $a=0$ and~$b=0$. \n",
       "\n",
       "\\item The Lie algebra~$\\HH^1(A)$ is abelian of dimension~$2$, and it is\n",
       "spanned by the cohomology classes of the derivations~$\\delta_{1,0,0,0}$\n",
       "and~$\\delta_{0,1,0,0}$.\n",
       "\n",
       "\\end{thmlist}\n",
       "\\end{Lemma}\n",
       "\n",
       "\\begin{proof}\n",
       "A direct calculation shows that for each choice of~$a$,~$b$,~$c$ and~$d$\n",
       "in~$\\kk$ there is a unique derivation~$\\delta_{a,b,c,d}$ that satisfies the\n",
       "two conditions that appear in the statement of the lemma. On the other\n",
       "hand, if $a$,~$b$,~$c$ and~$d$ are scalars, the inner\n",
       "derivation~$\\ad(a+bx+cy+dxy)$ maps~$x$ and~$y$ to~$(q-1)cxy$ and\n",
       "to~$(1-q)bxy$, respectively: since $q\\neq1$, this implies the\n",
       "characterization of inner derivations in the lemma.\n",
       "\n",
       "Let now $\\delta:A\\to A$ be a derivation of~$A$. There are scalars\n",
       "$a_0$,~$a$,~$a'$, $b_0$,~$b$,~$b'$, $c$ and~$d$ such that\n",
       "$\\delta(x)=a_0+ax+a'y+cxy$ and $\\delta(y)=b_0+b'x+by+dxy$. Since $x^2=0$\n",
       "and~$y^2=0$, we have that $\\delta(x)x+x\\delta(x)=0$\n",
       "and~$\\delta(y)y+y\\delta(y)=0$, and these equalities imply, since $2\\neq0$\n",
       "and $q\\neq-1$, that the scalars $a_0$,~$a'$, $b_0$ and~$b'$ are all zero so\n",
       "that $\\delta=\\delta_{a,b,c,d}$.\n",
       "\n",
       "With this we have proved all the claims in part~\\thmitem{1} of the lemma,\n",
       "and the ones in part~\\thmitem{2} are now all clear.\n",
       "\\end{proof}\n",
       "\n",
       "Knowing the derivations of~$A$ we can compute their divergences.\n",
       "\n",
       "\\begin{Lemma}\\label{lemma:div:quantum}\n",
       "Let us suppose that the characteristic of the field~$\\kk$ is not~$2$ and\n",
       "that $q^2\\neq1$, and let $a$,~$b$,~$c$ and~$d$ be four scalars in~$\\kk$.\n",
       "The divergence of the derivation~$\\delta_{a,b,c,d}:A\\to A$ described in the\n",
       "previous lemma is\n",
       "  \\[\n",
       "  \\div_\\sigma(\\delta_{a,b,c,d}) = (a+b)+q^{-1}dx+cy.\n",
       "  \\]\n",
       "\\end{Lemma}\n",
       "\n",
       "This is similar to the formula for the Jacobians of the automorphisms\n",
       "of~$A$ that we found in Lemma~\\ref{lemma:jac:quantum}, and shows, just as\n",
       "that lemma, that the divergence of a derivation of a non-symmetry algebra\n",
       "need not be central.\n",
       "\n",
       "\\begin{proof}\n",
       "To check this we need to show that\n",
       "$\\gen{\\delta(z),1}=\\gen{z,(a+b)+q^{-1}dx+cy}$ for each element~$z$\n",
       "of~$\\{1,x,y,xy\\}$, and that can be done by an easy direct calculation.\n",
       "\\end{proof}\n",
       "\n",
       "%%%%%%%%%%%%%%%%%%%%%%%%%%%%%%%%%%%%%%%%%%%%%%%%%%%%%%%%%%%%%%%%%%%%%%\n",
       "\\subsection{A Liouville formula for Frobenius algebras}\n",
       "\\label{subsect:div:liouville}\n",
       "\n",
       "Our formalism of Jacobians and divergences for Frobenius algebras has a lot\n",
       "of points in common with the classical setup of vector calculus. We want to\n",
       "give here as an example a proof of an analogue of the classical formula of\n",
       "Liouville for the Jacobian of the flow of a vector field on a compact\n",
       "Riemannian manifold.\n",
       "\n",
       "\\bigskip\n",
       "\n",
       "We go back to the general situation in which we have a Frobenius\n",
       "algebra~$A$ with respect to a non-degenerate and associative bilinear form\n",
       "$\\gen{\\place,\\place}:A\\times A\\to\\kk$, with corresponding Nakayama\n",
       "automorphism $\\sigma:A\\to A$. We start with the following observation.\n",
       "\n",
       "\\begin{Lemma}\\label{lemma:delta-powers}\n",
       "Let $\\delta:A\\to A$ be a derivation, and let $(\\phi_k)_{k\\geq0}$ be the\n",
       "sequence of elements of~$A$ that has $\\phi_0=1$ and \n",
       "  \\(\n",
       "  \\phi_{n+1} = \\phi_n\\cdot\\div_\\sigma(\\delta) - \\delta(\\phi_n)\n",
       "  \\)\n",
       "for each $n\\in\\NN_0$. For each $n\\in\\NN_0$ and each choice of~$a$ and~$b$\n",
       "in~$A$ we have that\n",
       "  \\[\n",
       "  \\sum_{k=0}^n\\binom{n}{k}\\cdot\\gen{\\delta^i(a),\\delta^{n-i}(b)}\n",
       "        = \\gen{a, b\\cdot\\phi_n}.\n",
       "  \\]\n",
       "If $k$ is a non-negative integer such that $\\delta^k=0$, then $\\phi_k=0$.\n",
       "\\end{Lemma}\n",
       "\n",
       "\\begin{proof}\n",
       "The first claim can be proved by an obvious induction, and from it we can\n",
       "see at once that $\\gen{\\delta^k(a),1}=\\gen{a,\\phi_k}$ for all $k\\in\\NN_0$\n",
       "and all $a\\in A$, so that $\\phi_k=0$ whenever $k$ is a non-negative integer\n",
       "such that $\\delta^k=0$.\n",
       "\\end{proof}\n",
       "\n",
       "Let us suppose that the characteristic of the ground field~$\\kk$ is zero.\n",
       "If $\\delta:A\\to A$ is a nilpotent derivation of~$A$, then we can consider\n",
       "for each $t\\in\\kk$ the map\n",
       "  \\[\n",
       "  \\exp(t\\delta) \\coloneqq \\sum_{k=0}^\\infty \\frac{t^k}{k!}\\delta^k : A\\to A,\n",
       "  \\]\n",
       "since the hypothesis on~$\\delta$ implies that this sum is finite. This is\n",
       "an automorphism of~$A$ and our Liouville formula computes its Jacobian in\n",
       "terms if the divergence of~$\\delta$ --- at least «infinitesimally».\n",
       "\n",
       "\\begin{Lemma}\\label{lemma:Liouville}\n",
       "Let $\\delta:A\\to A$ be a nilpotent derivation, let $(\\phi_k)_{k\\geq0}$ be\n",
       "the sequence defined in Lemma~\\ref{lemma:delta-powers}, and for each\n",
       "$t\\in\\kk$ let $\\exp(t\\delta):A\\to A$ be the automorphism of~$A$ described\n",
       "above. The formal series\n",
       "  \\[\n",
       "  \\Phi \\coloneqq \\sum_{k=0}^\\infty \\phi_k\\frac{t^k}{k!} \\in A[[t]]\n",
       "  \\]\n",
       "is the unique solution to the formal initial value problem\n",
       "  \\[ \\label{eq:li:0}\n",
       "  \\left\\{\n",
       "  \\begin{lgathered}\n",
       "  \\Phi'(t) + \\delta(\\Phi(t)) = \\Phi(t)\\cdot\\div_\\sigma(\\delta), \\\\\n",
       "  \\Phi(0) = 1.\n",
       "  \\end{lgathered}\n",
       "  \\right.\n",
       "  \\]\n",
       "We have that\n",
       "  \\[ \\label{eq:li:1}\n",
       "  \\jac_\\sigma(\\exp(t\\delta)) = \\sigma^{-1}(\\Phi(t))\n",
       "  \\]\n",
       "and, in particular, that\n",
       "  \\[ \\label{eq:li:2}\n",
       "  \\frac{\\d}{\\d t}\\biggm\\mid_{t=0}\\jac_\\sigma(\\exp(t\\delta))\n",
       "        = \\sigma^{-1}(\\div_\\sigma(\\delta)).\n",
       "  \\]\n",
       "\\end{Lemma}\n",
       "\n",
       "Since the derivation~$\\delta$ is supposed to be nilpotent, we know that\n",
       "$\\phi_k=0$ when $k\\geq\\dim A$, and thus the formal series~$\\Phi$ is really\n",
       "a polynomial. What we mean by the equality~\\eqref{eq:li:1} is that for each\n",
       "$t\\in\\kk$ the Jacobian $\\jac_\\sigma(\\exp(t\\delta))$ is the value of that\n",
       "polynomial at~$t$, and by the equality~\\eqref{eq:li:2} that the coefficient\n",
       "of~$t$ in that polynomial is precisely~$\\sigma^{-1}(\\div_\\sigma(\\delta))$.\n",
       "\n",
       "The left hand side of the differential equation in~\\eqref{eq:li:0} can be\n",
       "viewed as the so-called \\emph{material derivative} of~$\\Phi$ in the\n",
       "direction of the flow generated by~$\\delta$, in the sense of continuum\n",
       "mechanics.\n",
       "\n",
       "\\begin{proof}\n",
       "We have that $\\gen{\\delta^k(a),1} = \\gen{a,\\phi_k}$ for all $k\\in\\NN_0$ and\n",
       "all $a\\in A$, so for all $t\\in\\kk$ we have that\n",
       "  \\[\n",
       "  \\gen{\\exp(t\\delta)(a),1}\n",
       "        = \\sum_{k=0}^\\infty\\frac{t^k}{k!}\\gen{\\delta^k(a),1}\n",
       "        = \\sum_{k=0}^\\infty\\frac{t^k}{k!}\\gen{a,\\phi_k}\n",
       "        = \\gen{a, \\Phi(t)}\n",
       "        = \\gen{\\sigma^{-1}(\\Phi(t)),a}\n",
       "  \\]\n",
       "This means that the equality~\\eqref{eq:li:1} is true, and now the\n",
       "equality~\\eqref{eq:li:2} follows from that, since the definition of the\n",
       "sequence~$(\\phi_k)_{k\\geq0}$ implies that $\\phi_1=\\div_\\sigma(\\delta)$.\n",
       "\\end{proof}\n",
       "\n",
       "The claims of the lemma are true also in the situation in which the ground\n",
       "field~$\\kk$ has characteristic zero and is complete with respect to some\n",
       "absolute value. In that case the algebra~$A$, being finite dimensional, can\n",
       "be endowed with a norm with respect to which it is complete and we can make\n",
       "sense of the exponential~$\\exp(t\\delta)$ for all derivations~$\\delta$\n",
       "of~$A$, not only the nilpotent ones, provided we restrict $t$ to lie in a\n",
       "sufficiently small open neighborhood of~$0$ in~$\\kk$. The initial value\n",
       "problem~\\eqref{eq:li:0} then has a unique solution and the\n",
       "equalities~\\eqref{eq:li:1} and~\\eqref{eq:li:2} hold for sufficiently small\n",
       "values of~$t$.\n",
       "\n",
       "It follows from this, for example, that if we are working over~$\\CC$, $A$\n",
       "is symmetric and $\\HH^1(A)=0$, then the Jacobian of any automorphism of~$A$\n",
       "belonging to the connected component of the identity in~$\\Aut(A)$ is~$1$.\n",
       "Indeed, in that case Lemma~\\ref{lemma:div:inner} tells us that all\n",
       "derivations have zero divergence, so that the series~$\\Phi$ in the lemma is\n",
       "constant, and the claim follows at once from~\\eqref{eq:li:1} and the fact\n",
       "that $\\jac_\\sigma$ is a $1$-cocycle and that exponentials of derivations\n",
       "generate the connected component of the identity in this situation.\n",
       "\n",
       "%%%%%%%%%%%%%%%%%%%%%%%%%%%%%%%%%%%%%%%%%%%%%%%%%%%%%%%%%%%%%%%%%%%%%%\n",
       "\\bibliography{references}\n",
       "\n",
       "\\end{document}\n",
       "$"
      ],
      "text/plain": [
       "<IPython.core.display.Math object>"
      ]
     },
     "metadata": {},
     "output_type": "display_data"
    },
    {
     "name": "stdout",
     "output_type": "stream",
     "text": [
      "-----\n",
      "Constant\n"
     ]
    },
    {
     "data": {
      "text/latex": [
       "$\\displaystyle \\infty$"
      ],
      "text/plain": [
       "<IPython.core.display.Math object>"
      ]
     },
     "metadata": {},
     "output_type": "display_data"
    },
    {
     "name": "stdout",
     "output_type": "stream",
     "text": [
      "-----\n",
      "Constant\n"
     ]
    },
    {
     "data": {
      "text/latex": [
       "$\\displaystyle \\infty$"
      ],
      "text/plain": [
       "<IPython.core.display.Math object>"
      ]
     },
     "metadata": {},
     "output_type": "display_data"
    },
    {
     "name": "stdout",
     "output_type": "stream",
     "text": [
      "-----\n",
      "Constant\n"
     ]
    },
    {
     "data": {
      "text/latex": [
       "$\\displaystyle \\infty$"
      ],
      "text/plain": [
       "<IPython.core.display.Math object>"
      ]
     },
     "metadata": {},
     "output_type": "display_data"
    },
    {
     "name": "stdout",
     "output_type": "stream",
     "text": [
      "-----\n",
      "Constant\n"
     ]
    },
    {
     "data": {
      "text/latex": [
       "$\\displaystyle \\infty$"
      ],
      "text/plain": [
       "<IPython.core.display.Math object>"
      ]
     },
     "metadata": {},
     "output_type": "display_data"
    },
    {
     "name": "stdout",
     "output_type": "stream",
     "text": [
      "-----\n",
      "Constant\n"
     ]
    },
    {
     "data": {
      "text/latex": [
       "$\\displaystyle \\infty$"
      ],
      "text/plain": [
       "<IPython.core.display.Math object>"
      ]
     },
     "metadata": {},
     "output_type": "display_data"
    },
    {
     "name": "stdout",
     "output_type": "stream",
     "text": [
      "-----\n",
      "Function\n"
     ]
    },
    {
     "data": {
      "text/latex": [
       "$\\displaystyle RO(C_2\\times \\Sigma_2)$"
      ],
      "text/plain": [
       "<IPython.core.display.Math object>"
      ]
     },
     "metadata": {},
     "output_type": "display_data"
    },
    {
     "name": "stdout",
     "output_type": "stream",
     "text": [
      "-----\n",
      "Function\n"
     ]
    },
    {
     "data": {
      "text/latex": [
       "$\\displaystyle RO(C_2\\times \\Sigma_2)$"
      ],
      "text/plain": [
       "<IPython.core.display.Math object>"
      ]
     },
     "metadata": {},
     "output_type": "display_data"
    },
    {
     "name": "stdout",
     "output_type": "stream",
     "text": [
      "-----\n",
      "Subscript\n"
     ]
    },
    {
     "data": {
      "text/latex": [
       "$\\displaystyle E_{\\Sigma_2}C_2$"
      ],
      "text/plain": [
       "<IPython.core.display.Math object>"
      ]
     },
     "metadata": {},
     "output_type": "display_data"
    },
    {
     "name": "stdout",
     "output_type": "stream",
     "text": [
      "-----\n",
      "Variable\n"
     ]
    },
    {
     "data": {
      "text/latex": [
       "$\\displaystyle R$"
      ],
      "text/plain": [
       "<IPython.core.display.Math object>"
      ]
     },
     "metadata": {},
     "output_type": "display_data"
    },
    {
     "name": "stdout",
     "output_type": "stream",
     "text": [
      "-----\n",
      "function\n"
     ]
    },
    {
     "data": {
      "text/latex": [
       "$\\displaystyle K_0(R)$"
      ],
      "text/plain": [
       "<IPython.core.display.Math object>"
      ]
     },
     "metadata": {},
     "output_type": "display_data"
    },
    {
     "name": "stdout",
     "output_type": "stream",
     "text": [
      "-----\n",
      "function\n"
     ]
    },
    {
     "data": {
      "text/latex": [
       "$\\displaystyle RO(G)$"
      ],
      "text/plain": [
       "<IPython.core.display.Math object>"
      ]
     },
     "metadata": {},
     "output_type": "display_data"
    },
    {
     "name": "stdout",
     "output_type": "stream",
     "text": [
      "-----\n",
      "Constant\n"
     ]
    },
    {
     "data": {
      "text/latex": [
       "$\\displaystyle \\infty$"
      ],
      "text/plain": [
       "<IPython.core.display.Math object>"
      ]
     },
     "metadata": {},
     "output_type": "display_data"
    },
    {
     "name": "stdout",
     "output_type": "stream",
     "text": [
      "-----\n",
      "function\n"
     ]
    },
    {
     "data": {
      "text/latex": [
       "$\\displaystyle RO(G)$"
      ],
      "text/plain": [
       "<IPython.core.display.Math object>"
      ]
     },
     "metadata": {},
     "output_type": "display_data"
    },
    {
     "name": "stdout",
     "output_type": "stream",
     "text": [
      "-----\n",
      "Constant\n"
     ]
    },
    {
     "data": {
      "text/latex": [
       "$\\displaystyle \\infty$"
      ],
      "text/plain": [
       "<IPython.core.display.Math object>"
      ]
     },
     "metadata": {},
     "output_type": "display_data"
    },
    {
     "name": "stdout",
     "output_type": "stream",
     "text": [
      "-----\n",
      "Variable\n"
     ]
    },
    {
     "data": {
      "text/latex": [
       "$\\displaystyle G$"
      ],
      "text/plain": [
       "<IPython.core.display.Math object>"
      ]
     },
     "metadata": {},
     "output_type": "display_data"
    },
    {
     "name": "stdout",
     "output_type": "stream",
     "text": [
      "-----\n",
      "Constant\n"
     ]
    },
    {
     "data": {
      "text/latex": [
       "$\\displaystyle \\infty$"
      ],
      "text/plain": [
       "<IPython.core.display.Math object>"
      ]
     },
     "metadata": {},
     "output_type": "display_data"
    },
    {
     "name": "stdout",
     "output_type": "stream",
     "text": [
      "-----\n",
      "Constant\n"
     ]
    },
    {
     "data": {
      "text/latex": [
       "$\\displaystyle \\infty$"
      ],
      "text/plain": [
       "<IPython.core.display.Math object>"
      ]
     },
     "metadata": {},
     "output_type": "display_data"
    },
    {
     "name": "stdout",
     "output_type": "stream",
     "text": [
      "-----\n",
      "Constant\n"
     ]
    },
    {
     "data": {
      "text/latex": [
       "$\\displaystyle \\infty$"
      ],
      "text/plain": [
       "<IPython.core.display.Math object>"
      ]
     },
     "metadata": {},
     "output_type": "display_data"
    },
    {
     "name": "stdout",
     "output_type": "stream",
     "text": [
      "-----\n",
      "quotient\n"
     ]
    },
    {
     "data": {
      "text/latex": [
       "$\\displaystyle G=\\mathbb{Z}/2$"
      ],
      "text/plain": [
       "<IPython.core.display.Math object>"
      ]
     },
     "metadata": {},
     "output_type": "display_data"
    },
    {
     "name": "stdout",
     "output_type": "stream",
     "text": [
      "-----\n",
      "function\n"
     ]
    },
    {
     "data": {
      "text/latex": [
       "$\\displaystyle RO(C_2)$"
      ],
      "text/plain": [
       "<IPython.core.display.Math object>"
      ]
     },
     "metadata": {},
     "output_type": "display_data"
    },
    {
     "name": "stdout",
     "output_type": "stream",
     "text": [
      "-----\n",
      "Variable\n"
     ]
    },
    {
     "data": {
      "text/latex": [
       "$\\displaystyle C_2$"
      ],
      "text/plain": [
       "<IPython.core.display.Math object>"
      ]
     },
     "metadata": {},
     "output_type": "display_data"
    },
    {
     "name": "stdout",
     "output_type": "stream",
     "text": [
      "-----\n",
      "Constant\n"
     ]
    },
    {
     "data": {
      "text/latex": [
       "$\\displaystyle \\infty$"
      ],
      "text/plain": [
       "<IPython.core.display.Math object>"
      ]
     },
     "metadata": {},
     "output_type": "display_data"
    },
    {
     "name": "stdout",
     "output_type": "stream",
     "text": [
      "-----\n",
      "function\n"
     ]
    },
    {
     "data": {
      "text/latex": [
       "$\\displaystyle \\catadd$"
      ],
      "text/plain": [
       "<IPython.core.display.Math object>"
      ]
     },
     "metadata": {},
     "output_type": "display_data"
    },
    {
     "name": "stdout",
     "output_type": "stream",
     "text": [
      "-----\n",
      "Constant\n"
     ]
    },
    {
     "data": {
      "text/latex": [
       "$\\displaystyle \\infty$"
      ],
      "text/plain": [
       "<IPython.core.display.Math object>"
      ]
     },
     "metadata": {},
     "output_type": "display_data"
    },
    {
     "name": "stdout",
     "output_type": "stream",
     "text": [
      "-----\n",
      "unknown\n"
     ]
    },
    {
     "data": {
      "text/latex": [
       "$\\displaystyle \\catst$"
      ],
      "text/plain": [
       "<IPython.core.display.Math object>"
      ]
     },
     "metadata": {},
     "output_type": "display_data"
    },
    {
     "name": "stdout",
     "output_type": "stream",
     "text": [
      "-----\n",
      "Constant\n"
     ]
    },
    {
     "data": {
      "text/latex": [
       "$\\displaystyle \\infty$"
      ],
      "text/plain": [
       "<IPython.core.display.Math object>"
      ]
     },
     "metadata": {},
     "output_type": "display_data"
    },
    {
     "name": "stdout",
     "output_type": "stream",
     "text": [
      "-----\n",
      "Subscript\n"
     ]
    },
    {
     "data": {
      "text/latex": [
       "$\\displaystyle C_2$"
      ],
      "text/plain": [
       "<IPython.core.display.Math object>"
      ]
     },
     "metadata": {},
     "output_type": "display_data"
    },
    {
     "name": "stdout",
     "output_type": "stream",
     "text": [
      "-----\n",
      "variable\n"
     ]
    },
    {
     "data": {
      "text/latex": [
       "$\\displaystyle \\exact$"
      ],
      "text/plain": [
       "<IPython.core.display.Math object>"
      ]
     },
     "metadata": {},
     "output_type": "display_data"
    },
    {
     "name": "stdout",
     "output_type": "stream",
     "text": [
      "-----\n",
      "Function\n"
     ]
    },
    {
     "data": {
      "text/latex": [
       "$\\displaystyle RO(C_2)$"
      ],
      "text/plain": [
       "<IPython.core.display.Math object>"
      ]
     },
     "metadata": {},
     "output_type": "display_data"
    },
    {
     "name": "stdout",
     "output_type": "stream",
     "text": [
      "-----\n",
      "function\n"
     ]
    },
    {
     "data": {
      "text/latex": [
       "$\\displaystyle \\catadd$"
      ],
      "text/plain": [
       "<IPython.core.display.Math object>"
      ]
     },
     "metadata": {},
     "output_type": "display_data"
    },
    {
     "name": "stdout",
     "output_type": "stream",
     "text": [
      "-----\n",
      "Variable\n"
     ]
    },
    {
     "data": {
      "text/latex": [
       "$\\displaystyle \\exact$"
      ],
      "text/plain": [
       "<IPython.core.display.Math object>"
      ]
     },
     "metadata": {},
     "output_type": "display_data"
    },
    {
     "name": "stdout",
     "output_type": "stream",
     "text": [
      "-----\n",
      "Variable\n"
     ]
    },
    {
     "data": {
      "text/latex": [
       "$\\displaystyle DK$"
      ],
      "text/plain": [
       "<IPython.core.display.Math object>"
      ]
     },
     "metadata": {},
     "output_type": "display_data"
    },
    {
     "name": "stdout",
     "output_type": "stream",
     "text": [
      "-----\n",
      "set\n"
     ]
    },
    {
     "data": {
      "text/latex": [
       "$\\displaystyle K\\subset\\RR^n$"
      ],
      "text/plain": [
       "<IPython.core.display.Math object>"
      ]
     },
     "metadata": {},
     "output_type": "display_data"
    },
    {
     "name": "stdout",
     "output_type": "stream",
     "text": [
      "-----\n",
      "Variable\n"
     ]
    },
    {
     "data": {
      "text/latex": [
       "$\\displaystyle K$"
      ],
      "text/plain": [
       "<IPython.core.display.Math object>"
      ]
     },
     "metadata": {},
     "output_type": "display_data"
    },
    {
     "name": "stdout",
     "output_type": "stream",
     "text": [
      "-----\n",
      "Unary\n"
     ]
    },
    {
     "data": {
      "text/latex": [
       "$\\displaystyle -K$"
      ],
      "text/plain": [
       "<IPython.core.display.Math object>"
      ]
     },
     "metadata": {},
     "output_type": "display_data"
    },
    {
     "name": "stdout",
     "output_type": "stream",
     "text": [
      "-----\n",
      "Variable\n"
     ]
    },
    {
     "data": {
      "text/latex": [
       "$\\displaystyle K$"
      ],
      "text/plain": [
       "<IPython.core.display.Math object>"
      ]
     },
     "metadata": {},
     "output_type": "display_data"
    },
    {
     "name": "stdout",
     "output_type": "stream",
     "text": [
      "-----\n",
      "variable\n"
     ]
    },
    {
     "data": {
      "text/latex": [
       "$\\displaystyle K$"
      ],
      "text/plain": [
       "<IPython.core.display.Math object>"
      ]
     },
     "metadata": {},
     "output_type": "display_data"
    },
    {
     "name": "stdout",
     "output_type": "stream",
     "text": [
      "-----\n",
      "Variable\n"
     ]
    },
    {
     "data": {
      "text/latex": [
       "$\\displaystyle \\vol_n$"
      ],
      "text/plain": [
       "<IPython.core.display.Math object>"
      ]
     },
     "metadata": {},
     "output_type": "display_data"
    },
    {
     "name": "stdout",
     "output_type": "stream",
     "text": [
      "-----\n",
      "variable\n"
     ]
    },
    {
     "data": {
      "text/latex": [
       "$\\displaystyle n$"
      ],
      "text/plain": [
       "<IPython.core.display.Math object>"
      ]
     },
     "metadata": {},
     "output_type": "display_data"
    },
    {
     "name": "stdout",
     "output_type": "stream",
     "text": [
      "-----\n",
      "variable\n"
     ]
    },
    {
     "data": {
      "text/latex": [
       "$\\displaystyle V$"
      ],
      "text/plain": [
       "<IPython.core.display.Math object>"
      ]
     },
     "metadata": {},
     "output_type": "display_data"
    },
    {
     "name": "stdout",
     "output_type": "stream",
     "text": [
      "-----\n",
      "Equation\n"
     ]
    },
    {
     "data": {
      "text/latex": [
       "$\\displaystyle V(K,\\dots,K)=\\vol_n(K)$"
      ],
      "text/plain": [
       "<IPython.core.display.Math object>"
      ]
     },
     "metadata": {},
     "output_type": "display_data"
    },
    {
     "name": "stdout",
     "output_type": "stream",
     "text": [
      "-----\n",
      "variable\n"
     ]
    },
    {
     "data": {
      "text/latex": [
       "$\\displaystyle p$"
      ],
      "text/plain": [
       "<IPython.core.display.Math object>"
      ]
     },
     "metadata": {},
     "output_type": "display_data"
    },
    {
     "name": "stdout",
     "output_type": "stream",
     "text": [
      "-----\n",
      "Equation\n"
     ]
    },
    {
     "data": {
      "text/latex": [
       "$\\displaystyle {2n\\choose n}=\\sum_{k=0}^n{n\\choose k}^2$"
      ],
      "text/plain": [
       "<IPython.core.display.Math object>"
      ]
     },
     "metadata": {},
     "output_type": "display_data"
    },
    {
     "name": "stdout",
     "output_type": "stream",
     "text": [
      "-----\n",
      "variable\n"
     ]
    },
    {
     "data": {
      "text/latex": [
       "$\\displaystyle p$"
      ],
      "text/plain": [
       "<IPython.core.display.Math object>"
      ]
     },
     "metadata": {},
     "output_type": "display_data"
    },
    {
     "name": "stdout",
     "output_type": "stream",
     "text": [
      "-----\n",
      "linear\n"
     ]
    },
    {
     "data": {
      "text/latex": [
       "$\\displaystyle n+1$"
      ],
      "text/plain": [
       "<IPython.core.display.Math object>"
      ]
     },
     "metadata": {},
     "output_type": "display_data"
    },
    {
     "name": "stdout",
     "output_type": "stream",
     "text": [
      "-----\n",
      "variable\n"
     ]
    },
    {
     "data": {
      "text/latex": [
       "$\\displaystyle p$"
      ],
      "text/plain": [
       "<IPython.core.display.Math object>"
      ]
     },
     "metadata": {},
     "output_type": "display_data"
    },
    {
     "name": "stdout",
     "output_type": "stream",
     "text": [
      "-----\n",
      "variable\n"
     ]
    },
    {
     "data": {
      "text/latex": [
       "$\\displaystyle k$"
      ],
      "text/plain": [
       "<IPython.core.display.Math object>"
      ]
     },
     "metadata": {},
     "output_type": "display_data"
    },
    {
     "name": "stdout",
     "output_type": "stream",
     "text": [
      "-----\n",
      "brackets\n"
     ]
    },
    {
     "data": {
      "text/latex": [
       "$\\displaystyle [k]$"
      ],
      "text/plain": [
       "<IPython.core.display.Math object>"
      ]
     },
     "metadata": {},
     "output_type": "display_data"
    },
    {
     "name": "stdout",
     "output_type": "stream",
     "text": [
      "-----\n",
      "set\n"
     ]
    },
    {
     "data": {
      "text/latex": [
       "$\\displaystyle K\\subset\\RR^n$"
      ],
      "text/plain": [
       "<IPython.core.display.Math object>"
      ]
     },
     "metadata": {},
     "output_type": "display_data"
    },
    {
     "name": "stdout",
     "output_type": "stream",
     "text": [
      "-----\n",
      "inequality\n"
     ]
    },
    {
     "data": {
      "text/latex": [
       "$\\displaystyle 0\\leq k\\leq n$"
      ],
      "text/plain": [
       "<IPython.core.display.Math object>"
      ]
     },
     "metadata": {},
     "output_type": "display_data"
    },
    {
     "name": "stdout",
     "output_type": "stream",
     "text": [
      "-----\n",
      "variable\n"
     ]
    },
    {
     "data": {
      "text/latex": [
       "$\\displaystyle p$"
      ],
      "text/plain": [
       "<IPython.core.display.Math object>"
      ]
     },
     "metadata": {},
     "output_type": "display_data"
    },
    {
     "name": "stdout",
     "output_type": "stream",
     "text": [
      "-----\n",
      "set\n"
     ]
    },
    {
     "data": {
      "text/latex": [
       "$\\displaystyle \\{$"
      ],
      "text/plain": [
       "<IPython.core.display.Math object>"
      ]
     },
     "metadata": {},
     "output_type": "display_data"
    },
    {
     "name": "stdout",
     "output_type": "stream",
     "text": [
      "-----\n",
      "Invalid\n"
     ]
    },
    {
     "data": {
      "text/latex": [
       "$\\displaystyle \\}$"
      ],
      "text/plain": [
       "<IPython.core.display.Math object>"
      ]
     },
     "metadata": {},
     "output_type": "display_data"
    },
    {
     "name": "stdout",
     "output_type": "stream",
     "text": [
      "-----\n",
      "inequality\n"
     ]
    },
    {
     "data": {
      "text/latex": [
       "$\\displaystyle 0<k<n$"
      ],
      "text/plain": [
       "<IPython.core.display.Math object>"
      ]
     },
     "metadata": {},
     "output_type": "display_data"
    },
    {
     "name": "stdout",
     "output_type": "stream",
     "text": [
      "-----\n",
      "inequality\n"
     ]
    },
    {
     "data": {
      "text/latex": [
       "$\\displaystyle \\interior K\\neq\\emptyset$"
      ],
      "text/plain": [
       "<IPython.core.display.Math object>"
      ]
     },
     "metadata": {},
     "output_type": "display_data"
    },
    {
     "name": "stdout",
     "output_type": "stream",
     "text": [
      "-----\n",
      "Variable\n"
     ]
    },
    {
     "data": {
      "text/latex": [
       "$\\displaystyle K$"
      ],
      "text/plain": [
       "<IPython.core.display.Math object>"
      ]
     },
     "metadata": {},
     "output_type": "display_data"
    },
    {
     "name": "stdout",
     "output_type": "stream",
     "text": [
      "-----\n",
      "set\n"
     ]
    },
    {
     "data": {
      "text/latex": [
       "$\\displaystyle k\\in\\{0,n\\}$"
      ],
      "text/plain": [
       "<IPython.core.display.Math object>"
      ]
     },
     "metadata": {},
     "output_type": "display_data"
    },
    {
     "name": "stdout",
     "output_type": "stream",
     "text": [
      "-----\n",
      "set\n"
     ]
    },
    {
     "data": {
      "text/latex": [
       "$\\displaystyle k\\in\\{1,n-1\\}$"
      ],
      "text/plain": [
       "<IPython.core.display.Math object>"
      ]
     },
     "metadata": {},
     "output_type": "display_data"
    },
    {
     "name": "stdout",
     "output_type": "stream",
     "text": [
      "-----\n",
      "variable\n"
     ]
    },
    {
     "data": {
      "text/latex": [
       "$\\displaystyle a$"
      ],
      "text/plain": [
       "<IPython.core.display.Math object>"
      ]
     },
     "metadata": {},
     "output_type": "display_data"
    },
    {
     "name": "stdout",
     "output_type": "stream",
     "text": [
      "-----\n",
      "variable\n"
     ]
    },
    {
     "data": {
      "text/latex": [
       "$\\displaystyle a$"
      ],
      "text/plain": [
       "<IPython.core.display.Math object>"
      ]
     },
     "metadata": {},
     "output_type": "display_data"
    },
    {
     "name": "stdout",
     "output_type": "stream",
     "text": [
      "-----\n",
      "variable\n"
     ]
    },
    {
     "data": {
      "text/latex": [
       "$\\displaystyle k$"
      ],
      "text/plain": [
       "<IPython.core.display.Math object>"
      ]
     },
     "metadata": {},
     "output_type": "display_data"
    },
    {
     "name": "stdout",
     "output_type": "stream",
     "text": [
      "-----\n",
      "variable\n"
     ]
    },
    {
     "data": {
      "text/latex": [
       "$\\displaystyle p$"
      ],
      "text/plain": [
       "<IPython.core.display.Math object>"
      ]
     },
     "metadata": {},
     "output_type": "display_data"
    },
    {
     "name": "stdout",
     "output_type": "stream",
     "text": [
      "-----\n",
      "Function\n"
     ]
    },
    {
     "data": {
      "text/latex": [
       "$\\displaystyle \\sqrt n$"
      ],
      "text/plain": [
       "<IPython.core.display.Math object>"
      ]
     },
     "metadata": {},
     "output_type": "display_data"
    },
    {
     "name": "stdout",
     "output_type": "stream",
     "text": [
      "-----\n",
      "variable\n"
     ]
    },
    {
     "data": {
      "text/latex": [
       "$\\displaystyle n$"
      ],
      "text/plain": [
       "<IPython.core.display.Math object>"
      ]
     },
     "metadata": {},
     "output_type": "display_data"
    },
    {
     "name": "stdout",
     "output_type": "stream",
     "text": [
      "-----\n",
      "variable\n"
     ]
    },
    {
     "data": {
      "text/latex": [
       "$\\displaystyle n$"
      ],
      "text/plain": [
       "<IPython.core.display.Math object>"
      ]
     },
     "metadata": {},
     "output_type": "display_data"
    },
    {
     "name": "stdout",
     "output_type": "stream",
     "text": [
      "-----\n",
      "Number\n"
     ]
    },
    {
     "data": {
      "text/latex": [
       "$\\displaystyle 1$"
      ],
      "text/plain": [
       "<IPython.core.display.Math object>"
      ]
     },
     "metadata": {},
     "output_type": "display_data"
    },
    {
     "name": "stdout",
     "output_type": "stream",
     "text": [
      "-----\n",
      "Number\n"
     ]
    },
    {
     "data": {
      "text/latex": [
       "$\\displaystyle 2$"
      ],
      "text/plain": [
       "<IPython.core.display.Math object>"
      ]
     },
     "metadata": {},
     "output_type": "display_data"
    },
    {
     "name": "stdout",
     "output_type": "stream",
     "text": [
      "-----\n",
      "number\n"
     ]
    },
    {
     "data": {
      "text/latex": [
       "$\\displaystyle 4$"
      ],
      "text/plain": [
       "<IPython.core.display.Math object>"
      ]
     },
     "metadata": {},
     "output_type": "display_data"
    },
    {
     "name": "stdout",
     "output_type": "stream",
     "text": [
      "-----\n",
      "number\n"
     ]
    },
    {
     "data": {
      "text/latex": [
       "$\\displaystyle 8$"
      ],
      "text/plain": [
       "<IPython.core.display.Math object>"
      ]
     },
     "metadata": {},
     "output_type": "display_data"
    },
    {
     "name": "stdout",
     "output_type": "stream",
     "text": [
      "-----\n",
      "Variable\n"
     ]
    },
    {
     "data": {
      "text/latex": [
       "$\\displaystyle G$"
      ],
      "text/plain": [
       "<IPython.core.display.Math object>"
      ]
     },
     "metadata": {},
     "output_type": "display_data"
    },
    {
     "name": "stdout",
     "output_type": "stream",
     "text": [
      "-----\n",
      "set\n"
     ]
    },
    {
     "data": {
      "text/latex": [
       "$\\displaystyle \\{\\mathbb{Z}G$"
      ],
      "text/plain": [
       "<IPython.core.display.Math object>"
      ]
     },
     "metadata": {},
     "output_type": "display_data"
    },
    {
     "name": "stdout",
     "output_type": "stream",
     "text": [
      "-----\n",
      "Invalid\n"
     ]
    },
    {
     "data": {
      "text/latex": [
       "$\\displaystyle \\}=\\{\\mathbb{Z}G$"
      ],
      "text/plain": [
       "<IPython.core.display.Math object>"
      ]
     },
     "metadata": {},
     "output_type": "display_data"
    },
    {
     "name": "stdout",
     "output_type": "stream",
     "text": [
      "-----\n",
      "Symbol\n"
     ]
    },
    {
     "data": {
      "text/latex": [
       "$\\displaystyle \\mathbb{Z}$"
      ],
      "text/plain": [
       "<IPython.core.display.Math object>"
      ]
     },
     "metadata": {},
     "output_type": "display_data"
    },
    {
     "name": "stdout",
     "output_type": "stream",
     "text": [
      "-----\n",
      "Invalid\n"
     ]
    },
    {
     "data": {
      "text/latex": [
       "$\\displaystyle \\mathbb{Z}G\\}$"
      ],
      "text/plain": [
       "<IPython.core.display.Math object>"
      ]
     },
     "metadata": {},
     "output_type": "display_data"
    },
    {
     "name": "stdout",
     "output_type": "stream",
     "text": [
      "-----\n",
      "function\n"
     ]
    },
    {
     "data": {
      "text/latex": [
       "$\\displaystyle M_2(F)$"
      ],
      "text/plain": [
       "<IPython.core.display.Math object>"
      ]
     },
     "metadata": {},
     "output_type": "display_data"
    },
    {
     "name": "stdout",
     "output_type": "stream",
     "text": [
      "-----\n",
      "Variable\n"
     ]
    },
    {
     "data": {
      "text/latex": [
       "$\\displaystyle K_3$"
      ],
      "text/plain": [
       "<IPython.core.display.Math object>"
      ]
     },
     "metadata": {},
     "output_type": "display_data"
    },
    {
     "name": "stdout",
     "output_type": "stream",
     "text": [
      "-----\n",
      "Matrix\n"
     ]
    },
    {
     "data": {
      "text/latex": [
       "$\\displaystyle M_3(\\mathbb{C})$"
      ],
      "text/plain": [
       "<IPython.core.display.Math object>"
      ]
     },
     "metadata": {},
     "output_type": "display_data"
    },
    {
     "name": "stdout",
     "output_type": "stream",
     "text": [
      "-----\n",
      "Variable\n"
     ]
    },
    {
     "data": {
      "text/latex": [
       "$\\displaystyle G$"
      ],
      "text/plain": [
       "<IPython.core.display.Math object>"
      ]
     },
     "metadata": {},
     "output_type": "display_data"
    },
    {
     "name": "stdout",
     "output_type": "stream",
     "text": [
      "-----\n",
      "Variable\n"
     ]
    },
    {
     "data": {
      "text/latex": [
       "$\\displaystyle G$"
      ],
      "text/plain": [
       "<IPython.core.display.Math object>"
      ]
     },
     "metadata": {},
     "output_type": "display_data"
    },
    {
     "name": "stdout",
     "output_type": "stream",
     "text": [
      "-----\n",
      "Variable\n"
     ]
    },
    {
     "data": {
      "text/latex": [
       "$\\displaystyle G$"
      ],
      "text/plain": [
       "<IPython.core.display.Math object>"
      ]
     },
     "metadata": {},
     "output_type": "display_data"
    },
    {
     "name": "stdout",
     "output_type": "stream",
     "text": [
      "-----\n",
      "Symbol\n"
     ]
    },
    {
     "data": {
      "text/latex": [
       "$\\displaystyle \\mathscr{F}$"
      ],
      "text/plain": [
       "<IPython.core.display.Math object>"
      ]
     },
     "metadata": {},
     "output_type": "display_data"
    },
    {
     "name": "stdout",
     "output_type": "stream",
     "text": [
      "-----\n",
      "set\n"
     ]
    },
    {
     "data": {
      "text/latex": [
       "$\\displaystyle G \\in \\LH\\mathscr{F}$"
      ],
      "text/plain": [
       "<IPython.core.display.Math object>"
      ]
     },
     "metadata": {},
     "output_type": "display_data"
    },
    {
     "name": "stdout",
     "output_type": "stream",
     "text": [
      "-----\n",
      "Variable\n"
     ]
    },
    {
     "data": {
      "text/latex": [
       "$\\displaystyle F$"
      ],
      "text/plain": [
       "<IPython.core.display.Math object>"
      ]
     },
     "metadata": {},
     "output_type": "display_data"
    },
    {
     "name": "stdout",
     "output_type": "stream",
     "text": [
      "-----\n",
      "Variable\n"
     ]
    },
    {
     "data": {
      "text/latex": [
       "$\\displaystyle F$"
      ],
      "text/plain": [
       "<IPython.core.display.Math object>"
      ]
     },
     "metadata": {},
     "output_type": "display_data"
    },
    {
     "name": "stdout",
     "output_type": "stream",
     "text": [
      "-----\n",
      "Function\n"
     ]
    },
    {
     "data": {
      "text/latex": [
       "$\\displaystyle \\LH\\mathscr{F}_{\\phi,\\mathbb{Z}}$"
      ],
      "text/plain": [
       "<IPython.core.display.Math object>"
      ]
     },
     "metadata": {},
     "output_type": "display_data"
    },
    {
     "name": "stdout",
     "output_type": "stream",
     "text": [
      "-----\n",
      "function\n"
     ]
    },
    {
     "data": {
      "text/latex": [
       "$\\displaystyle M_2(F)$"
      ],
      "text/plain": [
       "<IPython.core.display.Math object>"
      ]
     },
     "metadata": {},
     "output_type": "display_data"
    },
    {
     "name": "stdout",
     "output_type": "stream",
     "text": [
      "-----\n",
      "Function\n"
     ]
    },
    {
     "data": {
      "text/latex": [
       "$\\displaystyle \\mathscr{F}_{\\phi,\\mathbb{Z}}$"
      ],
      "text/plain": [
       "<IPython.core.display.Math object>"
      ]
     },
     "metadata": {},
     "output_type": "display_data"
    },
    {
     "name": "stdout",
     "output_type": "stream",
     "text": [
      "-----\n",
      "Variable\n"
     ]
    },
    {
     "data": {
      "text/latex": [
       "$\\displaystyle F$"
      ],
      "text/plain": [
       "<IPython.core.display.Math object>"
      ]
     },
     "metadata": {},
     "output_type": "display_data"
    },
    {
     "name": "stdout",
     "output_type": "stream",
     "text": [
      "-----\n",
      "Symbol\n"
     ]
    },
    {
     "data": {
      "text/latex": [
       "$\\displaystyle \\Phi$"
      ],
      "text/plain": [
       "<IPython.core.display.Math object>"
      ]
     },
     "metadata": {},
     "output_type": "display_data"
    },
    {
     "name": "stdout",
     "output_type": "stream",
     "text": [
      "-----\n",
      "set\n"
     ]
    },
    {
     "data": {
      "text/latex": [
       "$\\displaystyle \\mathbb{Z}$"
      ],
      "text/plain": [
       "<IPython.core.display.Math object>"
      ]
     },
     "metadata": {},
     "output_type": "display_data"
    },
    {
     "name": "stdout",
     "output_type": "stream",
     "text": [
      "-----\n",
      "fraction\n"
     ]
    },
    {
     "data": {
      "text/latex": [
       "$\\displaystyle \\mathbb{F}_{q^n}/\\mathbb{F}_{q}$"
      ],
      "text/plain": [
       "<IPython.core.display.Math object>"
      ]
     },
     "metadata": {},
     "output_type": "display_data"
    },
    {
     "name": "stdout",
     "output_type": "stream",
     "text": [
      "-----\n",
      "Variable\n"
     ]
    },
    {
     "data": {
      "text/latex": [
       "$\\displaystyle G$"
      ],
      "text/plain": [
       "<IPython.core.display.Math object>"
      ]
     },
     "metadata": {},
     "output_type": "display_data"
    },
    {
     "name": "stdout",
     "output_type": "stream",
     "text": [
      "-----\n",
      "Symbol\n"
     ]
    },
    {
     "data": {
      "text/latex": [
       "$\\displaystyle \\Phi$"
      ],
      "text/plain": [
       "<IPython.core.display.Math object>"
      ]
     },
     "metadata": {},
     "output_type": "display_data"
    },
    {
     "name": "stdout",
     "output_type": "stream",
     "text": [
      "-----\n",
      "inequality\n"
     ]
    },
    {
     "data": {
      "text/latex": [
       "$\\displaystyle n\\geq 3$"
      ],
      "text/plain": [
       "<IPython.core.display.Math object>"
      ]
     },
     "metadata": {},
     "output_type": "display_data"
    },
    {
     "name": "stdout",
     "output_type": "stream",
     "text": [
      "-----\n",
      "set\n"
     ]
    },
    {
     "data": {
      "text/latex": [
       "$\\displaystyle \\mathbb{Z}$"
      ],
      "text/plain": [
       "<IPython.core.display.Math object>"
      ]
     },
     "metadata": {},
     "output_type": "display_data"
    },
    {
     "name": "stdout",
     "output_type": "stream",
     "text": [
      "-----\n",
      "Exponential\n"
     ]
    },
    {
     "data": {
      "text/latex": [
       "$\\displaystyle L^{\\infty}$"
      ],
      "text/plain": [
       "<IPython.core.display.Math object>"
      ]
     },
     "metadata": {},
     "output_type": "display_data"
    },
    {
     "name": "stdout",
     "output_type": "stream",
     "text": [
      "-----\n",
      "exponentiation\n"
     ]
    },
    {
     "data": {
      "text/latex": [
       "$\\displaystyle L^2$"
      ],
      "text/plain": [
       "<IPython.core.display.Math object>"
      ]
     },
     "metadata": {},
     "output_type": "display_data"
    },
    {
     "name": "stdout",
     "output_type": "stream",
     "text": [
      "-----\n",
      "variable\n"
     ]
    },
    {
     "data": {
      "text/latex": [
       "$\\displaystyle x$"
      ],
      "text/plain": [
       "<IPython.core.display.Math object>"
      ]
     },
     "metadata": {},
     "output_type": "display_data"
    },
    {
     "name": "stdout",
     "output_type": "stream",
     "text": [
      "-----\n",
      "variable\n"
     ]
    },
    {
     "data": {
      "text/latex": [
       "$\\displaystyle x$"
      ],
      "text/plain": [
       "<IPython.core.display.Math object>"
      ]
     },
     "metadata": {},
     "output_type": "display_data"
    },
    {
     "name": "stdout",
     "output_type": "stream",
     "text": [
      "-----\n",
      "Inequality\n"
     ]
    },
    {
     "data": {
      "text/latex": [
       "$\\displaystyle u_->u_+$"
      ],
      "text/plain": [
       "<IPython.core.display.Math object>"
      ]
     },
     "metadata": {},
     "output_type": "display_data"
    },
    {
     "name": "stdout",
     "output_type": "stream",
     "text": [
      "-----\n",
      "Inequality\n"
     ]
    },
    {
     "data": {
      "text/latex": [
       "$\\displaystyle u_->u_+$"
      ],
      "text/plain": [
       "<IPython.core.display.Math object>"
      ]
     },
     "metadata": {},
     "output_type": "display_data"
    },
    {
     "name": "stdout",
     "output_type": "stream",
     "text": [
      "-----\n",
      "set\n"
     ]
    },
    {
     "data": {
      "text/latex": [
       "$\\displaystyle \\( \\mathbb{R}^N \\)$"
      ],
      "text/plain": [
       "<IPython.core.display.Math object>"
      ]
     },
     "metadata": {},
     "output_type": "display_data"
    },
    {
     "name": "stdout",
     "output_type": "stream",
     "text": [
      "-----\n",
      "Operator\n"
     ]
    },
    {
     "data": {
      "text/latex": [
       "$\\displaystyle \\( u_i \\mapsto d_i (-\\Delta)_{Sp}^{s_i} u_i \\)$"
      ],
      "text/plain": [
       "<IPython.core.display.Math object>"
      ]
     },
     "metadata": {},
     "output_type": "display_data"
    },
    {
     "name": "stdout",
     "output_type": "stream",
     "text": [
      "-----\n",
      "Inequality\n"
     ]
    },
    {
     "data": {
      "text/latex": [
       "$\\displaystyle \\( 0 < s_i < 1 \\)$"
      ],
      "text/plain": [
       "<IPython.core.display.Math object>"
      ]
     },
     "metadata": {},
     "output_type": "display_data"
    },
    {
     "name": "stdout",
     "output_type": "stream",
     "text": [
      "-----\n",
      "Subscript\n"
     ]
    },
    {
     "data": {
      "text/latex": [
       "$\\displaystyle (-\\Delta)_{Sp}^{s}$"
      ],
      "text/plain": [
       "<IPython.core.display.Math object>"
      ]
     },
     "metadata": {},
     "output_type": "display_data"
    },
    {
     "name": "stdout",
     "output_type": "stream",
     "text": [
      "-----\n",
      "Power\n"
     ]
    },
    {
     "data": {
      "text/latex": [
       "$\\displaystyle L^2$"
      ],
      "text/plain": [
       "<IPython.core.display.Math object>"
      ]
     },
     "metadata": {},
     "output_type": "display_data"
    },
    {
     "name": "stdout",
     "output_type": "stream",
     "text": [
      "-----\n",
      "notation\n"
     ]
    },
    {
     "data": {
      "text/latex": [
       "$\\displaystyle \\Omega\\subset \\R^2.$"
      ],
      "text/plain": [
       "<IPython.core.display.Math object>"
      ]
     },
     "metadata": {},
     "output_type": "display_data"
    },
    {
     "name": "stdout",
     "output_type": "stream",
     "text": [
      "-----\n",
      "Mapping\n"
     ]
    },
    {
     "data": {
      "text/latex": [
       "$\\displaystyle \\( u_i \\mapsto d_i (-\\Delta)^s u_i \\)$"
      ],
      "text/plain": [
       "<IPython.core.display.Math object>"
      ]
     },
     "metadata": {},
     "output_type": "display_data"
    },
    {
     "name": "stdout",
     "output_type": "stream",
     "text": [
      "-----\n",
      "Unary\n"
     ]
    },
    {
     "data": {
      "text/latex": [
       "$\\displaystyle (-\\Delta)^s$"
      ],
      "text/plain": [
       "<IPython.core.display.Math object>"
      ]
     },
     "metadata": {},
     "output_type": "display_data"
    },
    {
     "name": "stdout",
     "output_type": "stream",
     "text": [
      "-----\n",
      "Function\n"
     ]
    },
    {
     "data": {
      "text/latex": [
       "$\\displaystyle \\mathscr{D}(\\mathbb{R}\\times[0,\\infty))$"
      ],
      "text/plain": [
       "<IPython.core.display.Math object>"
      ]
     },
     "metadata": {},
     "output_type": "display_data"
    },
    {
     "name": "stdout",
     "output_type": "stream",
     "text": [
      "-----\n",
      "Tuple\n"
     ]
    },
    {
     "data": {
      "text/latex": [
       "$\\displaystyle \\eta,Q$"
      ],
      "text/plain": [
       "<IPython.core.display.Math object>"
      ]
     },
     "metadata": {},
     "output_type": "display_data"
    },
    {
     "name": "stdout",
     "output_type": "stream",
     "text": [
      "-----\n",
      "Variable\n"
     ]
    },
    {
     "data": {
      "text/latex": [
       "$\\displaystyle \\eta$"
      ],
      "text/plain": [
       "<IPython.core.display.Math object>"
      ]
     },
     "metadata": {},
     "output_type": "display_data"
    },
    {
     "name": "stdout",
     "output_type": "stream",
     "text": [
      "-----\n",
      "function\n"
     ]
    },
    {
     "data": {
      "text/latex": [
       "$\\displaystyle Q(x,\\cdot)$"
      ],
      "text/plain": [
       "<IPython.core.display.Math object>"
      ]
     },
     "metadata": {},
     "output_type": "display_data"
    },
    {
     "name": "stdout",
     "output_type": "stream",
     "text": [
      "-----\n",
      "Product\n"
     ]
    },
    {
     "data": {
      "text/latex": [
       "$\\displaystyle \\eta^{\\prime}(\\cdot)f_u(x,\\cdot)$"
      ],
      "text/plain": [
       "<IPython.core.display.Math object>"
      ]
     },
     "metadata": {},
     "output_type": "display_data"
    },
    {
     "name": "stdout",
     "output_type": "stream",
     "text": [
      "-----\n",
      "variable\n"
     ]
    },
    {
     "data": {
      "text/latex": [
       "$\\displaystyle x$"
      ],
      "text/plain": [
       "<IPython.core.display.Math object>"
      ]
     },
     "metadata": {},
     "output_type": "display_data"
    },
    {
     "name": "stdout",
     "output_type": "stream",
     "text": [
      "-----\n",
      "Variable\n"
     ]
    },
    {
     "data": {
      "text/latex": [
       "$\\displaystyle \\eta$"
      ],
      "text/plain": [
       "<IPython.core.display.Math object>"
      ]
     },
     "metadata": {},
     "output_type": "display_data"
    },
    {
     "name": "stdout",
     "output_type": "stream",
     "text": [
      "-----\n",
      "variable\n"
     ]
    },
    {
     "data": {
      "text/latex": [
       "$\\displaystyle Q$"
      ],
      "text/plain": [
       "<IPython.core.display.Math object>"
      ]
     },
     "metadata": {},
     "output_type": "display_data"
    },
    {
     "name": "stdout",
     "output_type": "stream",
     "text": [
      "-----\n",
      "Tuple\n"
     ]
    },
    {
     "data": {
      "text/latex": [
       "$\\displaystyle \\eta,Q$"
      ],
      "text/plain": [
       "<IPython.core.display.Math object>"
      ]
     },
     "metadata": {},
     "output_type": "display_data"
    },
    {
     "name": "stdout",
     "output_type": "stream",
     "text": [
      "-----\n",
      "function\n"
     ]
    },
    {
     "data": {
      "text/latex": [
       "$\\displaystyle \\varphi(x,t)$"
      ],
      "text/plain": [
       "<IPython.core.display.Math object>"
      ]
     },
     "metadata": {},
     "output_type": "display_data"
    },
    {
     "name": "stdout",
     "output_type": "stream",
     "text": [
      "-----\n",
      "set\n"
     ]
    },
    {
     "data": {
      "text/latex": [
       "$\\displaystyle \\mathbb{R}\\times[0,\\infty)$"
      ],
      "text/plain": [
       "<IPython.core.display.Math object>"
      ]
     },
     "metadata": {},
     "output_type": "display_data"
    },
    {
     "name": "stdout",
     "output_type": "stream",
     "text": [
      "-----\n",
      "Integral\n"
     ]
    },
    {
     "data": {
      "text/latex": [
       "$\\displaystyle \\[\n",
       "\\iint\\eta(u)\\varphi_t+Q(x,u)\\varphi_x dxdt+\\int\\eta(u_0)\\varphi(x,0)dx\\geq\\iint\\varphi \\left(\\eta^{\\prime}(u)f_x(x,u)-Q_x(x,u)\\right)dxdt.\n",
       "\\]$"
      ],
      "text/plain": [
       "<IPython.core.display.Math object>"
      ]
     },
     "metadata": {},
     "output_type": "display_data"
    },
    {
     "name": "stdout",
     "output_type": "stream",
     "text": [
      "-----\n",
      "variable\n"
     ]
    },
    {
     "data": {
      "text/latex": [
       "$\\displaystyle S$"
      ],
      "text/plain": [
       "<IPython.core.display.Math object>"
      ]
     },
     "metadata": {},
     "output_type": "display_data"
    },
    {
     "name": "stdout",
     "output_type": "stream",
     "text": [
      "-----\n",
      "Symbol\n"
     ]
    },
    {
     "data": {
      "text/latex": [
       "$\\displaystyle \\Omega$"
      ],
      "text/plain": [
       "<IPython.core.display.Math object>"
      ]
     },
     "metadata": {},
     "output_type": "display_data"
    },
    {
     "name": "stdout",
     "output_type": "stream",
     "text": [
      "-----\n",
      "Symbol\n"
     ]
    },
    {
     "data": {
      "text/latex": [
       "$\\displaystyle \\partial\\Omega$"
      ],
      "text/plain": [
       "<IPython.core.display.Math object>"
      ]
     },
     "metadata": {},
     "output_type": "display_data"
    },
    {
     "name": "stdout",
     "output_type": "stream",
     "text": [
      "-----\n",
      "set\n"
     ]
    },
    {
     "data": {
      "text/latex": [
       "$\\displaystyle \\mathbb R^2$"
      ],
      "text/plain": [
       "<IPython.core.display.Math object>"
      ]
     },
     "metadata": {},
     "output_type": "display_data"
    },
    {
     "name": "stdout",
     "output_type": "stream",
     "text": [
      "-----\n",
      "variable\n"
     ]
    },
    {
     "data": {
      "text/latex": [
       "$\\displaystyle \\textbf{n}$"
      ],
      "text/plain": [
       "<IPython.core.display.Math object>"
      ]
     },
     "metadata": {},
     "output_type": "display_data"
    },
    {
     "name": "stdout",
     "output_type": "stream",
     "text": [
      "-----\n",
      "Symbol\n"
     ]
    },
    {
     "data": {
      "text/latex": [
       "$\\displaystyle \\Omega$"
      ],
      "text/plain": [
       "<IPython.core.display.Math object>"
      ]
     },
     "metadata": {},
     "output_type": "display_data"
    },
    {
     "name": "stdout",
     "output_type": "stream",
     "text": [
      "-----\n",
      "Symbol\n"
     ]
    },
    {
     "data": {
      "text/latex": [
       "$\\displaystyle \\triangle$"
      ],
      "text/plain": [
       "<IPython.core.display.Math object>"
      ]
     },
     "metadata": {},
     "output_type": "display_data"
    },
    {
     "name": "stdout",
     "output_type": "stream",
     "text": [
      "-----\n",
      "symbol\n"
     ]
    },
    {
     "data": {
      "text/latex": [
       "$\\displaystyle \\Box$"
      ],
      "text/plain": [
       "<IPython.core.display.Math object>"
      ]
     },
     "metadata": {},
     "output_type": "display_data"
    },
    {
     "name": "stdout",
     "output_type": "stream",
     "text": [
      "-----\n",
      "symbol\n"
     ]
    },
    {
     "data": {
      "text/latex": [
       "$\\displaystyle \\Diamond$"
      ],
      "text/plain": [
       "<IPython.core.display.Math object>"
      ]
     },
     "metadata": {},
     "output_type": "display_data"
    },
    {
     "name": "stdout",
     "output_type": "stream",
     "text": [
      "-----\n",
      "Set\n"
     ]
    },
    {
     "data": {
      "text/latex": [
       "$\\displaystyle \\R$"
      ],
      "text/plain": [
       "<IPython.core.display.Math object>"
      ]
     },
     "metadata": {},
     "output_type": "display_data"
    },
    {
     "name": "stdout",
     "output_type": "stream",
     "text": [
      "-----\n",
      "Variable\n"
     ]
    },
    {
     "data": {
      "text/latex": [
       "$\\displaystyle \\C$"
      ],
      "text/plain": [
       "<IPython.core.display.Math object>"
      ]
     },
     "metadata": {},
     "output_type": "display_data"
    },
    {
     "name": "stdout",
     "output_type": "stream",
     "text": [
      "-----\n",
      "Variable\n"
     ]
    },
    {
     "data": {
      "text/latex": [
       "$\\displaystyle \\C$"
      ],
      "text/plain": [
       "<IPython.core.display.Math object>"
      ]
     },
     "metadata": {},
     "output_type": "display_data"
    },
    {
     "name": "stdout",
     "output_type": "stream",
     "text": [
      "-----\n",
      "Number\n"
     ]
    },
    {
     "data": {
      "text/latex": [
       "$\\displaystyle 2$"
      ],
      "text/plain": [
       "<IPython.core.display.Math object>"
      ]
     },
     "metadata": {},
     "output_type": "display_data"
    },
    {
     "name": "stdout",
     "output_type": "stream",
     "text": [
      "-----\n",
      "Variable\n"
     ]
    },
    {
     "data": {
      "text/latex": [
       "$\\displaystyle \\K$"
      ],
      "text/plain": [
       "<IPython.core.display.Math object>"
      ]
     },
     "metadata": {},
     "output_type": "display_data"
    },
    {
     "name": "stdout",
     "output_type": "stream",
     "text": [
      "-----\n",
      "function\n"
     ]
    },
    {
     "data": {
      "text/latex": [
       "$\\displaystyle \\mathrm{SL}_2$"
      ],
      "text/plain": [
       "<IPython.core.display.Math object>"
      ]
     },
     "metadata": {},
     "output_type": "display_data"
    },
    {
     "name": "stdout",
     "output_type": "stream",
     "text": [
      "-----\n",
      "function\n"
     ]
    },
    {
     "data": {
      "text/latex": [
       "$\\displaystyle \\mathrm{SL}_2$"
      ],
      "text/plain": [
       "<IPython.core.display.Math object>"
      ]
     },
     "metadata": {},
     "output_type": "display_data"
    },
    {
     "name": "stdout",
     "output_type": "stream",
     "text": [
      "-----\n",
      "Tuple\n"
     ]
    },
    {
     "data": {
      "text/latex": [
       "$\\displaystyle \\left(h_0,h_1,\\dotsc,h_d\\right)$"
      ],
      "text/plain": [
       "<IPython.core.display.Math object>"
      ]
     },
     "metadata": {},
     "output_type": "display_data"
    },
    {
     "name": "stdout",
     "output_type": "stream",
     "text": [
      "-----\n",
      "variable\n"
     ]
    },
    {
     "data": {
      "text/latex": [
       "$\\displaystyle n$"
      ],
      "text/plain": [
       "<IPython.core.display.Math object>"
      ]
     },
     "metadata": {},
     "output_type": "display_data"
    },
    {
     "name": "stdout",
     "output_type": "stream",
     "text": [
      "-----\n",
      "Equation\n"
     ]
    },
    {
     "data": {
      "text/latex": [
       "$\\displaystyle h_i=h_{d-i}$"
      ],
      "text/plain": [
       "<IPython.core.display.Math object>"
      ]
     },
     "metadata": {},
     "output_type": "display_data"
    },
    {
     "name": "stdout",
     "output_type": "stream",
     "text": [
      "-----\n",
      "set\n"
     ]
    },
    {
     "data": {
      "text/latex": [
       "$\\displaystyle i\\in\\{0,\\dotsc,d\\}$"
      ],
      "text/plain": [
       "<IPython.core.display.Math object>"
      ]
     },
     "metadata": {},
     "output_type": "display_data"
    },
    {
     "name": "stdout",
     "output_type": "stream",
     "text": [
      "-----\n",
      "Equation\n"
     ]
    },
    {
     "data": {
      "text/latex": [
       "$\\displaystyle h_0=h_d=1$"
      ],
      "text/plain": [
       "<IPython.core.display.Math object>"
      ]
     },
     "metadata": {},
     "output_type": "display_data"
    },
    {
     "name": "stdout",
     "output_type": "stream",
     "text": [
      "-----\n",
      "number\n"
     ]
    },
    {
     "data": {
      "text/latex": [
       "$\\displaystyle 3$"
      ],
      "text/plain": [
       "<IPython.core.display.Math object>"
      ]
     },
     "metadata": {},
     "output_type": "display_data"
    },
    {
     "name": "stdout",
     "output_type": "stream",
     "text": [
      "-----\n",
      "Tuple\n"
     ]
    },
    {
     "data": {
      "text/latex": [
       "$\\displaystyle \\left(h_0,h_1,\\dotsc,h_d\\right)$"
      ],
      "text/plain": [
       "<IPython.core.display.Math object>"
      ]
     },
     "metadata": {},
     "output_type": "display_data"
    },
    {
     "name": "stdout",
     "output_type": "stream",
     "text": [
      "-----\n",
      "Inequality\n"
     ]
    },
    {
     "data": {
      "text/latex": [
       "$\\displaystyle h_0\\leq h_1\\leq\\dotsc\\leq h_t$"
      ],
      "text/plain": [
       "<IPython.core.display.Math object>"
      ]
     },
     "metadata": {},
     "output_type": "display_data"
    },
    {
     "name": "stdout",
     "output_type": "stream",
     "text": [
      "-----\n",
      "Function\n"
     ]
    },
    {
     "data": {
      "text/latex": [
       "$\\displaystyle \\displaystyle t=\\left\\lfloor\\frac{d}{2}\\right\\rfloor$"
      ],
      "text/plain": [
       "<IPython.core.display.Math object>"
      ]
     },
     "metadata": {},
     "output_type": "display_data"
    },
    {
     "name": "stdout",
     "output_type": "stream",
     "text": [
      "-----\n",
      "variable\n"
     ]
    },
    {
     "data": {
      "text/latex": [
       "$\\displaystyle R$"
      ],
      "text/plain": [
       "<IPython.core.display.Math object>"
      ]
     },
     "metadata": {},
     "output_type": "display_data"
    },
    {
     "name": "stdout",
     "output_type": "stream",
     "text": [
      "-----\n",
      "polynomial\n"
     ]
    },
    {
     "data": {
      "text/latex": [
       "$\\displaystyle f(x),g(x)\\in R[x]$"
      ],
      "text/plain": [
       "<IPython.core.display.Math object>"
      ]
     },
     "metadata": {},
     "output_type": "display_data"
    },
    {
     "name": "stdout",
     "output_type": "stream",
     "text": [
      "-----\n",
      "constant\n"
     ]
    },
    {
     "data": {
      "text/latex": [
       "$\\displaystyle 5$"
      ],
      "text/plain": [
       "<IPython.core.display.Math object>"
      ]
     },
     "metadata": {},
     "output_type": "display_data"
    },
    {
     "name": "stdout",
     "output_type": "stream",
     "text": [
      "-----\n",
      "function\n"
     ]
    },
    {
     "data": {
      "text/latex": [
       "$\\displaystyle g(x)$"
      ],
      "text/plain": [
       "<IPython.core.display.Math object>"
      ]
     },
     "metadata": {},
     "output_type": "display_data"
    },
    {
     "name": "stdout",
     "output_type": "stream",
     "text": [
      "-----\n",
      "polynomial\n"
     ]
    },
    {
     "data": {
      "text/latex": [
       "$\\displaystyle q(x),r(x)\\in R[x]$"
      ],
      "text/plain": [
       "<IPython.core.display.Math object>"
      ]
     },
     "metadata": {},
     "output_type": "display_data"
    },
    {
     "name": "stdout",
     "output_type": "stream",
     "text": [
      "-----\n",
      "number\n"
     ]
    },
    {
     "data": {
      "text/latex": [
       "$\\displaystyle 4$"
      ],
      "text/plain": [
       "<IPython.core.display.Math object>"
      ]
     },
     "metadata": {},
     "output_type": "display_data"
    },
    {
     "name": "stdout",
     "output_type": "stream",
     "text": [
      "-----\n",
      "variable\n"
     ]
    },
    {
     "data": {
      "text/latex": [
       "$\\displaystyle B$"
      ],
      "text/plain": [
       "<IPython.core.display.Math object>"
      ]
     },
     "metadata": {},
     "output_type": "display_data"
    },
    {
     "name": "stdout",
     "output_type": "stream",
     "text": [
      "-----\n",
      "Function\n"
     ]
    },
    {
     "data": {
      "text/latex": [
       "$\\displaystyle \\cAG_{\\K}(n,d)$"
      ],
      "text/plain": [
       "<IPython.core.display.Math object>"
      ]
     },
     "metadata": {},
     "output_type": "display_data"
    },
    {
     "name": "stdout",
     "output_type": "stream",
     "text": [
      "-----\n",
      "variable\n"
     ]
    },
    {
     "data": {
      "text/latex": [
       "$\\displaystyle k$"
      ],
      "text/plain": [
       "<IPython.core.display.Math object>"
      ]
     },
     "metadata": {},
     "output_type": "display_data"
    },
    {
     "name": "stdout",
     "output_type": "stream",
     "text": [
      "-----\n",
      "Variable\n"
     ]
    },
    {
     "data": {
      "text/latex": [
       "$\\displaystyle \\K$"
      ],
      "text/plain": [
       "<IPython.core.display.Math object>"
      ]
     },
     "metadata": {},
     "output_type": "display_data"
    },
    {
     "name": "stdout",
     "output_type": "stream",
     "text": [
      "-----\n",
      "tuple\n"
     ]
    },
    {
     "data": {
      "text/latex": [
       "$\\displaystyle (D,U)$"
      ],
      "text/plain": [
       "<IPython.core.display.Math object>"
      ]
     },
     "metadata": {},
     "output_type": "display_data"
    },
    {
     "name": "stdout",
     "output_type": "stream",
     "text": [
      "-----\n",
      "Variable\n"
     ]
    },
    {
     "data": {
      "text/latex": [
       "$\\displaystyle d$"
      ],
      "text/plain": [
       "<IPython.core.display.Math object>"
      ]
     },
     "metadata": {},
     "output_type": "display_data"
    },
    {
     "name": "stdout",
     "output_type": "stream",
     "text": [
      "-----\n",
      "variable\n"
     ]
    },
    {
     "data": {
      "text/latex": [
       "$\\displaystyle n$"
      ],
      "text/plain": [
       "<IPython.core.display.Math object>"
      ]
     },
     "metadata": {},
     "output_type": "display_data"
    },
    {
     "name": "stdout",
     "output_type": "stream",
     "text": [
      "-----\n",
      "Variable\n"
     ]
    },
    {
     "data": {
      "text/latex": [
       "$\\displaystyle \\mathcal{X}$"
      ],
      "text/plain": [
       "<IPython.core.display.Math object>"
      ]
     },
     "metadata": {},
     "output_type": "display_data"
    },
    {
     "name": "stdout",
     "output_type": "stream",
     "text": [
      "-----\n",
      "Variable\n"
     ]
    },
    {
     "data": {
      "text/latex": [
       "$\\displaystyle \\mathcal{X}$"
      ],
      "text/plain": [
       "<IPython.core.display.Math object>"
      ]
     },
     "metadata": {},
     "output_type": "display_data"
    },
    {
     "name": "stdout",
     "output_type": "stream",
     "text": [
      "-----\n",
      "Function\n"
     ]
    },
    {
     "data": {
      "text/latex": [
       "$\\displaystyle \\Filt^n (\\mathcal{X})$"
      ],
      "text/plain": [
       "<IPython.core.display.Math object>"
      ]
     },
     "metadata": {},
     "output_type": "display_data"
    },
    {
     "name": "stdout",
     "output_type": "stream",
     "text": [
      "-----\n",
      "Variable\n"
     ]
    },
    {
     "data": {
      "text/latex": [
       "$\\displaystyle \\alpha$"
      ],
      "text/plain": [
       "<IPython.core.display.Math object>"
      ]
     },
     "metadata": {},
     "output_type": "display_data"
    },
    {
     "name": "stdout",
     "output_type": "stream",
     "text": [
      "-----\n",
      "constant\n"
     ]
    },
    {
     "data": {
      "text/latex": [
       "$\\displaystyle 3$"
      ],
      "text/plain": [
       "<IPython.core.display.Math object>"
      ]
     },
     "metadata": {},
     "output_type": "display_data"
    },
    {
     "name": "stdout",
     "output_type": "stream",
     "text": [
      "-----\n",
      "set\n"
     ]
    },
    {
     "data": {
      "text/latex": [
       "$\\displaystyle \\mathbb{Z}^n$"
      ],
      "text/plain": [
       "<IPython.core.display.Math object>"
      ]
     },
     "metadata": {},
     "output_type": "display_data"
    },
    {
     "name": "stdout",
     "output_type": "stream",
     "text": [
      "-----\n",
      "Function\n"
     ]
    },
    {
     "data": {
      "text/latex": [
       "$\\displaystyle \\mathrm{CL}_\\mathbb{Q} (\\mathcal{X})$"
      ],
      "text/plain": [
       "<IPython.core.display.Math object>"
      ]
     },
     "metadata": {},
     "output_type": "display_data"
    },
    {
     "name": "stdout",
     "output_type": "stream",
     "text": [
      "-----\n",
      "Variable\n"
     ]
    },
    {
     "data": {
      "text/latex": [
       "$\\displaystyle \\mathcal{X}$"
      ],
      "text/plain": [
       "<IPython.core.display.Math object>"
      ]
     },
     "metadata": {},
     "output_type": "display_data"
    },
    {
     "name": "stdout",
     "output_type": "stream",
     "text": [
      "-----\n",
      "constant\n"
     ]
    },
    {
     "data": {
      "text/latex": [
       "$\\displaystyle (-1)$"
      ],
      "text/plain": [
       "<IPython.core.display.Math object>"
      ]
     },
     "metadata": {},
     "output_type": "display_data"
    },
    {
     "name": "stdout",
     "output_type": "stream",
     "text": [
      "-----\n",
      "Operator\n"
     ]
    },
    {
     "data": {
      "text/latex": [
       "$\\displaystyle \\Grad (\\mathcal{X})$"
      ],
      "text/plain": [
       "<IPython.core.display.Math object>"
      ]
     },
     "metadata": {},
     "output_type": "display_data"
    },
    {
     "name": "stdout",
     "output_type": "stream",
     "text": [
      "-----\n",
      "variable\n"
     ]
    },
    {
     "data": {
      "text/latex": [
       "$\\displaystyle \\alpha$"
      ],
      "text/plain": [
       "<IPython.core.display.Math object>"
      ]
     },
     "metadata": {},
     "output_type": "display_data"
    },
    {
     "name": "stdout",
     "output_type": "stream",
     "text": [
      "-----\n",
      "Function\n"
     ]
    },
    {
     "data": {
      "text/latex": [
       "$\\displaystyle \\Filt (\\mathcal{X})$"
      ],
      "text/plain": [
       "<IPython.core.display.Math object>"
      ]
     },
     "metadata": {},
     "output_type": "display_data"
    },
    {
     "name": "stdout",
     "output_type": "stream",
     "text": [
      "-----\n",
      "Variable\n"
     ]
    },
    {
     "data": {
      "text/latex": [
       "$\\displaystyle \\mathcal{X}$"
      ],
      "text/plain": [
       "<IPython.core.display.Math object>"
      ]
     },
     "metadata": {},
     "output_type": "display_data"
    },
    {
     "name": "stdout",
     "output_type": "stream",
     "text": [
      "-----\n",
      "variable\n"
     ]
    },
    {
     "data": {
      "text/latex": [
       "$\\displaystyle R$"
      ],
      "text/plain": [
       "<IPython.core.display.Math object>"
      ]
     },
     "metadata": {},
     "output_type": "display_data"
    },
    {
     "name": "stdout",
     "output_type": "stream",
     "text": [
      "-----\n",
      "subscript\n"
     ]
    },
    {
     "data": {
      "text/latex": [
       "$\\displaystyle \\mathcal{X}_\\alpha$"
      ],
      "text/plain": [
       "<IPython.core.display.Math object>"
      ]
     },
     "metadata": {},
     "output_type": "display_data"
    },
    {
     "name": "stdout",
     "output_type": "stream",
     "text": [
      "-----\n",
      "fraction\n"
     ]
    },
    {
     "data": {
      "text/latex": [
       "$\\displaystyle \\mathcal{X} = V / G$"
      ],
      "text/plain": [
       "<IPython.core.display.Math object>"
      ]
     },
     "metadata": {},
     "output_type": "display_data"
    },
    {
     "name": "stdout",
     "output_type": "stream",
     "text": [
      "-----\n",
      "set\n"
     ]
    },
    {
     "data": {
      "text/latex": [
       "$\\displaystyle \\mathbb{Z}$"
      ],
      "text/plain": [
       "<IPython.core.display.Math object>"
      ]
     },
     "metadata": {},
     "output_type": "display_data"
    },
    {
     "name": "stdout",
     "output_type": "stream",
     "text": [
      "-----\n",
      "set\n"
     ]
    },
    {
     "data": {
      "text/latex": [
       "$\\displaystyle \\mathbb{Q}$"
      ],
      "text/plain": [
       "<IPython.core.display.Math object>"
      ]
     },
     "metadata": {},
     "output_type": "display_data"
    },
    {
     "name": "stdout",
     "output_type": "stream",
     "text": [
      "-----\n",
      "Function\n"
     ]
    },
    {
     "data": {
      "text/latex": [
       "$\\displaystyle \\mathsf{Lat} (R)$"
      ],
      "text/plain": [
       "<IPython.core.display.Math object>"
      ]
     },
     "metadata": {},
     "output_type": "display_data"
    },
    {
     "name": "stdout",
     "output_type": "stream",
     "text": [
      "-----\n",
      "function\n"
     ]
    },
    {
     "data": {
      "text/latex": [
       "$\\displaystyle \\mathrm{CL}_\\mathbb{Q} (\\mathcal{X})$"
      ],
      "text/plain": [
       "<IPython.core.display.Math object>"
      ]
     },
     "metadata": {},
     "output_type": "display_data"
    },
    {
     "name": "stdout",
     "output_type": "stream",
     "text": [
      "-----\n",
      "function\n"
     ]
    },
    {
     "data": {
      "text/latex": [
       "$\\displaystyle \\Grad (\\mathcal{X})$"
      ],
      "text/plain": [
       "<IPython.core.display.Math object>"
      ]
     },
     "metadata": {},
     "output_type": "display_data"
    },
    {
     "name": "stdout",
     "output_type": "stream",
     "text": [
      "-----\n",
      "Variable\n"
     ]
    },
    {
     "data": {
      "text/latex": [
       "$\\displaystyle \\mathcal{X}$"
      ],
      "text/plain": [
       "<IPython.core.display.Math object>"
      ]
     },
     "metadata": {},
     "output_type": "display_data"
    },
    {
     "name": "stdout",
     "output_type": "stream",
     "text": [
      "-----\n",
      "Function\n"
     ]
    },
    {
     "data": {
      "text/latex": [
       "$\\displaystyle \\Filt (\\mathcal{X})$"
      ],
      "text/plain": [
       "<IPython.core.display.Math object>"
      ]
     },
     "metadata": {},
     "output_type": "display_data"
    },
    {
     "name": "stdout",
     "output_type": "stream",
     "text": [
      "-----\n",
      "Variable\n"
     ]
    },
    {
     "data": {
      "text/latex": [
       "$\\displaystyle R$"
      ],
      "text/plain": [
       "<IPython.core.display.Math object>"
      ]
     },
     "metadata": {},
     "output_type": "display_data"
    },
    {
     "name": "stdout",
     "output_type": "stream",
     "text": [
      "-----\n",
      "Subscript\n"
     ]
    },
    {
     "data": {
      "text/latex": [
       "$\\displaystyle \\Phi_{V / G}$"
      ],
      "text/plain": [
       "<IPython.core.display.Math object>"
      ]
     },
     "metadata": {},
     "output_type": "display_data"
    },
    {
     "name": "stdout",
     "output_type": "stream",
     "text": [
      "-----\n",
      "Symbol\n"
     ]
    },
    {
     "data": {
      "text/latex": [
       "$\\displaystyle \\mathcal{A}$"
      ],
      "text/plain": [
       "<IPython.core.display.Math object>"
      ]
     },
     "metadata": {},
     "output_type": "display_data"
    },
    {
     "name": "stdout",
     "output_type": "stream",
     "text": [
      "-----\n",
      "function\n"
     ]
    },
    {
     "data": {
      "text/latex": [
       "$\\displaystyle \\Grad (\\mathcal{X})$"
      ],
      "text/plain": [
       "<IPython.core.display.Math object>"
      ]
     },
     "metadata": {},
     "output_type": "display_data"
    },
    {
     "name": "stdout",
     "output_type": "stream",
     "text": [
      "-----\n",
      "variable\n"
     ]
    },
    {
     "data": {
      "text/latex": [
       "$\\displaystyle V$"
      ],
      "text/plain": [
       "<IPython.core.display.Math object>"
      ]
     },
     "metadata": {},
     "output_type": "display_data"
    },
    {
     "name": "stdout",
     "output_type": "stream",
     "text": [
      "-----\n",
      "Variable\n"
     ]
    },
    {
     "data": {
      "text/latex": [
       "$\\displaystyle G$"
      ],
      "text/plain": [
       "<IPython.core.display.Math object>"
      ]
     },
     "metadata": {},
     "output_type": "display_data"
    },
    {
     "name": "stdout",
     "output_type": "stream",
     "text": [
      "-----\n",
      "Function\n"
     ]
    },
    {
     "data": {
      "text/latex": [
       "$\\displaystyle \\[\n",
       "        X \\colon \\mathsf{Lat} (R)^\\mathrm{op} \\longrightarrow \\mathsf{Set} \\ .\n",
       "    \\]$"
      ],
      "text/plain": [
       "<IPython.core.display.Math object>"
      ]
     },
     "metadata": {},
     "output_type": "display_data"
    },
    {
     "name": "stdout",
     "output_type": "stream",
     "text": [
      "-----\n",
      "set\n"
     ]
    },
    {
     "data": {
      "text/latex": [
       "$\\displaystyle \\lambda \\in |\\mathrm{CL} (\\mathcal{X})|$"
      ],
      "text/plain": [
       "<IPython.core.display.Math object>"
      ]
     },
     "metadata": {},
     "output_type": "display_data"
    },
    {
     "name": "stdout",
     "output_type": "stream",
     "text": [
      "-----\n",
      "set\n"
     ]
    },
    {
     "data": {
      "text/latex": [
       "$\\displaystyle \\mathbb{Z}$"
      ],
      "text/plain": [
       "<IPython.core.display.Math object>"
      ]
     },
     "metadata": {},
     "output_type": "display_data"
    },
    {
     "name": "stdout",
     "output_type": "stream",
     "text": [
      "-----\n",
      "list\n"
     ]
    },
    {
     "data": {
      "text/latex": [
       "$\\displaystyle [S]$"
      ],
      "text/plain": [
       "<IPython.core.display.Math object>"
      ]
     },
     "metadata": {},
     "output_type": "display_data"
    },
    {
     "name": "stdout",
     "output_type": "stream",
     "text": [
      "-----\n",
      "number\n"
     ]
    },
    {
     "data": {
      "text/latex": [
       "$\\displaystyle 3$"
      ],
      "text/plain": [
       "<IPython.core.display.Math object>"
      ]
     },
     "metadata": {},
     "output_type": "display_data"
    },
    {
     "name": "stdout",
     "output_type": "stream",
     "text": [
      "-----\n",
      "variable\n"
     ]
    },
    {
     "data": {
      "text/latex": [
       "$\\displaystyle M$"
      ],
      "text/plain": [
       "<IPython.core.display.Math object>"
      ]
     },
     "metadata": {},
     "output_type": "display_data"
    },
    {
     "name": "stdout",
     "output_type": "stream",
     "text": [
      "-----\n",
      "relation\n"
     ]
    },
    {
     "data": {
      "text/latex": [
       "$\\displaystyle S' \\in [S]$"
      ],
      "text/plain": [
       "<IPython.core.display.Math object>"
      ]
     },
     "metadata": {},
     "output_type": "display_data"
    },
    {
     "name": "stdout",
     "output_type": "stream",
     "text": [
      "-----\n",
      "variable\n"
     ]
    },
    {
     "data": {
      "text/latex": [
       "$\\displaystyle M$"
      ],
      "text/plain": [
       "<IPython.core.display.Math object>"
      ]
     },
     "metadata": {},
     "output_type": "display_data"
    },
    {
     "name": "stdout",
     "output_type": "stream",
     "text": [
      "-----\n",
      "Subtraction\n"
     ]
    },
    {
     "data": {
      "text/latex": [
       "$\\displaystyle M-S'$"
      ],
      "text/plain": [
       "<IPython.core.display.Math object>"
      ]
     },
     "metadata": {},
     "output_type": "display_data"
    },
    {
     "name": "stdout",
     "output_type": "stream",
     "text": [
      "-----\n",
      "Variable\n"
     ]
    },
    {
     "data": {
      "text/latex": [
       "$\\displaystyle \\tm$"
      ],
      "text/plain": [
       "<IPython.core.display.Math object>"
      ]
     },
     "metadata": {},
     "output_type": "display_data"
    },
    {
     "name": "stdout",
     "output_type": "stream",
     "text": [
      "-----\n",
      "Variable\n"
     ]
    },
    {
     "data": {
      "text/latex": [
       "$\\displaystyle M$"
      ],
      "text/plain": [
       "<IPython.core.display.Math object>"
      ]
     },
     "metadata": {},
     "output_type": "display_data"
    },
    {
     "name": "stdout",
     "output_type": "stream",
     "text": [
      "-----\n",
      "Variable\n"
     ]
    },
    {
     "data": {
      "text/latex": [
       "$\\displaystyle S$"
      ],
      "text/plain": [
       "<IPython.core.display.Math object>"
      ]
     },
     "metadata": {},
     "output_type": "display_data"
    },
    {
     "name": "stdout",
     "output_type": "stream",
     "text": [
      "-----\n",
      "number\n"
     ]
    },
    {
     "data": {
      "text/latex": [
       "$\\displaystyle 3$"
      ],
      "text/plain": [
       "<IPython.core.display.Math object>"
      ]
     },
     "metadata": {},
     "output_type": "display_data"
    },
    {
     "name": "stdout",
     "output_type": "stream",
     "text": [
      "-----\n",
      "parenthesis\n"
     ]
    },
    {
     "data": {
      "text/latex": [
       "$\\displaystyle (1+\\epsilon)$"
      ],
      "text/plain": [
       "<IPython.core.display.Math object>"
      ]
     },
     "metadata": {},
     "output_type": "display_data"
    },
    {
     "name": "stdout",
     "output_type": "stream",
     "text": [
      "-----\n",
      "relation\n"
     ]
    },
    {
     "data": {
      "text/latex": [
       "$\\displaystyle \\partial\\ts \\subset \\partial \\tm$"
      ],
      "text/plain": [
       "<IPython.core.display.Math object>"
      ]
     },
     "metadata": {},
     "output_type": "display_data"
    },
    {
     "name": "stdout",
     "output_type": "stream",
     "text": [
      "-----\n",
      "function\n"
     ]
    },
    {
     "data": {
      "text/latex": [
       "$\\displaystyle \\isom(\\hs)$"
      ],
      "text/plain": [
       "<IPython.core.display.Math object>"
      ]
     },
     "metadata": {},
     "output_type": "display_data"
    },
    {
     "name": "stdout",
     "output_type": "stream",
     "text": [
      "-----\n",
      "number\n"
     ]
    },
    {
     "data": {
      "text/latex": [
       "$\\displaystyle 3$"
      ],
      "text/plain": [
       "<IPython.core.display.Math object>"
      ]
     },
     "metadata": {},
     "output_type": "display_data"
    },
    {
     "name": "stdout",
     "output_type": "stream",
     "text": [
      "-----\n",
      "parenthesis\n"
     ]
    },
    {
     "data": {
      "text/latex": [
       "$\\displaystyle (1+\\epsilon)$"
      ],
      "text/plain": [
       "<IPython.core.display.Math object>"
      ]
     },
     "metadata": {},
     "output_type": "display_data"
    },
    {
     "name": "stdout",
     "output_type": "stream",
     "text": [
      "-----\n",
      "Variable\n"
     ]
    },
    {
     "data": {
      "text/latex": [
       "$\\displaystyle D$"
      ],
      "text/plain": [
       "<IPython.core.display.Math object>"
      ]
     },
     "metadata": {},
     "output_type": "display_data"
    },
    {
     "name": "stdout",
     "output_type": "stream",
     "text": [
      "-----\n",
      "parentheses\n"
     ]
    },
    {
     "data": {
      "text/latex": [
       "$\\displaystyle (1+\\epsilon')$"
      ],
      "text/plain": [
       "<IPython.core.display.Math object>"
      ]
     },
     "metadata": {},
     "output_type": "display_data"
    },
    {
     "name": "stdout",
     "output_type": "stream",
     "text": [
      "-----\n",
      "list\n"
     ]
    },
    {
     "data": {
      "text/latex": [
       "$\\displaystyle [\\gamma_1], [\\gamma_2]$"
      ],
      "text/plain": [
       "<IPython.core.display.Math object>"
      ]
     },
     "metadata": {},
     "output_type": "display_data"
    },
    {
     "name": "stdout",
     "output_type": "stream",
     "text": [
      "-----\n",
      "inequality\n"
     ]
    },
    {
     "data": {
      "text/latex": [
       "$\\displaystyle \\epsilon'<\\epsilon$"
      ],
      "text/plain": [
       "<IPython.core.display.Math object>"
      ]
     },
     "metadata": {},
     "output_type": "display_data"
    },
    {
     "name": "stdout",
     "output_type": "stream",
     "text": [
      "-----\n",
      "Variable\n"
     ]
    },
    {
     "data": {
      "text/latex": [
       "$\\displaystyle S$"
      ],
      "text/plain": [
       "<IPython.core.display.Math object>"
      ]
     },
     "metadata": {},
     "output_type": "display_data"
    },
    {
     "name": "stdout",
     "output_type": "stream",
     "text": [
      "-----\n",
      "Variable\n"
     ]
    },
    {
     "data": {
      "text/latex": [
       "$\\displaystyle M$"
      ],
      "text/plain": [
       "<IPython.core.display.Math object>"
      ]
     },
     "metadata": {},
     "output_type": "display_data"
    },
    {
     "name": "stdout",
     "output_type": "stream",
     "text": [
      "-----\n",
      "binary\n"
     ]
    },
    {
     "data": {
      "text/latex": [
       "$\\displaystyle M-S$"
      ],
      "text/plain": [
       "<IPython.core.display.Math object>"
      ]
     },
     "metadata": {},
     "output_type": "display_data"
    },
    {
     "name": "stdout",
     "output_type": "stream",
     "text": [
      "-----\n",
      "Variable\n"
     ]
    },
    {
     "data": {
      "text/latex": [
       "$\\displaystyle M$"
      ],
      "text/plain": [
       "<IPython.core.display.Math object>"
      ]
     },
     "metadata": {},
     "output_type": "display_data"
    },
    {
     "name": "stdout",
     "output_type": "stream",
     "text": [
      "-----\n",
      "intersection\n"
     ]
    },
    {
     "data": {
      "text/latex": [
       "$\\displaystyle \\gamma_1' \\cap \\gamma_2'$"
      ],
      "text/plain": [
       "<IPython.core.display.Math object>"
      ]
     },
     "metadata": {},
     "output_type": "display_data"
    },
    {
     "name": "stdout",
     "output_type": "stream",
     "text": [
      "-----\n",
      "Equation\n"
     ]
    },
    {
     "data": {
      "text/latex": [
       "$\\displaystyle \\T^2=\\R^2/\\Z^2$"
      ],
      "text/plain": [
       "<IPython.core.display.Math object>"
      ]
     },
     "metadata": {},
     "output_type": "display_data"
    },
    {
     "name": "stdout",
     "output_type": "stream",
     "text": [
      "-----\n",
      "Equation\n"
     ]
    },
    {
     "data": {
      "text/latex": [
       "$\\displaystyle \\Gamma=\\pi_1(M)$"
      ],
      "text/plain": [
       "<IPython.core.display.Math object>"
      ]
     },
     "metadata": {},
     "output_type": "display_data"
    },
    {
     "name": "stdout",
     "output_type": "stream",
     "text": [
      "-----\n",
      "relation\n"
     ]
    },
    {
     "data": {
      "text/latex": [
       "$\\displaystyle \\gamma_1' \\in [\\gamma_1]$"
      ],
      "text/plain": [
       "<IPython.core.display.Math object>"
      ]
     },
     "metadata": {},
     "output_type": "display_data"
    },
    {
     "name": "stdout",
     "output_type": "stream",
     "text": [
      "-----\n",
      "Variable\n"
     ]
    },
    {
     "data": {
      "text/latex": [
       "$\\displaystyle M$"
      ],
      "text/plain": [
       "<IPython.core.display.Math object>"
      ]
     },
     "metadata": {},
     "output_type": "display_data"
    },
    {
     "name": "stdout",
     "output_type": "stream",
     "text": [
      "-----\n",
      "relation\n"
     ]
    },
    {
     "data": {
      "text/latex": [
       "$\\displaystyle  \\gamma_2'\\in [\\gamma_2]$"
      ],
      "text/plain": [
       "<IPython.core.display.Math object>"
      ]
     },
     "metadata": {},
     "output_type": "display_data"
    },
    {
     "name": "stdout",
     "output_type": "stream",
     "text": [
      "-----\n",
      "constant\n"
     ]
    },
    {
     "data": {
      "text/latex": [
       "$\\displaystyle 3$"
      ],
      "text/plain": [
       "<IPython.core.display.Math object>"
      ]
     },
     "metadata": {},
     "output_type": "display_data"
    },
    {
     "name": "stdout",
     "output_type": "stream",
     "text": [
      "-----\n",
      "Set\n"
     ]
    },
    {
     "data": {
      "text/latex": [
       "$\\displaystyle \\{g\\in \\Gamma : \\bar{D} \\cap g\\bar{D} \\neq \\emptyset\\}.$"
      ],
      "text/plain": [
       "<IPython.core.display.Math object>"
      ]
     },
     "metadata": {},
     "output_type": "display_data"
    },
    {
     "name": "stdout",
     "output_type": "stream",
     "text": [
      "-----\n",
      "variable\n"
     ]
    },
    {
     "data": {
      "text/latex": [
       "$\\displaystyle M$"
      ],
      "text/plain": [
       "<IPython.core.display.Math object>"
      ]
     },
     "metadata": {},
     "output_type": "display_data"
    },
    {
     "name": "stdout",
     "output_type": "stream",
     "text": [
      "-----\n",
      "Sequence\n"
     ]
    },
    {
     "data": {
      "text/latex": [
       "$\\displaystyle (x_n)_{n\\in\\mathbb{N}}$"
      ],
      "text/plain": [
       "<IPython.core.display.Math object>"
      ]
     },
     "metadata": {},
     "output_type": "display_data"
    },
    {
     "name": "stdout",
     "output_type": "stream",
     "text": [
      "-----\n",
      "Set\n"
     ]
    },
    {
     "data": {
      "text/latex": [
       "$\\displaystyle \\mathbb{R}^d$"
      ],
      "text/plain": [
       "<IPython.core.display.Math object>"
      ]
     },
     "metadata": {},
     "output_type": "display_data"
    },
    {
     "name": "stdout",
     "output_type": "stream",
     "text": [
      "-----\n",
      "Sequence\n"
     ]
    },
    {
     "data": {
      "text/latex": [
       "$\\displaystyle (x_n)_{n\\in\\mathbb{N}}$"
      ],
      "text/plain": [
       "<IPython.core.display.Math object>"
      ]
     },
     "metadata": {},
     "output_type": "display_data"
    },
    {
     "name": "stdout",
     "output_type": "stream",
     "text": [
      "-----\n",
      "function\n"
     ]
    },
    {
     "data": {
      "text/latex": [
       "$\\displaystyle \\psi:\\mathbb{N}\\to \\mathbb{R}_+$"
      ],
      "text/plain": [
       "<IPython.core.display.Math object>"
      ]
     },
     "metadata": {},
     "output_type": "display_data"
    },
    {
     "name": "stdout",
     "output_type": "stream",
     "text": [
      "-----\n",
      "Function\n"
     ]
    },
    {
     "data": {
      "text/latex": [
       "$\\displaystyle \\dim_H$"
      ],
      "text/plain": [
       "<IPython.core.display.Math object>"
      ]
     },
     "metadata": {},
     "output_type": "display_data"
    },
    {
     "name": "stdout",
     "output_type": "stream",
     "text": [
      "-----\n",
      "Set\n"
     ]
    },
    {
     "data": {
      "text/latex": [
       "$\\displaystyle E_{\\psi}=\\left\\{x\\in[0,1] \\  : \\ \\vert x-\\frac{p}{q}\\vert\\leq \\psi(q)\\text{ i.o. }0\\leq p\\leq q,  \\ q\\wedge p=1\\right\\}.$"
      ],
      "text/plain": [
       "<IPython.core.display.Math object>"
      ]
     },
     "metadata": {},
     "output_type": "display_data"
    },
    {
     "name": "stdout",
     "output_type": "stream",
     "text": [
      "-----\n",
      "Function\n"
     ]
    },
    {
     "data": {
      "text/latex": [
       "$\\displaystyle \\dim_H E_{\\psi}$"
      ],
      "text/plain": [
       "<IPython.core.display.Math object>"
      ]
     },
     "metadata": {},
     "output_type": "display_data"
    },
    {
     "name": "stdout",
     "output_type": "stream",
     "text": [
      "-----\n",
      "variable\n"
     ]
    },
    {
     "data": {
      "text/latex": [
       "$\\displaystyle \\psi$"
      ],
      "text/plain": [
       "<IPython.core.display.Math object>"
      ]
     },
     "metadata": {},
     "output_type": "display_data"
    },
    {
     "name": "stdout",
     "output_type": "stream",
     "text": [
      "-----\n",
      "function\n"
     ]
    },
    {
     "data": {
      "text/latex": [
       "$\\displaystyle \\psi:\\mathbb{N}\\to \\mathbb{R}_+,$"
      ],
      "text/plain": [
       "<IPython.core.display.Math object>"
      ]
     },
     "metadata": {},
     "output_type": "display_data"
    },
    {
     "name": "stdout",
     "output_type": "stream",
     "text": [
      "-----\n",
      "Equation\n"
     ]
    },
    {
     "data": {
      "text/latex": [
       "$\\displaystyle \\dim_H E_{\\psi}=\\min\\left\\{1,s_{\\psi}\\right\\}, $"
      ],
      "text/plain": [
       "<IPython.core.display.Math object>"
      ]
     },
     "metadata": {},
     "output_type": "display_data"
    },
    {
     "name": "stdout",
     "output_type": "stream",
     "text": [
      "-----\n",
      "Inequality\n"
     ]
    },
    {
     "data": {
      "text/latex": [
       "$\\displaystyle s_{\\psi}=\\inf\\left\\{s:  \\ \\sum_{n\\geq 1}\\phi(q)\\psi(q)^s <+\\infty\\right\\}$"
      ],
      "text/plain": [
       "<IPython.core.display.Math object>"
      ]
     },
     "metadata": {},
     "output_type": "display_data"
    },
    {
     "name": "stdout",
     "output_type": "stream",
     "text": [
      "-----\n",
      "Variable\n"
     ]
    },
    {
     "data": {
      "text/latex": [
       "$\\displaystyle \\phi$"
      ],
      "text/plain": [
       "<IPython.core.display.Math object>"
      ]
     },
     "metadata": {},
     "output_type": "display_data"
    },
    {
     "name": "stdout",
     "output_type": "stream",
     "text": [
      "-----\n",
      "variable\n"
     ]
    },
    {
     "data": {
      "text/latex": [
       "$\\displaystyle x$"
      ],
      "text/plain": [
       "<IPython.core.display.Math object>"
      ]
     },
     "metadata": {},
     "output_type": "display_data"
    },
    {
     "name": "stdout",
     "output_type": "stream",
     "text": [
      "-----\n",
      "variable\n"
     ]
    },
    {
     "data": {
      "text/latex": [
       "$\\displaystyle x$"
      ],
      "text/plain": [
       "<IPython.core.display.Math object>"
      ]
     },
     "metadata": {},
     "output_type": "display_data"
    },
    {
     "name": "stdout",
     "output_type": "stream",
     "text": [
      "-----\n",
      "Sequence\n"
     ]
    },
    {
     "data": {
      "text/latex": [
       "$\\displaystyle (x_n)_{n\\in\\mathbb{N}}$"
      ],
      "text/plain": [
       "<IPython.core.display.Math object>"
      ]
     },
     "metadata": {},
     "output_type": "display_data"
    },
    {
     "name": "stdout",
     "output_type": "stream",
     "text": [
      "-----\n",
      "variable\n"
     ]
    },
    {
     "data": {
      "text/latex": [
       "$\\displaystyle f$"
      ],
      "text/plain": [
       "<IPython.core.display.Math object>"
      ]
     },
     "metadata": {},
     "output_type": "display_data"
    },
    {
     "name": "stdout",
     "output_type": "stream",
     "text": [
      "-----\n",
      "function\n"
     ]
    },
    {
     "data": {
      "text/latex": [
       "$\\displaystyle T:X\\to X$"
      ],
      "text/plain": [
       "<IPython.core.display.Math object>"
      ]
     },
     "metadata": {},
     "output_type": "display_data"
    },
    {
     "name": "stdout",
     "output_type": "stream",
     "text": [
      "-----\n",
      "Sequence\n"
     ]
    },
    {
     "data": {
      "text/latex": [
       "$\\displaystyle (T^n(x))_{n\\in\\mathbb{N}}$"
      ],
      "text/plain": [
       "<IPython.core.display.Math object>"
      ]
     },
     "metadata": {},
     "output_type": "display_data"
    },
    {
     "name": "stdout",
     "output_type": "stream",
     "text": [
      "-----\n",
      "Function\n"
     ]
    },
    {
     "data": {
      "text/latex": [
       "$\\displaystyle T:\\mathbb{T}^1\\to \\mathbb{T}^1$"
      ],
      "text/plain": [
       "<IPython.core.display.Math object>"
      ]
     },
     "metadata": {},
     "output_type": "display_data"
    },
    {
     "name": "stdout",
     "output_type": "stream",
     "text": [
      "-----\n",
      "Variable\n"
     ]
    },
    {
     "data": {
      "text/latex": [
       "$\\displaystyle \\mu$"
      ],
      "text/plain": [
       "<IPython.core.display.Math object>"
      ]
     },
     "metadata": {},
     "output_type": "display_data"
    },
    {
     "name": "stdout",
     "output_type": "stream",
     "text": [
      "-----\n",
      "Variable\n"
     ]
    },
    {
     "data": {
      "text/latex": [
       "$\\displaystyle \\mu$"
      ],
      "text/plain": [
       "<IPython.core.display.Math object>"
      ]
     },
     "metadata": {},
     "output_type": "display_data"
    },
    {
     "name": "stdout",
     "output_type": "stream",
     "text": [
      "-----\n",
      "variable\n"
     ]
    },
    {
     "data": {
      "text/latex": [
       "$\\displaystyle x$"
      ],
      "text/plain": [
       "<IPython.core.display.Math object>"
      ]
     },
     "metadata": {},
     "output_type": "display_data"
    },
    {
     "name": "stdout",
     "output_type": "stream",
     "text": [
      "-----\n",
      "Function\n"
     ]
    },
    {
     "data": {
      "text/latex": [
       "$\\displaystyle T: [0,\\infty) \\to \\bbR^{d \\times d}$"
      ],
      "text/plain": [
       "<IPython.core.display.Math object>"
      ]
     },
     "metadata": {},
     "output_type": "display_data"
    },
    {
     "name": "stdout",
     "output_type": "stream",
     "text": [
      "-----\n",
      "variable\n"
     ]
    },
    {
     "data": {
      "text/latex": [
       "$\\displaystyle T$"
      ],
      "text/plain": [
       "<IPython.core.display.Math object>"
      ]
     },
     "metadata": {},
     "output_type": "display_data"
    },
    {
     "name": "stdout",
     "output_type": "stream",
     "text": [
      "-----\n",
      "constant\n"
     ]
    },
    {
     "data": {
      "text/latex": [
       "$\\displaystyle 0$"
      ],
      "text/plain": [
       "<IPython.core.display.Math object>"
      ]
     },
     "metadata": {},
     "output_type": "display_data"
    },
    {
     "name": "stdout",
     "output_type": "stream",
     "text": [
      "-----\n",
      "inequality\n"
     ]
    },
    {
     "data": {
      "text/latex": [
       "$\\displaystyle T(t) \\ge 0$"
      ],
      "text/plain": [
       "<IPython.core.display.Math object>"
      ]
     },
     "metadata": {},
     "output_type": "display_data"
    },
    {
     "name": "stdout",
     "output_type": "stream",
     "text": [
      "-----\n",
      "variable\n"
     ]
    },
    {
     "data": {
      "text/latex": [
       "$\\displaystyle t$"
      ],
      "text/plain": [
       "<IPython.core.display.Math object>"
      ]
     },
     "metadata": {},
     "output_type": "display_data"
    },
    {
     "name": "stdout",
     "output_type": "stream",
     "text": [
      "-----\n",
      "variable\n"
     ]
    },
    {
     "data": {
      "text/latex": [
       "$\\displaystyle T$"
      ],
      "text/plain": [
       "<IPython.core.display.Math object>"
      ]
     },
     "metadata": {},
     "output_type": "display_data"
    },
    {
     "name": "stdout",
     "output_type": "stream",
     "text": [
      "-----\n",
      "Function\n"
     ]
    },
    {
     "data": {
      "text/latex": [
       "$\\displaystyle h\\mapsto D_{\\mu}(h)$"
      ],
      "text/plain": [
       "<IPython.core.display.Math object>"
      ]
     },
     "metadata": {},
     "output_type": "display_data"
    },
    {
     "name": "stdout",
     "output_type": "stream",
     "text": [
      "-----\n",
      "Variable\n"
     ]
    },
    {
     "data": {
      "text/latex": [
       "$\\displaystyle h_0$"
      ],
      "text/plain": [
       "<IPython.core.display.Math object>"
      ]
     },
     "metadata": {},
     "output_type": "display_data"
    },
    {
     "name": "stdout",
     "output_type": "stream",
     "text": [
      "-----\n",
      "Equation\n"
     ]
    },
    {
     "data": {
      "text/latex": [
       "$\\displaystyle D_{\\mu}(h_0)=1.$"
      ],
      "text/plain": [
       "<IPython.core.display.Math object>"
      ]
     },
     "metadata": {},
     "output_type": "display_data"
    },
    {
     "name": "stdout",
     "output_type": "stream",
     "text": [
      "-----\n",
      "Variable\n"
     ]
    },
    {
     "data": {
      "text/latex": [
       "$\\displaystyle T$"
      ],
      "text/plain": [
       "<IPython.core.display.Math object>"
      ]
     },
     "metadata": {},
     "output_type": "display_data"
    },
    {
     "name": "stdout",
     "output_type": "stream",
     "text": [
      "-----\n",
      "tuple\n"
     ]
    },
    {
     "data": {
      "text/latex": [
       "$\\displaystyle (W, R)$"
      ],
      "text/plain": [
       "<IPython.core.display.Math object>"
      ]
     },
     "metadata": {},
     "output_type": "display_data"
    },
    {
     "name": "stdout",
     "output_type": "stream",
     "text": [
      "-----\n",
      "set\n"
     ]
    },
    {
     "data": {
      "text/latex": [
       "$\\displaystyle w \\in W$"
      ],
      "text/plain": [
       "<IPython.core.display.Math object>"
      ]
     },
     "metadata": {},
     "output_type": "display_data"
    },
    {
     "name": "stdout",
     "output_type": "stream",
     "text": [
      "-----\n",
      "variable\n"
     ]
    },
    {
     "data": {
      "text/latex": [
       "$\\displaystyle u$"
      ],
      "text/plain": [
       "<IPython.core.display.Math object>"
      ]
     },
     "metadata": {},
     "output_type": "display_data"
    },
    {
     "name": "stdout",
     "output_type": "stream",
     "text": [
      "-----\n",
      "variable\n"
     ]
    },
    {
     "data": {
      "text/latex": [
       "$\\displaystyle w$"
      ],
      "text/plain": [
       "<IPython.core.display.Math object>"
      ]
     },
     "metadata": {},
     "output_type": "display_data"
    },
    {
     "name": "stdout",
     "output_type": "stream",
     "text": [
      "-----\n",
      "variable\n"
     ]
    },
    {
     "data": {
      "text/latex": [
       "$\\displaystyle u$"
      ],
      "text/plain": [
       "<IPython.core.display.Math object>"
      ]
     },
     "metadata": {},
     "output_type": "display_data"
    },
    {
     "name": "stdout",
     "output_type": "stream",
     "text": [
      "-----\n",
      "variable\n"
     ]
    },
    {
     "data": {
      "text/latex": [
       "$\\displaystyle w$"
      ],
      "text/plain": [
       "<IPython.core.display.Math object>"
      ]
     },
     "metadata": {},
     "output_type": "display_data"
    },
    {
     "name": "stdout",
     "output_type": "stream",
     "text": [
      "-----\n",
      "Product\n"
     ]
    },
    {
     "data": {
      "text/latex": [
       "$\\displaystyle w = uv$"
      ],
      "text/plain": [
       "<IPython.core.display.Math object>"
      ]
     },
     "metadata": {},
     "output_type": "display_data"
    },
    {
     "name": "stdout",
     "output_type": "stream",
     "text": [
      "-----\n",
      "variable\n"
     ]
    },
    {
     "data": {
      "text/latex": [
       "$\\displaystyle v$"
      ],
      "text/plain": [
       "<IPython.core.display.Math object>"
      ]
     },
     "metadata": {},
     "output_type": "display_data"
    },
    {
     "name": "stdout",
     "output_type": "stream",
     "text": [
      "-----\n",
      "variable\n"
     ]
    },
    {
     "data": {
      "text/latex": [
       "$\\displaystyle W$"
      ],
      "text/plain": [
       "<IPython.core.display.Math object>"
      ]
     },
     "metadata": {},
     "output_type": "display_data"
    },
    {
     "name": "stdout",
     "output_type": "stream",
     "text": [
      "-----\n",
      "Equation\n"
     ]
    },
    {
     "data": {
      "text/latex": [
       "$\\displaystyle \\ell(w) = \\ell(u) + \\ell(v)$"
      ],
      "text/plain": [
       "<IPython.core.display.Math object>"
      ]
     },
     "metadata": {},
     "output_type": "display_data"
    },
    {
     "name": "stdout",
     "output_type": "stream",
     "text": [
      "-----\n",
      "variable\n"
     ]
    },
    {
     "data": {
      "text/latex": [
       "$\\displaystyle w$"
      ],
      "text/plain": [
       "<IPython.core.display.Math object>"
      ]
     },
     "metadata": {},
     "output_type": "display_data"
    },
    {
     "name": "stdout",
     "output_type": "stream",
     "text": [
      "-----\n",
      "variable\n"
     ]
    },
    {
     "data": {
      "text/latex": [
       "$\\displaystyle w$"
      ],
      "text/plain": [
       "<IPython.core.display.Math object>"
      ]
     },
     "metadata": {},
     "output_type": "display_data"
    },
    {
     "name": "stdout",
     "output_type": "stream",
     "text": [
      "-----\n",
      "variable\n"
     ]
    },
    {
     "data": {
      "text/latex": [
       "$\\displaystyle W$"
      ],
      "text/plain": [
       "<IPython.core.display.Math object>"
      ]
     },
     "metadata": {},
     "output_type": "display_data"
    },
    {
     "name": "stdout",
     "output_type": "stream",
     "text": [
      "-----\n",
      "Lie_algebra\n"
     ]
    },
    {
     "data": {
      "text/latex": [
       "$\\displaystyle \\mathfrak{sl}_3(\\mathbb{R})$"
      ],
      "text/plain": [
       "<IPython.core.display.Math object>"
      ]
     },
     "metadata": {},
     "output_type": "display_data"
    },
    {
     "name": "stdout",
     "output_type": "stream",
     "text": [
      "-----\n",
      "variable\n"
     ]
    },
    {
     "data": {
      "text/latex": [
       "$\\displaystyle R$"
      ],
      "text/plain": [
       "<IPython.core.display.Math object>"
      ]
     },
     "metadata": {},
     "output_type": "display_data"
    },
    {
     "name": "stdout",
     "output_type": "stream",
     "text": [
      "-----\n",
      "Lie_algebra\n"
     ]
    },
    {
     "data": {
      "text/latex": [
       "$\\displaystyle \\mathfrak{sl}_3(\\mathbb{R})$"
      ],
      "text/plain": [
       "<IPython.core.display.Math object>"
      ]
     },
     "metadata": {},
     "output_type": "display_data"
    },
    {
     "name": "stdout",
     "output_type": "stream",
     "text": [
      "-----\n",
      "exponentiation\n"
     ]
    },
    {
     "data": {
      "text/latex": [
       "$\\displaystyle ^{1,2}$"
      ],
      "text/plain": [
       "<IPython.core.display.Math object>"
      ]
     },
     "metadata": {},
     "output_type": "display_data"
    },
    {
     "name": "stdout",
     "output_type": "stream",
     "text": [
      "-----\n",
      "Exponentiation\n"
     ]
    },
    {
     "data": {
      "text/latex": [
       "$\\displaystyle ^1$"
      ],
      "text/plain": [
       "<IPython.core.display.Math object>"
      ]
     },
     "metadata": {},
     "output_type": "display_data"
    },
    {
     "name": "stdout",
     "output_type": "stream",
     "text": [
      "-----\n",
      "Exponentiation\n"
     ]
    },
    {
     "data": {
      "text/latex": [
       "$\\displaystyle ^2$"
      ],
      "text/plain": [
       "<IPython.core.display.Math object>"
      ]
     },
     "metadata": {},
     "output_type": "display_data"
    },
    {
     "name": "stdout",
     "output_type": "stream",
     "text": [
      "-----\n",
      "variable\n"
     ]
    },
    {
     "data": {
      "text/latex": [
       "$\\displaystyle W$"
      ],
      "text/plain": [
       "<IPython.core.display.Math object>"
      ]
     },
     "metadata": {},
     "output_type": "display_data"
    },
    {
     "name": "stdout",
     "output_type": "stream",
     "text": [
      "-----\n",
      "Exponentiation\n"
     ]
    },
    {
     "data": {
      "text/latex": [
       "$\\displaystyle ^3$"
      ],
      "text/plain": [
       "<IPython.core.display.Math object>"
      ]
     },
     "metadata": {},
     "output_type": "display_data"
    },
    {
     "name": "stdout",
     "output_type": "stream",
     "text": [
      "-----\n",
      "Exponentiation\n"
     ]
    },
    {
     "data": {
      "text/latex": [
       "$\\displaystyle ^3$"
      ],
      "text/plain": [
       "<IPython.core.display.Math object>"
      ]
     },
     "metadata": {},
     "output_type": "display_data"
    },
    {
     "name": "stdout",
     "output_type": "stream",
     "text": [
      "-----\n",
      "variable\n"
     ]
    },
    {
     "data": {
      "text/latex": [
       "$\\displaystyle W$"
      ],
      "text/plain": [
       "<IPython.core.display.Math object>"
      ]
     },
     "metadata": {},
     "output_type": "display_data"
    },
    {
     "name": "stdout",
     "output_type": "stream",
     "text": [
      "-----\n",
      "variable\n"
     ]
    },
    {
     "data": {
      "text/latex": [
       "$\\displaystyle W$"
      ],
      "text/plain": [
       "<IPython.core.display.Math object>"
      ]
     },
     "metadata": {},
     "output_type": "display_data"
    },
    {
     "name": "stdout",
     "output_type": "stream",
     "text": [
      "-----\n",
      "tuple\n"
     ]
    },
    {
     "data": {
      "text/latex": [
       "$\\displaystyle (W, R)$"
      ],
      "text/plain": [
       "<IPython.core.display.Math object>"
      ]
     },
     "metadata": {},
     "output_type": "display_data"
    },
    {
     "name": "stdout",
     "output_type": "stream",
     "text": [
      "-----\n",
      "Lie_algebra\n"
     ]
    },
    {
     "data": {
      "text/latex": [
       "$\\displaystyle \\mathfrak{sl}_3(\\mathbb{R})$"
      ],
      "text/plain": [
       "<IPython.core.display.Math object>"
      ]
     },
     "metadata": {},
     "output_type": "display_data"
    },
    {
     "name": "stdout",
     "output_type": "stream",
     "text": [
      "-----\n",
      "variable\n"
     ]
    },
    {
     "data": {
      "text/latex": [
       "$\\displaystyle w$"
      ],
      "text/plain": [
       "<IPython.core.display.Math object>"
      ]
     },
     "metadata": {},
     "output_type": "display_data"
    },
    {
     "name": "stdout",
     "output_type": "stream",
     "text": [
      "-----\n",
      "variable\n"
     ]
    },
    {
     "data": {
      "text/latex": [
       "$\\displaystyle W$"
      ],
      "text/plain": [
       "<IPython.core.display.Math object>"
      ]
     },
     "metadata": {},
     "output_type": "display_data"
    },
    {
     "name": "stdout",
     "output_type": "stream",
     "text": [
      "-----\n",
      "Function\n"
     ]
    },
    {
     "data": {
      "text/latex": [
       "$\\displaystyle \\ell(w)$"
      ],
      "text/plain": [
       "<IPython.core.display.Math object>"
      ]
     },
     "metadata": {},
     "output_type": "display_data"
    },
    {
     "name": "stdout",
     "output_type": "stream",
     "text": [
      "-----\n",
      "variable\n"
     ]
    },
    {
     "data": {
      "text/latex": [
       "$\\displaystyle w$"
      ],
      "text/plain": [
       "<IPython.core.display.Math object>"
      ]
     },
     "metadata": {},
     "output_type": "display_data"
    },
    {
     "name": "stdout",
     "output_type": "stream",
     "text": [
      "-----\n",
      "Lie_algebra\n"
     ]
    },
    {
     "data": {
      "text/latex": [
       "$\\displaystyle \\mathfrak{sl}_3(\\mathbb{C})$"
      ],
      "text/plain": [
       "<IPython.core.display.Math object>"
      ]
     },
     "metadata": {},
     "output_type": "display_data"
    },
    {
     "name": "stdout",
     "output_type": "stream",
     "text": [
      "-----\n",
      "Lie_algebra\n"
     ]
    },
    {
     "data": {
      "text/latex": [
       "$\\displaystyle \\mathfrak{sl}_3(\\mathbb{R})$"
      ],
      "text/plain": [
       "<IPython.core.display.Math object>"
      ]
     },
     "metadata": {},
     "output_type": "display_data"
    },
    {
     "name": "stdout",
     "output_type": "stream",
     "text": [
      "-----\n",
      "Symbol\n"
     ]
    },
    {
     "data": {
      "text/latex": [
       "$\\displaystyle \\GL_n$"
      ],
      "text/plain": [
       "<IPython.core.display.Math object>"
      ]
     },
     "metadata": {},
     "output_type": "display_data"
    },
    {
     "name": "stdout",
     "output_type": "stream",
     "text": [
      "-----\n",
      "symbol\n"
     ]
    },
    {
     "data": {
      "text/latex": [
       "$\\displaystyle \\star$"
      ],
      "text/plain": [
       "<IPython.core.display.Math object>"
      ]
     },
     "metadata": {},
     "output_type": "display_data"
    },
    {
     "name": "stdout",
     "output_type": "stream",
     "text": [
      "-----\n",
      "Variable\n"
     ]
    },
    {
     "data": {
      "text/latex": [
       "$\\displaystyle F$"
      ],
      "text/plain": [
       "<IPython.core.display.Math object>"
      ]
     },
     "metadata": {},
     "output_type": "display_data"
    },
    {
     "name": "stdout",
     "output_type": "stream",
     "text": [
      "-----\n",
      "symbol\n"
     ]
    },
    {
     "data": {
      "text/latex": [
       "$\\displaystyle \\OO$"
      ],
      "text/plain": [
       "<IPython.core.display.Math object>"
      ]
     },
     "metadata": {},
     "output_type": "display_data"
    },
    {
     "name": "stdout",
     "output_type": "stream",
     "text": [
      "-----\n",
      "relation\n"
     ]
    },
    {
     "data": {
      "text/latex": [
       "$\\displaystyle \\mf{n} \\subset \\OO$"
      ],
      "text/plain": [
       "<IPython.core.display.Math object>"
      ]
     },
     "metadata": {},
     "output_type": "display_data"
    },
    {
     "name": "stdout",
     "output_type": "stream",
     "text": [
      "-----\n",
      "function\n"
     ]
    },
    {
     "data": {
      "text/latex": [
       "$\\displaystyle \\Gamma_0(\\mf{n})$"
      ],
      "text/plain": [
       "<IPython.core.display.Math object>"
      ]
     },
     "metadata": {},
     "output_type": "display_data"
    },
    {
     "name": "stdout",
     "output_type": "stream",
     "text": [
      "-----\n",
      "variable\n"
     ]
    },
    {
     "data": {
      "text/latex": [
       "$\\displaystyle \\mf{n}$"
      ],
      "text/plain": [
       "<IPython.core.display.Math object>"
      ]
     },
     "metadata": {},
     "output_type": "display_data"
    },
    {
     "name": "stdout",
     "output_type": "stream",
     "text": [
      "-----\n",
      "Variable\n"
     ]
    },
    {
     "data": {
      "text/latex": [
       "$\\displaystyle \\mf{n}$"
      ],
      "text/plain": [
       "<IPython.core.display.Math object>"
      ]
     },
     "metadata": {},
     "output_type": "display_data"
    },
    {
     "name": "stdout",
     "output_type": "stream",
     "text": [
      "-----\n",
      "Number\n"
     ]
    },
    {
     "data": {
      "text/latex": [
       "$\\displaystyle 2$"
      ],
      "text/plain": [
       "<IPython.core.display.Math object>"
      ]
     },
     "metadata": {},
     "output_type": "display_data"
    },
    {
     "name": "stdout",
     "output_type": "stream",
     "text": [
      "-----\n",
      "number\n"
     ]
    },
    {
     "data": {
      "text/latex": [
       "$\\displaystyle 6$"
      ],
      "text/plain": [
       "<IPython.core.display.Math object>"
      ]
     },
     "metadata": {},
     "output_type": "display_data"
    },
    {
     "name": "stdout",
     "output_type": "stream",
     "text": [
      "-----\n",
      "function\n"
     ]
    },
    {
     "data": {
      "text/latex": [
       "$\\displaystyle \\Gamma_0(\\mf{n})$"
      ],
      "text/plain": [
       "<IPython.core.display.Math object>"
      ]
     },
     "metadata": {},
     "output_type": "display_data"
    },
    {
     "name": "stdout",
     "output_type": "stream",
     "text": [
      "-----\n",
      "Variable\n"
     ]
    },
    {
     "data": {
      "text/latex": [
       "$\\displaystyle F$"
      ],
      "text/plain": [
       "<IPython.core.display.Math object>"
      ]
     },
     "metadata": {},
     "output_type": "display_data"
    },
    {
     "name": "stdout",
     "output_type": "stream",
     "text": [
      "-----\n",
      "number\n"
     ]
    },
    {
     "data": {
      "text/latex": [
       "$\\displaystyle 4$"
      ],
      "text/plain": [
       "<IPython.core.display.Math object>"
      ]
     },
     "metadata": {},
     "output_type": "display_data"
    },
    {
     "name": "stdout",
     "output_type": "stream",
     "text": [
      "-----\n",
      "field\n"
     ]
    },
    {
     "data": {
      "text/latex": [
       "$\\displaystyle F = \\QQ(\\sqrt{-17})$"
      ],
      "text/plain": [
       "<IPython.core.display.Math object>"
      ]
     },
     "metadata": {},
     "output_type": "display_data"
    },
    {
     "name": "stdout",
     "output_type": "stream",
     "text": [
      "-----\n",
      "number\n"
     ]
    },
    {
     "data": {
      "text/latex": [
       "$\\displaystyle 4$"
      ],
      "text/plain": [
       "<IPython.core.display.Math object>"
      ]
     },
     "metadata": {},
     "output_type": "display_data"
    },
    {
     "name": "stdout",
     "output_type": "stream",
     "text": [
      "-----\n",
      "field\n"
     ]
    },
    {
     "data": {
      "text/latex": [
       "$\\displaystyle F=\\QQ(\\sqrt{-d})$"
      ],
      "text/plain": [
       "<IPython.core.display.Math object>"
      ]
     },
     "metadata": {},
     "output_type": "display_data"
    },
    {
     "name": "stdout",
     "output_type": "stream",
     "text": [
      "-----\n",
      "sequence\n"
     ]
    },
    {
     "data": {
      "text/latex": [
       "$\\displaystyle d=1,2,3$"
      ],
      "text/plain": [
       "<IPython.core.display.Math object>"
      ]
     },
     "metadata": {},
     "output_type": "display_data"
    },
    {
     "name": "stdout",
     "output_type": "stream",
     "text": [
      "-----\n",
      "subscript\n"
     ]
    },
    {
     "data": {
      "text/latex": [
       "$\\displaystyle X_H$"
      ],
      "text/plain": [
       "<IPython.core.display.Math object>"
      ]
     },
     "metadata": {},
     "output_type": "display_data"
    },
    {
     "name": "stdout",
     "output_type": "stream",
     "text": [
      "-----\n",
      "Inequality\n"
     ]
    },
    {
     "data": {
      "text/latex": [
       "$\\displaystyle H \\leq \\GL_2(\\Z/N\\Z)$"
      ],
      "text/plain": [
       "<IPython.core.display.Math object>"
      ]
     },
     "metadata": {},
     "output_type": "display_data"
    },
    {
     "name": "stdout",
     "output_type": "stream",
     "text": [
      "-----\n",
      "Incomplete\n"
     ]
    },
    {
     "data": {
      "text/latex": [
       "$\\displaystyle \\tau \\in \\H$ be a CM point in the upper-half plane, and let $"
      ],
      "text/plain": [
       "<IPython.core.display.Math object>"
      ]
     },
     "metadata": {},
     "output_type": "display_data"
    },
    {
     "name": "stdout",
     "output_type": "stream",
     "text": [
      "-----\n",
      "Linear\n"
     ]
    },
    {
     "data": {
      "text/latex": [
       "$\\displaystyle  be a $"
      ],
      "text/plain": [
       "<IPython.core.display.Math object>"
      ]
     },
     "metadata": {},
     "output_type": "display_data"
    },
    {
     "name": "stdout",
     "output_type": "stream",
     "text": [
      "-----\n",
      "Text\n"
     ]
    },
    {
     "data": {
      "text/latex": [
       "$\\displaystyle -form that corresponds to the weight $"
      ],
      "text/plain": [
       "<IPython.core.display.Math object>"
      ]
     },
     "metadata": {},
     "output_type": "display_data"
    },
    {
     "name": "stdout",
     "output_type": "stream",
     "text": [
      "-----\n",
      "word\n"
     ]
    },
    {
     "data": {
      "text/latex": [
       "$\\displaystyle  cusp form $"
      ],
      "text/plain": [
       "<IPython.core.display.Math object>"
      ]
     },
     "metadata": {},
     "output_type": "display_data"
    },
    {
     "name": "stdout",
     "output_type": "stream",
     "text": [
      "-----\n",
      "text\n"
     ]
    },
    {
     "data": {
      "text/latex": [
       "$\\displaystyle . We will describe how to compute a power series expansion for $"
      ],
      "text/plain": [
       "<IPython.core.display.Math object>"
      ]
     },
     "metadata": {},
     "output_type": "display_data"
    },
    {
     "name": "stdout",
     "output_type": "stream",
     "text": [
      "-----\n",
      "phrase\n"
     ]
    },
    {
     "data": {
      "text/latex": [
       "$\\displaystyle  at the point $"
      ],
      "text/plain": [
       "<IPython.core.display.Math object>"
      ]
     },
     "metadata": {},
     "output_type": "display_data"
    },
    {
     "name": "stdout",
     "output_type": "stream",
     "text": [
      "-----\n",
      "text\n"
     ]
    },
    {
     "data": {
      "text/latex": [
       "$\\displaystyle . \n",
       "\n",
       "Such a computation can be done analytically without too much difficulty: see \\cite{voightpowerseries} and \\cite{CKL}. But if $"
      ],
      "text/plain": [
       "<IPython.core.display.Math object>"
      ]
     },
     "metadata": {},
     "output_type": "display_data"
    },
    {
     "name": "stdout",
     "output_type": "stream",
     "text": [
      "-----\n",
      "field\n"
     ]
    },
    {
     "data": {
      "text/latex": [
       "$\\displaystyle \\QQ(\\sqrt{-5})$"
      ],
      "text/plain": [
       "<IPython.core.display.Math object>"
      ]
     },
     "metadata": {},
     "output_type": "display_data"
    },
    {
     "name": "stdout",
     "output_type": "stream",
     "text": [
      "-----\n",
      "Equation\n"
     ]
    },
    {
     "data": {
      "text/latex": [
       "$\\displaystyle  is defined over $"
      ],
      "text/plain": [
       "<IPython.core.display.Math object>"
      ]
     },
     "metadata": {},
     "output_type": "display_data"
    },
    {
     "name": "stdout",
     "output_type": "stream",
     "text": [
      "-----\n",
      "text\n"
     ]
    },
    {
     "data": {
      "text/latex": [
       "$\\displaystyle , and we choose an algebraic uniformizer $"
      ],
      "text/plain": [
       "<IPython.core.display.Math object>"
      ]
     },
     "metadata": {},
     "output_type": "display_data"
    },
    {
     "name": "stdout",
     "output_type": "stream",
     "text": [
      "-----\n",
      "Series\n"
     ]
    },
    {
     "data": {
      "text/latex": [
       "$\\displaystyle , then the coefficients of the resulting power series $"
      ],
      "text/plain": [
       "<IPython.core.display.Math object>"
      ]
     },
     "metadata": {},
     "output_type": "display_data"
    },
    {
     "name": "stdout",
     "output_type": "stream",
     "text": [
      "-----\n",
      "field\n"
     ]
    },
    {
     "data": {
      "text/latex": [
       "$\\displaystyle \\QQ(\\sqrt{-23})$"
      ],
      "text/plain": [
       "<IPython.core.display.Math object>"
      ]
     },
     "metadata": {},
     "output_type": "display_data"
    },
    {
     "name": "stdout",
     "output_type": "stream",
     "text": [
      "-----\n",
      "field\n"
     ]
    },
    {
     "data": {
      "text/latex": [
       "$\\displaystyle \\QQ(\\sqrt{-31})$"
      ],
      "text/plain": [
       "<IPython.core.display.Math object>"
      ]
     },
     "metadata": {},
     "output_type": "display_data"
    },
    {
     "name": "stdout",
     "output_type": "stream",
     "text": [
      "-----\n",
      "Variable\n"
     ]
    },
    {
     "data": {
      "text/latex": [
       "$\\displaystyle \\bmu_0$"
      ],
      "text/plain": [
       "<IPython.core.display.Math object>"
      ]
     },
     "metadata": {},
     "output_type": "display_data"
    },
    {
     "name": "stdout",
     "output_type": "stream",
     "text": [
      "-----\n",
      "criteria\n"
     ]
    },
    {
     "data": {
      "text/latex": [
       "$\\displaystyle \\criteria$"
      ],
      "text/plain": [
       "<IPython.core.display.Math object>"
      ]
     },
     "metadata": {},
     "output_type": "display_data"
    },
    {
     "name": "stdout",
     "output_type": "stream",
     "text": [
      "-----\n",
      "symbol\n"
     ]
    },
    {
     "data": {
      "text/latex": [
       "$\\displaystyle \\S$"
      ],
      "text/plain": [
       "<IPython.core.display.Math object>"
      ]
     },
     "metadata": {},
     "output_type": "display_data"
    },
    {
     "name": "stdout",
     "output_type": "stream",
     "text": [
      "-----\n",
      "inequality\n"
     ]
    },
    {
     "data": {
      "text/latex": [
       "$\\displaystyle 0 \\le \\ell \\le n_T$"
      ],
      "text/plain": [
       "<IPython.core.display.Math object>"
      ]
     },
     "metadata": {},
     "output_type": "display_data"
    },
    {
     "name": "stdout",
     "output_type": "stream",
     "text": [
      "-----\n",
      "Equation\n"
     ]
    },
    {
     "data": {
      "text/latex": [
       "$\\displaystyle \\S = \\I$"
      ],
      "text/plain": [
       "<IPython.core.display.Math object>"
      ]
     },
     "metadata": {},
     "output_type": "display_data"
    },
    {
     "name": "stdout",
     "output_type": "stream",
     "text": [
      "-----\n",
      "inequality\n"
     ]
    },
    {
     "data": {
      "text/latex": [
       "$\\displaystyle \\S \\neq \\I$"
      ],
      "text/plain": [
       "<IPython.core.display.Math object>"
      ]
     },
     "metadata": {},
     "output_type": "display_data"
    },
    {
     "name": "stdout",
     "output_type": "stream",
     "text": [
      "-----\n",
      "subscript\n"
     ]
    },
    {
     "data": {
      "text/latex": [
       "$\\displaystyle n_T$"
      ],
      "text/plain": [
       "<IPython.core.display.Math object>"
      ]
     },
     "metadata": {},
     "output_type": "display_data"
    },
    {
     "name": "stdout",
     "output_type": "stream",
     "text": [
      "-----\n",
      "set\n"
     ]
    },
    {
     "data": {
      "text/latex": [
       "$\\displaystyle \\{\\bmu_{\\ell}\\}_{\\ell = 0}^{n_T}$"
      ],
      "text/plain": [
       "<IPython.core.display.Math object>"
      ]
     },
     "metadata": {},
     "output_type": "display_data"
    },
    {
     "name": "stdout",
     "output_type": "stream",
     "text": [
      "-----\n",
      "Variable\n"
     ]
    },
    {
     "data": {
      "text/latex": [
       "$\\displaystyle \\A$"
      ],
      "text/plain": [
       "<IPython.core.display.Math object>"
      ]
     },
     "metadata": {},
     "output_type": "display_data"
    },
    {
     "name": "stdout",
     "output_type": "stream",
     "text": [
      "-----\n",
      "Product\n"
     ]
    },
    {
     "data": {
      "text/latex": [
       "$\\displaystyle \\A_{n_T}\\S$"
      ],
      "text/plain": [
       "<IPython.core.display.Math object>"
      ]
     },
     "metadata": {},
     "output_type": "display_data"
    },
    {
     "name": "stdout",
     "output_type": "stream",
     "text": [
      "-----\n",
      "Equation\n"
     ]
    },
    {
     "data": {
      "text/latex": [
       "$\\displaystyle \\tau_0=0$"
      ],
      "text/plain": [
       "<IPython.core.display.Math object>"
      ]
     },
     "metadata": {},
     "output_type": "display_data"
    },
    {
     "name": "stdout",
     "output_type": "stream",
     "text": [
      "-----\n",
      "sequence\n"
     ]
    },
    {
     "data": {
      "text/latex": [
       "$\\displaystyle \\tau_0 \\le \\dots \\le \\tau_{n_T}$"
      ],
      "text/plain": [
       "<IPython.core.display.Math object>"
      ]
     },
     "metadata": {},
     "output_type": "display_data"
    },
    {
     "name": "stdout",
     "output_type": "stream",
     "text": [
      "-----\n",
      "variable\n"
     ]
    },
    {
     "data": {
      "text/latex": [
       "$\\displaystyle u$"
      ],
      "text/plain": [
       "<IPython.core.display.Math object>"
      ]
     },
     "metadata": {},
     "output_type": "display_data"
    },
    {
     "name": "stdout",
     "output_type": "stream",
     "text": [
      "-----\n",
      "Definition\n"
     ]
    },
    {
     "data": {
      "text/latex": [
       "$\\displaystyle \\Omega:=(0,1)$"
      ],
      "text/plain": [
       "<IPython.core.display.Math object>"
      ]
     },
     "metadata": {},
     "output_type": "display_data"
    },
    {
     "name": "stdout",
     "output_type": "stream",
     "text": [
      "-----\n",
      "Matrix\n"
     ]
    },
    {
     "data": {
      "text/latex": [
       "$\\displaystyle \\A \\approx \\U_k \\bm\\Sigma_k \\V\\t_k$"
      ],
      "text/plain": [
       "<IPython.core.display.Math object>"
      ]
     },
     "metadata": {},
     "output_type": "display_data"
    },
    {
     "name": "stdout",
     "output_type": "stream",
     "text": [
      "-----\n",
      "Variable\n"
     ]
    },
    {
     "data": {
      "text/latex": [
       "$\\displaystyle \\V\\t_k$"
      ],
      "text/plain": [
       "<IPython.core.display.Math object>"
      ]
     },
     "metadata": {},
     "output_type": "display_data"
    },
    {
     "name": "stdout",
     "output_type": "stream",
     "text": [
      "-----\n",
      "Matrix\n"
     ]
    },
    {
     "data": {
      "text/latex": [
       "$\\displaystyle \\[\\V\\t_k \\bmat{\\bm\\Pi_1 & \\bm\\Pi_2} = \\bm{\\Psi}_1 \\bmat{\\bm{T}_{11} & \\bm{T}_{12}},\\]$"
      ],
      "text/plain": [
       "<IPython.core.display.Math object>"
      ]
     },
     "metadata": {},
     "output_type": "display_data"
    },
    {
     "name": "stdout",
     "output_type": "stream",
     "text": [
      "-----\n",
      "Function\n"
     ]
    },
    {
     "data": {
      "text/latex": [
       "$\\displaystyle \\tr f(\\E)$"
      ],
      "text/plain": [
       "<IPython.core.display.Math object>"
      ]
     },
     "metadata": {},
     "output_type": "display_data"
    },
    {
     "name": "stdout",
     "output_type": "stream",
     "text": [
      "-----\n",
      "variable\n"
     ]
    },
    {
     "data": {
      "text/latex": [
       "$\\displaystyle f$"
      ],
      "text/plain": [
       "<IPython.core.display.Math object>"
      ]
     },
     "metadata": {},
     "output_type": "display_data"
    },
    {
     "name": "stdout",
     "output_type": "stream",
     "text": [
      "-----\n",
      "Function\n"
     ]
    },
    {
     "data": {
      "text/latex": [
       "$\\displaystyle \\Map{\\ell}{{\\ell + 1}}$"
      ],
      "text/plain": [
       "<IPython.core.display.Math object>"
      ]
     },
     "metadata": {},
     "output_type": "display_data"
    },
    {
     "name": "stdout",
     "output_type": "stream",
     "text": [
      "-----\n",
      "Matrix\n"
     ]
    },
    {
     "data": {
      "text/latex": [
       "$\\displaystyle \\E \\in \\R^{d\\times d}$"
      ],
      "text/plain": [
       "<IPython.core.display.Math object>"
      ]
     },
     "metadata": {},
     "output_type": "display_data"
    },
    {
     "name": "stdout",
     "output_type": "stream",
     "text": [
      "-----\n",
      "matrix\n"
     ]
    },
    {
     "data": {
      "text/latex": [
       "$\\displaystyle \\bm{\\Psi}_1 \\in \\R^{k \\times k}$"
      ],
      "text/plain": [
       "<IPython.core.display.Math object>"
      ]
     },
     "metadata": {},
     "output_type": "display_data"
    },
    {
     "name": "stdout",
     "output_type": "stream",
     "text": [
      "-----\n",
      "Matrix\n"
     ]
    },
    {
     "data": {
      "text/latex": [
       "$\\displaystyle \\bm\\Pi_1 \\in \\R^{k\\times k}$"
      ],
      "text/plain": [
       "<IPython.core.display.Math object>"
      ]
     },
     "metadata": {},
     "output_type": "display_data"
    },
    {
     "name": "stdout",
     "output_type": "stream",
     "text": [
      "-----\n",
      "Variable\n"
     ]
    },
    {
     "data": {
      "text/latex": [
       "$\\displaystyle \\tau_\\ell$"
      ],
      "text/plain": [
       "<IPython.core.display.Math object>"
      ]
     },
     "metadata": {},
     "output_type": "display_data"
    },
    {
     "name": "stdout",
     "output_type": "stream",
     "text": [
      "-----\n",
      "subscript\n"
     ]
    },
    {
     "data": {
      "text/latex": [
       "$\\displaystyle \\tau_{\\ell+1}$"
      ],
      "text/plain": [
       "<IPython.core.display.Math object>"
      ]
     },
     "metadata": {},
     "output_type": "display_data"
    },
    {
     "name": "stdout",
     "output_type": "stream",
     "text": [
      "-----\n",
      "Equation\n"
     ]
    },
    {
     "data": {
      "text/latex": [
       "$\\displaystyle \\[ \\logdet(\\I + \\A\\A\\t) = \\tr\\log(\\I + \\A\\A\\t),\\]$"
      ],
      "text/plain": [
       "<IPython.core.display.Math object>"
      ]
     },
     "metadata": {},
     "output_type": "display_data"
    },
    {
     "name": "stdout",
     "output_type": "stream",
     "text": [
      "-----\n",
      "Variable\n"
     ]
    },
    {
     "data": {
      "text/latex": [
       "$\\displaystyle \\bm{T}_{11}$"
      ],
      "text/plain": [
       "<IPython.core.display.Math object>"
      ]
     },
     "metadata": {},
     "output_type": "display_data"
    },
    {
     "name": "stdout",
     "output_type": "stream",
     "text": [
      "-----\n",
      "vector\n"
     ]
    },
    {
     "data": {
      "text/latex": [
       "$\\displaystyle \\bmu_0\\in \\R^{d_S}$"
      ],
      "text/plain": [
       "<IPython.core.display.Math object>"
      ]
     },
     "metadata": {},
     "output_type": "display_data"
    },
    {
     "name": "stdout",
     "output_type": "stream",
     "text": [
      "-----\n",
      "Function\n"
     ]
    },
    {
     "data": {
      "text/latex": [
       "$\\displaystyle \\criteria = \\tr f(\\E)$"
      ],
      "text/plain": [
       "<IPython.core.display.Math object>"
      ]
     },
     "metadata": {},
     "output_type": "display_data"
    },
    {
     "name": "stdout",
     "output_type": "stream",
     "text": [
      "-----\n",
      "Product\n"
     ]
    },
    {
     "data": {
      "text/latex": [
       "$\\displaystyle \\S = \\bm\\Pi_1$"
      ],
      "text/plain": [
       "<IPython.core.display.Math object>"
      ]
     },
     "metadata": {},
     "output_type": "display_data"
    },
    {
     "name": "stdout",
     "output_type": "stream",
     "text": [
      "-----\n",
      "Function\n"
     ]
    },
    {
     "data": {
      "text/latex": [
       "$\\displaystyle f(x) = \\log(x)$"
      ],
      "text/plain": [
       "<IPython.core.display.Math object>"
      ]
     },
     "metadata": {},
     "output_type": "display_data"
    },
    {
     "name": "stdout",
     "output_type": "stream",
     "text": [
      "-----\n",
      "function\n"
     ]
    },
    {
     "data": {
      "text/latex": [
       "$\\displaystyle u(x, t)$"
      ],
      "text/plain": [
       "<IPython.core.display.Math object>"
      ]
     },
     "metadata": {},
     "output_type": "display_data"
    },
    {
     "name": "stdout",
     "output_type": "stream",
     "text": [
      "-----\n",
      "Power\n"
     ]
    },
    {
     "data": {
      "text/latex": [
       "$\\displaystyle L^4$"
      ],
      "text/plain": [
       "<IPython.core.display.Math object>"
      ]
     },
     "metadata": {},
     "output_type": "display_data"
    },
    {
     "name": "stdout",
     "output_type": "stream",
     "text": [
      "-----\n",
      "Variable\n"
     ]
    },
    {
     "data": {
      "text/latex": [
       "$\\displaystyle p$"
      ],
      "text/plain": [
       "<IPython.core.display.Math object>"
      ]
     },
     "metadata": {},
     "output_type": "display_data"
    },
    {
     "name": "stdout",
     "output_type": "stream",
     "text": [
      "-----\n",
      "Superscript\n"
     ]
    },
    {
     "data": {
      "text/latex": [
       "$\\displaystyle L^p$"
      ],
      "text/plain": [
       "<IPython.core.display.Math object>"
      ]
     },
     "metadata": {},
     "output_type": "display_data"
    },
    {
     "name": "stdout",
     "output_type": "stream",
     "text": [
      "-----\n",
      "Power\n"
     ]
    },
    {
     "data": {
      "text/latex": [
       "$\\displaystyle L^4$"
      ],
      "text/plain": [
       "<IPython.core.display.Math object>"
      ]
     },
     "metadata": {},
     "output_type": "display_data"
    },
    {
     "name": "stdout",
     "output_type": "stream",
     "text": [
      "-----\n",
      "Quadratic\n"
     ]
    },
    {
     "data": {
      "text/latex": [
       "$\\displaystyle q_k(\\xi)= \\frac{1}{2} \\langle \\xi, A_k \\xi \\rangle + \\langle b_k, \\xi \\rangle + c_k$"
      ],
      "text/plain": [
       "<IPython.core.display.Math object>"
      ]
     },
     "metadata": {},
     "output_type": "display_data"
    },
    {
     "name": "stdout",
     "output_type": "stream",
     "text": [
      "-----\n",
      "Superscript\n"
     ]
    },
    {
     "data": {
      "text/latex": [
       "$\\displaystyle L^p$"
      ],
      "text/plain": [
       "<IPython.core.display.Math object>"
      ]
     },
     "metadata": {},
     "output_type": "display_data"
    },
    {
     "name": "stdout",
     "output_type": "stream",
     "text": [
      "-----\n",
      "variable\n"
     ]
    },
    {
     "data": {
      "text/latex": [
       "$\\displaystyle p$"
      ],
      "text/plain": [
       "<IPython.core.display.Math object>"
      ]
     },
     "metadata": {},
     "output_type": "display_data"
    },
    {
     "name": "stdout",
     "output_type": "stream",
     "text": [
      "-----\n",
      "variable\n"
     ]
    },
    {
     "data": {
      "text/latex": [
       "$\\displaystyle T$"
      ],
      "text/plain": [
       "<IPython.core.display.Math object>"
      ]
     },
     "metadata": {},
     "output_type": "display_data"
    },
    {
     "name": "stdout",
     "output_type": "stream",
     "text": [
      "-----\n",
      "notation\n"
     ]
    },
    {
     "data": {
      "text/latex": [
       "$\\displaystyle L^2(\\R^d)$"
      ],
      "text/plain": [
       "<IPython.core.display.Math object>"
      ]
     },
     "metadata": {},
     "output_type": "display_data"
    },
    {
     "name": "stdout",
     "output_type": "stream",
     "text": [
      "-----\n",
      "Set\n"
     ]
    },
    {
     "data": {
      "text/latex": [
       "$\\displaystyle A_k \\in \\text{Sym}(\\R^d)$"
      ],
      "text/plain": [
       "<IPython.core.display.Math object>"
      ]
     },
     "metadata": {},
     "output_type": "display_data"
    },
    {
     "name": "stdout",
     "output_type": "stream",
     "text": [
      "-----\n",
      "Inequality\n"
     ]
    },
    {
     "data": {
      "text/latex": [
       "$\\displaystyle \\[\n",
       "\\|T\\|_{\\cS^p}=\\left(\\tr(|T|^p)\\right)^\\frac{1}{p}<\\infty.\n",
       "\\]$"
      ],
      "text/plain": [
       "<IPython.core.display.Math object>"
      ]
     },
     "metadata": {},
     "output_type": "display_data"
    },
    {
     "name": "stdout",
     "output_type": "stream",
     "text": [
      "-----\n",
      "Variable\n"
     ]
    },
    {
     "data": {
      "text/latex": [
       "$\\displaystyle b_k \\in \\R^d$"
      ],
      "text/plain": [
       "<IPython.core.display.Math object>"
      ]
     },
     "metadata": {},
     "output_type": "display_data"
    },
    {
     "name": "stdout",
     "output_type": "stream",
     "text": [
      "-----\n",
      "variable\n"
     ]
    },
    {
     "data": {
      "text/latex": [
       "$\\displaystyle c_k \\in \\R$"
      ],
      "text/plain": [
       "<IPython.core.display.Math object>"
      ]
     },
     "metadata": {},
     "output_type": "display_data"
    },
    {
     "name": "stdout",
     "output_type": "stream",
     "text": [
      "-----\n",
      "sum\n"
     ]
    },
    {
     "data": {
      "text/latex": [
       "$\\displaystyle n = d+l$"
      ],
      "text/plain": [
       "<IPython.core.display.Math object>"
      ]
     },
     "metadata": {},
     "output_type": "display_data"
    },
    {
     "name": "stdout",
     "output_type": "stream",
     "text": [
      "-----\n",
      "variable\n"
     ]
    },
    {
     "data": {
      "text/latex": [
       "$\\displaystyle \\xi$"
      ],
      "text/plain": [
       "<IPython.core.display.Math object>"
      ]
     },
     "metadata": {},
     "output_type": "display_data"
    },
    {
     "name": "stdout",
     "output_type": "stream",
     "text": [
      "-----\n",
      "variable\n"
     ]
    },
    {
     "data": {
      "text/latex": [
       "$\\displaystyle Q$"
      ],
      "text/plain": [
       "<IPython.core.display.Math object>"
      ]
     },
     "metadata": {},
     "output_type": "display_data"
    },
    {
     "name": "stdout",
     "output_type": "stream",
     "text": [
      "-----\n",
      "Variable\n"
     ]
    },
    {
     "data": {
      "text/latex": [
       "$\\displaystyle \\R^{2d}$"
      ],
      "text/plain": [
       "<IPython.core.display.Math object>"
      ]
     },
     "metadata": {},
     "output_type": "display_data"
    },
    {
     "name": "stdout",
     "output_type": "stream",
     "text": [
      "-----\n",
      "Symbol\n"
     ]
    },
    {
     "data": {
      "text/latex": [
       "$\\displaystyle \\mathbb{P}_2$"
      ],
      "text/plain": [
       "<IPython.core.display.Math object>"
      ]
     },
     "metadata": {},
     "output_type": "display_data"
    },
    {
     "name": "stdout",
     "output_type": "stream",
     "text": [
      "-----\n",
      "Symbol\n"
     ]
    },
    {
     "data": {
      "text/latex": [
       "$\\displaystyle \\sigma$"
      ],
      "text/plain": [
       "<IPython.core.display.Math object>"
      ]
     },
     "metadata": {},
     "output_type": "display_data"
    },
    {
     "name": "stdout",
     "output_type": "stream",
     "text": [
      "-----\n",
      "Variable\n"
     ]
    },
    {
     "data": {
      "text/latex": [
       "$\\displaystyle \\R^{2d}$"
      ],
      "text/plain": [
       "<IPython.core.display.Math object>"
      ]
     },
     "metadata": {},
     "output_type": "display_data"
    },
    {
     "name": "stdout",
     "output_type": "stream",
     "text": [
      "-----\n",
      "Integral\n"
     ]
    },
    {
     "data": {
      "text/latex": [
       "$\\displaystyle \\[\n",
       "\\F_\\sigma(\\Psi)(\\zeta)=\\int_{\\R^{2d}}e^{-2\\pi i \\sigma(\\zeta, z)}\\Psi(z)\\,dz,\n",
       "\\]$"
      ],
      "text/plain": [
       "<IPython.core.display.Math object>"
      ]
     },
     "metadata": {},
     "output_type": "display_data"
    },
    {
     "name": "stdout",
     "output_type": "stream",
     "text": [
      "-----\n",
      "relation\n"
     ]
    },
    {
     "data": {
      "text/latex": [
       "$\\displaystyle \\Psi\\in \\sS(\\R^{2d})$"
      ],
      "text/plain": [
       "<IPython.core.display.Math object>"
      ]
     },
     "metadata": {},
     "output_type": "display_data"
    },
    {
     "name": "stdout",
     "output_type": "stream",
     "text": [
      "-----\n",
      "Function\n"
     ]
    },
    {
     "data": {
      "text/latex": [
       "$\\displaystyle \\sS'(\\R^{2d})$"
      ],
      "text/plain": [
       "<IPython.core.display.Math object>"
      ]
     },
     "metadata": {},
     "output_type": "display_data"
    },
    {
     "name": "stdout",
     "output_type": "stream",
     "text": [
      "-----\n",
      "Equation\n"
     ]
    },
    {
     "data": {
      "text/latex": [
       "$\\displaystyle \\[\n",
       "\\langle \\F_\\sigma(\\tau),\\Psi\\rangle_{\\sS',\\sS}=\\langle \\tau,\\F_\\sigma{\\Psi}\\rangle_{\\sS',\\sS},\n",
       "\\]$"
      ],
      "text/plain": [
       "<IPython.core.display.Math object>"
      ]
     },
     "metadata": {},
     "output_type": "display_data"
    },
    {
     "name": "stdout",
     "output_type": "stream",
     "text": [
      "-----\n",
      "Variable\n"
     ]
    },
    {
     "data": {
      "text/latex": [
       "$\\displaystyle \\delta$"
      ],
      "text/plain": [
       "<IPython.core.display.Math object>"
      ]
     },
     "metadata": {},
     "output_type": "display_data"
    },
    {
     "name": "stdout",
     "output_type": "stream",
     "text": [
      "-----\n",
      "Function\n"
     ]
    },
    {
     "data": {
      "text/latex": [
       "$\\displaystyle \\mathcal{N}_{\\delta}(M_Q)$"
      ],
      "text/plain": [
       "<IPython.core.display.Math object>"
      ]
     },
     "metadata": {},
     "output_type": "display_data"
    },
    {
     "name": "stdout",
     "output_type": "stream",
     "text": [
      "-----\n",
      "Relation\n"
     ]
    },
    {
     "data": {
      "text/latex": [
       "$\\displaystyle \\tau\\in \\sS'(\\R^{2d})$"
      ],
      "text/plain": [
       "<IPython.core.display.Math object>"
      ]
     },
     "metadata": {},
     "output_type": "display_data"
    },
    {
     "name": "stdout",
     "output_type": "stream",
     "text": [
      "-----\n",
      "Exponentiation\n"
     ]
    },
    {
     "data": {
      "text/latex": [
       "$\\displaystyle \\delta^{\\frac{1}{2}}$"
      ],
      "text/plain": [
       "<IPython.core.display.Math object>"
      ]
     },
     "metadata": {},
     "output_type": "display_data"
    },
    {
     "name": "stdout",
     "output_type": "stream",
     "text": [
      "-----\n",
      "relation\n"
     ]
    },
    {
     "data": {
      "text/latex": [
       "$\\displaystyle \\Psi\\in \\sS(\\R^{2d})$"
      ],
      "text/plain": [
       "<IPython.core.display.Math object>"
      ]
     },
     "metadata": {},
     "output_type": "display_data"
    },
    {
     "name": "stdout",
     "output_type": "stream",
     "text": [
      "-----\n",
      "Product\n"
     ]
    },
    {
     "data": {
      "text/latex": [
       "$\\displaystyle \\delta^{\\frac{1}{2}} \\times \\delta$"
      ],
      "text/plain": [
       "<IPython.core.display.Math object>"
      ]
     },
     "metadata": {},
     "output_type": "display_data"
    },
    {
     "name": "stdout",
     "output_type": "stream",
     "text": [
      "-----\n",
      "function\n"
     ]
    },
    {
     "data": {
      "text/latex": [
       "$\\displaystyle L^2(\\R^{2d})$"
      ],
      "text/plain": [
       "<IPython.core.display.Math object>"
      ]
     },
     "metadata": {},
     "output_type": "display_data"
    },
    {
     "name": "stdout",
     "output_type": "stream",
     "text": [
      "-----\n",
      "Variable\n"
     ]
    },
    {
     "data": {
      "text/latex": [
       "$\\displaystyle \\theta$"
      ],
      "text/plain": [
       "<IPython.core.display.Math object>"
      ]
     },
     "metadata": {},
     "output_type": "display_data"
    },
    {
     "name": "stdout",
     "output_type": "stream",
     "text": [
      "-----\n"
     ]
    }
   ],
   "source": [
    "for expression, prediction in zip(expressions, predictions):\n",
    "    # latex_fixed = fix_latex(latex)\n",
    "    math_display_object = Math(expression.latex)\n",
    "\n",
    "    print(prediction.value)\n",
    "    display(math_display_object)\n",
    "    print('-----')"
   ]
  }
 ],
 "metadata": {
  "kernelspec": {
   "display_name": "math-rag-QVTscwFS-py3.12",
   "language": "python",
   "name": "python3"
  },
  "language_info": {
   "codemirror_mode": {
    "name": "ipython",
    "version": 3
   },
   "file_extension": ".py",
   "mimetype": "text/x-python",
   "name": "python",
   "nbconvert_exporter": "python",
   "pygments_lexer": "ipython3",
   "version": "3.12.9"
  }
 },
 "nbformat": 4,
 "nbformat_minor": 2
}
